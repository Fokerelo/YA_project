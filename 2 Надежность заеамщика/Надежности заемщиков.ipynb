{
 "cells": [
  {
   "cell_type": "markdown",
   "id": "c81daeeb",
   "metadata": {
    "deletable": false,
    "id": "c81daeeb"
   },
   "source": [
    "# Исследование надежности заемщиков\n"
   ]
  },
  {
   "cell_type": "markdown",
   "id": "3e2b4737",
   "metadata": {},
   "source": [
    "Нужно разобраться, влияет ли семейное положение и количество детей клиента на факт погашения кредита в срок. Входные данные от банка — статистика о платёжеспособности клиентов.\n",
    "Результаты исследования будут учтены при построении модели кредитного скоринга — специальной системы, которая оценивает способность потенциального заёмщика вернуть кредит банку."
   ]
  },
  {
   "cell_type": "code",
   "execution_count": null,
   "id": "92c8fefc",
   "metadata": {},
   "outputs": [],
   "source": []
  },
  {
   "cell_type": "code",
   "execution_count": 1,
   "id": "7bcf75c9",
   "metadata": {
    "deletable": false,
    "id": "7bcf75c9"
   },
   "outputs": [],
   "source": [
    "import pandas as pd # Иимпорт библиотеки pandas\n",
    "\n",
    "data = pd.read_csv('/datasets/data.csv') # чтение файла\n"
   ]
  },
  {
   "cell_type": "code",
   "execution_count": 2,
   "id": "2a7cab99",
   "metadata": {
    "deletable": false,
    "id": "2a7cab99",
    "outputId": "1a8f3ef2-d323-4ec2-ddf7-89670b5944c4"
   },
   "outputs": [
    {
     "data": {
      "text/html": [
       "<div>\n",
       "<style scoped>\n",
       "    .dataframe tbody tr th:only-of-type {\n",
       "        vertical-align: middle;\n",
       "    }\n",
       "\n",
       "    .dataframe tbody tr th {\n",
       "        vertical-align: top;\n",
       "    }\n",
       "\n",
       "    .dataframe thead th {\n",
       "        text-align: right;\n",
       "    }\n",
       "</style>\n",
       "<table border=\"1\" class=\"dataframe\">\n",
       "  <thead>\n",
       "    <tr style=\"text-align: right;\">\n",
       "      <th></th>\n",
       "      <th>children</th>\n",
       "      <th>days_employed</th>\n",
       "      <th>dob_years</th>\n",
       "      <th>education</th>\n",
       "      <th>education_id</th>\n",
       "      <th>family_status</th>\n",
       "      <th>family_status_id</th>\n",
       "      <th>gender</th>\n",
       "      <th>income_type</th>\n",
       "      <th>debt</th>\n",
       "      <th>total_income</th>\n",
       "      <th>purpose</th>\n",
       "    </tr>\n",
       "  </thead>\n",
       "  <tbody>\n",
       "    <tr>\n",
       "      <th>0</th>\n",
       "      <td>1</td>\n",
       "      <td>-8437.673028</td>\n",
       "      <td>42</td>\n",
       "      <td>высшее</td>\n",
       "      <td>0</td>\n",
       "      <td>женат / замужем</td>\n",
       "      <td>0</td>\n",
       "      <td>F</td>\n",
       "      <td>сотрудник</td>\n",
       "      <td>0</td>\n",
       "      <td>253875.639453</td>\n",
       "      <td>покупка жилья</td>\n",
       "    </tr>\n",
       "    <tr>\n",
       "      <th>1</th>\n",
       "      <td>1</td>\n",
       "      <td>-4024.803754</td>\n",
       "      <td>36</td>\n",
       "      <td>среднее</td>\n",
       "      <td>1</td>\n",
       "      <td>женат / замужем</td>\n",
       "      <td>0</td>\n",
       "      <td>F</td>\n",
       "      <td>сотрудник</td>\n",
       "      <td>0</td>\n",
       "      <td>112080.014102</td>\n",
       "      <td>приобретение автомобиля</td>\n",
       "    </tr>\n",
       "    <tr>\n",
       "      <th>2</th>\n",
       "      <td>0</td>\n",
       "      <td>-5623.422610</td>\n",
       "      <td>33</td>\n",
       "      <td>Среднее</td>\n",
       "      <td>1</td>\n",
       "      <td>женат / замужем</td>\n",
       "      <td>0</td>\n",
       "      <td>M</td>\n",
       "      <td>сотрудник</td>\n",
       "      <td>0</td>\n",
       "      <td>145885.952297</td>\n",
       "      <td>покупка жилья</td>\n",
       "    </tr>\n",
       "    <tr>\n",
       "      <th>3</th>\n",
       "      <td>3</td>\n",
       "      <td>-4124.747207</td>\n",
       "      <td>32</td>\n",
       "      <td>среднее</td>\n",
       "      <td>1</td>\n",
       "      <td>женат / замужем</td>\n",
       "      <td>0</td>\n",
       "      <td>M</td>\n",
       "      <td>сотрудник</td>\n",
       "      <td>0</td>\n",
       "      <td>267628.550329</td>\n",
       "      <td>дополнительное образование</td>\n",
       "    </tr>\n",
       "    <tr>\n",
       "      <th>4</th>\n",
       "      <td>0</td>\n",
       "      <td>340266.072047</td>\n",
       "      <td>53</td>\n",
       "      <td>среднее</td>\n",
       "      <td>1</td>\n",
       "      <td>гражданский брак</td>\n",
       "      <td>1</td>\n",
       "      <td>F</td>\n",
       "      <td>пенсионер</td>\n",
       "      <td>0</td>\n",
       "      <td>158616.077870</td>\n",
       "      <td>сыграть свадьбу</td>\n",
       "    </tr>\n",
       "    <tr>\n",
       "      <th>5</th>\n",
       "      <td>0</td>\n",
       "      <td>-926.185831</td>\n",
       "      <td>27</td>\n",
       "      <td>высшее</td>\n",
       "      <td>0</td>\n",
       "      <td>гражданский брак</td>\n",
       "      <td>1</td>\n",
       "      <td>M</td>\n",
       "      <td>компаньон</td>\n",
       "      <td>0</td>\n",
       "      <td>255763.565419</td>\n",
       "      <td>покупка жилья</td>\n",
       "    </tr>\n",
       "    <tr>\n",
       "      <th>6</th>\n",
       "      <td>0</td>\n",
       "      <td>-2879.202052</td>\n",
       "      <td>43</td>\n",
       "      <td>высшее</td>\n",
       "      <td>0</td>\n",
       "      <td>женат / замужем</td>\n",
       "      <td>0</td>\n",
       "      <td>F</td>\n",
       "      <td>компаньон</td>\n",
       "      <td>0</td>\n",
       "      <td>240525.971920</td>\n",
       "      <td>операции с жильем</td>\n",
       "    </tr>\n",
       "    <tr>\n",
       "      <th>7</th>\n",
       "      <td>0</td>\n",
       "      <td>-152.779569</td>\n",
       "      <td>50</td>\n",
       "      <td>СРЕДНЕЕ</td>\n",
       "      <td>1</td>\n",
       "      <td>женат / замужем</td>\n",
       "      <td>0</td>\n",
       "      <td>M</td>\n",
       "      <td>сотрудник</td>\n",
       "      <td>0</td>\n",
       "      <td>135823.934197</td>\n",
       "      <td>образование</td>\n",
       "    </tr>\n",
       "    <tr>\n",
       "      <th>8</th>\n",
       "      <td>2</td>\n",
       "      <td>-6929.865299</td>\n",
       "      <td>35</td>\n",
       "      <td>ВЫСШЕЕ</td>\n",
       "      <td>0</td>\n",
       "      <td>гражданский брак</td>\n",
       "      <td>1</td>\n",
       "      <td>F</td>\n",
       "      <td>сотрудник</td>\n",
       "      <td>0</td>\n",
       "      <td>95856.832424</td>\n",
       "      <td>на проведение свадьбы</td>\n",
       "    </tr>\n",
       "    <tr>\n",
       "      <th>9</th>\n",
       "      <td>0</td>\n",
       "      <td>-2188.756445</td>\n",
       "      <td>41</td>\n",
       "      <td>среднее</td>\n",
       "      <td>1</td>\n",
       "      <td>женат / замужем</td>\n",
       "      <td>0</td>\n",
       "      <td>M</td>\n",
       "      <td>сотрудник</td>\n",
       "      <td>0</td>\n",
       "      <td>144425.938277</td>\n",
       "      <td>покупка жилья для семьи</td>\n",
       "    </tr>\n",
       "    <tr>\n",
       "      <th>10</th>\n",
       "      <td>2</td>\n",
       "      <td>-4171.483647</td>\n",
       "      <td>36</td>\n",
       "      <td>высшее</td>\n",
       "      <td>0</td>\n",
       "      <td>женат / замужем</td>\n",
       "      <td>0</td>\n",
       "      <td>M</td>\n",
       "      <td>компаньон</td>\n",
       "      <td>0</td>\n",
       "      <td>113943.491460</td>\n",
       "      <td>покупка недвижимости</td>\n",
       "    </tr>\n",
       "    <tr>\n",
       "      <th>11</th>\n",
       "      <td>0</td>\n",
       "      <td>-792.701887</td>\n",
       "      <td>40</td>\n",
       "      <td>среднее</td>\n",
       "      <td>1</td>\n",
       "      <td>женат / замужем</td>\n",
       "      <td>0</td>\n",
       "      <td>F</td>\n",
       "      <td>сотрудник</td>\n",
       "      <td>0</td>\n",
       "      <td>77069.234271</td>\n",
       "      <td>покупка коммерческой недвижимости</td>\n",
       "    </tr>\n",
       "    <tr>\n",
       "      <th>12</th>\n",
       "      <td>0</td>\n",
       "      <td>NaN</td>\n",
       "      <td>65</td>\n",
       "      <td>среднее</td>\n",
       "      <td>1</td>\n",
       "      <td>гражданский брак</td>\n",
       "      <td>1</td>\n",
       "      <td>M</td>\n",
       "      <td>пенсионер</td>\n",
       "      <td>0</td>\n",
       "      <td>NaN</td>\n",
       "      <td>сыграть свадьбу</td>\n",
       "    </tr>\n",
       "    <tr>\n",
       "      <th>13</th>\n",
       "      <td>0</td>\n",
       "      <td>-1846.641941</td>\n",
       "      <td>54</td>\n",
       "      <td>неоконченное высшее</td>\n",
       "      <td>2</td>\n",
       "      <td>женат / замужем</td>\n",
       "      <td>0</td>\n",
       "      <td>F</td>\n",
       "      <td>сотрудник</td>\n",
       "      <td>0</td>\n",
       "      <td>130458.228857</td>\n",
       "      <td>приобретение автомобиля</td>\n",
       "    </tr>\n",
       "    <tr>\n",
       "      <th>14</th>\n",
       "      <td>0</td>\n",
       "      <td>-1844.956182</td>\n",
       "      <td>56</td>\n",
       "      <td>высшее</td>\n",
       "      <td>0</td>\n",
       "      <td>гражданский брак</td>\n",
       "      <td>1</td>\n",
       "      <td>F</td>\n",
       "      <td>компаньон</td>\n",
       "      <td>1</td>\n",
       "      <td>165127.911772</td>\n",
       "      <td>покупка жилой недвижимости</td>\n",
       "    </tr>\n",
       "    <tr>\n",
       "      <th>15</th>\n",
       "      <td>1</td>\n",
       "      <td>-972.364419</td>\n",
       "      <td>26</td>\n",
       "      <td>среднее</td>\n",
       "      <td>1</td>\n",
       "      <td>женат / замужем</td>\n",
       "      <td>0</td>\n",
       "      <td>F</td>\n",
       "      <td>сотрудник</td>\n",
       "      <td>0</td>\n",
       "      <td>116820.904450</td>\n",
       "      <td>строительство собственной недвижимости</td>\n",
       "    </tr>\n",
       "    <tr>\n",
       "      <th>16</th>\n",
       "      <td>0</td>\n",
       "      <td>-1719.934226</td>\n",
       "      <td>35</td>\n",
       "      <td>среднее</td>\n",
       "      <td>1</td>\n",
       "      <td>женат / замужем</td>\n",
       "      <td>0</td>\n",
       "      <td>F</td>\n",
       "      <td>сотрудник</td>\n",
       "      <td>0</td>\n",
       "      <td>289202.704229</td>\n",
       "      <td>недвижимость</td>\n",
       "    </tr>\n",
       "    <tr>\n",
       "      <th>17</th>\n",
       "      <td>0</td>\n",
       "      <td>-2369.999720</td>\n",
       "      <td>33</td>\n",
       "      <td>высшее</td>\n",
       "      <td>0</td>\n",
       "      <td>гражданский брак</td>\n",
       "      <td>1</td>\n",
       "      <td>M</td>\n",
       "      <td>сотрудник</td>\n",
       "      <td>0</td>\n",
       "      <td>90410.586745</td>\n",
       "      <td>строительство недвижимости</td>\n",
       "    </tr>\n",
       "    <tr>\n",
       "      <th>18</th>\n",
       "      <td>0</td>\n",
       "      <td>400281.136913</td>\n",
       "      <td>53</td>\n",
       "      <td>среднее</td>\n",
       "      <td>1</td>\n",
       "      <td>вдовец / вдова</td>\n",
       "      <td>2</td>\n",
       "      <td>F</td>\n",
       "      <td>пенсионер</td>\n",
       "      <td>0</td>\n",
       "      <td>56823.777243</td>\n",
       "      <td>на покупку подержанного автомобиля</td>\n",
       "    </tr>\n",
       "    <tr>\n",
       "      <th>19</th>\n",
       "      <td>0</td>\n",
       "      <td>-10038.818549</td>\n",
       "      <td>48</td>\n",
       "      <td>СРЕДНЕЕ</td>\n",
       "      <td>1</td>\n",
       "      <td>в разводе</td>\n",
       "      <td>3</td>\n",
       "      <td>F</td>\n",
       "      <td>сотрудник</td>\n",
       "      <td>0</td>\n",
       "      <td>242831.107982</td>\n",
       "      <td>на покупку своего автомобиля</td>\n",
       "    </tr>\n",
       "  </tbody>\n",
       "</table>\n",
       "</div>"
      ],
      "text/plain": [
       "    children  days_employed  dob_years            education  education_id  \\\n",
       "0          1   -8437.673028         42               высшее             0   \n",
       "1          1   -4024.803754         36              среднее             1   \n",
       "2          0   -5623.422610         33              Среднее             1   \n",
       "3          3   -4124.747207         32              среднее             1   \n",
       "4          0  340266.072047         53              среднее             1   \n",
       "5          0    -926.185831         27               высшее             0   \n",
       "6          0   -2879.202052         43               высшее             0   \n",
       "7          0    -152.779569         50              СРЕДНЕЕ             1   \n",
       "8          2   -6929.865299         35               ВЫСШЕЕ             0   \n",
       "9          0   -2188.756445         41              среднее             1   \n",
       "10         2   -4171.483647         36               высшее             0   \n",
       "11         0    -792.701887         40              среднее             1   \n",
       "12         0            NaN         65              среднее             1   \n",
       "13         0   -1846.641941         54  неоконченное высшее             2   \n",
       "14         0   -1844.956182         56               высшее             0   \n",
       "15         1    -972.364419         26              среднее             1   \n",
       "16         0   -1719.934226         35              среднее             1   \n",
       "17         0   -2369.999720         33               высшее             0   \n",
       "18         0  400281.136913         53              среднее             1   \n",
       "19         0  -10038.818549         48              СРЕДНЕЕ             1   \n",
       "\n",
       "       family_status  family_status_id gender income_type  debt  \\\n",
       "0    женат / замужем                 0      F   сотрудник     0   \n",
       "1    женат / замужем                 0      F   сотрудник     0   \n",
       "2    женат / замужем                 0      M   сотрудник     0   \n",
       "3    женат / замужем                 0      M   сотрудник     0   \n",
       "4   гражданский брак                 1      F   пенсионер     0   \n",
       "5   гражданский брак                 1      M   компаньон     0   \n",
       "6    женат / замужем                 0      F   компаньон     0   \n",
       "7    женат / замужем                 0      M   сотрудник     0   \n",
       "8   гражданский брак                 1      F   сотрудник     0   \n",
       "9    женат / замужем                 0      M   сотрудник     0   \n",
       "10   женат / замужем                 0      M   компаньон     0   \n",
       "11   женат / замужем                 0      F   сотрудник     0   \n",
       "12  гражданский брак                 1      M   пенсионер     0   \n",
       "13   женат / замужем                 0      F   сотрудник     0   \n",
       "14  гражданский брак                 1      F   компаньон     1   \n",
       "15   женат / замужем                 0      F   сотрудник     0   \n",
       "16   женат / замужем                 0      F   сотрудник     0   \n",
       "17  гражданский брак                 1      M   сотрудник     0   \n",
       "18    вдовец / вдова                 2      F   пенсионер     0   \n",
       "19         в разводе                 3      F   сотрудник     0   \n",
       "\n",
       "     total_income                                 purpose  \n",
       "0   253875.639453                           покупка жилья  \n",
       "1   112080.014102                 приобретение автомобиля  \n",
       "2   145885.952297                           покупка жилья  \n",
       "3   267628.550329              дополнительное образование  \n",
       "4   158616.077870                         сыграть свадьбу  \n",
       "5   255763.565419                           покупка жилья  \n",
       "6   240525.971920                       операции с жильем  \n",
       "7   135823.934197                             образование  \n",
       "8    95856.832424                   на проведение свадьбы  \n",
       "9   144425.938277                 покупка жилья для семьи  \n",
       "10  113943.491460                    покупка недвижимости  \n",
       "11   77069.234271       покупка коммерческой недвижимости  \n",
       "12            NaN                         сыграть свадьбу  \n",
       "13  130458.228857                 приобретение автомобиля  \n",
       "14  165127.911772              покупка жилой недвижимости  \n",
       "15  116820.904450  строительство собственной недвижимости  \n",
       "16  289202.704229                            недвижимость  \n",
       "17   90410.586745              строительство недвижимости  \n",
       "18   56823.777243      на покупку подержанного автомобиля  \n",
       "19  242831.107982            на покупку своего автомобиля  "
      ]
     },
     "execution_count": 2,
     "metadata": {},
     "output_type": "execute_result"
    }
   ],
   "source": [
    "data.head(20) # просмотр первых 20 страк данных"
   ]
  },
  {
   "cell_type": "code",
   "execution_count": 3,
   "id": "2b757bca",
   "metadata": {
    "deletable": false,
    "id": "2b757bca",
    "outputId": "15376089-8dad-46c9-b520-c05248d43158"
   },
   "outputs": [
    {
     "name": "stdout",
     "output_type": "stream",
     "text": [
      "<class 'pandas.core.frame.DataFrame'>\n",
      "RangeIndex: 21525 entries, 0 to 21524\n",
      "Data columns (total 12 columns):\n",
      " #   Column            Non-Null Count  Dtype  \n",
      "---  ------            --------------  -----  \n",
      " 0   children          21525 non-null  int64  \n",
      " 1   days_employed     19351 non-null  float64\n",
      " 2   dob_years         21525 non-null  int64  \n",
      " 3   education         21525 non-null  object \n",
      " 4   education_id      21525 non-null  int64  \n",
      " 5   family_status     21525 non-null  object \n",
      " 6   family_status_id  21525 non-null  int64  \n",
      " 7   gender            21525 non-null  object \n",
      " 8   income_type       21525 non-null  object \n",
      " 9   debt              21525 non-null  int64  \n",
      " 10  total_income      19351 non-null  float64\n",
      " 11  purpose           21525 non-null  object \n",
      "dtypes: float64(2), int64(5), object(5)\n",
      "memory usage: 2.0+ MB\n"
     ]
    }
   ],
   "source": [
    "data.info() #просмотр основной информации датафрейма"
   ]
  },
  {
   "cell_type": "markdown",
   "id": "02d92d53",
   "metadata": {
    "deletable": false,
    "id": "02d92d53"
   },
   "source": [
    "### Удаление пропусков"
   ]
  },
  {
   "cell_type": "code",
   "execution_count": 4,
   "id": "7f9b2309",
   "metadata": {
    "deletable": false,
    "id": "7f9b2309",
    "outputId": "81f4d817-781c-465c-ed15-91ce4446810d"
   },
   "outputs": [
    {
     "data": {
      "text/plain": [
       "children               0\n",
       "days_employed       2174\n",
       "dob_years              0\n",
       "education              0\n",
       "education_id           0\n",
       "family_status          0\n",
       "family_status_id       0\n",
       "gender                 0\n",
       "income_type            0\n",
       "debt                   0\n",
       "total_income        2174\n",
       "purpose                0\n",
       "dtype: int64"
      ]
     },
     "execution_count": 4,
     "metadata": {},
     "output_type": "execute_result"
    }
   ],
   "source": [
    "data.isna().sum() #вывод количества пропущенных значений для каждого столбца"
   ]
  },
  {
   "cell_type": "markdown",
   "id": "db86e27b",
   "metadata": {
    "deletable": false,
    "id": "db86e27b"
   },
   "source": [
    "**Столбец с пропущенными значениями — `total_income` — хранит данные о доходах. На сумму дохода сильнее всего влияет тип занятости, поэтому заполнить пропуски в этом столбце буду медианным значением по каждому типу из столбца `income_type`. Например, у человека с типом занятости `сотрудник` пропуск в столбце `total_income` должен быть заполнен медианным доходом среди всех записей с тем же типом.**"
   ]
  },
  {
   "cell_type": "code",
   "execution_count": 5,
   "id": "42006a93",
   "metadata": {
    "deletable": false,
    "id": "42006a93"
   },
   "outputs": [],
   "source": [
    "for t in data['income_type'].unique():\n",
    "    data.loc[(data['income_type'] == t) & (data['total_income'].isna()), 'total_income'] = \\\n",
    "    data.loc[(data['income_type'] == t), 'total_income'].median()"
   ]
  },
  {
   "cell_type": "markdown",
   "id": "89da5ece",
   "metadata": {
    "deletable": false,
    "id": "89da5ece"
   },
   "source": [
    "### Обработка аномальных значений"
   ]
  },
  {
   "cell_type": "markdown",
   "id": "57964554",
   "metadata": {
    "deletable": false,
    "id": "57964554"
   },
   "source": [
    "**В данных могут встречаться артефакты (аномалии) — значения, которые не отражают действительность и появились по какой-то ошибке. таким артефактом будет отрицательное количество дней трудового стажа в столбце `days_employed`. Для реальных данных это нормально. Обработаю значения в этом столбце: заменив все отрицательные значения положительными с помощью метода `abs()`.**"
   ]
  },
  {
   "cell_type": "code",
   "execution_count": 6,
   "id": "f6f055bf",
   "metadata": {
    "deletable": false,
    "id": "f6f055bf"
   },
   "outputs": [],
   "source": [
    "data['days_employed'] = data['days_employed'].abs()"
   ]
  },
  {
   "cell_type": "code",
   "execution_count": 7,
   "id": "85a5faf6",
   "metadata": {
    "deletable": false,
    "id": "85a5faf6",
    "outputId": "801ef80e-522b-4668-f34e-565af7432bcf"
   },
   "outputs": [
    {
     "data": {
      "text/plain": [
       "income_type\n",
       "безработный        366413.652744\n",
       "в декрете            3296.759962\n",
       "госслужащий          2689.368353\n",
       "компаньон            1547.382223\n",
       "пенсионер          365213.306266\n",
       "предприниматель       520.848083\n",
       "сотрудник            1574.202821\n",
       "студент               578.751554\n",
       "Name: days_employed, dtype: float64"
      ]
     },
     "execution_count": 7,
     "metadata": {},
     "output_type": "execute_result"
    }
   ],
   "source": [
    "# Для каждого типа занятости выведите медианное значение трудового стажа в днях.\n",
    "data.groupby('income_type')['days_employed'].agg('median') "
   ]
  },
  {
   "cell_type": "markdown",
   "id": "38d1a030",
   "metadata": {
    "deletable": false,
    "id": "38d1a030"
   },
   "source": [
    "У двух типов (безработные и пенсионеры) получатся аномально большие значения. Исправить такие значения сложно, поэтому оставьте их как есть. Если понадобится вернемсяч к ним позже"
   ]
  },
  {
   "cell_type": "code",
   "execution_count": 8,
   "id": "ef5056eb",
   "metadata": {
    "deletable": false,
    "id": "ef5056eb",
    "outputId": "6975b15c-7f95-4697-d16d-a0c79b657b03"
   },
   "outputs": [
    {
     "data": {
      "text/plain": [
       "array([ 1,  0,  3,  2, -1,  4, 20,  5])"
      ]
     },
     "execution_count": 8,
     "metadata": {},
     "output_type": "execute_result"
    }
   ],
   "source": [
    "data['children'].unique() # Вывод уникальных значений в столбце children"
   ]
  },
  {
   "cell_type": "markdown",
   "id": "40b9ebf2",
   "metadata": {
    "deletable": false,
    "id": "40b9ebf2"
   },
   "source": [
    "**В столбце `children` есть два аномальных значения. Удаю строки, в которых встречаются такие аномальные значения из датафрейма `data`.**"
   ]
  },
  {
   "cell_type": "code",
   "execution_count": 9,
   "id": "3ff9801d",
   "metadata": {
    "deletable": false,
    "id": "3ff9801d"
   },
   "outputs": [],
   "source": [
    "data = data[(data['children'] != -1) & (data['children'] != 20)]"
   ]
  },
  {
   "cell_type": "code",
   "execution_count": 10,
   "id": "ad4fa8b7",
   "metadata": {
    "deletable": false,
    "id": "ad4fa8b7",
    "outputId": "b2097101-d49d-44d9-901b-32a65c9463d1"
   },
   "outputs": [
    {
     "data": {
      "text/plain": [
       "array([1, 0, 3, 2, 4, 5])"
      ]
     },
     "execution_count": 10,
     "metadata": {},
     "output_type": "execute_result"
    }
   ],
   "source": [
    "data['children'].unique()"
   ]
  },
  {
   "cell_type": "markdown",
   "id": "75440b63",
   "metadata": {
    "deletable": false,
    "id": "75440b63"
   },
   "source": [
    "### Удаление пропусков (продолжение)"
   ]
  },
  {
   "cell_type": "markdown",
   "id": "f4ea573f",
   "metadata": {
    "deletable": false,
    "id": "f4ea573f"
   },
   "source": [
    "**Далее Заполняем пропуски в столбце `days_employed` медианными значениями по каждого типа занятости `income_type`.**"
   ]
  },
  {
   "cell_type": "code",
   "execution_count": 11,
   "id": "af6b1a7e",
   "metadata": {
    "deletable": false,
    "id": "af6b1a7e"
   },
   "outputs": [],
   "source": [
    "for t in data['income_type'].unique():\n",
    "    data.loc[(data['income_type'] == t) & (data['days_employed'].isna()), 'days_employed'] = \\\n",
    "    data.loc[(data['income_type'] == t), 'days_employed'].median()"
   ]
  },
  {
   "cell_type": "code",
   "execution_count": 12,
   "id": "55f78bc2",
   "metadata": {
    "deletable": false,
    "id": "55f78bc2",
    "outputId": "8da1e4e1-358e-4e87-98c9-f261bce0a7b2"
   },
   "outputs": [
    {
     "data": {
      "text/plain": [
       "children            0\n",
       "days_employed       0\n",
       "dob_years           0\n",
       "education           0\n",
       "education_id        0\n",
       "family_status       0\n",
       "family_status_id    0\n",
       "gender              0\n",
       "income_type         0\n",
       "debt                0\n",
       "total_income        0\n",
       "purpose             0\n",
       "dtype: int64"
      ]
     },
     "execution_count": 12,
     "metadata": {},
     "output_type": "execute_result"
    }
   ],
   "source": [
    "data.isna().sum() # Проверка отсутствия пропусков"
   ]
  },
  {
   "cell_type": "markdown",
   "id": "ddc81e43",
   "metadata": {
    "deletable": false,
    "id": "ddc81e43"
   },
   "source": [
    "### Изменение типов данных"
   ]
  },
  {
   "cell_type": "markdown",
   "id": "42d19d24",
   "metadata": {
    "deletable": false,
    "id": "42d19d24"
   },
   "source": [
    "**Задание 13. Замените вещественный тип данных в столбце `total_income` на целочисленный с помощью метода `astype()`.**"
   ]
  },
  {
   "cell_type": "code",
   "execution_count": 13,
   "id": "920b65ad",
   "metadata": {
    "deletable": false,
    "id": "920b65ad"
   },
   "outputs": [],
   "source": [
    "#изменение типа данных столбца с вещественного на целочисленный\n",
    "data['total_income'] = data['total_income'].astype(int) "
   ]
  },
  {
   "cell_type": "markdown",
   "id": "80c420ba",
   "metadata": {
    "deletable": false,
    "id": "80c420ba"
   },
   "source": [
    "### Обработка дубликатов"
   ]
  },
  {
   "cell_type": "code",
   "execution_count": 14,
   "id": "3ee445e4",
   "metadata": {
    "deletable": false,
    "id": "3ee445e4",
    "outputId": "9684deba-1934-42d1-99e1-cda61740f822"
   },
   "outputs": [
    {
     "data": {
      "text/plain": [
       "54"
      ]
     },
     "execution_count": 14,
     "metadata": {},
     "output_type": "execute_result"
    }
   ],
   "source": [
    "data.duplicated().sum() # Просмотр количества дубликатов"
   ]
  },
  {
   "cell_type": "code",
   "execution_count": 15,
   "id": "8575fe05",
   "metadata": {
    "deletable": false,
    "id": "8575fe05"
   },
   "outputs": [],
   "source": [
    "data = data.drop_duplicates() # Удаление дубликатов"
   ]
  },
  {
   "cell_type": "markdown",
   "id": "9771a76c",
   "metadata": {
    "deletable": false,
    "id": "9771a76c"
   },
   "source": [
    "**Обработка неявных дубликатов в столбце `education`. В этом столбце есть одни и те же значения, но записанные по-разному: с использованием заглавных и строчных букв. Нужно Привести их к нижнему регистру**"
   ]
  },
  {
   "cell_type": "code",
   "execution_count": 16,
   "id": "a9f8e2bf",
   "metadata": {
    "deletable": false,
    "id": "a9f8e2bf"
   },
   "outputs": [],
   "source": [
    "data['education'] = data['education'].str.lower()"
   ]
  },
  {
   "cell_type": "markdown",
   "id": "9904cf55",
   "metadata": {
    "deletable": false,
    "id": "9904cf55"
   },
   "source": [
    "### Категоризация данных"
   ]
  },
  {
   "cell_type": "markdown",
   "id": "72fcc8a2",
   "metadata": {
    "deletable": false,
    "id": "72fcc8a2"
   },
   "source": [
    "**На основании диапазонов, указанных ниже, создаем в датафрейме `data` столбец `total_income_category` с категориями:**\n",
    "\n",
    "- 0–30000 — `'E'`;\n",
    "- 30001–50000 — `'D'`;\n",
    "- 50001–200000 — `'C'`;\n",
    "- 200001–1000000 — `'B'`;\n",
    "- 1000001 и выше — `'A'`.\n",
    "\n",
    "\n",
    "**Например, кредитополучателю с доходом 25000 нужно назначить категорию `'E'`, а клиенту, получающему 235000, — `'B'`. Используйте собственную функцию с именем `categorize_income()` и метод `apply()`.**"
   ]
  },
  {
   "cell_type": "code",
   "execution_count": 17,
   "id": "e1771346",
   "metadata": {
    "deletable": false,
    "id": "e1771346"
   },
   "outputs": [],
   "source": [
    "def categorize_income(income):\n",
    "    try:\n",
    "        if 0 <= income <= 30000:\n",
    "            return 'E'\n",
    "        elif 30001 <= income <= 50000:\n",
    "            return 'D'\n",
    "        elif 50001 <= income <= 200000:\n",
    "            return 'C'\n",
    "        elif 200001 <= income <= 1000000:\n",
    "            return 'B'\n",
    "        elif income >= 1000001:\n",
    "            return 'A'\n",
    "    except:\n",
    "        pass"
   ]
  },
  {
   "cell_type": "code",
   "execution_count": 18,
   "id": "d5f3586d",
   "metadata": {
    "deletable": false,
    "id": "d5f3586d"
   },
   "outputs": [],
   "source": [
    "data['total_income_category'] = data['total_income'].apply(categorize_income)"
   ]
  },
  {
   "cell_type": "code",
   "execution_count": 19,
   "id": "f67ce9b3",
   "metadata": {
    "deletable": false,
    "id": "f67ce9b3",
    "outputId": "673c12d9-7d7e-4ae0-9812-c622c89dd244"
   },
   "outputs": [
    {
     "data": {
      "text/plain": [
       "array(['покупка жилья', 'приобретение автомобиля',\n",
       "       'дополнительное образование', 'сыграть свадьбу',\n",
       "       'операции с жильем', 'образование', 'на проведение свадьбы',\n",
       "       'покупка жилья для семьи', 'покупка недвижимости',\n",
       "       'покупка коммерческой недвижимости', 'покупка жилой недвижимости',\n",
       "       'строительство собственной недвижимости', 'недвижимость',\n",
       "       'строительство недвижимости', 'на покупку подержанного автомобиля',\n",
       "       'на покупку своего автомобиля',\n",
       "       'операции с коммерческой недвижимостью',\n",
       "       'строительство жилой недвижимости', 'жилье',\n",
       "       'операции со своей недвижимостью', 'автомобили',\n",
       "       'заняться образованием', 'сделка с подержанным автомобилем',\n",
       "       'получение образования', 'автомобиль', 'свадьба',\n",
       "       'получение дополнительного образования', 'покупка своего жилья',\n",
       "       'операции с недвижимостью', 'получение высшего образования',\n",
       "       'свой автомобиль', 'сделка с автомобилем',\n",
       "       'профильное образование', 'высшее образование',\n",
       "       'покупка жилья для сдачи', 'на покупку автомобиля', 'ремонт жилью',\n",
       "       'заняться высшим образованием'], dtype=object)"
      ]
     },
     "execution_count": 19,
     "metadata": {},
     "output_type": "execute_result"
    }
   ],
   "source": [
    "data['purpose'].unique() # Просмотр уникальных значений"
   ]
  },
  {
   "cell_type": "markdown",
   "id": "85d0aef0",
   "metadata": {
    "deletable": false,
    "id": "85d0aef0"
   },
   "source": [
    "**Создаю функцию, которая на основании данных из столбца `purpose` сформирует новый столбец `purpose_category`, в который войдут следующие категории:**\n",
    "\n",
    "- `'операции с автомобилем'`,\n",
    "- `'операции с недвижимостью'`,\n",
    "- `'проведение свадьбы'`,\n",
    "- `'получение образования'`.\n",
    "\n",
    "**Например, если в столбце `purpose` находится подстрока `'на покупку автомобиля'`, то в столбце `purpose_category` должна появиться строка `'операции с автомобилем'`.**"
   ]
  },
  {
   "cell_type": "code",
   "execution_count": 20,
   "id": "e149fab4",
   "metadata": {
    "deletable": false,
    "id": "e149fab4"
   },
   "outputs": [],
   "source": [
    "def categorize_purpose(row):\n",
    "    try:\n",
    "        if 'автом' in row:\n",
    "            return 'операции с автомобилем'\n",
    "        elif 'жил' in row or 'недвиж' in row:\n",
    "            return 'операции с недвижимостью'\n",
    "        elif 'свад' in row:\n",
    "            return 'проведение свадьбы'\n",
    "        elif 'образов' in row:\n",
    "            return 'получение образования'\n",
    "    except:\n",
    "        return 'нет категории'"
   ]
  },
  {
   "cell_type": "code",
   "execution_count": 21,
   "id": "bf36e69b",
   "metadata": {
    "deletable": false,
    "id": "bf36e69b"
   },
   "outputs": [],
   "source": [
    "data['purpose_category'] = data['purpose'].apply(categorize_purpose)"
   ]
  },
  {
   "cell_type": "markdown",
   "id": "09b242bf",
   "metadata": {
    "id": "09b242bf"
   },
   "source": [
    "## Исследую данные для ответов на вопросы"
   ]
  },
  {
   "cell_type": "markdown",
   "id": "c5d66278",
   "metadata": {
    "id": "c5d66278"
   },
   "source": [
    "**Есть ли зависимость между количеством детей и возвратом кредита в срок?**"
   ]
  },
  {
   "cell_type": "code",
   "execution_count": 22,
   "id": "e5c2e621",
   "metadata": {},
   "outputs": [
    {
     "data": {
      "text/plain": [
       "array([0, 1])"
      ]
     },
     "execution_count": 22,
     "metadata": {},
     "output_type": "execute_result"
    }
   ],
   "source": [
    "data['debt'].unique() # Проверяем уникальные значения столбца debt"
   ]
  },
  {
   "cell_type": "markdown",
   "id": "c0cb1858",
   "metadata": {},
   "source": [
    "*Увидев результат можно предположить что **0** - отсутствие задолжности, а **1** имел задолжность по возврату кредита*"
   ]
  },
  {
   "cell_type": "markdown",
   "id": "b137a0ba",
   "metadata": {},
   "source": [
    "**Создаем переменную - DataFrame, в которой сгрупируем данные по количеству детей**"
   ]
  },
  {
   "cell_type": "code",
   "execution_count": 23,
   "id": "2cacfc4a",
   "metadata": {
    "id": "2cacfc4a",
    "scrolled": true
   },
   "outputs": [],
   "source": [
    "debt_children = pd.DataFrame() # имя таблицы"
   ]
  },
  {
   "cell_type": "code",
   "execution_count": 24,
   "id": "84efd76b",
   "metadata": {},
   "outputs": [],
   "source": [
    "debt_children_count = data.groupby('children')['debt'].count() # количество заемщиков сгруппированные по количеству детей \n",
    "debt_children_sum = data.groupby('children')['debt'].sum() # количество заемщиков, которые имел задолжность сгруппированных \n",
    "#по количеству детей\n"
   ]
  },
  {
   "cell_type": "code",
   "execution_count": 25,
   "id": "da35ea54",
   "metadata": {},
   "outputs": [],
   "source": [
    "debt_children['debt_children_count'] = debt_children_count # внесение данных в таблицу в столбец debt_children_count\n",
    "debt_children['debt_children_sum'] = debt_children_sum # внесение данных в таблицу в столбец debt_children_sum"
   ]
  },
  {
   "cell_type": "code",
   "execution_count": 26,
   "id": "57a2a47f",
   "metadata": {},
   "outputs": [],
   "source": [
    "#создаем столбец с  конверсией имеющих задолжность к общему числу заемщик в каждой группе\n",
    "debt_children['debt_children_sum_convers'] = debt_children['debt_children_sum'] / debt_children['debt_children_count'] "
   ]
  },
  {
   "cell_type": "markdown",
   "id": "1c22cbf0",
   "metadata": {},
   "source": [
    "**Выведем таблицу и отсортируем её по возрастанию конверсии**"
   ]
  },
  {
   "cell_type": "code",
   "execution_count": 27,
   "id": "852e107b",
   "metadata": {},
   "outputs": [
    {
     "data": {
      "text/html": [
       "<div>\n",
       "<style scoped>\n",
       "    .dataframe tbody tr th:only-of-type {\n",
       "        vertical-align: middle;\n",
       "    }\n",
       "\n",
       "    .dataframe tbody tr th {\n",
       "        vertical-align: top;\n",
       "    }\n",
       "\n",
       "    .dataframe thead th {\n",
       "        text-align: right;\n",
       "    }\n",
       "</style>\n",
       "<table border=\"1\" class=\"dataframe\">\n",
       "  <thead>\n",
       "    <tr style=\"text-align: right;\">\n",
       "      <th></th>\n",
       "      <th>debt_children_count</th>\n",
       "      <th>debt_children_sum</th>\n",
       "      <th>debt_children_sum_convers</th>\n",
       "    </tr>\n",
       "    <tr>\n",
       "      <th>children</th>\n",
       "      <th></th>\n",
       "      <th></th>\n",
       "      <th></th>\n",
       "    </tr>\n",
       "  </thead>\n",
       "  <tbody>\n",
       "    <tr>\n",
       "      <th>5</th>\n",
       "      <td>9</td>\n",
       "      <td>0</td>\n",
       "      <td>0.000000</td>\n",
       "    </tr>\n",
       "    <tr>\n",
       "      <th>0</th>\n",
       "      <td>14107</td>\n",
       "      <td>1063</td>\n",
       "      <td>0.075353</td>\n",
       "    </tr>\n",
       "    <tr>\n",
       "      <th>3</th>\n",
       "      <td>330</td>\n",
       "      <td>27</td>\n",
       "      <td>0.081818</td>\n",
       "    </tr>\n",
       "    <tr>\n",
       "      <th>1</th>\n",
       "      <td>4809</td>\n",
       "      <td>444</td>\n",
       "      <td>0.092327</td>\n",
       "    </tr>\n",
       "    <tr>\n",
       "      <th>2</th>\n",
       "      <td>2052</td>\n",
       "      <td>194</td>\n",
       "      <td>0.094542</td>\n",
       "    </tr>\n",
       "    <tr>\n",
       "      <th>4</th>\n",
       "      <td>41</td>\n",
       "      <td>4</td>\n",
       "      <td>0.097561</td>\n",
       "    </tr>\n",
       "  </tbody>\n",
       "</table>\n",
       "</div>"
      ],
      "text/plain": [
       "          debt_children_count  debt_children_sum  debt_children_sum_convers\n",
       "children                                                                   \n",
       "5                           9                  0                   0.000000\n",
       "0                       14107               1063                   0.075353\n",
       "3                         330                 27                   0.081818\n",
       "1                        4809                444                   0.092327\n",
       "2                        2052                194                   0.094542\n",
       "4                          41                  4                   0.097561"
      ]
     },
     "execution_count": 27,
     "metadata": {},
     "output_type": "execute_result"
    }
   ],
   "source": [
    "debt_children.sort_values('debt_children_sum_convers')"
   ]
  },
  {
   "cell_type": "markdown",
   "id": "3a6b99ec",
   "metadata": {
    "deletable": false,
    "id": "3a6b99ec"
   },
   "source": [
    "**Вывод:** "
   ]
  },
  {
   "cell_type": "markdown",
   "id": "ce977066",
   "metadata": {},
   "source": [
    "- Бездетные заемщики более благополучные, чем с детьми\n",
    "- У Заемщиков с 1-4 детьми % выплаты долга практически одинаковый, хотя заемщики с 3 детьми чаще выплачивают заем в срок\n",
    "- Заемщик с 5 детьми не имеют проблем с выплатой кредита - это лучший результат, но скорей всего связанный с небольшим числом данных, которые мы имеем"
   ]
  },
  {
   "cell_type": "markdown",
   "id": "97be82ca",
   "metadata": {
    "id": "97be82ca"
   },
   "source": [
    "**Есть ли зависимость между семейным положением и возвратом кредита в срок?**"
   ]
  },
  {
   "cell_type": "code",
   "execution_count": 28,
   "id": "f89cc06e",
   "metadata": {
    "scrolled": true
   },
   "outputs": [
    {
     "data": {
      "text/plain": [
       "array(['женат / замужем', 'гражданский брак', 'вдовец / вдова',\n",
       "       'в разводе', 'Не женат / не замужем'], dtype=object)"
      ]
     },
     "execution_count": 28,
     "metadata": {},
     "output_type": "execute_result"
    }
   ],
   "source": [
    "data['family_status'].unique() #Проверяем уникальные значения в столбце famili_status"
   ]
  },
  {
   "cell_type": "markdown",
   "id": "2c411b60",
   "metadata": {},
   "source": [
    "**Создаем переменную DataFrame, в которой будем сохранять сгруппированные переменные**"
   ]
  },
  {
   "cell_type": "code",
   "execution_count": 29,
   "id": "8cee7555",
   "metadata": {},
   "outputs": [],
   "source": [
    "debt_family = pd.DataFrame()"
   ]
  },
  {
   "cell_type": "code",
   "execution_count": 30,
   "id": "d5b8054e",
   "metadata": {},
   "outputs": [],
   "source": [
    "debt_family_count = data.groupby('family_status')['debt'].count() # количество заемщиков сгруппированных по статусу\n",
    "debt_family_sum = data.groupby('family_status')['debt'].sum() # количество заемщиков, которые имели заолжность \n",
    "#и сгруппированные по статусу"
   ]
  },
  {
   "cell_type": "code",
   "execution_count": 31,
   "id": "f173af83",
   "metadata": {},
   "outputs": [],
   "source": [
    "debt_family['debt_family_count'] = debt_family_count\n",
    "debt_family['debt_family_sum'] = debt_family_sum\n",
    "# создание столбцов и внесение данных"
   ]
  },
  {
   "cell_type": "code",
   "execution_count": 32,
   "id": "54d82ebf",
   "metadata": {},
   "outputs": [],
   "source": [
    "debt_family['debt_family_convers'] = debt_family['debt_family_sum'] / debt_family['debt_family_count'] \n",
    "# создаем столбец с конверсией имеющих задолжность к общему числу в категории"
   ]
  },
  {
   "cell_type": "markdown",
   "id": "5adcbaea",
   "metadata": {},
   "source": [
    "**Выведем таблицу и отсортируем её по возрастанию конверсии**"
   ]
  },
  {
   "cell_type": "code",
   "execution_count": 33,
   "id": "dc3f7ee8",
   "metadata": {
    "id": "dc3f7ee8",
    "scrolled": true
   },
   "outputs": [
    {
     "data": {
      "text/html": [
       "<div>\n",
       "<style scoped>\n",
       "    .dataframe tbody tr th:only-of-type {\n",
       "        vertical-align: middle;\n",
       "    }\n",
       "\n",
       "    .dataframe tbody tr th {\n",
       "        vertical-align: top;\n",
       "    }\n",
       "\n",
       "    .dataframe thead th {\n",
       "        text-align: right;\n",
       "    }\n",
       "</style>\n",
       "<table border=\"1\" class=\"dataframe\">\n",
       "  <thead>\n",
       "    <tr style=\"text-align: right;\">\n",
       "      <th></th>\n",
       "      <th>debt_family_count</th>\n",
       "      <th>debt_family_sum</th>\n",
       "      <th>debt_family_convers</th>\n",
       "    </tr>\n",
       "    <tr>\n",
       "      <th>family_status</th>\n",
       "      <th></th>\n",
       "      <th></th>\n",
       "      <th></th>\n",
       "    </tr>\n",
       "  </thead>\n",
       "  <tbody>\n",
       "    <tr>\n",
       "      <th>вдовец / вдова</th>\n",
       "      <td>951</td>\n",
       "      <td>63</td>\n",
       "      <td>0.066246</td>\n",
       "    </tr>\n",
       "    <tr>\n",
       "      <th>в разводе</th>\n",
       "      <td>1189</td>\n",
       "      <td>84</td>\n",
       "      <td>0.070648</td>\n",
       "    </tr>\n",
       "    <tr>\n",
       "      <th>женат / замужем</th>\n",
       "      <td>12266</td>\n",
       "      <td>927</td>\n",
       "      <td>0.075575</td>\n",
       "    </tr>\n",
       "    <tr>\n",
       "      <th>гражданский брак</th>\n",
       "      <td>4146</td>\n",
       "      <td>385</td>\n",
       "      <td>0.092861</td>\n",
       "    </tr>\n",
       "    <tr>\n",
       "      <th>Не женат / не замужем</th>\n",
       "      <td>2796</td>\n",
       "      <td>273</td>\n",
       "      <td>0.097639</td>\n",
       "    </tr>\n",
       "  </tbody>\n",
       "</table>\n",
       "</div>"
      ],
      "text/plain": [
       "                       debt_family_count  debt_family_sum  debt_family_convers\n",
       "family_status                                                                 \n",
       "вдовец / вдова                       951               63             0.066246\n",
       "в разводе                           1189               84             0.070648\n",
       "женат / замужем                    12266              927             0.075575\n",
       "гражданский брак                    4146              385             0.092861\n",
       "Не женат / не замужем               2796              273             0.097639"
      ]
     },
     "execution_count": 33,
     "metadata": {},
     "output_type": "execute_result"
    }
   ],
   "source": [
    "debt_family.sort_values(by='debt_family_convers')\n",
    "# Ваш код будет здесь. Вы можете создавать новые ячейки."
   ]
  },
  {
   "cell_type": "markdown",
   "id": "1cef7837",
   "metadata": {
    "deletable": false,
    "id": "1cef7837"
   },
   "source": [
    "**Вывод:** "
   ]
  },
  {
   "cell_type": "markdown",
   "id": "42530ee2",
   "metadata": {},
   "source": [
    "- `Не женатые/не замужем` заемщики самые не надежные по возврату кредитов. \n",
    "- `Вдовцы`  или `в разводе` чаще всего возвращают заем\n",
    "- `Женатые/замужем` заемщики  и заемщики в гражданском браке имеют разный % возврата кредитных средств \n",
    "- Самый высокий процент невозвратов у `не женатых / не замужник`"
   ]
  },
  {
   "cell_type": "markdown",
   "id": "1e8b2fca",
   "metadata": {
    "id": "1e8b2fca"
   },
   "source": [
    "**Есть ли зависимость между уровнем дохода и возвратом кредита в срок?**"
   ]
  },
  {
   "cell_type": "markdown",
   "id": "9a2dc368",
   "metadata": {},
   "source": [
    "**Так как у всех заемщиков сумма дохода очень разная - воспользуемся категориями, на которые мы разделили заемщиков в предыдущих заданиях и сгруппируем их по категориям**\n",
    "\n",
    "- 0–30000 — `'E'`;\n",
    "- 30001–50000 — `'D'`;\n",
    "- 50001–200000 — `'C'`;\n",
    "- 200001–1000000 — `'B'`;\n",
    "- 1000001 и выше — `'A'`.\n"
   ]
  },
  {
   "cell_type": "markdown",
   "id": "d8a23f63",
   "metadata": {},
   "source": [
    "**Создаем переменную - DataFrame, в которой будем сохранять сгруппированные данные**"
   ]
  },
  {
   "cell_type": "code",
   "execution_count": 34,
   "id": "4b78524e",
   "metadata": {},
   "outputs": [],
   "source": [
    "debt_income = pd.DataFrame()"
   ]
  },
  {
   "cell_type": "code",
   "execution_count": 35,
   "id": "cd7e3720",
   "metadata": {
    "id": "cd7e3720"
   },
   "outputs": [],
   "source": [
    "debt_income_count = data.groupby('total_income_category')['debt'].count() #количество заемщиков разделенных по категориям\n",
    "debt_income_sum = data.groupby('total_income_category')['debt'].sum()#количество земщиков имеющих задолжность в выплате кредита \n",
    "#по категориям"
   ]
  },
  {
   "cell_type": "code",
   "execution_count": 36,
   "id": "ad9689a6",
   "metadata": {},
   "outputs": [],
   "source": [
    "debt_income['debt_income_count'] = debt_income_count\n",
    "debt_income['debt_income_sum'] = debt_income_sum"
   ]
  },
  {
   "cell_type": "code",
   "execution_count": 37,
   "id": "a142671b",
   "metadata": {},
   "outputs": [],
   "source": [
    "debt_income['debt_income_convers'] = debt_income['debt_income_sum'] / debt_income['debt_income_count']\n",
    "#создаем столбец с  конверсией имеющих задолжность к общему числу заемщик в каждой группе"
   ]
  },
  {
   "cell_type": "markdown",
   "id": "edf6f27f",
   "metadata": {},
   "source": [
    "**Выведем таблицу и отсортируем её по возрастанию конверсии**"
   ]
  },
  {
   "cell_type": "code",
   "execution_count": 38,
   "id": "215d0bf5",
   "metadata": {},
   "outputs": [
    {
     "data": {
      "text/html": [
       "<div>\n",
       "<style scoped>\n",
       "    .dataframe tbody tr th:only-of-type {\n",
       "        vertical-align: middle;\n",
       "    }\n",
       "\n",
       "    .dataframe tbody tr th {\n",
       "        vertical-align: top;\n",
       "    }\n",
       "\n",
       "    .dataframe thead th {\n",
       "        text-align: right;\n",
       "    }\n",
       "</style>\n",
       "<table border=\"1\" class=\"dataframe\">\n",
       "  <thead>\n",
       "    <tr style=\"text-align: right;\">\n",
       "      <th></th>\n",
       "      <th>debt_income_count</th>\n",
       "      <th>debt_income_sum</th>\n",
       "      <th>debt_income_convers</th>\n",
       "    </tr>\n",
       "    <tr>\n",
       "      <th>total_income_category</th>\n",
       "      <th></th>\n",
       "      <th></th>\n",
       "      <th></th>\n",
       "    </tr>\n",
       "  </thead>\n",
       "  <tbody>\n",
       "    <tr>\n",
       "      <th>D</th>\n",
       "      <td>349</td>\n",
       "      <td>21</td>\n",
       "      <td>0.060172</td>\n",
       "    </tr>\n",
       "    <tr>\n",
       "      <th>B</th>\n",
       "      <td>5014</td>\n",
       "      <td>354</td>\n",
       "      <td>0.070602</td>\n",
       "    </tr>\n",
       "    <tr>\n",
       "      <th>A</th>\n",
       "      <td>25</td>\n",
       "      <td>2</td>\n",
       "      <td>0.080000</td>\n",
       "    </tr>\n",
       "    <tr>\n",
       "      <th>C</th>\n",
       "      <td>15938</td>\n",
       "      <td>1353</td>\n",
       "      <td>0.084891</td>\n",
       "    </tr>\n",
       "    <tr>\n",
       "      <th>E</th>\n",
       "      <td>22</td>\n",
       "      <td>2</td>\n",
       "      <td>0.090909</td>\n",
       "    </tr>\n",
       "  </tbody>\n",
       "</table>\n",
       "</div>"
      ],
      "text/plain": [
       "                       debt_income_count  debt_income_sum  debt_income_convers\n",
       "total_income_category                                                         \n",
       "D                                    349               21             0.060172\n",
       "B                                   5014              354             0.070602\n",
       "A                                     25                2             0.080000\n",
       "C                                  15938             1353             0.084891\n",
       "E                                     22                2             0.090909"
      ]
     },
     "execution_count": 38,
     "metadata": {},
     "output_type": "execute_result"
    }
   ],
   "source": [
    "debt_income.sort_values(by='debt_income_convers')"
   ]
  },
  {
   "cell_type": "markdown",
   "id": "dfc48444",
   "metadata": {},
   "source": [
    "Из представленных данных видно что они не показательные, так как разброс в количестве заемщиков по категориям очень большой.\n",
    "<br> Для лучшего результата можно обьединить категории, в более крупные.\n",
    "Так как у нас есть средний показатель заемщиков с доходом до 200000(категория С), предложу поделить на 2 категории \n",
    "- Доход ниже среднего: до 200000 \n",
    "- Доход выше среднего: от 200000\n"
   ]
  },
  {
   "cell_type": "markdown",
   "id": "f93eea23",
   "metadata": {},
   "source": [
    "**Создадим функцию, которая разделит заемщиков на более узкие категории и применим её к нашей основной таблице, что бы перепроверить теорию**"
   ]
  },
  {
   "cell_type": "code",
   "execution_count": 39,
   "id": "85ff8b20",
   "metadata": {},
   "outputs": [],
   "source": [
    "def func_debt_income(income):\n",
    "    try:\n",
    "\n",
    "        if income <= 200000:\n",
    "            return 'Ниже среднего'\n",
    "        elif income >= 200001:\n",
    "            return 'Выше среднего'\n",
    "    \n",
    "    except:\n",
    "        pass\n",
    "    "
   ]
  },
  {
   "cell_type": "code",
   "execution_count": 40,
   "id": "19fba908",
   "metadata": {},
   "outputs": [],
   "source": [
    "data['total_income_category_2'] = data['total_income'].apply(func_debt_income)"
   ]
  },
  {
   "cell_type": "markdown",
   "id": "8874322e",
   "metadata": {},
   "source": [
    "**Повторим предыдущие действия**"
   ]
  },
  {
   "cell_type": "code",
   "execution_count": 41,
   "id": "6f65c6f5",
   "metadata": {},
   "outputs": [],
   "source": [
    "debt_income = pd.DataFrame()"
   ]
  },
  {
   "cell_type": "code",
   "execution_count": 42,
   "id": "599cd230",
   "metadata": {},
   "outputs": [],
   "source": [
    "debt_income_count = data.groupby('total_income_category_2')['debt'].count() #количество заемщиков разделенных по категориям\n",
    "debt_income_sum = data.groupby('total_income_category_2')['debt'].sum()#количество земщиков имеющих задолжность в выплате кредита \n",
    "#по категориям"
   ]
  },
  {
   "cell_type": "code",
   "execution_count": 43,
   "id": "ee58a660",
   "metadata": {},
   "outputs": [],
   "source": [
    "debt_income['debt_income_count'] = debt_income_count\n",
    "debt_income['debt_income_sum'] = debt_income_sum"
   ]
  },
  {
   "cell_type": "code",
   "execution_count": 44,
   "id": "3f483a82",
   "metadata": {},
   "outputs": [],
   "source": [
    "debt_income['debt_income_convers'] = debt_income['debt_income_sum'] / debt_income['debt_income_count']"
   ]
  },
  {
   "cell_type": "code",
   "execution_count": 45,
   "id": "625a1a41",
   "metadata": {},
   "outputs": [
    {
     "data": {
      "text/html": [
       "<div>\n",
       "<style scoped>\n",
       "    .dataframe tbody tr th:only-of-type {\n",
       "        vertical-align: middle;\n",
       "    }\n",
       "\n",
       "    .dataframe tbody tr th {\n",
       "        vertical-align: top;\n",
       "    }\n",
       "\n",
       "    .dataframe thead th {\n",
       "        text-align: right;\n",
       "    }\n",
       "</style>\n",
       "<table border=\"1\" class=\"dataframe\">\n",
       "  <thead>\n",
       "    <tr style=\"text-align: right;\">\n",
       "      <th></th>\n",
       "      <th>debt_income_count</th>\n",
       "      <th>debt_income_sum</th>\n",
       "      <th>debt_income_convers</th>\n",
       "    </tr>\n",
       "    <tr>\n",
       "      <th>total_income_category_2</th>\n",
       "      <th></th>\n",
       "      <th></th>\n",
       "      <th></th>\n",
       "    </tr>\n",
       "  </thead>\n",
       "  <tbody>\n",
       "    <tr>\n",
       "      <th>Выше среднего</th>\n",
       "      <td>5039</td>\n",
       "      <td>356</td>\n",
       "      <td>0.070649</td>\n",
       "    </tr>\n",
       "    <tr>\n",
       "      <th>Ниже среднего</th>\n",
       "      <td>16309</td>\n",
       "      <td>1376</td>\n",
       "      <td>0.084371</td>\n",
       "    </tr>\n",
       "  </tbody>\n",
       "</table>\n",
       "</div>"
      ],
      "text/plain": [
       "                         debt_income_count  debt_income_sum  \\\n",
       "total_income_category_2                                       \n",
       "Выше среднего                         5039              356   \n",
       "Ниже среднего                        16309             1376   \n",
       "\n",
       "                         debt_income_convers  \n",
       "total_income_category_2                       \n",
       "Выше среднего                       0.070649  \n",
       "Ниже среднего                       0.084371  "
      ]
     },
     "execution_count": 45,
     "metadata": {},
     "output_type": "execute_result"
    }
   ],
   "source": [
    "debt_income.sort_values(by='debt_income_convers')"
   ]
  },
  {
   "cell_type": "markdown",
   "id": "e8593def",
   "metadata": {
    "deletable": false,
    "id": "e8593def"
   },
   "source": [
    "**Вывод:** \n"
   ]
  },
  {
   "cell_type": "markdown",
   "id": "f93a9569",
   "metadata": {},
   "source": [
    "Обьединив малочисленные категории с более крупными заметно, что заемщики с доходом ниже среднего(менее 200 000) чаще встречатся с задолжностью в выплате кредита, чем заемщики с доходом выше среднего(более 200 000)"
   ]
  },
  {
   "cell_type": "markdown",
   "id": "99ecbd1f",
   "metadata": {
    "id": "99ecbd1f"
   },
   "source": [
    "**Как разные цели кредита влияют на его возврат в срок?**"
   ]
  },
  {
   "cell_type": "markdown",
   "id": "6f9b5e4f",
   "metadata": {},
   "source": [
    "**Для данного исследования воспользуемся категориями целей, на которые мы ранее разбили заемщиков**"
   ]
  },
  {
   "cell_type": "markdown",
   "id": "8b361860",
   "metadata": {},
   "source": [
    "**Создаем переменную - DataFrame, в которой будем сохранять сгруппированные данные**"
   ]
  },
  {
   "cell_type": "code",
   "execution_count": 46,
   "id": "139e446f",
   "metadata": {},
   "outputs": [],
   "source": [
    "debt_purpose = pd.DataFrame()"
   ]
  },
  {
   "cell_type": "code",
   "execution_count": 47,
   "id": "2683f9ff",
   "metadata": {},
   "outputs": [],
   "source": [
    "debt_purpose_count = data.groupby('purpose_category')['debt'].count() #количество заемщиков разделенных по категориям\n",
    "debt_purpose_sum = data.groupby('purpose_category')['debt'].sum()#количество земщиков имеющих задолжность в выплате кредита \n",
    "#по категориям"
   ]
  },
  {
   "cell_type": "code",
   "execution_count": 48,
   "id": "dca5a9e6",
   "metadata": {},
   "outputs": [],
   "source": [
    "debt_purpose['debt_purpose_count'] = debt_purpose_count\n",
    "debt_purpose['debt_purpose_sum'] = debt_purpose_sum"
   ]
  },
  {
   "cell_type": "code",
   "execution_count": 49,
   "id": "0e81d554",
   "metadata": {},
   "outputs": [],
   "source": [
    "debt_purpose['debt_purpose_convers'] = debt_purpose['debt_purpose_sum'] / debt_purpose['debt_purpose_count']\n",
    "#создаем столбец с  конверсией имеющих задолжность к общему числу заемщик в каждой группе"
   ]
  },
  {
   "cell_type": "markdown",
   "id": "52b39082",
   "metadata": {
    "id": "2b687290"
   },
   "source": [
    "**Выведем таблицу и отсортируем её по возрастанию конверсии**"
   ]
  },
  {
   "cell_type": "code",
   "execution_count": 50,
   "id": "1dd5f5d6",
   "metadata": {},
   "outputs": [
    {
     "data": {
      "text/html": [
       "<div>\n",
       "<style scoped>\n",
       "    .dataframe tbody tr th:only-of-type {\n",
       "        vertical-align: middle;\n",
       "    }\n",
       "\n",
       "    .dataframe tbody tr th {\n",
       "        vertical-align: top;\n",
       "    }\n",
       "\n",
       "    .dataframe thead th {\n",
       "        text-align: right;\n",
       "    }\n",
       "</style>\n",
       "<table border=\"1\" class=\"dataframe\">\n",
       "  <thead>\n",
       "    <tr style=\"text-align: right;\">\n",
       "      <th></th>\n",
       "      <th>debt_purpose_count</th>\n",
       "      <th>debt_purpose_sum</th>\n",
       "      <th>debt_purpose_convers</th>\n",
       "    </tr>\n",
       "    <tr>\n",
       "      <th>purpose_category</th>\n",
       "      <th></th>\n",
       "      <th></th>\n",
       "      <th></th>\n",
       "    </tr>\n",
       "  </thead>\n",
       "  <tbody>\n",
       "    <tr>\n",
       "      <th>операции с недвижимостью</th>\n",
       "      <td>10754</td>\n",
       "      <td>780</td>\n",
       "      <td>0.072531</td>\n",
       "    </tr>\n",
       "    <tr>\n",
       "      <th>проведение свадьбы</th>\n",
       "      <td>2324</td>\n",
       "      <td>183</td>\n",
       "      <td>0.078744</td>\n",
       "    </tr>\n",
       "    <tr>\n",
       "      <th>получение образования</th>\n",
       "      <td>3989</td>\n",
       "      <td>369</td>\n",
       "      <td>0.092504</td>\n",
       "    </tr>\n",
       "    <tr>\n",
       "      <th>операции с автомобилем</th>\n",
       "      <td>4281</td>\n",
       "      <td>400</td>\n",
       "      <td>0.093436</td>\n",
       "    </tr>\n",
       "  </tbody>\n",
       "</table>\n",
       "</div>"
      ],
      "text/plain": [
       "                          debt_purpose_count  debt_purpose_sum  \\\n",
       "purpose_category                                                 \n",
       "операции с недвижимостью               10754               780   \n",
       "проведение свадьбы                      2324               183   \n",
       "получение образования                   3989               369   \n",
       "операции с автомобилем                  4281               400   \n",
       "\n",
       "                          debt_purpose_convers  \n",
       "purpose_category                                \n",
       "операции с недвижимостью              0.072531  \n",
       "проведение свадьбы                    0.078744  \n",
       "получение образования                 0.092504  \n",
       "операции с автомобилем                0.093436  "
      ]
     },
     "execution_count": 50,
     "metadata": {},
     "output_type": "execute_result"
    }
   ],
   "source": [
    "debt_purpose.sort_values(by='debt_purpose_convers')"
   ]
  },
  {
   "cell_type": "markdown",
   "id": "b4bb2ce6",
   "metadata": {
    "deletable": false,
    "id": "b4bb2ce6"
   },
   "source": [
    "**Вывод:** "
   ]
  },
  {
   "cell_type": "markdown",
   "id": "6e9f94be",
   "metadata": {},
   "source": [
    "Мы видим что:\n",
    "- Чаще всего проблемы с задолжностью у тех, кто берет займ для автомобиля или на образование\n",
    "- Займ на операции с недвижимостью выплачиваются чаще всего\n",
    "- Займ на проведение свадеб выплачивается почти так же как и займ на недвижимость"
   ]
  },
  {
   "cell_type": "markdown",
   "id": "09c3ac4c",
   "metadata": {
    "id": "09c3ac4c"
   },
   "source": [
    "**Возможные причины появления пропусков в исходных данных.**"
   ]
  },
  {
   "cell_type": "markdown",
   "id": "9da2ceda",
   "metadata": {
    "deletable": false,
    "id": "9da2ceda"
   },
   "source": [
    "*Ответ:* Так как в исходных данных пропуски встречались только в столбцах со стажем и параллельно им в столбце с уровнем дохода. Очевидней всего заемщик не хотел или не мог указать или подтвердить свой доход и рабочий статус "
   ]
  },
  {
   "cell_type": "markdown",
   "id": "7b0487d6",
   "metadata": {
    "id": "7b0487d6"
   },
   "source": [
    "**Почему заполнить пропуски медианным значением — лучшее решение для количественных переменных.**"
   ]
  },
  {
   "cell_type": "markdown",
   "id": "7ecf2b8e",
   "metadata": {
    "deletable": false,
    "id": "7ecf2b8e"
   },
   "source": [
    "*Ответ:* Так как медианное значение выдает середину ряда данных, которые отсортированные по возрастанию на две равные части и берет значение именно серидины этого ряда данных(если количество значений не четное) или среднее значение двух показателей посередине деленное на 2(для четного количества данных). \n",
    "<br>Тогда как если использовать среднее значение, то на него может повлиять вбросы данных, которые искозят искомое значение в какую либо сторону( на подобии анекдота: я ем капусту, а мой друг ест мясо, но в среднем мы оба едим голубцы)"
   ]
  },
  {
   "cell_type": "markdown",
   "id": "6db5255a",
   "metadata": {
    "deletable": false,
    "editable": false,
    "id": "6db5255a"
   },
   "source": [
    "## Общий вывод."
   ]
  },
  {
   "cell_type": "markdown",
   "id": "748d613d",
   "metadata": {},
   "source": [
    "- Проведя ряд вычислений мы увидели, что заём на крупные покупки и события чаще возвращают, чем на более мелкие.\n",
    "- Заемщики без детей реже просрочивают оплату оплату, чем больше детей, тем больше шанс просрочки платежа\n",
    "- Семейный статус тоже очень показателен для заемщика, так овдовевшие заемщики или разведенные чаще выплачивают заём, а люди в гражданском браке имеют больше шансов на проблемы с просрочкой, чем женатые люди. А самый большой процент не возврата у неженатых.\n",
    "- И конечно заемщики с более крупным доходом чаще выплачивают займ\n"
   ]
  }
 ],
 "metadata": {
  "ExecuteTimeLog": [
   {
    "duration": 465,
    "start_time": "2022-07-01T18:36:21.781Z"
   },
   {
    "duration": 22,
    "start_time": "2022-07-01T18:36:23.243Z"
   },
   {
    "duration": 14,
    "start_time": "2022-07-01T18:36:24.546Z"
   },
   {
    "duration": 9,
    "start_time": "2022-07-01T18:36:27.740Z"
   },
   {
    "duration": 30,
    "start_time": "2022-07-01T18:36:28.545Z"
   },
   {
    "duration": 4,
    "start_time": "2022-07-01T18:36:29.262Z"
   },
   {
    "duration": 9,
    "start_time": "2022-07-01T18:36:29.723Z"
   },
   {
    "duration": 5,
    "start_time": "2022-07-01T18:36:30.380Z"
   },
   {
    "duration": 7,
    "start_time": "2022-07-01T18:36:30.806Z"
   },
   {
    "duration": 5,
    "start_time": "2022-07-01T18:36:31.253Z"
   },
   {
    "duration": 33,
    "start_time": "2022-07-01T18:36:32.441Z"
   },
   {
    "duration": 9,
    "start_time": "2022-07-01T18:36:32.878Z"
   },
   {
    "duration": 4,
    "start_time": "2022-07-01T18:36:33.607Z"
   },
   {
    "duration": 18,
    "start_time": "2022-07-01T18:36:34.689Z"
   },
   {
    "duration": 20,
    "start_time": "2022-07-01T18:36:35.213Z"
   },
   {
    "duration": 11,
    "start_time": "2022-07-01T18:36:36.448Z"
   },
   {
    "duration": 4,
    "start_time": "2022-07-01T18:36:41.047Z"
   },
   {
    "duration": 10,
    "start_time": "2022-07-01T18:36:46.215Z"
   },
   {
    "duration": 6,
    "start_time": "2022-07-01T18:36:49.844Z"
   },
   {
    "duration": 4,
    "start_time": "2022-07-01T18:37:00.134Z"
   },
   {
    "duration": 10,
    "start_time": "2022-07-01T18:37:00.567Z"
   },
   {
    "duration": 3,
    "start_time": "2022-07-01T18:37:07.713Z"
   },
   {
    "duration": 21,
    "start_time": "2022-07-01T18:37:55.721Z"
   },
   {
    "duration": 20,
    "start_time": "2022-07-01T18:41:09.866Z"
   },
   {
    "duration": 44,
    "start_time": "2022-07-01T18:42:47.154Z"
   },
   {
    "duration": 5,
    "start_time": "2022-07-01T18:42:54.033Z"
   },
   {
    "duration": 6,
    "start_time": "2022-07-01T18:43:08.282Z"
   },
   {
    "duration": 753,
    "start_time": "2022-07-01T18:43:36.151Z"
   },
   {
    "duration": 5,
    "start_time": "2022-07-01T18:43:57.198Z"
   },
   {
    "duration": 19,
    "start_time": "2022-07-01T18:44:51.181Z"
   },
   {
    "duration": 7,
    "start_time": "2022-07-01T18:45:43.000Z"
   },
   {
    "duration": 8,
    "start_time": "2022-07-01T18:46:25.711Z"
   },
   {
    "duration": 7,
    "start_time": "2022-07-01T18:46:38.544Z"
   },
   {
    "duration": 9,
    "start_time": "2022-07-01T18:46:51.017Z"
   },
   {
    "duration": 5,
    "start_time": "2022-07-01T18:46:59.901Z"
   },
   {
    "duration": 6,
    "start_time": "2022-07-01T18:49:53.810Z"
   },
   {
    "duration": 6,
    "start_time": "2022-07-01T18:50:11.650Z"
   },
   {
    "duration": 4,
    "start_time": "2022-07-01T18:50:15.481Z"
   },
   {
    "duration": 5,
    "start_time": "2022-07-01T18:52:53.791Z"
   },
   {
    "duration": 8,
    "start_time": "2022-07-01T18:52:55.479Z"
   },
   {
    "duration": 6,
    "start_time": "2022-07-01T18:52:56.098Z"
   },
   {
    "duration": 10,
    "start_time": "2022-07-01T18:53:53.028Z"
   },
   {
    "duration": 7,
    "start_time": "2022-07-01T18:54:04.999Z"
   },
   {
    "duration": 5,
    "start_time": "2022-07-01T18:54:43.641Z"
   },
   {
    "duration": 4,
    "start_time": "2022-07-01T18:55:23.200Z"
   },
   {
    "duration": 6,
    "start_time": "2022-07-01T18:58:54.229Z"
   },
   {
    "duration": 4,
    "start_time": "2022-07-01T19:10:10.705Z"
   },
   {
    "duration": 7,
    "start_time": "2022-07-01T19:10:11.203Z"
   },
   {
    "duration": 4,
    "start_time": "2022-07-01T19:10:11.808Z"
   },
   {
    "duration": 47,
    "start_time": "2022-07-01T21:46:13.749Z"
   },
   {
    "duration": 515,
    "start_time": "2022-07-01T21:46:33.118Z"
   },
   {
    "duration": 22,
    "start_time": "2022-07-01T21:46:33.635Z"
   },
   {
    "duration": 14,
    "start_time": "2022-07-01T21:46:33.659Z"
   },
   {
    "duration": 9,
    "start_time": "2022-07-01T21:46:33.675Z"
   },
   {
    "duration": 50,
    "start_time": "2022-07-01T21:46:33.686Z"
   },
   {
    "duration": 3,
    "start_time": "2022-07-01T21:46:33.737Z"
   },
   {
    "duration": 13,
    "start_time": "2022-07-01T21:46:33.742Z"
   },
   {
    "duration": 4,
    "start_time": "2022-07-01T21:46:33.757Z"
   },
   {
    "duration": 7,
    "start_time": "2022-07-01T21:46:33.762Z"
   },
   {
    "duration": 10,
    "start_time": "2022-07-01T21:46:33.772Z"
   },
   {
    "duration": 45,
    "start_time": "2022-07-01T21:46:33.783Z"
   },
   {
    "duration": 9,
    "start_time": "2022-07-01T21:46:33.830Z"
   },
   {
    "duration": 9,
    "start_time": "2022-07-01T21:46:33.841Z"
   },
   {
    "duration": 21,
    "start_time": "2022-07-01T21:46:33.851Z"
   },
   {
    "duration": 16,
    "start_time": "2022-07-01T21:46:33.874Z"
   },
   {
    "duration": 36,
    "start_time": "2022-07-01T21:46:33.892Z"
   },
   {
    "duration": 4,
    "start_time": "2022-07-01T21:46:33.929Z"
   },
   {
    "duration": 14,
    "start_time": "2022-07-01T21:46:33.934Z"
   },
   {
    "duration": 7,
    "start_time": "2022-07-01T21:46:33.950Z"
   },
   {
    "duration": 4,
    "start_time": "2022-07-01T21:46:33.958Z"
   },
   {
    "duration": 14,
    "start_time": "2022-07-01T21:46:33.964Z"
   },
   {
    "duration": 4,
    "start_time": "2022-07-01T21:46:33.979Z"
   },
   {
    "duration": 6,
    "start_time": "2022-07-01T21:46:33.985Z"
   },
   {
    "duration": 8,
    "start_time": "2022-07-01T21:46:33.993Z"
   },
   {
    "duration": 83,
    "start_time": "2022-07-01T21:46:34.003Z"
   },
   {
    "duration": 0,
    "start_time": "2022-07-01T21:46:34.087Z"
   },
   {
    "duration": 0,
    "start_time": "2022-07-01T21:46:34.088Z"
   },
   {
    "duration": 0,
    "start_time": "2022-07-01T21:46:34.089Z"
   },
   {
    "duration": 0,
    "start_time": "2022-07-01T21:46:34.090Z"
   },
   {
    "duration": 7,
    "start_time": "2022-07-01T21:46:40.930Z"
   },
   {
    "duration": 7,
    "start_time": "2022-07-01T21:46:55.811Z"
   },
   {
    "duration": 3,
    "start_time": "2022-07-01T21:47:27.482Z"
   },
   {
    "duration": 7,
    "start_time": "2022-07-01T21:47:28.250Z"
   },
   {
    "duration": 5,
    "start_time": "2022-07-01T21:47:29.115Z"
   },
   {
    "duration": 7,
    "start_time": "2022-07-01T21:47:40.165Z"
   },
   {
    "duration": 4,
    "start_time": "2022-07-01T21:51:08.249Z"
   },
   {
    "duration": 8,
    "start_time": "2022-07-01T21:51:17.042Z"
   },
   {
    "duration": 4,
    "start_time": "2022-07-01T21:52:04.306Z"
   },
   {
    "duration": 7,
    "start_time": "2022-07-01T21:52:04.691Z"
   },
   {
    "duration": 3,
    "start_time": "2022-07-01T21:54:23.913Z"
   },
   {
    "duration": 6,
    "start_time": "2022-07-01T21:54:24.224Z"
   },
   {
    "duration": 3,
    "start_time": "2022-07-01T21:55:16.520Z"
   },
   {
    "duration": 3,
    "start_time": "2022-07-01T21:55:46.881Z"
   },
   {
    "duration": 3,
    "start_time": "2022-07-01T21:55:47.296Z"
   },
   {
    "duration": 7,
    "start_time": "2022-07-01T21:55:47.704Z"
   },
   {
    "duration": 4,
    "start_time": "2022-07-01T22:08:42.315Z"
   },
   {
    "duration": 4,
    "start_time": "2022-07-01T22:09:02.707Z"
   },
   {
    "duration": 5,
    "start_time": "2022-07-01T22:09:11.323Z"
   },
   {
    "duration": 3,
    "start_time": "2022-07-01T22:10:50.066Z"
   },
   {
    "duration": 3,
    "start_time": "2022-07-01T22:10:50.538Z"
   },
   {
    "duration": 4,
    "start_time": "2022-07-01T22:10:51.002Z"
   },
   {
    "duration": 3,
    "start_time": "2022-07-01T22:11:00.258Z"
   },
   {
    "duration": 3,
    "start_time": "2022-07-01T22:11:00.667Z"
   },
   {
    "duration": 5,
    "start_time": "2022-07-01T22:11:01.067Z"
   },
   {
    "duration": 23,
    "start_time": "2022-07-01T22:20:25.896Z"
   },
   {
    "duration": 6,
    "start_time": "2022-07-01T22:21:04.831Z"
   },
   {
    "duration": 9,
    "start_time": "2022-07-01T22:21:18.167Z"
   },
   {
    "duration": 9,
    "start_time": "2022-07-01T22:21:22.047Z"
   },
   {
    "duration": 5,
    "start_time": "2022-07-01T22:21:36.016Z"
   },
   {
    "duration": 4,
    "start_time": "2022-07-01T22:21:57.272Z"
   },
   {
    "duration": 6,
    "start_time": "2022-07-01T22:22:04.871Z"
   },
   {
    "duration": 7,
    "start_time": "2022-07-01T22:55:45.702Z"
   },
   {
    "duration": 5,
    "start_time": "2022-07-01T22:56:40.693Z"
   },
   {
    "duration": 6,
    "start_time": "2022-07-01T22:56:50.152Z"
   },
   {
    "duration": 5,
    "start_time": "2022-07-01T22:56:54.878Z"
   },
   {
    "duration": 9,
    "start_time": "2022-07-01T22:57:44.350Z"
   },
   {
    "duration": 5,
    "start_time": "2022-07-01T22:57:53.654Z"
   },
   {
    "duration": 5,
    "start_time": "2022-07-01T22:58:13.422Z"
   },
   {
    "duration": 4,
    "start_time": "2022-07-01T22:58:23.206Z"
   },
   {
    "duration": 5,
    "start_time": "2022-07-01T22:58:33.013Z"
   },
   {
    "duration": 5,
    "start_time": "2022-07-01T23:06:00.052Z"
   },
   {
    "duration": 5,
    "start_time": "2022-07-01T23:06:00.580Z"
   },
   {
    "duration": 5,
    "start_time": "2022-07-01T23:06:00.899Z"
   },
   {
    "duration": 6,
    "start_time": "2022-07-01T23:06:02.788Z"
   },
   {
    "duration": 5,
    "start_time": "2022-07-01T23:06:56.691Z"
   },
   {
    "duration": 3,
    "start_time": "2022-07-01T23:07:07.595Z"
   },
   {
    "duration": 2,
    "start_time": "2022-07-01T23:07:13.412Z"
   },
   {
    "duration": 3,
    "start_time": "2022-07-01T23:08:10.379Z"
   },
   {
    "duration": 7,
    "start_time": "2022-07-01T23:08:10.907Z"
   },
   {
    "duration": 4,
    "start_time": "2022-07-01T23:08:21.667Z"
   },
   {
    "duration": 5,
    "start_time": "2022-07-01T23:08:21.986Z"
   },
   {
    "duration": 4,
    "start_time": "2022-07-01T23:08:22.291Z"
   },
   {
    "duration": 4,
    "start_time": "2022-07-01T23:08:22.995Z"
   },
   {
    "duration": 2,
    "start_time": "2022-07-01T23:08:23.891Z"
   },
   {
    "duration": 7,
    "start_time": "2022-07-01T23:08:24.306Z"
   },
   {
    "duration": 7,
    "start_time": "2022-07-01T23:08:25.091Z"
   },
   {
    "duration": 5,
    "start_time": "2022-07-01T23:08:49.795Z"
   },
   {
    "duration": 5,
    "start_time": "2022-07-01T23:08:50.153Z"
   },
   {
    "duration": 2,
    "start_time": "2022-07-01T23:08:50.451Z"
   },
   {
    "duration": 7,
    "start_time": "2022-07-01T23:08:50.827Z"
   },
   {
    "duration": 7,
    "start_time": "2022-07-01T23:08:51.602Z"
   },
   {
    "duration": 5,
    "start_time": "2022-07-01T23:09:12.147Z"
   },
   {
    "duration": 5,
    "start_time": "2022-07-01T23:09:27.498Z"
   },
   {
    "duration": 6,
    "start_time": "2022-07-01T23:09:27.978Z"
   },
   {
    "duration": 4,
    "start_time": "2022-07-01T23:09:28.491Z"
   },
   {
    "duration": 4,
    "start_time": "2022-07-01T23:09:31.500Z"
   },
   {
    "duration": 3,
    "start_time": "2022-07-01T23:09:32.715Z"
   },
   {
    "duration": 464,
    "start_time": "2022-07-02T00:01:54.037Z"
   },
   {
    "duration": 23,
    "start_time": "2022-07-02T00:01:54.503Z"
   },
   {
    "duration": 15,
    "start_time": "2022-07-02T00:01:54.528Z"
   },
   {
    "duration": 11,
    "start_time": "2022-07-02T00:01:54.545Z"
   },
   {
    "duration": 45,
    "start_time": "2022-07-02T00:01:54.557Z"
   },
   {
    "duration": 4,
    "start_time": "2022-07-02T00:01:54.603Z"
   },
   {
    "duration": 8,
    "start_time": "2022-07-02T00:01:54.627Z"
   },
   {
    "duration": 4,
    "start_time": "2022-07-02T00:01:54.636Z"
   },
   {
    "duration": 8,
    "start_time": "2022-07-02T00:01:54.642Z"
   },
   {
    "duration": 5,
    "start_time": "2022-07-02T00:01:54.653Z"
   },
   {
    "duration": 37,
    "start_time": "2022-07-02T00:01:54.659Z"
   },
   {
    "duration": 33,
    "start_time": "2022-07-02T00:01:54.697Z"
   },
   {
    "duration": 3,
    "start_time": "2022-07-02T00:01:54.732Z"
   },
   {
    "duration": 20,
    "start_time": "2022-07-02T00:01:54.737Z"
   },
   {
    "duration": 17,
    "start_time": "2022-07-02T00:01:54.759Z"
   },
   {
    "duration": 11,
    "start_time": "2022-07-02T00:01:54.778Z"
   },
   {
    "duration": 36,
    "start_time": "2022-07-02T00:01:54.790Z"
   },
   {
    "duration": 33,
    "start_time": "2022-07-02T00:01:54.828Z"
   },
   {
    "duration": 12,
    "start_time": "2022-07-02T00:01:54.863Z"
   },
   {
    "duration": 14,
    "start_time": "2022-07-02T00:01:54.877Z"
   },
   {
    "duration": 16,
    "start_time": "2022-07-02T00:01:54.892Z"
   },
   {
    "duration": 9,
    "start_time": "2022-07-02T00:01:54.910Z"
   },
   {
    "duration": 7,
    "start_time": "2022-07-02T00:01:54.920Z"
   },
   {
    "duration": 10,
    "start_time": "2022-07-02T00:01:54.928Z"
   },
   {
    "duration": 5,
    "start_time": "2022-07-02T00:01:54.940Z"
   },
   {
    "duration": 6,
    "start_time": "2022-07-02T00:01:54.947Z"
   },
   {
    "duration": 12,
    "start_time": "2022-07-02T00:01:54.954Z"
   },
   {
    "duration": 6,
    "start_time": "2022-07-02T00:01:54.969Z"
   },
   {
    "duration": 6,
    "start_time": "2022-07-02T00:01:54.976Z"
   },
   {
    "duration": 5,
    "start_time": "2022-07-02T00:01:54.984Z"
   },
   {
    "duration": 5,
    "start_time": "2022-07-02T00:01:54.990Z"
   },
   {
    "duration": 82,
    "start_time": "2022-07-02T00:01:54.996Z"
   },
   {
    "duration": 0,
    "start_time": "2022-07-02T00:01:55.080Z"
   },
   {
    "duration": 0,
    "start_time": "2022-07-02T00:01:55.081Z"
   },
   {
    "duration": 0,
    "start_time": "2022-07-02T00:01:55.082Z"
   },
   {
    "duration": 0,
    "start_time": "2022-07-02T00:01:55.083Z"
   },
   {
    "duration": 0,
    "start_time": "2022-07-02T00:01:55.084Z"
   },
   {
    "duration": 5,
    "start_time": "2022-07-02T00:02:34.789Z"
   },
   {
    "duration": 5,
    "start_time": "2022-07-02T00:02:35.510Z"
   },
   {
    "duration": 2,
    "start_time": "2022-07-02T00:02:36.006Z"
   },
   {
    "duration": 7,
    "start_time": "2022-07-02T00:02:40.718Z"
   },
   {
    "duration": 5,
    "start_time": "2022-07-02T00:02:53.022Z"
   },
   {
    "duration": 3,
    "start_time": "2022-07-02T00:02:53.437Z"
   },
   {
    "duration": 6,
    "start_time": "2022-07-02T00:02:53.822Z"
   },
   {
    "duration": 4,
    "start_time": "2022-07-02T00:03:04.478Z"
   },
   {
    "duration": 2,
    "start_time": "2022-07-02T00:03:04.846Z"
   },
   {
    "duration": 7,
    "start_time": "2022-07-02T00:03:05.262Z"
   },
   {
    "duration": 2,
    "start_time": "2022-07-02T00:05:08.269Z"
   },
   {
    "duration": 5,
    "start_time": "2022-07-02T00:05:08.828Z"
   },
   {
    "duration": 4,
    "start_time": "2022-07-02T00:05:09.660Z"
   },
   {
    "duration": 6,
    "start_time": "2022-07-02T00:05:34.084Z"
   },
   {
    "duration": 3,
    "start_time": "2022-07-02T00:05:55.174Z"
   },
   {
    "duration": 5,
    "start_time": "2022-07-02T00:05:55.493Z"
   },
   {
    "duration": 7,
    "start_time": "2022-07-02T00:05:55.716Z"
   },
   {
    "duration": 4,
    "start_time": "2022-07-02T00:05:55.932Z"
   },
   {
    "duration": 3,
    "start_time": "2022-07-02T00:05:56.157Z"
   },
   {
    "duration": 5,
    "start_time": "2022-07-02T00:05:56.988Z"
   },
   {
    "duration": 20,
    "start_time": "2022-07-02T00:06:44.812Z"
   },
   {
    "duration": 9,
    "start_time": "2022-07-02T00:07:02.716Z"
   },
   {
    "duration": 17,
    "start_time": "2022-07-02T00:07:07.092Z"
   },
   {
    "duration": 20,
    "start_time": "2022-07-02T00:07:22.211Z"
   },
   {
    "duration": 6,
    "start_time": "2022-07-02T00:10:13.395Z"
   },
   {
    "duration": 6,
    "start_time": "2022-07-02T00:10:25.651Z"
   },
   {
    "duration": 5,
    "start_time": "2022-07-02T00:13:42.265Z"
   },
   {
    "duration": 3,
    "start_time": "2022-07-02T00:13:43.274Z"
   },
   {
    "duration": 5,
    "start_time": "2022-07-02T00:13:43.713Z"
   },
   {
    "duration": 6,
    "start_time": "2022-07-02T00:13:44.017Z"
   },
   {
    "duration": 3,
    "start_time": "2022-07-02T00:13:44.281Z"
   },
   {
    "duration": 3,
    "start_time": "2022-07-02T00:13:44.713Z"
   },
   {
    "duration": 6,
    "start_time": "2022-07-02T00:13:45.489Z"
   },
   {
    "duration": 3,
    "start_time": "2022-07-02T00:19:09.934Z"
   },
   {
    "duration": 8,
    "start_time": "2022-07-02T00:19:10.311Z"
   },
   {
    "duration": 4,
    "start_time": "2022-07-02T00:19:10.703Z"
   },
   {
    "duration": 6,
    "start_time": "2022-07-02T00:19:11.175Z"
   },
   {
    "duration": 10,
    "start_time": "2022-07-02T00:20:15.750Z"
   },
   {
    "duration": 3,
    "start_time": "2022-07-02T00:20:16.118Z"
   },
   {
    "duration": 54,
    "start_time": "2022-07-02T00:20:16.423Z"
   },
   {
    "duration": 7,
    "start_time": "2022-07-02T00:20:17.006Z"
   },
   {
    "duration": 8,
    "start_time": "2022-07-02T00:20:48.358Z"
   },
   {
    "duration": 3,
    "start_time": "2022-07-02T00:20:57.911Z"
   },
   {
    "duration": 9,
    "start_time": "2022-07-02T00:20:59.198Z"
   },
   {
    "duration": 3,
    "start_time": "2022-07-02T00:21:26.830Z"
   },
   {
    "duration": 3,
    "start_time": "2022-07-02T00:21:27.278Z"
   },
   {
    "duration": 7,
    "start_time": "2022-07-02T00:21:27.718Z"
   },
   {
    "duration": 3,
    "start_time": "2022-07-02T00:21:47.278Z"
   },
   {
    "duration": 9,
    "start_time": "2022-07-02T00:21:47.509Z"
   },
   {
    "duration": 4,
    "start_time": "2022-07-02T00:21:47.750Z"
   },
   {
    "duration": 4,
    "start_time": "2022-07-02T00:21:48.061Z"
   },
   {
    "duration": 7,
    "start_time": "2022-07-02T00:21:48.365Z"
   },
   {
    "duration": 3,
    "start_time": "2022-07-02T00:22:25.190Z"
   },
   {
    "duration": 4,
    "start_time": "2022-07-02T00:22:25.509Z"
   },
   {
    "duration": 7,
    "start_time": "2022-07-02T00:22:25.909Z"
   },
   {
    "duration": 5,
    "start_time": "2022-07-02T00:22:42.677Z"
   },
   {
    "duration": 7,
    "start_time": "2022-07-02T00:22:43.094Z"
   },
   {
    "duration": 7,
    "start_time": "2022-07-02T00:23:48.550Z"
   },
   {
    "duration": 8,
    "start_time": "2022-07-02T00:25:58.765Z"
   },
   {
    "duration": 7,
    "start_time": "2022-07-02T00:26:15.269Z"
   },
   {
    "duration": 8,
    "start_time": "2022-07-02T00:27:19.204Z"
   },
   {
    "duration": 7,
    "start_time": "2022-07-02T00:27:35.964Z"
   },
   {
    "duration": 9,
    "start_time": "2022-07-02T00:28:51.051Z"
   },
   {
    "duration": 8,
    "start_time": "2022-07-02T00:29:15.348Z"
   },
   {
    "duration": 46,
    "start_time": "2022-07-02T12:51:15.735Z"
   },
   {
    "duration": 637,
    "start_time": "2022-07-02T12:51:22.983Z"
   },
   {
    "duration": 20,
    "start_time": "2022-07-02T12:51:23.622Z"
   },
   {
    "duration": 13,
    "start_time": "2022-07-02T12:51:23.643Z"
   },
   {
    "duration": 8,
    "start_time": "2022-07-02T12:51:23.657Z"
   },
   {
    "duration": 31,
    "start_time": "2022-07-02T12:51:23.667Z"
   },
   {
    "duration": 26,
    "start_time": "2022-07-02T12:51:23.699Z"
   },
   {
    "duration": 6,
    "start_time": "2022-07-02T12:51:23.727Z"
   },
   {
    "duration": 3,
    "start_time": "2022-07-02T12:51:23.735Z"
   },
   {
    "duration": 8,
    "start_time": "2022-07-02T12:51:23.740Z"
   },
   {
    "duration": 4,
    "start_time": "2022-07-02T12:51:23.749Z"
   },
   {
    "duration": 30,
    "start_time": "2022-07-02T12:51:23.754Z"
   },
   {
    "duration": 9,
    "start_time": "2022-07-02T12:51:23.785Z"
   },
   {
    "duration": 3,
    "start_time": "2022-07-02T12:51:23.826Z"
   },
   {
    "duration": 18,
    "start_time": "2022-07-02T12:51:23.832Z"
   },
   {
    "duration": 16,
    "start_time": "2022-07-02T12:51:23.852Z"
   },
   {
    "duration": 10,
    "start_time": "2022-07-02T12:51:23.870Z"
   },
   {
    "duration": 5,
    "start_time": "2022-07-02T12:51:23.881Z"
   },
   {
    "duration": 39,
    "start_time": "2022-07-02T12:51:23.888Z"
   },
   {
    "duration": 6,
    "start_time": "2022-07-02T12:51:23.929Z"
   },
   {
    "duration": 4,
    "start_time": "2022-07-02T12:51:23.937Z"
   },
   {
    "duration": 15,
    "start_time": "2022-07-02T12:51:23.942Z"
   },
   {
    "duration": 13,
    "start_time": "2022-07-02T12:51:23.959Z"
   },
   {
    "duration": 7,
    "start_time": "2022-07-02T12:51:23.974Z"
   },
   {
    "duration": 7,
    "start_time": "2022-07-02T12:51:23.982Z"
   },
   {
    "duration": 4,
    "start_time": "2022-07-02T12:51:23.991Z"
   },
   {
    "duration": 7,
    "start_time": "2022-07-02T12:51:23.997Z"
   },
   {
    "duration": 26,
    "start_time": "2022-07-02T12:51:24.006Z"
   },
   {
    "duration": 7,
    "start_time": "2022-07-02T12:51:24.034Z"
   },
   {
    "duration": 3,
    "start_time": "2022-07-02T12:51:24.042Z"
   },
   {
    "duration": 10,
    "start_time": "2022-07-02T12:51:24.046Z"
   },
   {
    "duration": 3,
    "start_time": "2022-07-02T12:51:24.058Z"
   },
   {
    "duration": 8,
    "start_time": "2022-07-02T12:51:24.062Z"
   },
   {
    "duration": 11,
    "start_time": "2022-07-02T12:51:24.071Z"
   },
   {
    "duration": 4,
    "start_time": "2022-07-02T12:51:24.083Z"
   },
   {
    "duration": 5,
    "start_time": "2022-07-02T12:51:24.088Z"
   },
   {
    "duration": 73,
    "start_time": "2022-07-02T12:51:24.094Z"
   },
   {
    "duration": 907,
    "start_time": "2022-07-02T14:20:51.772Z"
   },
   {
    "duration": 21,
    "start_time": "2022-07-02T14:20:52.681Z"
   },
   {
    "duration": 12,
    "start_time": "2022-07-02T14:20:52.704Z"
   },
   {
    "duration": 8,
    "start_time": "2022-07-02T14:20:52.718Z"
   },
   {
    "duration": 31,
    "start_time": "2022-07-02T14:20:52.727Z"
   },
   {
    "duration": 3,
    "start_time": "2022-07-02T14:20:52.759Z"
   },
   {
    "duration": 10,
    "start_time": "2022-07-02T14:20:52.763Z"
   },
   {
    "duration": 4,
    "start_time": "2022-07-02T14:20:52.774Z"
   },
   {
    "duration": 9,
    "start_time": "2022-07-02T14:20:52.779Z"
   },
   {
    "duration": 4,
    "start_time": "2022-07-02T14:20:52.790Z"
   },
   {
    "duration": 53,
    "start_time": "2022-07-02T14:20:52.795Z"
   },
   {
    "duration": 8,
    "start_time": "2022-07-02T14:20:52.850Z"
   },
   {
    "duration": 5,
    "start_time": "2022-07-02T14:20:52.859Z"
   },
   {
    "duration": 18,
    "start_time": "2022-07-02T14:20:52.865Z"
   },
   {
    "duration": 14,
    "start_time": "2022-07-02T14:20:52.884Z"
   },
   {
    "duration": 10,
    "start_time": "2022-07-02T14:20:52.899Z"
   },
   {
    "duration": 6,
    "start_time": "2022-07-02T14:20:52.929Z"
   },
   {
    "duration": 11,
    "start_time": "2022-07-02T14:20:52.936Z"
   },
   {
    "duration": 5,
    "start_time": "2022-07-02T14:20:52.948Z"
   },
   {
    "duration": 4,
    "start_time": "2022-07-02T14:20:52.954Z"
   },
   {
    "duration": 11,
    "start_time": "2022-07-02T14:20:52.960Z"
   },
   {
    "duration": 4,
    "start_time": "2022-07-02T14:20:52.972Z"
   },
   {
    "duration": 4,
    "start_time": "2022-07-02T14:20:52.977Z"
   },
   {
    "duration": 8,
    "start_time": "2022-07-02T14:20:52.982Z"
   },
   {
    "duration": 6,
    "start_time": "2022-07-02T14:20:52.992Z"
   },
   {
    "duration": 30,
    "start_time": "2022-07-02T14:20:52.999Z"
   },
   {
    "duration": 7,
    "start_time": "2022-07-02T14:20:53.031Z"
   },
   {
    "duration": 6,
    "start_time": "2022-07-02T14:20:53.040Z"
   },
   {
    "duration": 3,
    "start_time": "2022-07-02T14:20:53.047Z"
   },
   {
    "duration": 9,
    "start_time": "2022-07-02T14:20:53.051Z"
   },
   {
    "duration": 3,
    "start_time": "2022-07-02T14:20:53.062Z"
   },
   {
    "duration": 7,
    "start_time": "2022-07-02T14:20:53.066Z"
   },
   {
    "duration": 11,
    "start_time": "2022-07-02T14:20:53.074Z"
   },
   {
    "duration": 4,
    "start_time": "2022-07-02T14:20:53.086Z"
   },
   {
    "duration": 4,
    "start_time": "2022-07-02T14:20:53.091Z"
   },
   {
    "duration": 135,
    "start_time": "2022-07-02T14:20:53.097Z"
   },
   {
    "duration": 20,
    "start_time": "2022-07-02T14:37:16.789Z"
   },
   {
    "duration": 6,
    "start_time": "2022-07-02T14:41:32.910Z"
   },
   {
    "duration": 3,
    "start_time": "2022-07-02T14:45:07.032Z"
   },
   {
    "duration": 8,
    "start_time": "2022-07-02T14:48:17.134Z"
   },
   {
    "duration": 7,
    "start_time": "2022-07-02T14:48:27.351Z"
   },
   {
    "duration": 7,
    "start_time": "2022-07-02T14:48:54.529Z"
   },
   {
    "duration": 4,
    "start_time": "2022-07-02T14:49:39.947Z"
   },
   {
    "duration": 3,
    "start_time": "2022-07-02T14:50:04.695Z"
   },
   {
    "duration": 4,
    "start_time": "2022-07-02T14:54:17.767Z"
   },
   {
    "duration": 7,
    "start_time": "2022-07-02T14:54:32.137Z"
   },
   {
    "duration": 3,
    "start_time": "2022-07-02T14:56:51.192Z"
   },
   {
    "duration": 9,
    "start_time": "2022-07-02T14:56:51.595Z"
   },
   {
    "duration": 4,
    "start_time": "2022-07-02T14:56:51.811Z"
   },
   {
    "duration": 4,
    "start_time": "2022-07-02T14:56:52.112Z"
   },
   {
    "duration": 8,
    "start_time": "2022-07-02T14:56:52.805Z"
   },
   {
    "duration": 7,
    "start_time": "2022-07-02T14:57:33.893Z"
   },
   {
    "duration": 3,
    "start_time": "2022-07-02T15:12:55.185Z"
   },
   {
    "duration": 10,
    "start_time": "2022-07-02T15:12:55.923Z"
   },
   {
    "duration": 8,
    "start_time": "2022-07-02T15:13:06.208Z"
   },
   {
    "duration": 8,
    "start_time": "2022-07-02T15:13:27.451Z"
   },
   {
    "duration": 7,
    "start_time": "2022-07-02T15:13:28.186Z"
   },
   {
    "duration": 3,
    "start_time": "2022-07-02T15:15:12.399Z"
   },
   {
    "duration": 9,
    "start_time": "2022-07-02T15:15:13.089Z"
   },
   {
    "duration": 3,
    "start_time": "2022-07-02T15:16:10.584Z"
   },
   {
    "duration": 3,
    "start_time": "2022-07-02T15:16:11.026Z"
   },
   {
    "duration": 9,
    "start_time": "2022-07-02T15:16:12.682Z"
   },
   {
    "duration": 8,
    "start_time": "2022-07-02T15:16:26.679Z"
   },
   {
    "duration": 8,
    "start_time": "2022-07-02T15:16:43.538Z"
   },
   {
    "duration": 3,
    "start_time": "2022-07-02T15:18:13.327Z"
   },
   {
    "duration": 3,
    "start_time": "2022-07-02T15:18:13.685Z"
   },
   {
    "duration": 76,
    "start_time": "2022-07-02T15:18:14.061Z"
   },
   {
    "duration": 5,
    "start_time": "2022-07-02T15:18:15.036Z"
   },
   {
    "duration": 16,
    "start_time": "2022-07-02T15:18:25.554Z"
   },
   {
    "duration": 9,
    "start_time": "2022-07-02T15:18:26.131Z"
   },
   {
    "duration": 462,
    "start_time": "2022-07-02T15:18:52.745Z"
   },
   {
    "duration": 22,
    "start_time": "2022-07-02T15:18:53.209Z"
   },
   {
    "duration": 14,
    "start_time": "2022-07-02T15:18:53.232Z"
   },
   {
    "duration": 8,
    "start_time": "2022-07-02T15:18:53.248Z"
   },
   {
    "duration": 34,
    "start_time": "2022-07-02T15:18:53.258Z"
   },
   {
    "duration": 3,
    "start_time": "2022-07-02T15:18:53.294Z"
   },
   {
    "duration": 10,
    "start_time": "2022-07-02T15:18:53.298Z"
   },
   {
    "duration": 27,
    "start_time": "2022-07-02T15:18:53.310Z"
   },
   {
    "duration": 8,
    "start_time": "2022-07-02T15:18:53.338Z"
   },
   {
    "duration": 6,
    "start_time": "2022-07-02T15:18:53.348Z"
   },
   {
    "duration": 32,
    "start_time": "2022-07-02T15:18:53.355Z"
   },
   {
    "duration": 8,
    "start_time": "2022-07-02T15:18:53.388Z"
   },
   {
    "duration": 5,
    "start_time": "2022-07-02T15:18:53.397Z"
   },
   {
    "duration": 32,
    "start_time": "2022-07-02T15:18:53.403Z"
   },
   {
    "duration": 14,
    "start_time": "2022-07-02T15:18:53.436Z"
   },
   {
    "duration": 10,
    "start_time": "2022-07-02T15:18:53.451Z"
   },
   {
    "duration": 4,
    "start_time": "2022-07-02T15:18:53.462Z"
   },
   {
    "duration": 10,
    "start_time": "2022-07-02T15:18:53.467Z"
   },
   {
    "duration": 5,
    "start_time": "2022-07-02T15:18:53.479Z"
   },
   {
    "duration": 3,
    "start_time": "2022-07-02T15:18:53.485Z"
   },
   {
    "duration": 13,
    "start_time": "2022-07-02T15:18:53.489Z"
   },
   {
    "duration": 29,
    "start_time": "2022-07-02T15:18:53.503Z"
   },
   {
    "duration": 6,
    "start_time": "2022-07-02T15:18:53.533Z"
   },
   {
    "duration": 8,
    "start_time": "2022-07-02T15:18:53.541Z"
   },
   {
    "duration": 11,
    "start_time": "2022-07-02T15:18:53.551Z"
   },
   {
    "duration": 10,
    "start_time": "2022-07-02T15:18:53.563Z"
   },
   {
    "duration": 10,
    "start_time": "2022-07-02T15:18:53.575Z"
   },
   {
    "duration": 8,
    "start_time": "2022-07-02T15:18:53.588Z"
   },
   {
    "duration": 3,
    "start_time": "2022-07-02T15:18:53.598Z"
   },
   {
    "duration": 34,
    "start_time": "2022-07-02T15:18:53.603Z"
   },
   {
    "duration": 4,
    "start_time": "2022-07-02T15:18:53.639Z"
   },
   {
    "duration": 8,
    "start_time": "2022-07-02T15:18:53.645Z"
   },
   {
    "duration": 15,
    "start_time": "2022-07-02T15:18:53.655Z"
   },
   {
    "duration": 5,
    "start_time": "2022-07-02T15:18:53.672Z"
   },
   {
    "duration": 7,
    "start_time": "2022-07-02T15:18:53.679Z"
   },
   {
    "duration": 24,
    "start_time": "2022-07-02T15:18:53.687Z"
   },
   {
    "duration": 23,
    "start_time": "2022-07-02T15:18:53.712Z"
   },
   {
    "duration": 9,
    "start_time": "2022-07-02T15:18:53.737Z"
   },
   {
    "duration": 9,
    "start_time": "2022-07-02T15:18:53.748Z"
   },
   {
    "duration": 4,
    "start_time": "2022-07-02T15:18:53.759Z"
   },
   {
    "duration": 17,
    "start_time": "2022-07-02T15:18:53.764Z"
   },
   {
    "duration": 3,
    "start_time": "2022-07-02T15:18:53.782Z"
   },
   {
    "duration": 10,
    "start_time": "2022-07-02T15:18:53.787Z"
   },
   {
    "duration": 37,
    "start_time": "2022-07-02T15:18:53.799Z"
   },
   {
    "duration": 4,
    "start_time": "2022-07-02T15:18:53.838Z"
   },
   {
    "duration": 9,
    "start_time": "2022-07-02T15:20:21.826Z"
   },
   {
    "duration": 8,
    "start_time": "2022-07-02T15:20:39.560Z"
   },
   {
    "duration": 10,
    "start_time": "2022-07-02T15:20:40.957Z"
   },
   {
    "duration": 8,
    "start_time": "2022-07-02T15:20:48.752Z"
   },
   {
    "duration": 10,
    "start_time": "2022-07-02T15:20:51.600Z"
   },
   {
    "duration": 4,
    "start_time": "2022-07-02T15:20:52.059Z"
   },
   {
    "duration": 10,
    "start_time": "2022-07-02T15:20:56.984Z"
   },
   {
    "duration": 0,
    "start_time": "2022-07-02T15:24:50.535Z"
   },
   {
    "duration": 0,
    "start_time": "2022-07-02T15:24:50.536Z"
   },
   {
    "duration": 0,
    "start_time": "2022-07-02T15:24:50.537Z"
   },
   {
    "duration": 0,
    "start_time": "2022-07-02T15:24:50.538Z"
   },
   {
    "duration": 0,
    "start_time": "2022-07-02T15:24:50.539Z"
   },
   {
    "duration": 0,
    "start_time": "2022-07-02T15:24:50.540Z"
   },
   {
    "duration": 0,
    "start_time": "2022-07-02T15:24:50.541Z"
   },
   {
    "duration": 0,
    "start_time": "2022-07-02T15:24:50.542Z"
   },
   {
    "duration": 0,
    "start_time": "2022-07-02T15:24:50.543Z"
   },
   {
    "duration": 0,
    "start_time": "2022-07-02T15:24:50.543Z"
   },
   {
    "duration": 0,
    "start_time": "2022-07-02T15:24:50.544Z"
   },
   {
    "duration": 0,
    "start_time": "2022-07-02T15:24:50.545Z"
   },
   {
    "duration": 0,
    "start_time": "2022-07-02T15:24:50.546Z"
   },
   {
    "duration": 0,
    "start_time": "2022-07-02T15:24:50.547Z"
   },
   {
    "duration": 0,
    "start_time": "2022-07-02T15:24:50.548Z"
   },
   {
    "duration": 0,
    "start_time": "2022-07-02T15:24:50.549Z"
   },
   {
    "duration": 1,
    "start_time": "2022-07-02T15:24:50.550Z"
   },
   {
    "duration": 0,
    "start_time": "2022-07-02T15:24:50.551Z"
   },
   {
    "duration": 0,
    "start_time": "2022-07-02T15:24:50.552Z"
   },
   {
    "duration": 0,
    "start_time": "2022-07-02T15:24:50.553Z"
   },
   {
    "duration": 0,
    "start_time": "2022-07-02T15:24:50.554Z"
   },
   {
    "duration": 0,
    "start_time": "2022-07-02T15:24:50.555Z"
   },
   {
    "duration": 0,
    "start_time": "2022-07-02T15:24:50.556Z"
   },
   {
    "duration": 0,
    "start_time": "2022-07-02T15:24:50.557Z"
   },
   {
    "duration": 0,
    "start_time": "2022-07-02T15:24:50.558Z"
   },
   {
    "duration": 0,
    "start_time": "2022-07-02T15:24:50.559Z"
   },
   {
    "duration": 0,
    "start_time": "2022-07-02T15:24:50.560Z"
   },
   {
    "duration": 0,
    "start_time": "2022-07-02T15:24:50.561Z"
   },
   {
    "duration": 0,
    "start_time": "2022-07-02T15:24:50.561Z"
   },
   {
    "duration": 0,
    "start_time": "2022-07-02T15:24:50.562Z"
   },
   {
    "duration": 0,
    "start_time": "2022-07-02T15:24:50.563Z"
   },
   {
    "duration": 0,
    "start_time": "2022-07-02T15:24:50.564Z"
   },
   {
    "duration": 0,
    "start_time": "2022-07-02T15:24:50.565Z"
   },
   {
    "duration": 0,
    "start_time": "2022-07-02T15:24:50.566Z"
   },
   {
    "duration": 0,
    "start_time": "2022-07-02T15:24:50.567Z"
   },
   {
    "duration": 0,
    "start_time": "2022-07-02T15:24:50.568Z"
   },
   {
    "duration": 0,
    "start_time": "2022-07-02T15:24:50.629Z"
   },
   {
    "duration": 0,
    "start_time": "2022-07-02T15:24:50.630Z"
   },
   {
    "duration": 0,
    "start_time": "2022-07-02T15:24:50.631Z"
   },
   {
    "duration": 414,
    "start_time": "2022-07-02T15:24:59.464Z"
   },
   {
    "duration": 21,
    "start_time": "2022-07-02T15:24:59.880Z"
   },
   {
    "duration": 17,
    "start_time": "2022-07-02T15:24:59.903Z"
   },
   {
    "duration": 11,
    "start_time": "2022-07-02T15:24:59.934Z"
   },
   {
    "duration": 34,
    "start_time": "2022-07-02T15:24:59.946Z"
   },
   {
    "duration": 3,
    "start_time": "2022-07-02T15:24:59.981Z"
   },
   {
    "duration": 9,
    "start_time": "2022-07-02T15:24:59.986Z"
   },
   {
    "duration": 4,
    "start_time": "2022-07-02T15:24:59.996Z"
   },
   {
    "duration": 8,
    "start_time": "2022-07-02T15:25:00.001Z"
   },
   {
    "duration": 5,
    "start_time": "2022-07-02T15:25:00.028Z"
   },
   {
    "duration": 33,
    "start_time": "2022-07-02T15:25:00.035Z"
   },
   {
    "duration": 8,
    "start_time": "2022-07-02T15:25:00.070Z"
   },
   {
    "duration": 21,
    "start_time": "2022-07-02T15:25:00.080Z"
   },
   {
    "duration": 22,
    "start_time": "2022-07-02T15:25:00.103Z"
   },
   {
    "duration": 14,
    "start_time": "2022-07-02T15:25:00.129Z"
   },
   {
    "duration": 9,
    "start_time": "2022-07-02T15:25:00.145Z"
   },
   {
    "duration": 11,
    "start_time": "2022-07-02T15:25:00.155Z"
   },
   {
    "duration": 16,
    "start_time": "2022-07-02T15:25:00.167Z"
   },
   {
    "duration": 19,
    "start_time": "2022-07-02T15:25:00.185Z"
   },
   {
    "duration": 11,
    "start_time": "2022-07-02T15:25:00.205Z"
   },
   {
    "duration": 21,
    "start_time": "2022-07-02T15:25:00.218Z"
   },
   {
    "duration": 16,
    "start_time": "2022-07-02T15:25:00.241Z"
   },
   {
    "duration": 15,
    "start_time": "2022-07-02T15:25:00.260Z"
   },
   {
    "duration": 24,
    "start_time": "2022-07-02T15:25:00.277Z"
   },
   {
    "duration": 18,
    "start_time": "2022-07-02T15:25:00.302Z"
   },
   {
    "duration": 14,
    "start_time": "2022-07-02T15:25:00.322Z"
   },
   {
    "duration": 25,
    "start_time": "2022-07-02T15:25:00.337Z"
   },
   {
    "duration": 9,
    "start_time": "2022-07-02T15:25:00.365Z"
   },
   {
    "duration": 22,
    "start_time": "2022-07-02T15:25:00.376Z"
   },
   {
    "duration": 18,
    "start_time": "2022-07-02T15:25:00.400Z"
   },
   {
    "duration": 25,
    "start_time": "2022-07-02T15:25:00.420Z"
   },
   {
    "duration": 9,
    "start_time": "2022-07-02T15:25:00.447Z"
   },
   {
    "duration": 32,
    "start_time": "2022-07-02T15:25:00.458Z"
   },
   {
    "duration": 22,
    "start_time": "2022-07-02T15:25:00.491Z"
   },
   {
    "duration": 71,
    "start_time": "2022-07-02T15:25:00.515Z"
   },
   {
    "duration": 0,
    "start_time": "2022-07-02T15:25:00.588Z"
   },
   {
    "duration": 0,
    "start_time": "2022-07-02T15:25:00.590Z"
   },
   {
    "duration": 0,
    "start_time": "2022-07-02T15:25:00.591Z"
   },
   {
    "duration": 0,
    "start_time": "2022-07-02T15:25:00.592Z"
   },
   {
    "duration": 7,
    "start_time": "2022-07-02T15:25:23.114Z"
   },
   {
    "duration": 4,
    "start_time": "2022-07-02T15:25:24.794Z"
   },
   {
    "duration": 4,
    "start_time": "2022-07-02T15:25:25.204Z"
   },
   {
    "duration": 8,
    "start_time": "2022-07-02T15:25:26.619Z"
   },
   {
    "duration": 462,
    "start_time": "2022-07-02T15:34:23.421Z"
   },
   {
    "duration": 21,
    "start_time": "2022-07-02T15:34:23.885Z"
   },
   {
    "duration": 13,
    "start_time": "2022-07-02T15:34:23.908Z"
   },
   {
    "duration": 8,
    "start_time": "2022-07-02T15:34:23.924Z"
   },
   {
    "duration": 33,
    "start_time": "2022-07-02T15:34:23.933Z"
   },
   {
    "duration": 4,
    "start_time": "2022-07-02T15:34:23.968Z"
   },
   {
    "duration": 14,
    "start_time": "2022-07-02T15:34:23.975Z"
   },
   {
    "duration": 4,
    "start_time": "2022-07-02T15:34:23.991Z"
   },
   {
    "duration": 33,
    "start_time": "2022-07-02T15:34:23.996Z"
   },
   {
    "duration": 4,
    "start_time": "2022-07-02T15:34:24.033Z"
   },
   {
    "duration": 43,
    "start_time": "2022-07-02T15:34:24.039Z"
   },
   {
    "duration": 8,
    "start_time": "2022-07-02T15:34:24.084Z"
   },
   {
    "duration": 17,
    "start_time": "2022-07-02T15:34:24.094Z"
   },
   {
    "duration": 35,
    "start_time": "2022-07-02T15:34:24.112Z"
   },
   {
    "duration": 15,
    "start_time": "2022-07-02T15:34:24.148Z"
   },
   {
    "duration": 29,
    "start_time": "2022-07-02T15:34:24.165Z"
   },
   {
    "duration": 21,
    "start_time": "2022-07-02T15:34:24.196Z"
   },
   {
    "duration": 44,
    "start_time": "2022-07-02T15:34:24.219Z"
   },
   {
    "duration": 22,
    "start_time": "2022-07-02T15:34:24.265Z"
   },
   {
    "duration": 15,
    "start_time": "2022-07-02T15:34:24.289Z"
   },
   {
    "duration": 22,
    "start_time": "2022-07-02T15:34:24.305Z"
   },
   {
    "duration": 13,
    "start_time": "2022-07-02T15:34:24.328Z"
   },
   {
    "duration": 16,
    "start_time": "2022-07-02T15:34:24.342Z"
   },
   {
    "duration": 27,
    "start_time": "2022-07-02T15:34:24.360Z"
   },
   {
    "duration": 23,
    "start_time": "2022-07-02T15:34:24.388Z"
   },
   {
    "duration": 13,
    "start_time": "2022-07-02T15:34:24.412Z"
   },
   {
    "duration": 24,
    "start_time": "2022-07-02T15:34:24.426Z"
   },
   {
    "duration": 19,
    "start_time": "2022-07-02T15:34:24.453Z"
   },
   {
    "duration": 4,
    "start_time": "2022-07-02T15:34:24.473Z"
   },
   {
    "duration": 28,
    "start_time": "2022-07-02T15:34:24.478Z"
   },
   {
    "duration": 11,
    "start_time": "2022-07-02T15:34:24.507Z"
   },
   {
    "duration": 23,
    "start_time": "2022-07-02T15:34:24.519Z"
   },
   {
    "duration": 23,
    "start_time": "2022-07-02T15:34:24.543Z"
   },
   {
    "duration": 22,
    "start_time": "2022-07-02T15:34:24.567Z"
   },
   {
    "duration": 13,
    "start_time": "2022-07-02T15:34:24.590Z"
   },
   {
    "duration": 9,
    "start_time": "2022-07-02T15:34:24.604Z"
   },
   {
    "duration": 20,
    "start_time": "2022-07-02T15:34:24.615Z"
   },
   {
    "duration": 19,
    "start_time": "2022-07-02T15:34:24.637Z"
   },
   {
    "duration": 11,
    "start_time": "2022-07-02T15:34:24.658Z"
   },
   {
    "duration": 38,
    "start_time": "2022-07-02T15:34:24.670Z"
   },
   {
    "duration": 0,
    "start_time": "2022-07-02T15:34:24.710Z"
   },
   {
    "duration": 543,
    "start_time": "2022-07-02T16:48:35.535Z"
   },
   {
    "duration": 23,
    "start_time": "2022-07-02T16:48:36.080Z"
   },
   {
    "duration": 20,
    "start_time": "2022-07-02T16:48:36.105Z"
   },
   {
    "duration": 27,
    "start_time": "2022-07-02T16:48:36.128Z"
   },
   {
    "duration": 48,
    "start_time": "2022-07-02T16:48:36.159Z"
   },
   {
    "duration": 4,
    "start_time": "2022-07-02T16:48:36.209Z"
   },
   {
    "duration": 12,
    "start_time": "2022-07-02T16:48:36.215Z"
   },
   {
    "duration": 27,
    "start_time": "2022-07-02T16:48:36.229Z"
   },
   {
    "duration": 14,
    "start_time": "2022-07-02T16:48:36.258Z"
   },
   {
    "duration": 5,
    "start_time": "2022-07-02T16:48:36.276Z"
   },
   {
    "duration": 31,
    "start_time": "2022-07-02T16:48:36.283Z"
   },
   {
    "duration": 10,
    "start_time": "2022-07-02T16:48:36.315Z"
   },
   {
    "duration": 3,
    "start_time": "2022-07-02T16:48:36.327Z"
   },
   {
    "duration": 23,
    "start_time": "2022-07-02T16:48:36.352Z"
   },
   {
    "duration": 16,
    "start_time": "2022-07-02T16:48:36.377Z"
   },
   {
    "duration": 11,
    "start_time": "2022-07-02T16:48:36.394Z"
   },
   {
    "duration": 6,
    "start_time": "2022-07-02T16:48:36.406Z"
   },
   {
    "duration": 11,
    "start_time": "2022-07-02T16:48:36.414Z"
   },
   {
    "duration": 18,
    "start_time": "2022-07-02T16:48:36.451Z"
   },
   {
    "duration": 4,
    "start_time": "2022-07-02T16:48:36.471Z"
   },
   {
    "duration": 13,
    "start_time": "2022-07-02T16:48:36.476Z"
   },
   {
    "duration": 5,
    "start_time": "2022-07-02T16:48:36.490Z"
   },
   {
    "duration": 5,
    "start_time": "2022-07-02T16:48:36.496Z"
   },
   {
    "duration": 8,
    "start_time": "2022-07-02T16:48:36.502Z"
   },
   {
    "duration": 4,
    "start_time": "2022-07-02T16:48:36.511Z"
   },
   {
    "duration": 6,
    "start_time": "2022-07-02T16:48:36.517Z"
   },
   {
    "duration": 33,
    "start_time": "2022-07-02T16:48:36.525Z"
   },
   {
    "duration": 13,
    "start_time": "2022-07-02T16:48:36.567Z"
   },
   {
    "duration": 5,
    "start_time": "2022-07-02T16:48:36.581Z"
   },
   {
    "duration": 9,
    "start_time": "2022-07-02T16:48:36.588Z"
   },
   {
    "duration": 5,
    "start_time": "2022-07-02T16:48:36.599Z"
   },
   {
    "duration": 6,
    "start_time": "2022-07-02T16:48:36.606Z"
   },
   {
    "duration": 10,
    "start_time": "2022-07-02T16:48:36.613Z"
   },
   {
    "duration": 4,
    "start_time": "2022-07-02T16:48:36.624Z"
   },
   {
    "duration": 31,
    "start_time": "2022-07-02T16:48:36.630Z"
   },
   {
    "duration": 7,
    "start_time": "2022-07-02T16:48:36.662Z"
   },
   {
    "duration": 6,
    "start_time": "2022-07-02T16:48:36.671Z"
   },
   {
    "duration": 13,
    "start_time": "2022-07-02T16:48:36.679Z"
   },
   {
    "duration": 4,
    "start_time": "2022-07-02T16:48:36.694Z"
   },
   {
    "duration": 79,
    "start_time": "2022-07-02T16:48:36.700Z"
   },
   {
    "duration": 0,
    "start_time": "2022-07-02T16:48:36.781Z"
   },
   {
    "duration": 8,
    "start_time": "2022-07-02T16:49:40.932Z"
   },
   {
    "duration": 20,
    "start_time": "2022-07-02T16:49:47.813Z"
   },
   {
    "duration": 13,
    "start_time": "2022-07-02T16:50:38.017Z"
   },
   {
    "duration": 10,
    "start_time": "2022-07-02T16:50:47.941Z"
   },
   {
    "duration": 21,
    "start_time": "2022-07-02T16:50:54.138Z"
   },
   {
    "duration": 3,
    "start_time": "2022-07-02T16:52:46.680Z"
   },
   {
    "duration": 8,
    "start_time": "2022-07-02T16:52:47.288Z"
   },
   {
    "duration": 19,
    "start_time": "2022-07-02T16:52:47.844Z"
   },
   {
    "duration": 3,
    "start_time": "2022-07-02T16:57:03.666Z"
   },
   {
    "duration": 781,
    "start_time": "2022-07-02T16:58:07.747Z"
   },
   {
    "duration": 469,
    "start_time": "2022-07-02T16:58:25.855Z"
   },
   {
    "duration": 20,
    "start_time": "2022-07-02T16:58:26.326Z"
   },
   {
    "duration": 15,
    "start_time": "2022-07-02T16:58:26.348Z"
   },
   {
    "duration": 9,
    "start_time": "2022-07-02T16:58:26.365Z"
   },
   {
    "duration": 32,
    "start_time": "2022-07-02T16:58:26.376Z"
   },
   {
    "duration": 4,
    "start_time": "2022-07-02T16:58:26.409Z"
   },
   {
    "duration": 9,
    "start_time": "2022-07-02T16:58:26.414Z"
   },
   {
    "duration": 28,
    "start_time": "2022-07-02T16:58:26.425Z"
   },
   {
    "duration": 13,
    "start_time": "2022-07-02T16:58:26.455Z"
   },
   {
    "duration": 12,
    "start_time": "2022-07-02T16:58:26.472Z"
   },
   {
    "duration": 35,
    "start_time": "2022-07-02T16:58:26.485Z"
   },
   {
    "duration": 9,
    "start_time": "2022-07-02T16:58:26.521Z"
   },
   {
    "duration": 5,
    "start_time": "2022-07-02T16:58:26.532Z"
   },
   {
    "duration": 20,
    "start_time": "2022-07-02T16:58:26.550Z"
   },
   {
    "duration": 18,
    "start_time": "2022-07-02T16:58:26.571Z"
   },
   {
    "duration": 11,
    "start_time": "2022-07-02T16:58:26.590Z"
   },
   {
    "duration": 5,
    "start_time": "2022-07-02T16:58:26.603Z"
   },
   {
    "duration": 12,
    "start_time": "2022-07-02T16:58:26.610Z"
   },
   {
    "duration": 6,
    "start_time": "2022-07-02T16:58:26.650Z"
   },
   {
    "duration": 4,
    "start_time": "2022-07-02T16:58:26.657Z"
   },
   {
    "duration": 10,
    "start_time": "2022-07-02T16:58:26.662Z"
   },
   {
    "duration": 5,
    "start_time": "2022-07-02T16:58:26.674Z"
   },
   {
    "duration": 4,
    "start_time": "2022-07-02T16:58:26.681Z"
   },
   {
    "duration": 7,
    "start_time": "2022-07-02T16:58:26.686Z"
   },
   {
    "duration": 4,
    "start_time": "2022-07-02T16:58:26.694Z"
   },
   {
    "duration": 10,
    "start_time": "2022-07-02T16:58:26.700Z"
   },
   {
    "duration": 44,
    "start_time": "2022-07-02T16:58:26.711Z"
   },
   {
    "duration": 6,
    "start_time": "2022-07-02T16:58:26.758Z"
   },
   {
    "duration": 3,
    "start_time": "2022-07-02T16:58:26.765Z"
   },
   {
    "duration": 10,
    "start_time": "2022-07-02T16:58:26.770Z"
   },
   {
    "duration": 5,
    "start_time": "2022-07-02T16:58:26.781Z"
   },
   {
    "duration": 5,
    "start_time": "2022-07-02T16:58:26.787Z"
   },
   {
    "duration": 14,
    "start_time": "2022-07-02T16:58:26.793Z"
   },
   {
    "duration": 6,
    "start_time": "2022-07-02T16:58:26.808Z"
   },
   {
    "duration": 36,
    "start_time": "2022-07-02T16:58:26.815Z"
   },
   {
    "duration": 4,
    "start_time": "2022-07-02T16:58:26.853Z"
   },
   {
    "duration": 8,
    "start_time": "2022-07-02T16:58:26.858Z"
   },
   {
    "duration": 11,
    "start_time": "2022-07-02T16:58:26.867Z"
   },
   {
    "duration": 5,
    "start_time": "2022-07-02T16:58:26.879Z"
   },
   {
    "duration": 9,
    "start_time": "2022-07-02T16:58:26.885Z"
   },
   {
    "duration": 5,
    "start_time": "2022-07-02T16:58:26.896Z"
   },
   {
    "duration": 9,
    "start_time": "2022-07-02T16:58:26.903Z"
   },
   {
    "duration": 3,
    "start_time": "2022-07-02T16:58:26.914Z"
   },
   {
    "duration": 6,
    "start_time": "2022-07-02T16:58:26.919Z"
   },
   {
    "duration": 26,
    "start_time": "2022-07-02T16:58:26.926Z"
   },
   {
    "duration": 5,
    "start_time": "2022-07-02T16:58:26.954Z"
   },
   {
    "duration": 3,
    "start_time": "2022-07-02T17:01:49.991Z"
   },
   {
    "duration": 7,
    "start_time": "2022-07-02T17:01:50.417Z"
   },
   {
    "duration": 3,
    "start_time": "2022-07-02T17:01:51.320Z"
   },
   {
    "duration": 7,
    "start_time": "2022-07-02T17:01:51.707Z"
   },
   {
    "duration": 3,
    "start_time": "2022-07-02T17:01:52.088Z"
   },
   {
    "duration": 4,
    "start_time": "2022-07-02T17:01:53.029Z"
   },
   {
    "duration": 8,
    "start_time": "2022-07-02T17:01:53.641Z"
   },
   {
    "duration": 4,
    "start_time": "2022-07-02T17:02:43.866Z"
   },
   {
    "duration": 7,
    "start_time": "2022-07-02T17:02:44.345Z"
   },
   {
    "duration": 4,
    "start_time": "2022-07-02T17:02:45.723Z"
   },
   {
    "duration": 8,
    "start_time": "2022-07-02T17:02:46.436Z"
   },
   {
    "duration": 3,
    "start_time": "2022-07-02T17:02:46.858Z"
   },
   {
    "duration": 4,
    "start_time": "2022-07-02T17:02:47.298Z"
   },
   {
    "duration": 9,
    "start_time": "2022-07-02T17:02:47.894Z"
   },
   {
    "duration": 4,
    "start_time": "2022-07-02T17:08:10.747Z"
   },
   {
    "duration": 7,
    "start_time": "2022-07-02T17:08:11.323Z"
   },
   {
    "duration": 3,
    "start_time": "2022-07-02T17:08:11.791Z"
   },
   {
    "duration": 8,
    "start_time": "2022-07-02T17:08:11.996Z"
   },
   {
    "duration": 3,
    "start_time": "2022-07-02T17:08:12.282Z"
   },
   {
    "duration": 3,
    "start_time": "2022-07-02T17:08:12.585Z"
   },
   {
    "duration": 7,
    "start_time": "2022-07-02T17:08:13.124Z"
   },
   {
    "duration": 3,
    "start_time": "2022-07-02T17:08:22.006Z"
   },
   {
    "duration": 7,
    "start_time": "2022-07-02T17:08:22.484Z"
   },
   {
    "duration": 2,
    "start_time": "2022-07-02T17:08:23.084Z"
   },
   {
    "duration": 8,
    "start_time": "2022-07-02T17:08:23.297Z"
   },
   {
    "duration": 4,
    "start_time": "2022-07-02T17:08:23.493Z"
   },
   {
    "duration": 3,
    "start_time": "2022-07-02T17:08:23.667Z"
   },
   {
    "duration": 7,
    "start_time": "2022-07-02T17:08:23.863Z"
   },
   {
    "duration": 437,
    "start_time": "2022-07-02T17:08:37.273Z"
   },
   {
    "duration": 19,
    "start_time": "2022-07-02T17:08:37.712Z"
   },
   {
    "duration": 15,
    "start_time": "2022-07-02T17:08:37.733Z"
   },
   {
    "duration": 7,
    "start_time": "2022-07-02T17:08:37.750Z"
   },
   {
    "duration": 28,
    "start_time": "2022-07-02T17:08:37.759Z"
   },
   {
    "duration": 3,
    "start_time": "2022-07-02T17:08:37.789Z"
   },
   {
    "duration": 10,
    "start_time": "2022-07-02T17:08:37.793Z"
   },
   {
    "duration": 4,
    "start_time": "2022-07-02T17:08:37.804Z"
   },
   {
    "duration": 11,
    "start_time": "2022-07-02T17:08:37.809Z"
   },
   {
    "duration": 4,
    "start_time": "2022-07-02T17:08:37.822Z"
   },
   {
    "duration": 51,
    "start_time": "2022-07-02T17:08:37.827Z"
   },
   {
    "duration": 8,
    "start_time": "2022-07-02T17:08:37.880Z"
   },
   {
    "duration": 4,
    "start_time": "2022-07-02T17:08:37.889Z"
   },
   {
    "duration": 17,
    "start_time": "2022-07-02T17:08:37.895Z"
   },
   {
    "duration": 36,
    "start_time": "2022-07-02T17:08:37.914Z"
   },
   {
    "duration": 10,
    "start_time": "2022-07-02T17:08:37.952Z"
   },
   {
    "duration": 7,
    "start_time": "2022-07-02T17:08:37.963Z"
   },
   {
    "duration": 12,
    "start_time": "2022-07-02T17:08:37.971Z"
   },
   {
    "duration": 4,
    "start_time": "2022-07-02T17:08:37.985Z"
   },
   {
    "duration": 4,
    "start_time": "2022-07-02T17:08:37.991Z"
   },
   {
    "duration": 10,
    "start_time": "2022-07-02T17:08:37.996Z"
   },
   {
    "duration": 4,
    "start_time": "2022-07-02T17:08:38.007Z"
   },
   {
    "duration": 11,
    "start_time": "2022-07-02T17:08:38.013Z"
   },
   {
    "duration": 8,
    "start_time": "2022-07-02T17:08:38.026Z"
   },
   {
    "duration": 4,
    "start_time": "2022-07-02T17:08:38.050Z"
   },
   {
    "duration": 8,
    "start_time": "2022-07-02T17:08:38.057Z"
   },
   {
    "duration": 11,
    "start_time": "2022-07-02T17:08:38.066Z"
   },
   {
    "duration": 6,
    "start_time": "2022-07-02T17:08:38.080Z"
   },
   {
    "duration": 5,
    "start_time": "2022-07-02T17:08:38.087Z"
   },
   {
    "duration": 10,
    "start_time": "2022-07-02T17:08:38.093Z"
   },
   {
    "duration": 4,
    "start_time": "2022-07-02T17:08:38.104Z"
   },
   {
    "duration": 5,
    "start_time": "2022-07-02T17:08:38.109Z"
   },
   {
    "duration": 9,
    "start_time": "2022-07-02T17:08:38.115Z"
   },
   {
    "duration": 25,
    "start_time": "2022-07-02T17:08:38.126Z"
   },
   {
    "duration": 8,
    "start_time": "2022-07-02T17:08:38.152Z"
   },
   {
    "duration": 5,
    "start_time": "2022-07-02T17:08:38.161Z"
   },
   {
    "duration": 6,
    "start_time": "2022-07-02T17:08:38.167Z"
   },
   {
    "duration": 12,
    "start_time": "2022-07-02T17:08:38.174Z"
   },
   {
    "duration": 4,
    "start_time": "2022-07-02T17:08:38.187Z"
   },
   {
    "duration": 8,
    "start_time": "2022-07-02T17:08:38.192Z"
   },
   {
    "duration": 3,
    "start_time": "2022-07-02T17:08:38.202Z"
   },
   {
    "duration": 9,
    "start_time": "2022-07-02T17:08:38.206Z"
   },
   {
    "duration": 37,
    "start_time": "2022-07-02T17:08:38.216Z"
   },
   {
    "duration": 6,
    "start_time": "2022-07-02T17:08:38.254Z"
   },
   {
    "duration": 11,
    "start_time": "2022-07-02T17:08:38.262Z"
   },
   {
    "duration": 4,
    "start_time": "2022-07-02T17:08:38.274Z"
   },
   {
    "duration": 2,
    "start_time": "2022-07-02T17:09:37.985Z"
   },
   {
    "duration": 7,
    "start_time": "2022-07-02T17:09:38.534Z"
   },
   {
    "duration": 3,
    "start_time": "2022-07-02T17:09:39.061Z"
   },
   {
    "duration": 8,
    "start_time": "2022-07-02T17:09:39.282Z"
   },
   {
    "duration": 4,
    "start_time": "2022-07-02T17:09:39.520Z"
   },
   {
    "duration": 4,
    "start_time": "2022-07-02T17:09:39.752Z"
   },
   {
    "duration": 10,
    "start_time": "2022-07-02T17:09:40.133Z"
   },
   {
    "duration": 5,
    "start_time": "2022-07-02T17:10:12.354Z"
   },
   {
    "duration": 8,
    "start_time": "2022-07-02T17:10:12.663Z"
   },
   {
    "duration": 3,
    "start_time": "2022-07-02T17:10:13.218Z"
   },
   {
    "duration": 8,
    "start_time": "2022-07-02T17:10:13.617Z"
   },
   {
    "duration": 4,
    "start_time": "2022-07-02T17:10:14.250Z"
   },
   {
    "duration": 3,
    "start_time": "2022-07-02T17:10:14.648Z"
   },
   {
    "duration": 7,
    "start_time": "2022-07-02T17:10:15.082Z"
   },
   {
    "duration": 3,
    "start_time": "2022-07-02T17:14:52.499Z"
   },
   {
    "duration": 8,
    "start_time": "2022-07-02T17:14:53.015Z"
   },
   {
    "duration": 3,
    "start_time": "2022-07-02T17:14:53.789Z"
   },
   {
    "duration": 7,
    "start_time": "2022-07-02T17:14:54.055Z"
   },
   {
    "duration": 5,
    "start_time": "2022-07-02T17:14:54.391Z"
   },
   {
    "duration": 4,
    "start_time": "2022-07-02T17:14:55.281Z"
   },
   {
    "duration": 7,
    "start_time": "2022-07-02T17:14:55.698Z"
   },
   {
    "duration": 3,
    "start_time": "2022-07-02T17:15:11.769Z"
   },
   {
    "duration": 6,
    "start_time": "2022-07-02T17:15:12.177Z"
   },
   {
    "duration": 3,
    "start_time": "2022-07-02T17:15:12.646Z"
   },
   {
    "duration": 7,
    "start_time": "2022-07-02T17:15:12.865Z"
   },
   {
    "duration": 4,
    "start_time": "2022-07-02T17:15:13.125Z"
   },
   {
    "duration": 5,
    "start_time": "2022-07-02T17:15:13.341Z"
   },
   {
    "duration": 9,
    "start_time": "2022-07-02T17:15:13.637Z"
   },
   {
    "duration": 3,
    "start_time": "2022-07-02T17:15:25.799Z"
   },
   {
    "duration": 7,
    "start_time": "2022-07-02T17:15:26.117Z"
   },
   {
    "duration": 2,
    "start_time": "2022-07-02T17:15:26.530Z"
   },
   {
    "duration": 7,
    "start_time": "2022-07-02T17:15:26.735Z"
   },
   {
    "duration": 4,
    "start_time": "2022-07-02T17:15:26.982Z"
   },
   {
    "duration": 4,
    "start_time": "2022-07-02T17:15:27.217Z"
   },
   {
    "duration": 8,
    "start_time": "2022-07-02T17:15:27.712Z"
   },
   {
    "duration": 3,
    "start_time": "2022-07-02T17:18:49.090Z"
   },
   {
    "duration": 8,
    "start_time": "2022-07-02T17:18:49.514Z"
   },
   {
    "duration": 3,
    "start_time": "2022-07-02T17:18:50.814Z"
   },
   {
    "duration": 8,
    "start_time": "2022-07-02T17:18:51.214Z"
   },
   {
    "duration": 4,
    "start_time": "2022-07-02T17:18:51.551Z"
   },
   {
    "duration": 4,
    "start_time": "2022-07-02T17:18:52.265Z"
   },
   {
    "duration": 7,
    "start_time": "2022-07-02T17:18:52.702Z"
   },
   {
    "duration": 20,
    "start_time": "2022-07-02T17:21:27.893Z"
   },
   {
    "duration": 3,
    "start_time": "2022-07-02T17:25:00.745Z"
   },
   {
    "duration": 7,
    "start_time": "2022-07-02T17:26:18.318Z"
   },
   {
    "duration": 423,
    "start_time": "2022-07-02T17:29:04.916Z"
   },
   {
    "duration": 20,
    "start_time": "2022-07-02T17:29:05.341Z"
   },
   {
    "duration": 13,
    "start_time": "2022-07-02T17:29:05.362Z"
   },
   {
    "duration": 8,
    "start_time": "2022-07-02T17:29:05.376Z"
   },
   {
    "duration": 30,
    "start_time": "2022-07-02T17:29:05.385Z"
   },
   {
    "duration": 3,
    "start_time": "2022-07-02T17:29:05.416Z"
   },
   {
    "duration": 34,
    "start_time": "2022-07-02T17:29:05.421Z"
   },
   {
    "duration": 4,
    "start_time": "2022-07-02T17:29:05.456Z"
   },
   {
    "duration": 8,
    "start_time": "2022-07-02T17:29:05.461Z"
   },
   {
    "duration": 3,
    "start_time": "2022-07-02T17:29:05.473Z"
   },
   {
    "duration": 43,
    "start_time": "2022-07-02T17:29:05.477Z"
   },
   {
    "duration": 8,
    "start_time": "2022-07-02T17:29:05.521Z"
   },
   {
    "duration": 21,
    "start_time": "2022-07-02T17:29:05.530Z"
   },
   {
    "duration": 22,
    "start_time": "2022-07-02T17:29:05.553Z"
   },
   {
    "duration": 15,
    "start_time": "2022-07-02T17:29:05.576Z"
   },
   {
    "duration": 10,
    "start_time": "2022-07-02T17:29:05.593Z"
   },
   {
    "duration": 9,
    "start_time": "2022-07-02T17:29:05.604Z"
   },
   {
    "duration": 11,
    "start_time": "2022-07-02T17:29:05.614Z"
   },
   {
    "duration": 24,
    "start_time": "2022-07-02T17:29:05.626Z"
   },
   {
    "duration": 4,
    "start_time": "2022-07-02T17:29:05.652Z"
   },
   {
    "duration": 12,
    "start_time": "2022-07-02T17:29:05.658Z"
   },
   {
    "duration": 4,
    "start_time": "2022-07-02T17:29:05.672Z"
   },
   {
    "duration": 3,
    "start_time": "2022-07-02T17:29:05.678Z"
   },
   {
    "duration": 6,
    "start_time": "2022-07-02T17:29:05.683Z"
   },
   {
    "duration": 5,
    "start_time": "2022-07-02T17:29:05.691Z"
   },
   {
    "duration": 5,
    "start_time": "2022-07-02T17:29:05.697Z"
   },
   {
    "duration": 11,
    "start_time": "2022-07-02T17:29:05.704Z"
   },
   {
    "duration": 32,
    "start_time": "2022-07-02T17:29:05.719Z"
   },
   {
    "duration": 3,
    "start_time": "2022-07-02T17:29:05.753Z"
   },
   {
    "duration": 14,
    "start_time": "2022-07-02T17:29:05.758Z"
   },
   {
    "duration": 8,
    "start_time": "2022-07-02T17:29:05.773Z"
   },
   {
    "duration": 6,
    "start_time": "2022-07-02T17:29:05.782Z"
   },
   {
    "duration": 10,
    "start_time": "2022-07-02T17:29:05.789Z"
   },
   {
    "duration": 4,
    "start_time": "2022-07-02T17:29:05.801Z"
   },
   {
    "duration": 8,
    "start_time": "2022-07-02T17:29:05.807Z"
   },
   {
    "duration": 8,
    "start_time": "2022-07-02T17:29:05.816Z"
   },
   {
    "duration": 6,
    "start_time": "2022-07-02T17:29:05.826Z"
   },
   {
    "duration": 22,
    "start_time": "2022-07-02T17:29:05.833Z"
   },
   {
    "duration": 5,
    "start_time": "2022-07-02T17:29:05.856Z"
   },
   {
    "duration": 11,
    "start_time": "2022-07-02T17:29:05.862Z"
   },
   {
    "duration": 3,
    "start_time": "2022-07-02T17:29:05.875Z"
   },
   {
    "duration": 10,
    "start_time": "2022-07-02T17:29:05.879Z"
   },
   {
    "duration": 4,
    "start_time": "2022-07-02T17:29:05.891Z"
   },
   {
    "duration": 6,
    "start_time": "2022-07-02T17:29:05.897Z"
   },
   {
    "duration": 10,
    "start_time": "2022-07-02T17:29:05.904Z"
   },
   {
    "duration": 4,
    "start_time": "2022-07-02T17:29:05.915Z"
   },
   {
    "duration": 12,
    "start_time": "2022-07-02T17:29:05.921Z"
   },
   {
    "duration": 18,
    "start_time": "2022-07-02T17:29:05.934Z"
   },
   {
    "duration": 7,
    "start_time": "2022-07-02T17:29:05.953Z"
   },
   {
    "duration": 11,
    "start_time": "2022-07-02T17:29:05.961Z"
   },
   {
    "duration": 6,
    "start_time": "2022-07-02T17:30:25.325Z"
   },
   {
    "duration": 6,
    "start_time": "2022-07-02T17:30:49.520Z"
   },
   {
    "duration": 447,
    "start_time": "2022-07-02T17:30:56.289Z"
   },
   {
    "duration": 20,
    "start_time": "2022-07-02T17:30:56.737Z"
   },
   {
    "duration": 13,
    "start_time": "2022-07-02T17:30:56.758Z"
   },
   {
    "duration": 7,
    "start_time": "2022-07-02T17:30:56.773Z"
   },
   {
    "duration": 27,
    "start_time": "2022-07-02T17:30:56.782Z"
   },
   {
    "duration": 3,
    "start_time": "2022-07-02T17:30:56.811Z"
   },
   {
    "duration": 9,
    "start_time": "2022-07-02T17:30:56.815Z"
   },
   {
    "duration": 3,
    "start_time": "2022-07-02T17:30:56.851Z"
   },
   {
    "duration": 9,
    "start_time": "2022-07-02T17:30:56.856Z"
   },
   {
    "duration": 3,
    "start_time": "2022-07-02T17:30:56.867Z"
   },
   {
    "duration": 30,
    "start_time": "2022-07-02T17:30:56.871Z"
   },
   {
    "duration": 8,
    "start_time": "2022-07-02T17:30:56.902Z"
   },
   {
    "duration": 4,
    "start_time": "2022-07-02T17:30:56.911Z"
   },
   {
    "duration": 42,
    "start_time": "2022-07-02T17:30:56.916Z"
   },
   {
    "duration": 15,
    "start_time": "2022-07-02T17:30:56.959Z"
   },
   {
    "duration": 10,
    "start_time": "2022-07-02T17:30:56.975Z"
   },
   {
    "duration": 4,
    "start_time": "2022-07-02T17:30:56.986Z"
   },
   {
    "duration": 10,
    "start_time": "2022-07-02T17:30:56.991Z"
   },
   {
    "duration": 4,
    "start_time": "2022-07-02T17:30:57.003Z"
   },
   {
    "duration": 3,
    "start_time": "2022-07-02T17:30:57.009Z"
   },
   {
    "duration": 12,
    "start_time": "2022-07-02T17:30:57.013Z"
   },
   {
    "duration": 26,
    "start_time": "2022-07-02T17:30:57.026Z"
   },
   {
    "duration": 8,
    "start_time": "2022-07-02T17:30:57.053Z"
   },
   {
    "duration": 13,
    "start_time": "2022-07-02T17:30:57.062Z"
   },
   {
    "duration": 7,
    "start_time": "2022-07-02T17:30:57.077Z"
   },
   {
    "duration": 5,
    "start_time": "2022-07-02T17:30:57.085Z"
   },
   {
    "duration": 9,
    "start_time": "2022-07-02T17:30:57.091Z"
   },
   {
    "duration": 4,
    "start_time": "2022-07-02T17:30:57.103Z"
   },
   {
    "duration": 2,
    "start_time": "2022-07-02T17:30:57.109Z"
   },
   {
    "duration": 9,
    "start_time": "2022-07-02T17:30:57.112Z"
   },
   {
    "duration": 3,
    "start_time": "2022-07-02T17:30:57.123Z"
   },
   {
    "duration": 24,
    "start_time": "2022-07-02T17:30:57.127Z"
   },
   {
    "duration": 7,
    "start_time": "2022-07-02T17:30:57.152Z"
   },
   {
    "duration": 4,
    "start_time": "2022-07-02T17:30:57.160Z"
   },
   {
    "duration": 9,
    "start_time": "2022-07-02T17:30:57.166Z"
   },
   {
    "duration": 4,
    "start_time": "2022-07-02T17:30:57.176Z"
   },
   {
    "duration": 5,
    "start_time": "2022-07-02T17:30:57.181Z"
   },
   {
    "duration": 8,
    "start_time": "2022-07-02T17:30:57.188Z"
   },
   {
    "duration": 4,
    "start_time": "2022-07-02T17:30:57.197Z"
   },
   {
    "duration": 11,
    "start_time": "2022-07-02T17:30:57.202Z"
   },
   {
    "duration": 7,
    "start_time": "2022-07-02T17:30:57.215Z"
   },
   {
    "duration": 28,
    "start_time": "2022-07-02T17:30:57.223Z"
   },
   {
    "duration": 3,
    "start_time": "2022-07-02T17:30:57.253Z"
   },
   {
    "duration": 6,
    "start_time": "2022-07-02T17:30:57.258Z"
   },
   {
    "duration": 14,
    "start_time": "2022-07-02T17:30:57.265Z"
   },
   {
    "duration": 11,
    "start_time": "2022-07-02T17:30:57.280Z"
   },
   {
    "duration": 10,
    "start_time": "2022-07-02T17:30:57.293Z"
   },
   {
    "duration": 3,
    "start_time": "2022-07-02T17:30:57.305Z"
   },
   {
    "duration": 7,
    "start_time": "2022-07-02T17:30:57.309Z"
   },
   {
    "duration": 4,
    "start_time": "2022-07-02T17:30:57.317Z"
   },
   {
    "duration": 8,
    "start_time": "2022-07-02T17:30:57.322Z"
   },
   {
    "duration": 494,
    "start_time": "2022-07-02T17:31:24.147Z"
   },
   {
    "duration": 20,
    "start_time": "2022-07-02T17:31:24.642Z"
   },
   {
    "duration": 14,
    "start_time": "2022-07-02T17:31:24.663Z"
   },
   {
    "duration": 8,
    "start_time": "2022-07-02T17:31:24.679Z"
   },
   {
    "duration": 30,
    "start_time": "2022-07-02T17:31:24.689Z"
   },
   {
    "duration": 3,
    "start_time": "2022-07-02T17:31:24.720Z"
   },
   {
    "duration": 28,
    "start_time": "2022-07-02T17:31:24.725Z"
   },
   {
    "duration": 6,
    "start_time": "2022-07-02T17:31:24.754Z"
   },
   {
    "duration": 9,
    "start_time": "2022-07-02T17:31:24.761Z"
   },
   {
    "duration": 4,
    "start_time": "2022-07-02T17:31:24.773Z"
   },
   {
    "duration": 30,
    "start_time": "2022-07-02T17:31:24.778Z"
   },
   {
    "duration": 9,
    "start_time": "2022-07-02T17:31:24.809Z"
   },
   {
    "duration": 32,
    "start_time": "2022-07-02T17:31:24.820Z"
   },
   {
    "duration": 17,
    "start_time": "2022-07-02T17:31:24.854Z"
   },
   {
    "duration": 15,
    "start_time": "2022-07-02T17:31:24.873Z"
   },
   {
    "duration": 11,
    "start_time": "2022-07-02T17:31:24.889Z"
   },
   {
    "duration": 5,
    "start_time": "2022-07-02T17:31:24.901Z"
   },
   {
    "duration": 12,
    "start_time": "2022-07-02T17:31:24.907Z"
   },
   {
    "duration": 33,
    "start_time": "2022-07-02T17:31:24.921Z"
   },
   {
    "duration": 3,
    "start_time": "2022-07-02T17:31:24.955Z"
   },
   {
    "duration": 10,
    "start_time": "2022-07-02T17:31:24.960Z"
   },
   {
    "duration": 6,
    "start_time": "2022-07-02T17:31:24.971Z"
   },
   {
    "duration": 4,
    "start_time": "2022-07-02T17:31:24.979Z"
   },
   {
    "duration": 9,
    "start_time": "2022-07-02T17:31:24.984Z"
   },
   {
    "duration": 4,
    "start_time": "2022-07-02T17:31:24.994Z"
   },
   {
    "duration": 5,
    "start_time": "2022-07-02T17:31:24.999Z"
   },
   {
    "duration": 9,
    "start_time": "2022-07-02T17:31:25.005Z"
   },
   {
    "duration": 4,
    "start_time": "2022-07-02T17:31:25.018Z"
   },
   {
    "duration": 28,
    "start_time": "2022-07-02T17:31:25.024Z"
   },
   {
    "duration": 13,
    "start_time": "2022-07-02T17:31:25.053Z"
   },
   {
    "duration": 5,
    "start_time": "2022-07-02T17:31:25.067Z"
   },
   {
    "duration": 6,
    "start_time": "2022-07-02T17:31:25.073Z"
   },
   {
    "duration": 10,
    "start_time": "2022-07-02T17:31:25.080Z"
   },
   {
    "duration": 6,
    "start_time": "2022-07-02T17:31:25.091Z"
   },
   {
    "duration": 8,
    "start_time": "2022-07-02T17:31:25.099Z"
   },
   {
    "duration": 4,
    "start_time": "2022-07-02T17:31:25.108Z"
   },
   {
    "duration": 5,
    "start_time": "2022-07-02T17:31:25.113Z"
   },
   {
    "duration": 9,
    "start_time": "2022-07-02T17:31:25.120Z"
   },
   {
    "duration": 21,
    "start_time": "2022-07-02T17:31:25.130Z"
   },
   {
    "duration": 9,
    "start_time": "2022-07-02T17:31:25.153Z"
   },
   {
    "duration": 3,
    "start_time": "2022-07-02T17:31:25.163Z"
   },
   {
    "duration": 12,
    "start_time": "2022-07-02T17:31:25.167Z"
   },
   {
    "duration": 3,
    "start_time": "2022-07-02T17:31:25.181Z"
   },
   {
    "duration": 8,
    "start_time": "2022-07-02T17:31:25.185Z"
   },
   {
    "duration": 10,
    "start_time": "2022-07-02T17:31:25.194Z"
   },
   {
    "duration": 20,
    "start_time": "2022-07-02T17:31:25.205Z"
   },
   {
    "duration": 3,
    "start_time": "2022-07-02T17:31:25.226Z"
   },
   {
    "duration": 9,
    "start_time": "2022-07-02T17:31:25.250Z"
   },
   {
    "duration": 3,
    "start_time": "2022-07-02T17:31:25.260Z"
   },
   {
    "duration": 7,
    "start_time": "2022-07-02T17:31:25.264Z"
   },
   {
    "duration": 5,
    "start_time": "2022-07-02T17:31:25.272Z"
   },
   {
    "duration": 9,
    "start_time": "2022-07-02T17:31:25.278Z"
   },
   {
    "duration": 458,
    "start_time": "2022-07-02T17:32:17.734Z"
   },
   {
    "duration": 20,
    "start_time": "2022-07-02T17:32:18.505Z"
   },
   {
    "duration": 15,
    "start_time": "2022-07-02T17:32:18.594Z"
   },
   {
    "duration": 9,
    "start_time": "2022-07-02T17:32:18.767Z"
   },
   {
    "duration": 31,
    "start_time": "2022-07-02T17:32:18.851Z"
   },
   {
    "duration": 4,
    "start_time": "2022-07-02T17:32:18.982Z"
   },
   {
    "duration": 8,
    "start_time": "2022-07-02T17:32:19.072Z"
   },
   {
    "duration": 4,
    "start_time": "2022-07-02T17:32:19.199Z"
   },
   {
    "duration": 6,
    "start_time": "2022-07-02T17:32:19.418Z"
   },
   {
    "duration": 4,
    "start_time": "2022-07-02T17:32:19.827Z"
   },
   {
    "duration": 29,
    "start_time": "2022-07-02T17:32:20.317Z"
   },
   {
    "duration": 8,
    "start_time": "2022-07-02T17:32:20.611Z"
   },
   {
    "duration": 5,
    "start_time": "2022-07-02T17:32:21.368Z"
   },
   {
    "duration": 17,
    "start_time": "2022-07-02T17:32:22.032Z"
   },
   {
    "duration": 15,
    "start_time": "2022-07-02T17:32:22.245Z"
   },
   {
    "duration": 11,
    "start_time": "2022-07-02T17:32:22.749Z"
   },
   {
    "duration": 3,
    "start_time": "2022-07-02T17:32:23.349Z"
   },
   {
    "duration": 8,
    "start_time": "2022-07-02T17:32:23.636Z"
   },
   {
    "duration": 5,
    "start_time": "2022-07-02T17:32:24.292Z"
   },
   {
    "duration": 3,
    "start_time": "2022-07-02T17:32:24.840Z"
   },
   {
    "duration": 7,
    "start_time": "2022-07-02T17:32:25.366Z"
   },
   {
    "duration": 4,
    "start_time": "2022-07-02T17:32:26.558Z"
   },
   {
    "duration": 3,
    "start_time": "2022-07-02T17:32:27.944Z"
   },
   {
    "duration": 5,
    "start_time": "2022-07-02T17:32:28.185Z"
   },
   {
    "duration": 5,
    "start_time": "2022-07-02T17:32:28.473Z"
   },
   {
    "duration": 4,
    "start_time": "2022-07-02T17:32:28.761Z"
   },
   {
    "duration": 10,
    "start_time": "2022-07-02T17:32:30.056Z"
   },
   {
    "duration": 6,
    "start_time": "2022-07-02T17:32:34.830Z"
   },
   {
    "duration": 3,
    "start_time": "2022-07-02T17:32:38.061Z"
   },
   {
    "duration": 8,
    "start_time": "2022-07-02T17:32:38.391Z"
   },
   {
    "duration": 4,
    "start_time": "2022-07-02T17:32:39.143Z"
   },
   {
    "duration": 3,
    "start_time": "2022-07-02T17:32:40.428Z"
   },
   {
    "duration": 9,
    "start_time": "2022-07-02T17:32:44.000Z"
   },
   {
    "duration": 3,
    "start_time": "2022-07-02T17:32:48.780Z"
   },
   {
    "duration": 9,
    "start_time": "2022-07-02T17:32:48.953Z"
   },
   {
    "duration": 4,
    "start_time": "2022-07-02T17:32:49.124Z"
   },
   {
    "duration": 4,
    "start_time": "2022-07-02T17:32:49.291Z"
   },
   {
    "duration": 8,
    "start_time": "2022-07-02T17:32:49.689Z"
   },
   {
    "duration": 3,
    "start_time": "2022-07-02T17:32:51.868Z"
   },
   {
    "duration": 8,
    "start_time": "2022-07-02T17:32:52.055Z"
   },
   {
    "duration": 3,
    "start_time": "2022-07-02T17:32:52.378Z"
   },
   {
    "duration": 9,
    "start_time": "2022-07-02T17:32:52.544Z"
   },
   {
    "duration": 4,
    "start_time": "2022-07-02T17:32:52.902Z"
   },
   {
    "duration": 6,
    "start_time": "2022-07-02T17:32:54.384Z"
   },
   {
    "duration": 9,
    "start_time": "2022-07-02T17:32:54.659Z"
   },
   {
    "duration": 20,
    "start_time": "2022-07-02T17:32:57.868Z"
   },
   {
    "duration": 3,
    "start_time": "2022-07-02T17:33:06.783Z"
   },
   {
    "duration": 11,
    "start_time": "2022-07-02T17:33:12.898Z"
   },
   {
    "duration": 3,
    "start_time": "2022-07-02T17:33:14.880Z"
   },
   {
    "duration": 6,
    "start_time": "2022-07-02T17:33:15.968Z"
   },
   {
    "duration": 3,
    "start_time": "2022-07-02T17:34:12.058Z"
   },
   {
    "duration": 8,
    "start_time": "2022-07-02T17:34:12.462Z"
   },
   {
    "duration": 4,
    "start_time": "2022-07-02T17:34:12.792Z"
   },
   {
    "duration": 5,
    "start_time": "2022-07-02T17:34:13.232Z"
   },
   {
    "duration": 2,
    "start_time": "2022-07-02T17:34:31.043Z"
   },
   {
    "duration": 9,
    "start_time": "2022-07-02T17:34:31.339Z"
   },
   {
    "duration": 4,
    "start_time": "2022-07-02T17:34:31.555Z"
   },
   {
    "duration": 7,
    "start_time": "2022-07-02T17:34:31.858Z"
   },
   {
    "duration": 8,
    "start_time": "2022-07-02T17:34:39.686Z"
   },
   {
    "duration": 3,
    "start_time": "2022-07-02T17:34:40.050Z"
   },
   {
    "duration": 6,
    "start_time": "2022-07-02T17:34:40.315Z"
   },
   {
    "duration": 3,
    "start_time": "2022-07-02T17:35:07.446Z"
   },
   {
    "duration": 8,
    "start_time": "2022-07-02T17:35:07.791Z"
   },
   {
    "duration": 55,
    "start_time": "2022-07-02T17:35:07.992Z"
   },
   {
    "duration": 4,
    "start_time": "2022-07-02T17:35:08.631Z"
   },
   {
    "duration": 4,
    "start_time": "2022-07-02T17:35:54.480Z"
   },
   {
    "duration": 9,
    "start_time": "2022-07-02T17:35:54.697Z"
   },
   {
    "duration": 4,
    "start_time": "2022-07-02T17:35:55.067Z"
   },
   {
    "duration": 5,
    "start_time": "2022-07-02T17:35:56.080Z"
   },
   {
    "duration": 8,
    "start_time": "2022-07-02T17:36:04.465Z"
   },
   {
    "duration": 3,
    "start_time": "2022-07-02T17:36:25.603Z"
   },
   {
    "duration": 6,
    "start_time": "2022-07-02T17:36:26.012Z"
   },
   {
    "duration": 3,
    "start_time": "2022-07-02T17:36:38.119Z"
   },
   {
    "duration": 3,
    "start_time": "2022-07-02T17:36:38.604Z"
   },
   {
    "duration": 9,
    "start_time": "2022-07-02T17:36:42.021Z"
   },
   {
    "duration": 3,
    "start_time": "2022-07-02T17:38:13.213Z"
   },
   {
    "duration": 7,
    "start_time": "2022-07-02T17:38:13.816Z"
   },
   {
    "duration": 426,
    "start_time": "2022-07-02T18:15:18.069Z"
   },
   {
    "duration": 20,
    "start_time": "2022-07-02T18:15:18.497Z"
   },
   {
    "duration": 13,
    "start_time": "2022-07-02T18:15:18.518Z"
   },
   {
    "duration": 18,
    "start_time": "2022-07-02T18:15:18.533Z"
   },
   {
    "duration": 31,
    "start_time": "2022-07-02T18:15:18.553Z"
   },
   {
    "duration": 4,
    "start_time": "2022-07-02T18:15:18.585Z"
   },
   {
    "duration": 15,
    "start_time": "2022-07-02T18:15:18.591Z"
   },
   {
    "duration": 4,
    "start_time": "2022-07-02T18:15:18.608Z"
   },
   {
    "duration": 12,
    "start_time": "2022-07-02T18:15:18.614Z"
   },
   {
    "duration": 24,
    "start_time": "2022-07-02T18:15:18.629Z"
   },
   {
    "duration": 30,
    "start_time": "2022-07-02T18:15:18.655Z"
   },
   {
    "duration": 8,
    "start_time": "2022-07-02T18:15:18.687Z"
   },
   {
    "duration": 3,
    "start_time": "2022-07-02T18:15:18.696Z"
   },
   {
    "duration": 18,
    "start_time": "2022-07-02T18:15:18.701Z"
   },
   {
    "duration": 41,
    "start_time": "2022-07-02T18:15:18.720Z"
   },
   {
    "duration": 10,
    "start_time": "2022-07-02T18:15:18.762Z"
   },
   {
    "duration": 4,
    "start_time": "2022-07-02T18:15:18.774Z"
   },
   {
    "duration": 10,
    "start_time": "2022-07-02T18:15:18.780Z"
   },
   {
    "duration": 5,
    "start_time": "2022-07-02T18:15:18.791Z"
   },
   {
    "duration": 3,
    "start_time": "2022-07-02T18:15:18.797Z"
   },
   {
    "duration": 9,
    "start_time": "2022-07-02T18:15:18.801Z"
   },
   {
    "duration": 4,
    "start_time": "2022-07-02T18:15:18.811Z"
   },
   {
    "duration": 5,
    "start_time": "2022-07-02T18:15:18.816Z"
   },
   {
    "duration": 29,
    "start_time": "2022-07-02T18:15:18.823Z"
   },
   {
    "duration": 3,
    "start_time": "2022-07-02T18:15:18.854Z"
   },
   {
    "duration": 6,
    "start_time": "2022-07-02T18:15:18.859Z"
   },
   {
    "duration": 9,
    "start_time": "2022-07-02T18:15:18.866Z"
   },
   {
    "duration": 5,
    "start_time": "2022-07-02T18:15:18.878Z"
   },
   {
    "duration": 3,
    "start_time": "2022-07-02T18:15:18.884Z"
   },
   {
    "duration": 9,
    "start_time": "2022-07-02T18:15:18.888Z"
   },
   {
    "duration": 3,
    "start_time": "2022-07-02T18:15:18.898Z"
   },
   {
    "duration": 6,
    "start_time": "2022-07-02T18:15:18.902Z"
   },
   {
    "duration": 9,
    "start_time": "2022-07-02T18:15:18.909Z"
   },
   {
    "duration": 3,
    "start_time": "2022-07-02T18:15:18.950Z"
   },
   {
    "duration": 9,
    "start_time": "2022-07-02T18:15:18.954Z"
   },
   {
    "duration": 4,
    "start_time": "2022-07-02T18:15:18.964Z"
   },
   {
    "duration": 5,
    "start_time": "2022-07-02T18:15:18.969Z"
   },
   {
    "duration": 9,
    "start_time": "2022-07-02T18:15:18.975Z"
   },
   {
    "duration": 3,
    "start_time": "2022-07-02T18:15:18.986Z"
   },
   {
    "duration": 8,
    "start_time": "2022-07-02T18:15:18.991Z"
   },
   {
    "duration": 2,
    "start_time": "2022-07-02T18:15:19.001Z"
   },
   {
    "duration": 9,
    "start_time": "2022-07-02T18:15:19.004Z"
   },
   {
    "duration": 3,
    "start_time": "2022-07-02T18:15:19.014Z"
   },
   {
    "duration": 33,
    "start_time": "2022-07-02T18:15:19.018Z"
   },
   {
    "duration": 9,
    "start_time": "2022-07-02T18:15:19.053Z"
   },
   {
    "duration": 6,
    "start_time": "2022-07-02T18:15:19.063Z"
   },
   {
    "duration": 14,
    "start_time": "2022-07-02T18:15:19.071Z"
   },
   {
    "duration": 3,
    "start_time": "2022-07-02T18:15:19.086Z"
   },
   {
    "duration": 9,
    "start_time": "2022-07-02T18:15:19.090Z"
   },
   {
    "duration": 10,
    "start_time": "2022-07-02T18:15:19.101Z"
   },
   {
    "duration": 593,
    "start_time": "2022-07-02T19:13:21.208Z"
   },
   {
    "duration": 34,
    "start_time": "2022-07-02T19:13:21.803Z"
   },
   {
    "duration": 83,
    "start_time": "2022-07-02T19:13:21.839Z"
   },
   {
    "duration": 86,
    "start_time": "2022-07-02T19:13:21.924Z"
   },
   {
    "duration": 95,
    "start_time": "2022-07-02T19:13:22.013Z"
   },
   {
    "duration": 12,
    "start_time": "2022-07-02T19:13:22.111Z"
   },
   {
    "duration": 85,
    "start_time": "2022-07-02T19:13:22.128Z"
   },
   {
    "duration": 71,
    "start_time": "2022-07-02T19:13:22.215Z"
   },
   {
    "duration": 29,
    "start_time": "2022-07-02T19:13:22.288Z"
   },
   {
    "duration": 112,
    "start_time": "2022-07-02T19:13:22.320Z"
   },
   {
    "duration": 130,
    "start_time": "2022-07-02T19:13:22.439Z"
   },
   {
    "duration": 109,
    "start_time": "2022-07-02T19:13:22.576Z"
   },
   {
    "duration": 20,
    "start_time": "2022-07-02T19:13:22.693Z"
   },
   {
    "duration": 103,
    "start_time": "2022-07-02T19:13:22.720Z"
   },
   {
    "duration": 57,
    "start_time": "2022-07-02T19:13:22.825Z"
   },
   {
    "duration": 44,
    "start_time": "2022-07-02T19:13:22.884Z"
   },
   {
    "duration": 82,
    "start_time": "2022-07-02T19:13:22.931Z"
   },
   {
    "duration": 71,
    "start_time": "2022-07-02T19:13:23.016Z"
   },
   {
    "duration": 39,
    "start_time": "2022-07-02T19:13:23.091Z"
   },
   {
    "duration": 64,
    "start_time": "2022-07-02T19:13:23.132Z"
   },
   {
    "duration": 21,
    "start_time": "2022-07-02T19:13:23.199Z"
   },
   {
    "duration": 60,
    "start_time": "2022-07-02T19:13:23.225Z"
   },
   {
    "duration": 28,
    "start_time": "2022-07-02T19:13:23.287Z"
   },
   {
    "duration": 19,
    "start_time": "2022-07-02T19:13:23.317Z"
   },
   {
    "duration": 56,
    "start_time": "2022-07-02T19:13:23.338Z"
   },
   {
    "duration": 10,
    "start_time": "2022-07-02T19:13:23.396Z"
   },
   {
    "duration": 13,
    "start_time": "2022-07-02T19:13:23.408Z"
   },
   {
    "duration": 62,
    "start_time": "2022-07-02T19:13:23.423Z"
   },
   {
    "duration": 11,
    "start_time": "2022-07-02T19:13:23.486Z"
   },
   {
    "duration": 14,
    "start_time": "2022-07-02T19:13:23.501Z"
   },
   {
    "duration": 7,
    "start_time": "2022-07-02T19:13:23.516Z"
   },
   {
    "duration": 50,
    "start_time": "2022-07-02T19:13:23.525Z"
   },
   {
    "duration": 24,
    "start_time": "2022-07-02T19:13:23.578Z"
   },
   {
    "duration": 81,
    "start_time": "2022-07-02T19:13:23.604Z"
   },
   {
    "duration": 20,
    "start_time": "2022-07-02T19:13:23.686Z"
   },
   {
    "duration": 23,
    "start_time": "2022-07-02T19:13:23.708Z"
   },
   {
    "duration": 62,
    "start_time": "2022-07-02T19:13:23.737Z"
   },
   {
    "duration": 19,
    "start_time": "2022-07-02T19:13:23.802Z"
   },
   {
    "duration": 66,
    "start_time": "2022-07-02T19:13:23.823Z"
   },
   {
    "duration": 19,
    "start_time": "2022-07-02T19:13:23.891Z"
   },
   {
    "duration": 66,
    "start_time": "2022-07-02T19:13:23.914Z"
   },
   {
    "duration": 18,
    "start_time": "2022-07-02T19:13:23.982Z"
   },
   {
    "duration": 19,
    "start_time": "2022-07-02T19:13:24.003Z"
   },
   {
    "duration": 66,
    "start_time": "2022-07-02T19:13:24.025Z"
   },
   {
    "duration": 16,
    "start_time": "2022-07-02T19:13:24.094Z"
   },
   {
    "duration": 10,
    "start_time": "2022-07-02T19:13:24.112Z"
   },
   {
    "duration": 54,
    "start_time": "2022-07-02T19:13:24.125Z"
   },
   {
    "duration": 21,
    "start_time": "2022-07-02T19:13:24.189Z"
   },
   {
    "duration": 6,
    "start_time": "2022-07-02T19:13:24.213Z"
   },
   {
    "duration": 29,
    "start_time": "2022-07-02T19:13:24.221Z"
   },
   {
    "duration": 622,
    "start_time": "2022-07-02T19:13:55.245Z"
   },
   {
    "duration": 30,
    "start_time": "2022-07-02T19:13:55.870Z"
   },
   {
    "duration": 21,
    "start_time": "2022-07-02T19:13:55.902Z"
   },
   {
    "duration": 42,
    "start_time": "2022-07-02T19:13:55.927Z"
   },
   {
    "duration": 103,
    "start_time": "2022-07-02T19:13:55.970Z"
   },
   {
    "duration": 5,
    "start_time": "2022-07-02T19:13:56.075Z"
   },
   {
    "duration": 46,
    "start_time": "2022-07-02T19:13:56.082Z"
   },
   {
    "duration": 64,
    "start_time": "2022-07-02T19:13:56.131Z"
   },
   {
    "duration": 17,
    "start_time": "2022-07-02T19:13:56.197Z"
   },
   {
    "duration": 6,
    "start_time": "2022-07-02T19:13:56.218Z"
   },
   {
    "duration": 128,
    "start_time": "2022-07-02T19:13:56.225Z"
   },
   {
    "duration": 46,
    "start_time": "2022-07-02T19:13:56.355Z"
   },
   {
    "duration": 9,
    "start_time": "2022-07-02T19:13:56.402Z"
   },
   {
    "duration": 32,
    "start_time": "2022-07-02T19:13:56.412Z"
   },
   {
    "duration": 28,
    "start_time": "2022-07-02T19:13:56.448Z"
   },
   {
    "duration": 29,
    "start_time": "2022-07-02T19:13:56.478Z"
   },
   {
    "duration": 5,
    "start_time": "2022-07-02T19:13:56.509Z"
   },
   {
    "duration": 74,
    "start_time": "2022-07-02T19:13:56.515Z"
   },
   {
    "duration": 17,
    "start_time": "2022-07-02T19:13:56.590Z"
   },
   {
    "duration": 15,
    "start_time": "2022-07-02T19:13:56.609Z"
   },
   {
    "duration": 77,
    "start_time": "2022-07-02T19:13:56.626Z"
   },
   {
    "duration": 10,
    "start_time": "2022-07-02T19:13:56.706Z"
   },
   {
    "duration": 3,
    "start_time": "2022-07-02T19:13:56.720Z"
   },
   {
    "duration": 57,
    "start_time": "2022-07-02T19:13:56.725Z"
   },
   {
    "duration": 21,
    "start_time": "2022-07-02T19:13:56.784Z"
   },
   {
    "duration": 7,
    "start_time": "2022-07-02T19:13:56.807Z"
   },
   {
    "duration": 82,
    "start_time": "2022-07-02T19:13:56.816Z"
   },
   {
    "duration": 14,
    "start_time": "2022-07-02T19:13:56.902Z"
   },
   {
    "duration": 13,
    "start_time": "2022-07-02T19:13:56.918Z"
   },
   {
    "duration": 57,
    "start_time": "2022-07-02T19:13:56.939Z"
   },
   {
    "duration": 13,
    "start_time": "2022-07-02T19:13:56.998Z"
   },
   {
    "duration": 8,
    "start_time": "2022-07-02T19:13:57.013Z"
   },
   {
    "duration": 72,
    "start_time": "2022-07-02T19:13:57.023Z"
   },
   {
    "duration": 14,
    "start_time": "2022-07-02T19:13:57.097Z"
   },
   {
    "duration": 12,
    "start_time": "2022-07-02T19:13:57.113Z"
   },
   {
    "duration": 81,
    "start_time": "2022-07-02T19:13:57.129Z"
   },
   {
    "duration": 6,
    "start_time": "2022-07-02T19:13:57.213Z"
   },
   {
    "duration": 77,
    "start_time": "2022-07-02T19:13:57.221Z"
   },
   {
    "duration": 6,
    "start_time": "2022-07-02T19:13:57.300Z"
   },
   {
    "duration": 15,
    "start_time": "2022-07-02T19:13:57.308Z"
   },
   {
    "duration": 68,
    "start_time": "2022-07-02T19:13:57.325Z"
   },
   {
    "duration": 22,
    "start_time": "2022-07-02T19:13:57.395Z"
   },
   {
    "duration": 9,
    "start_time": "2022-07-02T19:13:57.419Z"
   },
   {
    "duration": 80,
    "start_time": "2022-07-02T19:13:57.429Z"
   },
   {
    "duration": 14,
    "start_time": "2022-07-02T19:13:57.510Z"
   },
   {
    "duration": 61,
    "start_time": "2022-07-02T19:13:57.529Z"
   },
   {
    "duration": 18,
    "start_time": "2022-07-02T19:13:57.594Z"
   },
   {
    "duration": 4,
    "start_time": "2022-07-02T19:13:57.614Z"
   },
   {
    "duration": 60,
    "start_time": "2022-07-02T19:13:57.620Z"
   },
   {
    "duration": 22,
    "start_time": "2022-07-02T19:13:57.681Z"
   },
   {
    "duration": 8,
    "start_time": "2022-07-02T20:10:49.601Z"
   },
   {
    "duration": 42,
    "start_time": "2022-07-02T20:10:49.662Z"
   },
   {
    "duration": 6,
    "start_time": "2022-07-02T20:10:49.779Z"
   },
   {
    "duration": 4,
    "start_time": "2022-07-02T20:10:49.885Z"
   },
   {
    "duration": 6,
    "start_time": "2022-07-02T20:10:49.968Z"
   },
   {
    "duration": 6,
    "start_time": "2022-07-02T20:10:50.194Z"
   },
   {
    "duration": 8,
    "start_time": "2022-07-02T20:10:50.412Z"
   },
   {
    "duration": 9,
    "start_time": "2022-07-02T20:10:50.691Z"
   },
   {
    "duration": 7,
    "start_time": "2022-07-02T20:10:50.885Z"
   },
   {
    "duration": 8,
    "start_time": "2022-07-02T20:10:51.080Z"
   },
   {
    "duration": 7,
    "start_time": "2022-07-02T20:10:51.589Z"
   },
   {
    "duration": 8,
    "start_time": "2022-07-02T20:10:52.685Z"
   },
   {
    "duration": 8,
    "start_time": "2022-07-02T20:10:53.252Z"
   },
   {
    "duration": 7,
    "start_time": "2022-07-02T20:10:53.315Z"
   },
   {
    "duration": 6,
    "start_time": "2022-07-02T20:10:53.379Z"
   },
   {
    "duration": 6,
    "start_time": "2022-07-02T20:10:53.435Z"
   },
   {
    "duration": 7,
    "start_time": "2022-07-02T20:10:53.539Z"
   },
   {
    "duration": 8,
    "start_time": "2022-07-02T20:10:53.834Z"
   },
   {
    "duration": 8,
    "start_time": "2022-07-02T20:10:53.926Z"
   },
   {
    "duration": 7,
    "start_time": "2022-07-02T20:10:54.834Z"
   },
   {
    "duration": 7,
    "start_time": "2022-07-02T20:10:55.114Z"
   },
   {
    "duration": 7,
    "start_time": "2022-07-02T20:10:57.324Z"
   },
   {
    "duration": 3,
    "start_time": "2022-07-02T20:10:58.525Z"
   },
   {
    "duration": 571,
    "start_time": "2022-07-02T20:11:01.659Z"
   },
   {
    "duration": 36,
    "start_time": "2022-07-02T20:11:02.233Z"
   },
   {
    "duration": 19,
    "start_time": "2022-07-02T20:11:02.271Z"
   },
   {
    "duration": 32,
    "start_time": "2022-07-02T20:11:02.293Z"
   },
   {
    "duration": 64,
    "start_time": "2022-07-02T20:11:02.327Z"
   },
   {
    "duration": 5,
    "start_time": "2022-07-02T20:11:02.394Z"
   },
   {
    "duration": 29,
    "start_time": "2022-07-02T20:11:02.401Z"
   },
   {
    "duration": 10,
    "start_time": "2022-07-02T20:11:02.433Z"
   },
   {
    "duration": 11,
    "start_time": "2022-07-02T20:11:02.445Z"
   },
   {
    "duration": 7,
    "start_time": "2022-07-02T20:11:02.460Z"
   },
   {
    "duration": 68,
    "start_time": "2022-07-02T20:11:02.468Z"
   },
   {
    "duration": 9,
    "start_time": "2022-07-02T20:11:02.539Z"
   },
   {
    "duration": 9,
    "start_time": "2022-07-02T20:11:02.550Z"
   },
   {
    "duration": 47,
    "start_time": "2022-07-02T20:11:02.561Z"
   },
   {
    "duration": 23,
    "start_time": "2022-07-02T20:11:02.610Z"
   },
   {
    "duration": 15,
    "start_time": "2022-07-02T20:11:02.635Z"
   },
   {
    "duration": 42,
    "start_time": "2022-07-02T20:11:02.652Z"
   },
   {
    "duration": 31,
    "start_time": "2022-07-02T20:11:02.696Z"
   },
   {
    "duration": 14,
    "start_time": "2022-07-02T20:11:02.729Z"
   },
   {
    "duration": 21,
    "start_time": "2022-07-02T20:11:02.745Z"
   },
   {
    "duration": 28,
    "start_time": "2022-07-02T20:11:02.767Z"
   },
   {
    "duration": 21,
    "start_time": "2022-07-02T20:11:02.797Z"
   },
   {
    "duration": 15,
    "start_time": "2022-07-02T20:11:02.820Z"
   },
   {
    "duration": 15,
    "start_time": "2022-07-02T20:11:02.837Z"
   },
   {
    "duration": 9,
    "start_time": "2022-07-02T20:11:02.854Z"
   },
   {
    "duration": 34,
    "start_time": "2022-07-02T20:11:02.865Z"
   },
   {
    "duration": 14,
    "start_time": "2022-07-02T20:11:02.901Z"
   },
   {
    "duration": 10,
    "start_time": "2022-07-02T20:11:02.919Z"
   },
   {
    "duration": 8,
    "start_time": "2022-07-02T20:11:02.932Z"
   },
   {
    "duration": 21,
    "start_time": "2022-07-02T20:11:02.942Z"
   },
   {
    "duration": 16,
    "start_time": "2022-07-02T20:11:02.965Z"
   },
   {
    "duration": 15,
    "start_time": "2022-07-02T20:11:02.983Z"
   },
   {
    "duration": 17,
    "start_time": "2022-07-02T20:11:03.000Z"
   },
   {
    "duration": 10,
    "start_time": "2022-07-02T20:11:03.019Z"
   },
   {
    "duration": 16,
    "start_time": "2022-07-02T20:11:03.031Z"
   },
   {
    "duration": 9,
    "start_time": "2022-07-02T20:11:03.049Z"
   },
   {
    "duration": 11,
    "start_time": "2022-07-02T20:11:03.060Z"
   },
   {
    "duration": 26,
    "start_time": "2022-07-02T20:11:03.074Z"
   },
   {
    "duration": 7,
    "start_time": "2022-07-02T20:11:03.102Z"
   },
   {
    "duration": 31,
    "start_time": "2022-07-02T20:11:03.110Z"
   },
   {
    "duration": 7,
    "start_time": "2022-07-02T20:11:03.143Z"
   },
   {
    "duration": 20,
    "start_time": "2022-07-02T20:11:03.153Z"
   },
   {
    "duration": 5,
    "start_time": "2022-07-02T20:11:03.176Z"
   },
   {
    "duration": 10,
    "start_time": "2022-07-02T20:11:03.183Z"
   },
   {
    "duration": 12,
    "start_time": "2022-07-02T20:11:03.196Z"
   },
   {
    "duration": 15,
    "start_time": "2022-07-02T20:11:03.210Z"
   },
   {
    "duration": 26,
    "start_time": "2022-07-02T20:11:03.227Z"
   },
   {
    "duration": 5,
    "start_time": "2022-07-02T20:11:03.255Z"
   },
   {
    "duration": 11,
    "start_time": "2022-07-02T20:11:03.262Z"
   },
   {
    "duration": 17,
    "start_time": "2022-07-02T20:11:03.276Z"
   },
   {
    "duration": 3,
    "start_time": "2022-07-02T20:11:38.200Z"
   },
   {
    "duration": 22,
    "start_time": "2022-07-02T20:20:05.628Z"
   },
   {
    "duration": 11,
    "start_time": "2022-07-02T20:20:14.054Z"
   },
   {
    "duration": 63,
    "start_time": "2022-07-02T20:22:50.503Z"
   },
   {
    "duration": 16,
    "start_time": "2022-07-02T20:23:11.577Z"
   },
   {
    "duration": 11,
    "start_time": "2022-07-02T20:23:40.501Z"
   },
   {
    "duration": 7,
    "start_time": "2022-07-02T20:23:42.241Z"
   },
   {
    "duration": 18,
    "start_time": "2022-07-02T20:24:05.448Z"
   },
   {
    "duration": 6,
    "start_time": "2022-07-02T20:24:05.869Z"
   },
   {
    "duration": 10,
    "start_time": "2022-07-02T20:24:13.541Z"
   },
   {
    "duration": 5,
    "start_time": "2022-07-02T20:24:14.427Z"
   },
   {
    "duration": 16,
    "start_time": "2022-07-02T20:24:34.517Z"
   },
   {
    "duration": 8,
    "start_time": "2022-07-02T20:24:34.904Z"
   },
   {
    "duration": 9,
    "start_time": "2022-07-02T20:26:08.629Z"
   },
   {
    "duration": 26,
    "start_time": "2022-07-02T20:26:23.584Z"
   },
   {
    "duration": 22,
    "start_time": "2022-07-02T20:26:32.798Z"
   },
   {
    "duration": 9,
    "start_time": "2022-07-02T20:26:34.141Z"
   },
   {
    "duration": 7,
    "start_time": "2022-07-02T20:27:44.350Z"
   },
   {
    "duration": 12,
    "start_time": "2022-07-02T20:27:50.470Z"
   },
   {
    "duration": 17,
    "start_time": "2022-07-02T20:28:10.965Z"
   },
   {
    "duration": 14,
    "start_time": "2022-07-02T20:28:27.683Z"
   },
   {
    "duration": 16,
    "start_time": "2022-07-02T20:29:43.326Z"
   },
   {
    "duration": 8,
    "start_time": "2022-07-02T20:29:44.246Z"
   },
   {
    "duration": 15,
    "start_time": "2022-07-02T20:30:04.234Z"
   },
   {
    "duration": 14,
    "start_time": "2022-07-02T20:32:10.422Z"
   },
   {
    "duration": 11,
    "start_time": "2022-07-02T20:32:28.042Z"
   },
   {
    "duration": 8,
    "start_time": "2022-07-02T20:32:29.931Z"
   },
   {
    "duration": 8,
    "start_time": "2022-07-02T20:33:16.405Z"
   },
   {
    "duration": 7,
    "start_time": "2022-07-02T20:33:28.264Z"
   },
   {
    "duration": 7,
    "start_time": "2022-07-02T20:33:47.609Z"
   },
   {
    "duration": 6,
    "start_time": "2022-07-02T20:33:55.665Z"
   },
   {
    "duration": 16,
    "start_time": "2022-07-02T20:34:11.933Z"
   },
   {
    "duration": 7,
    "start_time": "2022-07-02T20:34:13.520Z"
   },
   {
    "duration": 13,
    "start_time": "2022-07-02T20:34:41.884Z"
   },
   {
    "duration": 8,
    "start_time": "2022-07-02T20:34:42.812Z"
   },
   {
    "duration": 10,
    "start_time": "2022-07-02T20:34:45.838Z"
   },
   {
    "duration": 26,
    "start_time": "2022-07-02T20:36:45.348Z"
   },
   {
    "duration": 21,
    "start_time": "2022-07-02T20:36:54.271Z"
   },
   {
    "duration": 7,
    "start_time": "2022-07-02T20:36:54.923Z"
   },
   {
    "duration": 58,
    "start_time": "2022-07-02T20:37:54.307Z"
   },
   {
    "duration": 8,
    "start_time": "2022-07-02T20:37:56.324Z"
   },
   {
    "duration": 89,
    "start_time": "2022-07-02T20:38:08.400Z"
   },
   {
    "duration": 12,
    "start_time": "2022-07-02T20:39:20.577Z"
   },
   {
    "duration": 7,
    "start_time": "2022-07-02T20:39:21.435Z"
   },
   {
    "duration": 50,
    "start_time": "2022-07-02T20:48:24.386Z"
   },
   {
    "duration": 52,
    "start_time": "2022-07-02T20:48:36.219Z"
   },
   {
    "duration": 46,
    "start_time": "2022-07-02T20:48:56.557Z"
   },
   {
    "duration": 51,
    "start_time": "2022-07-02T20:49:08.402Z"
   },
   {
    "duration": 6,
    "start_time": "2022-07-02T20:50:24.508Z"
   },
   {
    "duration": 52,
    "start_time": "2022-07-02T20:51:26.616Z"
   },
   {
    "duration": 10,
    "start_time": "2022-07-02T20:51:33.132Z"
   },
   {
    "duration": 21,
    "start_time": "2022-07-02T20:51:38.254Z"
   },
   {
    "duration": 10,
    "start_time": "2022-07-02T20:52:19.318Z"
   },
   {
    "duration": 20,
    "start_time": "2022-07-02T20:52:55.385Z"
   },
   {
    "duration": 13,
    "start_time": "2022-07-02T20:53:43.093Z"
   },
   {
    "duration": 13,
    "start_time": "2022-07-02T20:57:43.733Z"
   },
   {
    "duration": 7,
    "start_time": "2022-07-02T20:57:44.257Z"
   },
   {
    "duration": 10,
    "start_time": "2022-07-02T20:58:25.065Z"
   },
   {
    "duration": 6,
    "start_time": "2022-07-02T20:58:25.817Z"
   },
   {
    "duration": 47,
    "start_time": "2022-07-03T09:18:35.587Z"
   },
   {
    "duration": 488,
    "start_time": "2022-07-03T09:18:42.927Z"
   },
   {
    "duration": 26,
    "start_time": "2022-07-03T09:18:43.417Z"
   },
   {
    "duration": 29,
    "start_time": "2022-07-03T09:18:43.445Z"
   },
   {
    "duration": 10,
    "start_time": "2022-07-03T09:18:43.475Z"
   },
   {
    "duration": 33,
    "start_time": "2022-07-03T09:18:43.488Z"
   },
   {
    "duration": 14,
    "start_time": "2022-07-03T09:18:43.523Z"
   },
   {
    "duration": 29,
    "start_time": "2022-07-03T09:18:43.538Z"
   },
   {
    "duration": 4,
    "start_time": "2022-07-03T09:18:43.569Z"
   },
   {
    "duration": 8,
    "start_time": "2022-07-03T09:18:43.574Z"
   },
   {
    "duration": 6,
    "start_time": "2022-07-03T09:18:43.583Z"
   },
   {
    "duration": 35,
    "start_time": "2022-07-03T09:18:43.591Z"
   },
   {
    "duration": 13,
    "start_time": "2022-07-03T09:18:43.629Z"
   },
   {
    "duration": 24,
    "start_time": "2022-07-03T09:18:43.643Z"
   },
   {
    "duration": 22,
    "start_time": "2022-07-03T09:18:43.670Z"
   },
   {
    "duration": 17,
    "start_time": "2022-07-03T09:18:43.694Z"
   },
   {
    "duration": 17,
    "start_time": "2022-07-03T09:18:43.712Z"
   },
   {
    "duration": 20,
    "start_time": "2022-07-03T09:18:43.730Z"
   },
   {
    "duration": 18,
    "start_time": "2022-07-03T09:18:43.752Z"
   },
   {
    "duration": 5,
    "start_time": "2022-07-03T09:18:43.771Z"
   },
   {
    "duration": 3,
    "start_time": "2022-07-03T09:18:43.778Z"
   },
   {
    "duration": 11,
    "start_time": "2022-07-03T09:18:43.782Z"
   },
   {
    "duration": 4,
    "start_time": "2022-07-03T09:18:43.794Z"
   },
   {
    "duration": 4,
    "start_time": "2022-07-03T09:18:43.800Z"
   },
   {
    "duration": 7,
    "start_time": "2022-07-03T09:18:43.805Z"
   },
   {
    "duration": 5,
    "start_time": "2022-07-03T09:18:43.813Z"
   },
   {
    "duration": 4,
    "start_time": "2022-07-03T09:18:43.831Z"
   },
   {
    "duration": 35,
    "start_time": "2022-07-03T09:18:43.837Z"
   },
   {
    "duration": 9,
    "start_time": "2022-07-03T09:18:43.873Z"
   },
   {
    "duration": 3,
    "start_time": "2022-07-03T09:18:43.884Z"
   },
   {
    "duration": 10,
    "start_time": "2022-07-03T09:18:43.889Z"
   },
   {
    "duration": 3,
    "start_time": "2022-07-03T09:18:43.901Z"
   },
   {
    "duration": 4,
    "start_time": "2022-07-03T09:18:43.906Z"
   },
   {
    "duration": 11,
    "start_time": "2022-07-03T09:18:43.911Z"
   },
   {
    "duration": 10,
    "start_time": "2022-07-03T09:18:43.923Z"
   },
   {
    "duration": 26,
    "start_time": "2022-07-03T09:18:43.939Z"
   },
   {
    "duration": 4,
    "start_time": "2022-07-03T09:18:43.967Z"
   },
   {
    "duration": 8,
    "start_time": "2022-07-03T09:18:43.972Z"
   },
   {
    "duration": 15,
    "start_time": "2022-07-03T09:18:43.981Z"
   },
   {
    "duration": 5,
    "start_time": "2022-07-03T09:18:43.997Z"
   },
   {
    "duration": 12,
    "start_time": "2022-07-03T09:18:44.003Z"
   },
   {
    "duration": 4,
    "start_time": "2022-07-03T09:18:44.018Z"
   },
   {
    "duration": 36,
    "start_time": "2022-07-03T09:18:44.024Z"
   },
   {
    "duration": 3,
    "start_time": "2022-07-03T09:18:44.062Z"
   },
   {
    "duration": 5,
    "start_time": "2022-07-03T09:18:44.066Z"
   },
   {
    "duration": 8,
    "start_time": "2022-07-03T09:18:44.073Z"
   },
   {
    "duration": 3,
    "start_time": "2022-07-03T09:18:44.083Z"
   },
   {
    "duration": 10,
    "start_time": "2022-07-03T09:18:44.088Z"
   },
   {
    "duration": 4,
    "start_time": "2022-07-03T09:18:44.099Z"
   },
   {
    "duration": 6,
    "start_time": "2022-07-03T09:18:44.104Z"
   },
   {
    "duration": 11,
    "start_time": "2022-07-03T09:18:44.111Z"
   },
   {
    "duration": 17,
    "start_time": "2022-07-03T09:18:44.124Z"
   },
   {
    "duration": 22,
    "start_time": "2022-07-03T09:18:44.143Z"
   },
   {
    "duration": 24,
    "start_time": "2022-07-03T09:18:44.167Z"
   },
   {
    "duration": 84,
    "start_time": "2022-07-03T09:19:10.316Z"
   },
   {
    "duration": 17,
    "start_time": "2022-07-03T09:19:18.391Z"
   }
  ],
  "celltoolbar": "Edit Metadata",
  "colab": {
   "name": "dpp_template_part2.ipynb",
   "provenance": []
  },
  "kernelspec": {
   "display_name": "Python 3 (ipykernel)",
   "language": "python",
   "name": "python3"
  },
  "language_info": {
   "codemirror_mode": {
    "name": "ipython",
    "version": 3
   },
   "file_extension": ".py",
   "mimetype": "text/x-python",
   "name": "python",
   "nbconvert_exporter": "python",
   "pygments_lexer": "ipython3",
   "version": "3.9.13"
  },
  "toc": {
   "base_numbering": 1,
   "nav_menu": {
    "height": "303.991px",
    "width": "261.989px"
   },
   "number_sections": true,
   "sideBar": true,
   "skip_h1_title": true,
   "title_cell": "Table of Contents",
   "title_sidebar": "Contents",
   "toc_cell": false,
   "toc_position": {},
   "toc_section_display": true,
   "toc_window_display": false
  }
 },
 "nbformat": 4,
 "nbformat_minor": 5
}
