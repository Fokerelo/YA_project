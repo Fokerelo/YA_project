{
 "cells": [
  {
   "cell_type": "markdown",
   "metadata": {},
   "source": [
    "## Рекомендация тарифов"
   ]
  },
  {
   "cell_type": "markdown",
   "metadata": {},
   "source": [
    "В моем распоряжении данные о поведении клиентов, которые уже перешли на эти тарифы (из проекта курса «Статистический анализ данных»). Нужно построить модель для задачи классификации, которая выберет подходящий тариф. Предобработка данных не понадобится — вы её уже сделали.\n",
    "\n",
    "Постройте модель с максимально большим значением *accuracy*. Чтобы сдать проект успешно, нужно довести долю правильных ответов по крайней мере до 0.75. Проверьте *accuracy* на тестовой выборке самостоятельно."
   ]
  },
  {
   "cell_type": "code",
   "execution_count": 1,
   "metadata": {},
   "outputs": [],
   "source": [
    "import pandas as pd # чтение файла\n",
    "from sklearn.model_selection import train_test_split  \n",
    "from sklearn.tree import DecisionTreeClassifier \n",
    "from sklearn.ensemble import RandomForestClassifier   \n",
    "from sklearn.linear_model import LinearRegression \n",
    "from sklearn.linear_model import LogisticRegression \n",
    "from sklearn.metrics import accuracy_score\n",
    "from sklearn.dummy import DummyClassifier"
   ]
  },
  {
   "cell_type": "code",
   "execution_count": 2,
   "metadata": {},
   "outputs": [],
   "source": [
    "data = pd.read_csv('/datasets/users_behavior.csv')"
   ]
  },
  {
   "cell_type": "code",
   "execution_count": 3,
   "metadata": {},
   "outputs": [],
   "source": [
    "def data_describe(dataframe):\n",
    "    display(dataframe.shape)\n",
    "    display(dataframe.head(10))"
   ]
  },
  {
   "cell_type": "code",
   "execution_count": 4,
   "metadata": {},
   "outputs": [
    {
     "data": {
      "text/plain": [
       "(3214, 5)"
      ]
     },
     "metadata": {},
     "output_type": "display_data"
    },
    {
     "data": {
      "text/html": [
       "<div>\n",
       "<style scoped>\n",
       "    .dataframe tbody tr th:only-of-type {\n",
       "        vertical-align: middle;\n",
       "    }\n",
       "\n",
       "    .dataframe tbody tr th {\n",
       "        vertical-align: top;\n",
       "    }\n",
       "\n",
       "    .dataframe thead th {\n",
       "        text-align: right;\n",
       "    }\n",
       "</style>\n",
       "<table border=\"1\" class=\"dataframe\">\n",
       "  <thead>\n",
       "    <tr style=\"text-align: right;\">\n",
       "      <th></th>\n",
       "      <th>calls</th>\n",
       "      <th>minutes</th>\n",
       "      <th>messages</th>\n",
       "      <th>mb_used</th>\n",
       "      <th>is_ultra</th>\n",
       "    </tr>\n",
       "  </thead>\n",
       "  <tbody>\n",
       "    <tr>\n",
       "      <th>0</th>\n",
       "      <td>40.0</td>\n",
       "      <td>311.90</td>\n",
       "      <td>83.0</td>\n",
       "      <td>19915.42</td>\n",
       "      <td>0</td>\n",
       "    </tr>\n",
       "    <tr>\n",
       "      <th>1</th>\n",
       "      <td>85.0</td>\n",
       "      <td>516.75</td>\n",
       "      <td>56.0</td>\n",
       "      <td>22696.96</td>\n",
       "      <td>0</td>\n",
       "    </tr>\n",
       "    <tr>\n",
       "      <th>2</th>\n",
       "      <td>77.0</td>\n",
       "      <td>467.66</td>\n",
       "      <td>86.0</td>\n",
       "      <td>21060.45</td>\n",
       "      <td>0</td>\n",
       "    </tr>\n",
       "    <tr>\n",
       "      <th>3</th>\n",
       "      <td>106.0</td>\n",
       "      <td>745.53</td>\n",
       "      <td>81.0</td>\n",
       "      <td>8437.39</td>\n",
       "      <td>1</td>\n",
       "    </tr>\n",
       "    <tr>\n",
       "      <th>4</th>\n",
       "      <td>66.0</td>\n",
       "      <td>418.74</td>\n",
       "      <td>1.0</td>\n",
       "      <td>14502.75</td>\n",
       "      <td>0</td>\n",
       "    </tr>\n",
       "    <tr>\n",
       "      <th>5</th>\n",
       "      <td>58.0</td>\n",
       "      <td>344.56</td>\n",
       "      <td>21.0</td>\n",
       "      <td>15823.37</td>\n",
       "      <td>0</td>\n",
       "    </tr>\n",
       "    <tr>\n",
       "      <th>6</th>\n",
       "      <td>57.0</td>\n",
       "      <td>431.64</td>\n",
       "      <td>20.0</td>\n",
       "      <td>3738.90</td>\n",
       "      <td>1</td>\n",
       "    </tr>\n",
       "    <tr>\n",
       "      <th>7</th>\n",
       "      <td>15.0</td>\n",
       "      <td>132.40</td>\n",
       "      <td>6.0</td>\n",
       "      <td>21911.60</td>\n",
       "      <td>0</td>\n",
       "    </tr>\n",
       "    <tr>\n",
       "      <th>8</th>\n",
       "      <td>7.0</td>\n",
       "      <td>43.39</td>\n",
       "      <td>3.0</td>\n",
       "      <td>2538.67</td>\n",
       "      <td>1</td>\n",
       "    </tr>\n",
       "    <tr>\n",
       "      <th>9</th>\n",
       "      <td>90.0</td>\n",
       "      <td>665.41</td>\n",
       "      <td>38.0</td>\n",
       "      <td>17358.61</td>\n",
       "      <td>0</td>\n",
       "    </tr>\n",
       "  </tbody>\n",
       "</table>\n",
       "</div>"
      ],
      "text/plain": [
       "   calls  minutes  messages   mb_used  is_ultra\n",
       "0   40.0   311.90      83.0  19915.42         0\n",
       "1   85.0   516.75      56.0  22696.96         0\n",
       "2   77.0   467.66      86.0  21060.45         0\n",
       "3  106.0   745.53      81.0   8437.39         1\n",
       "4   66.0   418.74       1.0  14502.75         0\n",
       "5   58.0   344.56      21.0  15823.37         0\n",
       "6   57.0   431.64      20.0   3738.90         1\n",
       "7   15.0   132.40       6.0  21911.60         0\n",
       "8    7.0    43.39       3.0   2538.67         1\n",
       "9   90.0   665.41      38.0  17358.61         0"
      ]
     },
     "metadata": {},
     "output_type": "display_data"
    }
   ],
   "source": [
    "data_describe(data)"
   ]
  },
  {
   "cell_type": "markdown",
   "metadata": {},
   "source": [
    "**У нас данные из прошлого проекта, все данные обработаны\n",
    "<br> 5 столбцов, 3214 строк.\n",
    "<br> В столбце `is_ultra` значение 1 - пользуется тарифом \"Ультра\", 0 - пользуется тарифом \"Смарт\"**"
   ]
  },
  {
   "cell_type": "markdown",
   "metadata": {},
   "source": [
    "\n",
    "\n",
    "## Разбиение данных на выборки"
   ]
  },
  {
   "cell_type": "code",
   "execution_count": 5,
   "metadata": {},
   "outputs": [],
   "source": [
    "features = data.drop('is_ultra', axis=1)#  признаки из данных\n",
    "target = data['is_ultra'] # целевой признак"
   ]
  },
  {
   "cell_type": "code",
   "execution_count": 6,
   "metadata": {},
   "outputs": [],
   "source": [
    "features_train, features_valid, target_train, target_valid = train_test_split(features, \n",
    "                                                                              target, \n",
    "                                                                              test_size=0.25, \n",
    "                                                                              stratify = target,\n",
    "                                                                              random_state=12345)\n",
    "#выделяю 25% данных для валидации"
   ]
  },
  {
   "cell_type": "code",
   "execution_count": 7,
   "metadata": {},
   "outputs": [],
   "source": [
    "features_train, features_test, target_train, target_test = train_test_split(features_train, \n",
    "                                                                            target_train, \n",
    "                                                                            test_size=0.25, \n",
    "                                                                            stratify = target_train,\n",
    "                                                                            random_state=12345)\n",
    "#выделяю 25% данных для тестовой выборки, из обучающей"
   ]
  },
  {
   "cell_type": "code",
   "execution_count": 8,
   "metadata": {},
   "outputs": [
    {
     "data": {
      "text/plain": [
       "(3214, 4)"
      ]
     },
     "metadata": {},
     "output_type": "display_data"
    },
    {
     "data": {
      "text/plain": [
       "(1807, 4)"
      ]
     },
     "metadata": {},
     "output_type": "display_data"
    },
    {
     "data": {
      "text/plain": [
       "(804, 4)"
      ]
     },
     "metadata": {},
     "output_type": "display_data"
    },
    {
     "data": {
      "text/plain": [
       "(603, 4)"
      ]
     },
     "metadata": {},
     "output_type": "display_data"
    }
   ],
   "source": [
    "display(features.shape)\n",
    "display(features_train.shape)\n",
    "display(features_valid.shape)\n",
    "display(features_test.shape)"
   ]
  },
  {
   "cell_type": "markdown",
   "metadata": {},
   "source": [
    "## Исследуйте модели"
   ]
  },
  {
   "cell_type": "markdown",
   "metadata": {},
   "source": [
    "**Ищю лучшую модель среди деревьев**"
   ]
  },
  {
   "cell_type": "code",
   "execution_count": 9,
   "metadata": {
    "scrolled": true
   },
   "outputs": [
    {
     "name": "stdout",
     "output_type": "stream",
     "text": [
      "Accuracy лучшей модели: 0.8009950248756219\n",
      "Количество веток: 6\n"
     ]
    }
   ],
   "source": [
    "best_model_tree = None\n",
    "best_result = 0\n",
    "best_depth = 0\n",
    "for depth in range(1, 11):\n",
    "    model = DecisionTreeClassifier(random_state=12345, max_depth=depth) \n",
    "    model.fit(features_train, target_train) \n",
    "    predictions = model.predict(features_valid) \n",
    "    result = accuracy_score(target_valid, predictions) \n",
    "    if result > best_result:\n",
    "        best_model_tree = model\n",
    "        best_result = result\n",
    "        best_depth = depth\n",
    "        \n",
    "print(\"Accuracy лучшей модели:\", best_result)\n",
    "print(\"Количество веток:\", best_depth)\n"
   ]
  },
  {
   "cell_type": "markdown",
   "metadata": {},
   "source": [
    "**Хороший результат, и модель дерева из 5 ответвлений можно считать не `не доученной` или `переобученной`**"
   ]
  },
  {
   "cell_type": "markdown",
   "metadata": {},
   "source": [
    "**Следующий цикл ищет лучшую модель леса деревьев (код выполняется почти минуту, но показывает результат близкий к двум другим методам)**"
   ]
  },
  {
   "cell_type": "code",
   "execution_count": 10,
   "metadata": {},
   "outputs": [
    {
     "name": "stdout",
     "output_type": "stream",
     "text": [
      "Accuracy наилучшей модели на валидационной выборке: 0.8171641791044776\n",
      "Количество деревьев: 4\n",
      "Максимальная глубина: 10\n"
     ]
    }
   ],
   "source": [
    "best_model_forest = None\n",
    "best_result = 0\n",
    "best_est = 0\n",
    "best_depth = 0\n",
    "\n",
    "for est in range(1, 51):\n",
    "    for depth in range (1, 11):\n",
    "        model = RandomForestClassifier(random_state=12345, n_estimators=est, max_depth=depth)\n",
    "        model.fit(features_train, target_train) \n",
    "        result = model.score(features_valid, target_valid) \n",
    "        if result > best_result:\n",
    "            best_model_forest = model\n",
    "            best_result = result\n",
    "            best_est = est\n",
    "            best_depth = depth\n",
    "\n",
    "print(\"Accuracy наилучшей модели на валидационной выборке:\", best_result)\n",
    "print(\"Количество деревьев:\", best_est,)\n",
    "print(\"Максимальная глубина:\", depth)"
   ]
  },
  {
   "cell_type": "markdown",
   "metadata": {},
   "source": [
    "**Случайный лес показал результат лучше - `0.81` (лутший вариант из 4 деревьев глубиной 10 веток)**"
   ]
  },
  {
   "cell_type": "markdown",
   "metadata": {},
   "source": [
    "**Проверка модели логической регрессии с максимальным числом итераций до 1000**(код выполняется около 30 секунд)"
   ]
  },
  {
   "cell_type": "code",
   "execution_count": 11,
   "metadata": {},
   "outputs": [
    {
     "name": "stdout",
     "output_type": "stream",
     "text": [
      "Accuracy логической регрессии: 0.746268656716418\n",
      "Максимальное кол-во итераций: 100\n"
     ]
    }
   ],
   "source": [
    "best_model_logreg = None\n",
    "best_result = 0\n",
    "best_iter = 0\n",
    "\n",
    "for i in range(100, 1001, 50):\n",
    "    model = LogisticRegression(random_state=12345, solver='lbfgs', max_iter=i) \n",
    "    model.fit(features_train, target_train)\n",
    "    result = model.score(features_valid, target_valid) \n",
    "    if result > best_result:\n",
    "            best_model_logreg = model\n",
    "            best_result = result\n",
    "            best_iter = i\n",
    "            \n",
    "\n",
    "print(\"Accuracy логической регрессии:\", best_result )\n",
    "print(\"Максимальное кол-во итераций:\", best_iter)"
   ]
  },
  {
   "cell_type": "markdown",
   "metadata": {},
   "source": [
    "При разном количествое итераций логическая регрессия даёт лучший результат на оптимальном количестве итераций в 100 единиц)"
   ]
  },
  {
   "cell_type": "markdown",
   "metadata": {},
   "source": [
    "**Исследуя 3 вида моделей на обучающей выборке можно сделать вывод что:\n",
    "<br>Лес деревьев выдает свой лучший результат `ACC - 0.81` с лесом деревьев из 4 деревьев и 10 веток\n",
    "<br>лучший показатель точности у одиночного дерева из 5 ветвей `ACC - 0.8` - глубина 6\n",
    "<br>У модели логической регресии `0.74`, количество итераций может быть стандартное**\n",
    "\n",
    "<br> **У нас лучше всего показала себя модель `Случайного леса`, модель из 4 деревьев с глубиной в 10 веток, в исследовании буду использовать данную модель**\n"
   ]
  },
  {
   "cell_type": "markdown",
   "metadata": {},
   "source": [
    "## Проверьте модель на тестовой выборке"
   ]
  },
  {
   "cell_type": "code",
   "execution_count": 15,
   "metadata": {
    "scrolled": false
   },
   "outputs": [
    {
     "name": "stdout",
     "output_type": "stream",
     "text": [
      "Точность модели леса из 4 деревьев глубиной 10 :  0.7810945273631841\n"
     ]
    }
   ],
   "source": [
    "predictions = best_model_forest.predict(features_test) \n",
    "result = accuracy_score(target_test, predictions) \n",
    "print('Точность модели леса из 4 деревьев глубиной 10 : ',result)\n"
   ]
  },
  {
   "cell_type": "markdown",
   "metadata": {},
   "source": [
    "**Вывод:**\n",
    "\n",
    "На тестовой выборке показатели качество модели Случайного леса чуть меньше 0.78, чем при обучении - 0.81, но результат тоже хороший и модель можно считать рабочей\n"
   ]
  },
  {
   "cell_type": "markdown",
   "metadata": {},
   "source": [
    "## Проверка модели на адекватность"
   ]
  },
  {
   "cell_type": "code",
   "execution_count": 13,
   "metadata": {
    "scrolled": true
   },
   "outputs": [
    {
     "data": {
      "text/plain": [
       "0.693200663349917"
      ]
     },
     "execution_count": 13,
     "metadata": {},
     "output_type": "execute_result"
    }
   ],
   "source": [
    "model = DummyClassifier(strategy=\"most_frequent\")\n",
    "model.fit(features_test, target_test)\n",
    "model.predict(features_test)\n",
    "model.score(features_test, target_test)"
   ]
  },
  {
   "cell_type": "markdown",
   "metadata": {},
   "source": [
    "**Вывод:**\n",
    "При проверке на адекватность моделей - модель \"дерева\" показаль качество в 0,69, средний показатель,так что можно утверждать на адекватности нашей модели"
   ]
  },
  {
   "cell_type": "markdown",
   "metadata": {},
   "source": [
    "## Вывод"
   ]
  },
  {
   "cell_type": "markdown",
   "metadata": {},
   "source": [
    "<br>Проведя исследования между 3 моделями мне удалось выделить модель которая показывать точность в 0.81 - это `модель Случайного леса` из 4 деревьев и глубиной в 10 ответвлений на обучении, на тестовой выборке качество немного упало до 0.78, но в рамках допустимого\n",
    "<br>Так же я увидел что самая быстрая `модель Логической регрессии` показала средний результат с точностью в 0.7\n",
    "<br>модель `Дерева` показала качество обучения 0.8\n",
    "<br> Адекватностивыбранной модели `Случайного леса` считаю оправданной, так как качество модели при методе всегда возвращающем наиболее часто встречающуюся метку класса - 0.69\n",
    "<br>"
   ]
  }
 ],
 "metadata": {
  "ExecuteTimeLog": [
   {
    "duration": 403,
    "start_time": "2022-08-25T07:18:36.218Z"
   },
   {
    "duration": 121,
    "start_time": "2022-08-25T07:19:03.715Z"
   },
   {
    "duration": 3,
    "start_time": "2022-08-25T07:20:25.508Z"
   },
   {
    "duration": 30,
    "start_time": "2022-08-25T07:20:39.359Z"
   },
   {
    "duration": 3,
    "start_time": "2022-08-25T07:20:39.834Z"
   },
   {
    "duration": 38,
    "start_time": "2022-08-25T07:20:41.029Z"
   },
   {
    "duration": 70,
    "start_time": "2022-08-25T07:21:18.393Z"
   },
   {
    "duration": 12,
    "start_time": "2022-08-25T07:21:32.917Z"
   },
   {
    "duration": 8,
    "start_time": "2022-08-25T07:21:36.900Z"
   },
   {
    "duration": 76,
    "start_time": "2022-08-25T07:22:39.207Z"
   },
   {
    "duration": 30,
    "start_time": "2022-08-25T07:22:49.672Z"
   },
   {
    "duration": 3,
    "start_time": "2022-08-25T07:23:37.874Z"
   },
   {
    "duration": 28,
    "start_time": "2022-08-25T07:23:40.068Z"
   },
   {
    "duration": 2,
    "start_time": "2022-08-25T07:24:00.414Z"
   },
   {
    "duration": 31,
    "start_time": "2022-08-25T07:24:01.287Z"
   },
   {
    "duration": 2,
    "start_time": "2022-08-25T07:24:16.915Z"
   },
   {
    "duration": 27,
    "start_time": "2022-08-25T07:24:17.565Z"
   },
   {
    "duration": 95,
    "start_time": "2022-08-25T07:24:49.863Z"
   },
   {
    "duration": 3,
    "start_time": "2022-08-25T07:24:55.212Z"
   },
   {
    "duration": 46,
    "start_time": "2022-08-25T07:25:10.209Z"
   },
   {
    "duration": 3,
    "start_time": "2022-08-25T07:25:23.947Z"
   },
   {
    "duration": 29,
    "start_time": "2022-08-25T07:25:24.672Z"
   },
   {
    "duration": 3,
    "start_time": "2022-08-25T07:26:15.970Z"
   },
   {
    "duration": 15,
    "start_time": "2022-08-25T07:26:16.523Z"
   },
   {
    "duration": 2,
    "start_time": "2022-08-25T07:26:27.875Z"
   },
   {
    "duration": 1202,
    "start_time": "2022-08-26T07:00:51.218Z"
   },
   {
    "duration": 30,
    "start_time": "2022-08-26T07:00:52.422Z"
   },
   {
    "duration": 3,
    "start_time": "2022-08-26T07:00:52.454Z"
   },
   {
    "duration": 50,
    "start_time": "2022-08-26T07:00:52.459Z"
   },
   {
    "duration": 4,
    "start_time": "2022-08-26T07:00:52.513Z"
   },
   {
    "duration": 20,
    "start_time": "2022-08-26T07:00:52.519Z"
   },
   {
    "duration": 2,
    "start_time": "2022-08-26T07:08:46.659Z"
   },
   {
    "duration": 135,
    "start_time": "2022-08-26T07:08:47.805Z"
   },
   {
    "duration": 3,
    "start_time": "2022-08-26T07:09:08.774Z"
   },
   {
    "duration": 30,
    "start_time": "2022-08-26T07:09:09.420Z"
   },
   {
    "duration": 3,
    "start_time": "2022-08-26T07:09:21.271Z"
   },
   {
    "duration": 22,
    "start_time": "2022-08-26T07:09:21.703Z"
   },
   {
    "duration": 3,
    "start_time": "2022-08-26T07:09:34.902Z"
   },
   {
    "duration": 29,
    "start_time": "2022-08-26T07:09:35.300Z"
   },
   {
    "duration": 4,
    "start_time": "2022-08-26T07:09:40.211Z"
   },
   {
    "duration": 19,
    "start_time": "2022-08-26T07:09:40.741Z"
   },
   {
    "duration": 3,
    "start_time": "2022-08-26T07:10:17.278Z"
   },
   {
    "duration": 21,
    "start_time": "2022-08-26T07:10:17.764Z"
   },
   {
    "duration": 3,
    "start_time": "2022-08-26T07:10:46.914Z"
   },
   {
    "duration": 12,
    "start_time": "2022-08-26T07:10:47.303Z"
   },
   {
    "duration": 81,
    "start_time": "2022-08-26T07:25:36.439Z"
   },
   {
    "duration": 86,
    "start_time": "2022-08-26T07:25:49.751Z"
   },
   {
    "duration": 9,
    "start_time": "2022-08-26T07:25:54.201Z"
   },
   {
    "duration": 1200,
    "start_time": "2022-08-26T07:26:02.375Z"
   },
   {
    "duration": 31,
    "start_time": "2022-08-26T07:26:03.577Z"
   },
   {
    "duration": 3,
    "start_time": "2022-08-26T07:26:03.610Z"
   },
   {
    "duration": 29,
    "start_time": "2022-08-26T07:26:03.615Z"
   },
   {
    "duration": 5,
    "start_time": "2022-08-26T07:26:03.646Z"
   },
   {
    "duration": 11,
    "start_time": "2022-08-26T07:26:03.652Z"
   },
   {
    "duration": 113,
    "start_time": "2022-08-26T07:26:03.664Z"
   },
   {
    "duration": 4,
    "start_time": "2022-08-26T07:26:38.198Z"
   },
   {
    "duration": 1155,
    "start_time": "2022-08-26T07:26:42.120Z"
   },
   {
    "duration": 30,
    "start_time": "2022-08-26T07:26:43.278Z"
   },
   {
    "duration": 4,
    "start_time": "2022-08-26T07:26:43.309Z"
   },
   {
    "duration": 49,
    "start_time": "2022-08-26T07:26:43.315Z"
   },
   {
    "duration": 15,
    "start_time": "2022-08-26T07:26:43.365Z"
   },
   {
    "duration": 13,
    "start_time": "2022-08-26T07:26:43.382Z"
   },
   {
    "duration": 119,
    "start_time": "2022-08-26T07:26:43.397Z"
   },
   {
    "duration": 13,
    "start_time": "2022-08-26T07:27:37.057Z"
   },
   {
    "duration": 1140,
    "start_time": "2022-08-26T07:27:42.530Z"
   },
   {
    "duration": 31,
    "start_time": "2022-08-26T07:27:43.672Z"
   },
   {
    "duration": 4,
    "start_time": "2022-08-26T07:27:43.708Z"
   },
   {
    "duration": 30,
    "start_time": "2022-08-26T07:27:43.714Z"
   },
   {
    "duration": 4,
    "start_time": "2022-08-26T07:27:43.745Z"
   },
   {
    "duration": 9,
    "start_time": "2022-08-26T07:27:43.751Z"
   },
   {
    "duration": 130,
    "start_time": "2022-08-26T07:27:43.762Z"
   },
   {
    "duration": 40,
    "start_time": "2022-08-26T07:28:47.784Z"
   },
   {
    "duration": 36,
    "start_time": "2022-08-26T07:29:06.726Z"
   },
   {
    "duration": 7,
    "start_time": "2022-08-26T07:29:42.030Z"
   },
   {
    "duration": 39,
    "start_time": "2022-08-26T07:29:43.643Z"
   },
   {
    "duration": 6,
    "start_time": "2022-08-26T07:29:47.447Z"
   },
   {
    "duration": 32,
    "start_time": "2022-08-26T07:29:49.221Z"
   },
   {
    "duration": 6,
    "start_time": "2022-08-26T07:29:54.037Z"
   },
   {
    "duration": 32,
    "start_time": "2022-08-26T07:29:55.709Z"
   },
   {
    "duration": 6,
    "start_time": "2022-08-26T07:29:59.783Z"
   },
   {
    "duration": 37,
    "start_time": "2022-08-26T07:30:01.183Z"
   },
   {
    "duration": 38,
    "start_time": "2022-08-26T07:33:06.777Z"
   },
   {
    "duration": 22,
    "start_time": "2022-08-26T07:33:30.221Z"
   },
   {
    "duration": 78,
    "start_time": "2022-08-26T07:33:40.228Z"
   },
   {
    "duration": 29,
    "start_time": "2022-08-26T07:33:45.350Z"
   },
   {
    "duration": 16,
    "start_time": "2022-08-26T07:36:36.223Z"
   },
   {
    "duration": 5,
    "start_time": "2022-08-26T07:36:40.669Z"
   },
   {
    "duration": 11,
    "start_time": "2022-08-26T07:36:44.166Z"
   },
   {
    "duration": 11,
    "start_time": "2022-08-26T07:36:49.755Z"
   },
   {
    "duration": 35,
    "start_time": "2022-08-26T07:38:26.482Z"
   },
   {
    "duration": 34,
    "start_time": "2022-08-26T07:38:44.823Z"
   },
   {
    "duration": 10,
    "start_time": "2022-08-26T07:40:09.162Z"
   },
   {
    "duration": 6,
    "start_time": "2022-08-26T07:40:29.706Z"
   },
   {
    "duration": 30,
    "start_time": "2022-08-26T07:40:30.157Z"
   },
   {
    "duration": 3,
    "start_time": "2022-08-26T07:40:30.392Z"
   },
   {
    "duration": 14,
    "start_time": "2022-08-26T07:40:30.687Z"
   },
   {
    "duration": 4,
    "start_time": "2022-08-26T07:40:31.676Z"
   },
   {
    "duration": 7,
    "start_time": "2022-08-26T07:40:31.928Z"
   },
   {
    "duration": 35,
    "start_time": "2022-08-26T07:40:32.950Z"
   },
   {
    "duration": 341,
    "start_time": "2022-08-26T07:40:33.209Z"
   },
   {
    "duration": 65,
    "start_time": "2022-08-26T07:43:23.495Z"
   },
   {
    "duration": 71,
    "start_time": "2022-08-26T07:43:36.168Z"
   },
   {
    "duration": 73,
    "start_time": "2022-08-26T07:44:27.870Z"
   },
   {
    "duration": 70,
    "start_time": "2022-08-26T07:44:55.202Z"
   },
   {
    "duration": 36,
    "start_time": "2022-08-26T07:45:21.686Z"
   },
   {
    "duration": 338,
    "start_time": "2022-08-26T07:45:31.203Z"
   },
   {
    "duration": 4433,
    "start_time": "2022-08-26T07:45:44.633Z"
   },
   {
    "duration": 252,
    "start_time": "2022-08-26T07:45:55.762Z"
   },
   {
    "duration": 40,
    "start_time": "2022-08-26T07:50:39.077Z"
   },
   {
    "duration": 5541,
    "start_time": "2022-08-26T07:51:09.332Z"
   },
   {
    "duration": 8876,
    "start_time": "2022-08-26T07:51:29.007Z"
   },
   {
    "duration": 8938,
    "start_time": "2022-08-26T07:52:10.687Z"
   },
   {
    "duration": 93,
    "start_time": "2022-08-26T07:52:49.059Z"
   },
   {
    "duration": 96,
    "start_time": "2022-08-26T07:53:00.298Z"
   },
   {
    "duration": 423,
    "start_time": "2022-08-26T07:53:05.821Z"
   },
   {
    "duration": 2354,
    "start_time": "2022-08-26T07:53:15.840Z"
   },
   {
    "duration": 8628,
    "start_time": "2022-08-26T07:53:24.989Z"
   },
   {
    "duration": 22845,
    "start_time": "2022-08-26T07:53:38.833Z"
   },
   {
    "duration": 24268,
    "start_time": "2022-08-26T07:54:16.667Z"
   },
   {
    "duration": 39,
    "start_time": "2022-08-26T08:00:29.108Z"
   },
   {
    "duration": 3,
    "start_time": "2022-08-26T08:05:01.285Z"
   },
   {
    "duration": 13,
    "start_time": "2022-08-26T08:05:55.940Z"
   },
   {
    "duration": 385,
    "start_time": "2022-08-26T08:07:01.727Z"
   },
   {
    "duration": 36,
    "start_time": "2022-08-26T08:07:21.358Z"
   },
   {
    "duration": 9,
    "start_time": "2022-08-26T08:09:17.038Z"
   },
   {
    "duration": 4,
    "start_time": "2022-08-26T08:10:05.570Z"
   },
   {
    "duration": 307,
    "start_time": "2022-08-26T08:10:09.288Z"
   },
   {
    "duration": 266,
    "start_time": "2022-08-26T08:10:19.126Z"
   },
   {
    "duration": 210,
    "start_time": "2022-08-26T08:10:27.492Z"
   },
   {
    "duration": 227,
    "start_time": "2022-08-26T08:10:32.164Z"
   },
   {
    "duration": 256,
    "start_time": "2022-08-26T08:10:59.035Z"
   },
   {
    "duration": 7444,
    "start_time": "2022-08-26T08:13:29.679Z"
   },
   {
    "duration": 24038,
    "start_time": "2022-08-26T08:13:57.664Z"
   },
   {
    "duration": 11,
    "start_time": "2022-08-26T08:15:10.332Z"
   },
   {
    "duration": 141,
    "start_time": "2022-08-26T08:15:11.035Z"
   },
   {
    "duration": 36,
    "start_time": "2022-08-26T08:15:12.335Z"
   },
   {
    "duration": 24230,
    "start_time": "2022-08-26T08:16:58.547Z"
   },
   {
    "duration": 43,
    "start_time": "2022-08-26T08:17:22.779Z"
   },
   {
    "duration": 20,
    "start_time": "2022-08-26T08:17:44.968Z"
   },
   {
    "duration": 32,
    "start_time": "2022-08-26T08:17:54.097Z"
   },
   {
    "duration": 33,
    "start_time": "2022-08-26T08:17:58.996Z"
   },
   {
    "duration": 34,
    "start_time": "2022-08-26T08:18:15.304Z"
   },
   {
    "duration": 3,
    "start_time": "2022-08-26T08:19:39.091Z"
   },
   {
    "duration": 87,
    "start_time": "2022-08-26T08:22:36.176Z"
   },
   {
    "duration": 12,
    "start_time": "2022-08-26T08:22:39.951Z"
   },
   {
    "duration": 11,
    "start_time": "2022-08-26T08:22:59.883Z"
   },
   {
    "duration": 147,
    "start_time": "2022-08-26T08:23:55.915Z"
   },
   {
    "duration": 300,
    "start_time": "2022-08-26T08:24:55.333Z"
   },
   {
    "duration": 131,
    "start_time": "2022-08-26T08:25:02.254Z"
   },
   {
    "duration": 34,
    "start_time": "2022-08-26T08:25:06.549Z"
   },
   {
    "duration": 32,
    "start_time": "2022-08-26T08:25:15.119Z"
   },
   {
    "duration": 167,
    "start_time": "2022-08-26T08:25:26.634Z"
   },
   {
    "duration": 244,
    "start_time": "2022-08-26T08:25:31.849Z"
   },
   {
    "duration": 32,
    "start_time": "2022-08-26T08:25:48.255Z"
   },
   {
    "duration": 11087,
    "start_time": "2022-08-26T08:28:08.853Z"
   },
   {
    "duration": 3342,
    "start_time": "2022-08-26T08:28:37.986Z"
   },
   {
    "duration": 10241,
    "start_time": "2022-08-26T08:28:47.598Z"
   },
   {
    "duration": 78,
    "start_time": "2022-08-26T08:28:57.841Z"
   },
   {
    "duration": 219,
    "start_time": "2022-08-26T08:29:04.445Z"
   },
   {
    "duration": 84,
    "start_time": "2022-08-26T08:29:24.997Z"
   },
   {
    "duration": 89,
    "start_time": "2022-08-26T08:30:58.512Z"
   },
   {
    "duration": 35,
    "start_time": "2022-08-26T08:31:11.049Z"
   },
   {
    "duration": 70,
    "start_time": "2022-08-26T08:31:16.319Z"
   },
   {
    "duration": 85,
    "start_time": "2022-08-26T08:31:20.768Z"
   },
   {
    "duration": 73,
    "start_time": "2022-08-26T08:31:26.946Z"
   },
   {
    "duration": 83,
    "start_time": "2022-08-26T08:31:29.061Z"
   },
   {
    "duration": 37,
    "start_time": "2022-08-26T08:31:38.852Z"
   },
   {
    "duration": 15,
    "start_time": "2022-08-26T08:34:05.962Z"
   },
   {
    "duration": 147,
    "start_time": "2022-08-26T08:34:06.651Z"
   },
   {
    "duration": 39,
    "start_time": "2022-08-26T08:34:07.628Z"
   },
   {
    "duration": 13,
    "start_time": "2022-08-26T08:36:57.539Z"
   },
   {
    "duration": 322,
    "start_time": "2022-08-26T08:37:29.117Z"
   },
   {
    "duration": 175,
    "start_time": "2022-08-26T08:37:41.224Z"
   },
   {
    "duration": 13,
    "start_time": "2022-08-26T08:39:20.267Z"
   },
   {
    "duration": 41,
    "start_time": "2022-08-26T08:39:32.043Z"
   },
   {
    "duration": 8,
    "start_time": "2022-08-26T08:39:36.019Z"
   },
   {
    "duration": 6,
    "start_time": "2022-08-26T08:40:13.179Z"
   },
   {
    "duration": 10,
    "start_time": "2022-08-26T08:40:14.166Z"
   },
   {
    "duration": 10160,
    "start_time": "2022-08-26T08:40:17.041Z"
   },
   {
    "duration": 23997,
    "start_time": "2022-08-26T08:41:00.431Z"
   },
   {
    "duration": 161,
    "start_time": "2022-08-26T08:41:29.836Z"
   },
   {
    "duration": 8,
    "start_time": "2022-08-26T08:41:54.755Z"
   },
   {
    "duration": 22,
    "start_time": "2022-08-26T08:41:56.757Z"
   },
   {
    "duration": 3889,
    "start_time": "2022-08-26T08:44:19.480Z"
   },
   {
    "duration": 9,
    "start_time": "2022-08-26T08:44:27.715Z"
   },
   {
    "duration": 3161,
    "start_time": "2022-08-26T08:44:37.300Z"
   },
   {
    "duration": 9,
    "start_time": "2022-08-26T08:44:45.754Z"
   },
   {
    "duration": 46876,
    "start_time": "2022-08-26T08:45:05.970Z"
   },
   {
    "duration": 47074,
    "start_time": "2022-08-26T08:48:57.288Z"
   },
   {
    "duration": 75,
    "start_time": "2022-08-26T08:50:21.404Z"
   },
   {
    "duration": 38,
    "start_time": "2022-08-26T08:50:49.902Z"
   },
   {
    "duration": 36,
    "start_time": "2022-08-26T08:50:57.088Z"
   },
   {
    "duration": 46975,
    "start_time": "2022-08-26T08:51:18.715Z"
   },
   {
    "duration": 0,
    "start_time": "2022-08-26T08:57:08.994Z"
   },
   {
    "duration": 1202,
    "start_time": "2022-08-26T08:57:14.871Z"
   },
   {
    "duration": 30,
    "start_time": "2022-08-26T08:57:16.076Z"
   },
   {
    "duration": 4,
    "start_time": "2022-08-26T08:57:16.108Z"
   },
   {
    "duration": 30,
    "start_time": "2022-08-26T08:57:16.114Z"
   },
   {
    "duration": 4,
    "start_time": "2022-08-26T08:57:16.146Z"
   },
   {
    "duration": 10,
    "start_time": "2022-08-26T08:57:16.151Z"
   },
   {
    "duration": 43,
    "start_time": "2022-08-26T08:57:16.163Z"
   },
   {
    "duration": 47757,
    "start_time": "2022-08-26T08:57:16.207Z"
   },
   {
    "duration": 99,
    "start_time": "2022-08-26T08:58:09.394Z"
   },
   {
    "duration": 20,
    "start_time": "2022-08-26T08:58:09.495Z"
   },
   {
    "duration": 112,
    "start_time": "2022-08-26T08:58:09.516Z"
   },
   {
    "duration": 0,
    "start_time": "2022-08-26T08:58:09.630Z"
   },
   {
    "duration": 0,
    "start_time": "2022-08-26T08:58:09.632Z"
   },
   {
    "duration": 5915,
    "start_time": "2022-08-26T08:58:14.581Z"
   },
   {
    "duration": 10263,
    "start_time": "2022-08-26T08:59:02.430Z"
   },
   {
    "duration": 5,
    "start_time": "2022-08-26T09:00:31.608Z"
   },
   {
    "duration": 11,
    "start_time": "2022-08-26T09:01:15.000Z"
   },
   {
    "duration": 6,
    "start_time": "2022-08-26T09:01:18.342Z"
   },
   {
    "duration": 101,
    "start_time": "2022-08-26T09:02:17.781Z"
   },
   {
    "duration": 20,
    "start_time": "2022-08-26T09:02:27.884Z"
   },
   {
    "duration": 12,
    "start_time": "2022-08-26T09:03:15.255Z"
   },
   {
    "duration": 13,
    "start_time": "2022-08-26T09:03:37.589Z"
   },
   {
    "duration": 13,
    "start_time": "2022-08-26T09:06:43.175Z"
   },
   {
    "duration": 14,
    "start_time": "2022-08-26T09:08:30.158Z"
   },
   {
    "duration": 3,
    "start_time": "2022-08-26T09:09:02.220Z"
   },
   {
    "duration": 13,
    "start_time": "2022-08-26T09:09:06.092Z"
   },
   {
    "duration": 13,
    "start_time": "2022-08-26T09:10:07.049Z"
   },
   {
    "duration": 3,
    "start_time": "2022-08-26T09:10:13.890Z"
   },
   {
    "duration": 11,
    "start_time": "2022-08-26T09:10:22.492Z"
   },
   {
    "duration": 150,
    "start_time": "2022-08-26T09:11:03.353Z"
   },
   {
    "duration": 9,
    "start_time": "2022-08-26T09:11:53.020Z"
   },
   {
    "duration": 1129,
    "start_time": "2022-08-26T09:31:13.436Z"
   },
   {
    "duration": 34,
    "start_time": "2022-08-26T09:31:14.567Z"
   },
   {
    "duration": 3,
    "start_time": "2022-08-26T09:31:14.603Z"
   },
   {
    "duration": 41,
    "start_time": "2022-08-26T09:31:14.608Z"
   },
   {
    "duration": 6,
    "start_time": "2022-08-26T09:31:14.651Z"
   },
   {
    "duration": 23,
    "start_time": "2022-08-26T09:31:14.659Z"
   },
   {
    "duration": 50,
    "start_time": "2022-08-26T09:31:14.684Z"
   },
   {
    "duration": 48513,
    "start_time": "2022-08-26T09:31:14.736Z"
   },
   {
    "duration": 6049,
    "start_time": "2022-08-26T09:32:03.251Z"
   },
   {
    "duration": 8,
    "start_time": "2022-08-26T09:32:09.393Z"
   },
   {
    "duration": 13,
    "start_time": "2022-08-26T09:32:09.492Z"
   },
   {
    "duration": 7,
    "start_time": "2022-08-26T09:32:09.507Z"
   },
   {
    "duration": 23,
    "start_time": "2022-08-26T09:32:09.516Z"
   },
   {
    "duration": 173,
    "start_time": "2022-08-26T09:32:09.541Z"
   },
   {
    "duration": 9,
    "start_time": "2022-08-26T09:32:09.715Z"
   },
   {
    "duration": 7687,
    "start_time": "2022-08-26T10:24:25.328Z"
   },
   {
    "duration": 204,
    "start_time": "2022-08-26T10:24:33.110Z"
   },
   {
    "duration": 299,
    "start_time": "2022-08-26T10:24:33.317Z"
   },
   {
    "duration": 293,
    "start_time": "2022-08-26T10:24:33.617Z"
   },
   {
    "duration": 199,
    "start_time": "2022-08-26T10:24:33.915Z"
   },
   {
    "duration": 98,
    "start_time": "2022-08-26T10:24:34.115Z"
   },
   {
    "duration": 703,
    "start_time": "2022-08-26T10:24:34.218Z"
   },
   {
    "duration": 341785,
    "start_time": "2022-08-26T10:24:34.924Z"
   },
   {
    "duration": 15895,
    "start_time": "2022-08-26T10:30:16.718Z"
   },
   {
    "duration": 13,
    "start_time": "2022-08-26T10:30:32.615Z"
   },
   {
    "duration": 298,
    "start_time": "2022-08-26T10:30:32.630Z"
   },
   {
    "duration": 105,
    "start_time": "2022-08-26T10:30:33.009Z"
   },
   {
    "duration": 312,
    "start_time": "2022-08-26T10:30:33.116Z"
   },
   {
    "duration": 1494,
    "start_time": "2022-08-26T10:30:33.516Z"
   },
   {
    "duration": 101,
    "start_time": "2022-08-26T10:30:35.013Z"
   },
   {
    "duration": 1247,
    "start_time": "2022-08-27T08:00:29.451Z"
   },
   {
    "duration": 65,
    "start_time": "2022-08-27T08:00:30.700Z"
   },
   {
    "duration": 5,
    "start_time": "2022-08-27T08:00:30.771Z"
   },
   {
    "duration": 31,
    "start_time": "2022-08-27T08:00:30.778Z"
   },
   {
    "duration": 5,
    "start_time": "2022-08-27T08:00:30.811Z"
   },
   {
    "duration": 13,
    "start_time": "2022-08-27T08:00:30.818Z"
   },
   {
    "duration": 57,
    "start_time": "2022-08-27T08:00:30.833Z"
   },
   {
    "duration": 1219,
    "start_time": "2022-08-27T08:00:49.444Z"
   },
   {
    "duration": 31,
    "start_time": "2022-08-27T08:00:50.665Z"
   },
   {
    "duration": 18,
    "start_time": "2022-08-27T08:00:50.697Z"
   },
   {
    "duration": 43,
    "start_time": "2022-08-27T08:00:50.718Z"
   },
   {
    "duration": 5,
    "start_time": "2022-08-27T08:00:50.763Z"
   },
   {
    "duration": 25,
    "start_time": "2022-08-27T08:00:50.770Z"
   },
   {
    "duration": 61,
    "start_time": "2022-08-27T08:00:50.797Z"
   },
   {
    "duration": 47452,
    "start_time": "2022-08-27T08:00:50.860Z"
   },
   {
    "duration": 4758,
    "start_time": "2022-08-27T08:01:38.314Z"
   },
   {
    "duration": 93,
    "start_time": "2022-08-27T08:01:43.076Z"
   },
   {
    "duration": 106,
    "start_time": "2022-08-27T08:01:43.172Z"
   },
   {
    "duration": 8,
    "start_time": "2022-08-27T08:01:43.280Z"
   },
   {
    "duration": 135,
    "start_time": "2022-08-27T08:01:43.290Z"
   },
   {
    "duration": 0,
    "start_time": "2022-08-27T08:01:43.427Z"
   },
   {
    "duration": 0,
    "start_time": "2022-08-27T08:01:43.428Z"
   },
   {
    "duration": 1147,
    "start_time": "2022-08-27T08:02:11.406Z"
   },
   {
    "duration": 30,
    "start_time": "2022-08-27T08:02:12.555Z"
   },
   {
    "duration": 4,
    "start_time": "2022-08-27T08:02:12.587Z"
   },
   {
    "duration": 29,
    "start_time": "2022-08-27T08:02:12.594Z"
   },
   {
    "duration": 5,
    "start_time": "2022-08-27T08:02:12.625Z"
   },
   {
    "duration": 12,
    "start_time": "2022-08-27T08:02:12.631Z"
   },
   {
    "duration": 116,
    "start_time": "2022-08-27T08:02:12.645Z"
   },
   {
    "duration": 0,
    "start_time": "2022-08-27T08:02:12.768Z"
   },
   {
    "duration": 0,
    "start_time": "2022-08-27T08:02:12.770Z"
   },
   {
    "duration": 0,
    "start_time": "2022-08-27T08:02:12.772Z"
   },
   {
    "duration": 0,
    "start_time": "2022-08-27T08:02:12.773Z"
   },
   {
    "duration": 0,
    "start_time": "2022-08-27T08:02:12.774Z"
   },
   {
    "duration": 0,
    "start_time": "2022-08-27T08:02:12.776Z"
   },
   {
    "duration": 0,
    "start_time": "2022-08-27T08:02:12.777Z"
   },
   {
    "duration": 0,
    "start_time": "2022-08-27T08:02:12.779Z"
   },
   {
    "duration": 9,
    "start_time": "2022-08-27T08:09:53.789Z"
   },
   {
    "duration": 5,
    "start_time": "2022-08-27T08:10:09.952Z"
   },
   {
    "duration": 4,
    "start_time": "2022-08-27T08:10:22.449Z"
   },
   {
    "duration": 76,
    "start_time": "2022-08-27T08:14:16.590Z"
   },
   {
    "duration": 7,
    "start_time": "2022-08-27T08:14:21.394Z"
   },
   {
    "duration": 7,
    "start_time": "2022-08-27T08:15:44.922Z"
   },
   {
    "duration": 5,
    "start_time": "2022-08-27T08:16:23.003Z"
   },
   {
    "duration": 11,
    "start_time": "2022-08-27T08:23:24.415Z"
   },
   {
    "duration": 4,
    "start_time": "2022-08-27T08:23:36.942Z"
   },
   {
    "duration": 35,
    "start_time": "2022-08-27T08:23:39.997Z"
   },
   {
    "duration": 31,
    "start_time": "2022-08-27T08:28:04.874Z"
   },
   {
    "duration": 36663,
    "start_time": "2022-08-27T08:29:16.799Z"
   },
   {
    "duration": 522,
    "start_time": "2022-08-27T08:31:40.235Z"
   },
   {
    "duration": 4,
    "start_time": "2022-08-27T08:38:28.421Z"
   },
   {
    "duration": 32747,
    "start_time": "2022-08-27T08:38:43.633Z"
   },
   {
    "duration": 32987,
    "start_time": "2022-08-27T09:11:27.758Z"
   },
   {
    "duration": 33255,
    "start_time": "2022-08-27T09:12:15.723Z"
   },
   {
    "duration": 7,
    "start_time": "2022-08-27T09:13:47.777Z"
   },
   {
    "duration": 6,
    "start_time": "2022-08-27T09:14:08.603Z"
   },
   {
    "duration": 7,
    "start_time": "2022-08-27T09:14:10.930Z"
   },
   {
    "duration": 60,
    "start_time": "2022-08-27T09:19:08.080Z"
   },
   {
    "duration": 68,
    "start_time": "2022-08-27T09:19:15.177Z"
   },
   {
    "duration": 6,
    "start_time": "2022-08-27T09:20:38.092Z"
   },
   {
    "duration": 6,
    "start_time": "2022-08-27T09:20:39.925Z"
   },
   {
    "duration": 6,
    "start_time": "2022-08-27T09:20:40.597Z"
   },
   {
    "duration": 6,
    "start_time": "2022-08-27T09:21:21.643Z"
   },
   {
    "duration": 1137,
    "start_time": "2022-08-27T09:26:54.975Z"
   },
   {
    "duration": 29,
    "start_time": "2022-08-27T09:26:56.114Z"
   },
   {
    "duration": 3,
    "start_time": "2022-08-27T09:26:56.145Z"
   },
   {
    "duration": 24,
    "start_time": "2022-08-27T09:26:56.150Z"
   },
   {
    "duration": 4,
    "start_time": "2022-08-27T09:26:56.176Z"
   },
   {
    "duration": 10,
    "start_time": "2022-08-27T09:26:56.181Z"
   },
   {
    "duration": 6,
    "start_time": "2022-08-27T09:26:56.193Z"
   },
   {
    "duration": 4,
    "start_time": "2022-08-27T09:26:56.201Z"
   },
   {
    "duration": 7,
    "start_time": "2022-08-27T09:26:56.207Z"
   },
   {
    "duration": 4,
    "start_time": "2022-08-27T09:26:56.216Z"
   },
   {
    "duration": 98,
    "start_time": "2022-08-27T09:26:56.222Z"
   },
   {
    "duration": 32344,
    "start_time": "2022-08-27T09:26:56.321Z"
   },
   {
    "duration": 509,
    "start_time": "2022-08-27T09:27:28.667Z"
   },
   {
    "duration": 7,
    "start_time": "2022-08-27T09:27:29.178Z"
   },
   {
    "duration": 22,
    "start_time": "2022-08-27T09:27:29.186Z"
   },
   {
    "duration": 11,
    "start_time": "2022-08-27T09:34:24.556Z"
   },
   {
    "duration": 80,
    "start_time": "2022-08-27T09:38:38.327Z"
   },
   {
    "duration": 122,
    "start_time": "2022-08-27T09:38:54.432Z"
   },
   {
    "duration": 11,
    "start_time": "2022-08-27T09:39:01.003Z"
   },
   {
    "duration": 12,
    "start_time": "2022-08-27T09:46:20.187Z"
   },
   {
    "duration": 78,
    "start_time": "2022-08-27T09:47:51.968Z"
   },
   {
    "duration": 74,
    "start_time": "2022-08-27T09:47:53.753Z"
   },
   {
    "duration": 5,
    "start_time": "2022-08-27T09:52:07.421Z"
   },
   {
    "duration": 8,
    "start_time": "2022-08-27T09:52:32.063Z"
   },
   {
    "duration": 26,
    "start_time": "2022-08-27T09:53:03.627Z"
   },
   {
    "duration": 7,
    "start_time": "2022-08-27T09:53:14.541Z"
   },
   {
    "duration": 21,
    "start_time": "2022-08-27T09:53:48.667Z"
   },
   {
    "duration": 20,
    "start_time": "2022-08-27T09:53:56.446Z"
   },
   {
    "duration": 9,
    "start_time": "2022-08-27T09:54:02.227Z"
   },
   {
    "duration": 1117,
    "start_time": "2022-08-27T18:37:33.405Z"
   },
   {
    "duration": 112,
    "start_time": "2022-08-27T18:37:34.524Z"
   },
   {
    "duration": 2,
    "start_time": "2022-08-27T18:37:34.638Z"
   },
   {
    "duration": 21,
    "start_time": "2022-08-27T18:37:34.642Z"
   },
   {
    "duration": 3,
    "start_time": "2022-08-27T18:37:34.665Z"
   },
   {
    "duration": 8,
    "start_time": "2022-08-27T18:37:34.670Z"
   },
   {
    "duration": 5,
    "start_time": "2022-08-27T18:37:34.679Z"
   },
   {
    "duration": 22,
    "start_time": "2022-08-27T18:37:34.686Z"
   },
   {
    "duration": 62,
    "start_time": "2022-08-27T18:37:34.710Z"
   },
   {
    "duration": 32381,
    "start_time": "2022-08-27T18:37:34.775Z"
   },
   {
    "duration": 540,
    "start_time": "2022-08-27T18:38:07.158Z"
   },
   {
    "duration": 5,
    "start_time": "2022-08-27T18:38:07.702Z"
   },
   {
    "duration": 116,
    "start_time": "2022-08-27T18:38:07.709Z"
   },
   {
    "duration": 6,
    "start_time": "2022-08-27T18:39:12.279Z"
   },
   {
    "duration": 9,
    "start_time": "2022-08-27T18:39:39.041Z"
   },
   {
    "duration": 3,
    "start_time": "2022-08-27T18:39:49.467Z"
   },
   {
    "duration": 5,
    "start_time": "2022-08-27T18:39:55.202Z"
   },
   {
    "duration": 5,
    "start_time": "2022-08-27T18:40:04.721Z"
   },
   {
    "duration": 12,
    "start_time": "2022-08-27T18:40:23.303Z"
   },
   {
    "duration": 9,
    "start_time": "2022-08-27T18:40:28.270Z"
   },
   {
    "duration": 2,
    "start_time": "2022-08-27T18:40:35.369Z"
   },
   {
    "duration": 3,
    "start_time": "2022-08-27T18:40:44.517Z"
   },
   {
    "duration": 1109,
    "start_time": "2022-08-27T18:40:52.263Z"
   },
   {
    "duration": 0,
    "start_time": "2022-08-27T18:40:53.374Z"
   },
   {
    "duration": 0,
    "start_time": "2022-08-27T18:40:53.375Z"
   },
   {
    "duration": 0,
    "start_time": "2022-08-27T18:40:53.376Z"
   },
   {
    "duration": 0,
    "start_time": "2022-08-27T18:40:53.378Z"
   },
   {
    "duration": 0,
    "start_time": "2022-08-27T18:40:53.379Z"
   },
   {
    "duration": 0,
    "start_time": "2022-08-27T18:40:53.386Z"
   },
   {
    "duration": 0,
    "start_time": "2022-08-27T18:40:53.388Z"
   },
   {
    "duration": 0,
    "start_time": "2022-08-27T18:40:53.389Z"
   },
   {
    "duration": 0,
    "start_time": "2022-08-27T18:40:53.390Z"
   },
   {
    "duration": 0,
    "start_time": "2022-08-27T18:40:53.391Z"
   },
   {
    "duration": 0,
    "start_time": "2022-08-27T18:40:53.391Z"
   },
   {
    "duration": 0,
    "start_time": "2022-08-27T18:40:53.392Z"
   },
   {
    "duration": 0,
    "start_time": "2022-08-27T18:40:53.394Z"
   },
   {
    "duration": 8,
    "start_time": "2022-08-27T18:41:55.804Z"
   },
   {
    "duration": 1153,
    "start_time": "2022-08-27T18:42:13.582Z"
   },
   {
    "duration": 30,
    "start_time": "2022-08-27T18:42:14.737Z"
   },
   {
    "duration": 3,
    "start_time": "2022-08-27T18:42:14.769Z"
   },
   {
    "duration": 54,
    "start_time": "2022-08-27T18:42:14.774Z"
   },
   {
    "duration": 17,
    "start_time": "2022-08-27T18:42:14.830Z"
   },
   {
    "duration": 27,
    "start_time": "2022-08-27T18:42:14.849Z"
   },
   {
    "duration": 32,
    "start_time": "2022-08-27T18:42:14.878Z"
   },
   {
    "duration": 15,
    "start_time": "2022-08-27T18:42:14.911Z"
   },
   {
    "duration": 82,
    "start_time": "2022-08-27T18:42:14.928Z"
   },
   {
    "duration": 32801,
    "start_time": "2022-08-27T18:42:15.012Z"
   },
   {
    "duration": 526,
    "start_time": "2022-08-27T18:42:47.815Z"
   },
   {
    "duration": 6,
    "start_time": "2022-08-27T18:42:48.343Z"
   },
   {
    "duration": 5,
    "start_time": "2022-08-27T18:42:48.351Z"
   },
   {
    "duration": 8,
    "start_time": "2022-08-27T18:42:48.358Z"
   },
   {
    "duration": 121,
    "start_time": "2022-08-27T18:42:48.368Z"
   },
   {
    "duration": 6,
    "start_time": "2022-08-27T18:43:07.261Z"
   },
   {
    "duration": 822,
    "start_time": "2022-08-27T18:43:19.577Z"
   },
   {
    "duration": 6,
    "start_time": "2022-08-27T18:43:20.451Z"
   },
   {
    "duration": 697,
    "start_time": "2022-08-27T18:43:27.001Z"
   },
   {
    "duration": 15,
    "start_time": "2022-08-27T18:43:43.589Z"
   },
   {
    "duration": 8,
    "start_time": "2022-08-27T18:43:48.774Z"
   },
   {
    "duration": 6317,
    "start_time": "2022-08-27T18:44:30.890Z"
   },
   {
    "duration": 3,
    "start_time": "2022-08-27T18:44:46.669Z"
   },
   {
    "duration": 5,
    "start_time": "2022-08-27T18:44:47.759Z"
   },
   {
    "duration": 7,
    "start_time": "2022-08-27T18:45:00.485Z"
   },
   {
    "duration": 4,
    "start_time": "2022-08-27T18:45:00.926Z"
   },
   {
    "duration": 4,
    "start_time": "2022-08-27T18:45:05.668Z"
   },
   {
    "duration": 3,
    "start_time": "2022-08-27T18:45:06.162Z"
   },
   {
    "duration": 4,
    "start_time": "2022-08-27T18:45:16.006Z"
   },
   {
    "duration": 7,
    "start_time": "2022-08-27T18:45:16.407Z"
   },
   {
    "duration": 14,
    "start_time": "2022-08-27T18:45:23.854Z"
   },
   {
    "duration": 17,
    "start_time": "2022-08-27T18:45:37.225Z"
   },
   {
    "duration": 6,
    "start_time": "2022-08-27T18:46:40.065Z"
   },
   {
    "duration": 19,
    "start_time": "2022-08-27T18:46:49.802Z"
   },
   {
    "duration": 7,
    "start_time": "2022-08-27T18:47:14.180Z"
   },
   {
    "duration": 7,
    "start_time": "2022-08-27T18:48:03.065Z"
   },
   {
    "duration": 5,
    "start_time": "2022-08-27T18:48:06.022Z"
   },
   {
    "duration": 9,
    "start_time": "2022-08-27T18:48:11.942Z"
   },
   {
    "duration": 10,
    "start_time": "2022-08-27T18:48:33.537Z"
   },
   {
    "duration": 1195,
    "start_time": "2022-08-27T18:48:44.977Z"
   },
   {
    "duration": 46,
    "start_time": "2022-08-27T18:48:46.174Z"
   },
   {
    "duration": 3,
    "start_time": "2022-08-27T18:48:46.222Z"
   },
   {
    "duration": 35,
    "start_time": "2022-08-27T18:48:46.227Z"
   },
   {
    "duration": 5,
    "start_time": "2022-08-27T18:48:46.265Z"
   },
   {
    "duration": 42,
    "start_time": "2022-08-27T18:48:46.272Z"
   },
   {
    "duration": 12,
    "start_time": "2022-08-27T18:48:46.316Z"
   },
   {
    "duration": 23,
    "start_time": "2022-08-27T18:48:46.331Z"
   },
   {
    "duration": 93,
    "start_time": "2022-08-27T18:48:46.356Z"
   },
   {
    "duration": 32971,
    "start_time": "2022-08-27T18:48:46.452Z"
   },
   {
    "duration": 517,
    "start_time": "2022-08-27T18:49:19.425Z"
   },
   {
    "duration": 6,
    "start_time": "2022-08-27T18:49:19.944Z"
   },
   {
    "duration": 9,
    "start_time": "2022-08-27T18:49:19.952Z"
   },
   {
    "duration": 129,
    "start_time": "2022-08-27T18:49:19.963Z"
   },
   {
    "duration": 0,
    "start_time": "2022-08-27T18:49:20.095Z"
   },
   {
    "duration": 0,
    "start_time": "2022-08-27T18:49:20.101Z"
   },
   {
    "duration": 9,
    "start_time": "2022-08-27T18:50:20.400Z"
   },
   {
    "duration": 4,
    "start_time": "2022-08-27T18:50:23.859Z"
   },
   {
    "duration": 17,
    "start_time": "2022-08-27T18:50:53.948Z"
   },
   {
    "duration": 8,
    "start_time": "2022-08-27T18:51:22.865Z"
   },
   {
    "duration": 3,
    "start_time": "2022-08-27T18:51:25.436Z"
   },
   {
    "duration": 8,
    "start_time": "2022-08-27T18:51:27.501Z"
   },
   {
    "duration": 12,
    "start_time": "2022-08-27T18:52:52.183Z"
   },
   {
    "duration": 12,
    "start_time": "2022-08-27T18:55:09.023Z"
   },
   {
    "duration": 5,
    "start_time": "2022-08-27T18:55:50.999Z"
   },
   {
    "duration": 837,
    "start_time": "2022-08-27T18:55:57.908Z"
   },
   {
    "duration": 4,
    "start_time": "2022-08-27T18:56:02.057Z"
   },
   {
    "duration": 617,
    "start_time": "2022-08-27T18:56:10.453Z"
   },
   {
    "duration": 655,
    "start_time": "2022-08-27T18:56:20.981Z"
   },
   {
    "duration": 9,
    "start_time": "2022-08-27T18:56:33.099Z"
   },
   {
    "duration": 10,
    "start_time": "2022-08-27T19:04:01.566Z"
   },
   {
    "duration": 3,
    "start_time": "2022-08-27T19:04:07.105Z"
   },
   {
    "duration": 6,
    "start_time": "2022-08-27T19:04:11.604Z"
   },
   {
    "duration": 5,
    "start_time": "2022-08-27T19:05:33.661Z"
   },
   {
    "duration": 8,
    "start_time": "2022-08-27T19:05:49.124Z"
   },
   {
    "duration": 8,
    "start_time": "2022-08-27T19:06:09.788Z"
   },
   {
    "duration": 15,
    "start_time": "2022-08-27T19:06:53.302Z"
   },
   {
    "duration": 7,
    "start_time": "2022-08-27T19:07:00.904Z"
   },
   {
    "duration": 2,
    "start_time": "2022-08-27T19:07:25.218Z"
   },
   {
    "duration": 6,
    "start_time": "2022-08-27T19:07:31.030Z"
   },
   {
    "duration": 4,
    "start_time": "2022-08-27T19:07:39.328Z"
   },
   {
    "duration": 9,
    "start_time": "2022-08-27T19:07:52.906Z"
   },
   {
    "duration": 6,
    "start_time": "2022-08-27T19:08:29.023Z"
   },
   {
    "duration": 7,
    "start_time": "2022-08-27T19:10:24.284Z"
   },
   {
    "duration": 6,
    "start_time": "2022-08-27T19:10:34.618Z"
   },
   {
    "duration": 9,
    "start_time": "2022-08-27T19:12:45.613Z"
   },
   {
    "duration": 9,
    "start_time": "2022-08-27T19:12:59.941Z"
   },
   {
    "duration": 9,
    "start_time": "2022-08-27T19:13:08.241Z"
   },
   {
    "duration": 10,
    "start_time": "2022-08-27T19:13:14.672Z"
   },
   {
    "duration": 8,
    "start_time": "2022-08-27T19:13:20.664Z"
   },
   {
    "duration": 8,
    "start_time": "2022-08-27T19:13:30.473Z"
   },
   {
    "duration": 9,
    "start_time": "2022-08-27T19:14:04.534Z"
   },
   {
    "duration": 11,
    "start_time": "2022-08-27T19:14:15.114Z"
   },
   {
    "duration": 8,
    "start_time": "2022-08-27T19:14:33.746Z"
   },
   {
    "duration": 4,
    "start_time": "2022-08-27T19:15:07.709Z"
   },
   {
    "duration": 9,
    "start_time": "2022-08-27T19:15:21.335Z"
   },
   {
    "duration": 8,
    "start_time": "2022-08-27T19:15:41.529Z"
   },
   {
    "duration": 19,
    "start_time": "2022-08-27T19:16:31.806Z"
   },
   {
    "duration": 8,
    "start_time": "2022-08-27T19:16:59.918Z"
   },
   {
    "duration": 5,
    "start_time": "2022-08-27T19:17:10.558Z"
   },
   {
    "duration": 6,
    "start_time": "2022-08-27T19:17:17.811Z"
   },
   {
    "duration": 5,
    "start_time": "2022-08-27T19:17:31.861Z"
   },
   {
    "duration": 5,
    "start_time": "2022-08-27T19:20:23.487Z"
   },
   {
    "duration": 5,
    "start_time": "2022-08-27T19:20:28.632Z"
   },
   {
    "duration": 5,
    "start_time": "2022-08-27T19:20:32.279Z"
   },
   {
    "duration": 70,
    "start_time": "2022-08-27T19:20:37.426Z"
   },
   {
    "duration": 7,
    "start_time": "2022-08-27T19:20:42.375Z"
   },
   {
    "duration": 13,
    "start_time": "2022-08-27T19:21:00.804Z"
   },
   {
    "duration": 11,
    "start_time": "2022-08-27T19:21:20.563Z"
   },
   {
    "duration": 15,
    "start_time": "2022-08-27T19:21:25.484Z"
   },
   {
    "duration": 11,
    "start_time": "2022-08-27T19:21:27.715Z"
   },
   {
    "duration": 10,
    "start_time": "2022-08-27T19:21:30.812Z"
   },
   {
    "duration": 5,
    "start_time": "2022-08-27T19:21:34.608Z"
   },
   {
    "duration": 4,
    "start_time": "2022-08-27T19:21:42.901Z"
   },
   {
    "duration": 4,
    "start_time": "2022-08-27T19:21:50.227Z"
   },
   {
    "duration": 3,
    "start_time": "2022-08-27T19:21:55.138Z"
   },
   {
    "duration": 5,
    "start_time": "2022-08-27T19:21:55.600Z"
   },
   {
    "duration": 1089,
    "start_time": "2022-08-27T19:22:30.159Z"
   },
   {
    "duration": 30,
    "start_time": "2022-08-27T19:22:31.250Z"
   },
   {
    "duration": 3,
    "start_time": "2022-08-27T19:22:31.282Z"
   },
   {
    "duration": 41,
    "start_time": "2022-08-27T19:22:31.288Z"
   },
   {
    "duration": 4,
    "start_time": "2022-08-27T19:22:31.330Z"
   },
   {
    "duration": 9,
    "start_time": "2022-08-27T19:22:31.336Z"
   },
   {
    "duration": 13,
    "start_time": "2022-08-27T19:22:31.346Z"
   },
   {
    "duration": 12,
    "start_time": "2022-08-27T19:22:31.360Z"
   },
   {
    "duration": 71,
    "start_time": "2022-08-27T19:22:31.373Z"
   },
   {
    "duration": 32107,
    "start_time": "2022-08-27T19:22:31.446Z"
   },
   {
    "duration": 569,
    "start_time": "2022-08-27T19:23:03.555Z"
   },
   {
    "duration": 6,
    "start_time": "2022-08-27T19:23:04.126Z"
   },
   {
    "duration": 83,
    "start_time": "2022-08-27T19:23:04.133Z"
   },
   {
    "duration": 0,
    "start_time": "2022-08-27T19:23:04.217Z"
   },
   {
    "duration": 6,
    "start_time": "2022-08-27T19:24:02.000Z"
   },
   {
    "duration": 6,
    "start_time": "2022-08-27T19:24:18.182Z"
   },
   {
    "duration": 6,
    "start_time": "2022-08-27T19:25:17.572Z"
   },
   {
    "duration": 7,
    "start_time": "2022-08-27T19:25:26.772Z"
   },
   {
    "duration": 6,
    "start_time": "2022-08-27T19:33:37.238Z"
   },
   {
    "duration": 46,
    "start_time": "2022-08-27T19:36:37.334Z"
   },
   {
    "duration": 8,
    "start_time": "2022-08-27T19:39:28.827Z"
   },
   {
    "duration": 7,
    "start_time": "2022-08-27T19:39:36.725Z"
   },
   {
    "duration": 1014,
    "start_time": "2022-08-28T05:39:06.944Z"
   },
   {
    "duration": 114,
    "start_time": "2022-08-28T05:39:07.960Z"
   },
   {
    "duration": 3,
    "start_time": "2022-08-28T05:39:08.075Z"
   },
   {
    "duration": 20,
    "start_time": "2022-08-28T05:39:08.081Z"
   },
   {
    "duration": 4,
    "start_time": "2022-08-28T05:39:08.102Z"
   },
   {
    "duration": 14,
    "start_time": "2022-08-28T05:39:08.108Z"
   },
   {
    "duration": 11,
    "start_time": "2022-08-28T05:39:08.124Z"
   },
   {
    "duration": 9,
    "start_time": "2022-08-28T05:39:08.137Z"
   },
   {
    "duration": 83,
    "start_time": "2022-08-28T05:39:08.148Z"
   },
   {
    "duration": 29977,
    "start_time": "2022-08-28T05:39:08.234Z"
   },
   {
    "duration": 502,
    "start_time": "2022-08-28T05:39:38.213Z"
   },
   {
    "duration": 5,
    "start_time": "2022-08-28T05:39:38.717Z"
   },
   {
    "duration": 11,
    "start_time": "2022-08-28T05:39:38.723Z"
   },
   {
    "duration": 8,
    "start_time": "2022-08-28T05:42:37.219Z"
   },
   {
    "duration": 7,
    "start_time": "2022-08-28T05:43:25.873Z"
   }
  ],
  "kernelspec": {
   "display_name": "Python 3 (ipykernel)",
   "language": "python",
   "name": "python3"
  },
  "language_info": {
   "codemirror_mode": {
    "name": "ipython",
    "version": 3
   },
   "file_extension": ".py",
   "mimetype": "text/x-python",
   "name": "python",
   "nbconvert_exporter": "python",
   "pygments_lexer": "ipython3",
   "version": "3.9.13"
  },
  "toc": {
   "base_numbering": 1,
   "nav_menu": {},
   "number_sections": true,
   "sideBar": true,
   "skip_h1_title": true,
   "title_cell": "Table of Contents",
   "title_sidebar": "Contents",
   "toc_cell": false,
   "toc_position": {},
   "toc_section_display": true,
   "toc_window_display": false
  }
 },
 "nbformat": 4,
 "nbformat_minor": 2
}
