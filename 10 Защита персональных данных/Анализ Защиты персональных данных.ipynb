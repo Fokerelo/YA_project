{
 "cells": [
  {
   "cell_type": "markdown",
   "metadata": {
    "toc": true
   },
   "source": [
    "<h1>Содержание<span class=\"tocSkip\"></span></h1>\n",
    "<div class=\"toc\"><ul class=\"toc-item\"><li><span><a href=\"#Загрузка-данных\" data-toc-modified-id=\"Загрузка-данных-1\"><span class=\"toc-item-num\">1&nbsp;&nbsp;</span>Загрузка данных</a></span></li><li><span><a href=\"#Умножение-матриц\" data-toc-modified-id=\"Умножение-матриц-2\"><span class=\"toc-item-num\">2&nbsp;&nbsp;</span>Умножение матриц</a></span></li><li><span><a href=\"#Алгоритм-преобразования\" data-toc-modified-id=\"Алгоритм-преобразования-3\"><span class=\"toc-item-num\">3&nbsp;&nbsp;</span>Алгоритм преобразования</a></span></li><li><span><a href=\"#Проверка-алгоритма\" data-toc-modified-id=\"Проверка-алгоритма-4\"><span class=\"toc-item-num\">4&nbsp;&nbsp;</span>Проверка алгоритма</a></span></li><li><span><a href=\"#Чек-лист-проверки\" data-toc-modified-id=\"Чек-лист-проверки-5\"><span class=\"toc-item-num\">5&nbsp;&nbsp;</span>Чек-лист проверки</a></span></li><li><span><a href=\"#Общий-вывод-по-проекту\" data-toc-modified-id=\"Общий-вывод-по-проекту-6\"><span class=\"toc-item-num\">6&nbsp;&nbsp;</span><b>Общий вывод по проекту</b></a></span></li><li><span><a href=\"#Общий-вывод-по-проекту-V2\" data-toc-modified-id=\"Общий-вывод-по-проекту-V2-7\"><span class=\"toc-item-num\">7&nbsp;&nbsp;</span><b>Общий вывод по проекту V2</b></a></span></li><li><span><a href=\"#Общий-вывод-по-проекту-V3\" data-toc-modified-id=\"Общий-вывод-по-проекту-V3-8\"><span class=\"toc-item-num\">8&nbsp;&nbsp;</span><b>Общий вывод по проекту V3</b></a></span></li><li><span><a href=\"#Общий-вывод-по-проекту-V4\" data-toc-modified-id=\"Общий-вывод-по-проекту-V4-9\"><span class=\"toc-item-num\">9&nbsp;&nbsp;</span><b>Общий вывод по проекту V4</b></a></span></li><li><span><a href=\"#Общий-вывод-по-проекту-V5\" data-toc-modified-id=\"Общий-вывод-по-проекту-V5-10\"><span class=\"toc-item-num\">10&nbsp;&nbsp;</span><b>Общий вывод по проекту V5</b></a></span></li></ul></div>"
   ]
  },
  {
   "cell_type": "markdown",
   "metadata": {},
   "source": [
    "# Защита персональных данных клиентов"
   ]
  },
  {
   "cell_type": "markdown",
   "metadata": {},
   "source": [
    "Вам нужно защитить данные клиентов страховой компании «Хоть потоп». Разработайте такой метод преобразования данных, чтобы по ним было сложно восстановить персональную информацию. Обоснуйте корректность его работы.\n",
    "\n",
    "Нужно защитить данные, чтобы при преобразовании качество моделей машинного обучения не ухудшилось. Подбирать наилучшую модель не требуется."
   ]
  },
  {
   "cell_type": "markdown",
   "metadata": {},
   "source": [
    "## Загрузка данных"
   ]
  },
  {
   "cell_type": "code",
   "execution_count": 1,
   "metadata": {},
   "outputs": [],
   "source": [
    "import pandas as pd\n",
    "import numpy as np\n",
    "from sklearn.linear_model import LinearRegression\n",
    "from sklearn.metrics import r2_score\n",
    "from sklearn.model_selection import train_test_split\n",
    "from sklearn.metrics import mean_squared_error\n",
    "\n",
    "STATE=12345 # запишу константу random_state"
   ]
  },
  {
   "cell_type": "code",
   "execution_count": 2,
   "metadata": {},
   "outputs": [],
   "source": [
    "data = pd.read_csv('/datasets/insurance.csv')"
   ]
  },
  {
   "cell_type": "code",
   "execution_count": 3,
   "metadata": {},
   "outputs": [],
   "source": [
    "def dano(df):\n",
    "    display(df.head())\n",
    "    display(df.info(),\n",
    "            'Количество пропусков:', df.isna().sum(),         \n",
    "           )"
   ]
  },
  {
   "cell_type": "code",
   "execution_count": 4,
   "metadata": {},
   "outputs": [
    {
     "data": {
      "text/html": [
       "<div>\n",
       "<style scoped>\n",
       "    .dataframe tbody tr th:only-of-type {\n",
       "        vertical-align: middle;\n",
       "    }\n",
       "\n",
       "    .dataframe tbody tr th {\n",
       "        vertical-align: top;\n",
       "    }\n",
       "\n",
       "    .dataframe thead th {\n",
       "        text-align: right;\n",
       "    }\n",
       "</style>\n",
       "<table border=\"1\" class=\"dataframe\">\n",
       "  <thead>\n",
       "    <tr style=\"text-align: right;\">\n",
       "      <th></th>\n",
       "      <th>Пол</th>\n",
       "      <th>Возраст</th>\n",
       "      <th>Зарплата</th>\n",
       "      <th>Члены семьи</th>\n",
       "      <th>Страховые выплаты</th>\n",
       "    </tr>\n",
       "  </thead>\n",
       "  <tbody>\n",
       "    <tr>\n",
       "      <th>0</th>\n",
       "      <td>1</td>\n",
       "      <td>41.0</td>\n",
       "      <td>49600.0</td>\n",
       "      <td>1</td>\n",
       "      <td>0</td>\n",
       "    </tr>\n",
       "    <tr>\n",
       "      <th>1</th>\n",
       "      <td>0</td>\n",
       "      <td>46.0</td>\n",
       "      <td>38000.0</td>\n",
       "      <td>1</td>\n",
       "      <td>1</td>\n",
       "    </tr>\n",
       "    <tr>\n",
       "      <th>2</th>\n",
       "      <td>0</td>\n",
       "      <td>29.0</td>\n",
       "      <td>21000.0</td>\n",
       "      <td>0</td>\n",
       "      <td>0</td>\n",
       "    </tr>\n",
       "    <tr>\n",
       "      <th>3</th>\n",
       "      <td>0</td>\n",
       "      <td>21.0</td>\n",
       "      <td>41700.0</td>\n",
       "      <td>2</td>\n",
       "      <td>0</td>\n",
       "    </tr>\n",
       "    <tr>\n",
       "      <th>4</th>\n",
       "      <td>1</td>\n",
       "      <td>28.0</td>\n",
       "      <td>26100.0</td>\n",
       "      <td>0</td>\n",
       "      <td>0</td>\n",
       "    </tr>\n",
       "  </tbody>\n",
       "</table>\n",
       "</div>"
      ],
      "text/plain": [
       "   Пол  Возраст  Зарплата  Члены семьи  Страховые выплаты\n",
       "0    1     41.0   49600.0            1                  0\n",
       "1    0     46.0   38000.0            1                  1\n",
       "2    0     29.0   21000.0            0                  0\n",
       "3    0     21.0   41700.0            2                  0\n",
       "4    1     28.0   26100.0            0                  0"
      ]
     },
     "metadata": {},
     "output_type": "display_data"
    },
    {
     "name": "stdout",
     "output_type": "stream",
     "text": [
      "<class 'pandas.core.frame.DataFrame'>\n",
      "RangeIndex: 5000 entries, 0 to 4999\n",
      "Data columns (total 5 columns):\n",
      " #   Column             Non-Null Count  Dtype  \n",
      "---  ------             --------------  -----  \n",
      " 0   Пол                5000 non-null   int64  \n",
      " 1   Возраст            5000 non-null   float64\n",
      " 2   Зарплата           5000 non-null   float64\n",
      " 3   Члены семьи        5000 non-null   int64  \n",
      " 4   Страховые выплаты  5000 non-null   int64  \n",
      "dtypes: float64(2), int64(3)\n",
      "memory usage: 195.4 KB\n"
     ]
    },
    {
     "data": {
      "text/plain": [
       "None"
      ]
     },
     "metadata": {},
     "output_type": "display_data"
    },
    {
     "data": {
      "text/plain": [
       "'Количество пропусков:'"
      ]
     },
     "metadata": {},
     "output_type": "display_data"
    },
    {
     "data": {
      "text/plain": [
       "Пол                  0\n",
       "Возраст              0\n",
       "Зарплата             0\n",
       "Члены семьи          0\n",
       "Страховые выплаты    0\n",
       "dtype: int64"
      ]
     },
     "metadata": {},
     "output_type": "display_data"
    }
   ],
   "source": [
    "dano(data)"
   ]
  },
  {
   "cell_type": "markdown",
   "metadata": {},
   "source": [
    "**Вывод**\n",
    "- 5000 строк, без пропусков\n",
    "- Названия столбцов записанны кирилицей и с верхним регистром\n",
    "- Типы данных соответствуют данным в столбцах"
   ]
  },
  {
   "cell_type": "markdown",
   "metadata": {},
   "source": [
    "## Умножение матриц"
   ]
  },
  {
   "cell_type": "markdown",
   "metadata": {},
   "source": [
    "В этом задании вы можете записывать формулы в *Jupyter Notebook.*\n",
    "\n",
    "Чтобы записать формулу внутри текста, окружите её символами доллара \\\\$; если снаружи —  двойными символами \\\\$\\\\$. Эти формулы записываются на языке вёрстки *LaTeX.* \n",
    "\n",
    "Для примера мы записали формулы линейной регрессии. Можете их скопировать и отредактировать, чтобы решить задачу.\n",
    "\n",
    "Работать в *LaTeX* необязательно."
   ]
  },
  {
   "cell_type": "markdown",
   "metadata": {},
   "source": [
    "Обозначения:\n",
    "\n",
    "- $X$ — матрица признаков (нулевой столбец состоит из единиц)\n",
    "\n",
    "- $y$ — вектор целевого признака\n",
    "\n",
    "- $P$ — матрица, на которую умножаются признаки\n",
    "\n",
    "- $w$ — вектор весов линейной регрессии (нулевой элемент равен сдвигу)"
   ]
  },
  {
   "cell_type": "markdown",
   "metadata": {},
   "source": [
    "Предсказания:\n",
    "\n",
    "$$\n",
    "a = Xw\n",
    "$$\n",
    "\n",
    "Задача обучения:\n",
    "\n",
    "$$\n",
    "w = \\arg\\min_w MSE(Xw, y)\n",
    "$$\n",
    "\n",
    "Формула обучения:\n",
    "\n",
    "$$\n",
    "w = (X^T X)^{-1} X^T y\n",
    "$$"
   ]
  },
  {
   "cell_type": "code",
   "execution_count": 5,
   "metadata": {},
   "outputs": [],
   "source": [
    "features = data.drop('Страховые выплаты', axis=1)\n",
    "target = data['Страховые выплаты']\n",
    "r2 = []"
   ]
  },
  {
   "cell_type": "code",
   "execution_count": 6,
   "metadata": {},
   "outputs": [],
   "source": [
    "#создам функцию дл вывода метрики R2\n",
    "def r2_model(features,target):\n",
    "    features_train, features_test, target_train, target_test = train_test_split(features, \n",
    "                                                                            target,\n",
    "                                                                            test_size=0.3, \n",
    "                                                                            random_state=STATE)\n",
    "    model = LinearRegression()\n",
    "    model.fit(features_train, target_train)\n",
    "    predictions = model.predict(features_test)\n",
    "    r2.append(r2_score(target_test, predictions))\n",
    "    return r2_score(target_test, predictions)"
   ]
  },
  {
   "cell_type": "code",
   "execution_count": 7,
   "metadata": {
    "scrolled": false
   },
   "outputs": [
    {
     "name": "stdout",
     "output_type": "stream",
     "text": [
      "Показатель метрики R2 модели с обычными данными:\n"
     ]
    },
    {
     "data": {
      "text/plain": [
       "0.4305278542485165"
      ]
     },
     "execution_count": 7,
     "metadata": {},
     "output_type": "execute_result"
    }
   ],
   "source": [
    "print(\"Показатель метрики R2 модели с обычными данными:\")\n",
    "r2_model(features, target)"
   ]
  },
  {
   "cell_type": "markdown",
   "metadata": {},
   "source": [
    "Создам случайную матрицу, такой же размерности как и матрица признаков"
   ]
  },
  {
   "cell_type": "code",
   "execution_count": 8,
   "metadata": {},
   "outputs": [
    {
     "data": {
      "text/plain": [
       "array([[ 1.00000000e+00, -5.06487359e-17, -3.10676638e-17,\n",
       "         1.28406032e-16],\n",
       "       [ 2.28596121e-16,  1.00000000e+00,  3.10110950e-17,\n",
       "         1.32217974e-16],\n",
       "       [ 1.46963815e-17,  2.49961611e-17,  1.00000000e+00,\n",
       "        -1.89468615e-17],\n",
       "       [-2.55243893e-17,  1.23088959e-17, -9.05035891e-19,\n",
       "         1.00000000e+00]])"
      ]
     },
     "execution_count": 8,
     "metadata": {},
     "output_type": "execute_result"
    }
   ],
   "source": [
    "matrix = np.random.rand(4,4)\n",
    "# Проверим обратимая ли матрица получиллась\n",
    "matrix @ np.linalg.inv(matrix)"
   ]
  },
  {
   "cell_type": "markdown",
   "metadata": {},
   "source": [
    "При умножении матрицы на обратную, на главной диагонали единицы - значит марица обратимая"
   ]
  },
  {
   "cell_type": "code",
   "execution_count": 9,
   "metadata": {},
   "outputs": [],
   "source": [
    "o_matrix = features.values @ matrix"
   ]
  },
  {
   "cell_type": "code",
   "execution_count": 10,
   "metadata": {},
   "outputs": [
    {
     "name": "stdout",
     "output_type": "stream",
     "text": [
      "Показатель метрики R2 на данных умноженных на обратимую матрицу\n"
     ]
    },
    {
     "data": {
      "text/plain": [
       "0.43052785424844753"
      ]
     },
     "execution_count": 10,
     "metadata": {},
     "output_type": "execute_result"
    }
   ],
   "source": [
    "print(\"Показатель метрики R2 на данных умноженных на обратимую матрицу\")\n",
    "r2_model(o_matrix, target)"
   ]
  },
  {
   "cell_type": "markdown",
   "metadata": {},
   "source": [
    "**Ответ:** Качество линейной регресии не поменялось\n",
    "\n",
    "**Обоснование:** При умножения матрицы признаков на случайную обратимую матрицу, метрика R2 оказалась без изменений"
   ]
  },
  {
   "cell_type": "markdown",
   "metadata": {},
   "source": [
    "Предсказания:\n",
    "\n",
    "$\n",
    "a = Xw\n",
    "$\n",
    "\n",
    "Задача обучения:\n",
    "\n",
    "$\n",
    "w = \\arg\\min_w MSE(Xw, y)\n",
    "$\n",
    "\n",
    "Формула обучения:\n",
    "\n",
    "$\n",
    "w = (X^T X)^{-1} X^T y\n",
    "$\n",
    "\n",
    "Обозначения:\n",
    "\n",
    "- $X$ — матрица признаков (нулевой столбец состоит из единиц)\n",
    "\n",
    "- $y$ — вектор целевого признака\n",
    "\n",
    "- $P$ — матрица, на которую умножаются признаки\n",
    "\n",
    "- $w$ — вектор весов линейной регрессии (нулевой элемент равен сдвигу)"
   ]
  },
  {
   "cell_type": "markdown",
   "metadata": {},
   "source": [
    "Для проверки работы формулы предсказания создадим рандомные матрицы и векторы и пошагово просмотрим все шаги работы линейной регресии"
   ]
  },
  {
   "cell_type": "code",
   "execution_count": 11,
   "metadata": {},
   "outputs": [],
   "source": [
    "# Создание матриц\n",
    "X = np.random.rand(4,2)\n",
    "P = np.random.rand(2,2)\n",
    "X1 = X.dot(P)"
   ]
  },
  {
   "cell_type": "code",
   "execution_count": 12,
   "metadata": {
    "scrolled": true
   },
   "outputs": [
    {
     "data": {
      "text/plain": [
       "array([[0.14584327],\n",
       "       [0.0464553 ]])"
      ]
     },
     "execution_count": 12,
     "metadata": {},
     "output_type": "execute_result"
    }
   ],
   "source": [
    "# Создание вектора\n",
    "y = np.random.rand(2,1)\n",
    "y = np.array(y)\n",
    "y"
   ]
  },
  {
   "cell_type": "markdown",
   "metadata": {},
   "source": [
    "Подставим в формулу предсказания $a$ формулу вектора весов $w$\n",
    "$$a = X (X^T X)^{-1} X^T y$$\n",
    "Выполним все действия пошагово"
   ]
  },
  {
   "cell_type": "code",
   "execution_count": 13,
   "metadata": {
    "scrolled": true
   },
   "outputs": [
    {
     "data": {
      "text/plain": [
       "array([[2.1331655 , 1.30482281],\n",
       "       [1.30482281, 1.18507871]])"
      ]
     },
     "execution_count": 13,
     "metadata": {},
     "output_type": "execute_result"
    }
   ],
   "source": [
    "X.T @ X"
   ]
  },
  {
   "cell_type": "code",
   "execution_count": 14,
   "metadata": {},
   "outputs": [
    {
     "data": {
      "text/plain": [
       "array([[ 1.4357517 , -1.58082459],\n",
       "       [-1.58082459,  2.58438191]])"
      ]
     },
     "execution_count": 14,
     "metadata": {},
     "output_type": "execute_result"
    }
   ],
   "source": [
    "np.linalg.inv(X.T @ X)"
   ]
  },
  {
   "cell_type": "code",
   "execution_count": 15,
   "metadata": {},
   "outputs": [
    {
     "data": {
      "text/plain": [
       "array([[ 1.00000000e+00, -1.23090137e-17],\n",
       "       [-8.52464349e-16,  1.00000000e+00]])"
      ]
     },
     "execution_count": 15,
     "metadata": {},
     "output_type": "execute_result"
    }
   ],
   "source": [
    "np.linalg.inv(X.T @ X) @ X.T @ X"
   ]
  },
  {
   "cell_type": "markdown",
   "metadata": {},
   "source": [
    "Как видим все матрицы сокращаются до единичной и последнее действие получается умножение единичной матрицы на вектор целевого признака"
   ]
  },
  {
   "cell_type": "code",
   "execution_count": 16,
   "metadata": {},
   "outputs": [
    {
     "data": {
      "text/plain": [
       "array([[0.14584327],\n",
       "       [0.0464553 ]])"
      ]
     },
     "execution_count": 16,
     "metadata": {},
     "output_type": "execute_result"
    }
   ],
   "source": [
    "a = (np.linalg.inv(X.T @ X) @ X.T @ X) @ y\n",
    "a"
   ]
  },
  {
   "cell_type": "code",
   "execution_count": 17,
   "metadata": {},
   "outputs": [
    {
     "data": {
      "text/plain": [
       "array([[0.14584327],\n",
       "       [0.0464553 ]])"
      ]
     },
     "execution_count": 17,
     "metadata": {},
     "output_type": "execute_result"
    }
   ],
   "source": [
    "a1 = (np.linalg.inv(X1.T @ X1) @ X1.T @ X1) @ y\n",
    "a1"
   ]
  },
  {
   "cell_type": "markdown",
   "metadata": {},
   "source": [
    "Даже при изменении данной матрицы - предсказание зависит только от целевого признака"
   ]
  },
  {
   "cell_type": "markdown",
   "metadata": {},
   "source": [
    "Предсказания:\n",
    "\n",
    "$\n",
    "a = Xw\n",
    "$\n",
    "\n",
    "Задача обучения:\n",
    "\n",
    "$\n",
    "w = \\arg\\min_w MSE(Xw, y)\n",
    "$\n",
    "\n",
    "Формула обучения:\n",
    "\n",
    "$\n",
    "w = (X^T X)^{-1} X^T y\n",
    "$\n",
    "\n",
    "Обозначения:\n",
    "\n",
    "- $X$ — матрица признаков (нулевой столбец состоит из единиц)\n",
    "\n",
    "- $y$ — вектор целевого признака\n",
    "\n",
    "- $P$ — матрица, на которую умножаются признаки\n",
    "\n",
    "- $w$ — вектор весов линейной регрессии (нулевой элемент равен сдвигу)"
   ]
  },
  {
   "cell_type": "markdown",
   "metadata": {},
   "source": [
    "Для проверки работы формулы предсказания создадим рандомные матрицы и векторы и пошагово просмотрим все шаги работы линейной регресии"
   ]
  },
  {
   "cell_type": "markdown",
   "metadata": {},
   "source": [
    "И так для проверки алгоритма вычисления мы должны подставить матрицу $P$ в наши формулы и сократить все возможные элементы:\n",
    "$$w′=((XP)^{T}XP)^{−1}(XP)^{T}y$$ из чего следует: $$w′=P^{−1}(X^{T}X)^{−1}(P^{T})^{−1}P^{T}X^{T}y$$\n",
    "Так как матрица $P$ у нас случаная и обратимая получается в формуле выделить два имеющихся равенства:\n",
    "$$(P^{T})^{−1}P^{T} = E$$ и после такой замены выйде: $$w′=P^{−1}(X^{T}X)^{−1}E X^{T}y$$\n",
    "При умножении матрицы на единичную матрицу произведение равно самой матрице, значит второе равенство получается таким:\n",
    "$$(X^{T}X)^{−1} X^{T}y = w$$\n",
    "Значит $$w′ = P^{−1}w$$\n",
    "А предсказание $$ a′ = X P w′ = X P P^{−1}w$$ где снова получается единичная матрица и в итоге \n",
    "$$a′=a$$\n"
   ]
  },
  {
   "cell_type": "code",
   "execution_count": 18,
   "metadata": {},
   "outputs": [],
   "source": [
    "# Создание матриц\n",
    "#X = np.random.rand(4,2)\n",
    "#P = np.random.rand(2,2)\n",
    "#X1 = X.dot(P)"
   ]
  },
  {
   "cell_type": "code",
   "execution_count": 19,
   "metadata": {
    "scrolled": true
   },
   "outputs": [
    {
     "data": {
      "text/plain": [
       "array([[0.18300836],\n",
       "       [0.34907624]])"
      ]
     },
     "execution_count": 19,
     "metadata": {},
     "output_type": "execute_result"
    }
   ],
   "source": [
    "# Создание вектора\n",
    "#y = np.random.rand(2,1)\n",
    "#y = np.array(y)\n",
    "#y"
   ]
  },
  {
   "cell_type": "markdown",
   "metadata": {},
   "source": [
    "Подставим в формулу предсказания $a$ формулу вектора весов $w$\n",
    "$$a = X (X^T X)^{-1} X^T y$$\n",
    "Выполним все действия пошагово"
   ]
  },
  {
   "cell_type": "code",
   "execution_count": 20,
   "metadata": {
    "scrolled": true
   },
   "outputs": [
    {
     "data": {
      "text/plain": [
       "array([[1.31086325, 0.79854394],\n",
       "       [0.79854394, 0.68463233]])"
      ]
     },
     "execution_count": 20,
     "metadata": {},
     "output_type": "execute_result"
    }
   ],
   "source": [
    "## 1 Действие в скобках\n",
    "#X.T @ X"
   ]
  },
  {
   "cell_type": "markdown",
   "metadata": {},
   "source": [
    "<div class=\"alert alert-block alert-danger\">\n",
    "<b>Ошибка❌ V2:</b> \n",
    "    \n",
    "Хмм, а ты точно уверен, что первым шагом будет умножение матриц?)\n",
    "</div>"
   ]
  },
  {
   "cell_type": "markdown",
   "metadata": {},
   "source": [
    "<div class=\"alert alert-block alert-info\">\n",
    "<b>Комментарий студента V2:</b>\n",
    "     \n",
    "Я делаю умножение матриц в скобках, что бы потом матрицу, полученную из их произведения сделать обратной и далее умножать поочереди на матрицу и транспортированную матрицу( не имеет значения порядок умножения по законам математики)\n",
    "    \n",
    "p.s. добавил коментарий к действиям     \n",
    "</div>\n"
   ]
  },
  {
   "cell_type": "markdown",
   "metadata": {},
   "source": [
    "<div class=\"alert alert-block alert-danger\">\n",
    "<b>Ошибка❌ V3:</b> \n",
    "    \n",
    "Окей, хорошо, но давай посмотрим на то, как формула выполняется:\n",
    "    \n",
    "- $$X * (X^T * X)^{-1} * X^T * y = X * X^{-1} * (X^T)^{-1} * X^T * y $$\n",
    "- По определению мы знаем, что у неквадратных матриц обратных матриц не существует\n",
    "- Получается, что само действие X^{-1} неверно, и в коде должно вызвать ошибку\n",
    "- попробуй выполнить np.linalg.inv(X.T) либо np.linalg.inv(X) (у тебя выйдет ошибка), так как np.linalg.inv(X.T @ X) по своему алгоритму первым делом помножит матрицы друг с другом, что по нашим действиям выше неверно (первым делом идет поиск обратимой матрицы)\n",
    "\n",
    "    \n",
    "    \n",
    "- В итоге наша формула весов (где признаки помножены на случайную обратную матрицу) из такой $$w′=((XP)^{T}XP)^{−1}(XP)^{T}y$$    \n",
    "- Превращается в такую $$w′=P^{−1}(X^{T}X)^{−1}(P^{T})^{−1}P^{T}X^{T}y$$. И в заключении имеем $$w′=P^{−1}w$$, которое потом подставляем в формулу предсказания $$a=Xw = X*P*P^{−1}w = X*E*w$$, что и требовалось доказать\n",
    "</div>"
   ]
  },
  {
   "cell_type": "markdown",
   "metadata": {},
   "source": [
    "<div class=\"alert alert-block alert-info\">\n",
    "<b>Комментарий студента V3:</b>\n",
    "     \n",
    "Но почему формула выполняется именно так, а не по другому?ведь \"от перестановки мест множителей произведение не изменяется\", тогда формулу можно выполнять по другому \n",
    "    $$X * (X^T * X)^{-1} * X^T * y = X * X^T * (X^T * X)^{-1} * y $$\n",
    "А так как обратная матрица может быть только у квадратичной матрицы, нельзя вытаскивать из под скобки каждую матрицу по отдельности, потому что именно произведение матрицы на свои транспортировку дасть квадратичную матрицу, что требует формула\n",
    "</div>\n"
   ]
  },
  {
   "cell_type": "markdown",
   "metadata": {},
   "source": [
    "<div class=\"alert alert-block alert-danger\">\n",
    "<b>Ошибка❌ V4:</b> \n",
    "    \n",
    "Ну смотри:\n",
    "    \n",
    "1)  \"от перестановки мест множителей произведение не изменяется\" - данное правило работает только для чисел, а не для матриц, ведь матрицы некоммутативны по основным свойствам матричного произведения ( вот тебе материал для ознакомления, будет интересно) - https://www.berdov.com/works/matrix/umnozhenie-matric/)\n",
    "    \n",
    "2) \"что требует формула\" - формула требует прийти к тому, чтобы предсказание не изменилось: $$a=Xw$$, то есть при умножении матрицы признаков на случайную обратимую матрицу мы не получим другой результат\n",
    "</div>"
   ]
  },
  {
   "cell_type": "markdown",
   "metadata": {},
   "source": [
    "<div class=\"alert alert-block alert-info\">\n",
    "<b>Комментарий студента V4:</b>\n",
    "     \n",
    "Я вчера после отправки проекта тебе потом задумался и пробовал разные варианты решения этого уравнения, как оказалось моем варианте - это какой то частный случай, где должны совпасть определенные условия, такие как :размерность матрицы должна быть строго количество строк больше, чем столбцов, и \"у\" - должен быть специфичный - размерностью равной количеству столбцов, так что я теперь буду предерживаться ТВОЕМУ решению, но мне не понятен момент  $$w′=P^{−1}(X^{T}X)^{−1}(P^{T})^{−1}P^{T}X^{T}y$$. куда деваются тут матрицы X, не вижу варианта их сокращения, разве не останется один из Х? $$w′=P^{−1}w$$\n",
    "    \n",
    "</div>\n"
   ]
  },
  {
   "cell_type": "markdown",
   "metadata": {},
   "source": [
    "<div class=\"alert alert-block alert-success\">\n",
    "<b>Успех👍 V5:</b> \n",
    "    \n",
    "Миша, ты красавчик, честно, потому что держаться за свою позицию важно и ты правильно все делал). Я рад, что смог хотя бы направить тебя в сторону более верного варианта решения.\n",
    "    \n",
    "По поводу твоего вопроса - в данный момент мы можем провести перевод в единичную матрицу данных слогаемых: $$(P^{T})^{−1}P^{T}$$, в итоге у нас остается следующее: $$ w′=P^{−1}(X^{T}X)^{−1}EX^{T}y = P^{−1}(X^{T}X)^{−1}X^{T}y $$. и здесь можно заметить, что у нас в формуле появляется еще одна формула: $$ w=(X^{T}X)^{−1}X^{T}y $$. Ну а далее мы заменяем: $$(X^{T}X)^{−1}X^{T}y$$ на: $$ w$$ и получаем: $$w′=P^{−1}w$$. А в конце ты уже все прекрасно знаешь)\n",
    "</div>"
   ]
  },
  {
   "cell_type": "code",
   "execution_count": 21,
   "metadata": {},
   "outputs": [
    {
     "data": {
      "text/plain": [
       "array([[ 1.00000000e+00, -1.14586268e-16],\n",
       "       [ 8.68396677e-17,  1.00000000e+00]])"
      ]
     },
     "execution_count": 21,
     "metadata": {},
     "output_type": "execute_result"
    }
   ],
   "source": [
    "# 3 и 4 действия - умножение на матрицу и транспортированную матрицу\n",
    "#от перестановки местами множителей произведение не меняется\n",
    "#np.linalg.inv(X.T @ X) @ X.T @ X"
   ]
  },
  {
   "cell_type": "markdown",
   "metadata": {},
   "source": [
    "Как видим все матрицы сокращаются до единичной и последнее действие получается умножение единичной матрицы на вектор целевого признака"
   ]
  },
  {
   "cell_type": "code",
   "execution_count": 22,
   "metadata": {
    "scrolled": true
   },
   "outputs": [
    {
     "data": {
      "text/plain": [
       "array([[0.18300836],\n",
       "       [0.34907624]])"
      ]
     },
     "execution_count": 22,
     "metadata": {},
     "output_type": "execute_result"
    }
   ],
   "source": [
    "#a= (np.linalg.inv(X.T @ X) @ X.T @ X) @ y\n",
    "#a"
   ]
  },
  {
   "cell_type": "code",
   "execution_count": 23,
   "metadata": {},
   "outputs": [
    {
     "data": {
      "text/plain": [
       "array([[0.18300836],\n",
       "       [0.34907624]])"
      ]
     },
     "execution_count": 23,
     "metadata": {},
     "output_type": "execute_result"
    }
   ],
   "source": [
    "#a1 = (np.linalg.inv(X1.T @ X1) @ X1.T @ X1) @ y\n",
    "#a1"
   ]
  },
  {
   "cell_type": "markdown",
   "metadata": {},
   "source": [
    "Даже при изменении данной матрицы - предсказание зависит только от целевого признака"
   ]
  },
  {
   "cell_type": "markdown",
   "metadata": {},
   "source": [
    "## Алгоритм преобразования"
   ]
  },
  {
   "cell_type": "markdown",
   "metadata": {},
   "source": [
    "**Алгоритм**\n",
    "$$\n",
    "((features.values)*100) @ matrix\n",
    "$$"
   ]
  },
  {
   "cell_type": "markdown",
   "metadata": {},
   "source": [
    "**Обоснование**\n",
    "\n",
    "Как бы мы не меняли наши принзаки качество линейной регрессии будет одинаковое, так как вектор весов линейной регрессии в новой матрице будет соответствовать весу в исходной.\n",
    "<br> Проверим наши слова:"
   ]
  },
  {
   "cell_type": "markdown",
   "metadata": {},
   "source": [
    "## Проверка алгоритма"
   ]
  },
  {
   "cell_type": "code",
   "execution_count": 24,
   "metadata": {},
   "outputs": [],
   "source": [
    "new_matrix = ((𝑓𝑒𝑎𝑡𝑢𝑟𝑒𝑠.𝑣𝑎𝑙𝑢𝑒𝑠)*100)@𝑚𝑎𝑡𝑟𝑖𝑥"
   ]
  },
  {
   "cell_type": "code",
   "execution_count": 25,
   "metadata": {},
   "outputs": [
    {
     "name": "stdout",
     "output_type": "stream",
     "text": [
      "Показатель метрики R2 на данных с придуманным алгоритмом\n"
     ]
    },
    {
     "data": {
      "text/plain": [
       "0.4305278542484081"
      ]
     },
     "execution_count": 25,
     "metadata": {},
     "output_type": "execute_result"
    }
   ],
   "source": [
    "print(\"Показатель метрики R2 на данных с придуманным алгоритмом\")\n",
    "r2_model(new_matrix, target)"
   ]
  },
  {
   "cell_type": "code",
   "execution_count": 26,
   "metadata": {},
   "outputs": [],
   "source": [
    "r2_taple=pd.DataFrame(r2, index=['features', 'features.values @ matrix', 'algoritm'])"
   ]
  },
  {
   "cell_type": "code",
   "execution_count": 27,
   "metadata": {},
   "outputs": [
    {
     "data": {
      "text/html": [
       "<div>\n",
       "<style scoped>\n",
       "    .dataframe tbody tr th:only-of-type {\n",
       "        vertical-align: middle;\n",
       "    }\n",
       "\n",
       "    .dataframe tbody tr th {\n",
       "        vertical-align: top;\n",
       "    }\n",
       "\n",
       "    .dataframe thead th {\n",
       "        text-align: right;\n",
       "    }\n",
       "</style>\n",
       "<table border=\"1\" class=\"dataframe\">\n",
       "  <thead>\n",
       "    <tr style=\"text-align: right;\">\n",
       "      <th></th>\n",
       "      <th>0</th>\n",
       "    </tr>\n",
       "  </thead>\n",
       "  <tbody>\n",
       "    <tr>\n",
       "      <th>features</th>\n",
       "      <td>0.430528</td>\n",
       "    </tr>\n",
       "    <tr>\n",
       "      <th>features.values @ matrix</th>\n",
       "      <td>0.430528</td>\n",
       "    </tr>\n",
       "    <tr>\n",
       "      <th>algoritm</th>\n",
       "      <td>0.430528</td>\n",
       "    </tr>\n",
       "  </tbody>\n",
       "</table>\n",
       "</div>"
      ],
      "text/plain": [
       "                                 0\n",
       "features                  0.430528\n",
       "features.values @ matrix  0.430528\n",
       "algoritm                  0.430528"
      ]
     },
     "execution_count": 27,
     "metadata": {},
     "output_type": "execute_result"
    }
   ],
   "source": [
    "r2_taple"
   ]
  },
  {
   "cell_type": "markdown",
   "metadata": {},
   "source": [
    "**Вывод** \n",
    "<br> R2 метрика при всех изменениях признаков данных ни как не поменялась, это связанно с тем что при всех изенениях признаков Предсказание в линейной регрессии вычисляется по формуле \n",
    "$$\n",
    "a = Xw\n",
    "$$\n",
    "- $X$ — матрица признаков (нулевой столбец состоит из единиц)\n",
    "\n",
    "- $w$ — вектор весов линейной регрессии (нулевой элемент равен сдвигу), который считается по формуле \n",
    "$$\n",
    "w = (X^T X)^{-1} X^T y\n",
    "$$\n",
    "\n",
    "- где $y$ — вектор целевого признака\n",
    "- а $P$ — матрица, на которую умножаются признаки\n",
    "\n",
    "Итоговая формула для измененого предсказания будет выглядеть так:\n",
    "$$\n",
    "a′ = XPw′=((𝑋𝑃)^𝑇𝑋𝑃)^{−1}(𝑋𝑃)^𝑇𝑦\n",
    "$$\n",
    "после всех сокращений даст ответ \n",
    "$$\n",
    "a′ = Xw = a\n",
    "$$"
   ]
  }
 ],
 "metadata": {
  "ExecuteTimeLog": [
   {
    "duration": 416,
    "start_time": "2022-10-21T17:06:08.121Z"
   },
   {
    "duration": 53,
    "start_time": "2022-10-21T17:06:57.524Z"
   },
   {
    "duration": 24,
    "start_time": "2022-10-21T17:07:09.600Z"
   },
   {
    "duration": 9,
    "start_time": "2022-10-21T17:07:23.211Z"
   },
   {
    "duration": 13,
    "start_time": "2022-10-21T17:07:28.445Z"
   },
   {
    "duration": 6,
    "start_time": "2022-10-21T17:08:50.966Z"
   },
   {
    "duration": 3,
    "start_time": "2022-10-21T17:09:28.843Z"
   },
   {
    "duration": 4,
    "start_time": "2022-10-21T17:09:32.309Z"
   },
   {
    "duration": 24,
    "start_time": "2022-10-21T17:09:42.249Z"
   },
   {
    "duration": 3,
    "start_time": "2022-10-21T17:10:38.197Z"
   },
   {
    "duration": 3,
    "start_time": "2022-10-21T17:10:50.956Z"
   },
   {
    "duration": 24,
    "start_time": "2022-10-21T17:10:51.365Z"
   },
   {
    "duration": 3,
    "start_time": "2022-10-21T17:11:42.260Z"
   },
   {
    "duration": 26,
    "start_time": "2022-10-21T17:11:42.695Z"
   },
   {
    "duration": 3,
    "start_time": "2022-10-21T17:12:25.879Z"
   },
   {
    "duration": 26,
    "start_time": "2022-10-21T17:12:26.291Z"
   },
   {
    "duration": 994,
    "start_time": "2022-10-21T18:00:11.252Z"
   },
   {
    "duration": 12,
    "start_time": "2022-10-22T15:54:14.988Z"
   },
   {
    "duration": 43,
    "start_time": "2022-10-22T15:54:15.881Z"
   },
   {
    "duration": 1140,
    "start_time": "2022-10-22T15:54:43.164Z"
   },
   {
    "duration": 96,
    "start_time": "2022-10-22T15:54:44.307Z"
   },
   {
    "duration": 4,
    "start_time": "2022-10-22T15:54:44.404Z"
   },
   {
    "duration": 42,
    "start_time": "2022-10-22T15:54:44.410Z"
   },
   {
    "duration": 3,
    "start_time": "2022-10-22T15:54:44.454Z"
   },
   {
    "duration": 9,
    "start_time": "2022-10-22T15:54:44.459Z"
   },
   {
    "duration": 12,
    "start_time": "2022-10-22T15:54:44.470Z"
   },
   {
    "duration": 16,
    "start_time": "2022-10-22T15:54:44.483Z"
   },
   {
    "duration": 3,
    "start_time": "2022-10-22T15:55:19.406Z"
   },
   {
    "duration": 4,
    "start_time": "2022-10-22T15:55:20.060Z"
   },
   {
    "duration": 5,
    "start_time": "2022-10-22T15:55:21.084Z"
   },
   {
    "duration": 9,
    "start_time": "2022-10-22T15:55:21.853Z"
   },
   {
    "duration": 3,
    "start_time": "2022-10-22T15:56:54.421Z"
   },
   {
    "duration": 4,
    "start_time": "2022-10-22T15:56:56.059Z"
   },
   {
    "duration": 5,
    "start_time": "2022-10-22T15:56:56.469Z"
   },
   {
    "duration": 13,
    "start_time": "2022-10-22T15:56:56.831Z"
   },
   {
    "duration": 96,
    "start_time": "2022-10-22T16:00:15.548Z"
   },
   {
    "duration": 75,
    "start_time": "2022-10-22T16:00:23.067Z"
   },
   {
    "duration": 74,
    "start_time": "2022-10-22T16:00:28.158Z"
   },
   {
    "duration": 72,
    "start_time": "2022-10-22T16:00:37.273Z"
   },
   {
    "duration": 76,
    "start_time": "2022-10-22T16:00:42.896Z"
   },
   {
    "duration": 10,
    "start_time": "2022-10-22T16:00:57.040Z"
   },
   {
    "duration": 271,
    "start_time": "2022-10-22T16:06:08.929Z"
   },
   {
    "duration": 29069,
    "start_time": "2022-10-22T16:06:09.931Z"
   },
   {
    "duration": 99,
    "start_time": "2022-10-22T16:12:21.948Z"
   },
   {
    "duration": 9,
    "start_time": "2022-10-22T16:12:25.497Z"
   },
   {
    "duration": 1117,
    "start_time": "2022-10-22T16:12:33.075Z"
   },
   {
    "duration": 28,
    "start_time": "2022-10-22T16:12:34.194Z"
   },
   {
    "duration": 3,
    "start_time": "2022-10-22T16:12:34.224Z"
   },
   {
    "duration": 31,
    "start_time": "2022-10-22T16:12:34.230Z"
   },
   {
    "duration": 4,
    "start_time": "2022-10-22T16:12:34.263Z"
   },
   {
    "duration": 10,
    "start_time": "2022-10-22T16:12:34.268Z"
   },
   {
    "duration": 17,
    "start_time": "2022-10-22T16:12:34.279Z"
   },
   {
    "duration": 12,
    "start_time": "2022-10-22T16:12:34.297Z"
   },
   {
    "duration": 388,
    "start_time": "2022-10-22T16:12:34.310Z"
   },
   {
    "duration": 23524,
    "start_time": "2022-10-22T16:12:34.702Z"
   },
   {
    "duration": 90,
    "start_time": "2022-10-22T16:12:58.228Z"
   },
   {
    "duration": 1243,
    "start_time": "2022-10-22T16:17:41.301Z"
   },
   {
    "duration": 30,
    "start_time": "2022-10-22T16:17:42.547Z"
   },
   {
    "duration": 3,
    "start_time": "2022-10-22T16:17:42.580Z"
   },
   {
    "duration": 59,
    "start_time": "2022-10-22T16:17:42.585Z"
   },
   {
    "duration": 3,
    "start_time": "2022-10-22T16:17:42.646Z"
   },
   {
    "duration": 20,
    "start_time": "2022-10-22T16:17:42.651Z"
   },
   {
    "duration": 10,
    "start_time": "2022-10-22T16:17:42.673Z"
   },
   {
    "duration": 19,
    "start_time": "2022-10-22T16:17:42.685Z"
   },
   {
    "duration": 298,
    "start_time": "2022-10-22T16:17:42.706Z"
   },
   {
    "duration": 175,
    "start_time": "2022-10-22T16:17:43.095Z"
   },
   {
    "duration": 1151,
    "start_time": "2022-10-22T16:19:21.454Z"
   },
   {
    "duration": 28,
    "start_time": "2022-10-22T16:19:22.607Z"
   },
   {
    "duration": 4,
    "start_time": "2022-10-22T16:19:22.637Z"
   },
   {
    "duration": 38,
    "start_time": "2022-10-22T16:19:22.643Z"
   },
   {
    "duration": 4,
    "start_time": "2022-10-22T16:19:22.683Z"
   },
   {
    "duration": 10,
    "start_time": "2022-10-22T16:19:22.688Z"
   },
   {
    "duration": 9,
    "start_time": "2022-10-22T16:19:22.699Z"
   },
   {
    "duration": 11,
    "start_time": "2022-10-22T16:19:22.710Z"
   },
   {
    "duration": 373,
    "start_time": "2022-10-22T16:19:22.722Z"
   },
   {
    "duration": 234,
    "start_time": "2022-10-22T16:19:23.098Z"
   },
   {
    "duration": 2,
    "start_time": "2022-10-22T16:19:23.334Z"
   },
   {
    "duration": 10,
    "start_time": "2022-10-22T16:19:23.338Z"
   },
   {
    "duration": 7,
    "start_time": "2022-10-22T16:19:23.351Z"
   },
   {
    "duration": 10,
    "start_time": "2022-10-22T16:19:23.359Z"
   },
   {
    "duration": 6,
    "start_time": "2022-10-22T16:25:37.575Z"
   },
   {
    "duration": 4,
    "start_time": "2022-10-22T16:28:38.252Z"
   },
   {
    "duration": 6,
    "start_time": "2022-10-22T16:28:54.553Z"
   },
   {
    "duration": 180,
    "start_time": "2022-10-22T16:29:32.887Z"
   },
   {
    "duration": 1218,
    "start_time": "2022-10-22T16:29:42.654Z"
   },
   {
    "duration": 38,
    "start_time": "2022-10-22T16:29:43.875Z"
   },
   {
    "duration": 4,
    "start_time": "2022-10-22T16:29:43.915Z"
   },
   {
    "duration": 41,
    "start_time": "2022-10-22T16:29:43.922Z"
   },
   {
    "duration": 3,
    "start_time": "2022-10-22T16:29:43.965Z"
   },
   {
    "duration": 12,
    "start_time": "2022-10-22T16:29:43.970Z"
   },
   {
    "duration": 13,
    "start_time": "2022-10-22T16:29:43.984Z"
   },
   {
    "duration": 33,
    "start_time": "2022-10-22T16:29:44.001Z"
   },
   {
    "duration": 3,
    "start_time": "2022-10-22T16:29:44.036Z"
   },
   {
    "duration": 5,
    "start_time": "2022-10-22T16:29:44.041Z"
   },
   {
    "duration": 194,
    "start_time": "2022-10-22T16:29:44.047Z"
   },
   {
    "duration": 0,
    "start_time": "2022-10-22T16:29:44.243Z"
   },
   {
    "duration": 0,
    "start_time": "2022-10-22T16:29:44.244Z"
   },
   {
    "duration": 0,
    "start_time": "2022-10-22T16:29:44.246Z"
   },
   {
    "duration": 0,
    "start_time": "2022-10-22T16:29:44.247Z"
   },
   {
    "duration": 116,
    "start_time": "2022-10-22T16:30:01.523Z"
   },
   {
    "duration": 9,
    "start_time": "2022-10-22T16:30:28.729Z"
   },
   {
    "duration": 6,
    "start_time": "2022-10-22T16:30:33.441Z"
   },
   {
    "duration": 4,
    "start_time": "2022-10-22T16:30:41.851Z"
   },
   {
    "duration": 6,
    "start_time": "2022-10-22T16:30:42.440Z"
   },
   {
    "duration": 8,
    "start_time": "2022-10-22T16:30:42.883Z"
   },
   {
    "duration": 5,
    "start_time": "2022-10-22T16:31:15.930Z"
   },
   {
    "duration": 4,
    "start_time": "2022-10-22T16:31:29.389Z"
   },
   {
    "duration": 6,
    "start_time": "2022-10-22T16:33:47.884Z"
   },
   {
    "duration": 3,
    "start_time": "2022-10-22T16:34:47.811Z"
   },
   {
    "duration": 4,
    "start_time": "2022-10-22T16:34:48.134Z"
   },
   {
    "duration": 7,
    "start_time": "2022-10-22T16:34:48.566Z"
   },
   {
    "duration": 4,
    "start_time": "2022-10-22T16:50:47.149Z"
   },
   {
    "duration": 4,
    "start_time": "2022-10-22T16:51:19.222Z"
   },
   {
    "duration": 4,
    "start_time": "2022-10-22T16:51:34.275Z"
   },
   {
    "duration": 4,
    "start_time": "2022-10-22T16:53:30.576Z"
   },
   {
    "duration": 19,
    "start_time": "2022-10-22T16:53:32.438Z"
   },
   {
    "duration": 4,
    "start_time": "2022-10-22T16:53:53.875Z"
   },
   {
    "duration": 15,
    "start_time": "2022-10-22T16:54:04.175Z"
   },
   {
    "duration": 18,
    "start_time": "2022-10-22T16:55:13.092Z"
   },
   {
    "duration": 8,
    "start_time": "2022-10-22T16:55:38.375Z"
   },
   {
    "duration": 9,
    "start_time": "2022-10-22T16:55:54.755Z"
   },
   {
    "duration": 5,
    "start_time": "2022-10-22T16:58:20.737Z"
   },
   {
    "duration": 6,
    "start_time": "2022-10-22T16:58:21.260Z"
   },
   {
    "duration": 30,
    "start_time": "2022-10-22T16:58:22.286Z"
   },
   {
    "duration": 4,
    "start_time": "2022-10-22T16:58:42.325Z"
   },
   {
    "duration": 20,
    "start_time": "2022-10-22T16:58:42.781Z"
   },
   {
    "duration": 1173,
    "start_time": "2022-10-22T16:58:56.924Z"
   },
   {
    "duration": 32,
    "start_time": "2022-10-22T16:58:58.101Z"
   },
   {
    "duration": 8,
    "start_time": "2022-10-22T16:58:58.136Z"
   },
   {
    "duration": 61,
    "start_time": "2022-10-22T16:58:58.146Z"
   },
   {
    "duration": 8,
    "start_time": "2022-10-22T16:58:58.212Z"
   },
   {
    "duration": 14,
    "start_time": "2022-10-22T16:58:58.224Z"
   },
   {
    "duration": 131,
    "start_time": "2022-10-22T16:58:58.241Z"
   },
   {
    "duration": 0,
    "start_time": "2022-10-22T16:58:58.375Z"
   },
   {
    "duration": 0,
    "start_time": "2022-10-22T16:58:58.376Z"
   },
   {
    "duration": 0,
    "start_time": "2022-10-22T16:58:58.377Z"
   },
   {
    "duration": 0,
    "start_time": "2022-10-22T16:58:58.379Z"
   },
   {
    "duration": 1,
    "start_time": "2022-10-22T16:58:58.394Z"
   },
   {
    "duration": 0,
    "start_time": "2022-10-22T16:58:58.395Z"
   },
   {
    "duration": 5,
    "start_time": "2022-10-22T16:59:10.428Z"
   },
   {
    "duration": 3,
    "start_time": "2022-10-22T16:59:10.716Z"
   },
   {
    "duration": 26,
    "start_time": "2022-10-22T16:59:11.039Z"
   },
   {
    "duration": 1185,
    "start_time": "2022-10-22T16:59:17.076Z"
   },
   {
    "duration": 31,
    "start_time": "2022-10-22T16:59:18.264Z"
   },
   {
    "duration": 6,
    "start_time": "2022-10-22T16:59:18.297Z"
   },
   {
    "duration": 52,
    "start_time": "2022-10-22T16:59:18.305Z"
   },
   {
    "duration": 4,
    "start_time": "2022-10-22T16:59:18.359Z"
   },
   {
    "duration": 11,
    "start_time": "2022-10-22T16:59:18.364Z"
   },
   {
    "duration": 26,
    "start_time": "2022-10-22T16:59:18.377Z"
   },
   {
    "duration": 73,
    "start_time": "2022-10-22T16:59:18.409Z"
   },
   {
    "duration": 0,
    "start_time": "2022-10-22T16:59:18.485Z"
   },
   {
    "duration": 0,
    "start_time": "2022-10-22T16:59:18.486Z"
   },
   {
    "duration": 0,
    "start_time": "2022-10-22T16:59:18.487Z"
   },
   {
    "duration": 0,
    "start_time": "2022-10-22T16:59:18.489Z"
   },
   {
    "duration": 0,
    "start_time": "2022-10-22T16:59:18.490Z"
   },
   {
    "duration": 1200,
    "start_time": "2022-10-22T16:59:38.122Z"
   },
   {
    "duration": 28,
    "start_time": "2022-10-22T16:59:39.324Z"
   },
   {
    "duration": 3,
    "start_time": "2022-10-22T16:59:39.354Z"
   },
   {
    "duration": 55,
    "start_time": "2022-10-22T16:59:39.359Z"
   },
   {
    "duration": 5,
    "start_time": "2022-10-22T16:59:39.422Z"
   },
   {
    "duration": 12,
    "start_time": "2022-10-22T16:59:39.429Z"
   },
   {
    "duration": 23,
    "start_time": "2022-10-22T16:59:39.443Z"
   },
   {
    "duration": 30,
    "start_time": "2022-10-22T16:59:39.468Z"
   },
   {
    "duration": 113,
    "start_time": "2022-10-22T16:59:39.506Z"
   },
   {
    "duration": 12,
    "start_time": "2022-10-22T16:59:39.621Z"
   },
   {
    "duration": 3,
    "start_time": "2022-10-22T16:59:39.635Z"
   },
   {
    "duration": 15,
    "start_time": "2022-10-22T16:59:39.640Z"
   },
   {
    "duration": 6,
    "start_time": "2022-10-22T17:00:24.093Z"
   },
   {
    "duration": 5,
    "start_time": "2022-10-22T17:00:24.559Z"
   },
   {
    "duration": 17,
    "start_time": "2022-10-22T17:00:25.283Z"
   },
   {
    "duration": 3,
    "start_time": "2022-10-22T17:01:12.581Z"
   },
   {
    "duration": 1114,
    "start_time": "2022-10-22T17:01:17.674Z"
   },
   {
    "duration": 30,
    "start_time": "2022-10-22T17:01:18.791Z"
   },
   {
    "duration": 4,
    "start_time": "2022-10-22T17:01:18.823Z"
   },
   {
    "duration": 43,
    "start_time": "2022-10-22T17:01:18.829Z"
   },
   {
    "duration": 5,
    "start_time": "2022-10-22T17:01:18.874Z"
   },
   {
    "duration": 7,
    "start_time": "2022-10-22T17:01:18.881Z"
   },
   {
    "duration": 17,
    "start_time": "2022-10-22T17:01:18.894Z"
   },
   {
    "duration": 6,
    "start_time": "2022-10-22T17:01:18.913Z"
   },
   {
    "duration": 75,
    "start_time": "2022-10-22T17:01:18.920Z"
   },
   {
    "duration": 98,
    "start_time": "2022-10-22T17:01:18.997Z"
   },
   {
    "duration": 4,
    "start_time": "2022-10-22T17:01:19.097Z"
   },
   {
    "duration": 15,
    "start_time": "2022-10-22T17:01:19.103Z"
   },
   {
    "duration": 3,
    "start_time": "2022-10-22T17:01:19.120Z"
   },
   {
    "duration": 8,
    "start_time": "2022-10-22T17:01:21.981Z"
   },
   {
    "duration": 5,
    "start_time": "2022-10-22T17:02:25.341Z"
   },
   {
    "duration": 7,
    "start_time": "2022-10-22T17:02:25.871Z"
   },
   {
    "duration": 3,
    "start_time": "2022-10-22T17:13:43.393Z"
   },
   {
    "duration": 101,
    "start_time": "2022-10-22T17:14:27.043Z"
   },
   {
    "duration": 5,
    "start_time": "2022-10-22T17:14:38.101Z"
   },
   {
    "duration": 9,
    "start_time": "2022-10-22T17:14:45.488Z"
   },
   {
    "duration": 4,
    "start_time": "2022-10-22T17:15:38.191Z"
   },
   {
    "duration": 3,
    "start_time": "2022-10-22T17:16:33.890Z"
   },
   {
    "duration": 5,
    "start_time": "2022-10-22T17:16:41.774Z"
   },
   {
    "duration": 81,
    "start_time": "2022-10-22T17:17:47.827Z"
   },
   {
    "duration": 94,
    "start_time": "2022-10-22T17:17:57.036Z"
   },
   {
    "duration": 3,
    "start_time": "2022-10-22T17:18:07.976Z"
   },
   {
    "duration": 11,
    "start_time": "2022-10-22T17:18:09.271Z"
   },
   {
    "duration": 3,
    "start_time": "2022-10-22T17:18:25.362Z"
   },
   {
    "duration": 11,
    "start_time": "2022-10-22T17:18:25.912Z"
   },
   {
    "duration": 3,
    "start_time": "2022-10-22T17:18:43.624Z"
   },
   {
    "duration": 9,
    "start_time": "2022-10-22T17:18:43.996Z"
   },
   {
    "duration": 4,
    "start_time": "2022-10-22T17:18:44.484Z"
   },
   {
    "duration": 1042,
    "start_time": "2022-10-22T17:18:50.940Z"
   },
   {
    "duration": 30,
    "start_time": "2022-10-22T17:18:51.983Z"
   },
   {
    "duration": 3,
    "start_time": "2022-10-22T17:18:52.015Z"
   },
   {
    "duration": 39,
    "start_time": "2022-10-22T17:18:52.020Z"
   },
   {
    "duration": 4,
    "start_time": "2022-10-22T17:18:52.061Z"
   },
   {
    "duration": 7,
    "start_time": "2022-10-22T17:18:52.067Z"
   },
   {
    "duration": 16,
    "start_time": "2022-10-22T17:18:52.075Z"
   },
   {
    "duration": 5,
    "start_time": "2022-10-22T17:18:52.095Z"
   },
   {
    "duration": 18,
    "start_time": "2022-10-22T17:18:52.103Z"
   },
   {
    "duration": 15,
    "start_time": "2022-10-22T17:18:52.197Z"
   },
   {
    "duration": 83,
    "start_time": "2022-10-22T17:18:52.214Z"
   },
   {
    "duration": 15,
    "start_time": "2022-10-22T17:18:52.298Z"
   },
   {
    "duration": 9,
    "start_time": "2022-10-22T17:18:52.315Z"
   },
   {
    "duration": 20,
    "start_time": "2022-10-22T17:18:52.326Z"
   },
   {
    "duration": 7,
    "start_time": "2022-10-22T17:18:52.348Z"
   },
   {
    "duration": 115,
    "start_time": "2022-10-22T17:18:52.357Z"
   },
   {
    "duration": 0,
    "start_time": "2022-10-22T17:18:52.474Z"
   },
   {
    "duration": 1098,
    "start_time": "2022-10-22T17:19:07.931Z"
   },
   {
    "duration": 32,
    "start_time": "2022-10-22T17:19:09.031Z"
   },
   {
    "duration": 4,
    "start_time": "2022-10-22T17:19:09.068Z"
   },
   {
    "duration": 35,
    "start_time": "2022-10-22T17:19:09.073Z"
   },
   {
    "duration": 4,
    "start_time": "2022-10-22T17:19:09.109Z"
   },
   {
    "duration": 8,
    "start_time": "2022-10-22T17:19:09.115Z"
   },
   {
    "duration": 25,
    "start_time": "2022-10-22T17:19:09.125Z"
   },
   {
    "duration": 8,
    "start_time": "2022-10-22T17:19:09.151Z"
   },
   {
    "duration": 4,
    "start_time": "2022-10-22T17:19:09.196Z"
   },
   {
    "duration": 93,
    "start_time": "2022-10-22T17:19:09.202Z"
   },
   {
    "duration": 9,
    "start_time": "2022-10-22T17:19:09.297Z"
   },
   {
    "duration": 14,
    "start_time": "2022-10-22T17:19:09.308Z"
   },
   {
    "duration": 9,
    "start_time": "2022-10-22T17:19:09.324Z"
   },
   {
    "duration": 11,
    "start_time": "2022-10-22T17:19:09.335Z"
   },
   {
    "duration": 8,
    "start_time": "2022-10-22T17:19:09.347Z"
   },
   {
    "duration": 7,
    "start_time": "2022-10-22T17:19:09.357Z"
   },
   {
    "duration": 30,
    "start_time": "2022-10-22T17:19:09.366Z"
   },
   {
    "duration": 3,
    "start_time": "2022-10-22T17:19:25.580Z"
   },
   {
    "duration": 6,
    "start_time": "2022-10-22T17:19:32.600Z"
   },
   {
    "duration": 4,
    "start_time": "2022-10-22T17:19:36.622Z"
   },
   {
    "duration": 5,
    "start_time": "2022-10-22T17:19:36.979Z"
   },
   {
    "duration": 3,
    "start_time": "2022-10-22T17:20:08.004Z"
   },
   {
    "duration": 6,
    "start_time": "2022-10-22T17:20:23.046Z"
   },
   {
    "duration": 95,
    "start_time": "2022-10-22T17:20:49.400Z"
   },
   {
    "duration": 2,
    "start_time": "2022-10-22T17:20:53.961Z"
   },
   {
    "duration": 14,
    "start_time": "2022-10-22T17:20:54.416Z"
   },
   {
    "duration": 3,
    "start_time": "2022-10-22T17:21:08.470Z"
   },
   {
    "duration": 12,
    "start_time": "2022-10-22T17:21:09.027Z"
   },
   {
    "duration": 3,
    "start_time": "2022-10-22T17:22:32.506Z"
   },
   {
    "duration": 11,
    "start_time": "2022-10-22T17:22:47.836Z"
   },
   {
    "duration": 4,
    "start_time": "2022-10-22T17:22:53.050Z"
   },
   {
    "duration": 9,
    "start_time": "2022-10-22T17:22:53.685Z"
   },
   {
    "duration": 3,
    "start_time": "2022-10-22T17:22:54.116Z"
   },
   {
    "duration": 9,
    "start_time": "2022-10-22T17:22:54.663Z"
   },
   {
    "duration": 3,
    "start_time": "2022-10-22T17:23:15.688Z"
   },
   {
    "duration": 12,
    "start_time": "2022-10-22T17:23:16.133Z"
   },
   {
    "duration": 4,
    "start_time": "2022-10-22T17:23:17.445Z"
   },
   {
    "duration": 6,
    "start_time": "2022-10-22T17:23:17.852Z"
   },
   {
    "duration": 5,
    "start_time": "2022-10-22T17:23:51.591Z"
   },
   {
    "duration": 5,
    "start_time": "2022-10-22T17:23:52.601Z"
   },
   {
    "duration": 3,
    "start_time": "2022-10-22T17:23:54.294Z"
   },
   {
    "duration": 6,
    "start_time": "2022-10-22T17:23:54.906Z"
   },
   {
    "duration": 5,
    "start_time": "2022-10-22T17:25:18.854Z"
   },
   {
    "duration": 12,
    "start_time": "2022-10-22T17:25:22.926Z"
   },
   {
    "duration": 5,
    "start_time": "2022-10-22T17:25:34.362Z"
   },
   {
    "duration": 6,
    "start_time": "2022-10-22T17:26:20.997Z"
   },
   {
    "duration": 5,
    "start_time": "2022-10-22T17:26:22.049Z"
   },
   {
    "duration": 3,
    "start_time": "2022-10-22T17:26:23.683Z"
   },
   {
    "duration": 5,
    "start_time": "2022-10-22T17:26:24.153Z"
   },
   {
    "duration": 5,
    "start_time": "2022-10-22T17:27:16.294Z"
   },
   {
    "duration": 4,
    "start_time": "2022-10-22T17:27:17.896Z"
   },
   {
    "duration": 5,
    "start_time": "2022-10-22T17:27:18.274Z"
   },
   {
    "duration": 4,
    "start_time": "2022-10-22T17:27:30.390Z"
   },
   {
    "duration": 7,
    "start_time": "2022-10-22T17:27:30.892Z"
   },
   {
    "duration": 3,
    "start_time": "2022-10-22T17:27:45.131Z"
   },
   {
    "duration": 5,
    "start_time": "2022-10-22T17:27:45.465Z"
   },
   {
    "duration": 3,
    "start_time": "2022-10-22T17:27:52.120Z"
   },
   {
    "duration": 5,
    "start_time": "2022-10-22T17:27:52.440Z"
   },
   {
    "duration": 2,
    "start_time": "2022-10-22T17:28:09.927Z"
   },
   {
    "duration": 6,
    "start_time": "2022-10-22T17:28:10.316Z"
   },
   {
    "duration": 2,
    "start_time": "2022-10-22T17:28:19.700Z"
   },
   {
    "duration": 5,
    "start_time": "2022-10-22T17:28:20.026Z"
   },
   {
    "duration": 3,
    "start_time": "2022-10-22T17:29:13.917Z"
   },
   {
    "duration": 5,
    "start_time": "2022-10-22T17:29:14.319Z"
   },
   {
    "duration": 3,
    "start_time": "2022-10-22T17:29:56.928Z"
   },
   {
    "duration": 9,
    "start_time": "2022-10-22T17:30:37.959Z"
   },
   {
    "duration": 14,
    "start_time": "2022-10-22T17:30:57.465Z"
   },
   {
    "duration": 6,
    "start_time": "2022-10-22T17:33:21.803Z"
   },
   {
    "duration": 6,
    "start_time": "2022-10-22T17:33:39.239Z"
   },
   {
    "duration": 3,
    "start_time": "2022-10-22T17:33:43.356Z"
   },
   {
    "duration": 5,
    "start_time": "2022-10-22T17:33:43.784Z"
   },
   {
    "duration": 3,
    "start_time": "2022-10-22T17:33:55.374Z"
   },
   {
    "duration": 6,
    "start_time": "2022-10-22T17:33:55.757Z"
   },
   {
    "duration": 1157,
    "start_time": "2022-10-22T17:34:11.702Z"
   },
   {
    "duration": 33,
    "start_time": "2022-10-22T17:34:12.862Z"
   },
   {
    "duration": 4,
    "start_time": "2022-10-22T17:34:12.899Z"
   },
   {
    "duration": 42,
    "start_time": "2022-10-22T17:34:12.906Z"
   },
   {
    "duration": 4,
    "start_time": "2022-10-22T17:34:12.950Z"
   },
   {
    "duration": 13,
    "start_time": "2022-10-22T17:34:12.956Z"
   },
   {
    "duration": 29,
    "start_time": "2022-10-22T17:34:12.970Z"
   },
   {
    "duration": 5,
    "start_time": "2022-10-22T17:34:13.001Z"
   },
   {
    "duration": 11,
    "start_time": "2022-10-22T17:34:13.008Z"
   },
   {
    "duration": 94,
    "start_time": "2022-10-22T17:34:13.022Z"
   },
   {
    "duration": 79,
    "start_time": "2022-10-22T17:34:13.118Z"
   },
   {
    "duration": 11,
    "start_time": "2022-10-22T17:34:13.198Z"
   },
   {
    "duration": 4,
    "start_time": "2022-10-22T17:34:13.210Z"
   },
   {
    "duration": 9,
    "start_time": "2022-10-22T17:34:13.216Z"
   },
   {
    "duration": 7,
    "start_time": "2022-10-22T17:34:13.227Z"
   },
   {
    "duration": 7,
    "start_time": "2022-10-22T17:34:13.235Z"
   },
   {
    "duration": 53,
    "start_time": "2022-10-22T17:34:13.244Z"
   },
   {
    "duration": 9,
    "start_time": "2022-10-22T17:34:13.299Z"
   },
   {
    "duration": 1174,
    "start_time": "2022-10-22T17:34:55.313Z"
   },
   {
    "duration": 29,
    "start_time": "2022-10-22T17:34:56.490Z"
   },
   {
    "duration": 5,
    "start_time": "2022-10-22T17:34:56.522Z"
   },
   {
    "duration": 65,
    "start_time": "2022-10-22T17:34:56.529Z"
   },
   {
    "duration": 6,
    "start_time": "2022-10-22T17:34:56.597Z"
   },
   {
    "duration": 18,
    "start_time": "2022-10-22T17:34:56.605Z"
   },
   {
    "duration": 41,
    "start_time": "2022-10-22T17:34:56.625Z"
   },
   {
    "duration": 15,
    "start_time": "2022-10-22T17:34:56.668Z"
   },
   {
    "duration": 18,
    "start_time": "2022-10-22T17:34:56.694Z"
   },
   {
    "duration": 104,
    "start_time": "2022-10-22T17:34:56.716Z"
   },
   {
    "duration": 9,
    "start_time": "2022-10-22T17:34:56.823Z"
   },
   {
    "duration": 37,
    "start_time": "2022-10-22T17:34:56.834Z"
   },
   {
    "duration": 34,
    "start_time": "2022-10-22T17:34:56.873Z"
   },
   {
    "duration": 22,
    "start_time": "2022-10-22T17:34:56.909Z"
   },
   {
    "duration": 31,
    "start_time": "2022-10-22T17:34:56.933Z"
   },
   {
    "duration": 14,
    "start_time": "2022-10-22T17:34:56.966Z"
   },
   {
    "duration": 6,
    "start_time": "2022-10-22T17:34:56.982Z"
   },
   {
    "duration": 16,
    "start_time": "2022-10-22T17:34:56.990Z"
   },
   {
    "duration": 5,
    "start_time": "2022-10-22T17:36:59.818Z"
   },
   {
    "duration": 3,
    "start_time": "2022-10-22T17:37:01.304Z"
   },
   {
    "duration": 5,
    "start_time": "2022-10-22T17:37:02.311Z"
   },
   {
    "duration": 46,
    "start_time": "2022-10-23T08:44:03.946Z"
   },
   {
    "duration": 1126,
    "start_time": "2022-10-23T08:44:10.390Z"
   },
   {
    "duration": 101,
    "start_time": "2022-10-23T08:44:11.518Z"
   },
   {
    "duration": 3,
    "start_time": "2022-10-23T08:44:11.621Z"
   },
   {
    "duration": 28,
    "start_time": "2022-10-23T08:44:11.626Z"
   },
   {
    "duration": 4,
    "start_time": "2022-10-23T08:44:11.655Z"
   },
   {
    "duration": 4,
    "start_time": "2022-10-23T08:44:11.660Z"
   },
   {
    "duration": 17,
    "start_time": "2022-10-23T08:44:11.666Z"
   },
   {
    "duration": 39,
    "start_time": "2022-10-23T08:44:11.684Z"
   },
   {
    "duration": 4,
    "start_time": "2022-10-23T08:44:11.725Z"
   },
   {
    "duration": 93,
    "start_time": "2022-10-23T08:44:11.731Z"
   },
   {
    "duration": 3,
    "start_time": "2022-10-23T08:44:11.827Z"
   },
   {
    "duration": 12,
    "start_time": "2022-10-23T08:44:11.832Z"
   },
   {
    "duration": 5,
    "start_time": "2022-10-23T08:44:11.846Z"
   },
   {
    "duration": 11,
    "start_time": "2022-10-23T08:44:11.853Z"
   },
   {
    "duration": 99,
    "start_time": "2022-10-23T08:50:06.425Z"
   },
   {
    "duration": 4,
    "start_time": "2022-10-23T09:02:24.976Z"
   },
   {
    "duration": 6,
    "start_time": "2022-10-23T09:02:31.363Z"
   },
   {
    "duration": 2,
    "start_time": "2022-10-23T09:13:15.215Z"
   },
   {
    "duration": 165,
    "start_time": "2022-10-23T09:13:28.131Z"
   },
   {
    "duration": 8,
    "start_time": "2022-10-23T09:13:38.999Z"
   },
   {
    "duration": 2,
    "start_time": "2022-10-23T09:14:02.223Z"
   },
   {
    "duration": 4,
    "start_time": "2022-10-23T09:14:04.808Z"
   },
   {
    "duration": 5,
    "start_time": "2022-10-23T09:14:21.803Z"
   },
   {
    "duration": 77,
    "start_time": "2022-10-23T09:14:38.536Z"
   },
   {
    "duration": 4,
    "start_time": "2022-10-23T09:14:56.774Z"
   },
   {
    "duration": 4,
    "start_time": "2022-10-23T09:15:09.187Z"
   },
   {
    "duration": 8,
    "start_time": "2022-10-23T09:15:26.574Z"
   },
   {
    "duration": 4,
    "start_time": "2022-10-23T09:15:49.491Z"
   },
   {
    "duration": 5,
    "start_time": "2022-10-23T09:16:19.572Z"
   },
   {
    "duration": 4,
    "start_time": "2022-10-23T09:19:15.472Z"
   },
   {
    "duration": 4,
    "start_time": "2022-10-23T09:20:43.329Z"
   },
   {
    "duration": 9,
    "start_time": "2022-10-23T09:20:58.154Z"
   },
   {
    "duration": 6,
    "start_time": "2022-10-23T09:21:09.390Z"
   },
   {
    "duration": 4,
    "start_time": "2022-10-23T09:21:47.550Z"
   },
   {
    "duration": 9,
    "start_time": "2022-10-23T09:22:35.947Z"
   },
   {
    "duration": 3,
    "start_time": "2022-10-23T09:22:55.422Z"
   },
   {
    "duration": 81,
    "start_time": "2022-10-23T09:23:08.132Z"
   },
   {
    "duration": 9,
    "start_time": "2022-10-23T09:23:54.045Z"
   },
   {
    "duration": 5,
    "start_time": "2022-10-23T09:24:01.081Z"
   },
   {
    "duration": 5,
    "start_time": "2022-10-23T09:24:03.531Z"
   },
   {
    "duration": 5,
    "start_time": "2022-10-23T09:25:18.687Z"
   },
   {
    "duration": 4,
    "start_time": "2022-10-23T09:25:22.571Z"
   },
   {
    "duration": 9,
    "start_time": "2022-10-23T09:27:32.240Z"
   },
   {
    "duration": 9,
    "start_time": "2022-10-23T09:27:44.621Z"
   },
   {
    "duration": 9,
    "start_time": "2022-10-23T09:27:57.866Z"
   },
   {
    "duration": 4,
    "start_time": "2022-10-23T09:28:19.384Z"
   },
   {
    "duration": 4,
    "start_time": "2022-10-23T09:28:21.738Z"
   },
   {
    "duration": 4,
    "start_time": "2022-10-23T09:28:22.247Z"
   },
   {
    "duration": 6,
    "start_time": "2022-10-23T09:28:23.086Z"
   },
   {
    "duration": 5,
    "start_time": "2022-10-23T09:28:24.259Z"
   },
   {
    "duration": 68,
    "start_time": "2022-10-23T09:33:07.221Z"
   },
   {
    "duration": 5,
    "start_time": "2022-10-23T09:33:31.618Z"
   },
   {
    "duration": 71,
    "start_time": "2022-10-23T09:35:00.567Z"
   },
   {
    "duration": 5,
    "start_time": "2022-10-23T09:35:05.997Z"
   },
   {
    "duration": 4,
    "start_time": "2022-10-23T09:35:09.515Z"
   },
   {
    "duration": 5,
    "start_time": "2022-10-23T09:35:10.342Z"
   },
   {
    "duration": 5,
    "start_time": "2022-10-23T09:35:44.794Z"
   },
   {
    "duration": 5,
    "start_time": "2022-10-23T09:36:20.395Z"
   },
   {
    "duration": 9,
    "start_time": "2022-10-23T09:36:21.928Z"
   },
   {
    "duration": 5,
    "start_time": "2022-10-23T09:37:30.564Z"
   },
   {
    "duration": 8,
    "start_time": "2022-10-23T09:38:17.151Z"
   },
   {
    "duration": 3,
    "start_time": "2022-10-23T09:38:22.727Z"
   },
   {
    "duration": 5,
    "start_time": "2022-10-23T09:38:23.140Z"
   },
   {
    "duration": 4,
    "start_time": "2022-10-23T09:38:24.245Z"
   },
   {
    "duration": 4,
    "start_time": "2022-10-23T09:38:24.558Z"
   },
   {
    "duration": 5,
    "start_time": "2022-10-23T09:38:24.944Z"
   },
   {
    "duration": 4,
    "start_time": "2022-10-23T09:38:26.192Z"
   },
   {
    "duration": 3,
    "start_time": "2022-10-23T09:38:27.895Z"
   },
   {
    "duration": 4,
    "start_time": "2022-10-23T09:38:32.630Z"
   },
   {
    "duration": 4,
    "start_time": "2022-10-23T09:49:03.791Z"
   },
   {
    "duration": 4,
    "start_time": "2022-10-23T09:49:18.866Z"
   },
   {
    "duration": 4,
    "start_time": "2022-10-23T09:49:26.900Z"
   },
   {
    "duration": 69,
    "start_time": "2022-10-23T09:54:19.051Z"
   },
   {
    "duration": 46,
    "start_time": "2022-10-23T13:07:02.481Z"
   },
   {
    "duration": 1030,
    "start_time": "2022-10-23T13:07:19.477Z"
   },
   {
    "duration": 53,
    "start_time": "2022-10-23T13:07:22.683Z"
   },
   {
    "duration": 3,
    "start_time": "2022-10-23T13:07:23.801Z"
   },
   {
    "duration": 1086,
    "start_time": "2022-10-23T13:07:37.710Z"
   },
   {
    "duration": 17,
    "start_time": "2022-10-23T13:07:38.798Z"
   },
   {
    "duration": 23,
    "start_time": "2022-10-23T13:07:38.816Z"
   },
   {
    "duration": 61,
    "start_time": "2022-10-23T13:07:38.841Z"
   },
   {
    "duration": 13,
    "start_time": "2022-10-23T13:07:38.905Z"
   },
   {
    "duration": 31,
    "start_time": "2022-10-23T13:07:38.920Z"
   },
   {
    "duration": 30,
    "start_time": "2022-10-23T13:07:38.953Z"
   },
   {
    "duration": 33,
    "start_time": "2022-10-23T13:07:38.984Z"
   },
   {
    "duration": 156,
    "start_time": "2022-10-23T13:07:39.019Z"
   },
   {
    "duration": 17,
    "start_time": "2022-10-23T13:07:39.177Z"
   },
   {
    "duration": 8,
    "start_time": "2022-10-23T13:07:39.196Z"
   },
   {
    "duration": 10,
    "start_time": "2022-10-23T13:07:39.205Z"
   },
   {
    "duration": 20,
    "start_time": "2022-10-23T13:07:39.216Z"
   },
   {
    "duration": 21,
    "start_time": "2022-10-23T13:07:39.239Z"
   },
   {
    "duration": 20,
    "start_time": "2022-10-23T13:07:39.262Z"
   },
   {
    "duration": 13,
    "start_time": "2022-10-23T13:07:39.284Z"
   },
   {
    "duration": 6,
    "start_time": "2022-10-23T13:07:39.322Z"
   },
   {
    "duration": 33,
    "start_time": "2022-10-23T13:07:39.330Z"
   },
   {
    "duration": 63,
    "start_time": "2022-10-23T13:07:39.364Z"
   },
   {
    "duration": 47,
    "start_time": "2022-10-23T13:07:39.429Z"
   },
   {
    "duration": 18,
    "start_time": "2022-10-23T13:07:39.478Z"
   },
   {
    "duration": 263,
    "start_time": "2022-10-23T13:07:39.498Z"
   },
   {
    "duration": 0,
    "start_time": "2022-10-23T13:07:39.763Z"
   },
   {
    "duration": 0,
    "start_time": "2022-10-23T13:07:39.764Z"
   },
   {
    "duration": 0,
    "start_time": "2022-10-23T13:07:39.765Z"
   },
   {
    "duration": 0,
    "start_time": "2022-10-23T13:07:39.767Z"
   },
   {
    "duration": 0,
    "start_time": "2022-10-23T13:07:39.768Z"
   },
   {
    "duration": 0,
    "start_time": "2022-10-23T13:07:39.769Z"
   },
   {
    "duration": 0,
    "start_time": "2022-10-23T13:07:39.771Z"
   },
   {
    "duration": 1072,
    "start_time": "2022-10-23T13:07:54.316Z"
   },
   {
    "duration": 17,
    "start_time": "2022-10-23T13:07:55.389Z"
   },
   {
    "duration": 3,
    "start_time": "2022-10-23T13:07:55.407Z"
   },
   {
    "duration": 40,
    "start_time": "2022-10-23T13:07:55.412Z"
   },
   {
    "duration": 4,
    "start_time": "2022-10-23T13:07:55.454Z"
   },
   {
    "duration": 7,
    "start_time": "2022-10-23T13:07:55.460Z"
   },
   {
    "duration": 15,
    "start_time": "2022-10-23T13:07:55.469Z"
   },
   {
    "duration": 41,
    "start_time": "2022-10-23T13:07:55.485Z"
   },
   {
    "duration": 96,
    "start_time": "2022-10-23T13:07:55.527Z"
   },
   {
    "duration": 17,
    "start_time": "2022-10-23T13:07:55.626Z"
   },
   {
    "duration": 5,
    "start_time": "2022-10-23T13:07:55.646Z"
   },
   {
    "duration": 8,
    "start_time": "2022-10-23T13:07:55.652Z"
   },
   {
    "duration": 7,
    "start_time": "2022-10-23T13:07:55.661Z"
   },
   {
    "duration": 15,
    "start_time": "2022-10-23T13:07:55.670Z"
   },
   {
    "duration": 38,
    "start_time": "2022-10-23T13:07:55.687Z"
   },
   {
    "duration": 29,
    "start_time": "2022-10-23T13:07:55.726Z"
   },
   {
    "duration": 9,
    "start_time": "2022-10-23T13:07:55.757Z"
   },
   {
    "duration": 3,
    "start_time": "2022-10-23T13:07:55.767Z"
   },
   {
    "duration": 65,
    "start_time": "2022-10-23T13:07:55.772Z"
   },
   {
    "duration": 16,
    "start_time": "2022-10-23T13:07:55.839Z"
   },
   {
    "duration": 7,
    "start_time": "2022-10-23T13:07:55.857Z"
   },
   {
    "duration": 60,
    "start_time": "2022-10-23T13:07:55.865Z"
   },
   {
    "duration": 20,
    "start_time": "2022-10-23T13:07:55.927Z"
   },
   {
    "duration": 6,
    "start_time": "2022-10-23T13:07:55.949Z"
   },
   {
    "duration": 5,
    "start_time": "2022-10-23T13:07:55.956Z"
   },
   {
    "duration": 62,
    "start_time": "2022-10-23T13:07:55.963Z"
   },
   {
    "duration": 16,
    "start_time": "2022-10-23T13:07:56.027Z"
   },
   {
    "duration": 11,
    "start_time": "2022-10-23T13:07:56.047Z"
   },
   {
    "duration": 63,
    "start_time": "2022-10-23T13:27:55.775Z"
   },
   {
    "duration": 6,
    "start_time": "2022-10-23T13:28:45.385Z"
   },
   {
    "duration": 14,
    "start_time": "2022-10-23T13:29:49.350Z"
   },
   {
    "duration": 1109,
    "start_time": "2022-10-23T13:30:37.450Z"
   },
   {
    "duration": 116,
    "start_time": "2022-10-23T13:30:38.564Z"
   },
   {
    "duration": 3,
    "start_time": "2022-10-23T13:30:38.681Z"
   },
   {
    "duration": 32,
    "start_time": "2022-10-23T13:30:38.687Z"
   },
   {
    "duration": 13,
    "start_time": "2022-10-23T13:30:38.721Z"
   },
   {
    "duration": 36,
    "start_time": "2022-10-23T13:30:38.736Z"
   },
   {
    "duration": 18,
    "start_time": "2022-10-23T13:30:38.774Z"
   },
   {
    "duration": 17,
    "start_time": "2022-10-23T13:30:38.795Z"
   },
   {
    "duration": 42,
    "start_time": "2022-10-23T13:30:38.814Z"
   },
   {
    "duration": 81,
    "start_time": "2022-10-23T13:30:38.861Z"
   },
   {
    "duration": 25,
    "start_time": "2022-10-23T13:30:38.944Z"
   },
   {
    "duration": 13,
    "start_time": "2022-10-23T13:30:38.972Z"
   },
   {
    "duration": 18,
    "start_time": "2022-10-23T13:30:38.987Z"
   },
   {
    "duration": 5,
    "start_time": "2022-10-23T13:30:39.008Z"
   },
   {
    "duration": 61,
    "start_time": "2022-10-23T13:30:39.015Z"
   },
   {
    "duration": 15,
    "start_time": "2022-10-23T13:30:39.079Z"
   },
   {
    "duration": 21,
    "start_time": "2022-10-23T13:30:39.127Z"
   },
   {
    "duration": 30,
    "start_time": "2022-10-23T13:30:39.150Z"
   },
   {
    "duration": 45,
    "start_time": "2022-10-23T13:30:39.181Z"
   },
   {
    "duration": 5,
    "start_time": "2022-10-23T13:30:39.228Z"
   },
   {
    "duration": 33,
    "start_time": "2022-10-23T13:30:39.238Z"
   },
   {
    "duration": 14,
    "start_time": "2022-10-23T13:30:39.273Z"
   },
   {
    "duration": 88,
    "start_time": "2022-10-23T13:30:39.289Z"
   },
   {
    "duration": 16,
    "start_time": "2022-10-23T13:30:39.380Z"
   },
   {
    "duration": 53,
    "start_time": "2022-10-23T13:30:39.424Z"
   },
   {
    "duration": 11,
    "start_time": "2022-10-23T13:30:39.478Z"
   },
   {
    "duration": 35,
    "start_time": "2022-10-23T13:30:39.491Z"
   },
   {
    "duration": 41,
    "start_time": "2022-10-23T13:30:39.528Z"
   },
   {
    "duration": 5,
    "start_time": "2022-10-23T13:31:39.720Z"
   },
   {
    "duration": 5,
    "start_time": "2022-10-23T13:31:40.357Z"
   },
   {
    "duration": 8,
    "start_time": "2022-10-23T13:31:42.846Z"
   },
   {
    "duration": 111,
    "start_time": "2022-10-23T13:31:47.263Z"
   },
   {
    "duration": 7,
    "start_time": "2022-10-23T13:31:47.545Z"
   },
   {
    "duration": 4,
    "start_time": "2022-10-23T13:31:56.274Z"
   },
   {
    "duration": 4,
    "start_time": "2022-10-23T13:31:56.961Z"
   },
   {
    "duration": 4,
    "start_time": "2022-10-23T13:31:58.511Z"
   },
   {
    "duration": 3,
    "start_time": "2022-10-23T13:32:25.352Z"
   },
   {
    "duration": 4,
    "start_time": "2022-10-23T13:32:25.755Z"
   },
   {
    "duration": 4,
    "start_time": "2022-10-23T13:32:26.683Z"
   },
   {
    "duration": 4,
    "start_time": "2022-10-23T13:33:06.789Z"
   },
   {
    "duration": 4,
    "start_time": "2022-10-23T13:33:07.993Z"
   },
   {
    "duration": 4,
    "start_time": "2022-10-23T13:33:08.694Z"
   },
   {
    "duration": 3,
    "start_time": "2022-10-23T15:38:09.087Z"
   },
   {
    "duration": 29,
    "start_time": "2022-10-23T15:38:09.093Z"
   },
   {
    "duration": 3,
    "start_time": "2022-10-23T15:38:09.124Z"
   },
   {
    "duration": 45,
    "start_time": "2022-10-23T15:38:09.128Z"
   },
   {
    "duration": 3,
    "start_time": "2022-10-23T15:38:09.175Z"
   },
   {
    "duration": 5,
    "start_time": "2022-10-23T15:38:09.180Z"
   },
   {
    "duration": 13,
    "start_time": "2022-10-23T15:38:09.187Z"
   },
   {
    "duration": 22,
    "start_time": "2022-10-23T15:38:09.202Z"
   },
   {
    "duration": 9,
    "start_time": "2022-10-23T15:38:09.225Z"
   },
   {
    "duration": 87,
    "start_time": "2022-10-23T15:38:09.236Z"
   },
   {
    "duration": 4,
    "start_time": "2022-10-23T15:38:09.326Z"
   },
   {
    "duration": 9,
    "start_time": "2022-10-23T15:38:09.331Z"
   },
   {
    "duration": 7,
    "start_time": "2022-10-23T15:38:09.342Z"
   },
   {
    "duration": 5,
    "start_time": "2022-10-23T15:38:09.350Z"
   },
   {
    "duration": 67,
    "start_time": "2022-10-23T15:38:09.357Z"
   },
   {
    "duration": 7,
    "start_time": "2022-10-23T15:38:09.426Z"
   },
   {
    "duration": 6,
    "start_time": "2022-10-23T15:38:09.435Z"
   },
   {
    "duration": 5,
    "start_time": "2022-10-23T15:38:09.442Z"
   },
   {
    "duration": 8,
    "start_time": "2022-10-23T15:38:09.448Z"
   },
   {
    "duration": 133,
    "start_time": "2022-10-23T15:38:26.795Z"
   },
   {
    "duration": 1182,
    "start_time": "2022-10-23T18:51:45.933Z"
   },
   {
    "duration": 51,
    "start_time": "2022-10-23T18:51:47.117Z"
   },
   {
    "duration": 3,
    "start_time": "2022-10-23T18:51:47.170Z"
   },
   {
    "duration": 35,
    "start_time": "2022-10-23T18:51:47.174Z"
   },
   {
    "duration": 8,
    "start_time": "2022-10-23T18:51:47.211Z"
   },
   {
    "duration": 10,
    "start_time": "2022-10-23T18:51:47.220Z"
   },
   {
    "duration": 16,
    "start_time": "2022-10-23T18:51:47.231Z"
   },
   {
    "duration": 6,
    "start_time": "2022-10-23T18:51:47.249Z"
   },
   {
    "duration": 8,
    "start_time": "2022-10-23T18:51:47.257Z"
   },
   {
    "duration": 75,
    "start_time": "2022-10-23T18:51:47.268Z"
   },
   {
    "duration": 8,
    "start_time": "2022-10-23T18:51:47.345Z"
   },
   {
    "duration": 5,
    "start_time": "2022-10-23T18:51:47.433Z"
   },
   {
    "duration": 9,
    "start_time": "2022-10-23T18:51:47.441Z"
   },
   {
    "duration": 12,
    "start_time": "2022-10-23T18:51:47.453Z"
   },
   {
    "duration": 9,
    "start_time": "2022-10-23T18:51:47.467Z"
   },
   {
    "duration": 13,
    "start_time": "2022-10-23T18:51:47.478Z"
   },
   {
    "duration": 6,
    "start_time": "2022-10-23T18:51:47.533Z"
   },
   {
    "duration": 9,
    "start_time": "2022-10-23T18:51:47.540Z"
   },
   {
    "duration": 7,
    "start_time": "2022-10-23T18:51:47.551Z"
   },
   {
    "duration": 9,
    "start_time": "2022-10-23T18:51:47.560Z"
   },
   {
    "duration": 63,
    "start_time": "2022-10-23T18:51:47.572Z"
   },
   {
    "duration": 4,
    "start_time": "2022-10-23T18:51:47.636Z"
   },
   {
    "duration": 10,
    "start_time": "2022-10-23T18:51:47.642Z"
   },
   {
    "duration": 11,
    "start_time": "2022-10-23T18:51:47.653Z"
   },
   {
    "duration": 67,
    "start_time": "2022-10-23T18:51:47.666Z"
   },
   {
    "duration": 8,
    "start_time": "2022-10-23T18:51:47.735Z"
   },
   {
    "duration": 4,
    "start_time": "2022-10-23T18:51:47.744Z"
   },
   {
    "duration": 12,
    "start_time": "2022-10-23T18:51:47.750Z"
   },
   {
    "duration": 206,
    "start_time": "2022-10-23T18:52:32.036Z"
   },
   {
    "duration": 37,
    "start_time": "2022-10-23T18:53:20.498Z"
   },
   {
    "duration": 14,
    "start_time": "2022-10-23T18:53:26.581Z"
   },
   {
    "duration": 9,
    "start_time": "2022-10-23T18:53:48.995Z"
   },
   {
    "duration": 1069,
    "start_time": "2022-10-23T18:54:00.735Z"
   },
   {
    "duration": 17,
    "start_time": "2022-10-23T18:54:01.806Z"
   },
   {
    "duration": 12,
    "start_time": "2022-10-23T18:54:01.825Z"
   },
   {
    "duration": 46,
    "start_time": "2022-10-23T18:54:01.839Z"
   },
   {
    "duration": 3,
    "start_time": "2022-10-23T18:54:01.887Z"
   },
   {
    "duration": 12,
    "start_time": "2022-10-23T18:54:01.892Z"
   },
   {
    "duration": 16,
    "start_time": "2022-10-23T18:54:01.906Z"
   },
   {
    "duration": 11,
    "start_time": "2022-10-23T18:54:01.923Z"
   },
   {
    "duration": 21,
    "start_time": "2022-10-23T18:54:01.936Z"
   },
   {
    "duration": 11,
    "start_time": "2022-10-23T18:54:02.034Z"
   },
   {
    "duration": 86,
    "start_time": "2022-10-23T18:54:02.047Z"
   },
   {
    "duration": 4,
    "start_time": "2022-10-23T18:54:02.135Z"
   },
   {
    "duration": 29,
    "start_time": "2022-10-23T18:54:02.141Z"
   },
   {
    "duration": 31,
    "start_time": "2022-10-23T18:54:02.172Z"
   },
   {
    "duration": 17,
    "start_time": "2022-10-23T18:54:02.205Z"
   },
   {
    "duration": 31,
    "start_time": "2022-10-23T18:54:02.223Z"
   },
   {
    "duration": 43,
    "start_time": "2022-10-23T18:54:02.255Z"
   },
   {
    "duration": 38,
    "start_time": "2022-10-23T18:54:02.300Z"
   },
   {
    "duration": 7,
    "start_time": "2022-10-23T18:54:02.340Z"
   },
   {
    "duration": 13,
    "start_time": "2022-10-23T18:54:02.349Z"
   },
   {
    "duration": 71,
    "start_time": "2022-10-23T18:54:02.364Z"
   },
   {
    "duration": 16,
    "start_time": "2022-10-23T18:54:02.437Z"
   },
   {
    "duration": 201,
    "start_time": "2022-10-23T18:54:02.455Z"
   },
   {
    "duration": 0,
    "start_time": "2022-10-23T18:54:02.657Z"
   },
   {
    "duration": 0,
    "start_time": "2022-10-23T18:54:02.658Z"
   },
   {
    "duration": 0,
    "start_time": "2022-10-23T18:54:02.659Z"
   },
   {
    "duration": 0,
    "start_time": "2022-10-23T18:54:02.660Z"
   },
   {
    "duration": 0,
    "start_time": "2022-10-23T18:54:02.661Z"
   },
   {
    "duration": 5,
    "start_time": "2022-10-23T18:54:35.032Z"
   },
   {
    "duration": 9,
    "start_time": "2022-10-23T18:55:23.021Z"
   },
   {
    "duration": 8,
    "start_time": "2022-10-23T18:55:29.077Z"
   },
   {
    "duration": 4,
    "start_time": "2022-10-23T18:55:52.558Z"
   },
   {
    "duration": 5,
    "start_time": "2022-10-23T18:56:05.263Z"
   },
   {
    "duration": 5,
    "start_time": "2022-10-23T18:56:14.003Z"
   },
   {
    "duration": 4,
    "start_time": "2022-10-23T18:56:24.873Z"
   },
   {
    "duration": 3,
    "start_time": "2022-10-23T18:56:37.456Z"
   },
   {
    "duration": 4,
    "start_time": "2022-10-23T18:56:40.684Z"
   },
   {
    "duration": 53,
    "start_time": "2022-10-24T08:49:24.328Z"
   },
   {
    "duration": 1119,
    "start_time": "2022-10-24T08:51:03.617Z"
   },
   {
    "duration": 66,
    "start_time": "2022-10-24T08:51:04.738Z"
   },
   {
    "duration": 2,
    "start_time": "2022-10-24T08:51:04.806Z"
   },
   {
    "duration": 46,
    "start_time": "2022-10-24T08:51:04.810Z"
   },
   {
    "duration": 3,
    "start_time": "2022-10-24T08:51:04.858Z"
   },
   {
    "duration": 35,
    "start_time": "2022-10-24T08:51:04.863Z"
   },
   {
    "duration": 53,
    "start_time": "2022-10-24T08:51:04.900Z"
   },
   {
    "duration": 28,
    "start_time": "2022-10-24T08:51:04.954Z"
   },
   {
    "duration": 22,
    "start_time": "2022-10-24T08:51:04.983Z"
   },
   {
    "duration": 94,
    "start_time": "2022-10-24T08:51:05.009Z"
   },
   {
    "duration": 11,
    "start_time": "2022-10-24T08:51:05.105Z"
   },
   {
    "duration": 14,
    "start_time": "2022-10-24T08:51:05.118Z"
   },
   {
    "duration": 19,
    "start_time": "2022-10-24T08:51:05.134Z"
   },
   {
    "duration": 23,
    "start_time": "2022-10-24T08:51:05.155Z"
   },
   {
    "duration": 20,
    "start_time": "2022-10-24T08:51:05.199Z"
   },
   {
    "duration": 18,
    "start_time": "2022-10-24T08:51:05.221Z"
   },
   {
    "duration": 12,
    "start_time": "2022-10-24T08:51:05.241Z"
   },
   {
    "duration": 47,
    "start_time": "2022-10-24T08:51:05.255Z"
   },
   {
    "duration": 11,
    "start_time": "2022-10-24T08:51:05.304Z"
   },
   {
    "duration": 18,
    "start_time": "2022-10-24T08:51:05.317Z"
   },
   {
    "duration": 21,
    "start_time": "2022-10-24T08:51:05.337Z"
   },
   {
    "duration": 16,
    "start_time": "2022-10-24T08:51:05.400Z"
   },
   {
    "duration": 26,
    "start_time": "2022-10-24T08:51:05.417Z"
   },
   {
    "duration": 191,
    "start_time": "2022-10-24T08:51:05.445Z"
   },
   {
    "duration": 0,
    "start_time": "2022-10-24T08:51:05.638Z"
   },
   {
    "duration": 0,
    "start_time": "2022-10-24T08:51:05.638Z"
   },
   {
    "duration": 0,
    "start_time": "2022-10-24T08:51:05.639Z"
   },
   {
    "duration": 0,
    "start_time": "2022-10-24T08:51:05.640Z"
   },
   {
    "duration": 0,
    "start_time": "2022-10-24T08:51:05.641Z"
   },
   {
    "duration": 8,
    "start_time": "2022-10-24T08:51:33.854Z"
   },
   {
    "duration": 9,
    "start_time": "2022-10-24T08:51:50.498Z"
   },
   {
    "duration": 3,
    "start_time": "2022-10-24T08:51:58.321Z"
   },
   {
    "duration": 4,
    "start_time": "2022-10-24T08:52:05.866Z"
   },
   {
    "duration": 4,
    "start_time": "2022-10-24T08:52:14.125Z"
   },
   {
    "duration": 3,
    "start_time": "2022-10-24T08:52:16.185Z"
   },
   {
    "duration": 4,
    "start_time": "2022-10-24T08:52:18.630Z"
   },
   {
    "duration": 4,
    "start_time": "2022-10-24T08:52:19.373Z"
   },
   {
    "duration": 3,
    "start_time": "2022-10-24T08:52:19.788Z"
   },
   {
    "duration": 8,
    "start_time": "2022-10-24T08:52:20.372Z"
   },
   {
    "duration": 4,
    "start_time": "2022-10-24T08:52:32.579Z"
   },
   {
    "duration": 5,
    "start_time": "2022-10-24T08:52:37.326Z"
   },
   {
    "duration": 3,
    "start_time": "2022-10-24T08:53:52.380Z"
   },
   {
    "duration": 1165,
    "start_time": "2022-10-24T10:48:15.248Z"
   },
   {
    "duration": 53,
    "start_time": "2022-10-24T10:48:16.417Z"
   },
   {
    "duration": 4,
    "start_time": "2022-10-24T10:48:16.472Z"
   },
   {
    "duration": 53,
    "start_time": "2022-10-24T10:48:16.480Z"
   },
   {
    "duration": 4,
    "start_time": "2022-10-24T10:48:16.535Z"
   },
   {
    "duration": 18,
    "start_time": "2022-10-24T10:48:16.541Z"
   },
   {
    "duration": 18,
    "start_time": "2022-10-24T10:48:16.561Z"
   },
   {
    "duration": 17,
    "start_time": "2022-10-24T10:48:16.581Z"
   },
   {
    "duration": 4,
    "start_time": "2022-10-24T10:48:16.621Z"
   },
   {
    "duration": 94,
    "start_time": "2022-10-24T10:48:16.628Z"
   },
   {
    "duration": 3,
    "start_time": "2022-10-24T10:48:16.724Z"
   },
   {
    "duration": 18,
    "start_time": "2022-10-24T10:48:16.728Z"
   },
   {
    "duration": 9,
    "start_time": "2022-10-24T10:48:16.747Z"
   },
   {
    "duration": 12,
    "start_time": "2022-10-24T10:48:16.757Z"
   },
   {
    "duration": 12,
    "start_time": "2022-10-24T10:48:16.771Z"
   },
   {
    "duration": 43,
    "start_time": "2022-10-24T10:48:16.784Z"
   },
   {
    "duration": 19,
    "start_time": "2022-10-24T10:48:16.830Z"
   },
   {
    "duration": 32,
    "start_time": "2022-10-24T10:48:16.851Z"
   },
   {
    "duration": 79,
    "start_time": "2022-10-24T10:48:16.885Z"
   },
   {
    "duration": 33,
    "start_time": "2022-10-24T10:48:16.966Z"
   },
   {
    "duration": 30,
    "start_time": "2022-10-24T10:48:17.001Z"
   },
   {
    "duration": 208,
    "start_time": "2022-10-24T10:48:17.033Z"
   },
   {
    "duration": 0,
    "start_time": "2022-10-24T10:48:17.243Z"
   },
   {
    "duration": 0,
    "start_time": "2022-10-24T10:48:17.245Z"
   },
   {
    "duration": 0,
    "start_time": "2022-10-24T10:48:17.246Z"
   },
   {
    "duration": 0,
    "start_time": "2022-10-24T10:48:17.248Z"
   },
   {
    "duration": 0,
    "start_time": "2022-10-24T10:48:17.249Z"
   },
   {
    "duration": 0,
    "start_time": "2022-10-24T10:48:17.251Z"
   },
   {
    "duration": 5,
    "start_time": "2022-10-24T10:49:00.942Z"
   },
   {
    "duration": 4,
    "start_time": "2022-10-24T10:49:07.464Z"
   },
   {
    "duration": 4,
    "start_time": "2022-10-24T10:49:13.150Z"
   },
   {
    "duration": 10,
    "start_time": "2022-10-24T10:49:14.011Z"
   },
   {
    "duration": 4,
    "start_time": "2022-10-24T10:49:47.710Z"
   },
   {
    "duration": 4,
    "start_time": "2022-10-24T10:49:49.709Z"
   },
   {
    "duration": 4,
    "start_time": "2022-10-24T10:49:51.427Z"
   },
   {
    "duration": 4,
    "start_time": "2022-10-24T10:49:52.740Z"
   },
   {
    "duration": 5,
    "start_time": "2022-10-24T10:49:53.217Z"
   },
   {
    "duration": 1068,
    "start_time": "2022-10-24T10:53:29.622Z"
   },
   {
    "duration": 17,
    "start_time": "2022-10-24T10:53:30.692Z"
   },
   {
    "duration": 20,
    "start_time": "2022-10-24T10:53:30.710Z"
   },
   {
    "duration": 42,
    "start_time": "2022-10-24T10:53:30.732Z"
   },
   {
    "duration": 37,
    "start_time": "2022-10-24T10:53:30.776Z"
   },
   {
    "duration": 59,
    "start_time": "2022-10-24T10:53:30.815Z"
   },
   {
    "duration": 43,
    "start_time": "2022-10-24T10:53:30.876Z"
   },
   {
    "duration": 55,
    "start_time": "2022-10-24T10:53:30.921Z"
   },
   {
    "duration": 43,
    "start_time": "2022-10-24T10:53:30.978Z"
   },
   {
    "duration": 116,
    "start_time": "2022-10-24T10:53:31.023Z"
   },
   {
    "duration": 91,
    "start_time": "2022-10-24T10:53:31.140Z"
   },
   {
    "duration": 21,
    "start_time": "2022-10-24T10:53:31.232Z"
   },
   {
    "duration": 20,
    "start_time": "2022-10-24T10:53:31.254Z"
   },
   {
    "duration": 25,
    "start_time": "2022-10-24T10:53:31.275Z"
   },
   {
    "duration": 14,
    "start_time": "2022-10-24T10:53:31.301Z"
   },
   {
    "duration": 38,
    "start_time": "2022-10-24T10:53:31.317Z"
   },
   {
    "duration": 16,
    "start_time": "2022-10-24T10:53:31.356Z"
   },
   {
    "duration": 31,
    "start_time": "2022-10-24T10:53:31.373Z"
   },
   {
    "duration": 22,
    "start_time": "2022-10-24T10:53:31.421Z"
   },
   {
    "duration": 18,
    "start_time": "2022-10-24T10:53:31.445Z"
   },
   {
    "duration": 59,
    "start_time": "2022-10-24T10:53:31.464Z"
   },
   {
    "duration": 149,
    "start_time": "2022-10-24T10:53:31.524Z"
   },
   {
    "duration": 0,
    "start_time": "2022-10-24T10:53:31.674Z"
   },
   {
    "duration": 0,
    "start_time": "2022-10-24T10:53:31.676Z"
   },
   {
    "duration": 0,
    "start_time": "2022-10-24T10:53:31.677Z"
   },
   {
    "duration": 0,
    "start_time": "2022-10-24T10:53:31.678Z"
   },
   {
    "duration": 0,
    "start_time": "2022-10-24T10:53:31.720Z"
   },
   {
    "duration": 5,
    "start_time": "2022-10-24T10:54:17.011Z"
   },
   {
    "duration": 4,
    "start_time": "2022-10-24T10:54:19.365Z"
   },
   {
    "duration": 1002,
    "start_time": "2022-10-24T10:54:23.179Z"
   },
   {
    "duration": 19,
    "start_time": "2022-10-24T10:54:24.183Z"
   },
   {
    "duration": 32,
    "start_time": "2022-10-24T10:54:24.208Z"
   },
   {
    "duration": 72,
    "start_time": "2022-10-24T10:54:24.242Z"
   },
   {
    "duration": 16,
    "start_time": "2022-10-24T10:54:24.316Z"
   },
   {
    "duration": 22,
    "start_time": "2022-10-24T10:54:24.334Z"
   },
   {
    "duration": 35,
    "start_time": "2022-10-24T10:54:24.357Z"
   },
   {
    "duration": 37,
    "start_time": "2022-10-24T10:54:24.394Z"
   },
   {
    "duration": 87,
    "start_time": "2022-10-24T10:54:24.434Z"
   },
   {
    "duration": 104,
    "start_time": "2022-10-24T10:54:24.523Z"
   },
   {
    "duration": 19,
    "start_time": "2022-10-24T10:54:24.628Z"
   },
   {
    "duration": 28,
    "start_time": "2022-10-24T10:54:24.649Z"
   },
   {
    "duration": 30,
    "start_time": "2022-10-24T10:54:24.678Z"
   },
   {
    "duration": 38,
    "start_time": "2022-10-24T10:54:24.709Z"
   },
   {
    "duration": 18,
    "start_time": "2022-10-24T10:54:24.749Z"
   },
   {
    "duration": 31,
    "start_time": "2022-10-24T10:54:24.769Z"
   },
   {
    "duration": 37,
    "start_time": "2022-10-24T10:54:24.801Z"
   },
   {
    "duration": 40,
    "start_time": "2022-10-24T10:54:24.839Z"
   },
   {
    "duration": 40,
    "start_time": "2022-10-24T10:54:24.881Z"
   },
   {
    "duration": 17,
    "start_time": "2022-10-24T10:54:24.923Z"
   },
   {
    "duration": 38,
    "start_time": "2022-10-24T10:54:24.942Z"
   },
   {
    "duration": 41,
    "start_time": "2022-10-24T10:54:24.982Z"
   },
   {
    "duration": 29,
    "start_time": "2022-10-24T10:54:25.025Z"
   },
   {
    "duration": 28,
    "start_time": "2022-10-24T10:54:25.056Z"
   },
   {
    "duration": 14,
    "start_time": "2022-10-24T10:54:25.121Z"
   },
   {
    "duration": 28,
    "start_time": "2022-10-24T10:54:25.137Z"
   },
   {
    "duration": 57,
    "start_time": "2022-10-24T10:54:25.167Z"
   },
   {
    "duration": 1094,
    "start_time": "2022-10-24T11:01:53.494Z"
   },
   {
    "duration": 17,
    "start_time": "2022-10-24T11:01:54.590Z"
   },
   {
    "duration": 8,
    "start_time": "2022-10-24T11:01:54.609Z"
   },
   {
    "duration": 44,
    "start_time": "2022-10-24T11:01:54.619Z"
   },
   {
    "duration": 20,
    "start_time": "2022-10-24T11:01:54.665Z"
   },
   {
    "duration": 16,
    "start_time": "2022-10-24T11:01:54.687Z"
   },
   {
    "duration": 26,
    "start_time": "2022-10-24T11:01:54.704Z"
   },
   {
    "duration": 14,
    "start_time": "2022-10-24T11:01:54.731Z"
   },
   {
    "duration": 74,
    "start_time": "2022-10-24T11:01:54.747Z"
   },
   {
    "duration": 103,
    "start_time": "2022-10-24T11:01:54.824Z"
   },
   {
    "duration": 24,
    "start_time": "2022-10-24T11:01:54.928Z"
   },
   {
    "duration": 7,
    "start_time": "2022-10-24T11:01:54.954Z"
   },
   {
    "duration": 21,
    "start_time": "2022-10-24T11:01:54.962Z"
   },
   {
    "duration": 8,
    "start_time": "2022-10-24T11:01:54.985Z"
   },
   {
    "duration": 8,
    "start_time": "2022-10-24T11:01:54.994Z"
   },
   {
    "duration": 6,
    "start_time": "2022-10-24T11:01:55.004Z"
   },
   {
    "duration": 29,
    "start_time": "2022-10-24T11:01:55.011Z"
   },
   {
    "duration": 12,
    "start_time": "2022-10-24T11:01:55.042Z"
   },
   {
    "duration": 8,
    "start_time": "2022-10-24T11:01:55.056Z"
   },
   {
    "duration": 55,
    "start_time": "2022-10-24T11:01:55.066Z"
   },
   {
    "duration": 19,
    "start_time": "2022-10-24T11:01:55.123Z"
   },
   {
    "duration": 20,
    "start_time": "2022-10-24T11:01:55.144Z"
   },
   {
    "duration": 57,
    "start_time": "2022-10-24T11:01:55.166Z"
   },
   {
    "duration": 19,
    "start_time": "2022-10-24T11:01:55.224Z"
   },
   {
    "duration": 36,
    "start_time": "2022-10-24T11:01:55.245Z"
   },
   {
    "duration": 4,
    "start_time": "2022-10-24T11:01:55.321Z"
   },
   {
    "duration": 16,
    "start_time": "2022-10-24T11:01:55.327Z"
   }
  ],
  "kernelspec": {
   "display_name": "Python 3 (ipykernel)",
   "language": "python",
   "name": "python3"
  },
  "language_info": {
   "codemirror_mode": {
    "name": "ipython",
    "version": 3
   },
   "file_extension": ".py",
   "mimetype": "text/x-python",
   "name": "python",
   "nbconvert_exporter": "python",
   "pygments_lexer": "ipython3",
   "version": "3.9.13"
  },
  "toc": {
   "base_numbering": 1,
   "nav_menu": {},
   "number_sections": true,
   "sideBar": true,
   "skip_h1_title": true,
   "title_cell": "Содержание",
   "title_sidebar": "Contents",
   "toc_cell": true,
   "toc_position": {},
   "toc_section_display": true,
   "toc_window_display": true
  }
 },
 "nbformat": 4,
 "nbformat_minor": 2
}
