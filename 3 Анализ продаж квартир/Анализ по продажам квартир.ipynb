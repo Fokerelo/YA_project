{
 "cells": [
  {
   "cell_type": "markdown",
   "metadata": {},
   "source": [
    "# Исследование объявлений о продаже квартир\n",
    "\n",
    "В вашем распоряжении данные сервиса Яндекс.Недвижимость — архив объявлений о продаже квартир в Санкт-Петербурге и соседних населённых пунктов за несколько лет. Нужно научиться определять рыночную стоимость объектов недвижимости. Ваша задача — установить параметры. Это позволит построить автоматизированную систему: она отследит аномалии и мошенническую деятельность. \n",
    "\n",
    "По каждой квартире на продажу доступны два вида данных. Первые вписаны пользователем, вторые — получены автоматически на основе картографических данных. Например, расстояние до центра, аэропорта, ближайшего парка и водоёма. "
   ]
  },
  {
   "cell_type": "code",
   "execution_count": 1,
   "metadata": {},
   "outputs": [],
   "source": [
    "# импорт необходимых библиотек\n",
    "import pandas as pd   \n",
    "import matplotlib.pyplot as plt"
   ]
  },
  {
   "cell_type": "code",
   "execution_count": 2,
   "metadata": {},
   "outputs": [],
   "source": [
    "data = pd.read_csv('/datasets/real_estate_data.csv') # чтение файла и сохранение  переменной"
   ]
  },
  {
   "cell_type": "code",
   "execution_count": 3,
   "metadata": {
    "scrolled": true
   },
   "outputs": [
    {
     "name": "stdout",
     "output_type": "stream",
     "text": [
      "<class 'pandas.core.frame.DataFrame'>\n",
      "RangeIndex: 23699 entries, 0 to 23698\n",
      "Data columns (total 1 columns):\n",
      " #   Column                                                                                                                                                                                                                                                                                           Non-Null Count  Dtype \n",
      "---  ------                                                                                                                                                                                                                                                                                           --------------  ----- \n",
      " 0   total_images\tlast_price\ttotal_area\tfirst_day_exposition\trooms\tceiling_height\tfloors_total\tliving_area\tfloor\tis_apartment\tstudio\topen_plan\tkitchen_area\tbalcony\tlocality_name\tairports_nearest\tcityCenters_nearest\tparks_around3000\tparks_nearest\tponds_around3000\tponds_nearest\tdays_exposition  23699 non-null  object\n",
      "dtypes: object(1)\n",
      "memory usage: 185.3+ KB\n"
     ]
    }
   ],
   "source": [
    "data.info()"
   ]
  },
  {
   "cell_type": "markdown",
   "metadata": {},
   "source": [
    "**1 столбец - видимо что то не так, выведу первые 5 строк файла, что бы увидеть в чем проблема.**"
   ]
  },
  {
   "cell_type": "code",
   "execution_count": 4,
   "metadata": {},
   "outputs": [
    {
     "data": {
      "text/html": [
       "<div>\n",
       "<style scoped>\n",
       "    .dataframe tbody tr th:only-of-type {\n",
       "        vertical-align: middle;\n",
       "    }\n",
       "\n",
       "    .dataframe tbody tr th {\n",
       "        vertical-align: top;\n",
       "    }\n",
       "\n",
       "    .dataframe thead th {\n",
       "        text-align: right;\n",
       "    }\n",
       "</style>\n",
       "<table border=\"1\" class=\"dataframe\">\n",
       "  <thead>\n",
       "    <tr style=\"text-align: right;\">\n",
       "      <th></th>\n",
       "      <th>total_images\\tlast_price\\ttotal_area\\tfirst_day_exposition\\trooms\\tceiling_height\\tfloors_total\\tliving_area\\tfloor\\tis_apartment\\tstudio\\topen_plan\\tkitchen_area\\tbalcony\\tlocality_name\\tairports_nearest\\tcityCenters_nearest\\tparks_around3000\\tparks_nearest\\tponds_around3000\\tponds_nearest\\tdays_exposition</th>\n",
       "    </tr>\n",
       "  </thead>\n",
       "  <tbody>\n",
       "    <tr>\n",
       "      <th>0</th>\n",
       "      <td>20\\t13000000.0\\t108.0\\t2019-03-07T00:00:00\\t3\\...</td>\n",
       "    </tr>\n",
       "    <tr>\n",
       "      <th>1</th>\n",
       "      <td>7\\t3350000.0\\t40.4\\t2018-12-04T00:00:00\\t1\\t\\t...</td>\n",
       "    </tr>\n",
       "    <tr>\n",
       "      <th>2</th>\n",
       "      <td>10\\t5196000.0\\t56.0\\t2015-08-20T00:00:00\\t2\\t\\...</td>\n",
       "    </tr>\n",
       "    <tr>\n",
       "      <th>3</th>\n",
       "      <td>0\\t64900000.0\\t159.0\\t2015-07-24T00:00:00\\t3\\t...</td>\n",
       "    </tr>\n",
       "    <tr>\n",
       "      <th>4</th>\n",
       "      <td>2\\t10000000.0\\t100.0\\t2018-06-19T00:00:00\\t2\\t...</td>\n",
       "    </tr>\n",
       "  </tbody>\n",
       "</table>\n",
       "</div>"
      ],
      "text/plain": [
       "  total_images\\tlast_price\\ttotal_area\\tfirst_day_exposition\\trooms\\tceiling_height\\tfloors_total\\tliving_area\\tfloor\\tis_apartment\\tstudio\\topen_plan\\tkitchen_area\\tbalcony\\tlocality_name\\tairports_nearest\\tcityCenters_nearest\\tparks_around3000\\tparks_nearest\\tponds_around3000\\tponds_nearest\\tdays_exposition\n",
       "0  20\\t13000000.0\\t108.0\\t2019-03-07T00:00:00\\t3\\...                                                                                                                                                                                                                                                                  \n",
       "1  7\\t3350000.0\\t40.4\\t2018-12-04T00:00:00\\t1\\t\\t...                                                                                                                                                                                                                                                                  \n",
       "2  10\\t5196000.0\\t56.0\\t2015-08-20T00:00:00\\t2\\t\\...                                                                                                                                                                                                                                                                  \n",
       "3  0\\t64900000.0\\t159.0\\t2015-07-24T00:00:00\\t3\\t...                                                                                                                                                                                                                                                                  \n",
       "4  2\\t10000000.0\\t100.0\\t2018-06-19T00:00:00\\t2\\t...                                                                                                                                                                                                                                                                  "
      ]
     },
     "execution_count": 4,
     "metadata": {},
     "output_type": "execute_result"
    }
   ],
   "source": [
    "data.head()"
   ]
  },
  {
   "cell_type": "markdown",
   "metadata": {},
   "source": [
    "*Все данные \"склеились\", и видно, что информацию разделяет символ табулиции `\\t`, перезапишу файл но уже с разделителем и проверю все заново.*"
   ]
  },
  {
   "cell_type": "code",
   "execution_count": 5,
   "metadata": {},
   "outputs": [],
   "source": [
    "data = pd.read_csv('/datasets/real_estate_data.csv', sep='\\t')"
   ]
  },
  {
   "cell_type": "code",
   "execution_count": 6,
   "metadata": {},
   "outputs": [
    {
     "name": "stdout",
     "output_type": "stream",
     "text": [
      "<class 'pandas.core.frame.DataFrame'>\n",
      "RangeIndex: 23699 entries, 0 to 23698\n",
      "Data columns (total 22 columns):\n",
      " #   Column                Non-Null Count  Dtype  \n",
      "---  ------                --------------  -----  \n",
      " 0   total_images          23699 non-null  int64  \n",
      " 1   last_price            23699 non-null  float64\n",
      " 2   total_area            23699 non-null  float64\n",
      " 3   first_day_exposition  23699 non-null  object \n",
      " 4   rooms                 23699 non-null  int64  \n",
      " 5   ceiling_height        14504 non-null  float64\n",
      " 6   floors_total          23613 non-null  float64\n",
      " 7   living_area           21796 non-null  float64\n",
      " 8   floor                 23699 non-null  int64  \n",
      " 9   is_apartment          2775 non-null   object \n",
      " 10  studio                23699 non-null  bool   \n",
      " 11  open_plan             23699 non-null  bool   \n",
      " 12  kitchen_area          21421 non-null  float64\n",
      " 13  balcony               12180 non-null  float64\n",
      " 14  locality_name         23650 non-null  object \n",
      " 15  airports_nearest      18157 non-null  float64\n",
      " 16  cityCenters_nearest   18180 non-null  float64\n",
      " 17  parks_around3000      18181 non-null  float64\n",
      " 18  parks_nearest         8079 non-null   float64\n",
      " 19  ponds_around3000      18181 non-null  float64\n",
      " 20  ponds_nearest         9110 non-null   float64\n",
      " 21  days_exposition       20518 non-null  float64\n",
      "dtypes: bool(2), float64(14), int64(3), object(3)\n",
      "memory usage: 3.7+ MB\n"
     ]
    }
   ],
   "source": [
    "data.info()"
   ]
  },
  {
   "cell_type": "markdown",
   "metadata": {},
   "source": [
    "### Визуальный просмотр таблицы"
   ]
  },
  {
   "cell_type": "markdown",
   "metadata": {},
   "source": [
    "Теперь мы видем, что у нас 20 столбцов и у каждого свой тип данных, выведем 5 строк таблицы для просмотра информации"
   ]
  },
  {
   "cell_type": "code",
   "execution_count": 7,
   "metadata": {
    "scrolled": true
   },
   "outputs": [
    {
     "data": {
      "text/html": [
       "<div>\n",
       "<style scoped>\n",
       "    .dataframe tbody tr th:only-of-type {\n",
       "        vertical-align: middle;\n",
       "    }\n",
       "\n",
       "    .dataframe tbody tr th {\n",
       "        vertical-align: top;\n",
       "    }\n",
       "\n",
       "    .dataframe thead th {\n",
       "        text-align: right;\n",
       "    }\n",
       "</style>\n",
       "<table border=\"1\" class=\"dataframe\">\n",
       "  <thead>\n",
       "    <tr style=\"text-align: right;\">\n",
       "      <th></th>\n",
       "      <th>total_images</th>\n",
       "      <th>last_price</th>\n",
       "      <th>total_area</th>\n",
       "      <th>first_day_exposition</th>\n",
       "      <th>rooms</th>\n",
       "      <th>ceiling_height</th>\n",
       "      <th>floors_total</th>\n",
       "      <th>living_area</th>\n",
       "      <th>floor</th>\n",
       "      <th>is_apartment</th>\n",
       "      <th>...</th>\n",
       "      <th>kitchen_area</th>\n",
       "      <th>balcony</th>\n",
       "      <th>locality_name</th>\n",
       "      <th>airports_nearest</th>\n",
       "      <th>cityCenters_nearest</th>\n",
       "      <th>parks_around3000</th>\n",
       "      <th>parks_nearest</th>\n",
       "      <th>ponds_around3000</th>\n",
       "      <th>ponds_nearest</th>\n",
       "      <th>days_exposition</th>\n",
       "    </tr>\n",
       "  </thead>\n",
       "  <tbody>\n",
       "    <tr>\n",
       "      <th>0</th>\n",
       "      <td>20</td>\n",
       "      <td>13000000.0</td>\n",
       "      <td>108.0</td>\n",
       "      <td>2019-03-07T00:00:00</td>\n",
       "      <td>3</td>\n",
       "      <td>2.70</td>\n",
       "      <td>16.0</td>\n",
       "      <td>51.0</td>\n",
       "      <td>8</td>\n",
       "      <td>NaN</td>\n",
       "      <td>...</td>\n",
       "      <td>25.0</td>\n",
       "      <td>NaN</td>\n",
       "      <td>Санкт-Петербург</td>\n",
       "      <td>18863.0</td>\n",
       "      <td>16028.0</td>\n",
       "      <td>1.0</td>\n",
       "      <td>482.0</td>\n",
       "      <td>2.0</td>\n",
       "      <td>755.0</td>\n",
       "      <td>NaN</td>\n",
       "    </tr>\n",
       "    <tr>\n",
       "      <th>1</th>\n",
       "      <td>7</td>\n",
       "      <td>3350000.0</td>\n",
       "      <td>40.4</td>\n",
       "      <td>2018-12-04T00:00:00</td>\n",
       "      <td>1</td>\n",
       "      <td>NaN</td>\n",
       "      <td>11.0</td>\n",
       "      <td>18.6</td>\n",
       "      <td>1</td>\n",
       "      <td>NaN</td>\n",
       "      <td>...</td>\n",
       "      <td>11.0</td>\n",
       "      <td>2.0</td>\n",
       "      <td>посёлок Шушары</td>\n",
       "      <td>12817.0</td>\n",
       "      <td>18603.0</td>\n",
       "      <td>0.0</td>\n",
       "      <td>NaN</td>\n",
       "      <td>0.0</td>\n",
       "      <td>NaN</td>\n",
       "      <td>81.0</td>\n",
       "    </tr>\n",
       "    <tr>\n",
       "      <th>2</th>\n",
       "      <td>10</td>\n",
       "      <td>5196000.0</td>\n",
       "      <td>56.0</td>\n",
       "      <td>2015-08-20T00:00:00</td>\n",
       "      <td>2</td>\n",
       "      <td>NaN</td>\n",
       "      <td>5.0</td>\n",
       "      <td>34.3</td>\n",
       "      <td>4</td>\n",
       "      <td>NaN</td>\n",
       "      <td>...</td>\n",
       "      <td>8.3</td>\n",
       "      <td>0.0</td>\n",
       "      <td>Санкт-Петербург</td>\n",
       "      <td>21741.0</td>\n",
       "      <td>13933.0</td>\n",
       "      <td>1.0</td>\n",
       "      <td>90.0</td>\n",
       "      <td>2.0</td>\n",
       "      <td>574.0</td>\n",
       "      <td>558.0</td>\n",
       "    </tr>\n",
       "    <tr>\n",
       "      <th>3</th>\n",
       "      <td>0</td>\n",
       "      <td>64900000.0</td>\n",
       "      <td>159.0</td>\n",
       "      <td>2015-07-24T00:00:00</td>\n",
       "      <td>3</td>\n",
       "      <td>NaN</td>\n",
       "      <td>14.0</td>\n",
       "      <td>NaN</td>\n",
       "      <td>9</td>\n",
       "      <td>NaN</td>\n",
       "      <td>...</td>\n",
       "      <td>NaN</td>\n",
       "      <td>0.0</td>\n",
       "      <td>Санкт-Петербург</td>\n",
       "      <td>28098.0</td>\n",
       "      <td>6800.0</td>\n",
       "      <td>2.0</td>\n",
       "      <td>84.0</td>\n",
       "      <td>3.0</td>\n",
       "      <td>234.0</td>\n",
       "      <td>424.0</td>\n",
       "    </tr>\n",
       "    <tr>\n",
       "      <th>4</th>\n",
       "      <td>2</td>\n",
       "      <td>10000000.0</td>\n",
       "      <td>100.0</td>\n",
       "      <td>2018-06-19T00:00:00</td>\n",
       "      <td>2</td>\n",
       "      <td>3.03</td>\n",
       "      <td>14.0</td>\n",
       "      <td>32.0</td>\n",
       "      <td>13</td>\n",
       "      <td>NaN</td>\n",
       "      <td>...</td>\n",
       "      <td>41.0</td>\n",
       "      <td>NaN</td>\n",
       "      <td>Санкт-Петербург</td>\n",
       "      <td>31856.0</td>\n",
       "      <td>8098.0</td>\n",
       "      <td>2.0</td>\n",
       "      <td>112.0</td>\n",
       "      <td>1.0</td>\n",
       "      <td>48.0</td>\n",
       "      <td>121.0</td>\n",
       "    </tr>\n",
       "  </tbody>\n",
       "</table>\n",
       "<p>5 rows × 22 columns</p>\n",
       "</div>"
      ],
      "text/plain": [
       "   total_images  last_price  total_area first_day_exposition  rooms  \\\n",
       "0            20  13000000.0       108.0  2019-03-07T00:00:00      3   \n",
       "1             7   3350000.0        40.4  2018-12-04T00:00:00      1   \n",
       "2            10   5196000.0        56.0  2015-08-20T00:00:00      2   \n",
       "3             0  64900000.0       159.0  2015-07-24T00:00:00      3   \n",
       "4             2  10000000.0       100.0  2018-06-19T00:00:00      2   \n",
       "\n",
       "   ceiling_height  floors_total  living_area  floor is_apartment  ...  \\\n",
       "0            2.70          16.0         51.0      8          NaN  ...   \n",
       "1             NaN          11.0         18.6      1          NaN  ...   \n",
       "2             NaN           5.0         34.3      4          NaN  ...   \n",
       "3             NaN          14.0          NaN      9          NaN  ...   \n",
       "4            3.03          14.0         32.0     13          NaN  ...   \n",
       "\n",
       "   kitchen_area  balcony    locality_name  airports_nearest  \\\n",
       "0          25.0      NaN  Санкт-Петербург           18863.0   \n",
       "1          11.0      2.0   посёлок Шушары           12817.0   \n",
       "2           8.3      0.0  Санкт-Петербург           21741.0   \n",
       "3           NaN      0.0  Санкт-Петербург           28098.0   \n",
       "4          41.0      NaN  Санкт-Петербург           31856.0   \n",
       "\n",
       "  cityCenters_nearest  parks_around3000  parks_nearest  ponds_around3000  \\\n",
       "0             16028.0               1.0          482.0               2.0   \n",
       "1             18603.0               0.0            NaN               0.0   \n",
       "2             13933.0               1.0           90.0               2.0   \n",
       "3              6800.0               2.0           84.0               3.0   \n",
       "4              8098.0               2.0          112.0               1.0   \n",
       "\n",
       "   ponds_nearest  days_exposition  \n",
       "0          755.0              NaN  \n",
       "1            NaN             81.0  \n",
       "2          574.0            558.0  \n",
       "3          234.0            424.0  \n",
       "4           48.0            121.0  \n",
       "\n",
       "[5 rows x 22 columns]"
      ]
     },
     "execution_count": 7,
     "metadata": {},
     "output_type": "execute_result"
    }
   ],
   "source": [
    "data.head()"
   ]
  },
  {
   "cell_type": "markdown",
   "metadata": {},
   "source": [
    "### Построение гистограмм"
   ]
  },
  {
   "cell_type": "markdown",
   "metadata": {},
   "source": [
    "Можно сделать гистрограмму по всем столбцам"
   ]
  },
  {
   "cell_type": "code",
   "execution_count": 8,
   "metadata": {
    "scrolled": true
   },
   "outputs": [
    {
     "data": {
      "text/plain": [
       "array([[<AxesSubplot:title={'center':'total_images'}>,\n",
       "        <AxesSubplot:title={'center':'last_price'}>,\n",
       "        <AxesSubplot:title={'center':'total_area'}>,\n",
       "        <AxesSubplot:title={'center':'rooms'}>],\n",
       "       [<AxesSubplot:title={'center':'ceiling_height'}>,\n",
       "        <AxesSubplot:title={'center':'floors_total'}>,\n",
       "        <AxesSubplot:title={'center':'living_area'}>,\n",
       "        <AxesSubplot:title={'center':'floor'}>],\n",
       "       [<AxesSubplot:title={'center':'kitchen_area'}>,\n",
       "        <AxesSubplot:title={'center':'balcony'}>,\n",
       "        <AxesSubplot:title={'center':'airports_nearest'}>,\n",
       "        <AxesSubplot:title={'center':'cityCenters_nearest'}>],\n",
       "       [<AxesSubplot:title={'center':'parks_around3000'}>,\n",
       "        <AxesSubplot:title={'center':'parks_nearest'}>,\n",
       "        <AxesSubplot:title={'center':'ponds_around3000'}>,\n",
       "        <AxesSubplot:title={'center':'ponds_nearest'}>],\n",
       "       [<AxesSubplot:title={'center':'days_exposition'}>, <AxesSubplot:>,\n",
       "        <AxesSubplot:>, <AxesSubplot:>]], dtype=object)"
      ]
     },
     "execution_count": 8,
     "metadata": {},
     "output_type": "execute_result"
    },
    {
     "data": {
      "image/png": "[encoded data removed]",
      "text/plain": [
       "<Figure size 1080x1440 with 20 Axes>"
      ]
     },
     "metadata": {
      "needs_background": "light"
     },
     "output_type": "display_data"
    }
   ],
   "source": [
    "data.hist(figsize = (15,20))"
   ]
  },
  {
   "cell_type": "markdown",
   "metadata": {},
   "source": [
    "## Предобработка данных"
   ]
  },
  {
   "cell_type": "code",
   "execution_count": 9,
   "metadata": {},
   "outputs": [],
   "source": [
    "data = data.rename(columns = {'cityCenters_nearest' : 'city_centers_nearest'}) \n",
    "#переименовал столбец, что бы все соответствовало \"хорошему стилю\""
   ]
  },
  {
   "cell_type": "code",
   "execution_count": 10,
   "metadata": {
    "scrolled": false
   },
   "outputs": [
    {
     "name": "stdout",
     "output_type": "stream",
     "text": [
      "<class 'pandas.core.frame.DataFrame'>\n",
      "RangeIndex: 23699 entries, 0 to 23698\n",
      "Data columns (total 22 columns):\n",
      " #   Column                Non-Null Count  Dtype  \n",
      "---  ------                --------------  -----  \n",
      " 0   total_images          23699 non-null  int64  \n",
      " 1   last_price            23699 non-null  float64\n",
      " 2   total_area            23699 non-null  float64\n",
      " 3   first_day_exposition  23699 non-null  object \n",
      " 4   rooms                 23699 non-null  int64  \n",
      " 5   ceiling_height        14504 non-null  float64\n",
      " 6   floors_total          23613 non-null  float64\n",
      " 7   living_area           21796 non-null  float64\n",
      " 8   floor                 23699 non-null  int64  \n",
      " 9   is_apartment          2775 non-null   object \n",
      " 10  studio                23699 non-null  bool   \n",
      " 11  open_plan             23699 non-null  bool   \n",
      " 12  kitchen_area          21421 non-null  float64\n",
      " 13  balcony               12180 non-null  float64\n",
      " 14  locality_name         23650 non-null  object \n",
      " 15  airports_nearest      18157 non-null  float64\n",
      " 16  city_centers_nearest  18180 non-null  float64\n",
      " 17  parks_around3000      18181 non-null  float64\n",
      " 18  parks_nearest         8079 non-null   float64\n",
      " 19  ponds_around3000      18181 non-null  float64\n",
      " 20  ponds_nearest         9110 non-null   float64\n",
      " 21  days_exposition       20518 non-null  float64\n",
      "dtypes: bool(2), float64(14), int64(3), object(3)\n",
      "memory usage: 3.7+ MB\n"
     ]
    }
   ],
   "source": [
    "data.info()"
   ]
  },
  {
   "cell_type": "markdown",
   "metadata": {},
   "source": [
    "### Проверим сколько пропуско в каждом столбце"
   ]
  },
  {
   "cell_type": "code",
   "execution_count": 11,
   "metadata": {
    "scrolled": false
   },
   "outputs": [
    {
     "data": {
      "text/plain": [
       "total_images                0\n",
       "last_price                  0\n",
       "total_area                  0\n",
       "first_day_exposition        0\n",
       "rooms                       0\n",
       "ceiling_height           9195\n",
       "floors_total               86\n",
       "living_area              1903\n",
       "floor                       0\n",
       "is_apartment            20924\n",
       "studio                      0\n",
       "open_plan                   0\n",
       "kitchen_area             2278\n",
       "balcony                 11519\n",
       "locality_name              49\n",
       "airports_nearest         5542\n",
       "city_centers_nearest     5519\n",
       "parks_around3000         5518\n",
       "parks_nearest           15620\n",
       "ponds_around3000         5518\n",
       "ponds_nearest           14589\n",
       "days_exposition          3181\n",
       "dtype: int64"
      ]
     },
     "execution_count": 11,
     "metadata": {},
     "output_type": "execute_result"
    }
   ],
   "source": [
    "data.isna().sum()"
   ]
  },
  {
   "cell_type": "code",
   "execution_count": 12,
   "metadata": {},
   "outputs": [
    {
     "data": {
      "text/html": [
       "<style  type=\"text/css\" >\n",
       "#T_5c3c9_row0_col0,#T_5c3c9_row1_col0,#T_5c3c9_row2_col0,#T_5c3c9_row3_col0,#T_5c3c9_row4_col0,#T_5c3c9_row6_col0,#T_5c3c9_row8_col0,#T_5c3c9_row10_col0,#T_5c3c9_row11_col0,#T_5c3c9_row14_col0{\n",
       "            background-color:  #3b4cc0;\n",
       "            color:  #f1f1f1;\n",
       "        }#T_5c3c9_row5_col0{\n",
       "            background-color:  #cdd9ec;\n",
       "            color:  #000000;\n",
       "        }#T_5c3c9_row7_col0{\n",
       "            background-color:  #5673e0;\n",
       "            color:  #000000;\n",
       "        }#T_5c3c9_row9_col0{\n",
       "            background-color:  #b40426;\n",
       "            color:  #f1f1f1;\n",
       "        }#T_5c3c9_row12_col0{\n",
       "            background-color:  #5e7de7;\n",
       "            color:  #000000;\n",
       "        }#T_5c3c9_row13_col0{\n",
       "            background-color:  #ead4c8;\n",
       "            color:  #000000;\n",
       "        }#T_5c3c9_row15_col0,#T_5c3c9_row16_col0,#T_5c3c9_row17_col0,#T_5c3c9_row19_col0{\n",
       "            background-color:  #90b2fe;\n",
       "            color:  #000000;\n",
       "        }#T_5c3c9_row18_col0{\n",
       "            background-color:  #f4987a;\n",
       "            color:  #000000;\n",
       "        }#T_5c3c9_row20_col0{\n",
       "            background-color:  #f7aa8c;\n",
       "            color:  #000000;\n",
       "        }#T_5c3c9_row21_col0{\n",
       "            background-color:  #688aef;\n",
       "            color:  #000000;\n",
       "        }</style><table id=\"T_5c3c9_\" ><thead>    <tr>        <th class=\"blank level0\" ></th>        <th class=\"col_heading level0 col0\" >0</th>    </tr></thead><tbody>\n",
       "                <tr>\n",
       "                        <th id=\"T_5c3c9_level0_row0\" class=\"row_heading level0 row0\" >total_images</th>\n",
       "                        <td id=\"T_5c3c9_row0_col0\" class=\"data row0 col0\" >0.000000</td>\n",
       "            </tr>\n",
       "            <tr>\n",
       "                        <th id=\"T_5c3c9_level0_row1\" class=\"row_heading level0 row1\" >last_price</th>\n",
       "                        <td id=\"T_5c3c9_row1_col0\" class=\"data row1 col0\" >0.000000</td>\n",
       "            </tr>\n",
       "            <tr>\n",
       "                        <th id=\"T_5c3c9_level0_row2\" class=\"row_heading level0 row2\" >total_area</th>\n",
       "                        <td id=\"T_5c3c9_row2_col0\" class=\"data row2 col0\" >0.000000</td>\n",
       "            </tr>\n",
       "            <tr>\n",
       "                        <th id=\"T_5c3c9_level0_row3\" class=\"row_heading level0 row3\" >first_day_exposition</th>\n",
       "                        <td id=\"T_5c3c9_row3_col0\" class=\"data row3 col0\" >0.000000</td>\n",
       "            </tr>\n",
       "            <tr>\n",
       "                        <th id=\"T_5c3c9_level0_row4\" class=\"row_heading level0 row4\" >rooms</th>\n",
       "                        <td id=\"T_5c3c9_row4_col0\" class=\"data row4 col0\" >0.000000</td>\n",
       "            </tr>\n",
       "            <tr>\n",
       "                        <th id=\"T_5c3c9_level0_row5\" class=\"row_heading level0 row5\" >ceiling_height</th>\n",
       "                        <td id=\"T_5c3c9_row5_col0\" class=\"data row5 col0\" >39.000000</td>\n",
       "            </tr>\n",
       "            <tr>\n",
       "                        <th id=\"T_5c3c9_level0_row6\" class=\"row_heading level0 row6\" >floors_total</th>\n",
       "                        <td id=\"T_5c3c9_row6_col0\" class=\"data row6 col0\" >0.000000</td>\n",
       "            </tr>\n",
       "            <tr>\n",
       "                        <th id=\"T_5c3c9_level0_row7\" class=\"row_heading level0 row7\" >living_area</th>\n",
       "                        <td id=\"T_5c3c9_row7_col0\" class=\"data row7 col0\" >8.000000</td>\n",
       "            </tr>\n",
       "            <tr>\n",
       "                        <th id=\"T_5c3c9_level0_row8\" class=\"row_heading level0 row8\" >floor</th>\n",
       "                        <td id=\"T_5c3c9_row8_col0\" class=\"data row8 col0\" >0.000000</td>\n",
       "            </tr>\n",
       "            <tr>\n",
       "                        <th id=\"T_5c3c9_level0_row9\" class=\"row_heading level0 row9\" >is_apartment</th>\n",
       "                        <td id=\"T_5c3c9_row9_col0\" class=\"data row9 col0\" >88.000000</td>\n",
       "            </tr>\n",
       "            <tr>\n",
       "                        <th id=\"T_5c3c9_level0_row10\" class=\"row_heading level0 row10\" >studio</th>\n",
       "                        <td id=\"T_5c3c9_row10_col0\" class=\"data row10 col0\" >0.000000</td>\n",
       "            </tr>\n",
       "            <tr>\n",
       "                        <th id=\"T_5c3c9_level0_row11\" class=\"row_heading level0 row11\" >open_plan</th>\n",
       "                        <td id=\"T_5c3c9_row11_col0\" class=\"data row11 col0\" >0.000000</td>\n",
       "            </tr>\n",
       "            <tr>\n",
       "                        <th id=\"T_5c3c9_level0_row12\" class=\"row_heading level0 row12\" >kitchen_area</th>\n",
       "                        <td id=\"T_5c3c9_row12_col0\" class=\"data row12 col0\" >10.000000</td>\n",
       "            </tr>\n",
       "            <tr>\n",
       "                        <th id=\"T_5c3c9_level0_row13\" class=\"row_heading level0 row13\" >balcony</th>\n",
       "                        <td id=\"T_5c3c9_row13_col0\" class=\"data row13 col0\" >49.000000</td>\n",
       "            </tr>\n",
       "            <tr>\n",
       "                        <th id=\"T_5c3c9_level0_row14\" class=\"row_heading level0 row14\" >locality_name</th>\n",
       "                        <td id=\"T_5c3c9_row14_col0\" class=\"data row14 col0\" >0.000000</td>\n",
       "            </tr>\n",
       "            <tr>\n",
       "                        <th id=\"T_5c3c9_level0_row15\" class=\"row_heading level0 row15\" >airports_nearest</th>\n",
       "                        <td id=\"T_5c3c9_row15_col0\" class=\"data row15 col0\" >23.000000</td>\n",
       "            </tr>\n",
       "            <tr>\n",
       "                        <th id=\"T_5c3c9_level0_row16\" class=\"row_heading level0 row16\" >city_centers_nearest</th>\n",
       "                        <td id=\"T_5c3c9_row16_col0\" class=\"data row16 col0\" >23.000000</td>\n",
       "            </tr>\n",
       "            <tr>\n",
       "                        <th id=\"T_5c3c9_level0_row17\" class=\"row_heading level0 row17\" >parks_around3000</th>\n",
       "                        <td id=\"T_5c3c9_row17_col0\" class=\"data row17 col0\" >23.000000</td>\n",
       "            </tr>\n",
       "            <tr>\n",
       "                        <th id=\"T_5c3c9_level0_row18\" class=\"row_heading level0 row18\" >parks_nearest</th>\n",
       "                        <td id=\"T_5c3c9_row18_col0\" class=\"data row18 col0\" >66.000000</td>\n",
       "            </tr>\n",
       "            <tr>\n",
       "                        <th id=\"T_5c3c9_level0_row19\" class=\"row_heading level0 row19\" >ponds_around3000</th>\n",
       "                        <td id=\"T_5c3c9_row19_col0\" class=\"data row19 col0\" >23.000000</td>\n",
       "            </tr>\n",
       "            <tr>\n",
       "                        <th id=\"T_5c3c9_level0_row20\" class=\"row_heading level0 row20\" >ponds_nearest</th>\n",
       "                        <td id=\"T_5c3c9_row20_col0\" class=\"data row20 col0\" >62.000000</td>\n",
       "            </tr>\n",
       "            <tr>\n",
       "                        <th id=\"T_5c3c9_level0_row21\" class=\"row_heading level0 row21\" >days_exposition</th>\n",
       "                        <td id=\"T_5c3c9_row21_col0\" class=\"data row21 col0\" >13.000000</td>\n",
       "            </tr>\n",
       "    </tbody></table>"
      ],
      "text/plain": [
       "<pandas.io.formats.style.Styler at 0x7f07568626a0>"
      ]
     },
     "execution_count": 12,
     "metadata": {},
     "output_type": "execute_result"
    }
   ],
   "source": [
    "pd.DataFrame(round(data.isna().mean()*100,)).style.background_gradient('coolwarm')\n",
    "#количество пропусков в % от общего числа строк"
   ]
  },
  {
   "cell_type": "markdown",
   "metadata": {},
   "source": [
    "У нас `23699` строк данных, из которых `49` строк с пропусками в графе `locality_name` и `86` строк с отсутствием этажности, на общую картину удаление такого количества данных не должно повлиять"
   ]
  },
  {
   "cell_type": "code",
   "execution_count": 13,
   "metadata": {},
   "outputs": [],
   "source": [
    "data = data.dropna(subset=['locality_name']).reset_index(drop=True)"
   ]
  },
  {
   "cell_type": "code",
   "execution_count": 14,
   "metadata": {},
   "outputs": [],
   "source": [
    "data = data.dropna(subset=['floors_total']).reset_index(drop=True)"
   ]
  },
  {
   "cell_type": "code",
   "execution_count": 15,
   "metadata": {},
   "outputs": [],
   "source": [
    "data['floors_total'] = data['floors_total'].astype(int) # поменяю тип данных на целочисленный int"
   ]
  },
  {
   "cell_type": "code",
   "execution_count": 16,
   "metadata": {},
   "outputs": [
    {
     "data": {
      "text/plain": [
       "total_images                0\n",
       "last_price                  0\n",
       "total_area                  0\n",
       "first_day_exposition        0\n",
       "rooms                       0\n",
       "ceiling_height           9084\n",
       "floors_total                0\n",
       "living_area              1865\n",
       "floor                       0\n",
       "is_apartment            20805\n",
       "studio                      0\n",
       "open_plan                   0\n",
       "kitchen_area             2222\n",
       "balcony                 11475\n",
       "locality_name               0\n",
       "airports_nearest         5524\n",
       "city_centers_nearest     5501\n",
       "parks_around3000         5500\n",
       "parks_nearest           15535\n",
       "ponds_around3000         5500\n",
       "ponds_nearest           14529\n",
       "days_exposition          3171\n",
       "dtype: int64"
      ]
     },
     "execution_count": 16,
     "metadata": {},
     "output_type": "execute_result"
    }
   ],
   "source": [
    "data.isna().sum()"
   ]
  },
  {
   "cell_type": "markdown",
   "metadata": {},
   "source": [
    "### Удаление пропусков и изменение типов данных"
   ]
  },
  {
   "cell_type": "markdown",
   "metadata": {},
   "source": [
    "### Удаление пропусков в столбцах \"колечесвто парков и озер\"\n",
    "**Tак как если они не указаны, лучше всего заменить на `0`**"
   ]
  },
  {
   "cell_type": "code",
   "execution_count": 17,
   "metadata": {},
   "outputs": [],
   "source": [
    "data['parks_around3000'] = data['parks_around3000'].fillna(0).astype(int) #сразу изменю тип данных на целочисленный"
   ]
  },
  {
   "cell_type": "code",
   "execution_count": 18,
   "metadata": {},
   "outputs": [],
   "source": [
    "data['ponds_around3000'] = data['ponds_around3000'].fillna(0).astype(int)#сразу изменю тип данных на целочисленный"
   ]
  },
  {
   "cell_type": "markdown",
   "metadata": {},
   "source": [
    "### Удаление пропусков в `balcony` и `is_apartment` "
   ]
  },
  {
   "cell_type": "markdown",
   "metadata": {},
   "source": [
    "**Заменим все пропуски на `0`, предположив что продаец просто не указал их отсутствие**"
   ]
  },
  {
   "cell_type": "code",
   "execution_count": 19,
   "metadata": {},
   "outputs": [],
   "source": [
    "data['balcony'] = data['balcony'].fillna(0).astype(int)#сразу изменю тип данных на целочисленный"
   ]
  },
  {
   "cell_type": "markdown",
   "metadata": {},
   "source": [
    "Далее займемся пропусками в обозначении апартаментов, так как этот столбец должен быть типа `bool`, отсутствие данных - предпологает, что продавец не знает относится ли его жилье к апартаментам( а если он этого не знает, значит врятли статус недвижимости у него с таким статусом).\n",
    "<br>Заменим все пропуски на `False`"
   ]
  },
  {
   "cell_type": "code",
   "execution_count": 20,
   "metadata": {},
   "outputs": [],
   "source": [
    "data['is_apartment'] = data['is_apartment'].fillna(False)"
   ]
  },
  {
   "cell_type": "code",
   "execution_count": 21,
   "metadata": {},
   "outputs": [
    {
     "data": {
      "text/plain": [
       "total_images                0\n",
       "last_price                  0\n",
       "total_area                  0\n",
       "first_day_exposition        0\n",
       "rooms                       0\n",
       "ceiling_height           9084\n",
       "floors_total                0\n",
       "living_area              1865\n",
       "floor                       0\n",
       "is_apartment                0\n",
       "studio                      0\n",
       "open_plan                   0\n",
       "kitchen_area             2222\n",
       "balcony                     0\n",
       "locality_name               0\n",
       "airports_nearest         5524\n",
       "city_centers_nearest     5501\n",
       "parks_around3000            0\n",
       "parks_nearest           15535\n",
       "ponds_around3000            0\n",
       "ponds_nearest           14529\n",
       "days_exposition          3171\n",
       "dtype: int64"
      ]
     },
     "execution_count": 21,
     "metadata": {},
     "output_type": "execute_result"
    }
   ],
   "source": [
    "data.isna().sum()"
   ]
  },
  {
   "cell_type": "markdown",
   "metadata": {},
   "source": [
    "### Пропуски в площади кухни и жилой"
   ]
  },
  {
   "cell_type": "markdown",
   "metadata": {},
   "source": [
    "Пропуски в столбцах `площадь кухни` и `жилая площадь`, заменю на средние показатели из всех обьявлений их отношения к общей площади"
   ]
  },
  {
   "cell_type": "code",
   "execution_count": 22,
   "metadata": {},
   "outputs": [],
   "source": [
    "data['kitchen_area']=data['kitchen_area'].fillna(data['kitchen_area'].mean() / data['total_area'].mean())"
   ]
  },
  {
   "cell_type": "code",
   "execution_count": 23,
   "metadata": {},
   "outputs": [],
   "source": [
    "data['living_area']=data['living_area'].fillna(data['living_area'].mean() / data['total_area'].mean())"
   ]
  },
  {
   "cell_type": "code",
   "execution_count": 24,
   "metadata": {},
   "outputs": [
    {
     "data": {
      "text/plain": [
       "total_images                0\n",
       "last_price                  0\n",
       "total_area                  0\n",
       "first_day_exposition        0\n",
       "rooms                       0\n",
       "ceiling_height           9084\n",
       "floors_total                0\n",
       "living_area                 0\n",
       "floor                       0\n",
       "is_apartment                0\n",
       "studio                      0\n",
       "open_plan                   0\n",
       "kitchen_area                0\n",
       "balcony                     0\n",
       "locality_name               0\n",
       "airports_nearest         5524\n",
       "city_centers_nearest     5501\n",
       "parks_around3000            0\n",
       "parks_nearest           15535\n",
       "ponds_around3000            0\n",
       "ponds_nearest           14529\n",
       "days_exposition          3171\n",
       "dtype: int64"
      ]
     },
     "execution_count": 24,
     "metadata": {},
     "output_type": "execute_result"
    }
   ],
   "source": [
    "data.isna().sum()"
   ]
  },
  {
   "cell_type": "markdown",
   "metadata": {},
   "source": [
    "### Пропуски в высоте потолков"
   ]
  },
  {
   "cell_type": "markdown",
   "metadata": {},
   "source": [
    "**Теперь займемся последним столбцом с пропусками. Выведем уникальные значения столбца**"
   ]
  },
  {
   "cell_type": "code",
   "execution_count": 25,
   "metadata": {},
   "outputs": [
    {
     "data": {
      "text/plain": [
       "array([  1.  ,   1.2 ,   1.75,   2.  ,   2.2 ,   2.25,   2.3 ,   2.34,\n",
       "         2.4 ,   2.45,   2.46,   2.47,   2.48,   2.49,   2.5 ,   2.51,\n",
       "         2.52,   2.53,   2.54,   2.55,   2.56,   2.57,   2.58,   2.59,\n",
       "         2.6 ,   2.61,   2.62,   2.63,   2.64,   2.65,   2.66,   2.67,\n",
       "         2.68,   2.69,   2.7 ,   2.71,   2.72,   2.73,   2.74,   2.75,\n",
       "         2.76,   2.77,   2.78,   2.79,   2.8 ,   2.81,   2.82,   2.83,\n",
       "         2.84,   2.85,   2.86,   2.87,   2.88,   2.89,   2.9 ,   2.91,\n",
       "         2.92,   2.93,   2.94,   2.95,   2.96,   2.97,   2.98,   2.99,\n",
       "         3.  ,   3.01,   3.02,   3.03,   3.04,   3.05,   3.06,   3.07,\n",
       "         3.08,   3.09,   3.1 ,   3.11,   3.12,   3.13,   3.14,   3.15,\n",
       "         3.16,   3.17,   3.18,   3.2 ,   3.21,   3.22,   3.23,   3.24,\n",
       "         3.25,   3.26,   3.27,   3.28,   3.29,   3.3 ,   3.31,   3.32,\n",
       "         3.33,   3.34,   3.35,   3.36,   3.37,   3.38,   3.39,   3.4 ,\n",
       "         3.42,   3.43,   3.44,   3.45,   3.46,   3.47,   3.48,   3.49,\n",
       "         3.5 ,   3.51,   3.52,   3.53,   3.54,   3.55,   3.56,   3.57,\n",
       "         3.58,   3.59,   3.6 ,   3.62,   3.63,   3.65,   3.66,   3.67,\n",
       "         3.68,   3.69,   3.7 ,   3.75,   3.76,   3.78,   3.8 ,   3.82,\n",
       "         3.83,   3.84,   3.85,   3.86,   3.87,   3.88,   3.9 ,   3.93,\n",
       "         3.95,   3.98,   4.  ,   4.06,   4.1 ,   4.14,   4.15,   4.19,\n",
       "         4.2 ,   4.25,   4.3 ,   4.37,   4.4 ,   4.45,   4.5 ,   4.65,\n",
       "         4.7 ,   4.8 ,   4.9 ,   5.  ,   5.2 ,   5.3 ,   5.5 ,   5.6 ,\n",
       "         5.8 ,   6.  ,   8.  ,   8.3 ,  10.3 ,  14.  ,  20.  ,  22.6 ,\n",
       "        24.  ,  25.  ,  26.  ,  27.  ,  27.5 ,  32.  , 100.  ,    nan])"
      ]
     },
     "execution_count": 25,
     "metadata": {},
     "output_type": "execute_result"
    }
   ],
   "source": [
    "data['ceiling_height'].sort_values().unique()"
   ]
  },
  {
   "cell_type": "markdown",
   "metadata": {},
   "source": [
    "Очень интересный вывод, получается в Санкт-Петербурге очень много планировок квартир, правда возможность существования квартир с потолками высотой 10 метров - еще верится, как люксовые двухэтажные квартиры.\n",
    "<br> То вот потолки выше 10 метров уже смущают, так же как и квартиры с потолками до 2.5 метров, тоже кажутся какими-то  \"детскими\""
   ]
  },
  {
   "cell_type": "markdown",
   "metadata": {},
   "source": [
    "Можно предположить, что значения от 14 до 100 - указаны неверно, а просто забыли поставить точку в нужном месте(что-то вроде 20 - 2 метра, а 27.5 - 2.75 метров), для начала заменим диапозон этих данных"
   ]
  },
  {
   "cell_type": "code",
   "execution_count": 26,
   "metadata": {},
   "outputs": [],
   "source": [
    "data.loc[~(data['ceiling_height'] <14) \n",
    "         & (data['ceiling_height'] <= 100), 'ceiling_height' ] = (\n",
    "    data.loc[~(data['ceiling_height'] <20) \n",
    "             & (data['ceiling_height'] <= 100), 'ceiling_height' ].div(10)\n",
    ")\n"
   ]
  },
  {
   "cell_type": "markdown",
   "metadata": {},
   "source": [
    "**Заменим значения \"квартир для лилипутов\" (до 2.5 метров, 2,55 метра - это стандартная высота потолков в жилых помещениях (точнее, по современным правилам потолки не могут быть ниже 2,5 метра).), заменю их на медианным значением.**"
   ]
  },
  {
   "cell_type": "code",
   "execution_count": 27,
   "metadata": {},
   "outputs": [],
   "source": [
    "data.loc[data['ceiling_height'] <=2.5, 'ceiling_height'] = data['ceiling_height'].median()"
   ]
  },
  {
   "cell_type": "markdown",
   "metadata": {},
   "source": [
    "**Ну и сами пропуски в столбце заменю на медианные значения, что бы сильно не искозить данные**"
   ]
  },
  {
   "cell_type": "code",
   "execution_count": 28,
   "metadata": {},
   "outputs": [],
   "source": [
    "data['ceiling_height'] = data['ceiling_height'].fillna(data['ceiling_height'].median())"
   ]
  },
  {
   "cell_type": "code",
   "execution_count": 29,
   "metadata": {},
   "outputs": [],
   "source": [
    "data['ceiling_height']= round(data['ceiling_height'], 1) #округлим до 1 десятой   "
   ]
  },
  {
   "cell_type": "code",
   "execution_count": 30,
   "metadata": {
    "scrolled": true
   },
   "outputs": [
    {
     "data": {
      "text/plain": [
       "array([ 2.5,  2.6,  2.7,  2.8,  2.9,  3. ,  3.1,  3.2,  3.3,  3.4,  3.5,\n",
       "        3.6,  3.7,  3.8,  3.9,  4. ,  4.1,  4.2,  4.3,  4.4,  4.5,  4.6,\n",
       "        4.7,  4.8,  4.9,  5. ,  5.2,  5.3,  5.5,  5.6,  5.8,  6. ,  8. ,\n",
       "        8.3, 10. , 10.3])"
      ]
     },
     "execution_count": 30,
     "metadata": {},
     "output_type": "execute_result"
    }
   ],
   "source": [
    "data['ceiling_height'].sort_values().unique() #проверяю есть ли ещё какие уникальные значения"
   ]
  },
  {
   "cell_type": "code",
   "execution_count": 31,
   "metadata": {
    "scrolled": false
   },
   "outputs": [
    {
     "data": {
      "text/plain": [
       "total_images                0\n",
       "last_price                  0\n",
       "total_area                  0\n",
       "first_day_exposition        0\n",
       "rooms                       0\n",
       "ceiling_height              0\n",
       "floors_total                0\n",
       "living_area                 0\n",
       "floor                       0\n",
       "is_apartment                0\n",
       "studio                      0\n",
       "open_plan                   0\n",
       "kitchen_area                0\n",
       "balcony                     0\n",
       "locality_name               0\n",
       "airports_nearest         5524\n",
       "city_centers_nearest     5501\n",
       "parks_around3000            0\n",
       "parks_nearest           15535\n",
       "ponds_around3000            0\n",
       "ponds_nearest           14529\n",
       "days_exposition          3171\n",
       "dtype: int64"
      ]
     },
     "execution_count": 31,
     "metadata": {},
     "output_type": "execute_result"
    }
   ],
   "source": [
    "data.isna().sum() # проверяю остались ли какие то пропуски"
   ]
  },
  {
   "cell_type": "markdown",
   "metadata": {},
   "source": [
    "### Замена типов данных"
   ]
  },
  {
   "cell_type": "code",
   "execution_count": 32,
   "metadata": {},
   "outputs": [
    {
     "name": "stdout",
     "output_type": "stream",
     "text": [
      "<class 'pandas.core.frame.DataFrame'>\n",
      "RangeIndex: 23565 entries, 0 to 23564\n",
      "Data columns (total 22 columns):\n",
      " #   Column                Non-Null Count  Dtype  \n",
      "---  ------                --------------  -----  \n",
      " 0   total_images          23565 non-null  int64  \n",
      " 1   last_price            23565 non-null  float64\n",
      " 2   total_area            23565 non-null  float64\n",
      " 3   first_day_exposition  23565 non-null  object \n",
      " 4   rooms                 23565 non-null  int64  \n",
      " 5   ceiling_height        23565 non-null  float64\n",
      " 6   floors_total          23565 non-null  int64  \n",
      " 7   living_area           23565 non-null  float64\n",
      " 8   floor                 23565 non-null  int64  \n",
      " 9   is_apartment          23565 non-null  bool   \n",
      " 10  studio                23565 non-null  bool   \n",
      " 11  open_plan             23565 non-null  bool   \n",
      " 12  kitchen_area          23565 non-null  float64\n",
      " 13  balcony               23565 non-null  int64  \n",
      " 14  locality_name         23565 non-null  object \n",
      " 15  airports_nearest      18041 non-null  float64\n",
      " 16  city_centers_nearest  18064 non-null  float64\n",
      " 17  parks_around3000      23565 non-null  int64  \n",
      " 18  parks_nearest         8030 non-null   float64\n",
      " 19  ponds_around3000      23565 non-null  int64  \n",
      " 20  ponds_nearest         9036 non-null   float64\n",
      " 21  days_exposition       20394 non-null  float64\n",
      "dtypes: bool(3), float64(10), int64(7), object(2)\n",
      "memory usage: 3.5+ MB\n"
     ]
    }
   ],
   "source": [
    "data.info() #вывел таблицу инфо, что бы еще раз проверить типы данных"
   ]
  },
  {
   "cell_type": "markdown",
   "metadata": {},
   "source": [
    "**Из всего списка осталось изменил типы данных нескольких столбцов:**\n",
    "- `last_price` Так как окончательную цену удобнее видить в целом числе\n",
    "- `first_day_exposition` - перевести в дату и время"
   ]
  },
  {
   "cell_type": "code",
   "execution_count": 33,
   "metadata": {},
   "outputs": [],
   "source": [
    "data['last_price'] = data['last_price'].astype('int64')"
   ]
  },
  {
   "cell_type": "markdown",
   "metadata": {},
   "source": [
    "**Последний столбец переводим в `дату и время`**"
   ]
  },
  {
   "cell_type": "code",
   "execution_count": 34,
   "metadata": {},
   "outputs": [],
   "source": [
    "data['first_day_exposition'] = pd.to_datetime(data['first_day_exposition'], format='%Y-%m-%dT%H:%M:%S')"
   ]
  },
  {
   "cell_type": "code",
   "execution_count": 35,
   "metadata": {
    "scrolled": true
   },
   "outputs": [
    {
     "name": "stdout",
     "output_type": "stream",
     "text": [
      "<class 'pandas.core.frame.DataFrame'>\n",
      "RangeIndex: 23565 entries, 0 to 23564\n",
      "Data columns (total 22 columns):\n",
      " #   Column                Non-Null Count  Dtype         \n",
      "---  ------                --------------  -----         \n",
      " 0   total_images          23565 non-null  int64         \n",
      " 1   last_price            23565 non-null  int64         \n",
      " 2   total_area            23565 non-null  float64       \n",
      " 3   first_day_exposition  23565 non-null  datetime64[ns]\n",
      " 4   rooms                 23565 non-null  int64         \n",
      " 5   ceiling_height        23565 non-null  float64       \n",
      " 6   floors_total          23565 non-null  int64         \n",
      " 7   living_area           23565 non-null  float64       \n",
      " 8   floor                 23565 non-null  int64         \n",
      " 9   is_apartment          23565 non-null  bool          \n",
      " 10  studio                23565 non-null  bool          \n",
      " 11  open_plan             23565 non-null  bool          \n",
      " 12  kitchen_area          23565 non-null  float64       \n",
      " 13  balcony               23565 non-null  int64         \n",
      " 14  locality_name         23565 non-null  object        \n",
      " 15  airports_nearest      18041 non-null  float64       \n",
      " 16  city_centers_nearest  18064 non-null  float64       \n",
      " 17  parks_around3000      23565 non-null  int64         \n",
      " 18  parks_nearest         8030 non-null   float64       \n",
      " 19  ponds_around3000      23565 non-null  int64         \n",
      " 20  ponds_nearest         9036 non-null   float64       \n",
      " 21  days_exposition       20394 non-null  float64       \n",
      "dtypes: bool(3), datetime64[ns](1), float64(9), int64(8), object(1)\n",
      "memory usage: 3.5+ MB\n"
     ]
    }
   ],
   "source": [
    "data.info() # проверяю тип данных"
   ]
  },
  {
   "cell_type": "markdown",
   "metadata": {},
   "source": [
    "### Устранение дубликатов"
   ]
  },
  {
   "cell_type": "markdown",
   "metadata": {},
   "source": [
    "**Теперь займемся устранением дубликатов**"
   ]
  },
  {
   "cell_type": "code",
   "execution_count": 36,
   "metadata": {},
   "outputs": [
    {
     "data": {
      "text/plain": [
       "0"
      ]
     },
     "execution_count": 36,
     "metadata": {},
     "output_type": "execute_result"
    }
   ],
   "source": [
    "data.duplicated().sum()"
   ]
  },
  {
   "cell_type": "markdown",
   "metadata": {},
   "source": [
    "Явных дубликатов у нас нету, значит проверим неявные дубликаты в названии населенного пункта"
   ]
  },
  {
   "cell_type": "code",
   "execution_count": 37,
   "metadata": {},
   "outputs": [],
   "source": [
    "data['locality_name'] = data['locality_name'].str.lower()# перевел все в нижний регистр, на всякий случай"
   ]
  },
  {
   "cell_type": "code",
   "execution_count": 38,
   "metadata": {
    "scrolled": false
   },
   "outputs": [
    {
     "data": {
      "text/plain": [
       "array(['бокситогорск', 'волосово', 'волхов', 'всеволожск', 'выборг',\n",
       "       'высоцк', 'гатчина', 'городской поселок большая ижора',\n",
       "       'городской поселок янино-1', 'городской посёлок будогощь',\n",
       "       'городской посёлок виллози', 'городской посёлок лесогорский',\n",
       "       'городской посёлок мга', 'городской посёлок назия',\n",
       "       'городской посёлок новоселье', 'городской посёлок павлово',\n",
       "       'городской посёлок рощино', 'городской посёлок свирьстрой',\n",
       "       'городской посёлок советский', 'городской посёлок фёдоровское',\n",
       "       'городской посёлок янино-1', 'деревня агалатово', 'деревня аро',\n",
       "       'деревня батово', 'деревня бегуницы', 'деревня белогорка',\n",
       "       'деревня большая вруда', 'деревня большая пустомержа',\n",
       "       'деревня большие колпаны', 'деревня большое рейзино',\n",
       "       'деревня большой сабск', 'деревня бор', 'деревня борисова грива',\n",
       "       'деревня ваганово', 'деревня вартемяги', 'деревня вахнова кара',\n",
       "       'деревня выскатка', 'деревня гарболово', 'деревня глинка',\n",
       "       'деревня горбунки', 'деревня гостилицы', 'деревня заклинье',\n",
       "       'деревня заневка', 'деревня зимитицы', 'деревня извара',\n",
       "       'деревня иссад', 'деревня калитино', 'деревня кальтино',\n",
       "       'деревня камышовка', 'деревня каськово', 'деревня келози',\n",
       "       'деревня кипень', 'деревня кисельня', 'деревня колтуши',\n",
       "       'деревня коркино', 'деревня котлы', 'деревня кривко',\n",
       "       'деревня кудрово', 'деревня кузьмолово', 'деревня курковицы',\n",
       "       'деревня куровицы', 'деревня куттузи', 'деревня лаврики',\n",
       "       'деревня лаголово', 'деревня лампово', 'деревня лесколово',\n",
       "       'деревня лопухинка', 'деревня лупполово',\n",
       "       'деревня малая романовка', 'деревня малое верево',\n",
       "       'деревня малое карлино', 'деревня малые колпаны',\n",
       "       'деревня мануйлово', 'деревня меньково', 'деревня мины',\n",
       "       'деревня мистолово', 'деревня ненимяки', 'деревня нижние осельки',\n",
       "       'деревня нижняя', 'деревня низино', 'деревня новое девяткино',\n",
       "       'деревня новолисино', 'деревня нурма', 'деревня оржицы',\n",
       "       'деревня парицы', 'деревня пельгора', 'деревня пеники',\n",
       "       'деревня пижма', 'деревня пикколово', 'деревня пудомяги',\n",
       "       'деревня пустынка', 'деревня пчева', 'деревня рабитицы',\n",
       "       'деревня разбегаево', 'деревня раздолье', 'деревня разметелево',\n",
       "       'деревня рапполово', 'деревня реброво', 'деревня русско',\n",
       "       'деревня сижно', 'деревня снегирёвка', 'деревня старая',\n",
       "       'деревня старая пустошь', 'деревня старое хинколово',\n",
       "       'деревня старополье', 'деревня старосиверская',\n",
       "       'деревня старые бегуницы', 'деревня суоранда',\n",
       "       'деревня сяськелево', 'деревня тарасово', 'деревня терпилицы',\n",
       "       'деревня тихковицы', 'деревня тойворово', 'деревня торосово',\n",
       "       'деревня торошковичи', 'деревня трубников бор',\n",
       "       'деревня фалилеево', 'деревня фёдоровское', 'деревня хапо-ое',\n",
       "       'деревня хязельки', 'деревня чудской бор', 'деревня шпаньково',\n",
       "       'деревня щеглово', 'деревня юкки', 'деревня ялгино',\n",
       "       'деревня яльгелево', 'деревня ям-тесово', 'зеленогорск',\n",
       "       'ивангород', 'каменногорск', 'кингисепп', 'кириши', 'кировск',\n",
       "       'колпино', 'коммунар', 'коттеджный поселок кивеннапа север',\n",
       "       'коттеджный поселок счастье', 'коттеджный посёлок лесное',\n",
       "       'красное село', 'кронштадт', 'кудрово', 'лодейное поле',\n",
       "       'ломоносов', 'луга', 'любань', 'мурино', 'никольское',\n",
       "       'новая ладога', 'отрадное', 'павловск', 'петергоф', 'пикалёво',\n",
       "       'подпорожье', 'поселок аннино', 'поселок барышево',\n",
       "       'поселок бугры', 'поселок возрождение', 'поселок войсковицы',\n",
       "       'поселок володарское', 'поселок гаврилово', 'поселок гарболово',\n",
       "       'поселок гладкое', 'поселок глажево', 'поселок глебычево',\n",
       "       'поселок гончарово', 'поселок городского типа большая ижора',\n",
       "       'поселок городского типа вырица',\n",
       "       'поселок городского типа дружная горка',\n",
       "       'поселок городского типа дубровка',\n",
       "       'поселок городского типа ефимовский',\n",
       "       'поселок городского типа имени свердлова',\n",
       "       'поселок городского типа кондратьево',\n",
       "       'поселок городского типа красный бор',\n",
       "       'поселок городского типа кузьмоловский',\n",
       "       'поселок городского типа лебяжье',\n",
       "       'поселок городского типа лесогорский',\n",
       "       'поселок городского типа назия',\n",
       "       'поселок городского типа никольский',\n",
       "       'поселок городского типа приладожский',\n",
       "       'поселок городского типа рахья', 'поселок городского типа рощино',\n",
       "       'поселок городского типа рябово',\n",
       "       'поселок городского типа синявино',\n",
       "       'поселок городского типа советский',\n",
       "       'поселок городского типа токсово',\n",
       "       'поселок городского типа форносово', 'поселок громово',\n",
       "       'поселок дружноселье', 'поселок елизаветино', 'поселок жилгородок',\n",
       "       'поселок жилпосёлок', 'поселок житково', 'поселок заводской',\n",
       "       'поселок запорожское', 'поселок зимитицы', 'поселок ильичёво',\n",
       "       'поселок калитино', 'поселок каложицы', 'поселок кингисеппский',\n",
       "       'поселок кирпичное', 'поселок кобралово', 'поселок кобринское',\n",
       "       'поселок коммунары', 'поселок коробицыно', 'поселок котельский',\n",
       "       'поселок красная долина', 'поселок красносельское',\n",
       "       'поселок лесное', 'поселок лисий нос', 'поселок лукаши',\n",
       "       'поселок любань', 'поселок мельниково', 'поселок мичуринское',\n",
       "       'поселок молодцово', 'поселок мурино', 'поселок новый свет',\n",
       "       'поселок новый учхоз', 'поселок оредеж',\n",
       "       'поселок пансионат зелёный бор', 'поселок первомайское',\n",
       "       'поселок перово', 'поселок петровское', 'поселок победа',\n",
       "       'поселок поляны', 'поселок почап', 'поселок починок',\n",
       "       'поселок пушное', 'поселок пчевжа', 'поселок рабитицы',\n",
       "       'поселок романовка', 'поселок ромашки', 'поселок рябово',\n",
       "       'поселок севастьяново', 'поселок селезнёво', 'поселок сельцо',\n",
       "       'поселок семиозерье', 'поселок семрино', 'поселок серебрянский',\n",
       "       'поселок совхозный', 'поселок станции вещево',\n",
       "       'поселок станции корнево', 'поселок станции лужайка',\n",
       "       'поселок станции приветнинское', 'поселок старая малукса',\n",
       "       'поселок стеклянный', 'поселок сумино', 'поселок суходолье',\n",
       "       'поселок тельмана', 'поселок терволово', 'поселок торковичи',\n",
       "       'поселок тёсово-4', 'поселок углово', 'поселок усть-луга',\n",
       "       'поселок ушаки', 'поселок цвелодубово', 'поселок цвылёво',\n",
       "       'посёлок александровская', 'посёлок алексеевка', 'посёлок аннино',\n",
       "       'посёлок белоостров', 'посёлок бугры', 'посёлок возрождение',\n",
       "       'посёлок войскорово', 'посёлок высокоключевой',\n",
       "       'посёлок гаврилово', 'посёлок городского типа важины',\n",
       "       'посёлок городского типа вознесенье',\n",
       "       'посёлок городского типа вырица',\n",
       "       'посёлок городского типа имени морозова',\n",
       "       'посёлок городского типа имени свердлова',\n",
       "       'посёлок городского типа красный бор',\n",
       "       'посёлок городского типа кузнечное',\n",
       "       'посёлок городского типа кузьмоловский',\n",
       "       'посёлок городского типа лебяжье', 'посёлок городского типа мга',\n",
       "       'посёлок городского типа павлово',\n",
       "       'посёлок городского типа рощино', 'посёлок городского типа рябово',\n",
       "       'посёлок городского типа сиверский',\n",
       "       'посёлок городского типа тайцы', 'посёлок городского типа токсово',\n",
       "       'посёлок городского типа ульяновка',\n",
       "       'посёлок городского типа форносово', 'посёлок дзержинского',\n",
       "       'посёлок жилгородок', 'посёлок ильичёво', 'посёлок кикерино',\n",
       "       'посёлок кобралово', 'посёлок коробицыно', 'посёлок левашово',\n",
       "       'посёлок ленинское', 'посёлок лисий нос', 'посёлок мельниково',\n",
       "       'посёлок металлострой', 'посёлок мичуринское',\n",
       "       'посёлок молодёжное', 'посёлок мурино', 'посёлок мыза-ивановка',\n",
       "       'посёлок новогорелово', 'посёлок новый свет',\n",
       "       'посёлок пансионат зелёный бор', 'посёлок парголово',\n",
       "       'посёлок перово', 'посёлок песочный', 'посёлок петро-славянка',\n",
       "       'посёлок петровское', 'посёлок платформа 69-й километр',\n",
       "       'посёлок плодовое', 'посёлок плоское', 'посёлок победа',\n",
       "       'посёлок поляны', 'посёлок понтонный',\n",
       "       'посёлок при железнодорожной станции вещево',\n",
       "       'посёлок при железнодорожной станции приветнинское',\n",
       "       'посёлок пригородный', 'посёлок пудость', 'посёлок репино',\n",
       "       'посёлок ропша', 'посёлок сапёрное', 'посёлок сапёрный',\n",
       "       'посёлок сосново', 'посёлок станции громово',\n",
       "       'посёлок станции свирь', 'посёлок старая малукса',\n",
       "       'посёлок стеклянный', 'посёлок стрельна', 'посёлок суйда',\n",
       "       'посёлок сумино', 'посёлок тельмана', 'посёлок терволово',\n",
       "       'посёлок торфяное', 'посёлок усть-ижора', 'посёлок усть-луга',\n",
       "       'посёлок форт красная горка', 'посёлок шугозеро', 'посёлок шушары',\n",
       "       'посёлок щеглово', 'приморск', 'приозерск', 'пушкин',\n",
       "       'садоводческое некоммерческое товарищество лесная поляна',\n",
       "       'садовое товарищество новая ропша',\n",
       "       'садовое товарищество приладожский', 'садовое товарищество рахья',\n",
       "       'садовое товарищество садко', 'санкт-петербург', 'светогорск',\n",
       "       'село копорье', 'село никольское', 'село павлово', 'село паша',\n",
       "       'село путилово', 'село рождествено', 'село русско-высоцкое',\n",
       "       'село старая ладога', 'село шум', 'сертолово', 'сестрорецк',\n",
       "       'сланцы', 'сосновый бор', 'сясьстрой', 'тихвин', 'тосно',\n",
       "       'шлиссельбург'], dtype=object)"
      ]
     },
     "execution_count": 38,
     "metadata": {},
     "output_type": "execute_result"
    }
   ],
   "source": [
    "data['locality_name'].sort_values().unique()"
   ]
  },
  {
   "cell_type": "markdown",
   "metadata": {},
   "source": [
    "**Переименую все садовые товарищества в `снт`, а поселки городского типа в `пгт`, так я уберу дубликаты, в которых в разном по разному писали эти словосочетания**"
   ]
  },
  {
   "cell_type": "code",
   "execution_count": 39,
   "metadata": {},
   "outputs": [],
   "source": [
    "pgt = ['посёлок городского типа','поселок городского типа','городской посёлок', \n",
    "       'городской поселок','коттеджный поселок', \n",
    "       'поселок','посёлок']  #создал список уникальных выражений ПГТ"
   ]
  },
  {
   "cell_type": "code",
   "execution_count": 40,
   "metadata": {},
   "outputs": [],
   "source": [
    "for row in pgt:\n",
    "    data['locality_name'] = [index.replace(row, \"пгт\", 1) for index in data['locality_name']]\n",
    "#переписал строчки в которых встречаются эти значения"
   ]
  },
  {
   "cell_type": "code",
   "execution_count": 41,
   "metadata": {},
   "outputs": [],
   "source": [
    "snt = ['садоводческое некоммерческое товарищество', 'садовое товарищество'] #создал список уникальных выражений ПГТ"
   ]
  },
  {
   "cell_type": "code",
   "execution_count": 42,
   "metadata": {},
   "outputs": [],
   "source": [
    "for row in snt:\n",
    "    data['locality_name'] = [index.replace(row, \"снт\", 1) for index in data['locality_name']]\n",
    "#переписал строчки в которых встречаются эти значения"
   ]
  },
  {
   "cell_type": "code",
   "execution_count": 43,
   "metadata": {
    "scrolled": true
   },
   "outputs": [
    {
     "data": {
      "text/plain": [
       "array(['бокситогорск', 'волосово', 'волхов', 'всеволожск', 'выборг',\n",
       "       'высоцк', 'гатчина', 'деревня агалатово', 'деревня аро',\n",
       "       'деревня батово', 'деревня бегуницы', 'деревня белогорка',\n",
       "       'деревня большая вруда', 'деревня большая пустомержа',\n",
       "       'деревня большие колпаны', 'деревня большое рейзино',\n",
       "       'деревня большой сабск', 'деревня бор', 'деревня борисова грива',\n",
       "       'деревня ваганово', 'деревня вартемяги', 'деревня вахнова кара',\n",
       "       'деревня выскатка', 'деревня гарболово', 'деревня глинка',\n",
       "       'деревня горбунки', 'деревня гостилицы', 'деревня заклинье',\n",
       "       'деревня заневка', 'деревня зимитицы', 'деревня извара',\n",
       "       'деревня иссад', 'деревня калитино', 'деревня кальтино',\n",
       "       'деревня камышовка', 'деревня каськово', 'деревня келози',\n",
       "       'деревня кипень', 'деревня кисельня', 'деревня колтуши',\n",
       "       'деревня коркино', 'деревня котлы', 'деревня кривко',\n",
       "       'деревня кудрово', 'деревня кузьмолово', 'деревня курковицы',\n",
       "       'деревня куровицы', 'деревня куттузи', 'деревня лаврики',\n",
       "       'деревня лаголово', 'деревня лампово', 'деревня лесколово',\n",
       "       'деревня лопухинка', 'деревня лупполово',\n",
       "       'деревня малая романовка', 'деревня малое верево',\n",
       "       'деревня малое карлино', 'деревня малые колпаны',\n",
       "       'деревня мануйлово', 'деревня меньково', 'деревня мины',\n",
       "       'деревня мистолово', 'деревня ненимяки', 'деревня нижние осельки',\n",
       "       'деревня нижняя', 'деревня низино', 'деревня новое девяткино',\n",
       "       'деревня новолисино', 'деревня нурма', 'деревня оржицы',\n",
       "       'деревня парицы', 'деревня пельгора', 'деревня пеники',\n",
       "       'деревня пижма', 'деревня пикколово', 'деревня пудомяги',\n",
       "       'деревня пустынка', 'деревня пчева', 'деревня рабитицы',\n",
       "       'деревня разбегаево', 'деревня раздолье', 'деревня разметелево',\n",
       "       'деревня рапполово', 'деревня реброво', 'деревня русско',\n",
       "       'деревня сижно', 'деревня снегирёвка', 'деревня старая',\n",
       "       'деревня старая пустошь', 'деревня старое хинколово',\n",
       "       'деревня старополье', 'деревня старосиверская',\n",
       "       'деревня старые бегуницы', 'деревня суоранда',\n",
       "       'деревня сяськелево', 'деревня тарасово', 'деревня терпилицы',\n",
       "       'деревня тихковицы', 'деревня тойворово', 'деревня торосово',\n",
       "       'деревня торошковичи', 'деревня трубников бор',\n",
       "       'деревня фалилеево', 'деревня фёдоровское', 'деревня хапо-ое',\n",
       "       'деревня хязельки', 'деревня чудской бор', 'деревня шпаньково',\n",
       "       'деревня щеглово', 'деревня юкки', 'деревня ялгино',\n",
       "       'деревня яльгелево', 'деревня ям-тесово', 'зеленогорск',\n",
       "       'ивангород', 'каменногорск', 'кингисепп', 'кириши', 'кировск',\n",
       "       'колпино', 'коммунар', 'коттеджный пгт лесное', 'красное село',\n",
       "       'кронштадт', 'кудрово', 'лодейное поле', 'ломоносов', 'луга',\n",
       "       'любань', 'мурино', 'никольское', 'новая ладога', 'отрадное',\n",
       "       'павловск', 'пгт александровская', 'пгт алексеевка', 'пгт аннино',\n",
       "       'пгт барышево', 'пгт белоостров', 'пгт большая ижора', 'пгт бугры',\n",
       "       'пгт будогощь', 'пгт важины', 'пгт виллози', 'пгт вознесенье',\n",
       "       'пгт возрождение', 'пгт войсковицы', 'пгт войскорово',\n",
       "       'пгт володарское', 'пгт вырица', 'пгт высокоключевой',\n",
       "       'пгт гаврилово', 'пгт гарболово', 'пгт гладкое', 'пгт глажево',\n",
       "       'пгт глебычево', 'пгт гончарово', 'пгт громово',\n",
       "       'пгт дзержинского', 'пгт дружная горка', 'пгт дружноселье',\n",
       "       'пгт дубровка', 'пгт елизаветино', 'пгт ефимовский',\n",
       "       'пгт жилгородок', 'пгт жилпгт', 'пгт житково', 'пгт заводской',\n",
       "       'пгт запорожское', 'пгт зимитицы', 'пгт ильичёво',\n",
       "       'пгт имени морозова', 'пгт имени свердлова', 'пгт калитино',\n",
       "       'пгт каложицы', 'пгт кивеннапа север', 'пгт кикерино',\n",
       "       'пгт кингисеппский', 'пгт кирпичное', 'пгт кобралово',\n",
       "       'пгт кобринское', 'пгт коммунары', 'пгт кондратьево',\n",
       "       'пгт коробицыно', 'пгт котельский', 'пгт красная долина',\n",
       "       'пгт красносельское', 'пгт красный бор', 'пгт кузнечное',\n",
       "       'пгт кузьмоловский', 'пгт лебяжье', 'пгт левашово',\n",
       "       'пгт ленинское', 'пгт лесное', 'пгт лесогорский', 'пгт лисий нос',\n",
       "       'пгт лукаши', 'пгт любань', 'пгт мга', 'пгт мельниково',\n",
       "       'пгт металлострой', 'пгт мичуринское', 'пгт молодцово',\n",
       "       'пгт молодёжное', 'пгт мурино', 'пгт мыза-ивановка', 'пгт назия',\n",
       "       'пгт никольский', 'пгт новогорелово', 'пгт новоселье',\n",
       "       'пгт новый свет', 'пгт новый учхоз', 'пгт оредеж', 'пгт павлово',\n",
       "       'пгт пансионат зелёный бор', 'пгт парголово', 'пгт первомайское',\n",
       "       'пгт перово', 'пгт песочный', 'пгт петро-славянка',\n",
       "       'пгт петровское', 'пгт платформа 69-й километр', 'пгт плодовое',\n",
       "       'пгт плоское', 'пгт победа', 'пгт поляны', 'пгт понтонный',\n",
       "       'пгт почап', 'пгт починок',\n",
       "       'пгт при железнодорожной станции вещево',\n",
       "       'пгт при железнодорожной станции приветнинское', 'пгт пригородный',\n",
       "       'пгт приладожский', 'пгт пудость', 'пгт пушное', 'пгт пчевжа',\n",
       "       'пгт рабитицы', 'пгт рахья', 'пгт репино', 'пгт романовка',\n",
       "       'пгт ромашки', 'пгт ропша', 'пгт рощино', 'пгт рябово',\n",
       "       'пгт сапёрное', 'пгт сапёрный', 'пгт свирьстрой',\n",
       "       'пгт севастьяново', 'пгт селезнёво', 'пгт сельцо',\n",
       "       'пгт семиозерье', 'пгт семрино', 'пгт серебрянский',\n",
       "       'пгт сиверский', 'пгт синявино', 'пгт советский', 'пгт совхозный',\n",
       "       'пгт сосново', 'пгт станции вещево', 'пгт станции громово',\n",
       "       'пгт станции корнево', 'пгт станции лужайка',\n",
       "       'пгт станции приветнинское', 'пгт станции свирь',\n",
       "       'пгт старая малукса', 'пгт стеклянный', 'пгт стрельна',\n",
       "       'пгт суйда', 'пгт сумино', 'пгт суходолье', 'пгт счастье',\n",
       "       'пгт тайцы', 'пгт тельмана', 'пгт терволово', 'пгт токсово',\n",
       "       'пгт торковичи', 'пгт торфяное', 'пгт тёсово-4', 'пгт углово',\n",
       "       'пгт ульяновка', 'пгт усть-ижора', 'пгт усть-луга', 'пгт ушаки',\n",
       "       'пгт форносово', 'пгт форт красная горка', 'пгт фёдоровское',\n",
       "       'пгт цвелодубово', 'пгт цвылёво', 'пгт шугозеро', 'пгт шушары',\n",
       "       'пгт щеглово', 'пгт янино-1', 'петергоф', 'пикалёво', 'подпорожье',\n",
       "       'приморск', 'приозерск', 'пушкин', 'санкт-петербург', 'светогорск',\n",
       "       'село копорье', 'село никольское', 'село павлово', 'село паша',\n",
       "       'село путилово', 'село рождествено', 'село русско-высоцкое',\n",
       "       'село старая ладога', 'село шум', 'сертолово', 'сестрорецк',\n",
       "       'сланцы', 'снт лесная поляна', 'снт новая ропша',\n",
       "       'снт приладожский', 'снт рахья', 'снт садко', 'сосновый бор',\n",
       "       'сясьстрой', 'тихвин', 'тосно', 'шлиссельбург'], dtype=object)"
      ]
     },
     "execution_count": 43,
     "metadata": {},
     "output_type": "execute_result"
    }
   ],
   "source": [
    "data['locality_name'].sort_values().unique()"
   ]
  },
  {
   "cell_type": "markdown",
   "metadata": {},
   "source": [
    "## Посчитайте и добавьте в таблицу новые столбцы"
   ]
  },
  {
   "cell_type": "code",
   "execution_count": 44,
   "metadata": {},
   "outputs": [
    {
     "data": {
      "text/html": [
       "<div>\n",
       "<style scoped>\n",
       "    .dataframe tbody tr th:only-of-type {\n",
       "        vertical-align: middle;\n",
       "    }\n",
       "\n",
       "    .dataframe tbody tr th {\n",
       "        vertical-align: top;\n",
       "    }\n",
       "\n",
       "    .dataframe thead th {\n",
       "        text-align: right;\n",
       "    }\n",
       "</style>\n",
       "<table border=\"1\" class=\"dataframe\">\n",
       "  <thead>\n",
       "    <tr style=\"text-align: right;\">\n",
       "      <th></th>\n",
       "      <th>total_images</th>\n",
       "      <th>last_price</th>\n",
       "      <th>total_area</th>\n",
       "      <th>first_day_exposition</th>\n",
       "      <th>rooms</th>\n",
       "      <th>ceiling_height</th>\n",
       "      <th>floors_total</th>\n",
       "      <th>living_area</th>\n",
       "      <th>floor</th>\n",
       "      <th>is_apartment</th>\n",
       "      <th>...</th>\n",
       "      <th>kitchen_area</th>\n",
       "      <th>balcony</th>\n",
       "      <th>locality_name</th>\n",
       "      <th>airports_nearest</th>\n",
       "      <th>city_centers_nearest</th>\n",
       "      <th>parks_around3000</th>\n",
       "      <th>parks_nearest</th>\n",
       "      <th>ponds_around3000</th>\n",
       "      <th>ponds_nearest</th>\n",
       "      <th>days_exposition</th>\n",
       "    </tr>\n",
       "  </thead>\n",
       "  <tbody>\n",
       "    <tr>\n",
       "      <th>0</th>\n",
       "      <td>20</td>\n",
       "      <td>13000000</td>\n",
       "      <td>108.0</td>\n",
       "      <td>2019-03-07</td>\n",
       "      <td>3</td>\n",
       "      <td>2.7</td>\n",
       "      <td>16</td>\n",
       "      <td>51.000000</td>\n",
       "      <td>8</td>\n",
       "      <td>False</td>\n",
       "      <td>...</td>\n",
       "      <td>25.000000</td>\n",
       "      <td>0</td>\n",
       "      <td>санкт-петербург</td>\n",
       "      <td>18863.0</td>\n",
       "      <td>16028.0</td>\n",
       "      <td>1</td>\n",
       "      <td>482.0</td>\n",
       "      <td>2</td>\n",
       "      <td>755.0</td>\n",
       "      <td>NaN</td>\n",
       "    </tr>\n",
       "    <tr>\n",
       "      <th>1</th>\n",
       "      <td>7</td>\n",
       "      <td>3350000</td>\n",
       "      <td>40.4</td>\n",
       "      <td>2018-12-04</td>\n",
       "      <td>1</td>\n",
       "      <td>2.6</td>\n",
       "      <td>11</td>\n",
       "      <td>18.600000</td>\n",
       "      <td>1</td>\n",
       "      <td>False</td>\n",
       "      <td>...</td>\n",
       "      <td>11.000000</td>\n",
       "      <td>2</td>\n",
       "      <td>пгт шушары</td>\n",
       "      <td>12817.0</td>\n",
       "      <td>18603.0</td>\n",
       "      <td>0</td>\n",
       "      <td>NaN</td>\n",
       "      <td>0</td>\n",
       "      <td>NaN</td>\n",
       "      <td>81.0</td>\n",
       "    </tr>\n",
       "    <tr>\n",
       "      <th>2</th>\n",
       "      <td>10</td>\n",
       "      <td>5196000</td>\n",
       "      <td>56.0</td>\n",
       "      <td>2015-08-20</td>\n",
       "      <td>2</td>\n",
       "      <td>2.6</td>\n",
       "      <td>5</td>\n",
       "      <td>34.300000</td>\n",
       "      <td>4</td>\n",
       "      <td>False</td>\n",
       "      <td>...</td>\n",
       "      <td>8.300000</td>\n",
       "      <td>0</td>\n",
       "      <td>санкт-петербург</td>\n",
       "      <td>21741.0</td>\n",
       "      <td>13933.0</td>\n",
       "      <td>1</td>\n",
       "      <td>90.0</td>\n",
       "      <td>2</td>\n",
       "      <td>574.0</td>\n",
       "      <td>558.0</td>\n",
       "    </tr>\n",
       "    <tr>\n",
       "      <th>3</th>\n",
       "      <td>0</td>\n",
       "      <td>64900000</td>\n",
       "      <td>159.0</td>\n",
       "      <td>2015-07-24</td>\n",
       "      <td>3</td>\n",
       "      <td>2.6</td>\n",
       "      <td>14</td>\n",
       "      <td>0.571174</td>\n",
       "      <td>9</td>\n",
       "      <td>False</td>\n",
       "      <td>...</td>\n",
       "      <td>0.175075</td>\n",
       "      <td>0</td>\n",
       "      <td>санкт-петербург</td>\n",
       "      <td>28098.0</td>\n",
       "      <td>6800.0</td>\n",
       "      <td>2</td>\n",
       "      <td>84.0</td>\n",
       "      <td>3</td>\n",
       "      <td>234.0</td>\n",
       "      <td>424.0</td>\n",
       "    </tr>\n",
       "    <tr>\n",
       "      <th>4</th>\n",
       "      <td>2</td>\n",
       "      <td>10000000</td>\n",
       "      <td>100.0</td>\n",
       "      <td>2018-06-19</td>\n",
       "      <td>2</td>\n",
       "      <td>3.0</td>\n",
       "      <td>14</td>\n",
       "      <td>32.000000</td>\n",
       "      <td>13</td>\n",
       "      <td>False</td>\n",
       "      <td>...</td>\n",
       "      <td>41.000000</td>\n",
       "      <td>0</td>\n",
       "      <td>санкт-петербург</td>\n",
       "      <td>31856.0</td>\n",
       "      <td>8098.0</td>\n",
       "      <td>2</td>\n",
       "      <td>112.0</td>\n",
       "      <td>1</td>\n",
       "      <td>48.0</td>\n",
       "      <td>121.0</td>\n",
       "    </tr>\n",
       "  </tbody>\n",
       "</table>\n",
       "<p>5 rows × 22 columns</p>\n",
       "</div>"
      ],
      "text/plain": [
       "   total_images  last_price  total_area first_day_exposition  rooms  \\\n",
       "0            20    13000000       108.0           2019-03-07      3   \n",
       "1             7     3350000        40.4           2018-12-04      1   \n",
       "2            10     5196000        56.0           2015-08-20      2   \n",
       "3             0    64900000       159.0           2015-07-24      3   \n",
       "4             2    10000000       100.0           2018-06-19      2   \n",
       "\n",
       "   ceiling_height  floors_total  living_area  floor  is_apartment  ...  \\\n",
       "0             2.7            16    51.000000      8         False  ...   \n",
       "1             2.6            11    18.600000      1         False  ...   \n",
       "2             2.6             5    34.300000      4         False  ...   \n",
       "3             2.6            14     0.571174      9         False  ...   \n",
       "4             3.0            14    32.000000     13         False  ...   \n",
       "\n",
       "   kitchen_area  balcony    locality_name  airports_nearest  \\\n",
       "0     25.000000        0  санкт-петербург           18863.0   \n",
       "1     11.000000        2       пгт шушары           12817.0   \n",
       "2      8.300000        0  санкт-петербург           21741.0   \n",
       "3      0.175075        0  санкт-петербург           28098.0   \n",
       "4     41.000000        0  санкт-петербург           31856.0   \n",
       "\n",
       "  city_centers_nearest  parks_around3000  parks_nearest  ponds_around3000  \\\n",
       "0              16028.0                 1          482.0                 2   \n",
       "1              18603.0                 0            NaN                 0   \n",
       "2              13933.0                 1           90.0                 2   \n",
       "3               6800.0                 2           84.0                 3   \n",
       "4               8098.0                 2          112.0                 1   \n",
       "\n",
       "   ponds_nearest  days_exposition  \n",
       "0          755.0              NaN  \n",
       "1            NaN             81.0  \n",
       "2          574.0            558.0  \n",
       "3          234.0            424.0  \n",
       "4           48.0            121.0  \n",
       "\n",
       "[5 rows x 22 columns]"
      ]
     },
     "execution_count": 44,
     "metadata": {},
     "output_type": "execute_result"
    }
   ],
   "source": [
    "data.head() #для удобства 5 строк таблицы"
   ]
  },
  {
   "cell_type": "markdown",
   "metadata": {},
   "source": [
    "### Создание столбца с ценой квадратного метра"
   ]
  },
  {
   "cell_type": "code",
   "execution_count": 45,
   "metadata": {},
   "outputs": [],
   "source": [
    "data['price_metr'] = data['last_price'] / data['total_area']"
   ]
  },
  {
   "cell_type": "markdown",
   "metadata": {},
   "source": [
    "### Создание столбцов с днем недели где `0` - понедельник и тд, месяца и года"
   ]
  },
  {
   "cell_type": "code",
   "execution_count": 46,
   "metadata": {},
   "outputs": [],
   "source": [
    "data['weekday_exposition'] = pd.DatetimeIndex(data['first_day_exposition']).weekday"
   ]
  },
  {
   "cell_type": "code",
   "execution_count": 47,
   "metadata": {},
   "outputs": [],
   "source": [
    "def name_days(row):\n",
    "    try:\n",
    "        if row == 0:\n",
    "            return 'Понедельник'\n",
    "        elif row == 1:\n",
    "            return 'Вторник'\n",
    "        elif row == 2:\n",
    "            return 'Среда'\n",
    "        elif row == 3:\n",
    "            return 'Четверг'\n",
    "        elif row == 4:\n",
    "            return 'Пятница'\n",
    "        elif row == 5:\n",
    "            return 'Суббота'\n",
    "        else:\n",
    "            return 'Воскресенье'\n",
    "    except:  \n",
    "        return\n",
    "    \n",
    "#функция что бы вместо чисел подставлял названия дня недели"
   ]
  },
  {
   "cell_type": "code",
   "execution_count": 48,
   "metadata": {},
   "outputs": [],
   "source": [
    "data['weekday_exposition'] = data['weekday_exposition'].apply(name_days)"
   ]
  },
  {
   "cell_type": "code",
   "execution_count": 49,
   "metadata": {},
   "outputs": [],
   "source": [
    "data['month_exposition'] = pd.DatetimeIndex(data['first_day_exposition']).month"
   ]
  },
  {
   "cell_type": "code",
   "execution_count": 50,
   "metadata": {},
   "outputs": [],
   "source": [
    "data['year_exposition'] = pd.DatetimeIndex(data['first_day_exposition']).year"
   ]
  },
  {
   "cell_type": "code",
   "execution_count": 51,
   "metadata": {
    "scrolled": true
   },
   "outputs": [
    {
     "data": {
      "text/html": [
       "<div>\n",
       "<style scoped>\n",
       "    .dataframe tbody tr th:only-of-type {\n",
       "        vertical-align: middle;\n",
       "    }\n",
       "\n",
       "    .dataframe tbody tr th {\n",
       "        vertical-align: top;\n",
       "    }\n",
       "\n",
       "    .dataframe thead th {\n",
       "        text-align: right;\n",
       "    }\n",
       "</style>\n",
       "<table border=\"1\" class=\"dataframe\">\n",
       "  <thead>\n",
       "    <tr style=\"text-align: right;\">\n",
       "      <th></th>\n",
       "      <th>total_images</th>\n",
       "      <th>last_price</th>\n",
       "      <th>total_area</th>\n",
       "      <th>first_day_exposition</th>\n",
       "      <th>rooms</th>\n",
       "      <th>ceiling_height</th>\n",
       "      <th>floors_total</th>\n",
       "      <th>living_area</th>\n",
       "      <th>floor</th>\n",
       "      <th>is_apartment</th>\n",
       "      <th>...</th>\n",
       "      <th>city_centers_nearest</th>\n",
       "      <th>parks_around3000</th>\n",
       "      <th>parks_nearest</th>\n",
       "      <th>ponds_around3000</th>\n",
       "      <th>ponds_nearest</th>\n",
       "      <th>days_exposition</th>\n",
       "      <th>price_metr</th>\n",
       "      <th>weekday_exposition</th>\n",
       "      <th>month_exposition</th>\n",
       "      <th>year_exposition</th>\n",
       "    </tr>\n",
       "  </thead>\n",
       "  <tbody>\n",
       "    <tr>\n",
       "      <th>0</th>\n",
       "      <td>20</td>\n",
       "      <td>13000000</td>\n",
       "      <td>108.0</td>\n",
       "      <td>2019-03-07</td>\n",
       "      <td>3</td>\n",
       "      <td>2.7</td>\n",
       "      <td>16</td>\n",
       "      <td>51.000000</td>\n",
       "      <td>8</td>\n",
       "      <td>False</td>\n",
       "      <td>...</td>\n",
       "      <td>16028.0</td>\n",
       "      <td>1</td>\n",
       "      <td>482.0</td>\n",
       "      <td>2</td>\n",
       "      <td>755.0</td>\n",
       "      <td>NaN</td>\n",
       "      <td>120370.370370</td>\n",
       "      <td>Четверг</td>\n",
       "      <td>3</td>\n",
       "      <td>2019</td>\n",
       "    </tr>\n",
       "    <tr>\n",
       "      <th>1</th>\n",
       "      <td>7</td>\n",
       "      <td>3350000</td>\n",
       "      <td>40.4</td>\n",
       "      <td>2018-12-04</td>\n",
       "      <td>1</td>\n",
       "      <td>2.6</td>\n",
       "      <td>11</td>\n",
       "      <td>18.600000</td>\n",
       "      <td>1</td>\n",
       "      <td>False</td>\n",
       "      <td>...</td>\n",
       "      <td>18603.0</td>\n",
       "      <td>0</td>\n",
       "      <td>NaN</td>\n",
       "      <td>0</td>\n",
       "      <td>NaN</td>\n",
       "      <td>81.0</td>\n",
       "      <td>82920.792079</td>\n",
       "      <td>Вторник</td>\n",
       "      <td>12</td>\n",
       "      <td>2018</td>\n",
       "    </tr>\n",
       "    <tr>\n",
       "      <th>2</th>\n",
       "      <td>10</td>\n",
       "      <td>5196000</td>\n",
       "      <td>56.0</td>\n",
       "      <td>2015-08-20</td>\n",
       "      <td>2</td>\n",
       "      <td>2.6</td>\n",
       "      <td>5</td>\n",
       "      <td>34.300000</td>\n",
       "      <td>4</td>\n",
       "      <td>False</td>\n",
       "      <td>...</td>\n",
       "      <td>13933.0</td>\n",
       "      <td>1</td>\n",
       "      <td>90.0</td>\n",
       "      <td>2</td>\n",
       "      <td>574.0</td>\n",
       "      <td>558.0</td>\n",
       "      <td>92785.714286</td>\n",
       "      <td>Четверг</td>\n",
       "      <td>8</td>\n",
       "      <td>2015</td>\n",
       "    </tr>\n",
       "    <tr>\n",
       "      <th>3</th>\n",
       "      <td>0</td>\n",
       "      <td>64900000</td>\n",
       "      <td>159.0</td>\n",
       "      <td>2015-07-24</td>\n",
       "      <td>3</td>\n",
       "      <td>2.6</td>\n",
       "      <td>14</td>\n",
       "      <td>0.571174</td>\n",
       "      <td>9</td>\n",
       "      <td>False</td>\n",
       "      <td>...</td>\n",
       "      <td>6800.0</td>\n",
       "      <td>2</td>\n",
       "      <td>84.0</td>\n",
       "      <td>3</td>\n",
       "      <td>234.0</td>\n",
       "      <td>424.0</td>\n",
       "      <td>408176.100629</td>\n",
       "      <td>Пятница</td>\n",
       "      <td>7</td>\n",
       "      <td>2015</td>\n",
       "    </tr>\n",
       "    <tr>\n",
       "      <th>4</th>\n",
       "      <td>2</td>\n",
       "      <td>10000000</td>\n",
       "      <td>100.0</td>\n",
       "      <td>2018-06-19</td>\n",
       "      <td>2</td>\n",
       "      <td>3.0</td>\n",
       "      <td>14</td>\n",
       "      <td>32.000000</td>\n",
       "      <td>13</td>\n",
       "      <td>False</td>\n",
       "      <td>...</td>\n",
       "      <td>8098.0</td>\n",
       "      <td>2</td>\n",
       "      <td>112.0</td>\n",
       "      <td>1</td>\n",
       "      <td>48.0</td>\n",
       "      <td>121.0</td>\n",
       "      <td>100000.000000</td>\n",
       "      <td>Вторник</td>\n",
       "      <td>6</td>\n",
       "      <td>2018</td>\n",
       "    </tr>\n",
       "  </tbody>\n",
       "</table>\n",
       "<p>5 rows × 26 columns</p>\n",
       "</div>"
      ],
      "text/plain": [
       "   total_images  last_price  total_area first_day_exposition  rooms  \\\n",
       "0            20    13000000       108.0           2019-03-07      3   \n",
       "1             7     3350000        40.4           2018-12-04      1   \n",
       "2            10     5196000        56.0           2015-08-20      2   \n",
       "3             0    64900000       159.0           2015-07-24      3   \n",
       "4             2    10000000       100.0           2018-06-19      2   \n",
       "\n",
       "   ceiling_height  floors_total  living_area  floor  is_apartment  ...  \\\n",
       "0             2.7            16    51.000000      8         False  ...   \n",
       "1             2.6            11    18.600000      1         False  ...   \n",
       "2             2.6             5    34.300000      4         False  ...   \n",
       "3             2.6            14     0.571174      9         False  ...   \n",
       "4             3.0            14    32.000000     13         False  ...   \n",
       "\n",
       "   city_centers_nearest  parks_around3000  parks_nearest  ponds_around3000  \\\n",
       "0               16028.0                 1          482.0                 2   \n",
       "1               18603.0                 0            NaN                 0   \n",
       "2               13933.0                 1           90.0                 2   \n",
       "3                6800.0                 2           84.0                 3   \n",
       "4                8098.0                 2          112.0                 1   \n",
       "\n",
       "  ponds_nearest  days_exposition     price_metr  weekday_exposition  \\\n",
       "0         755.0              NaN  120370.370370             Четверг   \n",
       "1           NaN             81.0   82920.792079             Вторник   \n",
       "2         574.0            558.0   92785.714286             Четверг   \n",
       "3         234.0            424.0  408176.100629             Пятница   \n",
       "4          48.0            121.0  100000.000000             Вторник   \n",
       "\n",
       "   month_exposition  year_exposition  \n",
       "0                 3             2019  \n",
       "1                12             2018  \n",
       "2                 8             2015  \n",
       "3                 7             2015  \n",
       "4                 6             2018  \n",
       "\n",
       "[5 rows x 26 columns]"
      ]
     },
     "execution_count": 51,
     "metadata": {},
     "output_type": "execute_result"
    }
   ],
   "source": [
    "data.head()#проверка своих действий"
   ]
  },
  {
   "cell_type": "markdown",
   "metadata": {},
   "source": [
    "### Перевод в км растояние до центра"
   ]
  },
  {
   "cell_type": "code",
   "execution_count": 52,
   "metadata": {},
   "outputs": [],
   "source": [
    "data['city_centers_nearest_km'] = data['city_centers_nearest'] / 1000"
   ]
  },
  {
   "cell_type": "code",
   "execution_count": 53,
   "metadata": {},
   "outputs": [],
   "source": [
    "data['city_centers_nearest_km'] = round(data['city_centers_nearest_km'], )"
   ]
  },
  {
   "cell_type": "markdown",
   "metadata": {},
   "source": [
    "### Тип этажа `первый` или `последний`"
   ]
  },
  {
   "cell_type": "code",
   "execution_count": 54,
   "metadata": {},
   "outputs": [],
   "source": [
    "def name_floor(down):\n",
    "    try:\n",
    "        if down['floor'] == 1:\n",
    "            return 'Первый этаж'\n",
    "        elif down['floor'] == down['floors_total']:\n",
    "            return 'Последний этаж'\n",
    "        else:\n",
    "            return 'Другой этаж'\n",
    "    except:  \n",
    "        return\n",
    "    \n",
    "#функция которая сравнивает этажи"
   ]
  },
  {
   "cell_type": "code",
   "execution_count": 55,
   "metadata": {},
   "outputs": [],
   "source": [
    "data['floor_name'] = data.apply(name_floor, axis=1)"
   ]
  },
  {
   "cell_type": "code",
   "execution_count": 56,
   "metadata": {
    "scrolled": true
   },
   "outputs": [
    {
     "data": {
      "text/html": [
       "<div>\n",
       "<style scoped>\n",
       "    .dataframe tbody tr th:only-of-type {\n",
       "        vertical-align: middle;\n",
       "    }\n",
       "\n",
       "    .dataframe tbody tr th {\n",
       "        vertical-align: top;\n",
       "    }\n",
       "\n",
       "    .dataframe thead th {\n",
       "        text-align: right;\n",
       "    }\n",
       "</style>\n",
       "<table border=\"1\" class=\"dataframe\">\n",
       "  <thead>\n",
       "    <tr style=\"text-align: right;\">\n",
       "      <th></th>\n",
       "      <th>total_images</th>\n",
       "      <th>last_price</th>\n",
       "      <th>total_area</th>\n",
       "      <th>first_day_exposition</th>\n",
       "      <th>rooms</th>\n",
       "      <th>ceiling_height</th>\n",
       "      <th>floors_total</th>\n",
       "      <th>living_area</th>\n",
       "      <th>floor</th>\n",
       "      <th>is_apartment</th>\n",
       "      <th>...</th>\n",
       "      <th>parks_nearest</th>\n",
       "      <th>ponds_around3000</th>\n",
       "      <th>ponds_nearest</th>\n",
       "      <th>days_exposition</th>\n",
       "      <th>price_metr</th>\n",
       "      <th>weekday_exposition</th>\n",
       "      <th>month_exposition</th>\n",
       "      <th>year_exposition</th>\n",
       "      <th>city_centers_nearest_km</th>\n",
       "      <th>floor_name</th>\n",
       "    </tr>\n",
       "  </thead>\n",
       "  <tbody>\n",
       "    <tr>\n",
       "      <th>0</th>\n",
       "      <td>20</td>\n",
       "      <td>13000000</td>\n",
       "      <td>108.0</td>\n",
       "      <td>2019-03-07</td>\n",
       "      <td>3</td>\n",
       "      <td>2.7</td>\n",
       "      <td>16</td>\n",
       "      <td>51.000000</td>\n",
       "      <td>8</td>\n",
       "      <td>False</td>\n",
       "      <td>...</td>\n",
       "      <td>482.0</td>\n",
       "      <td>2</td>\n",
       "      <td>755.0</td>\n",
       "      <td>NaN</td>\n",
       "      <td>120370.370370</td>\n",
       "      <td>Четверг</td>\n",
       "      <td>3</td>\n",
       "      <td>2019</td>\n",
       "      <td>16.0</td>\n",
       "      <td>Другой этаж</td>\n",
       "    </tr>\n",
       "    <tr>\n",
       "      <th>1</th>\n",
       "      <td>7</td>\n",
       "      <td>3350000</td>\n",
       "      <td>40.4</td>\n",
       "      <td>2018-12-04</td>\n",
       "      <td>1</td>\n",
       "      <td>2.6</td>\n",
       "      <td>11</td>\n",
       "      <td>18.600000</td>\n",
       "      <td>1</td>\n",
       "      <td>False</td>\n",
       "      <td>...</td>\n",
       "      <td>NaN</td>\n",
       "      <td>0</td>\n",
       "      <td>NaN</td>\n",
       "      <td>81.0</td>\n",
       "      <td>82920.792079</td>\n",
       "      <td>Вторник</td>\n",
       "      <td>12</td>\n",
       "      <td>2018</td>\n",
       "      <td>19.0</td>\n",
       "      <td>Первый этаж</td>\n",
       "    </tr>\n",
       "    <tr>\n",
       "      <th>2</th>\n",
       "      <td>10</td>\n",
       "      <td>5196000</td>\n",
       "      <td>56.0</td>\n",
       "      <td>2015-08-20</td>\n",
       "      <td>2</td>\n",
       "      <td>2.6</td>\n",
       "      <td>5</td>\n",
       "      <td>34.300000</td>\n",
       "      <td>4</td>\n",
       "      <td>False</td>\n",
       "      <td>...</td>\n",
       "      <td>90.0</td>\n",
       "      <td>2</td>\n",
       "      <td>574.0</td>\n",
       "      <td>558.0</td>\n",
       "      <td>92785.714286</td>\n",
       "      <td>Четверг</td>\n",
       "      <td>8</td>\n",
       "      <td>2015</td>\n",
       "      <td>14.0</td>\n",
       "      <td>Другой этаж</td>\n",
       "    </tr>\n",
       "    <tr>\n",
       "      <th>3</th>\n",
       "      <td>0</td>\n",
       "      <td>64900000</td>\n",
       "      <td>159.0</td>\n",
       "      <td>2015-07-24</td>\n",
       "      <td>3</td>\n",
       "      <td>2.6</td>\n",
       "      <td>14</td>\n",
       "      <td>0.571174</td>\n",
       "      <td>9</td>\n",
       "      <td>False</td>\n",
       "      <td>...</td>\n",
       "      <td>84.0</td>\n",
       "      <td>3</td>\n",
       "      <td>234.0</td>\n",
       "      <td>424.0</td>\n",
       "      <td>408176.100629</td>\n",
       "      <td>Пятница</td>\n",
       "      <td>7</td>\n",
       "      <td>2015</td>\n",
       "      <td>7.0</td>\n",
       "      <td>Другой этаж</td>\n",
       "    </tr>\n",
       "    <tr>\n",
       "      <th>4</th>\n",
       "      <td>2</td>\n",
       "      <td>10000000</td>\n",
       "      <td>100.0</td>\n",
       "      <td>2018-06-19</td>\n",
       "      <td>2</td>\n",
       "      <td>3.0</td>\n",
       "      <td>14</td>\n",
       "      <td>32.000000</td>\n",
       "      <td>13</td>\n",
       "      <td>False</td>\n",
       "      <td>...</td>\n",
       "      <td>112.0</td>\n",
       "      <td>1</td>\n",
       "      <td>48.0</td>\n",
       "      <td>121.0</td>\n",
       "      <td>100000.000000</td>\n",
       "      <td>Вторник</td>\n",
       "      <td>6</td>\n",
       "      <td>2018</td>\n",
       "      <td>8.0</td>\n",
       "      <td>Другой этаж</td>\n",
       "    </tr>\n",
       "  </tbody>\n",
       "</table>\n",
       "<p>5 rows × 28 columns</p>\n",
       "</div>"
      ],
      "text/plain": [
       "   total_images  last_price  total_area first_day_exposition  rooms  \\\n",
       "0            20    13000000       108.0           2019-03-07      3   \n",
       "1             7     3350000        40.4           2018-12-04      1   \n",
       "2            10     5196000        56.0           2015-08-20      2   \n",
       "3             0    64900000       159.0           2015-07-24      3   \n",
       "4             2    10000000       100.0           2018-06-19      2   \n",
       "\n",
       "   ceiling_height  floors_total  living_area  floor  is_apartment  ...  \\\n",
       "0             2.7            16    51.000000      8         False  ...   \n",
       "1             2.6            11    18.600000      1         False  ...   \n",
       "2             2.6             5    34.300000      4         False  ...   \n",
       "3             2.6            14     0.571174      9         False  ...   \n",
       "4             3.0            14    32.000000     13         False  ...   \n",
       "\n",
       "   parks_nearest  ponds_around3000  ponds_nearest  days_exposition  \\\n",
       "0          482.0                 2          755.0              NaN   \n",
       "1            NaN                 0            NaN             81.0   \n",
       "2           90.0                 2          574.0            558.0   \n",
       "3           84.0                 3          234.0            424.0   \n",
       "4          112.0                 1           48.0            121.0   \n",
       "\n",
       "      price_metr  weekday_exposition  month_exposition  year_exposition  \\\n",
       "0  120370.370370             Четверг                 3             2019   \n",
       "1   82920.792079             Вторник                12             2018   \n",
       "2   92785.714286             Четверг                 8             2015   \n",
       "3  408176.100629             Пятница                 7             2015   \n",
       "4  100000.000000             Вторник                 6             2018   \n",
       "\n",
       "   city_centers_nearest_km   floor_name  \n",
       "0                     16.0  Другой этаж  \n",
       "1                     19.0  Первый этаж  \n",
       "2                     14.0  Другой этаж  \n",
       "3                      7.0  Другой этаж  \n",
       "4                      8.0  Другой этаж  \n",
       "\n",
       "[5 rows x 28 columns]"
      ]
     },
     "execution_count": 56,
     "metadata": {},
     "output_type": "execute_result"
    }
   ],
   "source": [
    "data.head(5)# проверка последних добавлений"
   ]
  },
  {
   "cell_type": "markdown",
   "metadata": {},
   "source": [
    "## Теперь проведём исследовательский анализ данных"
   ]
  },
  {
   "cell_type": "code",
   "execution_count": 57,
   "metadata": {},
   "outputs": [
    {
     "name": "stdout",
     "output_type": "stream",
     "text": [
      "<class 'pandas.core.frame.DataFrame'>\n",
      "RangeIndex: 23565 entries, 0 to 23564\n",
      "Data columns (total 28 columns):\n",
      " #   Column                   Non-Null Count  Dtype         \n",
      "---  ------                   --------------  -----         \n",
      " 0   total_images             23565 non-null  int64         \n",
      " 1   last_price               23565 non-null  int64         \n",
      " 2   total_area               23565 non-null  float64       \n",
      " 3   first_day_exposition     23565 non-null  datetime64[ns]\n",
      " 4   rooms                    23565 non-null  int64         \n",
      " 5   ceiling_height           23565 non-null  float64       \n",
      " 6   floors_total             23565 non-null  int64         \n",
      " 7   living_area              23565 non-null  float64       \n",
      " 8   floor                    23565 non-null  int64         \n",
      " 9   is_apartment             23565 non-null  bool          \n",
      " 10  studio                   23565 non-null  bool          \n",
      " 11  open_plan                23565 non-null  bool          \n",
      " 12  kitchen_area             23565 non-null  float64       \n",
      " 13  balcony                  23565 non-null  int64         \n",
      " 14  locality_name            23565 non-null  object        \n",
      " 15  airports_nearest         18041 non-null  float64       \n",
      " 16  city_centers_nearest     18064 non-null  float64       \n",
      " 17  parks_around3000         23565 non-null  int64         \n",
      " 18  parks_nearest            8030 non-null   float64       \n",
      " 19  ponds_around3000         23565 non-null  int64         \n",
      " 20  ponds_nearest            9036 non-null   float64       \n",
      " 21  days_exposition          20394 non-null  float64       \n",
      " 22  price_metr               23565 non-null  float64       \n",
      " 23  weekday_exposition       23565 non-null  object        \n",
      " 24  month_exposition         23565 non-null  int64         \n",
      " 25  year_exposition          23565 non-null  int64         \n",
      " 26  city_centers_nearest_km  18064 non-null  float64       \n",
      " 27  floor_name               23565 non-null  object        \n",
      "dtypes: bool(3), datetime64[ns](1), float64(11), int64(10), object(3)\n",
      "memory usage: 4.6+ MB\n"
     ]
    }
   ],
   "source": [
    "data.info()"
   ]
  },
  {
   "cell_type": "markdown",
   "metadata": {},
   "source": [
    "### Анализ квадратных метров квартир"
   ]
  },
  {
   "cell_type": "code",
   "execution_count": 58,
   "metadata": {},
   "outputs": [
    {
     "data": {
      "text/plain": [
       "count    23565.000000\n",
       "mean        60.322824\n",
       "std         35.657060\n",
       "min         12.000000\n",
       "25%         40.000000\n",
       "50%         52.000000\n",
       "75%         69.700000\n",
       "max        900.000000\n",
       "Name: total_area, dtype: float64"
      ]
     },
     "execution_count": 58,
     "metadata": {},
     "output_type": "execute_result"
    }
   ],
   "source": [
    "data['total_area'].describe()# для определения минимального и максимального значения"
   ]
  },
  {
   "cell_type": "code",
   "execution_count": 59,
   "metadata": {
    "scrolled": false
   },
   "outputs": [
    {
     "data": {
      "image/png": "[encoded data removed]",
      "text/plain": [
       "<Figure size 432x288 with 1 Axes>"
      ]
     },
     "metadata": {
      "needs_background": "light"
     },
     "output_type": "display_data"
    },
    {
     "data": {
      "text/plain": [
       "19431    900.0\n",
       "12787    631.2\n",
       "3103     631.0\n",
       "15565    618.0\n",
       "5330     590.0\n",
       "4216     517.0\n",
       "7977     507.0\n",
       "14930    500.0\n",
       "5863     500.0\n",
       "12330    495.0\n",
       "Name: total_area, dtype: float64"
      ]
     },
     "execution_count": 59,
     "metadata": {},
     "output_type": "execute_result"
    }
   ],
   "source": [
    "plt.hist(data['total_area'], bins=50, range=(10,150))\n",
    "plt.title('Площадь квартир')\n",
    "plt.xlabel('Квадратные метры')\n",
    "plt.ylabel('Количество квартир')\n",
    "plt.grid(True)\n",
    "plt.show()\n",
    "data['total_area'].sort_values(ascending=False).head(10)"
   ]
  },
  {
   "cell_type": "code",
   "execution_count": 60,
   "metadata": {},
   "outputs": [
    {
     "data": {
      "text/plain": [
       "count    23565.000000\n",
       "mean        31.773175\n",
       "std         23.047978\n",
       "min          0.571174\n",
       "25%         17.800000\n",
       "50%         29.000000\n",
       "75%         41.100000\n",
       "max        409.700000\n",
       "Name: living_area, dtype: float64"
      ]
     },
     "execution_count": 60,
     "metadata": {},
     "output_type": "execute_result"
    }
   ],
   "source": [
    "data['living_area'].describe()# для определения минимального и максимального значения"
   ]
  },
  {
   "cell_type": "code",
   "execution_count": 61,
   "metadata": {},
   "outputs": [
    {
     "data": {
      "image/png": "[encoded data removed]",
      "text/plain": [
       "<Figure size 432x288 with 1 Axes>"
      ]
     },
     "metadata": {
      "needs_background": "light"
     },
     "output_type": "display_data"
    },
    {
     "data": {
      "text/plain": [
       "19431    409.7\n",
       "5330     409.0\n",
       "12330    347.5\n",
       "4216     332.0\n",
       "12787    322.3\n",
       "657      312.5\n",
       "7977     301.5\n",
       "14009    300.0\n",
       "20160    279.6\n",
       "22368    274.0\n",
       "Name: living_area, dtype: float64"
      ]
     },
     "execution_count": 61,
     "metadata": {},
     "output_type": "execute_result"
    }
   ],
   "source": [
    "plt.hist(data['living_area'], bins=50, range=(10,200))\n",
    "plt.title('Площадь жилой зоны')\n",
    "plt.xlabel('Квадратные метры')\n",
    "plt.ylabel('Количество квартир')\n",
    "plt.grid(True)\n",
    "plt.show()\n",
    "data['living_area'].sort_values(ascending=False).head(10)"
   ]
  },
  {
   "cell_type": "code",
   "execution_count": 62,
   "metadata": {},
   "outputs": [
    {
     "data": {
      "text/plain": [
       "count    23565.000000\n",
       "mean         9.581681\n",
       "std          6.383312\n",
       "min          0.175075\n",
       "25%          6.300000\n",
       "50%          9.000000\n",
       "75%         11.410000\n",
       "max        112.000000\n",
       "Name: kitchen_area, dtype: float64"
      ]
     },
     "execution_count": 62,
     "metadata": {},
     "output_type": "execute_result"
    }
   ],
   "source": [
    "data['kitchen_area'].describe()# для определения минимального и максимального значения"
   ]
  },
  {
   "cell_type": "code",
   "execution_count": 63,
   "metadata": {},
   "outputs": [
    {
     "data": {
      "image/png": "[encoded data removed]",
      "text/plain": [
       "<Figure size 432x288 with 1 Axes>"
      ]
     },
     "metadata": {
      "needs_background": "light"
     },
     "output_type": "display_data"
    },
    {
     "data": {
      "text/plain": [
       "19431    112.0\n",
       "20103    107.0\n",
       "2480     100.7\n",
       "5330     100.0\n",
       "16150     93.2\n",
       "16701     93.0\n",
       "10807     87.2\n",
       "489       77.0\n",
       "4373      77.0\n",
       "14559     75.0\n",
       "Name: kitchen_area, dtype: float64"
      ]
     },
     "execution_count": 63,
     "metadata": {},
     "output_type": "execute_result"
    }
   ],
   "source": [
    "plt.hist(data['kitchen_area'], bins=20, range=(0,50))\n",
    "plt.title('Площадь кухни')\n",
    "plt.xlabel('Квадратные метры')\n",
    "plt.ylabel('Количество квартир')\n",
    "plt.grid(True)\n",
    "plt.show()\n",
    "data['kitchen_area'].sort_values(ascending=False).head(10)"
   ]
  },
  {
   "cell_type": "markdown",
   "metadata": {},
   "source": [
    "**Вывод:**"
   ]
  },
  {
   "cell_type": "markdown",
   "metadata": {},
   "source": [
    "- В продаже большой разброс квартир по площади, пик по графику в районе 40 кв.м - квартир с такой площадью продают больше всего.\n",
    "- Максимальная площадь прожаваемой квартиры 900 кв.м\n",
    "- Основная масса продаж это квартиры от 20 кв.м до 100 кв.м, далее идут единичные выбросы по площади продаваенмым квартирам\n",
    "- На графике `жилоё площади` видно два пика в районе 20 и 30 кв.м, очевидно связанных с тем что больше всего продаж в 1 и 2х комнатных квартирах, с небольшой общей площадью\n",
    "- Максимальная площадь кухни 112 кв.м, чаще всего встречаются кухни с площадью 8-11 кв.м, но есть небольшое количество квартир и с минимальным значением, видимо имеются в виду студии."
   ]
  },
  {
   "cell_type": "markdown",
   "metadata": {},
   "source": [
    "### Анализ цены продажи"
   ]
  },
  {
   "cell_type": "code",
   "execution_count": 64,
   "metadata": {},
   "outputs": [
    {
     "data": {
      "image/png": "[encoded data removed]",
      "text/plain": [
       "<Figure size 432x288 with 1 Axes>"
      ]
     },
     "metadata": {
      "needs_background": "light"
     },
     "output_type": "display_data"
    },
    {
     "data": {
      "text/plain": [
       "12897    763000000\n",
       "19431    420000000\n",
       "14621    401300000\n",
       "1431     330000000\n",
       "15565    300000000\n",
       "22701    289238400\n",
       "16372    245000000\n",
       "13671    240000000\n",
       "5863     230000000\n",
       "8857     190870000\n",
       "Name: last_price, dtype: int64"
      ]
     },
     "execution_count": 64,
     "metadata": {},
     "output_type": "execute_result"
    }
   ],
   "source": [
    "plt.hist(data['last_price'], bins=50, range=(1_000_000,30_000_000))\n",
    "plt.title('Цена продажи')\n",
    "plt.xlabel('Последняя цена')\n",
    "plt.ylabel('Количество квартир')\n",
    "plt.grid(True)\n",
    "plt.show()\n",
    "data['last_price'].sort_values(ascending=False).head(10)"
   ]
  },
  {
   "cell_type": "markdown",
   "metadata": {},
   "source": [
    "**Вывод:**"
   ]
  },
  {
   "cell_type": "markdown",
   "metadata": {},
   "source": [
    "- Максимальная цена продажи 763 млн\n",
    "- чаще всего продают квартиры за 3-5 млн\n",
    "- Основная масса продаж 2-7 млн"
   ]
  },
  {
   "cell_type": "markdown",
   "metadata": {},
   "source": [
    "### Анализ кол-ва комнат и потолков"
   ]
  },
  {
   "cell_type": "code",
   "execution_count": 65,
   "metadata": {},
   "outputs": [
    {
     "data": {
      "text/plain": [
       "count    23565.000000\n",
       "mean         2.070656\n",
       "std          1.078591\n",
       "min          0.000000\n",
       "25%          1.000000\n",
       "50%          2.000000\n",
       "75%          3.000000\n",
       "max         19.000000\n",
       "Name: rooms, dtype: float64"
      ]
     },
     "execution_count": 65,
     "metadata": {},
     "output_type": "execute_result"
    }
   ],
   "source": [
    "data['rooms'].describe()# для определения минимального и максимального значения"
   ]
  },
  {
   "cell_type": "code",
   "execution_count": 66,
   "metadata": {},
   "outputs": [
    {
     "data": {
      "image/png": "[encoded data removed]",
      "text/plain": [
       "<Figure size 432x288 with 1 Axes>"
      ]
     },
     "metadata": {
      "needs_background": "light"
     },
     "output_type": "display_data"
    },
    {
     "data": {
      "text/plain": [
       "14414    19\n",
       "18744    16\n",
       "5330     15\n",
       "20712    14\n",
       "862      14\n",
       "19431    12\n",
       "645      11\n",
       "9642     11\n",
       "18787    10\n",
       "18017    10\n",
       "Name: rooms, dtype: int64"
      ]
     },
     "execution_count": 66,
     "metadata": {},
     "output_type": "execute_result"
    }
   ],
   "source": [
    "plt.hist(data['rooms'], bins= 15, range=(1,8))\n",
    "plt.title('Кол-во комнат')\n",
    "plt.xlabel('Кол-во комнат')\n",
    "plt.ylabel('Количество квартир')\n",
    "plt.grid(True)\n",
    "plt.show()\n",
    "data['rooms'].sort_values(ascending=False).head(10)"
   ]
  },
  {
   "cell_type": "code",
   "execution_count": 67,
   "metadata": {},
   "outputs": [
    {
     "data": {
      "text/plain": [
       "count    23565.000000\n",
       "mean         2.697496\n",
       "std          0.238372\n",
       "min          2.500000\n",
       "25%          2.600000\n",
       "50%          2.600000\n",
       "75%          2.700000\n",
       "max         10.300000\n",
       "Name: ceiling_height, dtype: float64"
      ]
     },
     "execution_count": 67,
     "metadata": {},
     "output_type": "execute_result"
    }
   ],
   "source": [
    "data['ceiling_height'].describe()# для определения минимального и максимального значения"
   ]
  },
  {
   "cell_type": "code",
   "execution_count": 68,
   "metadata": {},
   "outputs": [
    {
     "data": {
      "image/png": "[encoded data removed]",
      "text/plain": [
       "<Figure size 432x288 with 1 Axes>"
      ]
     },
     "metadata": {
      "needs_background": "light"
     },
     "output_type": "display_data"
    },
    {
     "data": {
      "text/plain": [
       "22184    10.3\n",
       "22739    10.0\n",
       "5833      8.3\n",
       "15656     8.0\n",
       "17345     8.0\n",
       "3459      8.0\n",
       "20151     6.0\n",
       "21109     5.8\n",
       "1383      5.6\n",
       "7540      5.5\n",
       "Name: ceiling_height, dtype: float64"
      ]
     },
     "execution_count": 68,
     "metadata": {},
     "output_type": "execute_result"
    }
   ],
   "source": [
    "plt.hist(data['ceiling_height'], bins=15, range=(1,15))\n",
    "plt.title('Потолки')\n",
    "plt.xlabel('Высота потолков')\n",
    "plt.ylabel('Количество квартир')\n",
    "plt.grid(True)\n",
    "plt.show()\n",
    "data['ceiling_height'].sort_values(ascending=False).head(10)"
   ]
  },
  {
   "cell_type": "markdown",
   "metadata": {},
   "source": [
    "**Выводл:**"
   ]
  },
  {
   "cell_type": "markdown",
   "metadata": {},
   "source": [
    "- Больше всего продаются 1-2 комнатные квартиры\n",
    "- Квартиры в которых больше 6 комнат - \"уникальные\" продавались в единичных случаях\n",
    "- Максимальное количество комнат в продажде - 19шт\n",
    "- Потолки в основном в продаже стандартной высоты 2,5-3 метра\n",
    "- Есть квартиры в продаже с потолками до 10 метров"
   ]
  },
  {
   "cell_type": "markdown",
   "metadata": {},
   "source": [
    "### Анализ этажности квартир"
   ]
  },
  {
   "cell_type": "code",
   "execution_count": 69,
   "metadata": {},
   "outputs": [
    {
     "data": {
      "text/plain": [
       "count    23565.000000\n",
       "mean        10.675875\n",
       "std          6.594823\n",
       "min          1.000000\n",
       "25%          5.000000\n",
       "50%          9.000000\n",
       "75%         16.000000\n",
       "max         60.000000\n",
       "Name: floors_total, dtype: float64"
      ]
     },
     "execution_count": 69,
     "metadata": {},
     "output_type": "execute_result"
    }
   ],
   "source": [
    "data['floors_total'].describe()"
   ]
  },
  {
   "cell_type": "code",
   "execution_count": 70,
   "metadata": {},
   "outputs": [
    {
     "data": {
      "image/png": "[encoded data removed]",
      "text/plain": [
       "<Figure size 432x288 with 1 Axes>"
      ]
     },
     "metadata": {
      "needs_background": "light"
     },
     "output_type": "display_data"
    },
    {
     "data": {
      "text/plain": [
       "2245     60\n",
       "16635    52\n",
       "16837    37\n",
       "5777     36\n",
       "11017    36\n",
       "395      36\n",
       "13896    35\n",
       "2953     35\n",
       "9141     35\n",
       "1911     35\n",
       "Name: floors_total, dtype: int64"
      ]
     },
     "execution_count": 70,
     "metadata": {},
     "output_type": "execute_result"
    }
   ],
   "source": [
    "plt.hist(data['floors_total'], bins=30, range=(1,50))\n",
    "plt.title('Этажность здания')\n",
    "plt.xlabel('Кол-во этажей')\n",
    "plt.ylabel('Количество квартир')\n",
    "plt.grid(True)\n",
    "plt.show()\n",
    "data['floors_total'].sort_values(ascending=False).head(10)"
   ]
  },
  {
   "cell_type": "code",
   "execution_count": 71,
   "metadata": {},
   "outputs": [
    {
     "data": {
      "text/plain": [
       "count    23565.000000\n",
       "mean         5.878124\n",
       "std          4.871485\n",
       "min          1.000000\n",
       "25%          2.000000\n",
       "50%          4.000000\n",
       "75%          8.000000\n",
       "max         33.000000\n",
       "Name: floor, dtype: float64"
      ]
     },
     "execution_count": 71,
     "metadata": {},
     "output_type": "execute_result"
    }
   ],
   "source": [
    "data['floor'].describe()"
   ]
  },
  {
   "cell_type": "code",
   "execution_count": 72,
   "metadata": {},
   "outputs": [
    {
     "data": {
      "image/png": "[encoded data removed]",
      "text/plain": [
       "<Figure size 432x288 with 1 Axes>"
      ]
     },
     "metadata": {
      "needs_background": "light"
     },
     "output_type": "display_data"
    },
    {
     "data": {
      "text/plain": [
       "18116    33\n",
       "11507    32\n",
       "18526    31\n",
       "1911     30\n",
       "11017    29\n",
       "395      28\n",
       "12815    27\n",
       "16549    27\n",
       "23160    27\n",
       "4073     27\n",
       "Name: floor, dtype: int64"
      ]
     },
     "execution_count": 72,
     "metadata": {},
     "output_type": "execute_result"
    }
   ],
   "source": [
    "plt.hist(data['floor'], bins=40, range=(1,20))\n",
    "plt.title('Этаж квартиры')\n",
    "plt.xlabel('Этаж квартиры')\n",
    "plt.ylabel('Количество квартир')\n",
    "plt.grid(True)\n",
    "plt.show()\n",
    "data['floor'].sort_values(ascending=False).head(10)"
   ]
  },
  {
   "cell_type": "code",
   "execution_count": 73,
   "metadata": {},
   "outputs": [
    {
     "data": {
      "image/png": "[encoded data removed]",
      "text/plain": [
       "<Figure size 432x288 with 1 Axes>"
      ]
     },
     "metadata": {
      "needs_background": "light"
     },
     "output_type": "display_data"
    }
   ],
   "source": [
    "plt.hist(data['floor_name'], bins=3,range=(0,3))\n",
    "plt.title('Этаж квартиры')\n",
    "plt.xlabel('Этаж квартиры')\n",
    "plt.ylabel('Количество квартир')\n",
    "plt.grid(True)\n",
    "plt.show()"
   ]
  },
  {
   "cell_type": "markdown",
   "metadata": {},
   "source": [
    "**Выводл:**"
   ]
  },
  {
   "cell_type": "markdown",
   "metadata": {},
   "source": [
    "- Чаще всего продают квартиры со 2 по 5 этаж, очевидно связанно с тем что больше всего зданий в продаже Петербурга именно пятиэтажных\n",
    "- На первом и на последнем этаже встречаются практиески одинаковое количество квартир"
   ]
  },
  {
   "cell_type": "markdown",
   "metadata": {},
   "source": [
    "### Анализ дня и месяца публикации"
   ]
  },
  {
   "cell_type": "code",
   "execution_count": 74,
   "metadata": {},
   "outputs": [
    {
     "data": {
      "image/png": "[encoded data removed]",
      "text/plain": [
       "<Figure size 432x288 with 1 Axes>"
      ]
     },
     "metadata": {
      "needs_background": "light"
     },
     "output_type": "display_data"
    }
   ],
   "source": [
    "plt.hist(data['weekday_exposition'], bins=30,range=(0,7))\n",
    "plt.title('День публикации')\n",
    "plt.ylabel('Количество квартир')\n",
    "plt.grid(True)\n",
    "plt.xticks(rotation=90)\n",
    "plt.show()"
   ]
  },
  {
   "cell_type": "code",
   "execution_count": 75,
   "metadata": {},
   "outputs": [
    {
     "data": {
      "image/png": "[encoded data removed]",
      "text/plain": [
       "<Figure size 432x288 with 1 Axes>"
      ]
     },
     "metadata": {
      "needs_background": "light"
     },
     "output_type": "display_data"
    }
   ],
   "source": [
    "plt.hist(data['month_exposition'], bins=30,range=(0,12))\n",
    "plt.title('Месяц публикации')\n",
    "plt.xlabel('Номер месяца')\n",
    "plt.ylabel('Количество квартир')\n",
    "plt.grid(True)\n",
    "plt.show()"
   ]
  },
  {
   "cell_type": "markdown",
   "metadata": {},
   "source": [
    "**Вывод:**"
   ]
  },
  {
   "cell_type": "markdown",
   "metadata": {},
   "source": [
    "- Обьявлений поданых в январе и мае меньше всего, скорей всего сваязанно с затяжными праздниками этих месяцев\n",
    "- Так же в выходныве дни реже всего выставляют квартиры на продаже"
   ]
  },
  {
   "cell_type": "markdown",
   "metadata": {},
   "source": [
    "<div class=\"alert alert-block alert-success\">✔️\n",
    "    \n",
    "\n",
    "__Комментарий от ревьюера №1__\n",
    "\n",
    "В мае все на шашлыках)\n",
    "</div>"
   ]
  },
  {
   "cell_type": "markdown",
   "metadata": {},
   "source": [
    "### Анализ растояния до центра/аэропорта/парка"
   ]
  },
  {
   "cell_type": "code",
   "execution_count": 76,
   "metadata": {
    "scrolled": true
   },
   "outputs": [
    {
     "data": {
      "image/png": "[encoded data removed]",
      "text/plain": [
       "<Figure size 432x288 with 1 Axes>"
      ]
     },
     "metadata": {
      "needs_background": "light"
     },
     "output_type": "display_data"
    }
   ],
   "source": [
    "plt.hist(data['city_centers_nearest'], bins=20,range=(0,50_000))\n",
    "plt.title('Растояние до центра города')\n",
    "plt.xlabel('метры')\n",
    "plt.ylabel('Количество квартир')\n",
    "plt.grid(True)\n",
    "plt.show()"
   ]
  },
  {
   "cell_type": "code",
   "execution_count": 77,
   "metadata": {},
   "outputs": [
    {
     "data": {
      "image/png": "[encoded data removed]",
      "text/plain": [
       "<Figure size 432x288 with 1 Axes>"
      ]
     },
     "metadata": {
      "needs_background": "light"
     },
     "output_type": "display_data"
    }
   ],
   "source": [
    "plt.hist(data['airports_nearest'], bins=10,range=(5000,60_000))\n",
    "plt.title('Растояние до аэропорта')\n",
    "plt.xlabel('метры')\n",
    "plt.ylabel('Количество квартир')\n",
    "plt.grid(True)\n",
    "plt.show()"
   ]
  },
  {
   "cell_type": "code",
   "execution_count": 78,
   "metadata": {},
   "outputs": [
    {
     "data": {
      "image/png": "[encoded data removed]",
      "text/plain": [
       "<Figure size 432x288 with 1 Axes>"
      ]
     },
     "metadata": {
      "needs_background": "light"
     },
     "output_type": "display_data"
    }
   ],
   "source": [
    "plt.hist(data['parks_nearest'], bins=30,range=(0,3000))\n",
    "plt.title('Растояние до парка')\n",
    "plt.xlabel('метры')\n",
    "plt.ylabel('Количество квартир')\n",
    "plt.grid(True)\n",
    "plt.show()"
   ]
  },
  {
   "cell_type": "markdown",
   "metadata": {},
   "source": [
    "**Вывод:**"
   ]
  },
  {
   "cell_type": "markdown",
   "metadata": {},
   "source": [
    "- Санкт-Петербург - город парков, больше всего квартир на растоянии 500 метров от парка, правда в этой графе больше всего пропусков, которые не востановил, так что данный график не показательный\n",
    "- Растояние до центра в основном в районе 15 000 метров (15км)\n",
    "- Основная масса продаж в районе 2-20 км от центра\n",
    "- Почти все продажи расположены на растоянии 10-50 км от аэропорта"
   ]
  },
  {
   "cell_type": "markdown",
   "metadata": {},
   "source": [
    "### Анализ скорости продажи квартиры"
   ]
  },
  {
   "cell_type": "code",
   "execution_count": 79,
   "metadata": {},
   "outputs": [
    {
     "data": {
      "text/plain": [
       "count    20394.000000\n",
       "mean       180.741395\n",
       "std        219.732782\n",
       "min          1.000000\n",
       "25%         45.000000\n",
       "50%         95.000000\n",
       "75%        231.000000\n",
       "max       1580.000000\n",
       "Name: days_exposition, dtype: float64"
      ]
     },
     "execution_count": 79,
     "metadata": {},
     "output_type": "execute_result"
    }
   ],
   "source": [
    "data['days_exposition'].describe()"
   ]
  },
  {
   "cell_type": "code",
   "execution_count": 80,
   "metadata": {},
   "outputs": [
    {
     "data": {
      "image/png": "[encoded data removed]",
      "text/plain": [
       "<Figure size 432x288 with 1 Axes>"
      ]
     },
     "metadata": {
      "needs_background": "light"
     },
     "output_type": "display_data"
    }
   ],
   "source": [
    "plt.hist(data['days_exposition'], bins=100,range=(0,250))\n",
    "plt.title('Время продажи')\n",
    "plt.xlabel('Кол-во дней')\n",
    "plt.ylabel('Количество квартир')\n",
    "plt.grid(True)\n",
    "plt.show()\n"
   ]
  },
  {
   "cell_type": "code",
   "execution_count": 81,
   "metadata": {},
   "outputs": [
    {
     "name": "stdout",
     "output_type": "stream",
     "text": [
      "Среднее количество дней в продаже: 181\n",
      "Медианное количество дней в продаже: 95\n"
     ]
    }
   ],
   "source": [
    "print('Среднее количество дней в продаже:', round(data['days_exposition'].mean()))\n",
    "print('Медианное количество дней в продаже:', round(data['days_exposition'].median()))"
   ]
  },
  {
   "cell_type": "markdown",
   "metadata": {},
   "source": [
    "**Вывод:**"
   ]
  },
  {
   "cell_type": "markdown",
   "metadata": {},
   "source": [
    "- Самые быстрые продажи - 45 дней\n",
    "- Долгие продажи - 230 дней и больше\n",
    "- В основном обьявления висят в районе 100 дней"
   ]
  },
  {
   "cell_type": "markdown",
   "metadata": {},
   "source": [
    "### Факторы стоимости"
   ]
  },
  {
   "cell_type": "markdown",
   "metadata": {},
   "source": [
    "#### Цена - общая площадь"
   ]
  },
  {
   "cell_type": "code",
   "execution_count": 82,
   "metadata": {},
   "outputs": [
    {
     "data": {
      "image/png": "[encoded data removed]",
      "text/plain": [
       "<Figure size 720x720 with 1 Axes>"
      ]
     },
     "metadata": {
      "needs_background": "light"
     },
     "output_type": "display_data"
    },
    {
     "name": "stdout",
     "output_type": "stream",
     "text": [
      "Корреляция цены к площади:\n"
     ]
    },
    {
     "data": {
      "text/html": [
       "<div>\n",
       "<style scoped>\n",
       "    .dataframe tbody tr th:only-of-type {\n",
       "        vertical-align: middle;\n",
       "    }\n",
       "\n",
       "    .dataframe tbody tr th {\n",
       "        vertical-align: top;\n",
       "    }\n",
       "\n",
       "    .dataframe thead th {\n",
       "        text-align: right;\n",
       "    }\n",
       "</style>\n",
       "<table border=\"1\" class=\"dataframe\">\n",
       "  <thead>\n",
       "    <tr style=\"text-align: right;\">\n",
       "      <th></th>\n",
       "      <th>last_price</th>\n",
       "      <th>total_area</th>\n",
       "    </tr>\n",
       "  </thead>\n",
       "  <tbody>\n",
       "    <tr>\n",
       "      <th>last_price</th>\n",
       "      <td>1.000000</td>\n",
       "      <td>0.934077</td>\n",
       "    </tr>\n",
       "    <tr>\n",
       "      <th>total_area</th>\n",
       "      <td>0.934077</td>\n",
       "      <td>1.000000</td>\n",
       "    </tr>\n",
       "  </tbody>\n",
       "</table>\n",
       "</div>"
      ],
      "text/plain": [
       "            last_price  total_area\n",
       "last_price    1.000000    0.934077\n",
       "total_area    0.934077    1.000000"
      ]
     },
     "execution_count": 82,
     "metadata": {},
     "output_type": "execute_result"
    }
   ],
   "source": [
    "data.pivot_table(index='total_area', values='last_price').plot(grid=True, style='o', figsize=(10,10))\n",
    "plt.show()\n",
    "print('Корреляция цены к площади:')\n",
    "data.pivot_table(index='balcony', values=['total_area', 'last_price']).corr()"
   ]
  },
  {
   "cell_type": "code",
   "execution_count": 83,
   "metadata": {},
   "outputs": [
    {
     "data": {
      "image/png": "[encoded data removed]",
      "text/plain": [
       "<Figure size 720x720 with 1 Axes>"
      ]
     },
     "metadata": {
      "needs_background": "light"
     },
     "output_type": "display_data"
    },
    {
     "name": "stdout",
     "output_type": "stream",
     "text": [
      "Корреляция цены к жилой площади:\n"
     ]
    },
    {
     "data": {
      "text/html": [
       "<div>\n",
       "<style scoped>\n",
       "    .dataframe tbody tr th:only-of-type {\n",
       "        vertical-align: middle;\n",
       "    }\n",
       "\n",
       "    .dataframe tbody tr th {\n",
       "        vertical-align: top;\n",
       "    }\n",
       "\n",
       "    .dataframe thead th {\n",
       "        text-align: right;\n",
       "    }\n",
       "</style>\n",
       "<table border=\"1\" class=\"dataframe\">\n",
       "  <thead>\n",
       "    <tr style=\"text-align: right;\">\n",
       "      <th></th>\n",
       "      <th>last_price</th>\n",
       "      <th>living_area</th>\n",
       "    </tr>\n",
       "  </thead>\n",
       "  <tbody>\n",
       "    <tr>\n",
       "      <th>last_price</th>\n",
       "      <td>1.000000</td>\n",
       "      <td>0.950633</td>\n",
       "    </tr>\n",
       "    <tr>\n",
       "      <th>living_area</th>\n",
       "      <td>0.950633</td>\n",
       "      <td>1.000000</td>\n",
       "    </tr>\n",
       "  </tbody>\n",
       "</table>\n",
       "</div>"
      ],
      "text/plain": [
       "             last_price  living_area\n",
       "last_price     1.000000     0.950633\n",
       "living_area    0.950633     1.000000"
      ]
     },
     "execution_count": 83,
     "metadata": {},
     "output_type": "execute_result"
    }
   ],
   "source": [
    "data.pivot_table(index='living_area', values='last_price').plot(grid=True, style='o', figsize=(10,10))\n",
    "plt.show()\n",
    "print('Корреляция цены к жилой площади:')\n",
    "data.pivot_table(index='balcony', values=['living_area', 'last_price']).corr()"
   ]
  },
  {
   "cell_type": "code",
   "execution_count": 84,
   "metadata": {},
   "outputs": [
    {
     "data": {
      "image/png": "[encoded data removed]",
      "text/plain": [
       "<Figure size 720x720 with 1 Axes>"
      ]
     },
     "metadata": {
      "needs_background": "light"
     },
     "output_type": "display_data"
    },
    {
     "name": "stdout",
     "output_type": "stream",
     "text": [
      "Корреляция цены к площади кухни:\n"
     ]
    },
    {
     "data": {
      "text/html": [
       "<div>\n",
       "<style scoped>\n",
       "    .dataframe tbody tr th:only-of-type {\n",
       "        vertical-align: middle;\n",
       "    }\n",
       "\n",
       "    .dataframe tbody tr th {\n",
       "        vertical-align: top;\n",
       "    }\n",
       "\n",
       "    .dataframe thead th {\n",
       "        text-align: right;\n",
       "    }\n",
       "</style>\n",
       "<table border=\"1\" class=\"dataframe\">\n",
       "  <thead>\n",
       "    <tr style=\"text-align: right;\">\n",
       "      <th></th>\n",
       "      <th>kitchen_area</th>\n",
       "      <th>last_price</th>\n",
       "    </tr>\n",
       "  </thead>\n",
       "  <tbody>\n",
       "    <tr>\n",
       "      <th>kitchen_area</th>\n",
       "      <td>1.000000</td>\n",
       "      <td>0.851183</td>\n",
       "    </tr>\n",
       "    <tr>\n",
       "      <th>last_price</th>\n",
       "      <td>0.851183</td>\n",
       "      <td>1.000000</td>\n",
       "    </tr>\n",
       "  </tbody>\n",
       "</table>\n",
       "</div>"
      ],
      "text/plain": [
       "              kitchen_area  last_price\n",
       "kitchen_area      1.000000    0.851183\n",
       "last_price        0.851183    1.000000"
      ]
     },
     "execution_count": 84,
     "metadata": {},
     "output_type": "execute_result"
    }
   ],
   "source": [
    "data.pivot_table(index='kitchen_area', values='last_price').plot(grid=True, style='o', figsize=(10,10))\n",
    "plt.show()\n",
    "print('Корреляция цены к площади кухни:')\n",
    "data.pivot_table(index='balcony', values=['kitchen_area', 'last_price']).corr()"
   ]
  },
  {
   "cell_type": "markdown",
   "metadata": {},
   "source": [
    "**Вывод:**"
   ]
  },
  {
   "cell_type": "markdown",
   "metadata": {},
   "source": [
    "На цену обьекта прямо влияет общая площадь, жилая площадь имеет максимальное влияние на цену, площадь кухни имеет меньшее влияние ценообразования, но тоже весьма существена"
   ]
  },
  {
   "cell_type": "markdown",
   "metadata": {},
   "source": [
    "#### Цена - кол-во комнат/этаж"
   ]
  },
  {
   "cell_type": "code",
   "execution_count": 85,
   "metadata": {},
   "outputs": [
    {
     "data": {
      "image/png": "[encoded data removed]",
      "text/plain": [
       "<Figure size 1440x720 with 1 Axes>"
      ]
     },
     "metadata": {
      "needs_background": "light"
     },
     "output_type": "display_data"
    },
    {
     "name": "stdout",
     "output_type": "stream",
     "text": [
      "Корреляция цены к количеству комнат:\n"
     ]
    },
    {
     "data": {
      "text/html": [
       "<div>\n",
       "<style scoped>\n",
       "    .dataframe tbody tr th:only-of-type {\n",
       "        vertical-align: middle;\n",
       "    }\n",
       "\n",
       "    .dataframe tbody tr th {\n",
       "        vertical-align: top;\n",
       "    }\n",
       "\n",
       "    .dataframe thead th {\n",
       "        text-align: right;\n",
       "    }\n",
       "</style>\n",
       "<table border=\"1\" class=\"dataframe\">\n",
       "  <thead>\n",
       "    <tr style=\"text-align: right;\">\n",
       "      <th></th>\n",
       "      <th>last_price</th>\n",
       "      <th>rooms</th>\n",
       "    </tr>\n",
       "  </thead>\n",
       "  <tbody>\n",
       "    <tr>\n",
       "      <th>last_price</th>\n",
       "      <td>1.000000</td>\n",
       "      <td>0.938947</td>\n",
       "    </tr>\n",
       "    <tr>\n",
       "      <th>rooms</th>\n",
       "      <td>0.938947</td>\n",
       "      <td>1.000000</td>\n",
       "    </tr>\n",
       "  </tbody>\n",
       "</table>\n",
       "</div>"
      ],
      "text/plain": [
       "            last_price     rooms\n",
       "last_price    1.000000  0.938947\n",
       "rooms         0.938947  1.000000"
      ]
     },
     "execution_count": 85,
     "metadata": {},
     "output_type": "execute_result"
    }
   ],
   "source": [
    "data.pivot_table(index='rooms', values='last_price').plot(grid=True, style='o-', figsize=(20,10))\n",
    "plt.show()\n",
    "print('Корреляция цены к количеству комнат:')\n",
    "data.pivot_table(index='balcony', values=['rooms', 'last_price']).corr()"
   ]
  },
  {
   "cell_type": "code",
   "execution_count": 86,
   "metadata": {},
   "outputs": [
    {
     "data": {
      "image/png": "[encoded data removed]",
      "text/plain": [
       "<Figure size 720x720 with 1 Axes>"
      ]
     },
     "metadata": {
      "needs_background": "light"
     },
     "output_type": "display_data"
    }
   ],
   "source": [
    "data.pivot_table(index='floor_name', values='last_price').plot(grid=True, style='o-', figsize=(10,10))\n",
    "plt.show()"
   ]
  },
  {
   "cell_type": "markdown",
   "metadata": {},
   "source": [
    "**Вывод:**"
   ]
  },
  {
   "cell_type": "markdown",
   "metadata": {},
   "source": [
    "Чем больше комнат, тем больше цена"
   ]
  },
  {
   "cell_type": "markdown",
   "metadata": {},
   "source": [
    "#### Цена - дата публикации"
   ]
  },
  {
   "cell_type": "code",
   "execution_count": 87,
   "metadata": {},
   "outputs": [
    {
     "data": {
      "image/png": "[encoded data removed]",
      "text/plain": [
       "<Figure size 360x360 with 1 Axes>"
      ]
     },
     "metadata": {
      "needs_background": "light"
     },
     "output_type": "display_data"
    }
   ],
   "source": [
    "data.pivot_table(index='weekday_exposition', values='last_price').plot(grid=True, style='o-', figsize=(5,5))\n",
    "plt.xticks(rotation=90)\n",
    "plt.show()"
   ]
  },
  {
   "cell_type": "code",
   "execution_count": 88,
   "metadata": {},
   "outputs": [
    {
     "data": {
      "image/png": "[encoded data removed]",
      "text/plain": [
       "<Figure size 360x360 with 1 Axes>"
      ]
     },
     "metadata": {
      "needs_background": "light"
     },
     "output_type": "display_data"
    },
    {
     "name": "stdout",
     "output_type": "stream",
     "text": [
      "Корреляция цены к месяцу:\n"
     ]
    },
    {
     "data": {
      "text/html": [
       "<div>\n",
       "<style scoped>\n",
       "    .dataframe tbody tr th:only-of-type {\n",
       "        vertical-align: middle;\n",
       "    }\n",
       "\n",
       "    .dataframe tbody tr th {\n",
       "        vertical-align: top;\n",
       "    }\n",
       "\n",
       "    .dataframe thead th {\n",
       "        text-align: right;\n",
       "    }\n",
       "</style>\n",
       "<table border=\"1\" class=\"dataframe\">\n",
       "  <thead>\n",
       "    <tr style=\"text-align: right;\">\n",
       "      <th></th>\n",
       "      <th>last_price</th>\n",
       "      <th>month_exposition</th>\n",
       "    </tr>\n",
       "  </thead>\n",
       "  <tbody>\n",
       "    <tr>\n",
       "      <th>last_price</th>\n",
       "      <td>1.000000</td>\n",
       "      <td>-0.877245</td>\n",
       "    </tr>\n",
       "    <tr>\n",
       "      <th>month_exposition</th>\n",
       "      <td>-0.877245</td>\n",
       "      <td>1.000000</td>\n",
       "    </tr>\n",
       "  </tbody>\n",
       "</table>\n",
       "</div>"
      ],
      "text/plain": [
       "                  last_price  month_exposition\n",
       "last_price          1.000000         -0.877245\n",
       "month_exposition   -0.877245          1.000000"
      ]
     },
     "execution_count": 88,
     "metadata": {},
     "output_type": "execute_result"
    }
   ],
   "source": [
    "data.pivot_table(index='month_exposition', values='last_price').plot(grid=True, style='o-', figsize=(5,5))\n",
    "plt.show()\n",
    "print('Корреляция цены к месяцу:')\n",
    "data.pivot_table(index='balcony', values=['month_exposition', 'last_price']).corr()"
   ]
  },
  {
   "cell_type": "code",
   "execution_count": null,
   "metadata": {},
   "outputs": [],
   "source": []
  },
  {
   "cell_type": "code",
   "execution_count": 89,
   "metadata": {},
   "outputs": [
    {
     "data": {
      "image/png": "[encoded data removed]",
      "text/plain": [
       "<Figure size 360x360 with 1 Axes>"
      ]
     },
     "metadata": {
      "needs_background": "light"
     },
     "output_type": "display_data"
    },
    {
     "name": "stdout",
     "output_type": "stream",
     "text": [
      "Корреляция цены к году:\n"
     ]
    },
    {
     "data": {
      "text/html": [
       "<div>\n",
       "<style scoped>\n",
       "    .dataframe tbody tr th:only-of-type {\n",
       "        vertical-align: middle;\n",
       "    }\n",
       "\n",
       "    .dataframe tbody tr th {\n",
       "        vertical-align: top;\n",
       "    }\n",
       "\n",
       "    .dataframe thead th {\n",
       "        text-align: right;\n",
       "    }\n",
       "</style>\n",
       "<table border=\"1\" class=\"dataframe\">\n",
       "  <thead>\n",
       "    <tr style=\"text-align: right;\">\n",
       "      <th></th>\n",
       "      <th>last_price</th>\n",
       "      <th>year_exposition</th>\n",
       "    </tr>\n",
       "  </thead>\n",
       "  <tbody>\n",
       "    <tr>\n",
       "      <th>last_price</th>\n",
       "      <td>1.000000</td>\n",
       "      <td>0.369223</td>\n",
       "    </tr>\n",
       "    <tr>\n",
       "      <th>year_exposition</th>\n",
       "      <td>0.369223</td>\n",
       "      <td>1.000000</td>\n",
       "    </tr>\n",
       "  </tbody>\n",
       "</table>\n",
       "</div>"
      ],
      "text/plain": [
       "                 last_price  year_exposition\n",
       "last_price         1.000000         0.369223\n",
       "year_exposition    0.369223         1.000000"
      ]
     },
     "execution_count": 89,
     "metadata": {},
     "output_type": "execute_result"
    }
   ],
   "source": [
    "data.pivot_table(index='year_exposition', values='last_price').plot(grid=True, style='o-', figsize=(5,5))\n",
    "plt.show()\n",
    "print('Корреляция цены к году:')\n",
    "data.pivot_table(index='balcony', values=['year_exposition', 'last_price']).corr()"
   ]
  },
  {
   "cell_type": "markdown",
   "metadata": {},
   "source": [
    "**Вывод:**"
   ]
  },
  {
   "cell_type": "markdown",
   "metadata": {},
   "source": [
    "- Цена квартир падает с 2014 по 2018 год, но после 2018 года цена начала снова повышаться\n",
    "- Самые дорогие квартиры опубликовали в среду, субботу и четверг\n",
    "- самые дорогие месяца по публикации квартир это апрель и сентябрь, хотя в декабре тоже есть дорогие обьявления"
   ]
  },
  {
   "cell_type": "code",
   "execution_count": 90,
   "metadata": {
    "scrolled": false
   },
   "outputs": [
    {
     "data": {
      "image/png": "[encoded data removed]",
      "text/plain": [
       "<Figure size 360x360 with 1 Axes>"
      ]
     },
     "metadata": {
      "needs_background": "light"
     },
     "output_type": "display_data"
    },
    {
     "name": "stdout",
     "output_type": "stream",
     "text": [
      "Корреляция метра к площади квартиры:\n"
     ]
    },
    {
     "data": {
      "text/html": [
       "<div>\n",
       "<style scoped>\n",
       "    .dataframe tbody tr th:only-of-type {\n",
       "        vertical-align: middle;\n",
       "    }\n",
       "\n",
       "    .dataframe tbody tr th {\n",
       "        vertical-align: top;\n",
       "    }\n",
       "\n",
       "    .dataframe thead th {\n",
       "        text-align: right;\n",
       "    }\n",
       "</style>\n",
       "<table border=\"1\" class=\"dataframe\">\n",
       "  <thead>\n",
       "    <tr style=\"text-align: right;\">\n",
       "      <th></th>\n",
       "      <th>price_metr</th>\n",
       "      <th>total_area</th>\n",
       "    </tr>\n",
       "  </thead>\n",
       "  <tbody>\n",
       "    <tr>\n",
       "      <th>price_metr</th>\n",
       "      <td>1.000000</td>\n",
       "      <td>0.808354</td>\n",
       "    </tr>\n",
       "    <tr>\n",
       "      <th>total_area</th>\n",
       "      <td>0.808354</td>\n",
       "      <td>1.000000</td>\n",
       "    </tr>\n",
       "  </tbody>\n",
       "</table>\n",
       "</div>"
      ],
      "text/plain": [
       "            price_metr  total_area\n",
       "price_metr    1.000000    0.808354\n",
       "total_area    0.808354    1.000000"
      ]
     },
     "execution_count": 90,
     "metadata": {},
     "output_type": "execute_result"
    }
   ],
   "source": [
    "data.pivot_table(index='total_area', values='price_metr').plot(grid=True, style='o', figsize=(5,5))\n",
    "plt.show()\n",
    "print('Корреляция метра к площади квартиры:')\n",
    "data.pivot_table(index='balcony', values=['total_area', 'price_metr']).corr()"
   ]
  },
  {
   "cell_type": "markdown",
   "metadata": {},
   "source": [
    "### Cредняя цена одного квадратного метра в 10 населённых пунктах "
   ]
  },
  {
   "cell_type": "code",
   "execution_count": 91,
   "metadata": {},
   "outputs": [],
   "source": [
    "data_mean_10 = data['locality_name'].value_counts().head(10)"
   ]
  },
  {
   "cell_type": "code",
   "execution_count": 92,
   "metadata": {
    "scrolled": false
   },
   "outputs": [],
   "source": [
    "mean_price_10 = (data.query('locality_name in (@data_mean_10.index)')\n",
    "                            .pivot_table(index = 'locality_name', values = 'price_metr')\n",
    "                )"
   ]
  },
  {
   "cell_type": "code",
   "execution_count": 93,
   "metadata": {
    "scrolled": true
   },
   "outputs": [
    {
     "data": {
      "text/html": [
       "<div>\n",
       "<style scoped>\n",
       "    .dataframe tbody tr th:only-of-type {\n",
       "        vertical-align: middle;\n",
       "    }\n",
       "\n",
       "    .dataframe tbody tr th {\n",
       "        vertical-align: top;\n",
       "    }\n",
       "\n",
       "    .dataframe thead th {\n",
       "        text-align: right;\n",
       "    }\n",
       "</style>\n",
       "<table border=\"1\" class=\"dataframe\">\n",
       "  <thead>\n",
       "    <tr style=\"text-align: right;\">\n",
       "      <th></th>\n",
       "      <th>price_metr</th>\n",
       "    </tr>\n",
       "    <tr>\n",
       "      <th>locality_name</th>\n",
       "      <th></th>\n",
       "    </tr>\n",
       "  </thead>\n",
       "  <tbody>\n",
       "    <tr>\n",
       "      <th>санкт-петербург</th>\n",
       "      <td>114868</td>\n",
       "    </tr>\n",
       "    <tr>\n",
       "      <th>пушкин</th>\n",
       "      <td>103125</td>\n",
       "    </tr>\n",
       "    <tr>\n",
       "      <th>деревня кудрово</th>\n",
       "      <td>92473</td>\n",
       "    </tr>\n",
       "    <tr>\n",
       "      <th>пгт парголово</th>\n",
       "      <td>90175</td>\n",
       "    </tr>\n",
       "    <tr>\n",
       "      <th>пгт мурино</th>\n",
       "      <td>85629</td>\n",
       "    </tr>\n",
       "    <tr>\n",
       "      <th>пгт шушары</th>\n",
       "      <td>78551</td>\n",
       "    </tr>\n",
       "    <tr>\n",
       "      <th>колпино</th>\n",
       "      <td>75424</td>\n",
       "    </tr>\n",
       "    <tr>\n",
       "      <th>гатчина</th>\n",
       "      <td>68746</td>\n",
       "    </tr>\n",
       "    <tr>\n",
       "      <th>всеволожск</th>\n",
       "      <td>68654</td>\n",
       "    </tr>\n",
       "    <tr>\n",
       "      <th>выборг</th>\n",
       "      <td>58141</td>\n",
       "    </tr>\n",
       "  </tbody>\n",
       "</table>\n",
       "</div>"
      ],
      "text/plain": [
       "                 price_metr\n",
       "locality_name              \n",
       "санкт-петербург      114868\n",
       "пушкин               103125\n",
       "деревня кудрово       92473\n",
       "пгт парголово         90175\n",
       "пгт мурино            85629\n",
       "пгт шушары            78551\n",
       "колпино               75424\n",
       "гатчина               68746\n",
       "всеволожск            68654\n",
       "выборг                58141"
      ]
     },
     "execution_count": 93,
     "metadata": {},
     "output_type": "execute_result"
    }
   ],
   "source": [
    "mean_price_10.astype(int).sort_values('price_metr', ascending=False)"
   ]
  },
  {
   "cell_type": "code",
   "execution_count": 94,
   "metadata": {},
   "outputs": [
    {
     "name": "stdout",
     "output_type": "stream",
     "text": [
      "Самый дорогой квадратный метр:\n"
     ]
    },
    {
     "data": {
      "text/html": [
       "<div>\n",
       "<style scoped>\n",
       "    .dataframe tbody tr th:only-of-type {\n",
       "        vertical-align: middle;\n",
       "    }\n",
       "\n",
       "    .dataframe tbody tr th {\n",
       "        vertical-align: top;\n",
       "    }\n",
       "\n",
       "    .dataframe thead th {\n",
       "        text-align: right;\n",
       "    }\n",
       "</style>\n",
       "<table border=\"1\" class=\"dataframe\">\n",
       "  <thead>\n",
       "    <tr style=\"text-align: right;\">\n",
       "      <th></th>\n",
       "      <th>price_metr</th>\n",
       "    </tr>\n",
       "    <tr>\n",
       "      <th>locality_name</th>\n",
       "      <th></th>\n",
       "    </tr>\n",
       "  </thead>\n",
       "  <tbody>\n",
       "    <tr>\n",
       "      <th>санкт-петербург</th>\n",
       "      <td>1907500</td>\n",
       "    </tr>\n",
       "    <tr>\n",
       "      <th>всеволожск</th>\n",
       "      <td>640422</td>\n",
       "    </tr>\n",
       "    <tr>\n",
       "      <th>зеленогорск</th>\n",
       "      <td>323943</td>\n",
       "    </tr>\n",
       "    <tr>\n",
       "      <th>пушкин</th>\n",
       "      <td>256521</td>\n",
       "    </tr>\n",
       "    <tr>\n",
       "      <th>петергоф</th>\n",
       "      <td>225971</td>\n",
       "    </tr>\n",
       "  </tbody>\n",
       "</table>\n",
       "</div>"
      ],
      "text/plain": [
       "                 price_metr\n",
       "locality_name              \n",
       "санкт-петербург     1907500\n",
       "всеволожск           640422\n",
       "зеленогорск          323943\n",
       "пушкин               256521\n",
       "петергоф             225971"
      ]
     },
     "execution_count": 94,
     "metadata": {},
     "output_type": "execute_result"
    }
   ],
   "source": [
    "print('Самый дорогой квадратный метр:')\n",
    "(data.pivot_table(index = 'locality_name', values = 'price_metr', aggfunc = max)\n",
    " .sort_values('price_metr', ascending=False)\n",
    " .astype(int)\n",
    " .head()\n",
    ")"
   ]
  },
  {
   "cell_type": "code",
   "execution_count": 95,
   "metadata": {},
   "outputs": [
    {
     "name": "stdout",
     "output_type": "stream",
     "text": [
      "Самый дешёвый квадратный метр:\n"
     ]
    },
    {
     "data": {
      "text/html": [
       "<div>\n",
       "<style scoped>\n",
       "    .dataframe tbody tr th:only-of-type {\n",
       "        vertical-align: middle;\n",
       "    }\n",
       "\n",
       "    .dataframe tbody tr th {\n",
       "        vertical-align: top;\n",
       "    }\n",
       "\n",
       "    .dataframe thead th {\n",
       "        text-align: right;\n",
       "    }\n",
       "</style>\n",
       "<table border=\"1\" class=\"dataframe\">\n",
       "  <thead>\n",
       "    <tr style=\"text-align: right;\">\n",
       "      <th></th>\n",
       "      <th>price_metr</th>\n",
       "    </tr>\n",
       "    <tr>\n",
       "      <th>locality_name</th>\n",
       "      <th></th>\n",
       "    </tr>\n",
       "  </thead>\n",
       "  <tbody>\n",
       "    <tr>\n",
       "      <th>деревня вахнова кара</th>\n",
       "      <td>11688</td>\n",
       "    </tr>\n",
       "    <tr>\n",
       "      <th>деревня старополье</th>\n",
       "      <td>12250</td>\n",
       "    </tr>\n",
       "    <tr>\n",
       "      <th>пгт совхозный</th>\n",
       "      <td>12702</td>\n",
       "    </tr>\n",
       "    <tr>\n",
       "      <th>деревня малая романовка</th>\n",
       "      <td>12724</td>\n",
       "    </tr>\n",
       "    <tr>\n",
       "      <th>пгт тёсово-4</th>\n",
       "      <td>12931</td>\n",
       "    </tr>\n",
       "  </tbody>\n",
       "</table>\n",
       "</div>"
      ],
      "text/plain": [
       "                         price_metr\n",
       "locality_name                      \n",
       "деревня вахнова кара          11688\n",
       "деревня старополье            12250\n",
       "пгт совхозный                 12702\n",
       "деревня малая романовка       12724\n",
       "пгт тёсово-4                  12931"
      ]
     },
     "execution_count": 95,
     "metadata": {},
     "output_type": "execute_result"
    }
   ],
   "source": [
    "print('Самый дешёвый квадратный метр:')\n",
    "(data.pivot_table(index = 'locality_name', values = 'price_metr', aggfunc = max)\n",
    " .sort_values('price_metr')\n",
    " .astype(int)\n",
    " .head()\n",
    ")"
   ]
  },
  {
   "cell_type": "markdown",
   "metadata": {},
   "source": [
    "**Вывод:**"
   ]
  },
  {
   "cell_type": "markdown",
   "metadata": {},
   "source": [
    "- Самые дорогие квартиры в Санкт-Петербурге, правда и так понятно что \"Вторая столица\" будет самой дорогой, за ним город пушкин\n",
    "- максимальная цена за квадратный метр в Питере - почти 2 миллиона\n",
    "- самая маленькая цена за квадратный метр в деревне Вахнова Кара - 11500"
   ]
  },
  {
   "cell_type": "markdown",
   "metadata": {},
   "source": [
    "#### Цена килломента в Санкт-Петербурге"
   ]
  },
  {
   "cell_type": "code",
   "execution_count": 96,
   "metadata": {},
   "outputs": [
    {
     "data": {
      "text/plain": [
       "<AxesSubplot:xlabel='Километр', ylabel='цена'>"
      ]
     },
     "execution_count": 96,
     "metadata": {},
     "output_type": "execute_result"
    },
    {
     "data": {
      "image/png": "[encoded data removed]",
      "text/plain": [
       "<Figure size 1440x720 with 1 Axes>"
      ]
     },
     "metadata": {
      "needs_background": "light"
     },
     "output_type": "display_data"
    }
   ],
   "source": [
    "(data.query('locality_name == \"санкт-петербург\"')\n",
    " .pivot_table(index='city_centers_nearest_km', values='last_price')\n",
    " .plot(grid=True, style='o-', xlim=(0,20), figsize=(20, 10), xlabel='Километр', ylabel='цена')\n",
    "\n",
    ")"
   ]
  },
  {
   "cell_type": "markdown",
   "metadata": {},
   "source": [
    "**Вывод:**"
   ]
  },
  {
   "cell_type": "markdown",
   "metadata": {},
   "source": [
    "- на растоянии до 1 км от центра самые дорогие квартиры\n",
    "- со 2км до 7 км основное ценообразование по обьявлениям\n",
    "- после 7км идет резкий спад стоимости жилья в Санкт-Петербурге"
   ]
  },
  {
   "cell_type": "code",
   "execution_count": 97,
   "metadata": {
    "scrolled": true
   },
   "outputs": [
    {
     "name": "stdout",
     "output_type": "stream",
     "text": [
      "Средняя цена квадратного метра по удаленности от центра:\n"
     ]
    },
    {
     "data": {
      "text/html": [
       "<div>\n",
       "<style scoped>\n",
       "    .dataframe tbody tr th:only-of-type {\n",
       "        vertical-align: middle;\n",
       "    }\n",
       "\n",
       "    .dataframe tbody tr th {\n",
       "        vertical-align: top;\n",
       "    }\n",
       "\n",
       "    .dataframe thead th {\n",
       "        text-align: right;\n",
       "    }\n",
       "</style>\n",
       "<table border=\"1\" class=\"dataframe\">\n",
       "  <thead>\n",
       "    <tr style=\"text-align: right;\">\n",
       "      <th></th>\n",
       "      <th>last_price</th>\n",
       "    </tr>\n",
       "    <tr>\n",
       "      <th>city_centers_nearest_km</th>\n",
       "      <th></th>\n",
       "    </tr>\n",
       "  </thead>\n",
       "  <tbody>\n",
       "    <tr>\n",
       "      <th>0.0</th>\n",
       "      <td>31449115</td>\n",
       "    </tr>\n",
       "    <tr>\n",
       "      <th>1.0</th>\n",
       "      <td>21206720</td>\n",
       "    </tr>\n",
       "    <tr>\n",
       "      <th>2.0</th>\n",
       "      <td>17788319</td>\n",
       "    </tr>\n",
       "    <tr>\n",
       "      <th>3.0</th>\n",
       "      <td>11137394</td>\n",
       "    </tr>\n",
       "    <tr>\n",
       "      <th>4.0</th>\n",
       "      <td>13304279</td>\n",
       "    </tr>\n",
       "    <tr>\n",
       "      <th>5.0</th>\n",
       "      <td>14455995</td>\n",
       "    </tr>\n",
       "    <tr>\n",
       "      <th>6.0</th>\n",
       "      <td>15338418</td>\n",
       "    </tr>\n",
       "    <tr>\n",
       "      <th>7.0</th>\n",
       "      <td>14775152</td>\n",
       "    </tr>\n",
       "    <tr>\n",
       "      <th>8.0</th>\n",
       "      <td>9949111</td>\n",
       "    </tr>\n",
       "    <tr>\n",
       "      <th>9.0</th>\n",
       "      <td>6956582</td>\n",
       "    </tr>\n",
       "    <tr>\n",
       "      <th>10.0</th>\n",
       "      <td>6500434</td>\n",
       "    </tr>\n",
       "    <tr>\n",
       "      <th>11.0</th>\n",
       "      <td>6228107</td>\n",
       "    </tr>\n",
       "    <tr>\n",
       "      <th>12.0</th>\n",
       "      <td>5834618</td>\n",
       "    </tr>\n",
       "    <tr>\n",
       "      <th>13.0</th>\n",
       "      <td>6077642</td>\n",
       "    </tr>\n",
       "    <tr>\n",
       "      <th>14.0</th>\n",
       "      <td>5625172</td>\n",
       "    </tr>\n",
       "  </tbody>\n",
       "</table>\n",
       "</div>"
      ],
      "text/plain": [
       "                         last_price\n",
       "city_centers_nearest_km            \n",
       "0.0                        31449115\n",
       "1.0                        21206720\n",
       "2.0                        17788319\n",
       "3.0                        11137394\n",
       "4.0                        13304279\n",
       "5.0                        14455995\n",
       "6.0                        15338418\n",
       "7.0                        14775152\n",
       "8.0                         9949111\n",
       "9.0                         6956582\n",
       "10.0                        6500434\n",
       "11.0                        6228107\n",
       "12.0                        5834618\n",
       "13.0                        6077642\n",
       "14.0                        5625172"
      ]
     },
     "execution_count": 97,
     "metadata": {},
     "output_type": "execute_result"
    }
   ],
   "source": [
    "print('Средняя цена квадратного метра по удаленности от центра:')\n",
    "(data.query('locality_name == \"санкт-петербург\"')\n",
    " .pivot_table(index='city_centers_nearest_km', values='last_price', aggfunc = 'mean')\n",
    " .astype(int)\n",
    " .head(15)\n",
    ")"
   ]
  },
  {
   "cell_type": "markdown",
   "metadata": {},
   "source": [
    "## Общий вывод"
   ]
  },
  {
   "cell_type": "markdown",
   "metadata": {},
   "source": [
    "**Самым трудоемким процессом оказался как и обучают предобработка данных, в дальнейшем были небольшие заминки по построению графиков, но в целом все получилось**\n",
    "<br>**В анаолизе видно что самые дорогие квартиры как и предпологалось в самом центре**<br>\n",
    "<br>**Так же встречались аномальные значения в высоте потолков - 27 метров или вообще 100 метров, проверив иднивидуально убедился что это аномалии и исправил их**<br>\n",
    "<br>**На стоимость квартир очень влияет площадь и жилая площадь обдьекта, так же как и количество комнат(хотя странно было бы если 200 метровая квартира была бы 1-комнатная)**<br>\n",
    "<br>**Люди реже выставляют обьявления в выходные и праздничные месяца**<br>"
   ]
  }
 ],
 "metadata": {
  "ExecuteTimeLog": [
   {
    "duration": 436,
    "start_time": "2022-07-15T06:22:26.436Z"
   },
   {
    "duration": 135,
    "start_time": "2022-07-15T06:22:44.437Z"
   },
   {
    "duration": 13,
    "start_time": "2022-07-15T06:22:53.172Z"
   },
   {
    "duration": 14,
    "start_time": "2022-07-15T06:23:06.386Z"
   },
   {
    "duration": 15,
    "start_time": "2022-07-15T06:23:33.273Z"
   },
   {
    "duration": 4,
    "start_time": "2022-07-15T06:25:09.151Z"
   },
   {
    "duration": 102,
    "start_time": "2022-07-15T06:25:09.468Z"
   },
   {
    "duration": 6,
    "start_time": "2022-07-15T06:28:17.995Z"
   },
   {
    "duration": 81,
    "start_time": "2022-07-15T06:28:18.389Z"
   },
   {
    "duration": 16,
    "start_time": "2022-07-15T06:28:30.327Z"
   },
   {
    "duration": 106,
    "start_time": "2022-07-15T06:29:34.874Z"
   },
   {
    "duration": 2,
    "start_time": "2022-07-15T06:29:47.150Z"
   },
   {
    "duration": 78,
    "start_time": "2022-07-15T06:29:47.575Z"
   },
   {
    "duration": 377,
    "start_time": "2022-07-15T06:29:51.569Z"
   },
   {
    "duration": 92,
    "start_time": "2022-07-15T06:29:51.948Z"
   },
   {
    "duration": 0,
    "start_time": "2022-07-15T06:29:52.041Z"
   },
   {
    "duration": 84,
    "start_time": "2022-07-15T06:30:35.560Z"
   },
   {
    "duration": 96,
    "start_time": "2022-07-15T06:30:48.528Z"
   },
   {
    "duration": 83,
    "start_time": "2022-07-15T06:31:50.020Z"
   },
   {
    "duration": 13,
    "start_time": "2022-07-15T06:31:51.580Z"
   },
   {
    "duration": 14,
    "start_time": "2022-07-15T06:32:03.323Z"
   },
   {
    "duration": 97,
    "start_time": "2022-07-15T06:32:21.671Z"
   },
   {
    "duration": 8,
    "start_time": "2022-07-15T06:32:22.868Z"
   },
   {
    "duration": 84,
    "start_time": "2022-07-15T06:33:16.610Z"
   },
   {
    "duration": 8,
    "start_time": "2022-07-15T06:33:17.383Z"
   },
   {
    "duration": 13,
    "start_time": "2022-07-15T06:33:17.988Z"
   },
   {
    "duration": 96,
    "start_time": "2022-07-15T06:34:43.116Z"
   },
   {
    "duration": 23,
    "start_time": "2022-07-15T06:34:43.789Z"
   },
   {
    "duration": 14,
    "start_time": "2022-07-15T06:39:05.386Z"
   },
   {
    "duration": 77,
    "start_time": "2022-07-15T06:41:49.900Z"
   },
   {
    "duration": 13,
    "start_time": "2022-07-15T06:41:50.467Z"
   },
   {
    "duration": 102,
    "start_time": "2022-07-15T06:42:15.744Z"
   },
   {
    "duration": 13,
    "start_time": "2022-07-15T06:42:17.170Z"
   },
   {
    "duration": 110,
    "start_time": "2022-07-15T06:43:29.185Z"
   },
   {
    "duration": 14,
    "start_time": "2022-07-15T06:43:30.996Z"
   },
   {
    "duration": 76,
    "start_time": "2022-07-15T06:43:41.946Z"
   },
   {
    "duration": 13,
    "start_time": "2022-07-15T06:43:42.441Z"
   },
   {
    "duration": 99,
    "start_time": "2022-07-15T06:43:59.432Z"
   },
   {
    "duration": 15,
    "start_time": "2022-07-15T06:44:09.218Z"
   },
   {
    "duration": 109,
    "start_time": "2022-07-15T06:50:04.631Z"
   },
   {
    "duration": 14,
    "start_time": "2022-07-15T06:50:05.629Z"
   },
   {
    "duration": 76,
    "start_time": "2022-07-15T06:50:40.896Z"
   },
   {
    "duration": 8,
    "start_time": "2022-07-15T06:56:51.382Z"
   },
   {
    "duration": 469,
    "start_time": "2022-07-15T06:57:26.462Z"
   },
   {
    "duration": 101,
    "start_time": "2022-07-15T06:57:26.933Z"
   },
   {
    "duration": 12,
    "start_time": "2022-07-15T06:57:27.036Z"
   },
   {
    "duration": 133,
    "start_time": "2022-07-15T06:57:27.051Z"
   },
   {
    "duration": 13,
    "start_time": "2022-07-15T06:57:27.187Z"
   },
   {
    "duration": 37,
    "start_time": "2022-07-15T06:57:27.203Z"
   },
   {
    "duration": 32,
    "start_time": "2022-07-15T06:58:12.074Z"
   },
   {
    "duration": 398,
    "start_time": "2022-07-15T06:59:54.292Z"
   },
   {
    "duration": 92,
    "start_time": "2022-07-15T06:59:54.695Z"
   },
   {
    "duration": 12,
    "start_time": "2022-07-15T06:59:54.789Z"
   },
   {
    "duration": 2216,
    "start_time": "2022-07-15T06:59:54.803Z"
   },
   {
    "duration": 0,
    "start_time": "2022-07-15T06:59:57.020Z"
   },
   {
    "duration": 0,
    "start_time": "2022-07-15T06:59:57.022Z"
   },
   {
    "duration": 2,
    "start_time": "2022-07-15T07:02:01.314Z"
   },
   {
    "duration": 155,
    "start_time": "2022-07-15T07:02:02.045Z"
   },
   {
    "duration": 3,
    "start_time": "2022-07-15T07:02:07.596Z"
   },
   {
    "duration": 2075,
    "start_time": "2022-07-15T07:02:08.190Z"
   },
   {
    "duration": 12,
    "start_time": "2022-07-15T07:02:10.538Z"
   },
   {
    "duration": 82,
    "start_time": "2022-07-15T07:02:19.336Z"
   },
   {
    "duration": 16,
    "start_time": "2022-07-15T07:02:20.170Z"
   },
   {
    "duration": 2108,
    "start_time": "2022-07-15T07:02:24.693Z"
   },
   {
    "duration": 0,
    "start_time": "2022-07-15T07:02:26.803Z"
   },
   {
    "duration": 371,
    "start_time": "2022-07-15T07:02:31.996Z"
   },
   {
    "duration": 92,
    "start_time": "2022-07-15T07:02:32.369Z"
   },
   {
    "duration": 14,
    "start_time": "2022-07-15T07:02:32.462Z"
   },
   {
    "duration": 1845,
    "start_time": "2022-07-15T07:02:32.478Z"
   },
   {
    "duration": 0,
    "start_time": "2022-07-15T07:02:34.325Z"
   },
   {
    "duration": 0,
    "start_time": "2022-07-15T07:02:34.326Z"
   },
   {
    "duration": 101,
    "start_time": "2022-07-15T07:02:42.009Z"
   },
   {
    "duration": 16,
    "start_time": "2022-07-15T07:02:43.162Z"
   },
   {
    "duration": 8,
    "start_time": "2022-07-15T07:06:24.794Z"
   },
   {
    "duration": 13,
    "start_time": "2022-07-15T07:06:25.509Z"
   },
   {
    "duration": 81,
    "start_time": "2022-07-15T07:06:35.098Z"
   },
   {
    "duration": 13,
    "start_time": "2022-07-15T07:06:37.888Z"
   },
   {
    "duration": 14,
    "start_time": "2022-07-15T07:06:41.246Z"
   },
   {
    "duration": 97,
    "start_time": "2022-07-15T07:07:34.427Z"
   },
   {
    "duration": 73,
    "start_time": "2022-07-15T07:07:45.715Z"
   },
   {
    "duration": 14,
    "start_time": "2022-07-15T07:07:46.461Z"
   },
   {
    "duration": 8,
    "start_time": "2022-07-15T07:07:49.074Z"
   },
   {
    "duration": 6,
    "start_time": "2022-07-15T07:07:57.717Z"
   },
   {
    "duration": 89,
    "start_time": "2022-07-15T07:08:06.923Z"
   },
   {
    "duration": 12,
    "start_time": "2022-07-15T07:08:07.329Z"
   },
   {
    "duration": 11,
    "start_time": "2022-07-15T07:08:08.845Z"
   },
   {
    "duration": 102,
    "start_time": "2022-07-15T07:08:20.479Z"
   },
   {
    "duration": 16,
    "start_time": "2022-07-15T07:08:20.896Z"
   },
   {
    "duration": 21,
    "start_time": "2022-07-15T07:08:22.648Z"
   },
   {
    "duration": 370,
    "start_time": "2022-07-15T07:08:40.519Z"
   },
   {
    "duration": 0,
    "start_time": "2022-07-15T07:08:40.891Z"
   },
   {
    "duration": 1582,
    "start_time": "2022-07-15T07:09:33.580Z"
   },
   {
    "duration": 0,
    "start_time": "2022-07-15T07:09:35.163Z"
   },
   {
    "duration": 1548,
    "start_time": "2022-07-15T07:11:18.269Z"
   },
   {
    "duration": 107,
    "start_time": "2022-07-15T07:11:24.576Z"
   },
   {
    "duration": 11,
    "start_time": "2022-07-15T07:11:25.190Z"
   },
   {
    "duration": 8,
    "start_time": "2022-07-15T07:11:27.880Z"
   },
   {
    "duration": 80,
    "start_time": "2022-07-15T07:12:18.912Z"
   },
   {
    "duration": 12,
    "start_time": "2022-07-15T07:12:20.028Z"
   },
   {
    "duration": 6,
    "start_time": "2022-07-15T07:12:25.275Z"
   },
   {
    "duration": 418,
    "start_time": "2022-07-15T07:14:05.675Z"
   },
   {
    "duration": 77,
    "start_time": "2022-07-15T07:14:17.385Z"
   },
   {
    "duration": 13,
    "start_time": "2022-07-15T07:14:18.715Z"
   },
   {
    "duration": 6,
    "start_time": "2022-07-15T07:14:19.750Z"
   },
   {
    "duration": 2085,
    "start_time": "2022-07-15T07:16:23.393Z"
   },
   {
    "duration": 0,
    "start_time": "2022-07-15T07:16:25.480Z"
   },
   {
    "duration": 78,
    "start_time": "2022-07-15T07:18:30.807Z"
   },
   {
    "duration": 13,
    "start_time": "2022-07-15T07:18:31.933Z"
   },
   {
    "duration": 6,
    "start_time": "2022-07-15T07:18:38.119Z"
   },
   {
    "duration": 442,
    "start_time": "2022-07-15T07:20:05.750Z"
   },
   {
    "duration": 0,
    "start_time": "2022-07-15T07:20:06.194Z"
   },
   {
    "duration": 85,
    "start_time": "2022-07-15T07:20:13.252Z"
   },
   {
    "duration": 15,
    "start_time": "2022-07-15T07:20:14.171Z"
   },
   {
    "duration": 30,
    "start_time": "2022-07-15T07:20:17.067Z"
   },
   {
    "duration": 74,
    "start_time": "2022-07-15T07:21:17.367Z"
   },
   {
    "duration": 13,
    "start_time": "2022-07-15T07:21:17.933Z"
   },
   {
    "duration": 6,
    "start_time": "2022-07-15T07:21:19.325Z"
   },
   {
    "duration": 83,
    "start_time": "2022-07-15T07:23:27.716Z"
   },
   {
    "duration": 13,
    "start_time": "2022-07-15T07:23:28.104Z"
   },
   {
    "duration": 6,
    "start_time": "2022-07-15T07:23:29.474Z"
   },
   {
    "duration": 76,
    "start_time": "2022-07-15T07:23:51.597Z"
   },
   {
    "duration": 7,
    "start_time": "2022-07-15T07:28:11.362Z"
   },
   {
    "duration": 78,
    "start_time": "2022-07-15T07:29:18.266Z"
   },
   {
    "duration": 86,
    "start_time": "2022-07-15T07:29:24.193Z"
   },
   {
    "duration": 15,
    "start_time": "2022-07-15T07:29:31.711Z"
   },
   {
    "duration": 27,
    "start_time": "2022-07-15T07:30:45.724Z"
   },
   {
    "duration": 28,
    "start_time": "2022-07-15T09:02:45.947Z"
   },
   {
    "duration": 2,
    "start_time": "2022-07-15T09:02:50.680Z"
   },
   {
    "duration": 401,
    "start_time": "2022-07-15T09:02:54.751Z"
   },
   {
    "duration": 88,
    "start_time": "2022-07-15T09:02:55.154Z"
   },
   {
    "duration": 12,
    "start_time": "2022-07-15T09:02:55.244Z"
   },
   {
    "duration": 22,
    "start_time": "2022-07-15T09:02:55.257Z"
   },
   {
    "duration": 74,
    "start_time": "2022-07-15T09:02:55.281Z"
   },
   {
    "duration": 13,
    "start_time": "2022-07-15T09:02:55.357Z"
   },
   {
    "duration": 24,
    "start_time": "2022-07-15T09:02:55.372Z"
   },
   {
    "duration": 79,
    "start_time": "2022-07-15T09:07:05.383Z"
   },
   {
    "duration": 1420,
    "start_time": "2022-07-15T09:08:08.914Z"
   },
   {
    "duration": 1975,
    "start_time": "2022-07-15T09:08:29.420Z"
   },
   {
    "duration": 1228,
    "start_time": "2022-07-15T09:23:39.590Z"
   },
   {
    "duration": 1938,
    "start_time": "2022-07-15T09:23:49.182Z"
   },
   {
    "duration": 23,
    "start_time": "2022-07-15T09:27:56.291Z"
   },
   {
    "duration": 9,
    "start_time": "2022-07-15T09:28:07.086Z"
   },
   {
    "duration": 59,
    "start_time": "2022-07-15T09:36:04.706Z"
   },
   {
    "duration": 29,
    "start_time": "2022-07-15T09:38:04.562Z"
   },
   {
    "duration": 3,
    "start_time": "2022-07-15T09:40:41.394Z"
   },
   {
    "duration": 14,
    "start_time": "2022-07-15T09:40:49.494Z"
   },
   {
    "duration": 10,
    "start_time": "2022-07-15T09:41:07.701Z"
   },
   {
    "duration": 10,
    "start_time": "2022-07-15T09:41:25.533Z"
   },
   {
    "duration": 3,
    "start_time": "2022-07-15T09:41:58.494Z"
   },
   {
    "duration": 11,
    "start_time": "2022-07-15T09:42:00.613Z"
   },
   {
    "duration": 6,
    "start_time": "2022-07-15T09:42:23.247Z"
   },
   {
    "duration": 5,
    "start_time": "2022-07-15T09:43:28.181Z"
   },
   {
    "duration": 6,
    "start_time": "2022-07-15T09:43:30.033Z"
   },
   {
    "duration": 410,
    "start_time": "2022-07-15T09:43:38.519Z"
   },
   {
    "duration": 84,
    "start_time": "2022-07-15T09:43:38.931Z"
   },
   {
    "duration": 12,
    "start_time": "2022-07-15T09:43:39.017Z"
   },
   {
    "duration": 14,
    "start_time": "2022-07-15T09:43:39.031Z"
   },
   {
    "duration": 69,
    "start_time": "2022-07-15T09:43:39.058Z"
   },
   {
    "duration": 14,
    "start_time": "2022-07-15T09:43:39.128Z"
   },
   {
    "duration": 26,
    "start_time": "2022-07-15T09:43:39.154Z"
   },
   {
    "duration": 2054,
    "start_time": "2022-07-15T09:43:39.181Z"
   },
   {
    "duration": 12,
    "start_time": "2022-07-15T09:43:41.237Z"
   },
   {
    "duration": 50,
    "start_time": "2022-07-15T09:43:41.251Z"
   },
   {
    "duration": 50,
    "start_time": "2022-07-15T09:43:41.303Z"
   },
   {
    "duration": 3,
    "start_time": "2022-07-15T09:44:33.276Z"
   },
   {
    "duration": 37,
    "start_time": "2022-07-15T09:44:35.481Z"
   },
   {
    "duration": 23,
    "start_time": "2022-07-15T09:44:39.967Z"
   },
   {
    "duration": 14,
    "start_time": "2022-07-15T09:44:43.718Z"
   },
   {
    "duration": 8,
    "start_time": "2022-07-15T09:45:05.511Z"
   },
   {
    "duration": 1310,
    "start_time": "2022-07-15T09:46:25.419Z"
   },
   {
    "duration": 0,
    "start_time": "2022-07-15T09:46:26.731Z"
   },
   {
    "duration": 1436,
    "start_time": "2022-07-15T09:46:29.024Z"
   },
   {
    "duration": 3,
    "start_time": "2022-07-15T09:46:40.759Z"
   },
   {
    "duration": 10,
    "start_time": "2022-07-15T09:46:41.917Z"
   },
   {
    "duration": 5,
    "start_time": "2022-07-15T09:47:38.649Z"
   },
   {
    "duration": 4,
    "start_time": "2022-07-15T09:47:55.528Z"
   },
   {
    "duration": 41,
    "start_time": "2022-07-15T09:48:07.550Z"
   },
   {
    "duration": 434,
    "start_time": "2022-07-16T08:44:25.588Z"
   },
   {
    "duration": 341,
    "start_time": "2022-07-16T08:44:26.024Z"
   },
   {
    "duration": 14,
    "start_time": "2022-07-16T08:44:26.366Z"
   },
   {
    "duration": 22,
    "start_time": "2022-07-16T08:44:26.382Z"
   },
   {
    "duration": 80,
    "start_time": "2022-07-16T08:44:26.406Z"
   },
   {
    "duration": 22,
    "start_time": "2022-07-16T08:44:26.488Z"
   },
   {
    "duration": 29,
    "start_time": "2022-07-16T08:44:26.518Z"
   },
   {
    "duration": 2477,
    "start_time": "2022-07-16T08:44:26.549Z"
   },
   {
    "duration": 71,
    "start_time": "2022-07-16T08:44:29.027Z"
   },
   {
    "duration": 0,
    "start_time": "2022-07-16T08:44:29.100Z"
   },
   {
    "duration": 0,
    "start_time": "2022-07-16T08:44:29.101Z"
   },
   {
    "duration": 0,
    "start_time": "2022-07-16T08:44:29.102Z"
   },
   {
    "duration": 10,
    "start_time": "2022-07-16T08:44:52.315Z"
   },
   {
    "duration": 6,
    "start_time": "2022-07-16T08:45:34.780Z"
   },
   {
    "duration": 9,
    "start_time": "2022-07-16T08:45:36.137Z"
   },
   {
    "duration": 48,
    "start_time": "2022-07-16T08:49:41.436Z"
   },
   {
    "duration": 891,
    "start_time": "2022-07-16T08:49:50.459Z"
   },
   {
    "duration": 10,
    "start_time": "2022-07-16T08:50:16.373Z"
   },
   {
    "duration": 907,
    "start_time": "2022-07-16T08:50:23.441Z"
   },
   {
    "duration": 2172,
    "start_time": "2022-07-16T08:50:43.423Z"
   },
   {
    "duration": 2047,
    "start_time": "2022-07-16T08:51:03.078Z"
   },
   {
    "duration": 4,
    "start_time": "2022-07-16T08:53:21.264Z"
   },
   {
    "duration": 4,
    "start_time": "2022-07-16T08:54:46.962Z"
   },
   {
    "duration": 39,
    "start_time": "2022-07-16T08:54:59.527Z"
   },
   {
    "duration": 35,
    "start_time": "2022-07-16T08:55:29.648Z"
   },
   {
    "duration": 1966,
    "start_time": "2022-07-16T08:55:31.400Z"
   },
   {
    "duration": 4,
    "start_time": "2022-07-16T08:55:33.368Z"
   },
   {
    "duration": 33,
    "start_time": "2022-07-16T08:56:14.294Z"
   },
   {
    "duration": 10,
    "start_time": "2022-07-16T09:06:50.540Z"
   },
   {
    "duration": 416,
    "start_time": "2022-07-16T09:07:02.325Z"
   },
   {
    "duration": 93,
    "start_time": "2022-07-16T09:07:02.743Z"
   },
   {
    "duration": 11,
    "start_time": "2022-07-16T09:07:02.838Z"
   },
   {
    "duration": 27,
    "start_time": "2022-07-16T09:07:02.851Z"
   },
   {
    "duration": 81,
    "start_time": "2022-07-16T09:07:02.881Z"
   },
   {
    "duration": 16,
    "start_time": "2022-07-16T09:07:02.964Z"
   },
   {
    "duration": 40,
    "start_time": "2022-07-16T09:07:02.981Z"
   },
   {
    "duration": 2269,
    "start_time": "2022-07-16T09:07:03.031Z"
   },
   {
    "duration": 6,
    "start_time": "2022-07-16T09:07:05.302Z"
   },
   {
    "duration": 34,
    "start_time": "2022-07-16T09:07:05.310Z"
   },
   {
    "duration": 34,
    "start_time": "2022-07-16T09:07:05.346Z"
   },
   {
    "duration": 52,
    "start_time": "2022-07-16T09:07:05.382Z"
   },
   {
    "duration": 48,
    "start_time": "2022-07-16T09:07:05.436Z"
   },
   {
    "duration": 16,
    "start_time": "2022-07-16T09:07:23.492Z"
   },
   {
    "duration": 75,
    "start_time": "2022-07-16T09:07:50.072Z"
   },
   {
    "duration": 33,
    "start_time": "2022-07-16T09:07:55.922Z"
   },
   {
    "duration": 3,
    "start_time": "2022-07-16T09:15:17.100Z"
   },
   {
    "duration": 16,
    "start_time": "2022-07-16T09:15:17.838Z"
   },
   {
    "duration": 15,
    "start_time": "2022-07-16T09:15:18.744Z"
   },
   {
    "duration": 15,
    "start_time": "2022-07-16T09:15:44.891Z"
   },
   {
    "duration": 24,
    "start_time": "2022-07-16T09:18:41.004Z"
   },
   {
    "duration": 6,
    "start_time": "2022-07-16T09:19:36.289Z"
   },
   {
    "duration": 7,
    "start_time": "2022-07-16T09:19:54.572Z"
   },
   {
    "duration": 5,
    "start_time": "2022-07-16T09:20:00.202Z"
   },
   {
    "duration": 5,
    "start_time": "2022-07-16T09:20:06.551Z"
   },
   {
    "duration": 8,
    "start_time": "2022-07-16T09:20:26.252Z"
   },
   {
    "duration": 6,
    "start_time": "2022-07-16T09:20:33.975Z"
   },
   {
    "duration": 32,
    "start_time": "2022-07-16T09:21:39.440Z"
   },
   {
    "duration": 22,
    "start_time": "2022-07-16T09:23:40.327Z"
   },
   {
    "duration": 21,
    "start_time": "2022-07-16T09:24:20.749Z"
   },
   {
    "duration": 21,
    "start_time": "2022-07-16T09:26:07.833Z"
   },
   {
    "duration": 21,
    "start_time": "2022-07-16T09:26:32.756Z"
   },
   {
    "duration": 25,
    "start_time": "2022-07-16T09:27:41.808Z"
   },
   {
    "duration": 32,
    "start_time": "2022-07-16T09:28:58.564Z"
   },
   {
    "duration": 8,
    "start_time": "2022-07-16T09:30:14.791Z"
   },
   {
    "duration": 7,
    "start_time": "2022-07-16T09:30:23.278Z"
   },
   {
    "duration": 10,
    "start_time": "2022-07-16T09:32:54.859Z"
   },
   {
    "duration": 6,
    "start_time": "2022-07-16T09:33:55.439Z"
   },
   {
    "duration": 6,
    "start_time": "2022-07-16T09:34:10.701Z"
   },
   {
    "duration": 6,
    "start_time": "2022-07-16T09:34:18.387Z"
   },
   {
    "duration": 6,
    "start_time": "2022-07-16T09:34:34.590Z"
   },
   {
    "duration": 10,
    "start_time": "2022-07-16T09:34:51.709Z"
   },
   {
    "duration": 16,
    "start_time": "2022-07-16T09:35:01.477Z"
   },
   {
    "duration": 8,
    "start_time": "2022-07-16T09:35:52.134Z"
   },
   {
    "duration": 6,
    "start_time": "2022-07-16T09:36:50.980Z"
   },
   {
    "duration": 8,
    "start_time": "2022-07-16T09:38:55.560Z"
   },
   {
    "duration": 7,
    "start_time": "2022-07-16T09:39:05.537Z"
   },
   {
    "duration": 7,
    "start_time": "2022-07-16T09:43:14.646Z"
   },
   {
    "duration": 86,
    "start_time": "2022-07-16T09:43:33.248Z"
   },
   {
    "duration": 9,
    "start_time": "2022-07-16T09:43:37.374Z"
   },
   {
    "duration": 10,
    "start_time": "2022-07-16T09:43:43.519Z"
   },
   {
    "duration": 17,
    "start_time": "2022-07-16T09:44:06.701Z"
   },
   {
    "duration": 5,
    "start_time": "2022-07-16T09:44:10.900Z"
   },
   {
    "duration": 7,
    "start_time": "2022-07-16T09:44:18.778Z"
   },
   {
    "duration": 6,
    "start_time": "2022-07-16T09:47:35.146Z"
   },
   {
    "duration": 7,
    "start_time": "2022-07-16T09:51:18.878Z"
   },
   {
    "duration": 4,
    "start_time": "2022-07-16T09:51:41.339Z"
   },
   {
    "duration": 7,
    "start_time": "2022-07-16T09:56:38.209Z"
   },
   {
    "duration": 14,
    "start_time": "2022-07-16T09:56:53.844Z"
   },
   {
    "duration": 6,
    "start_time": "2022-07-16T09:59:19.994Z"
   },
   {
    "duration": 27,
    "start_time": "2022-07-16T10:04:18.157Z"
   },
   {
    "duration": 41,
    "start_time": "2022-07-16T10:04:25.499Z"
   },
   {
    "duration": 24,
    "start_time": "2022-07-16T10:04:37.644Z"
   },
   {
    "duration": 8,
    "start_time": "2022-07-16T10:19:34.296Z"
   },
   {
    "duration": 11,
    "start_time": "2022-07-16T10:19:51.634Z"
   },
   {
    "duration": 4,
    "start_time": "2022-07-16T10:19:55.798Z"
   },
   {
    "duration": 14,
    "start_time": "2022-07-16T10:20:08.672Z"
   },
   {
    "duration": 33,
    "start_time": "2022-07-16T10:21:08.719Z"
   },
   {
    "duration": 48,
    "start_time": "2022-07-16T10:21:48.020Z"
   },
   {
    "duration": 27,
    "start_time": "2022-07-16T10:49:50.352Z"
   },
   {
    "duration": 46,
    "start_time": "2022-07-16T10:50:08.271Z"
   },
   {
    "duration": 4,
    "start_time": "2022-07-16T10:51:23.880Z"
   },
   {
    "duration": 1077,
    "start_time": "2022-07-16T10:51:29.592Z"
   },
   {
    "duration": 56,
    "start_time": "2022-07-16T10:51:43.404Z"
   },
   {
    "duration": 13,
    "start_time": "2022-07-16T10:55:18.064Z"
   },
   {
    "duration": 19,
    "start_time": "2022-07-16T10:55:28.330Z"
   },
   {
    "duration": 7,
    "start_time": "2022-07-16T10:56:21.439Z"
   },
   {
    "duration": 30,
    "start_time": "2022-07-16T10:56:51.634Z"
   },
   {
    "duration": 31,
    "start_time": "2022-07-16T11:02:02.468Z"
   },
   {
    "duration": 51,
    "start_time": "2022-07-16T11:06:07.295Z"
   },
   {
    "duration": 9,
    "start_time": "2022-07-16T11:08:28.286Z"
   },
   {
    "duration": 16,
    "start_time": "2022-07-16T11:08:33.630Z"
   },
   {
    "duration": 12,
    "start_time": "2022-07-16T11:08:42.856Z"
   },
   {
    "duration": 812,
    "start_time": "2022-07-16T11:11:54.250Z"
   },
   {
    "duration": 4,
    "start_time": "2022-07-16T11:12:09.248Z"
   },
   {
    "duration": 3,
    "start_time": "2022-07-16T11:12:25.326Z"
   },
   {
    "duration": 21,
    "start_time": "2022-07-16T11:15:02.630Z"
   },
   {
    "duration": 48,
    "start_time": "2022-07-16T11:15:36.031Z"
   },
   {
    "duration": 74,
    "start_time": "2022-07-16T11:16:05.065Z"
   },
   {
    "duration": 61,
    "start_time": "2022-07-16T11:16:27.178Z"
   },
   {
    "duration": 6,
    "start_time": "2022-07-16T11:17:57.248Z"
   },
   {
    "duration": 7,
    "start_time": "2022-07-16T11:18:26.545Z"
   },
   {
    "duration": 14,
    "start_time": "2022-07-16T11:18:33.379Z"
   },
   {
    "duration": 15,
    "start_time": "2022-07-16T11:19:09.845Z"
   },
   {
    "duration": 36,
    "start_time": "2022-07-16T11:19:42.534Z"
   },
   {
    "duration": 72,
    "start_time": "2022-07-16T11:20:08.399Z"
   },
   {
    "duration": 990,
    "start_time": "2022-07-16T11:24:09.007Z"
   },
   {
    "duration": 1050,
    "start_time": "2022-07-16T11:24:19.302Z"
   },
   {
    "duration": 4,
    "start_time": "2022-07-16T11:24:33.457Z"
   },
   {
    "duration": 48,
    "start_time": "2022-07-16T11:24:42.161Z"
   },
   {
    "duration": 50,
    "start_time": "2022-07-16T11:25:08.156Z"
   },
   {
    "duration": 42,
    "start_time": "2022-07-16T11:28:22.972Z"
   },
   {
    "duration": 38,
    "start_time": "2022-07-16T11:28:44.256Z"
   },
   {
    "duration": 5,
    "start_time": "2022-07-16T11:30:34.579Z"
   },
   {
    "duration": 8,
    "start_time": "2022-07-16T11:41:12.542Z"
   },
   {
    "duration": 9,
    "start_time": "2022-07-16T11:41:36.234Z"
   },
   {
    "duration": 8,
    "start_time": "2022-07-16T11:41:42.888Z"
   },
   {
    "duration": 8,
    "start_time": "2022-07-16T11:42:14.899Z"
   },
   {
    "duration": 22,
    "start_time": "2022-07-16T11:42:32.438Z"
   },
   {
    "duration": 6,
    "start_time": "2022-07-16T11:44:15.995Z"
   },
   {
    "duration": 7,
    "start_time": "2022-07-16T11:53:59.763Z"
   },
   {
    "duration": 23,
    "start_time": "2022-07-16T11:54:03.601Z"
   },
   {
    "duration": 983,
    "start_time": "2022-07-16T11:55:18.302Z"
   },
   {
    "duration": 8,
    "start_time": "2022-07-16T11:55:33.042Z"
   },
   {
    "duration": 410,
    "start_time": "2022-07-16T11:56:14.175Z"
   },
   {
    "duration": 109,
    "start_time": "2022-07-16T11:56:14.587Z"
   },
   {
    "duration": 15,
    "start_time": "2022-07-16T11:56:14.697Z"
   },
   {
    "duration": 51,
    "start_time": "2022-07-16T11:56:14.715Z"
   },
   {
    "duration": 90,
    "start_time": "2022-07-16T11:56:14.768Z"
   },
   {
    "duration": 14,
    "start_time": "2022-07-16T11:56:14.860Z"
   },
   {
    "duration": 83,
    "start_time": "2022-07-16T11:56:14.875Z"
   },
   {
    "duration": 2592,
    "start_time": "2022-07-16T11:56:14.959Z"
   },
   {
    "duration": 6,
    "start_time": "2022-07-16T11:56:17.553Z"
   },
   {
    "duration": 29,
    "start_time": "2022-07-16T11:56:17.561Z"
   },
   {
    "duration": 20,
    "start_time": "2022-07-16T11:56:17.592Z"
   },
   {
    "duration": 34,
    "start_time": "2022-07-16T11:56:17.615Z"
   },
   {
    "duration": 79,
    "start_time": "2022-07-16T11:56:17.651Z"
   },
   {
    "duration": 24,
    "start_time": "2022-07-16T11:56:17.732Z"
   },
   {
    "duration": 15,
    "start_time": "2022-07-16T11:56:17.758Z"
   },
   {
    "duration": 19,
    "start_time": "2022-07-16T11:56:17.774Z"
   },
   {
    "duration": 56,
    "start_time": "2022-07-16T11:56:17.795Z"
   },
   {
    "duration": 27,
    "start_time": "2022-07-16T11:56:17.855Z"
   },
   {
    "duration": 13,
    "start_time": "2022-07-16T11:56:17.884Z"
   },
   {
    "duration": 49,
    "start_time": "2022-07-16T11:56:17.898Z"
   },
   {
    "duration": 21,
    "start_time": "2022-07-16T11:56:17.949Z"
   },
   {
    "duration": 40,
    "start_time": "2022-07-16T11:56:17.972Z"
   },
   {
    "duration": 45,
    "start_time": "2022-07-16T11:56:18.014Z"
   },
   {
    "duration": 21,
    "start_time": "2022-07-16T11:56:35.460Z"
   },
   {
    "duration": 294,
    "start_time": "2022-07-16T14:39:57.058Z"
   },
   {
    "duration": 7,
    "start_time": "2022-07-16T14:40:14.209Z"
   },
   {
    "duration": 187,
    "start_time": "2022-07-16T14:40:39.813Z"
   },
   {
    "duration": 6,
    "start_time": "2022-07-16T14:41:58.370Z"
   },
   {
    "duration": 8,
    "start_time": "2022-07-16T14:42:08.142Z"
   },
   {
    "duration": 187,
    "start_time": "2022-07-16T14:42:10.392Z"
   },
   {
    "duration": 441,
    "start_time": "2022-07-16T14:42:17.213Z"
   },
   {
    "duration": 89,
    "start_time": "2022-07-16T14:42:17.655Z"
   },
   {
    "duration": 12,
    "start_time": "2022-07-16T14:42:17.745Z"
   },
   {
    "duration": 26,
    "start_time": "2022-07-16T14:42:17.760Z"
   },
   {
    "duration": 78,
    "start_time": "2022-07-16T14:42:17.787Z"
   },
   {
    "duration": 13,
    "start_time": "2022-07-16T14:42:17.867Z"
   },
   {
    "duration": 68,
    "start_time": "2022-07-16T14:42:17.882Z"
   },
   {
    "duration": 2197,
    "start_time": "2022-07-16T14:42:17.951Z"
   },
   {
    "duration": 6,
    "start_time": "2022-07-16T14:42:20.150Z"
   },
   {
    "duration": 77,
    "start_time": "2022-07-16T14:42:20.159Z"
   },
   {
    "duration": 0,
    "start_time": "2022-07-16T14:42:20.238Z"
   },
   {
    "duration": 0,
    "start_time": "2022-07-16T14:42:20.239Z"
   },
   {
    "duration": 0,
    "start_time": "2022-07-16T14:42:20.240Z"
   },
   {
    "duration": 0,
    "start_time": "2022-07-16T14:42:20.241Z"
   },
   {
    "duration": 0,
    "start_time": "2022-07-16T14:42:20.243Z"
   },
   {
    "duration": 0,
    "start_time": "2022-07-16T14:42:20.243Z"
   },
   {
    "duration": 0,
    "start_time": "2022-07-16T14:42:20.244Z"
   },
   {
    "duration": 0,
    "start_time": "2022-07-16T14:42:20.245Z"
   },
   {
    "duration": 0,
    "start_time": "2022-07-16T14:42:20.247Z"
   },
   {
    "duration": 0,
    "start_time": "2022-07-16T14:42:20.247Z"
   },
   {
    "duration": 0,
    "start_time": "2022-07-16T14:42:20.249Z"
   },
   {
    "duration": 0,
    "start_time": "2022-07-16T14:42:20.250Z"
   },
   {
    "duration": 0,
    "start_time": "2022-07-16T14:42:20.251Z"
   },
   {
    "duration": 0,
    "start_time": "2022-07-16T14:42:20.252Z"
   },
   {
    "duration": 0,
    "start_time": "2022-07-16T14:42:20.254Z"
   },
   {
    "duration": 11,
    "start_time": "2022-07-16T14:47:14.331Z"
   },
   {
    "duration": 5,
    "start_time": "2022-07-16T14:47:47.066Z"
   },
   {
    "duration": 4,
    "start_time": "2022-07-16T14:47:49.902Z"
   },
   {
    "duration": 5,
    "start_time": "2022-07-16T14:47:55.584Z"
   },
   {
    "duration": 433,
    "start_time": "2022-07-16T14:48:21.386Z"
   },
   {
    "duration": 86,
    "start_time": "2022-07-16T14:48:21.821Z"
   },
   {
    "duration": 11,
    "start_time": "2022-07-16T14:48:21.909Z"
   },
   {
    "duration": 18,
    "start_time": "2022-07-16T14:48:21.923Z"
   },
   {
    "duration": 87,
    "start_time": "2022-07-16T14:48:21.943Z"
   },
   {
    "duration": 14,
    "start_time": "2022-07-16T14:48:22.032Z"
   },
   {
    "duration": 71,
    "start_time": "2022-07-16T14:48:22.047Z"
   },
   {
    "duration": 2148,
    "start_time": "2022-07-16T14:48:22.120Z"
   },
   {
    "duration": 7,
    "start_time": "2022-07-16T14:48:24.270Z"
   },
   {
    "duration": 24,
    "start_time": "2022-07-16T14:48:24.279Z"
   },
   {
    "duration": 17,
    "start_time": "2022-07-16T14:48:24.304Z"
   },
   {
    "duration": 21,
    "start_time": "2022-07-16T14:48:24.322Z"
   },
   {
    "duration": 61,
    "start_time": "2022-07-16T14:48:24.344Z"
   },
   {
    "duration": 17,
    "start_time": "2022-07-16T14:48:24.407Z"
   },
   {
    "duration": 10,
    "start_time": "2022-07-16T14:48:24.425Z"
   },
   {
    "duration": 36,
    "start_time": "2022-07-16T14:48:24.436Z"
   },
   {
    "duration": 43,
    "start_time": "2022-07-16T14:48:24.473Z"
   },
   {
    "duration": 26,
    "start_time": "2022-07-16T14:48:24.518Z"
   },
   {
    "duration": 39,
    "start_time": "2022-07-16T14:48:24.546Z"
   },
   {
    "duration": 31,
    "start_time": "2022-07-16T14:48:24.587Z"
   },
   {
    "duration": 12,
    "start_time": "2022-07-16T14:48:24.620Z"
   },
   {
    "duration": 43,
    "start_time": "2022-07-16T14:48:24.633Z"
   },
   {
    "duration": 19,
    "start_time": "2022-07-16T14:48:24.677Z"
   },
   {
    "duration": 6,
    "start_time": "2022-07-16T14:49:15.900Z"
   },
   {
    "duration": 16,
    "start_time": "2022-07-16T14:49:32.910Z"
   },
   {
    "duration": 6,
    "start_time": "2022-07-16T14:50:08.896Z"
   },
   {
    "duration": 16,
    "start_time": "2022-07-16T14:50:09.657Z"
   },
   {
    "duration": 272,
    "start_time": "2022-07-16T14:50:48.542Z"
   },
   {
    "duration": 6,
    "start_time": "2022-07-16T14:50:57.703Z"
   },
   {
    "duration": 16,
    "start_time": "2022-07-16T14:50:58.149Z"
   },
   {
    "duration": 238,
    "start_time": "2022-07-16T14:50:59.851Z"
   },
   {
    "duration": 413,
    "start_time": "2022-07-16T14:51:18.502Z"
   },
   {
    "duration": 90,
    "start_time": "2022-07-16T14:51:18.917Z"
   },
   {
    "duration": 12,
    "start_time": "2022-07-16T14:51:19.009Z"
   },
   {
    "duration": 33,
    "start_time": "2022-07-16T14:51:19.023Z"
   },
   {
    "duration": 96,
    "start_time": "2022-07-16T14:51:19.058Z"
   },
   {
    "duration": 14,
    "start_time": "2022-07-16T14:51:19.156Z"
   },
   {
    "duration": 76,
    "start_time": "2022-07-16T14:51:19.171Z"
   },
   {
    "duration": 2264,
    "start_time": "2022-07-16T14:51:19.249Z"
   },
   {
    "duration": 7,
    "start_time": "2022-07-16T14:51:21.516Z"
   },
   {
    "duration": 45,
    "start_time": "2022-07-16T14:51:21.529Z"
   },
   {
    "duration": 19,
    "start_time": "2022-07-16T14:51:21.577Z"
   },
   {
    "duration": 25,
    "start_time": "2022-07-16T14:51:21.598Z"
   },
   {
    "duration": 40,
    "start_time": "2022-07-16T14:51:21.624Z"
   },
   {
    "duration": 17,
    "start_time": "2022-07-16T14:51:21.665Z"
   },
   {
    "duration": 38,
    "start_time": "2022-07-16T14:51:21.684Z"
   },
   {
    "duration": 22,
    "start_time": "2022-07-16T14:51:21.724Z"
   },
   {
    "duration": 41,
    "start_time": "2022-07-16T14:51:21.748Z"
   },
   {
    "duration": 40,
    "start_time": "2022-07-16T14:51:21.790Z"
   },
   {
    "duration": 35,
    "start_time": "2022-07-16T14:51:21.832Z"
   },
   {
    "duration": 32,
    "start_time": "2022-07-16T14:51:21.869Z"
   },
   {
    "duration": 25,
    "start_time": "2022-07-16T14:51:21.903Z"
   },
   {
    "duration": 45,
    "start_time": "2022-07-16T14:51:21.929Z"
   },
   {
    "duration": 50,
    "start_time": "2022-07-16T14:51:21.976Z"
   },
   {
    "duration": 273,
    "start_time": "2022-07-16T14:51:22.028Z"
   },
   {
    "duration": 1,
    "start_time": "2022-07-16T14:51:22.302Z"
   },
   {
    "duration": 376,
    "start_time": "2022-07-16T14:51:52.144Z"
   },
   {
    "duration": 90,
    "start_time": "2022-07-16T14:51:52.522Z"
   },
   {
    "duration": 14,
    "start_time": "2022-07-16T14:51:52.614Z"
   },
   {
    "duration": 17,
    "start_time": "2022-07-16T14:51:52.629Z"
   },
   {
    "duration": 88,
    "start_time": "2022-07-16T14:51:52.648Z"
   },
   {
    "duration": 14,
    "start_time": "2022-07-16T14:51:52.738Z"
   },
   {
    "duration": 73,
    "start_time": "2022-07-16T14:51:52.753Z"
   },
   {
    "duration": 2176,
    "start_time": "2022-07-16T14:51:52.827Z"
   },
   {
    "duration": 7,
    "start_time": "2022-07-16T14:51:55.005Z"
   },
   {
    "duration": 39,
    "start_time": "2022-07-16T14:51:55.014Z"
   },
   {
    "duration": 16,
    "start_time": "2022-07-16T14:51:55.055Z"
   },
   {
    "duration": 9,
    "start_time": "2022-07-16T14:51:55.073Z"
   },
   {
    "duration": 47,
    "start_time": "2022-07-16T14:51:55.083Z"
   },
   {
    "duration": 16,
    "start_time": "2022-07-16T14:51:55.133Z"
   },
   {
    "duration": 27,
    "start_time": "2022-07-16T14:51:55.150Z"
   },
   {
    "duration": 25,
    "start_time": "2022-07-16T14:51:55.179Z"
   },
   {
    "duration": 14,
    "start_time": "2022-07-16T14:51:55.206Z"
   },
   {
    "duration": 26,
    "start_time": "2022-07-16T14:51:55.222Z"
   },
   {
    "duration": 20,
    "start_time": "2022-07-16T14:51:55.250Z"
   },
   {
    "duration": 27,
    "start_time": "2022-07-16T14:51:55.271Z"
   },
   {
    "duration": 9,
    "start_time": "2022-07-16T14:51:55.300Z"
   },
   {
    "duration": 22,
    "start_time": "2022-07-16T14:51:55.311Z"
   },
   {
    "duration": 38,
    "start_time": "2022-07-16T14:51:55.335Z"
   },
   {
    "duration": 87,
    "start_time": "2022-07-16T14:51:55.375Z"
   },
   {
    "duration": 0,
    "start_time": "2022-07-16T14:51:55.465Z"
   },
   {
    "duration": 8,
    "start_time": "2022-07-16T14:53:05.911Z"
   },
   {
    "duration": 4,
    "start_time": "2022-07-16T14:53:52.252Z"
   },
   {
    "duration": 403,
    "start_time": "2022-07-16T14:55:01.439Z"
   },
   {
    "duration": 92,
    "start_time": "2022-07-16T14:55:01.844Z"
   },
   {
    "duration": 12,
    "start_time": "2022-07-16T14:55:01.938Z"
   },
   {
    "duration": 39,
    "start_time": "2022-07-16T14:55:01.953Z"
   },
   {
    "duration": 79,
    "start_time": "2022-07-16T14:55:01.994Z"
   },
   {
    "duration": 14,
    "start_time": "2022-07-16T14:55:02.075Z"
   },
   {
    "duration": 79,
    "start_time": "2022-07-16T14:55:02.090Z"
   },
   {
    "duration": 2206,
    "start_time": "2022-07-16T14:55:02.170Z"
   },
   {
    "duration": 6,
    "start_time": "2022-07-16T14:55:04.378Z"
   },
   {
    "duration": 20,
    "start_time": "2022-07-16T14:55:04.385Z"
   },
   {
    "duration": 17,
    "start_time": "2022-07-16T14:55:04.407Z"
   },
   {
    "duration": 6,
    "start_time": "2022-07-16T14:55:04.427Z"
   },
   {
    "duration": 35,
    "start_time": "2022-07-16T14:55:04.435Z"
   },
   {
    "duration": 15,
    "start_time": "2022-07-16T14:55:04.472Z"
   },
   {
    "duration": 9,
    "start_time": "2022-07-16T14:55:04.488Z"
   },
   {
    "duration": 21,
    "start_time": "2022-07-16T14:55:04.498Z"
   },
   {
    "duration": 8,
    "start_time": "2022-07-16T14:55:04.521Z"
   },
   {
    "duration": 13,
    "start_time": "2022-07-16T14:55:04.531Z"
   },
   {
    "duration": 7,
    "start_time": "2022-07-16T14:55:04.545Z"
   },
   {
    "duration": 40,
    "start_time": "2022-07-16T14:55:04.553Z"
   },
   {
    "duration": 4,
    "start_time": "2022-07-16T14:55:04.595Z"
   },
   {
    "duration": 24,
    "start_time": "2022-07-16T14:55:04.601Z"
   },
   {
    "duration": 80,
    "start_time": "2022-07-16T14:55:38.987Z"
   },
   {
    "duration": 12,
    "start_time": "2022-07-16T14:55:56.539Z"
   },
   {
    "duration": 5,
    "start_time": "2022-07-16T14:56:44.148Z"
   },
   {
    "duration": 7,
    "start_time": "2022-07-16T14:56:53.148Z"
   },
   {
    "duration": 12,
    "start_time": "2022-07-16T14:58:41.600Z"
   },
   {
    "duration": 16,
    "start_time": "2022-07-16T14:58:53.464Z"
   },
   {
    "duration": 6,
    "start_time": "2022-07-16T14:59:19.365Z"
   },
   {
    "duration": 14,
    "start_time": "2022-07-16T14:59:20.749Z"
   },
   {
    "duration": 8,
    "start_time": "2022-07-16T14:59:27.982Z"
   },
   {
    "duration": 15,
    "start_time": "2022-07-16T14:59:29.860Z"
   },
   {
    "duration": 4,
    "start_time": "2022-07-16T15:00:19.212Z"
   },
   {
    "duration": 16,
    "start_time": "2022-07-16T15:00:20.390Z"
   },
   {
    "duration": 7,
    "start_time": "2022-07-16T15:01:29.045Z"
   },
   {
    "duration": 5,
    "start_time": "2022-07-16T15:01:44.644Z"
   },
   {
    "duration": 5,
    "start_time": "2022-07-16T15:01:56.853Z"
   },
   {
    "duration": 4,
    "start_time": "2022-07-16T15:02:05.572Z"
   },
   {
    "duration": 5,
    "start_time": "2022-07-16T15:02:11.851Z"
   },
   {
    "duration": 7,
    "start_time": "2022-07-16T15:03:15.867Z"
   },
   {
    "duration": 5,
    "start_time": "2022-07-16T15:03:53.150Z"
   },
   {
    "duration": 6,
    "start_time": "2022-07-16T15:03:53.689Z"
   },
   {
    "duration": 4,
    "start_time": "2022-07-16T15:20:05.143Z"
   },
   {
    "duration": 12,
    "start_time": "2022-07-16T15:20:23.102Z"
   },
   {
    "duration": 8,
    "start_time": "2022-07-16T15:20:34.678Z"
   },
   {
    "duration": 4,
    "start_time": "2022-07-16T15:20:45.269Z"
   },
   {
    "duration": 6,
    "start_time": "2022-07-16T15:20:49.197Z"
   },
   {
    "duration": 6,
    "start_time": "2022-07-16T15:21:28.867Z"
   },
   {
    "duration": 9,
    "start_time": "2022-07-16T15:21:36.507Z"
   },
   {
    "duration": 6,
    "start_time": "2022-07-16T15:21:41.188Z"
   },
   {
    "duration": 9,
    "start_time": "2022-07-16T15:22:38.759Z"
   },
   {
    "duration": 46,
    "start_time": "2022-07-16T15:24:19.608Z"
   },
   {
    "duration": 12,
    "start_time": "2022-07-16T15:24:24.004Z"
   },
   {
    "duration": 27,
    "start_time": "2022-07-16T15:24:40.974Z"
   },
   {
    "duration": 22,
    "start_time": "2022-07-16T15:25:48.888Z"
   },
   {
    "duration": 21,
    "start_time": "2022-07-16T15:26:05.851Z"
   },
   {
    "duration": 22,
    "start_time": "2022-07-16T15:28:52.408Z"
   },
   {
    "duration": 30,
    "start_time": "2022-07-16T15:29:48.597Z"
   },
   {
    "duration": 29,
    "start_time": "2022-07-16T15:30:08.359Z"
   },
   {
    "duration": 8,
    "start_time": "2022-07-16T15:33:35.267Z"
   },
   {
    "duration": 8,
    "start_time": "2022-07-16T15:34:54.464Z"
   },
   {
    "duration": 2,
    "start_time": "2022-07-16T15:35:40.453Z"
   },
   {
    "duration": 428,
    "start_time": "2022-07-16T15:35:45.977Z"
   },
   {
    "duration": 88,
    "start_time": "2022-07-16T15:35:46.409Z"
   },
   {
    "duration": 12,
    "start_time": "2022-07-16T15:35:46.498Z"
   },
   {
    "duration": 28,
    "start_time": "2022-07-16T15:35:46.512Z"
   },
   {
    "duration": 81,
    "start_time": "2022-07-16T15:35:46.541Z"
   },
   {
    "duration": 13,
    "start_time": "2022-07-16T15:35:46.624Z"
   },
   {
    "duration": 70,
    "start_time": "2022-07-16T15:35:46.639Z"
   },
   {
    "duration": 2201,
    "start_time": "2022-07-16T15:35:46.711Z"
   },
   {
    "duration": 6,
    "start_time": "2022-07-16T15:35:48.914Z"
   },
   {
    "duration": 16,
    "start_time": "2022-07-16T15:35:48.923Z"
   },
   {
    "duration": 9,
    "start_time": "2022-07-16T15:35:48.941Z"
   },
   {
    "duration": 11,
    "start_time": "2022-07-16T15:35:48.952Z"
   },
   {
    "duration": 31,
    "start_time": "2022-07-16T15:35:48.964Z"
   },
   {
    "duration": 15,
    "start_time": "2022-07-16T15:35:49.010Z"
   },
   {
    "duration": 7,
    "start_time": "2022-07-16T15:35:49.027Z"
   },
   {
    "duration": 6,
    "start_time": "2022-07-16T15:35:49.035Z"
   },
   {
    "duration": 8,
    "start_time": "2022-07-16T15:35:49.043Z"
   },
   {
    "duration": 5,
    "start_time": "2022-07-16T15:35:49.053Z"
   },
   {
    "duration": 12,
    "start_time": "2022-07-16T15:35:49.060Z"
   },
   {
    "duration": 35,
    "start_time": "2022-07-16T15:35:49.075Z"
   },
   {
    "duration": 4,
    "start_time": "2022-07-16T15:35:49.112Z"
   },
   {
    "duration": 77,
    "start_time": "2022-07-16T15:35:49.117Z"
   },
   {
    "duration": 0,
    "start_time": "2022-07-16T15:35:49.195Z"
   },
   {
    "duration": 0,
    "start_time": "2022-07-16T15:35:49.197Z"
   },
   {
    "duration": 0,
    "start_time": "2022-07-16T15:35:49.198Z"
   },
   {
    "duration": 457,
    "start_time": "2022-07-16T18:24:19.430Z"
   },
   {
    "duration": 3,
    "start_time": "2022-07-16T18:24:19.889Z"
   },
   {
    "duration": 123,
    "start_time": "2022-07-16T18:24:19.894Z"
   },
   {
    "duration": 15,
    "start_time": "2022-07-16T18:24:20.020Z"
   },
   {
    "duration": 23,
    "start_time": "2022-07-16T18:24:20.037Z"
   },
   {
    "duration": 111,
    "start_time": "2022-07-16T18:24:20.062Z"
   },
   {
    "duration": 16,
    "start_time": "2022-07-16T18:24:20.175Z"
   },
   {
    "duration": 80,
    "start_time": "2022-07-16T18:24:20.193Z"
   },
   {
    "duration": 2433,
    "start_time": "2022-07-16T18:24:20.275Z"
   },
   {
    "duration": 7,
    "start_time": "2022-07-16T18:24:22.712Z"
   },
   {
    "duration": 30,
    "start_time": "2022-07-16T18:24:22.723Z"
   },
   {
    "duration": 9,
    "start_time": "2022-07-16T18:24:22.755Z"
   },
   {
    "duration": 3,
    "start_time": "2022-07-16T18:24:22.765Z"
   },
   {
    "duration": 44,
    "start_time": "2022-07-16T18:24:22.770Z"
   },
   {
    "duration": 23,
    "start_time": "2022-07-16T18:24:22.817Z"
   },
   {
    "duration": 4,
    "start_time": "2022-07-16T18:24:22.842Z"
   },
   {
    "duration": 8,
    "start_time": "2022-07-16T18:24:22.848Z"
   },
   {
    "duration": 8,
    "start_time": "2022-07-16T18:24:22.858Z"
   },
   {
    "duration": 10,
    "start_time": "2022-07-16T18:24:22.868Z"
   },
   {
    "duration": 9,
    "start_time": "2022-07-16T18:24:22.879Z"
   },
   {
    "duration": 45,
    "start_time": "2022-07-16T18:24:22.890Z"
   },
   {
    "duration": 27,
    "start_time": "2022-07-16T18:24:22.936Z"
   },
   {
    "duration": 138,
    "start_time": "2022-07-16T18:24:22.966Z"
   },
   {
    "duration": 0,
    "start_time": "2022-07-16T18:24:23.106Z"
   },
   {
    "duration": 0,
    "start_time": "2022-07-16T18:24:23.108Z"
   },
   {
    "duration": 0,
    "start_time": "2022-07-16T18:24:23.111Z"
   },
   {
    "duration": 7,
    "start_time": "2022-07-16T18:26:30.479Z"
   },
   {
    "duration": 13,
    "start_time": "2022-07-16T20:33:36.621Z"
   },
   {
    "duration": 12,
    "start_time": "2022-07-16T20:35:08.802Z"
   },
   {
    "duration": 11,
    "start_time": "2022-07-16T20:35:25.839Z"
   },
   {
    "duration": 17,
    "start_time": "2022-07-16T20:35:32.199Z"
   },
   {
    "duration": 6,
    "start_time": "2022-07-16T20:36:39.842Z"
   },
   {
    "duration": 8,
    "start_time": "2022-07-16T20:40:58.133Z"
   },
   {
    "duration": 10,
    "start_time": "2022-07-16T20:41:19.404Z"
   },
   {
    "duration": 9,
    "start_time": "2022-07-16T20:41:43.717Z"
   },
   {
    "duration": 6,
    "start_time": "2022-07-16T20:42:16.877Z"
   },
   {
    "duration": 7,
    "start_time": "2022-07-16T20:42:23.173Z"
   },
   {
    "duration": 7,
    "start_time": "2022-07-16T20:42:39.400Z"
   },
   {
    "duration": 7,
    "start_time": "2022-07-16T20:43:20.094Z"
   },
   {
    "duration": 10,
    "start_time": "2022-07-16T20:43:38.827Z"
   },
   {
    "duration": 3,
    "start_time": "2022-07-16T20:46:06.049Z"
   },
   {
    "duration": 7,
    "start_time": "2022-07-16T20:46:12.025Z"
   },
   {
    "duration": 8,
    "start_time": "2022-07-16T20:46:18.264Z"
   },
   {
    "duration": 6,
    "start_time": "2022-07-16T20:46:23.824Z"
   },
   {
    "duration": 7,
    "start_time": "2022-07-16T20:46:28.950Z"
   },
   {
    "duration": 7,
    "start_time": "2022-07-16T20:46:33.646Z"
   },
   {
    "duration": 9,
    "start_time": "2022-07-16T20:46:37.653Z"
   },
   {
    "duration": 6,
    "start_time": "2022-07-16T20:46:42.671Z"
   },
   {
    "duration": 6,
    "start_time": "2022-07-16T20:46:48.275Z"
   },
   {
    "duration": 7,
    "start_time": "2022-07-16T20:46:52.524Z"
   },
   {
    "duration": 16,
    "start_time": "2022-07-16T20:46:58.303Z"
   },
   {
    "duration": 7,
    "start_time": "2022-07-16T20:47:03.391Z"
   },
   {
    "duration": 7,
    "start_time": "2022-07-16T20:47:10.352Z"
   },
   {
    "duration": 6,
    "start_time": "2022-07-16T20:47:13.257Z"
   },
   {
    "duration": 6,
    "start_time": "2022-07-16T20:47:17.558Z"
   },
   {
    "duration": 8,
    "start_time": "2022-07-16T20:48:18.337Z"
   },
   {
    "duration": 7,
    "start_time": "2022-07-16T20:48:25.463Z"
   },
   {
    "duration": 2,
    "start_time": "2022-07-16T20:49:17.839Z"
   },
   {
    "duration": 83,
    "start_time": "2022-07-16T21:00:50.557Z"
   },
   {
    "duration": 50,
    "start_time": "2022-07-16T21:00:58.710Z"
   },
   {
    "duration": 9,
    "start_time": "2022-07-16T21:01:30.086Z"
   },
   {
    "duration": 6,
    "start_time": "2022-07-16T21:01:53.266Z"
   },
   {
    "duration": 48,
    "start_time": "2022-07-16T21:04:16.862Z"
   },
   {
    "duration": 7,
    "start_time": "2022-07-16T21:04:17.691Z"
   },
   {
    "duration": 12,
    "start_time": "2022-07-16T21:06:19.455Z"
   },
   {
    "duration": 5,
    "start_time": "2022-07-16T21:06:19.876Z"
   },
   {
    "duration": 417,
    "start_time": "2022-07-16T21:06:32.313Z"
   },
   {
    "duration": 2,
    "start_time": "2022-07-16T21:06:32.732Z"
   },
   {
    "duration": 93,
    "start_time": "2022-07-16T21:06:32.736Z"
   },
   {
    "duration": 12,
    "start_time": "2022-07-16T21:06:32.832Z"
   },
   {
    "duration": 14,
    "start_time": "2022-07-16T21:06:32.845Z"
   },
   {
    "duration": 89,
    "start_time": "2022-07-16T21:06:32.860Z"
   },
   {
    "duration": 14,
    "start_time": "2022-07-16T21:06:32.951Z"
   },
   {
    "duration": 73,
    "start_time": "2022-07-16T21:06:32.966Z"
   },
   {
    "duration": 2143,
    "start_time": "2022-07-16T21:06:33.041Z"
   },
   {
    "duration": 6,
    "start_time": "2022-07-16T21:06:35.186Z"
   },
   {
    "duration": 17,
    "start_time": "2022-07-16T21:06:35.194Z"
   },
   {
    "duration": 10,
    "start_time": "2022-07-16T21:06:35.212Z"
   },
   {
    "duration": 3,
    "start_time": "2022-07-16T21:06:35.223Z"
   },
   {
    "duration": 29,
    "start_time": "2022-07-16T21:06:35.227Z"
   },
   {
    "duration": 24,
    "start_time": "2022-07-16T21:06:35.259Z"
   },
   {
    "duration": 26,
    "start_time": "2022-07-16T21:06:35.285Z"
   },
   {
    "duration": 4,
    "start_time": "2022-07-16T21:06:35.312Z"
   },
   {
    "duration": 13,
    "start_time": "2022-07-16T21:06:35.318Z"
   },
   {
    "duration": 5,
    "start_time": "2022-07-16T21:06:35.333Z"
   },
   {
    "duration": 7,
    "start_time": "2022-07-16T21:06:35.340Z"
   },
   {
    "duration": 28,
    "start_time": "2022-07-16T21:06:35.348Z"
   },
   {
    "duration": 5,
    "start_time": "2022-07-16T21:06:35.378Z"
   },
   {
    "duration": 30,
    "start_time": "2022-07-16T21:06:35.384Z"
   },
   {
    "duration": 4,
    "start_time": "2022-07-16T21:06:35.416Z"
   },
   {
    "duration": 8,
    "start_time": "2022-07-16T21:06:35.421Z"
   },
   {
    "duration": 55,
    "start_time": "2022-07-16T21:06:57.677Z"
   },
   {
    "duration": 8,
    "start_time": "2022-07-16T21:06:58.226Z"
   },
   {
    "duration": 4,
    "start_time": "2022-07-16T21:08:37.864Z"
   },
   {
    "duration": 4,
    "start_time": "2022-07-16T21:09:01.369Z"
   },
   {
    "duration": 3,
    "start_time": "2022-07-16T21:09:29.919Z"
   },
   {
    "duration": 54,
    "start_time": "2022-07-16T21:09:34.329Z"
   },
   {
    "duration": 34,
    "start_time": "2022-07-16T21:10:04.105Z"
   },
   {
    "duration": 112,
    "start_time": "2022-07-16T21:10:13.940Z"
   },
   {
    "duration": 24,
    "start_time": "2022-07-16T21:10:22.115Z"
   },
   {
    "duration": 34,
    "start_time": "2022-07-16T21:11:10.540Z"
   },
   {
    "duration": 24,
    "start_time": "2022-07-16T21:11:21.103Z"
   },
   {
    "duration": 14,
    "start_time": "2022-07-16T21:11:44.567Z"
   },
   {
    "duration": 14,
    "start_time": "2022-07-16T21:12:41.656Z"
   },
   {
    "duration": 265,
    "start_time": "2022-07-16T21:12:48.345Z"
   },
   {
    "duration": 5,
    "start_time": "2022-07-16T21:16:32.497Z"
   },
   {
    "duration": 6,
    "start_time": "2022-07-16T21:16:34.172Z"
   },
   {
    "duration": 355,
    "start_time": "2022-07-16T21:16:40.963Z"
   },
   {
    "duration": 3,
    "start_time": "2022-07-16T21:16:41.320Z"
   },
   {
    "duration": 91,
    "start_time": "2022-07-16T21:16:41.324Z"
   },
   {
    "duration": 15,
    "start_time": "2022-07-16T21:16:41.418Z"
   },
   {
    "duration": 30,
    "start_time": "2022-07-16T21:16:41.435Z"
   },
   {
    "duration": 93,
    "start_time": "2022-07-16T21:16:41.467Z"
   },
   {
    "duration": 19,
    "start_time": "2022-07-16T21:16:41.563Z"
   },
   {
    "duration": 79,
    "start_time": "2022-07-16T21:16:41.585Z"
   },
   {
    "duration": 2171,
    "start_time": "2022-07-16T21:16:41.665Z"
   },
   {
    "duration": 5,
    "start_time": "2022-07-16T21:16:43.839Z"
   },
   {
    "duration": 15,
    "start_time": "2022-07-16T21:16:43.846Z"
   },
   {
    "duration": 8,
    "start_time": "2022-07-16T21:16:43.862Z"
   },
   {
    "duration": 3,
    "start_time": "2022-07-16T21:16:43.871Z"
   },
   {
    "duration": 27,
    "start_time": "2022-07-16T21:16:43.875Z"
   },
   {
    "duration": 18,
    "start_time": "2022-07-16T21:16:43.904Z"
   },
   {
    "duration": 5,
    "start_time": "2022-07-16T21:16:43.923Z"
   },
   {
    "duration": 6,
    "start_time": "2022-07-16T21:16:43.929Z"
   },
   {
    "duration": 7,
    "start_time": "2022-07-16T21:16:43.936Z"
   },
   {
    "duration": 4,
    "start_time": "2022-07-16T21:16:43.945Z"
   },
   {
    "duration": 15,
    "start_time": "2022-07-16T21:16:43.951Z"
   },
   {
    "duration": 20,
    "start_time": "2022-07-16T21:16:43.969Z"
   },
   {
    "duration": 4,
    "start_time": "2022-07-16T21:16:44.011Z"
   },
   {
    "duration": 16,
    "start_time": "2022-07-16T21:16:44.017Z"
   },
   {
    "duration": 5,
    "start_time": "2022-07-16T21:16:44.035Z"
   },
   {
    "duration": 10,
    "start_time": "2022-07-16T21:16:44.041Z"
   },
   {
    "duration": 10,
    "start_time": "2022-07-16T21:17:32.224Z"
   },
   {
    "duration": 4,
    "start_time": "2022-07-16T21:18:39.029Z"
   },
   {
    "duration": 6,
    "start_time": "2022-07-16T21:18:40.019Z"
   },
   {
    "duration": 4,
    "start_time": "2022-07-16T21:19:31.140Z"
   },
   {
    "duration": 8,
    "start_time": "2022-07-16T21:19:31.581Z"
   },
   {
    "duration": 4,
    "start_time": "2022-07-16T21:19:40.856Z"
   },
   {
    "duration": 6,
    "start_time": "2022-07-16T21:19:41.351Z"
   },
   {
    "duration": 3,
    "start_time": "2022-07-16T21:19:55.565Z"
   },
   {
    "duration": 6,
    "start_time": "2022-07-16T21:19:56.160Z"
   },
   {
    "duration": 384,
    "start_time": "2022-07-16T21:20:00.659Z"
   },
   {
    "duration": 4,
    "start_time": "2022-07-16T21:20:01.046Z"
   },
   {
    "duration": 112,
    "start_time": "2022-07-16T21:20:01.051Z"
   },
   {
    "duration": 14,
    "start_time": "2022-07-16T21:20:01.166Z"
   },
   {
    "duration": 28,
    "start_time": "2022-07-16T21:20:01.182Z"
   },
   {
    "duration": 114,
    "start_time": "2022-07-16T21:20:01.212Z"
   },
   {
    "duration": 14,
    "start_time": "2022-07-16T21:20:01.328Z"
   },
   {
    "duration": 81,
    "start_time": "2022-07-16T21:20:01.344Z"
   },
   {
    "duration": 2261,
    "start_time": "2022-07-16T21:20:01.427Z"
   },
   {
    "duration": 6,
    "start_time": "2022-07-16T21:20:03.691Z"
   },
   {
    "duration": 23,
    "start_time": "2022-07-16T21:20:03.699Z"
   },
   {
    "duration": 10,
    "start_time": "2022-07-16T21:20:03.724Z"
   },
   {
    "duration": 12,
    "start_time": "2022-07-16T21:20:03.736Z"
   },
   {
    "duration": 40,
    "start_time": "2022-07-16T21:20:03.750Z"
   },
   {
    "duration": 22,
    "start_time": "2022-07-16T21:20:03.792Z"
   },
   {
    "duration": 17,
    "start_time": "2022-07-16T21:20:03.816Z"
   },
   {
    "duration": 6,
    "start_time": "2022-07-16T21:20:03.834Z"
   },
   {
    "duration": 6,
    "start_time": "2022-07-16T21:20:03.842Z"
   },
   {
    "duration": 8,
    "start_time": "2022-07-16T21:20:03.850Z"
   },
   {
    "duration": 7,
    "start_time": "2022-07-16T21:20:03.859Z"
   },
   {
    "duration": 22,
    "start_time": "2022-07-16T21:20:03.868Z"
   },
   {
    "duration": 5,
    "start_time": "2022-07-16T21:20:03.892Z"
   },
   {
    "duration": 15,
    "start_time": "2022-07-16T21:20:03.899Z"
   },
   {
    "duration": 5,
    "start_time": "2022-07-16T21:20:03.916Z"
   },
   {
    "duration": 17,
    "start_time": "2022-07-16T21:20:03.923Z"
   },
   {
    "duration": 4,
    "start_time": "2022-07-16T21:20:19.176Z"
   },
   {
    "duration": 8,
    "start_time": "2022-07-16T21:20:20.588Z"
   },
   {
    "duration": 85,
    "start_time": "2022-07-17T03:36:03.548Z"
   },
   {
    "duration": 395,
    "start_time": "2022-07-17T03:36:13.262Z"
   },
   {
    "duration": 2,
    "start_time": "2022-07-17T03:36:13.660Z"
   },
   {
    "duration": 369,
    "start_time": "2022-07-17T03:36:13.664Z"
   },
   {
    "duration": 13,
    "start_time": "2022-07-17T03:36:14.035Z"
   },
   {
    "duration": 14,
    "start_time": "2022-07-17T03:36:14.050Z"
   },
   {
    "duration": 81,
    "start_time": "2022-07-17T03:36:14.066Z"
   },
   {
    "duration": 27,
    "start_time": "2022-07-17T03:36:14.149Z"
   },
   {
    "duration": 76,
    "start_time": "2022-07-17T03:36:14.178Z"
   },
   {
    "duration": 2419,
    "start_time": "2022-07-17T03:36:14.257Z"
   },
   {
    "duration": 7,
    "start_time": "2022-07-17T03:36:16.681Z"
   },
   {
    "duration": 33,
    "start_time": "2022-07-17T03:36:16.691Z"
   },
   {
    "duration": 12,
    "start_time": "2022-07-17T03:36:16.730Z"
   },
   {
    "duration": 7,
    "start_time": "2022-07-17T03:36:16.746Z"
   },
   {
    "duration": 39,
    "start_time": "2022-07-17T03:36:16.755Z"
   },
   {
    "duration": 35,
    "start_time": "2022-07-17T03:36:16.797Z"
   },
   {
    "duration": 5,
    "start_time": "2022-07-17T03:36:16.835Z"
   },
   {
    "duration": 8,
    "start_time": "2022-07-17T03:36:16.843Z"
   },
   {
    "duration": 12,
    "start_time": "2022-07-17T03:36:16.853Z"
   },
   {
    "duration": 8,
    "start_time": "2022-07-17T03:36:16.868Z"
   },
   {
    "duration": 7,
    "start_time": "2022-07-17T03:36:16.878Z"
   },
   {
    "duration": 41,
    "start_time": "2022-07-17T03:36:16.887Z"
   },
   {
    "duration": 5,
    "start_time": "2022-07-17T03:36:16.932Z"
   },
   {
    "duration": 17,
    "start_time": "2022-07-17T03:36:16.939Z"
   },
   {
    "duration": 7,
    "start_time": "2022-07-17T03:36:16.958Z"
   },
   {
    "duration": 11,
    "start_time": "2022-07-17T03:36:16.967Z"
   },
   {
    "duration": 57,
    "start_time": "2022-07-17T03:36:16.980Z"
   },
   {
    "duration": 33,
    "start_time": "2022-07-17T03:37:08.367Z"
   },
   {
    "duration": 66,
    "start_time": "2022-07-17T03:37:34.758Z"
   },
   {
    "duration": 46,
    "start_time": "2022-07-17T03:38:07.201Z"
   },
   {
    "duration": 10,
    "start_time": "2022-07-17T03:38:26.300Z"
   },
   {
    "duration": 98,
    "start_time": "2022-07-17T03:39:23.949Z"
   },
   {
    "duration": 36,
    "start_time": "2022-07-17T03:39:40.939Z"
   },
   {
    "duration": 7,
    "start_time": "2022-07-17T03:41:27.542Z"
   },
   {
    "duration": 8,
    "start_time": "2022-07-17T03:41:52.336Z"
   },
   {
    "duration": 58,
    "start_time": "2022-07-17T03:43:58.288Z"
   },
   {
    "duration": 41,
    "start_time": "2022-07-17T03:45:20.265Z"
   },
   {
    "duration": 37,
    "start_time": "2022-07-17T03:45:47.678Z"
   },
   {
    "duration": 35,
    "start_time": "2022-07-17T03:46:10.630Z"
   },
   {
    "duration": 16,
    "start_time": "2022-07-17T03:46:22.933Z"
   },
   {
    "duration": 38,
    "start_time": "2022-07-17T03:46:27.493Z"
   },
   {
    "duration": 22,
    "start_time": "2022-07-17T03:47:05.988Z"
   },
   {
    "duration": 19,
    "start_time": "2022-07-17T03:47:29.481Z"
   },
   {
    "duration": 35,
    "start_time": "2022-07-17T03:48:07.017Z"
   },
   {
    "duration": 8,
    "start_time": "2022-07-17T03:48:13.694Z"
   },
   {
    "duration": 13,
    "start_time": "2022-07-17T03:48:21.789Z"
   },
   {
    "duration": 445,
    "start_time": "2022-07-17T03:48:28.007Z"
   },
   {
    "duration": 3,
    "start_time": "2022-07-17T03:48:28.454Z"
   },
   {
    "duration": 115,
    "start_time": "2022-07-17T03:48:28.458Z"
   },
   {
    "duration": 14,
    "start_time": "2022-07-17T03:48:28.575Z"
   },
   {
    "duration": 20,
    "start_time": "2022-07-17T03:48:28.591Z"
   },
   {
    "duration": 91,
    "start_time": "2022-07-17T03:48:28.613Z"
   },
   {
    "duration": 22,
    "start_time": "2022-07-17T03:48:28.706Z"
   },
   {
    "duration": 75,
    "start_time": "2022-07-17T03:48:28.729Z"
   },
   {
    "duration": 2330,
    "start_time": "2022-07-17T03:48:28.806Z"
   },
   {
    "duration": 6,
    "start_time": "2022-07-17T03:48:31.139Z"
   },
   {
    "duration": 18,
    "start_time": "2022-07-17T03:48:31.147Z"
   },
   {
    "duration": 15,
    "start_time": "2022-07-17T03:48:31.167Z"
   },
   {
    "duration": 9,
    "start_time": "2022-07-17T03:48:31.183Z"
   },
   {
    "duration": 56,
    "start_time": "2022-07-17T03:48:31.194Z"
   },
   {
    "duration": 15,
    "start_time": "2022-07-17T03:48:31.252Z"
   },
   {
    "duration": 9,
    "start_time": "2022-07-17T03:48:31.269Z"
   },
   {
    "duration": 11,
    "start_time": "2022-07-17T03:48:31.279Z"
   },
   {
    "duration": 13,
    "start_time": "2022-07-17T03:48:31.292Z"
   },
   {
    "duration": 40,
    "start_time": "2022-07-17T03:48:31.307Z"
   },
   {
    "duration": 5,
    "start_time": "2022-07-17T03:48:31.349Z"
   },
   {
    "duration": 17,
    "start_time": "2022-07-17T03:48:31.355Z"
   },
   {
    "duration": 4,
    "start_time": "2022-07-17T03:48:31.373Z"
   },
   {
    "duration": 22,
    "start_time": "2022-07-17T03:48:31.378Z"
   },
   {
    "duration": 11,
    "start_time": "2022-07-17T03:48:31.402Z"
   },
   {
    "duration": 30,
    "start_time": "2022-07-17T03:48:31.423Z"
   },
   {
    "duration": 60,
    "start_time": "2022-07-17T03:48:31.456Z"
   },
   {
    "duration": 10,
    "start_time": "2022-07-17T03:48:31.523Z"
   },
   {
    "duration": 25,
    "start_time": "2022-07-17T03:48:31.536Z"
   },
   {
    "duration": 100,
    "start_time": "2022-07-17T03:49:12.524Z"
   },
   {
    "duration": 32,
    "start_time": "2022-07-17T03:49:22.765Z"
   },
   {
    "duration": 40,
    "start_time": "2022-07-17T03:49:56.646Z"
   },
   {
    "duration": 34,
    "start_time": "2022-07-17T03:50:05.426Z"
   },
   {
    "duration": 12,
    "start_time": "2022-07-17T03:51:40.405Z"
   },
   {
    "duration": 61,
    "start_time": "2022-07-17T03:54:58.823Z"
   },
   {
    "duration": 66,
    "start_time": "2022-07-17T03:55:07.398Z"
   },
   {
    "duration": 7,
    "start_time": "2022-07-17T03:55:31.529Z"
   },
   {
    "duration": 18,
    "start_time": "2022-07-17T03:55:36.382Z"
   },
   {
    "duration": 11,
    "start_time": "2022-07-17T03:55:45.907Z"
   },
   {
    "duration": 6,
    "start_time": "2022-07-17T03:56:07.057Z"
   },
   {
    "duration": 6,
    "start_time": "2022-07-17T03:56:07.723Z"
   },
   {
    "duration": 6,
    "start_time": "2022-07-17T03:56:46.978Z"
   },
   {
    "duration": 6,
    "start_time": "2022-07-17T03:56:55.466Z"
   },
   {
    "duration": 5,
    "start_time": "2022-07-17T03:57:51.961Z"
   },
   {
    "duration": 8,
    "start_time": "2022-07-17T03:57:52.410Z"
   },
   {
    "duration": 10,
    "start_time": "2022-07-17T03:58:00.029Z"
   },
   {
    "duration": 6,
    "start_time": "2022-07-17T03:58:00.451Z"
   },
   {
    "duration": 400,
    "start_time": "2022-07-17T03:58:06.289Z"
   },
   {
    "duration": 2,
    "start_time": "2022-07-17T03:58:06.691Z"
   },
   {
    "duration": 97,
    "start_time": "2022-07-17T03:58:06.695Z"
   },
   {
    "duration": 11,
    "start_time": "2022-07-17T03:58:06.793Z"
   },
   {
    "duration": 25,
    "start_time": "2022-07-17T03:58:06.806Z"
   },
   {
    "duration": 75,
    "start_time": "2022-07-17T03:58:06.833Z"
   },
   {
    "duration": 16,
    "start_time": "2022-07-17T03:58:06.917Z"
   },
   {
    "duration": 55,
    "start_time": "2022-07-17T03:58:06.935Z"
   },
   {
    "duration": 2232,
    "start_time": "2022-07-17T03:58:06.992Z"
   },
   {
    "duration": 7,
    "start_time": "2022-07-17T03:58:09.228Z"
   },
   {
    "duration": 15,
    "start_time": "2022-07-17T03:58:09.237Z"
   },
   {
    "duration": 9,
    "start_time": "2022-07-17T03:58:09.254Z"
   },
   {
    "duration": 3,
    "start_time": "2022-07-17T03:58:09.265Z"
   },
   {
    "duration": 42,
    "start_time": "2022-07-17T03:58:09.269Z"
   },
   {
    "duration": 21,
    "start_time": "2022-07-17T03:58:09.316Z"
   },
   {
    "duration": 5,
    "start_time": "2022-07-17T03:58:09.338Z"
   },
   {
    "duration": 4,
    "start_time": "2022-07-17T03:58:09.344Z"
   },
   {
    "duration": 8,
    "start_time": "2022-07-17T03:58:09.350Z"
   },
   {
    "duration": 8,
    "start_time": "2022-07-17T03:58:09.360Z"
   },
   {
    "duration": 7,
    "start_time": "2022-07-17T03:58:09.369Z"
   },
   {
    "duration": 39,
    "start_time": "2022-07-17T03:58:09.377Z"
   },
   {
    "duration": 5,
    "start_time": "2022-07-17T03:58:09.418Z"
   },
   {
    "duration": 16,
    "start_time": "2022-07-17T03:58:09.425Z"
   },
   {
    "duration": 4,
    "start_time": "2022-07-17T03:58:09.443Z"
   },
   {
    "duration": 8,
    "start_time": "2022-07-17T03:58:09.448Z"
   },
   {
    "duration": 6,
    "start_time": "2022-07-17T03:58:09.458Z"
   },
   {
    "duration": 9,
    "start_time": "2022-07-17T03:58:09.465Z"
   },
   {
    "duration": 6,
    "start_time": "2022-07-17T03:58:09.477Z"
   },
   {
    "duration": 11,
    "start_time": "2022-07-17T03:58:27.984Z"
   },
   {
    "duration": 6,
    "start_time": "2022-07-17T03:58:28.743Z"
   },
   {
    "duration": 378,
    "start_time": "2022-07-17T03:58:34.179Z"
   },
   {
    "duration": 2,
    "start_time": "2022-07-17T03:58:34.559Z"
   },
   {
    "duration": 109,
    "start_time": "2022-07-17T03:58:34.562Z"
   },
   {
    "duration": 11,
    "start_time": "2022-07-17T03:58:34.673Z"
   },
   {
    "duration": 46,
    "start_time": "2022-07-17T03:58:34.685Z"
   },
   {
    "duration": 96,
    "start_time": "2022-07-17T03:58:34.733Z"
   },
   {
    "duration": 16,
    "start_time": "2022-07-17T03:58:34.831Z"
   },
   {
    "duration": 80,
    "start_time": "2022-07-17T03:58:34.848Z"
   },
   {
    "duration": 2287,
    "start_time": "2022-07-17T03:58:34.934Z"
   },
   {
    "duration": 7,
    "start_time": "2022-07-17T03:58:37.224Z"
   },
   {
    "duration": 29,
    "start_time": "2022-07-17T03:58:37.233Z"
   },
   {
    "duration": 8,
    "start_time": "2022-07-17T03:58:37.264Z"
   },
   {
    "duration": 4,
    "start_time": "2022-07-17T03:58:37.273Z"
   },
   {
    "duration": 27,
    "start_time": "2022-07-17T03:58:37.278Z"
   },
   {
    "duration": 31,
    "start_time": "2022-07-17T03:58:37.306Z"
   },
   {
    "duration": 9,
    "start_time": "2022-07-17T03:58:37.339Z"
   },
   {
    "duration": 7,
    "start_time": "2022-07-17T03:58:37.350Z"
   },
   {
    "duration": 10,
    "start_time": "2022-07-17T03:58:37.359Z"
   },
   {
    "duration": 7,
    "start_time": "2022-07-17T03:58:37.370Z"
   },
   {
    "duration": 6,
    "start_time": "2022-07-17T03:58:37.379Z"
   },
   {
    "duration": 17,
    "start_time": "2022-07-17T03:58:37.387Z"
   },
   {
    "duration": 16,
    "start_time": "2022-07-17T03:58:37.406Z"
   },
   {
    "duration": 30,
    "start_time": "2022-07-17T03:58:37.424Z"
   },
   {
    "duration": 9,
    "start_time": "2022-07-17T03:58:37.456Z"
   },
   {
    "duration": 20,
    "start_time": "2022-07-17T03:58:37.466Z"
   },
   {
    "duration": 11,
    "start_time": "2022-07-17T03:58:37.487Z"
   },
   {
    "duration": 5,
    "start_time": "2022-07-17T03:58:37.500Z"
   },
   {
    "duration": 18,
    "start_time": "2022-07-17T03:58:37.508Z"
   },
   {
    "duration": 97,
    "start_time": "2022-07-17T04:05:49.099Z"
   },
   {
    "duration": 26,
    "start_time": "2022-07-17T04:06:17.404Z"
   },
   {
    "duration": 414,
    "start_time": "2022-07-17T04:06:47.775Z"
   },
   {
    "duration": 2,
    "start_time": "2022-07-17T04:06:48.191Z"
   },
   {
    "duration": 100,
    "start_time": "2022-07-17T04:06:48.195Z"
   },
   {
    "duration": 11,
    "start_time": "2022-07-17T04:06:48.297Z"
   },
   {
    "duration": 37,
    "start_time": "2022-07-17T04:06:48.314Z"
   },
   {
    "duration": 76,
    "start_time": "2022-07-17T04:06:48.353Z"
   },
   {
    "duration": 15,
    "start_time": "2022-07-17T04:06:48.437Z"
   },
   {
    "duration": 75,
    "start_time": "2022-07-17T04:06:48.453Z"
   },
   {
    "duration": 2186,
    "start_time": "2022-07-17T04:06:48.535Z"
   },
   {
    "duration": 8,
    "start_time": "2022-07-17T04:06:50.724Z"
   },
   {
    "duration": 38,
    "start_time": "2022-07-17T04:06:50.733Z"
   },
   {
    "duration": 8,
    "start_time": "2022-07-17T04:06:50.773Z"
   },
   {
    "duration": 3,
    "start_time": "2022-07-17T04:06:50.783Z"
   },
   {
    "duration": 34,
    "start_time": "2022-07-17T04:06:50.787Z"
   },
   {
    "duration": 19,
    "start_time": "2022-07-17T04:06:50.828Z"
   },
   {
    "duration": 4,
    "start_time": "2022-07-17T04:06:50.849Z"
   },
   {
    "duration": 4,
    "start_time": "2022-07-17T04:06:50.854Z"
   },
   {
    "duration": 7,
    "start_time": "2022-07-17T04:06:50.859Z"
   },
   {
    "duration": 11,
    "start_time": "2022-07-17T04:06:50.868Z"
   },
   {
    "duration": 14,
    "start_time": "2022-07-17T04:06:50.880Z"
   },
   {
    "duration": 31,
    "start_time": "2022-07-17T04:06:50.896Z"
   },
   {
    "duration": 6,
    "start_time": "2022-07-17T04:06:50.933Z"
   },
   {
    "duration": 10,
    "start_time": "2022-07-17T04:06:50.940Z"
   },
   {
    "duration": 4,
    "start_time": "2022-07-17T04:06:50.952Z"
   },
   {
    "duration": 21,
    "start_time": "2022-07-17T04:06:50.958Z"
   },
   {
    "duration": 19,
    "start_time": "2022-07-17T04:06:50.981Z"
   },
   {
    "duration": 45,
    "start_time": "2022-07-17T04:17:27.926Z"
   },
   {
    "duration": 3,
    "start_time": "2022-07-17T04:17:39.456Z"
   },
   {
    "duration": 37,
    "start_time": "2022-07-17T04:17:46.357Z"
   },
   {
    "duration": 35,
    "start_time": "2022-07-17T04:18:25.542Z"
   },
   {
    "duration": 81,
    "start_time": "2022-07-17T04:19:01.138Z"
   },
   {
    "duration": 18,
    "start_time": "2022-07-17T04:19:19.626Z"
   },
   {
    "duration": 21,
    "start_time": "2022-07-17T04:19:42.742Z"
   },
   {
    "duration": 9,
    "start_time": "2022-07-17T04:20:22.779Z"
   },
   {
    "duration": 11,
    "start_time": "2022-07-17T04:20:32.037Z"
   },
   {
    "duration": 35,
    "start_time": "2022-07-17T04:20:52.501Z"
   },
   {
    "duration": 4,
    "start_time": "2022-07-17T04:25:28.091Z"
   },
   {
    "duration": 6,
    "start_time": "2022-07-17T04:26:07.950Z"
   },
   {
    "duration": 8,
    "start_time": "2022-07-17T04:26:14.921Z"
   },
   {
    "duration": 6,
    "start_time": "2022-07-17T04:26:32.682Z"
   },
   {
    "duration": 6,
    "start_time": "2022-07-17T04:26:33.533Z"
   },
   {
    "duration": 362,
    "start_time": "2022-07-17T04:26:50.160Z"
   },
   {
    "duration": 3,
    "start_time": "2022-07-17T04:26:50.524Z"
   },
   {
    "duration": 92,
    "start_time": "2022-07-17T04:26:50.529Z"
   },
   {
    "duration": 11,
    "start_time": "2022-07-17T04:26:50.623Z"
   },
   {
    "duration": 14,
    "start_time": "2022-07-17T04:26:50.635Z"
   },
   {
    "duration": 75,
    "start_time": "2022-07-17T04:26:50.650Z"
   },
   {
    "duration": 15,
    "start_time": "2022-07-17T04:26:50.727Z"
   },
   {
    "duration": 78,
    "start_time": "2022-07-17T04:26:50.743Z"
   },
   {
    "duration": 2229,
    "start_time": "2022-07-17T04:26:50.823Z"
   },
   {
    "duration": 5,
    "start_time": "2022-07-17T04:26:53.055Z"
   },
   {
    "duration": 27,
    "start_time": "2022-07-17T04:26:53.062Z"
   },
   {
    "duration": 14,
    "start_time": "2022-07-17T04:26:53.090Z"
   },
   {
    "duration": 22,
    "start_time": "2022-07-17T04:26:53.106Z"
   },
   {
    "duration": 47,
    "start_time": "2022-07-17T04:26:53.130Z"
   },
   {
    "duration": 15,
    "start_time": "2022-07-17T04:26:53.179Z"
   },
   {
    "duration": 29,
    "start_time": "2022-07-17T04:26:53.196Z"
   },
   {
    "duration": 26,
    "start_time": "2022-07-17T04:26:53.226Z"
   },
   {
    "duration": 19,
    "start_time": "2022-07-17T04:26:53.253Z"
   },
   {
    "duration": 27,
    "start_time": "2022-07-17T04:26:53.273Z"
   },
   {
    "duration": 27,
    "start_time": "2022-07-17T04:26:53.302Z"
   },
   {
    "duration": 24,
    "start_time": "2022-07-17T04:26:53.330Z"
   },
   {
    "duration": 9,
    "start_time": "2022-07-17T04:26:53.355Z"
   },
   {
    "duration": 23,
    "start_time": "2022-07-17T04:26:53.366Z"
   },
   {
    "duration": 12,
    "start_time": "2022-07-17T04:26:53.390Z"
   },
   {
    "duration": 46,
    "start_time": "2022-07-17T04:26:53.403Z"
   },
   {
    "duration": 15,
    "start_time": "2022-07-17T04:26:53.451Z"
   },
   {
    "duration": 17,
    "start_time": "2022-07-17T04:26:53.468Z"
   },
   {
    "duration": 59,
    "start_time": "2022-07-17T04:27:54.944Z"
   },
   {
    "duration": 52,
    "start_time": "2022-07-17T04:28:10.705Z"
   },
   {
    "duration": 6,
    "start_time": "2022-07-17T04:28:28.784Z"
   },
   {
    "duration": 6,
    "start_time": "2022-07-17T04:28:30.154Z"
   },
   {
    "duration": 16,
    "start_time": "2022-07-17T04:29:01.505Z"
   },
   {
    "duration": 6,
    "start_time": "2022-07-17T04:29:02.261Z"
   },
   {
    "duration": 6,
    "start_time": "2022-07-17T04:31:15.187Z"
   },
   {
    "duration": 6,
    "start_time": "2022-07-17T04:31:15.677Z"
   },
   {
    "duration": 3,
    "start_time": "2022-07-17T04:32:03.843Z"
   },
   {
    "duration": 7,
    "start_time": "2022-07-17T04:32:57.130Z"
   },
   {
    "duration": 7,
    "start_time": "2022-07-17T04:32:57.571Z"
   },
   {
    "duration": 4,
    "start_time": "2022-07-17T04:32:59.192Z"
   },
   {
    "duration": 6,
    "start_time": "2022-07-17T04:32:59.693Z"
   },
   {
    "duration": 24,
    "start_time": "2022-07-17T04:33:38.610Z"
   },
   {
    "duration": 5,
    "start_time": "2022-07-17T04:54:39.155Z"
   },
   {
    "duration": 7,
    "start_time": "2022-07-17T04:54:58.314Z"
   },
   {
    "duration": 4,
    "start_time": "2022-07-17T04:55:33.487Z"
   },
   {
    "duration": 6,
    "start_time": "2022-07-17T04:55:37.719Z"
   },
   {
    "duration": 14,
    "start_time": "2022-07-17T04:58:03.856Z"
   },
   {
    "duration": 7,
    "start_time": "2022-07-17T04:58:49.345Z"
   },
   {
    "duration": 16,
    "start_time": "2022-07-17T04:59:11.505Z"
   },
   {
    "duration": 13,
    "start_time": "2022-07-17T05:00:15.885Z"
   },
   {
    "duration": 17,
    "start_time": "2022-07-17T05:10:21.133Z"
   },
   {
    "duration": 378,
    "start_time": "2022-07-17T05:20:03.737Z"
   },
   {
    "duration": 3,
    "start_time": "2022-07-17T05:20:04.117Z"
   },
   {
    "duration": 117,
    "start_time": "2022-07-17T05:20:04.121Z"
   },
   {
    "duration": 12,
    "start_time": "2022-07-17T05:20:04.240Z"
   },
   {
    "duration": 21,
    "start_time": "2022-07-17T05:20:04.254Z"
   },
   {
    "duration": 75,
    "start_time": "2022-07-17T05:20:04.277Z"
   },
   {
    "duration": 14,
    "start_time": "2022-07-17T05:20:04.354Z"
   },
   {
    "duration": 83,
    "start_time": "2022-07-17T05:20:04.370Z"
   },
   {
    "duration": 2129,
    "start_time": "2022-07-17T05:20:04.455Z"
   },
   {
    "duration": 6,
    "start_time": "2022-07-17T05:20:06.587Z"
   },
   {
    "duration": 25,
    "start_time": "2022-07-17T05:20:06.594Z"
   },
   {
    "duration": 10,
    "start_time": "2022-07-17T05:20:06.620Z"
   },
   {
    "duration": 3,
    "start_time": "2022-07-17T05:20:06.632Z"
   },
   {
    "duration": 34,
    "start_time": "2022-07-17T05:20:06.636Z"
   },
   {
    "duration": 16,
    "start_time": "2022-07-17T05:20:06.672Z"
   },
   {
    "duration": 22,
    "start_time": "2022-07-17T05:20:06.689Z"
   },
   {
    "duration": 5,
    "start_time": "2022-07-17T05:20:06.713Z"
   },
   {
    "duration": 10,
    "start_time": "2022-07-17T05:20:06.720Z"
   },
   {
    "duration": 16,
    "start_time": "2022-07-17T05:20:06.732Z"
   },
   {
    "duration": 14,
    "start_time": "2022-07-17T05:20:06.749Z"
   },
   {
    "duration": 6,
    "start_time": "2022-07-17T05:20:06.765Z"
   },
   {
    "duration": 10,
    "start_time": "2022-07-17T05:20:06.773Z"
   },
   {
    "duration": 6,
    "start_time": "2022-07-17T05:20:06.785Z"
   },
   {
    "duration": 11,
    "start_time": "2022-07-17T05:20:06.793Z"
   },
   {
    "duration": 11,
    "start_time": "2022-07-17T05:20:06.805Z"
   },
   {
    "duration": 8,
    "start_time": "2022-07-17T05:20:06.818Z"
   },
   {
    "duration": 8,
    "start_time": "2022-07-17T05:20:06.828Z"
   },
   {
    "duration": 16,
    "start_time": "2022-07-17T05:20:06.838Z"
   },
   {
    "duration": 20,
    "start_time": "2022-07-17T05:20:06.856Z"
   },
   {
    "duration": 372,
    "start_time": "2022-07-17T05:20:49.243Z"
   },
   {
    "duration": 2,
    "start_time": "2022-07-17T05:20:49.617Z"
   },
   {
    "duration": 97,
    "start_time": "2022-07-17T05:20:49.620Z"
   },
   {
    "duration": 11,
    "start_time": "2022-07-17T05:20:49.720Z"
   },
   {
    "duration": 23,
    "start_time": "2022-07-17T05:20:49.732Z"
   },
   {
    "duration": 90,
    "start_time": "2022-07-17T05:20:49.756Z"
   },
   {
    "duration": 13,
    "start_time": "2022-07-17T05:20:49.847Z"
   },
   {
    "duration": 77,
    "start_time": "2022-07-17T05:20:49.861Z"
   },
   {
    "duration": 2232,
    "start_time": "2022-07-17T05:20:49.940Z"
   },
   {
    "duration": 6,
    "start_time": "2022-07-17T05:20:52.175Z"
   },
   {
    "duration": 20,
    "start_time": "2022-07-17T05:20:52.183Z"
   },
   {
    "duration": 9,
    "start_time": "2022-07-17T05:20:52.205Z"
   },
   {
    "duration": 5,
    "start_time": "2022-07-17T05:20:52.215Z"
   },
   {
    "duration": 26,
    "start_time": "2022-07-17T05:20:52.222Z"
   },
   {
    "duration": 14,
    "start_time": "2022-07-17T05:20:52.250Z"
   },
   {
    "duration": 4,
    "start_time": "2022-07-17T05:20:52.266Z"
   },
   {
    "duration": 5,
    "start_time": "2022-07-17T05:20:52.271Z"
   },
   {
    "duration": 5,
    "start_time": "2022-07-17T05:20:52.277Z"
   },
   {
    "duration": 25,
    "start_time": "2022-07-17T05:20:52.284Z"
   },
   {
    "duration": 3,
    "start_time": "2022-07-17T05:20:52.311Z"
   },
   {
    "duration": 5,
    "start_time": "2022-07-17T05:20:52.316Z"
   },
   {
    "duration": 9,
    "start_time": "2022-07-17T05:20:52.323Z"
   },
   {
    "duration": 10,
    "start_time": "2022-07-17T05:20:52.334Z"
   },
   {
    "duration": 5,
    "start_time": "2022-07-17T05:20:52.346Z"
   },
   {
    "duration": 10,
    "start_time": "2022-07-17T05:20:52.352Z"
   },
   {
    "duration": 10,
    "start_time": "2022-07-17T05:20:52.363Z"
   },
   {
    "duration": 9,
    "start_time": "2022-07-17T05:20:52.374Z"
   },
   {
    "duration": 32,
    "start_time": "2022-07-17T05:20:52.385Z"
   },
   {
    "duration": 19,
    "start_time": "2022-07-17T05:20:52.418Z"
   },
   {
    "duration": 6,
    "start_time": "2022-07-17T05:21:55.916Z"
   },
   {
    "duration": 19,
    "start_time": "2022-07-17T05:29:09.149Z"
   },
   {
    "duration": 19,
    "start_time": "2022-07-17T05:29:27.851Z"
   },
   {
    "duration": 6,
    "start_time": "2022-07-17T05:32:46.965Z"
   },
   {
    "duration": 6,
    "start_time": "2022-07-17T05:33:22.748Z"
   },
   {
    "duration": 73,
    "start_time": "2022-07-17T05:33:23.613Z"
   },
   {
    "duration": 19,
    "start_time": "2022-07-17T05:34:24.723Z"
   },
   {
    "duration": 5,
    "start_time": "2022-07-17T05:34:25.877Z"
   },
   {
    "duration": 5,
    "start_time": "2022-07-17T05:34:26.279Z"
   },
   {
    "duration": 9,
    "start_time": "2022-07-17T05:38:04.997Z"
   },
   {
    "duration": 432,
    "start_time": "2022-07-17T05:38:15.570Z"
   },
   {
    "duration": 7,
    "start_time": "2022-07-17T05:39:36.867Z"
   },
   {
    "duration": 49,
    "start_time": "2022-07-17T05:40:32.018Z"
   },
   {
    "duration": 19,
    "start_time": "2022-07-17T05:40:42.076Z"
   },
   {
    "duration": 370,
    "start_time": "2022-07-17T05:41:18.060Z"
   },
   {
    "duration": 2,
    "start_time": "2022-07-17T05:41:18.432Z"
   },
   {
    "duration": 94,
    "start_time": "2022-07-17T05:41:18.436Z"
   },
   {
    "duration": 11,
    "start_time": "2022-07-17T05:41:18.533Z"
   },
   {
    "duration": 17,
    "start_time": "2022-07-17T05:41:18.546Z"
   },
   {
    "duration": 85,
    "start_time": "2022-07-17T05:41:18.564Z"
   },
   {
    "duration": 14,
    "start_time": "2022-07-17T05:41:18.651Z"
   },
   {
    "duration": 75,
    "start_time": "2022-07-17T05:41:18.666Z"
   },
   {
    "duration": 2137,
    "start_time": "2022-07-17T05:41:18.743Z"
   },
   {
    "duration": 6,
    "start_time": "2022-07-17T05:41:20.883Z"
   },
   {
    "duration": 17,
    "start_time": "2022-07-17T05:41:20.890Z"
   },
   {
    "duration": 8,
    "start_time": "2022-07-17T05:41:20.909Z"
   },
   {
    "duration": 9,
    "start_time": "2022-07-17T05:41:20.918Z"
   },
   {
    "duration": 40,
    "start_time": "2022-07-17T05:41:20.928Z"
   },
   {
    "duration": 16,
    "start_time": "2022-07-17T05:41:20.969Z"
   },
   {
    "duration": 4,
    "start_time": "2022-07-17T05:41:20.987Z"
   },
   {
    "duration": 3,
    "start_time": "2022-07-17T05:41:21.010Z"
   },
   {
    "duration": 9,
    "start_time": "2022-07-17T05:41:21.014Z"
   },
   {
    "duration": 31,
    "start_time": "2022-07-17T05:41:21.025Z"
   },
   {
    "duration": 20,
    "start_time": "2022-07-17T05:41:21.058Z"
   },
   {
    "duration": 14,
    "start_time": "2022-07-17T05:41:21.080Z"
   },
   {
    "duration": 16,
    "start_time": "2022-07-17T05:41:21.096Z"
   },
   {
    "duration": 9,
    "start_time": "2022-07-17T05:41:21.114Z"
   },
   {
    "duration": 9,
    "start_time": "2022-07-17T05:41:21.125Z"
   },
   {
    "duration": 12,
    "start_time": "2022-07-17T05:41:21.135Z"
   },
   {
    "duration": 5,
    "start_time": "2022-07-17T05:41:21.148Z"
   },
   {
    "duration": 13,
    "start_time": "2022-07-17T05:41:21.155Z"
   },
   {
    "duration": 16,
    "start_time": "2022-07-17T05:41:21.171Z"
   },
   {
    "duration": 26,
    "start_time": "2022-07-17T05:41:21.188Z"
   },
   {
    "duration": 18,
    "start_time": "2022-07-17T05:41:21.215Z"
   },
   {
    "duration": 5,
    "start_time": "2022-07-17T05:41:21.234Z"
   },
   {
    "duration": 10,
    "start_time": "2022-07-17T05:41:21.240Z"
   },
   {
    "duration": 11,
    "start_time": "2022-07-17T05:41:21.252Z"
   },
   {
    "duration": 22,
    "start_time": "2022-07-17T05:41:21.264Z"
   },
   {
    "duration": 394,
    "start_time": "2022-07-17T05:42:30.518Z"
   },
   {
    "duration": 3,
    "start_time": "2022-07-17T05:42:30.914Z"
   },
   {
    "duration": 94,
    "start_time": "2022-07-17T05:42:30.919Z"
   },
   {
    "duration": 14,
    "start_time": "2022-07-17T05:42:31.016Z"
   },
   {
    "duration": 22,
    "start_time": "2022-07-17T05:42:31.032Z"
   },
   {
    "duration": 105,
    "start_time": "2022-07-17T05:42:31.056Z"
   },
   {
    "duration": 14,
    "start_time": "2022-07-17T05:42:31.162Z"
   },
   {
    "duration": 67,
    "start_time": "2022-07-17T05:42:31.178Z"
   },
   {
    "duration": 2125,
    "start_time": "2022-07-17T05:42:31.247Z"
   },
   {
    "duration": 6,
    "start_time": "2022-07-17T05:42:33.375Z"
   },
   {
    "duration": 39,
    "start_time": "2022-07-17T05:42:33.382Z"
   },
   {
    "duration": 17,
    "start_time": "2022-07-17T05:42:33.423Z"
   },
   {
    "duration": 31,
    "start_time": "2022-07-17T05:42:33.441Z"
   },
   {
    "duration": 39,
    "start_time": "2022-07-17T05:42:33.474Z"
   },
   {
    "duration": 16,
    "start_time": "2022-07-17T05:42:33.514Z"
   },
   {
    "duration": 22,
    "start_time": "2022-07-17T05:42:33.531Z"
   },
   {
    "duration": 9,
    "start_time": "2022-07-17T05:42:33.554Z"
   },
   {
    "duration": 35,
    "start_time": "2022-07-17T05:42:33.565Z"
   },
   {
    "duration": 23,
    "start_time": "2022-07-17T05:42:33.602Z"
   },
   {
    "duration": 29,
    "start_time": "2022-07-17T05:42:33.626Z"
   },
   {
    "duration": 23,
    "start_time": "2022-07-17T05:42:33.656Z"
   },
   {
    "duration": 23,
    "start_time": "2022-07-17T05:42:33.680Z"
   },
   {
    "duration": 46,
    "start_time": "2022-07-17T05:42:33.704Z"
   },
   {
    "duration": 16,
    "start_time": "2022-07-17T05:42:33.751Z"
   },
   {
    "duration": 26,
    "start_time": "2022-07-17T05:42:33.769Z"
   },
   {
    "duration": 27,
    "start_time": "2022-07-17T05:42:33.797Z"
   },
   {
    "duration": 25,
    "start_time": "2022-07-17T05:42:33.825Z"
   },
   {
    "duration": 18,
    "start_time": "2022-07-17T05:42:33.854Z"
   },
   {
    "duration": 36,
    "start_time": "2022-07-17T05:42:33.874Z"
   },
   {
    "duration": 18,
    "start_time": "2022-07-17T05:42:33.912Z"
   },
   {
    "duration": 15,
    "start_time": "2022-07-17T05:42:33.932Z"
   },
   {
    "duration": 6,
    "start_time": "2022-07-17T05:42:33.949Z"
   },
   {
    "duration": 14,
    "start_time": "2022-07-17T05:42:33.956Z"
   },
   {
    "duration": 20,
    "start_time": "2022-07-17T05:42:33.971Z"
   },
   {
    "duration": 14,
    "start_time": "2022-07-17T05:48:55.596Z"
   },
   {
    "duration": 31,
    "start_time": "2022-07-17T05:53:18.035Z"
   },
   {
    "duration": 26,
    "start_time": "2022-07-17T05:53:57.074Z"
   },
   {
    "duration": 22,
    "start_time": "2022-07-17T05:54:11.265Z"
   },
   {
    "duration": 6,
    "start_time": "2022-07-17T05:55:14.755Z"
   },
   {
    "duration": 6,
    "start_time": "2022-07-17T05:55:43.870Z"
   },
   {
    "duration": 7,
    "start_time": "2022-07-17T05:55:54.252Z"
   },
   {
    "duration": 7,
    "start_time": "2022-07-17T05:56:23.704Z"
   },
   {
    "duration": 23,
    "start_time": "2022-07-17T06:20:22.790Z"
   },
   {
    "duration": 4,
    "start_time": "2022-07-17T06:26:45.953Z"
   },
   {
    "duration": 4,
    "start_time": "2022-07-17T06:26:46.265Z"
   },
   {
    "duration": 4,
    "start_time": "2022-07-17T06:26:46.503Z"
   },
   {
    "duration": 283,
    "start_time": "2022-07-17T06:26:46.782Z"
   },
   {
    "duration": 233,
    "start_time": "2022-07-17T06:26:47.193Z"
   },
   {
    "duration": 371,
    "start_time": "2022-07-17T06:27:42.160Z"
   },
   {
    "duration": 3,
    "start_time": "2022-07-17T06:27:42.533Z"
   },
   {
    "duration": 109,
    "start_time": "2022-07-17T06:27:42.538Z"
   },
   {
    "duration": 15,
    "start_time": "2022-07-17T06:27:42.650Z"
   },
   {
    "duration": 24,
    "start_time": "2022-07-17T06:27:42.667Z"
   },
   {
    "duration": 89,
    "start_time": "2022-07-17T06:27:42.693Z"
   },
   {
    "duration": 14,
    "start_time": "2022-07-17T06:27:42.784Z"
   },
   {
    "duration": 28,
    "start_time": "2022-07-17T06:27:42.810Z"
   },
   {
    "duration": 2167,
    "start_time": "2022-07-17T06:27:42.841Z"
   },
   {
    "duration": 8,
    "start_time": "2022-07-17T06:27:45.013Z"
   },
   {
    "duration": 37,
    "start_time": "2022-07-17T06:27:45.023Z"
   },
   {
    "duration": 14,
    "start_time": "2022-07-17T06:27:45.062Z"
   },
   {
    "duration": 51,
    "start_time": "2022-07-17T06:27:45.077Z"
   },
   {
    "duration": 0,
    "start_time": "2022-07-17T06:27:45.131Z"
   },
   {
    "duration": 0,
    "start_time": "2022-07-17T06:27:45.132Z"
   },
   {
    "duration": 0,
    "start_time": "2022-07-17T06:27:45.134Z"
   },
   {
    "duration": 0,
    "start_time": "2022-07-17T06:27:45.135Z"
   },
   {
    "duration": 0,
    "start_time": "2022-07-17T06:27:45.136Z"
   },
   {
    "duration": 0,
    "start_time": "2022-07-17T06:27:45.138Z"
   },
   {
    "duration": 0,
    "start_time": "2022-07-17T06:27:45.140Z"
   },
   {
    "duration": 0,
    "start_time": "2022-07-17T06:27:45.141Z"
   },
   {
    "duration": 0,
    "start_time": "2022-07-17T06:27:45.142Z"
   },
   {
    "duration": 0,
    "start_time": "2022-07-17T06:27:45.143Z"
   },
   {
    "duration": 0,
    "start_time": "2022-07-17T06:27:45.145Z"
   },
   {
    "duration": 0,
    "start_time": "2022-07-17T06:27:45.146Z"
   },
   {
    "duration": 0,
    "start_time": "2022-07-17T06:27:45.148Z"
   },
   {
    "duration": 0,
    "start_time": "2022-07-17T06:27:45.149Z"
   },
   {
    "duration": 0,
    "start_time": "2022-07-17T06:27:45.151Z"
   },
   {
    "duration": 0,
    "start_time": "2022-07-17T06:27:45.152Z"
   },
   {
    "duration": 0,
    "start_time": "2022-07-17T06:27:45.153Z"
   },
   {
    "duration": 0,
    "start_time": "2022-07-17T06:27:45.154Z"
   },
   {
    "duration": 0,
    "start_time": "2022-07-17T06:27:45.156Z"
   },
   {
    "duration": 0,
    "start_time": "2022-07-17T06:27:45.157Z"
   },
   {
    "duration": 0,
    "start_time": "2022-07-17T06:27:45.159Z"
   },
   {
    "duration": 0,
    "start_time": "2022-07-17T06:27:45.160Z"
   },
   {
    "duration": 0,
    "start_time": "2022-07-17T06:27:45.161Z"
   },
   {
    "duration": 0,
    "start_time": "2022-07-17T06:27:45.163Z"
   },
   {
    "duration": 0,
    "start_time": "2022-07-17T06:27:45.164Z"
   },
   {
    "duration": 0,
    "start_time": "2022-07-17T06:27:45.165Z"
   },
   {
    "duration": 74,
    "start_time": "2022-07-17T06:28:31.012Z"
   },
   {
    "duration": 55,
    "start_time": "2022-07-17T06:28:31.897Z"
   },
   {
    "duration": 2,
    "start_time": "2022-07-17T06:28:39.403Z"
   },
   {
    "duration": 1,
    "start_time": "2022-07-17T06:28:40.049Z"
   },
   {
    "duration": 2,
    "start_time": "2022-07-17T06:28:41.589Z"
   },
   {
    "duration": 5,
    "start_time": "2022-07-17T06:28:42.855Z"
   },
   {
    "duration": 4,
    "start_time": "2022-07-17T06:28:44.929Z"
   },
   {
    "duration": 7,
    "start_time": "2022-07-17T06:28:45.356Z"
   },
   {
    "duration": 3,
    "start_time": "2022-07-17T06:28:45.925Z"
   },
   {
    "duration": 3,
    "start_time": "2022-07-17T06:28:46.132Z"
   },
   {
    "duration": 4,
    "start_time": "2022-07-17T06:28:46.628Z"
   },
   {
    "duration": 8,
    "start_time": "2022-07-17T06:28:47.421Z"
   },
   {
    "duration": 8,
    "start_time": "2022-07-17T06:28:48.649Z"
   },
   {
    "duration": 4,
    "start_time": "2022-07-17T06:28:49.085Z"
   },
   {
    "duration": 6,
    "start_time": "2022-07-17T06:28:49.508Z"
   },
   {
    "duration": 4,
    "start_time": "2022-07-17T06:28:50.180Z"
   },
   {
    "duration": 7,
    "start_time": "2022-07-17T06:28:50.532Z"
   },
   {
    "duration": 9,
    "start_time": "2022-07-17T06:28:50.815Z"
   },
   {
    "duration": 12,
    "start_time": "2022-07-17T06:28:55.822Z"
   },
   {
    "duration": 5,
    "start_time": "2022-07-17T06:28:57.472Z"
   },
   {
    "duration": 4,
    "start_time": "2022-07-17T06:28:57.688Z"
   },
   {
    "duration": 4,
    "start_time": "2022-07-17T06:28:57.895Z"
   },
   {
    "duration": 73,
    "start_time": "2022-07-17T06:28:58.300Z"
   },
   {
    "duration": 12,
    "start_time": "2022-07-17T06:28:58.568Z"
   },
   {
    "duration": 11,
    "start_time": "2022-07-17T06:29:16.724Z"
   },
   {
    "duration": 394,
    "start_time": "2022-07-17T06:31:41.464Z"
   },
   {
    "duration": 3,
    "start_time": "2022-07-17T06:31:41.860Z"
   },
   {
    "duration": 92,
    "start_time": "2022-07-17T06:31:41.865Z"
   },
   {
    "duration": 13,
    "start_time": "2022-07-17T06:31:41.959Z"
   },
   {
    "duration": 18,
    "start_time": "2022-07-17T06:31:41.974Z"
   },
   {
    "duration": 86,
    "start_time": "2022-07-17T06:31:41.993Z"
   },
   {
    "duration": 15,
    "start_time": "2022-07-17T06:31:42.081Z"
   },
   {
    "duration": 41,
    "start_time": "2022-07-17T06:31:42.097Z"
   },
   {
    "duration": 2180,
    "start_time": "2022-07-17T06:31:42.140Z"
   },
   {
    "duration": 5,
    "start_time": "2022-07-17T06:31:44.323Z"
   },
   {
    "duration": 16,
    "start_time": "2022-07-17T06:31:44.330Z"
   },
   {
    "duration": 8,
    "start_time": "2022-07-17T06:31:44.348Z"
   },
   {
    "duration": 45,
    "start_time": "2022-07-17T06:31:44.358Z"
   },
   {
    "duration": 0,
    "start_time": "2022-07-17T06:31:44.405Z"
   },
   {
    "duration": 0,
    "start_time": "2022-07-17T06:31:44.406Z"
   },
   {
    "duration": 0,
    "start_time": "2022-07-17T06:31:44.407Z"
   },
   {
    "duration": 0,
    "start_time": "2022-07-17T06:31:44.408Z"
   },
   {
    "duration": 0,
    "start_time": "2022-07-17T06:31:44.410Z"
   },
   {
    "duration": 0,
    "start_time": "2022-07-17T06:31:44.411Z"
   },
   {
    "duration": 0,
    "start_time": "2022-07-17T06:31:44.412Z"
   },
   {
    "duration": 0,
    "start_time": "2022-07-17T06:31:44.413Z"
   },
   {
    "duration": 0,
    "start_time": "2022-07-17T06:31:44.414Z"
   },
   {
    "duration": 0,
    "start_time": "2022-07-17T06:31:44.415Z"
   },
   {
    "duration": 0,
    "start_time": "2022-07-17T06:31:44.416Z"
   },
   {
    "duration": 0,
    "start_time": "2022-07-17T06:31:44.417Z"
   },
   {
    "duration": 0,
    "start_time": "2022-07-17T06:31:44.418Z"
   },
   {
    "duration": 0,
    "start_time": "2022-07-17T06:31:44.419Z"
   },
   {
    "duration": 0,
    "start_time": "2022-07-17T06:31:44.420Z"
   },
   {
    "duration": 0,
    "start_time": "2022-07-17T06:31:44.421Z"
   },
   {
    "duration": 0,
    "start_time": "2022-07-17T06:31:44.422Z"
   },
   {
    "duration": 0,
    "start_time": "2022-07-17T06:31:44.423Z"
   },
   {
    "duration": 0,
    "start_time": "2022-07-17T06:31:44.425Z"
   },
   {
    "duration": 0,
    "start_time": "2022-07-17T06:31:44.426Z"
   },
   {
    "duration": 0,
    "start_time": "2022-07-17T06:31:44.427Z"
   },
   {
    "duration": 0,
    "start_time": "2022-07-17T06:31:44.428Z"
   },
   {
    "duration": 0,
    "start_time": "2022-07-17T06:31:44.429Z"
   },
   {
    "duration": 0,
    "start_time": "2022-07-17T06:31:44.430Z"
   },
   {
    "duration": 0,
    "start_time": "2022-07-17T06:31:44.431Z"
   },
   {
    "duration": 0,
    "start_time": "2022-07-17T06:31:44.432Z"
   },
   {
    "duration": 2,
    "start_time": "2022-07-17T06:32:00.234Z"
   },
   {
    "duration": 48,
    "start_time": "2022-07-17T06:32:02.336Z"
   },
   {
    "duration": 25,
    "start_time": "2022-07-17T06:32:06.720Z"
   },
   {
    "duration": 16,
    "start_time": "2022-07-17T06:32:07.769Z"
   },
   {
    "duration": 428,
    "start_time": "2022-07-17T06:32:16.770Z"
   },
   {
    "duration": 3,
    "start_time": "2022-07-17T06:32:17.201Z"
   },
   {
    "duration": 104,
    "start_time": "2022-07-17T06:32:17.206Z"
   },
   {
    "duration": 12,
    "start_time": "2022-07-17T06:32:17.311Z"
   },
   {
    "duration": 35,
    "start_time": "2022-07-17T06:32:17.325Z"
   },
   {
    "duration": 86,
    "start_time": "2022-07-17T06:32:17.361Z"
   },
   {
    "duration": 14,
    "start_time": "2022-07-17T06:32:17.448Z"
   },
   {
    "duration": 44,
    "start_time": "2022-07-17T06:32:17.463Z"
   },
   {
    "duration": 2191,
    "start_time": "2022-07-17T06:32:17.509Z"
   },
   {
    "duration": 7,
    "start_time": "2022-07-17T06:32:19.702Z"
   },
   {
    "duration": 51,
    "start_time": "2022-07-17T06:32:19.710Z"
   },
   {
    "duration": 27,
    "start_time": "2022-07-17T06:32:19.762Z"
   },
   {
    "duration": 20,
    "start_time": "2022-07-17T06:32:19.790Z"
   },
   {
    "duration": 39,
    "start_time": "2022-07-17T06:32:19.813Z"
   },
   {
    "duration": 18,
    "start_time": "2022-07-17T06:32:19.854Z"
   },
   {
    "duration": 9,
    "start_time": "2022-07-17T06:32:19.874Z"
   },
   {
    "duration": 27,
    "start_time": "2022-07-17T06:32:19.884Z"
   },
   {
    "duration": 31,
    "start_time": "2022-07-17T06:32:19.913Z"
   },
   {
    "duration": 19,
    "start_time": "2022-07-17T06:32:19.946Z"
   },
   {
    "duration": 34,
    "start_time": "2022-07-17T06:32:19.967Z"
   },
   {
    "duration": 39,
    "start_time": "2022-07-17T06:32:20.003Z"
   },
   {
    "duration": 19,
    "start_time": "2022-07-17T06:32:20.044Z"
   },
   {
    "duration": 26,
    "start_time": "2022-07-17T06:32:20.065Z"
   },
   {
    "duration": 44,
    "start_time": "2022-07-17T06:32:20.092Z"
   },
   {
    "duration": 25,
    "start_time": "2022-07-17T06:32:20.138Z"
   },
   {
    "duration": 46,
    "start_time": "2022-07-17T06:32:20.164Z"
   },
   {
    "duration": 55,
    "start_time": "2022-07-17T06:32:20.212Z"
   },
   {
    "duration": 34,
    "start_time": "2022-07-17T06:32:20.269Z"
   },
   {
    "duration": 50,
    "start_time": "2022-07-17T06:32:20.304Z"
   },
   {
    "duration": 21,
    "start_time": "2022-07-17T06:32:20.356Z"
   },
   {
    "duration": 23,
    "start_time": "2022-07-17T06:32:20.378Z"
   },
   {
    "duration": 42,
    "start_time": "2022-07-17T06:32:20.403Z"
   },
   {
    "duration": 39,
    "start_time": "2022-07-17T06:32:20.447Z"
   },
   {
    "duration": 31,
    "start_time": "2022-07-17T06:32:20.488Z"
   },
   {
    "duration": 32,
    "start_time": "2022-07-17T06:32:20.521Z"
   },
   {
    "duration": 61,
    "start_time": "2022-07-17T06:32:20.555Z"
   },
   {
    "duration": 33,
    "start_time": "2022-07-17T06:32:20.618Z"
   },
   {
    "duration": 15,
    "start_time": "2022-07-17T06:32:20.653Z"
   },
   {
    "duration": 44,
    "start_time": "2022-07-17T06:32:20.670Z"
   },
   {
    "duration": 7,
    "start_time": "2022-07-17T06:33:46.273Z"
   },
   {
    "duration": 372,
    "start_time": "2022-07-17T06:34:12.473Z"
   },
   {
    "duration": 3,
    "start_time": "2022-07-17T06:34:12.846Z"
   },
   {
    "duration": 90,
    "start_time": "2022-07-17T06:34:12.851Z"
   },
   {
    "duration": 11,
    "start_time": "2022-07-17T06:34:12.943Z"
   },
   {
    "duration": 12,
    "start_time": "2022-07-17T06:34:12.957Z"
   },
   {
    "duration": 89,
    "start_time": "2022-07-17T06:34:12.971Z"
   },
   {
    "duration": 15,
    "start_time": "2022-07-17T06:34:13.061Z"
   },
   {
    "duration": 42,
    "start_time": "2022-07-17T06:34:13.077Z"
   },
   {
    "duration": 2099,
    "start_time": "2022-07-17T06:34:13.121Z"
   },
   {
    "duration": 6,
    "start_time": "2022-07-17T06:34:15.222Z"
   },
   {
    "duration": 16,
    "start_time": "2022-07-17T06:34:15.229Z"
   },
   {
    "duration": 11,
    "start_time": "2022-07-17T06:34:15.247Z"
   },
   {
    "duration": 9,
    "start_time": "2022-07-17T06:34:15.259Z"
   },
   {
    "duration": 2,
    "start_time": "2022-07-17T06:34:15.271Z"
   },
   {
    "duration": 11,
    "start_time": "2022-07-17T06:34:15.275Z"
   },
   {
    "duration": 24,
    "start_time": "2022-07-17T06:34:15.287Z"
   },
   {
    "duration": 4,
    "start_time": "2022-07-17T06:34:15.313Z"
   },
   {
    "duration": 8,
    "start_time": "2022-07-17T06:34:15.318Z"
   },
   {
    "duration": 8,
    "start_time": "2022-07-17T06:34:15.327Z"
   },
   {
    "duration": 5,
    "start_time": "2022-07-17T06:34:15.336Z"
   },
   {
    "duration": 5,
    "start_time": "2022-07-17T06:34:15.343Z"
   },
   {
    "duration": 5,
    "start_time": "2022-07-17T06:34:15.349Z"
   },
   {
    "duration": 8,
    "start_time": "2022-07-17T06:34:15.355Z"
   },
   {
    "duration": 7,
    "start_time": "2022-07-17T06:34:15.364Z"
   },
   {
    "duration": 6,
    "start_time": "2022-07-17T06:34:15.373Z"
   },
   {
    "duration": 7,
    "start_time": "2022-07-17T06:34:15.380Z"
   },
   {
    "duration": 24,
    "start_time": "2022-07-17T06:34:15.388Z"
   },
   {
    "duration": 8,
    "start_time": "2022-07-17T06:34:15.413Z"
   },
   {
    "duration": 9,
    "start_time": "2022-07-17T06:34:15.422Z"
   },
   {
    "duration": 12,
    "start_time": "2022-07-17T06:34:15.433Z"
   },
   {
    "duration": 4,
    "start_time": "2022-07-17T06:34:15.447Z"
   },
   {
    "duration": 9,
    "start_time": "2022-07-17T06:34:15.453Z"
   },
   {
    "duration": 5,
    "start_time": "2022-07-17T06:34:15.463Z"
   },
   {
    "duration": 12,
    "start_time": "2022-07-17T06:34:15.469Z"
   },
   {
    "duration": 26,
    "start_time": "2022-07-17T06:34:15.483Z"
   },
   {
    "duration": 18,
    "start_time": "2022-07-17T06:34:15.511Z"
   },
   {
    "duration": 22,
    "start_time": "2022-07-17T06:34:15.530Z"
   },
   {
    "duration": 23,
    "start_time": "2022-07-17T06:34:15.554Z"
   },
   {
    "duration": 5,
    "start_time": "2022-07-17T06:34:15.579Z"
   },
   {
    "duration": 53,
    "start_time": "2022-07-17T06:34:15.585Z"
   },
   {
    "duration": 92,
    "start_time": "2022-07-17T06:34:54.060Z"
   },
   {
    "duration": 7,
    "start_time": "2022-07-17T06:35:18.777Z"
   },
   {
    "duration": 8,
    "start_time": "2022-07-17T06:35:25.477Z"
   },
   {
    "duration": 226,
    "start_time": "2022-07-17T06:35:48.635Z"
   },
   {
    "duration": 7,
    "start_time": "2022-07-17T06:35:58.911Z"
   },
   {
    "duration": 195,
    "start_time": "2022-07-17T06:35:59.769Z"
   },
   {
    "duration": 383,
    "start_time": "2022-07-17T06:40:07.835Z"
   },
   {
    "duration": 2,
    "start_time": "2022-07-17T06:40:08.220Z"
   },
   {
    "duration": 88,
    "start_time": "2022-07-17T06:40:08.226Z"
   },
   {
    "duration": 11,
    "start_time": "2022-07-17T06:40:08.316Z"
   },
   {
    "duration": 19,
    "start_time": "2022-07-17T06:40:08.329Z"
   },
   {
    "duration": 85,
    "start_time": "2022-07-17T06:40:08.349Z"
   },
   {
    "duration": 13,
    "start_time": "2022-07-17T06:40:08.436Z"
   },
   {
    "duration": 25,
    "start_time": "2022-07-17T06:40:08.451Z"
   },
   {
    "duration": 2134,
    "start_time": "2022-07-17T06:40:08.478Z"
   },
   {
    "duration": 6,
    "start_time": "2022-07-17T06:40:10.614Z"
   },
   {
    "duration": 20,
    "start_time": "2022-07-17T06:40:10.621Z"
   },
   {
    "duration": 9,
    "start_time": "2022-07-17T06:40:10.643Z"
   },
   {
    "duration": 7,
    "start_time": "2022-07-17T06:40:10.655Z"
   },
   {
    "duration": 45,
    "start_time": "2022-07-17T06:40:10.664Z"
   },
   {
    "duration": 0,
    "start_time": "2022-07-17T06:40:10.711Z"
   },
   {
    "duration": 0,
    "start_time": "2022-07-17T06:40:10.713Z"
   },
   {
    "duration": 0,
    "start_time": "2022-07-17T06:40:10.714Z"
   },
   {
    "duration": 0,
    "start_time": "2022-07-17T06:40:10.715Z"
   },
   {
    "duration": 0,
    "start_time": "2022-07-17T06:40:10.716Z"
   },
   {
    "duration": 0,
    "start_time": "2022-07-17T06:40:10.717Z"
   },
   {
    "duration": 0,
    "start_time": "2022-07-17T06:40:10.718Z"
   },
   {
    "duration": 0,
    "start_time": "2022-07-17T06:40:10.719Z"
   },
   {
    "duration": 0,
    "start_time": "2022-07-17T06:40:10.720Z"
   },
   {
    "duration": 0,
    "start_time": "2022-07-17T06:40:10.721Z"
   },
   {
    "duration": 0,
    "start_time": "2022-07-17T06:40:10.722Z"
   },
   {
    "duration": 0,
    "start_time": "2022-07-17T06:40:10.723Z"
   },
   {
    "duration": 0,
    "start_time": "2022-07-17T06:40:10.724Z"
   },
   {
    "duration": 0,
    "start_time": "2022-07-17T06:40:10.725Z"
   },
   {
    "duration": 0,
    "start_time": "2022-07-17T06:40:10.726Z"
   },
   {
    "duration": 0,
    "start_time": "2022-07-17T06:40:10.727Z"
   },
   {
    "duration": 0,
    "start_time": "2022-07-17T06:40:10.728Z"
   },
   {
    "duration": 0,
    "start_time": "2022-07-17T06:40:10.729Z"
   },
   {
    "duration": 0,
    "start_time": "2022-07-17T06:40:10.730Z"
   },
   {
    "duration": 0,
    "start_time": "2022-07-17T06:40:10.731Z"
   },
   {
    "duration": 0,
    "start_time": "2022-07-17T06:40:10.731Z"
   },
   {
    "duration": 0,
    "start_time": "2022-07-17T06:40:10.732Z"
   },
   {
    "duration": 0,
    "start_time": "2022-07-17T06:40:10.733Z"
   },
   {
    "duration": 0,
    "start_time": "2022-07-17T06:40:10.734Z"
   },
   {
    "duration": 6,
    "start_time": "2022-07-17T06:40:29.592Z"
   },
   {
    "duration": 6,
    "start_time": "2022-07-17T06:40:49.979Z"
   },
   {
    "duration": 5,
    "start_time": "2022-07-17T06:41:22.173Z"
   },
   {
    "duration": 412,
    "start_time": "2022-07-17T06:41:44.716Z"
   },
   {
    "duration": 3,
    "start_time": "2022-07-17T06:41:45.130Z"
   },
   {
    "duration": 88,
    "start_time": "2022-07-17T06:41:45.135Z"
   },
   {
    "duration": 12,
    "start_time": "2022-07-17T06:41:45.225Z"
   },
   {
    "duration": 17,
    "start_time": "2022-07-17T06:41:45.238Z"
   },
   {
    "duration": 80,
    "start_time": "2022-07-17T06:41:45.256Z"
   },
   {
    "duration": 13,
    "start_time": "2022-07-17T06:41:45.338Z"
   },
   {
    "duration": 24,
    "start_time": "2022-07-17T06:41:45.352Z"
   },
   {
    "duration": 2063,
    "start_time": "2022-07-17T06:41:45.377Z"
   },
   {
    "duration": 7,
    "start_time": "2022-07-17T06:41:47.443Z"
   },
   {
    "duration": 19,
    "start_time": "2022-07-17T06:41:47.452Z"
   },
   {
    "duration": 8,
    "start_time": "2022-07-17T06:41:47.472Z"
   },
   {
    "duration": 5,
    "start_time": "2022-07-17T06:41:47.482Z"
   },
   {
    "duration": 46,
    "start_time": "2022-07-17T06:41:47.488Z"
   },
   {
    "duration": 0,
    "start_time": "2022-07-17T06:41:47.536Z"
   },
   {
    "duration": 0,
    "start_time": "2022-07-17T06:41:47.537Z"
   },
   {
    "duration": 0,
    "start_time": "2022-07-17T06:41:47.538Z"
   },
   {
    "duration": 0,
    "start_time": "2022-07-17T06:41:47.540Z"
   },
   {
    "duration": 0,
    "start_time": "2022-07-17T06:41:47.541Z"
   },
   {
    "duration": 0,
    "start_time": "2022-07-17T06:41:47.542Z"
   },
   {
    "duration": 0,
    "start_time": "2022-07-17T06:41:47.543Z"
   },
   {
    "duration": 0,
    "start_time": "2022-07-17T06:41:47.544Z"
   },
   {
    "duration": 0,
    "start_time": "2022-07-17T06:41:47.545Z"
   },
   {
    "duration": 0,
    "start_time": "2022-07-17T06:41:47.546Z"
   },
   {
    "duration": 0,
    "start_time": "2022-07-17T06:41:47.547Z"
   },
   {
    "duration": 0,
    "start_time": "2022-07-17T06:41:47.548Z"
   },
   {
    "duration": 0,
    "start_time": "2022-07-17T06:41:47.549Z"
   },
   {
    "duration": 0,
    "start_time": "2022-07-17T06:41:47.549Z"
   },
   {
    "duration": 0,
    "start_time": "2022-07-17T06:41:47.551Z"
   },
   {
    "duration": 0,
    "start_time": "2022-07-17T06:41:47.552Z"
   },
   {
    "duration": 0,
    "start_time": "2022-07-17T06:41:47.553Z"
   },
   {
    "duration": 0,
    "start_time": "2022-07-17T06:41:47.554Z"
   },
   {
    "duration": 0,
    "start_time": "2022-07-17T06:41:47.554Z"
   },
   {
    "duration": 0,
    "start_time": "2022-07-17T06:41:47.555Z"
   },
   {
    "duration": 0,
    "start_time": "2022-07-17T06:41:47.557Z"
   },
   {
    "duration": 0,
    "start_time": "2022-07-17T06:41:47.558Z"
   },
   {
    "duration": 0,
    "start_time": "2022-07-17T06:41:47.559Z"
   },
   {
    "duration": 0,
    "start_time": "2022-07-17T06:41:47.561Z"
   },
   {
    "duration": 10,
    "start_time": "2022-07-17T06:42:05.881Z"
   },
   {
    "duration": 4,
    "start_time": "2022-07-17T06:42:25.676Z"
   },
   {
    "duration": 10,
    "start_time": "2022-07-17T06:42:28.541Z"
   },
   {
    "duration": 4,
    "start_time": "2022-07-17T06:43:01.437Z"
   },
   {
    "duration": 5,
    "start_time": "2022-07-17T06:44:19.877Z"
   },
   {
    "duration": 5,
    "start_time": "2022-07-17T06:50:42.513Z"
   },
   {
    "duration": 9,
    "start_time": "2022-07-17T06:50:58.976Z"
   },
   {
    "duration": 8,
    "start_time": "2022-07-17T06:51:10.886Z"
   },
   {
    "duration": 4,
    "start_time": "2022-07-17T06:51:11.831Z"
   },
   {
    "duration": 11,
    "start_time": "2022-07-17T06:51:12.337Z"
   },
   {
    "duration": 3,
    "start_time": "2022-07-17T06:56:37.857Z"
   },
   {
    "duration": 4,
    "start_time": "2022-07-17T06:56:56.658Z"
   },
   {
    "duration": 74,
    "start_time": "2022-07-17T06:58:03.278Z"
   },
   {
    "duration": 189,
    "start_time": "2022-07-17T06:58:15.728Z"
   },
   {
    "duration": 6,
    "start_time": "2022-07-17T06:58:30.680Z"
   },
   {
    "duration": 176,
    "start_time": "2022-07-17T06:58:57.519Z"
   },
   {
    "duration": 9,
    "start_time": "2022-07-17T06:59:54.809Z"
   },
   {
    "duration": 233,
    "start_time": "2022-07-17T07:00:00.981Z"
   },
   {
    "duration": 9,
    "start_time": "2022-07-17T07:00:14.352Z"
   },
   {
    "duration": 9,
    "start_time": "2022-07-17T07:00:19.236Z"
   },
   {
    "duration": 17,
    "start_time": "2022-07-17T07:00:30.424Z"
   },
   {
    "duration": 3,
    "start_time": "2022-07-17T07:00:42.793Z"
   },
   {
    "duration": 5,
    "start_time": "2022-07-17T07:00:43.180Z"
   },
   {
    "duration": 15,
    "start_time": "2022-07-17T07:00:43.883Z"
   },
   {
    "duration": 8,
    "start_time": "2022-07-17T07:01:01.570Z"
   },
   {
    "duration": 4,
    "start_time": "2022-07-17T07:01:12.736Z"
   },
   {
    "duration": 7,
    "start_time": "2022-07-17T07:01:26.209Z"
   },
   {
    "duration": 197,
    "start_time": "2022-07-17T07:02:25.488Z"
   },
   {
    "duration": 435,
    "start_time": "2022-07-17T07:02:31.517Z"
   },
   {
    "duration": 3,
    "start_time": "2022-07-17T07:02:31.953Z"
   },
   {
    "duration": 125,
    "start_time": "2022-07-17T07:02:31.957Z"
   },
   {
    "duration": 13,
    "start_time": "2022-07-17T07:02:32.084Z"
   },
   {
    "duration": 32,
    "start_time": "2022-07-17T07:02:32.099Z"
   },
   {
    "duration": 125,
    "start_time": "2022-07-17T07:02:32.133Z"
   },
   {
    "duration": 14,
    "start_time": "2022-07-17T07:02:32.260Z"
   },
   {
    "duration": 36,
    "start_time": "2022-07-17T07:02:32.276Z"
   },
   {
    "duration": 2102,
    "start_time": "2022-07-17T07:02:32.314Z"
   },
   {
    "duration": 6,
    "start_time": "2022-07-17T07:02:34.419Z"
   },
   {
    "duration": 31,
    "start_time": "2022-07-17T07:02:34.426Z"
   },
   {
    "duration": 10,
    "start_time": "2022-07-17T07:02:34.459Z"
   },
   {
    "duration": 15,
    "start_time": "2022-07-17T07:02:34.470Z"
   },
   {
    "duration": 90,
    "start_time": "2022-07-17T07:02:34.486Z"
   },
   {
    "duration": 0,
    "start_time": "2022-07-17T07:02:34.578Z"
   },
   {
    "duration": 0,
    "start_time": "2022-07-17T07:02:34.579Z"
   },
   {
    "duration": 0,
    "start_time": "2022-07-17T07:02:34.580Z"
   },
   {
    "duration": 0,
    "start_time": "2022-07-17T07:02:34.581Z"
   },
   {
    "duration": 0,
    "start_time": "2022-07-17T07:02:34.582Z"
   },
   {
    "duration": 0,
    "start_time": "2022-07-17T07:02:34.583Z"
   },
   {
    "duration": 0,
    "start_time": "2022-07-17T07:02:34.584Z"
   },
   {
    "duration": 0,
    "start_time": "2022-07-17T07:02:34.585Z"
   },
   {
    "duration": 0,
    "start_time": "2022-07-17T07:02:34.586Z"
   },
   {
    "duration": 0,
    "start_time": "2022-07-17T07:02:34.586Z"
   },
   {
    "duration": 0,
    "start_time": "2022-07-17T07:02:34.587Z"
   },
   {
    "duration": 0,
    "start_time": "2022-07-17T07:02:34.588Z"
   },
   {
    "duration": 0,
    "start_time": "2022-07-17T07:02:34.589Z"
   },
   {
    "duration": 0,
    "start_time": "2022-07-17T07:02:34.590Z"
   },
   {
    "duration": 0,
    "start_time": "2022-07-17T07:02:34.610Z"
   },
   {
    "duration": 0,
    "start_time": "2022-07-17T07:02:34.612Z"
   },
   {
    "duration": 0,
    "start_time": "2022-07-17T07:02:34.613Z"
   },
   {
    "duration": 0,
    "start_time": "2022-07-17T07:02:34.614Z"
   },
   {
    "duration": 0,
    "start_time": "2022-07-17T07:02:34.615Z"
   },
   {
    "duration": 0,
    "start_time": "2022-07-17T07:02:34.616Z"
   },
   {
    "duration": 0,
    "start_time": "2022-07-17T07:02:34.617Z"
   },
   {
    "duration": 0,
    "start_time": "2022-07-17T07:02:34.618Z"
   },
   {
    "duration": 0,
    "start_time": "2022-07-17T07:02:34.619Z"
   },
   {
    "duration": 0,
    "start_time": "2022-07-17T07:02:34.621Z"
   },
   {
    "duration": 0,
    "start_time": "2022-07-17T07:02:34.622Z"
   },
   {
    "duration": 0,
    "start_time": "2022-07-17T07:02:34.623Z"
   },
   {
    "duration": 0,
    "start_time": "2022-07-17T07:02:34.624Z"
   },
   {
    "duration": 5,
    "start_time": "2022-07-17T07:02:58.619Z"
   },
   {
    "duration": 6,
    "start_time": "2022-07-17T07:03:00.316Z"
   },
   {
    "duration": 5,
    "start_time": "2022-07-17T07:03:09.498Z"
   },
   {
    "duration": 5,
    "start_time": "2022-07-17T07:03:09.859Z"
   },
   {
    "duration": 6,
    "start_time": "2022-07-17T07:03:11.343Z"
   },
   {
    "duration": 9,
    "start_time": "2022-07-17T07:03:50.725Z"
   },
   {
    "duration": 5,
    "start_time": "2022-07-17T07:03:51.157Z"
   },
   {
    "duration": 6,
    "start_time": "2022-07-17T07:06:25.462Z"
   },
   {
    "duration": 6,
    "start_time": "2022-07-17T07:06:48.191Z"
   },
   {
    "duration": 9,
    "start_time": "2022-07-17T07:07:17.661Z"
   },
   {
    "duration": 424,
    "start_time": "2022-07-17T07:07:29.998Z"
   },
   {
    "duration": 3,
    "start_time": "2022-07-17T07:07:30.425Z"
   },
   {
    "duration": 104,
    "start_time": "2022-07-17T07:07:30.430Z"
   },
   {
    "duration": 12,
    "start_time": "2022-07-17T07:07:30.536Z"
   },
   {
    "duration": 35,
    "start_time": "2022-07-17T07:07:30.550Z"
   },
   {
    "duration": 100,
    "start_time": "2022-07-17T07:07:30.587Z"
   },
   {
    "duration": 13,
    "start_time": "2022-07-17T07:07:30.689Z"
   },
   {
    "duration": 33,
    "start_time": "2022-07-17T07:07:30.704Z"
   },
   {
    "duration": 2230,
    "start_time": "2022-07-17T07:07:30.739Z"
   },
   {
    "duration": 6,
    "start_time": "2022-07-17T07:07:32.990Z"
   },
   {
    "duration": 21,
    "start_time": "2022-07-17T07:07:32.997Z"
   },
   {
    "duration": 10,
    "start_time": "2022-07-17T07:07:33.020Z"
   },
   {
    "duration": 12,
    "start_time": "2022-07-17T07:07:33.032Z"
   },
   {
    "duration": 12,
    "start_time": "2022-07-17T07:07:33.046Z"
   },
   {
    "duration": 28,
    "start_time": "2022-07-17T07:07:33.060Z"
   },
   {
    "duration": 13,
    "start_time": "2022-07-17T07:07:33.090Z"
   },
   {
    "duration": 5,
    "start_time": "2022-07-17T07:07:33.104Z"
   },
   {
    "duration": 18,
    "start_time": "2022-07-17T07:07:33.111Z"
   },
   {
    "duration": 15,
    "start_time": "2022-07-17T07:07:33.131Z"
   },
   {
    "duration": 9,
    "start_time": "2022-07-17T07:07:33.148Z"
   },
   {
    "duration": 13,
    "start_time": "2022-07-17T07:07:33.159Z"
   },
   {
    "duration": 3,
    "start_time": "2022-07-17T07:07:33.174Z"
   },
   {
    "duration": 13,
    "start_time": "2022-07-17T07:07:33.179Z"
   },
   {
    "duration": 7,
    "start_time": "2022-07-17T07:07:33.193Z"
   },
   {
    "duration": 12,
    "start_time": "2022-07-17T07:07:33.201Z"
   },
   {
    "duration": 6,
    "start_time": "2022-07-17T07:07:33.214Z"
   },
   {
    "duration": 4,
    "start_time": "2022-07-17T07:07:33.221Z"
   },
   {
    "duration": 8,
    "start_time": "2022-07-17T07:07:33.228Z"
   },
   {
    "duration": 5,
    "start_time": "2022-07-17T07:07:33.238Z"
   },
   {
    "duration": 11,
    "start_time": "2022-07-17T07:07:33.244Z"
   },
   {
    "duration": 19,
    "start_time": "2022-07-17T07:07:33.256Z"
   },
   {
    "duration": 13,
    "start_time": "2022-07-17T07:07:33.277Z"
   },
   {
    "duration": 19,
    "start_time": "2022-07-17T07:07:33.292Z"
   },
   {
    "duration": 6,
    "start_time": "2022-07-17T07:07:33.313Z"
   },
   {
    "duration": 13,
    "start_time": "2022-07-17T07:07:33.320Z"
   },
   {
    "duration": 4,
    "start_time": "2022-07-17T07:07:33.335Z"
   },
   {
    "duration": 6,
    "start_time": "2022-07-17T07:07:33.340Z"
   },
   {
    "duration": 16,
    "start_time": "2022-07-17T07:07:33.347Z"
   },
   {
    "duration": 19,
    "start_time": "2022-07-17T07:07:33.365Z"
   },
   {
    "duration": 39,
    "start_time": "2022-07-17T07:07:33.385Z"
   },
   {
    "duration": 8,
    "start_time": "2022-07-17T07:07:33.426Z"
   },
   {
    "duration": 48,
    "start_time": "2022-07-17T07:07:33.436Z"
   },
   {
    "duration": 5,
    "start_time": "2022-07-17T07:07:45.672Z"
   },
   {
    "duration": 4,
    "start_time": "2022-07-17T07:07:46.222Z"
   },
   {
    "duration": 53,
    "start_time": "2022-07-17T07:10:21.770Z"
   },
   {
    "duration": 389,
    "start_time": "2022-07-17T07:10:26.523Z"
   },
   {
    "duration": 3,
    "start_time": "2022-07-17T07:10:26.913Z"
   },
   {
    "duration": 88,
    "start_time": "2022-07-17T07:10:26.917Z"
   },
   {
    "duration": 12,
    "start_time": "2022-07-17T07:10:27.007Z"
   },
   {
    "duration": 17,
    "start_time": "2022-07-17T07:10:27.021Z"
   },
   {
    "duration": 85,
    "start_time": "2022-07-17T07:10:27.040Z"
   },
   {
    "duration": 15,
    "start_time": "2022-07-17T07:10:27.127Z"
   },
   {
    "duration": 30,
    "start_time": "2022-07-17T07:10:27.143Z"
   },
   {
    "duration": 2094,
    "start_time": "2022-07-17T07:10:27.174Z"
   },
   {
    "duration": 7,
    "start_time": "2022-07-17T07:10:29.271Z"
   },
   {
    "duration": 18,
    "start_time": "2022-07-17T07:10:29.279Z"
   },
   {
    "duration": 16,
    "start_time": "2022-07-17T07:10:29.298Z"
   },
   {
    "duration": 14,
    "start_time": "2022-07-17T07:10:29.316Z"
   },
   {
    "duration": 6,
    "start_time": "2022-07-17T07:10:29.331Z"
   },
   {
    "duration": 11,
    "start_time": "2022-07-17T07:10:29.339Z"
   },
   {
    "duration": 17,
    "start_time": "2022-07-17T07:10:29.351Z"
   },
   {
    "duration": 6,
    "start_time": "2022-07-17T07:10:29.370Z"
   },
   {
    "duration": 5,
    "start_time": "2022-07-17T07:10:29.377Z"
   },
   {
    "duration": 25,
    "start_time": "2022-07-17T07:10:29.384Z"
   },
   {
    "duration": 5,
    "start_time": "2022-07-17T07:10:29.411Z"
   },
   {
    "duration": 12,
    "start_time": "2022-07-17T07:10:29.417Z"
   },
   {
    "duration": 42,
    "start_time": "2022-07-17T07:10:29.430Z"
   },
   {
    "duration": 0,
    "start_time": "2022-07-17T07:10:29.474Z"
   },
   {
    "duration": 0,
    "start_time": "2022-07-17T07:10:29.476Z"
   },
   {
    "duration": 0,
    "start_time": "2022-07-17T07:10:29.477Z"
   },
   {
    "duration": 0,
    "start_time": "2022-07-17T07:10:29.478Z"
   },
   {
    "duration": 0,
    "start_time": "2022-07-17T07:10:29.480Z"
   },
   {
    "duration": 0,
    "start_time": "2022-07-17T07:10:29.481Z"
   },
   {
    "duration": 0,
    "start_time": "2022-07-17T07:10:29.482Z"
   },
   {
    "duration": 0,
    "start_time": "2022-07-17T07:10:29.484Z"
   },
   {
    "duration": 0,
    "start_time": "2022-07-17T07:10:29.485Z"
   },
   {
    "duration": 0,
    "start_time": "2022-07-17T07:10:29.486Z"
   },
   {
    "duration": 0,
    "start_time": "2022-07-17T07:10:29.488Z"
   },
   {
    "duration": 0,
    "start_time": "2022-07-17T07:10:29.489Z"
   },
   {
    "duration": 0,
    "start_time": "2022-07-17T07:10:29.490Z"
   },
   {
    "duration": 0,
    "start_time": "2022-07-17T07:10:29.492Z"
   },
   {
    "duration": 0,
    "start_time": "2022-07-17T07:10:29.493Z"
   },
   {
    "duration": 0,
    "start_time": "2022-07-17T07:10:29.494Z"
   },
   {
    "duration": 0,
    "start_time": "2022-07-17T07:10:29.509Z"
   },
   {
    "duration": 0,
    "start_time": "2022-07-17T07:10:29.510Z"
   },
   {
    "duration": 0,
    "start_time": "2022-07-17T07:10:29.511Z"
   },
   {
    "duration": 0,
    "start_time": "2022-07-17T07:10:29.512Z"
   },
   {
    "duration": 5,
    "start_time": "2022-07-17T07:12:10.182Z"
   },
   {
    "duration": 5,
    "start_time": "2022-07-17T07:12:10.936Z"
   },
   {
    "duration": 5,
    "start_time": "2022-07-17T07:13:10.718Z"
   },
   {
    "duration": 4,
    "start_time": "2022-07-17T07:13:11.083Z"
   },
   {
    "duration": 9,
    "start_time": "2022-07-17T07:13:24.497Z"
   },
   {
    "duration": 9,
    "start_time": "2022-07-17T07:16:38.426Z"
   },
   {
    "duration": 8,
    "start_time": "2022-07-17T07:16:40.976Z"
   },
   {
    "duration": 8,
    "start_time": "2022-07-17T07:16:43.018Z"
   },
   {
    "duration": 4,
    "start_time": "2022-07-17T07:16:43.832Z"
   },
   {
    "duration": 5,
    "start_time": "2022-07-17T07:16:47.773Z"
   },
   {
    "duration": 5,
    "start_time": "2022-07-17T07:16:48.408Z"
   },
   {
    "duration": 7,
    "start_time": "2022-07-17T07:16:48.773Z"
   },
   {
    "duration": 10,
    "start_time": "2022-07-17T07:16:49.312Z"
   },
   {
    "duration": 13,
    "start_time": "2022-07-17T07:18:21.811Z"
   },
   {
    "duration": 414,
    "start_time": "2022-07-17T07:18:53.805Z"
   },
   {
    "duration": 3,
    "start_time": "2022-07-17T07:18:54.223Z"
   },
   {
    "duration": 110,
    "start_time": "2022-07-17T07:18:54.228Z"
   },
   {
    "duration": 12,
    "start_time": "2022-07-17T07:18:54.339Z"
   },
   {
    "duration": 21,
    "start_time": "2022-07-17T07:18:54.353Z"
   },
   {
    "duration": 85,
    "start_time": "2022-07-17T07:18:54.375Z"
   },
   {
    "duration": 14,
    "start_time": "2022-07-17T07:18:54.461Z"
   },
   {
    "duration": 44,
    "start_time": "2022-07-17T07:18:54.476Z"
   },
   {
    "duration": 2177,
    "start_time": "2022-07-17T07:18:54.523Z"
   },
   {
    "duration": 6,
    "start_time": "2022-07-17T07:18:56.702Z"
   },
   {
    "duration": 17,
    "start_time": "2022-07-17T07:18:56.709Z"
   },
   {
    "duration": 10,
    "start_time": "2022-07-17T07:18:56.727Z"
   },
   {
    "duration": 10,
    "start_time": "2022-07-17T07:18:56.739Z"
   },
   {
    "duration": 7,
    "start_time": "2022-07-17T07:18:56.751Z"
   },
   {
    "duration": 12,
    "start_time": "2022-07-17T07:18:56.759Z"
   },
   {
    "duration": 36,
    "start_time": "2022-07-17T07:18:56.773Z"
   },
   {
    "duration": 5,
    "start_time": "2022-07-17T07:18:56.811Z"
   },
   {
    "duration": 17,
    "start_time": "2022-07-17T07:18:56.817Z"
   },
   {
    "duration": 9,
    "start_time": "2022-07-17T07:18:56.836Z"
   },
   {
    "duration": 7,
    "start_time": "2022-07-17T07:18:56.846Z"
   },
   {
    "duration": 21,
    "start_time": "2022-07-17T07:18:56.855Z"
   },
   {
    "duration": 4,
    "start_time": "2022-07-17T07:18:56.877Z"
   },
   {
    "duration": 7,
    "start_time": "2022-07-17T07:18:56.883Z"
   },
   {
    "duration": 11,
    "start_time": "2022-07-17T07:18:56.891Z"
   },
   {
    "duration": 10,
    "start_time": "2022-07-17T07:18:56.904Z"
   },
   {
    "duration": 6,
    "start_time": "2022-07-17T07:18:56.915Z"
   },
   {
    "duration": 5,
    "start_time": "2022-07-17T07:18:56.924Z"
   },
   {
    "duration": 9,
    "start_time": "2022-07-17T07:18:56.930Z"
   },
   {
    "duration": 9,
    "start_time": "2022-07-17T07:18:56.940Z"
   },
   {
    "duration": 7,
    "start_time": "2022-07-17T07:18:56.950Z"
   },
   {
    "duration": 10,
    "start_time": "2022-07-17T07:18:56.959Z"
   },
   {
    "duration": 17,
    "start_time": "2022-07-17T07:18:56.970Z"
   },
   {
    "duration": 4,
    "start_time": "2022-07-17T07:18:57.009Z"
   },
   {
    "duration": 6,
    "start_time": "2022-07-17T07:18:57.015Z"
   },
   {
    "duration": 6,
    "start_time": "2022-07-17T07:18:57.022Z"
   },
   {
    "duration": 8,
    "start_time": "2022-07-17T07:18:57.029Z"
   },
   {
    "duration": 7,
    "start_time": "2022-07-17T07:18:57.038Z"
   },
   {
    "duration": 11,
    "start_time": "2022-07-17T07:18:57.046Z"
   },
   {
    "duration": 16,
    "start_time": "2022-07-17T07:18:57.058Z"
   },
   {
    "duration": 37,
    "start_time": "2022-07-17T07:18:57.076Z"
   },
   {
    "duration": 6,
    "start_time": "2022-07-17T07:18:57.115Z"
   },
   {
    "duration": 46,
    "start_time": "2022-07-17T07:18:57.123Z"
   },
   {
    "duration": 4,
    "start_time": "2022-07-17T07:19:59.354Z"
   },
   {
    "duration": 13,
    "start_time": "2022-07-17T07:20:46.990Z"
   },
   {
    "duration": 14,
    "start_time": "2022-07-17T07:21:04.369Z"
   },
   {
    "duration": 14,
    "start_time": "2022-07-17T07:21:47.287Z"
   },
   {
    "duration": 20,
    "start_time": "2022-07-17T07:23:06.231Z"
   },
   {
    "duration": 79,
    "start_time": "2022-07-17T07:32:22.745Z"
   },
   {
    "duration": 14,
    "start_time": "2022-07-17T07:32:40.190Z"
   },
   {
    "duration": 14,
    "start_time": "2022-07-17T07:32:45.355Z"
   },
   {
    "duration": 36,
    "start_time": "2022-07-17T07:32:51.204Z"
   },
   {
    "duration": 34,
    "start_time": "2022-07-17T07:32:54.700Z"
   },
   {
    "duration": 21,
    "start_time": "2022-07-17T07:33:07.653Z"
   },
   {
    "duration": 11,
    "start_time": "2022-07-17T07:34:42.280Z"
   },
   {
    "duration": 10,
    "start_time": "2022-07-17T07:34:57.441Z"
   },
   {
    "duration": 85,
    "start_time": "2022-07-17T07:38:49.455Z"
   },
   {
    "duration": 12,
    "start_time": "2022-07-17T07:39:34.130Z"
   },
   {
    "duration": 11,
    "start_time": "2022-07-17T07:40:26.762Z"
   },
   {
    "duration": 9,
    "start_time": "2022-07-17T07:40:27.021Z"
   },
   {
    "duration": 8,
    "start_time": "2022-07-17T07:42:01.471Z"
   },
   {
    "duration": 6,
    "start_time": "2022-07-17T07:42:05.867Z"
   },
   {
    "duration": 4,
    "start_time": "2022-07-17T07:42:15.807Z"
   },
   {
    "duration": 5,
    "start_time": "2022-07-17T07:42:18.128Z"
   },
   {
    "duration": 5,
    "start_time": "2022-07-17T07:42:19.875Z"
   },
   {
    "duration": 6,
    "start_time": "2022-07-17T07:42:20.226Z"
   },
   {
    "duration": 346,
    "start_time": "2022-07-17T07:44:10.466Z"
   },
   {
    "duration": 2,
    "start_time": "2022-07-17T07:44:10.814Z"
   },
   {
    "duration": 93,
    "start_time": "2022-07-17T07:44:10.818Z"
   },
   {
    "duration": 12,
    "start_time": "2022-07-17T07:44:10.913Z"
   },
   {
    "duration": 16,
    "start_time": "2022-07-17T07:44:10.927Z"
   },
   {
    "duration": 96,
    "start_time": "2022-07-17T07:44:10.945Z"
   },
   {
    "duration": 17,
    "start_time": "2022-07-17T07:44:11.043Z"
   },
   {
    "duration": 30,
    "start_time": "2022-07-17T07:44:11.062Z"
   },
   {
    "duration": 2155,
    "start_time": "2022-07-17T07:44:11.109Z"
   },
   {
    "duration": 6,
    "start_time": "2022-07-17T07:44:13.267Z"
   },
   {
    "duration": 25,
    "start_time": "2022-07-17T07:44:13.275Z"
   },
   {
    "duration": 9,
    "start_time": "2022-07-17T07:44:13.301Z"
   },
   {
    "duration": 16,
    "start_time": "2022-07-17T07:44:13.311Z"
   },
   {
    "duration": 13,
    "start_time": "2022-07-17T07:44:13.328Z"
   },
   {
    "duration": 8,
    "start_time": "2022-07-17T07:44:13.342Z"
   },
   {
    "duration": 24,
    "start_time": "2022-07-17T07:44:13.351Z"
   },
   {
    "duration": 5,
    "start_time": "2022-07-17T07:44:13.376Z"
   },
   {
    "duration": 5,
    "start_time": "2022-07-17T07:44:13.382Z"
   },
   {
    "duration": 4,
    "start_time": "2022-07-17T07:44:13.389Z"
   },
   {
    "duration": 14,
    "start_time": "2022-07-17T07:44:13.395Z"
   },
   {
    "duration": 8,
    "start_time": "2022-07-17T07:44:13.411Z"
   },
   {
    "duration": 5,
    "start_time": "2022-07-17T07:44:13.421Z"
   },
   {
    "duration": 8,
    "start_time": "2022-07-17T07:44:13.428Z"
   },
   {
    "duration": 20,
    "start_time": "2022-07-17T07:44:13.437Z"
   },
   {
    "duration": 23,
    "start_time": "2022-07-17T07:44:13.458Z"
   },
   {
    "duration": 7,
    "start_time": "2022-07-17T07:44:13.483Z"
   },
   {
    "duration": 14,
    "start_time": "2022-07-17T07:44:13.491Z"
   },
   {
    "duration": 4,
    "start_time": "2022-07-17T07:44:13.508Z"
   },
   {
    "duration": 4,
    "start_time": "2022-07-17T07:44:13.514Z"
   },
   {
    "duration": 12,
    "start_time": "2022-07-17T07:44:13.520Z"
   },
   {
    "duration": 13,
    "start_time": "2022-07-17T07:44:13.533Z"
   },
   {
    "duration": 15,
    "start_time": "2022-07-17T07:44:13.548Z"
   },
   {
    "duration": 5,
    "start_time": "2022-07-17T07:44:13.564Z"
   },
   {
    "duration": 8,
    "start_time": "2022-07-17T07:44:13.571Z"
   },
   {
    "duration": 40,
    "start_time": "2022-07-17T07:44:13.580Z"
   },
   {
    "duration": 18,
    "start_time": "2022-07-17T07:44:13.622Z"
   },
   {
    "duration": 14,
    "start_time": "2022-07-17T07:44:13.642Z"
   },
   {
    "duration": 12,
    "start_time": "2022-07-17T07:44:13.657Z"
   },
   {
    "duration": 6,
    "start_time": "2022-07-17T10:47:08.875Z"
   },
   {
    "duration": 15,
    "start_time": "2022-07-17T10:48:42.526Z"
   },
   {
    "duration": 9,
    "start_time": "2022-07-17T10:49:05.684Z"
   },
   {
    "duration": 35,
    "start_time": "2022-07-17T10:49:36.982Z"
   },
   {
    "duration": 50,
    "start_time": "2022-07-17T10:50:35.807Z"
   },
   {
    "duration": 69,
    "start_time": "2022-07-17T10:52:38.281Z"
   },
   {
    "duration": 8,
    "start_time": "2022-07-17T10:52:47.616Z"
   },
   {
    "duration": 10,
    "start_time": "2022-07-17T10:53:05.890Z"
   },
   {
    "duration": 27,
    "start_time": "2022-07-17T10:53:17.317Z"
   },
   {
    "duration": 10,
    "start_time": "2022-07-17T11:01:49.695Z"
   },
   {
    "duration": 2,
    "start_time": "2022-07-17T11:06:39.045Z"
   },
   {
    "duration": 9,
    "start_time": "2022-07-17T11:06:39.686Z"
   },
   {
    "duration": 7,
    "start_time": "2022-07-17T11:06:52.494Z"
   },
   {
    "duration": 26,
    "start_time": "2022-07-17T11:07:14.637Z"
   },
   {
    "duration": 15,
    "start_time": "2022-07-17T11:07:32.522Z"
   },
   {
    "duration": 10,
    "start_time": "2022-07-17T11:08:34.041Z"
   },
   {
    "duration": 27,
    "start_time": "2022-07-17T11:08:38.880Z"
   },
   {
    "duration": 3,
    "start_time": "2022-07-17T11:10:28.870Z"
   },
   {
    "duration": 16,
    "start_time": "2022-07-17T11:10:30.422Z"
   },
   {
    "duration": 11,
    "start_time": "2022-07-17T11:10:45.909Z"
   },
   {
    "duration": 62,
    "start_time": "2022-07-17T11:10:55.593Z"
   },
   {
    "duration": 27,
    "start_time": "2022-07-17T11:11:00.931Z"
   },
   {
    "duration": 19,
    "start_time": "2022-07-17T11:13:02.066Z"
   },
   {
    "duration": 59,
    "start_time": "2022-07-17T11:14:02.401Z"
   },
   {
    "duration": 17,
    "start_time": "2022-07-17T11:14:16.154Z"
   },
   {
    "duration": 12,
    "start_time": "2022-07-17T11:14:34.537Z"
   },
   {
    "duration": 14,
    "start_time": "2022-07-17T11:15:39.287Z"
   },
   {
    "duration": 14,
    "start_time": "2022-07-17T11:15:48.567Z"
   },
   {
    "duration": 33,
    "start_time": "2022-07-17T11:15:50.499Z"
   },
   {
    "duration": 6,
    "start_time": "2022-07-17T11:18:34.061Z"
   },
   {
    "duration": 24,
    "start_time": "2022-07-17T11:18:35.802Z"
   },
   {
    "duration": 379,
    "start_time": "2022-07-17T11:18:43.935Z"
   },
   {
    "duration": 2,
    "start_time": "2022-07-17T11:18:44.316Z"
   },
   {
    "duration": 85,
    "start_time": "2022-07-17T11:18:44.320Z"
   },
   {
    "duration": 11,
    "start_time": "2022-07-17T11:18:44.407Z"
   },
   {
    "duration": 19,
    "start_time": "2022-07-17T11:18:44.420Z"
   },
   {
    "duration": 75,
    "start_time": "2022-07-17T11:18:44.440Z"
   },
   {
    "duration": 13,
    "start_time": "2022-07-17T11:18:44.517Z"
   },
   {
    "duration": 23,
    "start_time": "2022-07-17T11:18:44.532Z"
   },
   {
    "duration": 2128,
    "start_time": "2022-07-17T11:18:44.556Z"
   },
   {
    "duration": 6,
    "start_time": "2022-07-17T11:18:46.688Z"
   },
   {
    "duration": 15,
    "start_time": "2022-07-17T11:18:46.696Z"
   },
   {
    "duration": 10,
    "start_time": "2022-07-17T11:18:46.713Z"
   },
   {
    "duration": 14,
    "start_time": "2022-07-17T11:18:46.725Z"
   },
   {
    "duration": 10,
    "start_time": "2022-07-17T11:18:46.740Z"
   },
   {
    "duration": 4,
    "start_time": "2022-07-17T11:18:46.752Z"
   },
   {
    "duration": 14,
    "start_time": "2022-07-17T11:18:46.758Z"
   },
   {
    "duration": 4,
    "start_time": "2022-07-17T11:18:46.774Z"
   },
   {
    "duration": 29,
    "start_time": "2022-07-17T11:18:46.781Z"
   },
   {
    "duration": 8,
    "start_time": "2022-07-17T11:18:46.811Z"
   },
   {
    "duration": 7,
    "start_time": "2022-07-17T11:18:46.820Z"
   },
   {
    "duration": 12,
    "start_time": "2022-07-17T11:18:46.828Z"
   },
   {
    "duration": 4,
    "start_time": "2022-07-17T11:18:46.841Z"
   },
   {
    "duration": 5,
    "start_time": "2022-07-17T11:18:46.846Z"
   },
   {
    "duration": 10,
    "start_time": "2022-07-17T11:18:46.852Z"
   },
   {
    "duration": 7,
    "start_time": "2022-07-17T11:18:46.863Z"
   },
   {
    "duration": 6,
    "start_time": "2022-07-17T11:18:46.871Z"
   },
   {
    "duration": 6,
    "start_time": "2022-07-17T11:18:46.909Z"
   },
   {
    "duration": 12,
    "start_time": "2022-07-17T11:18:46.917Z"
   },
   {
    "duration": 6,
    "start_time": "2022-07-17T11:18:46.931Z"
   },
   {
    "duration": 12,
    "start_time": "2022-07-17T11:18:46.938Z"
   },
   {
    "duration": 9,
    "start_time": "2022-07-17T11:18:46.951Z"
   },
   {
    "duration": 12,
    "start_time": "2022-07-17T11:18:46.962Z"
   },
   {
    "duration": 6,
    "start_time": "2022-07-17T11:18:46.975Z"
   },
   {
    "duration": 26,
    "start_time": "2022-07-17T11:18:46.983Z"
   },
   {
    "duration": 13,
    "start_time": "2022-07-17T11:18:47.011Z"
   },
   {
    "duration": 19,
    "start_time": "2022-07-17T11:18:47.025Z"
   },
   {
    "duration": 15,
    "start_time": "2022-07-17T11:18:47.046Z"
   },
   {
    "duration": 49,
    "start_time": "2022-07-17T11:18:47.062Z"
   },
   {
    "duration": 2,
    "start_time": "2022-07-17T11:18:47.113Z"
   },
   {
    "duration": 11,
    "start_time": "2022-07-17T11:18:47.117Z"
   },
   {
    "duration": 30,
    "start_time": "2022-07-17T11:18:47.130Z"
   },
   {
    "duration": 73,
    "start_time": "2022-07-17T11:19:16.012Z"
   },
   {
    "duration": 7,
    "start_time": "2022-07-17T11:19:26.401Z"
   },
   {
    "duration": 25,
    "start_time": "2022-07-17T11:19:28.004Z"
   },
   {
    "duration": 6,
    "start_time": "2022-07-17T11:20:33.268Z"
   },
   {
    "duration": 24,
    "start_time": "2022-07-17T11:20:34.457Z"
   },
   {
    "duration": 15,
    "start_time": "2022-07-17T11:25:30.484Z"
   },
   {
    "duration": 17,
    "start_time": "2022-07-17T11:27:14.272Z"
   },
   {
    "duration": 24,
    "start_time": "2022-07-17T11:27:17.532Z"
   },
   {
    "duration": 16,
    "start_time": "2022-07-17T11:27:40.725Z"
   },
   {
    "duration": 16,
    "start_time": "2022-07-17T11:27:42.664Z"
   },
   {
    "duration": 780,
    "start_time": "2022-07-17T11:28:41.975Z"
   },
   {
    "duration": 6,
    "start_time": "2022-07-17T11:33:16.571Z"
   },
   {
    "duration": 16,
    "start_time": "2022-07-17T11:33:18.556Z"
   },
   {
    "duration": 368,
    "start_time": "2022-07-17T11:33:24.556Z"
   },
   {
    "duration": 2,
    "start_time": "2022-07-17T11:33:24.926Z"
   },
   {
    "duration": 95,
    "start_time": "2022-07-17T11:33:24.930Z"
   },
   {
    "duration": 14,
    "start_time": "2022-07-17T11:33:25.027Z"
   },
   {
    "duration": 15,
    "start_time": "2022-07-17T11:33:25.044Z"
   },
   {
    "duration": 88,
    "start_time": "2022-07-17T11:33:25.060Z"
   },
   {
    "duration": 13,
    "start_time": "2022-07-17T11:33:25.149Z"
   },
   {
    "duration": 27,
    "start_time": "2022-07-17T11:33:25.164Z"
   },
   {
    "duration": 2092,
    "start_time": "2022-07-17T11:33:25.192Z"
   },
   {
    "duration": 7,
    "start_time": "2022-07-17T11:33:27.286Z"
   },
   {
    "duration": 17,
    "start_time": "2022-07-17T11:33:27.295Z"
   },
   {
    "duration": 9,
    "start_time": "2022-07-17T11:33:27.314Z"
   },
   {
    "duration": 14,
    "start_time": "2022-07-17T11:33:27.325Z"
   },
   {
    "duration": 8,
    "start_time": "2022-07-17T11:33:27.342Z"
   },
   {
    "duration": 4,
    "start_time": "2022-07-17T11:33:27.352Z"
   },
   {
    "duration": 10,
    "start_time": "2022-07-17T11:33:27.357Z"
   },
   {
    "duration": 7,
    "start_time": "2022-07-17T11:33:27.368Z"
   },
   {
    "duration": 41,
    "start_time": "2022-07-17T11:33:27.376Z"
   },
   {
    "duration": 4,
    "start_time": "2022-07-17T11:33:27.419Z"
   },
   {
    "duration": 16,
    "start_time": "2022-07-17T11:33:27.425Z"
   },
   {
    "duration": 12,
    "start_time": "2022-07-17T11:33:27.442Z"
   },
   {
    "duration": 4,
    "start_time": "2022-07-17T11:33:27.456Z"
   },
   {
    "duration": 5,
    "start_time": "2022-07-17T11:33:27.461Z"
   },
   {
    "duration": 16,
    "start_time": "2022-07-17T11:33:27.468Z"
   },
   {
    "duration": 7,
    "start_time": "2022-07-17T11:33:27.485Z"
   },
   {
    "duration": 17,
    "start_time": "2022-07-17T11:33:27.493Z"
   },
   {
    "duration": 5,
    "start_time": "2022-07-17T11:33:27.512Z"
   },
   {
    "duration": 5,
    "start_time": "2022-07-17T11:33:27.519Z"
   },
   {
    "duration": 3,
    "start_time": "2022-07-17T11:33:27.526Z"
   },
   {
    "duration": 8,
    "start_time": "2022-07-17T11:33:27.531Z"
   },
   {
    "duration": 8,
    "start_time": "2022-07-17T11:33:27.541Z"
   },
   {
    "duration": 20,
    "start_time": "2022-07-17T11:33:27.551Z"
   },
   {
    "duration": 3,
    "start_time": "2022-07-17T11:33:27.573Z"
   },
   {
    "duration": 36,
    "start_time": "2022-07-17T11:33:27.578Z"
   },
   {
    "duration": 16,
    "start_time": "2022-07-17T11:33:27.616Z"
   },
   {
    "duration": 19,
    "start_time": "2022-07-17T11:33:27.633Z"
   },
   {
    "duration": 13,
    "start_time": "2022-07-17T11:33:27.654Z"
   },
   {
    "duration": 51,
    "start_time": "2022-07-17T11:33:27.668Z"
   },
   {
    "duration": 2,
    "start_time": "2022-07-17T11:33:27.721Z"
   },
   {
    "duration": 14,
    "start_time": "2022-07-17T11:33:27.725Z"
   },
   {
    "duration": 25,
    "start_time": "2022-07-17T11:33:27.742Z"
   },
   {
    "duration": 10,
    "start_time": "2022-07-17T11:33:50.507Z"
   },
   {
    "duration": 26,
    "start_time": "2022-07-17T11:33:51.398Z"
   },
   {
    "duration": 8,
    "start_time": "2022-07-17T11:34:07.825Z"
   },
   {
    "duration": 25,
    "start_time": "2022-07-17T11:34:09.493Z"
   },
   {
    "duration": 3,
    "start_time": "2022-07-17T11:35:25.713Z"
   },
   {
    "duration": 80,
    "start_time": "2022-07-17T11:35:26.081Z"
   },
   {
    "duration": 26,
    "start_time": "2022-07-17T11:35:27.168Z"
   },
   {
    "duration": 8,
    "start_time": "2022-07-17T11:36:16.556Z"
   },
   {
    "duration": 25,
    "start_time": "2022-07-17T11:36:19.358Z"
   },
   {
    "duration": 46,
    "start_time": "2022-07-17T11:36:49.548Z"
   },
   {
    "duration": 4590,
    "start_time": "2022-07-17T11:36:55.871Z"
   },
   {
    "duration": 15,
    "start_time": "2022-07-17T11:37:00.463Z"
   },
   {
    "duration": 15,
    "start_time": "2022-07-17T11:37:04.220Z"
   },
   {
    "duration": 7,
    "start_time": "2022-07-17T11:37:15.056Z"
   },
   {
    "duration": 15,
    "start_time": "2022-07-17T11:37:17.630Z"
   },
   {
    "duration": 409,
    "start_time": "2022-07-17T11:37:53.503Z"
   },
   {
    "duration": 2,
    "start_time": "2022-07-17T11:37:53.914Z"
   },
   {
    "duration": 95,
    "start_time": "2022-07-17T11:37:53.918Z"
   },
   {
    "duration": 11,
    "start_time": "2022-07-17T11:37:54.015Z"
   },
   {
    "duration": 15,
    "start_time": "2022-07-17T11:37:54.027Z"
   },
   {
    "duration": 82,
    "start_time": "2022-07-17T11:37:54.044Z"
   },
   {
    "duration": 18,
    "start_time": "2022-07-17T11:37:54.128Z"
   },
   {
    "duration": 28,
    "start_time": "2022-07-17T11:37:54.148Z"
   },
   {
    "duration": 2094,
    "start_time": "2022-07-17T11:37:54.178Z"
   },
   {
    "duration": 6,
    "start_time": "2022-07-17T11:37:56.275Z"
   },
   {
    "duration": 16,
    "start_time": "2022-07-17T11:37:56.282Z"
   },
   {
    "duration": 9,
    "start_time": "2022-07-17T11:37:56.300Z"
   },
   {
    "duration": 15,
    "start_time": "2022-07-17T11:37:56.310Z"
   },
   {
    "duration": 9,
    "start_time": "2022-07-17T11:37:56.326Z"
   },
   {
    "duration": 5,
    "start_time": "2022-07-17T11:37:56.336Z"
   },
   {
    "duration": 15,
    "start_time": "2022-07-17T11:37:56.342Z"
   },
   {
    "duration": 4,
    "start_time": "2022-07-17T11:37:56.358Z"
   },
   {
    "duration": 6,
    "start_time": "2022-07-17T11:37:56.364Z"
   },
   {
    "duration": 6,
    "start_time": "2022-07-17T11:37:56.371Z"
   },
   {
    "duration": 7,
    "start_time": "2022-07-17T11:37:56.378Z"
   },
   {
    "duration": 12,
    "start_time": "2022-07-17T11:37:56.409Z"
   },
   {
    "duration": 4,
    "start_time": "2022-07-17T11:37:56.423Z"
   },
   {
    "duration": 6,
    "start_time": "2022-07-17T11:37:56.429Z"
   },
   {
    "duration": 12,
    "start_time": "2022-07-17T11:37:56.436Z"
   },
   {
    "duration": 7,
    "start_time": "2022-07-17T11:37:56.449Z"
   },
   {
    "duration": 6,
    "start_time": "2022-07-17T11:37:56.457Z"
   },
   {
    "duration": 5,
    "start_time": "2022-07-17T11:37:56.464Z"
   },
   {
    "duration": 38,
    "start_time": "2022-07-17T11:37:56.473Z"
   },
   {
    "duration": 3,
    "start_time": "2022-07-17T11:37:56.513Z"
   },
   {
    "duration": 8,
    "start_time": "2022-07-17T11:37:56.518Z"
   },
   {
    "duration": 10,
    "start_time": "2022-07-17T11:37:56.528Z"
   },
   {
    "duration": 15,
    "start_time": "2022-07-17T11:37:56.539Z"
   },
   {
    "duration": 4,
    "start_time": "2022-07-17T11:37:56.555Z"
   },
   {
    "duration": 12,
    "start_time": "2022-07-17T11:37:56.560Z"
   },
   {
    "duration": 45,
    "start_time": "2022-07-17T11:37:56.573Z"
   },
   {
    "duration": 19,
    "start_time": "2022-07-17T11:37:56.620Z"
   },
   {
    "duration": 12,
    "start_time": "2022-07-17T11:37:56.640Z"
   },
   {
    "duration": 28,
    "start_time": "2022-07-17T11:37:56.654Z"
   },
   {
    "duration": 2,
    "start_time": "2022-07-17T11:37:56.684Z"
   },
   {
    "duration": 23,
    "start_time": "2022-07-17T11:37:56.687Z"
   },
   {
    "duration": 4603,
    "start_time": "2022-07-17T11:37:56.711Z"
   },
   {
    "duration": 15,
    "start_time": "2022-07-17T11:38:01.316Z"
   },
   {
    "duration": 7,
    "start_time": "2022-07-17T11:38:17.393Z"
   },
   {
    "duration": 2,
    "start_time": "2022-07-17T11:38:17.886Z"
   },
   {
    "duration": 15,
    "start_time": "2022-07-17T11:38:18.218Z"
   },
   {
    "duration": 379,
    "start_time": "2022-07-17T11:38:22.139Z"
   },
   {
    "duration": 3,
    "start_time": "2022-07-17T11:38:22.520Z"
   },
   {
    "duration": 93,
    "start_time": "2022-07-17T11:38:22.524Z"
   },
   {
    "duration": 11,
    "start_time": "2022-07-17T11:38:22.619Z"
   },
   {
    "duration": 14,
    "start_time": "2022-07-17T11:38:22.632Z"
   },
   {
    "duration": 84,
    "start_time": "2022-07-17T11:38:22.647Z"
   },
   {
    "duration": 14,
    "start_time": "2022-07-17T11:38:22.732Z"
   },
   {
    "duration": 23,
    "start_time": "2022-07-17T11:38:22.748Z"
   },
   {
    "duration": 2076,
    "start_time": "2022-07-17T11:38:22.772Z"
   },
   {
    "duration": 6,
    "start_time": "2022-07-17T11:38:24.850Z"
   },
   {
    "duration": 17,
    "start_time": "2022-07-17T11:38:24.857Z"
   },
   {
    "duration": 8,
    "start_time": "2022-07-17T11:38:24.875Z"
   },
   {
    "duration": 13,
    "start_time": "2022-07-17T11:38:24.885Z"
   },
   {
    "duration": 15,
    "start_time": "2022-07-17T11:38:24.900Z"
   },
   {
    "duration": 4,
    "start_time": "2022-07-17T11:38:24.917Z"
   },
   {
    "duration": 14,
    "start_time": "2022-07-17T11:38:24.922Z"
   },
   {
    "duration": 3,
    "start_time": "2022-07-17T11:38:24.938Z"
   },
   {
    "duration": 8,
    "start_time": "2022-07-17T11:38:24.943Z"
   },
   {
    "duration": 5,
    "start_time": "2022-07-17T11:38:24.952Z"
   },
   {
    "duration": 9,
    "start_time": "2022-07-17T11:38:24.959Z"
   },
   {
    "duration": 12,
    "start_time": "2022-07-17T11:38:24.969Z"
   },
   {
    "duration": 4,
    "start_time": "2022-07-17T11:38:24.983Z"
   },
   {
    "duration": 22,
    "start_time": "2022-07-17T11:38:24.988Z"
   },
   {
    "duration": 14,
    "start_time": "2022-07-17T11:38:25.011Z"
   },
   {
    "duration": 8,
    "start_time": "2022-07-17T11:38:25.026Z"
   },
   {
    "duration": 16,
    "start_time": "2022-07-17T11:38:25.035Z"
   },
   {
    "duration": 10,
    "start_time": "2022-07-17T11:38:25.053Z"
   },
   {
    "duration": 9,
    "start_time": "2022-07-17T11:38:25.065Z"
   },
   {
    "duration": 11,
    "start_time": "2022-07-17T11:38:25.076Z"
   },
   {
    "duration": 13,
    "start_time": "2022-07-17T11:38:25.089Z"
   },
   {
    "duration": 15,
    "start_time": "2022-07-17T11:38:25.103Z"
   },
   {
    "duration": 13,
    "start_time": "2022-07-17T11:38:25.119Z"
   },
   {
    "duration": 3,
    "start_time": "2022-07-17T11:38:25.133Z"
   },
   {
    "duration": 11,
    "start_time": "2022-07-17T11:38:25.138Z"
   },
   {
    "duration": 15,
    "start_time": "2022-07-17T11:38:25.151Z"
   },
   {
    "duration": 18,
    "start_time": "2022-07-17T11:38:25.168Z"
   },
   {
    "duration": 28,
    "start_time": "2022-07-17T11:38:25.188Z"
   },
   {
    "duration": 33,
    "start_time": "2022-07-17T11:38:25.217Z"
   },
   {
    "duration": 2,
    "start_time": "2022-07-17T11:38:25.252Z"
   },
   {
    "duration": 13,
    "start_time": "2022-07-17T11:38:25.256Z"
   },
   {
    "duration": 4,
    "start_time": "2022-07-17T11:38:25.271Z"
   },
   {
    "duration": 40,
    "start_time": "2022-07-17T11:38:25.276Z"
   },
   {
    "duration": 76,
    "start_time": "2022-07-17T11:39:12.065Z"
   },
   {
    "duration": 12,
    "start_time": "2022-07-17T11:40:04.978Z"
   },
   {
    "duration": 63,
    "start_time": "2022-07-17T11:40:27.429Z"
   },
   {
    "duration": 14,
    "start_time": "2022-07-17T11:40:38.717Z"
   },
   {
    "duration": 7,
    "start_time": "2022-07-17T11:40:48.220Z"
   },
   {
    "duration": 3,
    "start_time": "2022-07-17T11:40:49.227Z"
   },
   {
    "duration": 26,
    "start_time": "2022-07-17T11:40:49.756Z"
   },
   {
    "duration": 9,
    "start_time": "2022-07-17T11:41:08.433Z"
   },
   {
    "duration": 2,
    "start_time": "2022-07-17T11:41:09.107Z"
   },
   {
    "duration": 27,
    "start_time": "2022-07-17T11:41:09.596Z"
   },
   {
    "duration": 8,
    "start_time": "2022-07-17T11:41:45.524Z"
   },
   {
    "duration": 2,
    "start_time": "2022-07-17T11:41:45.937Z"
   },
   {
    "duration": 25,
    "start_time": "2022-07-17T11:41:46.398Z"
   },
   {
    "duration": 8,
    "start_time": "2022-07-17T11:41:59.088Z"
   },
   {
    "duration": 3,
    "start_time": "2022-07-17T11:41:59.525Z"
   },
   {
    "duration": 25,
    "start_time": "2022-07-17T11:41:59.856Z"
   },
   {
    "duration": 9,
    "start_time": "2022-07-17T11:42:08.636Z"
   },
   {
    "duration": 3,
    "start_time": "2022-07-17T11:42:09.027Z"
   },
   {
    "duration": 25,
    "start_time": "2022-07-17T11:42:09.397Z"
   },
   {
    "duration": 7,
    "start_time": "2022-07-17T11:42:16.696Z"
   },
   {
    "duration": 2,
    "start_time": "2022-07-17T11:42:17.098Z"
   },
   {
    "duration": 27,
    "start_time": "2022-07-17T11:42:17.503Z"
   },
   {
    "duration": 3,
    "start_time": "2022-07-17T11:43:59.159Z"
   },
   {
    "duration": 2,
    "start_time": "2022-07-17T11:43:59.594Z"
   },
   {
    "duration": 7,
    "start_time": "2022-07-17T11:43:59.964Z"
   },
   {
    "duration": 30,
    "start_time": "2022-07-17T11:44:08.583Z"
   },
   {
    "duration": 24,
    "start_time": "2022-07-17T11:44:09.460Z"
   },
   {
    "duration": 394,
    "start_time": "2022-07-17T11:44:13.476Z"
   },
   {
    "duration": 3,
    "start_time": "2022-07-17T11:44:13.872Z"
   },
   {
    "duration": 105,
    "start_time": "2022-07-17T11:44:13.876Z"
   },
   {
    "duration": 12,
    "start_time": "2022-07-17T11:44:13.983Z"
   },
   {
    "duration": 20,
    "start_time": "2022-07-17T11:44:13.996Z"
   },
   {
    "duration": 70,
    "start_time": "2022-07-17T11:44:14.018Z"
   },
   {
    "duration": 27,
    "start_time": "2022-07-17T11:44:14.090Z"
   },
   {
    "duration": 25,
    "start_time": "2022-07-17T11:44:14.119Z"
   },
   {
    "duration": 2054,
    "start_time": "2022-07-17T11:44:14.146Z"
   },
   {
    "duration": 11,
    "start_time": "2022-07-17T11:44:16.207Z"
   },
   {
    "duration": 19,
    "start_time": "2022-07-17T11:44:16.220Z"
   },
   {
    "duration": 10,
    "start_time": "2022-07-17T11:44:16.241Z"
   },
   {
    "duration": 14,
    "start_time": "2022-07-17T11:44:16.253Z"
   },
   {
    "duration": 8,
    "start_time": "2022-07-17T11:44:16.268Z"
   },
   {
    "duration": 31,
    "start_time": "2022-07-17T11:44:16.278Z"
   },
   {
    "duration": 10,
    "start_time": "2022-07-17T11:44:16.311Z"
   },
   {
    "duration": 8,
    "start_time": "2022-07-17T11:44:16.322Z"
   },
   {
    "duration": 11,
    "start_time": "2022-07-17T11:44:16.331Z"
   },
   {
    "duration": 5,
    "start_time": "2022-07-17T11:44:16.344Z"
   },
   {
    "duration": 7,
    "start_time": "2022-07-17T11:44:16.351Z"
   },
   {
    "duration": 26,
    "start_time": "2022-07-17T11:44:16.359Z"
   },
   {
    "duration": 5,
    "start_time": "2022-07-17T11:44:16.387Z"
   },
   {
    "duration": 16,
    "start_time": "2022-07-17T11:44:16.393Z"
   },
   {
    "duration": 10,
    "start_time": "2022-07-17T11:44:16.411Z"
   },
   {
    "duration": 14,
    "start_time": "2022-07-17T11:44:16.422Z"
   },
   {
    "duration": 7,
    "start_time": "2022-07-17T11:44:16.438Z"
   },
   {
    "duration": 5,
    "start_time": "2022-07-17T11:44:16.447Z"
   },
   {
    "duration": 10,
    "start_time": "2022-07-17T11:44:16.454Z"
   },
   {
    "duration": 5,
    "start_time": "2022-07-17T11:44:16.466Z"
   },
   {
    "duration": 11,
    "start_time": "2022-07-17T11:44:16.472Z"
   },
   {
    "duration": 29,
    "start_time": "2022-07-17T11:44:16.484Z"
   },
   {
    "duration": 13,
    "start_time": "2022-07-17T11:44:16.515Z"
   },
   {
    "duration": 8,
    "start_time": "2022-07-17T11:44:16.529Z"
   },
   {
    "duration": 12,
    "start_time": "2022-07-17T11:44:16.539Z"
   },
   {
    "duration": 15,
    "start_time": "2022-07-17T11:44:16.553Z"
   },
   {
    "duration": 17,
    "start_time": "2022-07-17T11:44:16.570Z"
   },
   {
    "duration": 32,
    "start_time": "2022-07-17T11:44:16.589Z"
   },
   {
    "duration": 37,
    "start_time": "2022-07-17T11:44:16.623Z"
   },
   {
    "duration": 3,
    "start_time": "2022-07-17T11:44:16.661Z"
   },
   {
    "duration": 13,
    "start_time": "2022-07-17T11:44:16.665Z"
   },
   {
    "duration": 33,
    "start_time": "2022-07-17T11:44:16.679Z"
   },
   {
    "duration": 27,
    "start_time": "2022-07-17T11:44:16.714Z"
   },
   {
    "duration": 3,
    "start_time": "2022-07-17T11:46:26.994Z"
   },
   {
    "duration": 3,
    "start_time": "2022-07-17T11:46:27.558Z"
   },
   {
    "duration": 36,
    "start_time": "2022-07-17T11:46:27.864Z"
   },
   {
    "duration": 25,
    "start_time": "2022-07-17T11:46:28.257Z"
   },
   {
    "duration": 380,
    "start_time": "2022-07-17T11:46:57.632Z"
   },
   {
    "duration": 3,
    "start_time": "2022-07-17T11:46:58.014Z"
   },
   {
    "duration": 91,
    "start_time": "2022-07-17T11:46:58.018Z"
   },
   {
    "duration": 12,
    "start_time": "2022-07-17T11:46:58.112Z"
   },
   {
    "duration": 27,
    "start_time": "2022-07-17T11:46:58.126Z"
   },
   {
    "duration": 79,
    "start_time": "2022-07-17T11:46:58.154Z"
   },
   {
    "duration": 12,
    "start_time": "2022-07-17T11:46:58.235Z"
   },
   {
    "duration": 25,
    "start_time": "2022-07-17T11:46:58.249Z"
   },
   {
    "duration": 2037,
    "start_time": "2022-07-17T11:46:58.275Z"
   },
   {
    "duration": 6,
    "start_time": "2022-07-17T11:47:00.315Z"
   },
   {
    "duration": 30,
    "start_time": "2022-07-17T11:47:00.322Z"
   },
   {
    "duration": 23,
    "start_time": "2022-07-17T11:47:00.353Z"
   },
   {
    "duration": 34,
    "start_time": "2022-07-17T11:47:00.378Z"
   },
   {
    "duration": 15,
    "start_time": "2022-07-17T11:47:00.414Z"
   },
   {
    "duration": 13,
    "start_time": "2022-07-17T11:47:00.430Z"
   },
   {
    "duration": 40,
    "start_time": "2022-07-17T11:47:00.445Z"
   },
   {
    "duration": 10,
    "start_time": "2022-07-17T11:47:00.487Z"
   },
   {
    "duration": 23,
    "start_time": "2022-07-17T11:47:00.499Z"
   },
   {
    "duration": 23,
    "start_time": "2022-07-17T11:47:00.523Z"
   },
   {
    "duration": 15,
    "start_time": "2022-07-17T11:47:00.548Z"
   },
   {
    "duration": 20,
    "start_time": "2022-07-17T11:47:00.564Z"
   },
   {
    "duration": 29,
    "start_time": "2022-07-17T11:47:00.585Z"
   },
   {
    "duration": 20,
    "start_time": "2022-07-17T11:47:00.616Z"
   },
   {
    "duration": 30,
    "start_time": "2022-07-17T11:47:00.638Z"
   },
   {
    "duration": 16,
    "start_time": "2022-07-17T11:47:00.670Z"
   },
   {
    "duration": 34,
    "start_time": "2022-07-17T11:47:00.688Z"
   },
   {
    "duration": 19,
    "start_time": "2022-07-17T11:47:00.724Z"
   },
   {
    "duration": 16,
    "start_time": "2022-07-17T11:47:00.746Z"
   },
   {
    "duration": 22,
    "start_time": "2022-07-17T11:47:00.764Z"
   },
   {
    "duration": 26,
    "start_time": "2022-07-17T11:47:00.787Z"
   },
   {
    "duration": 29,
    "start_time": "2022-07-17T11:47:00.814Z"
   },
   {
    "duration": 23,
    "start_time": "2022-07-17T11:47:00.844Z"
   },
   {
    "duration": 5,
    "start_time": "2022-07-17T11:47:00.868Z"
   },
   {
    "duration": 31,
    "start_time": "2022-07-17T11:47:00.874Z"
   },
   {
    "duration": 69,
    "start_time": "2022-07-17T11:47:00.907Z"
   },
   {
    "duration": 18,
    "start_time": "2022-07-17T11:47:00.979Z"
   },
   {
    "duration": 23,
    "start_time": "2022-07-17T11:47:00.999Z"
   },
   {
    "duration": 53,
    "start_time": "2022-07-17T11:47:01.024Z"
   },
   {
    "duration": 3,
    "start_time": "2022-07-17T11:47:01.079Z"
   },
   {
    "duration": 35,
    "start_time": "2022-07-17T11:47:01.084Z"
   },
   {
    "duration": 47,
    "start_time": "2022-07-17T11:47:01.121Z"
   },
   {
    "duration": 41,
    "start_time": "2022-07-17T11:47:01.170Z"
   },
   {
    "duration": 73,
    "start_time": "2022-07-17T11:49:46.366Z"
   },
   {
    "duration": 10,
    "start_time": "2022-07-17T11:51:27.430Z"
   },
   {
    "duration": 3,
    "start_time": "2022-07-17T11:51:28.366Z"
   },
   {
    "duration": 26,
    "start_time": "2022-07-17T11:51:28.875Z"
   },
   {
    "duration": 9,
    "start_time": "2022-07-17T11:51:44.192Z"
   },
   {
    "duration": 2,
    "start_time": "2022-07-17T11:51:44.483Z"
   },
   {
    "duration": 25,
    "start_time": "2022-07-17T11:51:44.749Z"
   },
   {
    "duration": 9,
    "start_time": "2022-07-17T11:51:49.606Z"
   },
   {
    "duration": 2,
    "start_time": "2022-07-17T11:51:49.850Z"
   },
   {
    "duration": 25,
    "start_time": "2022-07-17T11:51:50.044Z"
   },
   {
    "duration": 400,
    "start_time": "2022-07-17T11:51:58.775Z"
   },
   {
    "duration": 3,
    "start_time": "2022-07-17T11:51:59.176Z"
   },
   {
    "duration": 102,
    "start_time": "2022-07-17T11:51:59.180Z"
   },
   {
    "duration": 12,
    "start_time": "2022-07-17T11:51:59.284Z"
   },
   {
    "duration": 18,
    "start_time": "2022-07-17T11:51:59.298Z"
   },
   {
    "duration": 71,
    "start_time": "2022-07-17T11:51:59.318Z"
   },
   {
    "duration": 25,
    "start_time": "2022-07-17T11:51:59.391Z"
   },
   {
    "duration": 27,
    "start_time": "2022-07-17T11:51:59.418Z"
   },
   {
    "duration": 2246,
    "start_time": "2022-07-17T11:51:59.447Z"
   },
   {
    "duration": 6,
    "start_time": "2022-07-17T11:52:01.696Z"
   },
   {
    "duration": 27,
    "start_time": "2022-07-17T11:52:01.704Z"
   },
   {
    "duration": 9,
    "start_time": "2022-07-17T11:52:01.733Z"
   },
   {
    "duration": 19,
    "start_time": "2022-07-17T11:52:01.744Z"
   },
   {
    "duration": 9,
    "start_time": "2022-07-17T11:52:01.765Z"
   },
   {
    "duration": 14,
    "start_time": "2022-07-17T11:52:01.775Z"
   },
   {
    "duration": 22,
    "start_time": "2022-07-17T11:52:01.791Z"
   },
   {
    "duration": 5,
    "start_time": "2022-07-17T11:52:01.815Z"
   },
   {
    "duration": 7,
    "start_time": "2022-07-17T11:52:01.821Z"
   },
   {
    "duration": 10,
    "start_time": "2022-07-17T11:52:01.830Z"
   },
   {
    "duration": 14,
    "start_time": "2022-07-17T11:52:01.842Z"
   },
   {
    "duration": 27,
    "start_time": "2022-07-17T11:52:01.857Z"
   },
   {
    "duration": 11,
    "start_time": "2022-07-17T11:52:01.885Z"
   },
   {
    "duration": 10,
    "start_time": "2022-07-17T11:52:01.897Z"
   },
   {
    "duration": 12,
    "start_time": "2022-07-17T11:52:01.909Z"
   },
   {
    "duration": 12,
    "start_time": "2022-07-17T11:52:01.922Z"
   },
   {
    "duration": 6,
    "start_time": "2022-07-17T11:52:01.935Z"
   },
   {
    "duration": 10,
    "start_time": "2022-07-17T11:52:01.943Z"
   },
   {
    "duration": 4,
    "start_time": "2022-07-17T11:52:01.956Z"
   },
   {
    "duration": 6,
    "start_time": "2022-07-17T11:52:01.962Z"
   },
   {
    "duration": 14,
    "start_time": "2022-07-17T11:52:01.969Z"
   },
   {
    "duration": 33,
    "start_time": "2022-07-17T11:52:01.985Z"
   },
   {
    "duration": 14,
    "start_time": "2022-07-17T11:52:02.019Z"
   },
   {
    "duration": 5,
    "start_time": "2022-07-17T11:52:02.035Z"
   },
   {
    "duration": 26,
    "start_time": "2022-07-17T11:52:02.042Z"
   },
   {
    "duration": 18,
    "start_time": "2022-07-17T11:52:02.069Z"
   },
   {
    "duration": 43,
    "start_time": "2022-07-17T11:52:02.089Z"
   },
   {
    "duration": 14,
    "start_time": "2022-07-17T11:52:02.133Z"
   },
   {
    "duration": 31,
    "start_time": "2022-07-17T11:52:02.148Z"
   },
   {
    "duration": 3,
    "start_time": "2022-07-17T11:52:02.180Z"
   },
   {
    "duration": 24,
    "start_time": "2022-07-17T11:52:02.184Z"
   },
   {
    "duration": 19,
    "start_time": "2022-07-17T11:52:02.209Z"
   },
   {
    "duration": 33,
    "start_time": "2022-07-17T11:52:02.230Z"
   },
   {
    "duration": 3,
    "start_time": "2022-07-17T11:53:52.809Z"
   },
   {
    "duration": 8,
    "start_time": "2022-07-17T11:53:53.186Z"
   },
   {
    "duration": 3,
    "start_time": "2022-07-17T11:53:53.627Z"
   },
   {
    "duration": 27,
    "start_time": "2022-07-17T11:53:54.093Z"
   },
   {
    "duration": 410,
    "start_time": "2022-07-17T11:53:59.077Z"
   },
   {
    "duration": 3,
    "start_time": "2022-07-17T11:53:59.489Z"
   },
   {
    "duration": 110,
    "start_time": "2022-07-17T11:53:59.493Z"
   },
   {
    "duration": 12,
    "start_time": "2022-07-17T11:53:59.605Z"
   },
   {
    "duration": 27,
    "start_time": "2022-07-17T11:53:59.619Z"
   },
   {
    "duration": 105,
    "start_time": "2022-07-17T11:53:59.648Z"
   },
   {
    "duration": 13,
    "start_time": "2022-07-17T11:53:59.755Z"
   },
   {
    "duration": 45,
    "start_time": "2022-07-17T11:53:59.770Z"
   },
   {
    "duration": 2223,
    "start_time": "2022-07-17T11:53:59.817Z"
   },
   {
    "duration": 6,
    "start_time": "2022-07-17T11:54:02.042Z"
   },
   {
    "duration": 39,
    "start_time": "2022-07-17T11:54:02.050Z"
   },
   {
    "duration": 45,
    "start_time": "2022-07-17T11:54:02.091Z"
   },
   {
    "duration": 44,
    "start_time": "2022-07-17T11:54:02.137Z"
   },
   {
    "duration": 32,
    "start_time": "2022-07-17T11:54:02.184Z"
   },
   {
    "duration": 55,
    "start_time": "2022-07-17T11:54:02.217Z"
   },
   {
    "duration": 48,
    "start_time": "2022-07-17T11:54:02.274Z"
   },
   {
    "duration": 21,
    "start_time": "2022-07-17T11:54:02.323Z"
   },
   {
    "duration": 30,
    "start_time": "2022-07-17T11:54:02.346Z"
   },
   {
    "duration": 28,
    "start_time": "2022-07-17T11:54:02.378Z"
   },
   {
    "duration": 25,
    "start_time": "2022-07-17T11:54:02.409Z"
   },
   {
    "duration": 42,
    "start_time": "2022-07-17T11:54:02.436Z"
   },
   {
    "duration": 13,
    "start_time": "2022-07-17T11:54:02.479Z"
   },
   {
    "duration": 26,
    "start_time": "2022-07-17T11:54:02.494Z"
   },
   {
    "duration": 69,
    "start_time": "2022-07-17T11:54:02.522Z"
   },
   {
    "duration": 27,
    "start_time": "2022-07-17T11:54:02.593Z"
   },
   {
    "duration": 32,
    "start_time": "2022-07-17T11:54:02.621Z"
   },
   {
    "duration": 53,
    "start_time": "2022-07-17T11:54:02.655Z"
   },
   {
    "duration": 31,
    "start_time": "2022-07-17T11:54:02.709Z"
   },
   {
    "duration": 50,
    "start_time": "2022-07-17T11:54:02.742Z"
   },
   {
    "duration": 52,
    "start_time": "2022-07-17T11:54:02.794Z"
   },
   {
    "duration": 41,
    "start_time": "2022-07-17T11:54:02.848Z"
   },
   {
    "duration": 53,
    "start_time": "2022-07-17T11:54:02.890Z"
   },
   {
    "duration": 25,
    "start_time": "2022-07-17T11:54:02.945Z"
   },
   {
    "duration": 31,
    "start_time": "2022-07-17T11:54:02.972Z"
   },
   {
    "duration": 45,
    "start_time": "2022-07-17T11:54:03.005Z"
   },
   {
    "duration": 28,
    "start_time": "2022-07-17T11:54:03.052Z"
   },
   {
    "duration": 24,
    "start_time": "2022-07-17T11:54:03.082Z"
   },
   {
    "duration": 28,
    "start_time": "2022-07-17T11:54:03.108Z"
   },
   {
    "duration": 3,
    "start_time": "2022-07-17T11:54:03.137Z"
   },
   {
    "duration": 14,
    "start_time": "2022-07-17T11:54:03.141Z"
   },
   {
    "duration": 10,
    "start_time": "2022-07-17T11:54:03.158Z"
   },
   {
    "duration": 31,
    "start_time": "2022-07-17T11:54:03.169Z"
   },
   {
    "duration": 430,
    "start_time": "2022-07-17T11:54:38.795Z"
   },
   {
    "duration": 2,
    "start_time": "2022-07-17T11:54:39.227Z"
   },
   {
    "duration": 96,
    "start_time": "2022-07-17T11:54:39.231Z"
   },
   {
    "duration": 11,
    "start_time": "2022-07-17T11:54:39.329Z"
   },
   {
    "duration": 17,
    "start_time": "2022-07-17T11:54:39.342Z"
   },
   {
    "duration": 76,
    "start_time": "2022-07-17T11:54:39.361Z"
   },
   {
    "duration": 14,
    "start_time": "2022-07-17T11:54:39.439Z"
   },
   {
    "duration": 30,
    "start_time": "2022-07-17T11:54:39.454Z"
   },
   {
    "duration": 2203,
    "start_time": "2022-07-17T11:54:39.485Z"
   },
   {
    "duration": 6,
    "start_time": "2022-07-17T11:54:41.691Z"
   },
   {
    "duration": 18,
    "start_time": "2022-07-17T11:54:41.699Z"
   },
   {
    "duration": 9,
    "start_time": "2022-07-17T11:54:41.718Z"
   },
   {
    "duration": 14,
    "start_time": "2022-07-17T11:54:41.729Z"
   },
   {
    "duration": 8,
    "start_time": "2022-07-17T11:54:41.745Z"
   },
   {
    "duration": 4,
    "start_time": "2022-07-17T11:54:41.755Z"
   },
   {
    "duration": 11,
    "start_time": "2022-07-17T11:54:41.760Z"
   },
   {
    "duration": 4,
    "start_time": "2022-07-17T11:54:41.773Z"
   },
   {
    "duration": 4,
    "start_time": "2022-07-17T11:54:41.810Z"
   },
   {
    "duration": 11,
    "start_time": "2022-07-17T11:54:41.816Z"
   },
   {
    "duration": 26,
    "start_time": "2022-07-17T11:54:41.828Z"
   },
   {
    "duration": 13,
    "start_time": "2022-07-17T11:54:41.856Z"
   },
   {
    "duration": 4,
    "start_time": "2022-07-17T11:54:41.870Z"
   },
   {
    "duration": 6,
    "start_time": "2022-07-17T11:54:41.876Z"
   },
   {
    "duration": 25,
    "start_time": "2022-07-17T11:54:41.884Z"
   },
   {
    "duration": 8,
    "start_time": "2022-07-17T11:54:41.910Z"
   },
   {
    "duration": 7,
    "start_time": "2022-07-17T11:54:41.919Z"
   },
   {
    "duration": 19,
    "start_time": "2022-07-17T11:54:41.927Z"
   },
   {
    "duration": 8,
    "start_time": "2022-07-17T11:54:41.949Z"
   },
   {
    "duration": 8,
    "start_time": "2022-07-17T11:54:41.959Z"
   },
   {
    "duration": 8,
    "start_time": "2022-07-17T11:54:41.969Z"
   },
   {
    "duration": 13,
    "start_time": "2022-07-17T11:54:41.978Z"
   },
   {
    "duration": 27,
    "start_time": "2022-07-17T11:54:41.992Z"
   },
   {
    "duration": 4,
    "start_time": "2022-07-17T11:54:42.021Z"
   },
   {
    "duration": 14,
    "start_time": "2022-07-17T11:54:42.027Z"
   },
   {
    "duration": 17,
    "start_time": "2022-07-17T11:54:42.043Z"
   },
   {
    "duration": 18,
    "start_time": "2022-07-17T11:54:42.061Z"
   },
   {
    "duration": 33,
    "start_time": "2022-07-17T11:54:42.080Z"
   },
   {
    "duration": 37,
    "start_time": "2022-07-17T11:54:42.115Z"
   },
   {
    "duration": 3,
    "start_time": "2022-07-17T11:54:42.153Z"
   },
   {
    "duration": 17,
    "start_time": "2022-07-17T11:54:42.158Z"
   },
   {
    "duration": 38,
    "start_time": "2022-07-17T11:54:42.176Z"
   },
   {
    "duration": 37,
    "start_time": "2022-07-17T11:54:42.216Z"
   },
   {
    "duration": 3,
    "start_time": "2022-07-17T11:55:15.706Z"
   },
   {
    "duration": 3,
    "start_time": "2022-07-17T11:55:16.180Z"
   },
   {
    "duration": 32,
    "start_time": "2022-07-17T11:55:16.525Z"
   },
   {
    "duration": 26,
    "start_time": "2022-07-17T11:55:17.020Z"
   },
   {
    "duration": 69,
    "start_time": "2022-07-17T11:56:24.616Z"
   },
   {
    "duration": 8,
    "start_time": "2022-07-17T11:56:33.836Z"
   },
   {
    "duration": 8,
    "start_time": "2022-07-17T11:57:05.256Z"
   },
   {
    "duration": 7,
    "start_time": "2022-07-17T11:57:33.422Z"
   },
   {
    "duration": 404,
    "start_time": "2022-07-17T11:57:55.827Z"
   },
   {
    "duration": 3,
    "start_time": "2022-07-17T11:57:56.233Z"
   },
   {
    "duration": 92,
    "start_time": "2022-07-17T11:57:56.237Z"
   },
   {
    "duration": 11,
    "start_time": "2022-07-17T11:57:56.331Z"
   },
   {
    "duration": 18,
    "start_time": "2022-07-17T11:57:56.344Z"
   },
   {
    "duration": 80,
    "start_time": "2022-07-17T11:57:56.364Z"
   },
   {
    "duration": 13,
    "start_time": "2022-07-17T11:57:56.446Z"
   },
   {
    "duration": 28,
    "start_time": "2022-07-17T11:57:56.461Z"
   },
   {
    "duration": 2125,
    "start_time": "2022-07-17T11:57:56.491Z"
   },
   {
    "duration": 8,
    "start_time": "2022-07-17T11:57:58.618Z"
   },
   {
    "duration": 21,
    "start_time": "2022-07-17T11:57:58.628Z"
   },
   {
    "duration": 10,
    "start_time": "2022-07-17T11:57:58.651Z"
   },
   {
    "duration": 15,
    "start_time": "2022-07-17T11:57:58.662Z"
   },
   {
    "duration": 32,
    "start_time": "2022-07-17T11:57:58.680Z"
   },
   {
    "duration": 5,
    "start_time": "2022-07-17T11:57:58.714Z"
   },
   {
    "duration": 15,
    "start_time": "2022-07-17T11:57:58.721Z"
   },
   {
    "duration": 5,
    "start_time": "2022-07-17T11:57:58.738Z"
   },
   {
    "duration": 8,
    "start_time": "2022-07-17T11:57:58.745Z"
   },
   {
    "duration": 10,
    "start_time": "2022-07-17T11:57:58.754Z"
   },
   {
    "duration": 11,
    "start_time": "2022-07-17T11:57:58.765Z"
   },
   {
    "duration": 12,
    "start_time": "2022-07-17T11:57:58.777Z"
   },
   {
    "duration": 23,
    "start_time": "2022-07-17T11:57:58.790Z"
   },
   {
    "duration": 7,
    "start_time": "2022-07-17T11:57:58.814Z"
   },
   {
    "duration": 14,
    "start_time": "2022-07-17T11:57:58.823Z"
   },
   {
    "duration": 10,
    "start_time": "2022-07-17T11:57:58.838Z"
   },
   {
    "duration": 6,
    "start_time": "2022-07-17T11:57:58.849Z"
   },
   {
    "duration": 14,
    "start_time": "2022-07-17T11:57:58.856Z"
   },
   {
    "duration": 8,
    "start_time": "2022-07-17T11:57:58.871Z"
   },
   {
    "duration": 7,
    "start_time": "2022-07-17T11:57:58.880Z"
   },
   {
    "duration": 10,
    "start_time": "2022-07-17T11:57:58.888Z"
   },
   {
    "duration": 8,
    "start_time": "2022-07-17T11:57:58.910Z"
   },
   {
    "duration": 15,
    "start_time": "2022-07-17T11:57:58.920Z"
   },
   {
    "duration": 4,
    "start_time": "2022-07-17T11:57:58.937Z"
   },
   {
    "duration": 9,
    "start_time": "2022-07-17T11:57:58.942Z"
   },
   {
    "duration": 19,
    "start_time": "2022-07-17T11:57:58.952Z"
   },
   {
    "duration": 40,
    "start_time": "2022-07-17T11:57:58.973Z"
   },
   {
    "duration": 13,
    "start_time": "2022-07-17T11:57:59.014Z"
   },
   {
    "duration": 32,
    "start_time": "2022-07-17T11:57:59.028Z"
   },
   {
    "duration": 2,
    "start_time": "2022-07-17T11:57:59.062Z"
   },
   {
    "duration": 84,
    "start_time": "2022-07-17T11:57:59.066Z"
   },
   {
    "duration": 0,
    "start_time": "2022-07-17T11:57:59.151Z"
   },
   {
    "duration": 0,
    "start_time": "2022-07-17T11:57:59.152Z"
   },
   {
    "duration": 3,
    "start_time": "2022-07-17T11:58:31.572Z"
   },
   {
    "duration": 7,
    "start_time": "2022-07-17T11:58:51.936Z"
   },
   {
    "duration": 4,
    "start_time": "2022-07-17T11:58:55.954Z"
   },
   {
    "duration": 48,
    "start_time": "2022-07-17T11:59:29.632Z"
   },
   {
    "duration": 3,
    "start_time": "2022-07-17T11:59:32.655Z"
   },
   {
    "duration": 4,
    "start_time": "2022-07-17T11:59:33.124Z"
   },
   {
    "duration": 4,
    "start_time": "2022-07-17T11:59:37.552Z"
   },
   {
    "duration": 3,
    "start_time": "2022-07-17T11:59:37.871Z"
   },
   {
    "duration": 3,
    "start_time": "2022-07-17T11:59:38.431Z"
   },
   {
    "duration": 35,
    "start_time": "2022-07-17T11:59:54.601Z"
   },
   {
    "duration": 27,
    "start_time": "2022-07-17T11:59:55.028Z"
   },
   {
    "duration": 423,
    "start_time": "2022-07-17T12:00:03.492Z"
   },
   {
    "duration": 3,
    "start_time": "2022-07-17T12:00:03.917Z"
   },
   {
    "duration": 140,
    "start_time": "2022-07-17T12:00:03.922Z"
   },
   {
    "duration": 13,
    "start_time": "2022-07-17T12:00:04.063Z"
   },
   {
    "duration": 26,
    "start_time": "2022-07-17T12:00:04.078Z"
   },
   {
    "duration": 79,
    "start_time": "2022-07-17T12:00:04.109Z"
   },
   {
    "duration": 20,
    "start_time": "2022-07-17T12:00:04.190Z"
   },
   {
    "duration": 29,
    "start_time": "2022-07-17T12:00:04.212Z"
   },
   {
    "duration": 2157,
    "start_time": "2022-07-17T12:00:04.243Z"
   },
   {
    "duration": 6,
    "start_time": "2022-07-17T12:00:06.403Z"
   },
   {
    "duration": 43,
    "start_time": "2022-07-17T12:00:06.411Z"
   },
   {
    "duration": 9,
    "start_time": "2022-07-17T12:00:06.456Z"
   },
   {
    "duration": 21,
    "start_time": "2022-07-17T12:00:06.467Z"
   },
   {
    "duration": 11,
    "start_time": "2022-07-17T12:00:06.491Z"
   },
   {
    "duration": 8,
    "start_time": "2022-07-17T12:00:06.503Z"
   },
   {
    "duration": 19,
    "start_time": "2022-07-17T12:00:06.512Z"
   },
   {
    "duration": 5,
    "start_time": "2022-07-17T12:00:06.532Z"
   },
   {
    "duration": 10,
    "start_time": "2022-07-17T12:00:06.538Z"
   },
   {
    "duration": 14,
    "start_time": "2022-07-17T12:00:06.550Z"
   },
   {
    "duration": 12,
    "start_time": "2022-07-17T12:00:06.566Z"
   },
   {
    "duration": 17,
    "start_time": "2022-07-17T12:00:06.579Z"
   },
   {
    "duration": 4,
    "start_time": "2022-07-17T12:00:06.598Z"
   },
   {
    "duration": 8,
    "start_time": "2022-07-17T12:00:06.604Z"
   },
   {
    "duration": 13,
    "start_time": "2022-07-17T12:00:06.613Z"
   },
   {
    "duration": 8,
    "start_time": "2022-07-17T12:00:06.628Z"
   },
   {
    "duration": 8,
    "start_time": "2022-07-17T12:00:06.637Z"
   },
   {
    "duration": 12,
    "start_time": "2022-07-17T12:00:06.646Z"
   },
   {
    "duration": 5,
    "start_time": "2022-07-17T12:00:06.660Z"
   },
   {
    "duration": 13,
    "start_time": "2022-07-17T12:00:06.667Z"
   },
   {
    "duration": 10,
    "start_time": "2022-07-17T12:00:06.682Z"
   },
   {
    "duration": 23,
    "start_time": "2022-07-17T12:00:06.694Z"
   },
   {
    "duration": 21,
    "start_time": "2022-07-17T12:00:06.719Z"
   },
   {
    "duration": 4,
    "start_time": "2022-07-17T12:00:06.742Z"
   },
   {
    "duration": 11,
    "start_time": "2022-07-17T12:00:06.747Z"
   },
   {
    "duration": 17,
    "start_time": "2022-07-17T12:00:06.760Z"
   },
   {
    "duration": 34,
    "start_time": "2022-07-17T12:00:06.778Z"
   },
   {
    "duration": 15,
    "start_time": "2022-07-17T12:00:06.813Z"
   },
   {
    "duration": 32,
    "start_time": "2022-07-17T12:00:06.830Z"
   },
   {
    "duration": 3,
    "start_time": "2022-07-17T12:00:06.863Z"
   },
   {
    "duration": 15,
    "start_time": "2022-07-17T12:00:06.868Z"
   },
   {
    "duration": 27,
    "start_time": "2022-07-17T12:00:06.887Z"
   },
   {
    "duration": 42,
    "start_time": "2022-07-17T12:00:06.916Z"
   },
   {
    "duration": 36,
    "start_time": "2022-07-17T12:00:06.960Z"
   },
   {
    "duration": 49,
    "start_time": "2022-07-17T12:04:26.869Z"
   },
   {
    "duration": 4728,
    "start_time": "2022-07-17T12:04:36.209Z"
   },
   {
    "duration": 16,
    "start_time": "2022-07-17T12:04:40.939Z"
   },
   {
    "duration": 34116,
    "start_time": "2022-07-17T12:05:35.333Z"
   },
   {
    "duration": 16,
    "start_time": "2022-07-17T12:06:09.452Z"
   },
   {
    "duration": 33275,
    "start_time": "2022-07-17T12:07:01.441Z"
   },
   {
    "duration": 17,
    "start_time": "2022-07-17T12:07:34.718Z"
   },
   {
    "duration": 8,
    "start_time": "2022-07-17T12:08:03.248Z"
   },
   {
    "duration": 16,
    "start_time": "2022-07-17T12:08:04.205Z"
   },
   {
    "duration": 427,
    "start_time": "2022-07-17T12:08:21.483Z"
   },
   {
    "duration": 3,
    "start_time": "2022-07-17T12:08:21.912Z"
   },
   {
    "duration": 87,
    "start_time": "2022-07-17T12:08:21.916Z"
   },
   {
    "duration": 11,
    "start_time": "2022-07-17T12:08:22.006Z"
   },
   {
    "duration": 17,
    "start_time": "2022-07-17T12:08:22.018Z"
   },
   {
    "duration": 78,
    "start_time": "2022-07-17T12:08:22.036Z"
   },
   {
    "duration": 14,
    "start_time": "2022-07-17T12:08:22.116Z"
   },
   {
    "duration": 24,
    "start_time": "2022-07-17T12:08:22.132Z"
   },
   {
    "duration": 2066,
    "start_time": "2022-07-17T12:08:22.158Z"
   },
   {
    "duration": 6,
    "start_time": "2022-07-17T12:08:24.228Z"
   },
   {
    "duration": 19,
    "start_time": "2022-07-17T12:08:24.236Z"
   },
   {
    "duration": 9,
    "start_time": "2022-07-17T12:08:24.256Z"
   },
   {
    "duration": 14,
    "start_time": "2022-07-17T12:08:24.266Z"
   },
   {
    "duration": 9,
    "start_time": "2022-07-17T12:08:24.281Z"
   },
   {
    "duration": 18,
    "start_time": "2022-07-17T12:08:24.291Z"
   },
   {
    "duration": 9,
    "start_time": "2022-07-17T12:08:24.311Z"
   },
   {
    "duration": 5,
    "start_time": "2022-07-17T12:08:24.321Z"
   },
   {
    "duration": 10,
    "start_time": "2022-07-17T12:08:24.327Z"
   },
   {
    "duration": 17,
    "start_time": "2022-07-17T12:08:24.339Z"
   },
   {
    "duration": 8,
    "start_time": "2022-07-17T12:08:24.357Z"
   },
   {
    "duration": 15,
    "start_time": "2022-07-17T12:08:24.366Z"
   },
   {
    "duration": 4,
    "start_time": "2022-07-17T12:08:24.383Z"
   },
   {
    "duration": 15,
    "start_time": "2022-07-17T12:08:24.389Z"
   },
   {
    "duration": 11,
    "start_time": "2022-07-17T12:08:24.405Z"
   },
   {
    "duration": 6,
    "start_time": "2022-07-17T12:08:24.418Z"
   },
   {
    "duration": 10,
    "start_time": "2022-07-17T12:08:24.426Z"
   },
   {
    "duration": 7,
    "start_time": "2022-07-17T12:08:24.437Z"
   },
   {
    "duration": 10,
    "start_time": "2022-07-17T12:08:24.447Z"
   },
   {
    "duration": 6,
    "start_time": "2022-07-17T12:08:24.458Z"
   },
   {
    "duration": 9,
    "start_time": "2022-07-17T12:08:24.465Z"
   },
   {
    "duration": 8,
    "start_time": "2022-07-17T12:08:24.475Z"
   },
   {
    "duration": 34,
    "start_time": "2022-07-17T12:08:24.485Z"
   },
   {
    "duration": 4,
    "start_time": "2022-07-17T12:08:24.521Z"
   },
   {
    "duration": 19,
    "start_time": "2022-07-17T12:08:24.527Z"
   },
   {
    "duration": 16,
    "start_time": "2022-07-17T12:08:24.548Z"
   },
   {
    "duration": 18,
    "start_time": "2022-07-17T12:08:24.565Z"
   },
   {
    "duration": 26,
    "start_time": "2022-07-17T12:08:24.585Z"
   },
   {
    "duration": 29,
    "start_time": "2022-07-17T12:08:24.612Z"
   },
   {
    "duration": 2,
    "start_time": "2022-07-17T12:08:24.643Z"
   },
   {
    "duration": 33112,
    "start_time": "2022-07-17T12:08:24.647Z"
   },
   {
    "duration": 15,
    "start_time": "2022-07-17T12:08:57.760Z"
   },
   {
    "duration": 7,
    "start_time": "2022-07-17T12:09:45.815Z"
   },
   {
    "duration": 16,
    "start_time": "2022-07-17T12:09:46.072Z"
   },
   {
    "duration": 398,
    "start_time": "2022-07-17T12:09:51.014Z"
   },
   {
    "duration": 3,
    "start_time": "2022-07-17T12:09:51.415Z"
   },
   {
    "duration": 108,
    "start_time": "2022-07-17T12:09:51.420Z"
   },
   {
    "duration": 15,
    "start_time": "2022-07-17T12:09:51.530Z"
   },
   {
    "duration": 28,
    "start_time": "2022-07-17T12:09:51.547Z"
   },
   {
    "duration": 83,
    "start_time": "2022-07-17T12:09:51.577Z"
   },
   {
    "duration": 13,
    "start_time": "2022-07-17T12:09:51.663Z"
   },
   {
    "duration": 32,
    "start_time": "2022-07-17T12:09:51.678Z"
   },
   {
    "duration": 2080,
    "start_time": "2022-07-17T12:09:51.712Z"
   },
   {
    "duration": 6,
    "start_time": "2022-07-17T12:09:53.794Z"
   },
   {
    "duration": 18,
    "start_time": "2022-07-17T12:09:53.802Z"
   },
   {
    "duration": 8,
    "start_time": "2022-07-17T12:09:53.822Z"
   },
   {
    "duration": 14,
    "start_time": "2022-07-17T12:09:53.831Z"
   },
   {
    "duration": 8,
    "start_time": "2022-07-17T12:09:53.847Z"
   },
   {
    "duration": 5,
    "start_time": "2022-07-17T12:09:53.856Z"
   },
   {
    "duration": 18,
    "start_time": "2022-07-17T12:09:53.863Z"
   },
   {
    "duration": 4,
    "start_time": "2022-07-17T12:09:53.882Z"
   },
   {
    "duration": 4,
    "start_time": "2022-07-17T12:09:53.909Z"
   },
   {
    "duration": 10,
    "start_time": "2022-07-17T12:09:53.914Z"
   },
   {
    "duration": 8,
    "start_time": "2022-07-17T12:09:53.926Z"
   },
   {
    "duration": 14,
    "start_time": "2022-07-17T12:09:53.935Z"
   },
   {
    "duration": 4,
    "start_time": "2022-07-17T12:09:53.950Z"
   },
   {
    "duration": 11,
    "start_time": "2022-07-17T12:09:53.956Z"
   },
   {
    "duration": 14,
    "start_time": "2022-07-17T12:09:53.968Z"
   },
   {
    "duration": 9,
    "start_time": "2022-07-17T12:09:53.983Z"
   },
   {
    "duration": 11,
    "start_time": "2022-07-17T12:09:53.993Z"
   },
   {
    "duration": 9,
    "start_time": "2022-07-17T12:09:54.009Z"
   },
   {
    "duration": 9,
    "start_time": "2022-07-17T12:09:54.021Z"
   },
   {
    "duration": 6,
    "start_time": "2022-07-17T12:09:54.031Z"
   },
   {
    "duration": 12,
    "start_time": "2022-07-17T12:09:54.038Z"
   },
   {
    "duration": 16,
    "start_time": "2022-07-17T12:09:54.052Z"
   },
   {
    "duration": 13,
    "start_time": "2022-07-17T12:09:54.069Z"
   },
   {
    "duration": 3,
    "start_time": "2022-07-17T12:09:54.084Z"
   },
   {
    "duration": 29,
    "start_time": "2022-07-17T12:09:54.089Z"
   },
   {
    "duration": 21,
    "start_time": "2022-07-17T12:09:54.120Z"
   },
   {
    "duration": 18,
    "start_time": "2022-07-17T12:09:54.142Z"
   },
   {
    "duration": 13,
    "start_time": "2022-07-17T12:09:54.162Z"
   },
   {
    "duration": 46,
    "start_time": "2022-07-17T12:09:54.177Z"
   },
   {
    "duration": 3,
    "start_time": "2022-07-17T12:09:54.224Z"
   },
   {
    "duration": 81,
    "start_time": "2022-07-17T12:09:54.229Z"
   },
   {
    "duration": 0,
    "start_time": "2022-07-17T12:09:54.312Z"
   },
   {
    "duration": 38,
    "start_time": "2022-07-17T12:10:37.133Z"
   },
   {
    "duration": 29,
    "start_time": "2022-07-17T12:10:38.583Z"
   },
   {
    "duration": 3,
    "start_time": "2022-07-17T12:13:23.857Z"
   },
   {
    "duration": 12,
    "start_time": "2022-07-17T12:13:24.307Z"
   },
   {
    "duration": 26,
    "start_time": "2022-07-17T12:13:25.254Z"
   },
   {
    "duration": 12,
    "start_time": "2022-07-17T12:13:48.924Z"
   },
   {
    "duration": 24,
    "start_time": "2022-07-17T12:13:50.837Z"
   },
   {
    "duration": 397,
    "start_time": "2022-07-17T12:13:55.206Z"
   },
   {
    "duration": 6,
    "start_time": "2022-07-17T12:13:55.604Z"
   },
   {
    "duration": 87,
    "start_time": "2022-07-17T12:13:55.611Z"
   },
   {
    "duration": 10,
    "start_time": "2022-07-17T12:13:55.700Z"
   },
   {
    "duration": 19,
    "start_time": "2022-07-17T12:13:55.712Z"
   },
   {
    "duration": 78,
    "start_time": "2022-07-17T12:13:55.732Z"
   },
   {
    "duration": 13,
    "start_time": "2022-07-17T12:13:55.811Z"
   },
   {
    "duration": 24,
    "start_time": "2022-07-17T12:13:55.826Z"
   },
   {
    "duration": 2105,
    "start_time": "2022-07-17T12:13:55.851Z"
   },
   {
    "duration": 6,
    "start_time": "2022-07-17T12:13:57.959Z"
   },
   {
    "duration": 16,
    "start_time": "2022-07-17T12:13:57.967Z"
   },
   {
    "duration": 10,
    "start_time": "2022-07-17T12:13:57.984Z"
   },
   {
    "duration": 22,
    "start_time": "2022-07-17T12:13:57.996Z"
   },
   {
    "duration": 9,
    "start_time": "2022-07-17T12:13:58.020Z"
   },
   {
    "duration": 5,
    "start_time": "2022-07-17T12:13:58.030Z"
   },
   {
    "duration": 27,
    "start_time": "2022-07-17T12:13:58.036Z"
   },
   {
    "duration": 4,
    "start_time": "2022-07-17T12:13:58.065Z"
   },
   {
    "duration": 29,
    "start_time": "2022-07-17T12:13:58.071Z"
   },
   {
    "duration": 17,
    "start_time": "2022-07-17T12:13:58.101Z"
   },
   {
    "duration": 18,
    "start_time": "2022-07-17T12:13:58.119Z"
   },
   {
    "duration": 24,
    "start_time": "2022-07-17T12:13:58.138Z"
   },
   {
    "duration": 8,
    "start_time": "2022-07-17T12:13:58.163Z"
   },
   {
    "duration": 14,
    "start_time": "2022-07-17T12:13:58.172Z"
   },
   {
    "duration": 28,
    "start_time": "2022-07-17T12:13:58.187Z"
   },
   {
    "duration": 15,
    "start_time": "2022-07-17T12:13:58.217Z"
   },
   {
    "duration": 14,
    "start_time": "2022-07-17T12:13:58.234Z"
   },
   {
    "duration": 5,
    "start_time": "2022-07-17T12:13:58.250Z"
   },
   {
    "duration": 9,
    "start_time": "2022-07-17T12:13:58.258Z"
   },
   {
    "duration": 20,
    "start_time": "2022-07-17T12:13:58.269Z"
   },
   {
    "duration": 11,
    "start_time": "2022-07-17T12:13:58.290Z"
   },
   {
    "duration": 17,
    "start_time": "2022-07-17T12:13:58.302Z"
   },
   {
    "duration": 13,
    "start_time": "2022-07-17T12:13:58.321Z"
   },
   {
    "duration": 4,
    "start_time": "2022-07-17T12:13:58.336Z"
   },
   {
    "duration": 23,
    "start_time": "2022-07-17T12:13:58.341Z"
   },
   {
    "duration": 20,
    "start_time": "2022-07-17T12:13:58.366Z"
   },
   {
    "duration": 36,
    "start_time": "2022-07-17T12:13:58.387Z"
   },
   {
    "duration": 17,
    "start_time": "2022-07-17T12:13:58.425Z"
   },
   {
    "duration": 58,
    "start_time": "2022-07-17T12:13:58.444Z"
   },
   {
    "duration": 7,
    "start_time": "2022-07-17T12:13:58.503Z"
   },
   {
    "duration": 62,
    "start_time": "2022-07-17T12:13:58.511Z"
   },
   {
    "duration": 14,
    "start_time": "2022-07-17T12:13:58.575Z"
   },
   {
    "duration": 46,
    "start_time": "2022-07-17T12:13:58.591Z"
   },
   {
    "duration": 49,
    "start_time": "2022-07-17T12:13:58.639Z"
   },
   {
    "duration": 25,
    "start_time": "2022-07-17T12:17:44.367Z"
   },
   {
    "duration": 2212,
    "start_time": "2022-07-17T12:20:46.228Z"
   },
   {
    "duration": 383,
    "start_time": "2022-07-17T12:28:24.339Z"
   },
   {
    "duration": 84,
    "start_time": "2022-07-17T12:28:24.723Z"
   },
   {
    "duration": 12,
    "start_time": "2022-07-17T12:28:24.808Z"
   },
   {
    "duration": 16,
    "start_time": "2022-07-17T12:28:24.822Z"
   },
   {
    "duration": 85,
    "start_time": "2022-07-17T12:28:24.839Z"
   },
   {
    "duration": 15,
    "start_time": "2022-07-17T12:28:24.926Z"
   },
   {
    "duration": 24,
    "start_time": "2022-07-17T12:28:24.942Z"
   },
   {
    "duration": 2125,
    "start_time": "2022-07-17T12:28:24.967Z"
   },
   {
    "duration": 6,
    "start_time": "2022-07-17T12:28:27.093Z"
   },
   {
    "duration": 25,
    "start_time": "2022-07-17T12:28:27.102Z"
   },
   {
    "duration": 10,
    "start_time": "2022-07-17T12:28:27.128Z"
   },
   {
    "duration": 18,
    "start_time": "2022-07-17T12:28:27.140Z"
   },
   {
    "duration": 9,
    "start_time": "2022-07-17T12:28:27.159Z"
   },
   {
    "duration": 7,
    "start_time": "2022-07-17T12:28:27.169Z"
   },
   {
    "duration": 19,
    "start_time": "2022-07-17T12:28:27.178Z"
   },
   {
    "duration": 6,
    "start_time": "2022-07-17T12:28:27.209Z"
   },
   {
    "duration": 7,
    "start_time": "2022-07-17T12:28:27.216Z"
   },
   {
    "duration": 7,
    "start_time": "2022-07-17T12:28:27.225Z"
   },
   {
    "duration": 8,
    "start_time": "2022-07-17T12:28:27.234Z"
   },
   {
    "duration": 13,
    "start_time": "2022-07-17T12:28:27.243Z"
   },
   {
    "duration": 3,
    "start_time": "2022-07-17T12:28:27.258Z"
   },
   {
    "duration": 7,
    "start_time": "2022-07-17T12:28:27.263Z"
   },
   {
    "duration": 19,
    "start_time": "2022-07-17T12:28:27.272Z"
   },
   {
    "duration": 24,
    "start_time": "2022-07-17T12:28:27.293Z"
   },
   {
    "duration": 9,
    "start_time": "2022-07-17T12:28:27.319Z"
   },
   {
    "duration": 9,
    "start_time": "2022-07-17T12:28:27.330Z"
   },
   {
    "duration": 7,
    "start_time": "2022-07-17T12:28:27.341Z"
   },
   {
    "duration": 12,
    "start_time": "2022-07-17T12:28:27.351Z"
   },
   {
    "duration": 27,
    "start_time": "2022-07-17T12:28:27.364Z"
   },
   {
    "duration": 23,
    "start_time": "2022-07-17T12:28:27.393Z"
   },
   {
    "duration": 15,
    "start_time": "2022-07-17T12:28:27.418Z"
   },
   {
    "duration": 6,
    "start_time": "2022-07-17T12:28:27.435Z"
   },
   {
    "duration": 22,
    "start_time": "2022-07-17T12:28:27.442Z"
   },
   {
    "duration": 17,
    "start_time": "2022-07-17T12:28:27.465Z"
   },
   {
    "duration": 29,
    "start_time": "2022-07-17T12:28:27.484Z"
   },
   {
    "duration": 13,
    "start_time": "2022-07-17T12:28:27.515Z"
   },
   {
    "duration": 30,
    "start_time": "2022-07-17T12:28:27.530Z"
   },
   {
    "duration": 3,
    "start_time": "2022-07-17T12:28:27.561Z"
   },
   {
    "duration": 56,
    "start_time": "2022-07-17T12:28:27.566Z"
   },
   {
    "duration": 6,
    "start_time": "2022-07-17T12:28:27.623Z"
   },
   {
    "duration": 20,
    "start_time": "2022-07-17T12:28:27.630Z"
   },
   {
    "duration": 28,
    "start_time": "2022-07-17T12:28:27.652Z"
   },
   {
    "duration": 28,
    "start_time": "2022-07-17T12:37:36.105Z"
   },
   {
    "duration": 4,
    "start_time": "2022-07-17T12:38:35.606Z"
   },
   {
    "duration": 70,
    "start_time": "2022-07-17T12:40:42.940Z"
   },
   {
    "duration": 4,
    "start_time": "2022-07-17T12:40:50.600Z"
   },
   {
    "duration": 3,
    "start_time": "2022-07-17T12:41:05.150Z"
   },
   {
    "duration": 5,
    "start_time": "2022-07-17T12:44:15.736Z"
   },
   {
    "duration": 6,
    "start_time": "2022-07-17T12:44:16.136Z"
   },
   {
    "duration": 22,
    "start_time": "2022-07-17T12:44:25.644Z"
   },
   {
    "duration": 4,
    "start_time": "2022-07-17T12:45:46.323Z"
   },
   {
    "duration": 7,
    "start_time": "2022-07-17T12:45:46.739Z"
   },
   {
    "duration": 5,
    "start_time": "2022-07-17T12:45:47.252Z"
   },
   {
    "duration": 6,
    "start_time": "2022-07-17T12:45:47.532Z"
   },
   {
    "duration": 30,
    "start_time": "2022-07-17T12:45:48.060Z"
   },
   {
    "duration": 6,
    "start_time": "2022-07-17T12:50:37.873Z"
   },
   {
    "duration": 6,
    "start_time": "2022-07-17T12:50:38.579Z"
   },
   {
    "duration": 5,
    "start_time": "2022-07-17T12:50:38.949Z"
   },
   {
    "duration": 26,
    "start_time": "2022-07-17T12:50:39.346Z"
   },
   {
    "duration": 6,
    "start_time": "2022-07-17T12:52:32.802Z"
   },
   {
    "duration": 10,
    "start_time": "2022-07-17T12:54:06.337Z"
   },
   {
    "duration": 10,
    "start_time": "2022-07-17T12:54:19.892Z"
   },
   {
    "duration": 5916,
    "start_time": "2022-07-17T12:56:44.209Z"
   },
   {
    "duration": 75,
    "start_time": "2022-07-17T12:57:09.236Z"
   },
   {
    "duration": 47,
    "start_time": "2022-07-17T12:57:24.849Z"
   },
   {
    "duration": 51,
    "start_time": "2022-07-17T12:58:20.154Z"
   },
   {
    "duration": 46,
    "start_time": "2022-07-17T12:58:26.323Z"
   },
   {
    "duration": 50,
    "start_time": "2022-07-17T12:59:44.655Z"
   },
   {
    "duration": 49,
    "start_time": "2022-07-17T13:01:30.496Z"
   },
   {
    "duration": 4,
    "start_time": "2022-07-17T13:01:37.279Z"
   },
   {
    "duration": 8,
    "start_time": "2022-07-17T13:02:16.736Z"
   },
   {
    "duration": 6,
    "start_time": "2022-07-17T13:02:17.342Z"
   },
   {
    "duration": 5,
    "start_time": "2022-07-17T13:02:17.923Z"
   },
   {
    "duration": 23,
    "start_time": "2022-07-17T13:02:19.479Z"
   },
   {
    "duration": 401,
    "start_time": "2022-07-17T13:02:53.524Z"
   },
   {
    "duration": 81,
    "start_time": "2022-07-17T13:02:53.927Z"
   },
   {
    "duration": 11,
    "start_time": "2022-07-17T13:02:54.010Z"
   },
   {
    "duration": 19,
    "start_time": "2022-07-17T13:02:54.024Z"
   },
   {
    "duration": 81,
    "start_time": "2022-07-17T13:02:54.045Z"
   },
   {
    "duration": 13,
    "start_time": "2022-07-17T13:02:54.128Z"
   },
   {
    "duration": 24,
    "start_time": "2022-07-17T13:02:54.143Z"
   },
   {
    "duration": 2116,
    "start_time": "2022-07-17T13:02:54.168Z"
   },
   {
    "duration": 6,
    "start_time": "2022-07-17T13:02:56.285Z"
   },
   {
    "duration": 16,
    "start_time": "2022-07-17T13:02:56.294Z"
   },
   {
    "duration": 9,
    "start_time": "2022-07-17T13:02:56.312Z"
   },
   {
    "duration": 15,
    "start_time": "2022-07-17T13:02:56.323Z"
   },
   {
    "duration": 9,
    "start_time": "2022-07-17T13:02:56.339Z"
   },
   {
    "duration": 5,
    "start_time": "2022-07-17T13:02:56.349Z"
   },
   {
    "duration": 12,
    "start_time": "2022-07-17T13:02:56.355Z"
   },
   {
    "duration": 7,
    "start_time": "2022-07-17T13:02:56.368Z"
   },
   {
    "duration": 33,
    "start_time": "2022-07-17T13:02:56.376Z"
   },
   {
    "duration": 5,
    "start_time": "2022-07-17T13:02:56.411Z"
   },
   {
    "duration": 19,
    "start_time": "2022-07-17T13:02:56.418Z"
   },
   {
    "duration": 12,
    "start_time": "2022-07-17T13:02:56.438Z"
   },
   {
    "duration": 6,
    "start_time": "2022-07-17T13:02:56.451Z"
   },
   {
    "duration": 15,
    "start_time": "2022-07-17T13:02:56.458Z"
   },
   {
    "duration": 13,
    "start_time": "2022-07-17T13:02:56.474Z"
   },
   {
    "duration": 8,
    "start_time": "2022-07-17T13:02:56.489Z"
   },
   {
    "duration": 7,
    "start_time": "2022-07-17T13:02:56.509Z"
   },
   {
    "duration": 10,
    "start_time": "2022-07-17T13:02:56.518Z"
   },
   {
    "duration": 6,
    "start_time": "2022-07-17T13:02:56.529Z"
   },
   {
    "duration": 3,
    "start_time": "2022-07-17T13:02:56.539Z"
   },
   {
    "duration": 8,
    "start_time": "2022-07-17T13:02:56.544Z"
   },
   {
    "duration": 9,
    "start_time": "2022-07-17T13:02:56.554Z"
   },
   {
    "duration": 12,
    "start_time": "2022-07-17T13:02:56.565Z"
   },
   {
    "duration": 3,
    "start_time": "2022-07-17T13:02:56.609Z"
   },
   {
    "duration": 12,
    "start_time": "2022-07-17T13:02:56.614Z"
   },
   {
    "duration": 15,
    "start_time": "2022-07-17T13:02:56.627Z"
   },
   {
    "duration": 17,
    "start_time": "2022-07-17T13:02:56.643Z"
   },
   {
    "duration": 13,
    "start_time": "2022-07-17T13:02:56.661Z"
   },
   {
    "duration": 44,
    "start_time": "2022-07-17T13:02:56.676Z"
   },
   {
    "duration": 3,
    "start_time": "2022-07-17T13:02:56.721Z"
   },
   {
    "duration": 34,
    "start_time": "2022-07-17T13:02:56.725Z"
   },
   {
    "duration": 6,
    "start_time": "2022-07-17T13:02:56.761Z"
   },
   {
    "duration": 14,
    "start_time": "2022-07-17T13:02:56.769Z"
   },
   {
    "duration": 40,
    "start_time": "2022-07-17T13:02:56.785Z"
   },
   {
    "duration": 24,
    "start_time": "2022-07-17T13:02:56.827Z"
   },
   {
    "duration": 4,
    "start_time": "2022-07-17T13:02:56.853Z"
   },
   {
    "duration": 16,
    "start_time": "2022-07-17T13:02:56.858Z"
   },
   {
    "duration": 7,
    "start_time": "2022-07-17T13:02:56.875Z"
   },
   {
    "duration": 80,
    "start_time": "2022-07-17T13:02:56.884Z"
   },
   {
    "duration": 0,
    "start_time": "2022-07-17T13:02:56.965Z"
   },
   {
    "duration": 0,
    "start_time": "2022-07-17T13:02:56.966Z"
   },
   {
    "duration": 0,
    "start_time": "2022-07-17T13:02:56.968Z"
   },
   {
    "duration": 3,
    "start_time": "2022-07-17T13:03:06.575Z"
   },
   {
    "duration": 5,
    "start_time": "2022-07-17T13:03:07.917Z"
   },
   {
    "duration": 6,
    "start_time": "2022-07-17T13:03:08.270Z"
   },
   {
    "duration": 24,
    "start_time": "2022-07-17T13:03:08.620Z"
   },
   {
    "duration": 4,
    "start_time": "2022-07-17T13:03:42.163Z"
   },
   {
    "duration": 9,
    "start_time": "2022-07-17T13:03:42.900Z"
   },
   {
    "duration": 25,
    "start_time": "2022-07-17T13:03:45.486Z"
   },
   {
    "duration": 23,
    "start_time": "2022-07-17T13:04:27.358Z"
   },
   {
    "duration": 4,
    "start_time": "2022-07-17T13:04:35.948Z"
   },
   {
    "duration": 4,
    "start_time": "2022-07-17T13:06:53.795Z"
   },
   {
    "duration": 43,
    "start_time": "2022-07-17T17:56:52.279Z"
   },
   {
    "duration": 4,
    "start_time": "2022-07-17T17:57:40.872Z"
   },
   {
    "duration": 3,
    "start_time": "2022-07-17T17:57:42.718Z"
   },
   {
    "duration": 4,
    "start_time": "2022-07-17T17:57:43.395Z"
   },
   {
    "duration": 25,
    "start_time": "2022-07-17T17:57:52.602Z"
   },
   {
    "duration": 15,
    "start_time": "2022-07-17T17:59:43.389Z"
   },
   {
    "duration": 14,
    "start_time": "2022-07-17T18:00:24.111Z"
   },
   {
    "duration": 14,
    "start_time": "2022-07-17T18:00:32.227Z"
   },
   {
    "duration": 4,
    "start_time": "2022-07-17T18:02:51.998Z"
   },
   {
    "duration": 3,
    "start_time": "2022-07-17T18:02:54.411Z"
   },
   {
    "duration": 11,
    "start_time": "2022-07-17T18:02:57.722Z"
   },
   {
    "duration": 25,
    "start_time": "2022-07-17T18:03:14.619Z"
   },
   {
    "duration": 375,
    "start_time": "2022-07-17T18:03:50.353Z"
   },
   {
    "duration": 84,
    "start_time": "2022-07-17T18:03:50.730Z"
   },
   {
    "duration": 11,
    "start_time": "2022-07-17T18:03:50.816Z"
   },
   {
    "duration": 15,
    "start_time": "2022-07-17T18:03:50.828Z"
   },
   {
    "duration": 79,
    "start_time": "2022-07-17T18:03:50.845Z"
   },
   {
    "duration": 14,
    "start_time": "2022-07-17T18:03:50.925Z"
   },
   {
    "duration": 27,
    "start_time": "2022-07-17T18:03:50.941Z"
   },
   {
    "duration": 2107,
    "start_time": "2022-07-17T18:03:50.969Z"
   },
   {
    "duration": 6,
    "start_time": "2022-07-17T18:03:53.078Z"
   },
   {
    "duration": 24,
    "start_time": "2022-07-17T18:03:53.085Z"
   },
   {
    "duration": 8,
    "start_time": "2022-07-17T18:03:53.111Z"
   },
   {
    "duration": 14,
    "start_time": "2022-07-17T18:03:53.120Z"
   },
   {
    "duration": 8,
    "start_time": "2022-07-17T18:03:53.135Z"
   },
   {
    "duration": 4,
    "start_time": "2022-07-17T18:03:53.146Z"
   },
   {
    "duration": 15,
    "start_time": "2022-07-17T18:03:53.152Z"
   },
   {
    "duration": 4,
    "start_time": "2022-07-17T18:03:53.168Z"
   },
   {
    "duration": 6,
    "start_time": "2022-07-17T18:03:53.174Z"
   },
   {
    "duration": 32,
    "start_time": "2022-07-17T18:03:53.181Z"
   },
   {
    "duration": 10,
    "start_time": "2022-07-17T18:03:53.214Z"
   },
   {
    "duration": 18,
    "start_time": "2022-07-17T18:03:53.226Z"
   },
   {
    "duration": 5,
    "start_time": "2022-07-17T18:03:53.246Z"
   },
   {
    "duration": 12,
    "start_time": "2022-07-17T18:03:53.252Z"
   },
   {
    "duration": 11,
    "start_time": "2022-07-17T18:03:53.266Z"
   },
   {
    "duration": 6,
    "start_time": "2022-07-17T18:03:53.279Z"
   },
   {
    "duration": 5,
    "start_time": "2022-07-17T18:03:53.286Z"
   },
   {
    "duration": 5,
    "start_time": "2022-07-17T18:03:53.309Z"
   },
   {
    "duration": 8,
    "start_time": "2022-07-17T18:03:53.315Z"
   },
   {
    "duration": 8,
    "start_time": "2022-07-17T18:03:53.324Z"
   },
   {
    "duration": 14,
    "start_time": "2022-07-17T18:03:53.333Z"
   },
   {
    "duration": 17,
    "start_time": "2022-07-17T18:03:53.349Z"
   },
   {
    "duration": 18,
    "start_time": "2022-07-17T18:03:53.367Z"
   },
   {
    "duration": 4,
    "start_time": "2022-07-17T18:03:53.386Z"
   },
   {
    "duration": 9,
    "start_time": "2022-07-17T18:03:53.391Z"
   },
   {
    "duration": 19,
    "start_time": "2022-07-17T18:03:53.401Z"
   },
   {
    "duration": 18,
    "start_time": "2022-07-17T18:03:53.421Z"
   },
   {
    "duration": 13,
    "start_time": "2022-07-17T18:03:53.441Z"
   },
   {
    "duration": 28,
    "start_time": "2022-07-17T18:03:53.456Z"
   },
   {
    "duration": 2,
    "start_time": "2022-07-17T18:03:53.485Z"
   },
   {
    "duration": 38,
    "start_time": "2022-07-17T18:03:53.510Z"
   },
   {
    "duration": 6,
    "start_time": "2022-07-17T18:03:53.549Z"
   },
   {
    "duration": 15,
    "start_time": "2022-07-17T18:03:53.559Z"
   },
   {
    "duration": 46,
    "start_time": "2022-07-17T18:03:53.576Z"
   },
   {
    "duration": 24,
    "start_time": "2022-07-17T18:03:53.624Z"
   },
   {
    "duration": 4,
    "start_time": "2022-07-17T18:03:53.649Z"
   },
   {
    "duration": 9,
    "start_time": "2022-07-17T18:03:53.655Z"
   },
   {
    "duration": 10,
    "start_time": "2022-07-17T18:03:53.665Z"
   },
   {
    "duration": 17,
    "start_time": "2022-07-17T18:03:53.677Z"
   },
   {
    "duration": 7,
    "start_time": "2022-07-17T18:03:53.709Z"
   },
   {
    "duration": 6,
    "start_time": "2022-07-17T18:03:53.717Z"
   },
   {
    "duration": 33,
    "start_time": "2022-07-17T18:03:53.725Z"
   },
   {
    "duration": 4,
    "start_time": "2022-07-17T18:03:53.760Z"
   },
   {
    "duration": 9,
    "start_time": "2022-07-17T18:03:53.766Z"
   },
   {
    "duration": 18,
    "start_time": "2022-07-17T18:03:53.777Z"
   },
   {
    "duration": 25,
    "start_time": "2022-07-17T18:03:53.809Z"
   },
   {
    "duration": 65,
    "start_time": "2022-07-17T18:17:13.532Z"
   },
   {
    "duration": 8,
    "start_time": "2022-07-17T18:18:01.277Z"
   },
   {
    "duration": 3,
    "start_time": "2022-07-17T18:18:07.536Z"
   },
   {
    "duration": 228,
    "start_time": "2022-07-17T18:18:08.324Z"
   },
   {
    "duration": 10,
    "start_time": "2022-07-17T18:18:31.251Z"
   },
   {
    "duration": 865,
    "start_time": "2022-07-17T18:18:47.528Z"
   },
   {
    "duration": 41,
    "start_time": "2022-07-17T18:20:53.839Z"
   },
   {
    "duration": 36,
    "start_time": "2022-07-17T18:21:34.009Z"
   },
   {
    "duration": 24,
    "start_time": "2022-07-17T18:21:52.645Z"
   },
   {
    "duration": 26,
    "start_time": "2022-07-17T18:22:37.581Z"
   },
   {
    "duration": 4,
    "start_time": "2022-07-17T18:28:39.289Z"
   },
   {
    "duration": 2207,
    "start_time": "2022-07-17T18:28:41.641Z"
   },
   {
    "duration": 32,
    "start_time": "2022-07-17T18:28:53.940Z"
   },
   {
    "duration": 3,
    "start_time": "2022-07-17T18:29:59.359Z"
   },
   {
    "duration": 2145,
    "start_time": "2022-07-17T18:30:01.517Z"
   },
   {
    "duration": 32,
    "start_time": "2022-07-17T18:30:03.664Z"
   },
   {
    "duration": 421,
    "start_time": "2022-07-17T18:30:10.935Z"
   },
   {
    "duration": 91,
    "start_time": "2022-07-17T18:30:11.358Z"
   },
   {
    "duration": 18,
    "start_time": "2022-07-17T18:30:11.451Z"
   },
   {
    "duration": 26,
    "start_time": "2022-07-17T18:30:11.472Z"
   },
   {
    "duration": 104,
    "start_time": "2022-07-17T18:30:11.500Z"
   },
   {
    "duration": 18,
    "start_time": "2022-07-17T18:30:11.609Z"
   },
   {
    "duration": 31,
    "start_time": "2022-07-17T18:30:11.630Z"
   },
   {
    "duration": 2117,
    "start_time": "2022-07-17T18:30:11.663Z"
   },
   {
    "duration": 6,
    "start_time": "2022-07-17T18:30:13.782Z"
   },
   {
    "duration": 21,
    "start_time": "2022-07-17T18:30:13.791Z"
   },
   {
    "duration": 23,
    "start_time": "2022-07-17T18:30:13.814Z"
   },
   {
    "duration": 24,
    "start_time": "2022-07-17T18:30:13.838Z"
   },
   {
    "duration": 13,
    "start_time": "2022-07-17T18:30:13.864Z"
   },
   {
    "duration": 25,
    "start_time": "2022-07-17T18:30:13.879Z"
   },
   {
    "duration": 25,
    "start_time": "2022-07-17T18:30:13.906Z"
   },
   {
    "duration": 19,
    "start_time": "2022-07-17T18:30:13.933Z"
   },
   {
    "duration": 26,
    "start_time": "2022-07-17T18:30:13.953Z"
   },
   {
    "duration": 39,
    "start_time": "2022-07-17T18:30:13.980Z"
   },
   {
    "duration": 26,
    "start_time": "2022-07-17T18:30:14.021Z"
   },
   {
    "duration": 30,
    "start_time": "2022-07-17T18:30:14.048Z"
   },
   {
    "duration": 22,
    "start_time": "2022-07-17T18:30:14.080Z"
   },
   {
    "duration": 27,
    "start_time": "2022-07-17T18:30:14.104Z"
   },
   {
    "duration": 30,
    "start_time": "2022-07-17T18:30:14.133Z"
   },
   {
    "duration": 23,
    "start_time": "2022-07-17T18:30:14.165Z"
   },
   {
    "duration": 25,
    "start_time": "2022-07-17T18:30:14.189Z"
   },
   {
    "duration": 13,
    "start_time": "2022-07-17T18:30:14.216Z"
   },
   {
    "duration": 24,
    "start_time": "2022-07-17T18:30:14.231Z"
   },
   {
    "duration": 34,
    "start_time": "2022-07-17T18:30:14.259Z"
   },
   {
    "duration": 26,
    "start_time": "2022-07-17T18:30:14.295Z"
   },
   {
    "duration": 16,
    "start_time": "2022-07-17T18:30:14.323Z"
   },
   {
    "duration": 30,
    "start_time": "2022-07-17T18:30:14.341Z"
   },
   {
    "duration": 11,
    "start_time": "2022-07-17T18:30:14.372Z"
   },
   {
    "duration": 22,
    "start_time": "2022-07-17T18:30:14.384Z"
   },
   {
    "duration": 34,
    "start_time": "2022-07-17T18:30:14.408Z"
   },
   {
    "duration": 35,
    "start_time": "2022-07-17T18:30:14.444Z"
   },
   {
    "duration": 21,
    "start_time": "2022-07-17T18:30:14.481Z"
   },
   {
    "duration": 32,
    "start_time": "2022-07-17T18:30:14.503Z"
   },
   {
    "duration": 3,
    "start_time": "2022-07-17T18:30:14.536Z"
   },
   {
    "duration": 65,
    "start_time": "2022-07-17T18:30:14.540Z"
   },
   {
    "duration": 14,
    "start_time": "2022-07-17T18:30:14.607Z"
   },
   {
    "duration": 14,
    "start_time": "2022-07-17T18:30:14.623Z"
   },
   {
    "duration": 37,
    "start_time": "2022-07-17T18:30:14.639Z"
   },
   {
    "duration": 27,
    "start_time": "2022-07-17T18:30:14.678Z"
   },
   {
    "duration": 4,
    "start_time": "2022-07-17T18:30:14.710Z"
   },
   {
    "duration": 9,
    "start_time": "2022-07-17T18:30:14.715Z"
   },
   {
    "duration": 4,
    "start_time": "2022-07-17T18:30:14.725Z"
   },
   {
    "duration": 18,
    "start_time": "2022-07-17T18:30:14.730Z"
   },
   {
    "duration": 14,
    "start_time": "2022-07-17T18:30:14.749Z"
   },
   {
    "duration": 15,
    "start_time": "2022-07-17T18:30:14.765Z"
   },
   {
    "duration": 29,
    "start_time": "2022-07-17T18:30:14.782Z"
   },
   {
    "duration": 3,
    "start_time": "2022-07-17T18:30:14.813Z"
   },
   {
    "duration": 14,
    "start_time": "2022-07-17T18:30:14.818Z"
   },
   {
    "duration": 6,
    "start_time": "2022-07-17T18:30:14.833Z"
   },
   {
    "duration": 2040,
    "start_time": "2022-07-17T18:30:14.840Z"
   },
   {
    "duration": 37,
    "start_time": "2022-07-17T18:30:16.882Z"
   },
   {
    "duration": 289,
    "start_time": "2022-07-17T18:33:26.810Z"
   },
   {
    "duration": 5,
    "start_time": "2022-07-17T18:33:34.491Z"
   },
   {
    "duration": 183,
    "start_time": "2022-07-17T18:33:35.209Z"
   },
   {
    "duration": 7,
    "start_time": "2022-07-17T18:34:54.043Z"
   },
   {
    "duration": 4,
    "start_time": "2022-07-17T18:35:03.557Z"
   },
   {
    "duration": 316,
    "start_time": "2022-07-17T18:35:04.268Z"
   },
   {
    "duration": 33,
    "start_time": "2022-07-17T18:35:05.774Z"
   },
   {
    "duration": 5,
    "start_time": "2022-07-17T18:36:31.293Z"
   },
   {
    "duration": 314,
    "start_time": "2022-07-17T18:36:32.877Z"
   },
   {
    "duration": 31,
    "start_time": "2022-07-17T18:36:37.421Z"
   },
   {
    "duration": 23,
    "start_time": "2022-07-17T18:36:43.554Z"
   },
   {
    "duration": 23,
    "start_time": "2022-07-17T18:37:02.584Z"
   },
   {
    "duration": 3,
    "start_time": "2022-07-17T18:42:44.677Z"
   },
   {
    "duration": 6,
    "start_time": "2022-07-17T18:47:26.689Z"
   },
   {
    "duration": 9,
    "start_time": "2022-07-17T18:47:57.123Z"
   },
   {
    "duration": 28,
    "start_time": "2022-07-17T18:48:44.668Z"
   },
   {
    "duration": 49,
    "start_time": "2022-07-17T18:48:56.578Z"
   },
   {
    "duration": 10,
    "start_time": "2022-07-17T18:49:00.565Z"
   },
   {
    "duration": 48,
    "start_time": "2022-07-17T18:49:15.459Z"
   },
   {
    "duration": 28,
    "start_time": "2022-07-17T18:49:17.673Z"
   },
   {
    "duration": 8,
    "start_time": "2022-07-17T18:50:03.399Z"
   },
   {
    "duration": 5,
    "start_time": "2022-07-17T18:50:18.048Z"
   },
   {
    "duration": 11,
    "start_time": "2022-07-17T18:57:23.313Z"
   },
   {
    "duration": 183,
    "start_time": "2022-07-17T19:02:50.444Z"
   },
   {
    "duration": 51,
    "start_time": "2022-07-17T19:04:10.689Z"
   },
   {
    "duration": 147,
    "start_time": "2022-07-17T19:04:17.232Z"
   },
   {
    "duration": 74,
    "start_time": "2022-07-17T19:06:57.211Z"
   },
   {
    "duration": 653,
    "start_time": "2022-07-17T19:08:18.722Z"
   },
   {
    "duration": 88,
    "start_time": "2022-07-17T19:08:19.377Z"
   },
   {
    "duration": 16,
    "start_time": "2022-07-17T19:08:19.467Z"
   },
   {
    "duration": 23,
    "start_time": "2022-07-17T19:08:19.486Z"
   },
   {
    "duration": 79,
    "start_time": "2022-07-17T19:08:19.511Z"
   },
   {
    "duration": 22,
    "start_time": "2022-07-17T19:08:19.591Z"
   },
   {
    "duration": 25,
    "start_time": "2022-07-17T19:08:19.614Z"
   },
   {
    "duration": 1976,
    "start_time": "2022-07-17T19:08:19.640Z"
   },
   {
    "duration": 6,
    "start_time": "2022-07-17T19:08:21.619Z"
   },
   {
    "duration": 34,
    "start_time": "2022-07-17T19:08:21.629Z"
   },
   {
    "duration": 9,
    "start_time": "2022-07-17T19:08:21.664Z"
   },
   {
    "duration": 16,
    "start_time": "2022-07-17T19:08:21.674Z"
   },
   {
    "duration": 18,
    "start_time": "2022-07-17T19:08:21.691Z"
   },
   {
    "duration": 5,
    "start_time": "2022-07-17T19:08:21.711Z"
   },
   {
    "duration": 11,
    "start_time": "2022-07-17T19:08:21.718Z"
   },
   {
    "duration": 5,
    "start_time": "2022-07-17T19:08:21.730Z"
   },
   {
    "duration": 10,
    "start_time": "2022-07-17T19:08:21.737Z"
   },
   {
    "duration": 6,
    "start_time": "2022-07-17T19:08:21.749Z"
   },
   {
    "duration": 14,
    "start_time": "2022-07-17T19:08:21.757Z"
   },
   {
    "duration": 11,
    "start_time": "2022-07-17T19:08:21.772Z"
   },
   {
    "duration": 27,
    "start_time": "2022-07-17T19:08:21.785Z"
   },
   {
    "duration": 9,
    "start_time": "2022-07-17T19:08:21.813Z"
   },
   {
    "duration": 17,
    "start_time": "2022-07-17T19:08:21.823Z"
   },
   {
    "duration": 7,
    "start_time": "2022-07-17T19:08:21.841Z"
   },
   {
    "duration": 5,
    "start_time": "2022-07-17T19:08:21.849Z"
   },
   {
    "duration": 7,
    "start_time": "2022-07-17T19:08:21.856Z"
   },
   {
    "duration": 6,
    "start_time": "2022-07-17T19:08:21.864Z"
   },
   {
    "duration": 4,
    "start_time": "2022-07-17T19:08:21.873Z"
   },
   {
    "duration": 8,
    "start_time": "2022-07-17T19:08:21.878Z"
   },
   {
    "duration": 10,
    "start_time": "2022-07-17T19:08:21.910Z"
   },
   {
    "duration": 20,
    "start_time": "2022-07-17T19:08:21.923Z"
   },
   {
    "duration": 3,
    "start_time": "2022-07-17T19:08:21.945Z"
   },
   {
    "duration": 12,
    "start_time": "2022-07-17T19:08:21.950Z"
   },
   {
    "duration": 21,
    "start_time": "2022-07-17T19:08:21.963Z"
   },
   {
    "duration": 32,
    "start_time": "2022-07-17T19:08:21.986Z"
   },
   {
    "duration": 13,
    "start_time": "2022-07-17T19:08:22.020Z"
   },
   {
    "duration": 34,
    "start_time": "2022-07-17T19:08:22.035Z"
   },
   {
    "duration": 2,
    "start_time": "2022-07-17T19:08:22.071Z"
   },
   {
    "duration": 49,
    "start_time": "2022-07-17T19:08:22.075Z"
   },
   {
    "duration": 7,
    "start_time": "2022-07-17T19:08:22.126Z"
   },
   {
    "duration": 15,
    "start_time": "2022-07-17T19:08:22.134Z"
   },
   {
    "duration": 27,
    "start_time": "2022-07-17T19:08:22.150Z"
   },
   {
    "duration": 34,
    "start_time": "2022-07-17T19:08:22.178Z"
   },
   {
    "duration": 4,
    "start_time": "2022-07-17T19:08:22.214Z"
   },
   {
    "duration": 12,
    "start_time": "2022-07-17T19:08:22.220Z"
   },
   {
    "duration": 4,
    "start_time": "2022-07-17T19:08:22.234Z"
   },
   {
    "duration": 14,
    "start_time": "2022-07-17T19:08:22.240Z"
   },
   {
    "duration": 8,
    "start_time": "2022-07-17T19:08:22.256Z"
   },
   {
    "duration": 6,
    "start_time": "2022-07-17T19:08:22.265Z"
   },
   {
    "duration": 41,
    "start_time": "2022-07-17T19:08:22.272Z"
   },
   {
    "duration": 3,
    "start_time": "2022-07-17T19:08:22.315Z"
   },
   {
    "duration": 11,
    "start_time": "2022-07-17T19:08:22.320Z"
   },
   {
    "duration": 10,
    "start_time": "2022-07-17T19:08:22.333Z"
   },
   {
    "duration": 317,
    "start_time": "2022-07-17T19:08:22.345Z"
   },
   {
    "duration": 24,
    "start_time": "2022-07-17T19:08:22.664Z"
   },
   {
    "duration": 151,
    "start_time": "2022-07-17T19:08:22.689Z"
   },
   {
    "duration": 161,
    "start_time": "2022-07-17T19:08:33.097Z"
   },
   {
    "duration": 141,
    "start_time": "2022-07-17T19:08:38.614Z"
   },
   {
    "duration": 694,
    "start_time": "2022-07-17T19:09:52.498Z"
   },
   {
    "duration": 85,
    "start_time": "2022-07-17T19:09:53.194Z"
   },
   {
    "duration": 12,
    "start_time": "2022-07-17T19:09:53.281Z"
   },
   {
    "duration": 15,
    "start_time": "2022-07-17T19:09:53.295Z"
   },
   {
    "duration": 72,
    "start_time": "2022-07-17T19:09:53.311Z"
   },
   {
    "duration": 30,
    "start_time": "2022-07-17T19:09:53.384Z"
   },
   {
    "duration": 26,
    "start_time": "2022-07-17T19:09:53.416Z"
   },
   {
    "duration": 2020,
    "start_time": "2022-07-17T19:09:53.444Z"
   },
   {
    "duration": 6,
    "start_time": "2022-07-17T19:09:55.467Z"
   },
   {
    "duration": 17,
    "start_time": "2022-07-17T19:09:55.477Z"
   },
   {
    "duration": 9,
    "start_time": "2022-07-17T19:09:55.496Z"
   },
   {
    "duration": 22,
    "start_time": "2022-07-17T19:09:55.507Z"
   },
   {
    "duration": 9,
    "start_time": "2022-07-17T19:09:55.530Z"
   },
   {
    "duration": 9,
    "start_time": "2022-07-17T19:09:55.540Z"
   },
   {
    "duration": 12,
    "start_time": "2022-07-17T19:09:55.551Z"
   },
   {
    "duration": 4,
    "start_time": "2022-07-17T19:09:55.565Z"
   },
   {
    "duration": 8,
    "start_time": "2022-07-17T19:09:55.571Z"
   },
   {
    "duration": 15,
    "start_time": "2022-07-17T19:09:55.581Z"
   },
   {
    "duration": 8,
    "start_time": "2022-07-17T19:09:55.610Z"
   },
   {
    "duration": 19,
    "start_time": "2022-07-17T19:09:55.620Z"
   },
   {
    "duration": 5,
    "start_time": "2022-07-17T19:09:55.641Z"
   },
   {
    "duration": 9,
    "start_time": "2022-07-17T19:09:55.648Z"
   },
   {
    "duration": 17,
    "start_time": "2022-07-17T19:09:55.659Z"
   },
   {
    "duration": 9,
    "start_time": "2022-07-17T19:09:55.678Z"
   },
   {
    "duration": 27,
    "start_time": "2022-07-17T19:09:55.689Z"
   },
   {
    "duration": 6,
    "start_time": "2022-07-17T19:09:55.718Z"
   },
   {
    "duration": 6,
    "start_time": "2022-07-17T19:09:55.726Z"
   },
   {
    "duration": 3,
    "start_time": "2022-07-17T19:09:55.738Z"
   },
   {
    "duration": 9,
    "start_time": "2022-07-17T19:09:55.743Z"
   },
   {
    "duration": 13,
    "start_time": "2022-07-17T19:09:55.753Z"
   },
   {
    "duration": 14,
    "start_time": "2022-07-17T19:09:55.767Z"
   },
   {
    "duration": 5,
    "start_time": "2022-07-17T19:09:55.811Z"
   },
   {
    "duration": 12,
    "start_time": "2022-07-17T19:09:55.818Z"
   },
   {
    "duration": 16,
    "start_time": "2022-07-17T19:09:55.832Z"
   },
   {
    "duration": 20,
    "start_time": "2022-07-17T19:09:55.850Z"
   },
   {
    "duration": 41,
    "start_time": "2022-07-17T19:09:55.872Z"
   },
   {
    "duration": 30,
    "start_time": "2022-07-17T19:09:55.915Z"
   },
   {
    "duration": 3,
    "start_time": "2022-07-17T19:09:55.947Z"
   },
   {
    "duration": 41,
    "start_time": "2022-07-17T19:09:55.952Z"
   },
   {
    "duration": 16,
    "start_time": "2022-07-17T19:09:55.994Z"
   },
   {
    "duration": 17,
    "start_time": "2022-07-17T19:09:56.011Z"
   },
   {
    "duration": 32,
    "start_time": "2022-07-17T19:09:56.029Z"
   },
   {
    "duration": 49,
    "start_time": "2022-07-17T19:09:56.062Z"
   },
   {
    "duration": 6,
    "start_time": "2022-07-17T19:09:56.113Z"
   },
   {
    "duration": 9,
    "start_time": "2022-07-17T19:09:56.121Z"
   },
   {
    "duration": 4,
    "start_time": "2022-07-17T19:09:56.132Z"
   },
   {
    "duration": 12,
    "start_time": "2022-07-17T19:09:56.138Z"
   },
   {
    "duration": 6,
    "start_time": "2022-07-17T19:09:56.152Z"
   },
   {
    "duration": 7,
    "start_time": "2022-07-17T19:09:56.159Z"
   },
   {
    "duration": 57,
    "start_time": "2022-07-17T19:09:56.168Z"
   },
   {
    "duration": 5,
    "start_time": "2022-07-17T19:09:56.226Z"
   },
   {
    "duration": 7,
    "start_time": "2022-07-17T19:09:56.233Z"
   },
   {
    "duration": 6,
    "start_time": "2022-07-17T19:09:56.242Z"
   },
   {
    "duration": 372,
    "start_time": "2022-07-17T19:09:56.250Z"
   },
   {
    "duration": 25,
    "start_time": "2022-07-17T19:09:56.624Z"
   },
   {
    "duration": 298322,
    "start_time": "2022-07-17T19:09:56.650Z"
   },
   {
    "duration": 238,
    "start_time": "2022-07-17T19:15:16.920Z"
   },
   {
    "duration": 648,
    "start_time": "2022-07-17T19:16:39.971Z"
   },
   {
    "duration": 84,
    "start_time": "2022-07-17T19:16:40.621Z"
   },
   {
    "duration": 12,
    "start_time": "2022-07-17T19:16:40.707Z"
   },
   {
    "duration": 26,
    "start_time": "2022-07-17T19:16:40.721Z"
   },
   {
    "duration": 72,
    "start_time": "2022-07-17T19:16:40.748Z"
   },
   {
    "duration": 15,
    "start_time": "2022-07-17T19:16:40.821Z"
   },
   {
    "duration": 29,
    "start_time": "2022-07-17T19:16:40.838Z"
   },
   {
    "duration": 1987,
    "start_time": "2022-07-17T19:16:40.869Z"
   },
   {
    "duration": 6,
    "start_time": "2022-07-17T19:16:42.859Z"
   },
   {
    "duration": 17,
    "start_time": "2022-07-17T19:16:42.868Z"
   },
   {
    "duration": 9,
    "start_time": "2022-07-17T19:16:42.887Z"
   },
   {
    "duration": 18,
    "start_time": "2022-07-17T19:16:42.897Z"
   },
   {
    "duration": 8,
    "start_time": "2022-07-17T19:16:42.917Z"
   },
   {
    "duration": 7,
    "start_time": "2022-07-17T19:16:42.926Z"
   },
   {
    "duration": 13,
    "start_time": "2022-07-17T19:16:42.934Z"
   },
   {
    "duration": 4,
    "start_time": "2022-07-17T19:16:42.948Z"
   },
   {
    "duration": 6,
    "start_time": "2022-07-17T19:16:42.954Z"
   },
   {
    "duration": 7,
    "start_time": "2022-07-17T19:16:42.961Z"
   },
   {
    "duration": 7,
    "start_time": "2022-07-17T19:16:42.969Z"
   },
   {
    "duration": 35,
    "start_time": "2022-07-17T19:16:42.977Z"
   },
   {
    "duration": 5,
    "start_time": "2022-07-17T19:16:43.014Z"
   },
   {
    "duration": 7,
    "start_time": "2022-07-17T19:16:43.020Z"
   },
   {
    "duration": 25,
    "start_time": "2022-07-17T19:16:43.029Z"
   },
   {
    "duration": 8,
    "start_time": "2022-07-17T19:16:43.056Z"
   },
   {
    "duration": 6,
    "start_time": "2022-07-17T19:16:43.066Z"
   },
   {
    "duration": 6,
    "start_time": "2022-07-17T19:16:43.074Z"
   },
   {
    "duration": 31,
    "start_time": "2022-07-17T19:16:43.082Z"
   },
   {
    "duration": 4,
    "start_time": "2022-07-17T19:16:43.116Z"
   },
   {
    "duration": 9,
    "start_time": "2022-07-17T19:16:43.121Z"
   },
   {
    "duration": 12,
    "start_time": "2022-07-17T19:16:43.131Z"
   },
   {
    "duration": 14,
    "start_time": "2022-07-17T19:16:43.144Z"
   },
   {
    "duration": 4,
    "start_time": "2022-07-17T19:16:43.160Z"
   },
   {
    "duration": 16,
    "start_time": "2022-07-17T19:16:43.165Z"
   },
   {
    "duration": 35,
    "start_time": "2022-07-17T19:16:43.183Z"
   },
   {
    "duration": 18,
    "start_time": "2022-07-17T19:16:43.220Z"
   },
   {
    "duration": 20,
    "start_time": "2022-07-17T19:16:43.240Z"
   },
   {
    "duration": 56,
    "start_time": "2022-07-17T19:16:43.263Z"
   },
   {
    "duration": 3,
    "start_time": "2022-07-17T19:16:43.321Z"
   },
   {
    "duration": 37,
    "start_time": "2022-07-17T19:16:43.326Z"
   },
   {
    "duration": 6,
    "start_time": "2022-07-17T19:16:43.364Z"
   },
   {
    "duration": 17,
    "start_time": "2022-07-17T19:16:43.372Z"
   },
   {
    "duration": 27,
    "start_time": "2022-07-17T19:16:43.410Z"
   },
   {
    "duration": 28,
    "start_time": "2022-07-17T19:16:43.439Z"
   },
   {
    "duration": 5,
    "start_time": "2022-07-17T19:16:43.469Z"
   },
   {
    "duration": 36,
    "start_time": "2022-07-17T19:16:43.475Z"
   },
   {
    "duration": 5,
    "start_time": "2022-07-17T19:16:43.513Z"
   },
   {
    "duration": 12,
    "start_time": "2022-07-17T19:16:43.519Z"
   },
   {
    "duration": 11,
    "start_time": "2022-07-17T19:16:43.533Z"
   },
   {
    "duration": 5,
    "start_time": "2022-07-17T19:16:43.546Z"
   },
   {
    "duration": 23,
    "start_time": "2022-07-17T19:16:43.553Z"
   },
   {
    "duration": 4,
    "start_time": "2022-07-17T19:16:43.578Z"
   },
   {
    "duration": 26,
    "start_time": "2022-07-17T19:16:43.583Z"
   },
   {
    "duration": 7,
    "start_time": "2022-07-17T19:16:43.611Z"
   },
   {
    "duration": 317,
    "start_time": "2022-07-17T19:16:43.620Z"
   },
   {
    "duration": 26,
    "start_time": "2022-07-17T19:16:43.939Z"
   },
   {
    "duration": 187,
    "start_time": "2022-07-17T19:16:43.967Z"
   },
   {
    "duration": 154,
    "start_time": "2022-07-17T19:17:09.785Z"
   },
   {
    "duration": 171,
    "start_time": "2022-07-17T19:17:42.087Z"
   },
   {
    "duration": 301,
    "start_time": "2022-07-17T19:18:10.166Z"
   },
   {
    "duration": 149,
    "start_time": "2022-07-17T19:18:24.342Z"
   },
   {
    "duration": 160,
    "start_time": "2022-07-17T19:18:27.793Z"
   },
   {
    "duration": 155,
    "start_time": "2022-07-17T19:19:39.426Z"
   },
   {
    "duration": 174,
    "start_time": "2022-07-17T19:20:12.747Z"
   },
   {
    "duration": 153,
    "start_time": "2022-07-17T19:20:19.708Z"
   },
   {
    "duration": 181,
    "start_time": "2022-07-17T19:20:26.059Z"
   },
   {
    "duration": 149,
    "start_time": "2022-07-17T19:20:32.364Z"
   },
   {
    "duration": 167,
    "start_time": "2022-07-17T19:21:15.821Z"
   },
   {
    "duration": 149,
    "start_time": "2022-07-17T19:22:15.685Z"
   },
   {
    "duration": 8,
    "start_time": "2022-07-17T19:22:22.845Z"
   },
   {
    "duration": 150,
    "start_time": "2022-07-17T19:22:40.289Z"
   },
   {
    "duration": 267,
    "start_time": "2022-07-17T19:22:45.231Z"
   },
   {
    "duration": 161,
    "start_time": "2022-07-17T19:22:52.508Z"
   },
   {
    "duration": 143,
    "start_time": "2022-07-17T19:23:16.827Z"
   },
   {
    "duration": 153,
    "start_time": "2022-07-17T19:23:33.861Z"
   },
   {
    "duration": 159,
    "start_time": "2022-07-17T19:24:18.828Z"
   },
   {
    "duration": 179,
    "start_time": "2022-07-17T19:24:31.635Z"
   },
   {
    "duration": 160,
    "start_time": "2022-07-17T19:25:06.719Z"
   },
   {
    "duration": 155,
    "start_time": "2022-07-17T19:25:16.201Z"
   },
   {
    "duration": 167,
    "start_time": "2022-07-17T19:25:22.329Z"
   },
   {
    "duration": 161,
    "start_time": "2022-07-17T19:25:37.455Z"
   },
   {
    "duration": 8,
    "start_time": "2022-07-17T19:26:10.804Z"
   },
   {
    "duration": 185,
    "start_time": "2022-07-17T19:27:20.916Z"
   },
   {
    "duration": 271,
    "start_time": "2022-07-17T19:27:50.269Z"
   },
   {
    "duration": 184,
    "start_time": "2022-07-17T19:30:03.507Z"
   },
   {
    "duration": 190,
    "start_time": "2022-07-17T19:30:12.234Z"
   },
   {
    "duration": 183,
    "start_time": "2022-07-17T19:30:18.287Z"
   },
   {
    "duration": 212,
    "start_time": "2022-07-17T19:30:21.600Z"
   },
   {
    "duration": 187,
    "start_time": "2022-07-17T19:30:27.608Z"
   },
   {
    "duration": 181,
    "start_time": "2022-07-17T19:31:30.083Z"
   },
   {
    "duration": 178,
    "start_time": "2022-07-17T19:31:47.082Z"
   },
   {
    "duration": 161,
    "start_time": "2022-07-17T19:32:04.637Z"
   },
   {
    "duration": 17,
    "start_time": "2022-07-17T19:32:45.867Z"
   },
   {
    "duration": 164,
    "start_time": "2022-07-17T19:33:02.940Z"
   },
   {
    "duration": 186,
    "start_time": "2022-07-17T19:33:09.165Z"
   },
   {
    "duration": 301,
    "start_time": "2022-07-17T19:33:16.853Z"
   },
   {
    "duration": 155,
    "start_time": "2022-07-17T19:33:40.684Z"
   },
   {
    "duration": 170,
    "start_time": "2022-07-17T19:33:48.271Z"
   },
   {
    "duration": 164,
    "start_time": "2022-07-17T19:33:55.167Z"
   },
   {
    "duration": 173,
    "start_time": "2022-07-17T19:34:07.191Z"
   },
   {
    "duration": 20,
    "start_time": "2022-07-17T19:34:23.593Z"
   },
   {
    "duration": 165,
    "start_time": "2022-07-17T19:34:34.585Z"
   },
   {
    "duration": 163,
    "start_time": "2022-07-17T19:34:40.196Z"
   },
   {
    "duration": 17,
    "start_time": "2022-07-17T19:34:54.439Z"
   },
   {
    "duration": 9,
    "start_time": "2022-07-17T19:35:36.224Z"
   },
   {
    "duration": 165,
    "start_time": "2022-07-17T19:35:58.203Z"
   },
   {
    "duration": 183,
    "start_time": "2022-07-17T19:36:04.147Z"
   },
   {
    "duration": 178,
    "start_time": "2022-07-17T19:36:14.145Z"
   },
   {
    "duration": 173,
    "start_time": "2022-07-17T19:36:25.315Z"
   },
   {
    "duration": 10,
    "start_time": "2022-07-17T19:36:35.775Z"
   },
   {
    "duration": 9,
    "start_time": "2022-07-17T19:37:03.841Z"
   },
   {
    "duration": 297,
    "start_time": "2022-07-17T19:37:30.452Z"
   },
   {
    "duration": 166,
    "start_time": "2022-07-17T19:37:41.883Z"
   },
   {
    "duration": 164,
    "start_time": "2022-07-17T19:37:47.355Z"
   },
   {
    "duration": 180,
    "start_time": "2022-07-17T19:37:59.715Z"
   },
   {
    "duration": 10,
    "start_time": "2022-07-17T19:40:10.509Z"
   },
   {
    "duration": 10,
    "start_time": "2022-07-17T19:41:01.079Z"
   },
   {
    "duration": 154,
    "start_time": "2022-07-17T19:42:27.950Z"
   },
   {
    "duration": 171,
    "start_time": "2022-07-17T19:43:21.116Z"
   },
   {
    "duration": 169,
    "start_time": "2022-07-17T19:43:25.680Z"
   },
   {
    "duration": 181,
    "start_time": "2022-07-17T19:43:30.965Z"
   },
   {
    "duration": 228,
    "start_time": "2022-07-17T19:43:42.407Z"
   },
   {
    "duration": 160,
    "start_time": "2022-07-17T19:43:54.185Z"
   },
   {
    "duration": 190,
    "start_time": "2022-07-17T19:44:03.900Z"
   },
   {
    "duration": 283,
    "start_time": "2022-07-17T19:44:11.619Z"
   },
   {
    "duration": 166,
    "start_time": "2022-07-17T19:44:22.530Z"
   },
   {
    "duration": 166,
    "start_time": "2022-07-17T19:44:28.794Z"
   },
   {
    "duration": 161,
    "start_time": "2022-07-17T19:45:19.836Z"
   },
   {
    "duration": 182,
    "start_time": "2022-07-17T19:46:40.913Z"
   },
   {
    "duration": 168,
    "start_time": "2022-07-17T19:46:48.176Z"
   },
   {
    "duration": 162,
    "start_time": "2022-07-17T19:47:45.224Z"
   },
   {
    "duration": 12,
    "start_time": "2022-07-17T19:48:11.474Z"
   },
   {
    "duration": 8,
    "start_time": "2022-07-17T19:48:24.913Z"
   },
   {
    "duration": 190,
    "start_time": "2022-07-17T19:48:39.323Z"
   },
   {
    "duration": 165,
    "start_time": "2022-07-17T19:48:51.274Z"
   },
   {
    "duration": 178,
    "start_time": "2022-07-17T19:49:11.875Z"
   },
   {
    "duration": 169,
    "start_time": "2022-07-17T19:49:20.300Z"
   },
   {
    "duration": 378,
    "start_time": "2022-07-17T19:49:25.863Z"
   },
   {
    "duration": 160,
    "start_time": "2022-07-17T19:49:35.979Z"
   },
   {
    "duration": 251,
    "start_time": "2022-07-17T19:49:40.692Z"
   },
   {
    "duration": 210,
    "start_time": "2022-07-17T19:49:48.506Z"
   },
   {
    "duration": 173,
    "start_time": "2022-07-17T19:49:59.331Z"
   },
   {
    "duration": 208,
    "start_time": "2022-07-17T19:50:11.443Z"
   },
   {
    "duration": 252,
    "start_time": "2022-07-17T19:50:19.799Z"
   },
   {
    "duration": 188,
    "start_time": "2022-07-17T19:50:30.165Z"
   },
   {
    "duration": 288,
    "start_time": "2022-07-17T19:50:40.751Z"
   },
   {
    "duration": 215,
    "start_time": "2022-07-17T19:50:54.029Z"
   },
   {
    "duration": 190,
    "start_time": "2022-07-17T19:51:03.565Z"
   },
   {
    "duration": 151,
    "start_time": "2022-07-17T19:52:17.776Z"
   },
   {
    "duration": 9,
    "start_time": "2022-07-17T19:52:25.855Z"
   },
   {
    "duration": 9,
    "start_time": "2022-07-17T19:52:32.388Z"
   },
   {
    "duration": 186,
    "start_time": "2022-07-17T19:52:38.077Z"
   },
   {
    "duration": 196,
    "start_time": "2022-07-17T19:52:43.974Z"
   },
   {
    "duration": 219,
    "start_time": "2022-07-17T19:52:49.930Z"
   },
   {
    "duration": 265,
    "start_time": "2022-07-17T19:52:56.239Z"
   },
   {
    "duration": 156,
    "start_time": "2022-07-17T19:53:01.150Z"
   },
   {
    "duration": 240,
    "start_time": "2022-07-17T19:53:29.725Z"
   },
   {
    "duration": 175,
    "start_time": "2022-07-17T19:53:37.886Z"
   },
   {
    "duration": 140,
    "start_time": "2022-07-17T19:53:43.537Z"
   },
   {
    "duration": 154,
    "start_time": "2022-07-17T19:53:47.762Z"
   },
   {
    "duration": 149,
    "start_time": "2022-07-17T19:53:56.821Z"
   },
   {
    "duration": 149,
    "start_time": "2022-07-17T19:54:05.873Z"
   },
   {
    "duration": 156,
    "start_time": "2022-07-17T19:54:16.901Z"
   },
   {
    "duration": 133,
    "start_time": "2022-07-17T19:54:31.937Z"
   },
   {
    "duration": 181,
    "start_time": "2022-07-17T19:54:42.380Z"
   },
   {
    "duration": 155,
    "start_time": "2022-07-17T19:54:56.720Z"
   },
   {
    "duration": 12,
    "start_time": "2022-07-17T19:55:01.538Z"
   },
   {
    "duration": 193,
    "start_time": "2022-07-17T19:55:05.035Z"
   },
   {
    "duration": 329,
    "start_time": "2022-07-17T19:55:20.985Z"
   },
   {
    "duration": 258,
    "start_time": "2022-07-17T19:55:27.683Z"
   },
   {
    "duration": 172,
    "start_time": "2022-07-17T19:55:34.465Z"
   },
   {
    "duration": 184,
    "start_time": "2022-07-17T19:55:40.211Z"
   },
   {
    "duration": 222,
    "start_time": "2022-07-17T19:55:46.091Z"
   },
   {
    "duration": 206,
    "start_time": "2022-07-17T19:56:13.021Z"
   },
   {
    "duration": 207,
    "start_time": "2022-07-17T19:56:46.407Z"
   },
   {
    "duration": 9,
    "start_time": "2022-07-17T19:59:14.056Z"
   },
   {
    "duration": 163,
    "start_time": "2022-07-17T20:00:11.244Z"
   },
   {
    "duration": 134,
    "start_time": "2022-07-17T20:00:18.162Z"
   },
   {
    "duration": 368,
    "start_time": "2022-07-17T20:00:22.066Z"
   },
   {
    "duration": 263,
    "start_time": "2022-07-17T20:00:28.690Z"
   },
   {
    "duration": 155,
    "start_time": "2022-07-17T20:00:52.360Z"
   },
   {
    "duration": 159,
    "start_time": "2022-07-17T20:01:00.305Z"
   },
   {
    "duration": 144,
    "start_time": "2022-07-17T20:01:07.867Z"
   },
   {
    "duration": 161,
    "start_time": "2022-07-17T20:01:12.776Z"
   },
   {
    "duration": 149,
    "start_time": "2022-07-17T20:01:17.073Z"
   },
   {
    "duration": 123,
    "start_time": "2022-07-17T20:01:21.288Z"
   },
   {
    "duration": 147,
    "start_time": "2022-07-17T20:01:26.689Z"
   },
   {
    "duration": 362,
    "start_time": "2022-07-17T20:02:48.115Z"
   },
   {
    "duration": 155,
    "start_time": "2022-07-17T20:02:56.857Z"
   },
   {
    "duration": 153,
    "start_time": "2022-07-17T20:03:07.059Z"
   },
   {
    "duration": 156,
    "start_time": "2022-07-17T20:03:20.988Z"
   },
   {
    "duration": 158,
    "start_time": "2022-07-17T20:03:25.594Z"
   },
   {
    "duration": 140,
    "start_time": "2022-07-17T20:03:49.262Z"
   },
   {
    "duration": 163,
    "start_time": "2022-07-17T20:03:53.708Z"
   },
   {
    "duration": 163,
    "start_time": "2022-07-17T20:03:58.295Z"
   },
   {
    "duration": 140,
    "start_time": "2022-07-17T20:04:02.499Z"
   },
   {
    "duration": 160,
    "start_time": "2022-07-17T20:04:06.006Z"
   },
   {
    "duration": 270,
    "start_time": "2022-07-17T20:04:11.875Z"
   },
   {
    "duration": 148,
    "start_time": "2022-07-17T20:05:14.341Z"
   },
   {
    "duration": 182,
    "start_time": "2022-07-17T20:05:25.953Z"
   },
   {
    "duration": 10,
    "start_time": "2022-07-17T20:07:19.536Z"
   },
   {
    "duration": 1007,
    "start_time": "2022-07-17T20:07:20.634Z"
   },
   {
    "duration": 8,
    "start_time": "2022-07-17T20:07:37.390Z"
   },
   {
    "duration": 708,
    "start_time": "2022-07-17T20:07:39.879Z"
   },
   {
    "duration": 10,
    "start_time": "2022-07-17T20:07:43.563Z"
   },
   {
    "duration": 197,
    "start_time": "2022-07-17T20:10:21.474Z"
   },
   {
    "duration": 152,
    "start_time": "2022-07-17T20:10:49.517Z"
   },
   {
    "duration": 170,
    "start_time": "2022-07-17T20:11:00.773Z"
   },
   {
    "duration": 164,
    "start_time": "2022-07-17T20:11:04.673Z"
   },
   {
    "duration": 149,
    "start_time": "2022-07-17T20:11:57.235Z"
   },
   {
    "duration": 142,
    "start_time": "2022-07-17T20:12:58.926Z"
   },
   {
    "duration": 150,
    "start_time": "2022-07-17T20:13:14.080Z"
   },
   {
    "duration": 167,
    "start_time": "2022-07-17T20:13:22.073Z"
   },
   {
    "duration": 246,
    "start_time": "2022-07-17T20:13:29.167Z"
   },
   {
    "duration": 168,
    "start_time": "2022-07-17T20:13:33.101Z"
   },
   {
    "duration": 212,
    "start_time": "2022-07-17T20:13:37.904Z"
   },
   {
    "duration": 185,
    "start_time": "2022-07-17T20:13:47.584Z"
   },
   {
    "duration": 160,
    "start_time": "2022-07-17T20:14:16.272Z"
   },
   {
    "duration": 9,
    "start_time": "2022-07-17T20:15:14.881Z"
   },
   {
    "duration": 8,
    "start_time": "2022-07-17T20:15:26.555Z"
   },
   {
    "duration": 92042,
    "start_time": "2022-07-17T20:15:47.252Z"
   },
   {
    "duration": 96093,
    "start_time": "2022-07-17T20:18:08.018Z"
   },
   {
    "duration": 109,
    "start_time": "2022-07-17T20:19:45.432Z"
   },
   {
    "duration": 125,
    "start_time": "2022-07-17T20:19:51.985Z"
   },
   {
    "duration": 102,
    "start_time": "2022-07-17T20:20:03.724Z"
   },
   {
    "duration": 141,
    "start_time": "2022-07-17T20:20:51.029Z"
   },
   {
    "duration": 144,
    "start_time": "2022-07-17T20:20:56.714Z"
   },
   {
    "duration": 139,
    "start_time": "2022-07-17T20:21:00.408Z"
   },
   {
    "duration": 125,
    "start_time": "2022-07-17T20:21:13.440Z"
   },
   {
    "duration": 121,
    "start_time": "2022-07-17T20:21:19.811Z"
   },
   {
    "duration": 119,
    "start_time": "2022-07-17T20:21:27.018Z"
   },
   {
    "duration": 109,
    "start_time": "2022-07-17T20:21:35.492Z"
   },
   {
    "duration": 110,
    "start_time": "2022-07-17T20:21:45.137Z"
   },
   {
    "duration": 128,
    "start_time": "2022-07-17T20:21:55.021Z"
   },
   {
    "duration": 215,
    "start_time": "2022-07-17T20:21:58.677Z"
   },
   {
    "duration": 231,
    "start_time": "2022-07-17T20:22:04.848Z"
   },
   {
    "duration": 228,
    "start_time": "2022-07-17T20:22:16.910Z"
   },
   {
    "duration": 124,
    "start_time": "2022-07-17T20:22:19.496Z"
   },
   {
    "duration": 112,
    "start_time": "2022-07-17T20:22:25.730Z"
   },
   {
    "duration": 151,
    "start_time": "2022-07-17T20:22:31.355Z"
   },
   {
    "duration": 136,
    "start_time": "2022-07-17T20:22:35.850Z"
   },
   {
    "duration": 124,
    "start_time": "2022-07-17T20:22:44.234Z"
   },
   {
    "duration": 199,
    "start_time": "2022-07-17T20:22:50.906Z"
   },
   {
    "duration": 145,
    "start_time": "2022-07-17T20:22:57.012Z"
   },
   {
    "duration": 126,
    "start_time": "2022-07-17T20:23:03.594Z"
   },
   {
    "duration": 113,
    "start_time": "2022-07-17T20:23:16.164Z"
   },
   {
    "duration": 125,
    "start_time": "2022-07-17T20:23:19.526Z"
   },
   {
    "duration": 125,
    "start_time": "2022-07-17T20:23:23.432Z"
   },
   {
    "duration": 128,
    "start_time": "2022-07-17T20:23:26.907Z"
   },
   {
    "duration": 134,
    "start_time": "2022-07-17T20:23:32.148Z"
   },
   {
    "duration": 80,
    "start_time": "2022-07-17T20:23:46.235Z"
   },
   {
    "duration": 126,
    "start_time": "2022-07-17T20:24:10.085Z"
   },
   {
    "duration": 127,
    "start_time": "2022-07-17T20:24:20.212Z"
   },
   {
    "duration": 129,
    "start_time": "2022-07-17T20:26:24.625Z"
   },
   {
    "duration": 146,
    "start_time": "2022-07-17T20:26:31.782Z"
   },
   {
    "duration": 145,
    "start_time": "2022-07-17T20:26:36.467Z"
   },
   {
    "duration": 142,
    "start_time": "2022-07-17T20:26:42.175Z"
   },
   {
    "duration": 193,
    "start_time": "2022-07-17T20:26:49.216Z"
   },
   {
    "duration": 174,
    "start_time": "2022-07-17T20:26:59.144Z"
   },
   {
    "duration": 185,
    "start_time": "2022-07-17T20:30:03.524Z"
   },
   {
    "duration": 182,
    "start_time": "2022-07-17T20:30:18.059Z"
   },
   {
    "duration": 176,
    "start_time": "2022-07-17T20:32:34.338Z"
   },
   {
    "duration": 170,
    "start_time": "2022-07-17T20:34:02.451Z"
   },
   {
    "duration": 173,
    "start_time": "2022-07-17T20:34:12.392Z"
   },
   {
    "duration": 157,
    "start_time": "2022-07-17T20:34:25.690Z"
   },
   {
    "duration": 172,
    "start_time": "2022-07-17T20:34:32.122Z"
   },
   {
    "duration": 175,
    "start_time": "2022-07-17T20:35:19.570Z"
   },
   {
    "duration": 169,
    "start_time": "2022-07-17T20:39:11.916Z"
   },
   {
    "duration": 157,
    "start_time": "2022-07-17T20:39:20.290Z"
   },
   {
    "duration": 160,
    "start_time": "2022-07-17T20:39:26.940Z"
   },
   {
    "duration": 158,
    "start_time": "2022-07-17T20:39:56.064Z"
   },
   {
    "duration": 164,
    "start_time": "2022-07-17T20:39:59.797Z"
   },
   {
    "duration": 157,
    "start_time": "2022-07-17T20:40:16.195Z"
   },
   {
    "duration": 164,
    "start_time": "2022-07-17T20:40:27.399Z"
   },
   {
    "duration": 191,
    "start_time": "2022-07-17T20:40:49.038Z"
   },
   {
    "duration": 55,
    "start_time": "2022-07-17T20:42:28.940Z"
   },
   {
    "duration": 216,
    "start_time": "2022-07-17T20:42:48.169Z"
   },
   {
    "duration": 214,
    "start_time": "2022-07-17T20:43:29.936Z"
   },
   {
    "duration": 155,
    "start_time": "2022-07-17T20:43:58.203Z"
   },
   {
    "duration": 168,
    "start_time": "2022-07-17T20:45:17.403Z"
   },
   {
    "duration": 158,
    "start_time": "2022-07-17T20:45:32.876Z"
   },
   {
    "duration": 192,
    "start_time": "2022-07-17T20:45:38.378Z"
   },
   {
    "duration": 193,
    "start_time": "2022-07-17T20:45:43.789Z"
   },
   {
    "duration": 191,
    "start_time": "2022-07-17T20:45:54.719Z"
   },
   {
    "duration": 230,
    "start_time": "2022-07-17T20:46:00.845Z"
   },
   {
    "duration": 274,
    "start_time": "2022-07-17T20:46:18.075Z"
   },
   {
    "duration": 253,
    "start_time": "2022-07-17T20:46:26.978Z"
   },
   {
    "duration": 247,
    "start_time": "2022-07-17T20:46:33.876Z"
   },
   {
    "duration": 53,
    "start_time": "2022-07-17T20:46:59.969Z"
   },
   {
    "duration": 246,
    "start_time": "2022-07-17T20:47:07.447Z"
   },
   {
    "duration": 261,
    "start_time": "2022-07-17T20:48:08.296Z"
   },
   {
    "duration": 234,
    "start_time": "2022-07-17T20:48:16.857Z"
   },
   {
    "duration": 241,
    "start_time": "2022-07-17T20:48:24.337Z"
   },
   {
    "duration": 2578,
    "start_time": "2022-07-17T20:48:30.480Z"
   },
   {
    "duration": 152,
    "start_time": "2022-07-17T20:48:46.415Z"
   },
   {
    "duration": 194,
    "start_time": "2022-07-17T20:48:53.159Z"
   },
   {
    "duration": 160,
    "start_time": "2022-07-17T20:48:59.376Z"
   },
   {
    "duration": 46,
    "start_time": "2022-07-18T06:20:22.828Z"
   },
   {
    "duration": 821,
    "start_time": "2022-07-18T06:20:40.370Z"
   },
   {
    "duration": 284,
    "start_time": "2022-07-18T06:20:41.193Z"
   },
   {
    "duration": 13,
    "start_time": "2022-07-18T06:20:41.479Z"
   },
   {
    "duration": 14,
    "start_time": "2022-07-18T06:20:41.495Z"
   },
   {
    "duration": 79,
    "start_time": "2022-07-18T06:20:41.511Z"
   },
   {
    "duration": 15,
    "start_time": "2022-07-18T06:20:41.592Z"
   },
   {
    "duration": 28,
    "start_time": "2022-07-18T06:20:41.608Z"
   },
   {
    "duration": 1994,
    "start_time": "2022-07-18T06:20:41.638Z"
   },
   {
    "duration": 5,
    "start_time": "2022-07-18T06:20:43.634Z"
   },
   {
    "duration": 18,
    "start_time": "2022-07-18T06:20:43.642Z"
   },
   {
    "duration": 8,
    "start_time": "2022-07-18T06:20:43.661Z"
   },
   {
    "duration": 13,
    "start_time": "2022-07-18T06:20:43.671Z"
   },
   {
    "duration": 7,
    "start_time": "2022-07-18T06:20:43.685Z"
   },
   {
    "duration": 8,
    "start_time": "2022-07-18T06:20:43.694Z"
   },
   {
    "duration": 10,
    "start_time": "2022-07-18T06:20:43.704Z"
   },
   {
    "duration": 4,
    "start_time": "2022-07-18T06:20:43.716Z"
   },
   {
    "duration": 7,
    "start_time": "2022-07-18T06:20:43.721Z"
   },
   {
    "duration": 6,
    "start_time": "2022-07-18T06:20:43.730Z"
   },
   {
    "duration": 8,
    "start_time": "2022-07-18T06:20:43.738Z"
   },
   {
    "duration": 11,
    "start_time": "2022-07-18T06:20:43.748Z"
   },
   {
    "duration": 4,
    "start_time": "2022-07-18T06:20:43.760Z"
   },
   {
    "duration": 10,
    "start_time": "2022-07-18T06:20:43.765Z"
   },
   {
    "duration": 25,
    "start_time": "2022-07-18T06:20:43.776Z"
   },
   {
    "duration": 6,
    "start_time": "2022-07-18T06:20:43.803Z"
   },
   {
    "duration": 6,
    "start_time": "2022-07-18T06:20:43.811Z"
   },
   {
    "duration": 5,
    "start_time": "2022-07-18T06:20:43.818Z"
   },
   {
    "duration": 4,
    "start_time": "2022-07-18T06:20:43.825Z"
   },
   {
    "duration": 10,
    "start_time": "2022-07-18T06:20:43.832Z"
   },
   {
    "duration": 12,
    "start_time": "2022-07-18T06:20:43.844Z"
   },
   {
    "duration": 14,
    "start_time": "2022-07-18T06:20:43.857Z"
   },
   {
    "duration": 38,
    "start_time": "2022-07-18T06:20:43.872Z"
   },
   {
    "duration": 6,
    "start_time": "2022-07-18T06:20:43.912Z"
   },
   {
    "duration": 22,
    "start_time": "2022-07-18T06:20:43.920Z"
   },
   {
    "duration": 24,
    "start_time": "2022-07-18T06:20:43.944Z"
   },
   {
    "duration": 20,
    "start_time": "2022-07-18T06:20:43.969Z"
   },
   {
    "duration": 22,
    "start_time": "2022-07-18T06:20:43.991Z"
   },
   {
    "duration": 31,
    "start_time": "2022-07-18T06:20:44.014Z"
   },
   {
    "duration": 3,
    "start_time": "2022-07-18T06:20:44.046Z"
   },
   {
    "duration": 37,
    "start_time": "2022-07-18T06:20:44.050Z"
   },
   {
    "duration": 15,
    "start_time": "2022-07-18T06:20:44.088Z"
   },
   {
    "duration": 20,
    "start_time": "2022-07-18T06:20:44.104Z"
   },
   {
    "duration": 26,
    "start_time": "2022-07-18T06:20:44.126Z"
   },
   {
    "duration": 24,
    "start_time": "2022-07-18T06:20:44.154Z"
   },
   {
    "duration": 5,
    "start_time": "2022-07-18T06:20:44.180Z"
   },
   {
    "duration": 28,
    "start_time": "2022-07-18T06:20:44.186Z"
   },
   {
    "duration": 4,
    "start_time": "2022-07-18T06:20:44.216Z"
   },
   {
    "duration": 18,
    "start_time": "2022-07-18T06:20:44.222Z"
   },
   {
    "duration": 5,
    "start_time": "2022-07-18T06:20:44.242Z"
   },
   {
    "duration": 13,
    "start_time": "2022-07-18T06:20:44.249Z"
   },
   {
    "duration": 28,
    "start_time": "2022-07-18T06:20:44.263Z"
   },
   {
    "duration": 9,
    "start_time": "2022-07-18T06:20:44.293Z"
   },
   {
    "duration": 11,
    "start_time": "2022-07-18T06:20:44.304Z"
   },
   {
    "duration": 10,
    "start_time": "2022-07-18T06:20:44.316Z"
   },
   {
    "duration": 336,
    "start_time": "2022-07-18T06:20:44.327Z"
   },
   {
    "duration": 23,
    "start_time": "2022-07-18T06:20:44.665Z"
   },
   {
    "duration": 22,
    "start_time": "2022-07-18T06:20:44.690Z"
   },
   {
    "duration": 8,
    "start_time": "2022-07-18T06:20:44.714Z"
   },
   {
    "duration": 203,
    "start_time": "2022-07-18T06:20:44.724Z"
   },
   {
    "duration": 9,
    "start_time": "2022-07-18T06:20:44.929Z"
   },
   {
    "duration": 215,
    "start_time": "2022-07-18T06:20:44.940Z"
   },
   {
    "duration": 9,
    "start_time": "2022-07-18T06:20:45.157Z"
   },
   {
    "duration": 302,
    "start_time": "2022-07-18T06:20:45.168Z"
   },
   {
    "duration": 18,
    "start_time": "2022-07-18T06:20:45.471Z"
   },
   {
    "duration": 189,
    "start_time": "2022-07-18T06:20:45.500Z"
   },
   {
    "duration": 14,
    "start_time": "2022-07-18T06:20:45.691Z"
   },
   {
    "duration": 142,
    "start_time": "2022-07-18T06:20:45.706Z"
   },
   {
    "duration": 8,
    "start_time": "2022-07-18T06:20:45.850Z"
   },
   {
    "duration": 166,
    "start_time": "2022-07-18T06:20:45.859Z"
   },
   {
    "duration": 7,
    "start_time": "2022-07-18T06:20:46.027Z"
   },
   {
    "duration": 166,
    "start_time": "2022-07-18T06:20:46.036Z"
   },
   {
    "duration": 8,
    "start_time": "2022-07-18T06:20:46.203Z"
   },
   {
    "duration": 197,
    "start_time": "2022-07-18T06:20:46.212Z"
   },
   {
    "duration": 8,
    "start_time": "2022-07-18T06:20:46.410Z"
   },
   {
    "duration": 137,
    "start_time": "2022-07-18T06:20:46.420Z"
   },
   {
    "duration": 183,
    "start_time": "2022-07-18T06:20:46.558Z"
   },
   {
    "duration": 165,
    "start_time": "2022-07-18T06:20:46.742Z"
   },
   {
    "duration": 153,
    "start_time": "2022-07-18T06:20:46.908Z"
   },
   {
    "duration": 341,
    "start_time": "2022-07-18T06:20:47.062Z"
   },
   {
    "duration": 175,
    "start_time": "2022-07-18T06:20:47.404Z"
   },
   {
    "duration": 165,
    "start_time": "2022-07-18T06:21:08.446Z"
   },
   {
    "duration": 161,
    "start_time": "2022-07-18T06:21:24.849Z"
   },
   {
    "duration": 139,
    "start_time": "2022-07-18T06:22:51.849Z"
   },
   {
    "duration": 62,
    "start_time": "2022-07-18T06:24:35.379Z"
   },
   {
    "duration": 66,
    "start_time": "2022-07-18T06:26:06.044Z"
   },
   {
    "duration": 8,
    "start_time": "2022-07-18T06:33:51.919Z"
   },
   {
    "duration": 149,
    "start_time": "2022-07-18T06:36:46.867Z"
   },
   {
    "duration": 145,
    "start_time": "2022-07-18T06:36:56.285Z"
   },
   {
    "duration": 188,
    "start_time": "2022-07-18T06:38:03.904Z"
   },
   {
    "duration": 151,
    "start_time": "2022-07-18T06:40:52.996Z"
   },
   {
    "duration": 141,
    "start_time": "2022-07-18T06:40:58.189Z"
   },
   {
    "duration": 138,
    "start_time": "2022-07-18T06:41:08.094Z"
   },
   {
    "duration": 267,
    "start_time": "2022-07-18T06:41:13.751Z"
   },
   {
    "duration": 175,
    "start_time": "2022-07-18T06:41:20.853Z"
   },
   {
    "duration": 122,
    "start_time": "2022-07-18T06:41:24.155Z"
   },
   {
    "duration": 72,
    "start_time": "2022-07-18T06:41:27.827Z"
   },
   {
    "duration": 144,
    "start_time": "2022-07-18T06:41:31.780Z"
   },
   {
    "duration": 157,
    "start_time": "2022-07-18T06:41:40.149Z"
   },
   {
    "duration": 141,
    "start_time": "2022-07-18T06:41:50.854Z"
   },
   {
    "duration": 156,
    "start_time": "2022-07-18T06:41:56.892Z"
   },
   {
    "duration": 203,
    "start_time": "2022-07-18T06:43:40.365Z"
   },
   {
    "duration": 255,
    "start_time": "2022-07-18T06:43:45.273Z"
   },
   {
    "duration": 154,
    "start_time": "2022-07-18T06:43:51.269Z"
   },
   {
    "duration": 223,
    "start_time": "2022-07-18T06:43:57.704Z"
   },
   {
    "duration": 138,
    "start_time": "2022-07-18T06:44:09.975Z"
   },
   {
    "duration": 136,
    "start_time": "2022-07-18T06:44:13.766Z"
   },
   {
    "duration": 137,
    "start_time": "2022-07-18T06:44:18.295Z"
   },
   {
    "duration": 146,
    "start_time": "2022-07-18T06:44:26.825Z"
   },
   {
    "duration": 201,
    "start_time": "2022-07-18T06:44:35.192Z"
   },
   {
    "duration": 136,
    "start_time": "2022-07-18T06:44:39.321Z"
   },
   {
    "duration": 145,
    "start_time": "2022-07-18T06:45:07.104Z"
   },
   {
    "duration": 9,
    "start_time": "2022-07-18T06:55:29.071Z"
   },
   {
    "duration": 165,
    "start_time": "2022-07-18T06:56:04.892Z"
   },
   {
    "duration": 152,
    "start_time": "2022-07-18T06:56:14.857Z"
   },
   {
    "duration": 199,
    "start_time": "2022-07-18T06:56:21.277Z"
   },
   {
    "duration": 225,
    "start_time": "2022-07-18T06:56:23.462Z"
   },
   {
    "duration": 125,
    "start_time": "2022-07-18T06:56:48.802Z"
   },
   {
    "duration": 165,
    "start_time": "2022-07-18T06:56:56.475Z"
   },
   {
    "duration": 247,
    "start_time": "2022-07-18T06:57:03.371Z"
   },
   {
    "duration": 215,
    "start_time": "2022-07-18T06:57:26.588Z"
   },
   {
    "duration": 232,
    "start_time": "2022-07-18T06:57:30.300Z"
   },
   {
    "duration": 1270,
    "start_time": "2022-07-18T06:57:40.162Z"
   },
   {
    "duration": 192,
    "start_time": "2022-07-18T06:57:45.392Z"
   },
   {
    "duration": 229,
    "start_time": "2022-07-18T06:57:56.461Z"
   },
   {
    "duration": 227,
    "start_time": "2022-07-18T06:58:25.629Z"
   },
   {
    "duration": 235,
    "start_time": "2022-07-18T07:00:20.889Z"
   },
   {
    "duration": 234,
    "start_time": "2022-07-18T07:00:36.314Z"
   },
   {
    "duration": 330,
    "start_time": "2022-07-18T07:00:44.056Z"
   },
   {
    "duration": 68,
    "start_time": "2022-07-18T07:02:32.134Z"
   },
   {
    "duration": 55,
    "start_time": "2022-07-18T07:02:47.566Z"
   },
   {
    "duration": 5,
    "start_time": "2022-07-18T07:02:55.054Z"
   },
   {
    "duration": 4,
    "start_time": "2022-07-18T07:03:02.271Z"
   },
   {
    "duration": 5,
    "start_time": "2022-07-18T07:03:13.739Z"
   },
   {
    "duration": 6,
    "start_time": "2022-07-18T07:04:00.708Z"
   },
   {
    "duration": 8,
    "start_time": "2022-07-18T07:04:53.520Z"
   },
   {
    "duration": 6,
    "start_time": "2022-07-18T07:04:59.750Z"
   },
   {
    "duration": 50,
    "start_time": "2022-07-18T07:05:11.133Z"
   },
   {
    "duration": 6,
    "start_time": "2022-07-18T07:05:16.999Z"
   },
   {
    "duration": 18,
    "start_time": "2022-07-18T07:13:03.625Z"
   },
   {
    "duration": 146,
    "start_time": "2022-07-18T07:14:13.137Z"
   },
   {
    "duration": 190,
    "start_time": "2022-07-18T07:14:54.275Z"
   },
   {
    "duration": 135,
    "start_time": "2022-07-18T07:14:59.339Z"
   },
   {
    "duration": 138,
    "start_time": "2022-07-18T07:15:32.997Z"
   },
   {
    "duration": 155,
    "start_time": "2022-07-18T07:15:43.917Z"
   },
   {
    "duration": 120,
    "start_time": "2022-07-18T07:16:13.495Z"
   },
   {
    "duration": 173,
    "start_time": "2022-07-18T07:16:27.562Z"
   },
   {
    "duration": 144,
    "start_time": "2022-07-18T07:16:52.689Z"
   },
   {
    "duration": 166,
    "start_time": "2022-07-18T07:17:32.982Z"
   },
   {
    "duration": 163,
    "start_time": "2022-07-18T07:17:47.090Z"
   },
   {
    "duration": 137,
    "start_time": "2022-07-18T07:20:08.559Z"
   },
   {
    "duration": 141,
    "start_time": "2022-07-18T07:23:45.572Z"
   },
   {
    "duration": 147,
    "start_time": "2022-07-18T07:24:00.837Z"
   },
   {
    "duration": 157,
    "start_time": "2022-07-18T07:24:22.219Z"
   },
   {
    "duration": 218,
    "start_time": "2022-07-18T07:24:30.261Z"
   },
   {
    "duration": 140,
    "start_time": "2022-07-18T07:28:56.616Z"
   },
   {
    "duration": 159,
    "start_time": "2022-07-18T07:29:00.053Z"
   },
   {
    "duration": 56,
    "start_time": "2022-07-18T07:29:16.167Z"
   },
   {
    "duration": 141,
    "start_time": "2022-07-18T07:29:20.423Z"
   },
   {
    "duration": 48,
    "start_time": "2022-07-18T07:29:36.791Z"
   },
   {
    "duration": 141,
    "start_time": "2022-07-18T07:29:42.105Z"
   },
   {
    "duration": 158,
    "start_time": "2022-07-18T07:30:02.454Z"
   },
   {
    "duration": 146,
    "start_time": "2022-07-18T07:30:28.961Z"
   },
   {
    "duration": 145,
    "start_time": "2022-07-18T07:30:34.063Z"
   },
   {
    "duration": 141,
    "start_time": "2022-07-18T07:30:36.955Z"
   },
   {
    "duration": 166,
    "start_time": "2022-07-18T07:31:10.757Z"
   },
   {
    "duration": 162,
    "start_time": "2022-07-18T07:31:31.988Z"
   },
   {
    "duration": 17,
    "start_time": "2022-07-18T07:40:36.546Z"
   },
   {
    "duration": 234,
    "start_time": "2022-07-18T07:41:02.261Z"
   },
   {
    "duration": 18,
    "start_time": "2022-07-18T07:41:28.921Z"
   },
   {
    "duration": 19,
    "start_time": "2022-07-18T07:42:03.173Z"
   },
   {
    "duration": 174,
    "start_time": "2022-07-18T07:42:27.455Z"
   },
   {
    "duration": 13,
    "start_time": "2022-07-18T07:43:05.022Z"
   },
   {
    "duration": 728,
    "start_time": "2022-07-18T07:43:06.230Z"
   },
   {
    "duration": 51,
    "start_time": "2022-07-18T07:43:40.631Z"
   },
   {
    "duration": 104,
    "start_time": "2022-07-18T07:44:01.248Z"
   },
   {
    "duration": 11,
    "start_time": "2022-07-18T07:44:10.368Z"
   },
   {
    "duration": 767,
    "start_time": "2022-07-18T07:44:11.710Z"
   },
   {
    "duration": 802,
    "start_time": "2022-07-18T07:44:35.521Z"
   },
   {
    "duration": 1171,
    "start_time": "2022-07-18T07:44:42.486Z"
   },
   {
    "duration": 893,
    "start_time": "2022-07-18T07:44:55.865Z"
   },
   {
    "duration": 1239,
    "start_time": "2022-07-18T07:45:01.924Z"
   },
   {
    "duration": 134,
    "start_time": "2022-07-18T07:45:26.166Z"
   },
   {
    "duration": 155,
    "start_time": "2022-07-18T07:48:01.623Z"
   },
   {
    "duration": 134,
    "start_time": "2022-07-18T07:48:05.869Z"
   },
   {
    "duration": 283,
    "start_time": "2022-07-18T07:48:10.658Z"
   },
   {
    "duration": 167,
    "start_time": "2022-07-18T07:49:22.799Z"
   },
   {
    "duration": 146,
    "start_time": "2022-07-18T07:50:27.984Z"
   },
   {
    "duration": 162,
    "start_time": "2022-07-18T07:50:32.585Z"
   },
   {
    "duration": 161,
    "start_time": "2022-07-18T07:50:50.772Z"
   },
   {
    "duration": 181,
    "start_time": "2022-07-18T07:50:58.489Z"
   },
   {
    "duration": 234,
    "start_time": "2022-07-18T07:51:03.944Z"
   },
   {
    "duration": 270,
    "start_time": "2022-07-18T07:51:24.324Z"
   },
   {
    "duration": 175,
    "start_time": "2022-07-18T07:51:39.724Z"
   },
   {
    "duration": 169,
    "start_time": "2022-07-18T07:51:49.162Z"
   },
   {
    "duration": 500,
    "start_time": "2022-07-18T07:51:55.092Z"
   },
   {
    "duration": 163,
    "start_time": "2022-07-18T07:51:57.624Z"
   },
   {
    "duration": 163,
    "start_time": "2022-07-18T07:52:12.922Z"
   },
   {
    "duration": 170,
    "start_time": "2022-07-18T07:52:19.335Z"
   },
   {
    "duration": 185,
    "start_time": "2022-07-18T07:52:37.413Z"
   },
   {
    "duration": 184,
    "start_time": "2022-07-18T07:53:22.231Z"
   },
   {
    "duration": 70,
    "start_time": "2022-07-18T07:55:01.822Z"
   },
   {
    "duration": 853,
    "start_time": "2022-07-18T07:55:05.330Z"
   },
   {
    "duration": 833,
    "start_time": "2022-07-18T07:55:17.825Z"
   },
   {
    "duration": 218,
    "start_time": "2022-07-18T07:55:24.628Z"
   },
   {
    "duration": 169,
    "start_time": "2022-07-18T07:55:40.817Z"
   },
   {
    "duration": 176,
    "start_time": "2022-07-18T07:55:47.331Z"
   },
   {
    "duration": 150,
    "start_time": "2022-07-18T07:58:25.596Z"
   },
   {
    "duration": 161,
    "start_time": "2022-07-18T07:58:31.584Z"
   },
   {
    "duration": 126,
    "start_time": "2022-07-18T07:58:47.004Z"
   },
   {
    "duration": 171,
    "start_time": "2022-07-18T07:58:57.302Z"
   },
   {
    "duration": 165,
    "start_time": "2022-07-18T07:59:08.196Z"
   },
   {
    "duration": 7,
    "start_time": "2022-07-18T08:00:04.153Z"
   },
   {
    "duration": 102,
    "start_time": "2022-07-18T08:00:30.934Z"
   },
   {
    "duration": 10,
    "start_time": "2022-07-18T08:00:34.133Z"
   },
   {
    "duration": 7,
    "start_time": "2022-07-18T08:00:48.788Z"
   },
   {
    "duration": 176,
    "start_time": "2022-07-18T08:01:38.501Z"
   },
   {
    "duration": 208,
    "start_time": "2022-07-18T08:01:48.199Z"
   },
   {
    "duration": 160,
    "start_time": "2022-07-18T08:01:56.578Z"
   },
   {
    "duration": 181,
    "start_time": "2022-07-18T08:02:04.719Z"
   },
   {
    "duration": 166,
    "start_time": "2022-07-18T08:02:31.202Z"
   },
   {
    "duration": 359,
    "start_time": "2022-07-18T08:02:35.505Z"
   },
   {
    "duration": 247,
    "start_time": "2022-07-18T08:02:45.297Z"
   },
   {
    "duration": 174,
    "start_time": "2022-07-18T08:03:07.132Z"
   },
   {
    "duration": 164,
    "start_time": "2022-07-18T08:04:19.700Z"
   },
   {
    "duration": 168,
    "start_time": "2022-07-18T08:04:51.510Z"
   },
   {
    "duration": 147,
    "start_time": "2022-07-18T08:04:54.712Z"
   },
   {
    "duration": 148,
    "start_time": "2022-07-18T08:05:18.614Z"
   },
   {
    "duration": 151,
    "start_time": "2022-07-18T08:05:38.037Z"
   },
   {
    "duration": 146,
    "start_time": "2022-07-18T08:05:46.606Z"
   },
   {
    "duration": 166,
    "start_time": "2022-07-18T08:06:04.573Z"
   },
   {
    "duration": 149,
    "start_time": "2022-07-18T08:06:09.116Z"
   },
   {
    "duration": 168,
    "start_time": "2022-07-18T08:06:11.421Z"
   },
   {
    "duration": 149,
    "start_time": "2022-07-18T08:11:37.762Z"
   },
   {
    "duration": 221,
    "start_time": "2022-07-18T08:12:01.092Z"
   },
   {
    "duration": 117,
    "start_time": "2022-07-18T08:14:55.054Z"
   },
   {
    "duration": 142,
    "start_time": "2022-07-18T08:15:26.641Z"
   },
   {
    "duration": 160,
    "start_time": "2022-07-18T08:16:04.989Z"
   },
   {
    "duration": 167,
    "start_time": "2022-07-18T08:16:38.417Z"
   },
   {
    "duration": 167,
    "start_time": "2022-07-18T08:17:53.862Z"
   },
   {
    "duration": 13,
    "start_time": "2022-07-18T08:27:02.898Z"
   },
   {
    "duration": 7,
    "start_time": "2022-07-18T08:29:19.090Z"
   },
   {
    "duration": 4,
    "start_time": "2022-07-18T08:29:23.592Z"
   },
   {
    "duration": 4,
    "start_time": "2022-07-18T08:30:33.389Z"
   },
   {
    "duration": 47,
    "start_time": "2022-07-18T08:32:56.087Z"
   },
   {
    "duration": 64,
    "start_time": "2022-07-18T08:33:07.592Z"
   },
   {
    "duration": 53,
    "start_time": "2022-07-18T08:33:16.116Z"
   },
   {
    "duration": 89,
    "start_time": "2022-07-18T08:33:28.961Z"
   },
   {
    "duration": 48,
    "start_time": "2022-07-18T08:33:46.017Z"
   },
   {
    "duration": 13,
    "start_time": "2022-07-18T08:33:51.747Z"
   },
   {
    "duration": 16,
    "start_time": "2022-07-18T08:34:21.734Z"
   },
   {
    "duration": 7,
    "start_time": "2022-07-18T08:34:53.226Z"
   },
   {
    "duration": 4,
    "start_time": "2022-07-18T08:35:15.755Z"
   },
   {
    "duration": 8,
    "start_time": "2022-07-18T08:35:20.699Z"
   },
   {
    "duration": 10,
    "start_time": "2022-07-18T08:35:46.307Z"
   },
   {
    "duration": 4,
    "start_time": "2022-07-18T08:35:51.529Z"
   },
   {
    "duration": 7,
    "start_time": "2022-07-18T08:35:52.229Z"
   },
   {
    "duration": 9,
    "start_time": "2022-07-18T08:36:10.777Z"
   },
   {
    "duration": 7,
    "start_time": "2022-07-18T08:36:33.236Z"
   },
   {
    "duration": 6,
    "start_time": "2022-07-18T08:36:48.645Z"
   },
   {
    "duration": 9,
    "start_time": "2022-07-18T08:40:09.032Z"
   },
   {
    "duration": 13,
    "start_time": "2022-07-18T08:40:23.408Z"
   },
   {
    "duration": 6,
    "start_time": "2022-07-18T08:40:39.723Z"
   },
   {
    "duration": 24,
    "start_time": "2022-07-18T08:42:03.185Z"
   },
   {
    "duration": 5,
    "start_time": "2022-07-18T08:43:21.690Z"
   },
   {
    "duration": 5,
    "start_time": "2022-07-18T08:43:27.923Z"
   },
   {
    "duration": 15,
    "start_time": "2022-07-18T08:44:09.031Z"
   },
   {
    "duration": 82,
    "start_time": "2022-07-18T08:44:30.581Z"
   },
   {
    "duration": 4,
    "start_time": "2022-07-18T08:44:41.736Z"
   },
   {
    "duration": 8,
    "start_time": "2022-07-18T08:44:56.416Z"
   },
   {
    "duration": 10,
    "start_time": "2022-07-18T08:45:02.408Z"
   },
   {
    "duration": 6,
    "start_time": "2022-07-18T08:45:22.422Z"
   },
   {
    "duration": 5,
    "start_time": "2022-07-18T08:45:38.260Z"
   },
   {
    "duration": 28,
    "start_time": "2022-07-18T08:45:39.528Z"
   },
   {
    "duration": 11,
    "start_time": "2022-07-18T08:45:39.959Z"
   },
   {
    "duration": 6,
    "start_time": "2022-07-18T08:45:58.863Z"
   },
   {
    "duration": 5,
    "start_time": "2022-07-18T08:45:59.314Z"
   },
   {
    "duration": 5,
    "start_time": "2022-07-18T08:45:59.567Z"
   },
   {
    "duration": 23,
    "start_time": "2022-07-18T08:46:00.010Z"
   },
   {
    "duration": 17,
    "start_time": "2022-07-18T08:46:00.834Z"
   },
   {
    "duration": 10,
    "start_time": "2022-07-18T08:46:01.287Z"
   },
   {
    "duration": 6,
    "start_time": "2022-07-18T08:46:01.879Z"
   },
   {
    "duration": 27,
    "start_time": "2022-07-18T08:46:18.175Z"
   },
   {
    "duration": 11,
    "start_time": "2022-07-18T08:46:25.711Z"
   },
   {
    "duration": 7,
    "start_time": "2022-07-18T08:46:26.673Z"
   },
   {
    "duration": 5,
    "start_time": "2022-07-18T08:46:27.105Z"
   },
   {
    "duration": 6,
    "start_time": "2022-07-18T08:47:00.679Z"
   },
   {
    "duration": 5,
    "start_time": "2022-07-18T08:47:06.705Z"
   },
   {
    "duration": 7,
    "start_time": "2022-07-18T08:48:13.473Z"
   },
   {
    "duration": 8,
    "start_time": "2022-07-18T08:49:01.606Z"
   },
   {
    "duration": 768,
    "start_time": "2022-07-18T08:49:30.268Z"
   },
   {
    "duration": 16,
    "start_time": "2022-07-18T08:49:39.156Z"
   },
   {
    "duration": 7,
    "start_time": "2022-07-18T08:49:48.371Z"
   },
   {
    "duration": 16,
    "start_time": "2022-07-18T08:50:02.723Z"
   },
   {
    "duration": 5,
    "start_time": "2022-07-18T08:50:20.942Z"
   },
   {
    "duration": 189,
    "start_time": "2022-07-18T08:51:17.684Z"
   },
   {
    "duration": 28,
    "start_time": "2022-07-18T08:51:23.315Z"
   },
   {
    "duration": 19,
    "start_time": "2022-07-18T08:51:57.782Z"
   },
   {
    "duration": 18,
    "start_time": "2022-07-18T08:52:26.034Z"
   },
   {
    "duration": 16,
    "start_time": "2022-07-18T08:52:46.629Z"
   },
   {
    "duration": 19,
    "start_time": "2022-07-18T08:53:18.447Z"
   },
   {
    "duration": 18,
    "start_time": "2022-07-18T08:53:21.761Z"
   },
   {
    "duration": 17,
    "start_time": "2022-07-18T08:53:26.818Z"
   },
   {
    "duration": 18,
    "start_time": "2022-07-18T08:53:33.709Z"
   },
   {
    "duration": 16,
    "start_time": "2022-07-18T08:53:36.273Z"
   },
   {
    "duration": 17,
    "start_time": "2022-07-18T08:53:50.164Z"
   },
   {
    "duration": 16,
    "start_time": "2022-07-18T08:54:09.016Z"
   },
   {
    "duration": 22,
    "start_time": "2022-07-18T08:54:19.975Z"
   },
   {
    "duration": 15,
    "start_time": "2022-07-18T08:54:35.996Z"
   },
   {
    "duration": 18,
    "start_time": "2022-07-18T08:55:28.969Z"
   },
   {
    "duration": 15,
    "start_time": "2022-07-18T08:55:58.363Z"
   },
   {
    "duration": 17,
    "start_time": "2022-07-18T08:56:10.777Z"
   },
   {
    "duration": 17,
    "start_time": "2022-07-18T08:56:29.894Z"
   },
   {
    "duration": 70,
    "start_time": "2022-07-18T09:05:35.162Z"
   },
   {
    "duration": 3,
    "start_time": "2022-07-18T09:05:40.077Z"
   },
   {
    "duration": 17,
    "start_time": "2022-07-18T09:05:43.495Z"
   },
   {
    "duration": 21,
    "start_time": "2022-07-18T09:06:07.391Z"
   },
   {
    "duration": 157,
    "start_time": "2022-07-18T09:06:36.025Z"
   },
   {
    "duration": 159,
    "start_time": "2022-07-18T09:06:54.981Z"
   },
   {
    "duration": 150,
    "start_time": "2022-07-18T09:07:16.859Z"
   },
   {
    "duration": 181,
    "start_time": "2022-07-18T09:07:21.224Z"
   },
   {
    "duration": 162,
    "start_time": "2022-07-18T09:07:34.167Z"
   },
   {
    "duration": 195,
    "start_time": "2022-07-18T09:07:43.922Z"
   },
   {
    "duration": 220,
    "start_time": "2022-07-18T09:07:55.388Z"
   },
   {
    "duration": 107,
    "start_time": "2022-07-18T09:09:44.620Z"
   },
   {
    "duration": 181,
    "start_time": "2022-07-18T09:10:02.276Z"
   },
   {
    "duration": 221,
    "start_time": "2022-07-18T09:10:09.008Z"
   },
   {
    "duration": 210,
    "start_time": "2022-07-18T09:10:16.252Z"
   },
   {
    "duration": 4,
    "start_time": "2022-07-18T09:10:42.893Z"
   },
   {
    "duration": 208,
    "start_time": "2022-07-18T09:10:52.127Z"
   },
   {
    "duration": 241,
    "start_time": "2022-07-18T09:14:21.305Z"
   },
   {
    "duration": 149,
    "start_time": "2022-07-18T09:16:39.413Z"
   },
   {
    "duration": 335,
    "start_time": "2022-07-18T09:16:45.710Z"
   },
   {
    "duration": 373,
    "start_time": "2022-07-18T09:16:52.007Z"
   },
   {
    "duration": 383,
    "start_time": "2022-07-18T09:16:55.942Z"
   },
   {
    "duration": 105,
    "start_time": "2022-07-18T09:17:11.550Z"
   },
   {
    "duration": 68,
    "start_time": "2022-07-18T09:17:14.836Z"
   },
   {
    "duration": 79,
    "start_time": "2022-07-18T09:17:21.970Z"
   },
   {
    "duration": 51,
    "start_time": "2022-07-18T09:17:28.803Z"
   },
   {
    "duration": 62,
    "start_time": "2022-07-18T09:17:42.357Z"
   },
   {
    "duration": 151,
    "start_time": "2022-07-18T09:17:49.572Z"
   },
   {
    "duration": 191,
    "start_time": "2022-07-18T09:18:00.462Z"
   },
   {
    "duration": 194,
    "start_time": "2022-07-18T09:18:12.448Z"
   },
   {
    "duration": 212,
    "start_time": "2022-07-18T09:18:28.288Z"
   },
   {
    "duration": 194,
    "start_time": "2022-07-18T09:18:38.773Z"
   },
   {
    "duration": 188,
    "start_time": "2022-07-18T09:18:43.679Z"
   },
   {
    "duration": 189,
    "start_time": "2022-07-18T09:18:54.534Z"
   },
   {
    "duration": 211,
    "start_time": "2022-07-18T09:20:06.722Z"
   },
   {
    "duration": 196,
    "start_time": "2022-07-18T09:20:13.497Z"
   },
   {
    "duration": 194,
    "start_time": "2022-07-18T09:20:20.040Z"
   },
   {
    "duration": 211,
    "start_time": "2022-07-18T09:20:25.441Z"
   },
   {
    "duration": 379,
    "start_time": "2022-07-18T09:20:32.930Z"
   },
   {
    "duration": 198,
    "start_time": "2022-07-18T09:20:35.813Z"
   },
   {
    "duration": 206,
    "start_time": "2022-07-18T09:20:39.875Z"
   },
   {
    "duration": 201,
    "start_time": "2022-07-18T09:21:18.212Z"
   },
   {
    "duration": 24,
    "start_time": "2022-07-18T09:21:38.065Z"
   },
   {
    "duration": 22,
    "start_time": "2022-07-18T09:21:51.605Z"
   },
   {
    "duration": 22,
    "start_time": "2022-07-18T09:22:51.826Z"
   },
   {
    "duration": 52,
    "start_time": "2022-07-18T13:24:47.448Z"
   },
   {
    "duration": 64,
    "start_time": "2022-07-18T13:25:44.890Z"
   },
   {
    "duration": 59,
    "start_time": "2022-07-18T13:26:29.614Z"
   },
   {
    "duration": 45,
    "start_time": "2022-07-18T13:28:13.498Z"
   },
   {
    "duration": 868,
    "start_time": "2022-07-18T13:28:19.415Z"
   },
   {
    "duration": 286,
    "start_time": "2022-07-18T13:28:20.285Z"
   },
   {
    "duration": 14,
    "start_time": "2022-07-18T13:28:20.573Z"
   },
   {
    "duration": 14,
    "start_time": "2022-07-18T13:28:20.589Z"
   },
   {
    "duration": 87,
    "start_time": "2022-07-18T13:28:20.605Z"
   },
   {
    "duration": 15,
    "start_time": "2022-07-18T13:28:20.694Z"
   },
   {
    "duration": 39,
    "start_time": "2022-07-18T13:28:20.711Z"
   },
   {
    "duration": 2330,
    "start_time": "2022-07-18T13:28:20.752Z"
   },
   {
    "duration": 7,
    "start_time": "2022-07-18T13:28:23.084Z"
   },
   {
    "duration": 16,
    "start_time": "2022-07-18T13:28:23.094Z"
   },
   {
    "duration": 10,
    "start_time": "2022-07-18T13:28:23.112Z"
   },
   {
    "duration": 77,
    "start_time": "2022-07-18T13:28:23.123Z"
   },
   {
    "duration": 0,
    "start_time": "2022-07-18T13:28:23.204Z"
   },
   {
    "duration": 0,
    "start_time": "2022-07-18T13:28:23.206Z"
   },
   {
    "duration": 0,
    "start_time": "2022-07-18T13:28:23.207Z"
   },
   {
    "duration": 0,
    "start_time": "2022-07-18T13:28:23.222Z"
   },
   {
    "duration": 0,
    "start_time": "2022-07-18T13:28:23.223Z"
   },
   {
    "duration": 0,
    "start_time": "2022-07-18T13:28:23.225Z"
   },
   {
    "duration": 0,
    "start_time": "2022-07-18T13:28:23.226Z"
   },
   {
    "duration": 0,
    "start_time": "2022-07-18T13:28:23.227Z"
   },
   {
    "duration": 0,
    "start_time": "2022-07-18T13:28:23.228Z"
   },
   {
    "duration": 0,
    "start_time": "2022-07-18T13:28:23.230Z"
   },
   {
    "duration": 0,
    "start_time": "2022-07-18T13:28:23.231Z"
   },
   {
    "duration": 0,
    "start_time": "2022-07-18T13:28:23.232Z"
   },
   {
    "duration": 0,
    "start_time": "2022-07-18T13:28:23.234Z"
   },
   {
    "duration": 0,
    "start_time": "2022-07-18T13:28:23.235Z"
   },
   {
    "duration": 0,
    "start_time": "2022-07-18T13:28:23.236Z"
   },
   {
    "duration": 0,
    "start_time": "2022-07-18T13:28:23.238Z"
   },
   {
    "duration": 0,
    "start_time": "2022-07-18T13:28:23.240Z"
   },
   {
    "duration": 0,
    "start_time": "2022-07-18T13:28:23.241Z"
   },
   {
    "duration": 0,
    "start_time": "2022-07-18T13:28:23.242Z"
   },
   {
    "duration": 0,
    "start_time": "2022-07-18T13:28:23.243Z"
   },
   {
    "duration": 1,
    "start_time": "2022-07-18T13:28:23.244Z"
   },
   {
    "duration": 0,
    "start_time": "2022-07-18T13:28:23.247Z"
   },
   {
    "duration": 0,
    "start_time": "2022-07-18T13:28:23.249Z"
   },
   {
    "duration": 0,
    "start_time": "2022-07-18T13:28:23.250Z"
   },
   {
    "duration": 0,
    "start_time": "2022-07-18T13:28:23.251Z"
   },
   {
    "duration": 0,
    "start_time": "2022-07-18T13:28:23.253Z"
   },
   {
    "duration": 0,
    "start_time": "2022-07-18T13:28:23.254Z"
   },
   {
    "duration": 1,
    "start_time": "2022-07-18T13:28:23.255Z"
   },
   {
    "duration": 0,
    "start_time": "2022-07-18T13:28:23.257Z"
   },
   {
    "duration": 0,
    "start_time": "2022-07-18T13:28:23.258Z"
   },
   {
    "duration": 0,
    "start_time": "2022-07-18T13:28:23.259Z"
   },
   {
    "duration": 0,
    "start_time": "2022-07-18T13:28:23.323Z"
   },
   {
    "duration": 0,
    "start_time": "2022-07-18T13:28:23.324Z"
   },
   {
    "duration": 0,
    "start_time": "2022-07-18T13:28:23.326Z"
   },
   {
    "duration": 0,
    "start_time": "2022-07-18T13:28:23.327Z"
   },
   {
    "duration": 0,
    "start_time": "2022-07-18T13:28:23.330Z"
   },
   {
    "duration": 0,
    "start_time": "2022-07-18T13:28:23.331Z"
   },
   {
    "duration": 0,
    "start_time": "2022-07-18T13:28:23.333Z"
   },
   {
    "duration": 0,
    "start_time": "2022-07-18T13:28:23.334Z"
   },
   {
    "duration": 1,
    "start_time": "2022-07-18T13:28:23.335Z"
   },
   {
    "duration": 0,
    "start_time": "2022-07-18T13:28:23.337Z"
   },
   {
    "duration": 0,
    "start_time": "2022-07-18T13:28:23.338Z"
   },
   {
    "duration": 0,
    "start_time": "2022-07-18T13:28:23.339Z"
   },
   {
    "duration": 0,
    "start_time": "2022-07-18T13:28:23.340Z"
   },
   {
    "duration": 0,
    "start_time": "2022-07-18T13:28:23.342Z"
   },
   {
    "duration": 0,
    "start_time": "2022-07-18T13:28:23.344Z"
   },
   {
    "duration": 0,
    "start_time": "2022-07-18T13:28:23.345Z"
   },
   {
    "duration": 0,
    "start_time": "2022-07-18T13:28:23.346Z"
   },
   {
    "duration": 0,
    "start_time": "2022-07-18T13:28:23.347Z"
   },
   {
    "duration": 1,
    "start_time": "2022-07-18T13:28:23.348Z"
   },
   {
    "duration": 0,
    "start_time": "2022-07-18T13:28:23.350Z"
   },
   {
    "duration": 0,
    "start_time": "2022-07-18T13:28:23.351Z"
   },
   {
    "duration": 0,
    "start_time": "2022-07-18T13:28:23.353Z"
   },
   {
    "duration": 0,
    "start_time": "2022-07-18T13:28:23.354Z"
   },
   {
    "duration": 0,
    "start_time": "2022-07-18T13:28:23.355Z"
   },
   {
    "duration": 0,
    "start_time": "2022-07-18T13:28:23.355Z"
   },
   {
    "duration": 0,
    "start_time": "2022-07-18T13:28:23.356Z"
   },
   {
    "duration": 0,
    "start_time": "2022-07-18T13:28:23.357Z"
   },
   {
    "duration": 0,
    "start_time": "2022-07-18T13:28:23.359Z"
   },
   {
    "duration": 0,
    "start_time": "2022-07-18T13:28:23.359Z"
   },
   {
    "duration": 1,
    "start_time": "2022-07-18T13:28:23.360Z"
   },
   {
    "duration": 0,
    "start_time": "2022-07-18T13:28:23.422Z"
   },
   {
    "duration": 0,
    "start_time": "2022-07-18T13:28:23.424Z"
   },
   {
    "duration": 0,
    "start_time": "2022-07-18T13:28:23.425Z"
   },
   {
    "duration": 0,
    "start_time": "2022-07-18T13:28:23.426Z"
   },
   {
    "duration": 0,
    "start_time": "2022-07-18T13:28:23.427Z"
   },
   {
    "duration": 0,
    "start_time": "2022-07-18T13:28:23.429Z"
   },
   {
    "duration": 0,
    "start_time": "2022-07-18T13:28:23.430Z"
   },
   {
    "duration": 0,
    "start_time": "2022-07-18T13:28:23.431Z"
   },
   {
    "duration": 0,
    "start_time": "2022-07-18T13:28:23.432Z"
   },
   {
    "duration": 0,
    "start_time": "2022-07-18T13:28:23.433Z"
   },
   {
    "duration": 0,
    "start_time": "2022-07-18T13:28:23.435Z"
   },
   {
    "duration": 0,
    "start_time": "2022-07-18T13:28:23.436Z"
   },
   {
    "duration": 0,
    "start_time": "2022-07-18T13:28:23.437Z"
   },
   {
    "duration": 0,
    "start_time": "2022-07-18T13:28:23.438Z"
   },
   {
    "duration": 0,
    "start_time": "2022-07-18T13:28:23.439Z"
   },
   {
    "duration": 0,
    "start_time": "2022-07-18T13:28:23.440Z"
   },
   {
    "duration": 0,
    "start_time": "2022-07-18T13:28:23.441Z"
   },
   {
    "duration": 0,
    "start_time": "2022-07-18T13:28:23.442Z"
   },
   {
    "duration": 0,
    "start_time": "2022-07-18T13:28:23.443Z"
   },
   {
    "duration": 0,
    "start_time": "2022-07-18T13:28:23.443Z"
   },
   {
    "duration": 0,
    "start_time": "2022-07-18T13:28:23.445Z"
   },
   {
    "duration": 0,
    "start_time": "2022-07-18T13:28:23.446Z"
   },
   {
    "duration": 0,
    "start_time": "2022-07-18T13:28:23.447Z"
   },
   {
    "duration": 14,
    "start_time": "2022-07-18T13:28:35.601Z"
   },
   {
    "duration": 70,
    "start_time": "2022-07-18T13:29:01.959Z"
   },
   {
    "duration": 689,
    "start_time": "2022-07-18T13:39:37.094Z"
   },
   {
    "duration": 86,
    "start_time": "2022-07-18T13:39:37.784Z"
   },
   {
    "duration": 13,
    "start_time": "2022-07-18T13:39:37.872Z"
   },
   {
    "duration": 12,
    "start_time": "2022-07-18T13:39:37.887Z"
   },
   {
    "duration": 95,
    "start_time": "2022-07-18T13:39:37.901Z"
   },
   {
    "duration": 29,
    "start_time": "2022-07-18T13:39:37.998Z"
   },
   {
    "duration": 26,
    "start_time": "2022-07-18T13:39:38.028Z"
   },
   {
    "duration": 2026,
    "start_time": "2022-07-18T13:39:38.056Z"
   },
   {
    "duration": 7,
    "start_time": "2022-07-18T13:39:40.084Z"
   },
   {
    "duration": 26,
    "start_time": "2022-07-18T13:39:40.095Z"
   },
   {
    "duration": 11,
    "start_time": "2022-07-18T13:39:40.123Z"
   },
   {
    "duration": 66,
    "start_time": "2022-07-18T13:39:40.136Z"
   },
   {
    "duration": 24,
    "start_time": "2022-07-18T13:39:40.204Z"
   },
   {
    "duration": 10,
    "start_time": "2022-07-18T13:39:40.230Z"
   },
   {
    "duration": 6,
    "start_time": "2022-07-18T13:39:40.242Z"
   },
   {
    "duration": 13,
    "start_time": "2022-07-18T13:39:40.250Z"
   },
   {
    "duration": 6,
    "start_time": "2022-07-18T13:39:40.264Z"
   },
   {
    "duration": 6,
    "start_time": "2022-07-18T13:39:40.271Z"
   },
   {
    "duration": 5,
    "start_time": "2022-07-18T13:39:40.278Z"
   },
   {
    "duration": 39,
    "start_time": "2022-07-18T13:39:40.285Z"
   },
   {
    "duration": 11,
    "start_time": "2022-07-18T13:39:40.326Z"
   },
   {
    "duration": 4,
    "start_time": "2022-07-18T13:39:40.339Z"
   },
   {
    "duration": 7,
    "start_time": "2022-07-18T13:39:40.345Z"
   },
   {
    "duration": 13,
    "start_time": "2022-07-18T13:39:40.353Z"
   },
   {
    "duration": 7,
    "start_time": "2022-07-18T13:39:40.367Z"
   },
   {
    "duration": 7,
    "start_time": "2022-07-18T13:39:40.376Z"
   },
   {
    "duration": 38,
    "start_time": "2022-07-18T13:39:40.384Z"
   },
   {
    "duration": 5,
    "start_time": "2022-07-18T13:39:40.426Z"
   },
   {
    "duration": 6,
    "start_time": "2022-07-18T13:39:40.432Z"
   },
   {
    "duration": 11,
    "start_time": "2022-07-18T13:39:40.440Z"
   },
   {
    "duration": 10,
    "start_time": "2022-07-18T13:39:40.452Z"
   },
   {
    "duration": 15,
    "start_time": "2022-07-18T13:39:40.463Z"
   },
   {
    "duration": 4,
    "start_time": "2022-07-18T13:39:40.479Z"
   },
   {
    "duration": 39,
    "start_time": "2022-07-18T13:39:40.485Z"
   },
   {
    "duration": 19,
    "start_time": "2022-07-18T13:39:40.526Z"
   },
   {
    "duration": 28,
    "start_time": "2022-07-18T13:39:40.547Z"
   },
   {
    "duration": 13,
    "start_time": "2022-07-18T13:39:40.577Z"
   },
   {
    "duration": 40,
    "start_time": "2022-07-18T13:39:40.592Z"
   },
   {
    "duration": 3,
    "start_time": "2022-07-18T13:39:40.633Z"
   },
   {
    "duration": 44,
    "start_time": "2022-07-18T13:39:40.638Z"
   },
   {
    "duration": 11,
    "start_time": "2022-07-18T13:39:40.683Z"
   },
   {
    "duration": 23,
    "start_time": "2022-07-18T13:39:40.695Z"
   },
   {
    "duration": 29,
    "start_time": "2022-07-18T13:39:40.720Z"
   },
   {
    "duration": 26,
    "start_time": "2022-07-18T13:39:40.751Z"
   },
   {
    "duration": 4,
    "start_time": "2022-07-18T13:39:40.779Z"
   },
   {
    "duration": 14,
    "start_time": "2022-07-18T13:39:40.785Z"
   },
   {
    "duration": 4,
    "start_time": "2022-07-18T13:39:40.800Z"
   },
   {
    "duration": 9,
    "start_time": "2022-07-18T13:39:40.821Z"
   },
   {
    "duration": 12,
    "start_time": "2022-07-18T13:39:40.831Z"
   },
   {
    "duration": 8,
    "start_time": "2022-07-18T13:39:40.845Z"
   },
   {
    "duration": 24,
    "start_time": "2022-07-18T13:39:40.855Z"
   },
   {
    "duration": 4,
    "start_time": "2022-07-18T13:39:40.881Z"
   },
   {
    "duration": 15,
    "start_time": "2022-07-18T13:39:40.886Z"
   },
   {
    "duration": 6,
    "start_time": "2022-07-18T13:39:40.902Z"
   },
   {
    "duration": 324,
    "start_time": "2022-07-18T13:39:40.922Z"
   },
   {
    "duration": 25,
    "start_time": "2022-07-18T13:39:41.247Z"
   },
   {
    "duration": 15,
    "start_time": "2022-07-18T13:39:41.274Z"
   },
   {
    "duration": 8,
    "start_time": "2022-07-18T13:39:41.290Z"
   },
   {
    "duration": 225,
    "start_time": "2022-07-18T13:39:41.300Z"
   },
   {
    "duration": 8,
    "start_time": "2022-07-18T13:39:41.527Z"
   },
   {
    "duration": 291,
    "start_time": "2022-07-18T13:39:41.537Z"
   },
   {
    "duration": 9,
    "start_time": "2022-07-18T13:39:41.830Z"
   },
   {
    "duration": 165,
    "start_time": "2022-07-18T13:39:41.840Z"
   },
   {
    "duration": 212,
    "start_time": "2022-07-18T13:39:42.007Z"
   },
   {
    "duration": 8,
    "start_time": "2022-07-18T13:39:42.222Z"
   },
   {
    "duration": 175,
    "start_time": "2022-07-18T13:39:42.231Z"
   },
   {
    "duration": 19,
    "start_time": "2022-07-18T13:39:42.407Z"
   },
   {
    "duration": 167,
    "start_time": "2022-07-18T13:39:42.427Z"
   },
   {
    "duration": 7,
    "start_time": "2022-07-18T13:39:42.596Z"
   },
   {
    "duration": 186,
    "start_time": "2022-07-18T13:39:42.605Z"
   },
   {
    "duration": 7,
    "start_time": "2022-07-18T13:39:42.793Z"
   },
   {
    "duration": 227,
    "start_time": "2022-07-18T13:39:42.802Z"
   },
   {
    "duration": 133,
    "start_time": "2022-07-18T13:39:43.031Z"
   },
   {
    "duration": 205,
    "start_time": "2022-07-18T13:39:43.165Z"
   },
   {
    "duration": 171,
    "start_time": "2022-07-18T13:39:43.372Z"
   },
   {
    "duration": 169,
    "start_time": "2022-07-18T13:39:43.546Z"
   },
   {
    "duration": 249,
    "start_time": "2022-07-18T13:39:43.717Z"
   },
   {
    "duration": 211,
    "start_time": "2022-07-18T13:39:43.968Z"
   },
   {
    "duration": 10,
    "start_time": "2022-07-18T13:39:44.181Z"
   },
   {
    "duration": 270,
    "start_time": "2022-07-18T13:39:44.192Z"
   },
   {
    "duration": 7,
    "start_time": "2022-07-18T13:39:44.464Z"
   },
   {
    "duration": 208,
    "start_time": "2022-07-18T13:39:44.477Z"
   },
   {
    "duration": 183,
    "start_time": "2022-07-18T13:39:44.687Z"
   },
   {
    "duration": 182,
    "start_time": "2022-07-18T13:39:44.872Z"
   },
   {
    "duration": 232,
    "start_time": "2022-07-18T13:39:45.056Z"
   },
   {
    "duration": 176,
    "start_time": "2022-07-18T13:39:45.290Z"
   },
   {
    "duration": 166,
    "start_time": "2022-07-18T13:39:45.467Z"
   },
   {
    "duration": 191,
    "start_time": "2022-07-18T13:39:45.635Z"
   },
   {
    "duration": 283,
    "start_time": "2022-07-18T13:39:45.828Z"
   },
   {
    "duration": 7,
    "start_time": "2022-07-18T13:39:46.123Z"
   },
   {
    "duration": 25,
    "start_time": "2022-07-18T13:39:46.131Z"
   },
   {
    "duration": 7,
    "start_time": "2022-07-18T13:39:46.158Z"
   },
   {
    "duration": 20,
    "start_time": "2022-07-18T13:39:46.166Z"
   },
   {
    "duration": 48,
    "start_time": "2022-07-18T13:39:46.188Z"
   },
   {
    "duration": 250,
    "start_time": "2022-07-18T13:39:46.238Z"
   },
   {
    "duration": 34,
    "start_time": "2022-07-18T13:39:46.490Z"
   },
   {
    "duration": 174,
    "start_time": "2022-07-18T13:45:50.468Z"
   },
   {
    "duration": 233,
    "start_time": "2022-07-18T13:46:03.075Z"
   },
   {
    "duration": 195,
    "start_time": "2022-07-18T13:46:08.687Z"
   },
   {
    "duration": 202,
    "start_time": "2022-07-18T13:47:30.310Z"
   },
   {
    "duration": 200,
    "start_time": "2022-07-18T13:47:46.887Z"
   },
   {
    "duration": 209,
    "start_time": "2022-07-18T13:47:52.030Z"
   },
   {
    "duration": 141,
    "start_time": "2022-07-18T13:53:52.366Z"
   },
   {
    "duration": 240,
    "start_time": "2022-07-18T13:54:10.416Z"
   },
   {
    "duration": 181,
    "start_time": "2022-07-18T13:54:51.695Z"
   },
   {
    "duration": 157,
    "start_time": "2022-07-18T13:55:54.067Z"
   },
   {
    "duration": 162,
    "start_time": "2022-07-18T13:56:33.537Z"
   },
   {
    "duration": 180,
    "start_time": "2022-07-18T13:56:37.332Z"
   },
   {
    "duration": 487,
    "start_time": "2022-07-18T13:57:49.736Z"
   },
   {
    "duration": 341,
    "start_time": "2022-07-18T13:58:12.794Z"
   },
   {
    "duration": 256,
    "start_time": "2022-07-18T13:58:19.891Z"
   },
   {
    "duration": 210,
    "start_time": "2022-07-18T13:58:28.930Z"
   },
   {
    "duration": 176,
    "start_time": "2022-07-18T14:01:57.125Z"
   },
   {
    "duration": 175,
    "start_time": "2022-07-18T14:02:04.774Z"
   },
   {
    "duration": 148,
    "start_time": "2022-07-18T14:02:14.087Z"
   },
   {
    "duration": 124,
    "start_time": "2022-07-18T14:02:25.040Z"
   },
   {
    "duration": 157,
    "start_time": "2022-07-18T14:02:32.520Z"
   },
   {
    "duration": 222,
    "start_time": "2022-07-18T14:04:47.151Z"
   },
   {
    "duration": 18,
    "start_time": "2022-07-18T14:04:55.148Z"
   },
   {
    "duration": 17,
    "start_time": "2022-07-18T14:04:56.848Z"
   },
   {
    "duration": 22,
    "start_time": "2022-07-18T14:08:00.124Z"
   },
   {
    "duration": 24,
    "start_time": "2022-07-18T14:08:11.815Z"
   },
   {
    "duration": 31,
    "start_time": "2022-07-18T14:08:24.008Z"
   },
   {
    "duration": 23,
    "start_time": "2022-07-18T14:10:55.644Z"
   },
   {
    "duration": 26,
    "start_time": "2022-07-18T14:11:02.952Z"
   },
   {
    "duration": 406,
    "start_time": "2022-07-18T14:13:34.503Z"
   },
   {
    "duration": 183,
    "start_time": "2022-07-18T14:13:41.318Z"
   },
   {
    "duration": 200,
    "start_time": "2022-07-18T14:15:17.423Z"
   },
   {
    "duration": 183,
    "start_time": "2022-07-18T14:15:22.487Z"
   },
   {
    "duration": 155,
    "start_time": "2022-07-18T14:15:51.273Z"
   },
   {
    "duration": 646,
    "start_time": "2022-07-18T18:52:21.582Z"
   },
   {
    "duration": 76,
    "start_time": "2022-07-18T18:52:22.230Z"
   },
   {
    "duration": 11,
    "start_time": "2022-07-18T18:52:22.308Z"
   },
   {
    "duration": 28,
    "start_time": "2022-07-18T18:52:22.321Z"
   },
   {
    "duration": 75,
    "start_time": "2022-07-18T18:52:22.350Z"
   },
   {
    "duration": 13,
    "start_time": "2022-07-18T18:52:22.427Z"
   },
   {
    "duration": 40,
    "start_time": "2022-07-18T18:52:22.441Z"
   },
   {
    "duration": 1650,
    "start_time": "2022-07-18T18:52:22.482Z"
   },
   {
    "duration": 5,
    "start_time": "2022-07-18T18:52:24.134Z"
   },
   {
    "duration": 14,
    "start_time": "2022-07-18T18:52:24.141Z"
   },
   {
    "duration": 9,
    "start_time": "2022-07-18T18:52:24.156Z"
   },
   {
    "duration": 56,
    "start_time": "2022-07-18T18:52:24.166Z"
   },
   {
    "duration": 10,
    "start_time": "2022-07-18T18:52:24.224Z"
   },
   {
    "duration": 11,
    "start_time": "2022-07-18T18:52:24.235Z"
   },
   {
    "duration": 4,
    "start_time": "2022-07-18T18:52:24.248Z"
   },
   {
    "duration": 11,
    "start_time": "2022-07-18T18:52:24.254Z"
   },
   {
    "duration": 5,
    "start_time": "2022-07-18T18:52:24.266Z"
   },
   {
    "duration": 5,
    "start_time": "2022-07-18T18:52:24.272Z"
   },
   {
    "duration": 4,
    "start_time": "2022-07-18T18:52:24.303Z"
   },
   {
    "duration": 6,
    "start_time": "2022-07-18T18:52:24.309Z"
   },
   {
    "duration": 9,
    "start_time": "2022-07-18T18:52:24.316Z"
   },
   {
    "duration": 4,
    "start_time": "2022-07-18T18:52:24.327Z"
   },
   {
    "duration": 5,
    "start_time": "2022-07-18T18:52:24.332Z"
   },
   {
    "duration": 9,
    "start_time": "2022-07-18T18:52:24.339Z"
   },
   {
    "duration": 7,
    "start_time": "2022-07-18T18:52:24.350Z"
   },
   {
    "duration": 7,
    "start_time": "2022-07-18T18:52:24.358Z"
   },
   {
    "duration": 5,
    "start_time": "2022-07-18T18:52:24.403Z"
   },
   {
    "duration": 5,
    "start_time": "2022-07-18T18:52:24.412Z"
   },
   {
    "duration": 9,
    "start_time": "2022-07-18T18:52:24.418Z"
   },
   {
    "duration": 8,
    "start_time": "2022-07-18T18:52:24.429Z"
   },
   {
    "duration": 9,
    "start_time": "2022-07-18T18:52:24.438Z"
   },
   {
    "duration": 12,
    "start_time": "2022-07-18T18:52:24.448Z"
   },
   {
    "duration": 3,
    "start_time": "2022-07-18T18:52:24.461Z"
   },
   {
    "duration": 36,
    "start_time": "2022-07-18T18:52:24.466Z"
   },
   {
    "duration": 12,
    "start_time": "2022-07-18T18:52:24.503Z"
   },
   {
    "duration": 15,
    "start_time": "2022-07-18T18:52:24.517Z"
   },
   {
    "duration": 11,
    "start_time": "2022-07-18T18:52:24.533Z"
   },
   {
    "duration": 26,
    "start_time": "2022-07-18T18:52:24.545Z"
   },
   {
    "duration": 2,
    "start_time": "2022-07-18T18:52:24.572Z"
   },
   {
    "duration": 52,
    "start_time": "2022-07-18T18:52:24.576Z"
   },
   {
    "duration": 5,
    "start_time": "2022-07-18T18:52:24.629Z"
   },
   {
    "duration": 13,
    "start_time": "2022-07-18T18:52:24.635Z"
   },
   {
    "duration": 23,
    "start_time": "2022-07-18T18:52:24.649Z"
   },
   {
    "duration": 38,
    "start_time": "2022-07-18T18:52:24.674Z"
   },
   {
    "duration": 3,
    "start_time": "2022-07-18T18:52:24.713Z"
   },
   {
    "duration": 7,
    "start_time": "2022-07-18T18:52:24.718Z"
   },
   {
    "duration": 3,
    "start_time": "2022-07-18T18:52:24.726Z"
   },
   {
    "duration": 10,
    "start_time": "2022-07-18T18:52:24.731Z"
   },
   {
    "duration": 5,
    "start_time": "2022-07-18T18:52:24.742Z"
   },
   {
    "duration": 21,
    "start_time": "2022-07-18T18:52:24.748Z"
   },
   {
    "duration": 32,
    "start_time": "2022-07-18T18:52:24.771Z"
   },
   {
    "duration": 6,
    "start_time": "2022-07-18T18:52:24.804Z"
   },
   {
    "duration": 7,
    "start_time": "2022-07-18T18:52:24.811Z"
   },
   {
    "duration": 7,
    "start_time": "2022-07-18T18:52:24.819Z"
   },
   {
    "duration": 307,
    "start_time": "2022-07-18T18:52:24.828Z"
   },
   {
    "duration": 26,
    "start_time": "2022-07-18T18:52:25.137Z"
   },
   {
    "duration": 16,
    "start_time": "2022-07-18T18:52:25.164Z"
   },
   {
    "duration": 28,
    "start_time": "2022-07-18T18:52:25.182Z"
   },
   {
    "duration": 199,
    "start_time": "2022-07-18T18:52:25.212Z"
   },
   {
    "duration": 9,
    "start_time": "2022-07-18T18:52:25.413Z"
   },
   {
    "duration": 257,
    "start_time": "2022-07-18T18:52:25.423Z"
   },
   {
    "duration": 8,
    "start_time": "2022-07-18T18:52:25.682Z"
   },
   {
    "duration": 134,
    "start_time": "2022-07-18T18:52:25.702Z"
   },
   {
    "duration": 174,
    "start_time": "2022-07-18T18:52:25.838Z"
   },
   {
    "duration": 6,
    "start_time": "2022-07-18T18:52:26.014Z"
   },
   {
    "duration": 145,
    "start_time": "2022-07-18T18:52:26.021Z"
   },
   {
    "duration": 7,
    "start_time": "2022-07-18T18:52:26.167Z"
   },
   {
    "duration": 150,
    "start_time": "2022-07-18T18:52:26.176Z"
   },
   {
    "duration": 7,
    "start_time": "2022-07-18T18:52:26.327Z"
   },
   {
    "duration": 154,
    "start_time": "2022-07-18T18:52:26.335Z"
   },
   {
    "duration": 17,
    "start_time": "2022-07-18T18:52:26.491Z"
   },
   {
    "duration": 178,
    "start_time": "2022-07-18T18:52:26.509Z"
   },
   {
    "duration": 119,
    "start_time": "2022-07-18T18:52:26.688Z"
   },
   {
    "duration": 167,
    "start_time": "2022-07-18T18:52:26.809Z"
   },
   {
    "duration": 157,
    "start_time": "2022-07-18T18:52:26.978Z"
   },
   {
    "duration": 135,
    "start_time": "2022-07-18T18:52:27.137Z"
   },
   {
    "duration": 262,
    "start_time": "2022-07-18T18:52:27.274Z"
   },
   {
    "duration": 170,
    "start_time": "2022-07-18T18:52:27.538Z"
   },
   {
    "duration": 9,
    "start_time": "2022-07-18T18:52:27.709Z"
   },
   {
    "duration": 208,
    "start_time": "2022-07-18T18:52:27.719Z"
   },
   {
    "duration": 5,
    "start_time": "2022-07-18T18:52:27.928Z"
   },
   {
    "duration": 162,
    "start_time": "2022-07-18T18:52:27.937Z"
   },
   {
    "duration": 151,
    "start_time": "2022-07-18T18:52:28.102Z"
   },
   {
    "duration": 154,
    "start_time": "2022-07-18T18:52:28.254Z"
   },
   {
    "duration": 201,
    "start_time": "2022-07-18T18:52:28.409Z"
   },
   {
    "duration": 149,
    "start_time": "2022-07-18T18:52:28.612Z"
   },
   {
    "duration": 143,
    "start_time": "2022-07-18T18:52:28.763Z"
   },
   {
    "duration": 148,
    "start_time": "2022-07-18T18:52:28.908Z"
   },
   {
    "duration": 222,
    "start_time": "2022-07-18T18:52:29.057Z"
   },
   {
    "duration": 133,
    "start_time": "2022-07-18T18:52:29.280Z"
   },
   {
    "duration": 5,
    "start_time": "2022-07-18T18:52:29.415Z"
   },
   {
    "duration": 25,
    "start_time": "2022-07-18T18:52:29.422Z"
   },
   {
    "duration": 11,
    "start_time": "2022-07-18T18:52:29.448Z"
   },
   {
    "duration": 20,
    "start_time": "2022-07-18T18:52:29.461Z"
   },
   {
    "duration": 25,
    "start_time": "2022-07-18T18:52:29.482Z"
   },
   {
    "duration": 212,
    "start_time": "2022-07-18T18:52:29.508Z"
   },
   {
    "duration": 18,
    "start_time": "2022-07-18T18:52:29.722Z"
   }
  ],
  "kernelspec": {
   "display_name": "Python 3 (ipykernel)",
   "language": "python",
   "name": "python3"
  },
  "language_info": {
   "codemirror_mode": {
    "name": "ipython",
    "version": 3
   },
   "file_extension": ".py",
   "mimetype": "text/x-python",
   "name": "python",
   "nbconvert_exporter": "python",
   "pygments_lexer": "ipython3",
   "version": "3.9.13"
  },
  "toc": {
   "base_numbering": 1,
   "nav_menu": {
    "height": "554.986px",
    "width": "332.003px"
   },
   "number_sections": true,
   "sideBar": true,
   "skip_h1_title": true,
   "title_cell": "Table of Contents",
   "title_sidebar": "Contents",
   "toc_cell": false,
   "toc_position": {
    "height": "calc(100% - 180px)",
    "left": "10px",
    "top": "150px",
    "width": "390.885px"
   },
   "toc_section_display": true,
   "toc_window_display": true
  }
 },
 "nbformat": 4,
 "nbformat_minor": 2
}
