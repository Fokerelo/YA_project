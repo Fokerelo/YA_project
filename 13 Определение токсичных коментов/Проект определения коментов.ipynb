{
 "cells": [
  {
   "cell_type": "markdown",
   "metadata": {
    "toc": true
   },
   "source": [
    "<h1>Содержание<span class=\"tocSkip\"></span></h1>\n",
    "<div class=\"toc\"><ul class=\"toc-item\"><li><span><a href=\"#Подготовка\" data-toc-modified-id=\"Подготовка-1\"><span class=\"toc-item-num\">1&nbsp;&nbsp;</span>Подготовка</a></span><ul class=\"toc-item\"><li><span><a href=\"#Импорты\" data-toc-modified-id=\"Импорты-1.1\"><span class=\"toc-item-num\">1.1&nbsp;&nbsp;</span>Импорты</a></span></li><li><span><a href=\"#Изучение-данных\" data-toc-modified-id=\"Изучение-данных-1.2\"><span class=\"toc-item-num\">1.2&nbsp;&nbsp;</span>Изучение данных</a></span></li><li><span><a href=\"#Подготовка-данных\" data-toc-modified-id=\"Подготовка-данных-1.3\"><span class=\"toc-item-num\">1.3&nbsp;&nbsp;</span>Подготовка данных</a></span></li></ul></li><li><span><a href=\"#Обучение\" data-toc-modified-id=\"Обучение-2\"><span class=\"toc-item-num\">2&nbsp;&nbsp;</span>Обучение</a></span><ul class=\"toc-item\"><li><span><a href=\"#RandomForest\" data-toc-modified-id=\"RandomForest-2.1\"><span class=\"toc-item-num\">2.1&nbsp;&nbsp;</span>RandomForest</a></span></li><li><span><a href=\"#Логическая-регрессия\" data-toc-modified-id=\"Логическая-регрессия-2.2\"><span class=\"toc-item-num\">2.2&nbsp;&nbsp;</span>Логическая регрессия</a></span></li></ul></li><li><span><a href=\"#Выводы\" data-toc-modified-id=\"Выводы-3\"><span class=\"toc-item-num\">3&nbsp;&nbsp;</span>Выводы</a></span></li><li><span><a href=\"#Чек-лист-проекта\" data-toc-modified-id=\"Чек-лист-проекта-4\"><span class=\"toc-item-num\">4&nbsp;&nbsp;</span>Чек лист проекта</a></span></li></ul></div>"
   ]
  },
  {
   "cell_type": "markdown",
   "metadata": {},
   "source": [
    "# Проект для «Викишоп»"
   ]
  },
  {
   "cell_type": "markdown",
   "metadata": {},
   "source": [
    "Интернет-магазин «Викишоп» запускает новый сервис. Теперь пользователи могут редактировать и дополнять описания товаров, как в вики-сообществах. То есть клиенты предлагают свои правки и комментируют изменения других. Магазину нужен инструмент, который будет искать токсичные комментарии и отправлять их на модерацию. \n",
    "\n",
    "Обучите модель классифицировать комментарии на позитивные и негативные. В вашем распоряжении набор данных с разметкой о токсичности правок.\n",
    "\n",
    "Постройте модель со значением метрики качества *F1* не меньше 0.75. \n",
    "\n",
    "\n",
    "Данные находятся в файле `toxic_comments.csv`. Столбец *text* в нём содержит текст комментария, а *toxic* — целевой признак."
   ]
  },
  {
   "cell_type": "markdown",
   "metadata": {},
   "source": [
    "## Подготовка"
   ]
  },
  {
   "cell_type": "markdown",
   "metadata": {},
   "source": [
    "### Импорты"
   ]
  },
  {
   "cell_type": "code",
   "execution_count": 1,
   "metadata": {},
   "outputs": [],
   "source": [
    "import pandas as pd\n",
    "import numpy as np\n",
    "import matplotlib.pyplot as plt\n",
    "\n",
    "import re\n",
    "import nltk\n",
    "from nltk.corpus import stopwords\n",
    "from nltk.stem import WordNetLemmatizer\n",
    "\n",
    "from sklearn.feature_extraction.text import TfidfVectorizer\n",
    "from pymystem3 import Mystem\n",
    "from sklearn.feature_extraction.text import CountVectorizer\n",
    "\n",
    "from sklearn.model_selection import train_test_split\n",
    "from sklearn.model_selection import cross_val_score, GridSearchCV\n",
    "from sklearn.metrics import f1_score\n",
    "\n",
    "from sklearn.ensemble import RandomForestClassifier\n",
    "from sklearn.linear_model import LogisticRegression\n",
    "\n",
    "STATE = 12345 # константа рандома"
   ]
  },
  {
   "cell_type": "code",
   "execution_count": 2,
   "metadata": {},
   "outputs": [],
   "source": [
    "tweets = pd.read_csv('/datasets/toxic_comments.csv')"
   ]
  },
  {
   "cell_type": "markdown",
   "metadata": {},
   "source": [
    "### Изучение данных"
   ]
  },
  {
   "cell_type": "code",
   "execution_count": 3,
   "metadata": {},
   "outputs": [],
   "source": [
    "# функция для информативного предоставления данных\n",
    "def data_info(df):\n",
    "        display(df.head(5))\n",
    "        print(50*'-')\n",
    "        print(\"Дубликатов в данных: \", df.duplicated().sum())\n",
    "        print(50*'-')\n",
    "        df.info()\n",
    "        print(50*'-')\n",
    "        display(df.describe())\n",
    "        print(50*'-')\n",
    "        print(\"Пропусков в данных: \")\n",
    "        def data_isna(df):\n",
    "            isna = pd.DataFrame(round(df.isna().mean()*100,)).style.background_gradient('coolwarm')\n",
    "            return isna\n",
    "        display(data_isna(df))"
   ]
  },
  {
   "cell_type": "code",
   "execution_count": 4,
   "metadata": {},
   "outputs": [
    {
     "data": {
      "text/html": [
       "<div>\n",
       "<style scoped>\n",
       "    .dataframe tbody tr th:only-of-type {\n",
       "        vertical-align: middle;\n",
       "    }\n",
       "\n",
       "    .dataframe tbody tr th {\n",
       "        vertical-align: top;\n",
       "    }\n",
       "\n",
       "    .dataframe thead th {\n",
       "        text-align: right;\n",
       "    }\n",
       "</style>\n",
       "<table border=\"1\" class=\"dataframe\">\n",
       "  <thead>\n",
       "    <tr style=\"text-align: right;\">\n",
       "      <th></th>\n",
       "      <th>Unnamed: 0</th>\n",
       "      <th>text</th>\n",
       "      <th>toxic</th>\n",
       "    </tr>\n",
       "  </thead>\n",
       "  <tbody>\n",
       "    <tr>\n",
       "      <th>0</th>\n",
       "      <td>0</td>\n",
       "      <td>Explanation\\nWhy the edits made under my usern...</td>\n",
       "      <td>0</td>\n",
       "    </tr>\n",
       "    <tr>\n",
       "      <th>1</th>\n",
       "      <td>1</td>\n",
       "      <td>D'aww! He matches this background colour I'm s...</td>\n",
       "      <td>0</td>\n",
       "    </tr>\n",
       "    <tr>\n",
       "      <th>2</th>\n",
       "      <td>2</td>\n",
       "      <td>Hey man, I'm really not trying to edit war. It...</td>\n",
       "      <td>0</td>\n",
       "    </tr>\n",
       "    <tr>\n",
       "      <th>3</th>\n",
       "      <td>3</td>\n",
       "      <td>\"\\nMore\\nI can't make any real suggestions on ...</td>\n",
       "      <td>0</td>\n",
       "    </tr>\n",
       "    <tr>\n",
       "      <th>4</th>\n",
       "      <td>4</td>\n",
       "      <td>You, sir, are my hero. Any chance you remember...</td>\n",
       "      <td>0</td>\n",
       "    </tr>\n",
       "  </tbody>\n",
       "</table>\n",
       "</div>"
      ],
      "text/plain": [
       "   Unnamed: 0                                               text  toxic\n",
       "0           0  Explanation\\nWhy the edits made under my usern...      0\n",
       "1           1  D'aww! He matches this background colour I'm s...      0\n",
       "2           2  Hey man, I'm really not trying to edit war. It...      0\n",
       "3           3  \"\\nMore\\nI can't make any real suggestions on ...      0\n",
       "4           4  You, sir, are my hero. Any chance you remember...      0"
      ]
     },
     "metadata": {},
     "output_type": "display_data"
    },
    {
     "name": "stdout",
     "output_type": "stream",
     "text": [
      "--------------------------------------------------\n",
      "Дубликатов в данных:  0\n",
      "--------------------------------------------------\n",
      "<class 'pandas.core.frame.DataFrame'>\n",
      "RangeIndex: 159292 entries, 0 to 159291\n",
      "Data columns (total 3 columns):\n",
      " #   Column      Non-Null Count   Dtype \n",
      "---  ------      --------------   ----- \n",
      " 0   Unnamed: 0  159292 non-null  int64 \n",
      " 1   text        159292 non-null  object\n",
      " 2   toxic       159292 non-null  int64 \n",
      "dtypes: int64(2), object(1)\n",
      "memory usage: 3.6+ MB\n",
      "--------------------------------------------------\n"
     ]
    },
    {
     "data": {
      "text/html": [
       "<div>\n",
       "<style scoped>\n",
       "    .dataframe tbody tr th:only-of-type {\n",
       "        vertical-align: middle;\n",
       "    }\n",
       "\n",
       "    .dataframe tbody tr th {\n",
       "        vertical-align: top;\n",
       "    }\n",
       "\n",
       "    .dataframe thead th {\n",
       "        text-align: right;\n",
       "    }\n",
       "</style>\n",
       "<table border=\"1\" class=\"dataframe\">\n",
       "  <thead>\n",
       "    <tr style=\"text-align: right;\">\n",
       "      <th></th>\n",
       "      <th>Unnamed: 0</th>\n",
       "      <th>toxic</th>\n",
       "    </tr>\n",
       "  </thead>\n",
       "  <tbody>\n",
       "    <tr>\n",
       "      <th>count</th>\n",
       "      <td>159292.000000</td>\n",
       "      <td>159292.000000</td>\n",
       "    </tr>\n",
       "    <tr>\n",
       "      <th>mean</th>\n",
       "      <td>79725.697242</td>\n",
       "      <td>0.101612</td>\n",
       "    </tr>\n",
       "    <tr>\n",
       "      <th>std</th>\n",
       "      <td>46028.837471</td>\n",
       "      <td>0.302139</td>\n",
       "    </tr>\n",
       "    <tr>\n",
       "      <th>min</th>\n",
       "      <td>0.000000</td>\n",
       "      <td>0.000000</td>\n",
       "    </tr>\n",
       "    <tr>\n",
       "      <th>25%</th>\n",
       "      <td>39872.750000</td>\n",
       "      <td>0.000000</td>\n",
       "    </tr>\n",
       "    <tr>\n",
       "      <th>50%</th>\n",
       "      <td>79721.500000</td>\n",
       "      <td>0.000000</td>\n",
       "    </tr>\n",
       "    <tr>\n",
       "      <th>75%</th>\n",
       "      <td>119573.250000</td>\n",
       "      <td>0.000000</td>\n",
       "    </tr>\n",
       "    <tr>\n",
       "      <th>max</th>\n",
       "      <td>159450.000000</td>\n",
       "      <td>1.000000</td>\n",
       "    </tr>\n",
       "  </tbody>\n",
       "</table>\n",
       "</div>"
      ],
      "text/plain": [
       "          Unnamed: 0          toxic\n",
       "count  159292.000000  159292.000000\n",
       "mean    79725.697242       0.101612\n",
       "std     46028.837471       0.302139\n",
       "min         0.000000       0.000000\n",
       "25%     39872.750000       0.000000\n",
       "50%     79721.500000       0.000000\n",
       "75%    119573.250000       0.000000\n",
       "max    159450.000000       1.000000"
      ]
     },
     "metadata": {},
     "output_type": "display_data"
    },
    {
     "name": "stdout",
     "output_type": "stream",
     "text": [
      "--------------------------------------------------\n",
      "Пропусков в данных: \n"
     ]
    },
    {
     "data": {
      "text/html": [
       "<style  type=\"text/css\" >\n",
       "#T_df81a_row0_col0,#T_df81a_row1_col0,#T_df81a_row2_col0{\n",
       "            background-color:  #3b4cc0;\n",
       "            color:  #f1f1f1;\n",
       "        }</style><table id=\"T_df81a_\" ><thead>    <tr>        <th class=\"blank level0\" ></th>        <th class=\"col_heading level0 col0\" >0</th>    </tr></thead><tbody>\n",
       "                <tr>\n",
       "                        <th id=\"T_df81a_level0_row0\" class=\"row_heading level0 row0\" >Unnamed: 0</th>\n",
       "                        <td id=\"T_df81a_row0_col0\" class=\"data row0 col0\" >0.000000</td>\n",
       "            </tr>\n",
       "            <tr>\n",
       "                        <th id=\"T_df81a_level0_row1\" class=\"row_heading level0 row1\" >text</th>\n",
       "                        <td id=\"T_df81a_row1_col0\" class=\"data row1 col0\" >0.000000</td>\n",
       "            </tr>\n",
       "            <tr>\n",
       "                        <th id=\"T_df81a_level0_row2\" class=\"row_heading level0 row2\" >toxic</th>\n",
       "                        <td id=\"T_df81a_row2_col0\" class=\"data row2 col0\" >0.000000</td>\n",
       "            </tr>\n",
       "    </tbody></table>"
      ],
      "text/plain": [
       "<pandas.io.formats.style.Styler at 0x7f00175e2610>"
      ]
     },
     "metadata": {},
     "output_type": "display_data"
    }
   ],
   "source": [
    "data_info(tweets)"
   ]
  },
  {
   "cell_type": "code",
   "execution_count": 5,
   "metadata": {},
   "outputs": [
    {
     "data": {
      "text/plain": [
       "'Колиество положительных и отрицательных коментов: '"
      ]
     },
     "metadata": {},
     "output_type": "display_data"
    },
    {
     "data": {
      "text/plain": [
       "0    143106\n",
       "1     16186\n",
       "Name: toxic, dtype: int64"
      ]
     },
     "metadata": {},
     "output_type": "display_data"
    }
   ],
   "source": [
    "display(\"Колиество положительных и отрицательных коментов: \", tweets['toxic'].value_counts())"
   ]
  },
  {
   "cell_type": "code",
   "execution_count": 6,
   "metadata": {},
   "outputs": [
    {
     "data": {
      "text/plain": [
       "'Соотношение отрицательных к положительным отзывам : '"
      ]
     },
     "metadata": {},
     "output_type": "display_data"
    },
    {
     "data": {
      "text/plain": [
       "8.841344371679229"
      ]
     },
     "metadata": {},
     "output_type": "display_data"
    }
   ],
   "source": [
    "display(\"Соотношение отрицательных к положительным отзывам : \", \n",
    "        tweets['toxic'].value_counts()[0] / tweets['toxic'].value_counts()[1])"
   ]
  },
  {
   "cell_type": "markdown",
   "metadata": {},
   "source": [
    "    Наша база твитов состоит из почти 160 тысяч строк с твитами.\n",
    "    Присутствует столбец \"Unnamed\" который на первый взгляд дублирует индексы\n",
    "    Пропусков нету как и дубликатов\n",
    "    Для более \"ровной\" работы необходимо будет привести все твиты в один вид(нижний регистр и удалить все лишнее)\n",
    "    Из проблем для обучения моделей может быть только несбалансированность классов - негативных в 9 раз больше.    "
   ]
  },
  {
   "cell_type": "markdown",
   "metadata": {},
   "source": [
    "### Подготовка данных"
   ]
  },
  {
   "cell_type": "code",
   "execution_count": 7,
   "metadata": {},
   "outputs": [],
   "source": [
    "#Перевод в нижний регистр\n",
    "\n",
    "tweets['text'] = tweets['text'].str.lower()"
   ]
  },
  {
   "cell_type": "code",
   "execution_count": 8,
   "metadata": {},
   "outputs": [],
   "source": [
    "lemmatizer  = WordNetLemmatizer()"
   ]
  },
  {
   "cell_type": "code",
   "execution_count": 9,
   "metadata": {},
   "outputs": [],
   "source": [
    "def clear_lemm_text(text):\n",
    "    clean_text = []\n",
    "    pattern = r'[^a-zA-Z0-9]' \n",
    "    for tweet in text:\n",
    "        cleared_text = re.sub(pattern, \" \", tweet)\n",
    "        clean = cleared_text.split()\n",
    "        clean_text.append(' '.join(lemmatizer.lemmatize(word) for word in clean))\n",
    "    \n",
    "    return clean_text"
   ]
  },
  {
   "cell_type": "code",
   "execution_count": 10,
   "metadata": {},
   "outputs": [],
   "source": [
    "tweets['lemm_text'] = clear_lemm_text(tweets['text'])"
   ]
  },
  {
   "cell_type": "code",
   "execution_count": 11,
   "metadata": {},
   "outputs": [
    {
     "data": {
      "text/plain": [
       "\"explanation\\nwhy the edits made under my username hardcore metallica fan were reverted? they weren't vandalisms, just closure on some gas after i voted at new york dolls fac. and please don't remove the template from the talk page since i'm retired now.89.205.38.27\""
      ]
     },
     "execution_count": 11,
     "metadata": {},
     "output_type": "execute_result"
    }
   ],
   "source": [
    "tweets['text'][0]\n",
    "# 16 слво vandalisms"
   ]
  },
  {
   "cell_type": "code",
   "execution_count": 12,
   "metadata": {
    "scrolled": true
   },
   "outputs": [
    {
     "data": {
      "text/plain": [
       "'explanation why the edits made under my username hardcore metallica fan were reverted they weren t vandalism just closure on some gas after i voted at new york doll fac and please don t remove the template from the talk page since i m retired now 89 205 38 27'"
      ]
     },
     "execution_count": 12,
     "metadata": {},
     "output_type": "execute_result"
    }
   ],
   "source": [
    "tweets['lemm_text'][0]\n",
    "# тут в тексте у него нету окончания, значит лематизаци прошла успешно, если это можно так назвать..."
   ]
  },
  {
   "cell_type": "markdown",
   "metadata": {},
   "source": [
    "Данные готовы к обучению моделей"
   ]
  },
  {
   "cell_type": "markdown",
   "metadata": {},
   "source": [
    "## Обучение"
   ]
  },
  {
   "cell_type": "code",
   "execution_count": 13,
   "metadata": {},
   "outputs": [],
   "source": [
    "features = tweets.drop(['toxic', 'Unnamed: 0', 'text'] , axis=1)\n",
    "target = tweets['toxic']"
   ]
  },
  {
   "cell_type": "code",
   "execution_count": 14,
   "metadata": {},
   "outputs": [
    {
     "name": "stdout",
     "output_type": "stream",
     "text": [
      "(159292, 1)\n",
      "(159292,)\n"
     ]
    }
   ],
   "source": [
    "print(features.shape)\n",
    "print(target.shape)"
   ]
  },
  {
   "cell_type": "code",
   "execution_count": 15,
   "metadata": {},
   "outputs": [],
   "source": [
    "features_train, features_valid_test, target_train, target_valid_test = train_test_split(features,\n",
    "                                                    target,\n",
    "                                                    train_size=0.6,\n",
    "                                                    random_state=STATE, \n",
    "                                                    stratify=target)\n",
    "# выделил 50% данных на тренировочную выборку, остальные данные разделю поровну между валидационнрй и тестовой"
   ]
  },
  {
   "cell_type": "code",
   "execution_count": 16,
   "metadata": {},
   "outputs": [],
   "source": [
    "features_valid, features_test, target_valid, target_test = train_test_split(features_valid_test,\n",
    "                                                    target_valid_test,\n",
    "                                                    train_size=0.5,\n",
    "                                                    random_state=STATE, \n",
    "                                                    stratify=target_valid_test)"
   ]
  },
  {
   "cell_type": "code",
   "execution_count": 17,
   "metadata": {
    "scrolled": true
   },
   "outputs": [
    {
     "name": "stderr",
     "output_type": "stream",
     "text": [
      "[nltk_data] Downloading package stopwords to /home/jovyan/nltk_data...\n",
      "[nltk_data]   Package stopwords is already up-to-date!\n"
     ]
    }
   ],
   "source": [
    "#векторизация данных\n",
    "nltk.download('stopwords')\n",
    "stopwords = set(stopwords.words('english'))\n",
    "\n",
    "count_tf_idf = TfidfVectorizer(stop_words=stopwords)\n",
    "\n",
    "features_train = count_tf_idf.fit_transform(features_train['lemm_text'].values)\n",
    "features_valid = count_tf_idf.transform(features_valid['lemm_text'].values)\n",
    "features_test = count_tf_idf.transform(features_test['lemm_text'].values)"
   ]
  },
  {
   "cell_type": "markdown",
   "metadata": {},
   "source": [
    "### RandomForest"
   ]
  },
  {
   "cell_type": "code",
   "execution_count": 18,
   "metadata": {},
   "outputs": [],
   "source": [
    "f1_tabl=[]"
   ]
  },
  {
   "cell_type": "code",
   "execution_count": 19,
   "metadata": {},
   "outputs": [
    {
     "name": "stdout",
     "output_type": "stream",
     "text": [
      "Лучшее значение F1 для случайного леса =0.3450242801546892\n",
      " при значениях гиперпараметров: {'max_depth': 10, 'n_estimators': 40}\n",
      "CPU times: user 1min 43s, sys: 1.32 s, total: 1min 45s\n",
      "Wall time: 1min 45s\n"
     ]
    }
   ],
   "source": [
    "%%time\n",
    "param_grid = {'max_depth': range(2, 11, 2),\n",
    "              'n_estimators': range(10, 50, 10)\n",
    "              }             \n",
    "\n",
    "model = RandomForestClassifier(class_weight = 'balanced', random_state=STATE)\n",
    "# так как данные не сбалансированы воспользуемся параметром  class_weight = 'balanced'\n",
    "search = GridSearchCV(model, param_grid, cv=3, scoring='f1')\n",
    "search.fit(features_train, target_train)\n",
    "print('Лучшее значение F1 для случайного леса ={}'\n",
    "      '\\n при значениях гиперпараметров: {}'.format(search.best_score_,search.best_params_))"
   ]
  },
  {
   "cell_type": "code",
   "execution_count": 20,
   "metadata": {},
   "outputs": [],
   "source": [
    "f1_tabl.append(search.best_score_)"
   ]
  },
  {
   "cell_type": "markdown",
   "metadata": {},
   "source": [
    "### Логическая регрессия"
   ]
  },
  {
   "cell_type": "code",
   "execution_count": 21,
   "metadata": {},
   "outputs": [
    {
     "name": "stdout",
     "output_type": "stream",
     "text": [
      "CPU times: user 12.9 s, sys: 27.5 s, total: 40.4 s\n",
      "Wall time: 40.5 s\n"
     ]
    },
    {
     "name": "stderr",
     "output_type": "stream",
     "text": [
      "/opt/conda/lib/python3.9/site-packages/sklearn/linear_model/_logistic.py:763: ConvergenceWarning: lbfgs failed to converge (status=1):\n",
      "STOP: TOTAL NO. of ITERATIONS REACHED LIMIT.\n",
      "\n",
      "Increase the number of iterations (max_iter) or scale the data as shown in:\n",
      "    https://scikit-learn.org/stable/modules/preprocessing.html\n",
      "Please also refer to the documentation for alternative solver options:\n",
      "    https://scikit-learn.org/stable/modules/linear_model.html#logistic-regression\n",
      "  n_iter_i = _check_optimize_result(\n"
     ]
    }
   ],
   "source": [
    "%%time\n",
    "model = LogisticRegression(class_weight = 'balanced')\n",
    "# тоже, так как данные не сбалансированы воспользуемся параметром  class_weight = 'balanced'\n",
    "model.fit(features_train,target_train)\n",
    "pred_valid = model.predict(features_valid)"
   ]
  },
  {
   "cell_type": "code",
   "execution_count": 22,
   "metadata": {},
   "outputs": [
    {
     "name": "stdout",
     "output_type": "stream",
     "text": [
      "F1 для Логической регресии = 0.7521250342747464\n"
     ]
    }
   ],
   "source": [
    "f_1 = f1_score(target_valid, pred_valid)\n",
    "print('F1 для Логической регресии =', f_1)"
   ]
  },
  {
   "cell_type": "code",
   "execution_count": 23,
   "metadata": {},
   "outputs": [],
   "source": [
    "f1_tabl.append(f_1)"
   ]
  },
  {
   "cell_type": "code",
   "execution_count": 24,
   "metadata": {},
   "outputs": [
    {
     "name": "stdout",
     "output_type": "stream",
     "text": [
      "F1 для Логической регресии = 0.7257207890743551\n",
      "CPU times: user 12.4 s, sys: 26.2 s, total: 38.6 s\n",
      "Wall time: 38.7 s\n"
     ]
    },
    {
     "name": "stderr",
     "output_type": "stream",
     "text": [
      "/opt/conda/lib/python3.9/site-packages/sklearn/linear_model/_logistic.py:763: ConvergenceWarning: lbfgs failed to converge (status=1):\n",
      "STOP: TOTAL NO. of ITERATIONS REACHED LIMIT.\n",
      "\n",
      "Increase the number of iterations (max_iter) or scale the data as shown in:\n",
      "    https://scikit-learn.org/stable/modules/preprocessing.html\n",
      "Please also refer to the documentation for alternative solver options:\n",
      "    https://scikit-learn.org/stable/modules/linear_model.html#logistic-regression\n",
      "  n_iter_i = _check_optimize_result(\n"
     ]
    }
   ],
   "source": [
    "%%time\n",
    "model = LogisticRegression()\n",
    "# тоже, так как данные не сбалансированы воспользуемся параметром  class_weight = 'balanced'\n",
    "model.fit(features_train,target_train)\n",
    "pred_valid_db = model.predict(features_valid)\n",
    "f_1_disbal = f1_score(target_valid, pred_valid_db)\n",
    "print('F1 для Логической регресии =', f_1_disbal)"
   ]
  },
  {
   "cell_type": "code",
   "execution_count": 25,
   "metadata": {},
   "outputs": [],
   "source": [
    "f1_tabl.append(f_1_disbal)"
   ]
  },
  {
   "cell_type": "code",
   "execution_count": 26,
   "metadata": {
    "scrolled": true
   },
   "outputs": [],
   "source": [
    "f1_mera=pd.DataFrame(f1_tabl, index=['RF', 'LogReg', 'LR_disbalans'], columns=['f1'])"
   ]
  },
  {
   "cell_type": "code",
   "execution_count": 27,
   "metadata": {
    "scrolled": true
   },
   "outputs": [
    {
     "data": {
      "text/html": [
       "<div>\n",
       "<style scoped>\n",
       "    .dataframe tbody tr th:only-of-type {\n",
       "        vertical-align: middle;\n",
       "    }\n",
       "\n",
       "    .dataframe tbody tr th {\n",
       "        vertical-align: top;\n",
       "    }\n",
       "\n",
       "    .dataframe thead th {\n",
       "        text-align: right;\n",
       "    }\n",
       "</style>\n",
       "<table border=\"1\" class=\"dataframe\">\n",
       "  <thead>\n",
       "    <tr style=\"text-align: right;\">\n",
       "      <th></th>\n",
       "      <th>f1</th>\n",
       "    </tr>\n",
       "  </thead>\n",
       "  <tbody>\n",
       "    <tr>\n",
       "      <th>RF</th>\n",
       "      <td>0.345024</td>\n",
       "    </tr>\n",
       "    <tr>\n",
       "      <th>LogReg</th>\n",
       "      <td>0.752125</td>\n",
       "    </tr>\n",
       "    <tr>\n",
       "      <th>LR_disbalans</th>\n",
       "      <td>0.725721</td>\n",
       "    </tr>\n",
       "  </tbody>\n",
       "</table>\n",
       "</div>"
      ],
      "text/plain": [
       "                    f1\n",
       "RF            0.345024\n",
       "LogReg        0.752125\n",
       "LR_disbalans  0.725721"
      ]
     },
     "metadata": {},
     "output_type": "display_data"
    }
   ],
   "source": [
    "display(f1_mera)"
   ]
  },
  {
   "cell_type": "markdown",
   "metadata": {},
   "source": [
    "Исходя из вычислений и последней таблицы можно сдедать вывод что для поиска токсичных твитов модель случайного леса полностью не подходит, так как при сбалансированной метрики, показатель F1 всего `0,345`.\n",
    "    \n",
    "Тогда как Логическая регрессия показывает неплохой результат F1 1 в `0,72`, на несбалансированных класах. \n",
    "\n",
    "А уже при указании `class_weight = 'balanced' ` F1 поднялось до `0,75`, что для нас является хорошим показателем.\n",
    "\n",
    "Отсюда следует, что Логическая регрессия с `class_weight = 'balanced'` - идеальный вариант для поиска токсичных коментариев."
   ]
  },
  {
   "cell_type": "markdown",
   "metadata": {},
   "source": [
    "## Выводы"
   ]
  },
  {
   "cell_type": "code",
   "execution_count": 28,
   "metadata": {},
   "outputs": [
    {
     "name": "stdout",
     "output_type": "stream",
     "text": [
      "F1 на тестовой выборке: 0.7521250342747464\n"
     ]
    }
   ],
   "source": [
    "pred_test = model.predict(features_test)\n",
    "f_1_test = f1_score(target_test, pred_test)\n",
    "print('F1 на тестовой выборке:', f_1)"
   ]
  },
  {
   "cell_type": "markdown",
   "metadata": {},
   "source": [
    "**Вывод** \n",
    "\n",
    "В данном проекте мне пришлось обрабатывать твиты людей и обучение модели на поиск токсичных твитов, очистив текст от лишних символов, разделив его и проведя лемитизацию мне удалось добиться показателя f1 на тестовой выборке = `0.752`.\n",
    "В процессе подготовки данных выявлено что классы данных не сбалансированны, и было проверенно обучение моделей на сбалансированных и не сбалансированных данных. \n",
    "Так как мне удалось добиться метрики не противоречащей требованию, можно считать выбранную модель - `LogisticRegression(class_weight = 'balanced')` - верным решением для выполнения данной задачи"
   ]
  }
 ],
 "metadata": {
  "ExecuteTimeLog": [
   {
    "duration": 440,
    "start_time": "2022-11-23T16:45:27.965Z"
   },
   {
    "duration": 3216,
    "start_time": "2022-11-23T16:46:23.160Z"
   },
   {
    "duration": 17,
    "start_time": "2022-11-23T16:46:37.409Z"
   },
   {
    "duration": 395,
    "start_time": "2022-11-23T19:32:31.971Z"
   },
   {
    "duration": 3186,
    "start_time": "2022-11-23T19:32:32.762Z"
   },
   {
    "duration": 15,
    "start_time": "2022-11-23T19:32:35.950Z"
   },
   {
    "duration": 4,
    "start_time": "2022-11-23T19:34:44.784Z"
   },
   {
    "duration": 1543,
    "start_time": "2022-11-23T19:35:04.804Z"
   },
   {
    "duration": 3,
    "start_time": "2022-11-23T19:35:30.528Z"
   },
   {
    "duration": 324,
    "start_time": "2022-11-23T19:35:34.770Z"
   },
   {
    "duration": 3,
    "start_time": "2022-11-23T19:36:00.888Z"
   },
   {
    "duration": 230,
    "start_time": "2022-11-23T19:36:01.228Z"
   },
   {
    "duration": 6,
    "start_time": "2022-11-23T19:36:15.783Z"
   },
   {
    "duration": 8,
    "start_time": "2022-11-23T19:37:20.712Z"
   },
   {
    "duration": 5,
    "start_time": "2022-11-23T19:37:26.963Z"
   },
   {
    "duration": 78,
    "start_time": "2022-11-23T19:37:44.820Z"
   },
   {
    "duration": 76,
    "start_time": "2022-11-23T19:37:53.915Z"
   },
   {
    "duration": 81,
    "start_time": "2022-11-23T19:38:04.361Z"
   },
   {
    "duration": 6,
    "start_time": "2022-11-23T19:38:08.084Z"
   },
   {
    "duration": 8,
    "start_time": "2022-11-23T19:38:23.825Z"
   },
   {
    "duration": 8,
    "start_time": "2022-11-23T19:38:29.501Z"
   },
   {
    "duration": 7,
    "start_time": "2022-11-23T19:38:36.646Z"
   },
   {
    "duration": 71,
    "start_time": "2022-11-23T19:38:54.622Z"
   },
   {
    "duration": 70,
    "start_time": "2022-11-23T19:39:06.557Z"
   },
   {
    "duration": 7,
    "start_time": "2022-11-23T19:39:10.401Z"
   },
   {
    "duration": 71,
    "start_time": "2022-11-23T19:39:21.991Z"
   },
   {
    "duration": 78,
    "start_time": "2022-11-23T19:39:27.467Z"
   },
   {
    "duration": 5,
    "start_time": "2022-11-23T19:39:34.474Z"
   },
   {
    "duration": 6,
    "start_time": "2022-11-23T19:39:43.900Z"
   },
   {
    "duration": 3,
    "start_time": "2022-11-23T19:40:00.729Z"
   },
   {
    "duration": 5,
    "start_time": "2022-11-23T19:40:04.275Z"
   },
   {
    "duration": 492,
    "start_time": "2022-11-23T19:40:46.564Z"
   },
   {
    "duration": 5,
    "start_time": "2022-11-23T19:40:57.281Z"
   },
   {
    "duration": 8,
    "start_time": "2022-11-23T19:42:26.307Z"
   },
   {
    "duration": 4,
    "start_time": "2022-11-23T19:46:01.666Z"
   },
   {
    "duration": 268,
    "start_time": "2022-11-23T19:46:02.373Z"
   },
   {
    "duration": 3,
    "start_time": "2022-11-23T19:47:03.367Z"
   },
   {
    "duration": 294,
    "start_time": "2022-11-23T19:47:04.044Z"
   },
   {
    "duration": 4,
    "start_time": "2022-11-23T19:47:23.015Z"
   },
   {
    "duration": 299,
    "start_time": "2022-11-23T19:47:23.418Z"
   },
   {
    "duration": 43,
    "start_time": "2022-11-23T20:02:04.606Z"
   },
   {
    "duration": 13,
    "start_time": "2022-11-23T20:02:08.472Z"
   },
   {
    "duration": 388,
    "start_time": "2022-11-23T20:02:24.510Z"
   },
   {
    "duration": 833,
    "start_time": "2022-11-23T20:02:24.899Z"
   },
   {
    "duration": 4,
    "start_time": "2022-11-23T20:02:25.733Z"
   },
   {
    "duration": 574,
    "start_time": "2022-11-23T20:02:25.739Z"
   },
   {
    "duration": 7,
    "start_time": "2022-11-23T20:02:26.314Z"
   },
   {
    "duration": 10,
    "start_time": "2022-11-23T20:02:26.322Z"
   },
   {
    "duration": 389,
    "start_time": "2022-11-23T20:02:45.610Z"
   },
   {
    "duration": 3229,
    "start_time": "2022-11-23T20:02:46.610Z"
   },
   {
    "duration": 4,
    "start_time": "2022-11-23T20:02:49.841Z"
   },
   {
    "duration": 583,
    "start_time": "2022-11-23T20:02:49.847Z"
   },
   {
    "duration": 6,
    "start_time": "2022-11-23T20:02:50.432Z"
   },
   {
    "duration": 12,
    "start_time": "2022-11-23T20:02:50.439Z"
   },
   {
    "duration": 398,
    "start_time": "2022-11-23T20:03:10.217Z"
   },
   {
    "duration": 3273,
    "start_time": "2022-11-23T20:03:10.617Z"
   },
   {
    "duration": 5,
    "start_time": "2022-11-23T20:03:13.892Z"
   },
   {
    "duration": 582,
    "start_time": "2022-11-23T20:03:13.899Z"
   },
   {
    "duration": 8,
    "start_time": "2022-11-23T20:03:14.483Z"
   },
   {
    "duration": 9,
    "start_time": "2022-11-23T20:03:14.504Z"
   },
   {
    "duration": 296,
    "start_time": "2022-11-23T20:03:14.515Z"
   },
   {
    "duration": 11,
    "start_time": "2022-11-23T20:03:14.813Z"
   },
   {
    "duration": 70,
    "start_time": "2022-11-23T20:13:42.974Z"
   },
   {
    "duration": 2,
    "start_time": "2022-11-23T20:13:53.321Z"
   },
   {
    "duration": 3667,
    "start_time": "2022-11-23T20:13:58.294Z"
   },
   {
    "duration": 12,
    "start_time": "2022-11-23T20:14:03.392Z"
   },
   {
    "duration": 7,
    "start_time": "2022-11-23T20:20:59.803Z"
   },
   {
    "duration": 756,
    "start_time": "2022-11-23T20:21:47.165Z"
   },
   {
    "duration": 41,
    "start_time": "2022-11-23T20:23:03.733Z"
   },
   {
    "duration": 11,
    "start_time": "2022-11-23T20:23:28.756Z"
   },
   {
    "duration": 57,
    "start_time": "2022-11-23T20:27:52.834Z"
   },
   {
    "duration": 3075,
    "start_time": "2022-11-23T20:31:28.507Z"
   },
   {
    "duration": 16,
    "start_time": "2022-11-23T20:31:38.193Z"
   },
   {
    "duration": 9,
    "start_time": "2022-11-23T20:31:41.261Z"
   },
   {
    "duration": 2168,
    "start_time": "2022-11-23T20:31:50.993Z"
   },
   {
    "duration": 14,
    "start_time": "2022-11-23T20:32:00.527Z"
   },
   {
    "duration": 3,
    "start_time": "2022-11-23T20:32:30.222Z"
   },
   {
    "duration": 3,
    "start_time": "2022-11-23T20:34:41.687Z"
   },
   {
    "duration": 4,
    "start_time": "2022-11-23T20:35:06.001Z"
   },
   {
    "duration": 85,
    "start_time": "2022-11-23T20:35:33.299Z"
   },
   {
    "duration": 25,
    "start_time": "2022-11-23T20:35:41.255Z"
   },
   {
    "duration": 20,
    "start_time": "2022-11-23T20:35:55.537Z"
   },
   {
    "duration": 25,
    "start_time": "2022-11-23T20:37:42.032Z"
   },
   {
    "duration": 3,
    "start_time": "2022-11-23T20:39:20.670Z"
   },
   {
    "duration": 138,
    "start_time": "2022-11-23T20:39:51.074Z"
   },
   {
    "duration": 3,
    "start_time": "2022-11-23T20:40:09.537Z"
   },
   {
    "duration": 142,
    "start_time": "2022-11-23T20:40:14.564Z"
   },
   {
    "duration": 3,
    "start_time": "2022-11-23T20:40:58.194Z"
   },
   {
    "duration": 4,
    "start_time": "2022-11-23T20:44:19.338Z"
   },
   {
    "duration": 4,
    "start_time": "2022-11-23T20:45:36.790Z"
   },
   {
    "duration": 4,
    "start_time": "2022-11-23T20:46:07.201Z"
   },
   {
    "duration": 220,
    "start_time": "2022-11-23T20:46:17.552Z"
   },
   {
    "duration": 8,
    "start_time": "2022-11-23T20:46:41.268Z"
   },
   {
    "duration": 1094,
    "start_time": "2022-11-23T21:03:37.810Z"
   },
   {
    "duration": 875,
    "start_time": "2022-11-23T21:03:38.906Z"
   },
   {
    "duration": 4,
    "start_time": "2022-11-23T21:03:39.783Z"
   },
   {
    "duration": 608,
    "start_time": "2022-11-23T21:03:39.789Z"
   },
   {
    "duration": 10,
    "start_time": "2022-11-23T21:03:40.399Z"
   },
   {
    "duration": 20,
    "start_time": "2022-11-23T21:03:40.410Z"
   },
   {
    "duration": 312,
    "start_time": "2022-11-23T21:03:40.431Z"
   },
   {
    "duration": 3598,
    "start_time": "2022-11-23T21:03:40.745Z"
   },
   {
    "duration": 11,
    "start_time": "2022-11-23T21:03:44.344Z"
   },
   {
    "duration": 76,
    "start_time": "2022-11-23T21:03:44.357Z"
   },
   {
    "duration": 3,
    "start_time": "2022-11-23T21:03:53.019Z"
   },
   {
    "duration": 120,
    "start_time": "2022-11-23T21:08:06.395Z"
   },
   {
    "duration": 35,
    "start_time": "2022-11-23T21:08:29.436Z"
   },
   {
    "duration": 12,
    "start_time": "2022-11-23T21:08:59.018Z"
   },
   {
    "duration": 23,
    "start_time": "2022-11-23T21:09:09.017Z"
   },
   {
    "duration": 22,
    "start_time": "2022-11-23T21:09:26.976Z"
   },
   {
    "duration": 12,
    "start_time": "2022-11-23T21:09:41.970Z"
   },
   {
    "duration": 1089,
    "start_time": "2022-11-23T21:09:46.886Z"
   },
   {
    "duration": 900,
    "start_time": "2022-11-23T21:09:47.977Z"
   },
   {
    "duration": 4,
    "start_time": "2022-11-23T21:09:48.879Z"
   },
   {
    "duration": 608,
    "start_time": "2022-11-23T21:09:48.885Z"
   },
   {
    "duration": 12,
    "start_time": "2022-11-23T21:09:49.495Z"
   },
   {
    "duration": 21,
    "start_time": "2022-11-23T21:09:49.508Z"
   },
   {
    "duration": 119,
    "start_time": "2022-11-23T21:09:49.530Z"
   },
   {
    "duration": 0,
    "start_time": "2022-11-23T21:09:49.651Z"
   },
   {
    "duration": 0,
    "start_time": "2022-11-23T21:09:49.652Z"
   },
   {
    "duration": 0,
    "start_time": "2022-11-23T21:09:49.653Z"
   },
   {
    "duration": 0,
    "start_time": "2022-11-23T21:09:49.654Z"
   },
   {
    "duration": 0,
    "start_time": "2022-11-23T21:09:49.655Z"
   },
   {
    "duration": 24,
    "start_time": "2022-11-23T21:10:01.504Z"
   },
   {
    "duration": 1104,
    "start_time": "2022-11-23T21:11:59.334Z"
   },
   {
    "duration": 883,
    "start_time": "2022-11-23T21:12:00.440Z"
   },
   {
    "duration": 5,
    "start_time": "2022-11-23T21:12:01.324Z"
   },
   {
    "duration": 650,
    "start_time": "2022-11-23T21:12:01.331Z"
   },
   {
    "duration": 6,
    "start_time": "2022-11-23T21:12:01.983Z"
   },
   {
    "duration": 44,
    "start_time": "2022-11-23T21:12:01.990Z"
   },
   {
    "duration": 322,
    "start_time": "2022-11-23T21:12:02.036Z"
   },
   {
    "duration": 3641,
    "start_time": "2022-11-23T21:12:02.360Z"
   },
   {
    "duration": 41,
    "start_time": "2022-11-23T21:12:06.004Z"
   },
   {
    "duration": 2,
    "start_time": "2022-11-23T21:12:06.047Z"
   },
   {
    "duration": 12,
    "start_time": "2022-11-23T21:12:06.051Z"
   },
   {
    "duration": 3,
    "start_time": "2022-11-23T21:12:14.510Z"
   },
   {
    "duration": 3,
    "start_time": "2022-11-23T21:12:33.269Z"
   },
   {
    "duration": 98,
    "start_time": "2022-11-23T21:14:46.974Z"
   },
   {
    "duration": 9,
    "start_time": "2022-11-23T21:14:47.225Z"
   },
   {
    "duration": 22,
    "start_time": "2022-11-23T21:15:33.816Z"
   },
   {
    "duration": 59,
    "start_time": "2022-11-23T21:15:36.861Z"
   },
   {
    "duration": 32,
    "start_time": "2022-11-23T21:15:37.931Z"
   },
   {
    "duration": 29,
    "start_time": "2022-11-23T21:16:06.405Z"
   },
   {
    "duration": 3,
    "start_time": "2022-11-23T21:16:29.069Z"
   },
   {
    "duration": 63,
    "start_time": "2022-11-23T21:16:30.308Z"
   },
   {
    "duration": 33,
    "start_time": "2022-11-23T21:16:30.872Z"
   },
   {
    "duration": 27,
    "start_time": "2022-11-23T21:16:31.300Z"
   },
   {
    "duration": 3,
    "start_time": "2022-11-23T21:16:57.704Z"
   },
   {
    "duration": 4,
    "start_time": "2022-11-23T21:17:02.927Z"
   },
   {
    "duration": 68,
    "start_time": "2022-11-23T21:17:03.384Z"
   },
   {
    "duration": 36,
    "start_time": "2022-11-23T21:17:03.646Z"
   },
   {
    "duration": 44,
    "start_time": "2022-11-23T21:17:04.048Z"
   },
   {
    "duration": 3,
    "start_time": "2022-11-23T21:17:10.212Z"
   },
   {
    "duration": 7,
    "start_time": "2022-11-23T21:17:41.389Z"
   },
   {
    "duration": 7,
    "start_time": "2022-11-23T21:17:50.216Z"
   },
   {
    "duration": 4,
    "start_time": "2022-11-23T21:18:01.070Z"
   },
   {
    "duration": 4,
    "start_time": "2022-11-23T21:18:19.870Z"
   },
   {
    "duration": 35,
    "start_time": "2022-11-23T21:18:35.721Z"
   },
   {
    "duration": 6,
    "start_time": "2022-11-23T21:18:36.184Z"
   },
   {
    "duration": 34,
    "start_time": "2022-11-23T21:18:41.613Z"
   },
   {
    "duration": 5,
    "start_time": "2022-11-23T21:18:42.006Z"
   },
   {
    "duration": 1004,
    "start_time": "2022-11-23T21:18:47.152Z"
   },
   {
    "duration": 914,
    "start_time": "2022-11-23T21:18:48.158Z"
   },
   {
    "duration": 6,
    "start_time": "2022-11-23T21:18:49.073Z"
   },
   {
    "duration": 617,
    "start_time": "2022-11-23T21:18:49.082Z"
   },
   {
    "duration": 8,
    "start_time": "2022-11-23T21:18:49.705Z"
   },
   {
    "duration": 14,
    "start_time": "2022-11-23T21:18:49.715Z"
   },
   {
    "duration": 311,
    "start_time": "2022-11-23T21:18:49.731Z"
   },
   {
    "duration": 3607,
    "start_time": "2022-11-23T21:18:50.044Z"
   },
   {
    "duration": 38,
    "start_time": "2022-11-23T21:18:53.653Z"
   },
   {
    "duration": 2,
    "start_time": "2022-11-23T21:18:53.704Z"
   },
   {
    "duration": 12,
    "start_time": "2022-11-23T21:18:53.708Z"
   },
   {
    "duration": 11,
    "start_time": "2022-11-23T21:18:53.722Z"
   },
   {
    "duration": 79,
    "start_time": "2022-11-23T21:18:53.735Z"
   },
   {
    "duration": 31,
    "start_time": "2022-11-23T21:18:53.816Z"
   },
   {
    "duration": 3,
    "start_time": "2022-11-23T21:18:53.849Z"
   },
   {
    "duration": 55,
    "start_time": "2022-11-23T21:18:53.854Z"
   },
   {
    "duration": 5,
    "start_time": "2022-11-23T21:18:53.911Z"
   },
   {
    "duration": 5,
    "start_time": "2022-11-23T21:18:59.550Z"
   },
   {
    "duration": 33,
    "start_time": "2022-11-23T21:19:04.826Z"
   },
   {
    "duration": 4,
    "start_time": "2022-11-23T21:19:05.523Z"
   },
   {
    "duration": 6,
    "start_time": "2022-11-23T21:19:38.661Z"
   },
   {
    "duration": 30,
    "start_time": "2022-11-23T21:19:42.771Z"
   },
   {
    "duration": 6,
    "start_time": "2022-11-23T21:19:43.157Z"
   },
   {
    "duration": 35,
    "start_time": "2022-11-23T21:20:55.282Z"
   },
   {
    "duration": 8,
    "start_time": "2022-11-23T21:20:55.606Z"
   },
   {
    "duration": 103,
    "start_time": "2022-11-23T21:21:03.664Z"
   },
   {
    "duration": 9,
    "start_time": "2022-11-23T21:21:03.979Z"
   },
   {
    "duration": 37,
    "start_time": "2022-11-23T21:21:12.833Z"
   },
   {
    "duration": 7,
    "start_time": "2022-11-23T21:21:13.125Z"
   },
   {
    "duration": 8,
    "start_time": "2022-11-23T21:22:30.126Z"
   },
   {
    "duration": 6,
    "start_time": "2022-11-23T21:22:49.280Z"
   },
   {
    "duration": 32,
    "start_time": "2022-11-23T21:22:49.765Z"
   },
   {
    "duration": 7,
    "start_time": "2022-11-23T21:22:50.477Z"
   },
   {
    "duration": 38,
    "start_time": "2022-11-23T21:23:15.212Z"
   },
   {
    "duration": 9,
    "start_time": "2022-11-23T21:23:15.707Z"
   },
   {
    "duration": 43,
    "start_time": "2022-11-23T21:23:23.668Z"
   },
   {
    "duration": 9,
    "start_time": "2022-11-23T21:23:24.185Z"
   },
   {
    "duration": 33,
    "start_time": "2022-11-23T21:23:28.344Z"
   },
   {
    "duration": 6,
    "start_time": "2022-11-23T21:23:28.665Z"
   },
   {
    "duration": 45,
    "start_time": "2022-11-23T21:23:36.332Z"
   },
   {
    "duration": 9,
    "start_time": "2022-11-23T21:23:39.565Z"
   },
   {
    "duration": 7,
    "start_time": "2022-11-23T21:24:43.870Z"
   },
   {
    "duration": 52,
    "start_time": "2022-11-23T21:24:44.504Z"
   },
   {
    "duration": 9,
    "start_time": "2022-11-23T21:24:45.177Z"
   },
   {
    "duration": 4,
    "start_time": "2022-11-23T21:24:57.420Z"
   },
   {
    "duration": 979,
    "start_time": "2022-11-23T21:26:19.858Z"
   },
   {
    "duration": 819,
    "start_time": "2022-11-23T21:26:20.839Z"
   },
   {
    "duration": 4,
    "start_time": "2022-11-23T21:26:21.660Z"
   },
   {
    "duration": 612,
    "start_time": "2022-11-23T21:26:21.666Z"
   },
   {
    "duration": 6,
    "start_time": "2022-11-23T21:26:22.280Z"
   },
   {
    "duration": 23,
    "start_time": "2022-11-23T21:26:22.288Z"
   },
   {
    "duration": 295,
    "start_time": "2022-11-23T21:26:22.313Z"
   },
   {
    "duration": 3609,
    "start_time": "2022-11-23T21:26:22.610Z"
   },
   {
    "duration": 40,
    "start_time": "2022-11-23T21:26:26.221Z"
   },
   {
    "duration": 2,
    "start_time": "2022-11-23T21:26:26.264Z"
   },
   {
    "duration": 14,
    "start_time": "2022-11-23T21:26:26.267Z"
   },
   {
    "duration": 27,
    "start_time": "2022-11-23T21:26:26.283Z"
   },
   {
    "duration": 67,
    "start_time": "2022-11-23T21:26:26.312Z"
   },
   {
    "duration": 45,
    "start_time": "2022-11-23T21:26:26.380Z"
   },
   {
    "duration": 6,
    "start_time": "2022-11-23T21:26:26.426Z"
   },
   {
    "duration": 44,
    "start_time": "2022-11-23T21:26:26.433Z"
   },
   {
    "duration": 8,
    "start_time": "2022-11-23T21:26:26.479Z"
   },
   {
    "duration": 4,
    "start_time": "2022-11-23T21:26:26.505Z"
   },
   {
    "duration": 88,
    "start_time": "2022-11-23T21:54:07.849Z"
   },
   {
    "duration": 5,
    "start_time": "2022-11-23T22:00:38.459Z"
   },
   {
    "duration": 5,
    "start_time": "2022-11-23T22:00:45.139Z"
   },
   {
    "duration": 103,
    "start_time": "2022-11-23T22:01:12.617Z"
   },
   {
    "duration": 364,
    "start_time": "2022-11-23T22:01:17.214Z"
   },
   {
    "duration": 244,
    "start_time": "2022-11-23T22:01:20.113Z"
   },
   {
    "duration": 11332,
    "start_time": "2022-11-23T22:02:26.748Z"
   },
   {
    "duration": 4,
    "start_time": "2022-11-23T22:02:44.754Z"
   },
   {
    "duration": 4,
    "start_time": "2022-11-23T22:02:49.237Z"
   },
   {
    "duration": 4,
    "start_time": "2022-11-23T22:02:54.697Z"
   },
   {
    "duration": 91,
    "start_time": "2022-11-23T22:02:56.514Z"
   },
   {
    "duration": 46,
    "start_time": "2022-11-23T22:02:56.906Z"
   },
   {
    "duration": 6,
    "start_time": "2022-11-23T22:02:57.631Z"
   },
   {
    "duration": 30,
    "start_time": "2022-11-23T22:02:58.040Z"
   },
   {
    "duration": 8,
    "start_time": "2022-11-23T22:02:59.750Z"
   },
   {
    "duration": 3,
    "start_time": "2022-11-23T22:04:13.475Z"
   },
   {
    "duration": 81,
    "start_time": "2022-11-23T22:10:42.076Z"
   },
   {
    "duration": 4,
    "start_time": "2022-11-23T22:10:46.416Z"
   },
   {
    "duration": 78,
    "start_time": "2022-11-23T22:11:00.738Z"
   },
   {
    "duration": 73,
    "start_time": "2022-11-23T22:11:12.740Z"
   },
   {
    "duration": 351893,
    "start_time": "2022-11-23T22:11:27.612Z"
   },
   {
    "duration": 410080,
    "start_time": "2022-11-23T22:18:28.324Z"
   },
   {
    "duration": 4,
    "start_time": "2022-11-23T22:28:50.756Z"
   },
   {
    "duration": 12,
    "start_time": "2022-11-23T22:30:19.092Z"
   },
   {
    "duration": 17,
    "start_time": "2022-11-23T22:30:30.722Z"
   },
   {
    "duration": 4,
    "start_time": "2022-11-23T22:30:41.989Z"
   },
   {
    "duration": 95217,
    "start_time": "2022-11-23T22:30:48.893Z"
   },
   {
    "duration": 11,
    "start_time": "2022-11-23T22:32:31.011Z"
   },
   {
    "duration": 6,
    "start_time": "2022-11-23T22:32:47.371Z"
   },
   {
    "duration": 1596,
    "start_time": "2022-11-23T22:32:53.319Z"
   },
   {
    "duration": 3,
    "start_time": "2022-11-23T22:32:56.288Z"
   },
   {
    "duration": 595,
    "start_time": "2022-11-23T22:33:18.645Z"
   },
   {
    "duration": 1060,
    "start_time": "2022-11-23T22:34:47.734Z"
   },
   {
    "duration": 10,
    "start_time": "2022-11-23T22:35:32.229Z"
   },
   {
    "duration": 1063,
    "start_time": "2022-11-23T22:35:35.220Z"
   },
   {
    "duration": 6751,
    "start_time": "2022-11-23T22:35:39.727Z"
   },
   {
    "duration": 3,
    "start_time": "2022-11-23T22:35:46.479Z"
   },
   {
    "duration": 153,
    "start_time": "2022-11-23T22:43:36.731Z"
   },
   {
    "duration": 5,
    "start_time": "2022-11-23T22:44:24.003Z"
   },
   {
    "duration": 86,
    "start_time": "2022-11-23T22:44:43.030Z"
   },
   {
    "duration": 80,
    "start_time": "2022-11-23T22:44:54.982Z"
   },
   {
    "duration": 45801,
    "start_time": "2022-11-23T22:45:04.710Z"
   },
   {
    "duration": 14,
    "start_time": "2022-11-23T22:45:50.513Z"
   },
   {
    "duration": 27,
    "start_time": "2022-11-23T22:46:04.600Z"
   },
   {
    "duration": 69,
    "start_time": "2022-11-23T22:47:38.235Z"
   },
   {
    "duration": 61,
    "start_time": "2022-11-23T22:47:45.317Z"
   },
   {
    "duration": 90,
    "start_time": "2022-11-23T22:47:53.845Z"
   },
   {
    "duration": 72,
    "start_time": "2022-11-23T22:48:18.877Z"
   },
   {
    "duration": 71,
    "start_time": "2022-11-23T22:48:24.533Z"
   },
   {
    "duration": 25,
    "start_time": "2022-11-23T22:48:27.633Z"
   },
   {
    "duration": 1314,
    "start_time": "2022-11-23T23:00:48.590Z"
   },
   {
    "duration": 878,
    "start_time": "2022-11-23T23:00:49.906Z"
   },
   {
    "duration": 4,
    "start_time": "2022-11-23T23:00:50.786Z"
   },
   {
    "duration": 613,
    "start_time": "2022-11-23T23:00:50.804Z"
   },
   {
    "duration": 9,
    "start_time": "2022-11-23T23:00:51.419Z"
   },
   {
    "duration": 10,
    "start_time": "2022-11-23T23:00:51.429Z"
   },
   {
    "duration": 305,
    "start_time": "2022-11-23T23:00:51.441Z"
   },
   {
    "duration": 3657,
    "start_time": "2022-11-23T23:00:51.748Z"
   },
   {
    "duration": 45,
    "start_time": "2022-11-23T23:00:55.406Z"
   },
   {
    "duration": 333,
    "start_time": "2022-11-23T23:00:55.453Z"
   },
   {
    "duration": 0,
    "start_time": "2022-11-23T23:00:55.788Z"
   },
   {
    "duration": 0,
    "start_time": "2022-11-23T23:00:55.789Z"
   },
   {
    "duration": 0,
    "start_time": "2022-11-23T23:00:55.790Z"
   },
   {
    "duration": 0,
    "start_time": "2022-11-23T23:00:55.804Z"
   },
   {
    "duration": 0,
    "start_time": "2022-11-23T23:00:55.806Z"
   },
   {
    "duration": 0,
    "start_time": "2022-11-23T23:00:55.807Z"
   },
   {
    "duration": 0,
    "start_time": "2022-11-23T23:00:55.809Z"
   },
   {
    "duration": 0,
    "start_time": "2022-11-23T23:00:55.810Z"
   },
   {
    "duration": 0,
    "start_time": "2022-11-23T23:00:55.811Z"
   },
   {
    "duration": 0,
    "start_time": "2022-11-23T23:00:55.813Z"
   },
   {
    "duration": 9,
    "start_time": "2022-11-23T23:04:18.673Z"
   },
   {
    "duration": 3,
    "start_time": "2022-11-23T23:05:36.974Z"
   },
   {
    "duration": 3,
    "start_time": "2022-11-23T23:05:37.652Z"
   },
   {
    "duration": 62,
    "start_time": "2022-11-23T23:05:41.362Z"
   },
   {
    "duration": 32,
    "start_time": "2022-11-23T23:05:41.777Z"
   },
   {
    "duration": 11,
    "start_time": "2022-11-23T23:05:43.247Z"
   },
   {
    "duration": 12,
    "start_time": "2022-11-23T23:06:02.078Z"
   },
   {
    "duration": 11,
    "start_time": "2022-11-23T23:07:28.691Z"
   },
   {
    "duration": 1344,
    "start_time": "2022-11-23T23:07:53.401Z"
   },
   {
    "duration": 892,
    "start_time": "2022-11-23T23:07:54.747Z"
   },
   {
    "duration": 4,
    "start_time": "2022-11-23T23:07:55.641Z"
   },
   {
    "duration": 653,
    "start_time": "2022-11-23T23:07:55.646Z"
   },
   {
    "duration": 7,
    "start_time": "2022-11-23T23:07:56.304Z"
   },
   {
    "duration": 11,
    "start_time": "2022-11-23T23:07:56.313Z"
   },
   {
    "duration": 312,
    "start_time": "2022-11-23T23:07:56.325Z"
   },
   {
    "duration": 3658,
    "start_time": "2022-11-23T23:07:56.640Z"
   },
   {
    "duration": 50,
    "start_time": "2022-11-23T23:08:00.300Z"
   },
   {
    "duration": 2,
    "start_time": "2022-11-23T23:08:00.353Z"
   },
   {
    "duration": 19,
    "start_time": "2022-11-23T23:08:00.357Z"
   },
   {
    "duration": 76,
    "start_time": "2022-11-23T23:08:00.378Z"
   },
   {
    "duration": 32,
    "start_time": "2022-11-23T23:08:00.456Z"
   },
   {
    "duration": 1157,
    "start_time": "2022-11-23T23:08:00.489Z"
   },
   {
    "duration": 0,
    "start_time": "2022-11-23T23:08:01.648Z"
   },
   {
    "duration": 0,
    "start_time": "2022-11-23T23:08:01.650Z"
   },
   {
    "duration": 0,
    "start_time": "2022-11-23T23:08:01.651Z"
   },
   {
    "duration": 0,
    "start_time": "2022-11-23T23:08:01.652Z"
   },
   {
    "duration": 0,
    "start_time": "2022-11-23T23:08:01.653Z"
   },
   {
    "duration": 0,
    "start_time": "2022-11-23T23:08:01.654Z"
   },
   {
    "duration": 0,
    "start_time": "2022-11-23T23:08:01.656Z"
   },
   {
    "duration": 11,
    "start_time": "2022-11-23T23:08:30.967Z"
   },
   {
    "duration": 1309,
    "start_time": "2022-11-23T23:08:36.025Z"
   },
   {
    "duration": 848,
    "start_time": "2022-11-23T23:08:37.341Z"
   },
   {
    "duration": 4,
    "start_time": "2022-11-23T23:08:38.191Z"
   },
   {
    "duration": 632,
    "start_time": "2022-11-23T23:08:38.205Z"
   },
   {
    "duration": 6,
    "start_time": "2022-11-23T23:08:38.838Z"
   },
   {
    "duration": 12,
    "start_time": "2022-11-23T23:08:38.846Z"
   },
   {
    "duration": 308,
    "start_time": "2022-11-23T23:08:38.860Z"
   },
   {
    "duration": 3768,
    "start_time": "2022-11-23T23:08:39.169Z"
   },
   {
    "duration": 45,
    "start_time": "2022-11-23T23:08:42.939Z"
   },
   {
    "duration": 19,
    "start_time": "2022-11-23T23:08:42.986Z"
   },
   {
    "duration": 9,
    "start_time": "2022-11-23T23:08:43.007Z"
   },
   {
    "duration": 65,
    "start_time": "2022-11-23T23:08:43.017Z"
   },
   {
    "duration": 41,
    "start_time": "2022-11-23T23:08:43.084Z"
   },
   {
    "duration": 1150,
    "start_time": "2022-11-23T23:08:43.127Z"
   },
   {
    "duration": 0,
    "start_time": "2022-11-23T23:08:44.279Z"
   },
   {
    "duration": 0,
    "start_time": "2022-11-23T23:08:44.281Z"
   },
   {
    "duration": 0,
    "start_time": "2022-11-23T23:08:44.282Z"
   },
   {
    "duration": 0,
    "start_time": "2022-11-23T23:08:44.284Z"
   },
   {
    "duration": 0,
    "start_time": "2022-11-23T23:08:44.285Z"
   },
   {
    "duration": 0,
    "start_time": "2022-11-23T23:08:44.287Z"
   },
   {
    "duration": 0,
    "start_time": "2022-11-23T23:08:44.288Z"
   },
   {
    "duration": 5,
    "start_time": "2022-11-23T23:08:58.521Z"
   },
   {
    "duration": 5,
    "start_time": "2022-11-23T23:09:10.948Z"
   },
   {
    "duration": 1333,
    "start_time": "2022-11-23T23:09:39.617Z"
   },
   {
    "duration": 860,
    "start_time": "2022-11-23T23:09:40.952Z"
   },
   {
    "duration": 4,
    "start_time": "2022-11-23T23:09:41.814Z"
   },
   {
    "duration": 661,
    "start_time": "2022-11-23T23:09:41.820Z"
   },
   {
    "duration": 6,
    "start_time": "2022-11-23T23:09:42.483Z"
   },
   {
    "duration": 20,
    "start_time": "2022-11-23T23:09:42.490Z"
   },
   {
    "duration": 295,
    "start_time": "2022-11-23T23:09:42.512Z"
   },
   {
    "duration": 3550,
    "start_time": "2022-11-23T23:09:42.809Z"
   },
   {
    "duration": 47,
    "start_time": "2022-11-23T23:09:46.360Z"
   },
   {
    "duration": 3,
    "start_time": "2022-11-23T23:09:46.409Z"
   },
   {
    "duration": 12,
    "start_time": "2022-11-23T23:09:46.413Z"
   },
   {
    "duration": 59,
    "start_time": "2022-11-23T23:09:46.426Z"
   },
   {
    "duration": 43,
    "start_time": "2022-11-23T23:09:46.487Z"
   },
   {
    "duration": 11259,
    "start_time": "2022-11-23T23:09:46.532Z"
   },
   {
    "duration": 2,
    "start_time": "2022-11-23T23:09:57.793Z"
   },
   {
    "duration": 1539,
    "start_time": "2022-11-23T23:09:57.797Z"
   },
   {
    "duration": 2,
    "start_time": "2022-11-23T23:09:59.338Z"
   },
   {
    "duration": 91,
    "start_time": "2022-11-23T23:09:59.341Z"
   },
   {
    "duration": 9,
    "start_time": "2022-11-23T23:09:59.434Z"
   },
   {
    "duration": 0,
    "start_time": "2022-11-23T23:09:59.445Z"
   },
   {
    "duration": 0,
    "start_time": "2022-11-23T23:09:59.446Z"
   },
   {
    "duration": 83,
    "start_time": "2022-11-23T23:10:51.999Z"
   },
   {
    "duration": 74,
    "start_time": "2022-11-23T23:11:10.871Z"
   },
   {
    "duration": 1378,
    "start_time": "2022-11-23T23:11:16.472Z"
   },
   {
    "duration": 876,
    "start_time": "2022-11-23T23:11:17.852Z"
   },
   {
    "duration": 4,
    "start_time": "2022-11-23T23:11:18.730Z"
   },
   {
    "duration": 605,
    "start_time": "2022-11-23T23:11:18.735Z"
   },
   {
    "duration": 6,
    "start_time": "2022-11-23T23:11:19.342Z"
   },
   {
    "duration": 22,
    "start_time": "2022-11-23T23:11:19.350Z"
   },
   {
    "duration": 289,
    "start_time": "2022-11-23T23:11:19.373Z"
   },
   {
    "duration": 3589,
    "start_time": "2022-11-23T23:11:19.663Z"
   },
   {
    "duration": 52,
    "start_time": "2022-11-23T23:11:23.253Z"
   },
   {
    "duration": 71,
    "start_time": "2022-11-23T23:11:23.306Z"
   },
   {
    "duration": 0,
    "start_time": "2022-11-23T23:11:23.379Z"
   },
   {
    "duration": 0,
    "start_time": "2022-11-23T23:11:23.380Z"
   },
   {
    "duration": 0,
    "start_time": "2022-11-23T23:11:23.381Z"
   },
   {
    "duration": 0,
    "start_time": "2022-11-23T23:11:23.382Z"
   },
   {
    "duration": 0,
    "start_time": "2022-11-23T23:11:23.383Z"
   },
   {
    "duration": 0,
    "start_time": "2022-11-23T23:11:23.384Z"
   },
   {
    "duration": 0,
    "start_time": "2022-11-23T23:11:23.385Z"
   },
   {
    "duration": 0,
    "start_time": "2022-11-23T23:11:23.386Z"
   },
   {
    "duration": 0,
    "start_time": "2022-11-23T23:11:23.387Z"
   },
   {
    "duration": 0,
    "start_time": "2022-11-23T23:11:23.388Z"
   },
   {
    "duration": 0,
    "start_time": "2022-11-23T23:11:23.389Z"
   },
   {
    "duration": 3,
    "start_time": "2022-11-23T23:13:14.511Z"
   },
   {
    "duration": 4,
    "start_time": "2022-11-23T23:13:18.058Z"
   },
   {
    "duration": 122,
    "start_time": "2022-11-23T23:13:26.222Z"
   },
   {
    "duration": 11,
    "start_time": "2022-11-23T23:13:54.494Z"
   },
   {
    "duration": 3,
    "start_time": "2022-11-23T23:13:58.877Z"
   },
   {
    "duration": 14,
    "start_time": "2022-11-23T23:14:41.372Z"
   },
   {
    "duration": 3,
    "start_time": "2022-11-23T23:14:42.233Z"
   },
   {
    "duration": 53,
    "start_time": "2022-11-23T23:14:43.410Z"
   },
   {
    "duration": 29,
    "start_time": "2022-11-23T23:14:43.857Z"
   },
   {
    "duration": 1319,
    "start_time": "2022-11-23T23:14:46.186Z"
   },
   {
    "duration": 11,
    "start_time": "2022-11-23T23:15:10.818Z"
   },
   {
    "duration": 12,
    "start_time": "2022-11-23T23:15:16.366Z"
   },
   {
    "duration": 1240,
    "start_time": "2022-11-23T23:15:21.165Z"
   },
   {
    "duration": 818,
    "start_time": "2022-11-23T23:15:22.406Z"
   },
   {
    "duration": 4,
    "start_time": "2022-11-23T23:15:23.226Z"
   },
   {
    "duration": 599,
    "start_time": "2022-11-23T23:15:23.232Z"
   },
   {
    "duration": 6,
    "start_time": "2022-11-23T23:15:23.833Z"
   },
   {
    "duration": 12,
    "start_time": "2022-11-23T23:15:23.841Z"
   },
   {
    "duration": 306,
    "start_time": "2022-11-23T23:15:23.854Z"
   },
   {
    "duration": 3625,
    "start_time": "2022-11-23T23:15:24.162Z"
   },
   {
    "duration": 50,
    "start_time": "2022-11-23T23:15:27.788Z"
   },
   {
    "duration": 8,
    "start_time": "2022-11-23T23:15:27.840Z"
   },
   {
    "duration": 17,
    "start_time": "2022-11-23T23:15:27.849Z"
   },
   {
    "duration": 61,
    "start_time": "2022-11-23T23:15:27.867Z"
   },
   {
    "duration": 29,
    "start_time": "2022-11-23T23:15:27.930Z"
   },
   {
    "duration": 11393,
    "start_time": "2022-11-23T23:15:27.962Z"
   },
   {
    "duration": 2,
    "start_time": "2022-11-23T23:15:39.357Z"
   },
   {
    "duration": 1291,
    "start_time": "2022-11-23T23:15:39.360Z"
   },
   {
    "duration": 3,
    "start_time": "2022-11-23T23:15:40.652Z"
   },
   {
    "duration": 96,
    "start_time": "2022-11-23T23:15:40.657Z"
   },
   {
    "duration": 9,
    "start_time": "2022-11-23T23:15:40.754Z"
   },
   {
    "duration": 0,
    "start_time": "2022-11-23T23:15:40.764Z"
   },
   {
    "duration": 0,
    "start_time": "2022-11-23T23:15:40.765Z"
   },
   {
    "duration": 4,
    "start_time": "2022-11-23T23:16:33.808Z"
   },
   {
    "duration": 13,
    "start_time": "2022-11-23T23:16:41.498Z"
   },
   {
    "duration": 11,
    "start_time": "2022-11-23T23:18:53.134Z"
   },
   {
    "duration": 1296,
    "start_time": "2022-11-23T23:18:58.604Z"
   },
   {
    "duration": 863,
    "start_time": "2022-11-23T23:18:59.904Z"
   },
   {
    "duration": 3,
    "start_time": "2022-11-23T23:19:00.769Z"
   },
   {
    "duration": 656,
    "start_time": "2022-11-23T23:19:00.775Z"
   },
   {
    "duration": 6,
    "start_time": "2022-11-23T23:19:01.433Z"
   },
   {
    "duration": 50,
    "start_time": "2022-11-23T23:19:01.441Z"
   },
   {
    "duration": 311,
    "start_time": "2022-11-23T23:19:01.493Z"
   },
   {
    "duration": 3542,
    "start_time": "2022-11-23T23:19:01.806Z"
   },
   {
    "duration": 55,
    "start_time": "2022-11-23T23:19:05.350Z"
   },
   {
    "duration": 10,
    "start_time": "2022-11-23T23:19:05.408Z"
   },
   {
    "duration": 10,
    "start_time": "2022-11-23T23:19:05.419Z"
   },
   {
    "duration": 57,
    "start_time": "2022-11-23T23:19:05.431Z"
   },
   {
    "duration": 35,
    "start_time": "2022-11-23T23:19:05.489Z"
   },
   {
    "duration": 11445,
    "start_time": "2022-11-23T23:19:05.525Z"
   },
   {
    "duration": 2,
    "start_time": "2022-11-23T23:19:16.972Z"
   },
   {
    "duration": 367877,
    "start_time": "2022-11-23T23:19:16.976Z"
   },
   {
    "duration": 3,
    "start_time": "2022-11-23T23:25:24.854Z"
   },
   {
    "duration": 39551,
    "start_time": "2022-11-23T23:25:24.858Z"
   },
   {
    "duration": 24,
    "start_time": "2022-11-23T23:26:04.411Z"
   },
   {
    "duration": 3,
    "start_time": "2022-11-23T23:26:04.436Z"
   },
   {
    "duration": 151,
    "start_time": "2022-11-23T23:26:04.441Z"
   },
   {
    "duration": 3,
    "start_time": "2022-11-23T23:26:58.604Z"
   },
   {
    "duration": 7,
    "start_time": "2022-11-23T23:27:07.900Z"
   },
   {
    "duration": 3,
    "start_time": "2022-11-23T23:27:26.802Z"
   },
   {
    "duration": 6,
    "start_time": "2022-11-23T23:27:28.061Z"
   },
   {
    "duration": 43431,
    "start_time": "2022-11-23T23:28:41.691Z"
   },
   {
    "duration": 2,
    "start_time": "2022-11-23T23:30:03.649Z"
   },
   {
    "duration": 1365,
    "start_time": "2022-11-23T23:31:39.691Z"
   },
   {
    "duration": 863,
    "start_time": "2022-11-23T23:31:41.058Z"
   },
   {
    "duration": 5,
    "start_time": "2022-11-23T23:31:41.923Z"
   },
   {
    "duration": 640,
    "start_time": "2022-11-23T23:31:41.930Z"
   },
   {
    "duration": 8,
    "start_time": "2022-11-23T23:31:42.573Z"
   },
   {
    "duration": 27,
    "start_time": "2022-11-23T23:31:42.582Z"
   },
   {
    "duration": 299,
    "start_time": "2022-11-23T23:31:42.611Z"
   },
   {
    "duration": 3568,
    "start_time": "2022-11-23T23:31:42.911Z"
   },
   {
    "duration": 57,
    "start_time": "2022-11-23T23:31:46.481Z"
   },
   {
    "duration": 12,
    "start_time": "2022-11-23T23:31:46.540Z"
   },
   {
    "duration": 3,
    "start_time": "2022-11-23T23:31:46.554Z"
   },
   {
    "duration": 90,
    "start_time": "2022-11-23T23:31:46.559Z"
   },
   {
    "duration": 30,
    "start_time": "2022-11-23T23:31:46.651Z"
   },
   {
    "duration": 11410,
    "start_time": "2022-11-23T23:31:46.683Z"
   },
   {
    "duration": 10,
    "start_time": "2022-11-23T23:31:58.094Z"
   },
   {
    "duration": 86555,
    "start_time": "2022-11-23T23:31:58.106Z"
   },
   {
    "duration": 2,
    "start_time": "2022-11-23T23:33:24.663Z"
   },
   {
    "duration": 38446,
    "start_time": "2022-11-23T23:33:24.667Z"
   },
   {
    "duration": 23,
    "start_time": "2022-11-23T23:34:03.114Z"
   },
   {
    "duration": 3,
    "start_time": "2022-11-23T23:34:03.139Z"
   },
   {
    "duration": 42281,
    "start_time": "2022-11-23T23:34:03.144Z"
   },
   {
    "duration": 3,
    "start_time": "2022-11-23T23:34:45.426Z"
   },
   {
    "duration": 27,
    "start_time": "2022-11-23T23:34:45.431Z"
   },
   {
    "duration": 4,
    "start_time": "2022-11-23T23:36:38.721Z"
   },
   {
    "duration": 141,
    "start_time": "2022-11-23T23:38:31.526Z"
   },
   {
    "duration": 154,
    "start_time": "2022-11-23T23:38:55.588Z"
   },
   {
    "duration": 141,
    "start_time": "2022-11-23T23:39:04.889Z"
   },
   {
    "duration": 232,
    "start_time": "2022-11-23T23:39:11.069Z"
   },
   {
    "duration": 195,
    "start_time": "2022-11-23T23:39:57.227Z"
   },
   {
    "duration": 3,
    "start_time": "2022-11-23T23:49:08.700Z"
   },
   {
    "duration": 7,
    "start_time": "2022-11-23T23:49:09.921Z"
   },
   {
    "duration": 119,
    "start_time": "2022-11-23T23:49:30.569Z"
   },
   {
    "duration": 71,
    "start_time": "2022-11-23T23:50:48.588Z"
   },
   {
    "duration": 10,
    "start_time": "2022-11-23T23:51:03.114Z"
   },
   {
    "duration": 4,
    "start_time": "2022-11-23T23:51:09.391Z"
   },
   {
    "duration": 7,
    "start_time": "2022-11-23T23:51:17.591Z"
   },
   {
    "duration": 7,
    "start_time": "2022-11-23T23:52:23.105Z"
   },
   {
    "duration": 75,
    "start_time": "2022-11-23T23:52:36.331Z"
   },
   {
    "duration": 7,
    "start_time": "2022-11-23T23:52:41.208Z"
   },
   {
    "duration": 68,
    "start_time": "2022-11-23T23:52:48.500Z"
   },
   {
    "duration": 6,
    "start_time": "2022-11-23T23:54:06.980Z"
   },
   {
    "duration": 7,
    "start_time": "2022-11-23T23:54:41.665Z"
   },
   {
    "duration": 6,
    "start_time": "2022-11-23T23:54:52.173Z"
   },
   {
    "duration": 2294,
    "start_time": "2022-11-24T11:23:08.636Z"
   },
   {
    "duration": 2323,
    "start_time": "2022-11-24T11:23:10.932Z"
   },
   {
    "duration": 5,
    "start_time": "2022-11-24T11:23:13.569Z"
   },
   {
    "duration": 367,
    "start_time": "2022-11-24T11:23:14.098Z"
   },
   {
    "duration": 8,
    "start_time": "2022-11-24T11:23:14.993Z"
   },
   {
    "duration": 10,
    "start_time": "2022-11-24T11:23:15.401Z"
   },
   {
    "duration": 9,
    "start_time": "2022-11-24T11:29:21.534Z"
   },
   {
    "duration": 294,
    "start_time": "2022-11-24T11:29:23.910Z"
   },
   {
    "duration": 4140,
    "start_time": "2022-11-24T11:29:26.141Z"
   },
   {
    "duration": 39,
    "start_time": "2022-11-24T11:29:30.283Z"
   },
   {
    "duration": 1713,
    "start_time": "2022-11-24T12:09:42.309Z"
   },
   {
    "duration": 3516,
    "start_time": "2022-11-24T12:09:44.024Z"
   },
   {
    "duration": 4,
    "start_time": "2022-11-24T12:09:47.542Z"
   },
   {
    "duration": 343,
    "start_time": "2022-11-24T12:09:47.548Z"
   },
   {
    "duration": 6,
    "start_time": "2022-11-24T12:09:47.893Z"
   },
   {
    "duration": 20,
    "start_time": "2022-11-24T12:09:47.900Z"
   },
   {
    "duration": 251,
    "start_time": "2022-11-24T12:09:47.921Z"
   },
   {
    "duration": 68,
    "start_time": "2022-11-24T12:09:48.173Z"
   },
   {
    "duration": 0,
    "start_time": "2022-11-24T12:09:48.243Z"
   },
   {
    "duration": 0,
    "start_time": "2022-11-24T12:09:48.244Z"
   },
   {
    "duration": 0,
    "start_time": "2022-11-24T12:09:48.245Z"
   },
   {
    "duration": 0,
    "start_time": "2022-11-24T12:09:48.246Z"
   },
   {
    "duration": 0,
    "start_time": "2022-11-24T12:09:48.247Z"
   },
   {
    "duration": 0,
    "start_time": "2022-11-24T12:09:48.248Z"
   },
   {
    "duration": 0,
    "start_time": "2022-11-24T12:09:48.249Z"
   },
   {
    "duration": 0,
    "start_time": "2022-11-24T12:09:48.250Z"
   },
   {
    "duration": 0,
    "start_time": "2022-11-24T12:09:48.251Z"
   },
   {
    "duration": 0,
    "start_time": "2022-11-24T12:09:48.252Z"
   },
   {
    "duration": 0,
    "start_time": "2022-11-24T12:09:48.253Z"
   },
   {
    "duration": 0,
    "start_time": "2022-11-24T12:09:48.254Z"
   },
   {
    "duration": 0,
    "start_time": "2022-11-24T12:09:48.255Z"
   },
   {
    "duration": 0,
    "start_time": "2022-11-24T12:09:48.256Z"
   },
   {
    "duration": 0,
    "start_time": "2022-11-24T12:09:48.257Z"
   },
   {
    "duration": 0,
    "start_time": "2022-11-24T12:09:48.258Z"
   },
   {
    "duration": 3452,
    "start_time": "2022-11-24T12:11:49.609Z"
   },
   {
    "duration": 1485,
    "start_time": "2022-11-24T12:11:58.131Z"
   },
   {
    "duration": 671,
    "start_time": "2022-11-24T12:11:59.618Z"
   },
   {
    "duration": 5,
    "start_time": "2022-11-24T12:12:00.291Z"
   },
   {
    "duration": 352,
    "start_time": "2022-11-24T12:12:00.298Z"
   },
   {
    "duration": 6,
    "start_time": "2022-11-24T12:12:00.652Z"
   },
   {
    "duration": 24,
    "start_time": "2022-11-24T12:12:00.660Z"
   },
   {
    "duration": 250,
    "start_time": "2022-11-24T12:12:00.685Z"
   },
   {
    "duration": 3424,
    "start_time": "2022-11-24T12:12:00.937Z"
   },
   {
    "duration": 30,
    "start_time": "2022-11-24T12:12:04.362Z"
   },
   {
    "duration": 8,
    "start_time": "2022-11-24T12:12:04.395Z"
   },
   {
    "duration": 3,
    "start_time": "2022-11-24T12:12:04.413Z"
   },
   {
    "duration": 54,
    "start_time": "2022-11-24T12:12:04.418Z"
   },
   {
    "duration": 43,
    "start_time": "2022-11-24T12:12:04.473Z"
   },
   {
    "duration": 11042,
    "start_time": "2022-11-24T12:12:04.518Z"
   },
   {
    "duration": 3,
    "start_time": "2022-11-24T12:12:15.561Z"
   },
   {
    "duration": 79713,
    "start_time": "2022-11-24T12:12:15.565Z"
   },
   {
    "duration": 3,
    "start_time": "2022-11-24T12:13:35.279Z"
   },
   {
    "duration": 35330,
    "start_time": "2022-11-24T12:13:35.284Z"
   },
   {
    "duration": 12,
    "start_time": "2022-11-24T12:14:10.616Z"
   },
   {
    "duration": 13,
    "start_time": "2022-11-24T12:14:10.630Z"
   },
   {
    "duration": 39567,
    "start_time": "2022-11-24T12:14:10.645Z"
   },
   {
    "duration": 2,
    "start_time": "2022-11-24T12:14:50.214Z"
   },
   {
    "duration": 9,
    "start_time": "2022-11-24T12:14:50.218Z"
   },
   {
    "duration": 14,
    "start_time": "2022-11-24T12:14:50.229Z"
   },
   {
    "duration": 1530,
    "start_time": "2022-11-24T12:19:14.634Z"
   },
   {
    "duration": 693,
    "start_time": "2022-11-24T12:19:16.166Z"
   },
   {
    "duration": 4,
    "start_time": "2022-11-24T12:19:16.861Z"
   },
   {
    "duration": 355,
    "start_time": "2022-11-24T12:19:16.867Z"
   },
   {
    "duration": 7,
    "start_time": "2022-11-24T12:19:17.223Z"
   },
   {
    "duration": 7,
    "start_time": "2022-11-24T12:19:17.231Z"
   },
   {
    "duration": 286,
    "start_time": "2022-11-24T12:19:17.239Z"
   },
   {
    "duration": 3498,
    "start_time": "2022-11-24T12:19:17.527Z"
   },
   {
    "duration": 37,
    "start_time": "2022-11-24T12:19:21.026Z"
   },
   {
    "duration": 9,
    "start_time": "2022-11-24T12:19:21.065Z"
   },
   {
    "duration": 7,
    "start_time": "2022-11-24T12:19:21.075Z"
   },
   {
    "duration": 78,
    "start_time": "2022-11-24T12:19:21.083Z"
   },
   {
    "duration": 27,
    "start_time": "2022-11-24T12:19:21.163Z"
   },
   {
    "duration": 6384,
    "start_time": "2022-11-24T12:19:21.191Z"
   },
   {
    "duration": 3,
    "start_time": "2022-11-24T12:19:27.577Z"
   },
   {
    "duration": 80158,
    "start_time": "2022-11-24T12:19:27.581Z"
   },
   {
    "duration": 2,
    "start_time": "2022-11-24T12:20:47.741Z"
   },
   {
    "duration": 37186,
    "start_time": "2022-11-24T12:20:47.745Z"
   },
   {
    "duration": 17,
    "start_time": "2022-11-24T12:21:25.013Z"
   },
   {
    "duration": 14,
    "start_time": "2022-11-24T12:21:25.032Z"
   },
   {
    "duration": 40578,
    "start_time": "2022-11-24T12:21:25.047Z"
   },
   {
    "duration": 2,
    "start_time": "2022-11-24T12:22:05.627Z"
   },
   {
    "duration": 8,
    "start_time": "2022-11-24T12:22:05.630Z"
   },
   {
    "duration": 9,
    "start_time": "2022-11-24T12:22:05.712Z"
   },
   {
    "duration": 18,
    "start_time": "2022-11-24T12:36:23.226Z"
   },
   {
    "duration": 117,
    "start_time": "2022-11-24T12:41:17.692Z"
   },
   {
    "duration": 4,
    "start_time": "2022-11-24T12:41:21.835Z"
   },
   {
    "duration": 3,
    "start_time": "2022-11-24T12:41:29.763Z"
   },
   {
    "duration": 1136,
    "start_time": "2022-11-24T12:42:31.093Z"
   },
   {
    "duration": 2,
    "start_time": "2022-11-24T12:42:52.068Z"
   },
   {
    "duration": 3,
    "start_time": "2022-11-24T12:42:56.413Z"
   },
   {
    "duration": 4,
    "start_time": "2022-11-24T12:43:17.270Z"
   },
   {
    "duration": 75,
    "start_time": "2022-11-24T12:44:05.217Z"
   },
   {
    "duration": 3,
    "start_time": "2022-11-24T12:44:10.229Z"
   },
   {
    "duration": 3,
    "start_time": "2022-11-24T12:44:18.568Z"
   },
   {
    "duration": 2,
    "start_time": "2022-11-24T12:44:32.588Z"
   },
   {
    "duration": 3,
    "start_time": "2022-11-24T12:44:34.498Z"
   },
   {
    "duration": 3,
    "start_time": "2022-11-24T12:52:09.337Z"
   },
   {
    "duration": 1192,
    "start_time": "2022-11-24T12:53:38.570Z"
   },
   {
    "duration": 1087,
    "start_time": "2022-11-24T12:54:13.299Z"
   },
   {
    "duration": 1520,
    "start_time": "2022-11-24T12:54:19.378Z"
   },
   {
    "duration": 750,
    "start_time": "2022-11-24T12:54:20.900Z"
   },
   {
    "duration": 4,
    "start_time": "2022-11-24T12:54:21.652Z"
   },
   {
    "duration": 477,
    "start_time": "2022-11-24T12:54:21.659Z"
   },
   {
    "duration": 7,
    "start_time": "2022-11-24T12:54:22.138Z"
   },
   {
    "duration": 15,
    "start_time": "2022-11-24T12:54:22.146Z"
   },
   {
    "duration": 285,
    "start_time": "2022-11-24T12:54:22.162Z"
   },
   {
    "duration": 4,
    "start_time": "2022-11-24T12:54:22.449Z"
   },
   {
    "duration": 5215,
    "start_time": "2022-11-24T12:54:22.454Z"
   },
   {
    "duration": 56,
    "start_time": "2022-11-24T12:54:27.671Z"
   },
   {
    "duration": 4,
    "start_time": "2022-11-24T12:54:27.728Z"
   },
   {
    "duration": 9,
    "start_time": "2022-11-24T12:54:27.733Z"
   },
   {
    "duration": 14,
    "start_time": "2022-11-24T12:54:27.744Z"
   },
   {
    "duration": 10,
    "start_time": "2022-11-24T12:54:27.759Z"
   },
   {
    "duration": 66,
    "start_time": "2022-11-24T12:54:27.771Z"
   },
   {
    "duration": 24,
    "start_time": "2022-11-24T12:54:27.838Z"
   },
   {
    "duration": 6747,
    "start_time": "2022-11-24T12:54:27.863Z"
   },
   {
    "duration": 4,
    "start_time": "2022-11-24T12:54:34.612Z"
   },
   {
    "duration": 99632,
    "start_time": "2022-11-24T12:54:34.617Z"
   },
   {
    "duration": 3,
    "start_time": "2022-11-24T12:56:14.251Z"
   },
   {
    "duration": 43462,
    "start_time": "2022-11-24T12:56:14.255Z"
   },
   {
    "duration": 10,
    "start_time": "2022-11-24T12:56:57.719Z"
   },
   {
    "duration": 2,
    "start_time": "2022-11-24T12:56:57.731Z"
   },
   {
    "duration": 37091,
    "start_time": "2022-11-24T12:56:57.735Z"
   },
   {
    "duration": 3,
    "start_time": "2022-11-24T12:57:34.827Z"
   },
   {
    "duration": 12,
    "start_time": "2022-11-24T12:57:34.832Z"
   },
   {
    "duration": 68,
    "start_time": "2022-11-24T12:57:34.846Z"
   },
   {
    "duration": 139,
    "start_time": "2022-11-24T12:57:34.917Z"
   },
   {
    "duration": 0,
    "start_time": "2022-11-24T12:57:35.058Z"
   },
   {
    "duration": 10,
    "start_time": "2022-11-24T12:58:41.015Z"
   },
   {
    "duration": 2696,
    "start_time": "2022-11-24T12:58:46.347Z"
   },
   {
    "duration": 546,
    "start_time": "2022-11-24T12:58:52.717Z"
   },
   {
    "duration": 4,
    "start_time": "2022-11-24T12:59:57.798Z"
   },
   {
    "duration": 1471,
    "start_time": "2022-11-24T13:00:59.338Z"
   },
   {
    "duration": 797,
    "start_time": "2022-11-24T13:01:00.811Z"
   },
   {
    "duration": 5,
    "start_time": "2022-11-24T13:01:01.609Z"
   },
   {
    "duration": 445,
    "start_time": "2022-11-24T13:01:01.616Z"
   },
   {
    "duration": 6,
    "start_time": "2022-11-24T13:01:02.062Z"
   },
   {
    "duration": 10,
    "start_time": "2022-11-24T13:01:02.070Z"
   },
   {
    "duration": 304,
    "start_time": "2022-11-24T13:01:02.081Z"
   },
   {
    "duration": 2,
    "start_time": "2022-11-24T13:01:02.387Z"
   },
   {
    "duration": 5219,
    "start_time": "2022-11-24T13:01:02.391Z"
   },
   {
    "duration": 4,
    "start_time": "2022-11-24T13:01:07.613Z"
   },
   {
    "duration": 55,
    "start_time": "2022-11-24T13:01:07.618Z"
   },
   {
    "duration": 9,
    "start_time": "2022-11-24T13:01:07.674Z"
   },
   {
    "duration": 7,
    "start_time": "2022-11-24T13:01:07.684Z"
   },
   {
    "duration": 71,
    "start_time": "2022-11-24T13:01:07.692Z"
   },
   {
    "duration": 22,
    "start_time": "2022-11-24T13:01:07.765Z"
   },
   {
    "duration": 6730,
    "start_time": "2022-11-24T13:01:07.788Z"
   },
   {
    "duration": 2,
    "start_time": "2022-11-24T13:01:14.520Z"
   },
   {
    "duration": 1452,
    "start_time": "2022-11-24T13:02:38.080Z"
   },
   {
    "duration": 815,
    "start_time": "2022-11-24T13:02:39.534Z"
   },
   {
    "duration": 5,
    "start_time": "2022-11-24T13:02:40.352Z"
   },
   {
    "duration": 487,
    "start_time": "2022-11-24T13:02:40.360Z"
   },
   {
    "duration": 6,
    "start_time": "2022-11-24T13:02:40.849Z"
   },
   {
    "duration": 11,
    "start_time": "2022-11-24T13:02:40.857Z"
   },
   {
    "duration": 316,
    "start_time": "2022-11-24T13:02:40.870Z"
   },
   {
    "duration": 2,
    "start_time": "2022-11-24T13:02:41.188Z"
   },
   {
    "duration": 5150,
    "start_time": "2022-11-24T13:02:41.191Z"
   },
   {
    "duration": 3,
    "start_time": "2022-11-24T13:02:46.344Z"
   },
   {
    "duration": 6,
    "start_time": "2022-11-24T13:02:46.349Z"
   },
   {
    "duration": 73,
    "start_time": "2022-11-24T13:02:46.356Z"
   },
   {
    "duration": 9,
    "start_time": "2022-11-24T13:02:46.431Z"
   },
   {
    "duration": 7,
    "start_time": "2022-11-24T13:02:46.442Z"
   },
   {
    "duration": 65,
    "start_time": "2022-11-24T13:02:46.450Z"
   },
   {
    "duration": 24,
    "start_time": "2022-11-24T13:02:46.517Z"
   },
   {
    "duration": 6614,
    "start_time": "2022-11-24T13:02:46.542Z"
   },
   {
    "duration": 3,
    "start_time": "2022-11-24T13:02:53.157Z"
   },
   {
    "duration": 98712,
    "start_time": "2022-11-24T13:02:53.162Z"
   },
   {
    "duration": 2,
    "start_time": "2022-11-24T13:04:31.876Z"
   },
   {
    "duration": 43933,
    "start_time": "2022-11-24T13:04:31.881Z"
   },
   {
    "duration": 10,
    "start_time": "2022-11-24T13:05:15.816Z"
   },
   {
    "duration": 7,
    "start_time": "2022-11-24T13:05:15.828Z"
   },
   {
    "duration": 38385,
    "start_time": "2022-11-24T13:05:15.836Z"
   },
   {
    "duration": 3,
    "start_time": "2022-11-24T13:05:54.222Z"
   },
   {
    "duration": 8,
    "start_time": "2022-11-24T13:05:54.226Z"
   },
   {
    "duration": 78,
    "start_time": "2022-11-24T13:05:54.236Z"
   },
   {
    "duration": 131,
    "start_time": "2022-11-24T13:05:54.317Z"
   },
   {
    "duration": 5,
    "start_time": "2022-11-24T13:07:19.102Z"
   },
   {
    "duration": 3,
    "start_time": "2022-11-24T13:07:28.390Z"
   },
   {
    "duration": 16,
    "start_time": "2022-11-24T13:07:42.751Z"
   },
   {
    "duration": 199,
    "start_time": "2022-11-24T13:12:22.538Z"
   },
   {
    "duration": 14,
    "start_time": "2022-11-24T13:12:26.562Z"
   },
   {
    "duration": 3,
    "start_time": "2022-11-24T13:19:57.942Z"
   },
   {
    "duration": 3,
    "start_time": "2022-11-24T13:20:54.851Z"
   },
   {
    "duration": 1172,
    "start_time": "2022-11-24T13:20:55.849Z"
   },
   {
    "duration": 1419,
    "start_time": "2022-11-24T13:21:05.476Z"
   },
   {
    "duration": 750,
    "start_time": "2022-11-24T13:21:06.897Z"
   },
   {
    "duration": 4,
    "start_time": "2022-11-24T13:21:07.649Z"
   },
   {
    "duration": 423,
    "start_time": "2022-11-24T13:21:07.654Z"
   },
   {
    "duration": 6,
    "start_time": "2022-11-24T13:21:08.079Z"
   },
   {
    "duration": 8,
    "start_time": "2022-11-24T13:21:08.086Z"
   },
   {
    "duration": 460,
    "start_time": "2022-11-24T13:21:08.095Z"
   },
   {
    "duration": 3,
    "start_time": "2022-11-24T13:21:08.556Z"
   },
   {
    "duration": 3,
    "start_time": "2022-11-24T13:21:08.613Z"
   },
   {
    "duration": 1515,
    "start_time": "2022-11-24T13:21:08.618Z"
   },
   {
    "duration": 0,
    "start_time": "2022-11-24T13:21:10.135Z"
   },
   {
    "duration": 0,
    "start_time": "2022-11-24T13:21:10.136Z"
   },
   {
    "duration": 0,
    "start_time": "2022-11-24T13:21:10.137Z"
   },
   {
    "duration": 0,
    "start_time": "2022-11-24T13:21:10.138Z"
   },
   {
    "duration": 0,
    "start_time": "2022-11-24T13:21:10.139Z"
   },
   {
    "duration": 0,
    "start_time": "2022-11-24T13:21:10.141Z"
   },
   {
    "duration": 0,
    "start_time": "2022-11-24T13:21:10.142Z"
   },
   {
    "duration": 0,
    "start_time": "2022-11-24T13:21:10.143Z"
   },
   {
    "duration": 0,
    "start_time": "2022-11-24T13:21:10.144Z"
   },
   {
    "duration": 0,
    "start_time": "2022-11-24T13:21:10.145Z"
   },
   {
    "duration": 0,
    "start_time": "2022-11-24T13:21:10.145Z"
   },
   {
    "duration": 0,
    "start_time": "2022-11-24T13:21:10.146Z"
   },
   {
    "duration": 0,
    "start_time": "2022-11-24T13:21:10.147Z"
   },
   {
    "duration": 0,
    "start_time": "2022-11-24T13:21:10.148Z"
   },
   {
    "duration": 0,
    "start_time": "2022-11-24T13:21:10.150Z"
   },
   {
    "duration": 0,
    "start_time": "2022-11-24T13:21:10.150Z"
   },
   {
    "duration": 0,
    "start_time": "2022-11-24T13:21:10.152Z"
   },
   {
    "duration": 0,
    "start_time": "2022-11-24T13:21:10.152Z"
   },
   {
    "duration": 0,
    "start_time": "2022-11-24T13:21:10.153Z"
   },
   {
    "duration": 12,
    "start_time": "2022-11-24T13:24:58.279Z"
   },
   {
    "duration": 19,
    "start_time": "2022-11-24T13:25:01.446Z"
   },
   {
    "duration": 11,
    "start_time": "2022-11-24T13:25:03.294Z"
   },
   {
    "duration": 3,
    "start_time": "2022-11-24T13:26:37.842Z"
   },
   {
    "duration": 1134,
    "start_time": "2022-11-24T13:26:52.368Z"
   },
   {
    "duration": 1189,
    "start_time": "2022-11-24T13:27:01.786Z"
   },
   {
    "duration": 12,
    "start_time": "2022-11-24T13:27:10.786Z"
   },
   {
    "duration": 13,
    "start_time": "2022-11-24T13:27:30.344Z"
   },
   {
    "duration": 10,
    "start_time": "2022-11-24T13:28:03.523Z"
   },
   {
    "duration": 1443,
    "start_time": "2022-11-24T13:28:08.486Z"
   },
   {
    "duration": 789,
    "start_time": "2022-11-24T13:28:09.930Z"
   },
   {
    "duration": 4,
    "start_time": "2022-11-24T13:28:10.720Z"
   },
   {
    "duration": 429,
    "start_time": "2022-11-24T13:28:10.726Z"
   },
   {
    "duration": 7,
    "start_time": "2022-11-24T13:28:11.157Z"
   },
   {
    "duration": 8,
    "start_time": "2022-11-24T13:28:11.166Z"
   },
   {
    "duration": 304,
    "start_time": "2022-11-24T13:28:11.175Z"
   },
   {
    "duration": 3,
    "start_time": "2022-11-24T13:28:11.481Z"
   },
   {
    "duration": 6,
    "start_time": "2022-11-24T13:28:11.486Z"
   },
   {
    "duration": 3,
    "start_time": "2022-11-24T13:28:11.495Z"
   },
   {
    "duration": 122,
    "start_time": "2022-11-24T13:28:11.513Z"
   },
   {
    "duration": 0,
    "start_time": "2022-11-24T13:28:11.636Z"
   },
   {
    "duration": 0,
    "start_time": "2022-11-24T13:28:11.638Z"
   },
   {
    "duration": 0,
    "start_time": "2022-11-24T13:28:11.639Z"
   },
   {
    "duration": 0,
    "start_time": "2022-11-24T13:28:11.640Z"
   },
   {
    "duration": 0,
    "start_time": "2022-11-24T13:28:11.641Z"
   },
   {
    "duration": 0,
    "start_time": "2022-11-24T13:28:11.642Z"
   },
   {
    "duration": 0,
    "start_time": "2022-11-24T13:28:11.643Z"
   },
   {
    "duration": 0,
    "start_time": "2022-11-24T13:28:11.644Z"
   },
   {
    "duration": 0,
    "start_time": "2022-11-24T13:28:11.645Z"
   },
   {
    "duration": 0,
    "start_time": "2022-11-24T13:28:11.646Z"
   },
   {
    "duration": 0,
    "start_time": "2022-11-24T13:28:11.647Z"
   },
   {
    "duration": 0,
    "start_time": "2022-11-24T13:28:11.648Z"
   },
   {
    "duration": 0,
    "start_time": "2022-11-24T13:28:11.649Z"
   },
   {
    "duration": 0,
    "start_time": "2022-11-24T13:28:11.650Z"
   },
   {
    "duration": 0,
    "start_time": "2022-11-24T13:28:11.651Z"
   },
   {
    "duration": 0,
    "start_time": "2022-11-24T13:28:11.652Z"
   },
   {
    "duration": 0,
    "start_time": "2022-11-24T13:28:11.653Z"
   },
   {
    "duration": 0,
    "start_time": "2022-11-24T13:28:11.654Z"
   },
   {
    "duration": 0,
    "start_time": "2022-11-24T13:28:11.654Z"
   },
   {
    "duration": 3423,
    "start_time": "2022-11-24T13:28:26.147Z"
   },
   {
    "duration": 672,
    "start_time": "2022-11-24T13:28:31.898Z"
   },
   {
    "duration": 4,
    "start_time": "2022-11-24T13:28:39.770Z"
   },
   {
    "duration": 4,
    "start_time": "2022-11-24T13:28:54.050Z"
   },
   {
    "duration": 676,
    "start_time": "2022-11-24T13:29:19.048Z"
   },
   {
    "duration": 4,
    "start_time": "2022-11-24T13:29:24.969Z"
   },
   {
    "duration": 4,
    "start_time": "2022-11-24T13:30:02.597Z"
   },
   {
    "duration": 3,
    "start_time": "2022-11-24T13:31:33.994Z"
   },
   {
    "duration": 6,
    "start_time": "2022-11-24T13:31:38.752Z"
   },
   {
    "duration": 2,
    "start_time": "2022-11-24T13:31:56.809Z"
   },
   {
    "duration": 3,
    "start_time": "2022-11-24T13:31:58.190Z"
   },
   {
    "duration": 21,
    "start_time": "2022-11-24T13:32:23.252Z"
   },
   {
    "duration": 640,
    "start_time": "2022-11-24T13:32:38.073Z"
   },
   {
    "duration": 4,
    "start_time": "2022-11-24T13:32:42.562Z"
   },
   {
    "duration": 5,
    "start_time": "2022-11-24T13:33:35.413Z"
   },
   {
    "duration": 639,
    "start_time": "2022-11-24T13:34:06.077Z"
   },
   {
    "duration": 6,
    "start_time": "2022-11-24T13:34:07.349Z"
   },
   {
    "duration": 666,
    "start_time": "2022-11-24T13:34:45.915Z"
   },
   {
    "duration": 5,
    "start_time": "2022-11-24T13:34:48.068Z"
   },
   {
    "duration": 2,
    "start_time": "2022-11-24T13:35:57.863Z"
   },
   {
    "duration": 3,
    "start_time": "2022-11-24T13:36:21.613Z"
   },
   {
    "duration": 3640,
    "start_time": "2022-11-24T13:36:24.660Z"
   },
   {
    "duration": 3,
    "start_time": "2022-11-24T13:36:28.914Z"
   },
   {
    "duration": 1214,
    "start_time": "2022-11-24T13:36:30.889Z"
   },
   {
    "duration": 3,
    "start_time": "2022-11-24T13:36:34.137Z"
   },
   {
    "duration": 4,
    "start_time": "2022-11-24T13:36:35.986Z"
   },
   {
    "duration": 2,
    "start_time": "2022-11-24T13:36:54.154Z"
   },
   {
    "duration": 3,
    "start_time": "2022-11-24T13:36:54.874Z"
   },
   {
    "duration": 3,
    "start_time": "2022-11-24T13:37:01.566Z"
   },
   {
    "duration": 4,
    "start_time": "2022-11-24T13:37:02.021Z"
   },
   {
    "duration": 1574,
    "start_time": "2022-11-24T13:37:58.712Z"
   },
   {
    "duration": 878,
    "start_time": "2022-11-24T13:38:00.288Z"
   },
   {
    "duration": 4,
    "start_time": "2022-11-24T13:38:01.168Z"
   },
   {
    "duration": 484,
    "start_time": "2022-11-24T13:38:01.175Z"
   },
   {
    "duration": 7,
    "start_time": "2022-11-24T13:38:01.661Z"
   },
   {
    "duration": 32,
    "start_time": "2022-11-24T13:38:01.670Z"
   },
   {
    "duration": 283,
    "start_time": "2022-11-24T13:38:01.703Z"
   },
   {
    "duration": 3,
    "start_time": "2022-11-24T13:38:01.988Z"
   },
   {
    "duration": 36,
    "start_time": "2022-11-24T13:38:01.992Z"
   },
   {
    "duration": 26,
    "start_time": "2022-11-24T13:38:02.031Z"
   },
   {
    "duration": 3580,
    "start_time": "2022-11-24T13:38:02.059Z"
   },
   {
    "duration": 3,
    "start_time": "2022-11-24T13:38:05.640Z"
   },
   {
    "duration": 1172,
    "start_time": "2022-11-24T13:38:05.644Z"
   },
   {
    "duration": 5,
    "start_time": "2022-11-24T13:38:06.818Z"
   },
   {
    "duration": 6,
    "start_time": "2022-11-24T13:38:06.824Z"
   },
   {
    "duration": 56,
    "start_time": "2022-11-24T13:38:06.831Z"
   },
   {
    "duration": 27,
    "start_time": "2022-11-24T13:38:06.889Z"
   },
   {
    "duration": 11,
    "start_time": "2022-11-24T13:38:06.918Z"
   },
   {
    "duration": 71,
    "start_time": "2022-11-24T13:38:06.930Z"
   },
   {
    "duration": 28,
    "start_time": "2022-11-24T13:38:07.003Z"
   },
   {
    "duration": 6670,
    "start_time": "2022-11-24T13:38:07.033Z"
   },
   {
    "duration": 3,
    "start_time": "2022-11-24T13:38:13.704Z"
   },
   {
    "duration": 101277,
    "start_time": "2022-11-24T13:38:13.708Z"
   },
   {
    "duration": 3,
    "start_time": "2022-11-24T13:39:54.987Z"
   },
   {
    "duration": 43631,
    "start_time": "2022-11-24T13:39:54.991Z"
   },
   {
    "duration": 12,
    "start_time": "2022-11-24T13:40:38.624Z"
   },
   {
    "duration": 3,
    "start_time": "2022-11-24T13:40:38.637Z"
   },
   {
    "duration": 38674,
    "start_time": "2022-11-24T13:40:38.643Z"
   },
   {
    "duration": 2,
    "start_time": "2022-11-24T13:41:17.319Z"
   },
   {
    "duration": 6,
    "start_time": "2022-11-24T13:41:17.323Z"
   },
   {
    "duration": 10,
    "start_time": "2022-11-24T13:41:17.330Z"
   },
   {
    "duration": 17,
    "start_time": "2022-11-24T13:41:17.341Z"
   },
   {
    "duration": 3,
    "start_time": "2022-11-24T13:42:15.580Z"
   },
   {
    "duration": 3,
    "start_time": "2022-11-24T13:42:28.754Z"
   },
   {
    "duration": 4,
    "start_time": "2022-11-24T13:42:29.499Z"
   },
   {
    "duration": 2,
    "start_time": "2022-11-24T13:43:05.024Z"
   },
   {
    "duration": 4,
    "start_time": "2022-11-24T13:43:05.624Z"
   },
   {
    "duration": 3,
    "start_time": "2022-11-24T13:43:10.770Z"
   },
   {
    "duration": 4,
    "start_time": "2022-11-24T13:43:11.125Z"
   },
   {
    "duration": 3,
    "start_time": "2022-11-24T13:43:14.520Z"
   },
   {
    "duration": 3,
    "start_time": "2022-11-24T13:43:14.787Z"
   },
   {
    "duration": 3,
    "start_time": "2022-11-24T13:43:19.033Z"
   },
   {
    "duration": 3,
    "start_time": "2022-11-24T13:43:19.324Z"
   },
   {
    "duration": 3,
    "start_time": "2022-11-24T13:43:24.900Z"
   },
   {
    "duration": 4,
    "start_time": "2022-11-24T13:43:25.274Z"
   },
   {
    "duration": 3,
    "start_time": "2022-11-24T13:43:36.153Z"
   },
   {
    "duration": 3,
    "start_time": "2022-11-24T13:43:36.589Z"
   },
   {
    "duration": 4,
    "start_time": "2022-11-24T13:45:56.291Z"
   },
   {
    "duration": 72,
    "start_time": "2022-11-24T13:48:56.894Z"
   },
   {
    "duration": 1264,
    "start_time": "2022-11-24T13:49:01.893Z"
   },
   {
    "duration": 1488,
    "start_time": "2022-11-24T13:49:28.893Z"
   },
   {
    "duration": 788,
    "start_time": "2022-11-24T13:49:30.383Z"
   },
   {
    "duration": 4,
    "start_time": "2022-11-24T13:49:31.173Z"
   },
   {
    "duration": 418,
    "start_time": "2022-11-24T13:49:31.179Z"
   },
   {
    "duration": 15,
    "start_time": "2022-11-24T13:49:31.599Z"
   },
   {
    "duration": 7,
    "start_time": "2022-11-24T13:49:31.615Z"
   },
   {
    "duration": 285,
    "start_time": "2022-11-24T13:49:31.623Z"
   },
   {
    "duration": 2,
    "start_time": "2022-11-24T13:49:31.914Z"
   },
   {
    "duration": 6,
    "start_time": "2022-11-24T13:49:31.918Z"
   },
   {
    "duration": 176588,
    "start_time": "2022-11-24T13:49:31.926Z"
   },
   {
    "duration": 3529,
    "start_time": "2022-11-24T13:52:28.516Z"
   },
   {
    "duration": 2,
    "start_time": "2022-11-24T13:52:32.047Z"
   },
   {
    "duration": 1209,
    "start_time": "2022-11-24T13:52:32.051Z"
   },
   {
    "duration": 4,
    "start_time": "2022-11-24T13:52:33.261Z"
   },
   {
    "duration": 7,
    "start_time": "2022-11-24T13:52:33.267Z"
   },
   {
    "duration": 62,
    "start_time": "2022-11-24T13:52:33.275Z"
   },
   {
    "duration": 10,
    "start_time": "2022-11-24T13:52:33.339Z"
   },
   {
    "duration": 6,
    "start_time": "2022-11-24T13:52:33.351Z"
   },
   {
    "duration": 77,
    "start_time": "2022-11-24T13:52:33.358Z"
   },
   {
    "duration": 24,
    "start_time": "2022-11-24T13:52:33.437Z"
   },
   {
    "duration": 6301,
    "start_time": "2022-11-24T13:52:33.462Z"
   },
   {
    "duration": 2,
    "start_time": "2022-11-24T13:52:39.765Z"
   },
   {
    "duration": 98172,
    "start_time": "2022-11-24T13:52:39.769Z"
   },
   {
    "duration": 2,
    "start_time": "2022-11-24T13:54:17.943Z"
   },
   {
    "duration": 41772,
    "start_time": "2022-11-24T13:54:17.947Z"
   },
   {
    "duration": 92,
    "start_time": "2022-11-24T13:54:59.721Z"
   },
   {
    "duration": 2,
    "start_time": "2022-11-24T13:54:59.815Z"
   },
   {
    "duration": 36102,
    "start_time": "2022-11-24T13:54:59.820Z"
   },
   {
    "duration": 2,
    "start_time": "2022-11-24T13:55:36.014Z"
   },
   {
    "duration": 5,
    "start_time": "2022-11-24T13:55:36.018Z"
   },
   {
    "duration": 9,
    "start_time": "2022-11-24T13:55:36.025Z"
   },
   {
    "duration": 19,
    "start_time": "2022-11-24T13:55:36.035Z"
   },
   {
    "duration": 6,
    "start_time": "2022-11-24T13:55:36.056Z"
   },
   {
    "duration": 101,
    "start_time": "2022-11-24T13:56:02.865Z"
   },
   {
    "duration": 4,
    "start_time": "2022-11-24T13:56:06.811Z"
   },
   {
    "duration": 5,
    "start_time": "2022-11-24T13:56:11.988Z"
   },
   {
    "duration": 11,
    "start_time": "2022-11-24T13:56:58.496Z"
   },
   {
    "duration": 52,
    "start_time": "2022-11-24T13:58:44.518Z"
   },
   {
    "duration": 10,
    "start_time": "2022-11-24T13:58:51.659Z"
   },
   {
    "duration": 8,
    "start_time": "2022-11-24T13:59:04.071Z"
   },
   {
    "duration": 9,
    "start_time": "2022-11-24T13:59:05.171Z"
   },
   {
    "duration": 74,
    "start_time": "2022-11-24T14:00:31.294Z"
   },
   {
    "duration": 1319,
    "start_time": "2022-11-24T14:00:45.100Z"
   },
   {
    "duration": 7784,
    "start_time": "2022-11-24T14:01:02.677Z"
   },
   {
    "duration": 11,
    "start_time": "2022-11-24T14:01:14.950Z"
   },
   {
    "duration": 3,
    "start_time": "2022-11-24T14:01:59.197Z"
   },
   {
    "duration": 1411,
    "start_time": "2022-11-24T14:04:34.947Z"
   },
   {
    "duration": 756,
    "start_time": "2022-11-24T14:04:36.360Z"
   },
   {
    "duration": 4,
    "start_time": "2022-11-24T14:04:37.118Z"
   },
   {
    "duration": 427,
    "start_time": "2022-11-24T14:04:37.123Z"
   },
   {
    "duration": 7,
    "start_time": "2022-11-24T14:04:37.552Z"
   },
   {
    "duration": 15,
    "start_time": "2022-11-24T14:04:37.560Z"
   },
   {
    "duration": 288,
    "start_time": "2022-11-24T14:04:37.576Z"
   },
   {
    "duration": 2,
    "start_time": "2022-11-24T14:04:37.866Z"
   },
   {
    "duration": 11,
    "start_time": "2022-11-24T14:04:37.870Z"
   },
   {
    "duration": 1431,
    "start_time": "2022-11-24T14:04:37.884Z"
   },
   {
    "duration": 0,
    "start_time": "2022-11-24T14:04:39.317Z"
   },
   {
    "duration": 0,
    "start_time": "2022-11-24T14:04:39.318Z"
   },
   {
    "duration": 0,
    "start_time": "2022-11-24T14:04:39.319Z"
   },
   {
    "duration": 0,
    "start_time": "2022-11-24T14:04:39.320Z"
   },
   {
    "duration": 0,
    "start_time": "2022-11-24T14:04:39.321Z"
   },
   {
    "duration": 0,
    "start_time": "2022-11-24T14:04:39.322Z"
   },
   {
    "duration": 0,
    "start_time": "2022-11-24T14:04:39.323Z"
   },
   {
    "duration": 0,
    "start_time": "2022-11-24T14:04:39.324Z"
   },
   {
    "duration": 0,
    "start_time": "2022-11-24T14:04:39.325Z"
   },
   {
    "duration": 0,
    "start_time": "2022-11-24T14:04:39.326Z"
   },
   {
    "duration": 0,
    "start_time": "2022-11-24T14:04:39.327Z"
   },
   {
    "duration": 0,
    "start_time": "2022-11-24T14:04:39.328Z"
   },
   {
    "duration": 0,
    "start_time": "2022-11-24T14:04:39.329Z"
   },
   {
    "duration": 0,
    "start_time": "2022-11-24T14:04:39.330Z"
   },
   {
    "duration": 0,
    "start_time": "2022-11-24T14:04:39.331Z"
   },
   {
    "duration": 0,
    "start_time": "2022-11-24T14:04:39.332Z"
   },
   {
    "duration": 0,
    "start_time": "2022-11-24T14:04:39.333Z"
   },
   {
    "duration": 0,
    "start_time": "2022-11-24T14:04:39.334Z"
   },
   {
    "duration": 0,
    "start_time": "2022-11-24T14:04:39.335Z"
   },
   {
    "duration": 0,
    "start_time": "2022-11-24T14:04:39.336Z"
   },
   {
    "duration": 0,
    "start_time": "2022-11-24T14:04:39.337Z"
   },
   {
    "duration": 0,
    "start_time": "2022-11-24T14:04:39.338Z"
   },
   {
    "duration": 0,
    "start_time": "2022-11-24T14:04:39.338Z"
   },
   {
    "duration": 1488,
    "start_time": "2022-11-24T14:05:14.295Z"
   },
   {
    "duration": 751,
    "start_time": "2022-11-24T14:05:15.785Z"
   },
   {
    "duration": 5,
    "start_time": "2022-11-24T14:05:16.538Z"
   },
   {
    "duration": 428,
    "start_time": "2022-11-24T14:05:16.545Z"
   },
   {
    "duration": 6,
    "start_time": "2022-11-24T14:05:16.974Z"
   },
   {
    "duration": 7,
    "start_time": "2022-11-24T14:05:16.981Z"
   },
   {
    "duration": 297,
    "start_time": "2022-11-24T14:05:16.989Z"
   },
   {
    "duration": 3,
    "start_time": "2022-11-24T14:05:17.288Z"
   },
   {
    "duration": 6,
    "start_time": "2022-11-24T14:05:17.292Z"
   },
   {
    "duration": 1380,
    "start_time": "2022-11-24T16:05:52.263Z"
   },
   {
    "duration": 760,
    "start_time": "2022-11-24T16:05:53.645Z"
   },
   {
    "duration": 4,
    "start_time": "2022-11-24T16:05:54.407Z"
   },
   {
    "duration": 426,
    "start_time": "2022-11-24T16:05:54.413Z"
   },
   {
    "duration": 6,
    "start_time": "2022-11-24T16:05:54.841Z"
   },
   {
    "duration": 8,
    "start_time": "2022-11-24T16:05:54.848Z"
   },
   {
    "duration": 287,
    "start_time": "2022-11-24T16:05:54.857Z"
   },
   {
    "duration": 2,
    "start_time": "2022-11-24T16:05:55.146Z"
   },
   {
    "duration": 6,
    "start_time": "2022-11-24T16:05:55.150Z"
   },
   {
    "duration": 1551,
    "start_time": "2022-11-24T16:32:25.666Z"
   },
   {
    "duration": 767,
    "start_time": "2022-11-24T16:32:27.219Z"
   },
   {
    "duration": 5,
    "start_time": "2022-11-24T16:32:27.988Z"
   },
   {
    "duration": 426,
    "start_time": "2022-11-24T16:32:27.996Z"
   },
   {
    "duration": 8,
    "start_time": "2022-11-24T16:32:28.424Z"
   },
   {
    "duration": 9,
    "start_time": "2022-11-24T16:32:28.433Z"
   },
   {
    "duration": 305,
    "start_time": "2022-11-24T16:32:28.444Z"
   },
   {
    "duration": 2,
    "start_time": "2022-11-24T16:32:28.751Z"
   },
   {
    "duration": 6,
    "start_time": "2022-11-24T16:32:28.754Z"
   },
   {
    "duration": 7144,
    "start_time": "2022-11-24T16:32:28.762Z"
   },
   {
    "duration": 37,
    "start_time": "2022-11-24T16:32:35.908Z"
   },
   {
    "duration": 3444,
    "start_time": "2022-11-24T16:32:35.947Z"
   },
   {
    "duration": 2,
    "start_time": "2022-11-24T16:32:39.393Z"
   },
   {
    "duration": 5,
    "start_time": "2022-11-24T16:32:39.397Z"
   },
   {
    "duration": 12,
    "start_time": "2022-11-24T16:32:39.403Z"
   },
   {
    "duration": 4,
    "start_time": "2022-11-24T16:32:39.416Z"
   },
   {
    "duration": 64,
    "start_time": "2022-11-24T16:32:39.422Z"
   },
   {
    "duration": 26,
    "start_time": "2022-11-24T16:32:39.488Z"
   },
   {
    "duration": 5,
    "start_time": "2022-11-24T16:32:39.516Z"
   },
   {
    "duration": 53,
    "start_time": "2022-11-24T16:32:39.523Z"
   },
   {
    "duration": 46,
    "start_time": "2022-11-24T16:32:39.577Z"
   },
   {
    "duration": 6516,
    "start_time": "2022-11-24T16:32:39.625Z"
   },
   {
    "duration": 2,
    "start_time": "2022-11-24T16:32:46.143Z"
   },
   {
    "duration": 1419,
    "start_time": "2022-11-24T16:33:25.623Z"
   },
   {
    "duration": 762,
    "start_time": "2022-11-24T16:33:27.044Z"
   },
   {
    "duration": 5,
    "start_time": "2022-11-24T16:33:27.808Z"
   },
   {
    "duration": 705,
    "start_time": "2022-11-24T16:33:27.814Z"
   },
   {
    "duration": 6,
    "start_time": "2022-11-24T16:33:28.520Z"
   },
   {
    "duration": 7,
    "start_time": "2022-11-24T16:33:28.528Z"
   },
   {
    "duration": 576,
    "start_time": "2022-11-24T16:33:28.537Z"
   },
   {
    "duration": 3,
    "start_time": "2022-11-24T16:33:29.115Z"
   },
   {
    "duration": 30,
    "start_time": "2022-11-24T16:33:29.120Z"
   },
   {
    "duration": 1855,
    "start_time": "2022-11-25T15:27:47.370Z"
   },
   {
    "duration": 3402,
    "start_time": "2022-11-25T15:27:54.472Z"
   },
   {
    "duration": 5,
    "start_time": "2022-11-25T15:27:57.875Z"
   },
   {
    "duration": 460,
    "start_time": "2022-11-25T15:27:57.882Z"
   },
   {
    "duration": 8,
    "start_time": "2022-11-25T15:27:58.344Z"
   },
   {
    "duration": 9,
    "start_time": "2022-11-25T15:27:58.354Z"
   },
   {
    "duration": 288,
    "start_time": "2022-11-25T15:28:01.782Z"
   },
   {
    "duration": 3,
    "start_time": "2022-11-25T15:28:07.734Z"
   },
   {
    "duration": 3,
    "start_time": "2022-11-25T15:28:07.894Z"
   },
   {
    "duration": 55044,
    "start_time": "2022-11-25T15:28:10.266Z"
   },
   {
    "duration": 0,
    "start_time": "2022-11-25T15:29:05.313Z"
   },
   {
    "duration": 0,
    "start_time": "2022-11-25T15:29:05.314Z"
   },
   {
    "duration": 0,
    "start_time": "2022-11-25T15:29:05.315Z"
   },
   {
    "duration": 0,
    "start_time": "2022-11-25T15:29:05.317Z"
   },
   {
    "duration": 0,
    "start_time": "2022-11-25T15:29:05.318Z"
   },
   {
    "duration": 0,
    "start_time": "2022-11-25T15:29:05.320Z"
   },
   {
    "duration": 0,
    "start_time": "2022-11-25T15:29:05.321Z"
   },
   {
    "duration": 16,
    "start_time": "2022-11-25T15:35:33.268Z"
   },
   {
    "duration": 9,
    "start_time": "2022-11-25T15:35:48.428Z"
   },
   {
    "duration": 3,
    "start_time": "2022-11-25T15:36:09.759Z"
   },
   {
    "duration": 10,
    "start_time": "2022-11-25T15:36:14.637Z"
   },
   {
    "duration": 10,
    "start_time": "2022-11-25T15:36:17.076Z"
   },
   {
    "duration": 4,
    "start_time": "2022-11-25T15:36:43.789Z"
   },
   {
    "duration": 36523,
    "start_time": "2022-11-25T15:36:52.646Z"
   },
   {
    "duration": 10,
    "start_time": "2022-11-25T15:37:35.630Z"
   },
   {
    "duration": 1652,
    "start_time": "2022-11-25T16:23:44.468Z"
   },
   {
    "duration": 2449,
    "start_time": "2022-11-25T16:23:46.122Z"
   },
   {
    "duration": 5,
    "start_time": "2022-11-25T16:23:48.573Z"
   },
   {
    "duration": 435,
    "start_time": "2022-11-25T16:23:48.579Z"
   },
   {
    "duration": 20,
    "start_time": "2022-11-25T16:23:49.016Z"
   },
   {
    "duration": 11,
    "start_time": "2022-11-25T16:23:49.038Z"
   },
   {
    "duration": 314,
    "start_time": "2022-11-25T16:23:49.050Z"
   },
   {
    "duration": 3,
    "start_time": "2022-11-25T16:23:49.366Z"
   },
   {
    "duration": 23,
    "start_time": "2022-11-25T16:23:49.370Z"
   },
   {
    "duration": 148,
    "start_time": "2022-11-25T16:23:49.395Z"
   },
   {
    "duration": 0,
    "start_time": "2022-11-25T16:23:49.546Z"
   },
   {
    "duration": 0,
    "start_time": "2022-11-25T16:23:49.547Z"
   },
   {
    "duration": 0,
    "start_time": "2022-11-25T16:23:49.548Z"
   },
   {
    "duration": 0,
    "start_time": "2022-11-25T16:23:49.550Z"
   },
   {
    "duration": 0,
    "start_time": "2022-11-25T16:23:49.551Z"
   },
   {
    "duration": 0,
    "start_time": "2022-11-25T16:23:49.552Z"
   },
   {
    "duration": 0,
    "start_time": "2022-11-25T16:23:49.553Z"
   },
   {
    "duration": 0,
    "start_time": "2022-11-25T16:23:49.554Z"
   },
   {
    "duration": 0,
    "start_time": "2022-11-25T16:23:49.555Z"
   },
   {
    "duration": 0,
    "start_time": "2022-11-25T16:23:49.556Z"
   },
   {
    "duration": 0,
    "start_time": "2022-11-25T16:23:49.558Z"
   },
   {
    "duration": 0,
    "start_time": "2022-11-25T16:23:49.558Z"
   },
   {
    "duration": 0,
    "start_time": "2022-11-25T16:23:49.559Z"
   },
   {
    "duration": 0,
    "start_time": "2022-11-25T16:23:49.560Z"
   },
   {
    "duration": 0,
    "start_time": "2022-11-25T16:23:49.561Z"
   },
   {
    "duration": 0,
    "start_time": "2022-11-25T16:23:49.562Z"
   },
   {
    "duration": 0,
    "start_time": "2022-11-25T16:23:49.563Z"
   },
   {
    "duration": 0,
    "start_time": "2022-11-25T16:23:49.564Z"
   },
   {
    "duration": 0,
    "start_time": "2022-11-25T16:23:49.565Z"
   },
   {
    "duration": 0,
    "start_time": "2022-11-25T16:23:49.566Z"
   },
   {
    "duration": 0,
    "start_time": "2022-11-25T16:23:49.567Z"
   },
   {
    "duration": 0,
    "start_time": "2022-11-25T16:23:49.568Z"
   },
   {
    "duration": 0,
    "start_time": "2022-11-25T16:23:49.569Z"
   },
   {
    "duration": 0,
    "start_time": "2022-11-25T16:23:49.570Z"
   },
   {
    "duration": 10,
    "start_time": "2022-11-25T16:24:06.392Z"
   },
   {
    "duration": 9,
    "start_time": "2022-11-25T16:24:30.473Z"
   },
   {
    "duration": 4,
    "start_time": "2022-11-25T16:24:47.453Z"
   },
   {
    "duration": 48201,
    "start_time": "2022-11-25T16:24:54.140Z"
   },
   {
    "duration": 5,
    "start_time": "2022-11-25T16:25:51.991Z"
   },
   {
    "duration": 11,
    "start_time": "2022-11-25T16:26:01.050Z"
   },
   {
    "duration": 11,
    "start_time": "2022-11-25T16:26:32.191Z"
   },
   {
    "duration": 10,
    "start_time": "2022-11-25T16:26:44.107Z"
   },
   {
    "duration": 49,
    "start_time": "2022-11-25T16:27:12.910Z"
   },
   {
    "duration": 13,
    "start_time": "2022-11-25T16:27:18.371Z"
   },
   {
    "duration": 236,
    "start_time": "2022-11-25T16:27:37.691Z"
   },
   {
    "duration": 4,
    "start_time": "2022-11-25T16:28:04.769Z"
   },
   {
    "duration": 2666,
    "start_time": "2022-11-25T16:28:09.170Z"
   },
   {
    "duration": 13,
    "start_time": "2022-11-25T16:29:14.211Z"
   },
   {
    "duration": 4,
    "start_time": "2022-11-25T16:29:26.170Z"
   },
   {
    "duration": 79,
    "start_time": "2022-11-25T16:30:29.352Z"
   },
   {
    "duration": 12,
    "start_time": "2022-11-25T16:30:36.692Z"
   },
   {
    "duration": 81,
    "start_time": "2022-11-25T16:33:58.130Z"
   },
   {
    "duration": 3,
    "start_time": "2022-11-25T16:34:03.354Z"
   },
   {
    "duration": 34426,
    "start_time": "2022-11-25T16:34:31.393Z"
   },
   {
    "duration": 4,
    "start_time": "2022-11-25T16:35:27.413Z"
   },
   {
    "duration": 4,
    "start_time": "2022-11-25T16:36:06.969Z"
   },
   {
    "duration": 33938,
    "start_time": "2022-11-25T16:36:15.592Z"
   },
   {
    "duration": 4,
    "start_time": "2022-11-25T16:36:59.916Z"
   },
   {
    "duration": 3,
    "start_time": "2022-11-25T16:44:38.081Z"
   },
   {
    "duration": 211557,
    "start_time": "2022-11-25T16:44:53.327Z"
   },
   {
    "duration": 6,
    "start_time": "2022-11-25T16:48:24.886Z"
   },
   {
    "duration": 20,
    "start_time": "2022-11-25T16:59:10.410Z"
   },
   {
    "duration": 7,
    "start_time": "2022-11-25T16:59:26.142Z"
   },
   {
    "duration": 721,
    "start_time": "2022-11-25T16:59:34.512Z"
   },
   {
    "duration": 4,
    "start_time": "2022-11-25T16:59:39.935Z"
   },
   {
    "duration": 33486,
    "start_time": "2022-11-25T17:04:52.442Z"
   },
   {
    "duration": 5,
    "start_time": "2022-11-25T17:09:45.080Z"
   },
   {
    "duration": 204,
    "start_time": "2022-11-25T17:13:37.811Z"
   },
   {
    "duration": 6,
    "start_time": "2022-11-25T17:15:28.673Z"
   },
   {
    "duration": 214590,
    "start_time": "2022-11-25T17:16:23.538Z"
   },
   {
    "duration": 19,
    "start_time": "2022-11-25T17:19:58.141Z"
   },
   {
    "duration": 211848,
    "start_time": "2022-11-25T17:24:04.124Z"
   },
   {
    "duration": 6,
    "start_time": "2022-11-25T17:29:36.825Z"
   },
   {
    "duration": 3,
    "start_time": "2022-11-25T17:31:39.371Z"
   },
   {
    "duration": 23,
    "start_time": "2022-11-25T17:31:52.936Z"
   },
   {
    "duration": 218,
    "start_time": "2022-11-25T17:32:08.716Z"
   },
   {
    "duration": 3,
    "start_time": "2022-11-25T17:32:17.732Z"
   },
   {
    "duration": 3,
    "start_time": "2022-11-25T17:33:13.868Z"
   },
   {
    "duration": 15,
    "start_time": "2022-11-25T17:33:16.045Z"
   },
   {
    "duration": 4,
    "start_time": "2022-11-25T17:33:59.334Z"
   },
   {
    "duration": 14,
    "start_time": "2022-11-25T17:34:01.629Z"
   },
   {
    "duration": 3,
    "start_time": "2022-11-25T17:34:14.677Z"
   },
   {
    "duration": 5,
    "start_time": "2022-11-25T17:34:28.256Z"
   },
   {
    "duration": 13,
    "start_time": "2022-11-25T17:34:29.640Z"
   },
   {
    "duration": 4,
    "start_time": "2022-11-25T17:34:39.394Z"
   },
   {
    "duration": 4460,
    "start_time": "2022-11-25T17:34:40.030Z"
   },
   {
    "duration": 216594,
    "start_time": "2022-11-25T17:34:44.492Z"
   },
   {
    "duration": 6,
    "start_time": "2022-11-25T17:38:21.088Z"
   },
   {
    "duration": 24,
    "start_time": "2022-11-25T17:38:21.096Z"
   },
   {
    "duration": 3045,
    "start_time": "2022-11-26T15:21:21.557Z"
   },
   {
    "duration": 990,
    "start_time": "2022-11-26T15:21:26.377Z"
   },
   {
    "duration": 7,
    "start_time": "2022-11-26T15:21:27.370Z"
   },
   {
    "duration": 1050,
    "start_time": "2022-11-26T15:21:27.378Z"
   },
   {
    "duration": 11,
    "start_time": "2022-11-26T15:21:28.430Z"
   },
   {
    "duration": 67,
    "start_time": "2022-11-26T15:21:28.444Z"
   },
   {
    "duration": 807,
    "start_time": "2022-11-26T15:21:28.517Z"
   },
   {
    "duration": 8,
    "start_time": "2022-11-26T15:21:29.328Z"
   },
   {
    "duration": 25,
    "start_time": "2022-11-26T15:21:29.338Z"
   },
   {
    "duration": 4,
    "start_time": "2022-11-26T15:21:29.684Z"
   },
   {
    "duration": 5,
    "start_time": "2022-11-26T15:23:21.129Z"
   },
   {
    "duration": 5,
    "start_time": "2022-11-26T15:23:22.188Z"
   },
   {
    "duration": 851,
    "start_time": "2022-11-26T15:23:25.834Z"
   },
   {
    "duration": 4,
    "start_time": "2022-11-26T15:23:26.687Z"
   },
   {
    "duration": 352,
    "start_time": "2022-11-26T15:23:26.704Z"
   },
   {
    "duration": 7,
    "start_time": "2022-11-26T15:23:27.058Z"
   },
   {
    "duration": 16,
    "start_time": "2022-11-26T15:23:27.066Z"
   },
   {
    "duration": 6,
    "start_time": "2022-11-26T15:23:28.429Z"
   },
   {
    "duration": 6,
    "start_time": "2022-11-26T15:23:28.834Z"
   },
   {
    "duration": 3,
    "start_time": "2022-11-26T15:23:30.274Z"
   },
   {
    "duration": 3,
    "start_time": "2022-11-26T15:23:30.874Z"
   },
   {
    "duration": 4,
    "start_time": "2022-11-26T15:23:31.990Z"
   },
   {
    "duration": 1446,
    "start_time": "2022-11-26T15:23:33.029Z"
   },
   {
    "duration": 13,
    "start_time": "2022-11-26T15:23:39.690Z"
   },
   {
    "duration": 1571,
    "start_time": "2022-11-26T15:23:50.803Z"
   },
   {
    "duration": 4,
    "start_time": "2022-11-26T15:23:58.194Z"
   },
   {
    "duration": 9,
    "start_time": "2022-11-26T15:24:01.613Z"
   },
   {
    "duration": 4,
    "start_time": "2022-11-26T15:24:03.520Z"
   },
   {
    "duration": 6,
    "start_time": "2022-11-26T15:24:28.634Z"
   },
   {
    "duration": 4,
    "start_time": "2022-11-26T15:24:43.491Z"
   },
   {
    "duration": 10,
    "start_time": "2022-11-26T15:24:44.130Z"
   },
   {
    "duration": 153,
    "start_time": "2022-11-26T15:25:12.298Z"
   },
   {
    "duration": 1624,
    "start_time": "2022-11-26T15:25:15.829Z"
   },
   {
    "duration": 1598,
    "start_time": "2022-11-26T15:25:21.234Z"
   },
   {
    "duration": 35,
    "start_time": "2022-11-26T15:26:59.705Z"
   },
   {
    "duration": 120,
    "start_time": "2022-11-26T15:27:15.505Z"
   },
   {
    "duration": 1510,
    "start_time": "2022-11-26T15:28:10.296Z"
   },
   {
    "duration": 6,
    "start_time": "2022-11-26T15:28:16.456Z"
   },
   {
    "duration": 102,
    "start_time": "2022-11-26T15:33:08.220Z"
   },
   {
    "duration": 3,
    "start_time": "2022-11-26T15:33:28.948Z"
   },
   {
    "duration": 293,
    "start_time": "2022-11-26T15:33:34.075Z"
   },
   {
    "duration": 24,
    "start_time": "2022-11-26T15:33:37.545Z"
   },
   {
    "duration": 1546,
    "start_time": "2022-11-26T15:33:51.075Z"
   },
   {
    "duration": 4,
    "start_time": "2022-11-26T15:33:53.251Z"
   },
   {
    "duration": 6,
    "start_time": "2022-11-26T15:33:53.836Z"
   },
   {
    "duration": 2133,
    "start_time": "2022-11-26T15:36:25.491Z"
   },
   {
    "duration": 954,
    "start_time": "2022-11-26T15:36:27.629Z"
   },
   {
    "duration": 5,
    "start_time": "2022-11-26T15:36:28.584Z"
   },
   {
    "duration": 475,
    "start_time": "2022-11-26T15:36:28.591Z"
   },
   {
    "duration": 6,
    "start_time": "2022-11-26T15:36:29.068Z"
   },
   {
    "duration": 33,
    "start_time": "2022-11-26T15:36:29.076Z"
   },
   {
    "duration": 312,
    "start_time": "2022-11-26T15:36:29.112Z"
   },
   {
    "duration": 3,
    "start_time": "2022-11-26T15:36:30.385Z"
   },
   {
    "duration": 3,
    "start_time": "2022-11-26T15:36:31.617Z"
   },
   {
    "duration": 4,
    "start_time": "2022-11-26T15:36:32.066Z"
   },
   {
    "duration": 5842,
    "start_time": "2022-11-26T15:36:33.258Z"
   },
   {
    "duration": 55274,
    "start_time": "2022-11-26T15:36:39.102Z"
   },
   {
    "duration": 0,
    "start_time": "2022-11-26T15:37:34.378Z"
   },
   {
    "duration": 0,
    "start_time": "2022-11-26T15:37:34.379Z"
   },
   {
    "duration": 0,
    "start_time": "2022-11-26T15:37:34.380Z"
   },
   {
    "duration": 4,
    "start_time": "2022-11-26T15:37:39.611Z"
   },
   {
    "duration": 1389,
    "start_time": "2022-11-26T15:37:41.161Z"
   },
   {
    "duration": 8,
    "start_time": "2022-11-26T15:51:24.992Z"
   },
   {
    "duration": 1720,
    "start_time": "2022-11-26T15:51:30.856Z"
   },
   {
    "duration": 2624,
    "start_time": "2022-11-26T15:51:33.047Z"
   },
   {
    "duration": 5,
    "start_time": "2022-11-26T15:51:35.673Z"
   },
   {
    "duration": 433,
    "start_time": "2022-11-26T15:51:35.679Z"
   },
   {
    "duration": 8,
    "start_time": "2022-11-26T15:51:36.114Z"
   },
   {
    "duration": 12,
    "start_time": "2022-11-26T15:51:36.124Z"
   },
   {
    "duration": 355,
    "start_time": "2022-11-26T15:51:36.138Z"
   },
   {
    "duration": 3,
    "start_time": "2022-11-26T15:51:36.495Z"
   },
   {
    "duration": 3,
    "start_time": "2022-11-26T15:51:40.208Z"
   },
   {
    "duration": 3,
    "start_time": "2022-11-26T15:51:42.800Z"
   },
   {
    "duration": 3,
    "start_time": "2022-11-26T15:52:12.380Z"
   },
   {
    "duration": 3,
    "start_time": "2022-11-26T15:52:32.424Z"
   },
   {
    "duration": 4,
    "start_time": "2022-11-26T15:52:41.047Z"
   },
   {
    "duration": 4,
    "start_time": "2022-11-26T15:52:55.607Z"
   },
   {
    "duration": 3,
    "start_time": "2022-11-26T15:52:56.146Z"
   },
   {
    "duration": 5,
    "start_time": "2022-11-26T15:52:57.428Z"
   },
   {
    "duration": 4,
    "start_time": "2022-11-26T15:53:08.637Z"
   },
   {
    "duration": 3,
    "start_time": "2022-11-26T15:53:09.019Z"
   },
   {
    "duration": 3,
    "start_time": "2022-11-26T15:53:09.502Z"
   },
   {
    "duration": 4,
    "start_time": "2022-11-26T15:53:25.954Z"
   },
   {
    "duration": 4,
    "start_time": "2022-11-26T15:53:53.337Z"
   },
   {
    "duration": 4,
    "start_time": "2022-11-26T15:53:53.859Z"
   },
   {
    "duration": 3,
    "start_time": "2022-11-26T15:53:54.378Z"
   },
   {
    "duration": 3,
    "start_time": "2022-11-26T15:53:54.846Z"
   },
   {
    "duration": 4,
    "start_time": "2022-11-26T15:55:57.774Z"
   },
   {
    "duration": 4,
    "start_time": "2022-11-26T15:55:58.479Z"
   },
   {
    "duration": 1511,
    "start_time": "2022-11-26T15:55:59.029Z"
   },
   {
    "duration": 19,
    "start_time": "2022-11-26T15:56:01.727Z"
   },
   {
    "duration": 5,
    "start_time": "2022-11-26T15:56:31.512Z"
   },
   {
    "duration": 5,
    "start_time": "2022-11-26T15:56:32.233Z"
   },
   {
    "duration": 10,
    "start_time": "2022-11-26T15:56:32.611Z"
   },
   {
    "duration": 4,
    "start_time": "2022-11-26T15:56:33.425Z"
   },
   {
    "duration": 4,
    "start_time": "2022-11-26T15:57:32.535Z"
   },
   {
    "duration": 4,
    "start_time": "2022-11-26T15:57:33.098Z"
   },
   {
    "duration": 157,
    "start_time": "2022-11-26T15:57:33.711Z"
   },
   {
    "duration": 3,
    "start_time": "2022-11-26T15:57:34.166Z"
   },
   {
    "duration": 3,
    "start_time": "2022-11-26T15:57:48.903Z"
   },
   {
    "duration": 4,
    "start_time": "2022-11-26T15:57:49.917Z"
   },
   {
    "duration": 13,
    "start_time": "2022-11-26T15:57:50.340Z"
   },
   {
    "duration": 3,
    "start_time": "2022-11-26T15:57:51.118Z"
   },
   {
    "duration": 4,
    "start_time": "2022-11-26T15:58:14.547Z"
   },
   {
    "duration": 809,
    "start_time": "2022-11-26T15:58:15.966Z"
   },
   {
    "duration": 5,
    "start_time": "2022-11-26T15:58:16.777Z"
   },
   {
    "duration": 379,
    "start_time": "2022-11-26T15:58:16.790Z"
   },
   {
    "duration": 7,
    "start_time": "2022-11-26T15:58:17.171Z"
   },
   {
    "duration": 8,
    "start_time": "2022-11-26T15:58:17.276Z"
   },
   {
    "duration": 275,
    "start_time": "2022-11-26T15:58:18.172Z"
   },
   {
    "duration": 2,
    "start_time": "2022-11-26T15:58:19.356Z"
   },
   {
    "duration": 4,
    "start_time": "2022-11-26T15:58:26.036Z"
   },
   {
    "duration": 4,
    "start_time": "2022-11-26T15:58:27.272Z"
   },
   {
    "duration": 17,
    "start_time": "2022-11-26T15:58:29.030Z"
   },
   {
    "duration": 48,
    "start_time": "2022-11-26T15:59:35.755Z"
   },
   {
    "duration": 55,
    "start_time": "2022-11-26T16:00:08.280Z"
   },
   {
    "duration": 4,
    "start_time": "2022-11-26T16:00:55.270Z"
   },
   {
    "duration": 7,
    "start_time": "2022-11-26T16:00:55.825Z"
   },
   {
    "duration": 6,
    "start_time": "2022-11-26T16:00:57.311Z"
   },
   {
    "duration": 4,
    "start_time": "2022-11-26T16:00:58.341Z"
   },
   {
    "duration": 7,
    "start_time": "2022-11-26T16:03:29.524Z"
   },
   {
    "duration": 6,
    "start_time": "2022-11-26T16:03:35.156Z"
   },
   {
    "duration": 4,
    "start_time": "2022-11-26T16:03:40.560Z"
   },
   {
    "duration": 10,
    "start_time": "2022-11-26T16:04:04.091Z"
   },
   {
    "duration": 4,
    "start_time": "2022-11-26T16:04:05.179Z"
   },
   {
    "duration": 5,
    "start_time": "2022-11-26T16:05:10.313Z"
   },
   {
    "duration": 5,
    "start_time": "2022-11-26T16:05:10.775Z"
   },
   {
    "duration": 7,
    "start_time": "2022-11-26T16:05:11.322Z"
   },
   {
    "duration": 1627,
    "start_time": "2022-11-26T16:05:20.719Z"
   },
   {
    "duration": 922,
    "start_time": "2022-11-26T16:05:23.702Z"
   },
   {
    "duration": 8,
    "start_time": "2022-11-26T16:05:24.627Z"
   },
   {
    "duration": 541,
    "start_time": "2022-11-26T16:05:24.637Z"
   },
   {
    "duration": 7,
    "start_time": "2022-11-26T16:05:25.180Z"
   },
   {
    "duration": 30,
    "start_time": "2022-11-26T16:05:25.188Z"
   },
   {
    "duration": 294,
    "start_time": "2022-11-26T16:05:28.306Z"
   },
   {
    "duration": 3,
    "start_time": "2022-11-26T16:05:30.106Z"
   },
   {
    "duration": 3,
    "start_time": "2022-11-26T16:05:30.878Z"
   },
   {
    "duration": 6,
    "start_time": "2022-11-26T16:05:31.237Z"
   },
   {
    "duration": 4,
    "start_time": "2022-11-26T16:05:31.705Z"
   },
   {
    "duration": 2314,
    "start_time": "2022-11-26T16:05:32.050Z"
   },
   {
    "duration": 0,
    "start_time": "2022-11-26T16:05:34.366Z"
   },
   {
    "duration": 4,
    "start_time": "2022-11-26T16:06:05.532Z"
   },
   {
    "duration": 4,
    "start_time": "2022-11-26T16:06:10.143Z"
   },
   {
    "duration": 15,
    "start_time": "2022-11-26T16:06:13.463Z"
   },
   {
    "duration": 7,
    "start_time": "2022-11-26T16:06:26.912Z"
   },
   {
    "duration": 7,
    "start_time": "2022-11-26T16:06:35.184Z"
   },
   {
    "duration": 17,
    "start_time": "2022-11-26T16:07:55.223Z"
   },
   {
    "duration": 3,
    "start_time": "2022-11-26T16:09:01.730Z"
   },
   {
    "duration": 4,
    "start_time": "2022-11-26T16:09:23.594Z"
   },
   {
    "duration": 3,
    "start_time": "2022-11-26T16:10:25.108Z"
   },
   {
    "duration": 4,
    "start_time": "2022-11-26T16:10:26.288Z"
   },
   {
    "duration": 4,
    "start_time": "2022-11-26T16:11:02.071Z"
   },
   {
    "duration": 4,
    "start_time": "2022-11-26T16:11:19.404Z"
   },
   {
    "duration": 4,
    "start_time": "2022-11-26T16:12:04.904Z"
   },
   {
    "duration": 4,
    "start_time": "2022-11-26T16:12:16.515Z"
   },
   {
    "duration": 6,
    "start_time": "2022-11-26T16:12:20.512Z"
   },
   {
    "duration": 4,
    "start_time": "2022-11-26T16:12:52.366Z"
   },
   {
    "duration": 6,
    "start_time": "2022-11-26T16:13:24.740Z"
   },
   {
    "duration": 20,
    "start_time": "2022-11-26T16:13:40.231Z"
   },
   {
    "duration": 5,
    "start_time": "2022-11-26T16:14:14.393Z"
   },
   {
    "duration": 58,
    "start_time": "2022-11-26T16:14:39.778Z"
   },
   {
    "duration": 6,
    "start_time": "2022-11-26T16:14:44.908Z"
   },
   {
    "duration": 4,
    "start_time": "2022-11-26T16:14:54.540Z"
   },
   {
    "duration": 4,
    "start_time": "2022-11-26T16:15:02.792Z"
   },
   {
    "duration": 12,
    "start_time": "2022-11-26T16:16:06.095Z"
   },
   {
    "duration": 4,
    "start_time": "2022-11-26T16:16:12.808Z"
   },
   {
    "duration": 3,
    "start_time": "2022-11-26T16:18:28.395Z"
   },
   {
    "duration": 4,
    "start_time": "2022-11-26T16:19:22.915Z"
   },
   {
    "duration": 4,
    "start_time": "2022-11-26T16:19:27.479Z"
   },
   {
    "duration": 4,
    "start_time": "2022-11-26T16:20:10.552Z"
   },
   {
    "duration": 4,
    "start_time": "2022-11-26T16:20:27.772Z"
   },
   {
    "duration": 11,
    "start_time": "2022-11-26T16:20:34.672Z"
   },
   {
    "duration": 4,
    "start_time": "2022-11-26T16:21:50.699Z"
   },
   {
    "duration": 10,
    "start_time": "2022-11-26T16:22:07.050Z"
   },
   {
    "duration": 5,
    "start_time": "2022-11-26T16:22:22.708Z"
   },
   {
    "duration": 52,
    "start_time": "2022-11-26T16:22:34.975Z"
   },
   {
    "duration": 4,
    "start_time": "2022-11-26T16:22:39.381Z"
   },
   {
    "duration": 10,
    "start_time": "2022-11-26T16:22:54.780Z"
   },
   {
    "duration": 4,
    "start_time": "2022-11-26T16:23:01.479Z"
   },
   {
    "duration": 10,
    "start_time": "2022-11-26T16:23:08.956Z"
   },
   {
    "duration": 4,
    "start_time": "2022-11-26T16:23:15.906Z"
   },
   {
    "duration": 12,
    "start_time": "2022-11-26T16:23:21.271Z"
   },
   {
    "duration": 4,
    "start_time": "2022-11-26T16:23:32.449Z"
   },
   {
    "duration": 4,
    "start_time": "2022-11-26T16:23:36.980Z"
   },
   {
    "duration": 5,
    "start_time": "2022-11-26T16:23:49.443Z"
   },
   {
    "duration": 53,
    "start_time": "2022-11-26T16:25:00.945Z"
   },
   {
    "duration": 6,
    "start_time": "2022-11-26T16:25:05.813Z"
   },
   {
    "duration": 5,
    "start_time": "2022-11-26T16:25:40.246Z"
   },
   {
    "duration": 5,
    "start_time": "2022-11-26T16:27:01.876Z"
   },
   {
    "duration": 5,
    "start_time": "2022-11-26T16:59:48.294Z"
   },
   {
    "duration": 840,
    "start_time": "2022-11-26T16:59:50.530Z"
   },
   {
    "duration": 1597,
    "start_time": "2022-11-26T16:59:59.055Z"
   },
   {
    "duration": 969,
    "start_time": "2022-11-26T17:00:00.654Z"
   },
   {
    "duration": 8,
    "start_time": "2022-11-26T17:00:02.518Z"
   },
   {
    "duration": 489,
    "start_time": "2022-11-26T17:00:02.731Z"
   },
   {
    "duration": 11,
    "start_time": "2022-11-26T17:00:03.223Z"
   },
   {
    "duration": 8,
    "start_time": "2022-11-26T17:00:03.301Z"
   },
   {
    "duration": 327,
    "start_time": "2022-11-26T17:00:04.311Z"
   },
   {
    "duration": 3,
    "start_time": "2022-11-26T17:00:06.433Z"
   },
   {
    "duration": 3,
    "start_time": "2022-11-26T17:00:08.087Z"
   },
   {
    "duration": 4,
    "start_time": "2022-11-26T17:00:17.440Z"
   },
   {
    "duration": 75,
    "start_time": "2022-11-26T17:00:18.976Z"
   },
   {
    "duration": 3,
    "start_time": "2022-11-26T17:00:26.693Z"
   },
   {
    "duration": 4,
    "start_time": "2022-11-26T17:00:31.985Z"
   },
   {
    "duration": 4,
    "start_time": "2022-11-26T17:00:35.806Z"
   },
   {
    "duration": 4,
    "start_time": "2022-11-26T17:00:38.489Z"
   },
   {
    "duration": 1462,
    "start_time": "2022-11-26T17:00:43.714Z"
   },
   {
    "duration": 4,
    "start_time": "2022-11-26T17:01:18.820Z"
   },
   {
    "duration": 5,
    "start_time": "2022-11-26T17:01:19.135Z"
   },
   {
    "duration": 5,
    "start_time": "2022-11-26T17:01:23.349Z"
   },
   {
    "duration": 4,
    "start_time": "2022-11-26T17:01:23.797Z"
   },
   {
    "duration": 5,
    "start_time": "2022-11-26T17:01:24.239Z"
   },
   {
    "duration": 4,
    "start_time": "2022-11-26T17:04:34.366Z"
   },
   {
    "duration": 131,
    "start_time": "2022-11-26T17:04:39.367Z"
   },
   {
    "duration": 4,
    "start_time": "2022-11-26T17:05:13.411Z"
   },
   {
    "duration": 19,
    "start_time": "2022-11-26T17:05:18.103Z"
   },
   {
    "duration": 4,
    "start_time": "2022-11-26T17:08:16.025Z"
   },
   {
    "duration": 35950,
    "start_time": "2022-11-26T17:08:20.735Z"
   },
   {
    "duration": 5,
    "start_time": "2022-11-26T17:08:56.687Z"
   },
   {
    "duration": 4,
    "start_time": "2022-11-26T17:09:31.903Z"
   },
   {
    "duration": 4,
    "start_time": "2022-11-26T17:11:25.710Z"
   },
   {
    "duration": 30,
    "start_time": "2022-11-26T17:12:03.814Z"
   },
   {
    "duration": 3,
    "start_time": "2022-11-26T17:12:05.468Z"
   },
   {
    "duration": 58,
    "start_time": "2022-11-26T17:12:07.924Z"
   },
   {
    "duration": 24,
    "start_time": "2022-11-26T17:12:08.507Z"
   },
   {
    "duration": 1472,
    "start_time": "2022-11-26T17:12:17.380Z"
   },
   {
    "duration": 12,
    "start_time": "2022-11-26T17:12:37.304Z"
   },
   {
    "duration": 9,
    "start_time": "2022-11-26T17:12:54.149Z"
   },
   {
    "duration": 1564,
    "start_time": "2022-11-26T17:13:14.037Z"
   },
   {
    "duration": 848,
    "start_time": "2022-11-26T17:13:15.603Z"
   },
   {
    "duration": 4,
    "start_time": "2022-11-26T17:13:16.453Z"
   },
   {
    "duration": 496,
    "start_time": "2022-11-26T17:13:16.459Z"
   },
   {
    "duration": 6,
    "start_time": "2022-11-26T17:13:16.957Z"
   },
   {
    "duration": 7,
    "start_time": "2022-11-26T17:13:16.965Z"
   },
   {
    "duration": 297,
    "start_time": "2022-11-26T17:13:16.974Z"
   },
   {
    "duration": 3,
    "start_time": "2022-11-26T17:13:17.273Z"
   },
   {
    "duration": 6,
    "start_time": "2022-11-26T17:13:17.279Z"
   },
   {
    "duration": 35681,
    "start_time": "2022-11-26T17:13:17.288Z"
   },
   {
    "duration": 5,
    "start_time": "2022-11-26T17:13:52.970Z"
   },
   {
    "duration": 8,
    "start_time": "2022-11-26T17:13:52.976Z"
   },
   {
    "duration": 41,
    "start_time": "2022-11-26T17:13:52.986Z"
   },
   {
    "duration": 4,
    "start_time": "2022-11-26T17:13:53.028Z"
   },
   {
    "duration": 59,
    "start_time": "2022-11-26T17:13:53.034Z"
   },
   {
    "duration": 38,
    "start_time": "2022-11-26T17:13:53.094Z"
   },
   {
    "duration": 6848,
    "start_time": "2022-11-26T17:13:53.133Z"
   },
   {
    "duration": 3,
    "start_time": "2022-11-26T17:13:59.983Z"
   },
   {
    "duration": 105391,
    "start_time": "2022-11-26T17:13:59.988Z"
   },
   {
    "duration": 2,
    "start_time": "2022-11-26T17:15:45.381Z"
   },
   {
    "duration": 40540,
    "start_time": "2022-11-26T17:15:45.385Z"
   },
   {
    "duration": 95,
    "start_time": "2022-11-26T17:16:25.927Z"
   },
   {
    "duration": 3,
    "start_time": "2022-11-26T17:16:26.024Z"
   },
   {
    "duration": 38701,
    "start_time": "2022-11-26T17:16:26.028Z"
   },
   {
    "duration": 3,
    "start_time": "2022-11-26T17:17:04.731Z"
   },
   {
    "duration": 24,
    "start_time": "2022-11-26T17:17:04.736Z"
   },
   {
    "duration": 13,
    "start_time": "2022-11-26T17:17:04.762Z"
   },
   {
    "duration": 41,
    "start_time": "2022-11-26T17:17:04.778Z"
   },
   {
    "duration": 2257,
    "start_time": "2022-11-27T07:18:34.394Z"
   },
   {
    "duration": 3300,
    "start_time": "2022-11-27T07:18:36.653Z"
   },
   {
    "duration": 4,
    "start_time": "2022-11-27T07:18:39.955Z"
   },
   {
    "duration": 423,
    "start_time": "2022-11-27T07:18:39.961Z"
   },
   {
    "duration": 6,
    "start_time": "2022-11-27T07:18:40.386Z"
   },
   {
    "duration": 8,
    "start_time": "2022-11-27T07:18:40.394Z"
   },
   {
    "duration": 281,
    "start_time": "2022-11-27T07:18:40.403Z"
   },
   {
    "duration": 3,
    "start_time": "2022-11-27T07:18:40.685Z"
   },
   {
    "duration": 6,
    "start_time": "2022-11-27T07:18:40.689Z"
   },
   {
    "duration": 35105,
    "start_time": "2022-11-27T07:18:49.888Z"
   },
   {
    "duration": 4,
    "start_time": "2022-11-27T07:19:35.511Z"
   },
   {
    "duration": 4,
    "start_time": "2022-11-27T07:19:35.912Z"
   },
   {
    "duration": 4,
    "start_time": "2022-11-27T07:19:41.415Z"
   },
   {
    "duration": 5,
    "start_time": "2022-11-27T07:19:55.143Z"
   }
  ],
  "kernelspec": {
   "display_name": "Python 3 (ipykernel)",
   "language": "python",
   "name": "python3"
  },
  "language_info": {
   "codemirror_mode": {
    "name": "ipython",
    "version": 3
   },
   "file_extension": ".py",
   "mimetype": "text/x-python",
   "name": "python",
   "nbconvert_exporter": "python",
   "pygments_lexer": "ipython3",
   "version": "3.9.13"
  },
  "toc": {
   "base_numbering": 1,
   "nav_menu": {},
   "number_sections": true,
   "sideBar": true,
   "skip_h1_title": true,
   "title_cell": "Содержание",
   "title_sidebar": "Contents",
   "toc_cell": true,
   "toc_position": {
    "height": "calc(100% - 180px)",
    "left": "10px",
    "top": "150px",
    "width": "217.153px"
   },
   "toc_section_display": true,
   "toc_window_display": true
  }
 },
 "nbformat": 4,
 "nbformat_minor": 2
}
