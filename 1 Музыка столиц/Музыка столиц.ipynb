{
 "cells": [
  {
   "cell_type": "markdown",
   "metadata": {
    "id": "VUC88oWjTJw2"
   },
   "source": [
    "**Цель исследования** — проверьте три гипотезы:\n",
    "1. Активность пользователей зависит от дня недели. Причём в Москве и Петербурге это проявляется по-разному.\n",
    "2. В понедельник утром в Москве преобладают одни жанры, а в Петербурге — другие. Так же и вечером пятницы преобладают разные жанры — в зависимости от города. \n",
    "3. Москва и Петербург предпочитают разные жанры музыки. В Москве чаще слушают поп-музыку, в Петербурге — русский рэп.\n"
   ]
  },
  {
   "cell_type": "code",
   "execution_count": 1,
   "metadata": {
    "deletable": false,
    "id": "AXN7PHPN_Zcs"
   },
   "outputs": [],
   "source": [
    "import pandas as pd# импорт библиотеки pandas"
   ]
  },
  {
   "cell_type": "code",
   "execution_count": 2,
   "metadata": {
    "deletable": false,
    "id": "fFVu7vqh_Zct"
   },
   "outputs": [],
   "source": [
    "df = pd.read_csv('/datasets/yandex_music_project.csv')# чтение файла с данными и сохранение в df"
   ]
  },
  {
   "cell_type": "code",
   "execution_count": 3,
   "metadata": {
    "deletable": false,
    "id": "oWTVX3gW_Zct"
   },
   "outputs": [
    {
     "name": "stdout",
     "output_type": "stream",
     "text": [
      "     userID                        Track            artist   genre  \\\n",
      "0  FFB692EC            Kamigata To Boots  The Mass Missile    rock   \n",
      "1  55204538  Delayed Because of Accident  Andreas Rönnberg    rock   \n",
      "2    20EC38            Funiculì funiculà       Mario Lanza     pop   \n",
      "3  A3DD03C9        Dragons in the Sunset        Fire + Ice    folk   \n",
      "4  E2DC1FAE                  Soul People        Space Echo   dance   \n",
      "5  842029A1                    Преданная         IMPERVTOR  rusrap   \n",
      "6  4CB90AA5                         True      Roman Messer   dance   \n",
      "7  F03E1C1F             Feeling This Way   Polina Griffith   dance   \n",
      "8  8FA1D3BE     И вновь продолжается бой               NaN  ruspop   \n",
      "9  E772D5C0                    Pessimist               NaN   dance   \n",
      "\n",
      "             City        time        Day  \n",
      "0  Saint-Petersburg  20:28:33  Wednesday  \n",
      "1            Moscow  14:07:09     Friday  \n",
      "2  Saint-Petersburg  20:58:07  Wednesday  \n",
      "3  Saint-Petersburg  08:37:09     Monday  \n",
      "4            Moscow  08:34:34     Monday  \n",
      "5  Saint-Petersburg  13:09:41     Friday  \n",
      "6            Moscow  13:00:07  Wednesday  \n",
      "7            Moscow  20:47:49  Wednesday  \n",
      "8            Moscow  09:17:40     Friday  \n",
      "9  Saint-Petersburg  21:20:49  Wednesday  \n"
     ]
    }
   ],
   "source": [
    "print(df.head(10)) # выведение первых 10 строк таблице"
   ]
  },
  {
   "cell_type": "code",
   "execution_count": 4,
   "metadata": {
    "deletable": false,
    "id": "DSf2kIb-_Zct"
   },
   "outputs": [
    {
     "name": "stdout",
     "output_type": "stream",
     "text": [
      "<class 'pandas.core.frame.DataFrame'>\n",
      "RangeIndex: 65079 entries, 0 to 65078\n",
      "Data columns (total 7 columns):\n",
      " #   Column    Non-Null Count  Dtype \n",
      "---  ------    --------------  ----- \n",
      " 0     userID  65079 non-null  object\n",
      " 1   Track     63848 non-null  object\n",
      " 2   artist    57876 non-null  object\n",
      " 3   genre     63881 non-null  object\n",
      " 4     City    65079 non-null  object\n",
      " 5   time      65079 non-null  object\n",
      " 6   Day       65079 non-null  object\n",
      "dtypes: object(7)\n",
      "memory usage: 3.5+ MB\n"
     ]
    }
   ],
   "source": [
    "df.info()# получение общей информации о данных в таблице df"
   ]
  },
  {
   "cell_type": "markdown",
   "metadata": {
    "deletable": false,
    "editable": false,
    "id": "TaQ2Iwbr_Zct"
   },
   "source": [
    "Итак, в таблице семь столбцов. Тип данных во всех столбцах — `object`.\n",
    "\n",
    "Согласно документации к данным:\n",
    "* `userID` — идентификатор пользователя;\n",
    "* `Track` — название трека;  \n",
    "* `artist` — имя исполнителя;\n",
    "* `genre` — название жанра;\n",
    "* `City` — город пользователя;\n",
    "* `time` — время начала прослушивания;\n",
    "* `Day` — день недели.\n",
    "\n",
    "Количество значений в столбцах различается. Значит, в данных есть пропущенные значения."
   ]
  },
  {
   "cell_type": "markdown",
   "metadata": {
    "id": "rAfziTBDmf2h",
    "tags": [
     "start_task"
    ]
   },
   "source": [
    "В названиях колонок видны нарушения стиля:\n",
    "* Строчные буквы сочетаются с прописными.\n",
    "* Встречаются пробелы.\n",
    "* Отсутствует стилистика змеиного языка"
   ]
  },
  {
   "cell_type": "markdown",
   "metadata": {
    "deletable": false,
    "editable": false,
    "id": "MCB6-dXG_Zct"
   },
   "source": [
    "**Выводы**\n",
    "\n",
    "В каждой строке таблицы — данные о прослушанном треке. Часть колонок описывает саму композицию: название, исполнителя и жанр. Остальные данные рассказывают о пользователе: из какого он города, когда он слушал музыку. \n",
    "\n",
    "Предварительно можно утверждать, что данных достаточно для проверки гипотез. Но встречаются пропуски в данных, а в названиях колонок — расхождения с хорошим стилем.\n",
    "\n",
    "Чтобы двигаться дальше, нужно устранить проблемы в данных."
   ]
  },
  {
   "cell_type": "markdown",
   "metadata": {
    "id": "SjYF6Ub9_Zct"
   },
   "source": [
    "## Предобработка данных"
   ]
  },
  {
   "cell_type": "code",
   "execution_count": 6,
   "metadata": {
    "deletable": false,
    "id": "oKOTdF_Q_Zct",
    "scrolled": false
   },
   "outputs": [
    {
     "data": {
      "text/plain": [
       "Index(['  userID', 'Track', 'artist', 'genre', '  City  ', 'time', 'Day'], dtype='object')"
      ]
     },
     "execution_count": 6,
     "metadata": {},
     "output_type": "execute_result"
    }
   ],
   "source": [
    "df.columns# просмотрим перечень названий столбцов таблицы df"
   ]
  },
  {
   "cell_type": "markdown",
   "metadata": {
    "id": "zj5534cv_Zct",
    "tags": [
     "start_task"
    ]
   },
   "source": [
    "Приведу названия в соответствие с хорошим стилем:\n",
    "* слова в названии запишу в «змеином_регистре»,\n",
    "* все символы сделаю строчными,\n",
    "* устраню пробелы.\n",
    "\n",
    "Для этого переименуйте колонки так:\n",
    "* `'  userID'` → `'user_id'`;\n",
    "* `'Track'` → `'track'`;\n",
    "* `'  City  '` → `'city'`;\n",
    "* `'Day'` → `'day'`."
   ]
  },
  {
   "cell_type": "code",
   "execution_count": 7,
   "metadata": {
    "deletable": false,
    "id": "ISlFqs5y_Zct"
   },
   "outputs": [],
   "source": [
    "# переименование столбцов\n",
    "df=df.rename(columns={'  userID' : 'user_id', 'Track' : 'track', '  City  ' : 'city', 'Day' : 'day'})"
   ]
  },
  {
   "cell_type": "markdown",
   "metadata": {
    "deletable": false,
    "editable": false,
    "id": "1dqbh00J_Zct",
    "tags": [
     "start_task"
    ]
   },
   "source": [
    "**Задание 8**\n",
    "\n",
    "\n",
    "Проверьте результат. Для этого ещё раз выведите на экран названия столбцов:"
   ]
  },
  {
   "cell_type": "code",
   "execution_count": 8,
   "metadata": {
    "deletable": false,
    "id": "d4NOAmTW_Zct"
   },
   "outputs": [
    {
     "data": {
      "text/plain": [
       "Index(['user_id', 'track', 'artist', 'genre', 'city', 'time', 'day'], dtype='object')"
      ]
     },
     "execution_count": 8,
     "metadata": {},
     "output_type": "execute_result"
    }
   ],
   "source": [
    "df.columns # проверка результатов - перечень названий столбцов"
   ]
  },
  {
   "cell_type": "code",
   "execution_count": 9,
   "metadata": {
    "deletable": false,
    "id": "RskX29qr_Zct"
   },
   "outputs": [
    {
     "data": {
      "text/plain": [
       "user_id       0\n",
       "track      1231\n",
       "artist     7203\n",
       "genre      1198\n",
       "city          0\n",
       "time          0\n",
       "day           0\n",
       "dtype: int64"
      ]
     },
     "execution_count": 9,
     "metadata": {},
     "output_type": "execute_result"
    }
   ],
   "source": [
    "df.isna().sum()# подсчёт пропусков"
   ]
  },
  {
   "cell_type": "markdown",
   "metadata": {
    "id": "qubhgnlO_Zct"
   },
   "source": [
    "Не все пропущенные значения влияют на исследование. Так в `track` и `artist` пропуски не важны для текущей работы. Достаточно заменить их явными обозначениями.\n",
    "\n",
    "Но пропуски в `genre` могут помешать сравнению музыкальных вкусов в Москве и Санкт-Петербурге. На практике было бы правильно установить причину пропусков и восстановить данные. Такой возможности нет в учебном проекте. Придётся:\n",
    "* заполнить и эти пропуски явными обозначениями;\n",
    "* оценить, насколько они повредят расчётам. "
   ]
  },
  {
   "cell_type": "markdown",
   "metadata": {
    "id": "fSv2laPA_Zct",
    "tags": [
     "start_task"
    ]
   },
   "source": [
    "Заменю пропущенные значения в столбцах `track`, `artist` и `genre` на строку `'unknown'`. Для этого создайте список `columns_to_replace`, переберите его элементы циклом `for` и для каждого столбца выполните замену пропущенных значений:"
   ]
  },
  {
   "cell_type": "code",
   "execution_count": 10,
   "metadata": {
    "deletable": false,
    "id": "KplB5qWs_Zct"
   },
   "outputs": [],
   "source": [
    "columns_to_replace = ['track', 'artist', 'genre']\n",
    "for rep in columns_to_replace:\n",
    "    df[rep] = df[rep].fillna('unknown')"
   ]
  },
  {
   "cell_type": "code",
   "execution_count": 11,
   "metadata": {
    "deletable": false,
    "id": "Tq4nYRX4_Zct"
   },
   "outputs": [
    {
     "data": {
      "text/plain": [
       "user_id    0\n",
       "track      0\n",
       "artist     0\n",
       "genre      0\n",
       "city       0\n",
       "time       0\n",
       "day        0\n",
       "dtype: int64"
      ]
     },
     "execution_count": 11,
     "metadata": {},
     "output_type": "execute_result"
    }
   ],
   "source": [
    "df.isna().sum()# перепроверка пропусков"
   ]
  },
  {
   "cell_type": "code",
   "execution_count": 12,
   "metadata": {
    "deletable": false,
    "id": "36eES_S0_Zct"
   },
   "outputs": [
    {
     "data": {
      "text/plain": [
       "3826"
      ]
     },
     "execution_count": 12,
     "metadata": {},
     "output_type": "execute_result"
    }
   ],
   "source": [
    "df.duplicated().sum()\n",
    "# подсчёт явных дубликатов"
   ]
  },
  {
   "cell_type": "code",
   "execution_count": 13,
   "metadata": {
    "deletable": false,
    "id": "exFHq6tt_Zct"
   },
   "outputs": [],
   "source": [
    "df = df.drop_duplicates()# удаление явных дубликатов"
   ]
  },
  {
   "cell_type": "code",
   "execution_count": 14,
   "metadata": {
    "deletable": false,
    "id": "-8PuNWQ0_Zct"
   },
   "outputs": [
    {
     "data": {
      "text/plain": [
       "0"
      ]
     },
     "execution_count": 14,
     "metadata": {},
     "output_type": "execute_result"
    }
   ],
   "source": [
    "df.duplicated().sum()#проверка на отсутствие дубликатов"
   ]
  },
  {
   "cell_type": "markdown",
   "metadata": {
    "id": "QlFBsxAr_Zct"
   },
   "source": [
    "Теперь избавлюсь от неявных дубликатов в колонке `genre`. Например, название одного и того же жанра может быть записано немного по-разному. Такие ошибки тоже повлияют на результат исследования."
   ]
  },
  {
   "cell_type": "markdown",
   "metadata": {
    "id": "eSjWwsOh_Zct",
    "tags": [
     "start_task"
    ]
   },
   "source": [
    "Выведу на экран список уникальных названий жанров, отсортированный в алфавитном порядке. Для этого:"
   ]
  },
  {
   "cell_type": "code",
   "execution_count": 15,
   "metadata": {
    "deletable": false,
    "id": "JIUcqzZN_Zct"
   },
   "outputs": [
    {
     "data": {
      "text/plain": [
       "array(['acid', 'acoustic', 'action', 'adult', 'africa', 'afrikaans',\n",
       "       'alternative', 'alternativepunk', 'ambient', 'americana',\n",
       "       'animated', 'anime', 'arabesk', 'arabic', 'arena',\n",
       "       'argentinetango', 'art', 'audiobook', 'author', 'avantgarde',\n",
       "       'axé', 'baile', 'balkan', 'beats', 'bigroom', 'black', 'bluegrass',\n",
       "       'blues', 'bollywood', 'bossa', 'brazilian', 'breakbeat', 'breaks',\n",
       "       'broadway', 'cantautori', 'cantopop', 'canzone', 'caribbean',\n",
       "       'caucasian', 'celtic', 'chamber', 'chanson', 'children', 'chill',\n",
       "       'chinese', 'choral', 'christian', 'christmas', 'classical',\n",
       "       'classicmetal', 'club', 'colombian', 'comedy', 'conjazz',\n",
       "       'contemporary', 'country', 'cuban', 'dance', 'dancehall',\n",
       "       'dancepop', 'dark', 'death', 'deep', 'deutschrock', 'deutschspr',\n",
       "       'dirty', 'disco', 'dnb', 'documentary', 'downbeat', 'downtempo',\n",
       "       'drum', 'dub', 'dubstep', 'eastern', 'easy', 'electronic',\n",
       "       'electropop', 'emo', 'entehno', 'epicmetal', 'estrada', 'ethnic',\n",
       "       'eurofolk', 'european', 'experimental', 'extrememetal', 'fado',\n",
       "       'fairytail', 'film', 'fitness', 'flamenco', 'folk', 'folklore',\n",
       "       'folkmetal', 'folkrock', 'folktronica', 'forró', 'frankreich',\n",
       "       'französisch', 'french', 'funk', 'future', 'gangsta', 'garage',\n",
       "       'german', 'ghazal', 'gitarre', 'glitch', 'gospel', 'gothic',\n",
       "       'grime', 'grunge', 'gypsy', 'handsup', \"hard'n'heavy\", 'hardcore',\n",
       "       'hardstyle', 'hardtechno', 'hip', 'hip-hop', 'hiphop',\n",
       "       'historisch', 'holiday', 'hop', 'horror', 'house', 'hymn', 'idm',\n",
       "       'independent', 'indian', 'indie', 'indipop', 'industrial',\n",
       "       'inspirational', 'instrumental', 'international', 'irish', 'jam',\n",
       "       'japanese', 'jazz', 'jewish', 'jpop', 'jungle', 'k-pop',\n",
       "       'karadeniz', 'karaoke', 'kayokyoku', 'korean', 'laiko', 'latin',\n",
       "       'latino', 'leftfield', 'local', 'lounge', 'loungeelectronic',\n",
       "       'lovers', 'malaysian', 'mandopop', 'marschmusik', 'meditative',\n",
       "       'mediterranean', 'melodic', 'metal', 'metalcore', 'mexican',\n",
       "       'middle', 'minimal', 'miscellaneous', 'modern', 'mood', 'mpb',\n",
       "       'muslim', 'native', 'neoklassik', 'neue', 'new', 'newage',\n",
       "       'newwave', 'nu', 'nujazz', 'numetal', 'oceania', 'old', 'opera',\n",
       "       'orchestral', 'other', 'piano', 'podcasts', 'pop', 'popdance',\n",
       "       'popelectronic', 'popeurodance', 'poprussian', 'post',\n",
       "       'posthardcore', 'postrock', 'power', 'progmetal', 'progressive',\n",
       "       'psychedelic', 'punjabi', 'punk', 'quebecois', 'ragga', 'ram',\n",
       "       'rancheras', 'rap', 'rave', 'reggae', 'reggaeton', 'regional',\n",
       "       'relax', 'religious', 'retro', 'rhythm', 'rnb', 'rnr', 'rock',\n",
       "       'rockabilly', 'rockalternative', 'rockindie', 'rockother',\n",
       "       'romance', 'roots', 'ruspop', 'rusrap', 'rusrock', 'russian',\n",
       "       'salsa', 'samba', 'scenic', 'schlager', 'self', 'sertanejo',\n",
       "       'shanson', 'shoegazing', 'showtunes', 'singer', 'ska', 'skarock',\n",
       "       'slow', 'smooth', 'soft', 'soul', 'soulful', 'sound', 'soundtrack',\n",
       "       'southern', 'specialty', 'speech', 'spiritual', 'sport',\n",
       "       'stonerrock', 'surf', 'swing', 'synthpop', 'synthrock',\n",
       "       'sängerportrait', 'tango', 'tanzorchester', 'taraftar', 'tatar',\n",
       "       'tech', 'techno', 'teen', 'thrash', 'top', 'traditional',\n",
       "       'tradjazz', 'trance', 'tribal', 'trip', 'triphop', 'tropical',\n",
       "       'türk', 'türkçe', 'ukrrock', 'unknown', 'urban', 'uzbek',\n",
       "       'variété', 'vi', 'videogame', 'vocal', 'western', 'world',\n",
       "       'worldbeat', 'ïîï', 'электроника'], dtype=object)"
      ]
     },
     "execution_count": 15,
     "metadata": {},
     "output_type": "execute_result"
    }
   ],
   "source": [
    "df['genre'].sort_values().unique()# Просмотр уникальных названий жанров"
   ]
  },
  {
   "cell_type": "markdown",
   "metadata": {
    "id": "qej-Qmuo_Zct",
    "tags": [
     "start_task"
    ]
   },
   "source": [
    "Просмотрев список можно найти неявные дубликаты названия `hiphop`. Это могут быть названия с ошибками или альтернативные названия того же жанра.\n",
    "\n",
    "Видно следующие неявные дубликаты:\n",
    "* *hip*,\n",
    "* *hop*,\n",
    "* *hip-hop*."
   ]
  },
  {
   "cell_type": "code",
   "execution_count": 16,
   "metadata": {
    "deletable": false,
    "id": "ErNDkmns_Zct"
   },
   "outputs": [],
   "source": [
    "genre_replace = ['hip', 'hop', 'hip-hop']\n",
    "df['genre'] = df['genre'].replace(genre_replace, 'hiphop')# Устранение неявных дубликатов"
   ]
  },
  {
   "cell_type": "code",
   "execution_count": 17,
   "metadata": {
    "deletable": false,
    "id": "wvixALnFG15m"
   },
   "outputs": [
    {
     "name": "stdout",
     "output_type": "stream",
     "text": [
      "['acid' 'acoustic' 'action' 'adult' 'africa' 'afrikaans' 'alternative'\n",
      " 'alternativepunk' 'ambient' 'americana' 'animated' 'anime' 'arabesk'\n",
      " 'arabic' 'arena' 'argentinetango' 'art' 'audiobook' 'author' 'avantgarde'\n",
      " 'axé' 'baile' 'balkan' 'beats' 'bigroom' 'black' 'bluegrass' 'blues'\n",
      " 'bollywood' 'bossa' 'brazilian' 'breakbeat' 'breaks' 'broadway'\n",
      " 'cantautori' 'cantopop' 'canzone' 'caribbean' 'caucasian' 'celtic'\n",
      " 'chamber' 'chanson' 'children' 'chill' 'chinese' 'choral' 'christian'\n",
      " 'christmas' 'classical' 'classicmetal' 'club' 'colombian' 'comedy'\n",
      " 'conjazz' 'contemporary' 'country' 'cuban' 'dance' 'dancehall' 'dancepop'\n",
      " 'dark' 'death' 'deep' 'deutschrock' 'deutschspr' 'dirty' 'disco' 'dnb'\n",
      " 'documentary' 'downbeat' 'downtempo' 'drum' 'dub' 'dubstep' 'eastern'\n",
      " 'easy' 'electronic' 'electropop' 'emo' 'entehno' 'epicmetal' 'estrada'\n",
      " 'ethnic' 'eurofolk' 'european' 'experimental' 'extrememetal' 'fado'\n",
      " 'fairytail' 'film' 'fitness' 'flamenco' 'folk' 'folklore' 'folkmetal'\n",
      " 'folkrock' 'folktronica' 'forró' 'frankreich' 'französisch' 'french'\n",
      " 'funk' 'future' 'gangsta' 'garage' 'german' 'ghazal' 'gitarre' 'glitch'\n",
      " 'gospel' 'gothic' 'grime' 'grunge' 'gypsy' 'handsup' \"hard'n'heavy\"\n",
      " 'hardcore' 'hardstyle' 'hardtechno' 'hiphop' 'historisch' 'holiday'\n",
      " 'horror' 'house' 'hymn' 'idm' 'independent' 'indian' 'indie' 'indipop'\n",
      " 'industrial' 'inspirational' 'instrumental' 'international' 'irish' 'jam'\n",
      " 'japanese' 'jazz' 'jewish' 'jpop' 'jungle' 'k-pop' 'karadeniz' 'karaoke'\n",
      " 'kayokyoku' 'korean' 'laiko' 'latin' 'latino' 'leftfield' 'local'\n",
      " 'lounge' 'loungeelectronic' 'lovers' 'malaysian' 'mandopop' 'marschmusik'\n",
      " 'meditative' 'mediterranean' 'melodic' 'metal' 'metalcore' 'mexican'\n",
      " 'middle' 'minimal' 'miscellaneous' 'modern' 'mood' 'mpb' 'muslim'\n",
      " 'native' 'neoklassik' 'neue' 'new' 'newage' 'newwave' 'nu' 'nujazz'\n",
      " 'numetal' 'oceania' 'old' 'opera' 'orchestral' 'other' 'piano' 'podcasts'\n",
      " 'pop' 'popdance' 'popelectronic' 'popeurodance' 'poprussian' 'post'\n",
      " 'posthardcore' 'postrock' 'power' 'progmetal' 'progressive' 'psychedelic'\n",
      " 'punjabi' 'punk' 'quebecois' 'ragga' 'ram' 'rancheras' 'rap' 'rave'\n",
      " 'reggae' 'reggaeton' 'regional' 'relax' 'religious' 'retro' 'rhythm'\n",
      " 'rnb' 'rnr' 'rock' 'rockabilly' 'rockalternative' 'rockindie' 'rockother'\n",
      " 'romance' 'roots' 'ruspop' 'rusrap' 'rusrock' 'russian' 'salsa' 'samba'\n",
      " 'scenic' 'schlager' 'self' 'sertanejo' 'shanson' 'shoegazing' 'showtunes'\n",
      " 'singer' 'ska' 'skarock' 'slow' 'smooth' 'soft' 'soul' 'soulful' 'sound'\n",
      " 'soundtrack' 'southern' 'specialty' 'speech' 'spiritual' 'sport'\n",
      " 'stonerrock' 'surf' 'swing' 'synthpop' 'synthrock' 'sängerportrait'\n",
      " 'tango' 'tanzorchester' 'taraftar' 'tatar' 'tech' 'techno' 'teen'\n",
      " 'thrash' 'top' 'traditional' 'tradjazz' 'trance' 'tribal' 'trip'\n",
      " 'triphop' 'tropical' 'türk' 'türkçe' 'ukrrock' 'unknown' 'urban' 'uzbek'\n",
      " 'variété' 'vi' 'videogame' 'vocal' 'western' 'world' 'worldbeat' 'ïîï'\n",
      " 'электроника']\n"
     ]
    }
   ],
   "source": [
    "print(df['genre'].sort_values().unique()) #Проверка на неявные дубликаты"
   ]
  },
  {
   "cell_type": "markdown",
   "metadata": {
    "id": "jz6a9-7HQUDd"
   },
   "source": [
    "**Выводы**\n",
    "\n",
    "Предобработка обнаружила три проблемы в данных:\n",
    "\n",
    "- нарушения в стиле заголовков,\n",
    "- пропущенные значения,\n",
    "- дубликаты — явные и неявные.\n",
    "\n",
    "Я исправил заголовки, чтобы упростить работу с таблицей. Без дубликатов исследование станет более точным.\n",
    "\n",
    "Пропущенные значения я заменил на `'unknown'`. Ещё предстоит увидеть, не повредят ли исследованию пропуски в колонке `genre`.\n",
    "\n",
    "Теперь можно перейти к проверке гипотез. "
   ]
  },
  {
   "cell_type": "markdown",
   "metadata": {
    "deletable": false,
    "editable": false,
    "id": "Im936VVi_Zcu"
   },
   "source": [
    "### Сравнение поведения пользователей двух столиц"
   ]
  },
  {
   "cell_type": "markdown",
   "metadata": {
    "deletable": false,
    "editable": false,
    "id": "nwt_MuaL_Zcu"
   },
   "source": [
    "Первая гипотеза утверждает, что пользователи по-разному слушают музыку в Москве и Санкт-Петербурге. Проверьте это предположение по данным о трёх днях недели — понедельнике, среде и пятнице. Для этого:\n",
    "\n",
    "* Разделите пользователей Москвы и Санкт-Петербурга.\n",
    "* Сравните, сколько треков послушала каждая группа пользователей в понедельник, среду и пятницу.\n"
   ]
  },
  {
   "cell_type": "markdown",
   "metadata": {
    "id": "8Dw_YMmT_Zcu",
    "tags": [
     "start_task"
    ]
   },
   "source": [
    "\n",
    "Для тренировки сначала выполните каждый из расчётов по отдельности. \n",
    "\n",
    "Оцениваю активность пользователей в каждом городе. Сгруппирую данные по городу и посчитаю прослушивания в каждой группе.\n",
    "\n"
   ]
  },
  {
   "cell_type": "code",
   "execution_count": 18,
   "metadata": {
    "deletable": false,
    "id": "0_Qs96oh_Zcu"
   },
   "outputs": [
    {
     "data": {
      "text/plain": [
       "city\n",
       "Moscow              42741\n",
       "Saint-Petersburg    18512\n",
       "Name: city, dtype: int64"
      ]
     },
     "execution_count": 18,
     "metadata": {},
     "output_type": "execute_result"
    }
   ],
   "source": [
    "df.groupby('city')['city'].count()# Подсчёт прослушиваний в каждом городе"
   ]
  },
  {
   "cell_type": "markdown",
   "metadata": {
    "id": "dzli3w8o_Zcu",
    "tags": [
     "start_task"
    ]
   },
   "source": [
    "В Москве прослушиваний больше, чем в Петербурге. Из этого не следует, что московские пользователи чаще слушают музыку. Просто самих пользователей в Москве больше.\n",
    "\n",
    "Теперь сгруппирую данные по дню недели и посчитаю прослушивания в понедельник, среду и пятницу. Учту, что в данных есть информация о прослушиваниях только за эти дни.\n"
   ]
  },
  {
   "cell_type": "code",
   "execution_count": 19,
   "metadata": {
    "deletable": false,
    "id": "uZMKjiJz_Zcu"
   },
   "outputs": [
    {
     "data": {
      "text/plain": [
       "day\n",
       "Friday       21840\n",
       "Monday       21354\n",
       "Wednesday    18059\n",
       "Name: day, dtype: int64"
      ]
     },
     "execution_count": 19,
     "metadata": {},
     "output_type": "execute_result"
    }
   ],
   "source": [
    "df.groupby('day')['day'].count()# Подсчёт прослушиваний в каждый из трёх дней"
   ]
  },
  {
   "cell_type": "markdown",
   "metadata": {
    "deletable": false,
    "editable": false,
    "id": "cC2tNrlL_Zcu"
   },
   "source": [
    "В среднем пользователи из двух городов менее активны по средам. Но картина может измениться, если рассмотреть каждый город в отдельности."
   ]
  },
  {
   "cell_type": "markdown",
   "metadata": {
    "id": "POzs8bGa_Zcu",
    "tags": [
     "start_task"
    ]
   },
   "source": [
    "\n",
    "Далее используем функцию, которая объединит два эти расчёта.\n"
   ]
  },
  {
   "cell_type": "code",
   "execution_count": 20,
   "metadata": {
    "deletable": false,
    "id": "Nz3GdQB1_Zcu"
   },
   "outputs": [],
   "source": [
    "def number_tracks(day,city): # <создание функции number_tracks()>\n",
    "    track_list = df[df['day'] == day]\n",
    "    track_list = track_list[track_list['city'] == city]\n",
    "    track_list_count = track_list['user_id'].count()\n",
    "    return track_list_count\n",
    "        \n",
    "# Объявляется функция с двумя параметрами: day, city.       \n",
    "# В переменной track_list сохраняются те строки таблицы df, для которых \n",
    "# значение в столбце 'day' равно параметру day и одновременно значение\n",
    "# в столбце 'city' равно параметру city (используйте последовательную фильтрацию\n",
    "# с помощью логической индексации или сложные логические выражения в одну строку, если вы уже знакомы с ними).\n",
    "# В переменной track_list_count сохраняется число значений столбца 'user_id',\n",
    "# рассчитанное методом count() для таблицы track_list.\n",
    "# Функция возвращает число - значение track_list_count.\n",
    "\n",
    "# Функция для подсчёта прослушиваний для конкретного города и дня.\n",
    "# С помощью последовательной фильтрации с логической индексацией она \n",
    "# сначала получит из исходной таблицы строки с нужным днём,\n",
    "# затем из результата отфильтрует строки с нужным городом,\n",
    "# методом count() посчитает количество значений в колонке user_id. \n",
    "# Это количество функция вернёт в качестве результата"
   ]
  },
  {
   "cell_type": "markdown",
   "metadata": {
    "id": "ytf7xFrFJQ2r",
    "tags": [
     "start_task"
    ]
   },
   "source": [
    "Теперь вызовим `number_tracks()` шесть раз, меняя значение параметров — так, чтобы получить данные для каждого города в каждый из трёх дней."
   ]
  },
  {
   "cell_type": "code",
   "execution_count": 21,
   "metadata": {
    "deletable": false,
    "id": "rJcRATNQ_Zcu"
   },
   "outputs": [
    {
     "data": {
      "text/plain": [
       "15740"
      ]
     },
     "execution_count": 21,
     "metadata": {},
     "output_type": "execute_result"
    }
   ],
   "source": [
    "number_tracks(day = 'Monday', city = 'Moscow')\n",
    "#print(ms_monday)\n",
    "# количество прослушиваний в Москве по понедельникам"
   ]
  },
  {
   "cell_type": "code",
   "execution_count": 22,
   "metadata": {
    "deletable": false,
    "id": "hq_ncZ5T_Zcu"
   },
   "outputs": [
    {
     "data": {
      "text/plain": [
       "5614"
      ]
     },
     "execution_count": 22,
     "metadata": {},
     "output_type": "execute_result"
    }
   ],
   "source": [
    "number_tracks(day = 'Monday', city = 'Saint-Petersburg')\n",
    "#print(spb_monday)\n",
    "# количество прослушиваний в Санкт-Петербурге по понедельникам"
   ]
  },
  {
   "cell_type": "code",
   "execution_count": 23,
   "metadata": {
    "deletable": false,
    "id": "_NTy2VPU_Zcu"
   },
   "outputs": [
    {
     "data": {
      "text/plain": [
       "11056"
      ]
     },
     "execution_count": 23,
     "metadata": {},
     "output_type": "execute_result"
    }
   ],
   "source": [
    "number_tracks(day = 'Wednesday', city = 'Moscow')\n",
    "#print(ms_wed)\n",
    "# количество прослушиваний в Москве по средам"
   ]
  },
  {
   "cell_type": "code",
   "execution_count": 24,
   "metadata": {
    "deletable": false,
    "id": "j2y3TAwo_Zcu"
   },
   "outputs": [
    {
     "data": {
      "text/plain": [
       "7003"
      ]
     },
     "execution_count": 24,
     "metadata": {},
     "output_type": "execute_result"
    }
   ],
   "source": [
    "number_tracks(day = 'Wednesday', city = 'Saint-Petersburg')\n",
    "#print(spb_wed)\n",
    "#количество прослушиваний в Санкт-Петербурге по средам"
   ]
  },
  {
   "cell_type": "code",
   "execution_count": 25,
   "metadata": {
    "deletable": false,
    "id": "vYDw5u_K_Zcu"
   },
   "outputs": [
    {
     "data": {
      "text/plain": [
       "15945"
      ]
     },
     "execution_count": 25,
     "metadata": {},
     "output_type": "execute_result"
    }
   ],
   "source": [
    "number_tracks(day = 'Friday', city = 'Moscow')\n",
    "#print(ms_friday)\n",
    "# количество прослушиваний в Москве по пятницам"
   ]
  },
  {
   "cell_type": "code",
   "execution_count": 26,
   "metadata": {
    "deletable": false,
    "id": "8_yzFtW3_Zcu"
   },
   "outputs": [
    {
     "data": {
      "text/plain": [
       "5895"
      ]
     },
     "execution_count": 26,
     "metadata": {},
     "output_type": "execute_result"
    }
   ],
   "source": [
    "number_tracks(day = 'Friday', city = 'Saint-Petersburg')\n",
    "#print(spb_friday)\n",
    "# количество прослушиваний в Санкт-Петербурге по пятницам"
   ]
  },
  {
   "cell_type": "markdown",
   "metadata": {
    "id": "7QXffbO-_Zcu",
    "tags": [
     "start_task"
    ]
   },
   "source": [
    "Создам c помощью конструктора `pd.DataFrame` таблицу, где\n",
    "* названия колонок — `['city', 'monday', 'wednesday', 'friday']`;\n",
    "* данные — результаты, которые вы получили с помощью `number_tracks`."
   ]
  },
  {
   "cell_type": "code",
   "execution_count": 27,
   "metadata": {
    "deletable": false,
    "id": "APAcLpOr_Zcu"
   },
   "outputs": [
    {
     "data": {
      "text/html": [
       "<div>\n",
       "<style scoped>\n",
       "    .dataframe tbody tr th:only-of-type {\n",
       "        vertical-align: middle;\n",
       "    }\n",
       "\n",
       "    .dataframe tbody tr th {\n",
       "        vertical-align: top;\n",
       "    }\n",
       "\n",
       "    .dataframe thead th {\n",
       "        text-align: right;\n",
       "    }\n",
       "</style>\n",
       "<table border=\"1\" class=\"dataframe\">\n",
       "  <thead>\n",
       "    <tr style=\"text-align: right;\">\n",
       "      <th></th>\n",
       "      <th>city</th>\n",
       "      <th>monday</th>\n",
       "      <th>wednesday</th>\n",
       "      <th>friday</th>\n",
       "    </tr>\n",
       "  </thead>\n",
       "  <tbody>\n",
       "    <tr>\n",
       "      <th>0</th>\n",
       "      <td>moscow</td>\n",
       "      <td>15740</td>\n",
       "      <td>11056</td>\n",
       "      <td>15945</td>\n",
       "    </tr>\n",
       "    <tr>\n",
       "      <th>1</th>\n",
       "      <td>saint_petersburg</td>\n",
       "      <td>5614</td>\n",
       "      <td>7003</td>\n",
       "      <td>5895</td>\n",
       "    </tr>\n",
       "  </tbody>\n",
       "</table>\n",
       "</div>"
      ],
      "text/plain": [
       "               city  monday  wednesday  friday\n",
       "0            moscow   15740      11056   15945\n",
       "1  saint_petersburg    5614       7003    5895"
      ]
     },
     "execution_count": 27,
     "metadata": {},
     "output_type": "execute_result"
    }
   ],
   "source": [
    "data = [['moscow', \n",
    "        number_tracks(day = 'Monday', city = 'Moscow'),\n",
    "        number_tracks(day = 'Wednesday', city = 'Moscow'),\n",
    "        number_tracks(day = 'Friday', city = 'Moscow')],\n",
    "        ['saint_petersburg',\n",
    "        number_tracks(day = 'Monday', city = 'Saint-Petersburg'),\n",
    "        number_tracks(day = 'Wednesday', city = 'Saint-Petersburg'),\n",
    "        number_tracks(day = 'Friday', city = 'Saint-Petersburg')]]\n",
    "columns = ['city', 'monday', 'wednesday', 'friday']\n",
    "pd.DataFrame(data=data,columns=columns)# Таблица с результатами"
   ]
  },
  {
   "cell_type": "markdown",
   "metadata": {
    "deletable": false,
    "editable": false,
    "id": "-EgPIHYu_Zcu"
   },
   "source": [
    "**Выводы**\n",
    "\n",
    "Данные показывают разницу поведения пользователей:\n",
    "\n",
    "- В Москве пик прослушиваний приходится на понедельник и пятницу, а в среду заметен спад.\n",
    "- В Петербурге, наоборот, больше слушают музыку по средам. Активность в понедельник и пятницу здесь почти в равной мере уступает среде.\n",
    "\n",
    "Значит, данные говорят в пользу первой гипотезы."
   ]
  },
  {
   "cell_type": "markdown",
   "metadata": {
    "deletable": false,
    "editable": false,
    "id": "atZAxtq4_Zcu"
   },
   "source": [
    "### Музыка в начале и в конце недели"
   ]
  },
  {
   "cell_type": "markdown",
   "metadata": {
    "deletable": false,
    "editable": false,
    "id": "eXrQqXFH_Zcu"
   },
   "source": [
    "Согласно второй гипотезе, утром в понедельник в Москве преобладают одни жанры, а в Петербурге — другие. Так же и вечером пятницы преобладают разные жанры — в зависимости от города."
   ]
  },
  {
   "cell_type": "markdown",
   "metadata": {
    "id": "S8UcW6Hw_Zcu",
    "tags": [
     "start_task"
    ]
   },
   "source": [
    "Сохраню таблицы с данными в две переменные:\n",
    "* по Москве — в `moscow_general`;\n",
    "* по Санкт-Петербургу — в `spb_general`."
   ]
  },
  {
   "cell_type": "code",
   "execution_count": 28,
   "metadata": {
    "deletable": false,
    "id": "qeaFfM_P_Zcu"
   },
   "outputs": [],
   "source": [
    "moscow_general = df[df['city'] == 'Moscow']# получение таблицы moscow_general из тех строк таблицы df, \n",
    "# для которых значение в столбце 'city' равно 'Moscow'\n",
    "#print(moscow_general)"
   ]
  },
  {
   "cell_type": "code",
   "execution_count": 29,
   "metadata": {
    "deletable": false,
    "id": "ORaVRKto_Zcu"
   },
   "outputs": [],
   "source": [
    "spb_general = df[df['city'] == 'Saint-Petersburg']# получение таблицы spb_general из тех строк таблицы df,\n",
    "# для которых значение в столбце 'city' равно 'Saint-Petersburg'\n"
   ]
  },
  {
   "cell_type": "markdown",
   "metadata": {
    "deletable": false,
    "id": "MEJV-CX2_Zcu",
    "tags": [
     "start_task"
    ]
   },
   "source": [
    "Создам функцию `genre_weekday()` с четырьмя параметрами:\n",
    "* таблица (датафрейм) с данными,\n",
    "* день недели,\n",
    "* начальная временная метка в формате 'hh:mm', \n",
    "* последняя временная метка в формате 'hh:mm'.\n",
    "\n",
    "Функция должна вернуть информацию о топ-10 жанров тех треков, которые прослушивали в указанный день, в промежутке между двумя отметками времени."
   ]
  },
  {
   "cell_type": "code",
   "execution_count": 30,
   "metadata": {
    "deletable": false,
    "id": "laJT9BYl_Zcu"
   },
   "outputs": [],
   "source": [
    "# Объявление функции genre_weekday() с параметрами table, day, time1, time2,\n",
    "# которая возвращает информацию о самых популярных жанрах в указанный день в\n",
    "# заданное время:\n",
    "# 1) в переменную genre_df сохраняются те строки переданного датафрейма table, для\n",
    "#    которых одновременно:\n",
    "#    - значение в столбце day равно значению аргумента day\n",
    "#    - значение в столбце time больше значения аргумента time1\n",
    "#    - значение в столбце time меньше значения аргумента time2\n",
    "#    Используйте последовательную фильтрацию с помощью логической индексации.\n",
    "# 2) сгруппировать датафрейм genre_df по столбцу genre, взять один из его\n",
    "#    столбцов и посчитать методом count() количество записей для каждого из\n",
    "#    присутствующих жанров, получившийся Series записать в переменную\n",
    "#    genre_df_count\n",
    "# 3) отсортировать genre_df_count по убыванию встречаемости и сохранить\n",
    "#    в переменную genre_df_sorted\n",
    "# 4) вернуть Series из 10 первых значений genre_df_sorted, это будут топ-10\n",
    "#    популярных жанров (в указанный день, в заданное время)\n",
    "\n",
    "def genre_weekday(df, day, time1, time2):\n",
    "    # последовательная фильтрация\n",
    "    # оставляем в genre_df только те строки df, у которых день равен day\n",
    "    genre_df = df[df['day'] == day]# ваш код здесь\n",
    "    # оставляем в genre_df только те строки genre_df, у которых время меньше time2\n",
    "    genre_df = genre_df[genre_df['time'] < time2]# ваш код здесь\n",
    "    # оставляем в genre_df только те строки genre_df, у которых время больше time1\n",
    "    genre_df = genre_df[genre_df['time'] > time1]# ваш код здесь\n",
    "    # сгруппируем отфильтрованный датафрейм по столбцу с названиями жанров, возьмём столбец genre и посчитаем кол-во строк для каждого жанра методом count()\n",
    "    genre_df_grouped = genre_df.groupby('genre')['genre'].count()# ваш код здесь\n",
    "    # отсортируем результат по убыванию (чтобы в начале Series оказались самые популярные жанры)\n",
    "    genre_df_sorted = genre_df_grouped.sort_values(ascending=False)# ваш код здесь\n",
    "    # вернём Series с 10 самыми популярными жанрами в указанный отрезок времени заданного дня\n",
    "    return genre_df_sorted[:10]"
   ]
  },
  {
   "cell_type": "markdown",
   "metadata": {
    "id": "la2s2_PF_Zcu",
    "tags": [
     "start_task"
    ]
   },
   "source": [
    "Cравню результаты функции `genre_weekday()` для Москвы и Санкт-Петербурга в понедельник утром (с 7:00 до 11:00) и в пятницу вечером (с 17:00 до 23:00):"
   ]
  },
  {
   "cell_type": "code",
   "execution_count": 31,
   "metadata": {
    "deletable": false,
    "id": "yz7itPUQ_Zcu"
   },
   "outputs": [
    {
     "data": {
      "text/plain": [
       "genre\n",
       "pop            781\n",
       "dance          549\n",
       "electronic     480\n",
       "rock           474\n",
       "hiphop         286\n",
       "ruspop         186\n",
       "world          181\n",
       "rusrap         175\n",
       "alternative    164\n",
       "unknown        161\n",
       "Name: genre, dtype: int64"
      ]
     },
     "execution_count": 31,
     "metadata": {},
     "output_type": "execute_result"
    }
   ],
   "source": [
    "# вызов функции для утра понедельника в Москве (вместо df — таблица moscow_general)\n",
    "# объекты, хранящие время, являются строками и сравниваются как строки\n",
    "# пример вызова: genre_weekday(moscow_general, 'Monday', '07:00', '11:00')\n",
    "genre_weekday(moscow_general, 'Monday', '07:00', '11:00')"
   ]
  },
  {
   "cell_type": "code",
   "execution_count": 32,
   "metadata": {
    "deletable": false,
    "id": "kwUcHPdy_Zcu"
   },
   "outputs": [
    {
     "data": {
      "text/plain": [
       "genre\n",
       "pop            218\n",
       "dance          182\n",
       "rock           162\n",
       "electronic     147\n",
       "hiphop          80\n",
       "ruspop          64\n",
       "alternative     58\n",
       "rusrap          55\n",
       "jazz            44\n",
       "classical       40\n",
       "Name: genre, dtype: int64"
      ]
     },
     "execution_count": 32,
     "metadata": {},
     "output_type": "execute_result"
    }
   ],
   "source": [
    "genre_weekday(spb_general, 'Monday', '07:00', '11:00')# вызов функции для утра понедельника в Петербурге (вместо df — таблица spb_general)"
   ]
  },
  {
   "cell_type": "code",
   "execution_count": 33,
   "metadata": {
    "deletable": false,
    "id": "EzXVRE1o_Zcu"
   },
   "outputs": [
    {
     "data": {
      "text/plain": [
       "genre\n",
       "pop            713\n",
       "rock           517\n",
       "dance          495\n",
       "electronic     482\n",
       "hiphop         273\n",
       "world          208\n",
       "ruspop         170\n",
       "alternative    163\n",
       "classical      163\n",
       "rusrap         142\n",
       "Name: genre, dtype: int64"
      ]
     },
     "execution_count": 33,
     "metadata": {},
     "output_type": "execute_result"
    }
   ],
   "source": [
    "genre_weekday(moscow_general, 'Friday', '17:00', '23:00')# вызов функции для вечера пятницы в Москве"
   ]
  },
  {
   "cell_type": "code",
   "execution_count": 34,
   "metadata": {
    "deletable": false,
    "id": "JZaEKu5v_Zcu"
   },
   "outputs": [
    {
     "data": {
      "text/plain": [
       "genre\n",
       "pop            256\n",
       "electronic     216\n",
       "rock           216\n",
       "dance          210\n",
       "hiphop          97\n",
       "alternative     63\n",
       "jazz            61\n",
       "classical       60\n",
       "rusrap          59\n",
       "world           54\n",
       "Name: genre, dtype: int64"
      ]
     },
     "execution_count": 34,
     "metadata": {},
     "output_type": "execute_result"
    }
   ],
   "source": [
    "genre_weekday(spb_general, 'Friday', '17:00', '23:00')# вызов функции для вечера пятницы в Петербурге"
   ]
  },
  {
   "cell_type": "markdown",
   "metadata": {
    "deletable": false,
    "editable": false,
    "id": "wrCe4MNX_Zcu"
   },
   "source": [
    "**Выводы**\n",
    "\n",
    "Если сравнить топ-10 жанров в понедельник утром, можно сделать такие выводы:\n",
    "\n",
    "1. В Москве и Петербурге слушают похожую музыку. Единственное отличие — в московский рейтинг вошёл жанр “world”, а в петербургский — джаз и классика.\n",
    "\n",
    "2. В Москве пропущенных значений оказалось так много, что значение `'unknown'` заняло десятое место среди самых популярных жанров. Значит, пропущенные значения занимают существенную долю в данных и угрожают достоверности исследования.\n",
    "\n",
    "Вечер пятницы не меняет эту картину. Некоторые жанры поднимаются немного выше, другие спускаются, но в целом топ-10 остаётся тем же самым.\n",
    "\n",
    "Таким образом, вторая гипотеза подтвердилась лишь частично:\n",
    "* Пользователи слушают похожую музыку в начале недели и в конце.\n",
    "* Разница между Москвой и Петербургом не слишком выражена. В Москве чаще слушают русскую популярную музыку, в Петербурге — джаз.\n",
    "\n",
    "Однако пропуски в данных ставят под сомнение этот результат. В Москве их так много, что рейтинг топ-10 мог бы выглядеть иначе, если бы не утерянные  данные о жанрах."
   ]
  },
  {
   "cell_type": "markdown",
   "metadata": {
    "deletable": false,
    "editable": false,
    "id": "JolODAqr_Zcu"
   },
   "source": [
    "### Жанровые предпочтения в Москве и Петербурге\n",
    "\n",
    "Гипотеза: Петербург — столица рэпа, музыку этого жанра там слушают чаще, чем в Москве.  А Москва — город контрастов, в котором, тем не менее, преобладает поп-музыка."
   ]
  },
  {
   "cell_type": "markdown",
   "metadata": {
    "id": "DlegSvaT_Zcu",
    "tags": [
     "start_task"
    ]
   },
   "source": [
    "Сгруппирую таблицу `moscow_general` по жанру и посчитайте прослушивания треков каждого жанра методом `count()`. Затем отсортируйте результат в порядке убывания и сохраните его в таблице `moscow_genres`."
   ]
  },
  {
   "cell_type": "code",
   "execution_count": 35,
   "metadata": {
    "deletable": false,
    "id": "r19lIPke_Zcu"
   },
   "outputs": [],
   "source": [
    "moscow_genres = moscow_general.groupby('genre')['genre'].count().sort_values(ascending=False)\n",
    "\n",
    "# одной строкой: группировка таблицы moscow_general по столбцу 'genre', \n",
    "# подсчёт числа значений 'genre' в этой группировке методом count(), \n",
    "# сортировка получившегося Series в порядке убывания и сохранение в moscow_genres"
   ]
  },
  {
   "cell_type": "code",
   "execution_count": 36,
   "metadata": {
    "deletable": false,
    "id": "WhCSooF8_Zcv"
   },
   "outputs": [
    {
     "name": "stdout",
     "output_type": "stream",
     "text": [
      "genre\n",
      "pop            5892\n",
      "dance          4435\n",
      "rock           3965\n",
      "electronic     3786\n",
      "hiphop         2096\n",
      "classical      1616\n",
      "world          1432\n",
      "alternative    1379\n",
      "ruspop         1372\n",
      "rusrap         1161\n",
      "Name: genre, dtype: int64\n"
     ]
    }
   ],
   "source": [
    "print(moscow_genres.head(10))# просмотр первых 10 строк moscow_genres"
   ]
  },
  {
   "cell_type": "markdown",
   "metadata": {
    "id": "cnPG2vnN_Zcv",
    "tags": [
     "start_task"
    ]
   },
   "source": [
    "Теперь повторю то же и для Петербурга."
   ]
  },
  {
   "cell_type": "code",
   "execution_count": 37,
   "metadata": {
    "deletable": false,
    "id": "gluLIpE7_Zcv"
   },
   "outputs": [],
   "source": [
    "spb_genres = spb_general.groupby('genre')['genre'].count().sort_values(ascending=False)\n",
    "# одной строкой: группировка таблицы spb_general по столбцу 'genre', \n",
    "# подсчёт числа значений 'genre' в этой группировке методом count(), \n",
    "# сортировка получившегося Series в порядке убывания и сохранение в spb_genres"
   ]
  },
  {
   "cell_type": "markdown",
   "metadata": {
    "id": "5Doha_ODgyQ8",
    "tags": [
     "start_task"
    ]
   },
   "source": [
    "\n",
    "Выведение на экран первые десять строк `spb_genres`:"
   ]
  },
  {
   "cell_type": "code",
   "execution_count": 38,
   "metadata": {
    "deletable": false,
    "id": "uaGJHjVU_Zcv"
   },
   "outputs": [
    {
     "name": "stdout",
     "output_type": "stream",
     "text": [
      "genre\n",
      "pop            2431\n",
      "dance          1932\n",
      "rock           1879\n",
      "electronic     1736\n",
      "hiphop          960\n",
      "alternative     649\n",
      "classical       646\n",
      "rusrap          564\n",
      "ruspop          538\n",
      "world           515\n",
      "Name: genre, dtype: int64\n"
     ]
    }
   ],
   "source": [
    "print(spb_genres.head(10))# просмотр первых 10 строк spb_genres"
   ]
  },
  {
   "cell_type": "markdown",
   "metadata": {
    "deletable": false,
    "editable": false,
    "id": "RY51YJYu_Zcv"
   },
   "source": [
    "**Выводы**"
   ]
  },
  {
   "cell_type": "markdown",
   "metadata": {
    "deletable": false,
    "editable": false,
    "id": "nVhnJEm__Zcv"
   },
   "source": [
    "Гипотеза частично подтвердилась:\n",
    "* Поп-музыка — самый популярный жанр в Москве, как и предполагала гипотеза. Более того, в топ-10 жанров встречается близкий жанр — русская популярная музыка.\n",
    "* Вопреки ожиданиям, рэп одинаково популярен в Москве и Петербурге. \n"
   ]
  },
  {
   "cell_type": "markdown",
   "metadata": {
    "deletable": false,
    "editable": false,
    "id": "ykKQ0N65_Zcv"
   },
   "source": [
    "## Итоги исследования"
   ]
  },
  {
   "cell_type": "markdown",
   "metadata": {
    "id": "tjUwbHb3_Zcv"
   },
   "source": [
    "Мы проверили три гипотезы и установили:\n",
    "\n",
    "1. День недели по-разному влияет на активность пользователей в Москве и Петербурге. \n",
    "\n",
    "Первая гипотеза полностью подтвердилась.\n",
    "\n",
    "2. Музыкальные предпочтения не сильно меняются в течение недели — будь то Москва или Петербург. Небольшие различия заметны в начале недели, по понедельникам:\n",
    "* в Москве слушают музыку жанра “world”,\n",
    "* в Петербурге — джаз и классику.\n",
    "\n",
    "Таким образом, вторая гипотеза подтвердилась лишь отчасти. Этот результат мог оказаться иным, если бы не пропуски в данных.\n",
    "\n",
    "3. Во вкусах пользователей Москвы и Петербурга больше общего чем различий. Вопреки ожиданиям, предпочтения жанров в Петербурге напоминают московские.\n",
    "\n",
    "Третья гипотеза не подтвердилась. Если различия в предпочтениях и существуют, на основной массе пользователей они незаметны."
   ]
  }
 ],
 "metadata": {
  "ExecuteTimeLog": [
   {
    "duration": 390,
    "start_time": "2022-06-17T23:23:34.763Z"
   },
   {
    "duration": 237,
    "start_time": "2022-06-17T23:24:14.690Z"
   },
   {
    "duration": 8,
    "start_time": "2022-06-17T23:24:34.159Z"
   },
   {
    "duration": 15,
    "start_time": "2022-06-17T23:24:59.163Z"
   },
   {
    "duration": 28,
    "start_time": "2022-06-17T23:25:23.500Z"
   },
   {
    "duration": 25,
    "start_time": "2022-06-17T23:28:42.228Z"
   },
   {
    "duration": 10,
    "start_time": "2022-06-17T23:28:55.118Z"
   },
   {
    "duration": 7,
    "start_time": "2022-06-17T23:29:17.701Z"
   },
   {
    "duration": 4,
    "start_time": "2022-06-17T23:30:49.622Z"
   },
   {
    "duration": 3,
    "start_time": "2022-06-19T10:04:50.390Z"
   },
   {
    "duration": 198,
    "start_time": "2022-06-19T10:04:51.322Z"
   },
   {
    "duration": 10,
    "start_time": "2022-06-19T10:04:51.757Z"
   },
   {
    "duration": 35,
    "start_time": "2022-06-19T10:04:53.451Z"
   },
   {
    "duration": 3,
    "start_time": "2022-06-19T10:05:10.004Z"
   },
   {
    "duration": 5,
    "start_time": "2022-06-19T10:05:13.774Z"
   },
   {
    "duration": 12,
    "start_time": "2022-06-19T10:05:44.204Z"
   },
   {
    "duration": 460,
    "start_time": "2022-06-19T10:11:54.194Z"
   },
   {
    "duration": 209,
    "start_time": "2022-06-19T10:11:54.656Z"
   },
   {
    "duration": 17,
    "start_time": "2022-06-19T10:11:54.867Z"
   },
   {
    "duration": 60,
    "start_time": "2022-06-19T10:11:54.886Z"
   },
   {
    "duration": 7,
    "start_time": "2022-06-19T10:11:54.948Z"
   },
   {
    "duration": 7,
    "start_time": "2022-06-19T10:11:54.962Z"
   },
   {
    "duration": 17,
    "start_time": "2022-06-19T10:11:54.970Z"
   },
   {
    "duration": 6,
    "start_time": "2022-06-19T10:11:54.989Z"
   },
   {
    "duration": 44,
    "start_time": "2022-06-19T10:11:54.997Z"
   },
   {
    "duration": 23,
    "start_time": "2022-06-19T10:11:55.051Z"
   },
   {
    "duration": 28,
    "start_time": "2022-06-19T10:11:55.076Z"
   },
   {
    "duration": 79,
    "start_time": "2022-06-19T10:11:55.105Z"
   },
   {
    "duration": 83,
    "start_time": "2022-06-19T10:11:55.186Z"
   },
   {
    "duration": 91,
    "start_time": "2022-06-19T10:11:55.270Z"
   },
   {
    "duration": 8,
    "start_time": "2022-06-19T10:11:55.362Z"
   },
   {
    "duration": 14,
    "start_time": "2022-06-19T10:11:55.372Z"
   },
   {
    "duration": 74,
    "start_time": "2022-06-19T10:11:55.388Z"
   },
   {
    "duration": 40,
    "start_time": "2022-06-19T10:11:55.464Z"
   },
   {
    "duration": 67,
    "start_time": "2022-06-19T10:11:55.505Z"
   },
   {
    "duration": 4,
    "start_time": "2022-06-19T10:11:55.573Z"
   },
   {
    "duration": 22,
    "start_time": "2022-06-19T10:11:55.578Z"
   },
   {
    "duration": 34,
    "start_time": "2022-06-19T10:11:55.602Z"
   },
   {
    "duration": 30,
    "start_time": "2022-06-19T10:11:55.641Z"
   },
   {
    "duration": 17,
    "start_time": "2022-06-19T10:11:55.673Z"
   },
   {
    "duration": 16,
    "start_time": "2022-06-19T10:11:55.692Z"
   },
   {
    "duration": 22,
    "start_time": "2022-06-19T10:11:55.710Z"
   },
   {
    "duration": 13,
    "start_time": "2022-06-19T10:11:55.739Z"
   },
   {
    "duration": 14,
    "start_time": "2022-06-19T10:11:55.756Z"
   },
   {
    "duration": 10,
    "start_time": "2022-06-19T10:11:55.771Z"
   },
   {
    "duration": 5,
    "start_time": "2022-06-19T10:11:55.782Z"
   },
   {
    "duration": 23,
    "start_time": "2022-06-19T10:11:55.789Z"
   },
   {
    "duration": 27,
    "start_time": "2022-06-19T10:11:55.813Z"
   },
   {
    "duration": 30,
    "start_time": "2022-06-19T10:11:55.846Z"
   },
   {
    "duration": 13,
    "start_time": "2022-06-19T10:11:55.878Z"
   },
   {
    "duration": 10,
    "start_time": "2022-06-19T10:11:55.893Z"
   },
   {
    "duration": 3,
    "start_time": "2022-06-19T10:11:55.905Z"
   },
   {
    "duration": 34,
    "start_time": "2022-06-19T10:11:55.910Z"
   },
   {
    "duration": 13,
    "start_time": "2022-06-19T10:11:55.953Z"
   },
   {
    "duration": 44,
    "start_time": "2022-06-19T10:19:38.745Z"
   },
   {
    "duration": 76,
    "start_time": "2022-06-19T10:21:18.293Z"
   },
   {
    "duration": 49,
    "start_time": "2022-06-19T10:21:23.027Z"
   },
   {
    "duration": 15,
    "start_time": "2022-06-19T10:21:36.553Z"
   },
   {
    "duration": 21,
    "start_time": "2022-06-19T10:22:11.874Z"
   },
   {
    "duration": 18,
    "start_time": "2022-06-19T10:22:23.820Z"
   },
   {
    "duration": 27,
    "start_time": "2022-06-19T10:27:15.206Z"
   },
   {
    "duration": 25,
    "start_time": "2022-06-19T10:27:28.122Z"
   },
   {
    "duration": 19,
    "start_time": "2022-06-19T10:28:20.045Z"
   },
   {
    "duration": 19,
    "start_time": "2022-06-19T10:28:20.443Z"
   },
   {
    "duration": 16,
    "start_time": "2022-06-19T10:28:44.153Z"
   },
   {
    "duration": 18,
    "start_time": "2022-06-19T10:28:48.499Z"
   },
   {
    "duration": 16,
    "start_time": "2022-06-19T10:28:49.299Z"
   },
   {
    "duration": 26,
    "start_time": "2022-06-19T10:29:10.422Z"
   },
   {
    "duration": 17,
    "start_time": "2022-06-19T10:29:23.603Z"
   },
   {
    "duration": 23,
    "start_time": "2022-06-19T10:29:42.254Z"
   },
   {
    "duration": 20,
    "start_time": "2022-06-19T10:29:51.759Z"
   },
   {
    "duration": 32,
    "start_time": "2022-06-19T10:30:01.726Z"
   },
   {
    "duration": 55,
    "start_time": "2022-06-19T11:30:26.705Z"
   },
   {
    "duration": 525,
    "start_time": "2022-06-19T11:30:34.619Z"
   },
   {
    "duration": 3,
    "start_time": "2022-06-19T11:30:49.120Z"
   },
   {
    "duration": 434,
    "start_time": "2022-06-19T11:30:56.372Z"
   },
   {
    "duration": 398,
    "start_time": "2022-06-19T11:30:57.562Z"
   },
   {
    "duration": 14,
    "start_time": "2022-06-19T11:30:57.962Z"
   },
   {
    "duration": 50,
    "start_time": "2022-06-19T11:30:58.256Z"
   },
   {
    "duration": 3,
    "start_time": "2022-06-19T11:30:58.819Z"
   },
   {
    "duration": 17,
    "start_time": "2022-06-19T11:30:59.667Z"
   },
   {
    "duration": 17,
    "start_time": "2022-06-19T11:31:00.160Z"
   },
   {
    "duration": 7,
    "start_time": "2022-06-19T11:31:00.574Z"
   },
   {
    "duration": 46,
    "start_time": "2022-06-19T11:31:01.005Z"
   },
   {
    "duration": 25,
    "start_time": "2022-06-19T11:31:01.771Z"
   },
   {
    "duration": 48,
    "start_time": "2022-06-19T11:31:02.256Z"
   },
   {
    "duration": 117,
    "start_time": "2022-06-19T11:31:02.967Z"
   },
   {
    "duration": 88,
    "start_time": "2022-06-19T11:31:03.431Z"
   },
   {
    "duration": 91,
    "start_time": "2022-06-19T11:31:04.152Z"
   },
   {
    "duration": 71,
    "start_time": "2022-06-19T11:31:05.188Z"
   },
   {
    "duration": 19,
    "start_time": "2022-06-19T11:31:06.193Z"
   },
   {
    "duration": 72,
    "start_time": "2022-06-19T11:31:06.971Z"
   },
   {
    "duration": 13,
    "start_time": "2022-06-19T11:31:09.672Z"
   },
   {
    "duration": 15,
    "start_time": "2022-06-19T11:31:10.659Z"
   },
   {
    "duration": 5,
    "start_time": "2022-06-19T11:31:15.366Z"
   },
   {
    "duration": 25,
    "start_time": "2022-06-19T11:31:21.455Z"
   },
   {
    "duration": 15,
    "start_time": "2022-06-19T11:31:21.884Z"
   },
   {
    "duration": 21,
    "start_time": "2022-06-19T11:31:22.112Z"
   },
   {
    "duration": 14,
    "start_time": "2022-06-19T11:31:22.355Z"
   },
   {
    "duration": 16,
    "start_time": "2022-06-19T11:31:22.978Z"
   },
   {
    "duration": 19,
    "start_time": "2022-06-19T11:31:24.302Z"
   },
   {
    "duration": 17,
    "start_time": "2022-06-19T11:31:26.284Z"
   },
   {
    "duration": 8,
    "start_time": "2022-06-19T11:33:58.868Z"
   },
   {
    "duration": 138,
    "start_time": "2022-06-19T11:40:42.962Z"
   },
   {
    "duration": 97,
    "start_time": "2022-06-19T11:42:27.952Z"
   },
   {
    "duration": 554,
    "start_time": "2022-06-19T11:42:52.021Z"
   },
   {
    "duration": 266,
    "start_time": "2022-06-19T11:42:52.981Z"
   },
   {
    "duration": 11,
    "start_time": "2022-06-19T11:42:53.377Z"
   },
   {
    "duration": 39,
    "start_time": "2022-06-19T11:42:53.774Z"
   },
   {
    "duration": 6,
    "start_time": "2022-06-19T11:42:54.425Z"
   },
   {
    "duration": 26,
    "start_time": "2022-06-19T11:42:55.258Z"
   },
   {
    "duration": 26,
    "start_time": "2022-06-19T11:42:55.619Z"
   },
   {
    "duration": 9,
    "start_time": "2022-06-19T11:42:56.215Z"
   },
   {
    "duration": 28,
    "start_time": "2022-06-19T11:42:56.747Z"
   },
   {
    "duration": 34,
    "start_time": "2022-06-19T11:42:57.507Z"
   },
   {
    "duration": 30,
    "start_time": "2022-06-19T11:42:58.352Z"
   },
   {
    "duration": 109,
    "start_time": "2022-06-19T11:42:59.252Z"
   },
   {
    "duration": 128,
    "start_time": "2022-06-19T11:42:59.674Z"
   },
   {
    "duration": 111,
    "start_time": "2022-06-19T11:43:00.203Z"
   },
   {
    "duration": 48,
    "start_time": "2022-06-19T11:43:01.052Z"
   },
   {
    "duration": 19,
    "start_time": "2022-06-19T11:43:01.954Z"
   },
   {
    "duration": 72,
    "start_time": "2022-06-19T11:43:02.581Z"
   },
   {
    "duration": 19,
    "start_time": "2022-06-19T11:43:04.147Z"
   },
   {
    "duration": 15,
    "start_time": "2022-06-19T11:43:04.559Z"
   },
   {
    "duration": 5,
    "start_time": "2022-06-19T11:43:05.685Z"
   },
   {
    "duration": 37,
    "start_time": "2022-06-19T11:43:06.849Z"
   },
   {
    "duration": 29,
    "start_time": "2022-06-19T11:43:07.393Z"
   },
   {
    "duration": 33,
    "start_time": "2022-06-19T11:43:07.755Z"
   },
   {
    "duration": 27,
    "start_time": "2022-06-19T11:43:09.159Z"
   },
   {
    "duration": 19,
    "start_time": "2022-06-19T11:43:12.497Z"
   },
   {
    "duration": 25,
    "start_time": "2022-06-19T11:43:13.635Z"
   },
   {
    "duration": 130,
    "start_time": "2022-06-19T11:43:16.510Z"
   },
   {
    "duration": 15,
    "start_time": "2022-06-19T11:43:27.200Z"
   },
   {
    "duration": 14,
    "start_time": "2022-06-19T11:43:27.606Z"
   },
   {
    "duration": 8,
    "start_time": "2022-06-19T11:43:29.111Z"
   },
   {
    "duration": 26,
    "start_time": "2022-06-19T11:43:31.483Z"
   },
   {
    "duration": 24,
    "start_time": "2022-06-19T11:43:32.479Z"
   },
   {
    "duration": 39,
    "start_time": "2022-06-19T11:43:34.150Z"
   },
   {
    "duration": 18,
    "start_time": "2022-06-19T11:43:35.294Z"
   },
   {
    "duration": 159,
    "start_time": "2022-06-19T11:43:40.279Z"
   },
   {
    "duration": 1120,
    "start_time": "2022-06-19T11:44:29.643Z"
   },
   {
    "duration": 38,
    "start_time": "2022-06-19T11:45:23.940Z"
   },
   {
    "duration": 22,
    "start_time": "2022-06-19T11:45:57.952Z"
   },
   {
    "duration": 4038,
    "start_time": "2022-06-19T11:46:17.583Z"
   },
   {
    "duration": 0,
    "start_time": "2022-06-19T11:46:21.625Z"
   },
   {
    "duration": 14,
    "start_time": "2022-06-19T11:47:00.983Z"
   },
   {
    "duration": 5,
    "start_time": "2022-06-19T11:47:12.507Z"
   },
   {
    "duration": 8,
    "start_time": "2022-06-19T11:47:15.651Z"
   },
   {
    "duration": 15,
    "start_time": "2022-06-19T11:47:45.266Z"
   },
   {
    "duration": 13,
    "start_time": "2022-06-19T11:49:35.260Z"
   },
   {
    "duration": 18,
    "start_time": "2022-06-19T11:49:50.322Z"
   },
   {
    "duration": 11,
    "start_time": "2022-06-19T11:52:54.803Z"
   },
   {
    "duration": 18,
    "start_time": "2022-06-19T11:54:11.452Z"
   },
   {
    "duration": 815,
    "start_time": "2022-06-19T11:54:41.849Z"
   },
   {
    "duration": 950,
    "start_time": "2022-06-19T11:55:10.656Z"
   },
   {
    "duration": 582,
    "start_time": "2022-06-19T11:56:06.376Z"
   },
   {
    "duration": 13,
    "start_time": "2022-06-19T11:56:54.267Z"
   },
   {
    "duration": 9,
    "start_time": "2022-06-19T11:56:57.502Z"
   },
   {
    "duration": 23,
    "start_time": "2022-06-19T11:57:45.521Z"
   },
   {
    "duration": 514,
    "start_time": "2022-06-19T12:04:04.052Z"
   },
   {
    "duration": 232,
    "start_time": "2022-06-19T12:04:04.569Z"
   },
   {
    "duration": 12,
    "start_time": "2022-06-19T12:04:05.357Z"
   },
   {
    "duration": 54,
    "start_time": "2022-06-19T12:04:05.854Z"
   },
   {
    "duration": 3,
    "start_time": "2022-06-19T12:04:06.637Z"
   },
   {
    "duration": 11,
    "start_time": "2022-06-19T12:04:07.545Z"
   },
   {
    "duration": 17,
    "start_time": "2022-06-19T12:04:07.979Z"
   },
   {
    "duration": 6,
    "start_time": "2022-06-19T12:04:08.418Z"
   },
   {
    "duration": 46,
    "start_time": "2022-06-19T12:04:08.895Z"
   },
   {
    "duration": 26,
    "start_time": "2022-06-19T12:04:09.555Z"
   },
   {
    "duration": 48,
    "start_time": "2022-06-19T12:04:10.002Z"
   },
   {
    "duration": 96,
    "start_time": "2022-06-19T12:04:10.376Z"
   },
   {
    "duration": 101,
    "start_time": "2022-06-19T12:04:10.796Z"
   },
   {
    "duration": 94,
    "start_time": "2022-06-19T12:04:11.192Z"
   },
   {
    "duration": 61,
    "start_time": "2022-06-19T12:04:12.020Z"
   },
   {
    "duration": 18,
    "start_time": "2022-06-19T12:04:12.456Z"
   },
   {
    "duration": 59,
    "start_time": "2022-06-19T12:04:12.874Z"
   },
   {
    "duration": 24,
    "start_time": "2022-06-19T12:04:14.164Z"
   },
   {
    "duration": 14,
    "start_time": "2022-06-19T12:04:14.635Z"
   },
   {
    "duration": 4,
    "start_time": "2022-06-19T12:04:15.328Z"
   },
   {
    "duration": 27,
    "start_time": "2022-06-19T12:04:15.791Z"
   },
   {
    "duration": 23,
    "start_time": "2022-06-19T12:04:16.017Z"
   },
   {
    "duration": 26,
    "start_time": "2022-06-19T12:04:16.513Z"
   },
   {
    "duration": 26,
    "start_time": "2022-06-19T12:04:16.690Z"
   },
   {
    "duration": 26,
    "start_time": "2022-06-19T12:04:16.917Z"
   },
   {
    "duration": 25,
    "start_time": "2022-06-19T12:04:17.113Z"
   },
   {
    "duration": 113,
    "start_time": "2022-06-19T12:04:17.677Z"
   },
   {
    "duration": 17,
    "start_time": "2022-06-19T12:04:19.093Z"
   },
   {
    "duration": 13,
    "start_time": "2022-06-19T12:04:19.317Z"
   },
   {
    "duration": 7,
    "start_time": "2022-06-19T12:04:19.779Z"
   },
   {
    "duration": 22,
    "start_time": "2022-06-19T12:04:21.274Z"
   },
   {
    "duration": 17,
    "start_time": "2022-06-19T12:04:22.773Z"
   },
   {
    "duration": 31,
    "start_time": "2022-06-19T12:04:24.367Z"
   },
   {
    "duration": 20,
    "start_time": "2022-06-19T12:04:25.295Z"
   },
   {
    "duration": 18,
    "start_time": "2022-06-19T12:04:29.067Z"
   },
   {
    "duration": 85,
    "start_time": "2022-06-19T12:04:38.675Z"
   },
   {
    "duration": 14,
    "start_time": "2022-06-19T12:04:41.004Z"
   },
   {
    "duration": 500,
    "start_time": "2022-06-19T12:04:59.503Z"
   },
   {
    "duration": 205,
    "start_time": "2022-06-19T12:05:00.625Z"
   },
   {
    "duration": 11,
    "start_time": "2022-06-19T12:05:01.061Z"
   },
   {
    "duration": 47,
    "start_time": "2022-06-19T12:05:01.456Z"
   },
   {
    "duration": 4,
    "start_time": "2022-06-19T12:05:02.025Z"
   },
   {
    "duration": 16,
    "start_time": "2022-06-19T12:05:02.891Z"
   },
   {
    "duration": 21,
    "start_time": "2022-06-19T12:05:03.299Z"
   },
   {
    "duration": 8,
    "start_time": "2022-06-19T12:05:03.712Z"
   },
   {
    "duration": 49,
    "start_time": "2022-06-19T12:05:04.156Z"
   },
   {
    "duration": 23,
    "start_time": "2022-06-19T12:05:04.780Z"
   },
   {
    "duration": 32,
    "start_time": "2022-06-19T12:05:05.279Z"
   },
   {
    "duration": 95,
    "start_time": "2022-06-19T12:05:05.693Z"
   },
   {
    "duration": 120,
    "start_time": "2022-06-19T12:05:06.103Z"
   },
   {
    "duration": 70,
    "start_time": "2022-06-19T12:05:06.498Z"
   },
   {
    "duration": 51,
    "start_time": "2022-06-19T12:05:07.123Z"
   },
   {
    "duration": 18,
    "start_time": "2022-06-19T12:05:07.556Z"
   },
   {
    "duration": 64,
    "start_time": "2022-06-19T12:05:08.000Z"
   },
   {
    "duration": 17,
    "start_time": "2022-06-19T12:05:09.275Z"
   },
   {
    "duration": 16,
    "start_time": "2022-06-19T12:05:09.688Z"
   },
   {
    "duration": 5,
    "start_time": "2022-06-19T12:05:10.894Z"
   },
   {
    "duration": 22,
    "start_time": "2022-06-19T12:05:11.281Z"
   },
   {
    "duration": 23,
    "start_time": "2022-06-19T12:05:11.753Z"
   },
   {
    "duration": 25,
    "start_time": "2022-06-19T12:05:11.965Z"
   },
   {
    "duration": 22,
    "start_time": "2022-06-19T12:05:12.153Z"
   },
   {
    "duration": 29,
    "start_time": "2022-06-19T12:05:12.355Z"
   },
   {
    "duration": 25,
    "start_time": "2022-06-19T12:05:12.575Z"
   },
   {
    "duration": 109,
    "start_time": "2022-06-19T12:05:12.972Z"
   },
   {
    "duration": 17,
    "start_time": "2022-06-19T12:05:15.942Z"
   },
   {
    "duration": 13,
    "start_time": "2022-06-19T12:05:16.168Z"
   },
   {
    "duration": 7,
    "start_time": "2022-06-19T12:05:16.575Z"
   },
   {
    "duration": 26,
    "start_time": "2022-06-19T12:05:18.065Z"
   },
   {
    "duration": 15,
    "start_time": "2022-06-19T12:05:18.459Z"
   },
   {
    "duration": 24,
    "start_time": "2022-06-19T12:05:19.160Z"
   },
   {
    "duration": 16,
    "start_time": "2022-06-19T12:05:19.840Z"
   },
   {
    "duration": 12,
    "start_time": "2022-06-19T12:05:22.477Z"
   },
   {
    "duration": 5,
    "start_time": "2022-06-19T12:05:25.524Z"
   },
   {
    "duration": 738,
    "start_time": "2022-06-19T12:30:29.964Z"
   },
   {
    "duration": 18,
    "start_time": "2022-06-19T12:30:52.175Z"
   },
   {
    "duration": 20,
    "start_time": "2022-06-19T12:31:01.964Z"
   },
   {
    "duration": 24,
    "start_time": "2022-06-19T12:31:04.354Z"
   },
   {
    "duration": 564,
    "start_time": "2022-06-19T12:31:10.939Z"
   },
   {
    "duration": 230,
    "start_time": "2022-06-19T12:31:11.505Z"
   },
   {
    "duration": 12,
    "start_time": "2022-06-19T12:31:11.737Z"
   },
   {
    "duration": 64,
    "start_time": "2022-06-19T12:31:11.752Z"
   },
   {
    "duration": 5,
    "start_time": "2022-06-19T12:31:11.818Z"
   },
   {
    "duration": 27,
    "start_time": "2022-06-19T12:31:11.826Z"
   },
   {
    "duration": 28,
    "start_time": "2022-06-19T12:31:11.855Z"
   },
   {
    "duration": 12,
    "start_time": "2022-06-19T12:31:11.885Z"
   },
   {
    "duration": 41,
    "start_time": "2022-06-19T12:31:11.899Z"
   },
   {
    "duration": 40,
    "start_time": "2022-06-19T12:31:11.944Z"
   },
   {
    "duration": 71,
    "start_time": "2022-06-19T12:31:11.987Z"
   },
   {
    "duration": 114,
    "start_time": "2022-06-19T12:31:12.061Z"
   },
   {
    "duration": 163,
    "start_time": "2022-06-19T12:31:12.178Z"
   },
   {
    "duration": 103,
    "start_time": "2022-06-19T12:31:12.344Z"
   },
   {
    "duration": 55,
    "start_time": "2022-06-19T12:31:12.449Z"
   },
   {
    "duration": 33,
    "start_time": "2022-06-19T12:31:12.507Z"
   },
   {
    "duration": 75,
    "start_time": "2022-06-19T12:31:12.544Z"
   },
   {
    "duration": 21,
    "start_time": "2022-06-19T12:31:12.621Z"
   },
   {
    "duration": 92,
    "start_time": "2022-06-19T12:31:12.645Z"
   },
   {
    "duration": 33,
    "start_time": "2022-06-19T12:31:12.741Z"
   },
   {
    "duration": 102,
    "start_time": "2022-06-19T12:31:12.777Z"
   },
   {
    "duration": 28,
    "start_time": "2022-06-19T12:31:12.883Z"
   },
   {
    "duration": 47,
    "start_time": "2022-06-19T12:31:12.915Z"
   },
   {
    "duration": 47,
    "start_time": "2022-06-19T12:31:12.964Z"
   },
   {
    "duration": 45,
    "start_time": "2022-06-19T12:31:13.014Z"
   },
   {
    "duration": 42,
    "start_time": "2022-06-19T12:31:13.062Z"
   },
   {
    "duration": 133,
    "start_time": "2022-06-19T12:31:13.106Z"
   },
   {
    "duration": 26,
    "start_time": "2022-06-19T12:31:13.244Z"
   },
   {
    "duration": 62,
    "start_time": "2022-06-19T12:31:13.272Z"
   },
   {
    "duration": 17,
    "start_time": "2022-06-19T12:31:13.337Z"
   },
   {
    "duration": 42,
    "start_time": "2022-06-19T12:31:13.358Z"
   },
   {
    "duration": 23,
    "start_time": "2022-06-19T12:31:13.403Z"
   },
   {
    "duration": 34,
    "start_time": "2022-06-19T12:31:13.429Z"
   },
   {
    "duration": 17,
    "start_time": "2022-06-19T12:31:13.465Z"
   },
   {
    "duration": 24,
    "start_time": "2022-06-19T12:31:13.485Z"
   },
   {
    "duration": 13,
    "start_time": "2022-06-19T12:31:13.525Z"
   },
   {
    "duration": 17,
    "start_time": "2022-06-19T12:31:13.541Z"
   },
   {
    "duration": 7,
    "start_time": "2022-06-19T12:31:13.560Z"
   },
   {
    "duration": 93,
    "start_time": "2022-06-19T13:35:57.372Z"
   },
   {
    "duration": 7,
    "start_time": "2022-06-19T13:36:05.164Z"
   },
   {
    "duration": 442,
    "start_time": "2022-06-19T13:36:39.340Z"
   },
   {
    "duration": 14,
    "start_time": "2022-06-19T13:36:44.190Z"
   },
   {
    "duration": 7,
    "start_time": "2022-06-19T13:36:45.504Z"
   },
   {
    "duration": 593,
    "start_time": "2022-06-19T13:37:04.010Z"
   },
   {
    "duration": 394,
    "start_time": "2022-06-19T13:37:05.187Z"
   },
   {
    "duration": 13,
    "start_time": "2022-06-19T13:37:05.632Z"
   },
   {
    "duration": 57,
    "start_time": "2022-06-19T13:37:06.524Z"
   },
   {
    "duration": 3,
    "start_time": "2022-06-19T13:37:07.040Z"
   },
   {
    "duration": 11,
    "start_time": "2022-06-19T13:37:07.791Z"
   },
   {
    "duration": 19,
    "start_time": "2022-06-19T13:37:08.088Z"
   },
   {
    "duration": 10,
    "start_time": "2022-06-19T13:37:08.739Z"
   },
   {
    "duration": 75,
    "start_time": "2022-06-19T13:37:09.107Z"
   },
   {
    "duration": 50,
    "start_time": "2022-06-19T13:37:09.739Z"
   },
   {
    "duration": 41,
    "start_time": "2022-06-19T13:37:10.164Z"
   },
   {
    "duration": 121,
    "start_time": "2022-06-19T13:37:10.581Z"
   },
   {
    "duration": 141,
    "start_time": "2022-06-19T13:37:10.996Z"
   },
   {
    "duration": 126,
    "start_time": "2022-06-19T13:37:11.412Z"
   },
   {
    "duration": 81,
    "start_time": "2022-06-19T13:37:12.087Z"
   },
   {
    "duration": 23,
    "start_time": "2022-06-19T13:37:12.480Z"
   },
   {
    "duration": 82,
    "start_time": "2022-06-19T13:37:12.899Z"
   },
   {
    "duration": 23,
    "start_time": "2022-06-19T13:37:14.353Z"
   },
   {
    "duration": 22,
    "start_time": "2022-06-19T13:37:14.738Z"
   },
   {
    "duration": 12,
    "start_time": "2022-06-19T13:37:15.348Z"
   },
   {
    "duration": 25,
    "start_time": "2022-06-19T13:37:16.009Z"
   },
   {
    "duration": 18,
    "start_time": "2022-06-19T13:37:16.199Z"
   },
   {
    "duration": 23,
    "start_time": "2022-06-19T13:37:16.413Z"
   },
   {
    "duration": 40,
    "start_time": "2022-06-19T13:37:16.621Z"
   },
   {
    "duration": 39,
    "start_time": "2022-06-19T13:37:16.925Z"
   },
   {
    "duration": 19,
    "start_time": "2022-06-19T13:37:17.167Z"
   },
   {
    "duration": 102,
    "start_time": "2022-06-19T13:37:17.609Z"
   },
   {
    "duration": 13,
    "start_time": "2022-06-19T13:37:18.673Z"
   },
   {
    "duration": 13,
    "start_time": "2022-06-19T13:37:18.882Z"
   },
   {
    "duration": 8,
    "start_time": "2022-06-19T13:37:19.340Z"
   },
   {
    "duration": 29,
    "start_time": "2022-06-19T13:37:21.315Z"
   },
   {
    "duration": 22,
    "start_time": "2022-06-19T13:37:21.941Z"
   },
   {
    "duration": 40,
    "start_time": "2022-06-19T13:37:22.622Z"
   },
   {
    "duration": 14,
    "start_time": "2022-06-19T13:37:24.186Z"
   },
   {
    "duration": 14,
    "start_time": "2022-06-19T13:37:30.165Z"
   },
   {
    "duration": 17,
    "start_time": "2022-06-19T13:37:36.129Z"
   },
   {
    "duration": 76,
    "start_time": "2022-06-19T13:39:31.376Z"
   },
   {
    "duration": 12,
    "start_time": "2022-06-19T13:39:44.067Z"
   },
   {
    "duration": 12,
    "start_time": "2022-06-19T13:40:01.160Z"
   },
   {
    "duration": 12,
    "start_time": "2022-06-19T13:40:21.468Z"
   },
   {
    "duration": 10,
    "start_time": "2022-06-19T13:40:41.596Z"
   },
   {
    "duration": 10,
    "start_time": "2022-06-19T13:40:50.300Z"
   },
   {
    "duration": 10,
    "start_time": "2022-06-19T13:41:37.837Z"
   },
   {
    "duration": 10,
    "start_time": "2022-06-19T13:41:57.620Z"
   },
   {
    "duration": 12,
    "start_time": "2022-06-19T13:42:13.197Z"
   },
   {
    "duration": 11,
    "start_time": "2022-06-19T13:42:25.120Z"
   },
   {
    "duration": 11,
    "start_time": "2022-06-19T13:42:47.828Z"
   },
   {
    "duration": 10,
    "start_time": "2022-06-19T13:43:35.971Z"
   },
   {
    "duration": 423,
    "start_time": "2022-06-19T13:43:42.368Z"
   },
   {
    "duration": 237,
    "start_time": "2022-06-19T13:43:42.794Z"
   },
   {
    "duration": 12,
    "start_time": "2022-06-19T13:43:43.034Z"
   },
   {
    "duration": 54,
    "start_time": "2022-06-19T13:43:43.048Z"
   },
   {
    "duration": 18,
    "start_time": "2022-06-19T13:43:43.105Z"
   },
   {
    "duration": 17,
    "start_time": "2022-06-19T13:43:43.126Z"
   },
   {
    "duration": 18,
    "start_time": "2022-06-19T13:43:43.145Z"
   },
   {
    "duration": 6,
    "start_time": "2022-06-19T13:43:43.167Z"
   },
   {
    "duration": 34,
    "start_time": "2022-06-19T13:43:43.175Z"
   },
   {
    "duration": 46,
    "start_time": "2022-06-19T13:43:43.211Z"
   },
   {
    "duration": 45,
    "start_time": "2022-06-19T13:43:43.265Z"
   },
   {
    "duration": 87,
    "start_time": "2022-06-19T13:43:43.312Z"
   },
   {
    "duration": 74,
    "start_time": "2022-06-19T13:43:43.401Z"
   },
   {
    "duration": 73,
    "start_time": "2022-06-19T13:43:43.478Z"
   },
   {
    "duration": 74,
    "start_time": "2022-06-19T13:43:43.553Z"
   },
   {
    "duration": 16,
    "start_time": "2022-06-19T13:43:43.629Z"
   },
   {
    "duration": 43,
    "start_time": "2022-06-19T13:43:43.647Z"
   },
   {
    "duration": 34,
    "start_time": "2022-06-19T13:43:43.692Z"
   },
   {
    "duration": 16,
    "start_time": "2022-06-19T13:43:43.729Z"
   },
   {
    "duration": 28,
    "start_time": "2022-06-19T13:43:43.747Z"
   },
   {
    "duration": 24,
    "start_time": "2022-06-19T13:43:43.777Z"
   },
   {
    "duration": 22,
    "start_time": "2022-06-19T13:43:43.803Z"
   },
   {
    "duration": 29,
    "start_time": "2022-06-19T13:43:43.827Z"
   },
   {
    "duration": 27,
    "start_time": "2022-06-19T13:43:43.859Z"
   },
   {
    "duration": 19,
    "start_time": "2022-06-19T13:43:43.888Z"
   },
   {
    "duration": 23,
    "start_time": "2022-06-19T13:43:43.924Z"
   },
   {
    "duration": 122,
    "start_time": "2022-06-19T13:43:43.949Z"
   },
   {
    "duration": 15,
    "start_time": "2022-06-19T13:43:44.072Z"
   },
   {
    "duration": 11,
    "start_time": "2022-06-19T13:43:44.088Z"
   },
   {
    "duration": 25,
    "start_time": "2022-06-19T13:43:44.102Z"
   },
   {
    "duration": 32,
    "start_time": "2022-06-19T13:43:44.130Z"
   },
   {
    "duration": 16,
    "start_time": "2022-06-19T13:43:44.165Z"
   },
   {
    "duration": 43,
    "start_time": "2022-06-19T13:43:44.183Z"
   },
   {
    "duration": 18,
    "start_time": "2022-06-19T13:43:44.228Z"
   },
   {
    "duration": 10,
    "start_time": "2022-06-19T13:43:44.248Z"
   },
   {
    "duration": 15,
    "start_time": "2022-06-19T13:43:44.260Z"
   },
   {
    "duration": 9,
    "start_time": "2022-06-19T13:43:44.277Z"
   },
   {
    "duration": 5,
    "start_time": "2022-06-19T13:43:44.288Z"
   },
   {
    "duration": 4,
    "start_time": "2022-06-19T13:43:51.541Z"
   },
   {
    "duration": 221,
    "start_time": "2022-06-19T13:43:51.547Z"
   },
   {
    "duration": 9,
    "start_time": "2022-06-19T13:43:51.770Z"
   },
   {
    "duration": 506,
    "start_time": "2022-06-19T13:43:56.894Z"
   },
   {
    "duration": 173,
    "start_time": "2022-06-19T13:43:57.402Z"
   },
   {
    "duration": 9,
    "start_time": "2022-06-19T13:43:57.577Z"
   },
   {
    "duration": 43,
    "start_time": "2022-06-19T13:43:57.588Z"
   },
   {
    "duration": 3,
    "start_time": "2022-06-19T13:43:57.634Z"
   },
   {
    "duration": 42,
    "start_time": "2022-06-19T13:43:57.640Z"
   },
   {
    "duration": 25,
    "start_time": "2022-06-19T13:43:57.684Z"
   },
   {
    "duration": 11,
    "start_time": "2022-06-19T13:43:57.711Z"
   },
   {
    "duration": 62,
    "start_time": "2022-06-19T13:43:57.724Z"
   },
   {
    "duration": 44,
    "start_time": "2022-06-19T13:43:57.789Z"
   },
   {
    "duration": 50,
    "start_time": "2022-06-19T13:43:57.835Z"
   },
   {
    "duration": 109,
    "start_time": "2022-06-19T13:43:57.887Z"
   },
   {
    "duration": 101,
    "start_time": "2022-06-19T13:43:57.998Z"
   },
   {
    "duration": 94,
    "start_time": "2022-06-19T13:43:58.103Z"
   },
   {
    "duration": 69,
    "start_time": "2022-06-19T13:43:58.199Z"
   },
   {
    "duration": 15,
    "start_time": "2022-06-19T13:43:58.270Z"
   },
   {
    "duration": 67,
    "start_time": "2022-06-19T13:43:58.287Z"
   },
   {
    "duration": 18,
    "start_time": "2022-06-19T13:43:58.358Z"
   },
   {
    "duration": 21,
    "start_time": "2022-06-19T13:43:58.378Z"
   },
   {
    "duration": 27,
    "start_time": "2022-06-19T13:43:58.401Z"
   },
   {
    "duration": 57,
    "start_time": "2022-06-19T13:43:58.431Z"
   },
   {
    "duration": 21,
    "start_time": "2022-06-19T13:43:58.491Z"
   },
   {
    "duration": 21,
    "start_time": "2022-06-19T13:43:58.514Z"
   },
   {
    "duration": 33,
    "start_time": "2022-06-19T13:43:58.537Z"
   },
   {
    "duration": 27,
    "start_time": "2022-06-19T13:43:58.572Z"
   },
   {
    "duration": 38,
    "start_time": "2022-06-19T13:43:58.601Z"
   },
   {
    "duration": 104,
    "start_time": "2022-06-19T13:43:58.643Z"
   },
   {
    "duration": 17,
    "start_time": "2022-06-19T13:43:58.749Z"
   },
   {
    "duration": 24,
    "start_time": "2022-06-19T13:43:58.768Z"
   },
   {
    "duration": 16,
    "start_time": "2022-06-19T13:43:58.794Z"
   },
   {
    "duration": 53,
    "start_time": "2022-06-19T13:43:58.812Z"
   },
   {
    "duration": 24,
    "start_time": "2022-06-19T13:43:58.867Z"
   },
   {
    "duration": 45,
    "start_time": "2022-06-19T13:43:58.893Z"
   },
   {
    "duration": 71,
    "start_time": "2022-06-19T13:43:58.940Z"
   },
   {
    "duration": 23,
    "start_time": "2022-06-19T13:43:59.014Z"
   },
   {
    "duration": 45,
    "start_time": "2022-06-19T13:43:59.040Z"
   },
   {
    "duration": 25,
    "start_time": "2022-06-19T13:43:59.087Z"
   },
   {
    "duration": 36,
    "start_time": "2022-06-19T13:43:59.114Z"
   },
   {
    "duration": 400,
    "start_time": "2022-06-19T13:44:36.042Z"
   },
   {
    "duration": 202,
    "start_time": "2022-06-19T13:44:36.445Z"
   },
   {
    "duration": 11,
    "start_time": "2022-06-19T13:44:36.649Z"
   },
   {
    "duration": 62,
    "start_time": "2022-06-19T13:44:36.662Z"
   },
   {
    "duration": 3,
    "start_time": "2022-06-19T13:44:36.727Z"
   },
   {
    "duration": 23,
    "start_time": "2022-06-19T13:44:36.732Z"
   },
   {
    "duration": 20,
    "start_time": "2022-06-19T13:44:36.756Z"
   },
   {
    "duration": 10,
    "start_time": "2022-06-19T13:44:36.777Z"
   },
   {
    "duration": 35,
    "start_time": "2022-06-19T13:44:36.789Z"
   },
   {
    "duration": 29,
    "start_time": "2022-06-19T13:44:36.826Z"
   },
   {
    "duration": 34,
    "start_time": "2022-06-19T13:44:36.857Z"
   },
   {
    "duration": 94,
    "start_time": "2022-06-19T13:44:36.893Z"
   },
   {
    "duration": 88,
    "start_time": "2022-06-19T13:44:36.989Z"
   },
   {
    "duration": 72,
    "start_time": "2022-06-19T13:44:37.080Z"
   },
   {
    "duration": 38,
    "start_time": "2022-06-19T13:44:37.153Z"
   },
   {
    "duration": 34,
    "start_time": "2022-06-19T13:44:37.193Z"
   },
   {
    "duration": 47,
    "start_time": "2022-06-19T13:44:37.229Z"
   },
   {
    "duration": 13,
    "start_time": "2022-06-19T13:44:37.279Z"
   },
   {
    "duration": 31,
    "start_time": "2022-06-19T13:44:37.294Z"
   },
   {
    "duration": 22,
    "start_time": "2022-06-19T13:44:37.327Z"
   },
   {
    "duration": 24,
    "start_time": "2022-06-19T13:44:37.351Z"
   },
   {
    "duration": 15,
    "start_time": "2022-06-19T13:44:37.376Z"
   },
   {
    "duration": 32,
    "start_time": "2022-06-19T13:44:37.392Z"
   },
   {
    "duration": 27,
    "start_time": "2022-06-19T13:44:37.427Z"
   },
   {
    "duration": 16,
    "start_time": "2022-06-19T13:44:37.456Z"
   },
   {
    "duration": 14,
    "start_time": "2022-06-19T13:44:37.473Z"
   },
   {
    "duration": 103,
    "start_time": "2022-06-19T13:44:37.489Z"
   },
   {
    "duration": 13,
    "start_time": "2022-06-19T13:44:37.594Z"
   },
   {
    "duration": 24,
    "start_time": "2022-06-19T13:44:37.608Z"
   },
   {
    "duration": 22,
    "start_time": "2022-06-19T13:44:37.634Z"
   },
   {
    "duration": 27,
    "start_time": "2022-06-19T13:44:37.658Z"
   },
   {
    "duration": 14,
    "start_time": "2022-06-19T13:44:37.687Z"
   },
   {
    "duration": 36,
    "start_time": "2022-06-19T13:44:37.703Z"
   },
   {
    "duration": 13,
    "start_time": "2022-06-19T13:44:37.742Z"
   },
   {
    "duration": 13,
    "start_time": "2022-06-19T13:45:30.820Z"
   },
   {
    "duration": 4,
    "start_time": "2022-06-19T13:45:33.212Z"
   },
   {
    "duration": 453,
    "start_time": "2022-06-19T13:47:19.899Z"
   },
   {
    "duration": 183,
    "start_time": "2022-06-19T13:47:20.354Z"
   },
   {
    "duration": 11,
    "start_time": "2022-06-19T13:47:20.539Z"
   },
   {
    "duration": 36,
    "start_time": "2022-06-19T13:47:20.552Z"
   },
   {
    "duration": 3,
    "start_time": "2022-06-19T13:47:20.590Z"
   },
   {
    "duration": 15,
    "start_time": "2022-06-19T13:47:20.594Z"
   },
   {
    "duration": 19,
    "start_time": "2022-06-19T13:47:20.624Z"
   },
   {
    "duration": 14,
    "start_time": "2022-06-19T13:47:20.645Z"
   },
   {
    "duration": 34,
    "start_time": "2022-06-19T13:47:20.661Z"
   },
   {
    "duration": 32,
    "start_time": "2022-06-19T13:47:20.697Z"
   },
   {
    "duration": 33,
    "start_time": "2022-06-19T13:47:20.731Z"
   },
   {
    "duration": 88,
    "start_time": "2022-06-19T13:47:20.766Z"
   },
   {
    "duration": 85,
    "start_time": "2022-06-19T13:47:20.856Z"
   },
   {
    "duration": 62,
    "start_time": "2022-06-19T13:47:20.943Z"
   },
   {
    "duration": 52,
    "start_time": "2022-06-19T13:47:21.007Z"
   },
   {
    "duration": 11,
    "start_time": "2022-06-19T13:47:21.061Z"
   },
   {
    "duration": 51,
    "start_time": "2022-06-19T13:47:21.073Z"
   },
   {
    "duration": 15,
    "start_time": "2022-06-19T13:47:21.126Z"
   },
   {
    "duration": 17,
    "start_time": "2022-06-19T13:47:21.142Z"
   },
   {
    "duration": 7,
    "start_time": "2022-06-19T13:47:21.160Z"
   },
   {
    "duration": 25,
    "start_time": "2022-06-19T13:47:21.168Z"
   },
   {
    "duration": 33,
    "start_time": "2022-06-19T13:47:21.194Z"
   },
   {
    "duration": 19,
    "start_time": "2022-06-19T13:47:21.228Z"
   },
   {
    "duration": 16,
    "start_time": "2022-06-19T13:47:21.250Z"
   },
   {
    "duration": 19,
    "start_time": "2022-06-19T13:47:21.267Z"
   },
   {
    "duration": 58,
    "start_time": "2022-06-19T13:47:21.287Z"
   },
   {
    "duration": 86,
    "start_time": "2022-06-19T13:47:21.347Z"
   },
   {
    "duration": 17,
    "start_time": "2022-06-19T13:47:21.437Z"
   },
   {
    "duration": 11,
    "start_time": "2022-06-19T13:47:21.456Z"
   },
   {
    "duration": 8,
    "start_time": "2022-06-19T13:47:21.468Z"
   },
   {
    "duration": 25,
    "start_time": "2022-06-19T13:47:21.478Z"
   },
   {
    "duration": 32,
    "start_time": "2022-06-19T13:47:21.504Z"
   },
   {
    "duration": 22,
    "start_time": "2022-06-19T13:47:21.539Z"
   },
   {
    "duration": 13,
    "start_time": "2022-06-19T13:47:21.562Z"
   },
   {
    "duration": 69,
    "start_time": "2022-06-19T13:48:00.955Z"
   },
   {
    "duration": 37,
    "start_time": "2022-06-19T13:48:16.703Z"
   },
   {
    "duration": 20,
    "start_time": "2022-06-19T13:49:14.003Z"
   },
   {
    "duration": 25,
    "start_time": "2022-06-19T14:20:40.030Z"
   },
   {
    "duration": 28,
    "start_time": "2022-06-19T14:20:41.123Z"
   },
   {
    "duration": 5,
    "start_time": "2022-06-19T14:20:42.504Z"
   },
   {
    "duration": 27,
    "start_time": "2022-06-19T14:20:43.204Z"
   },
   {
    "duration": 18,
    "start_time": "2022-06-19T14:20:43.641Z"
   },
   {
    "duration": 22,
    "start_time": "2022-06-19T14:20:43.863Z"
   },
   {
    "duration": 26,
    "start_time": "2022-06-19T14:20:44.112Z"
   },
   {
    "duration": 30,
    "start_time": "2022-06-19T14:20:49.157Z"
   },
   {
    "duration": 5,
    "start_time": "2022-06-19T14:20:51.658Z"
   },
   {
    "duration": 15,
    "start_time": "2022-06-19T14:21:14.568Z"
   },
   {
    "duration": 25,
    "start_time": "2022-06-19T14:21:22.718Z"
   },
   {
    "duration": 16,
    "start_time": "2022-06-19T14:22:06.312Z"
   },
   {
    "duration": 5,
    "start_time": "2022-06-19T14:22:08.867Z"
   },
   {
    "duration": 556,
    "start_time": "2022-06-19T14:23:19.154Z"
   },
   {
    "duration": 239,
    "start_time": "2022-06-19T14:23:19.713Z"
   },
   {
    "duration": 20,
    "start_time": "2022-06-19T14:23:19.957Z"
   },
   {
    "duration": 58,
    "start_time": "2022-06-19T14:23:19.979Z"
   },
   {
    "duration": 30,
    "start_time": "2022-06-19T14:23:20.039Z"
   },
   {
    "duration": 24,
    "start_time": "2022-06-19T14:23:20.071Z"
   },
   {
    "duration": 34,
    "start_time": "2022-06-19T14:23:20.098Z"
   },
   {
    "duration": 19,
    "start_time": "2022-06-19T14:23:20.135Z"
   },
   {
    "duration": 61,
    "start_time": "2022-06-19T14:23:20.156Z"
   },
   {
    "duration": 76,
    "start_time": "2022-06-19T14:23:20.219Z"
   },
   {
    "duration": 55,
    "start_time": "2022-06-19T14:23:20.298Z"
   },
   {
    "duration": 165,
    "start_time": "2022-06-19T14:23:20.356Z"
   },
   {
    "duration": 111,
    "start_time": "2022-06-19T14:23:20.523Z"
   },
   {
    "duration": 114,
    "start_time": "2022-06-19T14:23:20.639Z"
   },
   {
    "duration": 73,
    "start_time": "2022-06-19T14:23:20.757Z"
   },
   {
    "duration": 20,
    "start_time": "2022-06-19T14:23:20.834Z"
   },
   {
    "duration": 90,
    "start_time": "2022-06-19T14:23:20.860Z"
   },
   {
    "duration": 17,
    "start_time": "2022-06-19T14:23:20.954Z"
   },
   {
    "duration": 17,
    "start_time": "2022-06-19T14:23:20.973Z"
   },
   {
    "duration": 11,
    "start_time": "2022-06-19T14:23:20.992Z"
   },
   {
    "duration": 50,
    "start_time": "2022-06-19T14:23:21.022Z"
   },
   {
    "duration": 21,
    "start_time": "2022-06-19T14:23:21.074Z"
   },
   {
    "duration": 25,
    "start_time": "2022-06-19T14:23:21.097Z"
   },
   {
    "duration": 53,
    "start_time": "2022-06-19T14:23:21.124Z"
   },
   {
    "duration": 29,
    "start_time": "2022-06-19T14:23:21.179Z"
   },
   {
    "duration": 63,
    "start_time": "2022-06-19T14:23:21.211Z"
   },
   {
    "duration": 130,
    "start_time": "2022-06-19T14:23:21.277Z"
   },
   {
    "duration": 17,
    "start_time": "2022-06-19T14:23:21.411Z"
   },
   {
    "duration": 45,
    "start_time": "2022-06-19T14:23:21.436Z"
   },
   {
    "duration": 20,
    "start_time": "2022-06-19T14:23:21.484Z"
   },
   {
    "duration": 88,
    "start_time": "2022-06-19T14:23:21.507Z"
   },
   {
    "duration": 20,
    "start_time": "2022-06-19T14:23:21.598Z"
   },
   {
    "duration": 36,
    "start_time": "2022-06-19T14:23:21.621Z"
   },
   {
    "duration": 25,
    "start_time": "2022-06-19T14:23:21.665Z"
   },
   {
    "duration": 143,
    "start_time": "2022-06-19T14:23:38.149Z"
   },
   {
    "duration": 11,
    "start_time": "2022-06-19T14:24:08.544Z"
   },
   {
    "duration": 17,
    "start_time": "2022-06-19T14:24:28.904Z"
   },
   {
    "duration": 575,
    "start_time": "2022-06-19T14:24:42.782Z"
   },
   {
    "duration": 5,
    "start_time": "2022-06-19T14:25:00.361Z"
   },
   {
    "duration": 606,
    "start_time": "2022-06-19T14:25:05.961Z"
   },
   {
    "duration": 12,
    "start_time": "2022-06-19T14:25:36.047Z"
   },
   {
    "duration": 12,
    "start_time": "2022-06-19T14:28:11.438Z"
   },
   {
    "duration": 21,
    "start_time": "2022-06-19T14:28:28.656Z"
   },
   {
    "duration": 45,
    "start_time": "2022-06-19T14:28:41.912Z"
   },
   {
    "duration": 14,
    "start_time": "2022-06-19T14:28:50.316Z"
   },
   {
    "duration": 20,
    "start_time": "2022-06-19T14:28:57.318Z"
   },
   {
    "duration": 11,
    "start_time": "2022-06-19T14:29:09.835Z"
   },
   {
    "duration": 18,
    "start_time": "2022-06-19T14:29:31.121Z"
   },
   {
    "duration": 51,
    "start_time": "2022-06-19T14:29:35.515Z"
   },
   {
    "duration": 8,
    "start_time": "2022-06-19T14:29:37.261Z"
   },
   {
    "duration": 507,
    "start_time": "2022-06-19T14:29:49.902Z"
   },
   {
    "duration": 31,
    "start_time": "2022-06-19T14:29:51.527Z"
   },
   {
    "duration": 36,
    "start_time": "2022-06-19T14:30:04.222Z"
   },
   {
    "duration": 871,
    "start_time": "2022-06-19T14:30:17.050Z"
   },
   {
    "duration": 10,
    "start_time": "2022-06-19T14:30:32.655Z"
   },
   {
    "duration": 13,
    "start_time": "2022-06-19T14:30:42.347Z"
   },
   {
    "duration": 5,
    "start_time": "2022-06-19T14:30:44.182Z"
   },
   {
    "duration": 9,
    "start_time": "2022-06-19T14:30:52.718Z"
   },
   {
    "duration": 4,
    "start_time": "2022-06-19T14:30:54.400Z"
   },
   {
    "duration": 12,
    "start_time": "2022-06-19T14:31:08.649Z"
   },
   {
    "duration": 5,
    "start_time": "2022-06-19T14:31:10.294Z"
   },
   {
    "duration": 9,
    "start_time": "2022-06-19T14:31:13.058Z"
   },
   {
    "duration": 10,
    "start_time": "2022-06-19T14:31:13.759Z"
   },
   {
    "duration": 20,
    "start_time": "2022-06-19T14:33:08.580Z"
   },
   {
    "duration": 583,
    "start_time": "2022-06-19T14:34:10.955Z"
   },
   {
    "duration": 390,
    "start_time": "2022-06-19T14:34:11.541Z"
   },
   {
    "duration": 43,
    "start_time": "2022-06-19T14:34:11.939Z"
   },
   {
    "duration": 81,
    "start_time": "2022-06-19T14:34:11.989Z"
   },
   {
    "duration": 66,
    "start_time": "2022-06-19T14:34:12.072Z"
   },
   {
    "duration": 74,
    "start_time": "2022-06-19T14:34:12.140Z"
   },
   {
    "duration": 63,
    "start_time": "2022-06-19T14:34:12.217Z"
   },
   {
    "duration": 21,
    "start_time": "2022-06-19T14:34:12.282Z"
   },
   {
    "duration": 65,
    "start_time": "2022-06-19T14:34:12.306Z"
   },
   {
    "duration": 81,
    "start_time": "2022-06-19T14:34:12.377Z"
   },
   {
    "duration": 103,
    "start_time": "2022-06-19T14:34:12.460Z"
   },
   {
    "duration": 172,
    "start_time": "2022-06-19T14:34:12.566Z"
   },
   {
    "duration": 191,
    "start_time": "2022-06-19T14:34:12.747Z"
   },
   {
    "duration": 147,
    "start_time": "2022-06-19T14:34:12.945Z"
   },
   {
    "duration": 76,
    "start_time": "2022-06-19T14:34:13.099Z"
   },
   {
    "duration": 32,
    "start_time": "2022-06-19T14:34:13.182Z"
   },
   {
    "duration": 174,
    "start_time": "2022-06-19T14:34:13.220Z"
   },
   {
    "duration": 38,
    "start_time": "2022-06-19T14:34:13.402Z"
   },
   {
    "duration": 140,
    "start_time": "2022-06-19T14:34:13.449Z"
   },
   {
    "duration": 71,
    "start_time": "2022-06-19T14:34:13.595Z"
   },
   {
    "duration": 67,
    "start_time": "2022-06-19T14:34:13.671Z"
   },
   {
    "duration": 86,
    "start_time": "2022-06-19T14:34:13.744Z"
   },
   {
    "duration": 77,
    "start_time": "2022-06-19T14:34:13.836Z"
   },
   {
    "duration": 81,
    "start_time": "2022-06-19T14:34:13.918Z"
   },
   {
    "duration": 49,
    "start_time": "2022-06-19T14:34:14.005Z"
   },
   {
    "duration": 56,
    "start_time": "2022-06-19T14:34:14.059Z"
   },
   {
    "duration": 234,
    "start_time": "2022-06-19T14:34:14.118Z"
   },
   {
    "duration": 19,
    "start_time": "2022-06-19T14:34:14.359Z"
   },
   {
    "duration": 71,
    "start_time": "2022-06-19T14:34:14.386Z"
   },
   {
    "duration": 67,
    "start_time": "2022-06-19T14:34:14.467Z"
   },
   {
    "duration": 136,
    "start_time": "2022-06-19T14:34:14.539Z"
   },
   {
    "duration": 30,
    "start_time": "2022-06-19T14:34:14.678Z"
   },
   {
    "duration": 56,
    "start_time": "2022-06-19T14:34:14.710Z"
   },
   {
    "duration": 148,
    "start_time": "2022-06-19T14:34:14.768Z"
   },
   {
    "duration": 28,
    "start_time": "2022-06-19T14:34:18.310Z"
   },
   {
    "duration": 12,
    "start_time": "2022-06-19T14:34:19.922Z"
   }
  ],
  "celltoolbar": "Edit Metadata",
  "colab": {
   "collapsed_sections": [
    "E0vqbgi9ay0H",
    "VUC88oWjTJw2"
   ],
   "name": "automatization_template_upd4.ipynb",
   "provenance": []
  },
  "kernelspec": {
   "display_name": "Python 3 (ipykernel)",
   "language": "python",
   "name": "python3"
  },
  "language_info": {
   "codemirror_mode": {
    "name": "ipython",
    "version": 3
   },
   "file_extension": ".py",
   "mimetype": "text/x-python",
   "name": "python",
   "nbconvert_exporter": "python",
   "pygments_lexer": "ipython3",
   "version": "3.9.13"
  },
  "toc": {
   "base_numbering": 1,
   "nav_menu": {
    "height": "215px",
    "width": "403px"
   },
   "number_sections": true,
   "sideBar": true,
   "skip_h1_title": true,
   "title_cell": "Table of Contents",
   "title_sidebar": "Contents",
   "toc_cell": false,
   "toc_position": {
    "height": "calc(100% - 180px)",
    "left": "10px",
    "top": "150px",
    "width": "285.825px"
   },
   "toc_section_display": true,
   "toc_window_display": false
  }
 },
 "nbformat": 4,
 "nbformat_minor": 1
}
