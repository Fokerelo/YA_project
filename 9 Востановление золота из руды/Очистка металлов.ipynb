{
 "cells": [
  {
   "cell_type": "markdown",
   "metadata": {
    "toc": true
   },
   "source": [
    "<h1>Содержание<span class=\"tocSkip\"></span></h1>\n",
    "<div class=\"toc\"><ul class=\"toc-item\"><li><span><a href=\"#Подготовка-данных\" data-toc-modified-id=\"Подготовка-данных-1\"><span class=\"toc-item-num\">1&nbsp;&nbsp;</span>Подготовка данных</a></span><ul class=\"toc-item\"><li><span><a href=\"#Чтение-файлов-и-Изучение-их\" data-toc-modified-id=\"Чтение-файлов-и-Изучение-их-1.1\"><span class=\"toc-item-num\">1.1&nbsp;&nbsp;</span>Чтение файлов и Изучение их</a></span></li><li><span><a href=\"#Проверка-эфективности-обогащения-по-формуле\" data-toc-modified-id=\"Проверка-эфективности-обогащения-по-формуле-1.2\"><span class=\"toc-item-num\">1.2&nbsp;&nbsp;</span>Проверка эфективности обогащения по формуле</a></span></li><li><span><a href=\"#&quot;Пропавшие-признаки&quot;-столбцы-в-тестовой-выборке\" data-toc-modified-id=\"&quot;Пропавшие-признаки&quot;-столбцы-в-тестовой-выборке-1.3\"><span class=\"toc-item-num\">1.3&nbsp;&nbsp;</span>\"Пропавшие признаки\" столбцы в тестовой выборке</a></span></li><li><span><a href=\"#Предобработка-данных\" data-toc-modified-id=\"Предобработка-данных-1.4\"><span class=\"toc-item-num\">1.4&nbsp;&nbsp;</span>Предобработка данных</a></span></li></ul></li><li><span><a href=\"#Анализ-данных\" data-toc-modified-id=\"Анализ-данных-2\"><span class=\"toc-item-num\">2&nbsp;&nbsp;</span>Анализ данных</a></span><ul class=\"toc-item\"><li><span><a href=\"#Концентрация-металлво-на-разных-стадиях-очистки\" data-toc-modified-id=\"Концентрация-металлво-на-разных-стадиях-очистки-2.1\"><span class=\"toc-item-num\">2.1&nbsp;&nbsp;</span>Концентрация металлво на разных стадиях очистки</a></span></li><li><span><a href=\"#Распределение-размера-гранул-сырья\" data-toc-modified-id=\"Распределение-размера-гранул-сырья-2.2\"><span class=\"toc-item-num\">2.2&nbsp;&nbsp;</span>Распределение размера гранул сырья</a></span></li><li><span><a href=\"#Концентрация-всех-веществ-на-разных-стадиях\" data-toc-modified-id=\"Концентрация-всех-веществ-на-разных-стадиях-2.3\"><span class=\"toc-item-num\">2.3&nbsp;&nbsp;</span>Концентрация всех веществ на разных стадиях</a></span></li></ul></li><li><span><a href=\"#Модель\" data-toc-modified-id=\"Модель-3\"><span class=\"toc-item-num\">3&nbsp;&nbsp;</span>Модель</a></span><ul class=\"toc-item\"><li><span><a href=\"#Функция-для-вычисления-sMAPE\" data-toc-modified-id=\"Функция-для-вычисления-sMAPE-3.1\"><span class=\"toc-item-num\">3.1&nbsp;&nbsp;</span>Функция для вычисления sMAPE</a></span></li><li><span><a href=\"#Модель-дерева\" data-toc-modified-id=\"Модель-дерева-3.2\"><span class=\"toc-item-num\">3.2&nbsp;&nbsp;</span>Модель дерева</a></span></li><li><span><a href=\"#Модель-Леса\" data-toc-modified-id=\"Модель-Леса-3.3\"><span class=\"toc-item-num\">3.3&nbsp;&nbsp;</span>Модель Леса</a></span></li><li><span><a href=\"#Линейная-регрессия\" data-toc-modified-id=\"Линейная-регрессия-3.4\"><span class=\"toc-item-num\">3.4&nbsp;&nbsp;</span>Линейная регрессия</a></span></li></ul></li><li><span><a href=\"#Чек-лист-готовности-проекта\" data-toc-modified-id=\"Чек-лист-готовности-проекта-4\"><span class=\"toc-item-num\">4&nbsp;&nbsp;</span>Чек-лист готовности проекта</a></span></li></ul></div>"
   ]
  },
  {
   "cell_type": "markdown",
   "metadata": {},
   "source": [
    "# Восстановление золота из руды"
   ]
  },
  {
   "cell_type": "markdown",
   "metadata": {},
   "source": [
    "Подготовьте прототип модели машинного обучения для «Цифры». Компания разрабатывает решения для эффективной работы промышленных предприятий.\n",
    "\n",
    "Модель должна предсказать коэффициент восстановления золота из золотосодержащей руды. Используйте данные с параметрами добычи и очистки. \n",
    "\n",
    "Модель поможет оптимизировать производство, чтобы не запускать предприятие с убыточными характеристиками.\n",
    "\n",
    "Необходимо:\n",
    "\n",
    "1. Подготовить данные;\n",
    "2. Провести исследовательский анализ данных;\n",
    "3. Построить и обучить модель."
   ]
  },
  {
   "cell_type": "markdown",
   "metadata": {},
   "source": [
    "## Подготовка данных"
   ]
  },
  {
   "cell_type": "markdown",
   "metadata": {},
   "source": [
    "### Чтение файлов и Изучение их"
   ]
  },
  {
   "cell_type": "code",
   "execution_count": 1,
   "metadata": {},
   "outputs": [],
   "source": [
    "import pandas as pd\n",
    "import numpy as np\n",
    "import matplotlib.pyplot as plt\n",
    "import scipy.stats as stats\n",
    "\n",
    "from sklearn.metrics import mean_absolute_error\n",
    "from sklearn.metrics import make_scorer\n",
    "from sklearn.model_selection import cross_val_score, GridSearchCV\n",
    "from sklearn.linear_model import LinearRegression\n",
    "from sklearn.tree import DecisionTreeRegressor\n",
    "from sklearn.ensemble import RandomForestRegressor"
   ]
  },
  {
   "cell_type": "code",
   "execution_count": 2,
   "metadata": {},
   "outputs": [],
   "source": [
    "data_train = pd.read_csv('/datasets/gold_recovery_train_new.csv', index_col='date')\n",
    "data_test = pd.read_csv('/datasets/gold_recovery_test_new.csv', index_col='date')\n",
    "data_full = pd.read_csv('/datasets/gold_recovery_full_new.csv', index_col='date')"
   ]
  },
  {
   "cell_type": "markdown",
   "metadata": {},
   "source": [
    "Целевые признаки:\n",
    "1.\tэффективность обогащения чернового концентрата `rougher.output.recovery`\n",
    "2.\tэффективность обогащения финального концентрата `final.output.recovery`\n"
   ]
  },
  {
   "cell_type": "code",
   "execution_count": 3,
   "metadata": {},
   "outputs": [],
   "source": [
    "def data_info(df):\n",
    "       display(df.head(5))\n",
    "       display(df.describe())\n",
    "       print(\"Пропусков в данных: \")\n",
    "       print(df.isna().sum().sum(), end='\\n'*2)\n",
    "       print(\"Дубликатов в данных: \", df.duplicated().sum(), end='\\n'*2)\n",
    "       df.info()"
   ]
  },
  {
   "cell_type": "code",
   "execution_count": 4,
   "metadata": {
    "scrolled": true
   },
   "outputs": [
    {
     "data": {
      "text/html": [
       "<div>\n",
       "<style scoped>\n",
       "    .dataframe tbody tr th:only-of-type {\n",
       "        vertical-align: middle;\n",
       "    }\n",
       "\n",
       "    .dataframe tbody tr th {\n",
       "        vertical-align: top;\n",
       "    }\n",
       "\n",
       "    .dataframe thead th {\n",
       "        text-align: right;\n",
       "    }\n",
       "</style>\n",
       "<table border=\"1\" class=\"dataframe\">\n",
       "  <thead>\n",
       "    <tr style=\"text-align: right;\">\n",
       "      <th></th>\n",
       "      <th>final.output.concentrate_ag</th>\n",
       "      <th>final.output.concentrate_pb</th>\n",
       "      <th>final.output.concentrate_sol</th>\n",
       "      <th>final.output.concentrate_au</th>\n",
       "      <th>final.output.recovery</th>\n",
       "      <th>final.output.tail_ag</th>\n",
       "      <th>final.output.tail_pb</th>\n",
       "      <th>final.output.tail_sol</th>\n",
       "      <th>final.output.tail_au</th>\n",
       "      <th>primary_cleaner.input.sulfate</th>\n",
       "      <th>...</th>\n",
       "      <th>secondary_cleaner.state.floatbank4_a_air</th>\n",
       "      <th>secondary_cleaner.state.floatbank4_a_level</th>\n",
       "      <th>secondary_cleaner.state.floatbank4_b_air</th>\n",
       "      <th>secondary_cleaner.state.floatbank4_b_level</th>\n",
       "      <th>secondary_cleaner.state.floatbank5_a_air</th>\n",
       "      <th>secondary_cleaner.state.floatbank5_a_level</th>\n",
       "      <th>secondary_cleaner.state.floatbank5_b_air</th>\n",
       "      <th>secondary_cleaner.state.floatbank5_b_level</th>\n",
       "      <th>secondary_cleaner.state.floatbank6_a_air</th>\n",
       "      <th>secondary_cleaner.state.floatbank6_a_level</th>\n",
       "    </tr>\n",
       "    <tr>\n",
       "      <th>date</th>\n",
       "      <th></th>\n",
       "      <th></th>\n",
       "      <th></th>\n",
       "      <th></th>\n",
       "      <th></th>\n",
       "      <th></th>\n",
       "      <th></th>\n",
       "      <th></th>\n",
       "      <th></th>\n",
       "      <th></th>\n",
       "      <th></th>\n",
       "      <th></th>\n",
       "      <th></th>\n",
       "      <th></th>\n",
       "      <th></th>\n",
       "      <th></th>\n",
       "      <th></th>\n",
       "      <th></th>\n",
       "      <th></th>\n",
       "      <th></th>\n",
       "      <th></th>\n",
       "    </tr>\n",
       "  </thead>\n",
       "  <tbody>\n",
       "    <tr>\n",
       "      <th>2016-01-15 00:00:00</th>\n",
       "      <td>6.055403</td>\n",
       "      <td>9.889648</td>\n",
       "      <td>5.507324</td>\n",
       "      <td>42.192020</td>\n",
       "      <td>70.541216</td>\n",
       "      <td>10.411962</td>\n",
       "      <td>0.895447</td>\n",
       "      <td>16.904297</td>\n",
       "      <td>2.143149</td>\n",
       "      <td>127.092003</td>\n",
       "      <td>...</td>\n",
       "      <td>14.016835</td>\n",
       "      <td>-502.488007</td>\n",
       "      <td>12.099931</td>\n",
       "      <td>-504.715942</td>\n",
       "      <td>9.925633</td>\n",
       "      <td>-498.310211</td>\n",
       "      <td>8.079666</td>\n",
       "      <td>-500.470978</td>\n",
       "      <td>14.151341</td>\n",
       "      <td>-605.841980</td>\n",
       "    </tr>\n",
       "    <tr>\n",
       "      <th>2016-01-15 01:00:00</th>\n",
       "      <td>6.029369</td>\n",
       "      <td>9.968944</td>\n",
       "      <td>5.257781</td>\n",
       "      <td>42.701629</td>\n",
       "      <td>69.266198</td>\n",
       "      <td>10.462676</td>\n",
       "      <td>0.927452</td>\n",
       "      <td>16.634514</td>\n",
       "      <td>2.224930</td>\n",
       "      <td>125.629232</td>\n",
       "      <td>...</td>\n",
       "      <td>13.992281</td>\n",
       "      <td>-505.503262</td>\n",
       "      <td>11.950531</td>\n",
       "      <td>-501.331529</td>\n",
       "      <td>10.039245</td>\n",
       "      <td>-500.169983</td>\n",
       "      <td>7.984757</td>\n",
       "      <td>-500.582168</td>\n",
       "      <td>13.998353</td>\n",
       "      <td>-599.787184</td>\n",
       "    </tr>\n",
       "    <tr>\n",
       "      <th>2016-01-15 02:00:00</th>\n",
       "      <td>6.055926</td>\n",
       "      <td>10.213995</td>\n",
       "      <td>5.383759</td>\n",
       "      <td>42.657501</td>\n",
       "      <td>68.116445</td>\n",
       "      <td>10.507046</td>\n",
       "      <td>0.953716</td>\n",
       "      <td>16.208849</td>\n",
       "      <td>2.257889</td>\n",
       "      <td>123.819808</td>\n",
       "      <td>...</td>\n",
       "      <td>14.015015</td>\n",
       "      <td>-502.520901</td>\n",
       "      <td>11.912783</td>\n",
       "      <td>-501.133383</td>\n",
       "      <td>10.070913</td>\n",
       "      <td>-500.129135</td>\n",
       "      <td>8.013877</td>\n",
       "      <td>-500.517572</td>\n",
       "      <td>14.028663</td>\n",
       "      <td>-601.427363</td>\n",
       "    </tr>\n",
       "    <tr>\n",
       "      <th>2016-01-15 03:00:00</th>\n",
       "      <td>6.047977</td>\n",
       "      <td>9.977019</td>\n",
       "      <td>4.858634</td>\n",
       "      <td>42.689819</td>\n",
       "      <td>68.347543</td>\n",
       "      <td>10.422762</td>\n",
       "      <td>0.883763</td>\n",
       "      <td>16.532835</td>\n",
       "      <td>2.146849</td>\n",
       "      <td>122.270188</td>\n",
       "      <td>...</td>\n",
       "      <td>14.036510</td>\n",
       "      <td>-500.857308</td>\n",
       "      <td>11.999550</td>\n",
       "      <td>-501.193686</td>\n",
       "      <td>9.970366</td>\n",
       "      <td>-499.201640</td>\n",
       "      <td>7.977324</td>\n",
       "      <td>-500.255908</td>\n",
       "      <td>14.005551</td>\n",
       "      <td>-599.996129</td>\n",
       "    </tr>\n",
       "    <tr>\n",
       "      <th>2016-01-15 04:00:00</th>\n",
       "      <td>6.148599</td>\n",
       "      <td>10.142511</td>\n",
       "      <td>4.939416</td>\n",
       "      <td>42.774141</td>\n",
       "      <td>66.927016</td>\n",
       "      <td>10.360302</td>\n",
       "      <td>0.792826</td>\n",
       "      <td>16.525686</td>\n",
       "      <td>2.055292</td>\n",
       "      <td>117.988169</td>\n",
       "      <td>...</td>\n",
       "      <td>14.027298</td>\n",
       "      <td>-499.838632</td>\n",
       "      <td>11.953070</td>\n",
       "      <td>-501.053894</td>\n",
       "      <td>9.925709</td>\n",
       "      <td>-501.686727</td>\n",
       "      <td>7.894242</td>\n",
       "      <td>-500.356035</td>\n",
       "      <td>13.996647</td>\n",
       "      <td>-601.496691</td>\n",
       "    </tr>\n",
       "  </tbody>\n",
       "</table>\n",
       "<p>5 rows × 86 columns</p>\n",
       "</div>"
      ],
      "text/plain": [
       "                     final.output.concentrate_ag  final.output.concentrate_pb  \\\n",
       "date                                                                            \n",
       "2016-01-15 00:00:00                     6.055403                     9.889648   \n",
       "2016-01-15 01:00:00                     6.029369                     9.968944   \n",
       "2016-01-15 02:00:00                     6.055926                    10.213995   \n",
       "2016-01-15 03:00:00                     6.047977                     9.977019   \n",
       "2016-01-15 04:00:00                     6.148599                    10.142511   \n",
       "\n",
       "                     final.output.concentrate_sol  \\\n",
       "date                                                \n",
       "2016-01-15 00:00:00                      5.507324   \n",
       "2016-01-15 01:00:00                      5.257781   \n",
       "2016-01-15 02:00:00                      5.383759   \n",
       "2016-01-15 03:00:00                      4.858634   \n",
       "2016-01-15 04:00:00                      4.939416   \n",
       "\n",
       "                     final.output.concentrate_au  final.output.recovery  \\\n",
       "date                                                                      \n",
       "2016-01-15 00:00:00                    42.192020              70.541216   \n",
       "2016-01-15 01:00:00                    42.701629              69.266198   \n",
       "2016-01-15 02:00:00                    42.657501              68.116445   \n",
       "2016-01-15 03:00:00                    42.689819              68.347543   \n",
       "2016-01-15 04:00:00                    42.774141              66.927016   \n",
       "\n",
       "                     final.output.tail_ag  final.output.tail_pb  \\\n",
       "date                                                              \n",
       "2016-01-15 00:00:00             10.411962              0.895447   \n",
       "2016-01-15 01:00:00             10.462676              0.927452   \n",
       "2016-01-15 02:00:00             10.507046              0.953716   \n",
       "2016-01-15 03:00:00             10.422762              0.883763   \n",
       "2016-01-15 04:00:00             10.360302              0.792826   \n",
       "\n",
       "                     final.output.tail_sol  final.output.tail_au  \\\n",
       "date                                                               \n",
       "2016-01-15 00:00:00              16.904297              2.143149   \n",
       "2016-01-15 01:00:00              16.634514              2.224930   \n",
       "2016-01-15 02:00:00              16.208849              2.257889   \n",
       "2016-01-15 03:00:00              16.532835              2.146849   \n",
       "2016-01-15 04:00:00              16.525686              2.055292   \n",
       "\n",
       "                     primary_cleaner.input.sulfate  ...  \\\n",
       "date                                                ...   \n",
       "2016-01-15 00:00:00                     127.092003  ...   \n",
       "2016-01-15 01:00:00                     125.629232  ...   \n",
       "2016-01-15 02:00:00                     123.819808  ...   \n",
       "2016-01-15 03:00:00                     122.270188  ...   \n",
       "2016-01-15 04:00:00                     117.988169  ...   \n",
       "\n",
       "                     secondary_cleaner.state.floatbank4_a_air  \\\n",
       "date                                                            \n",
       "2016-01-15 00:00:00                                 14.016835   \n",
       "2016-01-15 01:00:00                                 13.992281   \n",
       "2016-01-15 02:00:00                                 14.015015   \n",
       "2016-01-15 03:00:00                                 14.036510   \n",
       "2016-01-15 04:00:00                                 14.027298   \n",
       "\n",
       "                     secondary_cleaner.state.floatbank4_a_level  \\\n",
       "date                                                              \n",
       "2016-01-15 00:00:00                                 -502.488007   \n",
       "2016-01-15 01:00:00                                 -505.503262   \n",
       "2016-01-15 02:00:00                                 -502.520901   \n",
       "2016-01-15 03:00:00                                 -500.857308   \n",
       "2016-01-15 04:00:00                                 -499.838632   \n",
       "\n",
       "                     secondary_cleaner.state.floatbank4_b_air  \\\n",
       "date                                                            \n",
       "2016-01-15 00:00:00                                 12.099931   \n",
       "2016-01-15 01:00:00                                 11.950531   \n",
       "2016-01-15 02:00:00                                 11.912783   \n",
       "2016-01-15 03:00:00                                 11.999550   \n",
       "2016-01-15 04:00:00                                 11.953070   \n",
       "\n",
       "                     secondary_cleaner.state.floatbank4_b_level  \\\n",
       "date                                                              \n",
       "2016-01-15 00:00:00                                 -504.715942   \n",
       "2016-01-15 01:00:00                                 -501.331529   \n",
       "2016-01-15 02:00:00                                 -501.133383   \n",
       "2016-01-15 03:00:00                                 -501.193686   \n",
       "2016-01-15 04:00:00                                 -501.053894   \n",
       "\n",
       "                     secondary_cleaner.state.floatbank5_a_air  \\\n",
       "date                                                            \n",
       "2016-01-15 00:00:00                                  9.925633   \n",
       "2016-01-15 01:00:00                                 10.039245   \n",
       "2016-01-15 02:00:00                                 10.070913   \n",
       "2016-01-15 03:00:00                                  9.970366   \n",
       "2016-01-15 04:00:00                                  9.925709   \n",
       "\n",
       "                     secondary_cleaner.state.floatbank5_a_level  \\\n",
       "date                                                              \n",
       "2016-01-15 00:00:00                                 -498.310211   \n",
       "2016-01-15 01:00:00                                 -500.169983   \n",
       "2016-01-15 02:00:00                                 -500.129135   \n",
       "2016-01-15 03:00:00                                 -499.201640   \n",
       "2016-01-15 04:00:00                                 -501.686727   \n",
       "\n",
       "                     secondary_cleaner.state.floatbank5_b_air  \\\n",
       "date                                                            \n",
       "2016-01-15 00:00:00                                  8.079666   \n",
       "2016-01-15 01:00:00                                  7.984757   \n",
       "2016-01-15 02:00:00                                  8.013877   \n",
       "2016-01-15 03:00:00                                  7.977324   \n",
       "2016-01-15 04:00:00                                  7.894242   \n",
       "\n",
       "                     secondary_cleaner.state.floatbank5_b_level  \\\n",
       "date                                                              \n",
       "2016-01-15 00:00:00                                 -500.470978   \n",
       "2016-01-15 01:00:00                                 -500.582168   \n",
       "2016-01-15 02:00:00                                 -500.517572   \n",
       "2016-01-15 03:00:00                                 -500.255908   \n",
       "2016-01-15 04:00:00                                 -500.356035   \n",
       "\n",
       "                     secondary_cleaner.state.floatbank6_a_air  \\\n",
       "date                                                            \n",
       "2016-01-15 00:00:00                                 14.151341   \n",
       "2016-01-15 01:00:00                                 13.998353   \n",
       "2016-01-15 02:00:00                                 14.028663   \n",
       "2016-01-15 03:00:00                                 14.005551   \n",
       "2016-01-15 04:00:00                                 13.996647   \n",
       "\n",
       "                     secondary_cleaner.state.floatbank6_a_level  \n",
       "date                                                             \n",
       "2016-01-15 00:00:00                                 -605.841980  \n",
       "2016-01-15 01:00:00                                 -599.787184  \n",
       "2016-01-15 02:00:00                                 -601.427363  \n",
       "2016-01-15 03:00:00                                 -599.996129  \n",
       "2016-01-15 04:00:00                                 -601.496691  \n",
       "\n",
       "[5 rows x 86 columns]"
      ]
     },
     "metadata": {},
     "output_type": "display_data"
    },
    {
     "data": {
      "text/html": [
       "<div>\n",
       "<style scoped>\n",
       "    .dataframe tbody tr th:only-of-type {\n",
       "        vertical-align: middle;\n",
       "    }\n",
       "\n",
       "    .dataframe tbody tr th {\n",
       "        vertical-align: top;\n",
       "    }\n",
       "\n",
       "    .dataframe thead th {\n",
       "        text-align: right;\n",
       "    }\n",
       "</style>\n",
       "<table border=\"1\" class=\"dataframe\">\n",
       "  <thead>\n",
       "    <tr style=\"text-align: right;\">\n",
       "      <th></th>\n",
       "      <th>final.output.concentrate_ag</th>\n",
       "      <th>final.output.concentrate_pb</th>\n",
       "      <th>final.output.concentrate_sol</th>\n",
       "      <th>final.output.concentrate_au</th>\n",
       "      <th>final.output.recovery</th>\n",
       "      <th>final.output.tail_ag</th>\n",
       "      <th>final.output.tail_pb</th>\n",
       "      <th>final.output.tail_sol</th>\n",
       "      <th>final.output.tail_au</th>\n",
       "      <th>primary_cleaner.input.sulfate</th>\n",
       "      <th>...</th>\n",
       "      <th>secondary_cleaner.state.floatbank4_a_air</th>\n",
       "      <th>secondary_cleaner.state.floatbank4_a_level</th>\n",
       "      <th>secondary_cleaner.state.floatbank4_b_air</th>\n",
       "      <th>secondary_cleaner.state.floatbank4_b_level</th>\n",
       "      <th>secondary_cleaner.state.floatbank5_a_air</th>\n",
       "      <th>secondary_cleaner.state.floatbank5_a_level</th>\n",
       "      <th>secondary_cleaner.state.floatbank5_b_air</th>\n",
       "      <th>secondary_cleaner.state.floatbank5_b_level</th>\n",
       "      <th>secondary_cleaner.state.floatbank6_a_air</th>\n",
       "      <th>secondary_cleaner.state.floatbank6_a_level</th>\n",
       "    </tr>\n",
       "  </thead>\n",
       "  <tbody>\n",
       "    <tr>\n",
       "      <th>count</th>\n",
       "      <td>14148.000000</td>\n",
       "      <td>14148.000000</td>\n",
       "      <td>13938.000000</td>\n",
       "      <td>14149.000000</td>\n",
       "      <td>14149.000000</td>\n",
       "      <td>14149.000000</td>\n",
       "      <td>14049.000000</td>\n",
       "      <td>14144.000000</td>\n",
       "      <td>14149.000000</td>\n",
       "      <td>14129.000000</td>\n",
       "      <td>...</td>\n",
       "      <td>14143.000000</td>\n",
       "      <td>14148.000000</td>\n",
       "      <td>14148.000000</td>\n",
       "      <td>14148.000000</td>\n",
       "      <td>14148.000000</td>\n",
       "      <td>14148.000000</td>\n",
       "      <td>14148.000000</td>\n",
       "      <td>14148.000000</td>\n",
       "      <td>14147.000000</td>\n",
       "      <td>14148.000000</td>\n",
       "    </tr>\n",
       "    <tr>\n",
       "      <th>mean</th>\n",
       "      <td>5.142034</td>\n",
       "      <td>10.132960</td>\n",
       "      <td>9.202849</td>\n",
       "      <td>44.003792</td>\n",
       "      <td>66.518832</td>\n",
       "      <td>9.607035</td>\n",
       "      <td>2.597298</td>\n",
       "      <td>10.512122</td>\n",
       "      <td>2.918421</td>\n",
       "      <td>133.320659</td>\n",
       "      <td>...</td>\n",
       "      <td>19.985454</td>\n",
       "      <td>-478.696836</td>\n",
       "      <td>15.487065</td>\n",
       "      <td>-460.229416</td>\n",
       "      <td>16.775136</td>\n",
       "      <td>-483.956022</td>\n",
       "      <td>13.064590</td>\n",
       "      <td>-483.966564</td>\n",
       "      <td>19.577539</td>\n",
       "      <td>-506.798480</td>\n",
       "    </tr>\n",
       "    <tr>\n",
       "      <th>std</th>\n",
       "      <td>1.369586</td>\n",
       "      <td>1.654930</td>\n",
       "      <td>2.790516</td>\n",
       "      <td>4.905261</td>\n",
       "      <td>10.295402</td>\n",
       "      <td>2.319069</td>\n",
       "      <td>0.971843</td>\n",
       "      <td>3.003617</td>\n",
       "      <td>0.903712</td>\n",
       "      <td>39.431659</td>\n",
       "      <td>...</td>\n",
       "      <td>5.657723</td>\n",
       "      <td>50.736021</td>\n",
       "      <td>5.255655</td>\n",
       "      <td>58.843586</td>\n",
       "      <td>5.831906</td>\n",
       "      <td>37.892788</td>\n",
       "      <td>5.765617</td>\n",
       "      <td>39.207913</td>\n",
       "      <td>5.764417</td>\n",
       "      <td>37.079249</td>\n",
       "    </tr>\n",
       "    <tr>\n",
       "      <th>min</th>\n",
       "      <td>0.000000</td>\n",
       "      <td>0.000000</td>\n",
       "      <td>0.000000</td>\n",
       "      <td>0.000000</td>\n",
       "      <td>0.000000</td>\n",
       "      <td>0.000000</td>\n",
       "      <td>0.000000</td>\n",
       "      <td>0.000000</td>\n",
       "      <td>0.000000</td>\n",
       "      <td>0.003112</td>\n",
       "      <td>...</td>\n",
       "      <td>0.000000</td>\n",
       "      <td>-799.709069</td>\n",
       "      <td>0.000000</td>\n",
       "      <td>-799.889113</td>\n",
       "      <td>-0.372054</td>\n",
       "      <td>-797.142475</td>\n",
       "      <td>0.646208</td>\n",
       "      <td>-800.006180</td>\n",
       "      <td>0.195324</td>\n",
       "      <td>-809.398668</td>\n",
       "    </tr>\n",
       "    <tr>\n",
       "      <th>25%</th>\n",
       "      <td>4.211620</td>\n",
       "      <td>9.297355</td>\n",
       "      <td>7.484645</td>\n",
       "      <td>43.276111</td>\n",
       "      <td>62.545817</td>\n",
       "      <td>7.997429</td>\n",
       "      <td>1.905973</td>\n",
       "      <td>8.811324</td>\n",
       "      <td>2.368607</td>\n",
       "      <td>107.006651</td>\n",
       "      <td>...</td>\n",
       "      <td>14.990775</td>\n",
       "      <td>-500.628656</td>\n",
       "      <td>11.894558</td>\n",
       "      <td>-500.149000</td>\n",
       "      <td>11.083980</td>\n",
       "      <td>-500.363177</td>\n",
       "      <td>8.994405</td>\n",
       "      <td>-500.105994</td>\n",
       "      <td>14.989304</td>\n",
       "      <td>-500.745104</td>\n",
       "    </tr>\n",
       "    <tr>\n",
       "      <th>50%</th>\n",
       "      <td>4.994652</td>\n",
       "      <td>10.297144</td>\n",
       "      <td>8.845462</td>\n",
       "      <td>44.872436</td>\n",
       "      <td>67.432775</td>\n",
       "      <td>9.480270</td>\n",
       "      <td>2.592022</td>\n",
       "      <td>10.514621</td>\n",
       "      <td>2.851025</td>\n",
       "      <td>133.018328</td>\n",
       "      <td>...</td>\n",
       "      <td>20.001789</td>\n",
       "      <td>-499.681450</td>\n",
       "      <td>14.975536</td>\n",
       "      <td>-499.388738</td>\n",
       "      <td>17.932223</td>\n",
       "      <td>-499.702452</td>\n",
       "      <td>11.997547</td>\n",
       "      <td>-499.914556</td>\n",
       "      <td>19.984175</td>\n",
       "      <td>-500.061431</td>\n",
       "    </tr>\n",
       "    <tr>\n",
       "      <th>75%</th>\n",
       "      <td>5.859540</td>\n",
       "      <td>11.170603</td>\n",
       "      <td>10.487508</td>\n",
       "      <td>46.166425</td>\n",
       "      <td>72.346428</td>\n",
       "      <td>11.003707</td>\n",
       "      <td>3.241723</td>\n",
       "      <td>11.933009</td>\n",
       "      <td>3.434764</td>\n",
       "      <td>159.825396</td>\n",
       "      <td>...</td>\n",
       "      <td>24.990826</td>\n",
       "      <td>-477.472413</td>\n",
       "      <td>20.059375</td>\n",
       "      <td>-400.039008</td>\n",
       "      <td>21.346550</td>\n",
       "      <td>-487.712108</td>\n",
       "      <td>17.982903</td>\n",
       "      <td>-453.186936</td>\n",
       "      <td>24.991623</td>\n",
       "      <td>-499.536466</td>\n",
       "    </tr>\n",
       "    <tr>\n",
       "      <th>max</th>\n",
       "      <td>16.001945</td>\n",
       "      <td>17.031899</td>\n",
       "      <td>18.124851</td>\n",
       "      <td>52.756638</td>\n",
       "      <td>100.000000</td>\n",
       "      <td>19.552149</td>\n",
       "      <td>5.639565</td>\n",
       "      <td>22.317730</td>\n",
       "      <td>8.197408</td>\n",
       "      <td>250.127834</td>\n",
       "      <td>...</td>\n",
       "      <td>30.115735</td>\n",
       "      <td>-245.239184</td>\n",
       "      <td>24.007913</td>\n",
       "      <td>-145.071088</td>\n",
       "      <td>43.709931</td>\n",
       "      <td>-275.073125</td>\n",
       "      <td>27.926001</td>\n",
       "      <td>-157.396071</td>\n",
       "      <td>32.188906</td>\n",
       "      <td>-104.427459</td>\n",
       "    </tr>\n",
       "  </tbody>\n",
       "</table>\n",
       "<p>8 rows × 86 columns</p>\n",
       "</div>"
      ],
      "text/plain": [
       "       final.output.concentrate_ag  final.output.concentrate_pb  \\\n",
       "count                 14148.000000                 14148.000000   \n",
       "mean                      5.142034                    10.132960   \n",
       "std                       1.369586                     1.654930   \n",
       "min                       0.000000                     0.000000   \n",
       "25%                       4.211620                     9.297355   \n",
       "50%                       4.994652                    10.297144   \n",
       "75%                       5.859540                    11.170603   \n",
       "max                      16.001945                    17.031899   \n",
       "\n",
       "       final.output.concentrate_sol  final.output.concentrate_au  \\\n",
       "count                  13938.000000                 14149.000000   \n",
       "mean                       9.202849                    44.003792   \n",
       "std                        2.790516                     4.905261   \n",
       "min                        0.000000                     0.000000   \n",
       "25%                        7.484645                    43.276111   \n",
       "50%                        8.845462                    44.872436   \n",
       "75%                       10.487508                    46.166425   \n",
       "max                       18.124851                    52.756638   \n",
       "\n",
       "       final.output.recovery  final.output.tail_ag  final.output.tail_pb  \\\n",
       "count           14149.000000          14149.000000          14049.000000   \n",
       "mean               66.518832              9.607035              2.597298   \n",
       "std                10.295402              2.319069              0.971843   \n",
       "min                 0.000000              0.000000              0.000000   \n",
       "25%                62.545817              7.997429              1.905973   \n",
       "50%                67.432775              9.480270              2.592022   \n",
       "75%                72.346428             11.003707              3.241723   \n",
       "max               100.000000             19.552149              5.639565   \n",
       "\n",
       "       final.output.tail_sol  final.output.tail_au  \\\n",
       "count           14144.000000          14149.000000   \n",
       "mean               10.512122              2.918421   \n",
       "std                 3.003617              0.903712   \n",
       "min                 0.000000              0.000000   \n",
       "25%                 8.811324              2.368607   \n",
       "50%                10.514621              2.851025   \n",
       "75%                11.933009              3.434764   \n",
       "max                22.317730              8.197408   \n",
       "\n",
       "       primary_cleaner.input.sulfate  ...  \\\n",
       "count                   14129.000000  ...   \n",
       "mean                      133.320659  ...   \n",
       "std                        39.431659  ...   \n",
       "min                         0.003112  ...   \n",
       "25%                       107.006651  ...   \n",
       "50%                       133.018328  ...   \n",
       "75%                       159.825396  ...   \n",
       "max                       250.127834  ...   \n",
       "\n",
       "       secondary_cleaner.state.floatbank4_a_air  \\\n",
       "count                              14143.000000   \n",
       "mean                                  19.985454   \n",
       "std                                    5.657723   \n",
       "min                                    0.000000   \n",
       "25%                                   14.990775   \n",
       "50%                                   20.001789   \n",
       "75%                                   24.990826   \n",
       "max                                   30.115735   \n",
       "\n",
       "       secondary_cleaner.state.floatbank4_a_level  \\\n",
       "count                                14148.000000   \n",
       "mean                                  -478.696836   \n",
       "std                                     50.736021   \n",
       "min                                   -799.709069   \n",
       "25%                                   -500.628656   \n",
       "50%                                   -499.681450   \n",
       "75%                                   -477.472413   \n",
       "max                                   -245.239184   \n",
       "\n",
       "       secondary_cleaner.state.floatbank4_b_air  \\\n",
       "count                              14148.000000   \n",
       "mean                                  15.487065   \n",
       "std                                    5.255655   \n",
       "min                                    0.000000   \n",
       "25%                                   11.894558   \n",
       "50%                                   14.975536   \n",
       "75%                                   20.059375   \n",
       "max                                   24.007913   \n",
       "\n",
       "       secondary_cleaner.state.floatbank4_b_level  \\\n",
       "count                                14148.000000   \n",
       "mean                                  -460.229416   \n",
       "std                                     58.843586   \n",
       "min                                   -799.889113   \n",
       "25%                                   -500.149000   \n",
       "50%                                   -499.388738   \n",
       "75%                                   -400.039008   \n",
       "max                                   -145.071088   \n",
       "\n",
       "       secondary_cleaner.state.floatbank5_a_air  \\\n",
       "count                              14148.000000   \n",
       "mean                                  16.775136   \n",
       "std                                    5.831906   \n",
       "min                                   -0.372054   \n",
       "25%                                   11.083980   \n",
       "50%                                   17.932223   \n",
       "75%                                   21.346550   \n",
       "max                                   43.709931   \n",
       "\n",
       "       secondary_cleaner.state.floatbank5_a_level  \\\n",
       "count                                14148.000000   \n",
       "mean                                  -483.956022   \n",
       "std                                     37.892788   \n",
       "min                                   -797.142475   \n",
       "25%                                   -500.363177   \n",
       "50%                                   -499.702452   \n",
       "75%                                   -487.712108   \n",
       "max                                   -275.073125   \n",
       "\n",
       "       secondary_cleaner.state.floatbank5_b_air  \\\n",
       "count                              14148.000000   \n",
       "mean                                  13.064590   \n",
       "std                                    5.765617   \n",
       "min                                    0.646208   \n",
       "25%                                    8.994405   \n",
       "50%                                   11.997547   \n",
       "75%                                   17.982903   \n",
       "max                                   27.926001   \n",
       "\n",
       "       secondary_cleaner.state.floatbank5_b_level  \\\n",
       "count                                14148.000000   \n",
       "mean                                  -483.966564   \n",
       "std                                     39.207913   \n",
       "min                                   -800.006180   \n",
       "25%                                   -500.105994   \n",
       "50%                                   -499.914556   \n",
       "75%                                   -453.186936   \n",
       "max                                   -157.396071   \n",
       "\n",
       "       secondary_cleaner.state.floatbank6_a_air  \\\n",
       "count                              14147.000000   \n",
       "mean                                  19.577539   \n",
       "std                                    5.764417   \n",
       "min                                    0.195324   \n",
       "25%                                   14.989304   \n",
       "50%                                   19.984175   \n",
       "75%                                   24.991623   \n",
       "max                                   32.188906   \n",
       "\n",
       "       secondary_cleaner.state.floatbank6_a_level  \n",
       "count                                14148.000000  \n",
       "mean                                  -506.798480  \n",
       "std                                     37.079249  \n",
       "min                                   -809.398668  \n",
       "25%                                   -500.745104  \n",
       "50%                                   -500.061431  \n",
       "75%                                   -499.536466  \n",
       "max                                   -104.427459  \n",
       "\n",
       "[8 rows x 86 columns]"
      ]
     },
     "metadata": {},
     "output_type": "display_data"
    },
    {
     "name": "stdout",
     "output_type": "stream",
     "text": [
      "Пропусков в данных: \n",
      "4100\n",
      "\n",
      "Дубликатов в данных:  0\n",
      "\n",
      "<class 'pandas.core.frame.DataFrame'>\n",
      "Index: 14149 entries, 2016-01-15 00:00:00 to 2018-08-18 10:59:59\n",
      "Data columns (total 86 columns):\n",
      " #   Column                                              Non-Null Count  Dtype  \n",
      "---  ------                                              --------------  -----  \n",
      " 0   final.output.concentrate_ag                         14148 non-null  float64\n",
      " 1   final.output.concentrate_pb                         14148 non-null  float64\n",
      " 2   final.output.concentrate_sol                        13938 non-null  float64\n",
      " 3   final.output.concentrate_au                         14149 non-null  float64\n",
      " 4   final.output.recovery                               14149 non-null  float64\n",
      " 5   final.output.tail_ag                                14149 non-null  float64\n",
      " 6   final.output.tail_pb                                14049 non-null  float64\n",
      " 7   final.output.tail_sol                               14144 non-null  float64\n",
      " 8   final.output.tail_au                                14149 non-null  float64\n",
      " 9   primary_cleaner.input.sulfate                       14129 non-null  float64\n",
      " 10  primary_cleaner.input.depressant                    14117 non-null  float64\n",
      " 11  primary_cleaner.input.feed_size                     14149 non-null  float64\n",
      " 12  primary_cleaner.input.xanthate                      14049 non-null  float64\n",
      " 13  primary_cleaner.output.concentrate_ag               14149 non-null  float64\n",
      " 14  primary_cleaner.output.concentrate_pb               14063 non-null  float64\n",
      " 15  primary_cleaner.output.concentrate_sol              13863 non-null  float64\n",
      " 16  primary_cleaner.output.concentrate_au               14149 non-null  float64\n",
      " 17  primary_cleaner.output.tail_ag                      14148 non-null  float64\n",
      " 18  primary_cleaner.output.tail_pb                      14134 non-null  float64\n",
      " 19  primary_cleaner.output.tail_sol                     14103 non-null  float64\n",
      " 20  primary_cleaner.output.tail_au                      14149 non-null  float64\n",
      " 21  primary_cleaner.state.floatbank8_a_air              14145 non-null  float64\n",
      " 22  primary_cleaner.state.floatbank8_a_level            14148 non-null  float64\n",
      " 23  primary_cleaner.state.floatbank8_b_air              14145 non-null  float64\n",
      " 24  primary_cleaner.state.floatbank8_b_level            14148 non-null  float64\n",
      " 25  primary_cleaner.state.floatbank8_c_air              14147 non-null  float64\n",
      " 26  primary_cleaner.state.floatbank8_c_level            14148 non-null  float64\n",
      " 27  primary_cleaner.state.floatbank8_d_air              14146 non-null  float64\n",
      " 28  primary_cleaner.state.floatbank8_d_level            14148 non-null  float64\n",
      " 29  rougher.calculation.sulfate_to_au_concentrate       14148 non-null  float64\n",
      " 30  rougher.calculation.floatbank10_sulfate_to_au_feed  14148 non-null  float64\n",
      " 31  rougher.calculation.floatbank11_sulfate_to_au_feed  14148 non-null  float64\n",
      " 32  rougher.calculation.au_pb_ratio                     14149 non-null  float64\n",
      " 33  rougher.input.feed_ag                               14149 non-null  float64\n",
      " 34  rougher.input.feed_pb                               14049 non-null  float64\n",
      " 35  rougher.input.feed_rate                             14141 non-null  float64\n",
      " 36  rougher.input.feed_size                             14005 non-null  float64\n",
      " 37  rougher.input.feed_sol                              14071 non-null  float64\n",
      " 38  rougher.input.feed_au                               14149 non-null  float64\n",
      " 39  rougher.input.floatbank10_sulfate                   14120 non-null  float64\n",
      " 40  rougher.input.floatbank10_xanthate                  14141 non-null  float64\n",
      " 41  rougher.input.floatbank11_sulfate                   14113 non-null  float64\n",
      " 42  rougher.input.floatbank11_xanthate                  13721 non-null  float64\n",
      " 43  rougher.output.concentrate_ag                       14149 non-null  float64\n",
      " 44  rougher.output.concentrate_pb                       14149 non-null  float64\n",
      " 45  rougher.output.concentrate_sol                      14127 non-null  float64\n",
      " 46  rougher.output.concentrate_au                       14149 non-null  float64\n",
      " 47  rougher.output.recovery                             14149 non-null  float64\n",
      " 48  rougher.output.tail_ag                              14148 non-null  float64\n",
      " 49  rougher.output.tail_pb                              14149 non-null  float64\n",
      " 50  rougher.output.tail_sol                             14149 non-null  float64\n",
      " 51  rougher.output.tail_au                              14149 non-null  float64\n",
      " 52  rougher.state.floatbank10_a_air                     14148 non-null  float64\n",
      " 53  rougher.state.floatbank10_a_level                   14148 non-null  float64\n",
      " 54  rougher.state.floatbank10_b_air                     14148 non-null  float64\n",
      " 55  rougher.state.floatbank10_b_level                   14148 non-null  float64\n",
      " 56  rougher.state.floatbank10_c_air                     14148 non-null  float64\n",
      " 57  rougher.state.floatbank10_c_level                   14148 non-null  float64\n",
      " 58  rougher.state.floatbank10_d_air                     14149 non-null  float64\n",
      " 59  rougher.state.floatbank10_d_level                   14149 non-null  float64\n",
      " 60  rougher.state.floatbank10_e_air                     13713 non-null  float64\n",
      " 61  rougher.state.floatbank10_e_level                   14149 non-null  float64\n",
      " 62  rougher.state.floatbank10_f_air                     14149 non-null  float64\n",
      " 63  rougher.state.floatbank10_f_level                   14149 non-null  float64\n",
      " 64  secondary_cleaner.output.tail_ag                    14147 non-null  float64\n",
      " 65  secondary_cleaner.output.tail_pb                    14139 non-null  float64\n",
      " 66  secondary_cleaner.output.tail_sol                   12544 non-null  float64\n",
      " 67  secondary_cleaner.output.tail_au                    14149 non-null  float64\n",
      " 68  secondary_cleaner.state.floatbank2_a_air            13932 non-null  float64\n",
      " 69  secondary_cleaner.state.floatbank2_a_level          14148 non-null  float64\n",
      " 70  secondary_cleaner.state.floatbank2_b_air            14128 non-null  float64\n",
      " 71  secondary_cleaner.state.floatbank2_b_level          14148 non-null  float64\n",
      " 72  secondary_cleaner.state.floatbank3_a_air            14145 non-null  float64\n",
      " 73  secondary_cleaner.state.floatbank3_a_level          14148 non-null  float64\n",
      " 74  secondary_cleaner.state.floatbank3_b_air            14148 non-null  float64\n",
      " 75  secondary_cleaner.state.floatbank3_b_level          14148 non-null  float64\n",
      " 76  secondary_cleaner.state.floatbank4_a_air            14143 non-null  float64\n",
      " 77  secondary_cleaner.state.floatbank4_a_level          14148 non-null  float64\n",
      " 78  secondary_cleaner.state.floatbank4_b_air            14148 non-null  float64\n",
      " 79  secondary_cleaner.state.floatbank4_b_level          14148 non-null  float64\n",
      " 80  secondary_cleaner.state.floatbank5_a_air            14148 non-null  float64\n",
      " 81  secondary_cleaner.state.floatbank5_a_level          14148 non-null  float64\n",
      " 82  secondary_cleaner.state.floatbank5_b_air            14148 non-null  float64\n",
      " 83  secondary_cleaner.state.floatbank5_b_level          14148 non-null  float64\n",
      " 84  secondary_cleaner.state.floatbank6_a_air            14147 non-null  float64\n",
      " 85  secondary_cleaner.state.floatbank6_a_level          14148 non-null  float64\n",
      "dtypes: float64(86)\n",
      "memory usage: 9.4+ MB\n"
     ]
    }
   ],
   "source": [
    "data_info(data_train)"
   ]
  },
  {
   "cell_type": "code",
   "execution_count": 5,
   "metadata": {
    "scrolled": true
   },
   "outputs": [
    {
     "data": {
      "text/html": [
       "<div>\n",
       "<style scoped>\n",
       "    .dataframe tbody tr th:only-of-type {\n",
       "        vertical-align: middle;\n",
       "    }\n",
       "\n",
       "    .dataframe tbody tr th {\n",
       "        vertical-align: top;\n",
       "    }\n",
       "\n",
       "    .dataframe thead th {\n",
       "        text-align: right;\n",
       "    }\n",
       "</style>\n",
       "<table border=\"1\" class=\"dataframe\">\n",
       "  <thead>\n",
       "    <tr style=\"text-align: right;\">\n",
       "      <th></th>\n",
       "      <th>primary_cleaner.input.sulfate</th>\n",
       "      <th>primary_cleaner.input.depressant</th>\n",
       "      <th>primary_cleaner.input.feed_size</th>\n",
       "      <th>primary_cleaner.input.xanthate</th>\n",
       "      <th>primary_cleaner.state.floatbank8_a_air</th>\n",
       "      <th>primary_cleaner.state.floatbank8_a_level</th>\n",
       "      <th>primary_cleaner.state.floatbank8_b_air</th>\n",
       "      <th>primary_cleaner.state.floatbank8_b_level</th>\n",
       "      <th>primary_cleaner.state.floatbank8_c_air</th>\n",
       "      <th>primary_cleaner.state.floatbank8_c_level</th>\n",
       "      <th>...</th>\n",
       "      <th>secondary_cleaner.state.floatbank4_a_air</th>\n",
       "      <th>secondary_cleaner.state.floatbank4_a_level</th>\n",
       "      <th>secondary_cleaner.state.floatbank4_b_air</th>\n",
       "      <th>secondary_cleaner.state.floatbank4_b_level</th>\n",
       "      <th>secondary_cleaner.state.floatbank5_a_air</th>\n",
       "      <th>secondary_cleaner.state.floatbank5_a_level</th>\n",
       "      <th>secondary_cleaner.state.floatbank5_b_air</th>\n",
       "      <th>secondary_cleaner.state.floatbank5_b_level</th>\n",
       "      <th>secondary_cleaner.state.floatbank6_a_air</th>\n",
       "      <th>secondary_cleaner.state.floatbank6_a_level</th>\n",
       "    </tr>\n",
       "    <tr>\n",
       "      <th>date</th>\n",
       "      <th></th>\n",
       "      <th></th>\n",
       "      <th></th>\n",
       "      <th></th>\n",
       "      <th></th>\n",
       "      <th></th>\n",
       "      <th></th>\n",
       "      <th></th>\n",
       "      <th></th>\n",
       "      <th></th>\n",
       "      <th></th>\n",
       "      <th></th>\n",
       "      <th></th>\n",
       "      <th></th>\n",
       "      <th></th>\n",
       "      <th></th>\n",
       "      <th></th>\n",
       "      <th></th>\n",
       "      <th></th>\n",
       "      <th></th>\n",
       "      <th></th>\n",
       "    </tr>\n",
       "  </thead>\n",
       "  <tbody>\n",
       "    <tr>\n",
       "      <th>2016-09-01 00:59:59</th>\n",
       "      <td>210.800909</td>\n",
       "      <td>14.993118</td>\n",
       "      <td>8.080000</td>\n",
       "      <td>1.005021</td>\n",
       "      <td>1398.981301</td>\n",
       "      <td>-500.225577</td>\n",
       "      <td>1399.144926</td>\n",
       "      <td>-499.919735</td>\n",
       "      <td>1400.102998</td>\n",
       "      <td>-500.704369</td>\n",
       "      <td>...</td>\n",
       "      <td>12.023554</td>\n",
       "      <td>-497.795834</td>\n",
       "      <td>8.016656</td>\n",
       "      <td>-501.289139</td>\n",
       "      <td>7.946562</td>\n",
       "      <td>-432.317850</td>\n",
       "      <td>4.872511</td>\n",
       "      <td>-500.037437</td>\n",
       "      <td>26.705889</td>\n",
       "      <td>-499.709414</td>\n",
       "    </tr>\n",
       "    <tr>\n",
       "      <th>2016-09-01 01:59:59</th>\n",
       "      <td>215.392455</td>\n",
       "      <td>14.987471</td>\n",
       "      <td>8.080000</td>\n",
       "      <td>0.990469</td>\n",
       "      <td>1398.777912</td>\n",
       "      <td>-500.057435</td>\n",
       "      <td>1398.055362</td>\n",
       "      <td>-499.778182</td>\n",
       "      <td>1396.151033</td>\n",
       "      <td>-499.240168</td>\n",
       "      <td>...</td>\n",
       "      <td>12.058140</td>\n",
       "      <td>-498.695773</td>\n",
       "      <td>8.130979</td>\n",
       "      <td>-499.634209</td>\n",
       "      <td>7.958270</td>\n",
       "      <td>-525.839648</td>\n",
       "      <td>4.878850</td>\n",
       "      <td>-500.162375</td>\n",
       "      <td>25.019940</td>\n",
       "      <td>-499.819438</td>\n",
       "    </tr>\n",
       "    <tr>\n",
       "      <th>2016-09-01 02:59:59</th>\n",
       "      <td>215.259946</td>\n",
       "      <td>12.884934</td>\n",
       "      <td>7.786667</td>\n",
       "      <td>0.996043</td>\n",
       "      <td>1398.493666</td>\n",
       "      <td>-500.868360</td>\n",
       "      <td>1398.860436</td>\n",
       "      <td>-499.764529</td>\n",
       "      <td>1398.075709</td>\n",
       "      <td>-502.151509</td>\n",
       "      <td>...</td>\n",
       "      <td>11.962366</td>\n",
       "      <td>-498.767484</td>\n",
       "      <td>8.096893</td>\n",
       "      <td>-500.827423</td>\n",
       "      <td>8.071056</td>\n",
       "      <td>-500.801673</td>\n",
       "      <td>4.905125</td>\n",
       "      <td>-499.828510</td>\n",
       "      <td>24.994862</td>\n",
       "      <td>-500.622559</td>\n",
       "    </tr>\n",
       "    <tr>\n",
       "      <th>2016-09-01 03:59:59</th>\n",
       "      <td>215.336236</td>\n",
       "      <td>12.006805</td>\n",
       "      <td>7.640000</td>\n",
       "      <td>0.863514</td>\n",
       "      <td>1399.618111</td>\n",
       "      <td>-498.863574</td>\n",
       "      <td>1397.440120</td>\n",
       "      <td>-499.211024</td>\n",
       "      <td>1400.129303</td>\n",
       "      <td>-498.355873</td>\n",
       "      <td>...</td>\n",
       "      <td>12.033091</td>\n",
       "      <td>-498.350935</td>\n",
       "      <td>8.074946</td>\n",
       "      <td>-499.474407</td>\n",
       "      <td>7.897085</td>\n",
       "      <td>-500.868509</td>\n",
       "      <td>4.931400</td>\n",
       "      <td>-499.963623</td>\n",
       "      <td>24.948919</td>\n",
       "      <td>-498.709987</td>\n",
       "    </tr>\n",
       "    <tr>\n",
       "      <th>2016-09-01 04:59:59</th>\n",
       "      <td>199.099327</td>\n",
       "      <td>10.682530</td>\n",
       "      <td>7.530000</td>\n",
       "      <td>0.805575</td>\n",
       "      <td>1401.268123</td>\n",
       "      <td>-500.808305</td>\n",
       "      <td>1398.128818</td>\n",
       "      <td>-499.504543</td>\n",
       "      <td>1402.172226</td>\n",
       "      <td>-500.810606</td>\n",
       "      <td>...</td>\n",
       "      <td>12.025367</td>\n",
       "      <td>-500.786497</td>\n",
       "      <td>8.054678</td>\n",
       "      <td>-500.397500</td>\n",
       "      <td>8.107890</td>\n",
       "      <td>-509.526725</td>\n",
       "      <td>4.957674</td>\n",
       "      <td>-500.360026</td>\n",
       "      <td>25.003331</td>\n",
       "      <td>-500.856333</td>\n",
       "    </tr>\n",
       "  </tbody>\n",
       "</table>\n",
       "<p>5 rows × 52 columns</p>\n",
       "</div>"
      ],
      "text/plain": [
       "                     primary_cleaner.input.sulfate  \\\n",
       "date                                                 \n",
       "2016-09-01 00:59:59                     210.800909   \n",
       "2016-09-01 01:59:59                     215.392455   \n",
       "2016-09-01 02:59:59                     215.259946   \n",
       "2016-09-01 03:59:59                     215.336236   \n",
       "2016-09-01 04:59:59                     199.099327   \n",
       "\n",
       "                     primary_cleaner.input.depressant  \\\n",
       "date                                                    \n",
       "2016-09-01 00:59:59                         14.993118   \n",
       "2016-09-01 01:59:59                         14.987471   \n",
       "2016-09-01 02:59:59                         12.884934   \n",
       "2016-09-01 03:59:59                         12.006805   \n",
       "2016-09-01 04:59:59                         10.682530   \n",
       "\n",
       "                     primary_cleaner.input.feed_size  \\\n",
       "date                                                   \n",
       "2016-09-01 00:59:59                         8.080000   \n",
       "2016-09-01 01:59:59                         8.080000   \n",
       "2016-09-01 02:59:59                         7.786667   \n",
       "2016-09-01 03:59:59                         7.640000   \n",
       "2016-09-01 04:59:59                         7.530000   \n",
       "\n",
       "                     primary_cleaner.input.xanthate  \\\n",
       "date                                                  \n",
       "2016-09-01 00:59:59                        1.005021   \n",
       "2016-09-01 01:59:59                        0.990469   \n",
       "2016-09-01 02:59:59                        0.996043   \n",
       "2016-09-01 03:59:59                        0.863514   \n",
       "2016-09-01 04:59:59                        0.805575   \n",
       "\n",
       "                     primary_cleaner.state.floatbank8_a_air  \\\n",
       "date                                                          \n",
       "2016-09-01 00:59:59                             1398.981301   \n",
       "2016-09-01 01:59:59                             1398.777912   \n",
       "2016-09-01 02:59:59                             1398.493666   \n",
       "2016-09-01 03:59:59                             1399.618111   \n",
       "2016-09-01 04:59:59                             1401.268123   \n",
       "\n",
       "                     primary_cleaner.state.floatbank8_a_level  \\\n",
       "date                                                            \n",
       "2016-09-01 00:59:59                               -500.225577   \n",
       "2016-09-01 01:59:59                               -500.057435   \n",
       "2016-09-01 02:59:59                               -500.868360   \n",
       "2016-09-01 03:59:59                               -498.863574   \n",
       "2016-09-01 04:59:59                               -500.808305   \n",
       "\n",
       "                     primary_cleaner.state.floatbank8_b_air  \\\n",
       "date                                                          \n",
       "2016-09-01 00:59:59                             1399.144926   \n",
       "2016-09-01 01:59:59                             1398.055362   \n",
       "2016-09-01 02:59:59                             1398.860436   \n",
       "2016-09-01 03:59:59                             1397.440120   \n",
       "2016-09-01 04:59:59                             1398.128818   \n",
       "\n",
       "                     primary_cleaner.state.floatbank8_b_level  \\\n",
       "date                                                            \n",
       "2016-09-01 00:59:59                               -499.919735   \n",
       "2016-09-01 01:59:59                               -499.778182   \n",
       "2016-09-01 02:59:59                               -499.764529   \n",
       "2016-09-01 03:59:59                               -499.211024   \n",
       "2016-09-01 04:59:59                               -499.504543   \n",
       "\n",
       "                     primary_cleaner.state.floatbank8_c_air  \\\n",
       "date                                                          \n",
       "2016-09-01 00:59:59                             1400.102998   \n",
       "2016-09-01 01:59:59                             1396.151033   \n",
       "2016-09-01 02:59:59                             1398.075709   \n",
       "2016-09-01 03:59:59                             1400.129303   \n",
       "2016-09-01 04:59:59                             1402.172226   \n",
       "\n",
       "                     primary_cleaner.state.floatbank8_c_level  ...  \\\n",
       "date                                                           ...   \n",
       "2016-09-01 00:59:59                               -500.704369  ...   \n",
       "2016-09-01 01:59:59                               -499.240168  ...   \n",
       "2016-09-01 02:59:59                               -502.151509  ...   \n",
       "2016-09-01 03:59:59                               -498.355873  ...   \n",
       "2016-09-01 04:59:59                               -500.810606  ...   \n",
       "\n",
       "                     secondary_cleaner.state.floatbank4_a_air  \\\n",
       "date                                                            \n",
       "2016-09-01 00:59:59                                 12.023554   \n",
       "2016-09-01 01:59:59                                 12.058140   \n",
       "2016-09-01 02:59:59                                 11.962366   \n",
       "2016-09-01 03:59:59                                 12.033091   \n",
       "2016-09-01 04:59:59                                 12.025367   \n",
       "\n",
       "                     secondary_cleaner.state.floatbank4_a_level  \\\n",
       "date                                                              \n",
       "2016-09-01 00:59:59                                 -497.795834   \n",
       "2016-09-01 01:59:59                                 -498.695773   \n",
       "2016-09-01 02:59:59                                 -498.767484   \n",
       "2016-09-01 03:59:59                                 -498.350935   \n",
       "2016-09-01 04:59:59                                 -500.786497   \n",
       "\n",
       "                     secondary_cleaner.state.floatbank4_b_air  \\\n",
       "date                                                            \n",
       "2016-09-01 00:59:59                                  8.016656   \n",
       "2016-09-01 01:59:59                                  8.130979   \n",
       "2016-09-01 02:59:59                                  8.096893   \n",
       "2016-09-01 03:59:59                                  8.074946   \n",
       "2016-09-01 04:59:59                                  8.054678   \n",
       "\n",
       "                     secondary_cleaner.state.floatbank4_b_level  \\\n",
       "date                                                              \n",
       "2016-09-01 00:59:59                                 -501.289139   \n",
       "2016-09-01 01:59:59                                 -499.634209   \n",
       "2016-09-01 02:59:59                                 -500.827423   \n",
       "2016-09-01 03:59:59                                 -499.474407   \n",
       "2016-09-01 04:59:59                                 -500.397500   \n",
       "\n",
       "                     secondary_cleaner.state.floatbank5_a_air  \\\n",
       "date                                                            \n",
       "2016-09-01 00:59:59                                  7.946562   \n",
       "2016-09-01 01:59:59                                  7.958270   \n",
       "2016-09-01 02:59:59                                  8.071056   \n",
       "2016-09-01 03:59:59                                  7.897085   \n",
       "2016-09-01 04:59:59                                  8.107890   \n",
       "\n",
       "                     secondary_cleaner.state.floatbank5_a_level  \\\n",
       "date                                                              \n",
       "2016-09-01 00:59:59                                 -432.317850   \n",
       "2016-09-01 01:59:59                                 -525.839648   \n",
       "2016-09-01 02:59:59                                 -500.801673   \n",
       "2016-09-01 03:59:59                                 -500.868509   \n",
       "2016-09-01 04:59:59                                 -509.526725   \n",
       "\n",
       "                     secondary_cleaner.state.floatbank5_b_air  \\\n",
       "date                                                            \n",
       "2016-09-01 00:59:59                                  4.872511   \n",
       "2016-09-01 01:59:59                                  4.878850   \n",
       "2016-09-01 02:59:59                                  4.905125   \n",
       "2016-09-01 03:59:59                                  4.931400   \n",
       "2016-09-01 04:59:59                                  4.957674   \n",
       "\n",
       "                     secondary_cleaner.state.floatbank5_b_level  \\\n",
       "date                                                              \n",
       "2016-09-01 00:59:59                                 -500.037437   \n",
       "2016-09-01 01:59:59                                 -500.162375   \n",
       "2016-09-01 02:59:59                                 -499.828510   \n",
       "2016-09-01 03:59:59                                 -499.963623   \n",
       "2016-09-01 04:59:59                                 -500.360026   \n",
       "\n",
       "                     secondary_cleaner.state.floatbank6_a_air  \\\n",
       "date                                                            \n",
       "2016-09-01 00:59:59                                 26.705889   \n",
       "2016-09-01 01:59:59                                 25.019940   \n",
       "2016-09-01 02:59:59                                 24.994862   \n",
       "2016-09-01 03:59:59                                 24.948919   \n",
       "2016-09-01 04:59:59                                 25.003331   \n",
       "\n",
       "                     secondary_cleaner.state.floatbank6_a_level  \n",
       "date                                                             \n",
       "2016-09-01 00:59:59                                 -499.709414  \n",
       "2016-09-01 01:59:59                                 -499.819438  \n",
       "2016-09-01 02:59:59                                 -500.622559  \n",
       "2016-09-01 03:59:59                                 -498.709987  \n",
       "2016-09-01 04:59:59                                 -500.856333  \n",
       "\n",
       "[5 rows x 52 columns]"
      ]
     },
     "metadata": {},
     "output_type": "display_data"
    },
    {
     "data": {
      "text/html": [
       "<div>\n",
       "<style scoped>\n",
       "    .dataframe tbody tr th:only-of-type {\n",
       "        vertical-align: middle;\n",
       "    }\n",
       "\n",
       "    .dataframe tbody tr th {\n",
       "        vertical-align: top;\n",
       "    }\n",
       "\n",
       "    .dataframe thead th {\n",
       "        text-align: right;\n",
       "    }\n",
       "</style>\n",
       "<table border=\"1\" class=\"dataframe\">\n",
       "  <thead>\n",
       "    <tr style=\"text-align: right;\">\n",
       "      <th></th>\n",
       "      <th>primary_cleaner.input.sulfate</th>\n",
       "      <th>primary_cleaner.input.depressant</th>\n",
       "      <th>primary_cleaner.input.feed_size</th>\n",
       "      <th>primary_cleaner.input.xanthate</th>\n",
       "      <th>primary_cleaner.state.floatbank8_a_air</th>\n",
       "      <th>primary_cleaner.state.floatbank8_a_level</th>\n",
       "      <th>primary_cleaner.state.floatbank8_b_air</th>\n",
       "      <th>primary_cleaner.state.floatbank8_b_level</th>\n",
       "      <th>primary_cleaner.state.floatbank8_c_air</th>\n",
       "      <th>primary_cleaner.state.floatbank8_c_level</th>\n",
       "      <th>...</th>\n",
       "      <th>secondary_cleaner.state.floatbank4_a_air</th>\n",
       "      <th>secondary_cleaner.state.floatbank4_a_level</th>\n",
       "      <th>secondary_cleaner.state.floatbank4_b_air</th>\n",
       "      <th>secondary_cleaner.state.floatbank4_b_level</th>\n",
       "      <th>secondary_cleaner.state.floatbank5_a_air</th>\n",
       "      <th>secondary_cleaner.state.floatbank5_a_level</th>\n",
       "      <th>secondary_cleaner.state.floatbank5_b_air</th>\n",
       "      <th>secondary_cleaner.state.floatbank5_b_level</th>\n",
       "      <th>secondary_cleaner.state.floatbank6_a_air</th>\n",
       "      <th>secondary_cleaner.state.floatbank6_a_level</th>\n",
       "    </tr>\n",
       "  </thead>\n",
       "  <tbody>\n",
       "    <tr>\n",
       "      <th>count</th>\n",
       "      <td>5286.000000</td>\n",
       "      <td>5285.000000</td>\n",
       "      <td>5290.000000</td>\n",
       "      <td>5286.000000</td>\n",
       "      <td>5.290000e+03</td>\n",
       "      <td>5290.000000</td>\n",
       "      <td>5.290000e+03</td>\n",
       "      <td>5290.000000</td>\n",
       "      <td>5.290000e+03</td>\n",
       "      <td>5290.000000</td>\n",
       "      <td>...</td>\n",
       "      <td>5.290000e+03</td>\n",
       "      <td>5290.000000</td>\n",
       "      <td>5.290000e+03</td>\n",
       "      <td>5290.000000</td>\n",
       "      <td>5290.000000</td>\n",
       "      <td>5290.000000</td>\n",
       "      <td>5290.000000</td>\n",
       "      <td>5290.000000</td>\n",
       "      <td>5290.000000</td>\n",
       "      <td>5290.000000</td>\n",
       "    </tr>\n",
       "    <tr>\n",
       "      <th>mean</th>\n",
       "      <td>174.839652</td>\n",
       "      <td>8.683596</td>\n",
       "      <td>7.266339</td>\n",
       "      <td>1.383803</td>\n",
       "      <td>1.539494e+03</td>\n",
       "      <td>-497.665883</td>\n",
       "      <td>1.545174e+03</td>\n",
       "      <td>-500.273098</td>\n",
       "      <td>1.527272e+03</td>\n",
       "      <td>-498.330680</td>\n",
       "      <td>...</td>\n",
       "      <td>1.632007e+01</td>\n",
       "      <td>-505.144570</td>\n",
       "      <td>1.373544e+01</td>\n",
       "      <td>-463.349858</td>\n",
       "      <td>12.804186</td>\n",
       "      <td>-501.329122</td>\n",
       "      <td>9.881145</td>\n",
       "      <td>-495.663398</td>\n",
       "      <td>17.304935</td>\n",
       "      <td>-501.793193</td>\n",
       "    </tr>\n",
       "    <tr>\n",
       "      <th>std</th>\n",
       "      <td>43.027080</td>\n",
       "      <td>3.072050</td>\n",
       "      <td>0.610219</td>\n",
       "      <td>0.643474</td>\n",
       "      <td>1.167979e+02</td>\n",
       "      <td>19.952431</td>\n",
       "      <td>1.222246e+02</td>\n",
       "      <td>32.968307</td>\n",
       "      <td>1.225380e+02</td>\n",
       "      <td>21.964876</td>\n",
       "      <td>...</td>\n",
       "      <td>3.493583e+00</td>\n",
       "      <td>31.427337</td>\n",
       "      <td>3.430484e+00</td>\n",
       "      <td>86.189107</td>\n",
       "      <td>3.026591</td>\n",
       "      <td>17.951495</td>\n",
       "      <td>2.868205</td>\n",
       "      <td>34.535007</td>\n",
       "      <td>4.536544</td>\n",
       "      <td>39.044215</td>\n",
       "    </tr>\n",
       "    <tr>\n",
       "      <th>min</th>\n",
       "      <td>2.566156</td>\n",
       "      <td>0.003839</td>\n",
       "      <td>5.650000</td>\n",
       "      <td>0.004984</td>\n",
       "      <td>5.445860e-32</td>\n",
       "      <td>-795.316337</td>\n",
       "      <td>6.647490e-32</td>\n",
       "      <td>-799.997015</td>\n",
       "      <td>4.033736e-32</td>\n",
       "      <td>-799.960571</td>\n",
       "      <td>...</td>\n",
       "      <td>1.079872e-16</td>\n",
       "      <td>-799.798523</td>\n",
       "      <td>2.489718e-17</td>\n",
       "      <td>-800.836914</td>\n",
       "      <td>0.069227</td>\n",
       "      <td>-797.323986</td>\n",
       "      <td>0.528083</td>\n",
       "      <td>-800.220337</td>\n",
       "      <td>-0.079426</td>\n",
       "      <td>-809.741464</td>\n",
       "    </tr>\n",
       "    <tr>\n",
       "      <th>25%</th>\n",
       "      <td>147.121401</td>\n",
       "      <td>6.489555</td>\n",
       "      <td>6.890000</td>\n",
       "      <td>0.907623</td>\n",
       "      <td>1.498936e+03</td>\n",
       "      <td>-500.357298</td>\n",
       "      <td>1.498971e+03</td>\n",
       "      <td>-500.703002</td>\n",
       "      <td>1.473230e+03</td>\n",
       "      <td>-501.018117</td>\n",
       "      <td>...</td>\n",
       "      <td>1.403618e+01</td>\n",
       "      <td>-500.868258</td>\n",
       "      <td>1.202862e+01</td>\n",
       "      <td>-500.323028</td>\n",
       "      <td>10.914838</td>\n",
       "      <td>-500.726841</td>\n",
       "      <td>8.036719</td>\n",
       "      <td>-500.194668</td>\n",
       "      <td>13.997317</td>\n",
       "      <td>-500.690984</td>\n",
       "    </tr>\n",
       "    <tr>\n",
       "      <th>50%</th>\n",
       "      <td>177.828489</td>\n",
       "      <td>8.052207</td>\n",
       "      <td>7.250000</td>\n",
       "      <td>1.197610</td>\n",
       "      <td>1.585129e+03</td>\n",
       "      <td>-499.969164</td>\n",
       "      <td>1.595622e+03</td>\n",
       "      <td>-500.028514</td>\n",
       "      <td>1.549595e+03</td>\n",
       "      <td>-500.017711</td>\n",
       "      <td>...</td>\n",
       "      <td>1.700847e+01</td>\n",
       "      <td>-500.115727</td>\n",
       "      <td>1.496486e+01</td>\n",
       "      <td>-499.576513</td>\n",
       "      <td>12.954182</td>\n",
       "      <td>-499.990332</td>\n",
       "      <td>10.004301</td>\n",
       "      <td>-499.990535</td>\n",
       "      <td>16.014935</td>\n",
       "      <td>-500.007126</td>\n",
       "    </tr>\n",
       "    <tr>\n",
       "      <th>75%</th>\n",
       "      <td>208.125438</td>\n",
       "      <td>10.027764</td>\n",
       "      <td>7.600000</td>\n",
       "      <td>1.797819</td>\n",
       "      <td>1.602077e+03</td>\n",
       "      <td>-499.568951</td>\n",
       "      <td>1.602324e+03</td>\n",
       "      <td>-499.293257</td>\n",
       "      <td>1.601144e+03</td>\n",
       "      <td>-498.994130</td>\n",
       "      <td>...</td>\n",
       "      <td>1.803862e+01</td>\n",
       "      <td>-499.404224</td>\n",
       "      <td>1.596213e+01</td>\n",
       "      <td>-400.933805</td>\n",
       "      <td>15.097528</td>\n",
       "      <td>-499.283191</td>\n",
       "      <td>11.997467</td>\n",
       "      <td>-499.719913</td>\n",
       "      <td>21.020013</td>\n",
       "      <td>-499.373018</td>\n",
       "    </tr>\n",
       "    <tr>\n",
       "      <th>max</th>\n",
       "      <td>265.983123</td>\n",
       "      <td>40.000000</td>\n",
       "      <td>15.500000</td>\n",
       "      <td>4.102454</td>\n",
       "      <td>2.103104e+03</td>\n",
       "      <td>-57.195404</td>\n",
       "      <td>1.813084e+03</td>\n",
       "      <td>-142.527229</td>\n",
       "      <td>1.715054e+03</td>\n",
       "      <td>-150.937035</td>\n",
       "      <td>...</td>\n",
       "      <td>3.005180e+01</td>\n",
       "      <td>-401.565212</td>\n",
       "      <td>3.126971e+01</td>\n",
       "      <td>-6.506986</td>\n",
       "      <td>25.258848</td>\n",
       "      <td>-244.483566</td>\n",
       "      <td>14.086866</td>\n",
       "      <td>-137.740004</td>\n",
       "      <td>26.705889</td>\n",
       "      <td>-123.307487</td>\n",
       "    </tr>\n",
       "  </tbody>\n",
       "</table>\n",
       "<p>8 rows × 52 columns</p>\n",
       "</div>"
      ],
      "text/plain": [
       "       primary_cleaner.input.sulfate  primary_cleaner.input.depressant  \\\n",
       "count                    5286.000000                       5285.000000   \n",
       "mean                      174.839652                          8.683596   \n",
       "std                        43.027080                          3.072050   \n",
       "min                         2.566156                          0.003839   \n",
       "25%                       147.121401                          6.489555   \n",
       "50%                       177.828489                          8.052207   \n",
       "75%                       208.125438                         10.027764   \n",
       "max                       265.983123                         40.000000   \n",
       "\n",
       "       primary_cleaner.input.feed_size  primary_cleaner.input.xanthate  \\\n",
       "count                      5290.000000                     5286.000000   \n",
       "mean                          7.266339                        1.383803   \n",
       "std                           0.610219                        0.643474   \n",
       "min                           5.650000                        0.004984   \n",
       "25%                           6.890000                        0.907623   \n",
       "50%                           7.250000                        1.197610   \n",
       "75%                           7.600000                        1.797819   \n",
       "max                          15.500000                        4.102454   \n",
       "\n",
       "       primary_cleaner.state.floatbank8_a_air  \\\n",
       "count                            5.290000e+03   \n",
       "mean                             1.539494e+03   \n",
       "std                              1.167979e+02   \n",
       "min                              5.445860e-32   \n",
       "25%                              1.498936e+03   \n",
       "50%                              1.585129e+03   \n",
       "75%                              1.602077e+03   \n",
       "max                              2.103104e+03   \n",
       "\n",
       "       primary_cleaner.state.floatbank8_a_level  \\\n",
       "count                               5290.000000   \n",
       "mean                                -497.665883   \n",
       "std                                   19.952431   \n",
       "min                                 -795.316337   \n",
       "25%                                 -500.357298   \n",
       "50%                                 -499.969164   \n",
       "75%                                 -499.568951   \n",
       "max                                  -57.195404   \n",
       "\n",
       "       primary_cleaner.state.floatbank8_b_air  \\\n",
       "count                            5.290000e+03   \n",
       "mean                             1.545174e+03   \n",
       "std                              1.222246e+02   \n",
       "min                              6.647490e-32   \n",
       "25%                              1.498971e+03   \n",
       "50%                              1.595622e+03   \n",
       "75%                              1.602324e+03   \n",
       "max                              1.813084e+03   \n",
       "\n",
       "       primary_cleaner.state.floatbank8_b_level  \\\n",
       "count                               5290.000000   \n",
       "mean                                -500.273098   \n",
       "std                                   32.968307   \n",
       "min                                 -799.997015   \n",
       "25%                                 -500.703002   \n",
       "50%                                 -500.028514   \n",
       "75%                                 -499.293257   \n",
       "max                                 -142.527229   \n",
       "\n",
       "       primary_cleaner.state.floatbank8_c_air  \\\n",
       "count                            5.290000e+03   \n",
       "mean                             1.527272e+03   \n",
       "std                              1.225380e+02   \n",
       "min                              4.033736e-32   \n",
       "25%                              1.473230e+03   \n",
       "50%                              1.549595e+03   \n",
       "75%                              1.601144e+03   \n",
       "max                              1.715054e+03   \n",
       "\n",
       "       primary_cleaner.state.floatbank8_c_level  ...  \\\n",
       "count                               5290.000000  ...   \n",
       "mean                                -498.330680  ...   \n",
       "std                                   21.964876  ...   \n",
       "min                                 -799.960571  ...   \n",
       "25%                                 -501.018117  ...   \n",
       "50%                                 -500.017711  ...   \n",
       "75%                                 -498.994130  ...   \n",
       "max                                 -150.937035  ...   \n",
       "\n",
       "       secondary_cleaner.state.floatbank4_a_air  \\\n",
       "count                              5.290000e+03   \n",
       "mean                               1.632007e+01   \n",
       "std                                3.493583e+00   \n",
       "min                                1.079872e-16   \n",
       "25%                                1.403618e+01   \n",
       "50%                                1.700847e+01   \n",
       "75%                                1.803862e+01   \n",
       "max                                3.005180e+01   \n",
       "\n",
       "       secondary_cleaner.state.floatbank4_a_level  \\\n",
       "count                                 5290.000000   \n",
       "mean                                  -505.144570   \n",
       "std                                     31.427337   \n",
       "min                                   -799.798523   \n",
       "25%                                   -500.868258   \n",
       "50%                                   -500.115727   \n",
       "75%                                   -499.404224   \n",
       "max                                   -401.565212   \n",
       "\n",
       "       secondary_cleaner.state.floatbank4_b_air  \\\n",
       "count                              5.290000e+03   \n",
       "mean                               1.373544e+01   \n",
       "std                                3.430484e+00   \n",
       "min                                2.489718e-17   \n",
       "25%                                1.202862e+01   \n",
       "50%                                1.496486e+01   \n",
       "75%                                1.596213e+01   \n",
       "max                                3.126971e+01   \n",
       "\n",
       "       secondary_cleaner.state.floatbank4_b_level  \\\n",
       "count                                 5290.000000   \n",
       "mean                                  -463.349858   \n",
       "std                                     86.189107   \n",
       "min                                   -800.836914   \n",
       "25%                                   -500.323028   \n",
       "50%                                   -499.576513   \n",
       "75%                                   -400.933805   \n",
       "max                                     -6.506986   \n",
       "\n",
       "       secondary_cleaner.state.floatbank5_a_air  \\\n",
       "count                               5290.000000   \n",
       "mean                                  12.804186   \n",
       "std                                    3.026591   \n",
       "min                                    0.069227   \n",
       "25%                                   10.914838   \n",
       "50%                                   12.954182   \n",
       "75%                                   15.097528   \n",
       "max                                   25.258848   \n",
       "\n",
       "       secondary_cleaner.state.floatbank5_a_level  \\\n",
       "count                                 5290.000000   \n",
       "mean                                  -501.329122   \n",
       "std                                     17.951495   \n",
       "min                                   -797.323986   \n",
       "25%                                   -500.726841   \n",
       "50%                                   -499.990332   \n",
       "75%                                   -499.283191   \n",
       "max                                   -244.483566   \n",
       "\n",
       "       secondary_cleaner.state.floatbank5_b_air  \\\n",
       "count                               5290.000000   \n",
       "mean                                   9.881145   \n",
       "std                                    2.868205   \n",
       "min                                    0.528083   \n",
       "25%                                    8.036719   \n",
       "50%                                   10.004301   \n",
       "75%                                   11.997467   \n",
       "max                                   14.086866   \n",
       "\n",
       "       secondary_cleaner.state.floatbank5_b_level  \\\n",
       "count                                 5290.000000   \n",
       "mean                                  -495.663398   \n",
       "std                                     34.535007   \n",
       "min                                   -800.220337   \n",
       "25%                                   -500.194668   \n",
       "50%                                   -499.990535   \n",
       "75%                                   -499.719913   \n",
       "max                                   -137.740004   \n",
       "\n",
       "       secondary_cleaner.state.floatbank6_a_air  \\\n",
       "count                               5290.000000   \n",
       "mean                                  17.304935   \n",
       "std                                    4.536544   \n",
       "min                                   -0.079426   \n",
       "25%                                   13.997317   \n",
       "50%                                   16.014935   \n",
       "75%                                   21.020013   \n",
       "max                                   26.705889   \n",
       "\n",
       "       secondary_cleaner.state.floatbank6_a_level  \n",
       "count                                 5290.000000  \n",
       "mean                                  -501.793193  \n",
       "std                                     39.044215  \n",
       "min                                   -809.741464  \n",
       "25%                                   -500.690984  \n",
       "50%                                   -500.007126  \n",
       "75%                                   -499.373018  \n",
       "max                                   -123.307487  \n",
       "\n",
       "[8 rows x 52 columns]"
      ]
     },
     "metadata": {},
     "output_type": "display_data"
    },
    {
     "name": "stdout",
     "output_type": "stream",
     "text": [
      "Пропусков в данных: \n",
      "90\n",
      "\n",
      "Дубликатов в данных:  0\n",
      "\n",
      "<class 'pandas.core.frame.DataFrame'>\n",
      "Index: 5290 entries, 2016-09-01 00:59:59 to 2017-12-31 23:59:59\n",
      "Data columns (total 52 columns):\n",
      " #   Column                                      Non-Null Count  Dtype  \n",
      "---  ------                                      --------------  -----  \n",
      " 0   primary_cleaner.input.sulfate               5286 non-null   float64\n",
      " 1   primary_cleaner.input.depressant            5285 non-null   float64\n",
      " 2   primary_cleaner.input.feed_size             5290 non-null   float64\n",
      " 3   primary_cleaner.input.xanthate              5286 non-null   float64\n",
      " 4   primary_cleaner.state.floatbank8_a_air      5290 non-null   float64\n",
      " 5   primary_cleaner.state.floatbank8_a_level    5290 non-null   float64\n",
      " 6   primary_cleaner.state.floatbank8_b_air      5290 non-null   float64\n",
      " 7   primary_cleaner.state.floatbank8_b_level    5290 non-null   float64\n",
      " 8   primary_cleaner.state.floatbank8_c_air      5290 non-null   float64\n",
      " 9   primary_cleaner.state.floatbank8_c_level    5290 non-null   float64\n",
      " 10  primary_cleaner.state.floatbank8_d_air      5290 non-null   float64\n",
      " 11  primary_cleaner.state.floatbank8_d_level    5290 non-null   float64\n",
      " 12  rougher.input.feed_ag                       5290 non-null   float64\n",
      " 13  rougher.input.feed_pb                       5290 non-null   float64\n",
      " 14  rougher.input.feed_rate                     5287 non-null   float64\n",
      " 15  rougher.input.feed_size                     5289 non-null   float64\n",
      " 16  rougher.input.feed_sol                      5269 non-null   float64\n",
      " 17  rougher.input.feed_au                       5290 non-null   float64\n",
      " 18  rougher.input.floatbank10_sulfate           5285 non-null   float64\n",
      " 19  rougher.input.floatbank10_xanthate          5290 non-null   float64\n",
      " 20  rougher.input.floatbank11_sulfate           5282 non-null   float64\n",
      " 21  rougher.input.floatbank11_xanthate          5265 non-null   float64\n",
      " 22  rougher.state.floatbank10_a_air             5290 non-null   float64\n",
      " 23  rougher.state.floatbank10_a_level           5290 non-null   float64\n",
      " 24  rougher.state.floatbank10_b_air             5290 non-null   float64\n",
      " 25  rougher.state.floatbank10_b_level           5290 non-null   float64\n",
      " 26  rougher.state.floatbank10_c_air             5290 non-null   float64\n",
      " 27  rougher.state.floatbank10_c_level           5290 non-null   float64\n",
      " 28  rougher.state.floatbank10_d_air             5290 non-null   float64\n",
      " 29  rougher.state.floatbank10_d_level           5290 non-null   float64\n",
      " 30  rougher.state.floatbank10_e_air             5290 non-null   float64\n",
      " 31  rougher.state.floatbank10_e_level           5290 non-null   float64\n",
      " 32  rougher.state.floatbank10_f_air             5290 non-null   float64\n",
      " 33  rougher.state.floatbank10_f_level           5290 non-null   float64\n",
      " 34  secondary_cleaner.state.floatbank2_a_air    5287 non-null   float64\n",
      " 35  secondary_cleaner.state.floatbank2_a_level  5290 non-null   float64\n",
      " 36  secondary_cleaner.state.floatbank2_b_air    5288 non-null   float64\n",
      " 37  secondary_cleaner.state.floatbank2_b_level  5290 non-null   float64\n",
      " 38  secondary_cleaner.state.floatbank3_a_air    5281 non-null   float64\n",
      " 39  secondary_cleaner.state.floatbank3_a_level  5290 non-null   float64\n",
      " 40  secondary_cleaner.state.floatbank3_b_air    5290 non-null   float64\n",
      " 41  secondary_cleaner.state.floatbank3_b_level  5290 non-null   float64\n",
      " 42  secondary_cleaner.state.floatbank4_a_air    5290 non-null   float64\n",
      " 43  secondary_cleaner.state.floatbank4_a_level  5290 non-null   float64\n",
      " 44  secondary_cleaner.state.floatbank4_b_air    5290 non-null   float64\n",
      " 45  secondary_cleaner.state.floatbank4_b_level  5290 non-null   float64\n",
      " 46  secondary_cleaner.state.floatbank5_a_air    5290 non-null   float64\n",
      " 47  secondary_cleaner.state.floatbank5_a_level  5290 non-null   float64\n",
      " 48  secondary_cleaner.state.floatbank5_b_air    5290 non-null   float64\n",
      " 49  secondary_cleaner.state.floatbank5_b_level  5290 non-null   float64\n",
      " 50  secondary_cleaner.state.floatbank6_a_air    5290 non-null   float64\n",
      " 51  secondary_cleaner.state.floatbank6_a_level  5290 non-null   float64\n",
      "dtypes: float64(52)\n",
      "memory usage: 2.1+ MB\n"
     ]
    }
   ],
   "source": [
    "data_info(data_test)"
   ]
  },
  {
   "cell_type": "code",
   "execution_count": 6,
   "metadata": {},
   "outputs": [
    {
     "data": {
      "text/html": [
       "<div>\n",
       "<style scoped>\n",
       "    .dataframe tbody tr th:only-of-type {\n",
       "        vertical-align: middle;\n",
       "    }\n",
       "\n",
       "    .dataframe tbody tr th {\n",
       "        vertical-align: top;\n",
       "    }\n",
       "\n",
       "    .dataframe thead th {\n",
       "        text-align: right;\n",
       "    }\n",
       "</style>\n",
       "<table border=\"1\" class=\"dataframe\">\n",
       "  <thead>\n",
       "    <tr style=\"text-align: right;\">\n",
       "      <th></th>\n",
       "      <th>final.output.concentrate_ag</th>\n",
       "      <th>final.output.concentrate_pb</th>\n",
       "      <th>final.output.concentrate_sol</th>\n",
       "      <th>final.output.concentrate_au</th>\n",
       "      <th>final.output.recovery</th>\n",
       "      <th>final.output.tail_ag</th>\n",
       "      <th>final.output.tail_pb</th>\n",
       "      <th>final.output.tail_sol</th>\n",
       "      <th>final.output.tail_au</th>\n",
       "      <th>primary_cleaner.input.sulfate</th>\n",
       "      <th>...</th>\n",
       "      <th>secondary_cleaner.state.floatbank4_a_air</th>\n",
       "      <th>secondary_cleaner.state.floatbank4_a_level</th>\n",
       "      <th>secondary_cleaner.state.floatbank4_b_air</th>\n",
       "      <th>secondary_cleaner.state.floatbank4_b_level</th>\n",
       "      <th>secondary_cleaner.state.floatbank5_a_air</th>\n",
       "      <th>secondary_cleaner.state.floatbank5_a_level</th>\n",
       "      <th>secondary_cleaner.state.floatbank5_b_air</th>\n",
       "      <th>secondary_cleaner.state.floatbank5_b_level</th>\n",
       "      <th>secondary_cleaner.state.floatbank6_a_air</th>\n",
       "      <th>secondary_cleaner.state.floatbank6_a_level</th>\n",
       "    </tr>\n",
       "    <tr>\n",
       "      <th>date</th>\n",
       "      <th></th>\n",
       "      <th></th>\n",
       "      <th></th>\n",
       "      <th></th>\n",
       "      <th></th>\n",
       "      <th></th>\n",
       "      <th></th>\n",
       "      <th></th>\n",
       "      <th></th>\n",
       "      <th></th>\n",
       "      <th></th>\n",
       "      <th></th>\n",
       "      <th></th>\n",
       "      <th></th>\n",
       "      <th></th>\n",
       "      <th></th>\n",
       "      <th></th>\n",
       "      <th></th>\n",
       "      <th></th>\n",
       "      <th></th>\n",
       "      <th></th>\n",
       "    </tr>\n",
       "  </thead>\n",
       "  <tbody>\n",
       "    <tr>\n",
       "      <th>2016-01-15 00:00:00</th>\n",
       "      <td>6.055403</td>\n",
       "      <td>9.889648</td>\n",
       "      <td>5.507324</td>\n",
       "      <td>42.192020</td>\n",
       "      <td>70.541216</td>\n",
       "      <td>10.411962</td>\n",
       "      <td>0.895447</td>\n",
       "      <td>16.904297</td>\n",
       "      <td>2.143149</td>\n",
       "      <td>127.092003</td>\n",
       "      <td>...</td>\n",
       "      <td>14.016835</td>\n",
       "      <td>-502.488007</td>\n",
       "      <td>12.099931</td>\n",
       "      <td>-504.715942</td>\n",
       "      <td>9.925633</td>\n",
       "      <td>-498.310211</td>\n",
       "      <td>8.079666</td>\n",
       "      <td>-500.470978</td>\n",
       "      <td>14.151341</td>\n",
       "      <td>-605.841980</td>\n",
       "    </tr>\n",
       "    <tr>\n",
       "      <th>2016-01-15 01:00:00</th>\n",
       "      <td>6.029369</td>\n",
       "      <td>9.968944</td>\n",
       "      <td>5.257781</td>\n",
       "      <td>42.701629</td>\n",
       "      <td>69.266198</td>\n",
       "      <td>10.462676</td>\n",
       "      <td>0.927452</td>\n",
       "      <td>16.634514</td>\n",
       "      <td>2.224930</td>\n",
       "      <td>125.629232</td>\n",
       "      <td>...</td>\n",
       "      <td>13.992281</td>\n",
       "      <td>-505.503262</td>\n",
       "      <td>11.950531</td>\n",
       "      <td>-501.331529</td>\n",
       "      <td>10.039245</td>\n",
       "      <td>-500.169983</td>\n",
       "      <td>7.984757</td>\n",
       "      <td>-500.582168</td>\n",
       "      <td>13.998353</td>\n",
       "      <td>-599.787184</td>\n",
       "    </tr>\n",
       "    <tr>\n",
       "      <th>2016-01-15 02:00:00</th>\n",
       "      <td>6.055926</td>\n",
       "      <td>10.213995</td>\n",
       "      <td>5.383759</td>\n",
       "      <td>42.657501</td>\n",
       "      <td>68.116445</td>\n",
       "      <td>10.507046</td>\n",
       "      <td>0.953716</td>\n",
       "      <td>16.208849</td>\n",
       "      <td>2.257889</td>\n",
       "      <td>123.819808</td>\n",
       "      <td>...</td>\n",
       "      <td>14.015015</td>\n",
       "      <td>-502.520901</td>\n",
       "      <td>11.912783</td>\n",
       "      <td>-501.133383</td>\n",
       "      <td>10.070913</td>\n",
       "      <td>-500.129135</td>\n",
       "      <td>8.013877</td>\n",
       "      <td>-500.517572</td>\n",
       "      <td>14.028663</td>\n",
       "      <td>-601.427363</td>\n",
       "    </tr>\n",
       "    <tr>\n",
       "      <th>2016-01-15 03:00:00</th>\n",
       "      <td>6.047977</td>\n",
       "      <td>9.977019</td>\n",
       "      <td>4.858634</td>\n",
       "      <td>42.689819</td>\n",
       "      <td>68.347543</td>\n",
       "      <td>10.422762</td>\n",
       "      <td>0.883763</td>\n",
       "      <td>16.532835</td>\n",
       "      <td>2.146849</td>\n",
       "      <td>122.270188</td>\n",
       "      <td>...</td>\n",
       "      <td>14.036510</td>\n",
       "      <td>-500.857308</td>\n",
       "      <td>11.999550</td>\n",
       "      <td>-501.193686</td>\n",
       "      <td>9.970366</td>\n",
       "      <td>-499.201640</td>\n",
       "      <td>7.977324</td>\n",
       "      <td>-500.255908</td>\n",
       "      <td>14.005551</td>\n",
       "      <td>-599.996129</td>\n",
       "    </tr>\n",
       "    <tr>\n",
       "      <th>2016-01-15 04:00:00</th>\n",
       "      <td>6.148599</td>\n",
       "      <td>10.142511</td>\n",
       "      <td>4.939416</td>\n",
       "      <td>42.774141</td>\n",
       "      <td>66.927016</td>\n",
       "      <td>10.360302</td>\n",
       "      <td>0.792826</td>\n",
       "      <td>16.525686</td>\n",
       "      <td>2.055292</td>\n",
       "      <td>117.988169</td>\n",
       "      <td>...</td>\n",
       "      <td>14.027298</td>\n",
       "      <td>-499.838632</td>\n",
       "      <td>11.953070</td>\n",
       "      <td>-501.053894</td>\n",
       "      <td>9.925709</td>\n",
       "      <td>-501.686727</td>\n",
       "      <td>7.894242</td>\n",
       "      <td>-500.356035</td>\n",
       "      <td>13.996647</td>\n",
       "      <td>-601.496691</td>\n",
       "    </tr>\n",
       "  </tbody>\n",
       "</table>\n",
       "<p>5 rows × 86 columns</p>\n",
       "</div>"
      ],
      "text/plain": [
       "                     final.output.concentrate_ag  final.output.concentrate_pb  \\\n",
       "date                                                                            \n",
       "2016-01-15 00:00:00                     6.055403                     9.889648   \n",
       "2016-01-15 01:00:00                     6.029369                     9.968944   \n",
       "2016-01-15 02:00:00                     6.055926                    10.213995   \n",
       "2016-01-15 03:00:00                     6.047977                     9.977019   \n",
       "2016-01-15 04:00:00                     6.148599                    10.142511   \n",
       "\n",
       "                     final.output.concentrate_sol  \\\n",
       "date                                                \n",
       "2016-01-15 00:00:00                      5.507324   \n",
       "2016-01-15 01:00:00                      5.257781   \n",
       "2016-01-15 02:00:00                      5.383759   \n",
       "2016-01-15 03:00:00                      4.858634   \n",
       "2016-01-15 04:00:00                      4.939416   \n",
       "\n",
       "                     final.output.concentrate_au  final.output.recovery  \\\n",
       "date                                                                      \n",
       "2016-01-15 00:00:00                    42.192020              70.541216   \n",
       "2016-01-15 01:00:00                    42.701629              69.266198   \n",
       "2016-01-15 02:00:00                    42.657501              68.116445   \n",
       "2016-01-15 03:00:00                    42.689819              68.347543   \n",
       "2016-01-15 04:00:00                    42.774141              66.927016   \n",
       "\n",
       "                     final.output.tail_ag  final.output.tail_pb  \\\n",
       "date                                                              \n",
       "2016-01-15 00:00:00             10.411962              0.895447   \n",
       "2016-01-15 01:00:00             10.462676              0.927452   \n",
       "2016-01-15 02:00:00             10.507046              0.953716   \n",
       "2016-01-15 03:00:00             10.422762              0.883763   \n",
       "2016-01-15 04:00:00             10.360302              0.792826   \n",
       "\n",
       "                     final.output.tail_sol  final.output.tail_au  \\\n",
       "date                                                               \n",
       "2016-01-15 00:00:00              16.904297              2.143149   \n",
       "2016-01-15 01:00:00              16.634514              2.224930   \n",
       "2016-01-15 02:00:00              16.208849              2.257889   \n",
       "2016-01-15 03:00:00              16.532835              2.146849   \n",
       "2016-01-15 04:00:00              16.525686              2.055292   \n",
       "\n",
       "                     primary_cleaner.input.sulfate  ...  \\\n",
       "date                                                ...   \n",
       "2016-01-15 00:00:00                     127.092003  ...   \n",
       "2016-01-15 01:00:00                     125.629232  ...   \n",
       "2016-01-15 02:00:00                     123.819808  ...   \n",
       "2016-01-15 03:00:00                     122.270188  ...   \n",
       "2016-01-15 04:00:00                     117.988169  ...   \n",
       "\n",
       "                     secondary_cleaner.state.floatbank4_a_air  \\\n",
       "date                                                            \n",
       "2016-01-15 00:00:00                                 14.016835   \n",
       "2016-01-15 01:00:00                                 13.992281   \n",
       "2016-01-15 02:00:00                                 14.015015   \n",
       "2016-01-15 03:00:00                                 14.036510   \n",
       "2016-01-15 04:00:00                                 14.027298   \n",
       "\n",
       "                     secondary_cleaner.state.floatbank4_a_level  \\\n",
       "date                                                              \n",
       "2016-01-15 00:00:00                                 -502.488007   \n",
       "2016-01-15 01:00:00                                 -505.503262   \n",
       "2016-01-15 02:00:00                                 -502.520901   \n",
       "2016-01-15 03:00:00                                 -500.857308   \n",
       "2016-01-15 04:00:00                                 -499.838632   \n",
       "\n",
       "                     secondary_cleaner.state.floatbank4_b_air  \\\n",
       "date                                                            \n",
       "2016-01-15 00:00:00                                 12.099931   \n",
       "2016-01-15 01:00:00                                 11.950531   \n",
       "2016-01-15 02:00:00                                 11.912783   \n",
       "2016-01-15 03:00:00                                 11.999550   \n",
       "2016-01-15 04:00:00                                 11.953070   \n",
       "\n",
       "                     secondary_cleaner.state.floatbank4_b_level  \\\n",
       "date                                                              \n",
       "2016-01-15 00:00:00                                 -504.715942   \n",
       "2016-01-15 01:00:00                                 -501.331529   \n",
       "2016-01-15 02:00:00                                 -501.133383   \n",
       "2016-01-15 03:00:00                                 -501.193686   \n",
       "2016-01-15 04:00:00                                 -501.053894   \n",
       "\n",
       "                     secondary_cleaner.state.floatbank5_a_air  \\\n",
       "date                                                            \n",
       "2016-01-15 00:00:00                                  9.925633   \n",
       "2016-01-15 01:00:00                                 10.039245   \n",
       "2016-01-15 02:00:00                                 10.070913   \n",
       "2016-01-15 03:00:00                                  9.970366   \n",
       "2016-01-15 04:00:00                                  9.925709   \n",
       "\n",
       "                     secondary_cleaner.state.floatbank5_a_level  \\\n",
       "date                                                              \n",
       "2016-01-15 00:00:00                                 -498.310211   \n",
       "2016-01-15 01:00:00                                 -500.169983   \n",
       "2016-01-15 02:00:00                                 -500.129135   \n",
       "2016-01-15 03:00:00                                 -499.201640   \n",
       "2016-01-15 04:00:00                                 -501.686727   \n",
       "\n",
       "                     secondary_cleaner.state.floatbank5_b_air  \\\n",
       "date                                                            \n",
       "2016-01-15 00:00:00                                  8.079666   \n",
       "2016-01-15 01:00:00                                  7.984757   \n",
       "2016-01-15 02:00:00                                  8.013877   \n",
       "2016-01-15 03:00:00                                  7.977324   \n",
       "2016-01-15 04:00:00                                  7.894242   \n",
       "\n",
       "                     secondary_cleaner.state.floatbank5_b_level  \\\n",
       "date                                                              \n",
       "2016-01-15 00:00:00                                 -500.470978   \n",
       "2016-01-15 01:00:00                                 -500.582168   \n",
       "2016-01-15 02:00:00                                 -500.517572   \n",
       "2016-01-15 03:00:00                                 -500.255908   \n",
       "2016-01-15 04:00:00                                 -500.356035   \n",
       "\n",
       "                     secondary_cleaner.state.floatbank6_a_air  \\\n",
       "date                                                            \n",
       "2016-01-15 00:00:00                                 14.151341   \n",
       "2016-01-15 01:00:00                                 13.998353   \n",
       "2016-01-15 02:00:00                                 14.028663   \n",
       "2016-01-15 03:00:00                                 14.005551   \n",
       "2016-01-15 04:00:00                                 13.996647   \n",
       "\n",
       "                     secondary_cleaner.state.floatbank6_a_level  \n",
       "date                                                             \n",
       "2016-01-15 00:00:00                                 -605.841980  \n",
       "2016-01-15 01:00:00                                 -599.787184  \n",
       "2016-01-15 02:00:00                                 -601.427363  \n",
       "2016-01-15 03:00:00                                 -599.996129  \n",
       "2016-01-15 04:00:00                                 -601.496691  \n",
       "\n",
       "[5 rows x 86 columns]"
      ]
     },
     "metadata": {},
     "output_type": "display_data"
    },
    {
     "data": {
      "text/html": [
       "<div>\n",
       "<style scoped>\n",
       "    .dataframe tbody tr th:only-of-type {\n",
       "        vertical-align: middle;\n",
       "    }\n",
       "\n",
       "    .dataframe tbody tr th {\n",
       "        vertical-align: top;\n",
       "    }\n",
       "\n",
       "    .dataframe thead th {\n",
       "        text-align: right;\n",
       "    }\n",
       "</style>\n",
       "<table border=\"1\" class=\"dataframe\">\n",
       "  <thead>\n",
       "    <tr style=\"text-align: right;\">\n",
       "      <th></th>\n",
       "      <th>final.output.concentrate_ag</th>\n",
       "      <th>final.output.concentrate_pb</th>\n",
       "      <th>final.output.concentrate_sol</th>\n",
       "      <th>final.output.concentrate_au</th>\n",
       "      <th>final.output.recovery</th>\n",
       "      <th>final.output.tail_ag</th>\n",
       "      <th>final.output.tail_pb</th>\n",
       "      <th>final.output.tail_sol</th>\n",
       "      <th>final.output.tail_au</th>\n",
       "      <th>primary_cleaner.input.sulfate</th>\n",
       "      <th>...</th>\n",
       "      <th>secondary_cleaner.state.floatbank4_a_air</th>\n",
       "      <th>secondary_cleaner.state.floatbank4_a_level</th>\n",
       "      <th>secondary_cleaner.state.floatbank4_b_air</th>\n",
       "      <th>secondary_cleaner.state.floatbank4_b_level</th>\n",
       "      <th>secondary_cleaner.state.floatbank5_a_air</th>\n",
       "      <th>secondary_cleaner.state.floatbank5_a_level</th>\n",
       "      <th>secondary_cleaner.state.floatbank5_b_air</th>\n",
       "      <th>secondary_cleaner.state.floatbank5_b_level</th>\n",
       "      <th>secondary_cleaner.state.floatbank6_a_air</th>\n",
       "      <th>secondary_cleaner.state.floatbank6_a_level</th>\n",
       "    </tr>\n",
       "  </thead>\n",
       "  <tbody>\n",
       "    <tr>\n",
       "      <th>count</th>\n",
       "      <td>19438.000000</td>\n",
       "      <td>19438.000000</td>\n",
       "      <td>19228.000000</td>\n",
       "      <td>19439.000000</td>\n",
       "      <td>19439.000000</td>\n",
       "      <td>19438.000000</td>\n",
       "      <td>19338.000000</td>\n",
       "      <td>19433.000000</td>\n",
       "      <td>19439.000000</td>\n",
       "      <td>19415.000000</td>\n",
       "      <td>...</td>\n",
       "      <td>19433.000000</td>\n",
       "      <td>19438.000000</td>\n",
       "      <td>19438.000000</td>\n",
       "      <td>19438.000000</td>\n",
       "      <td>19438.000000</td>\n",
       "      <td>19438.000000</td>\n",
       "      <td>19438.000000</td>\n",
       "      <td>19438.000000</td>\n",
       "      <td>19437.000000</td>\n",
       "      <td>19438.000000</td>\n",
       "    </tr>\n",
       "    <tr>\n",
       "      <th>mean</th>\n",
       "      <td>5.168470</td>\n",
       "      <td>9.978895</td>\n",
       "      <td>9.501224</td>\n",
       "      <td>44.076513</td>\n",
       "      <td>67.050208</td>\n",
       "      <td>9.688589</td>\n",
       "      <td>2.705795</td>\n",
       "      <td>10.583728</td>\n",
       "      <td>3.042467</td>\n",
       "      <td>144.624774</td>\n",
       "      <td>...</td>\n",
       "      <td>18.987674</td>\n",
       "      <td>-485.894516</td>\n",
       "      <td>15.010366</td>\n",
       "      <td>-461.078636</td>\n",
       "      <td>15.694452</td>\n",
       "      <td>-488.684065</td>\n",
       "      <td>12.198224</td>\n",
       "      <td>-487.149827</td>\n",
       "      <td>18.959024</td>\n",
       "      <td>-505.436305</td>\n",
       "    </tr>\n",
       "    <tr>\n",
       "      <th>std</th>\n",
       "      <td>1.372348</td>\n",
       "      <td>1.669240</td>\n",
       "      <td>2.787537</td>\n",
       "      <td>5.129784</td>\n",
       "      <td>10.125840</td>\n",
       "      <td>2.328642</td>\n",
       "      <td>0.949077</td>\n",
       "      <td>2.868782</td>\n",
       "      <td>0.922808</td>\n",
       "      <td>44.464071</td>\n",
       "      <td>...</td>\n",
       "      <td>5.411058</td>\n",
       "      <td>47.758570</td>\n",
       "      <td>4.890228</td>\n",
       "      <td>67.405524</td>\n",
       "      <td>5.510974</td>\n",
       "      <td>34.533396</td>\n",
       "      <td>5.333024</td>\n",
       "      <td>38.347312</td>\n",
       "      <td>5.550498</td>\n",
       "      <td>37.689057</td>\n",
       "    </tr>\n",
       "    <tr>\n",
       "      <th>min</th>\n",
       "      <td>0.000000</td>\n",
       "      <td>0.000000</td>\n",
       "      <td>0.000000</td>\n",
       "      <td>0.000000</td>\n",
       "      <td>0.000000</td>\n",
       "      <td>0.000000</td>\n",
       "      <td>0.000000</td>\n",
       "      <td>0.000000</td>\n",
       "      <td>0.000000</td>\n",
       "      <td>0.003112</td>\n",
       "      <td>...</td>\n",
       "      <td>0.000000</td>\n",
       "      <td>-799.798523</td>\n",
       "      <td>0.000000</td>\n",
       "      <td>-800.836914</td>\n",
       "      <td>-0.372054</td>\n",
       "      <td>-797.323986</td>\n",
       "      <td>0.528083</td>\n",
       "      <td>-800.220337</td>\n",
       "      <td>-0.079426</td>\n",
       "      <td>-809.741464</td>\n",
       "    </tr>\n",
       "    <tr>\n",
       "      <th>25%</th>\n",
       "      <td>4.251240</td>\n",
       "      <td>9.137262</td>\n",
       "      <td>7.722820</td>\n",
       "      <td>43.402215</td>\n",
       "      <td>63.299712</td>\n",
       "      <td>8.062878</td>\n",
       "      <td>2.040119</td>\n",
       "      <td>8.938947</td>\n",
       "      <td>2.461138</td>\n",
       "      <td>114.107029</td>\n",
       "      <td>...</td>\n",
       "      <td>14.975734</td>\n",
       "      <td>-500.704892</td>\n",
       "      <td>11.940294</td>\n",
       "      <td>-500.187742</td>\n",
       "      <td>10.988606</td>\n",
       "      <td>-500.458467</td>\n",
       "      <td>8.971105</td>\n",
       "      <td>-500.129462</td>\n",
       "      <td>14.983037</td>\n",
       "      <td>-500.728067</td>\n",
       "    </tr>\n",
       "    <tr>\n",
       "      <th>50%</th>\n",
       "      <td>5.066094</td>\n",
       "      <td>10.102433</td>\n",
       "      <td>9.218961</td>\n",
       "      <td>45.011244</td>\n",
       "      <td>68.172738</td>\n",
       "      <td>9.743623</td>\n",
       "      <td>2.748730</td>\n",
       "      <td>10.622456</td>\n",
       "      <td>2.984909</td>\n",
       "      <td>143.232103</td>\n",
       "      <td>...</td>\n",
       "      <td>18.017481</td>\n",
       "      <td>-499.837793</td>\n",
       "      <td>14.971014</td>\n",
       "      <td>-499.459786</td>\n",
       "      <td>15.000036</td>\n",
       "      <td>-499.802605</td>\n",
       "      <td>11.019433</td>\n",
       "      <td>-499.935317</td>\n",
       "      <td>19.960541</td>\n",
       "      <td>-500.048400</td>\n",
       "    </tr>\n",
       "    <tr>\n",
       "      <th>75%</th>\n",
       "      <td>5.895527</td>\n",
       "      <td>11.035769</td>\n",
       "      <td>10.947813</td>\n",
       "      <td>46.275313</td>\n",
       "      <td>72.686642</td>\n",
       "      <td>11.134294</td>\n",
       "      <td>3.333216</td>\n",
       "      <td>12.104271</td>\n",
       "      <td>3.571351</td>\n",
       "      <td>175.075656</td>\n",
       "      <td>...</td>\n",
       "      <td>23.012470</td>\n",
       "      <td>-498.249730</td>\n",
       "      <td>19.034162</td>\n",
       "      <td>-400.118106</td>\n",
       "      <td>18.026190</td>\n",
       "      <td>-498.384187</td>\n",
       "      <td>14.019088</td>\n",
       "      <td>-499.436708</td>\n",
       "      <td>24.003170</td>\n",
       "      <td>-499.495378</td>\n",
       "    </tr>\n",
       "    <tr>\n",
       "      <th>max</th>\n",
       "      <td>16.001945</td>\n",
       "      <td>17.031899</td>\n",
       "      <td>19.615720</td>\n",
       "      <td>52.756638</td>\n",
       "      <td>100.000000</td>\n",
       "      <td>19.552149</td>\n",
       "      <td>5.804178</td>\n",
       "      <td>22.317730</td>\n",
       "      <td>8.245022</td>\n",
       "      <td>265.983123</td>\n",
       "      <td>...</td>\n",
       "      <td>30.115735</td>\n",
       "      <td>-245.239184</td>\n",
       "      <td>31.269706</td>\n",
       "      <td>-6.506986</td>\n",
       "      <td>43.709931</td>\n",
       "      <td>-244.483566</td>\n",
       "      <td>27.926001</td>\n",
       "      <td>-137.740004</td>\n",
       "      <td>32.188906</td>\n",
       "      <td>-104.427459</td>\n",
       "    </tr>\n",
       "  </tbody>\n",
       "</table>\n",
       "<p>8 rows × 86 columns</p>\n",
       "</div>"
      ],
      "text/plain": [
       "       final.output.concentrate_ag  final.output.concentrate_pb  \\\n",
       "count                 19438.000000                 19438.000000   \n",
       "mean                      5.168470                     9.978895   \n",
       "std                       1.372348                     1.669240   \n",
       "min                       0.000000                     0.000000   \n",
       "25%                       4.251240                     9.137262   \n",
       "50%                       5.066094                    10.102433   \n",
       "75%                       5.895527                    11.035769   \n",
       "max                      16.001945                    17.031899   \n",
       "\n",
       "       final.output.concentrate_sol  final.output.concentrate_au  \\\n",
       "count                  19228.000000                 19439.000000   \n",
       "mean                       9.501224                    44.076513   \n",
       "std                        2.787537                     5.129784   \n",
       "min                        0.000000                     0.000000   \n",
       "25%                        7.722820                    43.402215   \n",
       "50%                        9.218961                    45.011244   \n",
       "75%                       10.947813                    46.275313   \n",
       "max                       19.615720                    52.756638   \n",
       "\n",
       "       final.output.recovery  final.output.tail_ag  final.output.tail_pb  \\\n",
       "count           19439.000000          19438.000000          19338.000000   \n",
       "mean               67.050208              9.688589              2.705795   \n",
       "std                10.125840              2.328642              0.949077   \n",
       "min                 0.000000              0.000000              0.000000   \n",
       "25%                63.299712              8.062878              2.040119   \n",
       "50%                68.172738              9.743623              2.748730   \n",
       "75%                72.686642             11.134294              3.333216   \n",
       "max               100.000000             19.552149              5.804178   \n",
       "\n",
       "       final.output.tail_sol  final.output.tail_au  \\\n",
       "count           19433.000000          19439.000000   \n",
       "mean               10.583728              3.042467   \n",
       "std                 2.868782              0.922808   \n",
       "min                 0.000000              0.000000   \n",
       "25%                 8.938947              2.461138   \n",
       "50%                10.622456              2.984909   \n",
       "75%                12.104271              3.571351   \n",
       "max                22.317730              8.245022   \n",
       "\n",
       "       primary_cleaner.input.sulfate  ...  \\\n",
       "count                   19415.000000  ...   \n",
       "mean                      144.624774  ...   \n",
       "std                        44.464071  ...   \n",
       "min                         0.003112  ...   \n",
       "25%                       114.107029  ...   \n",
       "50%                       143.232103  ...   \n",
       "75%                       175.075656  ...   \n",
       "max                       265.983123  ...   \n",
       "\n",
       "       secondary_cleaner.state.floatbank4_a_air  \\\n",
       "count                              19433.000000   \n",
       "mean                                  18.987674   \n",
       "std                                    5.411058   \n",
       "min                                    0.000000   \n",
       "25%                                   14.975734   \n",
       "50%                                   18.017481   \n",
       "75%                                   23.012470   \n",
       "max                                   30.115735   \n",
       "\n",
       "       secondary_cleaner.state.floatbank4_a_level  \\\n",
       "count                                19438.000000   \n",
       "mean                                  -485.894516   \n",
       "std                                     47.758570   \n",
       "min                                   -799.798523   \n",
       "25%                                   -500.704892   \n",
       "50%                                   -499.837793   \n",
       "75%                                   -498.249730   \n",
       "max                                   -245.239184   \n",
       "\n",
       "       secondary_cleaner.state.floatbank4_b_air  \\\n",
       "count                              19438.000000   \n",
       "mean                                  15.010366   \n",
       "std                                    4.890228   \n",
       "min                                    0.000000   \n",
       "25%                                   11.940294   \n",
       "50%                                   14.971014   \n",
       "75%                                   19.034162   \n",
       "max                                   31.269706   \n",
       "\n",
       "       secondary_cleaner.state.floatbank4_b_level  \\\n",
       "count                                19438.000000   \n",
       "mean                                  -461.078636   \n",
       "std                                     67.405524   \n",
       "min                                   -800.836914   \n",
       "25%                                   -500.187742   \n",
       "50%                                   -499.459786   \n",
       "75%                                   -400.118106   \n",
       "max                                     -6.506986   \n",
       "\n",
       "       secondary_cleaner.state.floatbank5_a_air  \\\n",
       "count                              19438.000000   \n",
       "mean                                  15.694452   \n",
       "std                                    5.510974   \n",
       "min                                   -0.372054   \n",
       "25%                                   10.988606   \n",
       "50%                                   15.000036   \n",
       "75%                                   18.026190   \n",
       "max                                   43.709931   \n",
       "\n",
       "       secondary_cleaner.state.floatbank5_a_level  \\\n",
       "count                                19438.000000   \n",
       "mean                                  -488.684065   \n",
       "std                                     34.533396   \n",
       "min                                   -797.323986   \n",
       "25%                                   -500.458467   \n",
       "50%                                   -499.802605   \n",
       "75%                                   -498.384187   \n",
       "max                                   -244.483566   \n",
       "\n",
       "       secondary_cleaner.state.floatbank5_b_air  \\\n",
       "count                              19438.000000   \n",
       "mean                                  12.198224   \n",
       "std                                    5.333024   \n",
       "min                                    0.528083   \n",
       "25%                                    8.971105   \n",
       "50%                                   11.019433   \n",
       "75%                                   14.019088   \n",
       "max                                   27.926001   \n",
       "\n",
       "       secondary_cleaner.state.floatbank5_b_level  \\\n",
       "count                                19438.000000   \n",
       "mean                                  -487.149827   \n",
       "std                                     38.347312   \n",
       "min                                   -800.220337   \n",
       "25%                                   -500.129462   \n",
       "50%                                   -499.935317   \n",
       "75%                                   -499.436708   \n",
       "max                                   -137.740004   \n",
       "\n",
       "       secondary_cleaner.state.floatbank6_a_air  \\\n",
       "count                              19437.000000   \n",
       "mean                                  18.959024   \n",
       "std                                    5.550498   \n",
       "min                                   -0.079426   \n",
       "25%                                   14.983037   \n",
       "50%                                   19.960541   \n",
       "75%                                   24.003170   \n",
       "max                                   32.188906   \n",
       "\n",
       "       secondary_cleaner.state.floatbank6_a_level  \n",
       "count                                19438.000000  \n",
       "mean                                  -505.436305  \n",
       "std                                     37.689057  \n",
       "min                                   -809.741464  \n",
       "25%                                   -500.728067  \n",
       "50%                                   -500.048400  \n",
       "75%                                   -499.495378  \n",
       "max                                   -104.427459  \n",
       "\n",
       "[8 rows x 86 columns]"
      ]
     },
     "metadata": {},
     "output_type": "display_data"
    },
    {
     "name": "stdout",
     "output_type": "stream",
     "text": [
      "Пропусков в данных: \n",
      "4481\n",
      "\n",
      "Дубликатов в данных:  0\n",
      "\n",
      "<class 'pandas.core.frame.DataFrame'>\n",
      "Index: 19439 entries, 2016-01-15 00:00:00 to 2018-08-18 10:59:59\n",
      "Data columns (total 86 columns):\n",
      " #   Column                                              Non-Null Count  Dtype  \n",
      "---  ------                                              --------------  -----  \n",
      " 0   final.output.concentrate_ag                         19438 non-null  float64\n",
      " 1   final.output.concentrate_pb                         19438 non-null  float64\n",
      " 2   final.output.concentrate_sol                        19228 non-null  float64\n",
      " 3   final.output.concentrate_au                         19439 non-null  float64\n",
      " 4   final.output.recovery                               19439 non-null  float64\n",
      " 5   final.output.tail_ag                                19438 non-null  float64\n",
      " 6   final.output.tail_pb                                19338 non-null  float64\n",
      " 7   final.output.tail_sol                               19433 non-null  float64\n",
      " 8   final.output.tail_au                                19439 non-null  float64\n",
      " 9   primary_cleaner.input.sulfate                       19415 non-null  float64\n",
      " 10  primary_cleaner.input.depressant                    19402 non-null  float64\n",
      " 11  primary_cleaner.input.feed_size                     19439 non-null  float64\n",
      " 12  primary_cleaner.input.xanthate                      19335 non-null  float64\n",
      " 13  primary_cleaner.output.concentrate_ag               19439 non-null  float64\n",
      " 14  primary_cleaner.output.concentrate_pb               19323 non-null  float64\n",
      " 15  primary_cleaner.output.concentrate_sol              19069 non-null  float64\n",
      " 16  primary_cleaner.output.concentrate_au               19439 non-null  float64\n",
      " 17  primary_cleaner.output.tail_ag                      19435 non-null  float64\n",
      " 18  primary_cleaner.output.tail_pb                      19418 non-null  float64\n",
      " 19  primary_cleaner.output.tail_sol                     19377 non-null  float64\n",
      " 20  primary_cleaner.output.tail_au                      19439 non-null  float64\n",
      " 21  primary_cleaner.state.floatbank8_a_air              19435 non-null  float64\n",
      " 22  primary_cleaner.state.floatbank8_a_level            19438 non-null  float64\n",
      " 23  primary_cleaner.state.floatbank8_b_air              19435 non-null  float64\n",
      " 24  primary_cleaner.state.floatbank8_b_level            19438 non-null  float64\n",
      " 25  primary_cleaner.state.floatbank8_c_air              19437 non-null  float64\n",
      " 26  primary_cleaner.state.floatbank8_c_level            19438 non-null  float64\n",
      " 27  primary_cleaner.state.floatbank8_d_air              19436 non-null  float64\n",
      " 28  primary_cleaner.state.floatbank8_d_level            19438 non-null  float64\n",
      " 29  rougher.calculation.sulfate_to_au_concentrate       19437 non-null  float64\n",
      " 30  rougher.calculation.floatbank10_sulfate_to_au_feed  19437 non-null  float64\n",
      " 31  rougher.calculation.floatbank11_sulfate_to_au_feed  19437 non-null  float64\n",
      " 32  rougher.calculation.au_pb_ratio                     19439 non-null  float64\n",
      " 33  rougher.input.feed_ag                               19439 non-null  float64\n",
      " 34  rougher.input.feed_pb                               19339 non-null  float64\n",
      " 35  rougher.input.feed_rate                             19428 non-null  float64\n",
      " 36  rougher.input.feed_size                             19294 non-null  float64\n",
      " 37  rougher.input.feed_sol                              19340 non-null  float64\n",
      " 38  rougher.input.feed_au                               19439 non-null  float64\n",
      " 39  rougher.input.floatbank10_sulfate                   19405 non-null  float64\n",
      " 40  rougher.input.floatbank10_xanthate                  19431 non-null  float64\n",
      " 41  rougher.input.floatbank11_sulfate                   19395 non-null  float64\n",
      " 42  rougher.input.floatbank11_xanthate                  18986 non-null  float64\n",
      " 43  rougher.output.concentrate_ag                       19439 non-null  float64\n",
      " 44  rougher.output.concentrate_pb                       19439 non-null  float64\n",
      " 45  rougher.output.concentrate_sol                      19416 non-null  float64\n",
      " 46  rougher.output.concentrate_au                       19439 non-null  float64\n",
      " 47  rougher.output.recovery                             19439 non-null  float64\n",
      " 48  rougher.output.tail_ag                              19438 non-null  float64\n",
      " 49  rougher.output.tail_pb                              19439 non-null  float64\n",
      " 50  rougher.output.tail_sol                             19439 non-null  float64\n",
      " 51  rougher.output.tail_au                              19439 non-null  float64\n",
      " 52  rougher.state.floatbank10_a_air                     19438 non-null  float64\n",
      " 53  rougher.state.floatbank10_a_level                   19438 non-null  float64\n",
      " 54  rougher.state.floatbank10_b_air                     19438 non-null  float64\n",
      " 55  rougher.state.floatbank10_b_level                   19438 non-null  float64\n",
      " 56  rougher.state.floatbank10_c_air                     19438 non-null  float64\n",
      " 57  rougher.state.floatbank10_c_level                   19438 non-null  float64\n",
      " 58  rougher.state.floatbank10_d_air                     19439 non-null  float64\n",
      " 59  rougher.state.floatbank10_d_level                   19439 non-null  float64\n",
      " 60  rougher.state.floatbank10_e_air                     19003 non-null  float64\n",
      " 61  rougher.state.floatbank10_e_level                   19439 non-null  float64\n",
      " 62  rougher.state.floatbank10_f_air                     19439 non-null  float64\n",
      " 63  rougher.state.floatbank10_f_level                   19439 non-null  float64\n",
      " 64  secondary_cleaner.output.tail_ag                    19437 non-null  float64\n",
      " 65  secondary_cleaner.output.tail_pb                    19427 non-null  float64\n",
      " 66  secondary_cleaner.output.tail_sol                   17691 non-null  float64\n",
      " 67  secondary_cleaner.output.tail_au                    19439 non-null  float64\n",
      " 68  secondary_cleaner.state.floatbank2_a_air            19219 non-null  float64\n",
      " 69  secondary_cleaner.state.floatbank2_a_level          19438 non-null  float64\n",
      " 70  secondary_cleaner.state.floatbank2_b_air            19416 non-null  float64\n",
      " 71  secondary_cleaner.state.floatbank2_b_level          19438 non-null  float64\n",
      " 72  secondary_cleaner.state.floatbank3_a_air            19426 non-null  float64\n",
      " 73  secondary_cleaner.state.floatbank3_a_level          19438 non-null  float64\n",
      " 74  secondary_cleaner.state.floatbank3_b_air            19438 non-null  float64\n",
      " 75  secondary_cleaner.state.floatbank3_b_level          19438 non-null  float64\n",
      " 76  secondary_cleaner.state.floatbank4_a_air            19433 non-null  float64\n",
      " 77  secondary_cleaner.state.floatbank4_a_level          19438 non-null  float64\n",
      " 78  secondary_cleaner.state.floatbank4_b_air            19438 non-null  float64\n",
      " 79  secondary_cleaner.state.floatbank4_b_level          19438 non-null  float64\n",
      " 80  secondary_cleaner.state.floatbank5_a_air            19438 non-null  float64\n",
      " 81  secondary_cleaner.state.floatbank5_a_level          19438 non-null  float64\n",
      " 82  secondary_cleaner.state.floatbank5_b_air            19438 non-null  float64\n",
      " 83  secondary_cleaner.state.floatbank5_b_level          19438 non-null  float64\n",
      " 84  secondary_cleaner.state.floatbank6_a_air            19437 non-null  float64\n",
      " 85  secondary_cleaner.state.floatbank6_a_level          19438 non-null  float64\n",
      "dtypes: float64(86)\n",
      "memory usage: 12.9+ MB\n"
     ]
    }
   ],
   "source": [
    "data_info(data_full)"
   ]
  },
  {
   "cell_type": "markdown",
   "metadata": {},
   "source": [
    "**Вывод**\n",
    "<br>В данных есть пропуски, в тренировочной в разы больше чем в тестовой\n",
    "<br>В тестовых данных признаков меньше чем в тренировочноных"
   ]
  },
  {
   "cell_type": "markdown",
   "metadata": {},
   "source": [
    "### Проверка эфективности обогащения по формуле"
   ]
  },
  {
   "attachments": {
    "Image.png": {
     "image/png": "[encoded data removed]"
    }
   },
   "cell_type": "markdown",
   "metadata": {},
   "source": [
    "Расчёт эффективности. Нужно смоделировать процесс восстановления золота из золотосодержащей руды.\n",
    "Эффективность обогащения рассчитывается по формуле\n",
    " \n",
    " ![Image.png](attachment:Image.png)\n",
    "\n",
    "где:\n",
    "<br>C — доля золота в концентрате после флотации/очистки; (rougher.output.concentrate_au )\n",
    "<br>F — доля золота в сырье/концентрате до флотации/очистки;(rougher.input.feed_au)\n",
    "<br>T — доля золота в отвальных хвостах после флотации/очистки. (rougher.output.tail_au )"
   ]
  },
  {
   "cell_type": "code",
   "execution_count": 7,
   "metadata": {},
   "outputs": [],
   "source": [
    "def calcul_recovery(roc,rif,rot):\n",
    "    recovery = ((roc*(rif-rot)) / (rif*(roc-rot))) * 100\n",
    "    recovery[recovery < 0] = np.nan\n",
    "    recovery[recovery > 100] = np.nan\n",
    "    \n",
    "    return recovery"
   ]
  },
  {
   "cell_type": "markdown",
   "metadata": {},
   "source": [
    "Проверим вычисления на обучающей выборке"
   ]
  },
  {
   "cell_type": "code",
   "execution_count": 8,
   "metadata": {},
   "outputs": [],
   "source": [
    "recovery_tarin = calcul_recovery(\n",
    "    data_train['rougher.output.concentrate_au'], \n",
    "    data_train['rougher.input.feed_au'], \n",
    "    data_train['rougher.output.tail_au'],\n",
    ")"
   ]
  },
  {
   "cell_type": "markdown",
   "metadata": {},
   "source": [
    "Вычисляем MAE для признака `rougher.output.recovery` и данных, которые получились с помощью формулы"
   ]
  },
  {
   "cell_type": "code",
   "execution_count": 9,
   "metadata": {},
   "outputs": [
    {
     "name": "stdout",
     "output_type": "stream",
     "text": [
      "MAE =  9.73512347450521e-15\n"
     ]
    }
   ],
   "source": [
    "mae_recovery_train = mean_absolute_error(data_train['rougher.output.recovery'], recovery_tarin)\n",
    "print('MAE = ',mae_recovery_train)"
   ]
  },
  {
   "cell_type": "markdown",
   "metadata": {},
   "source": [
    "Значение MAE-средняя обсолютная ошибка очень мало, значит значения эффективности в данных соответствуют действительности"
   ]
  },
  {
   "cell_type": "markdown",
   "metadata": {},
   "source": [
    "### \"Пропавшие признаки\" столбцы в тестовой выборке"
   ]
  },
  {
   "cell_type": "code",
   "execution_count": 10,
   "metadata": {},
   "outputs": [],
   "source": [
    "search_columns = set.symmetric_difference(set(data_train.columns.to_list()), set(data_test.columns.to_list()))"
   ]
  },
  {
   "cell_type": "code",
   "execution_count": 11,
   "metadata": {},
   "outputs": [
    {
     "data": {
      "text/plain": [
       "34"
      ]
     },
     "execution_count": 11,
     "metadata": {},
     "output_type": "execute_result"
    }
   ],
   "source": [
    "len(search_columns)"
   ]
  },
  {
   "cell_type": "code",
   "execution_count": 12,
   "metadata": {},
   "outputs": [
    {
     "data": {
      "text/plain": [
       "86"
      ]
     },
     "execution_count": 12,
     "metadata": {},
     "output_type": "execute_result"
    }
   ],
   "source": [
    "len(data_train.columns)"
   ]
  },
  {
   "cell_type": "code",
   "execution_count": 13,
   "metadata": {
    "scrolled": false
   },
   "outputs": [
    {
     "data": {
      "text/plain": [
       "final.output.concentrate_ag                           float64\n",
       "final.output.tail_au                                  float64\n",
       "rougher.output.recovery                               float64\n",
       "rougher.output.tail_au                                float64\n",
       "rougher.calculation.floatbank11_sulfate_to_au_feed    float64\n",
       "rougher.output.concentrate_sol                        float64\n",
       "rougher.output.concentrate_ag                         float64\n",
       "primary_cleaner.output.concentrate_au                 float64\n",
       "final.output.concentrate_pb                           float64\n",
       "primary_cleaner.output.concentrate_pb                 float64\n",
       "secondary_cleaner.output.tail_sol                     float64\n",
       "rougher.output.tail_sol                               float64\n",
       "rougher.output.tail_pb                                float64\n",
       "rougher.calculation.au_pb_ratio                       float64\n",
       "rougher.output.tail_ag                                float64\n",
       "primary_cleaner.output.concentrate_sol                float64\n",
       "rougher.calculation.sulfate_to_au_concentrate         float64\n",
       "secondary_cleaner.output.tail_pb                      float64\n",
       "primary_cleaner.output.tail_au                        float64\n",
       "primary_cleaner.output.concentrate_ag                 float64\n",
       "final.output.recovery                                 float64\n",
       "rougher.output.concentrate_pb                         float64\n",
       "rougher.calculation.floatbank10_sulfate_to_au_feed    float64\n",
       "final.output.concentrate_sol                          float64\n",
       "primary_cleaner.output.tail_pb                        float64\n",
       "rougher.output.concentrate_au                         float64\n",
       "final.output.tail_sol                                 float64\n",
       "secondary_cleaner.output.tail_au                      float64\n",
       "final.output.tail_pb                                  float64\n",
       "primary_cleaner.output.tail_sol                       float64\n",
       "secondary_cleaner.output.tail_ag                      float64\n",
       "final.output.tail_ag                                  float64\n",
       "final.output.concentrate_au                           float64\n",
       "primary_cleaner.output.tail_ag                        float64\n",
       "dtype: object"
      ]
     },
     "execution_count": 13,
     "metadata": {},
     "output_type": "execute_result"
    }
   ],
   "source": [
    "data_train[search_columns].dtypes"
   ]
  },
  {
   "cell_type": "markdown",
   "metadata": {},
   "source": [
    "В тестовых данных отсутствуют столбцы с данными `output — параметры продукта`\n",
    "<br>А так же столбцы имеющие `calculation — расчётные характеристики`"
   ]
  },
  {
   "cell_type": "markdown",
   "metadata": {},
   "source": [
    "### Предобработка данных"
   ]
  },
  {
   "cell_type": "markdown",
   "metadata": {},
   "source": [
    "Далее будем разбираться с пропусками, в основном они в обучающих данных"
   ]
  },
  {
   "cell_type": "code",
   "execution_count": 14,
   "metadata": {},
   "outputs": [],
   "source": [
    "def data_isna(df):\n",
    "    isna = pd.DataFrame(round(df.isna().mean()*100,)).style.background_gradient('coolwarm')\n",
    "    return isna"
   ]
  },
  {
   "cell_type": "code",
   "execution_count": 15,
   "metadata": {},
   "outputs": [
    {
     "data": {
      "text/html": [
       "<style  type=\"text/css\" >\n",
       "#T_ff725_row0_col0,#T_ff725_row1_col0,#T_ff725_row3_col0,#T_ff725_row4_col0,#T_ff725_row5_col0,#T_ff725_row7_col0,#T_ff725_row8_col0,#T_ff725_row9_col0,#T_ff725_row10_col0,#T_ff725_row11_col0,#T_ff725_row13_col0,#T_ff725_row16_col0,#T_ff725_row17_col0,#T_ff725_row18_col0,#T_ff725_row19_col0,#T_ff725_row20_col0,#T_ff725_row21_col0,#T_ff725_row22_col0,#T_ff725_row23_col0,#T_ff725_row24_col0,#T_ff725_row25_col0,#T_ff725_row26_col0,#T_ff725_row27_col0,#T_ff725_row28_col0,#T_ff725_row29_col0,#T_ff725_row30_col0,#T_ff725_row31_col0,#T_ff725_row32_col0,#T_ff725_row33_col0,#T_ff725_row35_col0,#T_ff725_row38_col0,#T_ff725_row39_col0,#T_ff725_row40_col0,#T_ff725_row41_col0,#T_ff725_row43_col0,#T_ff725_row44_col0,#T_ff725_row45_col0,#T_ff725_row46_col0,#T_ff725_row47_col0,#T_ff725_row48_col0,#T_ff725_row49_col0,#T_ff725_row50_col0,#T_ff725_row51_col0,#T_ff725_row52_col0,#T_ff725_row53_col0,#T_ff725_row54_col0,#T_ff725_row55_col0,#T_ff725_row56_col0,#T_ff725_row57_col0,#T_ff725_row58_col0,#T_ff725_row59_col0,#T_ff725_row61_col0,#T_ff725_row62_col0,#T_ff725_row63_col0,#T_ff725_row64_col0,#T_ff725_row65_col0,#T_ff725_row67_col0,#T_ff725_row69_col0,#T_ff725_row70_col0,#T_ff725_row71_col0,#T_ff725_row72_col0,#T_ff725_row73_col0,#T_ff725_row74_col0,#T_ff725_row75_col0,#T_ff725_row76_col0,#T_ff725_row77_col0,#T_ff725_row78_col0,#T_ff725_row79_col0,#T_ff725_row80_col0,#T_ff725_row81_col0,#T_ff725_row82_col0,#T_ff725_row83_col0,#T_ff725_row84_col0,#T_ff725_row85_col0{\n",
       "            background-color:  #3b4cc0;\n",
       "            color:  #f1f1f1;\n",
       "        }#T_ff725_row2_col0,#T_ff725_row6_col0,#T_ff725_row12_col0,#T_ff725_row14_col0,#T_ff725_row34_col0,#T_ff725_row36_col0,#T_ff725_row37_col0{\n",
       "            background-color:  #5673e0;\n",
       "            color:  #000000;\n",
       "        }#T_ff725_row15_col0,#T_ff725_row68_col0{\n",
       "            background-color:  #7597f6;\n",
       "            color:  #000000;\n",
       "        }#T_ff725_row42_col0,#T_ff725_row60_col0{\n",
       "            background-color:  #94b6ff;\n",
       "            color:  #000000;\n",
       "        }#T_ff725_row66_col0{\n",
       "            background-color:  #b40426;\n",
       "            color:  #f1f1f1;\n",
       "        }</style><table id=\"T_ff725_\" ><thead>    <tr>        <th class=\"blank level0\" ></th>        <th class=\"col_heading level0 col0\" >0</th>    </tr></thead><tbody>\n",
       "                <tr>\n",
       "                        <th id=\"T_ff725_level0_row0\" class=\"row_heading level0 row0\" >final.output.concentrate_ag</th>\n",
       "                        <td id=\"T_ff725_row0_col0\" class=\"data row0 col0\" >0.000000</td>\n",
       "            </tr>\n",
       "            <tr>\n",
       "                        <th id=\"T_ff725_level0_row1\" class=\"row_heading level0 row1\" >final.output.concentrate_pb</th>\n",
       "                        <td id=\"T_ff725_row1_col0\" class=\"data row1 col0\" >0.000000</td>\n",
       "            </tr>\n",
       "            <tr>\n",
       "                        <th id=\"T_ff725_level0_row2\" class=\"row_heading level0 row2\" >final.output.concentrate_sol</th>\n",
       "                        <td id=\"T_ff725_row2_col0\" class=\"data row2 col0\" >1.000000</td>\n",
       "            </tr>\n",
       "            <tr>\n",
       "                        <th id=\"T_ff725_level0_row3\" class=\"row_heading level0 row3\" >final.output.concentrate_au</th>\n",
       "                        <td id=\"T_ff725_row3_col0\" class=\"data row3 col0\" >0.000000</td>\n",
       "            </tr>\n",
       "            <tr>\n",
       "                        <th id=\"T_ff725_level0_row4\" class=\"row_heading level0 row4\" >final.output.recovery</th>\n",
       "                        <td id=\"T_ff725_row4_col0\" class=\"data row4 col0\" >0.000000</td>\n",
       "            </tr>\n",
       "            <tr>\n",
       "                        <th id=\"T_ff725_level0_row5\" class=\"row_heading level0 row5\" >final.output.tail_ag</th>\n",
       "                        <td id=\"T_ff725_row5_col0\" class=\"data row5 col0\" >0.000000</td>\n",
       "            </tr>\n",
       "            <tr>\n",
       "                        <th id=\"T_ff725_level0_row6\" class=\"row_heading level0 row6\" >final.output.tail_pb</th>\n",
       "                        <td id=\"T_ff725_row6_col0\" class=\"data row6 col0\" >1.000000</td>\n",
       "            </tr>\n",
       "            <tr>\n",
       "                        <th id=\"T_ff725_level0_row7\" class=\"row_heading level0 row7\" >final.output.tail_sol</th>\n",
       "                        <td id=\"T_ff725_row7_col0\" class=\"data row7 col0\" >0.000000</td>\n",
       "            </tr>\n",
       "            <tr>\n",
       "                        <th id=\"T_ff725_level0_row8\" class=\"row_heading level0 row8\" >final.output.tail_au</th>\n",
       "                        <td id=\"T_ff725_row8_col0\" class=\"data row8 col0\" >0.000000</td>\n",
       "            </tr>\n",
       "            <tr>\n",
       "                        <th id=\"T_ff725_level0_row9\" class=\"row_heading level0 row9\" >primary_cleaner.input.sulfate</th>\n",
       "                        <td id=\"T_ff725_row9_col0\" class=\"data row9 col0\" >0.000000</td>\n",
       "            </tr>\n",
       "            <tr>\n",
       "                        <th id=\"T_ff725_level0_row10\" class=\"row_heading level0 row10\" >primary_cleaner.input.depressant</th>\n",
       "                        <td id=\"T_ff725_row10_col0\" class=\"data row10 col0\" >0.000000</td>\n",
       "            </tr>\n",
       "            <tr>\n",
       "                        <th id=\"T_ff725_level0_row11\" class=\"row_heading level0 row11\" >primary_cleaner.input.feed_size</th>\n",
       "                        <td id=\"T_ff725_row11_col0\" class=\"data row11 col0\" >0.000000</td>\n",
       "            </tr>\n",
       "            <tr>\n",
       "                        <th id=\"T_ff725_level0_row12\" class=\"row_heading level0 row12\" >primary_cleaner.input.xanthate</th>\n",
       "                        <td id=\"T_ff725_row12_col0\" class=\"data row12 col0\" >1.000000</td>\n",
       "            </tr>\n",
       "            <tr>\n",
       "                        <th id=\"T_ff725_level0_row13\" class=\"row_heading level0 row13\" >primary_cleaner.output.concentrate_ag</th>\n",
       "                        <td id=\"T_ff725_row13_col0\" class=\"data row13 col0\" >0.000000</td>\n",
       "            </tr>\n",
       "            <tr>\n",
       "                        <th id=\"T_ff725_level0_row14\" class=\"row_heading level0 row14\" >primary_cleaner.output.concentrate_pb</th>\n",
       "                        <td id=\"T_ff725_row14_col0\" class=\"data row14 col0\" >1.000000</td>\n",
       "            </tr>\n",
       "            <tr>\n",
       "                        <th id=\"T_ff725_level0_row15\" class=\"row_heading level0 row15\" >primary_cleaner.output.concentrate_sol</th>\n",
       "                        <td id=\"T_ff725_row15_col0\" class=\"data row15 col0\" >2.000000</td>\n",
       "            </tr>\n",
       "            <tr>\n",
       "                        <th id=\"T_ff725_level0_row16\" class=\"row_heading level0 row16\" >primary_cleaner.output.concentrate_au</th>\n",
       "                        <td id=\"T_ff725_row16_col0\" class=\"data row16 col0\" >0.000000</td>\n",
       "            </tr>\n",
       "            <tr>\n",
       "                        <th id=\"T_ff725_level0_row17\" class=\"row_heading level0 row17\" >primary_cleaner.output.tail_ag</th>\n",
       "                        <td id=\"T_ff725_row17_col0\" class=\"data row17 col0\" >0.000000</td>\n",
       "            </tr>\n",
       "            <tr>\n",
       "                        <th id=\"T_ff725_level0_row18\" class=\"row_heading level0 row18\" >primary_cleaner.output.tail_pb</th>\n",
       "                        <td id=\"T_ff725_row18_col0\" class=\"data row18 col0\" >0.000000</td>\n",
       "            </tr>\n",
       "            <tr>\n",
       "                        <th id=\"T_ff725_level0_row19\" class=\"row_heading level0 row19\" >primary_cleaner.output.tail_sol</th>\n",
       "                        <td id=\"T_ff725_row19_col0\" class=\"data row19 col0\" >0.000000</td>\n",
       "            </tr>\n",
       "            <tr>\n",
       "                        <th id=\"T_ff725_level0_row20\" class=\"row_heading level0 row20\" >primary_cleaner.output.tail_au</th>\n",
       "                        <td id=\"T_ff725_row20_col0\" class=\"data row20 col0\" >0.000000</td>\n",
       "            </tr>\n",
       "            <tr>\n",
       "                        <th id=\"T_ff725_level0_row21\" class=\"row_heading level0 row21\" >primary_cleaner.state.floatbank8_a_air</th>\n",
       "                        <td id=\"T_ff725_row21_col0\" class=\"data row21 col0\" >0.000000</td>\n",
       "            </tr>\n",
       "            <tr>\n",
       "                        <th id=\"T_ff725_level0_row22\" class=\"row_heading level0 row22\" >primary_cleaner.state.floatbank8_a_level</th>\n",
       "                        <td id=\"T_ff725_row22_col0\" class=\"data row22 col0\" >0.000000</td>\n",
       "            </tr>\n",
       "            <tr>\n",
       "                        <th id=\"T_ff725_level0_row23\" class=\"row_heading level0 row23\" >primary_cleaner.state.floatbank8_b_air</th>\n",
       "                        <td id=\"T_ff725_row23_col0\" class=\"data row23 col0\" >0.000000</td>\n",
       "            </tr>\n",
       "            <tr>\n",
       "                        <th id=\"T_ff725_level0_row24\" class=\"row_heading level0 row24\" >primary_cleaner.state.floatbank8_b_level</th>\n",
       "                        <td id=\"T_ff725_row24_col0\" class=\"data row24 col0\" >0.000000</td>\n",
       "            </tr>\n",
       "            <tr>\n",
       "                        <th id=\"T_ff725_level0_row25\" class=\"row_heading level0 row25\" >primary_cleaner.state.floatbank8_c_air</th>\n",
       "                        <td id=\"T_ff725_row25_col0\" class=\"data row25 col0\" >0.000000</td>\n",
       "            </tr>\n",
       "            <tr>\n",
       "                        <th id=\"T_ff725_level0_row26\" class=\"row_heading level0 row26\" >primary_cleaner.state.floatbank8_c_level</th>\n",
       "                        <td id=\"T_ff725_row26_col0\" class=\"data row26 col0\" >0.000000</td>\n",
       "            </tr>\n",
       "            <tr>\n",
       "                        <th id=\"T_ff725_level0_row27\" class=\"row_heading level0 row27\" >primary_cleaner.state.floatbank8_d_air</th>\n",
       "                        <td id=\"T_ff725_row27_col0\" class=\"data row27 col0\" >0.000000</td>\n",
       "            </tr>\n",
       "            <tr>\n",
       "                        <th id=\"T_ff725_level0_row28\" class=\"row_heading level0 row28\" >primary_cleaner.state.floatbank8_d_level</th>\n",
       "                        <td id=\"T_ff725_row28_col0\" class=\"data row28 col0\" >0.000000</td>\n",
       "            </tr>\n",
       "            <tr>\n",
       "                        <th id=\"T_ff725_level0_row29\" class=\"row_heading level0 row29\" >rougher.calculation.sulfate_to_au_concentrate</th>\n",
       "                        <td id=\"T_ff725_row29_col0\" class=\"data row29 col0\" >0.000000</td>\n",
       "            </tr>\n",
       "            <tr>\n",
       "                        <th id=\"T_ff725_level0_row30\" class=\"row_heading level0 row30\" >rougher.calculation.floatbank10_sulfate_to_au_feed</th>\n",
       "                        <td id=\"T_ff725_row30_col0\" class=\"data row30 col0\" >0.000000</td>\n",
       "            </tr>\n",
       "            <tr>\n",
       "                        <th id=\"T_ff725_level0_row31\" class=\"row_heading level0 row31\" >rougher.calculation.floatbank11_sulfate_to_au_feed</th>\n",
       "                        <td id=\"T_ff725_row31_col0\" class=\"data row31 col0\" >0.000000</td>\n",
       "            </tr>\n",
       "            <tr>\n",
       "                        <th id=\"T_ff725_level0_row32\" class=\"row_heading level0 row32\" >rougher.calculation.au_pb_ratio</th>\n",
       "                        <td id=\"T_ff725_row32_col0\" class=\"data row32 col0\" >0.000000</td>\n",
       "            </tr>\n",
       "            <tr>\n",
       "                        <th id=\"T_ff725_level0_row33\" class=\"row_heading level0 row33\" >rougher.input.feed_ag</th>\n",
       "                        <td id=\"T_ff725_row33_col0\" class=\"data row33 col0\" >0.000000</td>\n",
       "            </tr>\n",
       "            <tr>\n",
       "                        <th id=\"T_ff725_level0_row34\" class=\"row_heading level0 row34\" >rougher.input.feed_pb</th>\n",
       "                        <td id=\"T_ff725_row34_col0\" class=\"data row34 col0\" >1.000000</td>\n",
       "            </tr>\n",
       "            <tr>\n",
       "                        <th id=\"T_ff725_level0_row35\" class=\"row_heading level0 row35\" >rougher.input.feed_rate</th>\n",
       "                        <td id=\"T_ff725_row35_col0\" class=\"data row35 col0\" >0.000000</td>\n",
       "            </tr>\n",
       "            <tr>\n",
       "                        <th id=\"T_ff725_level0_row36\" class=\"row_heading level0 row36\" >rougher.input.feed_size</th>\n",
       "                        <td id=\"T_ff725_row36_col0\" class=\"data row36 col0\" >1.000000</td>\n",
       "            </tr>\n",
       "            <tr>\n",
       "                        <th id=\"T_ff725_level0_row37\" class=\"row_heading level0 row37\" >rougher.input.feed_sol</th>\n",
       "                        <td id=\"T_ff725_row37_col0\" class=\"data row37 col0\" >1.000000</td>\n",
       "            </tr>\n",
       "            <tr>\n",
       "                        <th id=\"T_ff725_level0_row38\" class=\"row_heading level0 row38\" >rougher.input.feed_au</th>\n",
       "                        <td id=\"T_ff725_row38_col0\" class=\"data row38 col0\" >0.000000</td>\n",
       "            </tr>\n",
       "            <tr>\n",
       "                        <th id=\"T_ff725_level0_row39\" class=\"row_heading level0 row39\" >rougher.input.floatbank10_sulfate</th>\n",
       "                        <td id=\"T_ff725_row39_col0\" class=\"data row39 col0\" >0.000000</td>\n",
       "            </tr>\n",
       "            <tr>\n",
       "                        <th id=\"T_ff725_level0_row40\" class=\"row_heading level0 row40\" >rougher.input.floatbank10_xanthate</th>\n",
       "                        <td id=\"T_ff725_row40_col0\" class=\"data row40 col0\" >0.000000</td>\n",
       "            </tr>\n",
       "            <tr>\n",
       "                        <th id=\"T_ff725_level0_row41\" class=\"row_heading level0 row41\" >rougher.input.floatbank11_sulfate</th>\n",
       "                        <td id=\"T_ff725_row41_col0\" class=\"data row41 col0\" >0.000000</td>\n",
       "            </tr>\n",
       "            <tr>\n",
       "                        <th id=\"T_ff725_level0_row42\" class=\"row_heading level0 row42\" >rougher.input.floatbank11_xanthate</th>\n",
       "                        <td id=\"T_ff725_row42_col0\" class=\"data row42 col0\" >3.000000</td>\n",
       "            </tr>\n",
       "            <tr>\n",
       "                        <th id=\"T_ff725_level0_row43\" class=\"row_heading level0 row43\" >rougher.output.concentrate_ag</th>\n",
       "                        <td id=\"T_ff725_row43_col0\" class=\"data row43 col0\" >0.000000</td>\n",
       "            </tr>\n",
       "            <tr>\n",
       "                        <th id=\"T_ff725_level0_row44\" class=\"row_heading level0 row44\" >rougher.output.concentrate_pb</th>\n",
       "                        <td id=\"T_ff725_row44_col0\" class=\"data row44 col0\" >0.000000</td>\n",
       "            </tr>\n",
       "            <tr>\n",
       "                        <th id=\"T_ff725_level0_row45\" class=\"row_heading level0 row45\" >rougher.output.concentrate_sol</th>\n",
       "                        <td id=\"T_ff725_row45_col0\" class=\"data row45 col0\" >0.000000</td>\n",
       "            </tr>\n",
       "            <tr>\n",
       "                        <th id=\"T_ff725_level0_row46\" class=\"row_heading level0 row46\" >rougher.output.concentrate_au</th>\n",
       "                        <td id=\"T_ff725_row46_col0\" class=\"data row46 col0\" >0.000000</td>\n",
       "            </tr>\n",
       "            <tr>\n",
       "                        <th id=\"T_ff725_level0_row47\" class=\"row_heading level0 row47\" >rougher.output.recovery</th>\n",
       "                        <td id=\"T_ff725_row47_col0\" class=\"data row47 col0\" >0.000000</td>\n",
       "            </tr>\n",
       "            <tr>\n",
       "                        <th id=\"T_ff725_level0_row48\" class=\"row_heading level0 row48\" >rougher.output.tail_ag</th>\n",
       "                        <td id=\"T_ff725_row48_col0\" class=\"data row48 col0\" >0.000000</td>\n",
       "            </tr>\n",
       "            <tr>\n",
       "                        <th id=\"T_ff725_level0_row49\" class=\"row_heading level0 row49\" >rougher.output.tail_pb</th>\n",
       "                        <td id=\"T_ff725_row49_col0\" class=\"data row49 col0\" >0.000000</td>\n",
       "            </tr>\n",
       "            <tr>\n",
       "                        <th id=\"T_ff725_level0_row50\" class=\"row_heading level0 row50\" >rougher.output.tail_sol</th>\n",
       "                        <td id=\"T_ff725_row50_col0\" class=\"data row50 col0\" >0.000000</td>\n",
       "            </tr>\n",
       "            <tr>\n",
       "                        <th id=\"T_ff725_level0_row51\" class=\"row_heading level0 row51\" >rougher.output.tail_au</th>\n",
       "                        <td id=\"T_ff725_row51_col0\" class=\"data row51 col0\" >0.000000</td>\n",
       "            </tr>\n",
       "            <tr>\n",
       "                        <th id=\"T_ff725_level0_row52\" class=\"row_heading level0 row52\" >rougher.state.floatbank10_a_air</th>\n",
       "                        <td id=\"T_ff725_row52_col0\" class=\"data row52 col0\" >0.000000</td>\n",
       "            </tr>\n",
       "            <tr>\n",
       "                        <th id=\"T_ff725_level0_row53\" class=\"row_heading level0 row53\" >rougher.state.floatbank10_a_level</th>\n",
       "                        <td id=\"T_ff725_row53_col0\" class=\"data row53 col0\" >0.000000</td>\n",
       "            </tr>\n",
       "            <tr>\n",
       "                        <th id=\"T_ff725_level0_row54\" class=\"row_heading level0 row54\" >rougher.state.floatbank10_b_air</th>\n",
       "                        <td id=\"T_ff725_row54_col0\" class=\"data row54 col0\" >0.000000</td>\n",
       "            </tr>\n",
       "            <tr>\n",
       "                        <th id=\"T_ff725_level0_row55\" class=\"row_heading level0 row55\" >rougher.state.floatbank10_b_level</th>\n",
       "                        <td id=\"T_ff725_row55_col0\" class=\"data row55 col0\" >0.000000</td>\n",
       "            </tr>\n",
       "            <tr>\n",
       "                        <th id=\"T_ff725_level0_row56\" class=\"row_heading level0 row56\" >rougher.state.floatbank10_c_air</th>\n",
       "                        <td id=\"T_ff725_row56_col0\" class=\"data row56 col0\" >0.000000</td>\n",
       "            </tr>\n",
       "            <tr>\n",
       "                        <th id=\"T_ff725_level0_row57\" class=\"row_heading level0 row57\" >rougher.state.floatbank10_c_level</th>\n",
       "                        <td id=\"T_ff725_row57_col0\" class=\"data row57 col0\" >0.000000</td>\n",
       "            </tr>\n",
       "            <tr>\n",
       "                        <th id=\"T_ff725_level0_row58\" class=\"row_heading level0 row58\" >rougher.state.floatbank10_d_air</th>\n",
       "                        <td id=\"T_ff725_row58_col0\" class=\"data row58 col0\" >0.000000</td>\n",
       "            </tr>\n",
       "            <tr>\n",
       "                        <th id=\"T_ff725_level0_row59\" class=\"row_heading level0 row59\" >rougher.state.floatbank10_d_level</th>\n",
       "                        <td id=\"T_ff725_row59_col0\" class=\"data row59 col0\" >0.000000</td>\n",
       "            </tr>\n",
       "            <tr>\n",
       "                        <th id=\"T_ff725_level0_row60\" class=\"row_heading level0 row60\" >rougher.state.floatbank10_e_air</th>\n",
       "                        <td id=\"T_ff725_row60_col0\" class=\"data row60 col0\" >3.000000</td>\n",
       "            </tr>\n",
       "            <tr>\n",
       "                        <th id=\"T_ff725_level0_row61\" class=\"row_heading level0 row61\" >rougher.state.floatbank10_e_level</th>\n",
       "                        <td id=\"T_ff725_row61_col0\" class=\"data row61 col0\" >0.000000</td>\n",
       "            </tr>\n",
       "            <tr>\n",
       "                        <th id=\"T_ff725_level0_row62\" class=\"row_heading level0 row62\" >rougher.state.floatbank10_f_air</th>\n",
       "                        <td id=\"T_ff725_row62_col0\" class=\"data row62 col0\" >0.000000</td>\n",
       "            </tr>\n",
       "            <tr>\n",
       "                        <th id=\"T_ff725_level0_row63\" class=\"row_heading level0 row63\" >rougher.state.floatbank10_f_level</th>\n",
       "                        <td id=\"T_ff725_row63_col0\" class=\"data row63 col0\" >0.000000</td>\n",
       "            </tr>\n",
       "            <tr>\n",
       "                        <th id=\"T_ff725_level0_row64\" class=\"row_heading level0 row64\" >secondary_cleaner.output.tail_ag</th>\n",
       "                        <td id=\"T_ff725_row64_col0\" class=\"data row64 col0\" >0.000000</td>\n",
       "            </tr>\n",
       "            <tr>\n",
       "                        <th id=\"T_ff725_level0_row65\" class=\"row_heading level0 row65\" >secondary_cleaner.output.tail_pb</th>\n",
       "                        <td id=\"T_ff725_row65_col0\" class=\"data row65 col0\" >0.000000</td>\n",
       "            </tr>\n",
       "            <tr>\n",
       "                        <th id=\"T_ff725_level0_row66\" class=\"row_heading level0 row66\" >secondary_cleaner.output.tail_sol</th>\n",
       "                        <td id=\"T_ff725_row66_col0\" class=\"data row66 col0\" >11.000000</td>\n",
       "            </tr>\n",
       "            <tr>\n",
       "                        <th id=\"T_ff725_level0_row67\" class=\"row_heading level0 row67\" >secondary_cleaner.output.tail_au</th>\n",
       "                        <td id=\"T_ff725_row67_col0\" class=\"data row67 col0\" >0.000000</td>\n",
       "            </tr>\n",
       "            <tr>\n",
       "                        <th id=\"T_ff725_level0_row68\" class=\"row_heading level0 row68\" >secondary_cleaner.state.floatbank2_a_air</th>\n",
       "                        <td id=\"T_ff725_row68_col0\" class=\"data row68 col0\" >2.000000</td>\n",
       "            </tr>\n",
       "            <tr>\n",
       "                        <th id=\"T_ff725_level0_row69\" class=\"row_heading level0 row69\" >secondary_cleaner.state.floatbank2_a_level</th>\n",
       "                        <td id=\"T_ff725_row69_col0\" class=\"data row69 col0\" >0.000000</td>\n",
       "            </tr>\n",
       "            <tr>\n",
       "                        <th id=\"T_ff725_level0_row70\" class=\"row_heading level0 row70\" >secondary_cleaner.state.floatbank2_b_air</th>\n",
       "                        <td id=\"T_ff725_row70_col0\" class=\"data row70 col0\" >0.000000</td>\n",
       "            </tr>\n",
       "            <tr>\n",
       "                        <th id=\"T_ff725_level0_row71\" class=\"row_heading level0 row71\" >secondary_cleaner.state.floatbank2_b_level</th>\n",
       "                        <td id=\"T_ff725_row71_col0\" class=\"data row71 col0\" >0.000000</td>\n",
       "            </tr>\n",
       "            <tr>\n",
       "                        <th id=\"T_ff725_level0_row72\" class=\"row_heading level0 row72\" >secondary_cleaner.state.floatbank3_a_air</th>\n",
       "                        <td id=\"T_ff725_row72_col0\" class=\"data row72 col0\" >0.000000</td>\n",
       "            </tr>\n",
       "            <tr>\n",
       "                        <th id=\"T_ff725_level0_row73\" class=\"row_heading level0 row73\" >secondary_cleaner.state.floatbank3_a_level</th>\n",
       "                        <td id=\"T_ff725_row73_col0\" class=\"data row73 col0\" >0.000000</td>\n",
       "            </tr>\n",
       "            <tr>\n",
       "                        <th id=\"T_ff725_level0_row74\" class=\"row_heading level0 row74\" >secondary_cleaner.state.floatbank3_b_air</th>\n",
       "                        <td id=\"T_ff725_row74_col0\" class=\"data row74 col0\" >0.000000</td>\n",
       "            </tr>\n",
       "            <tr>\n",
       "                        <th id=\"T_ff725_level0_row75\" class=\"row_heading level0 row75\" >secondary_cleaner.state.floatbank3_b_level</th>\n",
       "                        <td id=\"T_ff725_row75_col0\" class=\"data row75 col0\" >0.000000</td>\n",
       "            </tr>\n",
       "            <tr>\n",
       "                        <th id=\"T_ff725_level0_row76\" class=\"row_heading level0 row76\" >secondary_cleaner.state.floatbank4_a_air</th>\n",
       "                        <td id=\"T_ff725_row76_col0\" class=\"data row76 col0\" >0.000000</td>\n",
       "            </tr>\n",
       "            <tr>\n",
       "                        <th id=\"T_ff725_level0_row77\" class=\"row_heading level0 row77\" >secondary_cleaner.state.floatbank4_a_level</th>\n",
       "                        <td id=\"T_ff725_row77_col0\" class=\"data row77 col0\" >0.000000</td>\n",
       "            </tr>\n",
       "            <tr>\n",
       "                        <th id=\"T_ff725_level0_row78\" class=\"row_heading level0 row78\" >secondary_cleaner.state.floatbank4_b_air</th>\n",
       "                        <td id=\"T_ff725_row78_col0\" class=\"data row78 col0\" >0.000000</td>\n",
       "            </tr>\n",
       "            <tr>\n",
       "                        <th id=\"T_ff725_level0_row79\" class=\"row_heading level0 row79\" >secondary_cleaner.state.floatbank4_b_level</th>\n",
       "                        <td id=\"T_ff725_row79_col0\" class=\"data row79 col0\" >0.000000</td>\n",
       "            </tr>\n",
       "            <tr>\n",
       "                        <th id=\"T_ff725_level0_row80\" class=\"row_heading level0 row80\" >secondary_cleaner.state.floatbank5_a_air</th>\n",
       "                        <td id=\"T_ff725_row80_col0\" class=\"data row80 col0\" >0.000000</td>\n",
       "            </tr>\n",
       "            <tr>\n",
       "                        <th id=\"T_ff725_level0_row81\" class=\"row_heading level0 row81\" >secondary_cleaner.state.floatbank5_a_level</th>\n",
       "                        <td id=\"T_ff725_row81_col0\" class=\"data row81 col0\" >0.000000</td>\n",
       "            </tr>\n",
       "            <tr>\n",
       "                        <th id=\"T_ff725_level0_row82\" class=\"row_heading level0 row82\" >secondary_cleaner.state.floatbank5_b_air</th>\n",
       "                        <td id=\"T_ff725_row82_col0\" class=\"data row82 col0\" >0.000000</td>\n",
       "            </tr>\n",
       "            <tr>\n",
       "                        <th id=\"T_ff725_level0_row83\" class=\"row_heading level0 row83\" >secondary_cleaner.state.floatbank5_b_level</th>\n",
       "                        <td id=\"T_ff725_row83_col0\" class=\"data row83 col0\" >0.000000</td>\n",
       "            </tr>\n",
       "            <tr>\n",
       "                        <th id=\"T_ff725_level0_row84\" class=\"row_heading level0 row84\" >secondary_cleaner.state.floatbank6_a_air</th>\n",
       "                        <td id=\"T_ff725_row84_col0\" class=\"data row84 col0\" >0.000000</td>\n",
       "            </tr>\n",
       "            <tr>\n",
       "                        <th id=\"T_ff725_level0_row85\" class=\"row_heading level0 row85\" >secondary_cleaner.state.floatbank6_a_level</th>\n",
       "                        <td id=\"T_ff725_row85_col0\" class=\"data row85 col0\" >0.000000</td>\n",
       "            </tr>\n",
       "    </tbody></table>"
      ],
      "text/plain": [
       "<pandas.io.formats.style.Styler at 0x7fc18a364bb0>"
      ]
     },
     "execution_count": 15,
     "metadata": {},
     "output_type": "execute_result"
    }
   ],
   "source": [
    "data_isna(data_train)"
   ]
  },
  {
   "cell_type": "code",
   "execution_count": 16,
   "metadata": {},
   "outputs": [
    {
     "data": {
      "text/plain": [
       "(14149, 86)"
      ]
     },
     "execution_count": 16,
     "metadata": {},
     "output_type": "execute_result"
    }
   ],
   "source": [
    "data_train.shape"
   ]
  },
  {
   "cell_type": "markdown",
   "metadata": {},
   "source": [
    "Пропуски заполню соседними данными, так как по нашим данным `Соседние по времени параметры часто похожи.`"
   ]
  },
  {
   "cell_type": "code",
   "execution_count": 17,
   "metadata": {},
   "outputs": [],
   "source": [
    "data_train = data_train.fillna(method='ffill')"
   ]
  },
  {
   "cell_type": "code",
   "execution_count": 18,
   "metadata": {
    "scrolled": true
   },
   "outputs": [
    {
     "name": "stdout",
     "output_type": "stream",
     "text": [
      "Осталось пропусков: 0\n"
     ]
    }
   ],
   "source": [
    "print(\"Осталось пропусков:\", data_train.isna().sum().sum())"
   ]
  },
  {
   "cell_type": "code",
   "execution_count": 19,
   "metadata": {
    "scrolled": true
   },
   "outputs": [
    {
     "data": {
      "text/html": [
       "<style  type=\"text/css\" >\n",
       "#T_f22ab_row0_col0,#T_f22ab_row1_col0,#T_f22ab_row2_col0,#T_f22ab_row3_col0,#T_f22ab_row4_col0,#T_f22ab_row5_col0,#T_f22ab_row6_col0,#T_f22ab_row7_col0,#T_f22ab_row8_col0,#T_f22ab_row9_col0,#T_f22ab_row10_col0,#T_f22ab_row11_col0,#T_f22ab_row12_col0,#T_f22ab_row13_col0,#T_f22ab_row14_col0,#T_f22ab_row15_col0,#T_f22ab_row16_col0,#T_f22ab_row17_col0,#T_f22ab_row18_col0,#T_f22ab_row19_col0,#T_f22ab_row20_col0,#T_f22ab_row21_col0,#T_f22ab_row22_col0,#T_f22ab_row23_col0,#T_f22ab_row24_col0,#T_f22ab_row25_col0,#T_f22ab_row26_col0,#T_f22ab_row27_col0,#T_f22ab_row28_col0,#T_f22ab_row29_col0,#T_f22ab_row30_col0,#T_f22ab_row31_col0,#T_f22ab_row32_col0,#T_f22ab_row33_col0,#T_f22ab_row34_col0,#T_f22ab_row35_col0,#T_f22ab_row36_col0,#T_f22ab_row37_col0,#T_f22ab_row38_col0,#T_f22ab_row39_col0,#T_f22ab_row40_col0,#T_f22ab_row41_col0,#T_f22ab_row42_col0,#T_f22ab_row43_col0,#T_f22ab_row44_col0,#T_f22ab_row45_col0,#T_f22ab_row46_col0,#T_f22ab_row47_col0,#T_f22ab_row48_col0,#T_f22ab_row49_col0,#T_f22ab_row50_col0,#T_f22ab_row51_col0{\n",
       "            background-color:  #3b4cc0;\n",
       "            color:  #f1f1f1;\n",
       "        }</style><table id=\"T_f22ab_\" ><thead>    <tr>        <th class=\"blank level0\" ></th>        <th class=\"col_heading level0 col0\" >0</th>    </tr></thead><tbody>\n",
       "                <tr>\n",
       "                        <th id=\"T_f22ab_level0_row0\" class=\"row_heading level0 row0\" >primary_cleaner.input.sulfate</th>\n",
       "                        <td id=\"T_f22ab_row0_col0\" class=\"data row0 col0\" >0.000000</td>\n",
       "            </tr>\n",
       "            <tr>\n",
       "                        <th id=\"T_f22ab_level0_row1\" class=\"row_heading level0 row1\" >primary_cleaner.input.depressant</th>\n",
       "                        <td id=\"T_f22ab_row1_col0\" class=\"data row1 col0\" >0.000000</td>\n",
       "            </tr>\n",
       "            <tr>\n",
       "                        <th id=\"T_f22ab_level0_row2\" class=\"row_heading level0 row2\" >primary_cleaner.input.feed_size</th>\n",
       "                        <td id=\"T_f22ab_row2_col0\" class=\"data row2 col0\" >0.000000</td>\n",
       "            </tr>\n",
       "            <tr>\n",
       "                        <th id=\"T_f22ab_level0_row3\" class=\"row_heading level0 row3\" >primary_cleaner.input.xanthate</th>\n",
       "                        <td id=\"T_f22ab_row3_col0\" class=\"data row3 col0\" >0.000000</td>\n",
       "            </tr>\n",
       "            <tr>\n",
       "                        <th id=\"T_f22ab_level0_row4\" class=\"row_heading level0 row4\" >primary_cleaner.state.floatbank8_a_air</th>\n",
       "                        <td id=\"T_f22ab_row4_col0\" class=\"data row4 col0\" >0.000000</td>\n",
       "            </tr>\n",
       "            <tr>\n",
       "                        <th id=\"T_f22ab_level0_row5\" class=\"row_heading level0 row5\" >primary_cleaner.state.floatbank8_a_level</th>\n",
       "                        <td id=\"T_f22ab_row5_col0\" class=\"data row5 col0\" >0.000000</td>\n",
       "            </tr>\n",
       "            <tr>\n",
       "                        <th id=\"T_f22ab_level0_row6\" class=\"row_heading level0 row6\" >primary_cleaner.state.floatbank8_b_air</th>\n",
       "                        <td id=\"T_f22ab_row6_col0\" class=\"data row6 col0\" >0.000000</td>\n",
       "            </tr>\n",
       "            <tr>\n",
       "                        <th id=\"T_f22ab_level0_row7\" class=\"row_heading level0 row7\" >primary_cleaner.state.floatbank8_b_level</th>\n",
       "                        <td id=\"T_f22ab_row7_col0\" class=\"data row7 col0\" >0.000000</td>\n",
       "            </tr>\n",
       "            <tr>\n",
       "                        <th id=\"T_f22ab_level0_row8\" class=\"row_heading level0 row8\" >primary_cleaner.state.floatbank8_c_air</th>\n",
       "                        <td id=\"T_f22ab_row8_col0\" class=\"data row8 col0\" >0.000000</td>\n",
       "            </tr>\n",
       "            <tr>\n",
       "                        <th id=\"T_f22ab_level0_row9\" class=\"row_heading level0 row9\" >primary_cleaner.state.floatbank8_c_level</th>\n",
       "                        <td id=\"T_f22ab_row9_col0\" class=\"data row9 col0\" >0.000000</td>\n",
       "            </tr>\n",
       "            <tr>\n",
       "                        <th id=\"T_f22ab_level0_row10\" class=\"row_heading level0 row10\" >primary_cleaner.state.floatbank8_d_air</th>\n",
       "                        <td id=\"T_f22ab_row10_col0\" class=\"data row10 col0\" >0.000000</td>\n",
       "            </tr>\n",
       "            <tr>\n",
       "                        <th id=\"T_f22ab_level0_row11\" class=\"row_heading level0 row11\" >primary_cleaner.state.floatbank8_d_level</th>\n",
       "                        <td id=\"T_f22ab_row11_col0\" class=\"data row11 col0\" >0.000000</td>\n",
       "            </tr>\n",
       "            <tr>\n",
       "                        <th id=\"T_f22ab_level0_row12\" class=\"row_heading level0 row12\" >rougher.input.feed_ag</th>\n",
       "                        <td id=\"T_f22ab_row12_col0\" class=\"data row12 col0\" >0.000000</td>\n",
       "            </tr>\n",
       "            <tr>\n",
       "                        <th id=\"T_f22ab_level0_row13\" class=\"row_heading level0 row13\" >rougher.input.feed_pb</th>\n",
       "                        <td id=\"T_f22ab_row13_col0\" class=\"data row13 col0\" >0.000000</td>\n",
       "            </tr>\n",
       "            <tr>\n",
       "                        <th id=\"T_f22ab_level0_row14\" class=\"row_heading level0 row14\" >rougher.input.feed_rate</th>\n",
       "                        <td id=\"T_f22ab_row14_col0\" class=\"data row14 col0\" >0.000000</td>\n",
       "            </tr>\n",
       "            <tr>\n",
       "                        <th id=\"T_f22ab_level0_row15\" class=\"row_heading level0 row15\" >rougher.input.feed_size</th>\n",
       "                        <td id=\"T_f22ab_row15_col0\" class=\"data row15 col0\" >0.000000</td>\n",
       "            </tr>\n",
       "            <tr>\n",
       "                        <th id=\"T_f22ab_level0_row16\" class=\"row_heading level0 row16\" >rougher.input.feed_sol</th>\n",
       "                        <td id=\"T_f22ab_row16_col0\" class=\"data row16 col0\" >0.000000</td>\n",
       "            </tr>\n",
       "            <tr>\n",
       "                        <th id=\"T_f22ab_level0_row17\" class=\"row_heading level0 row17\" >rougher.input.feed_au</th>\n",
       "                        <td id=\"T_f22ab_row17_col0\" class=\"data row17 col0\" >0.000000</td>\n",
       "            </tr>\n",
       "            <tr>\n",
       "                        <th id=\"T_f22ab_level0_row18\" class=\"row_heading level0 row18\" >rougher.input.floatbank10_sulfate</th>\n",
       "                        <td id=\"T_f22ab_row18_col0\" class=\"data row18 col0\" >0.000000</td>\n",
       "            </tr>\n",
       "            <tr>\n",
       "                        <th id=\"T_f22ab_level0_row19\" class=\"row_heading level0 row19\" >rougher.input.floatbank10_xanthate</th>\n",
       "                        <td id=\"T_f22ab_row19_col0\" class=\"data row19 col0\" >0.000000</td>\n",
       "            </tr>\n",
       "            <tr>\n",
       "                        <th id=\"T_f22ab_level0_row20\" class=\"row_heading level0 row20\" >rougher.input.floatbank11_sulfate</th>\n",
       "                        <td id=\"T_f22ab_row20_col0\" class=\"data row20 col0\" >0.000000</td>\n",
       "            </tr>\n",
       "            <tr>\n",
       "                        <th id=\"T_f22ab_level0_row21\" class=\"row_heading level0 row21\" >rougher.input.floatbank11_xanthate</th>\n",
       "                        <td id=\"T_f22ab_row21_col0\" class=\"data row21 col0\" >0.000000</td>\n",
       "            </tr>\n",
       "            <tr>\n",
       "                        <th id=\"T_f22ab_level0_row22\" class=\"row_heading level0 row22\" >rougher.state.floatbank10_a_air</th>\n",
       "                        <td id=\"T_f22ab_row22_col0\" class=\"data row22 col0\" >0.000000</td>\n",
       "            </tr>\n",
       "            <tr>\n",
       "                        <th id=\"T_f22ab_level0_row23\" class=\"row_heading level0 row23\" >rougher.state.floatbank10_a_level</th>\n",
       "                        <td id=\"T_f22ab_row23_col0\" class=\"data row23 col0\" >0.000000</td>\n",
       "            </tr>\n",
       "            <tr>\n",
       "                        <th id=\"T_f22ab_level0_row24\" class=\"row_heading level0 row24\" >rougher.state.floatbank10_b_air</th>\n",
       "                        <td id=\"T_f22ab_row24_col0\" class=\"data row24 col0\" >0.000000</td>\n",
       "            </tr>\n",
       "            <tr>\n",
       "                        <th id=\"T_f22ab_level0_row25\" class=\"row_heading level0 row25\" >rougher.state.floatbank10_b_level</th>\n",
       "                        <td id=\"T_f22ab_row25_col0\" class=\"data row25 col0\" >0.000000</td>\n",
       "            </tr>\n",
       "            <tr>\n",
       "                        <th id=\"T_f22ab_level0_row26\" class=\"row_heading level0 row26\" >rougher.state.floatbank10_c_air</th>\n",
       "                        <td id=\"T_f22ab_row26_col0\" class=\"data row26 col0\" >0.000000</td>\n",
       "            </tr>\n",
       "            <tr>\n",
       "                        <th id=\"T_f22ab_level0_row27\" class=\"row_heading level0 row27\" >rougher.state.floatbank10_c_level</th>\n",
       "                        <td id=\"T_f22ab_row27_col0\" class=\"data row27 col0\" >0.000000</td>\n",
       "            </tr>\n",
       "            <tr>\n",
       "                        <th id=\"T_f22ab_level0_row28\" class=\"row_heading level0 row28\" >rougher.state.floatbank10_d_air</th>\n",
       "                        <td id=\"T_f22ab_row28_col0\" class=\"data row28 col0\" >0.000000</td>\n",
       "            </tr>\n",
       "            <tr>\n",
       "                        <th id=\"T_f22ab_level0_row29\" class=\"row_heading level0 row29\" >rougher.state.floatbank10_d_level</th>\n",
       "                        <td id=\"T_f22ab_row29_col0\" class=\"data row29 col0\" >0.000000</td>\n",
       "            </tr>\n",
       "            <tr>\n",
       "                        <th id=\"T_f22ab_level0_row30\" class=\"row_heading level0 row30\" >rougher.state.floatbank10_e_air</th>\n",
       "                        <td id=\"T_f22ab_row30_col0\" class=\"data row30 col0\" >0.000000</td>\n",
       "            </tr>\n",
       "            <tr>\n",
       "                        <th id=\"T_f22ab_level0_row31\" class=\"row_heading level0 row31\" >rougher.state.floatbank10_e_level</th>\n",
       "                        <td id=\"T_f22ab_row31_col0\" class=\"data row31 col0\" >0.000000</td>\n",
       "            </tr>\n",
       "            <tr>\n",
       "                        <th id=\"T_f22ab_level0_row32\" class=\"row_heading level0 row32\" >rougher.state.floatbank10_f_air</th>\n",
       "                        <td id=\"T_f22ab_row32_col0\" class=\"data row32 col0\" >0.000000</td>\n",
       "            </tr>\n",
       "            <tr>\n",
       "                        <th id=\"T_f22ab_level0_row33\" class=\"row_heading level0 row33\" >rougher.state.floatbank10_f_level</th>\n",
       "                        <td id=\"T_f22ab_row33_col0\" class=\"data row33 col0\" >0.000000</td>\n",
       "            </tr>\n",
       "            <tr>\n",
       "                        <th id=\"T_f22ab_level0_row34\" class=\"row_heading level0 row34\" >secondary_cleaner.state.floatbank2_a_air</th>\n",
       "                        <td id=\"T_f22ab_row34_col0\" class=\"data row34 col0\" >0.000000</td>\n",
       "            </tr>\n",
       "            <tr>\n",
       "                        <th id=\"T_f22ab_level0_row35\" class=\"row_heading level0 row35\" >secondary_cleaner.state.floatbank2_a_level</th>\n",
       "                        <td id=\"T_f22ab_row35_col0\" class=\"data row35 col0\" >0.000000</td>\n",
       "            </tr>\n",
       "            <tr>\n",
       "                        <th id=\"T_f22ab_level0_row36\" class=\"row_heading level0 row36\" >secondary_cleaner.state.floatbank2_b_air</th>\n",
       "                        <td id=\"T_f22ab_row36_col0\" class=\"data row36 col0\" >0.000000</td>\n",
       "            </tr>\n",
       "            <tr>\n",
       "                        <th id=\"T_f22ab_level0_row37\" class=\"row_heading level0 row37\" >secondary_cleaner.state.floatbank2_b_level</th>\n",
       "                        <td id=\"T_f22ab_row37_col0\" class=\"data row37 col0\" >0.000000</td>\n",
       "            </tr>\n",
       "            <tr>\n",
       "                        <th id=\"T_f22ab_level0_row38\" class=\"row_heading level0 row38\" >secondary_cleaner.state.floatbank3_a_air</th>\n",
       "                        <td id=\"T_f22ab_row38_col0\" class=\"data row38 col0\" >0.000000</td>\n",
       "            </tr>\n",
       "            <tr>\n",
       "                        <th id=\"T_f22ab_level0_row39\" class=\"row_heading level0 row39\" >secondary_cleaner.state.floatbank3_a_level</th>\n",
       "                        <td id=\"T_f22ab_row39_col0\" class=\"data row39 col0\" >0.000000</td>\n",
       "            </tr>\n",
       "            <tr>\n",
       "                        <th id=\"T_f22ab_level0_row40\" class=\"row_heading level0 row40\" >secondary_cleaner.state.floatbank3_b_air</th>\n",
       "                        <td id=\"T_f22ab_row40_col0\" class=\"data row40 col0\" >0.000000</td>\n",
       "            </tr>\n",
       "            <tr>\n",
       "                        <th id=\"T_f22ab_level0_row41\" class=\"row_heading level0 row41\" >secondary_cleaner.state.floatbank3_b_level</th>\n",
       "                        <td id=\"T_f22ab_row41_col0\" class=\"data row41 col0\" >0.000000</td>\n",
       "            </tr>\n",
       "            <tr>\n",
       "                        <th id=\"T_f22ab_level0_row42\" class=\"row_heading level0 row42\" >secondary_cleaner.state.floatbank4_a_air</th>\n",
       "                        <td id=\"T_f22ab_row42_col0\" class=\"data row42 col0\" >0.000000</td>\n",
       "            </tr>\n",
       "            <tr>\n",
       "                        <th id=\"T_f22ab_level0_row43\" class=\"row_heading level0 row43\" >secondary_cleaner.state.floatbank4_a_level</th>\n",
       "                        <td id=\"T_f22ab_row43_col0\" class=\"data row43 col0\" >0.000000</td>\n",
       "            </tr>\n",
       "            <tr>\n",
       "                        <th id=\"T_f22ab_level0_row44\" class=\"row_heading level0 row44\" >secondary_cleaner.state.floatbank4_b_air</th>\n",
       "                        <td id=\"T_f22ab_row44_col0\" class=\"data row44 col0\" >0.000000</td>\n",
       "            </tr>\n",
       "            <tr>\n",
       "                        <th id=\"T_f22ab_level0_row45\" class=\"row_heading level0 row45\" >secondary_cleaner.state.floatbank4_b_level</th>\n",
       "                        <td id=\"T_f22ab_row45_col0\" class=\"data row45 col0\" >0.000000</td>\n",
       "            </tr>\n",
       "            <tr>\n",
       "                        <th id=\"T_f22ab_level0_row46\" class=\"row_heading level0 row46\" >secondary_cleaner.state.floatbank5_a_air</th>\n",
       "                        <td id=\"T_f22ab_row46_col0\" class=\"data row46 col0\" >0.000000</td>\n",
       "            </tr>\n",
       "            <tr>\n",
       "                        <th id=\"T_f22ab_level0_row47\" class=\"row_heading level0 row47\" >secondary_cleaner.state.floatbank5_a_level</th>\n",
       "                        <td id=\"T_f22ab_row47_col0\" class=\"data row47 col0\" >0.000000</td>\n",
       "            </tr>\n",
       "            <tr>\n",
       "                        <th id=\"T_f22ab_level0_row48\" class=\"row_heading level0 row48\" >secondary_cleaner.state.floatbank5_b_air</th>\n",
       "                        <td id=\"T_f22ab_row48_col0\" class=\"data row48 col0\" >0.000000</td>\n",
       "            </tr>\n",
       "            <tr>\n",
       "                        <th id=\"T_f22ab_level0_row49\" class=\"row_heading level0 row49\" >secondary_cleaner.state.floatbank5_b_level</th>\n",
       "                        <td id=\"T_f22ab_row49_col0\" class=\"data row49 col0\" >0.000000</td>\n",
       "            </tr>\n",
       "            <tr>\n",
       "                        <th id=\"T_f22ab_level0_row50\" class=\"row_heading level0 row50\" >secondary_cleaner.state.floatbank6_a_air</th>\n",
       "                        <td id=\"T_f22ab_row50_col0\" class=\"data row50 col0\" >0.000000</td>\n",
       "            </tr>\n",
       "            <tr>\n",
       "                        <th id=\"T_f22ab_level0_row51\" class=\"row_heading level0 row51\" >secondary_cleaner.state.floatbank6_a_level</th>\n",
       "                        <td id=\"T_f22ab_row51_col0\" class=\"data row51 col0\" >0.000000</td>\n",
       "            </tr>\n",
       "    </tbody></table>"
      ],
      "text/plain": [
       "<pandas.io.formats.style.Styler at 0x7fc18a3bfa30>"
      ]
     },
     "execution_count": 19,
     "metadata": {},
     "output_type": "execute_result"
    }
   ],
   "source": [
    "data_isna(data_test)"
   ]
  },
  {
   "cell_type": "code",
   "execution_count": 20,
   "metadata": {},
   "outputs": [],
   "source": [
    "data_test = data_test.fillna(method='ffill')"
   ]
  },
  {
   "cell_type": "code",
   "execution_count": 21,
   "metadata": {},
   "outputs": [
    {
     "data": {
      "text/plain": [
       "(5290, 52)"
      ]
     },
     "execution_count": 21,
     "metadata": {},
     "output_type": "execute_result"
    }
   ],
   "source": [
    "data_test.shape"
   ]
  },
  {
   "cell_type": "markdown",
   "metadata": {},
   "source": [
    "Добавим в тестовую выборку столбцы с целевыми признаками, выбрав данные из полных данных, с индексом по `data`"
   ]
  },
  {
   "cell_type": "code",
   "execution_count": 22,
   "metadata": {},
   "outputs": [
    {
     "name": "stdout",
     "output_type": "stream",
     "text": [
      "(5290, 52)\n",
      "(5290, 54)\n"
     ]
    }
   ],
   "source": [
    "print(data_test.shape)\n",
    "data_test = data_test.merge(data_full[['final.output.recovery', 'rougher.output.recovery']].loc[data_test.index], on='date', how='left')\n",
    "print(data_test.shape)"
   ]
  },
  {
   "cell_type": "markdown",
   "metadata": {},
   "source": [
    "Данные подготовлены к работе. В тестовую выборку добавлены столбцы с ключевыми признаками.\n",
    "Из всех выборок убрал пропуски"
   ]
  },
  {
   "cell_type": "markdown",
   "metadata": {},
   "source": [
    "## Анализ данных"
   ]
  },
  {
   "cell_type": "markdown",
   "metadata": {},
   "source": [
    "### Концентрация металлво на разных стадиях очистки"
   ]
  },
  {
   "cell_type": "code",
   "execution_count": 23,
   "metadata": {},
   "outputs": [],
   "source": [
    "# сформирую константные переменные, для более удобного обращения к столбцам\n",
    "METAL_CONCENTRATE = [\n",
    "    'rougher.input.feed',\n",
    "    'rougher.output.concentrate',\n",
    "    'primary_cleaner.output.concentrate',\n",
    "    'final.output.concentrate',\n",
    "]\n",
    "METALS = ['au', 'ag', 'pb']"
   ]
  },
  {
   "cell_type": "markdown",
   "metadata": {},
   "source": [
    "Создам таблицу для лучшего восприятия,со средними значениями по металлам и построю к ней график"
   ]
  },
  {
   "cell_type": "code",
   "execution_count": 24,
   "metadata": {},
   "outputs": [
    {
     "data": {
      "text/html": [
       "<div>\n",
       "<style scoped>\n",
       "    .dataframe tbody tr th:only-of-type {\n",
       "        vertical-align: middle;\n",
       "    }\n",
       "\n",
       "    .dataframe tbody tr th {\n",
       "        vertical-align: top;\n",
       "    }\n",
       "\n",
       "    .dataframe thead th {\n",
       "        text-align: right;\n",
       "    }\n",
       "</style>\n",
       "<table border=\"1\" class=\"dataframe\">\n",
       "  <thead>\n",
       "    <tr style=\"text-align: right;\">\n",
       "      <th></th>\n",
       "      <th>rougher.input.feed</th>\n",
       "      <th>rougher.output.concentrate</th>\n",
       "      <th>primary_cleaner.output.concentrate</th>\n",
       "      <th>final.output.concentrate</th>\n",
       "    </tr>\n",
       "  </thead>\n",
       "  <tbody>\n",
       "    <tr>\n",
       "      <th>au</th>\n",
       "      <td>8.266097</td>\n",
       "      <td>19.772</td>\n",
       "      <td>32.1194</td>\n",
       "      <td>44.076513</td>\n",
       "    </tr>\n",
       "    <tr>\n",
       "      <th>ag</th>\n",
       "      <td>8.794927</td>\n",
       "      <td>11.994759</td>\n",
       "      <td>8.442408</td>\n",
       "      <td>5.16847</td>\n",
       "    </tr>\n",
       "    <tr>\n",
       "      <th>pb</th>\n",
       "      <td>3.598085</td>\n",
       "      <td>7.606272</td>\n",
       "      <td>9.82953</td>\n",
       "      <td>9.978895</td>\n",
       "    </tr>\n",
       "  </tbody>\n",
       "</table>\n",
       "</div>"
      ],
      "text/plain": [
       "   rougher.input.feed rougher.output.concentrate  \\\n",
       "au           8.266097                     19.772   \n",
       "ag           8.794927                  11.994759   \n",
       "pb           3.598085                   7.606272   \n",
       "\n",
       "   primary_cleaner.output.concentrate final.output.concentrate  \n",
       "au                            32.1194                44.076513  \n",
       "ag                           8.442408                  5.16847  \n",
       "pb                            9.82953                 9.978895  "
      ]
     },
     "metadata": {},
     "output_type": "display_data"
    }
   ],
   "source": [
    "metals_concentrate = pd.DataFrame(columns=METAL_CONCENTRATE)\n",
    "\n",
    "for metal in METALS: \n",
    " \n",
    "    for metric in METAL_CONCENTRATE:\n",
    "        metals_concentrate.loc[metal, metric] = data_full['{}_{}'.format(metric, metal)].mean()\n",
    "\n",
    "\n",
    "display(metals_concentrate)"
   ]
  },
  {
   "cell_type": "code",
   "execution_count": 25,
   "metadata": {},
   "outputs": [
    {
     "data": {
      "image/png": "[encoded data removed]",
      "text/plain": [
       "<Figure size 792x360 with 1 Axes>"
      ]
     },
     "metadata": {
      "needs_background": "light"
     },
     "output_type": "display_data"
    }
   ],
   "source": [
    "for metal in METALS:\n",
    "    metals_concentrate.loc[metal].plot(\n",
    "        title='Изменение концентрации на разных этапах очистки', \n",
    "        grid=True, \n",
    "        legend=True, \n",
    "        figsize=(11, 5)\n",
    "    ).set(xlabel='stage', ylabel = 'concentrate')\n",
    "plt.show()"
   ]
  },
  {
   "cell_type": "markdown",
   "metadata": {},
   "source": [
    "На всех этапах очистки концентрация Золота постоянно растет в среднем 8,26 в начале, достигая максимума на финале очистки - 44,07\n",
    "<br>Концентрация серебра увеличивается после Флотации и в дальнейшем медленно снижается на каждом этапе очистки с 8,79 до 5,1\n",
    "<br>Содержание свинца медленно растет с 3,5 на старте очистки до 9,97 в конце очистки"
   ]
  },
  {
   "cell_type": "code",
   "execution_count": 26,
   "metadata": {},
   "outputs": [
    {
     "data": {
      "image/png": "[encoded data removed]",
      "text/plain": [
       "<Figure size 1800x360 with 1 Axes>"
      ]
     },
     "metadata": {
      "needs_background": "light"
     },
     "output_type": "display_data"
    },
    {
     "data": {
      "image/png": "[encoded data removed]",
      "text/plain": [
       "<Figure size 1800x360 with 1 Axes>"
      ]
     },
     "metadata": {
      "needs_background": "light"
     },
     "output_type": "display_data"
    },
    {
     "data": {
      "image/png": "[encoded data removed]",
      "text/plain": [
       "<Figure size 1800x360 with 1 Axes>"
      ]
     },
     "metadata": {
      "needs_background": "light"
     },
     "output_type": "display_data"
    }
   ],
   "source": [
    "for metal in METALS:\n",
    "    metrics = ['{}_{}'.format(x, metal) for x in METAL_CONCENTRATE]\n",
    "\n",
    "    data_full[metrics].plot(\n",
    "        title = 'концентрации {} на всех этапах'.format(metal.upper()),\n",
    "        kind='hist', \n",
    "        bins=200, \n",
    "        grid=True, \n",
    "        legend=True,\n",
    "        figsize=(25, 5),\n",
    "        alpha=0.5,\n",
    "    ).set(xlabel='concentrate') \n",
    "    \n",
    "    plt.show()"
   ]
  },
  {
   "cell_type": "markdown",
   "metadata": {},
   "source": [
    "### Распределение размера гранул сырья"
   ]
  },
  {
   "cell_type": "code",
   "execution_count": 27,
   "metadata": {},
   "outputs": [
    {
     "data": {
      "image/png": "[encoded data removed]",
      "text/plain": [
       "<Figure size 792x360 with 1 Axes>"
      ]
     },
     "metadata": {
      "needs_background": "light"
     },
     "output_type": "display_data"
    },
    {
     "data": {
      "image/png": "[encoded data removed]",
      "text/plain": [
       "<Figure size 792x360 with 1 Axes>"
      ]
     },
     "metadata": {
      "needs_background": "light"
     },
     "output_type": "display_data"
    }
   ],
   "source": [
    "for metric in ('rougher.input.feed_size', 'primary_cleaner.input.feed_size'):\n",
    "    for label, df in (('train', data_train), ('test', data_test)): \n",
    "        df[metric].plot(\n",
    "                title = '{}'.format(metric),\n",
    "                kind='hist', \n",
    "                bins=100, \n",
    "                grid=True, \n",
    "                legend=True,\n",
    "                figsize=(11, 5),\n",
    "                alpha=0.5,\n",
    "                label=label,\n",
    "            ).set(xlabel='распределение')\n",
    "  \n",
    "    plt.show()"
   ]
  },
  {
   "cell_type": "markdown",
   "metadata": {},
   "source": [
    "Графтки размеров гранул обучающей и тестовой выбрки схожи(график тестовоф выборки меньше, так как данных в нем меньше), значит оценка модели будет правильной"
   ]
  },
  {
   "cell_type": "markdown",
   "metadata": {},
   "source": [
    "### Концентрация всех веществ на разных стадиях"
   ]
  },
  {
   "cell_type": "code",
   "execution_count": 28,
   "metadata": {
    "scrolled": true
   },
   "outputs": [
    {
     "data": {
      "text/html": [
       "<div>\n",
       "<style scoped>\n",
       "    .dataframe tbody tr th:only-of-type {\n",
       "        vertical-align: middle;\n",
       "    }\n",
       "\n",
       "    .dataframe tbody tr th {\n",
       "        vertical-align: top;\n",
       "    }\n",
       "\n",
       "    .dataframe thead th {\n",
       "        text-align: right;\n",
       "    }\n",
       "</style>\n",
       "<table border=\"1\" class=\"dataframe\">\n",
       "  <thead>\n",
       "    <tr style=\"text-align: right;\">\n",
       "      <th></th>\n",
       "      <th>rougher.input.feed</th>\n",
       "      <th>rougher.output.concentrate</th>\n",
       "      <th>primary_cleaner.output.concentrate</th>\n",
       "      <th>final.output.concentrate</th>\n",
       "    </tr>\n",
       "    <tr>\n",
       "      <th>date</th>\n",
       "      <th></th>\n",
       "      <th></th>\n",
       "      <th></th>\n",
       "      <th></th>\n",
       "    </tr>\n",
       "  </thead>\n",
       "  <tbody>\n",
       "    <tr>\n",
       "      <th>2016-01-15 00:00:00</th>\n",
       "      <td>51.680034</td>\n",
       "      <td>66.424950</td>\n",
       "      <td>72.640924</td>\n",
       "      <td>63.644396</td>\n",
       "    </tr>\n",
       "    <tr>\n",
       "      <th>2016-01-15 01:00:00</th>\n",
       "      <td>50.659114</td>\n",
       "      <td>67.012710</td>\n",
       "      <td>72.543485</td>\n",
       "      <td>63.957723</td>\n",
       "    </tr>\n",
       "    <tr>\n",
       "      <th>2016-01-15 02:00:00</th>\n",
       "      <td>50.609929</td>\n",
       "      <td>66.103793</td>\n",
       "      <td>72.095042</td>\n",
       "      <td>64.311180</td>\n",
       "    </tr>\n",
       "    <tr>\n",
       "      <th>2016-01-15 03:00:00</th>\n",
       "      <td>51.061546</td>\n",
       "      <td>65.752751</td>\n",
       "      <td>59.957723</td>\n",
       "      <td>63.573449</td>\n",
       "    </tr>\n",
       "    <tr>\n",
       "      <th>2016-01-15 04:00:00</th>\n",
       "      <td>47.859163</td>\n",
       "      <td>65.908382</td>\n",
       "      <td>71.321010</td>\n",
       "      <td>64.004667</td>\n",
       "    </tr>\n",
       "    <tr>\n",
       "      <th>...</th>\n",
       "      <td>...</td>\n",
       "      <td>...</td>\n",
       "      <td>...</td>\n",
       "      <td>...</td>\n",
       "    </tr>\n",
       "    <tr>\n",
       "      <th>2018-08-18 06:59:59</th>\n",
       "      <td>53.415050</td>\n",
       "      <td>70.781325</td>\n",
       "      <td>59.001692</td>\n",
       "      <td>68.098589</td>\n",
       "    </tr>\n",
       "    <tr>\n",
       "      <th>2018-08-18 07:59:59</th>\n",
       "      <td>53.696482</td>\n",
       "      <td>70.539603</td>\n",
       "      <td>59.703912</td>\n",
       "      <td>68.274362</td>\n",
       "    </tr>\n",
       "    <tr>\n",
       "      <th>2018-08-18 08:59:59</th>\n",
       "      <td>54.589604</td>\n",
       "      <td>55.376330</td>\n",
       "      <td>59.561096</td>\n",
       "      <td>68.226068</td>\n",
       "    </tr>\n",
       "    <tr>\n",
       "      <th>2018-08-18 09:59:59</th>\n",
       "      <td>54.027355</td>\n",
       "      <td>69.201689</td>\n",
       "      <td>57.216686</td>\n",
       "      <td>68.200449</td>\n",
       "    </tr>\n",
       "    <tr>\n",
       "      <th>2018-08-18 10:59:59</th>\n",
       "      <td>53.535054</td>\n",
       "      <td>69.544003</td>\n",
       "      <td>55.748041</td>\n",
       "      <td>68.353154</td>\n",
       "    </tr>\n",
       "  </tbody>\n",
       "</table>\n",
       "<p>14149 rows × 4 columns</p>\n",
       "</div>"
      ],
      "text/plain": [
       "                     rougher.input.feed  rougher.output.concentrate  \\\n",
       "date                                                                  \n",
       "2016-01-15 00:00:00           51.680034                   66.424950   \n",
       "2016-01-15 01:00:00           50.659114                   67.012710   \n",
       "2016-01-15 02:00:00           50.609929                   66.103793   \n",
       "2016-01-15 03:00:00           51.061546                   65.752751   \n",
       "2016-01-15 04:00:00           47.859163                   65.908382   \n",
       "...                                 ...                         ...   \n",
       "2018-08-18 06:59:59           53.415050                   70.781325   \n",
       "2018-08-18 07:59:59           53.696482                   70.539603   \n",
       "2018-08-18 08:59:59           54.589604                   55.376330   \n",
       "2018-08-18 09:59:59           54.027355                   69.201689   \n",
       "2018-08-18 10:59:59           53.535054                   69.544003   \n",
       "\n",
       "                     primary_cleaner.output.concentrate  \\\n",
       "date                                                      \n",
       "2016-01-15 00:00:00                           72.640924   \n",
       "2016-01-15 01:00:00                           72.543485   \n",
       "2016-01-15 02:00:00                           72.095042   \n",
       "2016-01-15 03:00:00                           59.957723   \n",
       "2016-01-15 04:00:00                           71.321010   \n",
       "...                                                 ...   \n",
       "2018-08-18 06:59:59                           59.001692   \n",
       "2018-08-18 07:59:59                           59.703912   \n",
       "2018-08-18 08:59:59                           59.561096   \n",
       "2018-08-18 09:59:59                           57.216686   \n",
       "2018-08-18 10:59:59                           55.748041   \n",
       "\n",
       "                     final.output.concentrate  \n",
       "date                                           \n",
       "2016-01-15 00:00:00                 63.644396  \n",
       "2016-01-15 01:00:00                 63.957723  \n",
       "2016-01-15 02:00:00                 64.311180  \n",
       "2016-01-15 03:00:00                 63.573449  \n",
       "2016-01-15 04:00:00                 64.004667  \n",
       "...                                       ...  \n",
       "2018-08-18 06:59:59                 68.098589  \n",
       "2018-08-18 07:59:59                 68.274362  \n",
       "2018-08-18 08:59:59                 68.226068  \n",
       "2018-08-18 09:59:59                 68.200449  \n",
       "2018-08-18 10:59:59                 68.353154  \n",
       "\n",
       "[14149 rows x 4 columns]"
      ]
     },
     "execution_count": 28,
     "metadata": {},
     "output_type": "execute_result"
    }
   ],
   "source": [
    "for metric in METAL_CONCENTRATE:\n",
    "    data_train[metric] = 0\n",
    "    for metal in METALS + ['sol']:\n",
    "        data_train[metric] += data_train['{}_{}'.format(metric, metal)]\n",
    "    \n",
    "data_train[METAL_CONCENTRATE]"
   ]
  },
  {
   "cell_type": "code",
   "execution_count": 29,
   "metadata": {
    "scrolled": true
   },
   "outputs": [
    {
     "data": {
      "text/html": [
       "<div>\n",
       "<style scoped>\n",
       "    .dataframe tbody tr th:only-of-type {\n",
       "        vertical-align: middle;\n",
       "    }\n",
       "\n",
       "    .dataframe tbody tr th {\n",
       "        vertical-align: top;\n",
       "    }\n",
       "\n",
       "    .dataframe thead th {\n",
       "        text-align: right;\n",
       "    }\n",
       "</style>\n",
       "<table border=\"1\" class=\"dataframe\">\n",
       "  <thead>\n",
       "    <tr style=\"text-align: right;\">\n",
       "      <th></th>\n",
       "      <th>rougher.input.feed</th>\n",
       "      <th>rougher.output.concentrate</th>\n",
       "      <th>primary_cleaner.output.concentrate</th>\n",
       "      <th>final.output.concentrate</th>\n",
       "    </tr>\n",
       "  </thead>\n",
       "  <tbody>\n",
       "    <tr>\n",
       "      <th>count</th>\n",
       "      <td>14149.000000</td>\n",
       "      <td>14149.000000</td>\n",
       "      <td>14149.000000</td>\n",
       "      <td>14149.000000</td>\n",
       "    </tr>\n",
       "    <tr>\n",
       "      <th>mean</th>\n",
       "      <td>56.242170</td>\n",
       "      <td>67.173145</td>\n",
       "      <td>60.172546</td>\n",
       "      <td>68.387872</td>\n",
       "    </tr>\n",
       "    <tr>\n",
       "      <th>std</th>\n",
       "      <td>7.029808</td>\n",
       "      <td>12.713129</td>\n",
       "      <td>10.448165</td>\n",
       "      <td>7.023723</td>\n",
       "    </tr>\n",
       "    <tr>\n",
       "      <th>min</th>\n",
       "      <td>0.040000</td>\n",
       "      <td>0.000000</td>\n",
       "      <td>0.000000</td>\n",
       "      <td>0.000000</td>\n",
       "    </tr>\n",
       "    <tr>\n",
       "      <th>25%</th>\n",
       "      <td>52.573579</td>\n",
       "      <td>64.914390</td>\n",
       "      <td>58.046816</td>\n",
       "      <td>67.559819</td>\n",
       "    </tr>\n",
       "    <tr>\n",
       "      <th>50%</th>\n",
       "      <td>56.627635</td>\n",
       "      <td>69.175663</td>\n",
       "      <td>61.786946</td>\n",
       "      <td>69.141502</td>\n",
       "    </tr>\n",
       "    <tr>\n",
       "      <th>75%</th>\n",
       "      <td>60.763234</td>\n",
       "      <td>73.429261</td>\n",
       "      <td>65.355951</td>\n",
       "      <td>70.974661</td>\n",
       "    </tr>\n",
       "    <tr>\n",
       "      <th>max</th>\n",
       "      <td>74.458253</td>\n",
       "      <td>88.140119</td>\n",
       "      <td>76.918076</td>\n",
       "      <td>80.210644</td>\n",
       "    </tr>\n",
       "  </tbody>\n",
       "</table>\n",
       "</div>"
      ],
      "text/plain": [
       "       rougher.input.feed  rougher.output.concentrate  \\\n",
       "count        14149.000000                14149.000000   \n",
       "mean            56.242170                   67.173145   \n",
       "std              7.029808                   12.713129   \n",
       "min              0.040000                    0.000000   \n",
       "25%             52.573579                   64.914390   \n",
       "50%             56.627635                   69.175663   \n",
       "75%             60.763234                   73.429261   \n",
       "max             74.458253                   88.140119   \n",
       "\n",
       "       primary_cleaner.output.concentrate  final.output.concentrate  \n",
       "count                        14149.000000              14149.000000  \n",
       "mean                            60.172546                 68.387872  \n",
       "std                             10.448165                  7.023723  \n",
       "min                              0.000000                  0.000000  \n",
       "25%                             58.046816                 67.559819  \n",
       "50%                             61.786946                 69.141502  \n",
       "75%                             65.355951                 70.974661  \n",
       "max                             76.918076                 80.210644  "
      ]
     },
     "execution_count": 29,
     "metadata": {},
     "output_type": "execute_result"
    },
    {
     "data": {
      "image/png": "[encoded data removed]",
      "text/plain": [
       "<Figure size 1440x720 with 1 Axes>"
      ]
     },
     "metadata": {
      "needs_background": "light"
     },
     "output_type": "display_data"
    }
   ],
   "source": [
    "data_train[METAL_CONCENTRATE].plot(kind='box',\n",
    "                                  figsize=(20,10),)\n",
    "data_train[METAL_CONCENTRATE].describe() "
   ]
  },
  {
   "cell_type": "markdown",
   "metadata": {},
   "source": [
    "Вижу что в данных присутствуют аномалии, с помощью формул поиска квартилей, удалю анамалии, которые не входят в диапозон нормы"
   ]
  },
  {
   "cell_type": "code",
   "execution_count": 30,
   "metadata": {},
   "outputs": [],
   "source": [
    "def outlier_treatment (col): \n",
    "    Q1, Q3 = np.percentile (col, [25,75]) \n",
    "    IQR = Q3 - Q1 \n",
    "    min_line = Q1 - (3 * IQR) \n",
    "    max_line = Q3 + (3 * IQR) \n",
    "    return min_line, max_line"
   ]
  },
  {
   "cell_type": "code",
   "execution_count": 31,
   "metadata": {},
   "outputs": [
    {
     "data": {
      "text/plain": [
       "(14149, 90)"
      ]
     },
     "execution_count": 31,
     "metadata": {},
     "output_type": "execute_result"
    }
   ],
   "source": [
    "data_train.shape"
   ]
  },
  {
   "cell_type": "code",
   "execution_count": 32,
   "metadata": {},
   "outputs": [
    {
     "name": "stdout",
     "output_type": "stream",
     "text": [
      "28.004613604444735 85.33220008800006\n",
      "39.52700514828231 98.87581159449488\n",
      "36.44659782927826 86.9796643401578\n",
      "57.349957635633444 81.21388802118082\n"
     ]
    }
   ],
   "source": [
    "for x in METAL_CONCENTRATE:\n",
    "    min_line, max_line = outlier_treatment(data_train[x])\n",
    "    print(min_line, max_line)\n",
    "    data_train = data_train.drop(data_train[(data_train[x] > max_line) | (data_train[x] < min_line)].index)"
   ]
  },
  {
   "cell_type": "code",
   "execution_count": 33,
   "metadata": {},
   "outputs": [
    {
     "data": {
      "text/plain": [
       "(13028, 90)"
      ]
     },
     "execution_count": 33,
     "metadata": {},
     "output_type": "execute_result"
    }
   ],
   "source": [
    "data_train.shape"
   ]
  },
  {
   "cell_type": "markdown",
   "metadata": {},
   "source": [
    "## Модель"
   ]
  },
  {
   "cell_type": "markdown",
   "metadata": {},
   "source": [
    "Для коректной работы модели необходимо уровнять количество признаков в обучающей и тестовой выборках, для этого удалим из обучающей выборки эти признаки"
   ]
  },
  {
   "cell_type": "code",
   "execution_count": 34,
   "metadata": {},
   "outputs": [],
   "source": [
    "TARGETS = ['rougher.output.recovery', 'final.output.recovery']#выделю целевые признаки в отдельную переменную константу"
   ]
  },
  {
   "cell_type": "code",
   "execution_count": 35,
   "metadata": {},
   "outputs": [],
   "source": [
    "search_columns_2 = set.symmetric_difference(set(data_train.columns.to_list()), set(data_test.columns.to_list()))"
   ]
  },
  {
   "cell_type": "code",
   "execution_count": 36,
   "metadata": {},
   "outputs": [],
   "source": [
    "data_train = data_train.drop(search_columns_2, axis='columns')"
   ]
  },
  {
   "cell_type": "code",
   "execution_count": 37,
   "metadata": {},
   "outputs": [
    {
     "data": {
      "text/plain": [
       "(13028, 54)"
      ]
     },
     "execution_count": 37,
     "metadata": {},
     "output_type": "execute_result"
    }
   ],
   "source": [
    "data_train.shape"
   ]
  },
  {
   "cell_type": "code",
   "execution_count": 38,
   "metadata": {},
   "outputs": [
    {
     "data": {
      "text/plain": [
       "(5290, 54)"
      ]
     },
     "execution_count": 38,
     "metadata": {},
     "output_type": "execute_result"
    }
   ],
   "source": [
    "data_test.shape"
   ]
  },
  {
   "cell_type": "markdown",
   "metadata": {},
   "source": [
    "### Функция для вычисления sMAPE"
   ]
  },
  {
   "cell_type": "code",
   "execution_count": 39,
   "metadata": {},
   "outputs": [],
   "source": [
    "def calculate_smape(target_actual, target_predictions):\n",
    "    numerator = np.abs(target_actual - target_predictions)\n",
    "    denominator = (np.abs(target_actual) + np.abs(target_predictions)) / 2 \n",
    "    \n",
    "    return (1 / len(target_actual) * np.sum(numerator / denominator) * 100)\n",
    "    \n",
    "    \n",
    "def calculate_final_smape(target_actual, target_predictions):\n",
    "    target_actual_rougher = target_actual['rougher.output.recovery']\n",
    "    target_actual_final = target_actual['final.output.recovery']\n",
    "    \n",
    "    target_predictions_rougher = target_predictions[:, 0]\n",
    "    target_predictions_final = target_predictions[:, 1]\n",
    "    \n",
    "    return (0.25 * calculate_smape(target_actual_rougher, target_predictions_rougher) \\\n",
    "        + 0.75 * calculate_smape(target_actual_final, target_predictions_final))"
   ]
  },
  {
   "cell_type": "code",
   "execution_count": 40,
   "metadata": {},
   "outputs": [],
   "source": [
    "smape_scorer = make_scorer(calculate_final_smape)"
   ]
  },
  {
   "cell_type": "code",
   "execution_count": 41,
   "metadata": {},
   "outputs": [],
   "source": [
    "TARGETS = ['rougher.output.recovery', 'final.output.recovery']"
   ]
  },
  {
   "cell_type": "code",
   "execution_count": 42,
   "metadata": {},
   "outputs": [],
   "source": [
    "features_train = data_train.drop(TARGETS, axis='columns')\n",
    "target_train = data_train[TARGETS]\n",
    "features_test = data_test.drop(TARGETS, axis='columns')\n",
    "target_test = data_test[TARGETS]"
   ]
  },
  {
   "cell_type": "markdown",
   "metadata": {},
   "source": [
    "### Модель дерева "
   ]
  },
  {
   "cell_type": "code",
   "execution_count": 43,
   "metadata": {},
   "outputs": [],
   "source": [
    "best_score_tabl = []"
   ]
  },
  {
   "cell_type": "code",
   "execution_count": 44,
   "metadata": {},
   "outputs": [
    {
     "name": "stdout",
     "output_type": "stream",
     "text": [
      "Лучшее значение sMAPE для дерева решений: 9.22310201260029 при значениях гиперпараметров: {'max_depth': 2}\n"
     ]
    }
   ],
   "source": [
    "param_grid = {'max_depth': range(2, 5)}\n",
    "\n",
    "model = DecisionTreeRegressor(random_state=12345)\n",
    "search = GridSearchCV(model, param_grid, cv=5, scoring=smape_scorer)\n",
    "search.fit(features_train, target_train)\n",
    "best_score_tabl.append(search.best_score_)\n",
    "print('Лучшее значение sMAPE для дерева решений: {} при значениях гиперпараметров: {}'.format(search.best_score_, search.best_params_))"
   ]
  },
  {
   "cell_type": "markdown",
   "metadata": {},
   "source": [
    "### Модель Леса"
   ]
  },
  {
   "cell_type": "code",
   "execution_count": 45,
   "metadata": {},
   "outputs": [
    {
     "name": "stdout",
     "output_type": "stream",
     "text": [
      "Лучшее значение sMAPE для случайного леса: 8.95702392060945 при значениях гиперпараметров: {'max_depth': 2, 'n_estimators': 10}\n",
      "CPU times: user 3min 37s, sys: 264 ms, total: 3min 37s\n",
      "Wall time: 3min 37s\n"
     ]
    }
   ],
   "source": [
    "%%time\n",
    "param_grid = {'max_depth': range(2, 5),\n",
    "              'n_estimators': range(10, 51, 10)\n",
    "              }             \n",
    "\n",
    "model = RandomForestRegressor(random_state=12345)\n",
    "search = GridSearchCV(model, param_grid, cv=5, scoring=smape_scorer)\n",
    "search.fit(features_train, target_train)\n",
    "best_score_tabl.append(search.best_score_)\n",
    "print('Лучшее значение sMAPE для случайного леса: {} при значениях гиперпараметров: {}'.format(search.best_score_, search.best_params_))"
   ]
  },
  {
   "cell_type": "markdown",
   "metadata": {},
   "source": [
    "### Линейная регрессия"
   ]
  },
  {
   "cell_type": "code",
   "execution_count": 47,
   "metadata": {},
   "outputs": [
    {
     "name": "stdout",
     "output_type": "stream",
     "text": [
      "Лучшее значение sMAPE для линейной регрессии: 9.829375712476534\n"
     ]
    }
   ],
   "source": [
    "model = LinearRegression()\n",
    "model.fit(features_train, target_train)\n",
    "smape = cross_val_score(model, features_train, target_train, cv=5, scoring=smape_scorer).mean()\n",
    "best_score_tabl.append(smape)\n",
    "print('Лучшее значение sMAPE для линейной регрессии:', smape)"
   ]
  },
  {
   "cell_type": "code",
   "execution_count": 48,
   "metadata": {
    "scrolled": true
   },
   "outputs": [],
   "source": [
    "sMAPE = pd.DataFrame(data = best_score_tabl, index = ['Tree','Random_forest','Lin_Regres'], columns = ['sMAPE'])"
   ]
  },
  {
   "cell_type": "code",
   "execution_count": 49,
   "metadata": {},
   "outputs": [
    {
     "data": {
      "text/html": [
       "<div>\n",
       "<style scoped>\n",
       "    .dataframe tbody tr th:only-of-type {\n",
       "        vertical-align: middle;\n",
       "    }\n",
       "\n",
       "    .dataframe tbody tr th {\n",
       "        vertical-align: top;\n",
       "    }\n",
       "\n",
       "    .dataframe thead th {\n",
       "        text-align: right;\n",
       "    }\n",
       "</style>\n",
       "<table border=\"1\" class=\"dataframe\">\n",
       "  <thead>\n",
       "    <tr style=\"text-align: right;\">\n",
       "      <th></th>\n",
       "      <th>sMAPE</th>\n",
       "    </tr>\n",
       "  </thead>\n",
       "  <tbody>\n",
       "    <tr>\n",
       "      <th>Tree</th>\n",
       "      <td>9.223102</td>\n",
       "    </tr>\n",
       "    <tr>\n",
       "      <th>Random_forest</th>\n",
       "      <td>8.957024</td>\n",
       "    </tr>\n",
       "    <tr>\n",
       "      <th>Lin_Regres</th>\n",
       "      <td>9.829376</td>\n",
       "    </tr>\n",
       "  </tbody>\n",
       "</table>\n",
       "</div>"
      ],
      "text/plain": [
       "                  sMAPE\n",
       "Tree           9.223102\n",
       "Random_forest  8.957024\n",
       "Lin_Regres     9.829376"
      ]
     },
     "execution_count": 49,
     "metadata": {},
     "output_type": "execute_result"
    }
   ],
   "source": [
    "sMAPE"
   ]
  },
  {
   "cell_type": "markdown",
   "metadata": {},
   "source": [
    "Лучший показатель sMAPE = 8,95 у Случайного Леса, проверим вычисления на тестовой выборке"
   ]
  },
  {
   "cell_type": "code",
   "execution_count": 50,
   "metadata": {},
   "outputs": [
    {
     "name": "stdout",
     "output_type": "stream",
     "text": [
      "sMAPE для тестовых данных: 9.562698152901243\n"
     ]
    }
   ],
   "source": [
    "model = RandomForestRegressor(max_depth=2, n_estimators=10, random_state=12345) \n",
    "model.fit(features_train, target_train)\n",
    "predictions_test = model.predict(features_test)\n",
    "\n",
    "print('sMAPE для тестовых данных:', calculate_final_smape(target_test, predictions_test))"
   ]
  },
  {
   "cell_type": "markdown",
   "metadata": {},
   "source": [
    "**Вывод**\n",
    "<br>По итогу работ я исправил отсутствие признаков в тестовой выборке и удалил лишние из обучающей\n",
    "<br>Проверил работу формулы обогащения на тренировочной выборке\n",
    "<br>Увидел как на этапах очистки менялась концентрация металлов\n",
    "<br>В конце изучая модели выбрал лучшую - Случайный Лес, с параметрами:\n",
    "- глубина деревьев - max_depth=2\n",
    "- количество деревьев леса - n_estimators=10\n",
    "<br> На тестовой выборке предсказала значения целевых признаков `rougher.output.recovery` и `final.output.recovery`:\n",
    "<br> **`sMAPE = 9,56`**"
   ]
  },
  {
   "cell_type": "code",
   "execution_count": null,
   "metadata": {},
   "outputs": [],
   "source": []
  }
 ],
 "metadata": {
  "ExecuteTimeLog": [
   {
    "duration": 347,
    "start_time": "2022-10-04T07:08:18.450Z"
   },
   {
    "duration": 3,
    "start_time": "2022-10-04T07:09:08.794Z"
   },
   {
    "duration": 89,
    "start_time": "2022-10-04T07:11:09.400Z"
   },
   {
    "duration": 11,
    "start_time": "2022-10-04T07:11:27.137Z"
   },
   {
    "duration": 3017,
    "start_time": "2022-10-04T07:14:01.651Z"
   },
   {
    "duration": 3,
    "start_time": "2022-10-04T07:15:06.160Z"
   },
   {
    "duration": 226,
    "start_time": "2022-10-04T07:15:15.532Z"
   },
   {
    "duration": 2,
    "start_time": "2022-10-04T07:15:19.850Z"
   },
   {
    "duration": 243,
    "start_time": "2022-10-04T07:15:20.363Z"
   },
   {
    "duration": 9,
    "start_time": "2022-10-04T07:16:11.713Z"
   },
   {
    "duration": 216,
    "start_time": "2022-10-04T07:16:14.855Z"
   },
   {
    "duration": 123,
    "start_time": "2022-10-04T07:16:31.320Z"
   },
   {
    "duration": 3,
    "start_time": "2022-10-04T07:16:54.353Z"
   },
   {
    "duration": 29,
    "start_time": "2022-10-04T07:16:55.465Z"
   },
   {
    "duration": 24,
    "start_time": "2022-10-04T07:16:56.810Z"
   },
   {
    "duration": 39,
    "start_time": "2022-10-04T07:17:12.718Z"
   },
   {
    "duration": 10,
    "start_time": "2022-10-04T07:20:33.098Z"
   },
   {
    "duration": 378,
    "start_time": "2022-10-04T07:22:47.322Z"
   },
   {
    "duration": 3048,
    "start_time": "2022-10-04T07:22:47.702Z"
   },
   {
    "duration": 2,
    "start_time": "2022-10-04T07:22:50.752Z"
   },
   {
    "duration": 41,
    "start_time": "2022-10-04T07:22:50.756Z"
   },
   {
    "duration": 78,
    "start_time": "2022-10-04T07:22:54.400Z"
   },
   {
    "duration": 10,
    "start_time": "2022-10-04T07:23:02.810Z"
   },
   {
    "duration": 446,
    "start_time": "2022-10-04T07:23:57.519Z"
   },
   {
    "duration": 21,
    "start_time": "2022-10-04T07:24:01.505Z"
   },
   {
    "duration": 397,
    "start_time": "2022-10-04T07:27:20.688Z"
   },
   {
    "duration": 621,
    "start_time": "2022-10-04T07:27:21.086Z"
   },
   {
    "duration": 2,
    "start_time": "2022-10-04T07:27:21.708Z"
   },
   {
    "duration": 40,
    "start_time": "2022-10-04T07:27:21.712Z"
   },
   {
    "duration": 52,
    "start_time": "2022-10-04T07:28:38.763Z"
   },
   {
    "duration": 3,
    "start_time": "2022-10-04T07:29:07.829Z"
   },
   {
    "duration": 147,
    "start_time": "2022-10-04T07:29:09.478Z"
   },
   {
    "duration": 3,
    "start_time": "2022-10-04T07:29:21.284Z"
   },
   {
    "duration": 146,
    "start_time": "2022-10-04T07:29:22.220Z"
   },
   {
    "duration": 3,
    "start_time": "2022-10-04T07:30:11.796Z"
   },
   {
    "duration": 158,
    "start_time": "2022-10-04T07:30:12.264Z"
   },
   {
    "duration": 5,
    "start_time": "2022-10-04T07:36:04.484Z"
   },
   {
    "duration": 162,
    "start_time": "2022-10-04T07:36:12.421Z"
   },
   {
    "duration": 65,
    "start_time": "2022-10-04T07:36:30.586Z"
   },
   {
    "duration": 3,
    "start_time": "2022-10-04T07:36:34.793Z"
   },
   {
    "duration": 153,
    "start_time": "2022-10-04T07:36:35.297Z"
   },
   {
    "duration": 115,
    "start_time": "2022-10-04T07:36:45.086Z"
   },
   {
    "duration": 143,
    "start_time": "2022-10-04T07:36:48.218Z"
   },
   {
    "duration": 153,
    "start_time": "2022-10-04T07:36:56.085Z"
   },
   {
    "duration": 243,
    "start_time": "2022-10-04T07:37:02.302Z"
   },
   {
    "duration": 64,
    "start_time": "2022-10-04T07:37:13.041Z"
   },
   {
    "duration": 186,
    "start_time": "2022-10-04T07:37:53.811Z"
   },
   {
    "duration": 267,
    "start_time": "2022-10-04T07:38:03.545Z"
   },
   {
    "duration": 85,
    "start_time": "2022-10-04T07:38:38.990Z"
   },
   {
    "duration": 4,
    "start_time": "2022-10-04T07:38:59.263Z"
   },
   {
    "duration": 156,
    "start_time": "2022-10-04T07:38:59.269Z"
   },
   {
    "duration": 3,
    "start_time": "2022-10-04T07:39:31.414Z"
   },
   {
    "duration": 4,
    "start_time": "2022-10-04T07:39:37.289Z"
   },
   {
    "duration": 146,
    "start_time": "2022-10-04T07:39:38.143Z"
   },
   {
    "duration": 3,
    "start_time": "2022-10-04T07:40:00.127Z"
   },
   {
    "duration": 150,
    "start_time": "2022-10-04T07:40:00.712Z"
   },
   {
    "duration": 101,
    "start_time": "2022-10-04T07:40:30.176Z"
   },
   {
    "duration": 4,
    "start_time": "2022-10-04T07:42:04.744Z"
   },
   {
    "duration": 140,
    "start_time": "2022-10-04T07:42:05.634Z"
   },
   {
    "duration": 3,
    "start_time": "2022-10-04T07:42:34.145Z"
   },
   {
    "duration": 87,
    "start_time": "2022-10-04T07:42:34.684Z"
   },
   {
    "duration": 4,
    "start_time": "2022-10-04T07:42:49.544Z"
   },
   {
    "duration": 142,
    "start_time": "2022-10-04T07:42:50.102Z"
   },
   {
    "duration": 4,
    "start_time": "2022-10-04T07:44:44.859Z"
   },
   {
    "duration": 331,
    "start_time": "2022-10-04T07:44:45.401Z"
   },
   {
    "duration": 3,
    "start_time": "2022-10-04T07:47:05.441Z"
   },
   {
    "duration": 356,
    "start_time": "2022-10-04T07:47:07.375Z"
   },
   {
    "duration": 3,
    "start_time": "2022-10-04T07:47:36.893Z"
   },
   {
    "duration": 319,
    "start_time": "2022-10-04T07:47:37.336Z"
   },
   {
    "duration": 3,
    "start_time": "2022-10-04T07:47:51.141Z"
   },
   {
    "duration": 331,
    "start_time": "2022-10-04T07:47:51.489Z"
   },
   {
    "duration": 3,
    "start_time": "2022-10-04T07:48:06.965Z"
   },
   {
    "duration": 325,
    "start_time": "2022-10-04T07:48:07.351Z"
   },
   {
    "duration": 4,
    "start_time": "2022-10-04T07:48:24.254Z"
   },
   {
    "duration": 357,
    "start_time": "2022-10-04T07:48:24.463Z"
   },
   {
    "duration": 148,
    "start_time": "2022-10-04T07:48:36.303Z"
   },
   {
    "duration": 326,
    "start_time": "2022-10-04T07:56:13.924Z"
   },
   {
    "duration": 8,
    "start_time": "2022-10-04T08:09:01.541Z"
   },
   {
    "duration": 9,
    "start_time": "2022-10-04T08:09:27.024Z"
   },
   {
    "duration": 7,
    "start_time": "2022-10-04T08:09:32.422Z"
   },
   {
    "duration": 7,
    "start_time": "2022-10-04T08:10:04.247Z"
   },
   {
    "duration": 9,
    "start_time": "2022-10-04T08:10:14.283Z"
   },
   {
    "duration": 5,
    "start_time": "2022-10-04T08:10:39.507Z"
   },
   {
    "duration": 8,
    "start_time": "2022-10-04T08:10:47.387Z"
   },
   {
    "duration": 4,
    "start_time": "2022-10-04T08:10:52.137Z"
   },
   {
    "duration": 5,
    "start_time": "2022-10-04T08:10:58.866Z"
   },
   {
    "duration": 6,
    "start_time": "2022-10-04T08:11:08.603Z"
   },
   {
    "duration": 4,
    "start_time": "2022-10-04T08:11:15.111Z"
   },
   {
    "duration": 6,
    "start_time": "2022-10-04T08:11:33.990Z"
   },
   {
    "duration": 11,
    "start_time": "2022-10-04T08:11:59.018Z"
   },
   {
    "duration": 11,
    "start_time": "2022-10-04T08:12:04.334Z"
   },
   {
    "duration": 11,
    "start_time": "2022-10-04T08:12:09.313Z"
   },
   {
    "duration": 10,
    "start_time": "2022-10-04T08:12:13.622Z"
   },
   {
    "duration": 11,
    "start_time": "2022-10-04T08:12:18.435Z"
   },
   {
    "duration": 23,
    "start_time": "2022-10-04T08:12:32.121Z"
   },
   {
    "duration": 16,
    "start_time": "2022-10-04T08:13:11.770Z"
   },
   {
    "duration": 13,
    "start_time": "2022-10-04T08:13:22.809Z"
   },
   {
    "duration": 33,
    "start_time": "2022-10-04T08:13:34.553Z"
   },
   {
    "duration": 3,
    "start_time": "2022-10-04T08:32:40.623Z"
   },
   {
    "duration": 7,
    "start_time": "2022-10-04T08:33:21.964Z"
   },
   {
    "duration": 8,
    "start_time": "2022-10-04T08:33:28.643Z"
   },
   {
    "duration": 15,
    "start_time": "2022-10-04T08:34:05.365Z"
   },
   {
    "duration": 3,
    "start_time": "2022-10-04T08:34:07.043Z"
   },
   {
    "duration": 11,
    "start_time": "2022-10-04T08:34:08.010Z"
   },
   {
    "duration": 3,
    "start_time": "2022-10-04T08:34:26.679Z"
   },
   {
    "duration": 4,
    "start_time": "2022-10-04T08:34:27.131Z"
   },
   {
    "duration": 8,
    "start_time": "2022-10-04T08:34:36.797Z"
   },
   {
    "duration": 4,
    "start_time": "2022-10-04T08:42:47.612Z"
   },
   {
    "duration": 8,
    "start_time": "2022-10-04T08:43:08.753Z"
   },
   {
    "duration": 4,
    "start_time": "2022-10-04T08:43:32.570Z"
   },
   {
    "duration": 7,
    "start_time": "2022-10-04T08:43:53.356Z"
   },
   {
    "duration": 7,
    "start_time": "2022-10-04T08:44:15.481Z"
   },
   {
    "duration": 4,
    "start_time": "2022-10-04T08:44:28.654Z"
   },
   {
    "duration": 4,
    "start_time": "2022-10-04T08:44:36.212Z"
   },
   {
    "duration": 5,
    "start_time": "2022-10-04T08:44:57.773Z"
   },
   {
    "duration": 6,
    "start_time": "2022-10-04T08:45:24.011Z"
   },
   {
    "duration": 9,
    "start_time": "2022-10-04T08:47:05.123Z"
   },
   {
    "duration": 2,
    "start_time": "2022-10-04T08:47:25.258Z"
   },
   {
    "duration": 2,
    "start_time": "2022-10-04T08:47:36.165Z"
   },
   {
    "duration": 4,
    "start_time": "2022-10-04T08:47:45.249Z"
   },
   {
    "duration": 6,
    "start_time": "2022-10-04T08:47:58.921Z"
   },
   {
    "duration": 3,
    "start_time": "2022-10-04T08:48:06.006Z"
   },
   {
    "duration": 99,
    "start_time": "2022-10-04T08:48:43.231Z"
   },
   {
    "duration": 2,
    "start_time": "2022-10-04T08:48:48.311Z"
   },
   {
    "duration": 7,
    "start_time": "2022-10-04T08:49:01.551Z"
   },
   {
    "duration": 3,
    "start_time": "2022-10-04T08:49:19.915Z"
   },
   {
    "duration": 7,
    "start_time": "2022-10-04T08:49:27.969Z"
   },
   {
    "duration": 7,
    "start_time": "2022-10-04T08:49:35.596Z"
   },
   {
    "duration": 4,
    "start_time": "2022-10-04T08:50:03.427Z"
   },
   {
    "duration": 10,
    "start_time": "2022-10-04T08:50:16.325Z"
   },
   {
    "duration": 11,
    "start_time": "2022-10-04T08:51:46.503Z"
   },
   {
    "duration": 12,
    "start_time": "2022-10-04T08:52:09.601Z"
   },
   {
    "duration": 14,
    "start_time": "2022-10-04T08:52:13.108Z"
   },
   {
    "duration": 10,
    "start_time": "2022-10-04T08:52:50.748Z"
   },
   {
    "duration": 506,
    "start_time": "2022-10-04T08:53:02.711Z"
   },
   {
    "duration": 4,
    "start_time": "2022-10-04T08:53:41.578Z"
   },
   {
    "duration": 3,
    "start_time": "2022-10-04T08:53:46.655Z"
   },
   {
    "duration": 4,
    "start_time": "2022-10-04T08:53:52.910Z"
   },
   {
    "duration": 11,
    "start_time": "2022-10-04T08:54:22.088Z"
   },
   {
    "duration": 3,
    "start_time": "2022-10-04T08:55:04.423Z"
   },
   {
    "duration": 2,
    "start_time": "2022-10-04T08:55:07.873Z"
   },
   {
    "duration": 2,
    "start_time": "2022-10-04T08:55:12.918Z"
   },
   {
    "duration": 2,
    "start_time": "2022-10-04T08:55:18.629Z"
   },
   {
    "duration": 4,
    "start_time": "2022-10-04T08:55:24.658Z"
   },
   {
    "duration": 3,
    "start_time": "2022-10-04T08:55:25.010Z"
   },
   {
    "duration": 3,
    "start_time": "2022-10-04T08:56:04.908Z"
   },
   {
    "duration": 3,
    "start_time": "2022-10-04T08:56:09.457Z"
   },
   {
    "duration": 4,
    "start_time": "2022-10-04T08:56:18.364Z"
   },
   {
    "duration": 5,
    "start_time": "2022-10-04T08:56:29.391Z"
   },
   {
    "duration": 3,
    "start_time": "2022-10-04T08:56:56.042Z"
   },
   {
    "duration": 463,
    "start_time": "2022-10-04T08:58:09.571Z"
   },
   {
    "duration": 477,
    "start_time": "2022-10-04T08:58:52.954Z"
   },
   {
    "duration": 8,
    "start_time": "2022-10-04T08:59:24.550Z"
   },
   {
    "duration": 3,
    "start_time": "2022-10-04T08:59:38.994Z"
   },
   {
    "duration": 6,
    "start_time": "2022-10-04T09:02:59.886Z"
   },
   {
    "duration": 2,
    "start_time": "2022-10-04T09:03:12.236Z"
   },
   {
    "duration": 2,
    "start_time": "2022-10-04T09:03:12.599Z"
   },
   {
    "duration": 5,
    "start_time": "2022-10-04T09:03:12.975Z"
   },
   {
    "duration": 4,
    "start_time": "2022-10-04T09:04:10.710Z"
   },
   {
    "duration": 2,
    "start_time": "2022-10-04T09:04:23.226Z"
   },
   {
    "duration": 4,
    "start_time": "2022-10-04T09:04:23.797Z"
   },
   {
    "duration": 2,
    "start_time": "2022-10-04T09:04:37.138Z"
   },
   {
    "duration": 7,
    "start_time": "2022-10-04T09:04:38.458Z"
   },
   {
    "duration": 7,
    "start_time": "2022-10-04T09:04:45.909Z"
   },
   {
    "duration": 6,
    "start_time": "2022-10-04T09:06:08.506Z"
   },
   {
    "duration": 7,
    "start_time": "2022-10-04T09:06:44.029Z"
   },
   {
    "duration": 6,
    "start_time": "2022-10-04T09:06:53.627Z"
   },
   {
    "duration": 6,
    "start_time": "2022-10-04T09:07:45.207Z"
   },
   {
    "duration": 3,
    "start_time": "2022-10-04T09:08:26.404Z"
   },
   {
    "duration": 4,
    "start_time": "2022-10-04T09:08:27.114Z"
   },
   {
    "duration": 3,
    "start_time": "2022-10-04T09:09:00.397Z"
   },
   {
    "duration": 3,
    "start_time": "2022-10-04T09:09:03.339Z"
   },
   {
    "duration": 3,
    "start_time": "2022-10-04T09:09:15.640Z"
   },
   {
    "duration": 3,
    "start_time": "2022-10-04T09:09:19.551Z"
   },
   {
    "duration": 4,
    "start_time": "2022-10-04T09:09:55.299Z"
   },
   {
    "duration": 2,
    "start_time": "2022-10-04T09:10:59.537Z"
   },
   {
    "duration": 6,
    "start_time": "2022-10-04T09:11:13.437Z"
   },
   {
    "duration": 4,
    "start_time": "2022-10-04T09:11:20.922Z"
   },
   {
    "duration": 6,
    "start_time": "2022-10-04T09:12:14.166Z"
   },
   {
    "duration": 7,
    "start_time": "2022-10-04T09:12:21.058Z"
   },
   {
    "duration": 6,
    "start_time": "2022-10-04T09:12:58.950Z"
   },
   {
    "duration": 4,
    "start_time": "2022-10-04T09:13:11.526Z"
   },
   {
    "duration": 6,
    "start_time": "2022-10-04T09:14:36.066Z"
   },
   {
    "duration": 2,
    "start_time": "2022-10-04T09:15:07.536Z"
   },
   {
    "duration": 3,
    "start_time": "2022-10-04T09:15:08.461Z"
   },
   {
    "duration": 7,
    "start_time": "2022-10-04T09:15:10.574Z"
   },
   {
    "duration": 2,
    "start_time": "2022-10-04T09:15:27.170Z"
   },
   {
    "duration": 3,
    "start_time": "2022-10-04T09:15:27.671Z"
   },
   {
    "duration": 7,
    "start_time": "2022-10-04T09:16:04.185Z"
   },
   {
    "duration": 3,
    "start_time": "2022-10-04T09:17:13.173Z"
   },
   {
    "duration": 2,
    "start_time": "2022-10-04T09:17:14.139Z"
   },
   {
    "duration": 6,
    "start_time": "2022-10-04T09:17:14.773Z"
   },
   {
    "duration": 389,
    "start_time": "2022-10-04T09:17:20.178Z"
   },
   {
    "duration": 646,
    "start_time": "2022-10-04T09:17:20.568Z"
   },
   {
    "duration": 3,
    "start_time": "2022-10-04T09:17:21.216Z"
   },
   {
    "duration": 367,
    "start_time": "2022-10-04T09:17:21.221Z"
   },
   {
    "duration": 149,
    "start_time": "2022-10-04T09:17:21.590Z"
   },
   {
    "duration": 379,
    "start_time": "2022-10-04T09:17:21.740Z"
   },
   {
    "duration": 2,
    "start_time": "2022-10-04T09:17:22.121Z"
   },
   {
    "duration": 4,
    "start_time": "2022-10-04T09:17:22.125Z"
   },
   {
    "duration": 9,
    "start_time": "2022-10-04T09:17:22.131Z"
   },
   {
    "duration": 82,
    "start_time": "2022-10-04T09:17:22.143Z"
   },
   {
    "duration": 0,
    "start_time": "2022-10-04T09:17:22.227Z"
   },
   {
    "duration": 0,
    "start_time": "2022-10-04T09:17:22.228Z"
   },
   {
    "duration": 0,
    "start_time": "2022-10-04T09:17:22.229Z"
   },
   {
    "duration": 211,
    "start_time": "2022-10-04T09:23:16.265Z"
   },
   {
    "duration": 394,
    "start_time": "2022-10-05T06:33:48.709Z"
   },
   {
    "duration": 1788,
    "start_time": "2022-10-05T06:33:49.105Z"
   },
   {
    "duration": 3,
    "start_time": "2022-10-05T06:33:50.895Z"
   },
   {
    "duration": 402,
    "start_time": "2022-10-05T06:33:50.900Z"
   },
   {
    "duration": 198,
    "start_time": "2022-10-05T06:33:51.303Z"
   },
   {
    "duration": 401,
    "start_time": "2022-10-05T06:33:51.503Z"
   },
   {
    "duration": 3,
    "start_time": "2022-10-05T06:33:51.906Z"
   },
   {
    "duration": 25,
    "start_time": "2022-10-05T06:33:51.910Z"
   },
   {
    "duration": 19,
    "start_time": "2022-10-05T06:33:51.936Z"
   },
   {
    "duration": 35,
    "start_time": "2022-10-05T06:33:51.957Z"
   },
   {
    "duration": 223,
    "start_time": "2022-10-05T06:44:21.831Z"
   },
   {
    "duration": 19,
    "start_time": "2022-10-05T06:47:29.465Z"
   },
   {
    "duration": 4,
    "start_time": "2022-10-05T06:51:01.854Z"
   },
   {
    "duration": 80,
    "start_time": "2022-10-05T06:51:07.077Z"
   },
   {
    "duration": 75,
    "start_time": "2022-10-05T06:51:21.722Z"
   },
   {
    "duration": 13,
    "start_time": "2022-10-05T06:51:55.454Z"
   },
   {
    "duration": 4,
    "start_time": "2022-10-05T06:52:00.795Z"
   },
   {
    "duration": 78,
    "start_time": "2022-10-05T06:54:25.357Z"
   },
   {
    "duration": 354,
    "start_time": "2022-10-05T06:54:31.546Z"
   },
   {
    "duration": 597,
    "start_time": "2022-10-05T06:54:31.902Z"
   },
   {
    "duration": 3,
    "start_time": "2022-10-05T06:54:32.503Z"
   },
   {
    "duration": 358,
    "start_time": "2022-10-05T06:54:32.507Z"
   },
   {
    "duration": 166,
    "start_time": "2022-10-05T06:54:32.867Z"
   },
   {
    "duration": 385,
    "start_time": "2022-10-05T06:54:33.034Z"
   },
   {
    "duration": 3,
    "start_time": "2022-10-05T06:54:33.420Z"
   },
   {
    "duration": 12,
    "start_time": "2022-10-05T06:54:33.425Z"
   },
   {
    "duration": 247,
    "start_time": "2022-10-05T06:54:33.439Z"
   },
   {
    "duration": 3,
    "start_time": "2022-10-05T06:54:33.687Z"
   },
   {
    "duration": 71,
    "start_time": "2022-10-05T06:54:33.692Z"
   },
   {
    "duration": 0,
    "start_time": "2022-10-05T06:54:33.765Z"
   },
   {
    "duration": 0,
    "start_time": "2022-10-05T06:54:33.765Z"
   },
   {
    "duration": 0,
    "start_time": "2022-10-05T06:54:33.767Z"
   },
   {
    "duration": 11,
    "start_time": "2022-10-05T06:54:39.917Z"
   },
   {
    "duration": 4,
    "start_time": "2022-10-05T06:54:41.210Z"
   },
   {
    "duration": 13,
    "start_time": "2022-10-05T06:57:37.714Z"
   },
   {
    "duration": 20,
    "start_time": "2022-10-05T06:57:52.300Z"
   },
   {
    "duration": 4,
    "start_time": "2022-10-05T06:58:28.812Z"
   },
   {
    "duration": 286,
    "start_time": "2022-10-05T06:58:29.446Z"
   },
   {
    "duration": 3,
    "start_time": "2022-10-05T06:58:58.038Z"
   },
   {
    "duration": 268,
    "start_time": "2022-10-05T06:58:58.601Z"
   },
   {
    "duration": 5,
    "start_time": "2022-10-05T06:59:14.423Z"
   },
   {
    "duration": 289,
    "start_time": "2022-10-05T06:59:15.229Z"
   },
   {
    "duration": 4,
    "start_time": "2022-10-05T07:00:08.058Z"
   },
   {
    "duration": 288,
    "start_time": "2022-10-05T07:00:09.269Z"
   },
   {
    "duration": 3,
    "start_time": "2022-10-05T07:00:36.009Z"
   },
   {
    "duration": 271,
    "start_time": "2022-10-05T07:00:36.370Z"
   },
   {
    "duration": 196,
    "start_time": "2022-10-05T07:00:36.643Z"
   },
   {
    "duration": 341,
    "start_time": "2022-10-05T07:00:37.549Z"
   },
   {
    "duration": 4,
    "start_time": "2022-10-05T07:01:12.182Z"
   },
   {
    "duration": 15,
    "start_time": "2022-10-05T07:01:13.278Z"
   },
   {
    "duration": 7,
    "start_time": "2022-10-05T07:04:00.462Z"
   },
   {
    "duration": 3,
    "start_time": "2022-10-05T07:04:08.517Z"
   },
   {
    "duration": 13,
    "start_time": "2022-10-05T07:05:34.470Z"
   },
   {
    "duration": 17,
    "start_time": "2022-10-05T07:05:42.342Z"
   },
   {
    "duration": 3,
    "start_time": "2022-10-05T07:06:58.337Z"
   },
   {
    "duration": 8,
    "start_time": "2022-10-05T07:07:19.501Z"
   },
   {
    "duration": 3,
    "start_time": "2022-10-05T07:07:42.307Z"
   },
   {
    "duration": 3,
    "start_time": "2022-10-05T07:07:43.473Z"
   },
   {
    "duration": 17,
    "start_time": "2022-10-05T07:07:45.104Z"
   },
   {
    "duration": 14,
    "start_time": "2022-10-05T07:08:20.697Z"
   },
   {
    "duration": 395,
    "start_time": "2022-10-05T07:30:01.889Z"
   },
   {
    "duration": 588,
    "start_time": "2022-10-05T07:30:02.286Z"
   },
   {
    "duration": 4,
    "start_time": "2022-10-05T07:30:02.875Z"
   },
   {
    "duration": 359,
    "start_time": "2022-10-05T07:30:02.880Z"
   },
   {
    "duration": 168,
    "start_time": "2022-10-05T07:30:03.240Z"
   },
   {
    "duration": 66,
    "start_time": "2022-10-05T07:30:03.410Z"
   },
   {
    "duration": 0,
    "start_time": "2022-10-05T07:30:03.478Z"
   },
   {
    "duration": 0,
    "start_time": "2022-10-05T07:30:03.479Z"
   },
   {
    "duration": 0,
    "start_time": "2022-10-05T07:30:03.481Z"
   },
   {
    "duration": 0,
    "start_time": "2022-10-05T07:30:03.482Z"
   },
   {
    "duration": 0,
    "start_time": "2022-10-05T07:30:03.484Z"
   },
   {
    "duration": 0,
    "start_time": "2022-10-05T07:30:03.485Z"
   },
   {
    "duration": 0,
    "start_time": "2022-10-05T07:30:03.487Z"
   },
   {
    "duration": 0,
    "start_time": "2022-10-05T07:30:03.488Z"
   },
   {
    "duration": 0,
    "start_time": "2022-10-05T07:30:03.489Z"
   },
   {
    "duration": 0,
    "start_time": "2022-10-05T07:30:03.490Z"
   },
   {
    "duration": 0,
    "start_time": "2022-10-05T07:30:03.491Z"
   },
   {
    "duration": 0,
    "start_time": "2022-10-05T07:30:03.521Z"
   },
   {
    "duration": 0,
    "start_time": "2022-10-05T07:30:03.522Z"
   },
   {
    "duration": 373,
    "start_time": "2022-10-05T07:30:25.381Z"
   },
   {
    "duration": 3,
    "start_time": "2022-10-05T07:30:30.934Z"
   },
   {
    "duration": 8,
    "start_time": "2022-10-05T07:30:32.436Z"
   },
   {
    "duration": 3,
    "start_time": "2022-10-05T07:30:36.406Z"
   },
   {
    "duration": 3,
    "start_time": "2022-10-05T07:30:37.670Z"
   },
   {
    "duration": 240,
    "start_time": "2022-10-05T07:30:40.370Z"
   },
   {
    "duration": 11,
    "start_time": "2022-10-05T07:30:44.073Z"
   },
   {
    "duration": 8,
    "start_time": "2022-10-05T07:30:46.434Z"
   },
   {
    "duration": 8,
    "start_time": "2022-10-05T07:30:47.621Z"
   },
   {
    "duration": 8,
    "start_time": "2022-10-05T07:30:56.914Z"
   },
   {
    "duration": 15,
    "start_time": "2022-10-05T07:31:14.639Z"
   },
   {
    "duration": 7,
    "start_time": "2022-10-05T07:31:18.610Z"
   },
   {
    "duration": 21,
    "start_time": "2022-10-05T07:31:32.226Z"
   },
   {
    "duration": 12,
    "start_time": "2022-10-05T07:31:33.961Z"
   },
   {
    "duration": 9,
    "start_time": "2022-10-05T07:31:37.321Z"
   },
   {
    "duration": 11,
    "start_time": "2022-10-05T07:31:52.722Z"
   },
   {
    "duration": 5,
    "start_time": "2022-10-05T07:31:53.663Z"
   },
   {
    "duration": 396,
    "start_time": "2022-10-05T07:32:00.534Z"
   },
   {
    "duration": 682,
    "start_time": "2022-10-05T07:32:00.932Z"
   },
   {
    "duration": 6,
    "start_time": "2022-10-05T07:32:01.616Z"
   },
   {
    "duration": 389,
    "start_time": "2022-10-05T07:32:01.625Z"
   },
   {
    "duration": 198,
    "start_time": "2022-10-05T07:32:02.016Z"
   },
   {
    "duration": 395,
    "start_time": "2022-10-05T07:32:02.215Z"
   },
   {
    "duration": 16,
    "start_time": "2022-10-05T07:32:02.612Z"
   },
   {
    "duration": 23,
    "start_time": "2022-10-05T07:32:02.630Z"
   },
   {
    "duration": 9,
    "start_time": "2022-10-05T07:32:02.654Z"
   },
   {
    "duration": 8,
    "start_time": "2022-10-05T07:32:02.665Z"
   },
   {
    "duration": 249,
    "start_time": "2022-10-05T07:32:02.674Z"
   },
   {
    "duration": 14,
    "start_time": "2022-10-05T07:32:02.925Z"
   },
   {
    "duration": 32,
    "start_time": "2022-10-05T07:32:02.940Z"
   },
   {
    "duration": 6,
    "start_time": "2022-10-05T07:32:02.974Z"
   },
   {
    "duration": 19,
    "start_time": "2022-10-05T07:32:02.982Z"
   },
   {
    "duration": 4,
    "start_time": "2022-10-05T07:32:03.002Z"
   },
   {
    "duration": 24,
    "start_time": "2022-10-05T07:32:03.008Z"
   },
   {
    "duration": 7,
    "start_time": "2022-10-05T07:32:03.033Z"
   },
   {
    "duration": 15,
    "start_time": "2022-10-05T07:32:03.041Z"
   },
   {
    "duration": 3,
    "start_time": "2022-10-05T07:32:22.500Z"
   },
   {
    "duration": 4,
    "start_time": "2022-10-05T07:32:53.288Z"
   },
   {
    "duration": 342,
    "start_time": "2022-10-05T07:32:58.072Z"
   },
   {
    "duration": 613,
    "start_time": "2022-10-05T07:32:58.415Z"
   },
   {
    "duration": 4,
    "start_time": "2022-10-05T07:32:59.029Z"
   },
   {
    "duration": 379,
    "start_time": "2022-10-05T07:32:59.035Z"
   },
   {
    "duration": 188,
    "start_time": "2022-10-05T07:32:59.416Z"
   },
   {
    "duration": 378,
    "start_time": "2022-10-05T07:32:59.606Z"
   },
   {
    "duration": 3,
    "start_time": "2022-10-05T07:32:59.985Z"
   },
   {
    "duration": 17,
    "start_time": "2022-10-05T07:32:59.989Z"
   },
   {
    "duration": 13,
    "start_time": "2022-10-05T07:33:00.007Z"
   },
   {
    "duration": 18,
    "start_time": "2022-10-05T07:33:00.023Z"
   },
   {
    "duration": 270,
    "start_time": "2022-10-05T07:33:00.043Z"
   },
   {
    "duration": 11,
    "start_time": "2022-10-05T07:33:00.315Z"
   },
   {
    "duration": 29,
    "start_time": "2022-10-05T07:33:00.328Z"
   },
   {
    "duration": 35,
    "start_time": "2022-10-05T07:33:00.358Z"
   },
   {
    "duration": 52,
    "start_time": "2022-10-05T07:33:00.395Z"
   },
   {
    "duration": 42,
    "start_time": "2022-10-05T07:33:00.449Z"
   },
   {
    "duration": 31,
    "start_time": "2022-10-05T07:33:00.492Z"
   },
   {
    "duration": 37,
    "start_time": "2022-10-05T07:33:00.525Z"
   },
   {
    "duration": 60,
    "start_time": "2022-10-05T07:33:00.563Z"
   },
   {
    "duration": 44,
    "start_time": "2022-10-05T07:33:00.625Z"
   },
   {
    "duration": 87,
    "start_time": "2022-10-05T07:33:00.671Z"
   },
   {
    "duration": 2188,
    "start_time": "2022-10-05T07:40:00.705Z"
   },
   {
    "duration": 21,
    "start_time": "2022-10-05T07:40:36.044Z"
   },
   {
    "duration": 12,
    "start_time": "2022-10-05T07:41:43.880Z"
   },
   {
    "duration": 5,
    "start_time": "2022-10-05T07:44:15.130Z"
   },
   {
    "duration": 16,
    "start_time": "2022-10-05T07:44:26.104Z"
   },
   {
    "duration": 399,
    "start_time": "2022-10-05T07:44:30.292Z"
   },
   {
    "duration": 676,
    "start_time": "2022-10-05T07:44:30.693Z"
   },
   {
    "duration": 3,
    "start_time": "2022-10-05T07:44:31.371Z"
   },
   {
    "duration": 432,
    "start_time": "2022-10-05T07:44:31.381Z"
   },
   {
    "duration": 162,
    "start_time": "2022-10-05T07:44:31.815Z"
   },
   {
    "duration": 654,
    "start_time": "2022-10-05T07:44:31.979Z"
   },
   {
    "duration": 4,
    "start_time": "2022-10-05T07:44:32.635Z"
   },
   {
    "duration": 19,
    "start_time": "2022-10-05T07:44:32.641Z"
   },
   {
    "duration": 4,
    "start_time": "2022-10-05T07:44:32.662Z"
   },
   {
    "duration": 54,
    "start_time": "2022-10-05T07:44:32.669Z"
   },
   {
    "duration": 624,
    "start_time": "2022-10-05T07:44:32.725Z"
   },
   {
    "duration": 15,
    "start_time": "2022-10-05T07:44:33.351Z"
   },
   {
    "duration": 79,
    "start_time": "2022-10-05T07:44:33.368Z"
   },
   {
    "duration": 26,
    "start_time": "2022-10-05T07:44:33.450Z"
   },
   {
    "duration": 48,
    "start_time": "2022-10-05T07:44:33.479Z"
   },
   {
    "duration": 15,
    "start_time": "2022-10-05T07:44:33.528Z"
   },
   {
    "duration": 23,
    "start_time": "2022-10-05T07:44:33.545Z"
   },
   {
    "duration": 53,
    "start_time": "2022-10-05T07:44:33.570Z"
   },
   {
    "duration": 130,
    "start_time": "2022-10-05T07:44:33.625Z"
   },
   {
    "duration": 0,
    "start_time": "2022-10-05T07:44:33.757Z"
   },
   {
    "duration": 0,
    "start_time": "2022-10-05T07:44:33.758Z"
   },
   {
    "duration": 11,
    "start_time": "2022-10-05T07:45:24.822Z"
   },
   {
    "duration": 3,
    "start_time": "2022-10-05T07:45:59.333Z"
   },
   {
    "duration": 17,
    "start_time": "2022-10-05T07:46:04.710Z"
   },
   {
    "duration": 420,
    "start_time": "2022-10-05T07:46:55.950Z"
   },
   {
    "duration": 661,
    "start_time": "2022-10-05T07:46:56.372Z"
   },
   {
    "duration": 5,
    "start_time": "2022-10-05T07:46:57.034Z"
   },
   {
    "duration": 366,
    "start_time": "2022-10-05T07:46:57.041Z"
   },
   {
    "duration": 164,
    "start_time": "2022-10-05T07:46:57.409Z"
   },
   {
    "duration": 404,
    "start_time": "2022-10-05T07:46:57.574Z"
   },
   {
    "duration": 3,
    "start_time": "2022-10-05T07:46:57.980Z"
   },
   {
    "duration": 23,
    "start_time": "2022-10-05T07:46:57.984Z"
   },
   {
    "duration": 8,
    "start_time": "2022-10-05T07:46:58.008Z"
   },
   {
    "duration": 10,
    "start_time": "2022-10-05T07:46:58.018Z"
   },
   {
    "duration": 234,
    "start_time": "2022-10-05T07:46:58.030Z"
   },
   {
    "duration": 11,
    "start_time": "2022-10-05T07:46:58.266Z"
   },
   {
    "duration": 3,
    "start_time": "2022-10-05T07:46:58.279Z"
   },
   {
    "duration": 14,
    "start_time": "2022-10-05T07:46:58.284Z"
   },
   {
    "duration": 6,
    "start_time": "2022-10-05T07:46:58.300Z"
   },
   {
    "duration": 25,
    "start_time": "2022-10-05T07:46:58.307Z"
   },
   {
    "duration": 4,
    "start_time": "2022-10-05T07:46:58.334Z"
   },
   {
    "duration": 4,
    "start_time": "2022-10-05T07:46:58.340Z"
   },
   {
    "duration": 5,
    "start_time": "2022-10-05T07:46:58.345Z"
   },
   {
    "duration": 105,
    "start_time": "2022-10-05T07:46:58.352Z"
   },
   {
    "duration": 0,
    "start_time": "2022-10-05T07:46:58.459Z"
   },
   {
    "duration": 0,
    "start_time": "2022-10-05T07:46:58.460Z"
   },
   {
    "duration": 1176,
    "start_time": "2022-10-05T07:49:14.538Z"
   },
   {
    "duration": 13,
    "start_time": "2022-10-05T07:52:09.218Z"
   },
   {
    "duration": 13,
    "start_time": "2022-10-05T07:52:40.188Z"
   },
   {
    "duration": 13,
    "start_time": "2022-10-05T07:55:33.461Z"
   },
   {
    "duration": 14,
    "start_time": "2022-10-05T07:55:43.080Z"
   },
   {
    "duration": 14,
    "start_time": "2022-10-05T07:55:52.842Z"
   },
   {
    "duration": 382,
    "start_time": "2022-10-05T07:57:38.319Z"
   },
   {
    "duration": 636,
    "start_time": "2022-10-05T07:57:38.703Z"
   },
   {
    "duration": 3,
    "start_time": "2022-10-05T07:57:39.341Z"
   },
   {
    "duration": 376,
    "start_time": "2022-10-05T07:57:39.346Z"
   },
   {
    "duration": 174,
    "start_time": "2022-10-05T07:57:39.723Z"
   },
   {
    "duration": 373,
    "start_time": "2022-10-05T07:57:39.899Z"
   },
   {
    "duration": 60,
    "start_time": "2022-10-05T07:57:40.274Z"
   },
   {
    "duration": 0,
    "start_time": "2022-10-05T07:57:40.336Z"
   },
   {
    "duration": 0,
    "start_time": "2022-10-05T07:57:40.337Z"
   },
   {
    "duration": 0,
    "start_time": "2022-10-05T07:57:40.338Z"
   },
   {
    "duration": 0,
    "start_time": "2022-10-05T07:57:40.339Z"
   },
   {
    "duration": 0,
    "start_time": "2022-10-05T07:57:40.340Z"
   },
   {
    "duration": 0,
    "start_time": "2022-10-05T07:57:40.341Z"
   },
   {
    "duration": 0,
    "start_time": "2022-10-05T07:57:40.342Z"
   },
   {
    "duration": 0,
    "start_time": "2022-10-05T07:57:40.343Z"
   },
   {
    "duration": 0,
    "start_time": "2022-10-05T07:57:40.343Z"
   },
   {
    "duration": 0,
    "start_time": "2022-10-05T07:57:40.344Z"
   },
   {
    "duration": 0,
    "start_time": "2022-10-05T07:57:40.346Z"
   },
   {
    "duration": 0,
    "start_time": "2022-10-05T07:57:40.347Z"
   },
   {
    "duration": 0,
    "start_time": "2022-10-05T07:57:40.347Z"
   },
   {
    "duration": 0,
    "start_time": "2022-10-05T07:57:40.348Z"
   },
   {
    "duration": 0,
    "start_time": "2022-10-05T07:57:40.349Z"
   },
   {
    "duration": 0,
    "start_time": "2022-10-05T07:57:40.350Z"
   },
   {
    "duration": 3,
    "start_time": "2022-10-05T07:58:01.969Z"
   },
   {
    "duration": 15,
    "start_time": "2022-10-05T07:58:02.328Z"
   },
   {
    "duration": 11,
    "start_time": "2022-10-05T07:59:28.600Z"
   },
   {
    "duration": 16,
    "start_time": "2022-10-05T07:59:38.207Z"
   },
   {
    "duration": 12,
    "start_time": "2022-10-05T07:59:56.769Z"
   },
   {
    "duration": 12,
    "start_time": "2022-10-05T08:00:04.050Z"
   },
   {
    "duration": 17,
    "start_time": "2022-10-05T08:02:31.010Z"
   },
   {
    "duration": 12,
    "start_time": "2022-10-05T08:02:56.557Z"
   },
   {
    "duration": 3,
    "start_time": "2022-10-05T08:03:14.177Z"
   },
   {
    "duration": 7,
    "start_time": "2022-10-05T08:03:14.400Z"
   },
   {
    "duration": 2,
    "start_time": "2022-10-05T08:03:15.286Z"
   },
   {
    "duration": 4,
    "start_time": "2022-10-05T08:03:15.495Z"
   },
   {
    "duration": 231,
    "start_time": "2022-10-05T08:03:15.749Z"
   },
   {
    "duration": 14,
    "start_time": "2022-10-05T08:03:16.018Z"
   },
   {
    "duration": 3,
    "start_time": "2022-10-05T08:03:16.284Z"
   },
   {
    "duration": 9,
    "start_time": "2022-10-05T08:03:17.343Z"
   },
   {
    "duration": 7,
    "start_time": "2022-10-05T08:03:17.582Z"
   },
   {
    "duration": 14,
    "start_time": "2022-10-05T08:03:18.178Z"
   },
   {
    "duration": 4,
    "start_time": "2022-10-05T08:03:18.466Z"
   },
   {
    "duration": 4,
    "start_time": "2022-10-05T08:03:18.810Z"
   },
   {
    "duration": 2,
    "start_time": "2022-10-05T08:03:19.148Z"
   },
   {
    "duration": 20,
    "start_time": "2022-10-05T08:03:19.734Z"
   },
   {
    "duration": 10,
    "start_time": "2022-10-05T08:05:50.642Z"
   },
   {
    "duration": 13,
    "start_time": "2022-10-05T08:06:35.266Z"
   },
   {
    "duration": 9,
    "start_time": "2022-10-05T08:06:42.313Z"
   },
   {
    "duration": 13,
    "start_time": "2022-10-05T08:11:13.890Z"
   },
   {
    "duration": 572,
    "start_time": "2022-10-05T08:17:41.758Z"
   },
   {
    "duration": 1129,
    "start_time": "2022-10-05T08:18:16.822Z"
   },
   {
    "duration": 1228,
    "start_time": "2022-10-05T08:18:51.536Z"
   },
   {
    "duration": 13,
    "start_time": "2022-10-05T08:19:35.683Z"
   },
   {
    "duration": 391,
    "start_time": "2022-10-09T07:27:55.303Z"
   },
   {
    "duration": 1844,
    "start_time": "2022-10-09T07:27:55.695Z"
   },
   {
    "duration": 3,
    "start_time": "2022-10-09T07:27:57.541Z"
   },
   {
    "duration": 386,
    "start_time": "2022-10-09T07:27:57.546Z"
   },
   {
    "duration": 176,
    "start_time": "2022-10-09T07:27:57.933Z"
   },
   {
    "duration": 414,
    "start_time": "2022-10-09T07:27:58.110Z"
   },
   {
    "duration": 3,
    "start_time": "2022-10-09T07:27:58.525Z"
   },
   {
    "duration": 11,
    "start_time": "2022-10-09T07:27:58.530Z"
   },
   {
    "duration": 3,
    "start_time": "2022-10-09T07:27:58.543Z"
   },
   {
    "duration": 8,
    "start_time": "2022-10-09T07:27:58.548Z"
   },
   {
    "duration": 5,
    "start_time": "2022-10-09T07:27:58.557Z"
   },
   {
    "duration": 7,
    "start_time": "2022-10-09T07:27:58.563Z"
   },
   {
    "duration": 439,
    "start_time": "2022-10-09T07:27:58.572Z"
   },
   {
    "duration": 23,
    "start_time": "2022-10-09T07:27:59.012Z"
   },
   {
    "duration": 7,
    "start_time": "2022-10-09T07:27:59.036Z"
   },
   {
    "duration": 11,
    "start_time": "2022-10-09T07:27:59.044Z"
   },
   {
    "duration": 7,
    "start_time": "2022-10-09T07:27:59.056Z"
   },
   {
    "duration": 14,
    "start_time": "2022-10-09T07:27:59.065Z"
   },
   {
    "duration": 4,
    "start_time": "2022-10-09T07:27:59.081Z"
   },
   {
    "duration": 38,
    "start_time": "2022-10-09T07:27:59.086Z"
   },
   {
    "duration": 6,
    "start_time": "2022-10-09T07:27:59.125Z"
   },
   {
    "duration": 17,
    "start_time": "2022-10-09T07:27:59.133Z"
   },
   {
    "duration": 5,
    "start_time": "2022-10-09T07:28:21.390Z"
   },
   {
    "duration": 615,
    "start_time": "2022-10-09T07:29:48.959Z"
   },
   {
    "duration": 5,
    "start_time": "2022-10-09T07:30:57.012Z"
   },
   {
    "duration": 978,
    "start_time": "2022-10-09T07:31:06.643Z"
   },
   {
    "duration": 592,
    "start_time": "2022-10-09T07:31:07.623Z"
   },
   {
    "duration": 6,
    "start_time": "2022-10-09T07:31:08.216Z"
   },
   {
    "duration": 351,
    "start_time": "2022-10-09T07:31:08.224Z"
   },
   {
    "duration": 165,
    "start_time": "2022-10-09T07:31:08.578Z"
   },
   {
    "duration": 344,
    "start_time": "2022-10-09T07:31:08.745Z"
   },
   {
    "duration": 3,
    "start_time": "2022-10-09T07:31:09.091Z"
   },
   {
    "duration": 13,
    "start_time": "2022-10-09T07:31:09.096Z"
   },
   {
    "duration": 12,
    "start_time": "2022-10-09T07:31:09.110Z"
   },
   {
    "duration": 4,
    "start_time": "2022-10-09T07:31:09.124Z"
   },
   {
    "duration": 10,
    "start_time": "2022-10-09T07:31:09.130Z"
   },
   {
    "duration": 6,
    "start_time": "2022-10-09T07:31:09.142Z"
   },
   {
    "duration": 8,
    "start_time": "2022-10-09T07:31:09.149Z"
   },
   {
    "duration": 283,
    "start_time": "2022-10-09T07:31:09.159Z"
   },
   {
    "duration": 11,
    "start_time": "2022-10-09T07:31:09.444Z"
   },
   {
    "duration": 3,
    "start_time": "2022-10-09T07:31:09.456Z"
   },
   {
    "duration": 8,
    "start_time": "2022-10-09T07:31:09.461Z"
   },
   {
    "duration": 5,
    "start_time": "2022-10-09T07:31:09.471Z"
   },
   {
    "duration": 13,
    "start_time": "2022-10-09T07:31:09.478Z"
   },
   {
    "duration": 3,
    "start_time": "2022-10-09T07:31:09.521Z"
   },
   {
    "duration": 4,
    "start_time": "2022-10-09T07:31:09.526Z"
   },
   {
    "duration": 4,
    "start_time": "2022-10-09T07:31:09.532Z"
   },
   {
    "duration": 19,
    "start_time": "2022-10-09T07:31:09.537Z"
   },
   {
    "duration": 1009,
    "start_time": "2022-10-09T07:32:52.941Z"
   },
   {
    "duration": 583,
    "start_time": "2022-10-09T07:32:53.952Z"
   },
   {
    "duration": 3,
    "start_time": "2022-10-09T07:32:54.537Z"
   },
   {
    "duration": 362,
    "start_time": "2022-10-09T07:32:54.541Z"
   },
   {
    "duration": 173,
    "start_time": "2022-10-09T07:32:54.904Z"
   },
   {
    "duration": 351,
    "start_time": "2022-10-09T07:32:55.079Z"
   },
   {
    "duration": 3,
    "start_time": "2022-10-09T07:32:55.432Z"
   },
   {
    "duration": 9,
    "start_time": "2022-10-09T07:32:55.436Z"
   },
   {
    "duration": 7,
    "start_time": "2022-10-09T07:32:55.446Z"
   },
   {
    "duration": 2,
    "start_time": "2022-10-09T07:32:55.456Z"
   },
   {
    "duration": 12,
    "start_time": "2022-10-09T07:32:55.460Z"
   },
   {
    "duration": 4,
    "start_time": "2022-10-09T07:32:55.474Z"
   },
   {
    "duration": 7,
    "start_time": "2022-10-09T07:32:55.480Z"
   },
   {
    "duration": 560,
    "start_time": "2022-10-09T07:32:55.489Z"
   },
   {
    "duration": 12,
    "start_time": "2022-10-09T07:32:56.052Z"
   },
   {
    "duration": 82,
    "start_time": "2022-10-09T07:32:56.066Z"
   },
   {
    "duration": 26,
    "start_time": "2022-10-09T07:32:56.150Z"
   },
   {
    "duration": 8,
    "start_time": "2022-10-09T07:32:56.179Z"
   },
   {
    "duration": 49,
    "start_time": "2022-10-09T07:32:56.188Z"
   },
   {
    "duration": 25,
    "start_time": "2022-10-09T07:32:56.239Z"
   },
   {
    "duration": 14,
    "start_time": "2022-10-09T07:32:56.266Z"
   },
   {
    "duration": 42,
    "start_time": "2022-10-09T07:32:56.282Z"
   },
   {
    "duration": 34,
    "start_time": "2022-10-09T07:32:56.326Z"
   },
   {
    "duration": 3,
    "start_time": "2022-10-09T07:33:43.460Z"
   },
   {
    "duration": 95,
    "start_time": "2022-10-09T07:33:45.746Z"
   },
   {
    "duration": 3,
    "start_time": "2022-10-09T07:34:04.236Z"
   },
   {
    "duration": 3,
    "start_time": "2022-10-09T07:34:10.179Z"
   },
   {
    "duration": 7,
    "start_time": "2022-10-09T07:34:11.227Z"
   },
   {
    "duration": 5,
    "start_time": "2022-10-09T07:34:12.394Z"
   },
   {
    "duration": 5,
    "start_time": "2022-10-09T07:35:30.484Z"
   },
   {
    "duration": 4,
    "start_time": "2022-10-09T07:39:26.585Z"
   },
   {
    "duration": 10,
    "start_time": "2022-10-09T07:39:27.771Z"
   },
   {
    "duration": 5,
    "start_time": "2022-10-09T07:39:28.731Z"
   },
   {
    "duration": 4,
    "start_time": "2022-10-09T07:41:00.284Z"
   },
   {
    "duration": 9,
    "start_time": "2022-10-09T07:41:01.056Z"
   },
   {
    "duration": 6,
    "start_time": "2022-10-09T07:41:01.399Z"
   },
   {
    "duration": 3,
    "start_time": "2022-10-09T07:41:28.138Z"
   },
   {
    "duration": 14,
    "start_time": "2022-10-09T07:41:35.870Z"
   },
   {
    "duration": 1203,
    "start_time": "2022-10-09T07:42:38.438Z"
   },
   {
    "duration": 16,
    "start_time": "2022-10-09T07:42:58.014Z"
   },
   {
    "duration": 13,
    "start_time": "2022-10-09T07:43:20.260Z"
   },
   {
    "duration": 1008,
    "start_time": "2022-10-09T07:43:32.351Z"
   },
   {
    "duration": 606,
    "start_time": "2022-10-09T07:43:33.360Z"
   },
   {
    "duration": 3,
    "start_time": "2022-10-09T07:43:33.968Z"
   },
   {
    "duration": 659,
    "start_time": "2022-10-09T07:43:33.974Z"
   },
   {
    "duration": 311,
    "start_time": "2022-10-09T07:43:34.634Z"
   },
   {
    "duration": 677,
    "start_time": "2022-10-09T07:43:34.947Z"
   },
   {
    "duration": 3,
    "start_time": "2022-10-09T07:43:35.626Z"
   },
   {
    "duration": 225,
    "start_time": "2022-10-09T07:43:35.631Z"
   },
   {
    "duration": 0,
    "start_time": "2022-10-09T07:43:35.858Z"
   },
   {
    "duration": 0,
    "start_time": "2022-10-09T07:43:35.859Z"
   },
   {
    "duration": 0,
    "start_time": "2022-10-09T07:43:35.860Z"
   },
   {
    "duration": 0,
    "start_time": "2022-10-09T07:43:35.860Z"
   },
   {
    "duration": 0,
    "start_time": "2022-10-09T07:43:35.861Z"
   },
   {
    "duration": 0,
    "start_time": "2022-10-09T07:43:35.862Z"
   },
   {
    "duration": 0,
    "start_time": "2022-10-09T07:43:35.863Z"
   },
   {
    "duration": 0,
    "start_time": "2022-10-09T07:43:35.865Z"
   },
   {
    "duration": 0,
    "start_time": "2022-10-09T07:43:35.865Z"
   },
   {
    "duration": 0,
    "start_time": "2022-10-09T07:43:35.866Z"
   },
   {
    "duration": 1,
    "start_time": "2022-10-09T07:43:35.867Z"
   },
   {
    "duration": 0,
    "start_time": "2022-10-09T07:43:35.868Z"
   },
   {
    "duration": 0,
    "start_time": "2022-10-09T07:43:35.869Z"
   },
   {
    "duration": 0,
    "start_time": "2022-10-09T07:43:35.870Z"
   },
   {
    "duration": 0,
    "start_time": "2022-10-09T07:43:35.871Z"
   },
   {
    "duration": 11,
    "start_time": "2022-10-09T07:43:52.117Z"
   },
   {
    "duration": 6,
    "start_time": "2022-10-09T07:43:53.284Z"
   },
   {
    "duration": 7,
    "start_time": "2022-10-09T07:46:39.123Z"
   },
   {
    "duration": 5,
    "start_time": "2022-10-09T07:46:39.607Z"
   },
   {
    "duration": 5,
    "start_time": "2022-10-09T07:48:56.430Z"
   },
   {
    "duration": 3,
    "start_time": "2022-10-09T07:52:01.667Z"
   },
   {
    "duration": 7,
    "start_time": "2022-10-09T07:52:02.086Z"
   },
   {
    "duration": 2,
    "start_time": "2022-10-09T07:56:21.897Z"
   },
   {
    "duration": 4,
    "start_time": "2022-10-09T07:56:22.443Z"
   },
   {
    "duration": 3,
    "start_time": "2022-10-09T07:56:23.250Z"
   },
   {
    "duration": 8,
    "start_time": "2022-10-09T07:56:30.509Z"
   },
   {
    "duration": 6,
    "start_time": "2022-10-09T07:56:31.097Z"
   },
   {
    "duration": 279,
    "start_time": "2022-10-09T07:56:43.129Z"
   },
   {
    "duration": 4,
    "start_time": "2022-10-09T07:56:43.600Z"
   },
   {
    "duration": 20,
    "start_time": "2022-10-09T07:57:07.600Z"
   },
   {
    "duration": 3,
    "start_time": "2022-10-09T07:57:14.412Z"
   },
   {
    "duration": 4,
    "start_time": "2022-10-09T07:57:15.778Z"
   },
   {
    "duration": 15,
    "start_time": "2022-10-09T07:58:53.436Z"
   },
   {
    "duration": 16,
    "start_time": "2022-10-09T08:07:25.606Z"
   },
   {
    "duration": 2,
    "start_time": "2022-10-09T08:07:41.923Z"
   },
   {
    "duration": 3,
    "start_time": "2022-10-09T08:07:48.449Z"
   },
   {
    "duration": 10,
    "start_time": "2022-10-09T08:07:53.772Z"
   },
   {
    "duration": 9,
    "start_time": "2022-10-09T08:08:30.425Z"
   },
   {
    "duration": 3,
    "start_time": "2022-10-09T08:09:02.021Z"
   },
   {
    "duration": 11,
    "start_time": "2022-10-09T08:09:02.705Z"
   },
   {
    "duration": 4,
    "start_time": "2022-10-09T08:11:16.613Z"
   },
   {
    "duration": 4430,
    "start_time": "2022-10-09T08:11:17.026Z"
   },
   {
    "duration": 4459,
    "start_time": "2022-10-09T08:28:01.089Z"
   },
   {
    "duration": 91,
    "start_time": "2022-10-09T08:38:43.794Z"
   },
   {
    "duration": 14,
    "start_time": "2022-10-09T08:38:55.989Z"
   },
   {
    "duration": 2,
    "start_time": "2022-10-09T08:39:03.875Z"
   },
   {
    "duration": 1504,
    "start_time": "2022-10-09T08:39:04.198Z"
   },
   {
    "duration": 7044,
    "start_time": "2022-10-09T08:39:43.096Z"
   },
   {
    "duration": 142,
    "start_time": "2022-10-09T08:40:08.340Z"
   },
   {
    "duration": 5013,
    "start_time": "2022-10-09T08:40:30.556Z"
   },
   {
    "duration": 1376,
    "start_time": "2022-10-09T09:24:52.211Z"
   },
   {
    "duration": 629,
    "start_time": "2022-10-09T09:24:53.588Z"
   },
   {
    "duration": 4,
    "start_time": "2022-10-09T09:24:54.218Z"
   },
   {
    "duration": 363,
    "start_time": "2022-10-09T09:24:54.225Z"
   },
   {
    "duration": 166,
    "start_time": "2022-10-09T09:24:54.590Z"
   },
   {
    "duration": 472,
    "start_time": "2022-10-09T09:24:54.757Z"
   },
   {
    "duration": 4,
    "start_time": "2022-10-09T09:24:55.230Z"
   },
   {
    "duration": 29,
    "start_time": "2022-10-09T09:24:55.235Z"
   },
   {
    "duration": 23,
    "start_time": "2022-10-09T09:24:55.266Z"
   },
   {
    "duration": 33,
    "start_time": "2022-10-09T09:24:55.292Z"
   },
   {
    "duration": 23,
    "start_time": "2022-10-09T09:24:55.329Z"
   },
   {
    "duration": 56,
    "start_time": "2022-10-09T09:24:55.354Z"
   },
   {
    "duration": 65,
    "start_time": "2022-10-09T09:24:55.411Z"
   },
   {
    "duration": 4,
    "start_time": "2022-10-09T09:24:55.478Z"
   },
   {
    "duration": 38,
    "start_time": "2022-10-09T09:24:55.484Z"
   },
   {
    "duration": 31,
    "start_time": "2022-10-09T09:24:55.524Z"
   },
   {
    "duration": 37,
    "start_time": "2022-10-09T09:24:55.557Z"
   },
   {
    "duration": 8,
    "start_time": "2022-10-09T09:24:55.596Z"
   },
   {
    "duration": 28,
    "start_time": "2022-10-09T09:24:55.606Z"
   },
   {
    "duration": 36,
    "start_time": "2022-10-09T09:24:55.636Z"
   },
   {
    "duration": 17,
    "start_time": "2022-10-09T09:24:55.674Z"
   },
   {
    "duration": 4454,
    "start_time": "2022-10-09T09:24:55.693Z"
   },
   {
    "duration": 107,
    "start_time": "2022-10-09T09:25:08.193Z"
   },
   {
    "duration": 4353,
    "start_time": "2022-10-09T09:25:16.275Z"
   },
   {
    "duration": 4329,
    "start_time": "2022-10-09T09:25:35.128Z"
   },
   {
    "duration": 4435,
    "start_time": "2022-10-09T09:25:51.180Z"
   },
   {
    "duration": 3,
    "start_time": "2022-10-09T09:27:36.774Z"
   },
   {
    "duration": 4383,
    "start_time": "2022-10-09T09:27:37.571Z"
   },
   {
    "duration": 10,
    "start_time": "2022-10-09T09:32:04.796Z"
   },
   {
    "duration": 11,
    "start_time": "2022-10-09T09:32:16.273Z"
   },
   {
    "duration": 2,
    "start_time": "2022-10-09T09:32:22.499Z"
   },
   {
    "duration": 4587,
    "start_time": "2022-10-09T09:32:22.994Z"
   },
   {
    "duration": 15,
    "start_time": "2022-10-09T09:32:27.584Z"
   },
   {
    "duration": 3,
    "start_time": "2022-10-09T09:32:48.667Z"
   },
   {
    "duration": 4786,
    "start_time": "2022-10-09T09:32:50.840Z"
   },
   {
    "duration": 18,
    "start_time": "2022-10-09T09:32:55.628Z"
   },
   {
    "duration": 15,
    "start_time": "2022-10-09T09:33:09.815Z"
   },
   {
    "duration": 246,
    "start_time": "2022-10-09T09:33:19.068Z"
   },
   {
    "duration": 70,
    "start_time": "2022-10-09T09:33:34.019Z"
   },
   {
    "duration": 213,
    "start_time": "2022-10-09T09:33:54.871Z"
   },
   {
    "duration": 73,
    "start_time": "2022-10-09T09:34:12.302Z"
   },
   {
    "duration": 1508,
    "start_time": "2022-10-09T09:34:20.436Z"
   },
   {
    "duration": 7,
    "start_time": "2022-10-09T09:35:06.151Z"
   },
   {
    "duration": 236,
    "start_time": "2022-10-09T09:35:29.695Z"
   },
   {
    "duration": 431,
    "start_time": "2022-10-09T09:35:53.828Z"
   },
   {
    "duration": 263,
    "start_time": "2022-10-09T09:36:12.904Z"
   },
   {
    "duration": 1687,
    "start_time": "2022-10-09T09:37:14.995Z"
   },
   {
    "duration": 1249,
    "start_time": "2022-10-09T09:37:28.627Z"
   },
   {
    "duration": 206,
    "start_time": "2022-10-09T09:37:38.406Z"
   },
   {
    "duration": 196,
    "start_time": "2022-10-09T09:38:28.143Z"
   },
   {
    "duration": 3,
    "start_time": "2022-10-09T09:43:55.344Z"
   },
   {
    "duration": 216,
    "start_time": "2022-10-09T09:43:56.516Z"
   },
   {
    "duration": 4,
    "start_time": "2022-10-09T09:44:21.182Z"
   },
   {
    "duration": 198,
    "start_time": "2022-10-09T09:44:22.662Z"
   },
   {
    "duration": 545,
    "start_time": "2022-10-09T09:46:30.957Z"
   },
   {
    "duration": 97,
    "start_time": "2022-10-09T09:46:37.755Z"
   },
   {
    "duration": 205,
    "start_time": "2022-10-09T09:46:45.602Z"
   },
   {
    "duration": 211,
    "start_time": "2022-10-09T09:47:07.306Z"
   },
   {
    "duration": 15,
    "start_time": "2022-10-09T09:47:13.437Z"
   },
   {
    "duration": 277,
    "start_time": "2022-10-09T09:47:16.453Z"
   },
   {
    "duration": 11,
    "start_time": "2022-10-09T10:02:48.175Z"
   },
   {
    "duration": 885,
    "start_time": "2022-10-09T10:03:04.001Z"
   },
   {
    "duration": 1008,
    "start_time": "2022-10-09T10:03:50.616Z"
   },
   {
    "duration": 327,
    "start_time": "2022-10-09T10:04:22.978Z"
   },
   {
    "duration": 824,
    "start_time": "2022-10-09T10:04:27.997Z"
   },
   {
    "duration": 1013,
    "start_time": "2022-10-09T10:04:52.435Z"
   },
   {
    "duration": 268,
    "start_time": "2022-10-09T10:05:19.285Z"
   },
   {
    "duration": 896,
    "start_time": "2022-10-09T10:05:28.532Z"
   },
   {
    "duration": 924,
    "start_time": "2022-10-09T10:09:11.731Z"
   },
   {
    "duration": 921,
    "start_time": "2022-10-09T10:09:19.560Z"
   },
   {
    "duration": 779,
    "start_time": "2022-10-09T10:09:26.223Z"
   },
   {
    "duration": 22,
    "start_time": "2022-10-09T10:09:37.153Z"
   },
   {
    "duration": 951,
    "start_time": "2022-10-09T10:09:44.776Z"
   },
   {
    "duration": 23,
    "start_time": "2022-10-09T10:09:53.844Z"
   },
   {
    "duration": 843,
    "start_time": "2022-10-09T10:09:57.859Z"
   },
   {
    "duration": 9,
    "start_time": "2022-10-09T10:20:31.454Z"
   },
   {
    "duration": 10,
    "start_time": "2022-10-09T10:20:54.900Z"
   },
   {
    "duration": 26,
    "start_time": "2022-10-09T10:21:03.713Z"
   },
   {
    "duration": 44,
    "start_time": "2022-10-09T10:21:58.604Z"
   },
   {
    "duration": 44,
    "start_time": "2022-10-09T10:22:02.617Z"
   },
   {
    "duration": 789,
    "start_time": "2022-10-09T10:22:47.001Z"
   },
   {
    "duration": 122,
    "start_time": "2022-10-09T10:23:06.894Z"
   },
   {
    "duration": 828,
    "start_time": "2022-10-09T10:23:14.893Z"
   },
   {
    "duration": 37,
    "start_time": "2022-10-09T10:32:36.445Z"
   },
   {
    "duration": 773,
    "start_time": "2022-10-09T10:32:57.971Z"
   },
   {
    "duration": 1647,
    "start_time": "2022-10-09T10:35:12.016Z"
   },
   {
    "duration": 633,
    "start_time": "2022-10-09T10:35:13.665Z"
   },
   {
    "duration": 3,
    "start_time": "2022-10-09T10:35:14.300Z"
   },
   {
    "duration": 347,
    "start_time": "2022-10-09T10:35:14.305Z"
   },
   {
    "duration": 161,
    "start_time": "2022-10-09T10:35:14.654Z"
   },
   {
    "duration": 343,
    "start_time": "2022-10-09T10:35:14.821Z"
   },
   {
    "duration": 3,
    "start_time": "2022-10-09T10:35:15.166Z"
   },
   {
    "duration": 23,
    "start_time": "2022-10-09T10:35:15.170Z"
   },
   {
    "duration": 4,
    "start_time": "2022-10-09T10:35:15.194Z"
   },
   {
    "duration": 5,
    "start_time": "2022-10-09T10:35:15.201Z"
   },
   {
    "duration": 9,
    "start_time": "2022-10-09T10:35:15.208Z"
   },
   {
    "duration": 6,
    "start_time": "2022-10-09T10:35:15.221Z"
   },
   {
    "duration": 60,
    "start_time": "2022-10-09T10:35:15.228Z"
   },
   {
    "duration": 4,
    "start_time": "2022-10-09T10:35:15.289Z"
   },
   {
    "duration": 11,
    "start_time": "2022-10-09T10:35:15.294Z"
   },
   {
    "duration": 6,
    "start_time": "2022-10-09T10:35:15.306Z"
   },
   {
    "duration": 20,
    "start_time": "2022-10-09T10:35:15.313Z"
   },
   {
    "duration": 3,
    "start_time": "2022-10-09T10:35:15.335Z"
   },
   {
    "duration": 8,
    "start_time": "2022-10-09T10:35:15.339Z"
   },
   {
    "duration": 15,
    "start_time": "2022-10-09T10:35:15.348Z"
   },
   {
    "duration": 3,
    "start_time": "2022-10-09T10:35:15.365Z"
   },
   {
    "duration": 21,
    "start_time": "2022-10-09T10:35:15.370Z"
   },
   {
    "duration": 209,
    "start_time": "2022-10-09T10:35:15.393Z"
   },
   {
    "duration": 1007,
    "start_time": "2022-10-09T10:35:15.604Z"
   },
   {
    "duration": 26,
    "start_time": "2022-10-09T10:35:16.613Z"
   },
   {
    "duration": 37,
    "start_time": "2022-10-09T10:35:16.640Z"
   },
   {
    "duration": 729,
    "start_time": "2022-10-09T10:35:16.678Z"
   },
   {
    "duration": 50,
    "start_time": "2022-10-09T10:37:20.273Z"
   },
   {
    "duration": 1439,
    "start_time": "2022-10-09T10:37:50.818Z"
   },
   {
    "duration": 605,
    "start_time": "2022-10-09T10:37:52.258Z"
   },
   {
    "duration": 3,
    "start_time": "2022-10-09T10:37:52.865Z"
   },
   {
    "duration": 356,
    "start_time": "2022-10-09T10:37:52.870Z"
   },
   {
    "duration": 160,
    "start_time": "2022-10-09T10:37:53.228Z"
   },
   {
    "duration": 336,
    "start_time": "2022-10-09T10:37:53.390Z"
   },
   {
    "duration": 3,
    "start_time": "2022-10-09T10:37:53.728Z"
   },
   {
    "duration": 12,
    "start_time": "2022-10-09T10:37:53.732Z"
   },
   {
    "duration": 5,
    "start_time": "2022-10-09T10:37:53.745Z"
   },
   {
    "duration": 5,
    "start_time": "2022-10-09T10:37:53.751Z"
   },
   {
    "duration": 21,
    "start_time": "2022-10-09T10:37:53.757Z"
   },
   {
    "duration": 8,
    "start_time": "2022-10-09T10:37:53.780Z"
   },
   {
    "duration": 59,
    "start_time": "2022-10-09T10:37:53.789Z"
   },
   {
    "duration": 3,
    "start_time": "2022-10-09T10:37:53.850Z"
   },
   {
    "duration": 10,
    "start_time": "2022-10-09T10:37:53.855Z"
   },
   {
    "duration": 7,
    "start_time": "2022-10-09T10:37:53.866Z"
   },
   {
    "duration": 16,
    "start_time": "2022-10-09T10:37:53.874Z"
   },
   {
    "duration": 32,
    "start_time": "2022-10-09T10:37:53.891Z"
   },
   {
    "duration": 3,
    "start_time": "2022-10-09T10:37:53.925Z"
   },
   {
    "duration": 20,
    "start_time": "2022-10-09T10:37:53.929Z"
   },
   {
    "duration": 3,
    "start_time": "2022-10-09T10:37:53.950Z"
   },
   {
    "duration": 16,
    "start_time": "2022-10-09T10:37:53.954Z"
   },
   {
    "duration": 199,
    "start_time": "2022-10-09T10:37:53.971Z"
   },
   {
    "duration": 866,
    "start_time": "2022-10-09T10:37:54.171Z"
   },
   {
    "duration": 18,
    "start_time": "2022-10-09T10:37:55.039Z"
   },
   {
    "duration": 36,
    "start_time": "2022-10-09T10:37:55.059Z"
   },
   {
    "duration": 703,
    "start_time": "2022-10-09T10:37:55.096Z"
   },
   {
    "duration": 92,
    "start_time": "2022-10-09T10:40:38.298Z"
   },
   {
    "duration": 8,
    "start_time": "2022-10-09T10:41:18.634Z"
   },
   {
    "duration": 27,
    "start_time": "2022-10-09T10:41:22.438Z"
   },
   {
    "duration": 7,
    "start_time": "2022-10-09T10:41:43.251Z"
   },
   {
    "duration": 25,
    "start_time": "2022-10-09T10:41:44.294Z"
   },
   {
    "duration": 7,
    "start_time": "2022-10-09T10:41:51.959Z"
   },
   {
    "duration": 26,
    "start_time": "2022-10-09T10:41:52.372Z"
   },
   {
    "duration": 7,
    "start_time": "2022-10-09T10:42:11.494Z"
   },
   {
    "duration": 25,
    "start_time": "2022-10-09T10:42:11.923Z"
   },
   {
    "duration": 1301,
    "start_time": "2022-10-09T10:42:23.631Z"
   },
   {
    "duration": 632,
    "start_time": "2022-10-09T10:42:24.934Z"
   },
   {
    "duration": 3,
    "start_time": "2022-10-09T10:42:25.568Z"
   },
   {
    "duration": 369,
    "start_time": "2022-10-09T10:42:25.572Z"
   },
   {
    "duration": 206,
    "start_time": "2022-10-09T10:42:25.943Z"
   },
   {
    "duration": 357,
    "start_time": "2022-10-09T10:42:26.151Z"
   },
   {
    "duration": 4,
    "start_time": "2022-10-09T10:42:26.509Z"
   },
   {
    "duration": 13,
    "start_time": "2022-10-09T10:42:26.514Z"
   },
   {
    "duration": 4,
    "start_time": "2022-10-09T10:42:26.528Z"
   },
   {
    "duration": 4,
    "start_time": "2022-10-09T10:42:26.534Z"
   },
   {
    "duration": 9,
    "start_time": "2022-10-09T10:42:26.539Z"
   },
   {
    "duration": 5,
    "start_time": "2022-10-09T10:42:26.549Z"
   },
   {
    "duration": 75,
    "start_time": "2022-10-09T10:42:26.555Z"
   },
   {
    "duration": 3,
    "start_time": "2022-10-09T10:42:26.632Z"
   },
   {
    "duration": 11,
    "start_time": "2022-10-09T10:42:26.636Z"
   },
   {
    "duration": 7,
    "start_time": "2022-10-09T10:42:26.649Z"
   },
   {
    "duration": 18,
    "start_time": "2022-10-09T10:42:26.657Z"
   },
   {
    "duration": 4,
    "start_time": "2022-10-09T10:42:26.676Z"
   },
   {
    "duration": 7,
    "start_time": "2022-10-09T10:42:26.682Z"
   },
   {
    "duration": 35,
    "start_time": "2022-10-09T10:42:26.690Z"
   },
   {
    "duration": 2,
    "start_time": "2022-10-09T10:42:26.727Z"
   },
   {
    "duration": 19,
    "start_time": "2022-10-09T10:42:26.730Z"
   },
   {
    "duration": 199,
    "start_time": "2022-10-09T10:42:26.750Z"
   },
   {
    "duration": 872,
    "start_time": "2022-10-09T10:42:26.950Z"
   },
   {
    "duration": 19,
    "start_time": "2022-10-09T10:42:27.824Z"
   },
   {
    "duration": 40,
    "start_time": "2022-10-09T10:42:27.845Z"
   },
   {
    "duration": 711,
    "start_time": "2022-10-09T10:42:27.887Z"
   },
   {
    "duration": 1230,
    "start_time": "2022-10-09T10:49:22.870Z"
   },
   {
    "duration": 645,
    "start_time": "2022-10-09T10:49:24.102Z"
   },
   {
    "duration": 4,
    "start_time": "2022-10-09T10:49:24.748Z"
   },
   {
    "duration": 374,
    "start_time": "2022-10-09T10:49:24.754Z"
   },
   {
    "duration": 160,
    "start_time": "2022-10-09T10:49:25.130Z"
   },
   {
    "duration": 338,
    "start_time": "2022-10-09T10:49:25.292Z"
   },
   {
    "duration": 3,
    "start_time": "2022-10-09T10:49:25.632Z"
   },
   {
    "duration": 13,
    "start_time": "2022-10-09T10:49:25.637Z"
   },
   {
    "duration": 4,
    "start_time": "2022-10-09T10:49:25.652Z"
   },
   {
    "duration": 4,
    "start_time": "2022-10-09T10:49:25.658Z"
   },
   {
    "duration": 9,
    "start_time": "2022-10-09T10:49:25.664Z"
   },
   {
    "duration": 4,
    "start_time": "2022-10-09T10:49:25.674Z"
   },
   {
    "duration": 66,
    "start_time": "2022-10-09T10:49:25.679Z"
   },
   {
    "duration": 2,
    "start_time": "2022-10-09T10:49:25.747Z"
   },
   {
    "duration": 10,
    "start_time": "2022-10-09T10:49:25.751Z"
   },
   {
    "duration": 6,
    "start_time": "2022-10-09T10:49:25.762Z"
   },
   {
    "duration": 15,
    "start_time": "2022-10-09T10:49:25.769Z"
   },
   {
    "duration": 4,
    "start_time": "2022-10-09T10:49:25.785Z"
   },
   {
    "duration": 32,
    "start_time": "2022-10-09T10:49:25.790Z"
   },
   {
    "duration": 15,
    "start_time": "2022-10-09T10:49:25.823Z"
   },
   {
    "duration": 3,
    "start_time": "2022-10-09T10:49:25.840Z"
   },
   {
    "duration": 19,
    "start_time": "2022-10-09T10:49:25.844Z"
   },
   {
    "duration": 238,
    "start_time": "2022-10-09T10:49:25.864Z"
   },
   {
    "duration": 1637,
    "start_time": "2022-10-09T10:49:26.104Z"
   },
   {
    "duration": 19,
    "start_time": "2022-10-09T10:49:27.742Z"
   },
   {
    "duration": 91,
    "start_time": "2022-10-09T10:49:27.763Z"
   },
   {
    "duration": 735,
    "start_time": "2022-10-09T10:49:27.856Z"
   },
   {
    "duration": 1259,
    "start_time": "2022-10-09T10:50:40.695Z"
   },
   {
    "duration": 91,
    "start_time": "2022-10-09T10:50:41.956Z"
   },
   {
    "duration": 0,
    "start_time": "2022-10-09T10:50:42.051Z"
   },
   {
    "duration": 0,
    "start_time": "2022-10-09T10:50:42.052Z"
   },
   {
    "duration": 0,
    "start_time": "2022-10-09T10:50:42.053Z"
   },
   {
    "duration": 0,
    "start_time": "2022-10-09T10:50:42.054Z"
   },
   {
    "duration": 0,
    "start_time": "2022-10-09T10:50:42.055Z"
   },
   {
    "duration": 0,
    "start_time": "2022-10-09T10:50:42.056Z"
   },
   {
    "duration": 0,
    "start_time": "2022-10-09T10:50:42.057Z"
   },
   {
    "duration": 0,
    "start_time": "2022-10-09T10:50:42.058Z"
   },
   {
    "duration": 0,
    "start_time": "2022-10-09T10:50:42.059Z"
   },
   {
    "duration": 0,
    "start_time": "2022-10-09T10:50:42.060Z"
   },
   {
    "duration": 0,
    "start_time": "2022-10-09T10:50:42.061Z"
   },
   {
    "duration": 0,
    "start_time": "2022-10-09T10:50:42.062Z"
   },
   {
    "duration": 0,
    "start_time": "2022-10-09T10:50:42.063Z"
   },
   {
    "duration": 0,
    "start_time": "2022-10-09T10:50:42.064Z"
   },
   {
    "duration": 0,
    "start_time": "2022-10-09T10:50:42.065Z"
   },
   {
    "duration": 0,
    "start_time": "2022-10-09T10:50:42.066Z"
   },
   {
    "duration": 0,
    "start_time": "2022-10-09T10:50:42.067Z"
   },
   {
    "duration": 0,
    "start_time": "2022-10-09T10:50:42.068Z"
   },
   {
    "duration": 0,
    "start_time": "2022-10-09T10:50:42.069Z"
   },
   {
    "duration": 0,
    "start_time": "2022-10-09T10:50:42.070Z"
   },
   {
    "duration": 0,
    "start_time": "2022-10-09T10:50:42.070Z"
   },
   {
    "duration": 0,
    "start_time": "2022-10-09T10:50:42.071Z"
   },
   {
    "duration": 0,
    "start_time": "2022-10-09T10:50:42.072Z"
   },
   {
    "duration": 0,
    "start_time": "2022-10-09T10:50:42.073Z"
   },
   {
    "duration": 0,
    "start_time": "2022-10-09T10:50:42.074Z"
   },
   {
    "duration": 650,
    "start_time": "2022-10-09T10:51:44.845Z"
   },
   {
    "duration": 21,
    "start_time": "2022-10-09T10:51:55.808Z"
   },
   {
    "duration": 632,
    "start_time": "2022-10-09T10:52:20.517Z"
   },
   {
    "duration": 3,
    "start_time": "2022-10-09T10:52:22.070Z"
   },
   {
    "duration": 1244,
    "start_time": "2022-10-09T10:52:28.405Z"
   },
   {
    "duration": 631,
    "start_time": "2022-10-09T10:52:29.651Z"
   },
   {
    "duration": 3,
    "start_time": "2022-10-09T10:52:30.286Z"
   },
   {
    "duration": 370,
    "start_time": "2022-10-09T10:52:30.291Z"
   },
   {
    "duration": 170,
    "start_time": "2022-10-09T10:52:30.663Z"
   },
   {
    "duration": 359,
    "start_time": "2022-10-09T10:52:30.834Z"
   },
   {
    "duration": 3,
    "start_time": "2022-10-09T10:52:31.195Z"
   },
   {
    "duration": 16,
    "start_time": "2022-10-09T10:52:31.200Z"
   },
   {
    "duration": 36,
    "start_time": "2022-10-09T10:52:31.221Z"
   },
   {
    "duration": 43,
    "start_time": "2022-10-09T10:52:31.258Z"
   },
   {
    "duration": 36,
    "start_time": "2022-10-09T10:52:31.302Z"
   },
   {
    "duration": 5,
    "start_time": "2022-10-09T10:52:31.340Z"
   },
   {
    "duration": 63,
    "start_time": "2022-10-09T10:52:31.347Z"
   },
   {
    "duration": 3,
    "start_time": "2022-10-09T10:52:31.412Z"
   },
   {
    "duration": 25,
    "start_time": "2022-10-09T10:52:31.417Z"
   },
   {
    "duration": 16,
    "start_time": "2022-10-09T10:52:31.443Z"
   },
   {
    "duration": 15,
    "start_time": "2022-10-09T10:52:31.460Z"
   },
   {
    "duration": 5,
    "start_time": "2022-10-09T10:52:31.476Z"
   },
   {
    "duration": 11,
    "start_time": "2022-10-09T10:52:31.482Z"
   },
   {
    "duration": 26,
    "start_time": "2022-10-09T10:52:31.494Z"
   },
   {
    "duration": 11,
    "start_time": "2022-10-09T10:52:31.522Z"
   },
   {
    "duration": 25,
    "start_time": "2022-10-09T10:52:31.534Z"
   },
   {
    "duration": 304,
    "start_time": "2022-10-09T10:52:31.560Z"
   },
   {
    "duration": 1586,
    "start_time": "2022-10-09T10:52:31.865Z"
   },
   {
    "duration": 19,
    "start_time": "2022-10-09T10:52:33.453Z"
   },
   {
    "duration": 39,
    "start_time": "2022-10-09T10:52:33.473Z"
   },
   {
    "duration": 713,
    "start_time": "2022-10-09T10:52:33.523Z"
   },
   {
    "duration": 1238,
    "start_time": "2022-10-09T10:54:09.823Z"
   },
   {
    "duration": 723,
    "start_time": "2022-10-09T10:54:11.063Z"
   },
   {
    "duration": 5,
    "start_time": "2022-10-09T10:54:11.788Z"
   },
   {
    "duration": 400,
    "start_time": "2022-10-09T10:54:11.795Z"
   },
   {
    "duration": 172,
    "start_time": "2022-10-09T10:54:12.197Z"
   },
   {
    "duration": 384,
    "start_time": "2022-10-09T10:54:12.371Z"
   },
   {
    "duration": 4,
    "start_time": "2022-10-09T10:54:12.756Z"
   },
   {
    "duration": 16,
    "start_time": "2022-10-09T10:54:12.761Z"
   },
   {
    "duration": 19,
    "start_time": "2022-10-09T10:54:12.779Z"
   },
   {
    "duration": 5,
    "start_time": "2022-10-09T10:54:12.801Z"
   },
   {
    "duration": 18,
    "start_time": "2022-10-09T10:54:12.808Z"
   },
   {
    "duration": 14,
    "start_time": "2022-10-09T10:54:12.828Z"
   },
   {
    "duration": 58,
    "start_time": "2022-10-09T10:54:12.844Z"
   },
   {
    "duration": 3,
    "start_time": "2022-10-09T10:54:12.904Z"
   },
   {
    "duration": 14,
    "start_time": "2022-10-09T10:54:12.909Z"
   },
   {
    "duration": 11,
    "start_time": "2022-10-09T10:54:12.925Z"
   },
   {
    "duration": 18,
    "start_time": "2022-10-09T10:54:12.938Z"
   },
   {
    "duration": 4,
    "start_time": "2022-10-09T10:54:12.957Z"
   },
   {
    "duration": 5,
    "start_time": "2022-10-09T10:54:12.962Z"
   },
   {
    "duration": 129,
    "start_time": "2022-10-09T10:54:12.969Z"
   },
   {
    "duration": 0,
    "start_time": "2022-10-09T10:54:13.099Z"
   },
   {
    "duration": 0,
    "start_time": "2022-10-09T10:54:13.100Z"
   },
   {
    "duration": 0,
    "start_time": "2022-10-09T10:54:13.101Z"
   },
   {
    "duration": 0,
    "start_time": "2022-10-09T10:54:13.102Z"
   },
   {
    "duration": 0,
    "start_time": "2022-10-09T10:54:13.104Z"
   },
   {
    "duration": 0,
    "start_time": "2022-10-09T10:54:13.105Z"
   },
   {
    "duration": 8,
    "start_time": "2022-10-09T10:54:41.632Z"
   },
   {
    "duration": 1141,
    "start_time": "2022-10-09T10:54:47.023Z"
   },
   {
    "duration": 1259,
    "start_time": "2022-10-09T10:56:41.293Z"
   },
   {
    "duration": 1281,
    "start_time": "2022-10-09T10:56:51.681Z"
   },
   {
    "duration": 13,
    "start_time": "2022-10-09T10:57:14.175Z"
   },
   {
    "duration": 3,
    "start_time": "2022-10-09T10:57:34.308Z"
   },
   {
    "duration": 15,
    "start_time": "2022-10-09T10:57:34.834Z"
   },
   {
    "duration": 185,
    "start_time": "2022-10-09T10:57:35.106Z"
   },
   {
    "duration": 924,
    "start_time": "2022-10-09T10:57:37.095Z"
   },
   {
    "duration": 42,
    "start_time": "2022-10-09T10:57:38.330Z"
   },
   {
    "duration": 732,
    "start_time": "2022-10-09T10:57:39.523Z"
   },
   {
    "duration": 48,
    "start_time": "2022-10-09T10:58:48.106Z"
   },
   {
    "duration": 761,
    "start_time": "2022-10-09T10:59:28.853Z"
   },
   {
    "duration": 42,
    "start_time": "2022-10-09T11:02:05.660Z"
   },
   {
    "duration": 120,
    "start_time": "2022-10-09T11:05:39.433Z"
   },
   {
    "duration": 31,
    "start_time": "2022-10-09T11:05:45.609Z"
   },
   {
    "duration": 10,
    "start_time": "2022-10-09T11:05:55.408Z"
   },
   {
    "duration": 9,
    "start_time": "2022-10-09T11:06:07.493Z"
   },
   {
    "duration": 45,
    "start_time": "2022-10-09T11:06:20.636Z"
   },
   {
    "duration": 50,
    "start_time": "2022-10-09T11:07:48.935Z"
   },
   {
    "duration": 18,
    "start_time": "2022-10-09T11:10:36.049Z"
   },
   {
    "duration": 36,
    "start_time": "2022-10-09T11:11:21.581Z"
   },
   {
    "duration": 1019,
    "start_time": "2022-10-09T11:11:21.863Z"
   },
   {
    "duration": 108,
    "start_time": "2022-10-09T11:12:11.477Z"
   },
   {
    "duration": 75,
    "start_time": "2022-10-09T11:12:20.401Z"
   },
   {
    "duration": 950,
    "start_time": "2022-10-09T11:12:26.810Z"
   },
   {
    "duration": 78,
    "start_time": "2022-10-09T11:12:47.609Z"
   },
   {
    "duration": 846,
    "start_time": "2022-10-09T11:12:54.519Z"
   },
   {
    "duration": 1065,
    "start_time": "2022-10-09T11:13:05.381Z"
   },
   {
    "duration": 935,
    "start_time": "2022-10-09T11:13:14.977Z"
   },
   {
    "duration": 760,
    "start_time": "2022-10-09T11:13:29.527Z"
   },
   {
    "duration": 962,
    "start_time": "2022-10-09T11:14:20.861Z"
   },
   {
    "duration": 1259,
    "start_time": "2022-10-09T11:14:43.013Z"
   },
   {
    "duration": 736,
    "start_time": "2022-10-09T11:14:44.274Z"
   },
   {
    "duration": 4,
    "start_time": "2022-10-09T11:14:45.013Z"
   },
   {
    "duration": 443,
    "start_time": "2022-10-09T11:14:45.022Z"
   },
   {
    "duration": 173,
    "start_time": "2022-10-09T11:14:45.467Z"
   },
   {
    "duration": 381,
    "start_time": "2022-10-09T11:14:45.642Z"
   },
   {
    "duration": 3,
    "start_time": "2022-10-09T11:14:46.025Z"
   },
   {
    "duration": 23,
    "start_time": "2022-10-09T11:14:46.030Z"
   },
   {
    "duration": 9,
    "start_time": "2022-10-09T11:14:46.056Z"
   },
   {
    "duration": 9,
    "start_time": "2022-10-09T11:14:46.069Z"
   },
   {
    "duration": 18,
    "start_time": "2022-10-09T11:14:46.081Z"
   },
   {
    "duration": 10,
    "start_time": "2022-10-09T11:14:46.102Z"
   },
   {
    "duration": 88,
    "start_time": "2022-10-09T11:14:46.115Z"
   },
   {
    "duration": 5,
    "start_time": "2022-10-09T11:14:46.205Z"
   },
   {
    "duration": 16,
    "start_time": "2022-10-09T11:14:46.211Z"
   },
   {
    "duration": 22,
    "start_time": "2022-10-09T11:14:46.228Z"
   },
   {
    "duration": 28,
    "start_time": "2022-10-09T11:14:46.252Z"
   },
   {
    "duration": 4,
    "start_time": "2022-10-09T11:14:46.281Z"
   },
   {
    "duration": 7,
    "start_time": "2022-10-09T11:14:46.287Z"
   },
   {
    "duration": 14,
    "start_time": "2022-10-09T11:14:46.296Z"
   },
   {
    "duration": 4,
    "start_time": "2022-10-09T11:14:46.311Z"
   },
   {
    "duration": 23,
    "start_time": "2022-10-09T11:14:46.316Z"
   },
   {
    "duration": 207,
    "start_time": "2022-10-09T11:14:46.340Z"
   },
   {
    "duration": 1791,
    "start_time": "2022-10-09T11:14:46.548Z"
   },
   {
    "duration": 31,
    "start_time": "2022-10-09T11:14:48.340Z"
   },
   {
    "duration": 825,
    "start_time": "2022-10-09T11:14:48.373Z"
   },
   {
    "duration": 820,
    "start_time": "2022-10-09T11:15:38.203Z"
   },
   {
    "duration": 786,
    "start_time": "2022-10-09T11:15:50.832Z"
   },
   {
    "duration": 904,
    "start_time": "2022-10-09T11:15:59.732Z"
   },
   {
    "duration": 815,
    "start_time": "2022-10-09T11:16:11.438Z"
   },
   {
    "duration": 853,
    "start_time": "2022-10-09T11:16:16.896Z"
   },
   {
    "duration": 876,
    "start_time": "2022-10-09T11:16:46.599Z"
   },
   {
    "duration": 681,
    "start_time": "2022-10-09T11:17:08.040Z"
   },
   {
    "duration": 93,
    "start_time": "2022-10-09T11:18:01.499Z"
   },
   {
    "duration": 271,
    "start_time": "2022-10-09T11:18:08.545Z"
   },
   {
    "duration": 946,
    "start_time": "2022-10-09T11:18:36.819Z"
   },
   {
    "duration": 131,
    "start_time": "2022-10-09T11:57:31.094Z"
   },
   {
    "duration": 10,
    "start_time": "2022-10-09T11:57:46.714Z"
   },
   {
    "duration": 767,
    "start_time": "2022-10-09T11:58:03.169Z"
   },
   {
    "duration": 9,
    "start_time": "2022-10-09T12:00:14.304Z"
   },
   {
    "duration": 6,
    "start_time": "2022-10-09T12:00:18.289Z"
   },
   {
    "duration": 18,
    "start_time": "2022-10-09T12:00:19.036Z"
   },
   {
    "duration": 8,
    "start_time": "2022-10-09T12:01:29.811Z"
   },
   {
    "duration": 4,
    "start_time": "2022-10-09T12:01:32.408Z"
   },
   {
    "duration": 13,
    "start_time": "2022-10-09T12:01:32.981Z"
   },
   {
    "duration": 3,
    "start_time": "2022-10-09T12:02:12.662Z"
   },
   {
    "duration": 156,
    "start_time": "2022-10-09T12:02:14.135Z"
   },
   {
    "duration": 112,
    "start_time": "2022-10-09T12:03:08.376Z"
   },
   {
    "duration": 65,
    "start_time": "2022-10-09T12:04:52.088Z"
   },
   {
    "duration": 17,
    "start_time": "2022-10-09T12:04:57.139Z"
   },
   {
    "duration": 15,
    "start_time": "2022-10-09T12:05:06.345Z"
   },
   {
    "duration": 8,
    "start_time": "2022-10-09T12:08:17.483Z"
   },
   {
    "duration": 10,
    "start_time": "2022-10-09T12:08:23.444Z"
   },
   {
    "duration": 9,
    "start_time": "2022-10-09T12:09:17.530Z"
   },
   {
    "duration": 128,
    "start_time": "2022-10-09T12:09:24.880Z"
   },
   {
    "duration": 120,
    "start_time": "2022-10-09T12:10:38.385Z"
   },
   {
    "duration": 152,
    "start_time": "2022-10-09T12:10:56.211Z"
   },
   {
    "duration": 202,
    "start_time": "2022-10-09T12:11:02.422Z"
   },
   {
    "duration": 173,
    "start_time": "2022-10-09T12:14:42.317Z"
   },
   {
    "duration": 201,
    "start_time": "2022-10-09T12:14:51.112Z"
   },
   {
    "duration": 457,
    "start_time": "2022-10-09T12:18:20.200Z"
   },
   {
    "duration": 4,
    "start_time": "2022-10-09T12:19:49.580Z"
   },
   {
    "duration": 6,
    "start_time": "2022-10-09T12:40:08.280Z"
   },
   {
    "duration": 4,
    "start_time": "2022-10-09T12:40:36.332Z"
   },
   {
    "duration": 11,
    "start_time": "2022-10-09T12:40:56.271Z"
   },
   {
    "duration": 2,
    "start_time": "2022-10-09T12:43:09.418Z"
   },
   {
    "duration": 3,
    "start_time": "2022-10-09T12:43:16.345Z"
   },
   {
    "duration": 45,
    "start_time": "2022-10-09T12:44:04.510Z"
   },
   {
    "duration": 15,
    "start_time": "2022-10-09T12:46:14.624Z"
   },
   {
    "duration": 13,
    "start_time": "2022-10-09T12:47:17.665Z"
   },
   {
    "duration": 15,
    "start_time": "2022-10-09T12:47:29.026Z"
   },
   {
    "duration": 1250,
    "start_time": "2022-10-09T12:47:49.332Z"
   },
   {
    "duration": 12,
    "start_time": "2022-10-09T12:48:27.936Z"
   },
   {
    "duration": 1129,
    "start_time": "2022-10-09T14:16:18.268Z"
   },
   {
    "duration": 8,
    "start_time": "2022-10-09T14:16:47.395Z"
   },
   {
    "duration": 3,
    "start_time": "2022-10-09T14:17:17.646Z"
   },
   {
    "duration": 3,
    "start_time": "2022-10-09T14:18:25.081Z"
   },
   {
    "duration": 10,
    "start_time": "2022-10-09T14:18:25.684Z"
   },
   {
    "duration": 15,
    "start_time": "2022-10-09T14:28:15.820Z"
   },
   {
    "duration": 16,
    "start_time": "2022-10-09T14:28:50.097Z"
   },
   {
    "duration": 9,
    "start_time": "2022-10-09T14:31:50.495Z"
   },
   {
    "duration": 9,
    "start_time": "2022-10-09T14:31:56.949Z"
   },
   {
    "duration": 3,
    "start_time": "2022-10-09T14:32:40.401Z"
   },
   {
    "duration": 9,
    "start_time": "2022-10-09T14:33:08.481Z"
   },
   {
    "duration": 10,
    "start_time": "2022-10-09T14:33:22.482Z"
   },
   {
    "duration": 24417,
    "start_time": "2022-10-09T14:34:33.504Z"
   },
   {
    "duration": 79967,
    "start_time": "2022-10-09T14:35:22.762Z"
   },
   {
    "duration": 79895,
    "start_time": "2022-10-09T14:36:46.504Z"
   },
   {
    "duration": 25507,
    "start_time": "2022-10-09T14:38:53.465Z"
   },
   {
    "duration": 25424,
    "start_time": "2022-10-09T14:39:47.608Z"
   },
   {
    "duration": 13,
    "start_time": "2022-10-09T14:40:13.036Z"
   },
   {
    "duration": 38320,
    "start_time": "2022-10-09T14:40:21.511Z"
   },
   {
    "duration": 1447,
    "start_time": "2022-10-09T14:42:33.655Z"
   },
   {
    "duration": 815,
    "start_time": "2022-10-09T14:42:35.104Z"
   },
   {
    "duration": 5,
    "start_time": "2022-10-09T14:42:35.921Z"
   },
   {
    "duration": 474,
    "start_time": "2022-10-09T14:42:35.927Z"
   },
   {
    "duration": 257,
    "start_time": "2022-10-09T14:42:36.404Z"
   },
   {
    "duration": 406,
    "start_time": "2022-10-09T14:42:36.664Z"
   },
   {
    "duration": 3,
    "start_time": "2022-10-09T14:42:37.071Z"
   },
   {
    "duration": 15,
    "start_time": "2022-10-09T14:42:37.076Z"
   },
   {
    "duration": 6,
    "start_time": "2022-10-09T14:42:37.093Z"
   },
   {
    "duration": 6,
    "start_time": "2022-10-09T14:42:37.101Z"
   },
   {
    "duration": 27,
    "start_time": "2022-10-09T14:42:37.108Z"
   },
   {
    "duration": 30,
    "start_time": "2022-10-09T14:42:37.136Z"
   },
   {
    "duration": 60,
    "start_time": "2022-10-09T14:42:37.168Z"
   },
   {
    "duration": 10,
    "start_time": "2022-10-09T14:42:37.238Z"
   },
   {
    "duration": 26,
    "start_time": "2022-10-09T14:42:37.250Z"
   },
   {
    "duration": 6,
    "start_time": "2022-10-09T14:42:37.278Z"
   },
   {
    "duration": 14,
    "start_time": "2022-10-09T14:42:37.285Z"
   },
   {
    "duration": 3,
    "start_time": "2022-10-09T14:42:37.300Z"
   },
   {
    "duration": 5,
    "start_time": "2022-10-09T14:42:37.305Z"
   },
   {
    "duration": 32,
    "start_time": "2022-10-09T14:42:37.311Z"
   },
   {
    "duration": 19,
    "start_time": "2022-10-09T14:42:37.345Z"
   },
   {
    "duration": 25,
    "start_time": "2022-10-09T14:42:37.366Z"
   },
   {
    "duration": 234,
    "start_time": "2022-10-09T14:42:37.392Z"
   },
   {
    "duration": 1090,
    "start_time": "2022-10-09T14:42:37.628Z"
   },
   {
    "duration": 44,
    "start_time": "2022-10-09T14:42:38.721Z"
   },
   {
    "duration": 213,
    "start_time": "2022-10-09T14:42:38.767Z"
   },
   {
    "duration": 4,
    "start_time": "2022-10-09T14:42:38.982Z"
   },
   {
    "duration": 6,
    "start_time": "2022-10-09T14:42:38.987Z"
   },
   {
    "duration": 5,
    "start_time": "2022-10-09T14:42:38.994Z"
   },
   {
    "duration": 29,
    "start_time": "2022-10-09T14:42:39.000Z"
   },
   {
    "duration": 28050,
    "start_time": "2022-10-09T14:42:39.031Z"
   },
   {
    "duration": 42171,
    "start_time": "2022-10-09T14:43:07.086Z"
   },
   {
    "duration": 11310,
    "start_time": "2022-10-09T14:43:59.746Z"
   },
   {
    "duration": 111,
    "start_time": "2022-10-09T14:47:29.549Z"
   },
   {
    "duration": 5,
    "start_time": "2022-10-09T14:47:37.178Z"
   },
   {
    "duration": 6,
    "start_time": "2022-10-09T14:47:44.288Z"
   },
   {
    "duration": 0,
    "start_time": "2022-10-09T14:51:41.896Z"
   },
   {
    "duration": 0,
    "start_time": "2022-10-09T14:51:41.897Z"
   },
   {
    "duration": 0,
    "start_time": "2022-10-09T14:51:41.898Z"
   },
   {
    "duration": 3,
    "start_time": "2022-10-09T14:52:04.447Z"
   },
   {
    "duration": 26980,
    "start_time": "2022-10-09T14:52:05.047Z"
   },
   {
    "duration": 105022,
    "start_time": "2022-10-09T14:52:32.031Z"
   },
   {
    "duration": 0,
    "start_time": "2022-10-09T14:54:17.055Z"
   },
   {
    "duration": 0,
    "start_time": "2022-10-09T14:54:17.056Z"
   },
   {
    "duration": 4,
    "start_time": "2022-10-09T14:54:59.939Z"
   },
   {
    "duration": 3,
    "start_time": "2022-10-09T14:55:14.084Z"
   },
   {
    "duration": 5,
    "start_time": "2022-10-09T14:55:46.968Z"
   },
   {
    "duration": 9,
    "start_time": "2022-10-09T14:56:06.594Z"
   },
   {
    "duration": 26729,
    "start_time": "2022-10-09T14:56:30.368Z"
   },
   {
    "duration": 8,
    "start_time": "2022-10-09T14:56:57.099Z"
   },
   {
    "duration": 0,
    "start_time": "2022-10-09T14:56:57.109Z"
   },
   {
    "duration": 15,
    "start_time": "2022-10-09T14:57:38.333Z"
   },
   {
    "duration": 4,
    "start_time": "2022-10-09T14:57:48.995Z"
   },
   {
    "duration": 2,
    "start_time": "2022-10-09T14:57:59.985Z"
   },
   {
    "duration": 10,
    "start_time": "2022-10-09T14:58:18.582Z"
   },
   {
    "duration": 5,
    "start_time": "2022-10-09T14:58:30.035Z"
   },
   {
    "duration": 5,
    "start_time": "2022-10-09T14:58:32.226Z"
   },
   {
    "duration": 4,
    "start_time": "2022-10-09T14:58:38.233Z"
   },
   {
    "duration": 26095,
    "start_time": "2022-10-09T14:59:19.157Z"
   },
   {
    "duration": 7,
    "start_time": "2022-10-09T14:59:47.232Z"
   },
   {
    "duration": 1406,
    "start_time": "2022-10-09T15:00:09.037Z"
   },
   {
    "duration": 685,
    "start_time": "2022-10-09T15:00:10.446Z"
   },
   {
    "duration": 4,
    "start_time": "2022-10-09T15:00:11.133Z"
   },
   {
    "duration": 389,
    "start_time": "2022-10-09T15:00:11.139Z"
   },
   {
    "duration": 217,
    "start_time": "2022-10-09T15:00:11.535Z"
   },
   {
    "duration": 409,
    "start_time": "2022-10-09T15:00:11.754Z"
   },
   {
    "duration": 4,
    "start_time": "2022-10-09T15:00:12.165Z"
   },
   {
    "duration": 12,
    "start_time": "2022-10-09T15:00:12.170Z"
   },
   {
    "duration": 8,
    "start_time": "2022-10-09T15:00:12.184Z"
   },
   {
    "duration": 19,
    "start_time": "2022-10-09T15:00:12.195Z"
   },
   {
    "duration": 29,
    "start_time": "2022-10-09T15:00:12.216Z"
   },
   {
    "duration": 8,
    "start_time": "2022-10-09T15:00:12.247Z"
   },
   {
    "duration": 63,
    "start_time": "2022-10-09T15:00:12.257Z"
   },
   {
    "duration": 10,
    "start_time": "2022-10-09T15:00:12.321Z"
   },
   {
    "duration": 15,
    "start_time": "2022-10-09T15:00:12.333Z"
   },
   {
    "duration": 9,
    "start_time": "2022-10-09T15:00:12.349Z"
   },
   {
    "duration": 14,
    "start_time": "2022-10-09T15:00:12.360Z"
   },
   {
    "duration": 4,
    "start_time": "2022-10-09T15:00:12.375Z"
   },
   {
    "duration": 7,
    "start_time": "2022-10-09T15:00:12.380Z"
   },
   {
    "duration": 35,
    "start_time": "2022-10-09T15:00:12.389Z"
   },
   {
    "duration": 4,
    "start_time": "2022-10-09T15:00:12.426Z"
   },
   {
    "duration": 30,
    "start_time": "2022-10-09T15:00:12.431Z"
   },
   {
    "duration": 250,
    "start_time": "2022-10-09T15:00:12.462Z"
   },
   {
    "duration": 1146,
    "start_time": "2022-10-09T15:00:12.713Z"
   },
   {
    "duration": 32,
    "start_time": "2022-10-09T15:00:13.861Z"
   },
   {
    "duration": 231,
    "start_time": "2022-10-09T15:00:13.895Z"
   },
   {
    "duration": 6,
    "start_time": "2022-10-09T15:00:14.128Z"
   },
   {
    "duration": 12,
    "start_time": "2022-10-09T15:00:14.138Z"
   },
   {
    "duration": 7,
    "start_time": "2022-10-09T15:00:14.152Z"
   },
   {
    "duration": 21,
    "start_time": "2022-10-09T15:00:14.161Z"
   },
   {
    "duration": 5,
    "start_time": "2022-10-09T15:00:14.184Z"
   },
   {
    "duration": 26742,
    "start_time": "2022-10-09T15:00:14.190Z"
   },
   {
    "duration": 4,
    "start_time": "2022-10-09T15:00:40.934Z"
   },
   {
    "duration": 107238,
    "start_time": "2022-10-09T15:00:40.940Z"
   },
   {
    "duration": 6663,
    "start_time": "2022-10-09T15:02:28.179Z"
   },
   {
    "duration": 79,
    "start_time": "2022-10-09T15:02:34.845Z"
   },
   {
    "duration": 153,
    "start_time": "2022-10-09T15:02:34.927Z"
   },
   {
    "duration": 4,
    "start_time": "2022-10-09T15:03:04.321Z"
   },
   {
    "duration": 5,
    "start_time": "2022-10-09T15:03:08.995Z"
   },
   {
    "duration": 21,
    "start_time": "2022-10-09T15:04:07.235Z"
   },
   {
    "duration": 6,
    "start_time": "2022-10-09T15:04:08.898Z"
   },
   {
    "duration": 14,
    "start_time": "2022-10-09T15:04:33.609Z"
   },
   {
    "duration": 16,
    "start_time": "2022-10-09T15:04:49.413Z"
   },
   {
    "duration": 7,
    "start_time": "2022-10-09T15:04:56.630Z"
   },
   {
    "duration": 6,
    "start_time": "2022-10-09T15:05:00.485Z"
   },
   {
    "duration": 3,
    "start_time": "2022-10-09T15:06:35.245Z"
   },
   {
    "duration": 8,
    "start_time": "2022-10-09T15:06:36.259Z"
   },
   {
    "duration": 21,
    "start_time": "2022-10-09T15:06:59.924Z"
   },
   {
    "duration": 4,
    "start_time": "2022-10-09T15:07:12.305Z"
   },
   {
    "duration": 12,
    "start_time": "2022-10-09T15:07:13.324Z"
   },
   {
    "duration": 969,
    "start_time": "2022-10-09T15:11:25.655Z"
   },
   {
    "duration": 13,
    "start_time": "2022-10-09T15:11:55.981Z"
   },
   {
    "duration": 3362,
    "start_time": "2022-10-09T15:12:03.595Z"
   },
   {
    "duration": 10,
    "start_time": "2022-10-09T15:14:27.793Z"
   },
   {
    "duration": 16,
    "start_time": "2022-10-09T15:14:34.532Z"
   },
   {
    "duration": 4,
    "start_time": "2022-10-09T15:14:45.732Z"
   },
   {
    "duration": 8,
    "start_time": "2022-10-09T15:15:19.613Z"
   },
   {
    "duration": 2,
    "start_time": "2022-10-09T15:15:41.777Z"
   },
   {
    "duration": 4,
    "start_time": "2022-10-09T15:15:49.686Z"
   },
   {
    "duration": 3,
    "start_time": "2022-10-09T15:17:18.962Z"
   },
   {
    "duration": 2,
    "start_time": "2022-10-09T15:18:25.781Z"
   },
   {
    "duration": 5,
    "start_time": "2022-10-09T15:18:48.512Z"
   },
   {
    "duration": 6,
    "start_time": "2022-10-09T15:18:56.243Z"
   },
   {
    "duration": 4,
    "start_time": "2022-10-09T15:19:08.518Z"
   },
   {
    "duration": 1350,
    "start_time": "2022-10-09T15:19:19.383Z"
   },
   {
    "duration": 730,
    "start_time": "2022-10-09T15:19:20.736Z"
   },
   {
    "duration": 4,
    "start_time": "2022-10-09T15:19:21.467Z"
   },
   {
    "duration": 398,
    "start_time": "2022-10-09T15:19:21.472Z"
   },
   {
    "duration": 190,
    "start_time": "2022-10-09T15:19:21.872Z"
   },
   {
    "duration": 381,
    "start_time": "2022-10-09T15:19:22.063Z"
   },
   {
    "duration": 4,
    "start_time": "2022-10-09T15:19:22.446Z"
   },
   {
    "duration": 16,
    "start_time": "2022-10-09T15:19:22.452Z"
   },
   {
    "duration": 18,
    "start_time": "2022-10-09T15:19:22.469Z"
   },
   {
    "duration": 4,
    "start_time": "2022-10-09T15:19:22.488Z"
   },
   {
    "duration": 11,
    "start_time": "2022-10-09T15:19:22.494Z"
   },
   {
    "duration": 5,
    "start_time": "2022-10-09T15:19:22.506Z"
   },
   {
    "duration": 69,
    "start_time": "2022-10-09T15:19:22.512Z"
   },
   {
    "duration": 3,
    "start_time": "2022-10-09T15:19:22.583Z"
   },
   {
    "duration": 20,
    "start_time": "2022-10-09T15:19:22.588Z"
   },
   {
    "duration": 7,
    "start_time": "2022-10-09T15:19:22.609Z"
   },
   {
    "duration": 44,
    "start_time": "2022-10-09T15:19:22.617Z"
   },
   {
    "duration": 4,
    "start_time": "2022-10-09T15:19:22.662Z"
   },
   {
    "duration": 18,
    "start_time": "2022-10-09T15:19:22.667Z"
   },
   {
    "duration": 18,
    "start_time": "2022-10-09T15:19:22.686Z"
   },
   {
    "duration": 3,
    "start_time": "2022-10-09T15:19:22.705Z"
   },
   {
    "duration": 35,
    "start_time": "2022-10-09T15:19:22.709Z"
   },
   {
    "duration": 219,
    "start_time": "2022-10-09T15:19:22.746Z"
   },
   {
    "duration": 1020,
    "start_time": "2022-10-09T15:19:22.967Z"
   },
   {
    "duration": 36,
    "start_time": "2022-10-09T15:19:23.988Z"
   },
   {
    "duration": 232,
    "start_time": "2022-10-09T15:19:24.026Z"
   },
   {
    "duration": 108,
    "start_time": "2022-10-09T15:19:24.259Z"
   },
   {
    "duration": 0,
    "start_time": "2022-10-09T15:19:24.369Z"
   },
   {
    "duration": 0,
    "start_time": "2022-10-09T15:19:24.370Z"
   },
   {
    "duration": 0,
    "start_time": "2022-10-09T15:19:24.371Z"
   },
   {
    "duration": 0,
    "start_time": "2022-10-09T15:19:24.372Z"
   },
   {
    "duration": 0,
    "start_time": "2022-10-09T15:19:24.373Z"
   },
   {
    "duration": 0,
    "start_time": "2022-10-09T15:19:24.374Z"
   },
   {
    "duration": 0,
    "start_time": "2022-10-09T15:19:24.375Z"
   },
   {
    "duration": 0,
    "start_time": "2022-10-09T15:19:24.376Z"
   },
   {
    "duration": 0,
    "start_time": "2022-10-09T15:19:24.376Z"
   },
   {
    "duration": 0,
    "start_time": "2022-10-09T15:19:24.377Z"
   },
   {
    "duration": 0,
    "start_time": "2022-10-09T15:19:24.378Z"
   },
   {
    "duration": 0,
    "start_time": "2022-10-09T15:19:24.379Z"
   },
   {
    "duration": 0,
    "start_time": "2022-10-09T15:19:24.380Z"
   },
   {
    "duration": 0,
    "start_time": "2022-10-09T15:19:24.381Z"
   },
   {
    "duration": 0,
    "start_time": "2022-10-09T15:19:24.382Z"
   },
   {
    "duration": 0,
    "start_time": "2022-10-09T15:19:24.383Z"
   },
   {
    "duration": 3,
    "start_time": "2022-10-09T15:20:26.194Z"
   },
   {
    "duration": 3,
    "start_time": "2022-10-09T15:20:27.676Z"
   },
   {
    "duration": 5,
    "start_time": "2022-10-09T15:20:28.903Z"
   },
   {
    "duration": 3,
    "start_time": "2022-10-09T15:20:29.302Z"
   },
   {
    "duration": 4,
    "start_time": "2022-10-09T15:20:29.773Z"
   },
   {
    "duration": 1448,
    "start_time": "2022-10-09T15:21:07.840Z"
   },
   {
    "duration": 667,
    "start_time": "2022-10-09T15:21:09.289Z"
   },
   {
    "duration": 4,
    "start_time": "2022-10-09T15:21:09.958Z"
   },
   {
    "duration": 394,
    "start_time": "2022-10-09T15:21:09.963Z"
   },
   {
    "duration": 188,
    "start_time": "2022-10-09T15:21:10.359Z"
   },
   {
    "duration": 368,
    "start_time": "2022-10-09T15:21:10.548Z"
   },
   {
    "duration": 6,
    "start_time": "2022-10-09T15:21:10.917Z"
   },
   {
    "duration": 29,
    "start_time": "2022-10-09T15:21:10.925Z"
   },
   {
    "duration": 6,
    "start_time": "2022-10-09T15:21:10.955Z"
   },
   {
    "duration": 7,
    "start_time": "2022-10-09T15:21:10.963Z"
   },
   {
    "duration": 9,
    "start_time": "2022-10-09T15:21:10.971Z"
   },
   {
    "duration": 6,
    "start_time": "2022-10-09T15:21:10.981Z"
   },
   {
    "duration": 70,
    "start_time": "2022-10-09T15:21:10.988Z"
   },
   {
    "duration": 4,
    "start_time": "2022-10-09T15:21:11.059Z"
   },
   {
    "duration": 11,
    "start_time": "2022-10-09T15:21:11.065Z"
   },
   {
    "duration": 6,
    "start_time": "2022-10-09T15:21:11.078Z"
   },
   {
    "duration": 22,
    "start_time": "2022-10-09T15:21:11.085Z"
   },
   {
    "duration": 5,
    "start_time": "2022-10-09T15:21:11.123Z"
   },
   {
    "duration": 17,
    "start_time": "2022-10-09T15:21:11.131Z"
   },
   {
    "duration": 15,
    "start_time": "2022-10-09T15:21:11.150Z"
   },
   {
    "duration": 2,
    "start_time": "2022-10-09T15:21:11.167Z"
   },
   {
    "duration": 18,
    "start_time": "2022-10-09T15:21:11.171Z"
   },
   {
    "duration": 231,
    "start_time": "2022-10-09T15:21:11.190Z"
   },
   {
    "duration": 1142,
    "start_time": "2022-10-09T15:21:11.424Z"
   },
   {
    "duration": 35,
    "start_time": "2022-10-09T15:21:12.568Z"
   },
   {
    "duration": 267,
    "start_time": "2022-10-09T15:21:12.605Z"
   },
   {
    "duration": 3,
    "start_time": "2022-10-09T15:21:12.873Z"
   },
   {
    "duration": 128,
    "start_time": "2022-10-09T15:21:12.879Z"
   },
   {
    "duration": 0,
    "start_time": "2022-10-09T15:21:13.008Z"
   },
   {
    "duration": 0,
    "start_time": "2022-10-09T15:21:13.009Z"
   },
   {
    "duration": 0,
    "start_time": "2022-10-09T15:21:13.011Z"
   },
   {
    "duration": 0,
    "start_time": "2022-10-09T15:21:13.012Z"
   },
   {
    "duration": 0,
    "start_time": "2022-10-09T15:21:13.013Z"
   },
   {
    "duration": 0,
    "start_time": "2022-10-09T15:21:13.024Z"
   },
   {
    "duration": 0,
    "start_time": "2022-10-09T15:21:13.025Z"
   },
   {
    "duration": 0,
    "start_time": "2022-10-09T15:21:13.026Z"
   },
   {
    "duration": 0,
    "start_time": "2022-10-09T15:21:13.028Z"
   },
   {
    "duration": 0,
    "start_time": "2022-10-09T15:21:13.030Z"
   },
   {
    "duration": 0,
    "start_time": "2022-10-09T15:21:13.031Z"
   },
   {
    "duration": 0,
    "start_time": "2022-10-09T15:21:13.032Z"
   },
   {
    "duration": 0,
    "start_time": "2022-10-09T15:21:13.033Z"
   },
   {
    "duration": 0,
    "start_time": "2022-10-09T15:21:13.035Z"
   },
   {
    "duration": 0,
    "start_time": "2022-10-09T15:21:13.036Z"
   },
   {
    "duration": 0,
    "start_time": "2022-10-09T15:21:13.037Z"
   },
   {
    "duration": 0,
    "start_time": "2022-10-09T15:21:13.039Z"
   },
   {
    "duration": 5,
    "start_time": "2022-10-09T15:23:00.823Z"
   },
   {
    "duration": 3,
    "start_time": "2022-10-09T15:23:07.942Z"
   },
   {
    "duration": 4,
    "start_time": "2022-10-09T15:23:18.845Z"
   },
   {
    "duration": 3,
    "start_time": "2022-10-09T15:29:35.945Z"
   },
   {
    "duration": 6,
    "start_time": "2022-10-09T15:30:00.965Z"
   },
   {
    "duration": 4,
    "start_time": "2022-10-09T15:30:01.575Z"
   },
   {
    "duration": 6,
    "start_time": "2022-10-09T15:30:02.441Z"
   },
   {
    "duration": 3,
    "start_time": "2022-10-09T15:30:19.438Z"
   },
   {
    "duration": 4,
    "start_time": "2022-10-09T15:30:19.869Z"
   },
   {
    "duration": 8,
    "start_time": "2022-10-09T15:30:20.536Z"
   },
   {
    "duration": 1399,
    "start_time": "2022-10-09T15:30:28.147Z"
   },
   {
    "duration": 986,
    "start_time": "2022-10-09T15:30:29.547Z"
   },
   {
    "duration": 3,
    "start_time": "2022-10-09T15:30:30.535Z"
   },
   {
    "duration": 981,
    "start_time": "2022-10-09T15:30:30.558Z"
   },
   {
    "duration": 401,
    "start_time": "2022-10-09T15:30:31.542Z"
   },
   {
    "duration": 384,
    "start_time": "2022-10-09T15:30:31.947Z"
   },
   {
    "duration": 3,
    "start_time": "2022-10-09T15:30:32.333Z"
   },
   {
    "duration": 22,
    "start_time": "2022-10-09T15:30:32.337Z"
   },
   {
    "duration": 5,
    "start_time": "2022-10-09T15:30:32.360Z"
   },
   {
    "duration": 3,
    "start_time": "2022-10-09T15:30:32.368Z"
   },
   {
    "duration": 6,
    "start_time": "2022-10-09T15:30:32.372Z"
   },
   {
    "duration": 6,
    "start_time": "2022-10-09T15:30:32.379Z"
   },
   {
    "duration": 9,
    "start_time": "2022-10-09T15:30:32.387Z"
   },
   {
    "duration": 5,
    "start_time": "2022-10-09T15:30:32.397Z"
   },
   {
    "duration": 81,
    "start_time": "2022-10-09T15:30:32.403Z"
   },
   {
    "duration": 3,
    "start_time": "2022-10-09T15:30:32.486Z"
   },
   {
    "duration": 10,
    "start_time": "2022-10-09T15:30:32.491Z"
   },
   {
    "duration": 24,
    "start_time": "2022-10-09T15:30:32.502Z"
   },
   {
    "duration": 31,
    "start_time": "2022-10-09T15:30:32.530Z"
   },
   {
    "duration": 3,
    "start_time": "2022-10-09T15:30:32.563Z"
   },
   {
    "duration": 6,
    "start_time": "2022-10-09T15:30:32.567Z"
   },
   {
    "duration": 13,
    "start_time": "2022-10-09T15:30:32.574Z"
   },
   {
    "duration": 3,
    "start_time": "2022-10-09T15:30:32.589Z"
   },
   {
    "duration": 24,
    "start_time": "2022-10-09T15:30:32.599Z"
   },
   {
    "duration": 243,
    "start_time": "2022-10-09T15:30:32.625Z"
   },
   {
    "duration": 1079,
    "start_time": "2022-10-09T15:30:32.869Z"
   },
   {
    "duration": 29,
    "start_time": "2022-10-09T15:30:33.949Z"
   },
   {
    "duration": 217,
    "start_time": "2022-10-09T15:30:33.981Z"
   },
   {
    "duration": 2,
    "start_time": "2022-10-09T15:30:34.200Z"
   },
   {
    "duration": 5,
    "start_time": "2022-10-09T15:30:34.204Z"
   },
   {
    "duration": 11,
    "start_time": "2022-10-09T15:30:34.211Z"
   },
   {
    "duration": 19,
    "start_time": "2022-10-09T15:30:34.223Z"
   },
   {
    "duration": 5,
    "start_time": "2022-10-09T15:30:34.244Z"
   },
   {
    "duration": 116,
    "start_time": "2022-10-09T15:30:34.251Z"
   },
   {
    "duration": 0,
    "start_time": "2022-10-09T15:30:34.369Z"
   },
   {
    "duration": 0,
    "start_time": "2022-10-09T15:30:34.370Z"
   },
   {
    "duration": 0,
    "start_time": "2022-10-09T15:30:34.371Z"
   },
   {
    "duration": 0,
    "start_time": "2022-10-09T15:30:34.372Z"
   },
   {
    "duration": 0,
    "start_time": "2022-10-09T15:30:34.373Z"
   },
   {
    "duration": 0,
    "start_time": "2022-10-09T15:30:34.374Z"
   },
   {
    "duration": 0,
    "start_time": "2022-10-09T15:30:34.375Z"
   },
   {
    "duration": 0,
    "start_time": "2022-10-09T15:30:34.376Z"
   },
   {
    "duration": 0,
    "start_time": "2022-10-09T15:30:34.377Z"
   },
   {
    "duration": 0,
    "start_time": "2022-10-09T15:30:34.378Z"
   },
   {
    "duration": 0,
    "start_time": "2022-10-09T15:30:34.379Z"
   },
   {
    "duration": 0,
    "start_time": "2022-10-09T15:30:34.380Z"
   },
   {
    "duration": 0,
    "start_time": "2022-10-09T15:30:34.381Z"
   },
   {
    "duration": 4,
    "start_time": "2022-10-09T15:30:41.869Z"
   },
   {
    "duration": 3,
    "start_time": "2022-10-09T15:30:42.254Z"
   },
   {
    "duration": 3,
    "start_time": "2022-10-09T15:30:42.648Z"
   },
   {
    "duration": 10,
    "start_time": "2022-10-09T15:30:43.059Z"
   },
   {
    "duration": 2,
    "start_time": "2022-10-09T15:30:48.595Z"
   },
   {
    "duration": 16459,
    "start_time": "2022-10-09T15:30:48.876Z"
   },
   {
    "duration": 61090,
    "start_time": "2022-10-09T15:31:05.337Z"
   },
   {
    "duration": 3893,
    "start_time": "2022-10-09T15:32:06.430Z"
   },
   {
    "duration": 7,
    "start_time": "2022-10-09T15:32:10.326Z"
   },
   {
    "duration": 93,
    "start_time": "2022-10-09T15:32:10.336Z"
   },
   {
    "duration": 9,
    "start_time": "2022-10-09T15:33:20.899Z"
   },
   {
    "duration": 8177,
    "start_time": "2022-10-09T15:33:25.970Z"
   },
   {
    "duration": 8377,
    "start_time": "2022-10-09T15:34:51.391Z"
   },
   {
    "duration": 20,
    "start_time": "2022-10-09T15:43:06.975Z"
   },
   {
    "duration": 4,
    "start_time": "2022-10-09T15:49:45.313Z"
   },
   {
    "duration": 14,
    "start_time": "2022-10-09T15:49:50.519Z"
   },
   {
    "duration": 35,
    "start_time": "2022-10-09T15:49:59.502Z"
   },
   {
    "duration": 5,
    "start_time": "2022-10-09T15:50:21.650Z"
   },
   {
    "duration": 50,
    "start_time": "2022-10-09T15:50:37.033Z"
   },
   {
    "duration": 3,
    "start_time": "2022-10-09T15:51:14.973Z"
   },
   {
    "duration": 3,
    "start_time": "2022-10-09T15:51:19.764Z"
   },
   {
    "duration": 1377,
    "start_time": "2022-10-09T15:52:35.531Z"
   },
   {
    "duration": 718,
    "start_time": "2022-10-09T15:52:36.910Z"
   },
   {
    "duration": 11,
    "start_time": "2022-10-09T15:52:37.630Z"
   },
   {
    "duration": 421,
    "start_time": "2022-10-09T15:52:37.644Z"
   },
   {
    "duration": 492,
    "start_time": "2022-10-09T15:52:38.066Z"
   },
   {
    "duration": 988,
    "start_time": "2022-10-09T15:52:38.560Z"
   },
   {
    "duration": 3,
    "start_time": "2022-10-09T15:52:39.550Z"
   },
   {
    "duration": 66,
    "start_time": "2022-10-09T15:52:39.555Z"
   },
   {
    "duration": 9,
    "start_time": "2022-10-09T15:52:39.623Z"
   },
   {
    "duration": 17,
    "start_time": "2022-10-09T15:52:39.637Z"
   },
   {
    "duration": 11,
    "start_time": "2022-10-09T15:52:39.656Z"
   },
   {
    "duration": 12,
    "start_time": "2022-10-09T15:52:39.668Z"
   },
   {
    "duration": 47,
    "start_time": "2022-10-09T15:52:39.682Z"
   },
   {
    "duration": 25,
    "start_time": "2022-10-09T15:52:39.731Z"
   },
   {
    "duration": 167,
    "start_time": "2022-10-09T15:52:39.758Z"
   },
   {
    "duration": 5,
    "start_time": "2022-10-09T15:52:39.928Z"
   },
   {
    "duration": 11,
    "start_time": "2022-10-09T15:52:39.936Z"
   },
   {
    "duration": 15,
    "start_time": "2022-10-09T15:52:39.949Z"
   },
   {
    "duration": 71,
    "start_time": "2022-10-09T15:52:39.966Z"
   },
   {
    "duration": 5,
    "start_time": "2022-10-09T15:52:40.039Z"
   },
   {
    "duration": 20,
    "start_time": "2022-10-09T15:52:40.047Z"
   },
   {
    "duration": 63,
    "start_time": "2022-10-09T15:52:40.069Z"
   },
   {
    "duration": 3,
    "start_time": "2022-10-09T15:52:40.134Z"
   },
   {
    "duration": 22,
    "start_time": "2022-10-09T15:52:40.148Z"
   },
   {
    "duration": 385,
    "start_time": "2022-10-09T15:52:40.172Z"
   },
   {
    "duration": 1119,
    "start_time": "2022-10-09T15:52:40.559Z"
   },
   {
    "duration": 47,
    "start_time": "2022-10-09T15:52:41.680Z"
   },
   {
    "duration": 262,
    "start_time": "2022-10-09T15:52:41.731Z"
   },
   {
    "duration": 4,
    "start_time": "2022-10-09T15:52:41.995Z"
   },
   {
    "duration": 107,
    "start_time": "2022-10-09T15:52:42.000Z"
   },
   {
    "duration": 83,
    "start_time": "2022-10-09T15:52:42.109Z"
   },
   {
    "duration": 0,
    "start_time": "2022-10-09T15:52:42.194Z"
   },
   {
    "duration": 0,
    "start_time": "2022-10-09T15:52:42.195Z"
   },
   {
    "duration": 0,
    "start_time": "2022-10-09T15:52:42.197Z"
   },
   {
    "duration": 0,
    "start_time": "2022-10-09T15:52:42.197Z"
   },
   {
    "duration": 0,
    "start_time": "2022-10-09T15:52:42.198Z"
   },
   {
    "duration": 0,
    "start_time": "2022-10-09T15:52:42.199Z"
   },
   {
    "duration": 0,
    "start_time": "2022-10-09T15:52:42.200Z"
   },
   {
    "duration": 0,
    "start_time": "2022-10-09T15:52:42.201Z"
   },
   {
    "duration": 0,
    "start_time": "2022-10-09T15:52:42.202Z"
   },
   {
    "duration": 0,
    "start_time": "2022-10-09T15:52:42.203Z"
   },
   {
    "duration": 0,
    "start_time": "2022-10-09T15:52:42.205Z"
   },
   {
    "duration": 0,
    "start_time": "2022-10-09T15:52:42.206Z"
   },
   {
    "duration": 0,
    "start_time": "2022-10-09T15:52:42.207Z"
   },
   {
    "duration": 0,
    "start_time": "2022-10-09T15:52:42.208Z"
   },
   {
    "duration": 0,
    "start_time": "2022-10-09T15:52:42.210Z"
   },
   {
    "duration": 0,
    "start_time": "2022-10-09T15:52:42.211Z"
   },
   {
    "duration": 0,
    "start_time": "2022-10-09T15:52:42.212Z"
   },
   {
    "duration": 0,
    "start_time": "2022-10-09T15:52:42.213Z"
   },
   {
    "duration": 71,
    "start_time": "2022-10-09T15:54:17.179Z"
   },
   {
    "duration": 68,
    "start_time": "2022-10-09T15:54:53.747Z"
   },
   {
    "duration": 73,
    "start_time": "2022-10-09T15:55:20.080Z"
   },
   {
    "duration": 75,
    "start_time": "2022-10-09T15:56:06.957Z"
   },
   {
    "duration": 110,
    "start_time": "2022-10-09T15:56:17.355Z"
   },
   {
    "duration": 90,
    "start_time": "2022-10-09T15:56:23.108Z"
   },
   {
    "duration": 99,
    "start_time": "2022-10-09T15:56:30.800Z"
   },
   {
    "duration": 73,
    "start_time": "2022-10-09T15:56:40.001Z"
   },
   {
    "duration": 96,
    "start_time": "2022-10-09T16:04:55.112Z"
   },
   {
    "duration": 25,
    "start_time": "2022-10-09T16:06:22.981Z"
   },
   {
    "duration": 3,
    "start_time": "2022-10-09T16:06:28.950Z"
   },
   {
    "duration": 3,
    "start_time": "2022-10-09T16:06:37.702Z"
   },
   {
    "duration": 5,
    "start_time": "2022-10-09T16:07:09.693Z"
   },
   {
    "duration": 3,
    "start_time": "2022-10-09T16:07:10.266Z"
   },
   {
    "duration": 17,
    "start_time": "2022-10-09T16:07:41.462Z"
   },
   {
    "duration": 6,
    "start_time": "2022-10-09T16:07:58.745Z"
   },
   {
    "duration": 3,
    "start_time": "2022-10-09T16:07:59.475Z"
   },
   {
    "duration": 10,
    "start_time": "2022-10-09T16:12:39.214Z"
   },
   {
    "duration": 1731,
    "start_time": "2022-10-09T16:13:32.304Z"
   },
   {
    "duration": 1263,
    "start_time": "2022-10-09T16:13:46.718Z"
   },
   {
    "duration": 1200,
    "start_time": "2022-10-09T16:14:48.628Z"
   },
   {
    "duration": 13,
    "start_time": "2022-10-09T16:20:07.850Z"
   },
   {
    "duration": 5,
    "start_time": "2022-10-09T16:23:18.028Z"
   },
   {
    "duration": 18,
    "start_time": "2022-10-09T16:24:03.142Z"
   },
   {
    "duration": 1263,
    "start_time": "2022-10-09T16:24:09.362Z"
   },
   {
    "duration": 1212,
    "start_time": "2022-10-09T16:24:10.626Z"
   },
   {
    "duration": 5,
    "start_time": "2022-10-09T16:24:11.840Z"
   },
   {
    "duration": 686,
    "start_time": "2022-10-09T16:24:11.847Z"
   },
   {
    "duration": 175,
    "start_time": "2022-10-09T16:24:12.534Z"
   },
   {
    "duration": 359,
    "start_time": "2022-10-09T16:24:12.721Z"
   },
   {
    "duration": 3,
    "start_time": "2022-10-09T16:24:13.081Z"
   },
   {
    "duration": 19,
    "start_time": "2022-10-09T16:24:13.086Z"
   },
   {
    "duration": 5,
    "start_time": "2022-10-09T16:24:13.107Z"
   },
   {
    "duration": 4,
    "start_time": "2022-10-09T16:24:13.122Z"
   },
   {
    "duration": 5,
    "start_time": "2022-10-09T16:24:13.128Z"
   },
   {
    "duration": 7,
    "start_time": "2022-10-09T16:24:13.135Z"
   },
   {
    "duration": 9,
    "start_time": "2022-10-09T16:24:13.143Z"
   },
   {
    "duration": 5,
    "start_time": "2022-10-09T16:24:13.154Z"
   },
   {
    "duration": 78,
    "start_time": "2022-10-09T16:24:13.160Z"
   },
   {
    "duration": 4,
    "start_time": "2022-10-09T16:24:13.241Z"
   },
   {
    "duration": 11,
    "start_time": "2022-10-09T16:24:13.247Z"
   },
   {
    "duration": 7,
    "start_time": "2022-10-09T16:24:13.260Z"
   },
   {
    "duration": 15,
    "start_time": "2022-10-09T16:24:13.269Z"
   },
   {
    "duration": 36,
    "start_time": "2022-10-09T16:24:13.286Z"
   },
   {
    "duration": 4,
    "start_time": "2022-10-09T16:24:13.324Z"
   },
   {
    "duration": 15,
    "start_time": "2022-10-09T16:24:13.330Z"
   },
   {
    "duration": 3,
    "start_time": "2022-10-09T16:24:13.347Z"
   },
   {
    "duration": 22,
    "start_time": "2022-10-09T16:24:13.352Z"
   },
   {
    "duration": 234,
    "start_time": "2022-10-09T16:24:13.376Z"
   },
   {
    "duration": 961,
    "start_time": "2022-10-09T16:24:13.611Z"
   },
   {
    "duration": 31,
    "start_time": "2022-10-09T16:24:14.573Z"
   },
   {
    "duration": 214,
    "start_time": "2022-10-09T16:24:14.607Z"
   },
   {
    "duration": 3,
    "start_time": "2022-10-09T16:24:14.823Z"
   },
   {
    "duration": 108,
    "start_time": "2022-10-09T16:24:14.828Z"
   },
   {
    "duration": 0,
    "start_time": "2022-10-09T16:24:14.938Z"
   },
   {
    "duration": 0,
    "start_time": "2022-10-09T16:24:14.939Z"
   },
   {
    "duration": 0,
    "start_time": "2022-10-09T16:24:14.939Z"
   },
   {
    "duration": 0,
    "start_time": "2022-10-09T16:24:14.940Z"
   },
   {
    "duration": 0,
    "start_time": "2022-10-09T16:24:14.941Z"
   },
   {
    "duration": 0,
    "start_time": "2022-10-09T16:24:14.943Z"
   },
   {
    "duration": 0,
    "start_time": "2022-10-09T16:24:14.943Z"
   },
   {
    "duration": 0,
    "start_time": "2022-10-09T16:24:14.944Z"
   },
   {
    "duration": 0,
    "start_time": "2022-10-09T16:24:14.945Z"
   },
   {
    "duration": 0,
    "start_time": "2022-10-09T16:24:14.947Z"
   },
   {
    "duration": 0,
    "start_time": "2022-10-09T16:24:14.948Z"
   },
   {
    "duration": 0,
    "start_time": "2022-10-09T16:24:14.949Z"
   },
   {
    "duration": 0,
    "start_time": "2022-10-09T16:24:14.950Z"
   },
   {
    "duration": 0,
    "start_time": "2022-10-09T16:24:14.951Z"
   },
   {
    "duration": 0,
    "start_time": "2022-10-09T16:24:14.952Z"
   },
   {
    "duration": 0,
    "start_time": "2022-10-09T16:24:14.953Z"
   },
   {
    "duration": 17,
    "start_time": "2022-10-09T16:25:18.661Z"
   },
   {
    "duration": 1253,
    "start_time": "2022-10-09T16:25:30.645Z"
   },
   {
    "duration": 635,
    "start_time": "2022-10-09T16:25:31.900Z"
   },
   {
    "duration": 3,
    "start_time": "2022-10-09T16:25:32.537Z"
   },
   {
    "duration": 370,
    "start_time": "2022-10-09T16:25:32.542Z"
   },
   {
    "duration": 154,
    "start_time": "2022-10-09T16:25:32.913Z"
   },
   {
    "duration": 363,
    "start_time": "2022-10-09T16:25:33.068Z"
   },
   {
    "duration": 4,
    "start_time": "2022-10-09T16:25:33.433Z"
   },
   {
    "duration": 11,
    "start_time": "2022-10-09T16:25:33.439Z"
   },
   {
    "duration": 6,
    "start_time": "2022-10-09T16:25:33.451Z"
   },
   {
    "duration": 5,
    "start_time": "2022-10-09T16:25:33.459Z"
   },
   {
    "duration": 7,
    "start_time": "2022-10-09T16:25:33.465Z"
   },
   {
    "duration": 12,
    "start_time": "2022-10-09T16:25:33.474Z"
   },
   {
    "duration": 8,
    "start_time": "2022-10-09T16:25:33.488Z"
   },
   {
    "duration": 3,
    "start_time": "2022-10-09T16:25:33.521Z"
   },
   {
    "duration": 57,
    "start_time": "2022-10-09T16:25:33.526Z"
   },
   {
    "duration": 4,
    "start_time": "2022-10-09T16:25:33.584Z"
   },
   {
    "duration": 12,
    "start_time": "2022-10-09T16:25:33.590Z"
   },
   {
    "duration": 21,
    "start_time": "2022-10-09T16:25:33.603Z"
   },
   {
    "duration": 15,
    "start_time": "2022-10-09T16:25:33.626Z"
   },
   {
    "duration": 3,
    "start_time": "2022-10-09T16:25:33.643Z"
   },
   {
    "duration": 5,
    "start_time": "2022-10-09T16:25:33.648Z"
   },
   {
    "duration": 15,
    "start_time": "2022-10-09T16:25:33.654Z"
   },
   {
    "duration": 3,
    "start_time": "2022-10-09T16:25:33.670Z"
   },
   {
    "duration": 53,
    "start_time": "2022-10-09T16:25:33.675Z"
   },
   {
    "duration": 216,
    "start_time": "2022-10-09T16:25:33.730Z"
   },
   {
    "duration": 1307,
    "start_time": "2022-10-09T16:25:33.948Z"
   },
   {
    "duration": 81,
    "start_time": "2022-10-09T16:25:35.257Z"
   },
   {
    "duration": 409,
    "start_time": "2022-10-09T16:25:35.341Z"
   },
   {
    "duration": 4,
    "start_time": "2022-10-09T16:25:35.752Z"
   },
   {
    "duration": 206,
    "start_time": "2022-10-09T16:25:35.758Z"
   },
   {
    "duration": 0,
    "start_time": "2022-10-09T16:25:35.966Z"
   },
   {
    "duration": 0,
    "start_time": "2022-10-09T16:25:35.967Z"
   },
   {
    "duration": 0,
    "start_time": "2022-10-09T16:25:35.968Z"
   },
   {
    "duration": 0,
    "start_time": "2022-10-09T16:25:35.969Z"
   },
   {
    "duration": 0,
    "start_time": "2022-10-09T16:25:35.970Z"
   },
   {
    "duration": 0,
    "start_time": "2022-10-09T16:25:35.971Z"
   },
   {
    "duration": 0,
    "start_time": "2022-10-09T16:25:35.972Z"
   },
   {
    "duration": 0,
    "start_time": "2022-10-09T16:25:36.022Z"
   },
   {
    "duration": 0,
    "start_time": "2022-10-09T16:25:36.023Z"
   },
   {
    "duration": 0,
    "start_time": "2022-10-09T16:25:36.024Z"
   },
   {
    "duration": 0,
    "start_time": "2022-10-09T16:25:36.025Z"
   },
   {
    "duration": 0,
    "start_time": "2022-10-09T16:25:36.027Z"
   },
   {
    "duration": 0,
    "start_time": "2022-10-09T16:25:36.027Z"
   },
   {
    "duration": 0,
    "start_time": "2022-10-09T16:25:36.028Z"
   },
   {
    "duration": 0,
    "start_time": "2022-10-09T16:25:36.029Z"
   },
   {
    "duration": 0,
    "start_time": "2022-10-09T16:25:36.031Z"
   },
   {
    "duration": 5,
    "start_time": "2022-10-09T16:25:48.168Z"
   },
   {
    "duration": 4,
    "start_time": "2022-10-09T16:25:55.449Z"
   },
   {
    "duration": 4742,
    "start_time": "2022-10-09T16:27:49.812Z"
   },
   {
    "duration": 4,
    "start_time": "2022-10-09T16:28:00.788Z"
   },
   {
    "duration": 5,
    "start_time": "2022-10-09T16:30:16.669Z"
   },
   {
    "duration": 5113,
    "start_time": "2022-10-09T16:31:15.141Z"
   },
   {
    "duration": 5,
    "start_time": "2022-10-09T16:31:22.473Z"
   },
   {
    "duration": 9,
    "start_time": "2022-10-09T16:32:06.313Z"
   },
   {
    "duration": 32,
    "start_time": "2022-10-09T16:32:12.284Z"
   },
   {
    "duration": 8,
    "start_time": "2022-10-09T16:34:43.963Z"
   },
   {
    "duration": 3,
    "start_time": "2022-10-09T16:35:20.969Z"
   },
   {
    "duration": 5,
    "start_time": "2022-10-09T16:35:21.353Z"
   },
   {
    "duration": 1199,
    "start_time": "2022-10-09T16:39:38.081Z"
   },
   {
    "duration": 649,
    "start_time": "2022-10-09T16:39:39.282Z"
   },
   {
    "duration": 4,
    "start_time": "2022-10-09T16:39:39.932Z"
   },
   {
    "duration": 348,
    "start_time": "2022-10-09T16:39:39.937Z"
   },
   {
    "duration": 164,
    "start_time": "2022-10-09T16:39:40.286Z"
   },
   {
    "duration": 333,
    "start_time": "2022-10-09T16:39:40.452Z"
   },
   {
    "duration": 3,
    "start_time": "2022-10-09T16:39:40.787Z"
   },
   {
    "duration": 31,
    "start_time": "2022-10-09T16:39:40.792Z"
   },
   {
    "duration": 26,
    "start_time": "2022-10-09T16:39:40.825Z"
   },
   {
    "duration": 26,
    "start_time": "2022-10-09T16:39:40.853Z"
   },
   {
    "duration": 27,
    "start_time": "2022-10-09T16:39:40.880Z"
   },
   {
    "duration": 15,
    "start_time": "2022-10-09T16:39:40.908Z"
   },
   {
    "duration": 26,
    "start_time": "2022-10-09T16:39:40.924Z"
   },
   {
    "duration": 18,
    "start_time": "2022-10-09T16:39:40.951Z"
   },
   {
    "duration": 81,
    "start_time": "2022-10-09T16:39:40.971Z"
   },
   {
    "duration": 4,
    "start_time": "2022-10-09T16:39:41.053Z"
   },
   {
    "duration": 23,
    "start_time": "2022-10-09T16:39:41.058Z"
   },
   {
    "duration": 28,
    "start_time": "2022-10-09T16:39:41.083Z"
   },
   {
    "duration": 45,
    "start_time": "2022-10-09T16:39:41.113Z"
   },
   {
    "duration": 23,
    "start_time": "2022-10-09T16:39:41.160Z"
   },
   {
    "duration": 27,
    "start_time": "2022-10-09T16:39:41.185Z"
   },
   {
    "duration": 39,
    "start_time": "2022-10-09T16:39:41.214Z"
   },
   {
    "duration": 19,
    "start_time": "2022-10-09T16:39:41.254Z"
   },
   {
    "duration": 37,
    "start_time": "2022-10-09T16:39:41.275Z"
   },
   {
    "duration": 197,
    "start_time": "2022-10-09T16:39:41.313Z"
   },
   {
    "duration": 955,
    "start_time": "2022-10-09T16:39:41.512Z"
   },
   {
    "duration": 31,
    "start_time": "2022-10-09T16:39:42.469Z"
   },
   {
    "duration": 263,
    "start_time": "2022-10-09T16:39:42.505Z"
   },
   {
    "duration": 4,
    "start_time": "2022-10-09T16:39:42.769Z"
   },
   {
    "duration": 26,
    "start_time": "2022-10-09T16:39:42.774Z"
   },
   {
    "duration": 19,
    "start_time": "2022-10-09T16:39:42.802Z"
   },
   {
    "duration": 26,
    "start_time": "2022-10-09T16:39:42.823Z"
   },
   {
    "duration": 35,
    "start_time": "2022-10-09T16:39:42.850Z"
   },
   {
    "duration": 50,
    "start_time": "2022-10-09T16:39:42.886Z"
   },
   {
    "duration": 61,
    "start_time": "2022-10-09T16:39:42.938Z"
   },
   {
    "duration": 36,
    "start_time": "2022-10-09T16:39:43.000Z"
   },
   {
    "duration": 37,
    "start_time": "2022-10-09T16:39:43.038Z"
   },
   {
    "duration": 41,
    "start_time": "2022-10-09T16:39:43.076Z"
   },
   {
    "duration": 38,
    "start_time": "2022-10-09T16:39:43.118Z"
   },
   {
    "duration": 39,
    "start_time": "2022-10-09T16:39:43.157Z"
   },
   {
    "duration": 20,
    "start_time": "2022-10-09T16:39:43.198Z"
   },
   {
    "duration": 15208,
    "start_time": "2022-10-09T16:39:43.220Z"
   },
   {
    "duration": 55145,
    "start_time": "2022-10-09T16:39:58.430Z"
   },
   {
    "duration": 1653,
    "start_time": "2022-10-09T16:40:53.576Z"
   },
   {
    "duration": 90,
    "start_time": "2022-10-09T16:40:55.232Z"
   },
   {
    "duration": 13,
    "start_time": "2022-10-09T16:40:55.324Z"
   },
   {
    "duration": 7829,
    "start_time": "2022-10-09T16:40:55.338Z"
   },
   {
    "duration": 1336,
    "start_time": "2022-10-09T21:24:34.654Z"
   },
   {
    "duration": 612,
    "start_time": "2022-10-09T21:24:35.992Z"
   },
   {
    "duration": 3,
    "start_time": "2022-10-09T21:24:36.607Z"
   },
   {
    "duration": 356,
    "start_time": "2022-10-09T21:24:36.611Z"
   },
   {
    "duration": 159,
    "start_time": "2022-10-09T21:24:36.969Z"
   },
   {
    "duration": 407,
    "start_time": "2022-10-09T21:24:37.129Z"
   },
   {
    "duration": 3,
    "start_time": "2022-10-09T21:24:37.538Z"
   },
   {
    "duration": 61,
    "start_time": "2022-10-09T21:24:37.543Z"
   },
   {
    "duration": 5,
    "start_time": "2022-10-09T21:24:37.607Z"
   },
   {
    "duration": 4,
    "start_time": "2022-10-09T21:24:37.613Z"
   },
   {
    "duration": 6,
    "start_time": "2022-10-09T21:24:37.618Z"
   },
   {
    "duration": 8,
    "start_time": "2022-10-09T21:24:37.625Z"
   },
   {
    "duration": 8,
    "start_time": "2022-10-09T21:24:37.634Z"
   },
   {
    "duration": 4,
    "start_time": "2022-10-09T21:24:37.644Z"
   },
   {
    "duration": 107,
    "start_time": "2022-10-09T21:24:37.699Z"
   },
   {
    "duration": 3,
    "start_time": "2022-10-09T21:24:37.807Z"
   },
   {
    "duration": 16,
    "start_time": "2022-10-09T21:24:37.811Z"
   },
   {
    "duration": 8,
    "start_time": "2022-10-09T21:24:37.828Z"
   },
   {
    "duration": 63,
    "start_time": "2022-10-09T21:24:37.837Z"
   },
   {
    "duration": 3,
    "start_time": "2022-10-09T21:24:37.902Z"
   },
   {
    "duration": 5,
    "start_time": "2022-10-09T21:24:37.906Z"
   },
   {
    "duration": 13,
    "start_time": "2022-10-09T21:24:37.912Z"
   },
   {
    "duration": 3,
    "start_time": "2022-10-09T21:24:37.926Z"
   },
   {
    "duration": 15,
    "start_time": "2022-10-09T21:24:37.930Z"
   },
   {
    "duration": 395,
    "start_time": "2022-10-09T21:24:37.946Z"
   },
   {
    "duration": 1322,
    "start_time": "2022-10-09T21:24:38.342Z"
   },
   {
    "duration": 34,
    "start_time": "2022-10-09T21:24:39.667Z"
   },
   {
    "duration": 196,
    "start_time": "2022-10-09T21:24:39.702Z"
   },
   {
    "duration": 4,
    "start_time": "2022-10-09T21:24:39.900Z"
   },
   {
    "duration": 5,
    "start_time": "2022-10-09T21:24:39.906Z"
   },
   {
    "duration": 8,
    "start_time": "2022-10-09T21:24:39.912Z"
   },
   {
    "duration": 4,
    "start_time": "2022-10-09T21:24:39.921Z"
   },
   {
    "duration": 6,
    "start_time": "2022-10-09T21:24:39.927Z"
   },
   {
    "duration": 7,
    "start_time": "2022-10-09T21:24:39.934Z"
   },
   {
    "duration": 18,
    "start_time": "2022-10-09T21:24:39.942Z"
   },
   {
    "duration": 10,
    "start_time": "2022-10-09T21:24:39.961Z"
   },
   {
    "duration": 14,
    "start_time": "2022-10-09T21:24:39.972Z"
   },
   {
    "duration": 6,
    "start_time": "2022-10-09T21:24:39.987Z"
   },
   {
    "duration": 4,
    "start_time": "2022-10-09T21:24:39.994Z"
   },
   {
    "duration": 11,
    "start_time": "2022-10-09T21:24:40.000Z"
   },
   {
    "duration": 7,
    "start_time": "2022-10-09T21:24:40.013Z"
   },
   {
    "duration": 15171,
    "start_time": "2022-10-09T21:24:40.021Z"
   },
   {
    "duration": 54930,
    "start_time": "2022-10-09T21:24:55.193Z"
   },
   {
    "duration": 1480,
    "start_time": "2022-10-09T21:25:50.124Z"
   },
   {
    "duration": 4,
    "start_time": "2022-10-09T21:25:51.606Z"
   },
   {
    "duration": 91,
    "start_time": "2022-10-09T21:25:51.611Z"
   },
   {
    "duration": 7741,
    "start_time": "2022-10-09T21:25:51.704Z"
   },
   {
    "duration": 2181,
    "start_time": "2022-10-10T08:32:23.062Z"
   },
   {
    "duration": 669,
    "start_time": "2022-10-10T08:32:25.245Z"
   },
   {
    "duration": 3,
    "start_time": "2022-10-10T08:32:25.916Z"
   },
   {
    "duration": 374,
    "start_time": "2022-10-10T08:32:25.921Z"
   },
   {
    "duration": 173,
    "start_time": "2022-10-10T08:32:26.296Z"
   },
   {
    "duration": 344,
    "start_time": "2022-10-10T08:32:26.471Z"
   },
   {
    "duration": 3,
    "start_time": "2022-10-10T08:32:26.817Z"
   },
   {
    "duration": 15,
    "start_time": "2022-10-10T08:32:26.821Z"
   },
   {
    "duration": 6,
    "start_time": "2022-10-10T08:32:26.837Z"
   },
   {
    "duration": 9,
    "start_time": "2022-10-10T08:32:26.845Z"
   },
   {
    "duration": 7,
    "start_time": "2022-10-10T08:32:26.855Z"
   },
   {
    "duration": 8,
    "start_time": "2022-10-10T08:32:26.863Z"
   },
   {
    "duration": 12,
    "start_time": "2022-10-10T08:32:26.872Z"
   },
   {
    "duration": 5,
    "start_time": "2022-10-10T08:32:26.901Z"
   },
   {
    "duration": 57,
    "start_time": "2022-10-10T08:32:26.907Z"
   },
   {
    "duration": 3,
    "start_time": "2022-10-10T08:32:26.966Z"
   },
   {
    "duration": 13,
    "start_time": "2022-10-10T08:32:26.970Z"
   },
   {
    "duration": 21,
    "start_time": "2022-10-10T08:32:26.984Z"
   },
   {
    "duration": 15,
    "start_time": "2022-10-10T08:32:27.006Z"
   },
   {
    "duration": 3,
    "start_time": "2022-10-10T08:32:27.022Z"
   },
   {
    "duration": 15,
    "start_time": "2022-10-10T08:32:27.027Z"
   },
   {
    "duration": 18,
    "start_time": "2022-10-10T08:32:27.044Z"
   },
   {
    "duration": 106,
    "start_time": "2022-10-10T08:32:27.063Z"
   },
   {
    "duration": 0,
    "start_time": "2022-10-10T08:32:27.171Z"
   },
   {
    "duration": 0,
    "start_time": "2022-10-10T08:32:27.173Z"
   },
   {
    "duration": 0,
    "start_time": "2022-10-10T08:32:27.174Z"
   },
   {
    "duration": 0,
    "start_time": "2022-10-10T08:32:27.175Z"
   },
   {
    "duration": 0,
    "start_time": "2022-10-10T08:32:27.176Z"
   },
   {
    "duration": 0,
    "start_time": "2022-10-10T08:32:27.178Z"
   },
   {
    "duration": 1,
    "start_time": "2022-10-10T08:32:27.178Z"
   },
   {
    "duration": 0,
    "start_time": "2022-10-10T08:32:27.179Z"
   },
   {
    "duration": 0,
    "start_time": "2022-10-10T08:32:27.180Z"
   },
   {
    "duration": 0,
    "start_time": "2022-10-10T08:32:27.181Z"
   },
   {
    "duration": 0,
    "start_time": "2022-10-10T08:32:27.182Z"
   },
   {
    "duration": 0,
    "start_time": "2022-10-10T08:32:27.200Z"
   },
   {
    "duration": 0,
    "start_time": "2022-10-10T08:32:27.202Z"
   },
   {
    "duration": 0,
    "start_time": "2022-10-10T08:32:27.203Z"
   },
   {
    "duration": 0,
    "start_time": "2022-10-10T08:32:27.204Z"
   },
   {
    "duration": 0,
    "start_time": "2022-10-10T08:32:27.205Z"
   },
   {
    "duration": 0,
    "start_time": "2022-10-10T08:32:27.205Z"
   },
   {
    "duration": 0,
    "start_time": "2022-10-10T08:32:27.207Z"
   },
   {
    "duration": 0,
    "start_time": "2022-10-10T08:32:27.207Z"
   },
   {
    "duration": 0,
    "start_time": "2022-10-10T08:32:27.208Z"
   },
   {
    "duration": 0,
    "start_time": "2022-10-10T08:32:27.209Z"
   },
   {
    "duration": 0,
    "start_time": "2022-10-10T08:32:27.210Z"
   },
   {
    "duration": 0,
    "start_time": "2022-10-10T08:32:27.212Z"
   },
   {
    "duration": 1,
    "start_time": "2022-10-10T08:32:27.212Z"
   },
   {
    "duration": 0,
    "start_time": "2022-10-10T08:32:27.214Z"
   },
   {
    "duration": 4,
    "start_time": "2022-10-10T08:32:49.252Z"
   },
   {
    "duration": 1427,
    "start_time": "2022-10-10T08:33:20.493Z"
   },
   {
    "duration": 661,
    "start_time": "2022-10-10T08:33:21.922Z"
   },
   {
    "duration": 5,
    "start_time": "2022-10-10T08:33:22.585Z"
   },
   {
    "duration": 362,
    "start_time": "2022-10-10T08:33:22.592Z"
   },
   {
    "duration": 176,
    "start_time": "2022-10-10T08:33:22.956Z"
   },
   {
    "duration": 350,
    "start_time": "2022-10-10T08:33:23.133Z"
   },
   {
    "duration": 4,
    "start_time": "2022-10-10T08:33:23.484Z"
   },
   {
    "duration": 17,
    "start_time": "2022-10-10T08:33:23.489Z"
   },
   {
    "duration": 6,
    "start_time": "2022-10-10T08:33:23.507Z"
   },
   {
    "duration": 4,
    "start_time": "2022-10-10T08:33:23.515Z"
   },
   {
    "duration": 7,
    "start_time": "2022-10-10T08:33:23.520Z"
   },
   {
    "duration": 5,
    "start_time": "2022-10-10T08:33:23.528Z"
   },
   {
    "duration": 10,
    "start_time": "2022-10-10T08:33:23.534Z"
   },
   {
    "duration": 10,
    "start_time": "2022-10-10T08:33:23.545Z"
   },
   {
    "duration": 75,
    "start_time": "2022-10-10T08:33:23.556Z"
   },
   {
    "duration": 4,
    "start_time": "2022-10-10T08:33:23.633Z"
   },
   {
    "duration": 27,
    "start_time": "2022-10-10T08:33:23.638Z"
   },
   {
    "duration": 8,
    "start_time": "2022-10-10T08:33:23.666Z"
   },
   {
    "duration": 13,
    "start_time": "2022-10-10T08:33:23.675Z"
   },
   {
    "duration": 11,
    "start_time": "2022-10-10T08:33:23.689Z"
   },
   {
    "duration": 3,
    "start_time": "2022-10-10T08:33:23.702Z"
   },
   {
    "duration": 6,
    "start_time": "2022-10-10T08:33:23.706Z"
   },
   {
    "duration": 14,
    "start_time": "2022-10-10T08:33:23.713Z"
   },
   {
    "duration": 4,
    "start_time": "2022-10-10T08:33:23.728Z"
   },
   {
    "duration": 8,
    "start_time": "2022-10-10T08:33:23.734Z"
   },
   {
    "duration": 16,
    "start_time": "2022-10-10T08:33:23.744Z"
   },
   {
    "duration": 223,
    "start_time": "2022-10-10T08:33:23.761Z"
   },
   {
    "duration": 1962,
    "start_time": "2022-10-10T08:33:23.987Z"
   },
   {
    "duration": 30,
    "start_time": "2022-10-10T08:33:25.951Z"
   },
   {
    "duration": 206,
    "start_time": "2022-10-10T08:33:25.983Z"
   },
   {
    "duration": 11,
    "start_time": "2022-10-10T08:33:26.191Z"
   },
   {
    "duration": 10,
    "start_time": "2022-10-10T08:33:26.204Z"
   },
   {
    "duration": 9,
    "start_time": "2022-10-10T08:33:26.216Z"
   },
   {
    "duration": 7,
    "start_time": "2022-10-10T08:33:26.226Z"
   },
   {
    "duration": 10,
    "start_time": "2022-10-10T08:33:26.235Z"
   },
   {
    "duration": 7,
    "start_time": "2022-10-10T08:33:26.247Z"
   },
   {
    "duration": 13,
    "start_time": "2022-10-10T08:33:26.256Z"
   },
   {
    "duration": 13,
    "start_time": "2022-10-10T08:33:26.270Z"
   },
   {
    "duration": 6,
    "start_time": "2022-10-10T08:33:26.285Z"
   },
   {
    "duration": 9,
    "start_time": "2022-10-10T08:33:26.292Z"
   },
   {
    "duration": 5,
    "start_time": "2022-10-10T08:33:26.302Z"
   },
   {
    "duration": 16,
    "start_time": "2022-10-10T08:33:26.308Z"
   },
   {
    "duration": 6,
    "start_time": "2022-10-10T08:33:26.325Z"
   },
   {
    "duration": 15480,
    "start_time": "2022-10-10T08:33:26.333Z"
   },
   {
    "duration": 56032,
    "start_time": "2022-10-10T08:33:41.814Z"
   },
   {
    "duration": 1570,
    "start_time": "2022-10-10T08:34:37.847Z"
   },
   {
    "duration": 81,
    "start_time": "2022-10-10T08:34:39.421Z"
   },
   {
    "duration": 24,
    "start_time": "2022-10-10T08:34:39.504Z"
   },
   {
    "duration": 8075,
    "start_time": "2022-10-10T08:34:39.530Z"
   },
   {
    "duration": 4,
    "start_time": "2022-10-10T08:44:46.378Z"
   },
   {
    "duration": 1352,
    "start_time": "2022-10-10T08:48:05.746Z"
   },
   {
    "duration": 646,
    "start_time": "2022-10-10T08:48:07.100Z"
   },
   {
    "duration": 3,
    "start_time": "2022-10-10T08:48:07.748Z"
   },
   {
    "duration": 374,
    "start_time": "2022-10-10T08:48:07.753Z"
   },
   {
    "duration": 188,
    "start_time": "2022-10-10T08:48:08.129Z"
   },
   {
    "duration": 357,
    "start_time": "2022-10-10T08:48:08.319Z"
   },
   {
    "duration": 3,
    "start_time": "2022-10-10T08:48:08.677Z"
   },
   {
    "duration": 42,
    "start_time": "2022-10-10T08:48:08.681Z"
   },
   {
    "duration": 12,
    "start_time": "2022-10-10T08:48:08.724Z"
   },
   {
    "duration": 21,
    "start_time": "2022-10-10T08:48:08.738Z"
   },
   {
    "duration": 16,
    "start_time": "2022-10-10T08:48:08.761Z"
   },
   {
    "duration": 20,
    "start_time": "2022-10-10T08:48:08.778Z"
   },
   {
    "duration": 12,
    "start_time": "2022-10-10T08:48:08.800Z"
   },
   {
    "duration": 10,
    "start_time": "2022-10-10T08:48:08.814Z"
   },
   {
    "duration": 57,
    "start_time": "2022-10-10T08:48:08.826Z"
   },
   {
    "duration": 3,
    "start_time": "2022-10-10T08:48:08.885Z"
   },
   {
    "duration": 18,
    "start_time": "2022-10-10T08:48:08.889Z"
   },
   {
    "duration": 6,
    "start_time": "2022-10-10T08:48:08.909Z"
   },
   {
    "duration": 20,
    "start_time": "2022-10-10T08:48:08.916Z"
   },
   {
    "duration": 3,
    "start_time": "2022-10-10T08:48:08.937Z"
   },
   {
    "duration": 6,
    "start_time": "2022-10-10T08:48:08.942Z"
   },
   {
    "duration": 18,
    "start_time": "2022-10-10T08:48:08.949Z"
   },
   {
    "duration": 3,
    "start_time": "2022-10-10T08:48:08.969Z"
   },
   {
    "duration": 39,
    "start_time": "2022-10-10T08:48:08.973Z"
   },
   {
    "duration": 200,
    "start_time": "2022-10-10T08:48:09.014Z"
   },
   {
    "duration": 952,
    "start_time": "2022-10-10T08:48:09.216Z"
   },
   {
    "duration": 35,
    "start_time": "2022-10-10T08:48:10.170Z"
   },
   {
    "duration": 203,
    "start_time": "2022-10-10T08:48:10.208Z"
   },
   {
    "duration": 4,
    "start_time": "2022-10-10T08:48:10.412Z"
   },
   {
    "duration": 6,
    "start_time": "2022-10-10T08:48:10.417Z"
   },
   {
    "duration": 9,
    "start_time": "2022-10-10T08:48:10.425Z"
   },
   {
    "duration": 5,
    "start_time": "2022-10-10T08:48:10.436Z"
   },
   {
    "duration": 16,
    "start_time": "2022-10-10T08:48:10.442Z"
   },
   {
    "duration": 6,
    "start_time": "2022-10-10T08:48:10.460Z"
   },
   {
    "duration": 6,
    "start_time": "2022-10-10T08:48:10.468Z"
   },
   {
    "duration": 6,
    "start_time": "2022-10-10T08:48:10.475Z"
   },
   {
    "duration": 6,
    "start_time": "2022-10-10T08:48:10.483Z"
   },
   {
    "duration": 11,
    "start_time": "2022-10-10T08:48:10.490Z"
   },
   {
    "duration": 7,
    "start_time": "2022-10-10T08:48:10.503Z"
   },
   {
    "duration": 6,
    "start_time": "2022-10-10T08:48:10.512Z"
   },
   {
    "duration": 14,
    "start_time": "2022-10-10T08:48:10.519Z"
   },
   {
    "duration": 18,
    "start_time": "2022-10-10T08:48:10.534Z"
   },
   {
    "duration": 22,
    "start_time": "2022-10-10T08:48:10.554Z"
   },
   {
    "duration": 15329,
    "start_time": "2022-10-10T08:48:10.577Z"
   },
   {
    "duration": 1450,
    "start_time": "2022-10-10T08:48:38.098Z"
   },
   {
    "duration": 655,
    "start_time": "2022-10-10T08:48:39.550Z"
   },
   {
    "duration": 3,
    "start_time": "2022-10-10T08:48:40.207Z"
   },
   {
    "duration": 383,
    "start_time": "2022-10-10T08:48:40.212Z"
   },
   {
    "duration": 177,
    "start_time": "2022-10-10T08:48:40.596Z"
   },
   {
    "duration": 366,
    "start_time": "2022-10-10T08:48:40.774Z"
   },
   {
    "duration": 4,
    "start_time": "2022-10-10T08:48:41.142Z"
   },
   {
    "duration": 26,
    "start_time": "2022-10-10T08:48:41.148Z"
   },
   {
    "duration": 21,
    "start_time": "2022-10-10T08:48:41.176Z"
   },
   {
    "duration": 13,
    "start_time": "2022-10-10T08:48:41.200Z"
   },
   {
    "duration": 19,
    "start_time": "2022-10-10T08:48:41.215Z"
   },
   {
    "duration": 12,
    "start_time": "2022-10-10T08:48:41.236Z"
   },
   {
    "duration": 21,
    "start_time": "2022-10-10T08:48:41.250Z"
   },
   {
    "duration": 8,
    "start_time": "2022-10-10T08:48:41.273Z"
   },
   {
    "duration": 83,
    "start_time": "2022-10-10T08:48:41.283Z"
   },
   {
    "duration": 4,
    "start_time": "2022-10-10T08:48:41.368Z"
   },
   {
    "duration": 16,
    "start_time": "2022-10-10T08:48:41.374Z"
   },
   {
    "duration": 38,
    "start_time": "2022-10-10T08:48:41.392Z"
   },
   {
    "duration": 24,
    "start_time": "2022-10-10T08:48:41.432Z"
   },
   {
    "duration": 23,
    "start_time": "2022-10-10T08:48:41.458Z"
   },
   {
    "duration": 22,
    "start_time": "2022-10-10T08:48:41.483Z"
   },
   {
    "duration": 38,
    "start_time": "2022-10-10T08:48:41.507Z"
   },
   {
    "duration": 8,
    "start_time": "2022-10-10T08:48:41.547Z"
   },
   {
    "duration": 24,
    "start_time": "2022-10-10T08:48:41.556Z"
   },
   {
    "duration": 249,
    "start_time": "2022-10-10T08:48:41.582Z"
   },
   {
    "duration": 975,
    "start_time": "2022-10-10T08:48:41.832Z"
   },
   {
    "duration": 34,
    "start_time": "2022-10-10T08:48:42.809Z"
   },
   {
    "duration": 234,
    "start_time": "2022-10-10T08:48:42.846Z"
   },
   {
    "duration": 4,
    "start_time": "2022-10-10T08:48:43.083Z"
   },
   {
    "duration": 45,
    "start_time": "2022-10-10T08:48:43.089Z"
   },
   {
    "duration": 19,
    "start_time": "2022-10-10T08:48:43.136Z"
   },
   {
    "duration": 27,
    "start_time": "2022-10-10T08:48:43.157Z"
   },
   {
    "duration": 18,
    "start_time": "2022-10-10T08:48:43.186Z"
   },
   {
    "duration": 26,
    "start_time": "2022-10-10T08:48:43.205Z"
   },
   {
    "duration": 22,
    "start_time": "2022-10-10T08:48:43.232Z"
   },
   {
    "duration": 40,
    "start_time": "2022-10-10T08:48:43.256Z"
   },
   {
    "duration": 10,
    "start_time": "2022-10-10T08:48:43.297Z"
   },
   {
    "duration": 25,
    "start_time": "2022-10-10T08:48:43.308Z"
   },
   {
    "duration": 43,
    "start_time": "2022-10-10T08:48:43.335Z"
   },
   {
    "duration": 29,
    "start_time": "2022-10-10T08:48:43.380Z"
   },
   {
    "duration": 51,
    "start_time": "2022-10-10T08:48:43.411Z"
   },
   {
    "duration": 32,
    "start_time": "2022-10-10T08:48:43.464Z"
   },
   {
    "duration": 32,
    "start_time": "2022-10-10T08:48:43.497Z"
   },
   {
    "duration": 15632,
    "start_time": "2022-10-10T08:48:43.531Z"
   },
   {
    "duration": 1436,
    "start_time": "2022-10-10T08:49:55.603Z"
   },
   {
    "duration": 675,
    "start_time": "2022-10-10T08:49:57.041Z"
   },
   {
    "duration": 4,
    "start_time": "2022-10-10T08:49:57.717Z"
   },
   {
    "duration": 359,
    "start_time": "2022-10-10T08:49:57.722Z"
   },
   {
    "duration": 166,
    "start_time": "2022-10-10T08:49:58.083Z"
   },
   {
    "duration": 363,
    "start_time": "2022-10-10T08:49:58.250Z"
   },
   {
    "duration": 3,
    "start_time": "2022-10-10T08:49:58.615Z"
   },
   {
    "duration": 11,
    "start_time": "2022-10-10T08:49:58.620Z"
   },
   {
    "duration": 7,
    "start_time": "2022-10-10T08:49:58.633Z"
   },
   {
    "duration": 4,
    "start_time": "2022-10-10T08:49:58.644Z"
   },
   {
    "duration": 11,
    "start_time": "2022-10-10T08:49:58.649Z"
   },
   {
    "duration": 7,
    "start_time": "2022-10-10T08:49:58.662Z"
   },
   {
    "duration": 30,
    "start_time": "2022-10-10T08:49:58.671Z"
   },
   {
    "duration": 3,
    "start_time": "2022-10-10T08:49:58.703Z"
   },
   {
    "duration": 61,
    "start_time": "2022-10-10T08:49:58.708Z"
   },
   {
    "duration": 6,
    "start_time": "2022-10-10T08:49:58.770Z"
   },
   {
    "duration": 27,
    "start_time": "2022-10-10T08:49:58.777Z"
   },
   {
    "duration": 7,
    "start_time": "2022-10-10T08:49:58.806Z"
   },
   {
    "duration": 16,
    "start_time": "2022-10-10T08:49:58.815Z"
   },
   {
    "duration": 4,
    "start_time": "2022-10-10T08:49:58.833Z"
   },
   {
    "duration": 11,
    "start_time": "2022-10-10T08:49:58.839Z"
   },
   {
    "duration": 19,
    "start_time": "2022-10-10T08:49:58.852Z"
   },
   {
    "duration": 3,
    "start_time": "2022-10-10T08:49:58.872Z"
   },
   {
    "duration": 37,
    "start_time": "2022-10-10T08:49:58.877Z"
   },
   {
    "duration": 223,
    "start_time": "2022-10-10T08:49:58.916Z"
   },
   {
    "duration": 937,
    "start_time": "2022-10-10T08:49:59.140Z"
   },
   {
    "duration": 40,
    "start_time": "2022-10-10T08:50:00.079Z"
   },
   {
    "duration": 200,
    "start_time": "2022-10-10T08:50:00.121Z"
   },
   {
    "duration": 3,
    "start_time": "2022-10-10T08:50:00.323Z"
   },
   {
    "duration": 16,
    "start_time": "2022-10-10T08:50:00.328Z"
   },
   {
    "duration": 17,
    "start_time": "2022-10-10T08:50:00.346Z"
   },
   {
    "duration": 30,
    "start_time": "2022-10-10T08:50:00.364Z"
   },
   {
    "duration": 41,
    "start_time": "2022-10-10T08:50:00.396Z"
   },
   {
    "duration": 11,
    "start_time": "2022-10-10T08:50:00.439Z"
   },
   {
    "duration": 16,
    "start_time": "2022-10-10T08:50:00.452Z"
   },
   {
    "duration": 27,
    "start_time": "2022-10-10T08:50:00.470Z"
   },
   {
    "duration": 22,
    "start_time": "2022-10-10T08:50:00.499Z"
   },
   {
    "duration": 23,
    "start_time": "2022-10-10T08:50:00.522Z"
   },
   {
    "duration": 37,
    "start_time": "2022-10-10T08:50:00.547Z"
   },
   {
    "duration": 22,
    "start_time": "2022-10-10T08:50:00.585Z"
   },
   {
    "duration": 29,
    "start_time": "2022-10-10T08:50:00.609Z"
   },
   {
    "duration": 40,
    "start_time": "2022-10-10T08:50:00.640Z"
   },
   {
    "duration": 37,
    "start_time": "2022-10-10T08:50:00.682Z"
   },
   {
    "duration": 15301,
    "start_time": "2022-10-10T08:50:00.721Z"
   },
   {
    "duration": 55746,
    "start_time": "2022-10-10T08:50:16.024Z"
   },
   {
    "duration": 1435,
    "start_time": "2022-10-10T08:51:11.772Z"
   },
   {
    "duration": 4,
    "start_time": "2022-10-10T08:51:13.209Z"
   },
   {
    "duration": 98,
    "start_time": "2022-10-10T08:51:13.214Z"
   },
   {
    "duration": 7789,
    "start_time": "2022-10-10T08:51:13.314Z"
   },
   {
    "duration": 88,
    "start_time": "2022-10-10T08:53:10.244Z"
   },
   {
    "duration": 1414,
    "start_time": "2022-10-10T09:08:56.179Z"
   },
   {
    "duration": 645,
    "start_time": "2022-10-10T09:08:57.595Z"
   },
   {
    "duration": 4,
    "start_time": "2022-10-10T09:08:58.241Z"
   },
   {
    "duration": 390,
    "start_time": "2022-10-10T09:08:58.248Z"
   },
   {
    "duration": 173,
    "start_time": "2022-10-10T09:08:58.639Z"
   },
   {
    "duration": 715,
    "start_time": "2022-10-10T09:08:58.814Z"
   },
   {
    "duration": 3,
    "start_time": "2022-10-10T09:08:59.531Z"
   },
   {
    "duration": 13,
    "start_time": "2022-10-10T09:08:59.535Z"
   },
   {
    "duration": 53,
    "start_time": "2022-10-10T09:08:59.550Z"
   },
   {
    "duration": 5,
    "start_time": "2022-10-10T09:08:59.605Z"
   },
   {
    "duration": 12,
    "start_time": "2022-10-10T09:08:59.612Z"
   },
   {
    "duration": 7,
    "start_time": "2022-10-10T09:08:59.625Z"
   },
   {
    "duration": 9,
    "start_time": "2022-10-10T09:08:59.634Z"
   },
   {
    "duration": 9,
    "start_time": "2022-10-10T09:08:59.645Z"
   },
   {
    "duration": 100,
    "start_time": "2022-10-10T09:08:59.701Z"
   },
   {
    "duration": 4,
    "start_time": "2022-10-10T09:08:59.802Z"
   },
   {
    "duration": 8,
    "start_time": "2022-10-10T09:08:59.807Z"
   },
   {
    "duration": 199,
    "start_time": "2022-10-10T09:08:59.817Z"
   },
   {
    "duration": 0,
    "start_time": "2022-10-10T09:09:00.018Z"
   },
   {
    "duration": 0,
    "start_time": "2022-10-10T09:09:00.018Z"
   },
   {
    "duration": 0,
    "start_time": "2022-10-10T09:09:00.020Z"
   },
   {
    "duration": 0,
    "start_time": "2022-10-10T09:09:00.021Z"
   },
   {
    "duration": 0,
    "start_time": "2022-10-10T09:09:00.022Z"
   },
   {
    "duration": 0,
    "start_time": "2022-10-10T09:09:00.023Z"
   },
   {
    "duration": 0,
    "start_time": "2022-10-10T09:09:00.023Z"
   },
   {
    "duration": 0,
    "start_time": "2022-10-10T09:09:00.025Z"
   },
   {
    "duration": 0,
    "start_time": "2022-10-10T09:09:00.026Z"
   },
   {
    "duration": 0,
    "start_time": "2022-10-10T09:09:00.027Z"
   },
   {
    "duration": 0,
    "start_time": "2022-10-10T09:09:00.028Z"
   },
   {
    "duration": 0,
    "start_time": "2022-10-10T09:09:00.029Z"
   },
   {
    "duration": 0,
    "start_time": "2022-10-10T09:09:00.030Z"
   },
   {
    "duration": 0,
    "start_time": "2022-10-10T09:09:00.031Z"
   },
   {
    "duration": 0,
    "start_time": "2022-10-10T09:09:00.033Z"
   },
   {
    "duration": 0,
    "start_time": "2022-10-10T09:09:00.034Z"
   },
   {
    "duration": 0,
    "start_time": "2022-10-10T09:09:00.035Z"
   },
   {
    "duration": 0,
    "start_time": "2022-10-10T09:09:00.036Z"
   },
   {
    "duration": 0,
    "start_time": "2022-10-10T09:09:00.037Z"
   },
   {
    "duration": 0,
    "start_time": "2022-10-10T09:09:00.038Z"
   },
   {
    "duration": 0,
    "start_time": "2022-10-10T09:09:00.039Z"
   },
   {
    "duration": 0,
    "start_time": "2022-10-10T09:09:00.041Z"
   },
   {
    "duration": 0,
    "start_time": "2022-10-10T09:09:00.042Z"
   },
   {
    "duration": 0,
    "start_time": "2022-10-10T09:09:00.101Z"
   },
   {
    "duration": 0,
    "start_time": "2022-10-10T09:09:00.102Z"
   },
   {
    "duration": 0,
    "start_time": "2022-10-10T09:09:00.103Z"
   },
   {
    "duration": 0,
    "start_time": "2022-10-10T09:09:00.105Z"
   },
   {
    "duration": 0,
    "start_time": "2022-10-10T09:09:00.107Z"
   },
   {
    "duration": 0,
    "start_time": "2022-10-10T09:09:00.109Z"
   },
   {
    "duration": 2,
    "start_time": "2022-10-10T09:10:24.793Z"
   },
   {
    "duration": 9,
    "start_time": "2022-10-10T09:10:36.423Z"
   },
   {
    "duration": 1448,
    "start_time": "2022-10-10T09:10:52.786Z"
   },
   {
    "duration": 1012,
    "start_time": "2022-10-10T09:10:54.236Z"
   },
   {
    "duration": 4,
    "start_time": "2022-10-10T09:10:55.300Z"
   },
   {
    "duration": 732,
    "start_time": "2022-10-10T09:10:55.307Z"
   },
   {
    "duration": 377,
    "start_time": "2022-10-10T09:10:56.041Z"
   },
   {
    "duration": 433,
    "start_time": "2022-10-10T09:10:56.420Z"
   },
   {
    "duration": 4,
    "start_time": "2022-10-10T09:10:56.854Z"
   },
   {
    "duration": 15,
    "start_time": "2022-10-10T09:10:56.860Z"
   },
   {
    "duration": 7,
    "start_time": "2022-10-10T09:10:56.877Z"
   },
   {
    "duration": 3,
    "start_time": "2022-10-10T09:10:56.902Z"
   },
   {
    "duration": 11,
    "start_time": "2022-10-10T09:10:56.907Z"
   },
   {
    "duration": 16,
    "start_time": "2022-10-10T09:10:56.920Z"
   },
   {
    "duration": 23,
    "start_time": "2022-10-10T09:10:56.938Z"
   },
   {
    "duration": 7,
    "start_time": "2022-10-10T09:10:56.963Z"
   },
   {
    "duration": 63,
    "start_time": "2022-10-10T09:10:56.972Z"
   },
   {
    "duration": 4,
    "start_time": "2022-10-10T09:10:57.036Z"
   },
   {
    "duration": 12,
    "start_time": "2022-10-10T09:10:57.041Z"
   },
   {
    "duration": 37,
    "start_time": "2022-10-10T09:10:57.054Z"
   },
   {
    "duration": 12,
    "start_time": "2022-10-10T09:10:57.092Z"
   },
   {
    "duration": 15,
    "start_time": "2022-10-10T09:10:57.105Z"
   },
   {
    "duration": 3,
    "start_time": "2022-10-10T09:10:57.121Z"
   },
   {
    "duration": 6,
    "start_time": "2022-10-10T09:10:57.126Z"
   },
   {
    "duration": 20,
    "start_time": "2022-10-10T09:10:57.133Z"
   },
   {
    "duration": 2,
    "start_time": "2022-10-10T09:10:57.155Z"
   },
   {
    "duration": 52,
    "start_time": "2022-10-10T09:10:57.159Z"
   },
   {
    "duration": 226,
    "start_time": "2022-10-10T09:10:57.213Z"
   },
   {
    "duration": 994,
    "start_time": "2022-10-10T09:10:57.441Z"
   },
   {
    "duration": 33,
    "start_time": "2022-10-10T09:10:58.438Z"
   },
   {
    "duration": 220,
    "start_time": "2022-10-10T09:10:58.472Z"
   },
   {
    "duration": 8,
    "start_time": "2022-10-10T09:10:58.693Z"
   },
   {
    "duration": 9,
    "start_time": "2022-10-10T09:10:58.702Z"
   },
   {
    "duration": 5,
    "start_time": "2022-10-10T09:10:58.713Z"
   },
   {
    "duration": 4,
    "start_time": "2022-10-10T09:10:58.720Z"
   },
   {
    "duration": 9,
    "start_time": "2022-10-10T09:10:58.726Z"
   },
   {
    "duration": 9,
    "start_time": "2022-10-10T09:10:58.737Z"
   },
   {
    "duration": 7,
    "start_time": "2022-10-10T09:10:58.747Z"
   },
   {
    "duration": 5,
    "start_time": "2022-10-10T09:10:58.756Z"
   },
   {
    "duration": 5,
    "start_time": "2022-10-10T09:10:58.763Z"
   },
   {
    "duration": 7,
    "start_time": "2022-10-10T09:10:58.769Z"
   },
   {
    "duration": 25,
    "start_time": "2022-10-10T09:10:58.778Z"
   },
   {
    "duration": 14,
    "start_time": "2022-10-10T09:10:58.804Z"
   },
   {
    "duration": 3,
    "start_time": "2022-10-10T09:10:58.820Z"
   },
   {
    "duration": 17162,
    "start_time": "2022-10-10T09:10:58.824Z"
   },
   {
    "duration": 57247,
    "start_time": "2022-10-10T09:11:15.987Z"
   },
   {
    "duration": 1965,
    "start_time": "2022-10-10T09:12:13.236Z"
   },
   {
    "duration": 4,
    "start_time": "2022-10-10T09:12:15.203Z"
   },
   {
    "duration": 21,
    "start_time": "2022-10-10T09:12:15.209Z"
   },
   {
    "duration": 7711,
    "start_time": "2022-10-10T09:12:15.231Z"
   },
   {
    "duration": 60,
    "start_time": "2022-10-10T09:32:26.049Z"
   },
   {
    "duration": 59,
    "start_time": "2022-10-10T09:34:25.488Z"
   },
   {
    "duration": 1640,
    "start_time": "2022-10-10T09:34:32.818Z"
   },
   {
    "duration": 3408,
    "start_time": "2022-10-10T09:34:34.460Z"
   },
   {
    "duration": 4,
    "start_time": "2022-10-10T09:34:37.870Z"
   },
   {
    "duration": 869,
    "start_time": "2022-10-10T09:34:37.876Z"
   },
   {
    "duration": 273,
    "start_time": "2022-10-10T09:34:38.747Z"
   },
   {
    "duration": 381,
    "start_time": "2022-10-10T09:34:39.022Z"
   },
   {
    "duration": 3,
    "start_time": "2022-10-10T09:34:39.405Z"
   },
   {
    "duration": 11,
    "start_time": "2022-10-10T09:34:39.410Z"
   },
   {
    "duration": 19,
    "start_time": "2022-10-10T09:34:39.422Z"
   },
   {
    "duration": 8,
    "start_time": "2022-10-10T09:34:39.444Z"
   },
   {
    "duration": 13,
    "start_time": "2022-10-10T09:34:39.454Z"
   },
   {
    "duration": 6,
    "start_time": "2022-10-10T09:34:39.468Z"
   },
   {
    "duration": 12,
    "start_time": "2022-10-10T09:34:39.476Z"
   },
   {
    "duration": 11,
    "start_time": "2022-10-10T09:34:39.490Z"
   },
   {
    "duration": 75,
    "start_time": "2022-10-10T09:34:39.504Z"
   },
   {
    "duration": 4,
    "start_time": "2022-10-10T09:34:39.581Z"
   },
   {
    "duration": 23,
    "start_time": "2022-10-10T09:34:39.586Z"
   },
   {
    "duration": 18,
    "start_time": "2022-10-10T09:34:39.611Z"
   },
   {
    "duration": 41,
    "start_time": "2022-10-10T09:34:39.630Z"
   },
   {
    "duration": 4,
    "start_time": "2022-10-10T09:34:39.673Z"
   },
   {
    "duration": 15,
    "start_time": "2022-10-10T09:34:39.678Z"
   },
   {
    "duration": 23,
    "start_time": "2022-10-10T09:34:39.694Z"
   },
   {
    "duration": 13,
    "start_time": "2022-10-10T09:34:39.719Z"
   },
   {
    "duration": 28,
    "start_time": "2022-10-10T09:34:39.734Z"
   },
   {
    "duration": 228,
    "start_time": "2022-10-10T09:34:39.764Z"
   },
   {
    "duration": 1029,
    "start_time": "2022-10-10T09:34:39.993Z"
   },
   {
    "duration": 39,
    "start_time": "2022-10-10T09:34:41.024Z"
   },
   {
    "duration": 229,
    "start_time": "2022-10-10T09:34:41.067Z"
   },
   {
    "duration": 4,
    "start_time": "2022-10-10T09:34:41.298Z"
   },
   {
    "duration": 5,
    "start_time": "2022-10-10T09:34:41.304Z"
   },
   {
    "duration": 6,
    "start_time": "2022-10-10T09:34:41.311Z"
   },
   {
    "duration": 21,
    "start_time": "2022-10-10T09:34:41.318Z"
   },
   {
    "duration": 6,
    "start_time": "2022-10-10T09:34:41.341Z"
   },
   {
    "duration": 7,
    "start_time": "2022-10-10T09:34:41.348Z"
   },
   {
    "duration": 6,
    "start_time": "2022-10-10T09:34:41.357Z"
   },
   {
    "duration": 12,
    "start_time": "2022-10-10T09:34:41.365Z"
   },
   {
    "duration": 7,
    "start_time": "2022-10-10T09:34:41.379Z"
   },
   {
    "duration": 6,
    "start_time": "2022-10-10T09:34:41.388Z"
   },
   {
    "duration": 7,
    "start_time": "2022-10-10T09:34:41.396Z"
   },
   {
    "duration": 13,
    "start_time": "2022-10-10T09:34:41.405Z"
   },
   {
    "duration": 23,
    "start_time": "2022-10-10T09:34:41.419Z"
   },
   {
    "duration": 17085,
    "start_time": "2022-10-10T09:34:41.443Z"
   },
   {
    "duration": 63284,
    "start_time": "2022-10-10T09:34:58.530Z"
   },
   {
    "duration": 1633,
    "start_time": "2022-10-10T09:36:01.816Z"
   },
   {
    "duration": 89,
    "start_time": "2022-10-10T09:36:03.451Z"
   },
   {
    "duration": 28,
    "start_time": "2022-10-10T09:36:03.542Z"
   },
   {
    "duration": 8830,
    "start_time": "2022-10-10T09:36:03.572Z"
   },
   {
    "duration": 114,
    "start_time": "2022-10-10T09:42:12.423Z"
   },
   {
    "duration": 5090,
    "start_time": "2022-10-10T09:42:20.922Z"
   },
   {
    "duration": 4994,
    "start_time": "2022-10-10T09:43:45.905Z"
   },
   {
    "duration": 5342,
    "start_time": "2022-10-10T09:44:02.064Z"
   },
   {
    "duration": 4937,
    "start_time": "2022-10-10T09:44:11.063Z"
   },
   {
    "duration": 4893,
    "start_time": "2022-10-10T09:44:27.854Z"
   },
   {
    "duration": 1702,
    "start_time": "2022-10-10T09:46:10.897Z"
   },
   {
    "duration": 5240,
    "start_time": "2022-10-10T09:46:20.137Z"
   },
   {
    "duration": 15,
    "start_time": "2022-10-10T09:49:52.181Z"
   },
   {
    "duration": 14,
    "start_time": "2022-10-10T09:50:12.952Z"
   },
   {
    "duration": 4,
    "start_time": "2022-10-10T09:53:28.820Z"
   },
   {
    "duration": 4,
    "start_time": "2022-10-10T09:53:35.985Z"
   },
   {
    "duration": 80,
    "start_time": "2022-10-10T09:53:40.713Z"
   },
   {
    "duration": 3,
    "start_time": "2022-10-10T09:53:44.795Z"
   },
   {
    "duration": 1733,
    "start_time": "2022-10-10T09:56:22.865Z"
   },
   {
    "duration": 9,
    "start_time": "2022-10-10T09:58:59.751Z"
   },
   {
    "duration": 4,
    "start_time": "2022-10-10T09:59:13.768Z"
   },
   {
    "duration": 4,
    "start_time": "2022-10-10T09:59:21.628Z"
   },
   {
    "duration": 5,
    "start_time": "2022-10-10T10:00:24.276Z"
   },
   {
    "duration": 4,
    "start_time": "2022-10-10T10:00:26.532Z"
   },
   {
    "duration": 4,
    "start_time": "2022-10-10T10:00:35.589Z"
   },
   {
    "duration": 8,
    "start_time": "2022-10-10T10:00:57.310Z"
   },
   {
    "duration": 4,
    "start_time": "2022-10-10T10:01:01.977Z"
   },
   {
    "duration": 1388,
    "start_time": "2022-10-10T10:01:07.815Z"
   },
   {
    "duration": 699,
    "start_time": "2022-10-10T10:01:09.205Z"
   },
   {
    "duration": 4,
    "start_time": "2022-10-10T10:01:09.905Z"
   },
   {
    "duration": 418,
    "start_time": "2022-10-10T10:01:09.911Z"
   },
   {
    "duration": 188,
    "start_time": "2022-10-10T10:01:10.331Z"
   },
   {
    "duration": 396,
    "start_time": "2022-10-10T10:01:10.521Z"
   },
   {
    "duration": 3,
    "start_time": "2022-10-10T10:01:10.919Z"
   },
   {
    "duration": 28,
    "start_time": "2022-10-10T10:01:10.924Z"
   },
   {
    "duration": 9,
    "start_time": "2022-10-10T10:01:10.954Z"
   },
   {
    "duration": 15,
    "start_time": "2022-10-10T10:01:10.966Z"
   },
   {
    "duration": 21,
    "start_time": "2022-10-10T10:01:10.983Z"
   },
   {
    "duration": 26,
    "start_time": "2022-10-10T10:01:11.006Z"
   },
   {
    "duration": 25,
    "start_time": "2022-10-10T10:01:11.034Z"
   },
   {
    "duration": 8,
    "start_time": "2022-10-10T10:01:11.061Z"
   },
   {
    "duration": 78,
    "start_time": "2022-10-10T10:01:11.071Z"
   },
   {
    "duration": 4,
    "start_time": "2022-10-10T10:01:11.151Z"
   },
   {
    "duration": 20,
    "start_time": "2022-10-10T10:01:11.156Z"
   },
   {
    "duration": 17,
    "start_time": "2022-10-10T10:01:11.178Z"
   },
   {
    "duration": 35,
    "start_time": "2022-10-10T10:01:11.197Z"
   },
   {
    "duration": 4,
    "start_time": "2022-10-10T10:01:11.233Z"
   },
   {
    "duration": 14,
    "start_time": "2022-10-10T10:01:11.239Z"
   },
   {
    "duration": 33,
    "start_time": "2022-10-10T10:01:11.255Z"
   },
   {
    "duration": 21,
    "start_time": "2022-10-10T10:01:11.290Z"
   },
   {
    "duration": 28,
    "start_time": "2022-10-10T10:01:11.313Z"
   },
   {
    "duration": 245,
    "start_time": "2022-10-10T10:01:11.342Z"
   },
   {
    "duration": 4728,
    "start_time": "2022-10-10T10:01:11.588Z"
   },
   {
    "duration": 1163,
    "start_time": "2022-10-10T10:01:16.319Z"
   },
   {
    "duration": 58,
    "start_time": "2022-10-10T10:01:17.487Z"
   },
   {
    "duration": 244,
    "start_time": "2022-10-10T10:01:17.547Z"
   },
   {
    "duration": 4,
    "start_time": "2022-10-10T10:01:17.793Z"
   },
   {
    "duration": 21,
    "start_time": "2022-10-10T10:01:17.799Z"
   },
   {
    "duration": 21,
    "start_time": "2022-10-10T10:01:17.821Z"
   },
   {
    "duration": 25,
    "start_time": "2022-10-10T10:01:17.843Z"
   },
   {
    "duration": 16,
    "start_time": "2022-10-10T10:01:17.871Z"
   },
   {
    "duration": 21,
    "start_time": "2022-10-10T10:01:17.889Z"
   },
   {
    "duration": 15,
    "start_time": "2022-10-10T10:01:17.912Z"
   },
   {
    "duration": 22,
    "start_time": "2022-10-10T10:01:17.929Z"
   },
   {
    "duration": 23,
    "start_time": "2022-10-10T10:01:17.953Z"
   },
   {
    "duration": 19,
    "start_time": "2022-10-10T10:01:17.977Z"
   },
   {
    "duration": 13,
    "start_time": "2022-10-10T10:01:17.998Z"
   },
   {
    "duration": 20,
    "start_time": "2022-10-10T10:01:18.013Z"
   },
   {
    "duration": 20,
    "start_time": "2022-10-10T10:01:18.035Z"
   },
   {
    "duration": 29,
    "start_time": "2022-10-10T10:01:18.057Z"
   },
   {
    "duration": 3,
    "start_time": "2022-10-10T10:01:18.088Z"
   },
   {
    "duration": 17241,
    "start_time": "2022-10-10T10:01:18.093Z"
   },
   {
    "duration": 63069,
    "start_time": "2022-10-10T10:01:35.336Z"
   },
   {
    "duration": 1441,
    "start_time": "2022-10-10T10:02:38.406Z"
   },
   {
    "duration": 5,
    "start_time": "2022-10-10T10:02:39.940Z"
   },
   {
    "duration": 91,
    "start_time": "2022-10-10T10:02:39.947Z"
   },
   {
    "duration": 8735,
    "start_time": "2022-10-10T10:02:40.040Z"
   },
   {
    "duration": 63,
    "start_time": "2022-10-10T10:03:38.697Z"
   },
   {
    "duration": 51,
    "start_time": "2022-10-10T10:03:54.254Z"
   },
   {
    "duration": 5,
    "start_time": "2022-10-10T10:04:11.664Z"
   },
   {
    "duration": 4,
    "start_time": "2022-10-10T10:04:59.699Z"
   },
   {
    "duration": 4,
    "start_time": "2022-10-10T10:05:11.795Z"
   },
   {
    "duration": 113,
    "start_time": "2022-10-10T10:05:20.828Z"
   },
   {
    "duration": 14,
    "start_time": "2022-10-10T10:05:40.402Z"
   },
   {
    "duration": 15,
    "start_time": "2022-10-10T10:06:38.241Z"
   },
   {
    "duration": 4,
    "start_time": "2022-10-10T10:07:40.285Z"
   },
   {
    "duration": 14,
    "start_time": "2022-10-10T10:07:52.084Z"
   },
   {
    "duration": 15,
    "start_time": "2022-10-10T10:10:40.982Z"
   },
   {
    "duration": 13,
    "start_time": "2022-10-10T10:11:08.152Z"
   },
   {
    "duration": 15,
    "start_time": "2022-10-10T10:12:54.414Z"
   },
   {
    "duration": 15,
    "start_time": "2022-10-10T10:13:01.594Z"
   },
   {
    "duration": 816,
    "start_time": "2022-10-10T10:14:17.558Z"
   },
   {
    "duration": 1154,
    "start_time": "2022-10-10T10:14:26.151Z"
   },
   {
    "duration": 4,
    "start_time": "2022-10-10T10:17:53.237Z"
   },
   {
    "duration": 14,
    "start_time": "2022-10-10T10:18:10.609Z"
   },
   {
    "duration": 84,
    "start_time": "2022-10-10T10:19:11.394Z"
   },
   {
    "duration": 1649,
    "start_time": "2022-10-10T10:29:38.554Z"
   },
   {
    "duration": 695,
    "start_time": "2022-10-10T10:29:40.205Z"
   },
   {
    "duration": 4,
    "start_time": "2022-10-10T10:29:40.902Z"
   },
   {
    "duration": 400,
    "start_time": "2022-10-10T10:29:40.907Z"
   },
   {
    "duration": 187,
    "start_time": "2022-10-10T10:29:41.309Z"
   },
   {
    "duration": 432,
    "start_time": "2022-10-10T10:29:41.498Z"
   },
   {
    "duration": 7,
    "start_time": "2022-10-10T10:29:41.932Z"
   },
   {
    "duration": 14,
    "start_time": "2022-10-10T10:29:41.941Z"
   },
   {
    "duration": 7,
    "start_time": "2022-10-10T10:29:41.956Z"
   },
   {
    "duration": 4,
    "start_time": "2022-10-10T10:29:41.964Z"
   },
   {
    "duration": 7,
    "start_time": "2022-10-10T10:29:41.970Z"
   },
   {
    "duration": 5,
    "start_time": "2022-10-10T10:29:41.979Z"
   },
   {
    "duration": 10,
    "start_time": "2022-10-10T10:29:41.986Z"
   },
   {
    "duration": 6,
    "start_time": "2022-10-10T10:29:41.999Z"
   },
   {
    "duration": 55,
    "start_time": "2022-10-10T10:29:42.038Z"
   },
   {
    "duration": 3,
    "start_time": "2022-10-10T10:29:42.095Z"
   },
   {
    "duration": 24,
    "start_time": "2022-10-10T10:29:42.100Z"
   },
   {
    "duration": 13,
    "start_time": "2022-10-10T10:29:42.126Z"
   },
   {
    "duration": 14,
    "start_time": "2022-10-10T10:29:42.141Z"
   },
   {
    "duration": 3,
    "start_time": "2022-10-10T10:29:42.157Z"
   },
   {
    "duration": 9,
    "start_time": "2022-10-10T10:29:42.162Z"
   },
   {
    "duration": 20,
    "start_time": "2022-10-10T10:29:42.173Z"
   },
   {
    "duration": 3,
    "start_time": "2022-10-10T10:29:42.195Z"
   },
   {
    "duration": 49,
    "start_time": "2022-10-10T10:29:42.199Z"
   },
   {
    "duration": 232,
    "start_time": "2022-10-10T10:29:42.249Z"
   },
   {
    "duration": 4983,
    "start_time": "2022-10-10T10:29:42.482Z"
   },
   {
    "duration": 1144,
    "start_time": "2022-10-10T10:29:47.467Z"
   },
   {
    "duration": 45,
    "start_time": "2022-10-10T10:29:48.613Z"
   },
   {
    "duration": 250,
    "start_time": "2022-10-10T10:29:48.661Z"
   },
   {
    "duration": 5,
    "start_time": "2022-10-10T10:29:48.912Z"
   },
   {
    "duration": 11,
    "start_time": "2022-10-10T10:29:48.919Z"
   },
   {
    "duration": 135,
    "start_time": "2022-10-10T10:29:48.938Z"
   },
   {
    "duration": 0,
    "start_time": "2022-10-10T10:29:49.076Z"
   },
   {
    "duration": 0,
    "start_time": "2022-10-10T10:29:49.077Z"
   },
   {
    "duration": 0,
    "start_time": "2022-10-10T10:29:49.078Z"
   },
   {
    "duration": 0,
    "start_time": "2022-10-10T10:29:49.079Z"
   },
   {
    "duration": 0,
    "start_time": "2022-10-10T10:29:49.081Z"
   },
   {
    "duration": 0,
    "start_time": "2022-10-10T10:29:49.082Z"
   },
   {
    "duration": 0,
    "start_time": "2022-10-10T10:29:49.082Z"
   },
   {
    "duration": 0,
    "start_time": "2022-10-10T10:29:49.084Z"
   },
   {
    "duration": 0,
    "start_time": "2022-10-10T10:29:49.086Z"
   },
   {
    "duration": 0,
    "start_time": "2022-10-10T10:29:49.088Z"
   },
   {
    "duration": 0,
    "start_time": "2022-10-10T10:29:49.089Z"
   },
   {
    "duration": 0,
    "start_time": "2022-10-10T10:29:49.091Z"
   },
   {
    "duration": 0,
    "start_time": "2022-10-10T10:29:49.092Z"
   },
   {
    "duration": 0,
    "start_time": "2022-10-10T10:29:49.096Z"
   },
   {
    "duration": 0,
    "start_time": "2022-10-10T10:29:49.138Z"
   },
   {
    "duration": 0,
    "start_time": "2022-10-10T10:29:49.140Z"
   },
   {
    "duration": 0,
    "start_time": "2022-10-10T10:29:49.142Z"
   },
   {
    "duration": 17,
    "start_time": "2022-10-10T10:33:20.857Z"
   },
   {
    "duration": 17,
    "start_time": "2022-10-10T10:34:04.110Z"
   },
   {
    "duration": 5143,
    "start_time": "2022-10-10T10:34:31.414Z"
   },
   {
    "duration": 4,
    "start_time": "2022-10-10T10:34:43.811Z"
   },
   {
    "duration": 1451,
    "start_time": "2022-10-10T10:35:02.146Z"
   },
   {
    "duration": 699,
    "start_time": "2022-10-10T10:35:03.599Z"
   },
   {
    "duration": 4,
    "start_time": "2022-10-10T10:35:04.299Z"
   },
   {
    "duration": 407,
    "start_time": "2022-10-10T10:35:04.304Z"
   },
   {
    "duration": 185,
    "start_time": "2022-10-10T10:35:04.713Z"
   },
   {
    "duration": 382,
    "start_time": "2022-10-10T10:35:04.900Z"
   },
   {
    "duration": 3,
    "start_time": "2022-10-10T10:35:05.284Z"
   },
   {
    "duration": 12,
    "start_time": "2022-10-10T10:35:05.289Z"
   },
   {
    "duration": 6,
    "start_time": "2022-10-10T10:35:05.303Z"
   },
   {
    "duration": 3,
    "start_time": "2022-10-10T10:35:05.312Z"
   },
   {
    "duration": 4,
    "start_time": "2022-10-10T10:35:05.338Z"
   },
   {
    "duration": 7,
    "start_time": "2022-10-10T10:35:05.344Z"
   },
   {
    "duration": 14,
    "start_time": "2022-10-10T10:35:05.353Z"
   },
   {
    "duration": 7,
    "start_time": "2022-10-10T10:35:05.369Z"
   },
   {
    "duration": 66,
    "start_time": "2022-10-10T10:35:05.377Z"
   },
   {
    "duration": 4,
    "start_time": "2022-10-10T10:35:05.444Z"
   },
   {
    "duration": 24,
    "start_time": "2022-10-10T10:35:05.450Z"
   },
   {
    "duration": 19,
    "start_time": "2022-10-10T10:35:05.476Z"
   },
   {
    "duration": 23,
    "start_time": "2022-10-10T10:35:05.497Z"
   },
   {
    "duration": 6,
    "start_time": "2022-10-10T10:35:05.522Z"
   },
   {
    "duration": 20,
    "start_time": "2022-10-10T10:35:05.530Z"
   },
   {
    "duration": 39,
    "start_time": "2022-10-10T10:35:05.552Z"
   },
   {
    "duration": 4,
    "start_time": "2022-10-10T10:35:05.593Z"
   },
   {
    "duration": 26,
    "start_time": "2022-10-10T10:35:05.598Z"
   },
   {
    "duration": 242,
    "start_time": "2022-10-10T10:35:05.625Z"
   },
   {
    "duration": 5082,
    "start_time": "2022-10-10T10:35:05.869Z"
   },
   {
    "duration": 1629,
    "start_time": "2022-10-10T10:35:10.953Z"
   },
   {
    "duration": 31,
    "start_time": "2022-10-10T10:35:12.586Z"
   },
   {
    "duration": 239,
    "start_time": "2022-10-10T10:35:12.619Z"
   },
   {
    "duration": 5,
    "start_time": "2022-10-10T10:35:12.859Z"
   },
   {
    "duration": 7,
    "start_time": "2022-10-10T10:35:12.865Z"
   },
   {
    "duration": 4979,
    "start_time": "2022-10-10T10:35:12.873Z"
   },
   {
    "duration": 4,
    "start_time": "2022-10-10T10:35:17.854Z"
   },
   {
    "duration": 7,
    "start_time": "2022-10-10T10:35:17.860Z"
   },
   {
    "duration": 6,
    "start_time": "2022-10-10T10:35:17.869Z"
   },
   {
    "duration": 6,
    "start_time": "2022-10-10T10:35:17.877Z"
   },
   {
    "duration": 6,
    "start_time": "2022-10-10T10:35:17.884Z"
   },
   {
    "duration": 6,
    "start_time": "2022-10-10T10:35:17.892Z"
   },
   {
    "duration": 6,
    "start_time": "2022-10-10T10:35:17.900Z"
   },
   {
    "duration": 34,
    "start_time": "2022-10-10T10:35:17.908Z"
   },
   {
    "duration": 5,
    "start_time": "2022-10-10T10:35:17.945Z"
   },
   {
    "duration": 13,
    "start_time": "2022-10-10T10:35:17.951Z"
   },
   {
    "duration": 9,
    "start_time": "2022-10-10T10:35:17.966Z"
   },
   {
    "duration": 115,
    "start_time": "2022-10-10T10:35:17.977Z"
   },
   {
    "duration": 0,
    "start_time": "2022-10-10T10:35:18.094Z"
   },
   {
    "duration": 0,
    "start_time": "2022-10-10T10:35:18.095Z"
   },
   {
    "duration": 0,
    "start_time": "2022-10-10T10:35:18.096Z"
   },
   {
    "duration": 0,
    "start_time": "2022-10-10T10:35:18.098Z"
   },
   {
    "duration": 0,
    "start_time": "2022-10-10T10:35:18.099Z"
   },
   {
    "duration": 1430,
    "start_time": "2022-10-10T10:37:10.546Z"
   },
   {
    "duration": 704,
    "start_time": "2022-10-10T10:37:11.978Z"
   },
   {
    "duration": 5,
    "start_time": "2022-10-10T10:37:12.683Z"
   },
   {
    "duration": 402,
    "start_time": "2022-10-10T10:37:12.690Z"
   },
   {
    "duration": 181,
    "start_time": "2022-10-10T10:37:13.093Z"
   },
   {
    "duration": 389,
    "start_time": "2022-10-10T10:37:13.276Z"
   },
   {
    "duration": 3,
    "start_time": "2022-10-10T10:37:13.667Z"
   },
   {
    "duration": 16,
    "start_time": "2022-10-10T10:37:13.671Z"
   },
   {
    "duration": 6,
    "start_time": "2022-10-10T10:37:13.689Z"
   },
   {
    "duration": 6,
    "start_time": "2022-10-10T10:37:13.697Z"
   },
   {
    "duration": 20,
    "start_time": "2022-10-10T10:37:13.704Z"
   },
   {
    "duration": 20,
    "start_time": "2022-10-10T10:37:13.725Z"
   },
   {
    "duration": 9,
    "start_time": "2022-10-10T10:37:13.746Z"
   },
   {
    "duration": 5,
    "start_time": "2022-10-10T10:37:13.757Z"
   },
   {
    "duration": 63,
    "start_time": "2022-10-10T10:37:13.764Z"
   },
   {
    "duration": 12,
    "start_time": "2022-10-10T10:37:13.828Z"
   },
   {
    "duration": 14,
    "start_time": "2022-10-10T10:37:13.842Z"
   },
   {
    "duration": 12,
    "start_time": "2022-10-10T10:37:13.858Z"
   },
   {
    "duration": 19,
    "start_time": "2022-10-10T10:37:13.871Z"
   },
   {
    "duration": 3,
    "start_time": "2022-10-10T10:37:13.892Z"
   },
   {
    "duration": 5,
    "start_time": "2022-10-10T10:37:13.897Z"
   },
   {
    "duration": 44,
    "start_time": "2022-10-10T10:37:13.904Z"
   },
   {
    "duration": 3,
    "start_time": "2022-10-10T10:37:13.950Z"
   },
   {
    "duration": 17,
    "start_time": "2022-10-10T10:37:13.955Z"
   },
   {
    "duration": 243,
    "start_time": "2022-10-10T10:37:13.974Z"
   },
   {
    "duration": 5602,
    "start_time": "2022-10-10T10:37:14.219Z"
   },
   {
    "duration": 1042,
    "start_time": "2022-10-10T10:37:19.822Z"
   },
   {
    "duration": 34,
    "start_time": "2022-10-10T10:37:20.868Z"
   },
   {
    "duration": 252,
    "start_time": "2022-10-10T10:37:20.904Z"
   },
   {
    "duration": 4,
    "start_time": "2022-10-10T10:37:21.158Z"
   },
   {
    "duration": 7,
    "start_time": "2022-10-10T10:37:21.165Z"
   },
   {
    "duration": 128,
    "start_time": "2022-10-10T10:37:21.174Z"
   },
   {
    "duration": 0,
    "start_time": "2022-10-10T10:37:21.304Z"
   },
   {
    "duration": 0,
    "start_time": "2022-10-10T10:37:21.305Z"
   },
   {
    "duration": 0,
    "start_time": "2022-10-10T10:37:21.306Z"
   },
   {
    "duration": 0,
    "start_time": "2022-10-10T10:37:21.307Z"
   },
   {
    "duration": 0,
    "start_time": "2022-10-10T10:37:21.308Z"
   },
   {
    "duration": 0,
    "start_time": "2022-10-10T10:37:21.310Z"
   },
   {
    "duration": 0,
    "start_time": "2022-10-10T10:37:21.311Z"
   },
   {
    "duration": 0,
    "start_time": "2022-10-10T10:37:21.312Z"
   },
   {
    "duration": 0,
    "start_time": "2022-10-10T10:37:21.313Z"
   },
   {
    "duration": 0,
    "start_time": "2022-10-10T10:37:21.314Z"
   },
   {
    "duration": 0,
    "start_time": "2022-10-10T10:37:21.339Z"
   },
   {
    "duration": 0,
    "start_time": "2022-10-10T10:37:21.340Z"
   },
   {
    "duration": 0,
    "start_time": "2022-10-10T10:37:21.341Z"
   },
   {
    "duration": 0,
    "start_time": "2022-10-10T10:37:21.342Z"
   },
   {
    "duration": 0,
    "start_time": "2022-10-10T10:37:21.344Z"
   },
   {
    "duration": 0,
    "start_time": "2022-10-10T10:37:21.344Z"
   },
   {
    "duration": 0,
    "start_time": "2022-10-10T10:37:21.345Z"
   },
   {
    "duration": 5018,
    "start_time": "2022-10-10T10:37:31.737Z"
   },
   {
    "duration": 4,
    "start_time": "2022-10-10T10:37:36.757Z"
   },
   {
    "duration": 1374,
    "start_time": "2022-10-10T10:38:07.877Z"
   },
   {
    "duration": 701,
    "start_time": "2022-10-10T10:38:09.252Z"
   },
   {
    "duration": 4,
    "start_time": "2022-10-10T10:38:09.955Z"
   },
   {
    "duration": 393,
    "start_time": "2022-10-10T10:38:09.961Z"
   },
   {
    "duration": 183,
    "start_time": "2022-10-10T10:38:10.355Z"
   },
   {
    "duration": 373,
    "start_time": "2022-10-10T10:38:10.540Z"
   },
   {
    "duration": 3,
    "start_time": "2022-10-10T10:38:10.915Z"
   },
   {
    "duration": 29,
    "start_time": "2022-10-10T10:38:10.919Z"
   },
   {
    "duration": 8,
    "start_time": "2022-10-10T10:38:10.949Z"
   },
   {
    "duration": 5,
    "start_time": "2022-10-10T10:38:10.960Z"
   },
   {
    "duration": 9,
    "start_time": "2022-10-10T10:38:10.966Z"
   },
   {
    "duration": 7,
    "start_time": "2022-10-10T10:38:10.977Z"
   },
   {
    "duration": 9,
    "start_time": "2022-10-10T10:38:10.986Z"
   },
   {
    "duration": 4,
    "start_time": "2022-10-10T10:38:10.996Z"
   },
   {
    "duration": 79,
    "start_time": "2022-10-10T10:38:11.001Z"
   },
   {
    "duration": 4,
    "start_time": "2022-10-10T10:38:11.082Z"
   },
   {
    "duration": 10,
    "start_time": "2022-10-10T10:38:11.088Z"
   },
   {
    "duration": 7,
    "start_time": "2022-10-10T10:38:11.100Z"
   },
   {
    "duration": 39,
    "start_time": "2022-10-10T10:38:11.109Z"
   },
   {
    "duration": 4,
    "start_time": "2022-10-10T10:38:11.150Z"
   },
   {
    "duration": 7,
    "start_time": "2022-10-10T10:38:11.155Z"
   },
   {
    "duration": 15,
    "start_time": "2022-10-10T10:38:11.164Z"
   },
   {
    "duration": 3,
    "start_time": "2022-10-10T10:38:11.181Z"
   },
   {
    "duration": 17,
    "start_time": "2022-10-10T10:38:11.186Z"
   },
   {
    "duration": 249,
    "start_time": "2022-10-10T10:38:11.205Z"
   },
   {
    "duration": 5576,
    "start_time": "2022-10-10T10:38:11.456Z"
   },
   {
    "duration": 1108,
    "start_time": "2022-10-10T10:38:17.034Z"
   },
   {
    "duration": 32,
    "start_time": "2022-10-10T10:38:18.145Z"
   },
   {
    "duration": 239,
    "start_time": "2022-10-10T10:38:18.178Z"
   },
   {
    "duration": 4,
    "start_time": "2022-10-10T10:38:18.419Z"
   },
   {
    "duration": 16,
    "start_time": "2022-10-10T10:38:18.424Z"
   },
   {
    "duration": 4912,
    "start_time": "2022-10-10T10:38:18.441Z"
   },
   {
    "duration": 3,
    "start_time": "2022-10-10T10:38:23.355Z"
   },
   {
    "duration": 20,
    "start_time": "2022-10-10T10:38:23.360Z"
   },
   {
    "duration": 10,
    "start_time": "2022-10-10T10:38:23.382Z"
   },
   {
    "duration": 32,
    "start_time": "2022-10-10T10:38:23.394Z"
   },
   {
    "duration": 27,
    "start_time": "2022-10-10T10:38:23.428Z"
   },
   {
    "duration": 18,
    "start_time": "2022-10-10T10:38:23.457Z"
   },
   {
    "duration": 36,
    "start_time": "2022-10-10T10:38:23.476Z"
   },
   {
    "duration": 36,
    "start_time": "2022-10-10T10:38:23.514Z"
   },
   {
    "duration": 26,
    "start_time": "2022-10-10T10:38:23.552Z"
   },
   {
    "duration": 16,
    "start_time": "2022-10-10T10:38:23.580Z"
   },
   {
    "duration": 3,
    "start_time": "2022-10-10T10:38:23.598Z"
   },
   {
    "duration": 115,
    "start_time": "2022-10-10T10:38:23.602Z"
   },
   {
    "duration": 0,
    "start_time": "2022-10-10T10:38:23.719Z"
   },
   {
    "duration": 0,
    "start_time": "2022-10-10T10:38:23.720Z"
   },
   {
    "duration": 0,
    "start_time": "2022-10-10T10:38:23.721Z"
   },
   {
    "duration": 0,
    "start_time": "2022-10-10T10:38:23.722Z"
   },
   {
    "duration": 0,
    "start_time": "2022-10-10T10:38:23.723Z"
   },
   {
    "duration": 1431,
    "start_time": "2022-10-10T10:38:58.020Z"
   },
   {
    "duration": 694,
    "start_time": "2022-10-10T10:38:59.453Z"
   },
   {
    "duration": 4,
    "start_time": "2022-10-10T10:39:00.149Z"
   },
   {
    "duration": 406,
    "start_time": "2022-10-10T10:39:00.156Z"
   },
   {
    "duration": 204,
    "start_time": "2022-10-10T10:39:00.564Z"
   },
   {
    "duration": 382,
    "start_time": "2022-10-10T10:39:00.769Z"
   },
   {
    "duration": 3,
    "start_time": "2022-10-10T10:39:01.153Z"
   },
   {
    "duration": 31,
    "start_time": "2022-10-10T10:39:01.158Z"
   },
   {
    "duration": 12,
    "start_time": "2022-10-10T10:39:01.191Z"
   },
   {
    "duration": 15,
    "start_time": "2022-10-10T10:39:01.205Z"
   },
   {
    "duration": 15,
    "start_time": "2022-10-10T10:39:01.222Z"
   },
   {
    "duration": 7,
    "start_time": "2022-10-10T10:39:01.239Z"
   },
   {
    "duration": 11,
    "start_time": "2022-10-10T10:39:01.247Z"
   },
   {
    "duration": 18,
    "start_time": "2022-10-10T10:39:01.260Z"
   },
   {
    "duration": 100,
    "start_time": "2022-10-10T10:39:01.280Z"
   },
   {
    "duration": 4,
    "start_time": "2022-10-10T10:39:01.382Z"
   },
   {
    "duration": 27,
    "start_time": "2022-10-10T10:39:01.387Z"
   },
   {
    "duration": 28,
    "start_time": "2022-10-10T10:39:01.416Z"
   },
   {
    "duration": 28,
    "start_time": "2022-10-10T10:39:01.446Z"
   },
   {
    "duration": 13,
    "start_time": "2022-10-10T10:39:01.475Z"
   },
   {
    "duration": 50,
    "start_time": "2022-10-10T10:39:01.490Z"
   },
   {
    "duration": 37,
    "start_time": "2022-10-10T10:39:01.542Z"
   },
   {
    "duration": 9,
    "start_time": "2022-10-10T10:39:01.581Z"
   },
   {
    "duration": 31,
    "start_time": "2022-10-10T10:39:01.591Z"
   },
   {
    "duration": 224,
    "start_time": "2022-10-10T10:39:01.624Z"
   },
   {
    "duration": 5611,
    "start_time": "2022-10-10T10:39:01.849Z"
   },
   {
    "duration": 1102,
    "start_time": "2022-10-10T10:39:07.461Z"
   },
   {
    "duration": 42,
    "start_time": "2022-10-10T10:39:08.568Z"
   },
   {
    "duration": 238,
    "start_time": "2022-10-10T10:39:08.612Z"
   },
   {
    "duration": 4,
    "start_time": "2022-10-10T10:39:08.852Z"
   },
   {
    "duration": 5,
    "start_time": "2022-10-10T10:39:08.857Z"
   },
   {
    "duration": 4905,
    "start_time": "2022-10-10T10:39:08.863Z"
   },
   {
    "duration": 4,
    "start_time": "2022-10-10T10:39:13.769Z"
   },
   {
    "duration": 5,
    "start_time": "2022-10-10T10:39:13.775Z"
   },
   {
    "duration": 9,
    "start_time": "2022-10-10T10:39:13.781Z"
   },
   {
    "duration": 5,
    "start_time": "2022-10-10T10:39:13.792Z"
   },
   {
    "duration": 6,
    "start_time": "2022-10-10T10:39:13.799Z"
   },
   {
    "duration": 6,
    "start_time": "2022-10-10T10:39:13.806Z"
   },
   {
    "duration": 4,
    "start_time": "2022-10-10T10:39:13.813Z"
   },
   {
    "duration": 21,
    "start_time": "2022-10-10T10:39:13.819Z"
   },
   {
    "duration": 6,
    "start_time": "2022-10-10T10:39:13.841Z"
   },
   {
    "duration": 9,
    "start_time": "2022-10-10T10:39:13.848Z"
   },
   {
    "duration": 3,
    "start_time": "2022-10-10T10:39:13.859Z"
   },
   {
    "duration": 131,
    "start_time": "2022-10-10T10:39:13.864Z"
   },
   {
    "duration": 0,
    "start_time": "2022-10-10T10:39:13.997Z"
   },
   {
    "duration": 0,
    "start_time": "2022-10-10T10:39:13.998Z"
   },
   {
    "duration": 0,
    "start_time": "2022-10-10T10:39:13.999Z"
   },
   {
    "duration": 0,
    "start_time": "2022-10-10T10:39:14.000Z"
   },
   {
    "duration": 0,
    "start_time": "2022-10-10T10:39:14.002Z"
   },
   {
    "duration": 1370,
    "start_time": "2022-10-10T10:40:20.979Z"
   },
   {
    "duration": 731,
    "start_time": "2022-10-10T10:40:22.352Z"
   },
   {
    "duration": 4,
    "start_time": "2022-10-10T10:40:23.084Z"
   },
   {
    "duration": 405,
    "start_time": "2022-10-10T10:40:23.090Z"
   },
   {
    "duration": 183,
    "start_time": "2022-10-10T10:40:23.496Z"
   },
   {
    "duration": 380,
    "start_time": "2022-10-10T10:40:23.681Z"
   },
   {
    "duration": 4,
    "start_time": "2022-10-10T10:40:24.062Z"
   },
   {
    "duration": 13,
    "start_time": "2022-10-10T10:40:24.067Z"
   },
   {
    "duration": 6,
    "start_time": "2022-10-10T10:40:24.081Z"
   },
   {
    "duration": 3,
    "start_time": "2022-10-10T10:40:24.090Z"
   },
   {
    "duration": 8,
    "start_time": "2022-10-10T10:40:24.095Z"
   },
   {
    "duration": 6,
    "start_time": "2022-10-10T10:40:24.104Z"
   },
   {
    "duration": 8,
    "start_time": "2022-10-10T10:40:24.139Z"
   },
   {
    "duration": 7,
    "start_time": "2022-10-10T10:40:24.149Z"
   },
   {
    "duration": 63,
    "start_time": "2022-10-10T10:40:24.157Z"
   },
   {
    "duration": 4,
    "start_time": "2022-10-10T10:40:24.221Z"
   },
   {
    "duration": 8,
    "start_time": "2022-10-10T10:40:24.239Z"
   },
   {
    "duration": 7,
    "start_time": "2022-10-10T10:40:24.249Z"
   },
   {
    "duration": 16,
    "start_time": "2022-10-10T10:40:24.257Z"
   },
   {
    "duration": 4,
    "start_time": "2022-10-10T10:40:24.274Z"
   },
   {
    "duration": 6,
    "start_time": "2022-10-10T10:40:24.280Z"
   },
   {
    "duration": 51,
    "start_time": "2022-10-10T10:40:24.288Z"
   },
   {
    "duration": 3,
    "start_time": "2022-10-10T10:40:24.341Z"
   },
   {
    "duration": 29,
    "start_time": "2022-10-10T10:40:24.346Z"
   },
   {
    "duration": 223,
    "start_time": "2022-10-10T10:40:24.377Z"
   },
   {
    "duration": 5676,
    "start_time": "2022-10-10T10:40:24.601Z"
   },
   {
    "duration": 1119,
    "start_time": "2022-10-10T10:40:30.279Z"
   },
   {
    "duration": 39,
    "start_time": "2022-10-10T10:40:31.403Z"
   },
   {
    "duration": 238,
    "start_time": "2022-10-10T10:40:31.444Z"
   },
   {
    "duration": 4,
    "start_time": "2022-10-10T10:40:31.684Z"
   },
   {
    "duration": 12,
    "start_time": "2022-10-10T10:40:31.690Z"
   },
   {
    "duration": 45,
    "start_time": "2022-10-10T10:40:31.703Z"
   },
   {
    "duration": 0,
    "start_time": "2022-10-10T10:40:31.749Z"
   },
   {
    "duration": 0,
    "start_time": "2022-10-10T10:40:31.750Z"
   },
   {
    "duration": 0,
    "start_time": "2022-10-10T10:40:31.751Z"
   },
   {
    "duration": 0,
    "start_time": "2022-10-10T10:40:31.752Z"
   },
   {
    "duration": 0,
    "start_time": "2022-10-10T10:40:31.753Z"
   },
   {
    "duration": 0,
    "start_time": "2022-10-10T10:40:31.754Z"
   },
   {
    "duration": 0,
    "start_time": "2022-10-10T10:40:31.755Z"
   },
   {
    "duration": 0,
    "start_time": "2022-10-10T10:40:31.756Z"
   },
   {
    "duration": 0,
    "start_time": "2022-10-10T10:40:31.757Z"
   },
   {
    "duration": 0,
    "start_time": "2022-10-10T10:40:31.758Z"
   },
   {
    "duration": 0,
    "start_time": "2022-10-10T10:40:31.759Z"
   },
   {
    "duration": 0,
    "start_time": "2022-10-10T10:40:31.760Z"
   },
   {
    "duration": 0,
    "start_time": "2022-10-10T10:40:31.761Z"
   },
   {
    "duration": 0,
    "start_time": "2022-10-10T10:40:31.762Z"
   },
   {
    "duration": 0,
    "start_time": "2022-10-10T10:40:31.763Z"
   },
   {
    "duration": 0,
    "start_time": "2022-10-10T10:40:31.764Z"
   },
   {
    "duration": 0,
    "start_time": "2022-10-10T10:40:31.765Z"
   },
   {
    "duration": 115,
    "start_time": "2022-10-10T10:40:58.047Z"
   },
   {
    "duration": 4912,
    "start_time": "2022-10-10T10:41:08.655Z"
   },
   {
    "duration": 23,
    "start_time": "2022-10-10T10:41:42.145Z"
   },
   {
    "duration": 5122,
    "start_time": "2022-10-10T10:42:27.511Z"
   },
   {
    "duration": 5,
    "start_time": "2022-10-10T10:42:51.008Z"
   },
   {
    "duration": 10,
    "start_time": "2022-10-10T10:42:59.316Z"
   },
   {
    "duration": 4,
    "start_time": "2022-10-10T10:44:51.875Z"
   },
   {
    "duration": 15,
    "start_time": "2022-10-10T10:46:09.035Z"
   },
   {
    "duration": 5014,
    "start_time": "2022-10-10T10:46:20.508Z"
   },
   {
    "duration": 4838,
    "start_time": "2022-10-10T10:47:11.673Z"
   },
   {
    "duration": 4825,
    "start_time": "2022-10-10T10:47:47.919Z"
   },
   {
    "duration": 4740,
    "start_time": "2022-10-10T10:50:42.839Z"
   },
   {
    "duration": 4938,
    "start_time": "2022-10-10T10:50:55.834Z"
   },
   {
    "duration": 3,
    "start_time": "2022-10-10T10:52:09.559Z"
   },
   {
    "duration": 18,
    "start_time": "2022-10-10T10:52:10.983Z"
   },
   {
    "duration": 4,
    "start_time": "2022-10-10T10:54:52.577Z"
   },
   {
    "duration": 52,
    "start_time": "2022-10-10T10:55:25.812Z"
   },
   {
    "duration": 17,
    "start_time": "2022-10-10T10:55:35.414Z"
   },
   {
    "duration": 4,
    "start_time": "2022-10-10T10:55:49.573Z"
   },
   {
    "duration": 4,
    "start_time": "2022-10-10T10:55:50.228Z"
   },
   {
    "duration": 4986,
    "start_time": "2022-10-10T10:55:50.979Z"
   },
   {
    "duration": 4,
    "start_time": "2022-10-10T10:56:32.871Z"
   },
   {
    "duration": 15,
    "start_time": "2022-10-10T10:56:39.284Z"
   },
   {
    "duration": 3,
    "start_time": "2022-10-10T10:56:52.055Z"
   },
   {
    "duration": 5,
    "start_time": "2022-10-10T10:56:52.622Z"
   },
   {
    "duration": 15,
    "start_time": "2022-10-10T10:56:53.061Z"
   },
   {
    "duration": 16,
    "start_time": "2022-10-10T11:00:56.055Z"
   },
   {
    "duration": 21,
    "start_time": "2022-10-10T11:02:07.978Z"
   },
   {
    "duration": 16,
    "start_time": "2022-10-10T11:02:35.417Z"
   },
   {
    "duration": 18,
    "start_time": "2022-10-10T11:02:58.144Z"
   },
   {
    "duration": 20,
    "start_time": "2022-10-10T11:03:15.696Z"
   },
   {
    "duration": 13,
    "start_time": "2022-10-10T11:03:43.114Z"
   },
   {
    "duration": 4,
    "start_time": "2022-10-10T11:03:57.925Z"
   },
   {
    "duration": 17,
    "start_time": "2022-10-10T11:04:04.126Z"
   },
   {
    "duration": 20,
    "start_time": "2022-10-10T11:04:19.233Z"
   },
   {
    "duration": 19,
    "start_time": "2022-10-10T11:04:44.872Z"
   },
   {
    "duration": 18,
    "start_time": "2022-10-10T11:05:15.385Z"
   },
   {
    "duration": 86,
    "start_time": "2022-10-10T11:05:28.583Z"
   },
   {
    "duration": 21,
    "start_time": "2022-10-10T11:06:00.788Z"
   },
   {
    "duration": 36,
    "start_time": "2022-10-10T11:06:25.876Z"
   },
   {
    "duration": 15,
    "start_time": "2022-10-10T11:06:34.175Z"
   },
   {
    "duration": 1492,
    "start_time": "2022-10-10T11:06:41.643Z"
   },
   {
    "duration": 780,
    "start_time": "2022-10-10T11:06:43.138Z"
   },
   {
    "duration": 4,
    "start_time": "2022-10-10T11:06:43.920Z"
   },
   {
    "duration": 437,
    "start_time": "2022-10-10T11:06:43.926Z"
   },
   {
    "duration": 203,
    "start_time": "2022-10-10T11:06:44.366Z"
   },
   {
    "duration": 427,
    "start_time": "2022-10-10T11:06:44.572Z"
   },
   {
    "duration": 4,
    "start_time": "2022-10-10T11:06:45.001Z"
   },
   {
    "duration": 29,
    "start_time": "2022-10-10T11:06:45.007Z"
   },
   {
    "duration": 8,
    "start_time": "2022-10-10T11:06:45.039Z"
   },
   {
    "duration": 5,
    "start_time": "2022-10-10T11:06:45.049Z"
   },
   {
    "duration": 9,
    "start_time": "2022-10-10T11:06:45.056Z"
   },
   {
    "duration": 7,
    "start_time": "2022-10-10T11:06:45.066Z"
   },
   {
    "duration": 10,
    "start_time": "2022-10-10T11:06:45.075Z"
   },
   {
    "duration": 5,
    "start_time": "2022-10-10T11:06:45.089Z"
   },
   {
    "duration": 108,
    "start_time": "2022-10-10T11:06:45.096Z"
   },
   {
    "duration": 4,
    "start_time": "2022-10-10T11:06:45.206Z"
   },
   {
    "duration": 26,
    "start_time": "2022-10-10T11:06:45.212Z"
   },
   {
    "duration": 6,
    "start_time": "2022-10-10T11:06:45.240Z"
   },
   {
    "duration": 20,
    "start_time": "2022-10-10T11:06:45.248Z"
   },
   {
    "duration": 4,
    "start_time": "2022-10-10T11:06:45.269Z"
   },
   {
    "duration": 7,
    "start_time": "2022-10-10T11:06:45.275Z"
   },
   {
    "duration": 18,
    "start_time": "2022-10-10T11:06:45.284Z"
   },
   {
    "duration": 4,
    "start_time": "2022-10-10T11:06:45.303Z"
   },
   {
    "duration": 17,
    "start_time": "2022-10-10T11:06:45.339Z"
   },
   {
    "duration": 251,
    "start_time": "2022-10-10T11:06:45.358Z"
   },
   {
    "duration": 4997,
    "start_time": "2022-10-10T11:06:45.611Z"
   },
   {
    "duration": 1078,
    "start_time": "2022-10-10T11:06:50.610Z"
   },
   {
    "duration": 51,
    "start_time": "2022-10-10T11:06:51.690Z"
   },
   {
    "duration": 233,
    "start_time": "2022-10-10T11:06:51.743Z"
   },
   {
    "duration": 4,
    "start_time": "2022-10-10T11:06:51.978Z"
   },
   {
    "duration": 13,
    "start_time": "2022-10-10T11:06:51.984Z"
   },
   {
    "duration": 138,
    "start_time": "2022-10-10T11:06:51.999Z"
   },
   {
    "duration": 0,
    "start_time": "2022-10-10T11:06:52.140Z"
   },
   {
    "duration": 0,
    "start_time": "2022-10-10T11:06:52.141Z"
   },
   {
    "duration": 0,
    "start_time": "2022-10-10T11:06:52.143Z"
   },
   {
    "duration": 0,
    "start_time": "2022-10-10T11:06:52.144Z"
   },
   {
    "duration": 0,
    "start_time": "2022-10-10T11:06:52.146Z"
   },
   {
    "duration": 0,
    "start_time": "2022-10-10T11:06:52.147Z"
   },
   {
    "duration": 0,
    "start_time": "2022-10-10T11:06:52.148Z"
   },
   {
    "duration": 0,
    "start_time": "2022-10-10T11:06:52.150Z"
   },
   {
    "duration": 0,
    "start_time": "2022-10-10T11:06:52.151Z"
   },
   {
    "duration": 0,
    "start_time": "2022-10-10T11:06:52.153Z"
   },
   {
    "duration": 0,
    "start_time": "2022-10-10T11:06:52.154Z"
   },
   {
    "duration": 0,
    "start_time": "2022-10-10T11:06:52.155Z"
   },
   {
    "duration": 0,
    "start_time": "2022-10-10T11:06:52.157Z"
   },
   {
    "duration": 0,
    "start_time": "2022-10-10T11:06:52.157Z"
   },
   {
    "duration": 0,
    "start_time": "2022-10-10T11:06:52.159Z"
   },
   {
    "duration": 0,
    "start_time": "2022-10-10T11:06:52.160Z"
   },
   {
    "duration": 0,
    "start_time": "2022-10-10T11:06:52.161Z"
   },
   {
    "duration": 10,
    "start_time": "2022-10-10T11:07:02.417Z"
   },
   {
    "duration": 10,
    "start_time": "2022-10-10T11:07:10.068Z"
   },
   {
    "duration": 3,
    "start_time": "2022-10-10T11:07:22.294Z"
   },
   {
    "duration": 12,
    "start_time": "2022-10-10T11:07:38.873Z"
   },
   {
    "duration": 13,
    "start_time": "2022-10-10T11:07:50.518Z"
   },
   {
    "duration": 1523,
    "start_time": "2022-10-10T11:08:07.961Z"
   },
   {
    "duration": 709,
    "start_time": "2022-10-10T11:08:09.486Z"
   },
   {
    "duration": 4,
    "start_time": "2022-10-10T11:08:10.197Z"
   },
   {
    "duration": 415,
    "start_time": "2022-10-10T11:08:10.202Z"
   },
   {
    "duration": 182,
    "start_time": "2022-10-10T11:08:10.619Z"
   },
   {
    "duration": 400,
    "start_time": "2022-10-10T11:08:10.803Z"
   },
   {
    "duration": 17,
    "start_time": "2022-10-10T11:08:11.205Z"
   },
   {
    "duration": 16,
    "start_time": "2022-10-10T11:08:11.224Z"
   },
   {
    "duration": 6,
    "start_time": "2022-10-10T11:08:11.242Z"
   },
   {
    "duration": 4,
    "start_time": "2022-10-10T11:08:11.250Z"
   },
   {
    "duration": 7,
    "start_time": "2022-10-10T11:08:11.255Z"
   },
   {
    "duration": 5,
    "start_time": "2022-10-10T11:08:11.263Z"
   },
   {
    "duration": 12,
    "start_time": "2022-10-10T11:08:11.270Z"
   },
   {
    "duration": 6,
    "start_time": "2022-10-10T11:08:11.284Z"
   },
   {
    "duration": 88,
    "start_time": "2022-10-10T11:08:11.292Z"
   },
   {
    "duration": 4,
    "start_time": "2022-10-10T11:08:11.382Z"
   },
   {
    "duration": 14,
    "start_time": "2022-10-10T11:08:11.388Z"
   },
   {
    "duration": 6,
    "start_time": "2022-10-10T11:08:11.404Z"
   },
   {
    "duration": 36,
    "start_time": "2022-10-10T11:08:11.412Z"
   },
   {
    "duration": 4,
    "start_time": "2022-10-10T11:08:11.449Z"
   },
   {
    "duration": 6,
    "start_time": "2022-10-10T11:08:11.455Z"
   },
   {
    "duration": 16,
    "start_time": "2022-10-10T11:08:11.463Z"
   },
   {
    "duration": 3,
    "start_time": "2022-10-10T11:08:11.480Z"
   },
   {
    "duration": 18,
    "start_time": "2022-10-10T11:08:11.485Z"
   },
   {
    "duration": 452,
    "start_time": "2022-10-10T11:08:11.505Z"
   },
   {
    "duration": 5485,
    "start_time": "2022-10-10T11:08:11.959Z"
   },
   {
    "duration": 1223,
    "start_time": "2022-10-10T11:08:17.447Z"
   },
   {
    "duration": 35,
    "start_time": "2022-10-10T11:08:18.675Z"
   },
   {
    "duration": 239,
    "start_time": "2022-10-10T11:08:18.712Z"
   },
   {
    "duration": 4,
    "start_time": "2022-10-10T11:08:18.953Z"
   },
   {
    "duration": 7,
    "start_time": "2022-10-10T11:08:18.958Z"
   },
   {
    "duration": 40,
    "start_time": "2022-10-10T11:08:18.966Z"
   },
   {
    "duration": 53,
    "start_time": "2022-10-10T11:08:19.007Z"
   },
   {
    "duration": 2,
    "start_time": "2022-10-10T11:08:19.062Z"
   },
   {
    "duration": 7,
    "start_time": "2022-10-10T11:08:19.066Z"
   },
   {
    "duration": 11,
    "start_time": "2022-10-10T11:08:19.075Z"
   },
   {
    "duration": 7,
    "start_time": "2022-10-10T11:08:19.088Z"
   },
   {
    "duration": 7,
    "start_time": "2022-10-10T11:08:19.097Z"
   },
   {
    "duration": 6,
    "start_time": "2022-10-10T11:08:19.105Z"
   },
   {
    "duration": 28,
    "start_time": "2022-10-10T11:08:19.112Z"
   },
   {
    "duration": 6,
    "start_time": "2022-10-10T11:08:19.141Z"
   },
   {
    "duration": 15,
    "start_time": "2022-10-10T11:08:19.148Z"
   },
   {
    "duration": 4,
    "start_time": "2022-10-10T11:08:19.165Z"
   },
   {
    "duration": 17383,
    "start_time": "2022-10-10T11:08:19.170Z"
   },
   {
    "duration": 65464,
    "start_time": "2022-10-10T11:08:36.555Z"
   },
   {
    "duration": 1523,
    "start_time": "2022-10-10T11:09:42.020Z"
   },
   {
    "duration": 6,
    "start_time": "2022-10-10T11:09:43.545Z"
   },
   {
    "duration": 11,
    "start_time": "2022-10-10T11:09:43.638Z"
   },
   {
    "duration": 8895,
    "start_time": "2022-10-10T11:09:43.651Z"
   },
   {
    "duration": 4,
    "start_time": "2022-10-10T11:09:52.550Z"
   },
   {
    "duration": 1459,
    "start_time": "2022-10-10T11:10:45.731Z"
   },
   {
    "duration": 1159,
    "start_time": "2022-10-10T11:10:47.192Z"
   },
   {
    "duration": 4,
    "start_time": "2022-10-10T11:10:48.352Z"
   },
   {
    "duration": 809,
    "start_time": "2022-10-10T11:10:48.358Z"
   },
   {
    "duration": 270,
    "start_time": "2022-10-10T11:10:49.169Z"
   },
   {
    "duration": 402,
    "start_time": "2022-10-10T11:10:49.442Z"
   },
   {
    "duration": 4,
    "start_time": "2022-10-10T11:10:49.845Z"
   },
   {
    "duration": 12,
    "start_time": "2022-10-10T11:10:49.851Z"
   },
   {
    "duration": 6,
    "start_time": "2022-10-10T11:10:49.865Z"
   },
   {
    "duration": 4,
    "start_time": "2022-10-10T11:10:49.873Z"
   },
   {
    "duration": 8,
    "start_time": "2022-10-10T11:10:49.878Z"
   },
   {
    "duration": 7,
    "start_time": "2022-10-10T11:10:49.888Z"
   },
   {
    "duration": 45,
    "start_time": "2022-10-10T11:10:49.896Z"
   },
   {
    "duration": 7,
    "start_time": "2022-10-10T11:10:49.943Z"
   },
   {
    "duration": 62,
    "start_time": "2022-10-10T11:10:49.952Z"
   },
   {
    "duration": 4,
    "start_time": "2022-10-10T11:10:50.016Z"
   },
   {
    "duration": 24,
    "start_time": "2022-10-10T11:10:50.021Z"
   },
   {
    "duration": 15,
    "start_time": "2022-10-10T11:10:50.047Z"
   },
   {
    "duration": 39,
    "start_time": "2022-10-10T11:10:50.064Z"
   },
   {
    "duration": 9,
    "start_time": "2022-10-10T11:10:50.105Z"
   },
   {
    "duration": 13,
    "start_time": "2022-10-10T11:10:50.116Z"
   },
   {
    "duration": 16,
    "start_time": "2022-10-10T11:10:50.130Z"
   },
   {
    "duration": 3,
    "start_time": "2022-10-10T11:10:50.147Z"
   },
   {
    "duration": 19,
    "start_time": "2022-10-10T11:10:50.152Z"
   },
   {
    "duration": 240,
    "start_time": "2022-10-10T11:10:50.173Z"
   },
   {
    "duration": 4733,
    "start_time": "2022-10-10T11:10:50.415Z"
   },
   {
    "duration": 1052,
    "start_time": "2022-10-10T11:10:55.150Z"
   },
   {
    "duration": 40,
    "start_time": "2022-10-10T11:10:56.205Z"
   },
   {
    "duration": 222,
    "start_time": "2022-10-10T11:10:56.247Z"
   },
   {
    "duration": 4,
    "start_time": "2022-10-10T11:10:56.471Z"
   },
   {
    "duration": 5,
    "start_time": "2022-10-10T11:10:56.477Z"
   },
   {
    "duration": 27,
    "start_time": "2022-10-10T11:10:56.483Z"
   },
   {
    "duration": 4,
    "start_time": "2022-10-10T11:10:56.512Z"
   },
   {
    "duration": 3,
    "start_time": "2022-10-10T11:10:56.539Z"
   },
   {
    "duration": 8,
    "start_time": "2022-10-10T11:10:56.543Z"
   },
   {
    "duration": 8,
    "start_time": "2022-10-10T11:10:56.553Z"
   },
   {
    "duration": 8,
    "start_time": "2022-10-10T11:10:56.563Z"
   },
   {
    "duration": 8,
    "start_time": "2022-10-10T11:10:56.572Z"
   },
   {
    "duration": 6,
    "start_time": "2022-10-10T11:10:56.581Z"
   },
   {
    "duration": 7,
    "start_time": "2022-10-10T11:10:56.588Z"
   },
   {
    "duration": 9,
    "start_time": "2022-10-10T11:10:56.597Z"
   },
   {
    "duration": 12,
    "start_time": "2022-10-10T11:10:56.607Z"
   },
   {
    "duration": 3,
    "start_time": "2022-10-10T11:10:56.638Z"
   },
   {
    "duration": 2644,
    "start_time": "2022-10-10T11:10:56.643Z"
   },
   {
    "duration": 10123,
    "start_time": "2022-10-10T11:10:59.289Z"
   },
   {
    "duration": 636,
    "start_time": "2022-10-10T11:11:09.414Z"
   },
   {
    "duration": 5,
    "start_time": "2022-10-10T11:11:10.140Z"
   },
   {
    "duration": 98,
    "start_time": "2022-10-10T11:11:10.148Z"
   },
   {
    "duration": 1185,
    "start_time": "2022-10-10T11:11:10.248Z"
   },
   {
    "duration": 1414,
    "start_time": "2022-10-10T11:11:38.795Z"
   },
   {
    "duration": 706,
    "start_time": "2022-10-10T11:11:40.211Z"
   },
   {
    "duration": 4,
    "start_time": "2022-10-10T11:11:40.918Z"
   },
   {
    "duration": 410,
    "start_time": "2022-10-10T11:11:40.924Z"
   },
   {
    "duration": 175,
    "start_time": "2022-10-10T11:11:41.338Z"
   },
   {
    "duration": 410,
    "start_time": "2022-10-10T11:11:41.515Z"
   },
   {
    "duration": 3,
    "start_time": "2022-10-10T11:11:41.927Z"
   },
   {
    "duration": 14,
    "start_time": "2022-10-10T11:11:41.931Z"
   },
   {
    "duration": 6,
    "start_time": "2022-10-10T11:11:41.947Z"
   },
   {
    "duration": 4,
    "start_time": "2022-10-10T11:11:41.955Z"
   },
   {
    "duration": 6,
    "start_time": "2022-10-10T11:11:41.960Z"
   },
   {
    "duration": 6,
    "start_time": "2022-10-10T11:11:41.968Z"
   },
   {
    "duration": 9,
    "start_time": "2022-10-10T11:11:41.976Z"
   },
   {
    "duration": 7,
    "start_time": "2022-10-10T11:11:41.986Z"
   },
   {
    "duration": 93,
    "start_time": "2022-10-10T11:11:41.994Z"
   },
   {
    "duration": 4,
    "start_time": "2022-10-10T11:11:42.088Z"
   },
   {
    "duration": 13,
    "start_time": "2022-10-10T11:11:42.093Z"
   },
   {
    "duration": 8,
    "start_time": "2022-10-10T11:11:42.107Z"
   },
   {
    "duration": 16,
    "start_time": "2022-10-10T11:11:42.138Z"
   },
   {
    "duration": 5,
    "start_time": "2022-10-10T11:11:42.156Z"
   },
   {
    "duration": 6,
    "start_time": "2022-10-10T11:11:42.162Z"
   },
   {
    "duration": 19,
    "start_time": "2022-10-10T11:11:42.169Z"
   },
   {
    "duration": 2,
    "start_time": "2022-10-10T11:11:42.190Z"
   },
   {
    "duration": 49,
    "start_time": "2022-10-10T11:11:42.194Z"
   },
   {
    "duration": 236,
    "start_time": "2022-10-10T11:11:42.245Z"
   },
   {
    "duration": 4822,
    "start_time": "2022-10-10T11:11:42.483Z"
   },
   {
    "duration": 2290,
    "start_time": "2022-10-10T11:11:47.307Z"
   },
   {
    "duration": 47,
    "start_time": "2022-10-10T11:11:49.601Z"
   },
   {
    "duration": 226,
    "start_time": "2022-10-10T11:11:49.650Z"
   },
   {
    "duration": 4,
    "start_time": "2022-10-10T11:11:49.879Z"
   },
   {
    "duration": 7,
    "start_time": "2022-10-10T11:11:49.885Z"
   },
   {
    "duration": 60,
    "start_time": "2022-10-10T11:11:49.893Z"
   },
   {
    "duration": 5,
    "start_time": "2022-10-10T11:11:49.954Z"
   },
   {
    "duration": 5,
    "start_time": "2022-10-10T11:11:49.961Z"
   },
   {
    "duration": 11,
    "start_time": "2022-10-10T11:11:49.968Z"
   },
   {
    "duration": 10,
    "start_time": "2022-10-10T11:11:49.981Z"
   },
   {
    "duration": 7,
    "start_time": "2022-10-10T11:11:49.993Z"
   },
   {
    "duration": 6,
    "start_time": "2022-10-10T11:11:50.002Z"
   },
   {
    "duration": 6,
    "start_time": "2022-10-10T11:11:50.010Z"
   },
   {
    "duration": 23,
    "start_time": "2022-10-10T11:11:50.018Z"
   },
   {
    "duration": 6,
    "start_time": "2022-10-10T11:11:50.043Z"
   },
   {
    "duration": 12,
    "start_time": "2022-10-10T11:11:50.051Z"
   },
   {
    "duration": 3,
    "start_time": "2022-10-10T11:11:50.064Z"
   },
   {
    "duration": 15811,
    "start_time": "2022-10-10T11:11:50.069Z"
   },
   {
    "duration": 1490,
    "start_time": "2022-10-10T11:15:16.794Z"
   },
   {
    "duration": 731,
    "start_time": "2022-10-10T11:15:18.287Z"
   },
   {
    "duration": 3,
    "start_time": "2022-10-10T11:15:19.020Z"
   },
   {
    "duration": 408,
    "start_time": "2022-10-10T11:15:19.025Z"
   },
   {
    "duration": 332,
    "start_time": "2022-10-10T11:15:19.438Z"
   },
   {
    "duration": 800,
    "start_time": "2022-10-10T11:15:19.771Z"
   },
   {
    "duration": 4,
    "start_time": "2022-10-10T11:15:20.573Z"
   },
   {
    "duration": 65,
    "start_time": "2022-10-10T11:15:20.578Z"
   },
   {
    "duration": 6,
    "start_time": "2022-10-10T11:15:20.645Z"
   },
   {
    "duration": 11,
    "start_time": "2022-10-10T11:15:20.654Z"
   },
   {
    "duration": 10,
    "start_time": "2022-10-10T11:15:20.667Z"
   },
   {
    "duration": 60,
    "start_time": "2022-10-10T11:15:20.679Z"
   },
   {
    "duration": 11,
    "start_time": "2022-10-10T11:15:20.741Z"
   },
   {
    "duration": 11,
    "start_time": "2022-10-10T11:15:20.753Z"
   },
   {
    "duration": 115,
    "start_time": "2022-10-10T11:15:20.766Z"
   },
   {
    "duration": 57,
    "start_time": "2022-10-10T11:15:20.883Z"
   },
   {
    "duration": 16,
    "start_time": "2022-10-10T11:15:20.941Z"
   },
   {
    "duration": 16,
    "start_time": "2022-10-10T11:15:20.958Z"
   },
   {
    "duration": 77,
    "start_time": "2022-10-10T11:15:20.976Z"
   },
   {
    "duration": 3,
    "start_time": "2022-10-10T11:15:21.056Z"
   },
   {
    "duration": 24,
    "start_time": "2022-10-10T11:15:21.061Z"
   },
   {
    "duration": 62,
    "start_time": "2022-10-10T11:15:21.087Z"
   },
   {
    "duration": 21,
    "start_time": "2022-10-10T11:15:21.151Z"
   },
   {
    "duration": 70,
    "start_time": "2022-10-10T11:15:21.174Z"
   },
   {
    "duration": 235,
    "start_time": "2022-10-10T11:15:21.246Z"
   },
   {
    "duration": 4731,
    "start_time": "2022-10-10T11:15:21.483Z"
   },
   {
    "duration": 1098,
    "start_time": "2022-10-10T11:15:26.215Z"
   },
   {
    "duration": 49,
    "start_time": "2022-10-10T11:15:27.317Z"
   },
   {
    "duration": 239,
    "start_time": "2022-10-10T11:15:27.368Z"
   },
   {
    "duration": 4,
    "start_time": "2022-10-10T11:15:27.610Z"
   },
   {
    "duration": 45,
    "start_time": "2022-10-10T11:15:27.615Z"
   },
   {
    "duration": 57,
    "start_time": "2022-10-10T11:15:27.662Z"
   },
   {
    "duration": 4,
    "start_time": "2022-10-10T11:15:27.721Z"
   },
   {
    "duration": 18,
    "start_time": "2022-10-10T11:15:27.726Z"
   },
   {
    "duration": 34,
    "start_time": "2022-10-10T11:15:27.745Z"
   },
   {
    "duration": 86,
    "start_time": "2022-10-10T11:15:27.781Z"
   },
   {
    "duration": 12,
    "start_time": "2022-10-10T11:15:27.869Z"
   },
   {
    "duration": 33,
    "start_time": "2022-10-10T11:15:27.883Z"
   },
   {
    "duration": 33,
    "start_time": "2022-10-10T11:15:27.918Z"
   },
   {
    "duration": 16,
    "start_time": "2022-10-10T11:15:27.953Z"
   },
   {
    "duration": 16,
    "start_time": "2022-10-10T11:15:27.971Z"
   },
   {
    "duration": 28,
    "start_time": "2022-10-10T11:15:27.989Z"
   },
   {
    "duration": 29,
    "start_time": "2022-10-10T11:15:28.019Z"
   },
   {
    "duration": 15661,
    "start_time": "2022-10-10T11:15:28.050Z"
   },
   {
    "duration": 60566,
    "start_time": "2022-10-10T11:15:43.712Z"
   },
   {
    "duration": 1562,
    "start_time": "2022-10-10T11:16:44.280Z"
   },
   {
    "duration": 4,
    "start_time": "2022-10-10T11:16:45.843Z"
   },
   {
    "duration": 10,
    "start_time": "2022-10-10T11:16:45.848Z"
   },
   {
    "duration": 7451,
    "start_time": "2022-10-10T11:16:45.860Z"
   },
   {
    "duration": 1447,
    "start_time": "2022-10-10T11:19:26.960Z"
   },
   {
    "duration": 730,
    "start_time": "2022-10-10T11:19:28.409Z"
   },
   {
    "duration": 4,
    "start_time": "2022-10-10T11:19:29.140Z"
   },
   {
    "duration": 423,
    "start_time": "2022-10-10T11:19:29.146Z"
   },
   {
    "duration": 190,
    "start_time": "2022-10-10T11:19:29.570Z"
   },
   {
    "duration": 386,
    "start_time": "2022-10-10T11:19:29.762Z"
   },
   {
    "duration": 4,
    "start_time": "2022-10-10T11:19:30.149Z"
   },
   {
    "duration": 20,
    "start_time": "2022-10-10T11:19:30.154Z"
   },
   {
    "duration": 42,
    "start_time": "2022-10-10T11:19:30.176Z"
   },
   {
    "duration": 23,
    "start_time": "2022-10-10T11:19:30.221Z"
   },
   {
    "duration": 26,
    "start_time": "2022-10-10T11:19:30.246Z"
   },
   {
    "duration": 17,
    "start_time": "2022-10-10T11:19:30.274Z"
   },
   {
    "duration": 34,
    "start_time": "2022-10-10T11:19:30.293Z"
   },
   {
    "duration": 25,
    "start_time": "2022-10-10T11:19:30.329Z"
   },
   {
    "duration": 68,
    "start_time": "2022-10-10T11:19:30.356Z"
   },
   {
    "duration": 4,
    "start_time": "2022-10-10T11:19:30.425Z"
   },
   {
    "duration": 33,
    "start_time": "2022-10-10T11:19:30.431Z"
   },
   {
    "duration": 16,
    "start_time": "2022-10-10T11:19:30.466Z"
   },
   {
    "duration": 43,
    "start_time": "2022-10-10T11:19:30.484Z"
   },
   {
    "duration": 13,
    "start_time": "2022-10-10T11:19:30.529Z"
   },
   {
    "duration": 13,
    "start_time": "2022-10-10T11:19:30.544Z"
   },
   {
    "duration": 36,
    "start_time": "2022-10-10T11:19:30.559Z"
   },
   {
    "duration": 17,
    "start_time": "2022-10-10T11:19:30.597Z"
   },
   {
    "duration": 36,
    "start_time": "2022-10-10T11:19:30.615Z"
   },
   {
    "duration": 241,
    "start_time": "2022-10-10T11:19:30.652Z"
   },
   {
    "duration": 4761,
    "start_time": "2022-10-10T11:19:30.895Z"
   },
   {
    "duration": 2063,
    "start_time": "2022-10-10T11:19:35.658Z"
   },
   {
    "duration": 35,
    "start_time": "2022-10-10T11:19:37.725Z"
   },
   {
    "duration": 227,
    "start_time": "2022-10-10T11:19:37.762Z"
   },
   {
    "duration": 4,
    "start_time": "2022-10-10T11:19:37.991Z"
   },
   {
    "duration": 8,
    "start_time": "2022-10-10T11:19:37.996Z"
   },
   {
    "duration": 44,
    "start_time": "2022-10-10T11:19:38.005Z"
   },
   {
    "duration": 4,
    "start_time": "2022-10-10T11:19:38.050Z"
   },
   {
    "duration": 8,
    "start_time": "2022-10-10T11:19:38.056Z"
   },
   {
    "duration": 7,
    "start_time": "2022-10-10T11:19:38.065Z"
   },
   {
    "duration": 6,
    "start_time": "2022-10-10T11:19:38.074Z"
   },
   {
    "duration": 11,
    "start_time": "2022-10-10T11:19:38.081Z"
   },
   {
    "duration": 7,
    "start_time": "2022-10-10T11:19:38.093Z"
   },
   {
    "duration": 4,
    "start_time": "2022-10-10T11:19:38.102Z"
   },
   {
    "duration": 13,
    "start_time": "2022-10-10T11:19:38.108Z"
   },
   {
    "duration": 17,
    "start_time": "2022-10-10T11:19:38.122Z"
   },
   {
    "duration": 15,
    "start_time": "2022-10-10T11:19:38.140Z"
   },
   {
    "duration": 4,
    "start_time": "2022-10-10T11:19:38.156Z"
   },
   {
    "duration": 6719,
    "start_time": "2022-10-10T11:19:38.161Z"
   },
   {
    "duration": 26244,
    "start_time": "2022-10-10T11:19:44.882Z"
   },
   {
    "duration": 724,
    "start_time": "2022-10-10T11:20:11.127Z"
   },
   {
    "duration": 5,
    "start_time": "2022-10-10T11:20:11.939Z"
   },
   {
    "duration": 113,
    "start_time": "2022-10-10T11:20:11.948Z"
   },
   {
    "duration": 3031,
    "start_time": "2022-10-10T11:20:12.063Z"
   },
   {
    "duration": 1485,
    "start_time": "2022-10-10T11:20:20.571Z"
   },
   {
    "duration": 705,
    "start_time": "2022-10-10T11:20:22.058Z"
   },
   {
    "duration": 4,
    "start_time": "2022-10-10T11:20:22.765Z"
   },
   {
    "duration": 413,
    "start_time": "2022-10-10T11:20:22.771Z"
   },
   {
    "duration": 182,
    "start_time": "2022-10-10T11:20:23.186Z"
   },
   {
    "duration": 420,
    "start_time": "2022-10-10T11:20:23.370Z"
   },
   {
    "duration": 4,
    "start_time": "2022-10-10T11:20:23.792Z"
   },
   {
    "duration": 22,
    "start_time": "2022-10-10T11:20:23.798Z"
   },
   {
    "duration": 16,
    "start_time": "2022-10-10T11:20:23.822Z"
   },
   {
    "duration": 8,
    "start_time": "2022-10-10T11:20:23.841Z"
   },
   {
    "duration": 20,
    "start_time": "2022-10-10T11:20:23.851Z"
   },
   {
    "duration": 8,
    "start_time": "2022-10-10T11:20:23.873Z"
   },
   {
    "duration": 15,
    "start_time": "2022-10-10T11:20:23.883Z"
   },
   {
    "duration": 16,
    "start_time": "2022-10-10T11:20:23.900Z"
   },
   {
    "duration": 68,
    "start_time": "2022-10-10T11:20:23.917Z"
   },
   {
    "duration": 5,
    "start_time": "2022-10-10T11:20:23.986Z"
   },
   {
    "duration": 16,
    "start_time": "2022-10-10T11:20:23.993Z"
   },
   {
    "duration": 18,
    "start_time": "2022-10-10T11:20:24.011Z"
   },
   {
    "duration": 25,
    "start_time": "2022-10-10T11:20:24.031Z"
   },
   {
    "duration": 4,
    "start_time": "2022-10-10T11:20:24.057Z"
   },
   {
    "duration": 6,
    "start_time": "2022-10-10T11:20:24.062Z"
   },
   {
    "duration": 20,
    "start_time": "2022-10-10T11:20:24.069Z"
   },
   {
    "duration": 4,
    "start_time": "2022-10-10T11:20:24.090Z"
   },
   {
    "duration": 18,
    "start_time": "2022-10-10T11:20:24.095Z"
   },
   {
    "duration": 253,
    "start_time": "2022-10-10T11:20:24.114Z"
   },
   {
    "duration": 5889,
    "start_time": "2022-10-10T11:20:24.369Z"
   },
   {
    "duration": 1072,
    "start_time": "2022-10-10T11:20:30.260Z"
   },
   {
    "duration": 32,
    "start_time": "2022-10-10T11:20:31.340Z"
   },
   {
    "duration": 239,
    "start_time": "2022-10-10T11:20:31.374Z"
   },
   {
    "duration": 4,
    "start_time": "2022-10-10T11:20:31.615Z"
   },
   {
    "duration": 27,
    "start_time": "2022-10-10T11:20:31.621Z"
   },
   {
    "duration": 41,
    "start_time": "2022-10-10T11:20:31.649Z"
   },
   {
    "duration": 5,
    "start_time": "2022-10-10T11:20:31.692Z"
   },
   {
    "duration": 14,
    "start_time": "2022-10-10T11:20:31.698Z"
   },
   {
    "duration": 15,
    "start_time": "2022-10-10T11:20:31.714Z"
   },
   {
    "duration": 26,
    "start_time": "2022-10-10T11:20:31.731Z"
   },
   {
    "duration": 25,
    "start_time": "2022-10-10T11:20:31.758Z"
   },
   {
    "duration": 24,
    "start_time": "2022-10-10T11:20:31.785Z"
   },
   {
    "duration": 10,
    "start_time": "2022-10-10T11:20:31.811Z"
   },
   {
    "duration": 21,
    "start_time": "2022-10-10T11:20:31.823Z"
   },
   {
    "duration": 17,
    "start_time": "2022-10-10T11:20:31.845Z"
   },
   {
    "duration": 25,
    "start_time": "2022-10-10T11:20:31.864Z"
   },
   {
    "duration": 23,
    "start_time": "2022-10-10T11:20:31.890Z"
   },
   {
    "duration": 7323,
    "start_time": "2022-10-10T11:20:31.915Z"
   },
   {
    "duration": 27704,
    "start_time": "2022-10-10T11:20:39.240Z"
   },
   {
    "duration": 993,
    "start_time": "2022-10-10T11:21:06.946Z"
   },
   {
    "duration": 4,
    "start_time": "2022-10-10T11:21:07.941Z"
   },
   {
    "duration": 10,
    "start_time": "2022-10-10T11:21:07.946Z"
   },
   {
    "duration": 3262,
    "start_time": "2022-10-10T11:21:07.958Z"
   },
   {
    "duration": 1404,
    "start_time": "2022-10-10T11:21:39.197Z"
   },
   {
    "duration": 706,
    "start_time": "2022-10-10T11:21:40.603Z"
   },
   {
    "duration": 4,
    "start_time": "2022-10-10T11:21:41.311Z"
   },
   {
    "duration": 440,
    "start_time": "2022-10-10T11:21:41.317Z"
   },
   {
    "duration": 187,
    "start_time": "2022-10-10T11:21:41.758Z"
   },
   {
    "duration": 387,
    "start_time": "2022-10-10T11:21:41.947Z"
   },
   {
    "duration": 4,
    "start_time": "2022-10-10T11:21:42.338Z"
   },
   {
    "duration": 110,
    "start_time": "2022-10-10T11:21:42.343Z"
   },
   {
    "duration": 6,
    "start_time": "2022-10-10T11:21:42.455Z"
   },
   {
    "duration": 10,
    "start_time": "2022-10-10T11:21:42.463Z"
   },
   {
    "duration": 6,
    "start_time": "2022-10-10T11:21:42.475Z"
   },
   {
    "duration": 5,
    "start_time": "2022-10-10T11:21:42.483Z"
   },
   {
    "duration": 9,
    "start_time": "2022-10-10T11:21:42.490Z"
   },
   {
    "duration": 4,
    "start_time": "2022-10-10T11:21:42.501Z"
   },
   {
    "duration": 78,
    "start_time": "2022-10-10T11:21:42.506Z"
   },
   {
    "duration": 4,
    "start_time": "2022-10-10T11:21:42.585Z"
   },
   {
    "duration": 12,
    "start_time": "2022-10-10T11:21:42.590Z"
   },
   {
    "duration": 7,
    "start_time": "2022-10-10T11:21:42.603Z"
   },
   {
    "duration": 39,
    "start_time": "2022-10-10T11:21:42.611Z"
   },
   {
    "duration": 4,
    "start_time": "2022-10-10T11:21:42.651Z"
   },
   {
    "duration": 6,
    "start_time": "2022-10-10T11:21:42.657Z"
   },
   {
    "duration": 15,
    "start_time": "2022-10-10T11:21:42.665Z"
   },
   {
    "duration": 2,
    "start_time": "2022-10-10T11:21:42.682Z"
   },
   {
    "duration": 64,
    "start_time": "2022-10-10T11:21:42.686Z"
   },
   {
    "duration": 428,
    "start_time": "2022-10-10T11:21:42.752Z"
   },
   {
    "duration": 5535,
    "start_time": "2022-10-10T11:21:43.182Z"
   },
   {
    "duration": 1085,
    "start_time": "2022-10-10T11:21:48.718Z"
   },
   {
    "duration": 41,
    "start_time": "2022-10-10T11:21:49.807Z"
   },
   {
    "duration": 229,
    "start_time": "2022-10-10T11:21:49.849Z"
   },
   {
    "duration": 4,
    "start_time": "2022-10-10T11:21:50.080Z"
   },
   {
    "duration": 11,
    "start_time": "2022-10-10T11:21:50.086Z"
   },
   {
    "duration": 44,
    "start_time": "2022-10-10T11:21:50.099Z"
   },
   {
    "duration": 4,
    "start_time": "2022-10-10T11:21:50.145Z"
   },
   {
    "duration": 4,
    "start_time": "2022-10-10T11:21:50.151Z"
   },
   {
    "duration": 11,
    "start_time": "2022-10-10T11:21:50.157Z"
   },
   {
    "duration": 7,
    "start_time": "2022-10-10T11:21:50.169Z"
   },
   {
    "duration": 12,
    "start_time": "2022-10-10T11:21:50.178Z"
   },
   {
    "duration": 6,
    "start_time": "2022-10-10T11:21:50.192Z"
   },
   {
    "duration": 9,
    "start_time": "2022-10-10T11:21:50.200Z"
   },
   {
    "duration": 9,
    "start_time": "2022-10-10T11:21:50.211Z"
   },
   {
    "duration": 20,
    "start_time": "2022-10-10T11:21:50.221Z"
   },
   {
    "duration": 19,
    "start_time": "2022-10-10T11:21:50.243Z"
   },
   {
    "duration": 29,
    "start_time": "2022-10-10T11:21:50.263Z"
   },
   {
    "duration": 7385,
    "start_time": "2022-10-10T11:21:50.294Z"
   },
   {
    "duration": 1422,
    "start_time": "2022-10-10T11:22:03.241Z"
   },
   {
    "duration": 694,
    "start_time": "2022-10-10T11:22:04.666Z"
   },
   {
    "duration": 4,
    "start_time": "2022-10-10T11:22:05.361Z"
   },
   {
    "duration": 400,
    "start_time": "2022-10-10T11:22:05.367Z"
   },
   {
    "duration": 178,
    "start_time": "2022-10-10T11:22:05.769Z"
   },
   {
    "duration": 378,
    "start_time": "2022-10-10T11:22:05.949Z"
   },
   {
    "duration": 9,
    "start_time": "2022-10-10T11:22:06.329Z"
   },
   {
    "duration": 13,
    "start_time": "2022-10-10T11:22:06.340Z"
   },
   {
    "duration": 6,
    "start_time": "2022-10-10T11:22:06.355Z"
   },
   {
    "duration": 4,
    "start_time": "2022-10-10T11:22:06.363Z"
   },
   {
    "duration": 7,
    "start_time": "2022-10-10T11:22:06.368Z"
   },
   {
    "duration": 5,
    "start_time": "2022-10-10T11:22:06.377Z"
   },
   {
    "duration": 12,
    "start_time": "2022-10-10T11:22:06.383Z"
   },
   {
    "duration": 10,
    "start_time": "2022-10-10T11:22:06.397Z"
   },
   {
    "duration": 82,
    "start_time": "2022-10-10T11:22:06.409Z"
   },
   {
    "duration": 4,
    "start_time": "2022-10-10T11:22:06.493Z"
   },
   {
    "duration": 11,
    "start_time": "2022-10-10T11:22:06.499Z"
   },
   {
    "duration": 27,
    "start_time": "2022-10-10T11:22:06.512Z"
   },
   {
    "duration": 14,
    "start_time": "2022-10-10T11:22:06.541Z"
   },
   {
    "duration": 4,
    "start_time": "2022-10-10T11:22:06.557Z"
   },
   {
    "duration": 6,
    "start_time": "2022-10-10T11:22:06.562Z"
   },
   {
    "duration": 15,
    "start_time": "2022-10-10T11:22:06.570Z"
   },
   {
    "duration": 3,
    "start_time": "2022-10-10T11:22:06.587Z"
   },
   {
    "duration": 17,
    "start_time": "2022-10-10T11:22:06.591Z"
   },
   {
    "duration": 250,
    "start_time": "2022-10-10T11:22:06.609Z"
   },
   {
    "duration": 5763,
    "start_time": "2022-10-10T11:22:06.861Z"
   },
   {
    "duration": 1104,
    "start_time": "2022-10-10T11:22:12.626Z"
   },
   {
    "duration": 35,
    "start_time": "2022-10-10T11:22:13.735Z"
   },
   {
    "duration": 256,
    "start_time": "2022-10-10T11:22:13.773Z"
   },
   {
    "duration": 8,
    "start_time": "2022-10-10T11:22:14.031Z"
   },
   {
    "duration": 5,
    "start_time": "2022-10-10T11:22:14.040Z"
   },
   {
    "duration": 44,
    "start_time": "2022-10-10T11:22:14.047Z"
   },
   {
    "duration": 4,
    "start_time": "2022-10-10T11:22:14.093Z"
   },
   {
    "duration": 9,
    "start_time": "2022-10-10T11:22:14.099Z"
   },
   {
    "duration": 10,
    "start_time": "2022-10-10T11:22:14.110Z"
   },
   {
    "duration": 7,
    "start_time": "2022-10-10T11:22:14.139Z"
   },
   {
    "duration": 9,
    "start_time": "2022-10-10T11:22:14.148Z"
   },
   {
    "duration": 21,
    "start_time": "2022-10-10T11:22:14.159Z"
   },
   {
    "duration": 12,
    "start_time": "2022-10-10T11:22:14.182Z"
   },
   {
    "duration": 8,
    "start_time": "2022-10-10T11:22:14.195Z"
   },
   {
    "duration": 7,
    "start_time": "2022-10-10T11:22:14.204Z"
   },
   {
    "duration": 12,
    "start_time": "2022-10-10T11:22:14.213Z"
   },
   {
    "duration": 11,
    "start_time": "2022-10-10T11:22:14.227Z"
   },
   {
    "duration": 16705,
    "start_time": "2022-10-10T11:22:14.240Z"
   },
   {
    "duration": 1371,
    "start_time": "2022-10-10T11:23:05.767Z"
   },
   {
    "duration": 777,
    "start_time": "2022-10-10T11:23:07.140Z"
   },
   {
    "duration": 4,
    "start_time": "2022-10-10T11:23:07.922Z"
   },
   {
    "duration": 402,
    "start_time": "2022-10-10T11:23:07.938Z"
   },
   {
    "duration": 203,
    "start_time": "2022-10-10T11:23:08.341Z"
   },
   {
    "duration": 407,
    "start_time": "2022-10-10T11:23:08.546Z"
   },
   {
    "duration": 3,
    "start_time": "2022-10-10T11:23:08.955Z"
   },
   {
    "duration": 24,
    "start_time": "2022-10-10T11:23:08.960Z"
   },
   {
    "duration": 18,
    "start_time": "2022-10-10T11:23:08.986Z"
   },
   {
    "duration": 20,
    "start_time": "2022-10-10T11:23:09.006Z"
   },
   {
    "duration": 23,
    "start_time": "2022-10-10T11:23:09.028Z"
   },
   {
    "duration": 12,
    "start_time": "2022-10-10T11:23:09.052Z"
   },
   {
    "duration": 15,
    "start_time": "2022-10-10T11:23:09.065Z"
   },
   {
    "duration": 7,
    "start_time": "2022-10-10T11:23:09.082Z"
   },
   {
    "duration": 61,
    "start_time": "2022-10-10T11:23:09.091Z"
   },
   {
    "duration": 4,
    "start_time": "2022-10-10T11:23:09.153Z"
   },
   {
    "duration": 13,
    "start_time": "2022-10-10T11:23:09.159Z"
   },
   {
    "duration": 7,
    "start_time": "2022-10-10T11:23:09.173Z"
   },
   {
    "duration": 16,
    "start_time": "2022-10-10T11:23:09.181Z"
   },
   {
    "duration": 4,
    "start_time": "2022-10-10T11:23:09.198Z"
   },
   {
    "duration": 36,
    "start_time": "2022-10-10T11:23:09.204Z"
   },
   {
    "duration": 24,
    "start_time": "2022-10-10T11:23:09.241Z"
   },
   {
    "duration": 2,
    "start_time": "2022-10-10T11:23:09.267Z"
   },
   {
    "duration": 27,
    "start_time": "2022-10-10T11:23:09.271Z"
   },
   {
    "duration": 233,
    "start_time": "2022-10-10T11:23:09.299Z"
   },
   {
    "duration": 4715,
    "start_time": "2022-10-10T11:23:09.538Z"
   },
   {
    "duration": 1075,
    "start_time": "2022-10-10T11:23:14.257Z"
   },
   {
    "duration": 37,
    "start_time": "2022-10-10T11:23:15.333Z"
   },
   {
    "duration": 290,
    "start_time": "2022-10-10T11:23:15.373Z"
   },
   {
    "duration": 4,
    "start_time": "2022-10-10T11:23:15.665Z"
   },
   {
    "duration": 17,
    "start_time": "2022-10-10T11:23:15.670Z"
   },
   {
    "duration": 48,
    "start_time": "2022-10-10T11:23:15.690Z"
   },
   {
    "duration": 4,
    "start_time": "2022-10-10T11:23:15.740Z"
   },
   {
    "duration": 13,
    "start_time": "2022-10-10T11:23:15.745Z"
   },
   {
    "duration": 17,
    "start_time": "2022-10-10T11:23:15.760Z"
   },
   {
    "duration": 27,
    "start_time": "2022-10-10T11:23:15.780Z"
   },
   {
    "duration": 37,
    "start_time": "2022-10-10T11:23:15.809Z"
   },
   {
    "duration": 8,
    "start_time": "2022-10-10T11:23:15.847Z"
   },
   {
    "duration": 5,
    "start_time": "2022-10-10T11:23:15.857Z"
   },
   {
    "duration": 22,
    "start_time": "2022-10-10T11:23:15.863Z"
   },
   {
    "duration": 25,
    "start_time": "2022-10-10T11:23:15.887Z"
   },
   {
    "duration": 20,
    "start_time": "2022-10-10T11:23:15.914Z"
   },
   {
    "duration": 15,
    "start_time": "2022-10-10T11:23:15.935Z"
   },
   {
    "duration": 8231,
    "start_time": "2022-10-10T11:23:15.952Z"
   },
   {
    "duration": 1419,
    "start_time": "2022-10-10T11:23:35.422Z"
   },
   {
    "duration": 762,
    "start_time": "2022-10-10T11:23:36.843Z"
   },
   {
    "duration": 4,
    "start_time": "2022-10-10T11:23:37.607Z"
   },
   {
    "duration": 414,
    "start_time": "2022-10-10T11:23:37.613Z"
   },
   {
    "duration": 175,
    "start_time": "2022-10-10T11:23:38.029Z"
   },
   {
    "duration": 431,
    "start_time": "2022-10-10T11:23:38.205Z"
   },
   {
    "duration": 4,
    "start_time": "2022-10-10T11:23:38.639Z"
   },
   {
    "duration": 20,
    "start_time": "2022-10-10T11:23:38.645Z"
   },
   {
    "duration": 7,
    "start_time": "2022-10-10T11:23:38.667Z"
   },
   {
    "duration": 6,
    "start_time": "2022-10-10T11:23:38.678Z"
   },
   {
    "duration": 16,
    "start_time": "2022-10-10T11:23:38.685Z"
   },
   {
    "duration": 7,
    "start_time": "2022-10-10T11:23:38.702Z"
   },
   {
    "duration": 13,
    "start_time": "2022-10-10T11:23:38.711Z"
   },
   {
    "duration": 3,
    "start_time": "2022-10-10T11:23:38.739Z"
   },
   {
    "duration": 60,
    "start_time": "2022-10-10T11:23:38.744Z"
   },
   {
    "duration": 4,
    "start_time": "2022-10-10T11:23:38.805Z"
   },
   {
    "duration": 30,
    "start_time": "2022-10-10T11:23:38.811Z"
   },
   {
    "duration": 7,
    "start_time": "2022-10-10T11:23:38.842Z"
   },
   {
    "duration": 14,
    "start_time": "2022-10-10T11:23:38.851Z"
   },
   {
    "duration": 3,
    "start_time": "2022-10-10T11:23:38.867Z"
   },
   {
    "duration": 6,
    "start_time": "2022-10-10T11:23:38.872Z"
   },
   {
    "duration": 16,
    "start_time": "2022-10-10T11:23:38.879Z"
   },
   {
    "duration": 3,
    "start_time": "2022-10-10T11:23:38.896Z"
   },
   {
    "duration": 51,
    "start_time": "2022-10-10T11:23:38.901Z"
   },
   {
    "duration": 240,
    "start_time": "2022-10-10T11:23:38.954Z"
   },
   {
    "duration": 5843,
    "start_time": "2022-10-10T11:23:39.196Z"
   },
   {
    "duration": 1075,
    "start_time": "2022-10-10T11:23:45.040Z"
   },
   {
    "duration": 41,
    "start_time": "2022-10-10T11:23:46.119Z"
   },
   {
    "duration": 233,
    "start_time": "2022-10-10T11:23:46.161Z"
   },
   {
    "duration": 4,
    "start_time": "2022-10-10T11:23:46.396Z"
   },
   {
    "duration": 5,
    "start_time": "2022-10-10T11:23:46.402Z"
   },
   {
    "duration": 53,
    "start_time": "2022-10-10T11:23:46.408Z"
   },
   {
    "duration": 4,
    "start_time": "2022-10-10T11:23:46.462Z"
   },
   {
    "duration": 7,
    "start_time": "2022-10-10T11:23:46.467Z"
   },
   {
    "duration": 5,
    "start_time": "2022-10-10T11:23:46.475Z"
   },
   {
    "duration": 8,
    "start_time": "2022-10-10T11:23:46.481Z"
   },
   {
    "duration": 9,
    "start_time": "2022-10-10T11:23:46.491Z"
   },
   {
    "duration": 6,
    "start_time": "2022-10-10T11:23:46.502Z"
   },
   {
    "duration": 5,
    "start_time": "2022-10-10T11:23:46.510Z"
   },
   {
    "duration": 5,
    "start_time": "2022-10-10T11:23:46.516Z"
   },
   {
    "duration": 2,
    "start_time": "2022-10-10T11:23:46.539Z"
   },
   {
    "duration": 12,
    "start_time": "2022-10-10T11:23:46.543Z"
   },
   {
    "duration": 3,
    "start_time": "2022-10-10T11:23:46.556Z"
   },
   {
    "duration": 16038,
    "start_time": "2022-10-10T11:23:46.561Z"
   },
   {
    "duration": 62145,
    "start_time": "2022-10-10T11:24:02.601Z"
   },
   {
    "duration": 1600,
    "start_time": "2022-10-10T11:25:04.747Z"
   },
   {
    "duration": 90,
    "start_time": "2022-10-10T11:25:06.350Z"
   },
   {
    "duration": 14,
    "start_time": "2022-10-10T11:25:06.442Z"
   },
   {
    "duration": 7345,
    "start_time": "2022-10-10T11:25:06.458Z"
   },
   {
    "duration": 10894,
    "start_time": "2022-10-10T11:28:34.652Z"
   },
   {
    "duration": 1355,
    "start_time": "2022-10-10T12:10:56.003Z"
   },
   {
    "duration": 3010,
    "start_time": "2022-10-10T12:10:57.360Z"
   },
   {
    "duration": 6,
    "start_time": "2022-10-10T12:11:00.373Z"
   },
   {
    "duration": 391,
    "start_time": "2022-10-10T12:11:00.380Z"
   },
   {
    "duration": 170,
    "start_time": "2022-10-10T12:11:00.773Z"
   },
   {
    "duration": 332,
    "start_time": "2022-10-10T12:11:00.945Z"
   },
   {
    "duration": 4,
    "start_time": "2022-10-10T12:11:01.279Z"
   },
   {
    "duration": 14,
    "start_time": "2022-10-10T12:11:01.285Z"
   },
   {
    "duration": 20,
    "start_time": "2022-10-10T12:11:01.300Z"
   },
   {
    "duration": 7,
    "start_time": "2022-10-10T12:11:01.321Z"
   },
   {
    "duration": 15,
    "start_time": "2022-10-10T12:11:01.330Z"
   },
   {
    "duration": 12,
    "start_time": "2022-10-10T12:11:01.347Z"
   },
   {
    "duration": 34,
    "start_time": "2022-10-10T12:11:01.361Z"
   },
   {
    "duration": 6,
    "start_time": "2022-10-10T12:11:01.399Z"
   },
   {
    "duration": 78,
    "start_time": "2022-10-10T12:11:01.406Z"
   },
   {
    "duration": 3,
    "start_time": "2022-10-10T12:11:01.485Z"
   },
   {
    "duration": 37,
    "start_time": "2022-10-10T12:11:01.489Z"
   },
   {
    "duration": 16,
    "start_time": "2022-10-10T12:11:01.528Z"
   },
   {
    "duration": 17,
    "start_time": "2022-10-10T12:11:01.546Z"
   },
   {
    "duration": 4,
    "start_time": "2022-10-10T12:11:01.565Z"
   },
   {
    "duration": 16,
    "start_time": "2022-10-10T12:11:01.571Z"
   },
   {
    "duration": 33,
    "start_time": "2022-10-10T12:11:01.588Z"
   },
   {
    "duration": 8,
    "start_time": "2022-10-10T12:11:01.622Z"
   },
   {
    "duration": 21,
    "start_time": "2022-10-10T12:11:01.632Z"
   },
   {
    "duration": 202,
    "start_time": "2022-10-10T12:11:01.655Z"
   },
   {
    "duration": 4122,
    "start_time": "2022-10-10T12:11:01.859Z"
   },
   {
    "duration": 973,
    "start_time": "2022-10-10T12:11:05.982Z"
   },
   {
    "duration": 25,
    "start_time": "2022-10-10T12:11:06.957Z"
   },
   {
    "duration": 227,
    "start_time": "2022-10-10T12:11:06.983Z"
   },
   {
    "duration": 8,
    "start_time": "2022-10-10T12:11:07.211Z"
   },
   {
    "duration": 35,
    "start_time": "2022-10-10T12:11:07.222Z"
   },
   {
    "duration": 4,
    "start_time": "2022-10-10T12:11:07.258Z"
   },
   {
    "duration": 8,
    "start_time": "2022-10-10T12:11:07.263Z"
   },
   {
    "duration": 8,
    "start_time": "2022-10-10T12:11:07.272Z"
   },
   {
    "duration": 9,
    "start_time": "2022-10-10T12:11:07.282Z"
   },
   {
    "duration": 7,
    "start_time": "2022-10-10T12:11:07.292Z"
   },
   {
    "duration": 21,
    "start_time": "2022-10-10T12:11:07.300Z"
   },
   {
    "duration": 7,
    "start_time": "2022-10-10T12:11:07.323Z"
   },
   {
    "duration": 5,
    "start_time": "2022-10-10T12:11:07.331Z"
   },
   {
    "duration": 7,
    "start_time": "2022-10-10T12:11:07.337Z"
   },
   {
    "duration": 8,
    "start_time": "2022-10-10T12:11:07.347Z"
   },
   {
    "duration": 4,
    "start_time": "2022-10-10T12:11:07.356Z"
   },
   {
    "duration": 17383,
    "start_time": "2022-10-10T12:11:07.362Z"
   },
   {
    "duration": 66240,
    "start_time": "2022-10-10T12:11:24.747Z"
   },
   {
    "duration": 1841,
    "start_time": "2022-10-10T12:12:30.988Z"
   },
   {
    "duration": 91,
    "start_time": "2022-10-10T12:12:32.832Z"
   },
   {
    "duration": 87,
    "start_time": "2022-10-10T12:12:32.928Z"
   },
   {
    "duration": 12055,
    "start_time": "2022-10-10T12:12:33.016Z"
   },
   {
    "duration": 188,
    "start_time": "2022-10-10T12:22:35.510Z"
   },
   {
    "duration": 870,
    "start_time": "2022-10-10T12:23:01.121Z"
   },
   {
    "duration": 769,
    "start_time": "2022-10-10T12:23:41.088Z"
   },
   {
    "duration": 1463,
    "start_time": "2022-10-10T12:24:02.311Z"
   },
   {
    "duration": 618,
    "start_time": "2022-10-10T12:24:03.776Z"
   },
   {
    "duration": 4,
    "start_time": "2022-10-10T12:24:04.396Z"
   },
   {
    "duration": 391,
    "start_time": "2022-10-10T12:24:04.411Z"
   },
   {
    "duration": 153,
    "start_time": "2022-10-10T12:24:04.803Z"
   },
   {
    "duration": 340,
    "start_time": "2022-10-10T12:24:04.957Z"
   },
   {
    "duration": 11,
    "start_time": "2022-10-10T12:24:05.298Z"
   },
   {
    "duration": 8,
    "start_time": "2022-10-10T12:24:05.310Z"
   },
   {
    "duration": 5,
    "start_time": "2022-10-10T12:24:05.320Z"
   },
   {
    "duration": 3,
    "start_time": "2022-10-10T12:24:05.328Z"
   },
   {
    "duration": 8,
    "start_time": "2022-10-10T12:24:05.332Z"
   },
   {
    "duration": 11,
    "start_time": "2022-10-10T12:24:05.341Z"
   },
   {
    "duration": 8,
    "start_time": "2022-10-10T12:24:05.354Z"
   },
   {
    "duration": 6,
    "start_time": "2022-10-10T12:24:05.364Z"
   },
   {
    "duration": 75,
    "start_time": "2022-10-10T12:24:05.371Z"
   },
   {
    "duration": 4,
    "start_time": "2022-10-10T12:24:05.448Z"
   },
   {
    "duration": 20,
    "start_time": "2022-10-10T12:24:05.454Z"
   },
   {
    "duration": 11,
    "start_time": "2022-10-10T12:24:05.475Z"
   },
   {
    "duration": 22,
    "start_time": "2022-10-10T12:24:05.488Z"
   },
   {
    "duration": 4,
    "start_time": "2022-10-10T12:24:05.512Z"
   },
   {
    "duration": 6,
    "start_time": "2022-10-10T12:24:05.517Z"
   },
   {
    "duration": 18,
    "start_time": "2022-10-10T12:24:05.524Z"
   },
   {
    "duration": 3,
    "start_time": "2022-10-10T12:24:05.543Z"
   },
   {
    "duration": 19,
    "start_time": "2022-10-10T12:24:05.548Z"
   },
   {
    "duration": 213,
    "start_time": "2022-10-10T12:24:05.569Z"
   },
   {
    "duration": 4680,
    "start_time": "2022-10-10T12:24:05.784Z"
   },
   {
    "duration": 863,
    "start_time": "2022-10-10T12:24:10.466Z"
   },
   {
    "duration": 30,
    "start_time": "2022-10-10T12:24:11.332Z"
   },
   {
    "duration": 226,
    "start_time": "2022-10-10T12:24:11.364Z"
   },
   {
    "duration": 4,
    "start_time": "2022-10-10T12:24:11.591Z"
   },
   {
    "duration": 10,
    "start_time": "2022-10-10T12:24:11.609Z"
   },
   {
    "duration": 34,
    "start_time": "2022-10-10T12:24:11.620Z"
   },
   {
    "duration": 4,
    "start_time": "2022-10-10T12:24:11.655Z"
   },
   {
    "duration": 7,
    "start_time": "2022-10-10T12:24:11.661Z"
   },
   {
    "duration": 5,
    "start_time": "2022-10-10T12:24:11.669Z"
   },
   {
    "duration": 8,
    "start_time": "2022-10-10T12:24:11.676Z"
   },
   {
    "duration": 27,
    "start_time": "2022-10-10T12:24:11.685Z"
   },
   {
    "duration": 7,
    "start_time": "2022-10-10T12:24:11.714Z"
   },
   {
    "duration": 15,
    "start_time": "2022-10-10T12:24:11.722Z"
   },
   {
    "duration": 8,
    "start_time": "2022-10-10T12:24:11.738Z"
   },
   {
    "duration": 5,
    "start_time": "2022-10-10T12:24:11.747Z"
   },
   {
    "duration": 10,
    "start_time": "2022-10-10T12:24:11.753Z"
   },
   {
    "duration": 3,
    "start_time": "2022-10-10T12:24:11.765Z"
   },
   {
    "duration": 16878,
    "start_time": "2022-10-10T12:24:11.769Z"
   },
   {
    "duration": 1376,
    "start_time": "2022-10-10T12:24:45.984Z"
   },
   {
    "duration": 586,
    "start_time": "2022-10-10T12:24:47.362Z"
   },
   {
    "duration": 3,
    "start_time": "2022-10-10T12:24:47.950Z"
   },
   {
    "duration": 350,
    "start_time": "2022-10-10T12:24:47.955Z"
   },
   {
    "duration": 145,
    "start_time": "2022-10-10T12:24:48.309Z"
   },
   {
    "duration": 328,
    "start_time": "2022-10-10T12:24:48.456Z"
   },
   {
    "duration": 3,
    "start_time": "2022-10-10T12:24:48.786Z"
   },
   {
    "duration": 14,
    "start_time": "2022-10-10T12:24:48.790Z"
   },
   {
    "duration": 5,
    "start_time": "2022-10-10T12:24:48.809Z"
   },
   {
    "duration": 4,
    "start_time": "2022-10-10T12:24:48.816Z"
   },
   {
    "duration": 10,
    "start_time": "2022-10-10T12:24:48.821Z"
   },
   {
    "duration": 6,
    "start_time": "2022-10-10T12:24:48.832Z"
   },
   {
    "duration": 10,
    "start_time": "2022-10-10T12:24:48.839Z"
   },
   {
    "duration": 4,
    "start_time": "2022-10-10T12:24:48.851Z"
   },
   {
    "duration": 65,
    "start_time": "2022-10-10T12:24:48.856Z"
   },
   {
    "duration": 4,
    "start_time": "2022-10-10T12:24:48.922Z"
   },
   {
    "duration": 10,
    "start_time": "2022-10-10T12:24:48.928Z"
   },
   {
    "duration": 7,
    "start_time": "2022-10-10T12:24:48.939Z"
   },
   {
    "duration": 15,
    "start_time": "2022-10-10T12:24:48.947Z"
   },
   {
    "duration": 3,
    "start_time": "2022-10-10T12:24:48.964Z"
   },
   {
    "duration": 9,
    "start_time": "2022-10-10T12:24:48.968Z"
   },
   {
    "duration": 35,
    "start_time": "2022-10-10T12:24:48.979Z"
   },
   {
    "duration": 2,
    "start_time": "2022-10-10T12:24:49.016Z"
   },
   {
    "duration": 38,
    "start_time": "2022-10-10T12:24:49.019Z"
   },
   {
    "duration": 200,
    "start_time": "2022-10-10T12:24:49.058Z"
   },
   {
    "duration": 4733,
    "start_time": "2022-10-10T12:24:49.259Z"
   },
   {
    "duration": 982,
    "start_time": "2022-10-10T12:24:53.993Z"
   },
   {
    "duration": 34,
    "start_time": "2022-10-10T12:24:54.979Z"
   },
   {
    "duration": 227,
    "start_time": "2022-10-10T12:24:55.015Z"
   },
   {
    "duration": 3,
    "start_time": "2022-10-10T12:24:55.244Z"
   },
   {
    "duration": 19,
    "start_time": "2022-10-10T12:24:55.249Z"
   },
   {
    "duration": 46,
    "start_time": "2022-10-10T12:24:55.270Z"
   },
   {
    "duration": 4,
    "start_time": "2022-10-10T12:24:55.318Z"
   },
   {
    "duration": 7,
    "start_time": "2022-10-10T12:24:55.324Z"
   },
   {
    "duration": 13,
    "start_time": "2022-10-10T12:24:55.332Z"
   },
   {
    "duration": 14,
    "start_time": "2022-10-10T12:24:55.347Z"
   },
   {
    "duration": 10,
    "start_time": "2022-10-10T12:24:55.364Z"
   },
   {
    "duration": 30,
    "start_time": "2022-10-10T12:24:55.376Z"
   },
   {
    "duration": 16,
    "start_time": "2022-10-10T12:24:55.408Z"
   },
   {
    "duration": 16,
    "start_time": "2022-10-10T12:24:55.426Z"
   },
   {
    "duration": 7,
    "start_time": "2022-10-10T12:24:55.444Z"
   },
   {
    "duration": 18,
    "start_time": "2022-10-10T12:24:55.453Z"
   },
   {
    "duration": 3,
    "start_time": "2022-10-10T12:24:55.473Z"
   },
   {
    "duration": 17114,
    "start_time": "2022-10-10T12:24:55.478Z"
   },
   {
    "duration": 1294,
    "start_time": "2022-10-10T12:25:49.623Z"
   },
   {
    "duration": 594,
    "start_time": "2022-10-10T12:25:50.918Z"
   },
   {
    "duration": 9,
    "start_time": "2022-10-10T12:25:51.513Z"
   },
   {
    "duration": 355,
    "start_time": "2022-10-10T12:25:51.524Z"
   },
   {
    "duration": 145,
    "start_time": "2022-10-10T12:25:51.880Z"
   },
   {
    "duration": 330,
    "start_time": "2022-10-10T12:25:52.026Z"
   },
   {
    "duration": 3,
    "start_time": "2022-10-10T12:25:52.358Z"
   },
   {
    "duration": 11,
    "start_time": "2022-10-10T12:25:52.362Z"
   },
   {
    "duration": 7,
    "start_time": "2022-10-10T12:25:52.374Z"
   },
   {
    "duration": 3,
    "start_time": "2022-10-10T12:25:52.383Z"
   },
   {
    "duration": 22,
    "start_time": "2022-10-10T12:25:52.387Z"
   },
   {
    "duration": 4,
    "start_time": "2022-10-10T12:25:52.410Z"
   },
   {
    "duration": 8,
    "start_time": "2022-10-10T12:25:52.415Z"
   },
   {
    "duration": 5,
    "start_time": "2022-10-10T12:25:52.424Z"
   },
   {
    "duration": 62,
    "start_time": "2022-10-10T12:25:52.430Z"
   },
   {
    "duration": 3,
    "start_time": "2022-10-10T12:25:52.493Z"
   },
   {
    "duration": 20,
    "start_time": "2022-10-10T12:25:52.497Z"
   },
   {
    "duration": 6,
    "start_time": "2022-10-10T12:25:52.518Z"
   },
   {
    "duration": 14,
    "start_time": "2022-10-10T12:25:52.525Z"
   },
   {
    "duration": 4,
    "start_time": "2022-10-10T12:25:52.541Z"
   },
   {
    "duration": 10,
    "start_time": "2022-10-10T12:25:52.546Z"
   },
   {
    "duration": 15,
    "start_time": "2022-10-10T12:25:52.558Z"
   },
   {
    "duration": 3,
    "start_time": "2022-10-10T12:25:52.575Z"
   },
   {
    "duration": 44,
    "start_time": "2022-10-10T12:25:52.580Z"
   },
   {
    "duration": 208,
    "start_time": "2022-10-10T12:25:52.625Z"
   },
   {
    "duration": 3986,
    "start_time": "2022-10-10T12:25:52.835Z"
   },
   {
    "duration": 887,
    "start_time": "2022-10-10T12:25:56.822Z"
   },
   {
    "duration": 26,
    "start_time": "2022-10-10T12:25:57.713Z"
   },
   {
    "duration": 209,
    "start_time": "2022-10-10T12:25:57.740Z"
   },
   {
    "duration": 3,
    "start_time": "2022-10-10T12:25:57.951Z"
   },
   {
    "duration": 125,
    "start_time": "2022-10-10T12:25:57.955Z"
   },
   {
    "duration": 0,
    "start_time": "2022-10-10T12:25:58.082Z"
   },
   {
    "duration": 0,
    "start_time": "2022-10-10T12:25:58.083Z"
   },
   {
    "duration": 0,
    "start_time": "2022-10-10T12:25:58.084Z"
   },
   {
    "duration": 0,
    "start_time": "2022-10-10T12:25:58.085Z"
   },
   {
    "duration": 0,
    "start_time": "2022-10-10T12:25:58.085Z"
   },
   {
    "duration": 0,
    "start_time": "2022-10-10T12:25:58.086Z"
   },
   {
    "duration": 0,
    "start_time": "2022-10-10T12:25:58.087Z"
   },
   {
    "duration": 0,
    "start_time": "2022-10-10T12:25:58.088Z"
   },
   {
    "duration": 0,
    "start_time": "2022-10-10T12:25:58.089Z"
   },
   {
    "duration": 0,
    "start_time": "2022-10-10T12:25:58.090Z"
   },
   {
    "duration": 0,
    "start_time": "2022-10-10T12:25:58.090Z"
   },
   {
    "duration": 0,
    "start_time": "2022-10-10T12:25:58.091Z"
   },
   {
    "duration": 0,
    "start_time": "2022-10-10T12:25:58.109Z"
   },
   {
    "duration": 0,
    "start_time": "2022-10-10T12:25:58.110Z"
   },
   {
    "duration": 0,
    "start_time": "2022-10-10T12:25:58.111Z"
   },
   {
    "duration": 0,
    "start_time": "2022-10-10T12:25:58.112Z"
   },
   {
    "duration": 0,
    "start_time": "2022-10-10T12:25:58.113Z"
   },
   {
    "duration": 0,
    "start_time": "2022-10-10T12:25:58.114Z"
   },
   {
    "duration": 11,
    "start_time": "2022-10-10T12:26:18.074Z"
   },
   {
    "duration": 8,
    "start_time": "2022-10-10T12:26:46.811Z"
   },
   {
    "duration": 25,
    "start_time": "2022-10-10T12:26:56.122Z"
   },
   {
    "duration": 17,
    "start_time": "2022-10-10T12:29:16.436Z"
   },
   {
    "duration": 15,
    "start_time": "2022-10-10T12:29:23.746Z"
   },
   {
    "duration": 32,
    "start_time": "2022-10-10T12:33:46.846Z"
   },
   {
    "duration": 4,
    "start_time": "2022-10-10T12:33:48.403Z"
   },
   {
    "duration": 2,
    "start_time": "2022-10-10T12:33:51.939Z"
   },
   {
    "duration": 2,
    "start_time": "2022-10-10T12:33:53.070Z"
   },
   {
    "duration": 5,
    "start_time": "2022-10-10T12:33:53.907Z"
   },
   {
    "duration": 3,
    "start_time": "2022-10-10T12:33:54.707Z"
   },
   {
    "duration": 4,
    "start_time": "2022-10-10T12:33:55.972Z"
   },
   {
    "duration": 1037,
    "start_time": "2022-10-10T12:35:52.716Z"
   },
   {
    "duration": 11,
    "start_time": "2022-10-10T12:36:25.468Z"
   },
   {
    "duration": 13,
    "start_time": "2022-10-10T12:36:58.005Z"
   },
   {
    "duration": 1869,
    "start_time": "2022-10-10T12:37:34.821Z"
   },
   {
    "duration": 3,
    "start_time": "2022-10-10T12:41:26.741Z"
   },
   {
    "duration": 11,
    "start_time": "2022-10-10T12:41:39.629Z"
   },
   {
    "duration": 1396,
    "start_time": "2022-10-10T12:41:48.997Z"
   },
   {
    "duration": 640,
    "start_time": "2022-10-10T12:41:50.396Z"
   },
   {
    "duration": 4,
    "start_time": "2022-10-10T12:41:51.037Z"
   },
   {
    "duration": 367,
    "start_time": "2022-10-10T12:41:51.042Z"
   },
   {
    "duration": 158,
    "start_time": "2022-10-10T12:41:51.410Z"
   },
   {
    "duration": 667,
    "start_time": "2022-10-10T12:41:51.570Z"
   },
   {
    "duration": 3,
    "start_time": "2022-10-10T12:41:52.238Z"
   },
   {
    "duration": 66,
    "start_time": "2022-10-10T12:41:52.243Z"
   },
   {
    "duration": 6,
    "start_time": "2022-10-10T12:41:52.311Z"
   },
   {
    "duration": 7,
    "start_time": "2022-10-10T12:41:52.320Z"
   },
   {
    "duration": 5,
    "start_time": "2022-10-10T12:41:52.329Z"
   },
   {
    "duration": 5,
    "start_time": "2022-10-10T12:41:52.335Z"
   },
   {
    "duration": 10,
    "start_time": "2022-10-10T12:41:52.342Z"
   },
   {
    "duration": 4,
    "start_time": "2022-10-10T12:41:52.354Z"
   },
   {
    "duration": 163,
    "start_time": "2022-10-10T12:41:52.360Z"
   },
   {
    "duration": 3,
    "start_time": "2022-10-10T12:41:52.525Z"
   },
   {
    "duration": 13,
    "start_time": "2022-10-10T12:41:52.529Z"
   },
   {
    "duration": 7,
    "start_time": "2022-10-10T12:41:52.543Z"
   },
   {
    "duration": 63,
    "start_time": "2022-10-10T12:41:52.551Z"
   },
   {
    "duration": 4,
    "start_time": "2022-10-10T12:41:52.615Z"
   },
   {
    "duration": 5,
    "start_time": "2022-10-10T12:41:52.620Z"
   },
   {
    "duration": 14,
    "start_time": "2022-10-10T12:41:52.626Z"
   },
   {
    "duration": 3,
    "start_time": "2022-10-10T12:41:52.641Z"
   },
   {
    "duration": 74,
    "start_time": "2022-10-10T12:41:52.645Z"
   },
   {
    "duration": 405,
    "start_time": "2022-10-10T12:41:52.720Z"
   },
   {
    "duration": 4450,
    "start_time": "2022-10-10T12:41:53.127Z"
   },
   {
    "duration": 911,
    "start_time": "2022-10-10T12:41:57.579Z"
   },
   {
    "duration": 30,
    "start_time": "2022-10-10T12:41:58.493Z"
   },
   {
    "duration": 213,
    "start_time": "2022-10-10T12:41:58.524Z"
   },
   {
    "duration": 3,
    "start_time": "2022-10-10T12:41:58.739Z"
   },
   {
    "duration": 19,
    "start_time": "2022-10-10T12:41:58.743Z"
   },
   {
    "duration": 3,
    "start_time": "2022-10-10T12:41:58.764Z"
   },
   {
    "duration": 53,
    "start_time": "2022-10-10T12:41:58.769Z"
   },
   {
    "duration": 4,
    "start_time": "2022-10-10T12:41:58.824Z"
   },
   {
    "duration": 5,
    "start_time": "2022-10-10T12:41:58.829Z"
   },
   {
    "duration": 5,
    "start_time": "2022-10-10T12:41:58.835Z"
   },
   {
    "duration": 8,
    "start_time": "2022-10-10T12:41:58.841Z"
   },
   {
    "duration": 5,
    "start_time": "2022-10-10T12:41:58.850Z"
   },
   {
    "duration": 5,
    "start_time": "2022-10-10T12:41:58.856Z"
   },
   {
    "duration": 4,
    "start_time": "2022-10-10T12:41:58.863Z"
   },
   {
    "duration": 7,
    "start_time": "2022-10-10T12:41:58.869Z"
   },
   {
    "duration": 32,
    "start_time": "2022-10-10T12:41:58.877Z"
   },
   {
    "duration": 11,
    "start_time": "2022-10-10T12:41:58.911Z"
   },
   {
    "duration": 8,
    "start_time": "2022-10-10T12:41:58.923Z"
   },
   {
    "duration": 2134,
    "start_time": "2022-10-10T12:41:58.933Z"
   },
   {
    "duration": 0,
    "start_time": "2022-10-10T12:42:01.068Z"
   },
   {
    "duration": 0,
    "start_time": "2022-10-10T12:42:01.069Z"
   },
   {
    "duration": 0,
    "start_time": "2022-10-10T12:42:01.070Z"
   },
   {
    "duration": 0,
    "start_time": "2022-10-10T12:42:01.071Z"
   },
   {
    "duration": 0,
    "start_time": "2022-10-10T12:42:01.072Z"
   },
   {
    "duration": 1335,
    "start_time": "2022-10-10T12:42:33.210Z"
   },
   {
    "duration": 641,
    "start_time": "2022-10-10T12:42:34.547Z"
   },
   {
    "duration": 3,
    "start_time": "2022-10-10T12:42:35.192Z"
   },
   {
    "duration": 345,
    "start_time": "2022-10-10T12:42:35.196Z"
   },
   {
    "duration": 155,
    "start_time": "2022-10-10T12:42:35.542Z"
   },
   {
    "duration": 344,
    "start_time": "2022-10-10T12:42:35.698Z"
   },
   {
    "duration": 3,
    "start_time": "2022-10-10T12:42:36.044Z"
   },
   {
    "duration": 9,
    "start_time": "2022-10-10T12:42:36.049Z"
   },
   {
    "duration": 4,
    "start_time": "2022-10-10T12:42:36.062Z"
   },
   {
    "duration": 4,
    "start_time": "2022-10-10T12:42:36.068Z"
   },
   {
    "duration": 6,
    "start_time": "2022-10-10T12:42:36.074Z"
   },
   {
    "duration": 30,
    "start_time": "2022-10-10T12:42:36.082Z"
   },
   {
    "duration": 9,
    "start_time": "2022-10-10T12:42:36.114Z"
   },
   {
    "duration": 5,
    "start_time": "2022-10-10T12:42:36.125Z"
   },
   {
    "duration": 72,
    "start_time": "2022-10-10T12:42:36.131Z"
   },
   {
    "duration": 5,
    "start_time": "2022-10-10T12:42:36.205Z"
   },
   {
    "duration": 8,
    "start_time": "2022-10-10T12:42:36.212Z"
   },
   {
    "duration": 6,
    "start_time": "2022-10-10T12:42:36.221Z"
   },
   {
    "duration": 16,
    "start_time": "2022-10-10T12:42:36.228Z"
   },
   {
    "duration": 3,
    "start_time": "2022-10-10T12:42:36.246Z"
   },
   {
    "duration": 6,
    "start_time": "2022-10-10T12:42:36.251Z"
   },
   {
    "duration": 51,
    "start_time": "2022-10-10T12:42:36.258Z"
   },
   {
    "duration": 2,
    "start_time": "2022-10-10T12:42:36.311Z"
   },
   {
    "duration": 22,
    "start_time": "2022-10-10T12:42:36.315Z"
   },
   {
    "duration": 214,
    "start_time": "2022-10-10T12:42:36.338Z"
   },
   {
    "duration": 4767,
    "start_time": "2022-10-10T12:42:36.554Z"
   },
   {
    "duration": 927,
    "start_time": "2022-10-10T12:42:41.324Z"
   },
   {
    "duration": 27,
    "start_time": "2022-10-10T12:42:42.253Z"
   },
   {
    "duration": 219,
    "start_time": "2022-10-10T12:42:42.282Z"
   },
   {
    "duration": 6,
    "start_time": "2022-10-10T12:42:42.503Z"
   },
   {
    "duration": 31,
    "start_time": "2022-10-10T12:42:42.510Z"
   },
   {
    "duration": 3,
    "start_time": "2022-10-10T12:42:42.543Z"
   },
   {
    "duration": 34,
    "start_time": "2022-10-10T12:42:42.547Z"
   },
   {
    "duration": 3,
    "start_time": "2022-10-10T12:42:42.583Z"
   },
   {
    "duration": 5,
    "start_time": "2022-10-10T12:42:42.587Z"
   },
   {
    "duration": 6,
    "start_time": "2022-10-10T12:42:42.593Z"
   },
   {
    "duration": 5,
    "start_time": "2022-10-10T12:42:42.609Z"
   },
   {
    "duration": 10,
    "start_time": "2022-10-10T12:42:42.615Z"
   },
   {
    "duration": 5,
    "start_time": "2022-10-10T12:42:42.626Z"
   },
   {
    "duration": 7,
    "start_time": "2022-10-10T12:42:42.633Z"
   },
   {
    "duration": 11,
    "start_time": "2022-10-10T12:42:42.641Z"
   },
   {
    "duration": 4,
    "start_time": "2022-10-10T12:42:42.654Z"
   },
   {
    "duration": 12,
    "start_time": "2022-10-10T12:42:42.660Z"
   },
   {
    "duration": 3,
    "start_time": "2022-10-10T12:42:42.674Z"
   },
   {
    "duration": 17284,
    "start_time": "2022-10-10T12:42:42.679Z"
   },
   {
    "duration": 1394,
    "start_time": "2022-10-10T12:43:04.471Z"
   },
   {
    "duration": 663,
    "start_time": "2022-10-10T12:43:05.867Z"
   },
   {
    "duration": 3,
    "start_time": "2022-10-10T12:43:06.532Z"
   },
   {
    "duration": 351,
    "start_time": "2022-10-10T12:43:06.537Z"
   },
   {
    "duration": 155,
    "start_time": "2022-10-10T12:43:06.890Z"
   },
   {
    "duration": 346,
    "start_time": "2022-10-10T12:43:07.046Z"
   },
   {
    "duration": 3,
    "start_time": "2022-10-10T12:43:07.394Z"
   },
   {
    "duration": 21,
    "start_time": "2022-10-10T12:43:07.399Z"
   },
   {
    "duration": 6,
    "start_time": "2022-10-10T12:43:07.421Z"
   },
   {
    "duration": 4,
    "start_time": "2022-10-10T12:43:07.428Z"
   },
   {
    "duration": 6,
    "start_time": "2022-10-10T12:43:07.433Z"
   },
   {
    "duration": 5,
    "start_time": "2022-10-10T12:43:07.440Z"
   },
   {
    "duration": 8,
    "start_time": "2022-10-10T12:43:07.446Z"
   },
   {
    "duration": 3,
    "start_time": "2022-10-10T12:43:07.457Z"
   },
   {
    "duration": 82,
    "start_time": "2022-10-10T12:43:07.461Z"
   },
   {
    "duration": 4,
    "start_time": "2022-10-10T12:43:07.544Z"
   },
   {
    "duration": 13,
    "start_time": "2022-10-10T12:43:07.550Z"
   },
   {
    "duration": 6,
    "start_time": "2022-10-10T12:43:07.564Z"
   },
   {
    "duration": 37,
    "start_time": "2022-10-10T12:43:07.572Z"
   },
   {
    "duration": 4,
    "start_time": "2022-10-10T12:43:07.610Z"
   },
   {
    "duration": 6,
    "start_time": "2022-10-10T12:43:07.615Z"
   },
   {
    "duration": 14,
    "start_time": "2022-10-10T12:43:07.622Z"
   },
   {
    "duration": 2,
    "start_time": "2022-10-10T12:43:07.637Z"
   },
   {
    "duration": 16,
    "start_time": "2022-10-10T12:43:07.641Z"
   },
   {
    "duration": 220,
    "start_time": "2022-10-10T12:43:07.658Z"
   },
   {
    "duration": 3913,
    "start_time": "2022-10-10T12:43:07.879Z"
   },
   {
    "duration": 893,
    "start_time": "2022-10-10T12:43:11.793Z"
   },
   {
    "duration": 31,
    "start_time": "2022-10-10T12:43:12.687Z"
   },
   {
    "duration": 206,
    "start_time": "2022-10-10T12:43:12.719Z"
   },
   {
    "duration": 3,
    "start_time": "2022-10-10T12:43:12.926Z"
   },
   {
    "duration": 22,
    "start_time": "2022-10-10T12:43:12.930Z"
   },
   {
    "duration": 9,
    "start_time": "2022-10-10T12:43:12.954Z"
   },
   {
    "duration": 125,
    "start_time": "2022-10-10T12:43:12.964Z"
   },
   {
    "duration": 0,
    "start_time": "2022-10-10T12:43:13.090Z"
   },
   {
    "duration": 0,
    "start_time": "2022-10-10T12:43:13.091Z"
   },
   {
    "duration": 0,
    "start_time": "2022-10-10T12:43:13.092Z"
   },
   {
    "duration": 0,
    "start_time": "2022-10-10T12:43:13.093Z"
   },
   {
    "duration": 0,
    "start_time": "2022-10-10T12:43:13.094Z"
   },
   {
    "duration": 0,
    "start_time": "2022-10-10T12:43:13.095Z"
   },
   {
    "duration": 0,
    "start_time": "2022-10-10T12:43:13.108Z"
   },
   {
    "duration": 0,
    "start_time": "2022-10-10T12:43:13.109Z"
   },
   {
    "duration": 0,
    "start_time": "2022-10-10T12:43:13.109Z"
   },
   {
    "duration": 0,
    "start_time": "2022-10-10T12:43:13.110Z"
   },
   {
    "duration": 0,
    "start_time": "2022-10-10T12:43:13.111Z"
   },
   {
    "duration": 0,
    "start_time": "2022-10-10T12:43:13.112Z"
   },
   {
    "duration": 0,
    "start_time": "2022-10-10T12:43:13.112Z"
   },
   {
    "duration": 0,
    "start_time": "2022-10-10T12:43:13.113Z"
   },
   {
    "duration": 0,
    "start_time": "2022-10-10T12:43:13.114Z"
   },
   {
    "duration": 0,
    "start_time": "2022-10-10T12:43:13.115Z"
   },
   {
    "duration": 0,
    "start_time": "2022-10-10T12:43:13.115Z"
   },
   {
    "duration": 0,
    "start_time": "2022-10-10T12:43:13.116Z"
   },
   {
    "duration": 188,
    "start_time": "2022-10-10T12:44:48.599Z"
   },
   {
    "duration": 12,
    "start_time": "2022-10-10T12:45:27.656Z"
   },
   {
    "duration": 10,
    "start_time": "2022-10-10T12:45:54.296Z"
   },
   {
    "duration": 11,
    "start_time": "2022-10-10T12:46:06.335Z"
   },
   {
    "duration": 11,
    "start_time": "2022-10-10T12:46:55.870Z"
   },
   {
    "duration": 3,
    "start_time": "2022-10-10T12:47:09.734Z"
   },
   {
    "duration": 11,
    "start_time": "2022-10-10T12:47:10.999Z"
   },
   {
    "duration": 3,
    "start_time": "2022-10-10T12:47:26.393Z"
   },
   {
    "duration": 10,
    "start_time": "2022-10-10T12:47:27.664Z"
   },
   {
    "duration": 3,
    "start_time": "2022-10-10T12:48:18.912Z"
   },
   {
    "duration": 11,
    "start_time": "2022-10-10T12:48:20.039Z"
   },
   {
    "duration": 3,
    "start_time": "2022-10-10T12:48:43.472Z"
   },
   {
    "duration": 10,
    "start_time": "2022-10-10T12:48:44.888Z"
   },
   {
    "duration": 3,
    "start_time": "2022-10-10T12:57:04.611Z"
   },
   {
    "duration": 11,
    "start_time": "2022-10-10T12:57:05.859Z"
   },
   {
    "duration": 4,
    "start_time": "2022-10-10T12:57:21.466Z"
   },
   {
    "duration": 12,
    "start_time": "2022-10-10T12:57:22.970Z"
   },
   {
    "duration": 3,
    "start_time": "2022-10-10T12:57:39.969Z"
   },
   {
    "duration": 14,
    "start_time": "2022-10-10T12:57:41.995Z"
   },
   {
    "duration": 3,
    "start_time": "2022-10-10T12:58:23.188Z"
   },
   {
    "duration": 15,
    "start_time": "2022-10-10T12:58:24.410Z"
   },
   {
    "duration": 11,
    "start_time": "2022-10-10T12:58:45.067Z"
   },
   {
    "duration": 3,
    "start_time": "2022-10-10T12:58:50.516Z"
   },
   {
    "duration": 32,
    "start_time": "2022-10-10T12:58:52.484Z"
   },
   {
    "duration": 3,
    "start_time": "2022-10-10T12:58:59.973Z"
   },
   {
    "duration": 11,
    "start_time": "2022-10-10T12:59:01.431Z"
   },
   {
    "duration": 25,
    "start_time": "2022-10-10T12:59:24.147Z"
   },
   {
    "duration": 3,
    "start_time": "2022-10-10T13:00:10.541Z"
   },
   {
    "duration": 21,
    "start_time": "2022-10-10T13:00:11.516Z"
   },
   {
    "duration": 1797,
    "start_time": "2022-10-10T13:05:39.040Z"
   },
   {
    "duration": 3235,
    "start_time": "2022-10-10T13:05:40.839Z"
   },
   {
    "duration": 4,
    "start_time": "2022-10-10T13:05:44.075Z"
   },
   {
    "duration": 390,
    "start_time": "2022-10-10T13:05:44.081Z"
   },
   {
    "duration": 201,
    "start_time": "2022-10-10T13:05:44.473Z"
   },
   {
    "duration": 350,
    "start_time": "2022-10-10T13:05:44.676Z"
   },
   {
    "duration": 3,
    "start_time": "2022-10-10T13:05:45.027Z"
   },
   {
    "duration": 35,
    "start_time": "2022-10-10T13:05:45.031Z"
   },
   {
    "duration": 21,
    "start_time": "2022-10-10T13:05:45.068Z"
   },
   {
    "duration": 10,
    "start_time": "2022-10-10T13:05:45.092Z"
   },
   {
    "duration": 20,
    "start_time": "2022-10-10T13:05:45.103Z"
   },
   {
    "duration": 9,
    "start_time": "2022-10-10T13:05:45.125Z"
   },
   {
    "duration": 22,
    "start_time": "2022-10-10T13:05:45.135Z"
   },
   {
    "duration": 22,
    "start_time": "2022-10-10T13:05:45.159Z"
   },
   {
    "duration": 72,
    "start_time": "2022-10-10T13:05:45.183Z"
   },
   {
    "duration": 4,
    "start_time": "2022-10-10T13:05:45.256Z"
   },
   {
    "duration": 16,
    "start_time": "2022-10-10T13:05:45.261Z"
   },
   {
    "duration": 17,
    "start_time": "2022-10-10T13:05:45.278Z"
   },
   {
    "duration": 35,
    "start_time": "2022-10-10T13:05:45.297Z"
   },
   {
    "duration": 3,
    "start_time": "2022-10-10T13:05:45.334Z"
   },
   {
    "duration": 21,
    "start_time": "2022-10-10T13:05:45.339Z"
   },
   {
    "duration": 37,
    "start_time": "2022-10-10T13:05:45.361Z"
   },
   {
    "duration": 13,
    "start_time": "2022-10-10T13:05:45.399Z"
   },
   {
    "duration": 39,
    "start_time": "2022-10-10T13:05:45.414Z"
   },
   {
    "duration": 195,
    "start_time": "2022-10-10T13:05:45.454Z"
   },
   {
    "duration": 4975,
    "start_time": "2022-10-10T13:05:45.650Z"
   },
   {
    "duration": 915,
    "start_time": "2022-10-10T13:05:50.626Z"
   },
   {
    "duration": 31,
    "start_time": "2022-10-10T13:05:51.546Z"
   },
   {
    "duration": 225,
    "start_time": "2022-10-10T13:05:51.578Z"
   },
   {
    "duration": 3,
    "start_time": "2022-10-10T13:05:51.805Z"
   },
   {
    "duration": 38,
    "start_time": "2022-10-10T13:05:51.810Z"
   },
   {
    "duration": 3,
    "start_time": "2022-10-10T13:05:51.849Z"
   },
   {
    "duration": 8,
    "start_time": "2022-10-10T13:05:51.854Z"
   },
   {
    "duration": 6,
    "start_time": "2022-10-10T13:05:51.864Z"
   },
   {
    "duration": 8,
    "start_time": "2022-10-10T13:05:51.872Z"
   },
   {
    "duration": 20,
    "start_time": "2022-10-10T13:05:51.882Z"
   },
   {
    "duration": 8,
    "start_time": "2022-10-10T13:05:51.903Z"
   },
   {
    "duration": 10,
    "start_time": "2022-10-10T13:05:51.912Z"
   },
   {
    "duration": 12,
    "start_time": "2022-10-10T13:05:51.924Z"
   },
   {
    "duration": 6,
    "start_time": "2022-10-10T13:05:51.937Z"
   },
   {
    "duration": 15,
    "start_time": "2022-10-10T13:05:51.944Z"
   },
   {
    "duration": 7,
    "start_time": "2022-10-10T13:05:51.961Z"
   },
   {
    "duration": 13793,
    "start_time": "2022-10-10T13:05:51.970Z"
   },
   {
    "duration": 51707,
    "start_time": "2022-10-10T13:06:05.764Z"
   },
   {
    "duration": 1734,
    "start_time": "2022-10-10T13:06:57.473Z"
   },
   {
    "duration": 4,
    "start_time": "2022-10-10T13:06:59.209Z"
   },
   {
    "duration": 93,
    "start_time": "2022-10-10T13:06:59.214Z"
   },
   {
    "duration": 9516,
    "start_time": "2022-10-10T13:06:59.308Z"
   },
   {
    "duration": 1174,
    "start_time": "2022-10-10T13:08:21.086Z"
   },
   {
    "duration": 1128,
    "start_time": "2022-10-10T13:08:33.989Z"
   },
   {
    "duration": 1206,
    "start_time": "2022-10-10T13:08:48.954Z"
   },
   {
    "duration": 607,
    "start_time": "2022-10-10T13:08:50.162Z"
   },
   {
    "duration": 3,
    "start_time": "2022-10-10T13:08:50.771Z"
   },
   {
    "duration": 341,
    "start_time": "2022-10-10T13:08:50.776Z"
   },
   {
    "duration": 163,
    "start_time": "2022-10-10T13:08:51.119Z"
   },
   {
    "duration": 353,
    "start_time": "2022-10-10T13:08:51.284Z"
   },
   {
    "duration": 3,
    "start_time": "2022-10-10T13:08:51.638Z"
   },
   {
    "duration": 11,
    "start_time": "2022-10-10T13:08:51.643Z"
   },
   {
    "duration": 5,
    "start_time": "2022-10-10T13:08:51.655Z"
   },
   {
    "duration": 5,
    "start_time": "2022-10-10T13:08:51.662Z"
   },
   {
    "duration": 6,
    "start_time": "2022-10-10T13:08:51.668Z"
   },
   {
    "duration": 5,
    "start_time": "2022-10-10T13:08:51.675Z"
   },
   {
    "duration": 7,
    "start_time": "2022-10-10T13:08:51.700Z"
   },
   {
    "duration": 11,
    "start_time": "2022-10-10T13:08:51.708Z"
   },
   {
    "duration": 51,
    "start_time": "2022-10-10T13:08:51.721Z"
   },
   {
    "duration": 4,
    "start_time": "2022-10-10T13:08:51.774Z"
   },
   {
    "duration": 21,
    "start_time": "2022-10-10T13:08:51.779Z"
   },
   {
    "duration": 5,
    "start_time": "2022-10-10T13:08:51.802Z"
   },
   {
    "duration": 13,
    "start_time": "2022-10-10T13:08:51.808Z"
   },
   {
    "duration": 3,
    "start_time": "2022-10-10T13:08:51.823Z"
   },
   {
    "duration": 4,
    "start_time": "2022-10-10T13:08:51.827Z"
   },
   {
    "duration": 18,
    "start_time": "2022-10-10T13:08:51.833Z"
   },
   {
    "duration": 3,
    "start_time": "2022-10-10T13:08:51.852Z"
   },
   {
    "duration": 54,
    "start_time": "2022-10-10T13:08:51.856Z"
   },
   {
    "duration": 405,
    "start_time": "2022-10-10T13:08:51.912Z"
   },
   {
    "duration": 4988,
    "start_time": "2022-10-10T13:08:52.319Z"
   },
   {
    "duration": 974,
    "start_time": "2022-10-10T13:08:57.309Z"
   },
   {
    "duration": 36,
    "start_time": "2022-10-10T13:08:58.286Z"
   },
   {
    "duration": 209,
    "start_time": "2022-10-10T13:08:58.324Z"
   },
   {
    "duration": 3,
    "start_time": "2022-10-10T13:08:58.535Z"
   },
   {
    "duration": 110,
    "start_time": "2022-10-10T13:08:58.539Z"
   },
   {
    "duration": 0,
    "start_time": "2022-10-10T13:08:58.650Z"
   },
   {
    "duration": 0,
    "start_time": "2022-10-10T13:08:58.652Z"
   },
   {
    "duration": 0,
    "start_time": "2022-10-10T13:08:58.652Z"
   },
   {
    "duration": 0,
    "start_time": "2022-10-10T13:08:58.653Z"
   },
   {
    "duration": 0,
    "start_time": "2022-10-10T13:08:58.654Z"
   },
   {
    "duration": 0,
    "start_time": "2022-10-10T13:08:58.655Z"
   },
   {
    "duration": 0,
    "start_time": "2022-10-10T13:08:58.656Z"
   },
   {
    "duration": 0,
    "start_time": "2022-10-10T13:08:58.657Z"
   },
   {
    "duration": 0,
    "start_time": "2022-10-10T13:08:58.658Z"
   },
   {
    "duration": 0,
    "start_time": "2022-10-10T13:08:58.659Z"
   },
   {
    "duration": 0,
    "start_time": "2022-10-10T13:08:58.660Z"
   },
   {
    "duration": 0,
    "start_time": "2022-10-10T13:08:58.661Z"
   },
   {
    "duration": 0,
    "start_time": "2022-10-10T13:08:58.662Z"
   },
   {
    "duration": 0,
    "start_time": "2022-10-10T13:08:58.663Z"
   },
   {
    "duration": 0,
    "start_time": "2022-10-10T13:08:58.664Z"
   },
   {
    "duration": 0,
    "start_time": "2022-10-10T13:08:58.665Z"
   },
   {
    "duration": 0,
    "start_time": "2022-10-10T13:08:58.666Z"
   },
   {
    "duration": 26,
    "start_time": "2022-10-10T13:09:14.172Z"
   },
   {
    "duration": 3,
    "start_time": "2022-10-10T13:09:18.939Z"
   },
   {
    "duration": 3,
    "start_time": "2022-10-10T13:09:37.202Z"
   },
   {
    "duration": 26,
    "start_time": "2022-10-10T13:09:38.362Z"
   },
   {
    "duration": 4,
    "start_time": "2022-10-10T13:09:40.106Z"
   },
   {
    "duration": 3,
    "start_time": "2022-10-10T13:09:55.303Z"
   },
   {
    "duration": 24,
    "start_time": "2022-10-10T13:09:55.990Z"
   },
   {
    "duration": 4,
    "start_time": "2022-10-10T13:09:57.542Z"
   },
   {
    "duration": 1299,
    "start_time": "2022-10-10T13:10:03.123Z"
   },
   {
    "duration": 684,
    "start_time": "2022-10-10T13:10:04.428Z"
   },
   {
    "duration": 3,
    "start_time": "2022-10-10T13:10:05.114Z"
   },
   {
    "duration": 358,
    "start_time": "2022-10-10T13:10:05.119Z"
   },
   {
    "duration": 168,
    "start_time": "2022-10-10T13:10:05.479Z"
   },
   {
    "duration": 346,
    "start_time": "2022-10-10T13:10:05.649Z"
   },
   {
    "duration": 3,
    "start_time": "2022-10-10T13:10:06.001Z"
   },
   {
    "duration": 34,
    "start_time": "2022-10-10T13:10:06.006Z"
   },
   {
    "duration": 21,
    "start_time": "2022-10-10T13:10:06.042Z"
   },
   {
    "duration": 14,
    "start_time": "2022-10-10T13:10:06.065Z"
   },
   {
    "duration": 21,
    "start_time": "2022-10-10T13:10:06.080Z"
   },
   {
    "duration": 21,
    "start_time": "2022-10-10T13:10:06.103Z"
   },
   {
    "duration": 25,
    "start_time": "2022-10-10T13:10:06.125Z"
   },
   {
    "duration": 25,
    "start_time": "2022-10-10T13:10:06.152Z"
   },
   {
    "duration": 63,
    "start_time": "2022-10-10T13:10:06.178Z"
   },
   {
    "duration": 4,
    "start_time": "2022-10-10T13:10:06.242Z"
   },
   {
    "duration": 35,
    "start_time": "2022-10-10T13:10:06.247Z"
   },
   {
    "duration": 8,
    "start_time": "2022-10-10T13:10:06.284Z"
   },
   {
    "duration": 37,
    "start_time": "2022-10-10T13:10:06.294Z"
   },
   {
    "duration": 13,
    "start_time": "2022-10-10T13:10:06.333Z"
   },
   {
    "duration": 26,
    "start_time": "2022-10-10T13:10:06.347Z"
   },
   {
    "duration": 36,
    "start_time": "2022-10-10T13:10:06.374Z"
   },
   {
    "duration": 9,
    "start_time": "2022-10-10T13:10:06.411Z"
   },
   {
    "duration": 36,
    "start_time": "2022-10-10T13:10:06.421Z"
   },
   {
    "duration": 216,
    "start_time": "2022-10-10T13:10:06.459Z"
   },
   {
    "duration": 4214,
    "start_time": "2022-10-10T13:10:06.676Z"
   },
   {
    "duration": 957,
    "start_time": "2022-10-10T13:10:10.894Z"
   },
   {
    "duration": 30,
    "start_time": "2022-10-10T13:10:11.852Z"
   },
   {
    "duration": 336,
    "start_time": "2022-10-10T13:10:11.884Z"
   },
   {
    "duration": 3,
    "start_time": "2022-10-10T13:10:12.222Z"
   },
   {
    "duration": 29,
    "start_time": "2022-10-10T13:10:12.226Z"
   },
   {
    "duration": 3,
    "start_time": "2022-10-10T13:10:12.257Z"
   },
   {
    "duration": 5,
    "start_time": "2022-10-10T13:10:12.261Z"
   },
   {
    "duration": 9,
    "start_time": "2022-10-10T13:10:12.267Z"
   },
   {
    "duration": 7,
    "start_time": "2022-10-10T13:10:12.277Z"
   },
   {
    "duration": 4,
    "start_time": "2022-10-10T13:10:12.299Z"
   },
   {
    "duration": 5,
    "start_time": "2022-10-10T13:10:12.304Z"
   },
   {
    "duration": 5,
    "start_time": "2022-10-10T13:10:12.310Z"
   },
   {
    "duration": 6,
    "start_time": "2022-10-10T13:10:12.316Z"
   },
   {
    "duration": 7,
    "start_time": "2022-10-10T13:10:12.323Z"
   },
   {
    "duration": 19,
    "start_time": "2022-10-10T13:10:12.331Z"
   },
   {
    "duration": 2,
    "start_time": "2022-10-10T13:10:12.352Z"
   },
   {
    "duration": 15806,
    "start_time": "2022-10-10T13:10:12.356Z"
   },
   {
    "duration": 1332,
    "start_time": "2022-10-10T13:11:19.523Z"
   },
   {
    "duration": 623,
    "start_time": "2022-10-10T13:11:20.856Z"
   },
   {
    "duration": 3,
    "start_time": "2022-10-10T13:11:21.481Z"
   },
   {
    "duration": 372,
    "start_time": "2022-10-10T13:11:21.486Z"
   },
   {
    "duration": 162,
    "start_time": "2022-10-10T13:11:21.860Z"
   },
   {
    "duration": 592,
    "start_time": "2022-10-10T13:11:22.023Z"
   },
   {
    "duration": 3,
    "start_time": "2022-10-10T13:11:22.617Z"
   },
   {
    "duration": 12,
    "start_time": "2022-10-10T13:11:22.621Z"
   },
   {
    "duration": 5,
    "start_time": "2022-10-10T13:11:22.634Z"
   },
   {
    "duration": 3,
    "start_time": "2022-10-10T13:11:22.642Z"
   },
   {
    "duration": 62,
    "start_time": "2022-10-10T13:11:22.646Z"
   },
   {
    "duration": 13,
    "start_time": "2022-10-10T13:11:22.709Z"
   },
   {
    "duration": 8,
    "start_time": "2022-10-10T13:11:22.724Z"
   },
   {
    "duration": 5,
    "start_time": "2022-10-10T13:11:22.734Z"
   },
   {
    "duration": 97,
    "start_time": "2022-10-10T13:11:22.741Z"
   },
   {
    "duration": 4,
    "start_time": "2022-10-10T13:11:22.839Z"
   },
   {
    "duration": 60,
    "start_time": "2022-10-10T13:11:22.844Z"
   },
   {
    "duration": 6,
    "start_time": "2022-10-10T13:11:22.906Z"
   },
   {
    "duration": 14,
    "start_time": "2022-10-10T13:11:22.913Z"
   },
   {
    "duration": 4,
    "start_time": "2022-10-10T13:11:22.928Z"
   },
   {
    "duration": 6,
    "start_time": "2022-10-10T13:11:22.933Z"
   },
   {
    "duration": 70,
    "start_time": "2022-10-10T13:11:22.940Z"
   },
   {
    "duration": 3,
    "start_time": "2022-10-10T13:11:23.011Z"
   },
   {
    "duration": 18,
    "start_time": "2022-10-10T13:11:23.015Z"
   },
   {
    "duration": 392,
    "start_time": "2022-10-10T13:11:23.035Z"
   },
   {
    "duration": 4452,
    "start_time": "2022-10-10T13:11:23.428Z"
   },
   {
    "duration": 910,
    "start_time": "2022-10-10T13:11:27.882Z"
   },
   {
    "duration": 30,
    "start_time": "2022-10-10T13:11:28.795Z"
   },
   {
    "duration": 204,
    "start_time": "2022-10-10T13:11:28.827Z"
   },
   {
    "duration": 3,
    "start_time": "2022-10-10T13:11:29.032Z"
   },
   {
    "duration": 21,
    "start_time": "2022-10-10T13:11:29.036Z"
   },
   {
    "duration": 4,
    "start_time": "2022-10-10T13:11:29.058Z"
   },
   {
    "duration": 5,
    "start_time": "2022-10-10T13:11:29.063Z"
   },
   {
    "duration": 5,
    "start_time": "2022-10-10T13:11:29.069Z"
   },
   {
    "duration": 5,
    "start_time": "2022-10-10T13:11:29.076Z"
   },
   {
    "duration": 3,
    "start_time": "2022-10-10T13:11:29.100Z"
   },
   {
    "duration": 8,
    "start_time": "2022-10-10T13:11:29.104Z"
   },
   {
    "duration": 8,
    "start_time": "2022-10-10T13:11:29.113Z"
   },
   {
    "duration": 5,
    "start_time": "2022-10-10T13:11:29.122Z"
   },
   {
    "duration": 5,
    "start_time": "2022-10-10T13:11:29.128Z"
   },
   {
    "duration": 8,
    "start_time": "2022-10-10T13:11:29.134Z"
   },
   {
    "duration": 2,
    "start_time": "2022-10-10T13:11:29.144Z"
   },
   {
    "duration": 302,
    "start_time": "2022-10-10T13:11:29.148Z"
   },
   {
    "duration": 905,
    "start_time": "2022-10-10T13:11:29.452Z"
   },
   {
    "duration": 48,
    "start_time": "2022-10-10T13:11:30.359Z"
   },
   {
    "duration": 3,
    "start_time": "2022-10-10T13:11:30.409Z"
   },
   {
    "duration": 29,
    "start_time": "2022-10-10T13:11:30.414Z"
   },
   {
    "duration": 71,
    "start_time": "2022-10-10T13:11:30.445Z"
   },
   {
    "duration": 1305,
    "start_time": "2022-10-10T13:11:54.258Z"
   },
   {
    "duration": 619,
    "start_time": "2022-10-10T13:11:55.564Z"
   },
   {
    "duration": 3,
    "start_time": "2022-10-10T13:11:56.185Z"
   },
   {
    "duration": 353,
    "start_time": "2022-10-10T13:11:56.190Z"
   },
   {
    "duration": 159,
    "start_time": "2022-10-10T13:11:56.544Z"
   },
   {
    "duration": 428,
    "start_time": "2022-10-10T13:11:56.705Z"
   },
   {
    "duration": 2,
    "start_time": "2022-10-10T13:11:57.135Z"
   },
   {
    "duration": 61,
    "start_time": "2022-10-10T13:11:57.139Z"
   },
   {
    "duration": 6,
    "start_time": "2022-10-10T13:11:57.202Z"
   },
   {
    "duration": 6,
    "start_time": "2022-10-10T13:11:57.210Z"
   },
   {
    "duration": 16,
    "start_time": "2022-10-10T13:11:57.217Z"
   },
   {
    "duration": 5,
    "start_time": "2022-10-10T13:11:57.234Z"
   },
   {
    "duration": 10,
    "start_time": "2022-10-10T13:11:57.240Z"
   },
   {
    "duration": 12,
    "start_time": "2022-10-10T13:11:57.252Z"
   },
   {
    "duration": 101,
    "start_time": "2022-10-10T13:11:57.301Z"
   },
   {
    "duration": 3,
    "start_time": "2022-10-10T13:11:57.404Z"
   },
   {
    "duration": 16,
    "start_time": "2022-10-10T13:11:57.408Z"
   },
   {
    "duration": 6,
    "start_time": "2022-10-10T13:11:57.426Z"
   },
   {
    "duration": 70,
    "start_time": "2022-10-10T13:11:57.434Z"
   },
   {
    "duration": 4,
    "start_time": "2022-10-10T13:11:57.505Z"
   },
   {
    "duration": 5,
    "start_time": "2022-10-10T13:11:57.510Z"
   },
   {
    "duration": 24,
    "start_time": "2022-10-10T13:11:57.516Z"
   },
   {
    "duration": 7,
    "start_time": "2022-10-10T13:11:57.541Z"
   },
   {
    "duration": 62,
    "start_time": "2022-10-10T13:11:57.549Z"
   },
   {
    "duration": 492,
    "start_time": "2022-10-10T13:11:57.613Z"
   },
   {
    "duration": 4489,
    "start_time": "2022-10-10T13:11:58.106Z"
   },
   {
    "duration": 974,
    "start_time": "2022-10-10T13:12:02.596Z"
   },
   {
    "duration": 40,
    "start_time": "2022-10-10T13:12:03.573Z"
   },
   {
    "duration": 203,
    "start_time": "2022-10-10T13:12:03.614Z"
   },
   {
    "duration": 4,
    "start_time": "2022-10-10T13:12:03.819Z"
   },
   {
    "duration": 42,
    "start_time": "2022-10-10T13:12:03.825Z"
   },
   {
    "duration": 5,
    "start_time": "2022-10-10T13:12:03.868Z"
   },
   {
    "duration": 6,
    "start_time": "2022-10-10T13:12:03.874Z"
   },
   {
    "duration": 6,
    "start_time": "2022-10-10T13:12:03.881Z"
   },
   {
    "duration": 15,
    "start_time": "2022-10-10T13:12:03.889Z"
   },
   {
    "duration": 7,
    "start_time": "2022-10-10T13:12:03.905Z"
   },
   {
    "duration": 6,
    "start_time": "2022-10-10T13:12:03.913Z"
   },
   {
    "duration": 12,
    "start_time": "2022-10-10T13:12:03.921Z"
   },
   {
    "duration": 7,
    "start_time": "2022-10-10T13:12:03.934Z"
   },
   {
    "duration": 8,
    "start_time": "2022-10-10T13:12:03.942Z"
   },
   {
    "duration": 13,
    "start_time": "2022-10-10T13:12:03.951Z"
   },
   {
    "duration": 3,
    "start_time": "2022-10-10T13:12:03.965Z"
   },
   {
    "duration": 15050,
    "start_time": "2022-10-10T13:12:03.969Z"
   },
   {
    "duration": 54996,
    "start_time": "2022-10-10T13:12:19.021Z"
   },
   {
    "duration": 1226,
    "start_time": "2022-10-10T13:13:15.639Z"
   },
   {
    "duration": 1079,
    "start_time": "2022-10-10T13:13:16.867Z"
   },
   {
    "duration": 53,
    "start_time": "2022-10-10T13:13:17.948Z"
   },
   {
    "duration": 611,
    "start_time": "2022-10-10T13:13:18.003Z"
   },
   {
    "duration": 157,
    "start_time": "2022-10-10T13:13:18.616Z"
   },
   {
    "duration": 329,
    "start_time": "2022-10-10T13:13:18.775Z"
   },
   {
    "duration": 3,
    "start_time": "2022-10-10T13:13:19.105Z"
   },
   {
    "duration": 15,
    "start_time": "2022-10-10T13:13:19.109Z"
   },
   {
    "duration": 5,
    "start_time": "2022-10-10T13:13:19.126Z"
   },
   {
    "duration": 3,
    "start_time": "2022-10-10T13:13:19.133Z"
   },
   {
    "duration": 15,
    "start_time": "2022-10-10T13:13:19.137Z"
   },
   {
    "duration": 6,
    "start_time": "2022-10-10T13:13:19.153Z"
   },
   {
    "duration": 8,
    "start_time": "2022-10-10T13:13:19.160Z"
   },
   {
    "duration": 6,
    "start_time": "2022-10-10T13:13:19.169Z"
   },
   {
    "duration": 68,
    "start_time": "2022-10-10T13:13:19.177Z"
   },
   {
    "duration": 4,
    "start_time": "2022-10-10T13:13:19.246Z"
   },
   {
    "duration": 11,
    "start_time": "2022-10-10T13:13:19.251Z"
   },
   {
    "duration": 5,
    "start_time": "2022-10-10T13:13:19.263Z"
   },
   {
    "duration": 32,
    "start_time": "2022-10-10T13:13:19.270Z"
   },
   {
    "duration": 4,
    "start_time": "2022-10-10T13:13:19.304Z"
   },
   {
    "duration": 5,
    "start_time": "2022-10-10T13:13:19.309Z"
   },
   {
    "duration": 16,
    "start_time": "2022-10-10T13:13:19.316Z"
   },
   {
    "duration": 3,
    "start_time": "2022-10-10T13:13:19.334Z"
   },
   {
    "duration": 17,
    "start_time": "2022-10-10T13:13:19.339Z"
   },
   {
    "duration": 224,
    "start_time": "2022-10-10T13:13:19.358Z"
   },
   {
    "duration": 4174,
    "start_time": "2022-10-10T13:13:19.583Z"
   },
   {
    "duration": 1049,
    "start_time": "2022-10-10T13:13:23.759Z"
   },
   {
    "duration": 28,
    "start_time": "2022-10-10T13:13:24.812Z"
   },
   {
    "duration": 203,
    "start_time": "2022-10-10T13:13:24.842Z"
   },
   {
    "duration": 2,
    "start_time": "2022-10-10T13:13:25.047Z"
   },
   {
    "duration": 32,
    "start_time": "2022-10-10T13:13:25.051Z"
   },
   {
    "duration": 3,
    "start_time": "2022-10-10T13:13:25.085Z"
   },
   {
    "duration": 2,
    "start_time": "2022-10-10T13:13:25.100Z"
   },
   {
    "duration": 5,
    "start_time": "2022-10-10T13:13:25.104Z"
   },
   {
    "duration": 13,
    "start_time": "2022-10-10T13:13:25.111Z"
   },
   {
    "duration": 6,
    "start_time": "2022-10-10T13:13:25.126Z"
   },
   {
    "duration": 7,
    "start_time": "2022-10-10T13:13:25.133Z"
   },
   {
    "duration": 5,
    "start_time": "2022-10-10T13:13:25.141Z"
   },
   {
    "duration": 8,
    "start_time": "2022-10-10T13:13:25.147Z"
   },
   {
    "duration": 7,
    "start_time": "2022-10-10T13:13:25.156Z"
   },
   {
    "duration": 10,
    "start_time": "2022-10-10T13:13:25.164Z"
   },
   {
    "duration": 4,
    "start_time": "2022-10-10T13:13:25.175Z"
   },
   {
    "duration": 15028,
    "start_time": "2022-10-10T13:13:25.180Z"
   },
   {
    "duration": 53034,
    "start_time": "2022-10-10T13:13:40.209Z"
   },
   {
    "duration": 1656,
    "start_time": "2022-10-10T13:14:33.245Z"
   },
   {
    "duration": 3,
    "start_time": "2022-10-10T13:14:34.903Z"
   },
   {
    "duration": 25,
    "start_time": "2022-10-10T13:14:34.908Z"
   },
   {
    "duration": 10488,
    "start_time": "2022-10-10T13:14:35.000Z"
   },
   {
    "duration": 4,
    "start_time": "2022-10-10T13:15:00.494Z"
   },
   {
    "duration": 4767,
    "start_time": "2022-10-10T13:15:02.683Z"
   },
   {
    "duration": 0,
    "start_time": "2022-10-10T13:15:07.451Z"
   },
   {
    "duration": 1218,
    "start_time": "2022-10-10T13:15:20.452Z"
   },
   {
    "duration": 609,
    "start_time": "2022-10-10T13:15:21.672Z"
   },
   {
    "duration": 3,
    "start_time": "2022-10-10T13:15:22.282Z"
   },
   {
    "duration": 350,
    "start_time": "2022-10-10T13:15:22.287Z"
   },
   {
    "duration": 175,
    "start_time": "2022-10-10T13:15:22.639Z"
   },
   {
    "duration": 336,
    "start_time": "2022-10-10T13:15:22.816Z"
   },
   {
    "duration": 3,
    "start_time": "2022-10-10T13:15:23.154Z"
   },
   {
    "duration": 12,
    "start_time": "2022-10-10T13:15:23.158Z"
   },
   {
    "duration": 4,
    "start_time": "2022-10-10T13:15:23.172Z"
   },
   {
    "duration": 3,
    "start_time": "2022-10-10T13:15:23.179Z"
   },
   {
    "duration": 19,
    "start_time": "2022-10-10T13:15:23.183Z"
   },
   {
    "duration": 5,
    "start_time": "2022-10-10T13:15:23.203Z"
   },
   {
    "duration": 13,
    "start_time": "2022-10-10T13:15:23.209Z"
   },
   {
    "duration": 5,
    "start_time": "2022-10-10T13:15:23.223Z"
   },
   {
    "duration": 53,
    "start_time": "2022-10-10T13:15:23.230Z"
   },
   {
    "duration": 3,
    "start_time": "2022-10-10T13:15:23.285Z"
   },
   {
    "duration": 17,
    "start_time": "2022-10-10T13:15:23.289Z"
   },
   {
    "duration": 10,
    "start_time": "2022-10-10T13:15:23.308Z"
   },
   {
    "duration": 18,
    "start_time": "2022-10-10T13:15:23.319Z"
   },
   {
    "duration": 4,
    "start_time": "2022-10-10T13:15:23.339Z"
   },
   {
    "duration": 14,
    "start_time": "2022-10-10T13:15:23.345Z"
   },
   {
    "duration": 15,
    "start_time": "2022-10-10T13:15:23.361Z"
   },
   {
    "duration": 2,
    "start_time": "2022-10-10T13:15:23.377Z"
   },
   {
    "duration": 13,
    "start_time": "2022-10-10T13:15:23.400Z"
   },
   {
    "duration": 204,
    "start_time": "2022-10-10T13:15:23.414Z"
   },
   {
    "duration": 4289,
    "start_time": "2022-10-10T13:15:23.619Z"
   },
   {
    "duration": 952,
    "start_time": "2022-10-10T13:15:27.909Z"
   },
   {
    "duration": 36,
    "start_time": "2022-10-10T13:15:28.865Z"
   },
   {
    "duration": 208,
    "start_time": "2022-10-10T13:15:28.903Z"
   },
   {
    "duration": 3,
    "start_time": "2022-10-10T13:15:29.113Z"
   },
   {
    "duration": 40,
    "start_time": "2022-10-10T13:15:29.118Z"
   },
   {
    "duration": 5,
    "start_time": "2022-10-10T13:15:29.160Z"
   },
   {
    "duration": 20,
    "start_time": "2022-10-10T13:15:29.166Z"
   },
   {
    "duration": 17,
    "start_time": "2022-10-10T13:15:29.187Z"
   },
   {
    "duration": 28,
    "start_time": "2022-10-10T13:15:29.206Z"
   },
   {
    "duration": 21,
    "start_time": "2022-10-10T13:15:29.235Z"
   },
   {
    "duration": 28,
    "start_time": "2022-10-10T13:15:29.257Z"
   },
   {
    "duration": 21,
    "start_time": "2022-10-10T13:15:29.287Z"
   },
   {
    "duration": 26,
    "start_time": "2022-10-10T13:15:29.310Z"
   },
   {
    "duration": 20,
    "start_time": "2022-10-10T13:15:29.337Z"
   },
   {
    "duration": 26,
    "start_time": "2022-10-10T13:15:29.359Z"
   },
   {
    "duration": 24,
    "start_time": "2022-10-10T13:15:29.386Z"
   },
   {
    "duration": 14369,
    "start_time": "2022-10-10T13:15:29.412Z"
   },
   {
    "duration": 48693,
    "start_time": "2022-10-10T13:15:43.782Z"
   },
   {
    "duration": 1324,
    "start_time": "2022-10-10T13:16:32.477Z"
   },
   {
    "duration": 5,
    "start_time": "2022-10-10T13:16:33.803Z"
   },
   {
    "duration": 103,
    "start_time": "2022-10-10T13:16:33.810Z"
   },
   {
    "duration": 9255,
    "start_time": "2022-10-10T13:16:33.915Z"
   },
   {
    "duration": 1333,
    "start_time": "2022-10-10T13:17:13.191Z"
   },
   {
    "duration": 619,
    "start_time": "2022-10-10T13:17:14.526Z"
   },
   {
    "duration": 4,
    "start_time": "2022-10-10T13:17:15.146Z"
   },
   {
    "duration": 375,
    "start_time": "2022-10-10T13:17:15.152Z"
   },
   {
    "duration": 188,
    "start_time": "2022-10-10T13:17:15.528Z"
   },
   {
    "duration": 343,
    "start_time": "2022-10-10T13:17:15.717Z"
   },
   {
    "duration": 3,
    "start_time": "2022-10-10T13:17:16.061Z"
   },
   {
    "duration": 11,
    "start_time": "2022-10-10T13:17:16.065Z"
   },
   {
    "duration": 5,
    "start_time": "2022-10-10T13:17:16.077Z"
   },
   {
    "duration": 15,
    "start_time": "2022-10-10T13:17:16.085Z"
   },
   {
    "duration": 3,
    "start_time": "2022-10-10T13:17:16.102Z"
   },
   {
    "duration": 5,
    "start_time": "2022-10-10T13:17:16.107Z"
   },
   {
    "duration": 10,
    "start_time": "2022-10-10T13:17:16.113Z"
   },
   {
    "duration": 5,
    "start_time": "2022-10-10T13:17:16.124Z"
   },
   {
    "duration": 56,
    "start_time": "2022-10-10T13:17:16.131Z"
   },
   {
    "duration": 3,
    "start_time": "2022-10-10T13:17:16.201Z"
   },
   {
    "duration": 12,
    "start_time": "2022-10-10T13:17:16.205Z"
   },
   {
    "duration": 6,
    "start_time": "2022-10-10T13:17:16.219Z"
   },
   {
    "duration": 13,
    "start_time": "2022-10-10T13:17:16.226Z"
   },
   {
    "duration": 3,
    "start_time": "2022-10-10T13:17:16.240Z"
   },
   {
    "duration": 6,
    "start_time": "2022-10-10T13:17:16.245Z"
   },
   {
    "duration": 15,
    "start_time": "2022-10-10T13:17:16.252Z"
   },
   {
    "duration": 3,
    "start_time": "2022-10-10T13:17:16.268Z"
   },
   {
    "duration": 13,
    "start_time": "2022-10-10T13:17:16.301Z"
   },
   {
    "duration": 209,
    "start_time": "2022-10-10T13:17:16.316Z"
   },
   {
    "duration": 4179,
    "start_time": "2022-10-10T13:17:16.527Z"
   },
   {
    "duration": 949,
    "start_time": "2022-10-10T13:17:20.708Z"
   },
   {
    "duration": 30,
    "start_time": "2022-10-10T13:17:21.660Z"
   },
   {
    "duration": 209,
    "start_time": "2022-10-10T13:17:21.701Z"
   },
   {
    "duration": 3,
    "start_time": "2022-10-10T13:17:21.912Z"
   },
   {
    "duration": 27,
    "start_time": "2022-10-10T13:17:21.916Z"
   },
   {
    "duration": 27,
    "start_time": "2022-10-10T13:17:21.945Z"
   },
   {
    "duration": 4,
    "start_time": "2022-10-10T13:17:21.973Z"
   },
   {
    "duration": 17,
    "start_time": "2022-10-10T13:17:21.979Z"
   },
   {
    "duration": 9,
    "start_time": "2022-10-10T13:17:21.997Z"
   },
   {
    "duration": 23,
    "start_time": "2022-10-10T13:17:22.007Z"
   },
   {
    "duration": 29,
    "start_time": "2022-10-10T13:17:22.031Z"
   },
   {
    "duration": 16,
    "start_time": "2022-10-10T13:17:22.062Z"
   },
   {
    "duration": 8,
    "start_time": "2022-10-10T13:17:22.080Z"
   },
   {
    "duration": 7,
    "start_time": "2022-10-10T13:17:22.089Z"
   },
   {
    "duration": 15,
    "start_time": "2022-10-10T13:17:22.098Z"
   },
   {
    "duration": 38,
    "start_time": "2022-10-10T13:17:22.114Z"
   },
   {
    "duration": 17,
    "start_time": "2022-10-10T13:17:22.154Z"
   },
   {
    "duration": 16064,
    "start_time": "2022-10-10T13:17:22.172Z"
   },
   {
    "duration": 1274,
    "start_time": "2022-10-10T13:17:54.890Z"
   },
   {
    "duration": 624,
    "start_time": "2022-10-10T13:17:56.166Z"
   },
   {
    "duration": 4,
    "start_time": "2022-10-10T13:17:56.791Z"
   },
   {
    "duration": 353,
    "start_time": "2022-10-10T13:17:56.799Z"
   },
   {
    "duration": 170,
    "start_time": "2022-10-10T13:17:57.154Z"
   },
   {
    "duration": 353,
    "start_time": "2022-10-10T13:17:57.325Z"
   },
   {
    "duration": 4,
    "start_time": "2022-10-10T13:17:57.680Z"
   },
   {
    "duration": 21,
    "start_time": "2022-10-10T13:17:57.685Z"
   },
   {
    "duration": 6,
    "start_time": "2022-10-10T13:17:57.708Z"
   },
   {
    "duration": 4,
    "start_time": "2022-10-10T13:17:57.717Z"
   },
   {
    "duration": 7,
    "start_time": "2022-10-10T13:17:57.722Z"
   },
   {
    "duration": 6,
    "start_time": "2022-10-10T13:17:57.730Z"
   },
   {
    "duration": 8,
    "start_time": "2022-10-10T13:17:57.738Z"
   },
   {
    "duration": 5,
    "start_time": "2022-10-10T13:17:57.747Z"
   },
   {
    "duration": 74,
    "start_time": "2022-10-10T13:17:57.754Z"
   },
   {
    "duration": 3,
    "start_time": "2022-10-10T13:17:57.829Z"
   },
   {
    "duration": 17,
    "start_time": "2022-10-10T13:17:57.833Z"
   },
   {
    "duration": 5,
    "start_time": "2022-10-10T13:17:57.852Z"
   },
   {
    "duration": 16,
    "start_time": "2022-10-10T13:17:57.859Z"
   },
   {
    "duration": 3,
    "start_time": "2022-10-10T13:17:57.876Z"
   },
   {
    "duration": 21,
    "start_time": "2022-10-10T13:17:57.880Z"
   },
   {
    "duration": 15,
    "start_time": "2022-10-10T13:17:57.902Z"
   },
   {
    "duration": 2,
    "start_time": "2022-10-10T13:17:57.919Z"
   },
   {
    "duration": 17,
    "start_time": "2022-10-10T13:17:57.922Z"
   },
   {
    "duration": 220,
    "start_time": "2022-10-10T13:17:57.940Z"
   },
   {
    "duration": 4193,
    "start_time": "2022-10-10T13:17:58.161Z"
   },
   {
    "duration": 928,
    "start_time": "2022-10-10T13:18:02.356Z"
   },
   {
    "duration": 37,
    "start_time": "2022-10-10T13:18:03.288Z"
   },
   {
    "duration": 203,
    "start_time": "2022-10-10T13:18:03.326Z"
   },
   {
    "duration": 3,
    "start_time": "2022-10-10T13:18:03.531Z"
   },
   {
    "duration": 8,
    "start_time": "2022-10-10T13:18:03.535Z"
   },
   {
    "duration": 30,
    "start_time": "2022-10-10T13:18:03.545Z"
   },
   {
    "duration": 3,
    "start_time": "2022-10-10T13:18:03.578Z"
   },
   {
    "duration": 3,
    "start_time": "2022-10-10T13:18:03.601Z"
   },
   {
    "duration": 11,
    "start_time": "2022-10-10T13:18:03.606Z"
   },
   {
    "duration": 18,
    "start_time": "2022-10-10T13:18:03.618Z"
   },
   {
    "duration": 7,
    "start_time": "2022-10-10T13:18:03.638Z"
   },
   {
    "duration": 7,
    "start_time": "2022-10-10T13:18:03.647Z"
   },
   {
    "duration": 6,
    "start_time": "2022-10-10T13:18:03.656Z"
   },
   {
    "duration": 4,
    "start_time": "2022-10-10T13:18:03.664Z"
   },
   {
    "duration": 10,
    "start_time": "2022-10-10T13:18:03.669Z"
   },
   {
    "duration": 11,
    "start_time": "2022-10-10T13:18:03.680Z"
   },
   {
    "duration": 4,
    "start_time": "2022-10-10T13:18:03.692Z"
   },
   {
    "duration": 14182,
    "start_time": "2022-10-10T13:18:03.697Z"
   },
   {
    "duration": 48824,
    "start_time": "2022-10-10T13:18:17.881Z"
   },
   {
    "duration": 1500,
    "start_time": "2022-10-10T13:19:06.706Z"
   },
   {
    "duration": 4,
    "start_time": "2022-10-10T13:19:08.208Z"
   },
   {
    "duration": 91,
    "start_time": "2022-10-10T13:19:08.213Z"
   },
   {
    "duration": 9291,
    "start_time": "2022-10-10T13:19:08.306Z"
   },
   {
    "duration": 1497,
    "start_time": "2022-10-10T13:19:29.900Z"
   },
   {
    "duration": 662,
    "start_time": "2022-10-10T13:19:31.399Z"
   },
   {
    "duration": 3,
    "start_time": "2022-10-10T13:19:32.062Z"
   },
   {
    "duration": 349,
    "start_time": "2022-10-10T13:19:32.067Z"
   },
   {
    "duration": 167,
    "start_time": "2022-10-10T13:19:32.418Z"
   },
   {
    "duration": 365,
    "start_time": "2022-10-10T13:19:32.587Z"
   },
   {
    "duration": 3,
    "start_time": "2022-10-10T13:19:32.954Z"
   },
   {
    "duration": 11,
    "start_time": "2022-10-10T13:19:32.958Z"
   },
   {
    "duration": 6,
    "start_time": "2022-10-10T13:19:32.970Z"
   },
   {
    "duration": 4,
    "start_time": "2022-10-10T13:19:32.977Z"
   },
   {
    "duration": 3,
    "start_time": "2022-10-10T13:19:33.000Z"
   },
   {
    "duration": 6,
    "start_time": "2022-10-10T13:19:33.005Z"
   },
   {
    "duration": 8,
    "start_time": "2022-10-10T13:19:33.013Z"
   },
   {
    "duration": 3,
    "start_time": "2022-10-10T13:19:33.024Z"
   },
   {
    "duration": 72,
    "start_time": "2022-10-10T13:19:33.029Z"
   },
   {
    "duration": 4,
    "start_time": "2022-10-10T13:19:33.103Z"
   },
   {
    "duration": 8,
    "start_time": "2022-10-10T13:19:33.109Z"
   },
   {
    "duration": 5,
    "start_time": "2022-10-10T13:19:33.119Z"
   },
   {
    "duration": 13,
    "start_time": "2022-10-10T13:19:33.126Z"
   },
   {
    "duration": 4,
    "start_time": "2022-10-10T13:19:33.140Z"
   },
   {
    "duration": 4,
    "start_time": "2022-10-10T13:19:33.145Z"
   },
   {
    "duration": 14,
    "start_time": "2022-10-10T13:19:33.151Z"
   },
   {
    "duration": 34,
    "start_time": "2022-10-10T13:19:33.167Z"
   },
   {
    "duration": 18,
    "start_time": "2022-10-10T13:19:33.203Z"
   },
   {
    "duration": 203,
    "start_time": "2022-10-10T13:19:33.223Z"
   },
   {
    "duration": 4470,
    "start_time": "2022-10-10T13:19:33.427Z"
   },
   {
    "duration": 928,
    "start_time": "2022-10-10T13:19:37.899Z"
   },
   {
    "duration": 30,
    "start_time": "2022-10-10T13:19:38.829Z"
   },
   {
    "duration": 381,
    "start_time": "2022-10-10T13:19:38.860Z"
   },
   {
    "duration": 3,
    "start_time": "2022-10-10T13:19:39.243Z"
   },
   {
    "duration": 4,
    "start_time": "2022-10-10T13:19:39.301Z"
   },
   {
    "duration": 32,
    "start_time": "2022-10-10T13:19:39.306Z"
   },
   {
    "duration": 3,
    "start_time": "2022-10-10T13:19:39.340Z"
   },
   {
    "duration": 55,
    "start_time": "2022-10-10T13:19:39.345Z"
   },
   {
    "duration": 5,
    "start_time": "2022-10-10T13:19:39.402Z"
   },
   {
    "duration": 6,
    "start_time": "2022-10-10T13:19:39.409Z"
   },
   {
    "duration": 6,
    "start_time": "2022-10-10T13:19:39.417Z"
   },
   {
    "duration": 5,
    "start_time": "2022-10-10T13:19:39.425Z"
   },
   {
    "duration": 5,
    "start_time": "2022-10-10T13:19:39.432Z"
   },
   {
    "duration": 10,
    "start_time": "2022-10-10T13:19:39.438Z"
   },
   {
    "duration": 47,
    "start_time": "2022-10-10T13:19:39.452Z"
   },
   {
    "duration": 9,
    "start_time": "2022-10-10T13:19:39.501Z"
   },
   {
    "duration": 8,
    "start_time": "2022-10-10T13:19:39.511Z"
   },
   {
    "duration": 13934,
    "start_time": "2022-10-10T13:19:39.520Z"
   },
   {
    "duration": 48919,
    "start_time": "2022-10-10T13:19:53.456Z"
   },
   {
    "duration": 1231,
    "start_time": "2022-10-10T13:20:42.376Z"
   },
   {
    "duration": 91,
    "start_time": "2022-10-10T13:20:43.610Z"
   },
   {
    "duration": 12,
    "start_time": "2022-10-10T13:20:43.703Z"
   },
   {
    "duration": 9257,
    "start_time": "2022-10-10T13:20:43.716Z"
   },
   {
    "duration": 1680,
    "start_time": "2022-10-10T15:04:29.375Z"
   },
   {
    "duration": 3017,
    "start_time": "2022-10-10T15:04:31.057Z"
   },
   {
    "duration": 3,
    "start_time": "2022-10-10T15:04:34.076Z"
   },
   {
    "duration": 359,
    "start_time": "2022-10-10T15:04:34.081Z"
   },
   {
    "duration": 166,
    "start_time": "2022-10-10T15:04:34.442Z"
   },
   {
    "duration": 362,
    "start_time": "2022-10-10T15:04:34.610Z"
   },
   {
    "duration": 4,
    "start_time": "2022-10-10T15:04:34.987Z"
   },
   {
    "duration": 14,
    "start_time": "2022-10-10T15:04:34.992Z"
   },
   {
    "duration": 7,
    "start_time": "2022-10-10T15:04:35.007Z"
   },
   {
    "duration": 5,
    "start_time": "2022-10-10T15:04:35.016Z"
   },
   {
    "duration": 7,
    "start_time": "2022-10-10T15:04:35.022Z"
   },
   {
    "duration": 8,
    "start_time": "2022-10-10T15:04:35.031Z"
   },
   {
    "duration": 12,
    "start_time": "2022-10-10T15:04:35.041Z"
   },
   {
    "duration": 20,
    "start_time": "2022-10-10T15:04:35.057Z"
   },
   {
    "duration": 61,
    "start_time": "2022-10-10T15:04:35.078Z"
   },
   {
    "duration": 4,
    "start_time": "2022-10-10T15:04:35.141Z"
   },
   {
    "duration": 11,
    "start_time": "2022-10-10T15:04:35.147Z"
   },
   {
    "duration": 29,
    "start_time": "2022-10-10T15:04:35.160Z"
   },
   {
    "duration": 33,
    "start_time": "2022-10-10T15:04:35.191Z"
   },
   {
    "duration": 4,
    "start_time": "2022-10-10T15:04:35.226Z"
   },
   {
    "duration": 15,
    "start_time": "2022-10-10T15:04:35.232Z"
   },
   {
    "duration": 28,
    "start_time": "2022-10-10T15:04:35.249Z"
   },
   {
    "duration": 3,
    "start_time": "2022-10-10T15:04:35.279Z"
   },
   {
    "duration": 39,
    "start_time": "2022-10-10T15:04:35.284Z"
   },
   {
    "duration": 209,
    "start_time": "2022-10-10T15:04:35.325Z"
   },
   {
    "duration": 4374,
    "start_time": "2022-10-10T15:04:35.536Z"
   },
   {
    "duration": 990,
    "start_time": "2022-10-10T15:04:39.912Z"
   },
   {
    "duration": 30,
    "start_time": "2022-10-10T15:04:40.903Z"
   },
   {
    "duration": 215,
    "start_time": "2022-10-10T15:04:40.934Z"
   },
   {
    "duration": 3,
    "start_time": "2022-10-10T15:04:41.150Z"
   },
   {
    "duration": 8,
    "start_time": "2022-10-10T15:04:41.155Z"
   },
   {
    "duration": 43,
    "start_time": "2022-10-10T15:04:41.164Z"
   },
   {
    "duration": 4,
    "start_time": "2022-10-10T15:04:41.209Z"
   },
   {
    "duration": 11,
    "start_time": "2022-10-10T15:04:41.214Z"
   },
   {
    "duration": 6,
    "start_time": "2022-10-10T15:04:41.226Z"
   },
   {
    "duration": 7,
    "start_time": "2022-10-10T15:04:41.234Z"
   },
   {
    "duration": 7,
    "start_time": "2022-10-10T15:04:41.242Z"
   },
   {
    "duration": 8,
    "start_time": "2022-10-10T15:04:41.250Z"
   },
   {
    "duration": 17,
    "start_time": "2022-10-10T15:04:41.259Z"
   },
   {
    "duration": 3,
    "start_time": "2022-10-10T15:04:41.278Z"
   },
   {
    "duration": 8,
    "start_time": "2022-10-10T15:04:41.285Z"
   },
   {
    "duration": 10,
    "start_time": "2022-10-10T15:04:41.294Z"
   },
   {
    "duration": 4,
    "start_time": "2022-10-10T15:04:41.306Z"
   },
   {
    "duration": 14206,
    "start_time": "2022-10-10T15:04:41.311Z"
   },
   {
    "duration": 50579,
    "start_time": "2022-10-10T15:04:55.519Z"
   },
   {
    "duration": 1880,
    "start_time": "2022-10-10T15:05:46.100Z"
   },
   {
    "duration": 4,
    "start_time": "2022-10-10T15:05:47.982Z"
   },
   {
    "duration": 10,
    "start_time": "2022-10-10T15:05:47.987Z"
   },
   {
    "duration": 9552,
    "start_time": "2022-10-10T15:05:47.998Z"
   },
   {
    "duration": 1747,
    "start_time": "2022-10-10T16:02:37.745Z"
   },
   {
    "duration": 2999,
    "start_time": "2022-10-10T16:02:39.494Z"
   },
   {
    "duration": 4,
    "start_time": "2022-10-10T16:02:42.495Z"
   },
   {
    "duration": 403,
    "start_time": "2022-10-10T16:02:42.501Z"
   },
   {
    "duration": 185,
    "start_time": "2022-10-10T16:02:42.906Z"
   },
   {
    "duration": 382,
    "start_time": "2022-10-10T16:02:43.093Z"
   },
   {
    "duration": 3,
    "start_time": "2022-10-10T16:02:43.477Z"
   },
   {
    "duration": 18,
    "start_time": "2022-10-10T16:02:43.482Z"
   },
   {
    "duration": 8,
    "start_time": "2022-10-10T16:02:43.502Z"
   },
   {
    "duration": 5,
    "start_time": "2022-10-10T16:02:43.512Z"
   },
   {
    "duration": 10,
    "start_time": "2022-10-10T16:02:43.518Z"
   },
   {
    "duration": 6,
    "start_time": "2022-10-10T16:02:43.529Z"
   },
   {
    "duration": 34,
    "start_time": "2022-10-10T16:02:43.536Z"
   },
   {
    "duration": 5,
    "start_time": "2022-10-10T16:02:43.572Z"
   },
   {
    "duration": 84,
    "start_time": "2022-10-10T16:02:43.579Z"
   },
   {
    "duration": 3,
    "start_time": "2022-10-10T16:02:43.665Z"
   },
   {
    "duration": 13,
    "start_time": "2022-10-10T16:02:43.670Z"
   },
   {
    "duration": 7,
    "start_time": "2022-10-10T16:02:43.684Z"
   },
   {
    "duration": 20,
    "start_time": "2022-10-10T16:02:43.693Z"
   },
   {
    "duration": 4,
    "start_time": "2022-10-10T16:02:43.714Z"
   },
   {
    "duration": 11,
    "start_time": "2022-10-10T16:02:43.720Z"
   },
   {
    "duration": 32,
    "start_time": "2022-10-10T16:02:43.733Z"
   },
   {
    "duration": 6,
    "start_time": "2022-10-10T16:02:43.767Z"
   },
   {
    "duration": 20,
    "start_time": "2022-10-10T16:02:43.774Z"
   },
   {
    "duration": 272,
    "start_time": "2022-10-10T16:02:43.796Z"
   },
   {
    "duration": 4961,
    "start_time": "2022-10-10T16:02:44.070Z"
   },
   {
    "duration": 1092,
    "start_time": "2022-10-10T16:02:49.033Z"
   },
   {
    "duration": 41,
    "start_time": "2022-10-10T16:02:50.128Z"
   },
   {
    "duration": 232,
    "start_time": "2022-10-10T16:02:50.170Z"
   },
   {
    "duration": 3,
    "start_time": "2022-10-10T16:02:50.405Z"
   },
   {
    "duration": 21,
    "start_time": "2022-10-10T16:02:50.410Z"
   },
   {
    "duration": 50,
    "start_time": "2022-10-10T16:02:50.433Z"
   },
   {
    "duration": 5,
    "start_time": "2022-10-10T16:02:50.484Z"
   },
   {
    "duration": 5,
    "start_time": "2022-10-10T16:02:50.490Z"
   },
   {
    "duration": 6,
    "start_time": "2022-10-10T16:02:50.496Z"
   },
   {
    "duration": 8,
    "start_time": "2022-10-10T16:02:50.503Z"
   },
   {
    "duration": 18,
    "start_time": "2022-10-10T16:02:50.512Z"
   },
   {
    "duration": 12,
    "start_time": "2022-10-10T16:02:50.532Z"
   },
   {
    "duration": 11,
    "start_time": "2022-10-10T16:02:50.546Z"
   },
   {
    "duration": 8,
    "start_time": "2022-10-10T16:02:50.558Z"
   },
   {
    "duration": 7,
    "start_time": "2022-10-10T16:02:50.567Z"
   },
   {
    "duration": 16,
    "start_time": "2022-10-10T16:02:50.576Z"
   },
   {
    "duration": 2,
    "start_time": "2022-10-10T16:02:50.594Z"
   },
   {
    "duration": 16077,
    "start_time": "2022-10-10T16:02:50.598Z"
   },
   {
    "duration": 55404,
    "start_time": "2022-10-10T16:03:06.677Z"
   },
   {
    "duration": 1473,
    "start_time": "2022-10-10T16:04:02.082Z"
   },
   {
    "duration": 4,
    "start_time": "2022-10-10T16:04:03.557Z"
   },
   {
    "duration": 17,
    "start_time": "2022-10-10T16:04:03.564Z"
   },
   {
    "duration": 10231,
    "start_time": "2022-10-10T16:04:03.582Z"
   },
   {
    "duration": 11438,
    "start_time": "2022-10-10T16:04:34.882Z"
   },
   {
    "duration": 3833,
    "start_time": "2022-10-10T16:04:47.748Z"
   },
   {
    "duration": 3945,
    "start_time": "2022-10-10T16:05:08.825Z"
   },
   {
    "duration": 1410,
    "start_time": "2022-10-10T17:32:38.674Z"
   },
   {
    "duration": 2881,
    "start_time": "2022-10-10T17:32:40.086Z"
   },
   {
    "duration": 4,
    "start_time": "2022-10-10T17:32:42.969Z"
   },
   {
    "duration": 358,
    "start_time": "2022-10-10T17:32:42.974Z"
   },
   {
    "duration": 153,
    "start_time": "2022-10-10T17:32:43.335Z"
   },
   {
    "duration": 346,
    "start_time": "2022-10-10T17:32:43.489Z"
   },
   {
    "duration": 3,
    "start_time": "2022-10-10T17:32:43.837Z"
   },
   {
    "duration": 13,
    "start_time": "2022-10-10T17:32:43.842Z"
   },
   {
    "duration": 6,
    "start_time": "2022-10-10T17:32:43.857Z"
   },
   {
    "duration": 4,
    "start_time": "2022-10-10T17:32:43.865Z"
   },
   {
    "duration": 7,
    "start_time": "2022-10-10T17:32:43.870Z"
   },
   {
    "duration": 6,
    "start_time": "2022-10-10T17:32:43.879Z"
   },
   {
    "duration": 7,
    "start_time": "2022-10-10T17:32:43.910Z"
   },
   {
    "duration": 3,
    "start_time": "2022-10-10T17:32:43.922Z"
   },
   {
    "duration": 57,
    "start_time": "2022-10-10T17:32:43.926Z"
   },
   {
    "duration": 26,
    "start_time": "2022-10-10T17:32:43.984Z"
   },
   {
    "duration": 11,
    "start_time": "2022-10-10T17:32:44.012Z"
   },
   {
    "duration": 6,
    "start_time": "2022-10-10T17:32:44.025Z"
   },
   {
    "duration": 19,
    "start_time": "2022-10-10T17:32:44.033Z"
   },
   {
    "duration": 3,
    "start_time": "2022-10-10T17:32:44.054Z"
   },
   {
    "duration": 6,
    "start_time": "2022-10-10T17:32:44.058Z"
   },
   {
    "duration": 14,
    "start_time": "2022-10-10T17:32:44.066Z"
   },
   {
    "duration": 27,
    "start_time": "2022-10-10T17:32:44.082Z"
   },
   {
    "duration": 19,
    "start_time": "2022-10-10T17:32:44.111Z"
   },
   {
    "duration": 201,
    "start_time": "2022-10-10T17:32:44.131Z"
   },
   {
    "duration": 3976,
    "start_time": "2022-10-10T17:32:44.333Z"
   },
   {
    "duration": 874,
    "start_time": "2022-10-10T17:32:48.310Z"
   },
   {
    "duration": 31,
    "start_time": "2022-10-10T17:32:49.186Z"
   },
   {
    "duration": 211,
    "start_time": "2022-10-10T17:32:49.219Z"
   },
   {
    "duration": 3,
    "start_time": "2022-10-10T17:32:49.432Z"
   },
   {
    "duration": 9,
    "start_time": "2022-10-10T17:32:49.436Z"
   },
   {
    "duration": 31,
    "start_time": "2022-10-10T17:32:49.446Z"
   },
   {
    "duration": 4,
    "start_time": "2022-10-10T17:32:49.479Z"
   },
   {
    "duration": 5,
    "start_time": "2022-10-10T17:32:49.484Z"
   },
   {
    "duration": 2,
    "start_time": "2022-10-10T17:32:49.509Z"
   },
   {
    "duration": 7,
    "start_time": "2022-10-10T17:32:49.513Z"
   },
   {
    "duration": 5,
    "start_time": "2022-10-10T17:32:49.521Z"
   },
   {
    "duration": 4,
    "start_time": "2022-10-10T17:32:49.528Z"
   },
   {
    "duration": 5,
    "start_time": "2022-10-10T17:32:49.533Z"
   },
   {
    "duration": 6,
    "start_time": "2022-10-10T17:32:49.539Z"
   },
   {
    "duration": 2,
    "start_time": "2022-10-10T17:32:49.548Z"
   },
   {
    "duration": 9,
    "start_time": "2022-10-10T17:32:49.552Z"
   },
   {
    "duration": 3,
    "start_time": "2022-10-10T17:32:49.563Z"
   },
   {
    "duration": 17559,
    "start_time": "2022-10-10T17:32:49.567Z"
   },
   {
    "duration": 60730,
    "start_time": "2022-10-10T17:33:07.128Z"
   },
   {
    "duration": 1450,
    "start_time": "2022-10-10T17:34:07.860Z"
   },
   {
    "duration": 3,
    "start_time": "2022-10-10T17:34:09.312Z"
   },
   {
    "duration": 10,
    "start_time": "2022-10-10T17:34:09.316Z"
   },
   {
    "duration": 4143,
    "start_time": "2022-10-10T17:34:09.328Z"
   },
   {
    "duration": 249270,
    "start_time": "2022-10-10T17:34:53.871Z"
   },
   {
    "duration": 1582,
    "start_time": "2022-10-10T17:39:03.143Z"
   },
   {
    "duration": 228,
    "start_time": "2022-10-10T17:39:04.727Z"
   },
   {
    "duration": 0,
    "start_time": "2022-10-10T17:39:04.956Z"
   },
   {
    "duration": 15,
    "start_time": "2022-10-10T17:39:31.894Z"
   },
   {
    "duration": 1508,
    "start_time": "2022-10-10T17:40:01.056Z"
   },
   {
    "duration": 665,
    "start_time": "2022-10-10T17:40:02.566Z"
   },
   {
    "duration": 4,
    "start_time": "2022-10-10T17:40:03.232Z"
   },
   {
    "duration": 367,
    "start_time": "2022-10-10T17:40:03.237Z"
   },
   {
    "duration": 163,
    "start_time": "2022-10-10T17:40:03.606Z"
   },
   {
    "duration": 372,
    "start_time": "2022-10-10T17:40:03.771Z"
   },
   {
    "duration": 4,
    "start_time": "2022-10-10T17:40:04.144Z"
   },
   {
    "duration": 11,
    "start_time": "2022-10-10T17:40:04.149Z"
   },
   {
    "duration": 7,
    "start_time": "2022-10-10T17:40:04.162Z"
   },
   {
    "duration": 6,
    "start_time": "2022-10-10T17:40:04.170Z"
   },
   {
    "duration": 14,
    "start_time": "2022-10-10T17:40:04.177Z"
   },
   {
    "duration": 4,
    "start_time": "2022-10-10T17:40:04.209Z"
   },
   {
    "duration": 8,
    "start_time": "2022-10-10T17:40:04.215Z"
   },
   {
    "duration": 4,
    "start_time": "2022-10-10T17:40:04.226Z"
   },
   {
    "duration": 91,
    "start_time": "2022-10-10T17:40:04.231Z"
   },
   {
    "duration": 4,
    "start_time": "2022-10-10T17:40:04.324Z"
   },
   {
    "duration": 11,
    "start_time": "2022-10-10T17:40:04.329Z"
   },
   {
    "duration": 7,
    "start_time": "2022-10-10T17:40:04.342Z"
   },
   {
    "duration": 21,
    "start_time": "2022-10-10T17:40:04.351Z"
   },
   {
    "duration": 4,
    "start_time": "2022-10-10T17:40:04.373Z"
   },
   {
    "duration": 36,
    "start_time": "2022-10-10T17:40:04.378Z"
   },
   {
    "duration": 26,
    "start_time": "2022-10-10T17:40:04.417Z"
   },
   {
    "duration": 16,
    "start_time": "2022-10-10T17:40:04.445Z"
   },
   {
    "duration": 45,
    "start_time": "2022-10-10T17:40:04.463Z"
   },
   {
    "duration": 280,
    "start_time": "2022-10-10T17:40:04.510Z"
   },
   {
    "duration": 4128,
    "start_time": "2022-10-10T17:40:04.792Z"
   },
   {
    "duration": 912,
    "start_time": "2022-10-10T17:40:08.922Z"
   },
   {
    "duration": 26,
    "start_time": "2022-10-10T17:40:09.835Z"
   },
   {
    "duration": 212,
    "start_time": "2022-10-10T17:40:09.863Z"
   },
   {
    "duration": 3,
    "start_time": "2022-10-10T17:40:10.076Z"
   },
   {
    "duration": 11,
    "start_time": "2022-10-10T17:40:10.081Z"
   },
   {
    "duration": 36,
    "start_time": "2022-10-10T17:40:10.093Z"
   },
   {
    "duration": 4,
    "start_time": "2022-10-10T17:40:10.130Z"
   },
   {
    "duration": 8,
    "start_time": "2022-10-10T17:40:10.135Z"
   },
   {
    "duration": 7,
    "start_time": "2022-10-10T17:40:10.144Z"
   },
   {
    "duration": 5,
    "start_time": "2022-10-10T17:40:10.153Z"
   },
   {
    "duration": 7,
    "start_time": "2022-10-10T17:40:10.160Z"
   },
   {
    "duration": 6,
    "start_time": "2022-10-10T17:40:10.168Z"
   },
   {
    "duration": 18,
    "start_time": "2022-10-10T17:40:10.176Z"
   },
   {
    "duration": 7,
    "start_time": "2022-10-10T17:40:10.195Z"
   },
   {
    "duration": 4,
    "start_time": "2022-10-10T17:40:10.208Z"
   },
   {
    "duration": 10,
    "start_time": "2022-10-10T17:40:10.214Z"
   },
   {
    "duration": 8,
    "start_time": "2022-10-10T17:40:10.226Z"
   },
   {
    "duration": 16396,
    "start_time": "2022-10-10T17:40:10.236Z"
   },
   {
    "duration": 251300,
    "start_time": "2022-10-10T17:40:26.634Z"
   },
   {
    "duration": 1786,
    "start_time": "2022-10-10T17:44:37.936Z"
   },
   {
    "duration": 4,
    "start_time": "2022-10-10T17:44:39.724Z"
   },
   {
    "duration": 12,
    "start_time": "2022-10-10T17:44:39.729Z"
   },
   {
    "duration": 4263,
    "start_time": "2022-10-10T17:44:39.743Z"
   },
   {
    "duration": 4,
    "start_time": "2022-10-10T17:49:00.984Z"
   },
   {
    "duration": 1349,
    "start_time": "2022-10-10T17:50:09.285Z"
   },
   {
    "duration": 682,
    "start_time": "2022-10-10T17:50:10.636Z"
   },
   {
    "duration": 3,
    "start_time": "2022-10-10T17:50:11.320Z"
   },
   {
    "duration": 375,
    "start_time": "2022-10-10T17:50:11.324Z"
   },
   {
    "duration": 175,
    "start_time": "2022-10-10T17:50:11.701Z"
   },
   {
    "duration": 337,
    "start_time": "2022-10-10T17:50:11.877Z"
   },
   {
    "duration": 3,
    "start_time": "2022-10-10T17:50:12.216Z"
   },
   {
    "duration": 12,
    "start_time": "2022-10-10T17:50:12.220Z"
   },
   {
    "duration": 4,
    "start_time": "2022-10-10T17:50:12.234Z"
   },
   {
    "duration": 6,
    "start_time": "2022-10-10T17:50:12.241Z"
   },
   {
    "duration": 5,
    "start_time": "2022-10-10T17:50:12.248Z"
   },
   {
    "duration": 15,
    "start_time": "2022-10-10T17:50:12.254Z"
   },
   {
    "duration": 9,
    "start_time": "2022-10-10T17:50:12.270Z"
   },
   {
    "duration": 12,
    "start_time": "2022-10-10T17:50:12.280Z"
   },
   {
    "duration": 61,
    "start_time": "2022-10-10T17:50:12.293Z"
   },
   {
    "duration": 3,
    "start_time": "2022-10-10T17:50:12.355Z"
   },
   {
    "duration": 11,
    "start_time": "2022-10-10T17:50:12.359Z"
   },
   {
    "duration": 10,
    "start_time": "2022-10-10T17:50:12.372Z"
   },
   {
    "duration": 26,
    "start_time": "2022-10-10T17:50:12.384Z"
   },
   {
    "duration": 4,
    "start_time": "2022-10-10T17:50:12.411Z"
   },
   {
    "duration": 18,
    "start_time": "2022-10-10T17:50:12.416Z"
   },
   {
    "duration": 29,
    "start_time": "2022-10-10T17:50:12.435Z"
   },
   {
    "duration": 4,
    "start_time": "2022-10-10T17:50:12.466Z"
   },
   {
    "duration": 17,
    "start_time": "2022-10-10T17:50:12.471Z"
   },
   {
    "duration": 197,
    "start_time": "2022-10-10T17:50:12.489Z"
   },
   {
    "duration": 5153,
    "start_time": "2022-10-10T17:50:12.688Z"
   },
   {
    "duration": 903,
    "start_time": "2022-10-10T17:50:17.842Z"
   },
   {
    "duration": 26,
    "start_time": "2022-10-10T17:50:18.748Z"
   },
   {
    "duration": 221,
    "start_time": "2022-10-10T17:50:18.776Z"
   },
   {
    "duration": 3,
    "start_time": "2022-10-10T17:50:18.999Z"
   },
   {
    "duration": 5,
    "start_time": "2022-10-10T17:50:19.009Z"
   },
   {
    "duration": 35,
    "start_time": "2022-10-10T17:50:19.016Z"
   },
   {
    "duration": 4,
    "start_time": "2022-10-10T17:50:19.053Z"
   },
   {
    "duration": 5,
    "start_time": "2022-10-10T17:50:19.059Z"
   },
   {
    "duration": 5,
    "start_time": "2022-10-10T17:50:19.066Z"
   },
   {
    "duration": 9,
    "start_time": "2022-10-10T17:50:19.072Z"
   },
   {
    "duration": 27,
    "start_time": "2022-10-10T17:50:19.083Z"
   },
   {
    "duration": 4,
    "start_time": "2022-10-10T17:50:19.112Z"
   },
   {
    "duration": 6,
    "start_time": "2022-10-10T17:50:19.117Z"
   },
   {
    "duration": 8,
    "start_time": "2022-10-10T17:50:19.124Z"
   },
   {
    "duration": 5,
    "start_time": "2022-10-10T17:50:19.133Z"
   },
   {
    "duration": 13,
    "start_time": "2022-10-10T17:50:19.140Z"
   },
   {
    "duration": 3,
    "start_time": "2022-10-10T17:50:19.155Z"
   },
   {
    "duration": 16974,
    "start_time": "2022-10-10T17:50:19.159Z"
   },
   {
    "duration": 1308,
    "start_time": "2022-10-10T17:51:52.087Z"
   },
   {
    "duration": 708,
    "start_time": "2022-10-10T17:51:53.397Z"
   },
   {
    "duration": 17,
    "start_time": "2022-10-10T17:51:54.106Z"
   },
   {
    "duration": 494,
    "start_time": "2022-10-10T17:51:54.125Z"
   },
   {
    "duration": 324,
    "start_time": "2022-10-10T17:51:54.621Z"
   },
   {
    "duration": 782,
    "start_time": "2022-10-10T17:51:54.946Z"
   },
   {
    "duration": 4,
    "start_time": "2022-10-10T17:51:55.729Z"
   },
   {
    "duration": 10,
    "start_time": "2022-10-10T17:51:55.734Z"
   },
   {
    "duration": 4,
    "start_time": "2022-10-10T17:51:55.746Z"
   },
   {
    "duration": 72,
    "start_time": "2022-10-10T17:51:55.753Z"
   },
   {
    "duration": 9,
    "start_time": "2022-10-10T17:51:55.827Z"
   },
   {
    "duration": 5,
    "start_time": "2022-10-10T17:51:55.838Z"
   },
   {
    "duration": 8,
    "start_time": "2022-10-10T17:51:55.845Z"
   },
   {
    "duration": 6,
    "start_time": "2022-10-10T17:51:55.855Z"
   },
   {
    "duration": 161,
    "start_time": "2022-10-10T17:51:55.862Z"
   },
   {
    "duration": 4,
    "start_time": "2022-10-10T17:51:56.024Z"
   },
   {
    "duration": 8,
    "start_time": "2022-10-10T17:51:56.030Z"
   },
   {
    "duration": 8,
    "start_time": "2022-10-10T17:51:56.039Z"
   },
   {
    "duration": 68,
    "start_time": "2022-10-10T17:51:56.048Z"
   },
   {
    "duration": 4,
    "start_time": "2022-10-10T17:51:56.120Z"
   },
   {
    "duration": 5,
    "start_time": "2022-10-10T17:51:56.126Z"
   },
   {
    "duration": 19,
    "start_time": "2022-10-10T17:51:56.132Z"
   },
   {
    "duration": 3,
    "start_time": "2022-10-10T17:51:56.153Z"
   },
   {
    "duration": 76,
    "start_time": "2022-10-10T17:51:56.157Z"
   },
   {
    "duration": 354,
    "start_time": "2022-10-10T17:51:56.234Z"
   },
   {
    "duration": 4358,
    "start_time": "2022-10-10T17:51:56.590Z"
   },
   {
    "duration": 941,
    "start_time": "2022-10-10T17:52:00.950Z"
   },
   {
    "duration": 34,
    "start_time": "2022-10-10T17:52:01.894Z"
   },
   {
    "duration": 214,
    "start_time": "2022-10-10T17:52:01.929Z"
   },
   {
    "duration": 3,
    "start_time": "2022-10-10T17:52:02.145Z"
   },
   {
    "duration": 6,
    "start_time": "2022-10-10T17:52:02.149Z"
   },
   {
    "duration": 30,
    "start_time": "2022-10-10T17:52:02.157Z"
   },
   {
    "duration": 3,
    "start_time": "2022-10-10T17:52:02.188Z"
   },
   {
    "duration": 26,
    "start_time": "2022-10-10T17:52:02.193Z"
   },
   {
    "duration": 6,
    "start_time": "2022-10-10T17:52:02.220Z"
   },
   {
    "duration": 5,
    "start_time": "2022-10-10T17:52:02.228Z"
   },
   {
    "duration": 27,
    "start_time": "2022-10-10T17:52:02.235Z"
   },
   {
    "duration": 17,
    "start_time": "2022-10-10T17:52:02.263Z"
   },
   {
    "duration": 5,
    "start_time": "2022-10-10T17:52:02.281Z"
   },
   {
    "duration": 5,
    "start_time": "2022-10-10T17:52:02.287Z"
   },
   {
    "duration": 7,
    "start_time": "2022-10-10T17:52:02.293Z"
   },
   {
    "duration": 25,
    "start_time": "2022-10-10T17:52:02.301Z"
   },
   {
    "duration": 4,
    "start_time": "2022-10-10T17:52:02.328Z"
   },
   {
    "duration": 17294,
    "start_time": "2022-10-10T17:52:02.333Z"
   },
   {
    "duration": 1340,
    "start_time": "2022-10-10T18:01:24.876Z"
   },
   {
    "duration": 703,
    "start_time": "2022-10-10T18:01:26.218Z"
   },
   {
    "duration": 3,
    "start_time": "2022-10-10T18:01:26.923Z"
   },
   {
    "duration": 371,
    "start_time": "2022-10-10T18:01:26.928Z"
   },
   {
    "duration": 154,
    "start_time": "2022-10-10T18:01:27.309Z"
   },
   {
    "duration": 360,
    "start_time": "2022-10-10T18:01:27.465Z"
   },
   {
    "duration": 3,
    "start_time": "2022-10-10T18:01:27.827Z"
   },
   {
    "duration": 16,
    "start_time": "2022-10-10T18:01:27.832Z"
   },
   {
    "duration": 6,
    "start_time": "2022-10-10T18:01:27.849Z"
   },
   {
    "duration": 9,
    "start_time": "2022-10-10T18:01:27.858Z"
   },
   {
    "duration": 13,
    "start_time": "2022-10-10T18:01:27.869Z"
   },
   {
    "duration": 28,
    "start_time": "2022-10-10T18:01:27.884Z"
   },
   {
    "duration": 18,
    "start_time": "2022-10-10T18:01:27.913Z"
   },
   {
    "duration": 7,
    "start_time": "2022-10-10T18:01:27.932Z"
   },
   {
    "duration": 67,
    "start_time": "2022-10-10T18:01:27.941Z"
   },
   {
    "duration": 3,
    "start_time": "2022-10-10T18:01:28.010Z"
   },
   {
    "duration": 10,
    "start_time": "2022-10-10T18:01:28.014Z"
   },
   {
    "duration": 8,
    "start_time": "2022-10-10T18:01:28.025Z"
   },
   {
    "duration": 15,
    "start_time": "2022-10-10T18:01:28.034Z"
   },
   {
    "duration": 3,
    "start_time": "2022-10-10T18:01:28.051Z"
   },
   {
    "duration": 5,
    "start_time": "2022-10-10T18:01:28.056Z"
   },
   {
    "duration": 47,
    "start_time": "2022-10-10T18:01:28.062Z"
   },
   {
    "duration": 3,
    "start_time": "2022-10-10T18:01:28.111Z"
   },
   {
    "duration": 17,
    "start_time": "2022-10-10T18:01:28.115Z"
   },
   {
    "duration": 223,
    "start_time": "2022-10-10T18:01:28.133Z"
   },
   {
    "duration": 4194,
    "start_time": "2022-10-10T18:01:28.357Z"
   },
   {
    "duration": 948,
    "start_time": "2022-10-10T18:01:32.552Z"
   },
   {
    "duration": 31,
    "start_time": "2022-10-10T18:01:33.503Z"
   },
   {
    "duration": 227,
    "start_time": "2022-10-10T18:01:33.536Z"
   },
   {
    "duration": 3,
    "start_time": "2022-10-10T18:01:33.765Z"
   },
   {
    "duration": 13,
    "start_time": "2022-10-10T18:01:33.769Z"
   },
   {
    "duration": 48,
    "start_time": "2022-10-10T18:01:33.784Z"
   },
   {
    "duration": 3,
    "start_time": "2022-10-10T18:01:33.834Z"
   },
   {
    "duration": 7,
    "start_time": "2022-10-10T18:01:33.839Z"
   },
   {
    "duration": 7,
    "start_time": "2022-10-10T18:01:33.847Z"
   },
   {
    "duration": 12,
    "start_time": "2022-10-10T18:01:33.856Z"
   },
   {
    "duration": 9,
    "start_time": "2022-10-10T18:01:33.869Z"
   },
   {
    "duration": 5,
    "start_time": "2022-10-10T18:01:33.879Z"
   },
   {
    "duration": 10,
    "start_time": "2022-10-10T18:01:33.886Z"
   },
   {
    "duration": 3,
    "start_time": "2022-10-10T18:01:33.908Z"
   },
   {
    "duration": 19,
    "start_time": "2022-10-10T18:01:33.912Z"
   },
   {
    "duration": 10,
    "start_time": "2022-10-10T18:01:33.933Z"
   },
   {
    "duration": 8,
    "start_time": "2022-10-10T18:01:33.944Z"
   },
   {
    "duration": 18385,
    "start_time": "2022-10-10T18:01:33.954Z"
   },
   {
    "duration": 1291,
    "start_time": "2022-10-10T18:11:48.663Z"
   },
   {
    "duration": 672,
    "start_time": "2022-10-10T18:11:49.956Z"
   },
   {
    "duration": 5,
    "start_time": "2022-10-10T18:11:50.630Z"
   },
   {
    "duration": 362,
    "start_time": "2022-10-10T18:11:50.637Z"
   },
   {
    "duration": 156,
    "start_time": "2022-10-10T18:11:51.001Z"
   },
   {
    "duration": 361,
    "start_time": "2022-10-10T18:11:51.159Z"
   },
   {
    "duration": 3,
    "start_time": "2022-10-10T18:11:51.522Z"
   },
   {
    "duration": 12,
    "start_time": "2022-10-10T18:11:51.526Z"
   },
   {
    "duration": 5,
    "start_time": "2022-10-10T18:11:51.540Z"
   },
   {
    "duration": 20,
    "start_time": "2022-10-10T18:11:51.547Z"
   },
   {
    "duration": 10,
    "start_time": "2022-10-10T18:11:51.568Z"
   },
   {
    "duration": 14,
    "start_time": "2022-10-10T18:11:51.580Z"
   },
   {
    "duration": 12,
    "start_time": "2022-10-10T18:11:51.595Z"
   },
   {
    "duration": 15,
    "start_time": "2022-10-10T18:11:51.608Z"
   },
   {
    "duration": 64,
    "start_time": "2022-10-10T18:11:51.624Z"
   },
   {
    "duration": 4,
    "start_time": "2022-10-10T18:11:51.690Z"
   },
   {
    "duration": 10,
    "start_time": "2022-10-10T18:11:51.696Z"
   },
   {
    "duration": 14,
    "start_time": "2022-10-10T18:11:51.708Z"
   },
   {
    "duration": 22,
    "start_time": "2022-10-10T18:11:51.724Z"
   },
   {
    "duration": 3,
    "start_time": "2022-10-10T18:11:51.748Z"
   },
   {
    "duration": 9,
    "start_time": "2022-10-10T18:11:51.752Z"
   },
   {
    "duration": 17,
    "start_time": "2022-10-10T18:11:51.762Z"
   },
   {
    "duration": 3,
    "start_time": "2022-10-10T18:11:51.780Z"
   },
   {
    "duration": 34,
    "start_time": "2022-10-10T18:11:51.784Z"
   },
   {
    "duration": 211,
    "start_time": "2022-10-10T18:11:51.820Z"
   },
   {
    "duration": 4092,
    "start_time": "2022-10-10T18:11:52.033Z"
   },
   {
    "duration": 908,
    "start_time": "2022-10-10T18:11:56.126Z"
   },
   {
    "duration": 25,
    "start_time": "2022-10-10T18:11:57.037Z"
   },
   {
    "duration": 217,
    "start_time": "2022-10-10T18:11:57.064Z"
   },
   {
    "duration": 3,
    "start_time": "2022-10-10T18:11:57.283Z"
   },
   {
    "duration": 11,
    "start_time": "2022-10-10T18:11:57.288Z"
   },
   {
    "duration": 48,
    "start_time": "2022-10-10T18:11:57.300Z"
   },
   {
    "duration": 4,
    "start_time": "2022-10-10T18:11:57.350Z"
   },
   {
    "duration": 19,
    "start_time": "2022-10-10T18:11:57.355Z"
   },
   {
    "duration": 28,
    "start_time": "2022-10-10T18:11:57.375Z"
   },
   {
    "duration": 8,
    "start_time": "2022-10-10T18:11:57.405Z"
   },
   {
    "duration": 13,
    "start_time": "2022-10-10T18:11:57.414Z"
   },
   {
    "duration": 29,
    "start_time": "2022-10-10T18:11:57.428Z"
   },
   {
    "duration": 5,
    "start_time": "2022-10-10T18:11:57.459Z"
   },
   {
    "duration": 4,
    "start_time": "2022-10-10T18:11:57.466Z"
   },
   {
    "duration": 5,
    "start_time": "2022-10-10T18:11:57.471Z"
   },
   {
    "duration": 11,
    "start_time": "2022-10-10T18:11:57.477Z"
   },
   {
    "duration": 10,
    "start_time": "2022-10-10T18:11:57.490Z"
   },
   {
    "duration": 16590,
    "start_time": "2022-10-10T18:11:57.501Z"
   },
   {
    "duration": 70102,
    "start_time": "2022-10-10T18:12:14.093Z"
   },
   {
    "duration": 1521,
    "start_time": "2022-10-10T18:13:24.197Z"
   },
   {
    "duration": 4,
    "start_time": "2022-10-10T18:13:25.810Z"
   },
   {
    "duration": 95,
    "start_time": "2022-10-10T18:13:25.815Z"
   },
   {
    "duration": 4182,
    "start_time": "2022-10-10T18:13:25.912Z"
   },
   {
    "duration": 104991,
    "start_time": "2022-10-10T18:15:53.874Z"
   },
   {
    "duration": 1746,
    "start_time": "2022-10-10T19:30:37.531Z"
   },
   {
    "duration": 3140,
    "start_time": "2022-10-10T19:30:39.280Z"
   },
   {
    "duration": 3,
    "start_time": "2022-10-10T19:30:42.423Z"
   },
   {
    "duration": 437,
    "start_time": "2022-10-10T19:30:42.428Z"
   },
   {
    "duration": 187,
    "start_time": "2022-10-10T19:30:42.867Z"
   },
   {
    "duration": 442,
    "start_time": "2022-10-10T19:30:43.055Z"
   },
   {
    "duration": 3,
    "start_time": "2022-10-10T19:30:43.499Z"
   },
   {
    "duration": 15,
    "start_time": "2022-10-10T19:30:43.504Z"
   },
   {
    "duration": 6,
    "start_time": "2022-10-10T19:30:43.521Z"
   },
   {
    "duration": 11,
    "start_time": "2022-10-10T19:30:43.529Z"
   },
   {
    "duration": 15,
    "start_time": "2022-10-10T19:30:43.542Z"
   },
   {
    "duration": 7,
    "start_time": "2022-10-10T19:30:43.558Z"
   },
   {
    "duration": 13,
    "start_time": "2022-10-10T19:30:43.567Z"
   },
   {
    "duration": 13,
    "start_time": "2022-10-10T19:30:43.583Z"
   },
   {
    "duration": 78,
    "start_time": "2022-10-10T19:30:43.598Z"
   },
   {
    "duration": 4,
    "start_time": "2022-10-10T19:30:43.678Z"
   },
   {
    "duration": 18,
    "start_time": "2022-10-10T19:30:43.683Z"
   },
   {
    "duration": 7,
    "start_time": "2022-10-10T19:30:43.703Z"
   },
   {
    "duration": 26,
    "start_time": "2022-10-10T19:30:43.712Z"
   },
   {
    "duration": 14,
    "start_time": "2022-10-10T19:30:43.740Z"
   },
   {
    "duration": 5,
    "start_time": "2022-10-10T19:30:43.755Z"
   },
   {
    "duration": 19,
    "start_time": "2022-10-10T19:30:43.762Z"
   },
   {
    "duration": 4,
    "start_time": "2022-10-10T19:30:43.783Z"
   },
   {
    "duration": 26,
    "start_time": "2022-10-10T19:30:43.788Z"
   },
   {
    "duration": 292,
    "start_time": "2022-10-10T19:30:43.815Z"
   },
   {
    "duration": 4928,
    "start_time": "2022-10-10T19:30:44.110Z"
   },
   {
    "duration": 1084,
    "start_time": "2022-10-10T19:30:49.040Z"
   },
   {
    "duration": 39,
    "start_time": "2022-10-10T19:30:50.126Z"
   },
   {
    "duration": 226,
    "start_time": "2022-10-10T19:30:50.167Z"
   },
   {
    "duration": 3,
    "start_time": "2022-10-10T19:30:50.395Z"
   },
   {
    "duration": 7,
    "start_time": "2022-10-10T19:30:50.400Z"
   },
   {
    "duration": 50,
    "start_time": "2022-10-10T19:30:50.409Z"
   },
   {
    "duration": 4,
    "start_time": "2022-10-10T19:30:50.461Z"
   },
   {
    "duration": 6,
    "start_time": "2022-10-10T19:30:50.467Z"
   },
   {
    "duration": 8,
    "start_time": "2022-10-10T19:30:50.474Z"
   },
   {
    "duration": 7,
    "start_time": "2022-10-10T19:30:50.483Z"
   },
   {
    "duration": 23,
    "start_time": "2022-10-10T19:30:50.492Z"
   },
   {
    "duration": 7,
    "start_time": "2022-10-10T19:30:50.517Z"
   },
   {
    "duration": 8,
    "start_time": "2022-10-10T19:30:50.526Z"
   },
   {
    "duration": 8,
    "start_time": "2022-10-10T19:30:50.535Z"
   },
   {
    "duration": 4,
    "start_time": "2022-10-10T19:30:50.547Z"
   },
   {
    "duration": 14,
    "start_time": "2022-10-10T19:30:50.552Z"
   },
   {
    "duration": 14,
    "start_time": "2022-10-10T19:30:50.568Z"
   },
   {
    "duration": 14977,
    "start_time": "2022-10-10T19:30:50.584Z"
   },
   {
    "duration": 1434,
    "start_time": "2022-10-10T19:34:19.834Z"
   },
   {
    "duration": 734,
    "start_time": "2022-10-10T19:34:21.271Z"
   },
   {
    "duration": 3,
    "start_time": "2022-10-10T19:34:22.007Z"
   },
   {
    "duration": 410,
    "start_time": "2022-10-10T19:34:22.012Z"
   },
   {
    "duration": 192,
    "start_time": "2022-10-10T19:34:22.424Z"
   },
   {
    "duration": 396,
    "start_time": "2022-10-10T19:34:22.618Z"
   },
   {
    "duration": 4,
    "start_time": "2022-10-10T19:34:23.017Z"
   },
   {
    "duration": 39,
    "start_time": "2022-10-10T19:34:23.023Z"
   },
   {
    "duration": 7,
    "start_time": "2022-10-10T19:34:23.064Z"
   },
   {
    "duration": 10,
    "start_time": "2022-10-10T19:34:23.074Z"
   },
   {
    "duration": 23,
    "start_time": "2022-10-10T19:34:23.085Z"
   },
   {
    "duration": 15,
    "start_time": "2022-10-10T19:34:23.111Z"
   },
   {
    "duration": 27,
    "start_time": "2022-10-10T19:34:23.128Z"
   },
   {
    "duration": 16,
    "start_time": "2022-10-10T19:34:23.157Z"
   },
   {
    "duration": 74,
    "start_time": "2022-10-10T19:34:23.175Z"
   },
   {
    "duration": 4,
    "start_time": "2022-10-10T19:34:23.250Z"
   },
   {
    "duration": 43,
    "start_time": "2022-10-10T19:34:23.255Z"
   },
   {
    "duration": 26,
    "start_time": "2022-10-10T19:34:23.301Z"
   },
   {
    "duration": 21,
    "start_time": "2022-10-10T19:34:23.329Z"
   },
   {
    "duration": 10,
    "start_time": "2022-10-10T19:34:23.352Z"
   },
   {
    "duration": 11,
    "start_time": "2022-10-10T19:34:23.364Z"
   },
   {
    "duration": 38,
    "start_time": "2022-10-10T19:34:23.377Z"
   },
   {
    "duration": 19,
    "start_time": "2022-10-10T19:34:23.416Z"
   },
   {
    "duration": 25,
    "start_time": "2022-10-10T19:34:23.437Z"
   },
   {
    "duration": 238,
    "start_time": "2022-10-10T19:34:23.464Z"
   },
   {
    "duration": 4961,
    "start_time": "2022-10-10T19:34:23.704Z"
   },
   {
    "duration": 1103,
    "start_time": "2022-10-10T19:34:28.667Z"
   },
   {
    "duration": 31,
    "start_time": "2022-10-10T19:34:29.774Z"
   },
   {
    "duration": 242,
    "start_time": "2022-10-10T19:34:29.807Z"
   },
   {
    "duration": 5,
    "start_time": "2022-10-10T19:34:30.051Z"
   },
   {
    "duration": 24,
    "start_time": "2022-10-10T19:34:30.058Z"
   },
   {
    "duration": 49,
    "start_time": "2022-10-10T19:34:30.084Z"
   },
   {
    "duration": 3,
    "start_time": "2022-10-10T19:34:30.136Z"
   },
   {
    "duration": 28,
    "start_time": "2022-10-10T19:34:30.141Z"
   },
   {
    "duration": 44,
    "start_time": "2022-10-10T19:34:30.171Z"
   },
   {
    "duration": 39,
    "start_time": "2022-10-10T19:34:30.217Z"
   },
   {
    "duration": 29,
    "start_time": "2022-10-10T19:34:30.259Z"
   },
   {
    "duration": 28,
    "start_time": "2022-10-10T19:34:30.291Z"
   },
   {
    "duration": 25,
    "start_time": "2022-10-10T19:34:30.321Z"
   },
   {
    "duration": 25,
    "start_time": "2022-10-10T19:34:30.348Z"
   },
   {
    "duration": 26,
    "start_time": "2022-10-10T19:34:30.375Z"
   },
   {
    "duration": 44,
    "start_time": "2022-10-10T19:34:30.403Z"
   },
   {
    "duration": 37,
    "start_time": "2022-10-10T19:34:30.449Z"
   },
   {
    "duration": 15428,
    "start_time": "2022-10-10T19:34:30.488Z"
   },
   {
    "duration": 1484,
    "start_time": "2022-10-10T19:35:31.228Z"
   },
   {
    "duration": 690,
    "start_time": "2022-10-10T19:35:32.714Z"
   },
   {
    "duration": 3,
    "start_time": "2022-10-10T19:35:33.406Z"
   },
   {
    "duration": 410,
    "start_time": "2022-10-10T19:35:33.411Z"
   },
   {
    "duration": 182,
    "start_time": "2022-10-10T19:35:33.823Z"
   },
   {
    "duration": 385,
    "start_time": "2022-10-10T19:35:34.007Z"
   },
   {
    "duration": 4,
    "start_time": "2022-10-10T19:35:34.394Z"
   },
   {
    "duration": 16,
    "start_time": "2022-10-10T19:35:34.400Z"
   },
   {
    "duration": 8,
    "start_time": "2022-10-10T19:35:34.417Z"
   },
   {
    "duration": 5,
    "start_time": "2022-10-10T19:35:34.427Z"
   },
   {
    "duration": 5,
    "start_time": "2022-10-10T19:35:34.454Z"
   },
   {
    "duration": 7,
    "start_time": "2022-10-10T19:35:34.460Z"
   },
   {
    "duration": 10,
    "start_time": "2022-10-10T19:35:34.468Z"
   },
   {
    "duration": 5,
    "start_time": "2022-10-10T19:35:34.480Z"
   },
   {
    "duration": 84,
    "start_time": "2022-10-10T19:35:34.486Z"
   },
   {
    "duration": 4,
    "start_time": "2022-10-10T19:35:34.572Z"
   },
   {
    "duration": 13,
    "start_time": "2022-10-10T19:35:34.578Z"
   },
   {
    "duration": 8,
    "start_time": "2022-10-10T19:35:34.593Z"
   },
   {
    "duration": 15,
    "start_time": "2022-10-10T19:35:34.602Z"
   },
   {
    "duration": 4,
    "start_time": "2022-10-10T19:35:34.618Z"
   },
   {
    "duration": 33,
    "start_time": "2022-10-10T19:35:34.624Z"
   },
   {
    "duration": 21,
    "start_time": "2022-10-10T19:35:34.660Z"
   },
   {
    "duration": 5,
    "start_time": "2022-10-10T19:35:34.683Z"
   },
   {
    "duration": 29,
    "start_time": "2022-10-10T19:35:34.689Z"
   },
   {
    "duration": 245,
    "start_time": "2022-10-10T19:35:34.719Z"
   },
   {
    "duration": 5682,
    "start_time": "2022-10-10T19:35:34.966Z"
   },
   {
    "duration": 1269,
    "start_time": "2022-10-10T19:35:40.650Z"
   },
   {
    "duration": 40,
    "start_time": "2022-10-10T19:35:41.921Z"
   },
   {
    "duration": 231,
    "start_time": "2022-10-10T19:35:41.963Z"
   },
   {
    "duration": 3,
    "start_time": "2022-10-10T19:35:42.196Z"
   },
   {
    "duration": 13,
    "start_time": "2022-10-10T19:35:42.201Z"
   },
   {
    "duration": 48,
    "start_time": "2022-10-10T19:35:42.216Z"
   },
   {
    "duration": 3,
    "start_time": "2022-10-10T19:35:42.266Z"
   },
   {
    "duration": 6,
    "start_time": "2022-10-10T19:35:42.271Z"
   },
   {
    "duration": 10,
    "start_time": "2022-10-10T19:35:42.279Z"
   },
   {
    "duration": 13,
    "start_time": "2022-10-10T19:35:42.290Z"
   },
   {
    "duration": 7,
    "start_time": "2022-10-10T19:35:42.305Z"
   },
   {
    "duration": 6,
    "start_time": "2022-10-10T19:35:42.314Z"
   },
   {
    "duration": 11,
    "start_time": "2022-10-10T19:35:42.321Z"
   },
   {
    "duration": 7,
    "start_time": "2022-10-10T19:35:42.334Z"
   },
   {
    "duration": 12,
    "start_time": "2022-10-10T19:35:42.344Z"
   },
   {
    "duration": 15,
    "start_time": "2022-10-10T19:35:42.358Z"
   },
   {
    "duration": 7,
    "start_time": "2022-10-10T19:35:42.374Z"
   },
   {
    "duration": 4570,
    "start_time": "2022-10-10T19:35:42.382Z"
   },
   {
    "duration": 1413,
    "start_time": "2022-10-10T19:36:13.016Z"
   },
   {
    "duration": 681,
    "start_time": "2022-10-10T19:36:14.431Z"
   },
   {
    "duration": 5,
    "start_time": "2022-10-10T19:36:15.116Z"
   },
   {
    "duration": 415,
    "start_time": "2022-10-10T19:36:15.122Z"
   },
   {
    "duration": 203,
    "start_time": "2022-10-10T19:36:15.539Z"
   },
   {
    "duration": 401,
    "start_time": "2022-10-10T19:36:15.754Z"
   },
   {
    "duration": 4,
    "start_time": "2022-10-10T19:36:16.157Z"
   },
   {
    "duration": 18,
    "start_time": "2022-10-10T19:36:16.164Z"
   },
   {
    "duration": 6,
    "start_time": "2022-10-10T19:36:16.187Z"
   },
   {
    "duration": 10,
    "start_time": "2022-10-10T19:36:16.194Z"
   },
   {
    "duration": 7,
    "start_time": "2022-10-10T19:36:16.205Z"
   },
   {
    "duration": 8,
    "start_time": "2022-10-10T19:36:16.213Z"
   },
   {
    "duration": 31,
    "start_time": "2022-10-10T19:36:16.223Z"
   },
   {
    "duration": 3,
    "start_time": "2022-10-10T19:36:16.256Z"
   },
   {
    "duration": 57,
    "start_time": "2022-10-10T19:36:16.261Z"
   },
   {
    "duration": 5,
    "start_time": "2022-10-10T19:36:16.320Z"
   },
   {
    "duration": 52,
    "start_time": "2022-10-10T19:36:16.327Z"
   },
   {
    "duration": 7,
    "start_time": "2022-10-10T19:36:16.381Z"
   },
   {
    "duration": 17,
    "start_time": "2022-10-10T19:36:16.390Z"
   },
   {
    "duration": 4,
    "start_time": "2022-10-10T19:36:16.408Z"
   },
   {
    "duration": 6,
    "start_time": "2022-10-10T19:36:16.414Z"
   },
   {
    "duration": 14,
    "start_time": "2022-10-10T19:36:16.422Z"
   },
   {
    "duration": 3,
    "start_time": "2022-10-10T19:36:16.438Z"
   },
   {
    "duration": 22,
    "start_time": "2022-10-10T19:36:16.454Z"
   },
   {
    "duration": 259,
    "start_time": "2022-10-10T19:36:16.478Z"
   },
   {
    "duration": 6077,
    "start_time": "2022-10-10T19:36:16.738Z"
   },
   {
    "duration": 1093,
    "start_time": "2022-10-10T19:36:22.818Z"
   },
   {
    "duration": 45,
    "start_time": "2022-10-10T19:36:23.914Z"
   },
   {
    "duration": 228,
    "start_time": "2022-10-10T19:36:23.961Z"
   },
   {
    "duration": 3,
    "start_time": "2022-10-10T19:36:24.191Z"
   },
   {
    "duration": 15,
    "start_time": "2022-10-10T19:36:24.195Z"
   },
   {
    "duration": 44,
    "start_time": "2022-10-10T19:36:24.212Z"
   },
   {
    "duration": 4,
    "start_time": "2022-10-10T19:36:24.258Z"
   },
   {
    "duration": 10,
    "start_time": "2022-10-10T19:36:24.264Z"
   },
   {
    "duration": 24,
    "start_time": "2022-10-10T19:36:24.276Z"
   },
   {
    "duration": 13,
    "start_time": "2022-10-10T19:36:24.302Z"
   },
   {
    "duration": 7,
    "start_time": "2022-10-10T19:36:24.316Z"
   },
   {
    "duration": 7,
    "start_time": "2022-10-10T19:36:24.325Z"
   },
   {
    "duration": 13,
    "start_time": "2022-10-10T19:36:24.334Z"
   },
   {
    "duration": 31,
    "start_time": "2022-10-10T19:36:24.349Z"
   },
   {
    "duration": 22,
    "start_time": "2022-10-10T19:36:24.382Z"
   },
   {
    "duration": 12,
    "start_time": "2022-10-10T19:36:24.406Z"
   },
   {
    "duration": 5,
    "start_time": "2022-10-10T19:36:24.420Z"
   },
   {
    "duration": 789,
    "start_time": "2022-10-10T19:36:24.427Z"
   },
   {
    "duration": 1434,
    "start_time": "2022-10-10T19:37:47.330Z"
   },
   {
    "duration": 681,
    "start_time": "2022-10-10T19:37:48.766Z"
   },
   {
    "duration": 3,
    "start_time": "2022-10-10T19:37:49.449Z"
   },
   {
    "duration": 415,
    "start_time": "2022-10-10T19:37:49.454Z"
   },
   {
    "duration": 197,
    "start_time": "2022-10-10T19:37:49.871Z"
   },
   {
    "duration": 399,
    "start_time": "2022-10-10T19:37:50.070Z"
   },
   {
    "duration": 3,
    "start_time": "2022-10-10T19:37:50.471Z"
   },
   {
    "duration": 25,
    "start_time": "2022-10-10T19:37:50.476Z"
   },
   {
    "duration": 6,
    "start_time": "2022-10-10T19:37:50.504Z"
   },
   {
    "duration": 18,
    "start_time": "2022-10-10T19:37:50.512Z"
   },
   {
    "duration": 22,
    "start_time": "2022-10-10T19:37:50.577Z"
   },
   {
    "duration": 6,
    "start_time": "2022-10-10T19:37:50.601Z"
   },
   {
    "duration": 81,
    "start_time": "2022-10-10T19:37:50.609Z"
   },
   {
    "duration": 5,
    "start_time": "2022-10-10T19:37:50.692Z"
   },
   {
    "duration": 18,
    "start_time": "2022-10-10T19:37:50.698Z"
   },
   {
    "duration": 17,
    "start_time": "2022-10-10T19:37:50.721Z"
   },
   {
    "duration": 22,
    "start_time": "2022-10-10T19:37:50.740Z"
   },
   {
    "duration": 10,
    "start_time": "2022-10-10T19:37:50.764Z"
   },
   {
    "duration": 12,
    "start_time": "2022-10-10T19:37:50.776Z"
   },
   {
    "duration": 28,
    "start_time": "2022-10-10T19:37:50.790Z"
   },
   {
    "duration": 4,
    "start_time": "2022-10-10T19:37:50.821Z"
   },
   {
    "duration": 31,
    "start_time": "2022-10-10T19:37:50.828Z"
   },
   {
    "duration": 236,
    "start_time": "2022-10-10T19:37:50.861Z"
   },
   {
    "duration": 5697,
    "start_time": "2022-10-10T19:37:51.099Z"
   },
   {
    "duration": 1666,
    "start_time": "2022-10-10T19:37:56.798Z"
   },
   {
    "duration": 34,
    "start_time": "2022-10-10T19:37:58.466Z"
   },
   {
    "duration": 257,
    "start_time": "2022-10-10T19:37:58.502Z"
   },
   {
    "duration": 3,
    "start_time": "2022-10-10T19:37:58.761Z"
   },
   {
    "duration": 9,
    "start_time": "2022-10-10T19:37:58.766Z"
   },
   {
    "duration": 47,
    "start_time": "2022-10-10T19:37:58.777Z"
   },
   {
    "duration": 4,
    "start_time": "2022-10-10T19:37:58.826Z"
   },
   {
    "duration": 10,
    "start_time": "2022-10-10T19:37:58.831Z"
   },
   {
    "duration": 16,
    "start_time": "2022-10-10T19:37:58.843Z"
   },
   {
    "duration": 10,
    "start_time": "2022-10-10T19:37:58.861Z"
   },
   {
    "duration": 10,
    "start_time": "2022-10-10T19:37:58.872Z"
   },
   {
    "duration": 13,
    "start_time": "2022-10-10T19:37:58.883Z"
   },
   {
    "duration": 10,
    "start_time": "2022-10-10T19:37:58.898Z"
   },
   {
    "duration": 7,
    "start_time": "2022-10-10T19:37:58.910Z"
   },
   {
    "duration": 7,
    "start_time": "2022-10-10T19:37:58.919Z"
   },
   {
    "duration": 12,
    "start_time": "2022-10-10T19:37:58.928Z"
   },
   {
    "duration": 9,
    "start_time": "2022-10-10T19:37:58.942Z"
   },
   {
    "duration": 2922,
    "start_time": "2022-10-10T19:37:58.954Z"
   },
   {
    "duration": 1303,
    "start_time": "2022-10-10T19:38:58.311Z"
   },
   {
    "duration": 697,
    "start_time": "2022-10-10T19:38:59.616Z"
   },
   {
    "duration": 3,
    "start_time": "2022-10-10T19:39:00.316Z"
   },
   {
    "duration": 401,
    "start_time": "2022-10-10T19:39:00.321Z"
   },
   {
    "duration": 183,
    "start_time": "2022-10-10T19:39:00.724Z"
   },
   {
    "duration": 389,
    "start_time": "2022-10-10T19:39:00.909Z"
   },
   {
    "duration": 3,
    "start_time": "2022-10-10T19:39:01.301Z"
   },
   {
    "duration": 49,
    "start_time": "2022-10-10T19:39:01.306Z"
   },
   {
    "duration": 13,
    "start_time": "2022-10-10T19:39:01.357Z"
   },
   {
    "duration": 25,
    "start_time": "2022-10-10T19:39:01.374Z"
   },
   {
    "duration": 37,
    "start_time": "2022-10-10T19:39:01.400Z"
   },
   {
    "duration": 29,
    "start_time": "2022-10-10T19:39:01.439Z"
   },
   {
    "duration": 30,
    "start_time": "2022-10-10T19:39:01.470Z"
   },
   {
    "duration": 20,
    "start_time": "2022-10-10T19:39:01.504Z"
   },
   {
    "duration": 145,
    "start_time": "2022-10-10T19:39:01.527Z"
   },
   {
    "duration": 6,
    "start_time": "2022-10-10T19:39:01.674Z"
   },
   {
    "duration": 27,
    "start_time": "2022-10-10T19:39:01.682Z"
   },
   {
    "duration": 10,
    "start_time": "2022-10-10T19:39:01.711Z"
   },
   {
    "duration": 27,
    "start_time": "2022-10-10T19:39:01.722Z"
   },
   {
    "duration": 12,
    "start_time": "2022-10-10T19:39:01.751Z"
   },
   {
    "duration": 24,
    "start_time": "2022-10-10T19:39:01.765Z"
   },
   {
    "duration": 30,
    "start_time": "2022-10-10T19:39:01.791Z"
   },
   {
    "duration": 8,
    "start_time": "2022-10-10T19:39:01.822Z"
   },
   {
    "duration": 26,
    "start_time": "2022-10-10T19:39:01.832Z"
   },
   {
    "duration": 225,
    "start_time": "2022-10-10T19:39:01.860Z"
   },
   {
    "duration": 5612,
    "start_time": "2022-10-10T19:39:02.087Z"
   },
   {
    "duration": 1093,
    "start_time": "2022-10-10T19:39:07.701Z"
   },
   {
    "duration": 35,
    "start_time": "2022-10-10T19:39:08.798Z"
   },
   {
    "duration": 240,
    "start_time": "2022-10-10T19:39:08.835Z"
   },
   {
    "duration": 4,
    "start_time": "2022-10-10T19:39:09.077Z"
   },
   {
    "duration": 14,
    "start_time": "2022-10-10T19:39:09.083Z"
   },
   {
    "duration": 55,
    "start_time": "2022-10-10T19:39:09.099Z"
   },
   {
    "duration": 5,
    "start_time": "2022-10-10T19:39:09.156Z"
   },
   {
    "duration": 16,
    "start_time": "2022-10-10T19:39:09.163Z"
   },
   {
    "duration": 13,
    "start_time": "2022-10-10T19:39:09.181Z"
   },
   {
    "duration": 18,
    "start_time": "2022-10-10T19:39:09.196Z"
   },
   {
    "duration": 14,
    "start_time": "2022-10-10T19:39:09.217Z"
   },
   {
    "duration": 12,
    "start_time": "2022-10-10T19:39:09.233Z"
   },
   {
    "duration": 11,
    "start_time": "2022-10-10T19:39:09.246Z"
   },
   {
    "duration": 16,
    "start_time": "2022-10-10T19:39:09.259Z"
   },
   {
    "duration": 16,
    "start_time": "2022-10-10T19:39:09.276Z"
   },
   {
    "duration": 26,
    "start_time": "2022-10-10T19:39:09.294Z"
   },
   {
    "duration": 7,
    "start_time": "2022-10-10T19:39:09.322Z"
   },
   {
    "duration": 2951,
    "start_time": "2022-10-10T19:39:09.330Z"
   },
   {
    "duration": 232523,
    "start_time": "2022-10-10T19:39:12.283Z"
   },
   {
    "duration": 1647,
    "start_time": "2022-10-10T19:43:04.808Z"
   },
   {
    "duration": 5,
    "start_time": "2022-10-10T19:43:06.457Z"
   },
   {
    "duration": 102,
    "start_time": "2022-10-10T19:43:06.463Z"
   },
   {
    "duration": 3768,
    "start_time": "2022-10-10T19:43:06.567Z"
   },
   {
    "duration": 114,
    "start_time": "2022-10-10T19:43:44.328Z"
   },
   {
    "duration": 941,
    "start_time": "2022-10-10T19:43:50.378Z"
   },
   {
    "duration": 123,
    "start_time": "2022-10-10T19:44:31.502Z"
   },
   {
    "duration": 957,
    "start_time": "2022-10-10T19:44:36.617Z"
   },
   {
    "duration": 12786,
    "start_time": "2022-10-10T19:44:46.025Z"
   },
   {
    "duration": 10235,
    "start_time": "2022-10-10T19:45:07.200Z"
   },
   {
    "duration": 5281,
    "start_time": "2022-10-10T19:45:25.809Z"
   },
   {
    "duration": 3208,
    "start_time": "2022-10-10T19:45:35.933Z"
   },
   {
    "duration": 1513,
    "start_time": "2022-10-10T19:45:43.481Z"
   },
   {
    "duration": 2762,
    "start_time": "2022-10-10T19:45:55.665Z"
   },
   {
    "duration": 6121,
    "start_time": "2022-10-10T19:46:02.726Z"
   },
   {
    "duration": 10068,
    "start_time": "2022-10-10T19:46:16.480Z"
   },
   {
    "duration": 64,
    "start_time": "2022-10-10T19:47:30.513Z"
   },
   {
    "duration": 25,
    "start_time": "2022-10-10T19:47:47.968Z"
   },
   {
    "duration": 41,
    "start_time": "2022-10-10T19:48:09.376Z"
   },
   {
    "duration": 184,
    "start_time": "2022-10-10T19:48:15.400Z"
   },
   {
    "duration": 58,
    "start_time": "2022-10-10T19:48:25.144Z"
   },
   {
    "duration": 2858,
    "start_time": "2022-10-10T19:48:59.775Z"
   },
   {
    "duration": 1439,
    "start_time": "2022-10-10T19:49:35.367Z"
   },
   {
    "duration": 730,
    "start_time": "2022-10-10T19:49:36.809Z"
   },
   {
    "duration": 3,
    "start_time": "2022-10-10T19:49:37.541Z"
   },
   {
    "duration": 424,
    "start_time": "2022-10-10T19:49:37.546Z"
   },
   {
    "duration": 204,
    "start_time": "2022-10-10T19:49:37.972Z"
   },
   {
    "duration": 411,
    "start_time": "2022-10-10T19:49:38.178Z"
   },
   {
    "duration": 4,
    "start_time": "2022-10-10T19:49:38.591Z"
   },
   {
    "duration": 21,
    "start_time": "2022-10-10T19:49:38.597Z"
   },
   {
    "duration": 6,
    "start_time": "2022-10-10T19:49:38.620Z"
   },
   {
    "duration": 7,
    "start_time": "2022-10-10T19:49:38.628Z"
   },
   {
    "duration": 18,
    "start_time": "2022-10-10T19:49:38.637Z"
   },
   {
    "duration": 19,
    "start_time": "2022-10-10T19:49:38.662Z"
   },
   {
    "duration": 13,
    "start_time": "2022-10-10T19:49:38.683Z"
   },
   {
    "duration": 11,
    "start_time": "2022-10-10T19:49:38.698Z"
   },
   {
    "duration": 67,
    "start_time": "2022-10-10T19:49:38.710Z"
   },
   {
    "duration": 4,
    "start_time": "2022-10-10T19:49:38.778Z"
   },
   {
    "duration": 10,
    "start_time": "2022-10-10T19:49:38.784Z"
   },
   {
    "duration": 9,
    "start_time": "2022-10-10T19:49:38.796Z"
   },
   {
    "duration": 21,
    "start_time": "2022-10-10T19:49:38.806Z"
   },
   {
    "duration": 3,
    "start_time": "2022-10-10T19:49:38.829Z"
   },
   {
    "duration": 21,
    "start_time": "2022-10-10T19:49:38.834Z"
   },
   {
    "duration": 18,
    "start_time": "2022-10-10T19:49:38.857Z"
   },
   {
    "duration": 9,
    "start_time": "2022-10-10T19:49:38.877Z"
   },
   {
    "duration": 19,
    "start_time": "2022-10-10T19:49:38.888Z"
   },
   {
    "duration": 271,
    "start_time": "2022-10-10T19:49:38.909Z"
   },
   {
    "duration": 5745,
    "start_time": "2022-10-10T19:49:39.182Z"
   },
   {
    "duration": 1266,
    "start_time": "2022-10-10T19:49:44.928Z"
   },
   {
    "duration": 34,
    "start_time": "2022-10-10T19:49:46.197Z"
   },
   {
    "duration": 274,
    "start_time": "2022-10-10T19:49:46.232Z"
   },
   {
    "duration": 4,
    "start_time": "2022-10-10T19:49:46.507Z"
   },
   {
    "duration": 8,
    "start_time": "2022-10-10T19:49:46.512Z"
   },
   {
    "duration": 60,
    "start_time": "2022-10-10T19:49:46.522Z"
   },
   {
    "duration": 5,
    "start_time": "2022-10-10T19:49:46.584Z"
   },
   {
    "duration": 9,
    "start_time": "2022-10-10T19:49:46.590Z"
   },
   {
    "duration": 11,
    "start_time": "2022-10-10T19:49:46.601Z"
   },
   {
    "duration": 8,
    "start_time": "2022-10-10T19:49:46.614Z"
   },
   {
    "duration": 7,
    "start_time": "2022-10-10T19:49:46.624Z"
   },
   {
    "duration": 8,
    "start_time": "2022-10-10T19:49:46.633Z"
   },
   {
    "duration": 6,
    "start_time": "2022-10-10T19:49:46.655Z"
   },
   {
    "duration": 22,
    "start_time": "2022-10-10T19:49:46.664Z"
   },
   {
    "duration": 8,
    "start_time": "2022-10-10T19:49:46.688Z"
   },
   {
    "duration": 14,
    "start_time": "2022-10-10T19:49:46.698Z"
   },
   {
    "duration": 7,
    "start_time": "2022-10-10T19:49:46.714Z"
   },
   {
    "duration": 3193,
    "start_time": "2022-10-10T19:49:46.722Z"
   },
   {
    "duration": 1509,
    "start_time": "2022-10-11T03:58:07.046Z"
   },
   {
    "duration": 1877,
    "start_time": "2022-10-11T03:58:08.557Z"
   },
   {
    "duration": 3,
    "start_time": "2022-10-11T03:58:10.436Z"
   },
   {
    "duration": 366,
    "start_time": "2022-10-11T03:58:10.441Z"
   },
   {
    "duration": 172,
    "start_time": "2022-10-11T03:58:10.808Z"
   },
   {
    "duration": 367,
    "start_time": "2022-10-11T03:58:10.982Z"
   },
   {
    "duration": 4,
    "start_time": "2022-10-11T03:58:11.351Z"
   },
   {
    "duration": 12,
    "start_time": "2022-10-11T03:58:11.357Z"
   },
   {
    "duration": 6,
    "start_time": "2022-10-11T03:58:11.371Z"
   },
   {
    "duration": 4,
    "start_time": "2022-10-11T03:58:11.394Z"
   },
   {
    "duration": 6,
    "start_time": "2022-10-11T03:58:11.399Z"
   },
   {
    "duration": 8,
    "start_time": "2022-10-11T03:58:11.407Z"
   },
   {
    "duration": 11,
    "start_time": "2022-10-11T03:58:11.416Z"
   },
   {
    "duration": 7,
    "start_time": "2022-10-11T03:58:11.428Z"
   },
   {
    "duration": 73,
    "start_time": "2022-10-11T03:58:11.436Z"
   },
   {
    "duration": 4,
    "start_time": "2022-10-11T03:58:11.511Z"
   },
   {
    "duration": 12,
    "start_time": "2022-10-11T03:58:11.517Z"
   },
   {
    "duration": 8,
    "start_time": "2022-10-11T03:58:11.531Z"
   },
   {
    "duration": 19,
    "start_time": "2022-10-11T03:58:11.541Z"
   },
   {
    "duration": 4,
    "start_time": "2022-10-11T03:58:11.561Z"
   },
   {
    "duration": 4,
    "start_time": "2022-10-11T03:58:11.596Z"
   },
   {
    "duration": 22,
    "start_time": "2022-10-11T03:58:11.602Z"
   },
   {
    "duration": 3,
    "start_time": "2022-10-11T03:58:11.626Z"
   },
   {
    "duration": 23,
    "start_time": "2022-10-11T03:58:11.630Z"
   },
   {
    "duration": 242,
    "start_time": "2022-10-11T03:58:11.655Z"
   },
   {
    "duration": 4339,
    "start_time": "2022-10-11T03:58:11.898Z"
   },
   {
    "duration": 1070,
    "start_time": "2022-10-11T03:58:16.238Z"
   },
   {
    "duration": 38,
    "start_time": "2022-10-11T03:58:17.313Z"
   },
   {
    "duration": 232,
    "start_time": "2022-10-11T03:58:17.352Z"
   },
   {
    "duration": 3,
    "start_time": "2022-10-11T03:58:17.585Z"
   },
   {
    "duration": 4,
    "start_time": "2022-10-11T03:58:17.594Z"
   },
   {
    "duration": 34,
    "start_time": "2022-10-11T03:58:17.599Z"
   },
   {
    "duration": 4,
    "start_time": "2022-10-11T03:58:17.635Z"
   },
   {
    "duration": 8,
    "start_time": "2022-10-11T03:58:17.640Z"
   },
   {
    "duration": 7,
    "start_time": "2022-10-11T03:58:17.650Z"
   },
   {
    "duration": 7,
    "start_time": "2022-10-11T03:58:17.658Z"
   },
   {
    "duration": 3,
    "start_time": "2022-10-11T03:58:17.695Z"
   },
   {
    "duration": 5,
    "start_time": "2022-10-11T03:58:17.700Z"
   },
   {
    "duration": 6,
    "start_time": "2022-10-11T03:58:17.706Z"
   },
   {
    "duration": 7,
    "start_time": "2022-10-11T03:58:17.713Z"
   },
   {
    "duration": 5,
    "start_time": "2022-10-11T03:58:17.721Z"
   },
   {
    "duration": 11,
    "start_time": "2022-10-11T03:58:17.727Z"
   },
   {
    "duration": 3,
    "start_time": "2022-10-11T03:58:17.739Z"
   },
   {
    "duration": 2664,
    "start_time": "2022-10-11T03:58:17.744Z"
   },
   {
    "duration": 1825587,
    "start_time": "2022-10-11T03:58:20.411Z"
   },
   {
    "duration": 2902,
    "start_time": "2022-10-11T04:28:45.999Z"
   },
   {
    "duration": 7,
    "start_time": "2022-10-11T04:28:48.906Z"
   },
   {
    "duration": 17,
    "start_time": "2022-10-11T04:28:48.915Z"
   },
   {
    "duration": 1248,
    "start_time": "2022-10-11T04:28:48.999Z"
   },
   {
    "duration": 1358,
    "start_time": "2022-10-11T04:46:29.722Z"
   },
   {
    "duration": 651,
    "start_time": "2022-10-11T04:46:31.082Z"
   },
   {
    "duration": 3,
    "start_time": "2022-10-11T04:46:31.735Z"
   },
   {
    "duration": 354,
    "start_time": "2022-10-11T04:46:31.741Z"
   },
   {
    "duration": 162,
    "start_time": "2022-10-11T04:46:32.097Z"
   },
   {
    "duration": 356,
    "start_time": "2022-10-11T04:46:32.261Z"
   },
   {
    "duration": 3,
    "start_time": "2022-10-11T04:46:32.618Z"
   },
   {
    "duration": 12,
    "start_time": "2022-10-11T04:46:32.623Z"
   },
   {
    "duration": 5,
    "start_time": "2022-10-11T04:46:32.636Z"
   },
   {
    "duration": 6,
    "start_time": "2022-10-11T04:46:32.643Z"
   },
   {
    "duration": 7,
    "start_time": "2022-10-11T04:46:32.651Z"
   },
   {
    "duration": 8,
    "start_time": "2022-10-11T04:46:32.659Z"
   },
   {
    "duration": 27,
    "start_time": "2022-10-11T04:46:32.669Z"
   },
   {
    "duration": 6,
    "start_time": "2022-10-11T04:46:32.697Z"
   },
   {
    "duration": 58,
    "start_time": "2022-10-11T04:46:32.705Z"
   },
   {
    "duration": 3,
    "start_time": "2022-10-11T04:46:32.765Z"
   },
   {
    "duration": 11,
    "start_time": "2022-10-11T04:46:32.769Z"
   },
   {
    "duration": 13,
    "start_time": "2022-10-11T04:46:32.782Z"
   },
   {
    "duration": 14,
    "start_time": "2022-10-11T04:46:32.797Z"
   },
   {
    "duration": 6,
    "start_time": "2022-10-11T04:46:32.813Z"
   },
   {
    "duration": 35,
    "start_time": "2022-10-11T04:46:32.821Z"
   },
   {
    "duration": 25,
    "start_time": "2022-10-11T04:46:32.857Z"
   },
   {
    "duration": 3,
    "start_time": "2022-10-11T04:46:32.884Z"
   },
   {
    "duration": 24,
    "start_time": "2022-10-11T04:46:32.889Z"
   },
   {
    "duration": 209,
    "start_time": "2022-10-11T04:46:32.915Z"
   },
   {
    "duration": 4277,
    "start_time": "2022-10-11T04:46:33.126Z"
   },
   {
    "duration": 961,
    "start_time": "2022-10-11T04:46:37.404Z"
   },
   {
    "duration": 37,
    "start_time": "2022-10-11T04:46:38.369Z"
   },
   {
    "duration": 201,
    "start_time": "2022-10-11T04:46:38.407Z"
   },
   {
    "duration": 3,
    "start_time": "2022-10-11T04:46:38.610Z"
   },
   {
    "duration": 8,
    "start_time": "2022-10-11T04:46:38.615Z"
   },
   {
    "duration": 31,
    "start_time": "2022-10-11T04:46:38.625Z"
   },
   {
    "duration": 4,
    "start_time": "2022-10-11T04:46:38.657Z"
   },
   {
    "duration": 5,
    "start_time": "2022-10-11T04:46:38.662Z"
   },
   {
    "duration": 5,
    "start_time": "2022-10-11T04:46:38.668Z"
   },
   {
    "duration": 24,
    "start_time": "2022-10-11T04:46:38.674Z"
   },
   {
    "duration": 22,
    "start_time": "2022-10-11T04:46:38.700Z"
   },
   {
    "duration": 5,
    "start_time": "2022-10-11T04:46:38.724Z"
   },
   {
    "duration": 5,
    "start_time": "2022-10-11T04:46:38.730Z"
   },
   {
    "duration": 5,
    "start_time": "2022-10-11T04:46:38.737Z"
   },
   {
    "duration": 5,
    "start_time": "2022-10-11T04:46:38.743Z"
   },
   {
    "duration": 11,
    "start_time": "2022-10-11T04:46:38.749Z"
   },
   {
    "duration": 13,
    "start_time": "2022-10-11T04:46:38.762Z"
   },
   {
    "duration": 2506,
    "start_time": "2022-10-11T04:46:38.776Z"
   },
   {
    "duration": 176,
    "start_time": "2022-10-11T04:46:41.283Z"
   },
   {
    "duration": 1741,
    "start_time": "2022-10-11T04:46:41.460Z"
   },
   {
    "duration": 192,
    "start_time": "2022-10-11T04:46:43.204Z"
   },
   {
    "duration": 0,
    "start_time": "2022-10-11T04:46:43.398Z"
   },
   {
    "duration": 0,
    "start_time": "2022-10-11T04:46:43.400Z"
   },
   {
    "duration": 402340,
    "start_time": "2022-10-11T04:46:52.275Z"
   },
   {
    "duration": 1279,
    "start_time": "2022-10-11T04:53:34.617Z"
   },
   {
    "duration": 103,
    "start_time": "2022-10-11T04:53:35.898Z"
   },
   {
    "duration": 1399,
    "start_time": "2022-10-11T04:55:53.757Z"
   },
   {
    "duration": 695,
    "start_time": "2022-10-11T04:55:55.157Z"
   },
   {
    "duration": 3,
    "start_time": "2022-10-11T04:55:55.853Z"
   },
   {
    "duration": 387,
    "start_time": "2022-10-11T04:55:55.858Z"
   },
   {
    "duration": 190,
    "start_time": "2022-10-11T04:55:56.247Z"
   },
   {
    "duration": 431,
    "start_time": "2022-10-11T04:55:56.438Z"
   },
   {
    "duration": 3,
    "start_time": "2022-10-11T04:55:56.870Z"
   },
   {
    "duration": 32,
    "start_time": "2022-10-11T04:55:56.875Z"
   },
   {
    "duration": 6,
    "start_time": "2022-10-11T04:55:56.909Z"
   },
   {
    "duration": 5,
    "start_time": "2022-10-11T04:55:56.916Z"
   },
   {
    "duration": 6,
    "start_time": "2022-10-11T04:55:56.922Z"
   },
   {
    "duration": 7,
    "start_time": "2022-10-11T04:55:56.929Z"
   },
   {
    "duration": 10,
    "start_time": "2022-10-11T04:55:56.937Z"
   },
   {
    "duration": 3,
    "start_time": "2022-10-11T04:55:56.950Z"
   },
   {
    "duration": 77,
    "start_time": "2022-10-11T04:55:56.954Z"
   },
   {
    "duration": 4,
    "start_time": "2022-10-11T04:55:57.033Z"
   },
   {
    "duration": 14,
    "start_time": "2022-10-11T04:55:57.039Z"
   },
   {
    "duration": 8,
    "start_time": "2022-10-11T04:55:57.054Z"
   },
   {
    "duration": 55,
    "start_time": "2022-10-11T04:55:57.064Z"
   },
   {
    "duration": 5,
    "start_time": "2022-10-11T04:55:57.124Z"
   },
   {
    "duration": 5,
    "start_time": "2022-10-11T04:55:57.131Z"
   },
   {
    "duration": 15,
    "start_time": "2022-10-11T04:55:57.138Z"
   },
   {
    "duration": 3,
    "start_time": "2022-10-11T04:55:57.154Z"
   },
   {
    "duration": 18,
    "start_time": "2022-10-11T04:55:57.159Z"
   },
   {
    "duration": 233,
    "start_time": "2022-10-11T04:55:57.179Z"
   },
   {
    "duration": 4493,
    "start_time": "2022-10-11T04:55:57.414Z"
   },
   {
    "duration": 1030,
    "start_time": "2022-10-11T04:56:01.908Z"
   },
   {
    "duration": 31,
    "start_time": "2022-10-11T04:56:02.941Z"
   },
   {
    "duration": 238,
    "start_time": "2022-10-11T04:56:02.974Z"
   },
   {
    "duration": 4,
    "start_time": "2022-10-11T04:56:03.213Z"
   },
   {
    "duration": 6,
    "start_time": "2022-10-11T04:56:03.219Z"
   },
   {
    "duration": 36,
    "start_time": "2022-10-11T04:56:03.226Z"
   },
   {
    "duration": 5,
    "start_time": "2022-10-11T04:56:03.264Z"
   },
   {
    "duration": 7,
    "start_time": "2022-10-11T04:56:03.271Z"
   },
   {
    "duration": 25,
    "start_time": "2022-10-11T04:56:03.280Z"
   },
   {
    "duration": 13,
    "start_time": "2022-10-11T04:56:03.307Z"
   },
   {
    "duration": 6,
    "start_time": "2022-10-11T04:56:03.322Z"
   },
   {
    "duration": 6,
    "start_time": "2022-10-11T04:56:03.329Z"
   },
   {
    "duration": 5,
    "start_time": "2022-10-11T04:56:03.336Z"
   },
   {
    "duration": 6,
    "start_time": "2022-10-11T04:56:03.342Z"
   },
   {
    "duration": 3,
    "start_time": "2022-10-11T04:56:03.351Z"
   },
   {
    "duration": 12,
    "start_time": "2022-10-11T04:56:03.355Z"
   },
   {
    "duration": 2,
    "start_time": "2022-10-11T04:56:03.369Z"
   },
   {
    "duration": 2661,
    "start_time": "2022-10-11T04:56:03.373Z"
   },
   {
    "duration": 1782382,
    "start_time": "2022-10-11T04:56:06.036Z"
   },
   {
    "duration": 1880,
    "start_time": "2022-10-11T05:25:48.420Z"
   },
   {
    "duration": 5,
    "start_time": "2022-10-11T05:25:50.302Z"
   },
   {
    "duration": 94,
    "start_time": "2022-10-11T05:25:50.309Z"
   },
   {
    "duration": 849,
    "start_time": "2022-10-11T05:25:50.405Z"
   },
   {
    "duration": 1344,
    "start_time": "2022-10-11T05:26:11.369Z"
   },
   {
    "duration": 664,
    "start_time": "2022-10-11T05:26:12.715Z"
   },
   {
    "duration": 3,
    "start_time": "2022-10-11T05:26:13.381Z"
   },
   {
    "duration": 362,
    "start_time": "2022-10-11T05:26:13.386Z"
   },
   {
    "duration": 175,
    "start_time": "2022-10-11T05:26:13.750Z"
   },
   {
    "duration": 344,
    "start_time": "2022-10-11T05:26:13.928Z"
   },
   {
    "duration": 4,
    "start_time": "2022-10-11T05:26:14.274Z"
   },
   {
    "duration": 22,
    "start_time": "2022-10-11T05:26:14.279Z"
   },
   {
    "duration": 6,
    "start_time": "2022-10-11T05:26:14.303Z"
   },
   {
    "duration": 4,
    "start_time": "2022-10-11T05:26:14.312Z"
   },
   {
    "duration": 9,
    "start_time": "2022-10-11T05:26:14.317Z"
   },
   {
    "duration": 7,
    "start_time": "2022-10-11T05:26:14.327Z"
   },
   {
    "duration": 9,
    "start_time": "2022-10-11T05:26:14.336Z"
   },
   {
    "duration": 4,
    "start_time": "2022-10-11T05:26:14.346Z"
   },
   {
    "duration": 79,
    "start_time": "2022-10-11T05:26:14.351Z"
   },
   {
    "duration": 4,
    "start_time": "2022-10-11T05:26:14.432Z"
   },
   {
    "duration": 9,
    "start_time": "2022-10-11T05:26:14.437Z"
   },
   {
    "duration": 5,
    "start_time": "2022-10-11T05:26:14.448Z"
   },
   {
    "duration": 13,
    "start_time": "2022-10-11T05:26:14.455Z"
   },
   {
    "duration": 27,
    "start_time": "2022-10-11T05:26:14.469Z"
   },
   {
    "duration": 3,
    "start_time": "2022-10-11T05:26:14.498Z"
   },
   {
    "duration": 15,
    "start_time": "2022-10-11T05:26:14.503Z"
   },
   {
    "duration": 2,
    "start_time": "2022-10-11T05:26:14.519Z"
   },
   {
    "duration": 18,
    "start_time": "2022-10-11T05:26:14.523Z"
   },
   {
    "duration": 219,
    "start_time": "2022-10-11T05:26:14.543Z"
   },
   {
    "duration": 4644,
    "start_time": "2022-10-11T05:26:14.764Z"
   },
   {
    "duration": 1020,
    "start_time": "2022-10-11T05:26:19.410Z"
   },
   {
    "duration": 29,
    "start_time": "2022-10-11T05:26:20.433Z"
   },
   {
    "duration": 213,
    "start_time": "2022-10-11T05:26:20.463Z"
   },
   {
    "duration": 3,
    "start_time": "2022-10-11T05:26:20.677Z"
   },
   {
    "duration": 16,
    "start_time": "2022-10-11T05:26:20.681Z"
   },
   {
    "duration": 43,
    "start_time": "2022-10-11T05:26:20.699Z"
   },
   {
    "duration": 4,
    "start_time": "2022-10-11T05:26:20.744Z"
   },
   {
    "duration": 14,
    "start_time": "2022-10-11T05:26:20.750Z"
   },
   {
    "duration": 11,
    "start_time": "2022-10-11T05:26:20.765Z"
   },
   {
    "duration": 10,
    "start_time": "2022-10-11T05:26:20.777Z"
   },
   {
    "duration": 11,
    "start_time": "2022-10-11T05:26:20.788Z"
   },
   {
    "duration": 7,
    "start_time": "2022-10-11T05:26:20.801Z"
   },
   {
    "duration": 26,
    "start_time": "2022-10-11T05:26:20.809Z"
   },
   {
    "duration": 10,
    "start_time": "2022-10-11T05:26:20.837Z"
   },
   {
    "duration": 5,
    "start_time": "2022-10-11T05:26:20.848Z"
   },
   {
    "duration": 11,
    "start_time": "2022-10-11T05:26:20.854Z"
   },
   {
    "duration": 14,
    "start_time": "2022-10-11T05:26:20.866Z"
   },
   {
    "duration": 2528,
    "start_time": "2022-10-11T05:26:20.882Z"
   },
   {
    "duration": 1749599,
    "start_time": "2022-10-11T05:26:23.411Z"
   },
   {
    "duration": 1382,
    "start_time": "2022-10-11T05:55:33.012Z"
   },
   {
    "duration": 4,
    "start_time": "2022-10-11T05:55:34.396Z"
   },
   {
    "duration": 17,
    "start_time": "2022-10-11T05:55:34.402Z"
   },
   {
    "duration": 865,
    "start_time": "2022-10-11T05:55:34.420Z"
   },
   {
    "duration": 1530,
    "start_time": "2022-10-11T06:02:44.984Z"
   },
   {
    "duration": 723,
    "start_time": "2022-10-11T06:02:46.516Z"
   },
   {
    "duration": 3,
    "start_time": "2022-10-11T06:02:47.240Z"
   },
   {
    "duration": 391,
    "start_time": "2022-10-11T06:02:47.245Z"
   },
   {
    "duration": 192,
    "start_time": "2022-10-11T06:02:47.638Z"
   },
   {
    "duration": 409,
    "start_time": "2022-10-11T06:02:47.832Z"
   },
   {
    "duration": 4,
    "start_time": "2022-10-11T06:02:48.243Z"
   },
   {
    "duration": 14,
    "start_time": "2022-10-11T06:02:48.249Z"
   },
   {
    "duration": 8,
    "start_time": "2022-10-11T06:02:48.265Z"
   },
   {
    "duration": 18,
    "start_time": "2022-10-11T06:02:48.277Z"
   },
   {
    "duration": 7,
    "start_time": "2022-10-11T06:02:48.297Z"
   },
   {
    "duration": 7,
    "start_time": "2022-10-11T06:02:48.306Z"
   },
   {
    "duration": 11,
    "start_time": "2022-10-11T06:02:48.315Z"
   },
   {
    "duration": 4,
    "start_time": "2022-10-11T06:02:48.328Z"
   },
   {
    "duration": 78,
    "start_time": "2022-10-11T06:02:48.334Z"
   },
   {
    "duration": 4,
    "start_time": "2022-10-11T06:02:48.413Z"
   },
   {
    "duration": 11,
    "start_time": "2022-10-11T06:02:48.419Z"
   },
   {
    "duration": 6,
    "start_time": "2022-10-11T06:02:48.431Z"
   },
   {
    "duration": 16,
    "start_time": "2022-10-11T06:02:48.439Z"
   },
   {
    "duration": 4,
    "start_time": "2022-10-11T06:02:48.456Z"
   },
   {
    "duration": 5,
    "start_time": "2022-10-11T06:02:48.494Z"
   },
   {
    "duration": 20,
    "start_time": "2022-10-11T06:02:48.501Z"
   },
   {
    "duration": 4,
    "start_time": "2022-10-11T06:02:48.523Z"
   },
   {
    "duration": 20,
    "start_time": "2022-10-11T06:02:48.529Z"
   },
   {
    "duration": 243,
    "start_time": "2022-10-11T06:02:48.552Z"
   },
   {
    "duration": 4489,
    "start_time": "2022-10-11T06:02:48.796Z"
   },
   {
    "duration": 975,
    "start_time": "2022-10-11T06:02:53.287Z"
   },
   {
    "duration": 42,
    "start_time": "2022-10-11T06:02:54.265Z"
   },
   {
    "duration": 219,
    "start_time": "2022-10-11T06:02:54.309Z"
   },
   {
    "duration": 3,
    "start_time": "2022-10-11T06:02:54.529Z"
   },
   {
    "duration": 7,
    "start_time": "2022-10-11T06:02:54.534Z"
   },
   {
    "duration": 33,
    "start_time": "2022-10-11T06:02:54.542Z"
   },
   {
    "duration": 4,
    "start_time": "2022-10-11T06:02:54.595Z"
   },
   {
    "duration": 6,
    "start_time": "2022-10-11T06:02:54.600Z"
   },
   {
    "duration": 4,
    "start_time": "2022-10-11T06:02:54.608Z"
   },
   {
    "duration": 8,
    "start_time": "2022-10-11T06:02:54.614Z"
   },
   {
    "duration": 12,
    "start_time": "2022-10-11T06:02:54.624Z"
   },
   {
    "duration": 6,
    "start_time": "2022-10-11T06:02:54.638Z"
   },
   {
    "duration": 6,
    "start_time": "2022-10-11T06:02:54.645Z"
   },
   {
    "duration": 9,
    "start_time": "2022-10-11T06:02:54.652Z"
   },
   {
    "duration": 7,
    "start_time": "2022-10-11T06:02:54.662Z"
   },
   {
    "duration": 12,
    "start_time": "2022-10-11T06:02:54.670Z"
   },
   {
    "duration": 2,
    "start_time": "2022-10-11T06:02:54.695Z"
   },
   {
    "duration": 2615,
    "start_time": "2022-10-11T06:02:54.699Z"
   },
   {
    "duration": 1461,
    "start_time": "2022-10-11T07:13:12.181Z"
   },
   {
    "duration": 680,
    "start_time": "2022-10-11T07:13:13.644Z"
   },
   {
    "duration": 4,
    "start_time": "2022-10-11T07:13:14.326Z"
   },
   {
    "duration": 393,
    "start_time": "2022-10-11T07:13:14.332Z"
   },
   {
    "duration": 185,
    "start_time": "2022-10-11T07:13:14.727Z"
   },
   {
    "duration": 382,
    "start_time": "2022-10-11T07:13:14.914Z"
   },
   {
    "duration": 4,
    "start_time": "2022-10-11T07:13:15.297Z"
   },
   {
    "duration": 15,
    "start_time": "2022-10-11T07:13:15.303Z"
   },
   {
    "duration": 8,
    "start_time": "2022-10-11T07:13:15.320Z"
   },
   {
    "duration": 8,
    "start_time": "2022-10-11T07:13:15.330Z"
   },
   {
    "duration": 7,
    "start_time": "2022-10-11T07:13:15.339Z"
   },
   {
    "duration": 6,
    "start_time": "2022-10-11T07:13:15.348Z"
   },
   {
    "duration": 11,
    "start_time": "2022-10-11T07:13:15.356Z"
   },
   {
    "duration": 7,
    "start_time": "2022-10-11T07:13:15.396Z"
   },
   {
    "duration": 59,
    "start_time": "2022-10-11T07:13:15.404Z"
   },
   {
    "duration": 4,
    "start_time": "2022-10-11T07:13:15.465Z"
   },
   {
    "duration": 31,
    "start_time": "2022-10-11T07:13:15.470Z"
   },
   {
    "duration": 9,
    "start_time": "2022-10-11T07:13:15.503Z"
   },
   {
    "duration": 20,
    "start_time": "2022-10-11T07:13:15.513Z"
   },
   {
    "duration": 4,
    "start_time": "2022-10-11T07:13:15.535Z"
   },
   {
    "duration": 10,
    "start_time": "2022-10-11T07:13:15.541Z"
   },
   {
    "duration": 42,
    "start_time": "2022-10-11T07:13:15.553Z"
   },
   {
    "duration": 3,
    "start_time": "2022-10-11T07:13:15.597Z"
   },
   {
    "duration": 22,
    "start_time": "2022-10-11T07:13:15.602Z"
   },
   {
    "duration": 235,
    "start_time": "2022-10-11T07:13:15.626Z"
   },
   {
    "duration": 4765,
    "start_time": "2022-10-11T07:13:15.863Z"
   },
   {
    "duration": 1061,
    "start_time": "2022-10-11T07:13:20.630Z"
   },
   {
    "duration": 34,
    "start_time": "2022-10-11T07:13:21.696Z"
   },
   {
    "duration": 229,
    "start_time": "2022-10-11T07:13:21.732Z"
   },
   {
    "duration": 3,
    "start_time": "2022-10-11T07:13:21.963Z"
   },
   {
    "duration": 7,
    "start_time": "2022-10-11T07:13:21.968Z"
   },
   {
    "duration": 48,
    "start_time": "2022-10-11T07:13:21.977Z"
   },
   {
    "duration": 4,
    "start_time": "2022-10-11T07:13:22.027Z"
   },
   {
    "duration": 6,
    "start_time": "2022-10-11T07:13:22.033Z"
   },
   {
    "duration": 16,
    "start_time": "2022-10-11T07:13:22.041Z"
   },
   {
    "duration": 9,
    "start_time": "2022-10-11T07:13:22.059Z"
   },
   {
    "duration": 7,
    "start_time": "2022-10-11T07:13:22.070Z"
   },
   {
    "duration": 20,
    "start_time": "2022-10-11T07:13:22.078Z"
   },
   {
    "duration": 5,
    "start_time": "2022-10-11T07:13:22.100Z"
   },
   {
    "duration": 7,
    "start_time": "2022-10-11T07:13:22.106Z"
   },
   {
    "duration": 8,
    "start_time": "2022-10-11T07:13:22.114Z"
   },
   {
    "duration": 22,
    "start_time": "2022-10-11T07:13:22.124Z"
   },
   {
    "duration": 2,
    "start_time": "2022-10-11T07:13:22.148Z"
   },
   {
    "duration": 2644,
    "start_time": "2022-10-11T07:13:22.152Z"
   },
   {
    "duration": 1745099,
    "start_time": "2022-10-11T07:13:24.798Z"
   },
   {
    "duration": 1600,
    "start_time": "2022-10-11T07:42:29.899Z"
   },
   {
    "duration": 3,
    "start_time": "2022-10-11T07:42:31.501Z"
   },
   {
    "duration": 90,
    "start_time": "2022-10-11T07:42:31.506Z"
   },
   {
    "duration": 884,
    "start_time": "2022-10-11T07:42:31.598Z"
   },
   {
    "duration": 1533,
    "start_time": "2022-10-11T10:43:51.966Z"
   },
   {
    "duration": 1916,
    "start_time": "2022-10-11T10:43:53.501Z"
   },
   {
    "duration": 3,
    "start_time": "2022-10-11T10:43:55.419Z"
   },
   {
    "duration": 376,
    "start_time": "2022-10-11T10:43:55.425Z"
   },
   {
    "duration": 170,
    "start_time": "2022-10-11T10:43:55.802Z"
   },
   {
    "duration": 378,
    "start_time": "2022-10-11T10:43:55.974Z"
   },
   {
    "duration": 3,
    "start_time": "2022-10-11T10:43:56.354Z"
   },
   {
    "duration": 11,
    "start_time": "2022-10-11T10:43:56.359Z"
   },
   {
    "duration": 6,
    "start_time": "2022-10-11T10:43:56.372Z"
   },
   {
    "duration": 4,
    "start_time": "2022-10-11T10:43:56.394Z"
   },
   {
    "duration": 6,
    "start_time": "2022-10-11T10:43:56.400Z"
   },
   {
    "duration": 5,
    "start_time": "2022-10-11T10:43:56.408Z"
   },
   {
    "duration": 12,
    "start_time": "2022-10-11T10:43:56.415Z"
   },
   {
    "duration": 6,
    "start_time": "2022-10-11T10:43:56.428Z"
   },
   {
    "duration": 73,
    "start_time": "2022-10-11T10:43:56.435Z"
   },
   {
    "duration": 4,
    "start_time": "2022-10-11T10:43:56.511Z"
   },
   {
    "duration": 11,
    "start_time": "2022-10-11T10:43:56.517Z"
   },
   {
    "duration": 6,
    "start_time": "2022-10-11T10:43:56.530Z"
   },
   {
    "duration": 16,
    "start_time": "2022-10-11T10:43:56.538Z"
   },
   {
    "duration": 4,
    "start_time": "2022-10-11T10:43:56.555Z"
   },
   {
    "duration": 36,
    "start_time": "2022-10-11T10:43:56.560Z"
   },
   {
    "duration": 23,
    "start_time": "2022-10-11T10:43:56.598Z"
   },
   {
    "duration": 8,
    "start_time": "2022-10-11T10:43:56.624Z"
   },
   {
    "duration": 31,
    "start_time": "2022-10-11T10:43:56.634Z"
   },
   {
    "duration": 259,
    "start_time": "2022-10-11T10:43:56.667Z"
   },
   {
    "duration": 4687,
    "start_time": "2022-10-11T10:43:56.927Z"
   },
   {
    "duration": 1231,
    "start_time": "2022-10-11T10:44:01.616Z"
   },
   {
    "duration": 50,
    "start_time": "2022-10-11T10:44:02.850Z"
   },
   {
    "duration": 312,
    "start_time": "2022-10-11T10:44:02.902Z"
   },
   {
    "duration": 4,
    "start_time": "2022-10-11T10:44:03.217Z"
   },
   {
    "duration": 8,
    "start_time": "2022-10-11T10:44:03.222Z"
   },
   {
    "duration": 41,
    "start_time": "2022-10-11T10:44:03.232Z"
   },
   {
    "duration": 22,
    "start_time": "2022-10-11T10:44:03.275Z"
   },
   {
    "duration": 4,
    "start_time": "2022-10-11T10:44:03.299Z"
   },
   {
    "duration": 8,
    "start_time": "2022-10-11T10:44:03.305Z"
   },
   {
    "duration": 8,
    "start_time": "2022-10-11T10:44:03.315Z"
   },
   {
    "duration": 7,
    "start_time": "2022-10-11T10:44:03.325Z"
   },
   {
    "duration": 5,
    "start_time": "2022-10-11T10:44:03.335Z"
   },
   {
    "duration": 6,
    "start_time": "2022-10-11T10:44:03.341Z"
   },
   {
    "duration": 7,
    "start_time": "2022-10-11T10:44:03.349Z"
   },
   {
    "duration": 5,
    "start_time": "2022-10-11T10:44:03.357Z"
   },
   {
    "duration": 10,
    "start_time": "2022-10-11T10:44:03.395Z"
   },
   {
    "duration": 3,
    "start_time": "2022-10-11T10:44:03.406Z"
   },
   {
    "duration": 2627,
    "start_time": "2022-10-11T10:44:03.411Z"
   },
   {
    "duration": 37625,
    "start_time": "2022-10-11T10:44:06.040Z"
   },
   {
    "duration": 1530,
    "start_time": "2022-10-11T10:44:43.668Z"
   },
   {
    "duration": 22,
    "start_time": "2022-10-11T10:44:45.199Z"
   },
   {
    "duration": 0,
    "start_time": "2022-10-11T10:44:45.223Z"
   },
   {
    "duration": 0,
    "start_time": "2022-10-11T10:44:45.295Z"
   },
   {
    "duration": 1404,
    "start_time": "2022-10-11T10:44:50.471Z"
   },
   {
    "duration": 680,
    "start_time": "2022-10-11T10:44:51.877Z"
   },
   {
    "duration": 3,
    "start_time": "2022-10-11T10:44:52.561Z"
   },
   {
    "duration": 406,
    "start_time": "2022-10-11T10:44:52.566Z"
   },
   {
    "duration": 173,
    "start_time": "2022-10-11T10:44:52.974Z"
   },
   {
    "duration": 363,
    "start_time": "2022-10-11T10:44:53.148Z"
   },
   {
    "duration": 4,
    "start_time": "2022-10-11T10:44:53.513Z"
   },
   {
    "duration": 15,
    "start_time": "2022-10-11T10:44:53.518Z"
   },
   {
    "duration": 6,
    "start_time": "2022-10-11T10:44:53.535Z"
   },
   {
    "duration": 4,
    "start_time": "2022-10-11T10:44:53.544Z"
   },
   {
    "duration": 9,
    "start_time": "2022-10-11T10:44:53.550Z"
   },
   {
    "duration": 7,
    "start_time": "2022-10-11T10:44:53.561Z"
   },
   {
    "duration": 30,
    "start_time": "2022-10-11T10:44:53.570Z"
   },
   {
    "duration": 4,
    "start_time": "2022-10-11T10:44:53.601Z"
   },
   {
    "duration": 69,
    "start_time": "2022-10-11T10:44:53.607Z"
   },
   {
    "duration": 20,
    "start_time": "2022-10-11T10:44:53.677Z"
   },
   {
    "duration": 15,
    "start_time": "2022-10-11T10:44:53.699Z"
   },
   {
    "duration": 8,
    "start_time": "2022-10-11T10:44:53.716Z"
   },
   {
    "duration": 14,
    "start_time": "2022-10-11T10:44:53.727Z"
   },
   {
    "duration": 3,
    "start_time": "2022-10-11T10:44:53.743Z"
   },
   {
    "duration": 7,
    "start_time": "2022-10-11T10:44:53.748Z"
   },
   {
    "duration": 43,
    "start_time": "2022-10-11T10:44:53.756Z"
   },
   {
    "duration": 3,
    "start_time": "2022-10-11T10:44:53.801Z"
   },
   {
    "duration": 24,
    "start_time": "2022-10-11T10:44:53.806Z"
   },
   {
    "duration": 257,
    "start_time": "2022-10-11T10:44:53.832Z"
   },
   {
    "duration": 4574,
    "start_time": "2022-10-11T10:44:54.095Z"
   },
   {
    "duration": 1030,
    "start_time": "2022-10-11T10:44:58.671Z"
   },
   {
    "duration": 31,
    "start_time": "2022-10-11T10:44:59.705Z"
   },
   {
    "duration": 218,
    "start_time": "2022-10-11T10:44:59.738Z"
   },
   {
    "duration": 3,
    "start_time": "2022-10-11T10:44:59.958Z"
   },
   {
    "duration": 6,
    "start_time": "2022-10-11T10:44:59.963Z"
   },
   {
    "duration": 47,
    "start_time": "2022-10-11T10:44:59.971Z"
   },
   {
    "duration": 4,
    "start_time": "2022-10-11T10:45:00.020Z"
   },
   {
    "duration": 3,
    "start_time": "2022-10-11T10:45:00.030Z"
   },
   {
    "duration": 26,
    "start_time": "2022-10-11T10:45:00.035Z"
   },
   {
    "duration": 17,
    "start_time": "2022-10-11T10:45:00.063Z"
   },
   {
    "duration": 16,
    "start_time": "2022-10-11T10:45:00.082Z"
   },
   {
    "duration": 10,
    "start_time": "2022-10-11T10:45:00.100Z"
   },
   {
    "duration": 24,
    "start_time": "2022-10-11T10:45:00.111Z"
   },
   {
    "duration": 22,
    "start_time": "2022-10-11T10:45:00.136Z"
   },
   {
    "duration": 16,
    "start_time": "2022-10-11T10:45:00.160Z"
   },
   {
    "duration": 25,
    "start_time": "2022-10-11T10:45:00.178Z"
   },
   {
    "duration": 17,
    "start_time": "2022-10-11T10:45:00.205Z"
   },
   {
    "duration": 2678,
    "start_time": "2022-10-11T10:45:00.224Z"
   },
   {
    "duration": 220531,
    "start_time": "2022-10-11T10:45:02.904Z"
   },
   {
    "duration": 2058,
    "start_time": "2022-10-11T10:48:43.436Z"
   },
   {
    "duration": 4,
    "start_time": "2022-10-11T10:48:45.497Z"
   },
   {
    "duration": 94,
    "start_time": "2022-10-11T10:48:45.507Z"
   },
   {
    "duration": 945,
    "start_time": "2022-10-11T10:48:45.603Z"
   },
   {
    "duration": 7595,
    "start_time": "2022-10-11T10:53:09.426Z"
   },
   {
    "duration": 1604,
    "start_time": "2022-10-11T10:53:26.093Z"
   },
   {
    "duration": 671,
    "start_time": "2022-10-11T10:53:27.699Z"
   },
   {
    "duration": 3,
    "start_time": "2022-10-11T10:53:28.372Z"
   },
   {
    "duration": 380,
    "start_time": "2022-10-11T10:53:28.378Z"
   },
   {
    "duration": 189,
    "start_time": "2022-10-11T10:53:28.760Z"
   },
   {
    "duration": 378,
    "start_time": "2022-10-11T10:53:28.951Z"
   },
   {
    "duration": 3,
    "start_time": "2022-10-11T10:53:29.331Z"
   },
   {
    "duration": 12,
    "start_time": "2022-10-11T10:53:29.336Z"
   },
   {
    "duration": 8,
    "start_time": "2022-10-11T10:53:29.349Z"
   },
   {
    "duration": 4,
    "start_time": "2022-10-11T10:53:29.359Z"
   },
   {
    "duration": 31,
    "start_time": "2022-10-11T10:53:29.364Z"
   },
   {
    "duration": 4,
    "start_time": "2022-10-11T10:53:29.397Z"
   },
   {
    "duration": 10,
    "start_time": "2022-10-11T10:53:29.403Z"
   },
   {
    "duration": 7,
    "start_time": "2022-10-11T10:53:29.414Z"
   },
   {
    "duration": 54,
    "start_time": "2022-10-11T10:53:29.422Z"
   },
   {
    "duration": 5,
    "start_time": "2022-10-11T10:53:29.495Z"
   },
   {
    "duration": 11,
    "start_time": "2022-10-11T10:53:29.501Z"
   },
   {
    "duration": 6,
    "start_time": "2022-10-11T10:53:29.514Z"
   },
   {
    "duration": 15,
    "start_time": "2022-10-11T10:53:29.522Z"
   },
   {
    "duration": 3,
    "start_time": "2022-10-11T10:53:29.539Z"
   },
   {
    "duration": 5,
    "start_time": "2022-10-11T10:53:29.544Z"
   },
   {
    "duration": 57,
    "start_time": "2022-10-11T10:53:29.550Z"
   },
   {
    "duration": 3,
    "start_time": "2022-10-11T10:53:29.609Z"
   },
   {
    "duration": 18,
    "start_time": "2022-10-11T10:53:29.613Z"
   },
   {
    "duration": 233,
    "start_time": "2022-10-11T10:53:29.632Z"
   },
   {
    "duration": 5021,
    "start_time": "2022-10-11T10:53:29.867Z"
   },
   {
    "duration": 1029,
    "start_time": "2022-10-11T10:53:34.890Z"
   },
   {
    "duration": 32,
    "start_time": "2022-10-11T10:53:35.922Z"
   },
   {
    "duration": 232,
    "start_time": "2022-10-11T10:53:35.956Z"
   },
   {
    "duration": 5,
    "start_time": "2022-10-11T10:53:36.190Z"
   },
   {
    "duration": 6,
    "start_time": "2022-10-11T10:53:36.197Z"
   },
   {
    "duration": 32,
    "start_time": "2022-10-11T10:53:36.205Z"
   },
   {
    "duration": 4,
    "start_time": "2022-10-11T10:53:36.239Z"
   },
   {
    "duration": 6,
    "start_time": "2022-10-11T10:53:36.244Z"
   },
   {
    "duration": 5,
    "start_time": "2022-10-11T10:53:36.252Z"
   },
   {
    "duration": 37,
    "start_time": "2022-10-11T10:53:36.258Z"
   },
   {
    "duration": 5,
    "start_time": "2022-10-11T10:53:36.297Z"
   },
   {
    "duration": 5,
    "start_time": "2022-10-11T10:53:36.304Z"
   },
   {
    "duration": 7,
    "start_time": "2022-10-11T10:53:36.310Z"
   },
   {
    "duration": 14,
    "start_time": "2022-10-11T10:53:36.318Z"
   },
   {
    "duration": 7,
    "start_time": "2022-10-11T10:53:36.334Z"
   },
   {
    "duration": 11,
    "start_time": "2022-10-11T10:53:36.342Z"
   },
   {
    "duration": 3,
    "start_time": "2022-10-11T10:53:36.355Z"
   },
   {
    "duration": 7656,
    "start_time": "2022-10-11T10:53:36.360Z"
   },
   {
    "duration": 1388,
    "start_time": "2022-10-11T10:54:13.630Z"
   },
   {
    "duration": 701,
    "start_time": "2022-10-11T10:54:15.020Z"
   },
   {
    "duration": 4,
    "start_time": "2022-10-11T10:54:15.723Z"
   },
   {
    "duration": 380,
    "start_time": "2022-10-11T10:54:15.729Z"
   },
   {
    "duration": 184,
    "start_time": "2022-10-11T10:54:16.111Z"
   },
   {
    "duration": 399,
    "start_time": "2022-10-11T10:54:16.296Z"
   },
   {
    "duration": 3,
    "start_time": "2022-10-11T10:54:16.697Z"
   },
   {
    "duration": 21,
    "start_time": "2022-10-11T10:54:16.702Z"
   },
   {
    "duration": 12,
    "start_time": "2022-10-11T10:54:16.725Z"
   },
   {
    "duration": 9,
    "start_time": "2022-10-11T10:54:16.741Z"
   },
   {
    "duration": 12,
    "start_time": "2022-10-11T10:54:16.752Z"
   },
   {
    "duration": 11,
    "start_time": "2022-10-11T10:54:16.766Z"
   },
   {
    "duration": 30,
    "start_time": "2022-10-11T10:54:16.780Z"
   },
   {
    "duration": 7,
    "start_time": "2022-10-11T10:54:16.812Z"
   },
   {
    "duration": 80,
    "start_time": "2022-10-11T10:54:16.821Z"
   },
   {
    "duration": 4,
    "start_time": "2022-10-11T10:54:16.903Z"
   },
   {
    "duration": 8,
    "start_time": "2022-10-11T10:54:16.909Z"
   },
   {
    "duration": 6,
    "start_time": "2022-10-11T10:54:16.919Z"
   },
   {
    "duration": 16,
    "start_time": "2022-10-11T10:54:16.927Z"
   },
   {
    "duration": 4,
    "start_time": "2022-10-11T10:54:16.944Z"
   },
   {
    "duration": 6,
    "start_time": "2022-10-11T10:54:16.950Z"
   },
   {
    "duration": 49,
    "start_time": "2022-10-11T10:54:16.957Z"
   },
   {
    "duration": 3,
    "start_time": "2022-10-11T10:54:17.008Z"
   },
   {
    "duration": 17,
    "start_time": "2022-10-11T10:54:17.012Z"
   },
   {
    "duration": 238,
    "start_time": "2022-10-11T10:54:17.031Z"
   },
   {
    "duration": 4576,
    "start_time": "2022-10-11T10:54:17.270Z"
   },
   {
    "duration": 1083,
    "start_time": "2022-10-11T10:54:21.847Z"
   },
   {
    "duration": 31,
    "start_time": "2022-10-11T10:54:22.934Z"
   },
   {
    "duration": 228,
    "start_time": "2022-10-11T10:54:22.967Z"
   },
   {
    "duration": 4,
    "start_time": "2022-10-11T10:54:23.197Z"
   },
   {
    "duration": 7,
    "start_time": "2022-10-11T10:54:23.203Z"
   },
   {
    "duration": 40,
    "start_time": "2022-10-11T10:54:23.212Z"
   },
   {
    "duration": 5,
    "start_time": "2022-10-11T10:54:23.254Z"
   },
   {
    "duration": 17,
    "start_time": "2022-10-11T10:54:23.261Z"
   },
   {
    "duration": 28,
    "start_time": "2022-10-11T10:54:23.280Z"
   },
   {
    "duration": 19,
    "start_time": "2022-10-11T10:54:23.310Z"
   },
   {
    "duration": 16,
    "start_time": "2022-10-11T10:54:23.331Z"
   },
   {
    "duration": 12,
    "start_time": "2022-10-11T10:54:23.349Z"
   },
   {
    "duration": 23,
    "start_time": "2022-10-11T10:54:23.363Z"
   },
   {
    "duration": 16,
    "start_time": "2022-10-11T10:54:23.388Z"
   },
   {
    "duration": 15,
    "start_time": "2022-10-11T10:54:23.407Z"
   },
   {
    "duration": 20,
    "start_time": "2022-10-11T10:54:23.424Z"
   },
   {
    "duration": 14,
    "start_time": "2022-10-11T10:54:23.446Z"
   },
   {
    "duration": 7580,
    "start_time": "2022-10-11T10:54:23.463Z"
   },
   {
    "duration": 1383,
    "start_time": "2022-10-11T10:57:57.874Z"
   },
   {
    "duration": 696,
    "start_time": "2022-10-11T10:57:59.259Z"
   },
   {
    "duration": 3,
    "start_time": "2022-10-11T10:57:59.956Z"
   },
   {
    "duration": 417,
    "start_time": "2022-10-11T10:57:59.961Z"
   },
   {
    "duration": 196,
    "start_time": "2022-10-11T10:58:00.380Z"
   },
   {
    "duration": 404,
    "start_time": "2022-10-11T10:58:00.578Z"
   },
   {
    "duration": 3,
    "start_time": "2022-10-11T10:58:00.984Z"
   },
   {
    "duration": 15,
    "start_time": "2022-10-11T10:58:00.995Z"
   },
   {
    "duration": 11,
    "start_time": "2022-10-11T10:58:01.012Z"
   },
   {
    "duration": 17,
    "start_time": "2022-10-11T10:58:01.026Z"
   },
   {
    "duration": 28,
    "start_time": "2022-10-11T10:58:01.046Z"
   },
   {
    "duration": 32,
    "start_time": "2022-10-11T10:58:01.076Z"
   },
   {
    "duration": 35,
    "start_time": "2022-10-11T10:58:01.111Z"
   },
   {
    "duration": 28,
    "start_time": "2022-10-11T10:58:01.148Z"
   },
   {
    "duration": 77,
    "start_time": "2022-10-11T10:58:01.177Z"
   },
   {
    "duration": 5,
    "start_time": "2022-10-11T10:58:01.257Z"
   },
   {
    "duration": 18,
    "start_time": "2022-10-11T10:58:01.264Z"
   },
   {
    "duration": 16,
    "start_time": "2022-10-11T10:58:01.286Z"
   },
   {
    "duration": 27,
    "start_time": "2022-10-11T10:58:01.304Z"
   },
   {
    "duration": 5,
    "start_time": "2022-10-11T10:58:01.332Z"
   },
   {
    "duration": 10,
    "start_time": "2022-10-11T10:58:01.338Z"
   },
   {
    "duration": 19,
    "start_time": "2022-10-11T10:58:01.350Z"
   },
   {
    "duration": 6,
    "start_time": "2022-10-11T10:58:01.370Z"
   },
   {
    "duration": 33,
    "start_time": "2022-10-11T10:58:01.378Z"
   },
   {
    "duration": 247,
    "start_time": "2022-10-11T10:58:01.413Z"
   },
   {
    "duration": 4616,
    "start_time": "2022-10-11T10:58:01.662Z"
   },
   {
    "duration": 1159,
    "start_time": "2022-10-11T10:58:06.280Z"
   },
   {
    "duration": 35,
    "start_time": "2022-10-11T10:58:07.443Z"
   },
   {
    "duration": 224,
    "start_time": "2022-10-11T10:58:07.480Z"
   },
   {
    "duration": 3,
    "start_time": "2022-10-11T10:58:07.706Z"
   },
   {
    "duration": 7,
    "start_time": "2022-10-11T10:58:07.710Z"
   },
   {
    "duration": 35,
    "start_time": "2022-10-11T10:58:07.718Z"
   },
   {
    "duration": 6,
    "start_time": "2022-10-11T10:58:07.755Z"
   },
   {
    "duration": 10,
    "start_time": "2022-10-11T10:58:07.763Z"
   },
   {
    "duration": 25,
    "start_time": "2022-10-11T10:58:07.776Z"
   },
   {
    "duration": 9,
    "start_time": "2022-10-11T10:58:07.803Z"
   },
   {
    "duration": 7,
    "start_time": "2022-10-11T10:58:07.814Z"
   },
   {
    "duration": 6,
    "start_time": "2022-10-11T10:58:07.823Z"
   },
   {
    "duration": 5,
    "start_time": "2022-10-11T10:58:07.831Z"
   },
   {
    "duration": 8,
    "start_time": "2022-10-11T10:58:07.838Z"
   },
   {
    "duration": 7,
    "start_time": "2022-10-11T10:58:07.848Z"
   },
   {
    "duration": 12,
    "start_time": "2022-10-11T10:58:07.857Z"
   },
   {
    "duration": 4,
    "start_time": "2022-10-11T10:58:07.871Z"
   },
   {
    "duration": 2711,
    "start_time": "2022-10-11T10:58:07.894Z"
   },
   {
    "duration": 217646,
    "start_time": "2022-10-11T10:58:10.606Z"
   },
   {
    "duration": 104,
    "start_time": "2022-10-11T11:01:48.254Z"
   },
   {
    "duration": 0,
    "start_time": "2022-10-11T11:01:48.360Z"
   },
   {
    "duration": 0,
    "start_time": "2022-10-11T11:01:48.361Z"
   },
   {
    "duration": 0,
    "start_time": "2022-10-11T11:01:48.361Z"
   },
   {
    "duration": 1655,
    "start_time": "2022-10-11T11:05:08.853Z"
   },
   {
    "duration": 5,
    "start_time": "2022-10-11T11:05:12.125Z"
   },
   {
    "duration": 7,
    "start_time": "2022-10-11T11:05:12.989Z"
   },
   {
    "duration": 938,
    "start_time": "2022-10-11T11:05:20.917Z"
   }
  ],
  "kernelspec": {
   "display_name": "Python 3 (ipykernel)",
   "language": "python",
   "name": "python3"
  },
  "language_info": {
   "codemirror_mode": {
    "name": "ipython",
    "version": 3
   },
   "file_extension": ".py",
   "mimetype": "text/x-python",
   "name": "python",
   "nbconvert_exporter": "python",
   "pygments_lexer": "ipython3",
   "version": "3.9.13"
  },
  "toc": {
   "base_numbering": 1,
   "nav_menu": {},
   "number_sections": true,
   "sideBar": true,
   "skip_h1_title": true,
   "title_cell": "Содержание",
   "title_sidebar": "Contents",
   "toc_cell": true,
   "toc_position": {
    "height": "calc(100% - 180px)",
    "left": "10px",
    "top": "150px",
    "width": "349.766px"
   },
   "toc_section_display": true,
   "toc_window_display": true
  }
 },
 "nbformat": 4,
 "nbformat_minor": 2
}
