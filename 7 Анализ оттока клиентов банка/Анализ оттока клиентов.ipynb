{
 "cells": [
  {
   "cell_type": "markdown",
   "metadata": {
    "toc": true
   },
   "source": [
    "<h1>Содержание<span class=\"tocSkip\"></span></h1>\n",
    "<div class=\"toc\"><ul class=\"toc-item\"><li><span><a href=\"#Подготовка-данных\" data-toc-modified-id=\"Подготовка-данных-1\"><span class=\"toc-item-num\">1&nbsp;&nbsp;</span>Подготовка данных</a></span><ul class=\"toc-item\"><li><span><a href=\"#Описание-данных\" data-toc-modified-id=\"Описание-данных-1.1\"><span class=\"toc-item-num\">1.1&nbsp;&nbsp;</span>Описание данных</a></span></li><li><span><a href=\"#Работа-с-пропусков\" data-toc-modified-id=\"Работа-с-пропусков-1.2\"><span class=\"toc-item-num\">1.2&nbsp;&nbsp;</span>Работа с пропусков</a></span></li><li><span><a href=\"#Удаление-столбцов\" data-toc-modified-id=\"Удаление-столбцов-1.3\"><span class=\"toc-item-num\">1.3&nbsp;&nbsp;</span>Удаление столбцов</a></span></li><li><span><a href=\"#Преобразуем-данные\" data-toc-modified-id=\"Преобразуем-данные-1.4\"><span class=\"toc-item-num\">1.4&nbsp;&nbsp;</span>Преобразуем данные</a></span></li><li><span><a href=\"#Корреляци-данных-и-проверка-замены-пропусков\" data-toc-modified-id=\"Корреляци-данных-и-проверка-замены-пропусков-1.5\"><span class=\"toc-item-num\">1.5&nbsp;&nbsp;</span>Корреляци данных и проверка замены пропусков</a></span></li><li><span><a href=\"#Разделение-на-выборки\" data-toc-modified-id=\"Разделение-на-выборки-1.6\"><span class=\"toc-item-num\">1.6&nbsp;&nbsp;</span>Разделение на выборки</a></span></li><li><span><a href=\"#Маштабирование-признаков\" data-toc-modified-id=\"Маштабирование-признаков-1.7\"><span class=\"toc-item-num\">1.7&nbsp;&nbsp;</span>Маштабирование признаков</a></span></li></ul></li><li><span><a href=\"#Исследование-задачи\" data-toc-modified-id=\"Исследование-задачи-2\"><span class=\"toc-item-num\">2&nbsp;&nbsp;</span>Исследование задачи</a></span><ul class=\"toc-item\"><li><span><a href=\"#Баланс-классов\" data-toc-modified-id=\"Баланс-классов-2.1\"><span class=\"toc-item-num\">2.1&nbsp;&nbsp;</span>Баланс классов</a></span></li><li><span><a href=\"#Изучены-модели-без-учёта-дисбаланса\" data-toc-modified-id=\"Изучены-модели-без-учёта-дисбаланса-2.2\"><span class=\"toc-item-num\">2.2&nbsp;&nbsp;</span>Изучены модели без учёта дисбаланса</a></span><ul class=\"toc-item\"><li><span><a href=\"#accuracy\" data-toc-modified-id=\"accuracy-2.2.1\"><span class=\"toc-item-num\">2.2.1&nbsp;&nbsp;</span>accuracy</a></span></li><li><span><a href=\"#Проверка-адекватности\" data-toc-modified-id=\"Проверка-адекватности-2.2.2\"><span class=\"toc-item-num\">2.2.2&nbsp;&nbsp;</span>Проверка адекватности</a></span></li><li><span><a href=\"#Матрица-ошибок\" data-toc-modified-id=\"Матрица-ошибок-2.2.3\"><span class=\"toc-item-num\">2.2.3&nbsp;&nbsp;</span>Матрица ошибок</a></span></li></ul></li></ul></li><li><span><a href=\"#Борьба-с-дисбалансом\" data-toc-modified-id=\"Борьба-с-дисбалансом-3\"><span class=\"toc-item-num\">3&nbsp;&nbsp;</span>Борьба с дисбалансом</a></span></li><li><span><a href=\"#Тестирование-модели\" data-toc-modified-id=\"Тестирование-модели-4\"><span class=\"toc-item-num\">4&nbsp;&nbsp;</span>Тестирование модели</a></span></li><li><span><a href=\"#Чек-лист-готовности-проекта\" data-toc-modified-id=\"Чек-лист-готовности-проекта-5\"><span class=\"toc-item-num\">5&nbsp;&nbsp;</span>Чек-лист готовности проекта</a></span></li></ul></div>"
   ]
  },
  {
   "cell_type": "markdown",
   "metadata": {},
   "source": [
    "# Отток клиентов"
   ]
  },
  {
   "cell_type": "markdown",
   "metadata": {},
   "source": [
    "Из «Бета-Банка» стали уходить клиенты. Каждый месяц. Немного, но заметно. Банковские маркетологи посчитали: сохранять текущих клиентов дешевле, чем привлекать новых.\n",
    "\n",
    "Нужно спрогнозировать, уйдёт клиент из банка в ближайшее время или нет. Вам предоставлены исторические данные о поведении клиентов и расторжении договоров с банком. \n",
    "\n",
    "Постройте модель с предельно большим значением *F1*-меры. Чтобы сдать проект успешно, нужно довести метрику до 0.59. Проверьте *F1*-меру на тестовой выборке самостоятельно.\n",
    "\n",
    "Дополнительно измеряйте *AUC-ROC*, сравнивайте её значение с *F1*-мерой.\n",
    "\n",
    "Источник данных: [https://www.kaggle.com/barelydedicated/bank-customer-churn-modeling](https://www.kaggle.com/barelydedicated/bank-customer-churn-modeling)"
   ]
  },
  {
   "cell_type": "markdown",
   "metadata": {},
   "source": [
    "## Подготовка данных"
   ]
  },
  {
   "cell_type": "code",
   "execution_count": 1,
   "metadata": {},
   "outputs": [],
   "source": [
    "import pandas as pd\n",
    "import matplotlib.pyplot as plt\n",
    "from sklearn.model_selection import train_test_split # импорт для разбивки на выборки\n",
    "from sklearn.preprocessing import StandardScaler # импорт для маштабирования\n",
    "from sklearn.tree import DecisionTreeClassifier\n",
    "from sklearn.ensemble import RandomForestClassifier\n",
    "from sklearn.linear_model import LogisticRegression\n",
    "\n",
    "from sklearn.metrics import accuracy_score #метика accuracy\n",
    "from sklearn.metrics import confusion_matrix #матрица ошибок\n",
    "from sklearn.metrics import recall_score #полнота\n",
    "from sklearn.metrics import precision_score #точность\n",
    "from sklearn.metrics import f1_score #F-1 мера\n",
    "from sklearn.metrics import roc_auc_score #AUC-ROC\n",
    "from sklearn.metrics import roc_curve #ROC-кривая\n",
    "\n",
    "from sklearn.utils import shuffle"
   ]
  },
  {
   "cell_type": "code",
   "execution_count": 2,
   "metadata": {
    "scrolled": false
   },
   "outputs": [
    {
     "name": "stdout",
     "output_type": "stream",
     "text": [
      "<class 'pandas.core.frame.DataFrame'>\n",
      "RangeIndex: 10000 entries, 0 to 9999\n",
      "Data columns (total 14 columns):\n",
      " #   Column           Non-Null Count  Dtype  \n",
      "---  ------           --------------  -----  \n",
      " 0   RowNumber        10000 non-null  int64  \n",
      " 1   CustomerId       10000 non-null  int64  \n",
      " 2   Surname          10000 non-null  object \n",
      " 3   CreditScore      10000 non-null  int64  \n",
      " 4   Geography        10000 non-null  object \n",
      " 5   Gender           10000 non-null  object \n",
      " 6   Age              10000 non-null  int64  \n",
      " 7   Tenure           9091 non-null   float64\n",
      " 8   Balance          10000 non-null  float64\n",
      " 9   NumOfProducts    10000 non-null  int64  \n",
      " 10  HasCrCard        10000 non-null  int64  \n",
      " 11  IsActiveMember   10000 non-null  int64  \n",
      " 12  EstimatedSalary  10000 non-null  float64\n",
      " 13  Exited           10000 non-null  int64  \n",
      "dtypes: float64(3), int64(8), object(3)\n",
      "memory usage: 1.1+ MB\n",
      "Дубликатов: 0\n"
     ]
    },
    {
     "data": {
      "text/html": [
       "<div>\n",
       "<style scoped>\n",
       "    .dataframe tbody tr th:only-of-type {\n",
       "        vertical-align: middle;\n",
       "    }\n",
       "\n",
       "    .dataframe tbody tr th {\n",
       "        vertical-align: top;\n",
       "    }\n",
       "\n",
       "    .dataframe thead th {\n",
       "        text-align: right;\n",
       "    }\n",
       "</style>\n",
       "<table border=\"1\" class=\"dataframe\">\n",
       "  <thead>\n",
       "    <tr style=\"text-align: right;\">\n",
       "      <th></th>\n",
       "      <th>RowNumber</th>\n",
       "      <th>CustomerId</th>\n",
       "      <th>Surname</th>\n",
       "      <th>CreditScore</th>\n",
       "      <th>Geography</th>\n",
       "      <th>Gender</th>\n",
       "      <th>Age</th>\n",
       "      <th>Tenure</th>\n",
       "      <th>Balance</th>\n",
       "      <th>NumOfProducts</th>\n",
       "      <th>HasCrCard</th>\n",
       "      <th>IsActiveMember</th>\n",
       "      <th>EstimatedSalary</th>\n",
       "      <th>Exited</th>\n",
       "    </tr>\n",
       "  </thead>\n",
       "  <tbody>\n",
       "    <tr>\n",
       "      <th>0</th>\n",
       "      <td>1</td>\n",
       "      <td>15634602</td>\n",
       "      <td>Hargrave</td>\n",
       "      <td>619</td>\n",
       "      <td>France</td>\n",
       "      <td>Female</td>\n",
       "      <td>42</td>\n",
       "      <td>2.0</td>\n",
       "      <td>0.00</td>\n",
       "      <td>1</td>\n",
       "      <td>1</td>\n",
       "      <td>1</td>\n",
       "      <td>101348.88</td>\n",
       "      <td>1</td>\n",
       "    </tr>\n",
       "    <tr>\n",
       "      <th>1</th>\n",
       "      <td>2</td>\n",
       "      <td>15647311</td>\n",
       "      <td>Hill</td>\n",
       "      <td>608</td>\n",
       "      <td>Spain</td>\n",
       "      <td>Female</td>\n",
       "      <td>41</td>\n",
       "      <td>1.0</td>\n",
       "      <td>83807.86</td>\n",
       "      <td>1</td>\n",
       "      <td>0</td>\n",
       "      <td>1</td>\n",
       "      <td>112542.58</td>\n",
       "      <td>0</td>\n",
       "    </tr>\n",
       "    <tr>\n",
       "      <th>2</th>\n",
       "      <td>3</td>\n",
       "      <td>15619304</td>\n",
       "      <td>Onio</td>\n",
       "      <td>502</td>\n",
       "      <td>France</td>\n",
       "      <td>Female</td>\n",
       "      <td>42</td>\n",
       "      <td>8.0</td>\n",
       "      <td>159660.80</td>\n",
       "      <td>3</td>\n",
       "      <td>1</td>\n",
       "      <td>0</td>\n",
       "      <td>113931.57</td>\n",
       "      <td>1</td>\n",
       "    </tr>\n",
       "    <tr>\n",
       "      <th>3</th>\n",
       "      <td>4</td>\n",
       "      <td>15701354</td>\n",
       "      <td>Boni</td>\n",
       "      <td>699</td>\n",
       "      <td>France</td>\n",
       "      <td>Female</td>\n",
       "      <td>39</td>\n",
       "      <td>1.0</td>\n",
       "      <td>0.00</td>\n",
       "      <td>2</td>\n",
       "      <td>0</td>\n",
       "      <td>0</td>\n",
       "      <td>93826.63</td>\n",
       "      <td>0</td>\n",
       "    </tr>\n",
       "    <tr>\n",
       "      <th>4</th>\n",
       "      <td>5</td>\n",
       "      <td>15737888</td>\n",
       "      <td>Mitchell</td>\n",
       "      <td>850</td>\n",
       "      <td>Spain</td>\n",
       "      <td>Female</td>\n",
       "      <td>43</td>\n",
       "      <td>2.0</td>\n",
       "      <td>125510.82</td>\n",
       "      <td>1</td>\n",
       "      <td>1</td>\n",
       "      <td>1</td>\n",
       "      <td>79084.10</td>\n",
       "      <td>0</td>\n",
       "    </tr>\n",
       "  </tbody>\n",
       "</table>\n",
       "</div>"
      ],
      "text/plain": [
       "   RowNumber  CustomerId   Surname  CreditScore Geography  Gender  Age  \\\n",
       "0          1    15634602  Hargrave          619    France  Female   42   \n",
       "1          2    15647311      Hill          608     Spain  Female   41   \n",
       "2          3    15619304      Onio          502    France  Female   42   \n",
       "3          4    15701354      Boni          699    France  Female   39   \n",
       "4          5    15737888  Mitchell          850     Spain  Female   43   \n",
       "\n",
       "   Tenure    Balance  NumOfProducts  HasCrCard  IsActiveMember  \\\n",
       "0     2.0       0.00              1          1               1   \n",
       "1     1.0   83807.86              1          0               1   \n",
       "2     8.0  159660.80              3          1               0   \n",
       "3     1.0       0.00              2          0               0   \n",
       "4     2.0  125510.82              1          1               1   \n",
       "\n",
       "   EstimatedSalary  Exited  \n",
       "0        101348.88       1  \n",
       "1        112542.58       0  \n",
       "2        113931.57       1  \n",
       "3         93826.63       0  \n",
       "4         79084.10       0  "
      ]
     },
     "metadata": {},
     "output_type": "display_data"
    },
    {
     "data": {
      "text/plain": [
       "None"
      ]
     },
     "metadata": {},
     "output_type": "display_data"
    },
    {
     "data": {
      "text/plain": [
       "RowNumber            0\n",
       "CustomerId           0\n",
       "Surname              0\n",
       "CreditScore          0\n",
       "Geography            0\n",
       "Gender               0\n",
       "Age                  0\n",
       "Tenure             909\n",
       "Balance              0\n",
       "NumOfProducts        0\n",
       "HasCrCard            0\n",
       "IsActiveMember       0\n",
       "EstimatedSalary      0\n",
       "Exited               0\n",
       "dtype: int64"
      ]
     },
     "metadata": {},
     "output_type": "display_data"
    },
    {
     "data": {
      "text/plain": [
       "None"
      ]
     },
     "metadata": {},
     "output_type": "display_data"
    }
   ],
   "source": [
    "data = pd.read_csv('/datasets/Churn.csv')\n",
    "display(data.head(),\n",
    "        data.info(),\n",
    "       data.isna().sum(),\n",
    "       print('Дубликатов:', data.duplicated().sum()))"
   ]
  },
  {
   "cell_type": "markdown",
   "metadata": {},
   "source": [
    "### Описание данных"
   ]
  },
  {
   "cell_type": "markdown",
   "metadata": {},
   "source": [
    "Перед нами датасет с 10 000 строк и 14 столбцами. Пропуски имеются только в столбце `Tenure` - сколько лет человек клиент в банке. \n",
    "<br>Столбец `RowNumber` - нумерует строчки, фактически повторяет информацию самого ДатаФрейма, для обучения модели не нужен.\n",
    "<br>`CustomerId` - идентификатор клиента, так же для обучения модели не потребуется.\n",
    "<br>`Surname` - Фамилия клиента, для обучения модели непотребуется.\n",
    "\n",
    "столбец `Exited` — факт ухода клиента - Целевой признак, категориальный признак, значит подойдет методами классификации."
   ]
  },
  {
   "cell_type": "code",
   "execution_count": 3,
   "metadata": {},
   "outputs": [
    {
     "data": {
      "text/plain": [
       "array(['France', 'Spain', 'Germany'], dtype=object)"
      ]
     },
     "execution_count": 3,
     "metadata": {},
     "output_type": "execute_result"
    }
   ],
   "source": [
    "data['Geography'].unique()"
   ]
  },
  {
   "cell_type": "markdown",
   "metadata": {},
   "source": [
    "`Geography` - столбец имеет 3 уникальных наименования, можно преобразовать техникой OHE\n",
    "<br> `Gender`  — так же нужно будет преобразовать OHE\n",
    "<br> Все типы данных соответствуют нашим задачам\n",
    "<br> для уменьшения ошибок и удобства записи кода переведу названия столбцов в нижний регистр"
   ]
  },
  {
   "cell_type": "code",
   "execution_count": 4,
   "metadata": {},
   "outputs": [],
   "source": [
    "data.columns = [x.lower() for x in data.columns]"
   ]
  },
  {
   "cell_type": "markdown",
   "metadata": {},
   "source": [
    "### Работа с пропусков"
   ]
  },
  {
   "cell_type": "code",
   "execution_count": 5,
   "metadata": {
    "scrolled": true
   },
   "outputs": [
    {
     "data": {
      "text/plain": [
       "array([ 2.,  1.,  8.,  7.,  4.,  6.,  3., 10.,  5.,  9.,  0., nan])"
      ]
     },
     "execution_count": 5,
     "metadata": {},
     "output_type": "execute_result"
    }
   ],
   "source": [
    "data['tenure'].unique()"
   ]
  },
  {
   "cell_type": "code",
   "execution_count": 6,
   "metadata": {},
   "outputs": [
    {
     "data": {
      "text/plain": [
       "rownumber            0\n",
       "customerid           0\n",
       "surname              0\n",
       "creditscore          0\n",
       "geography            0\n",
       "gender               0\n",
       "age                  0\n",
       "tenure             909\n",
       "balance              0\n",
       "numofproducts        0\n",
       "hascrcard            0\n",
       "isactivemember       0\n",
       "estimatedsalary      0\n",
       "exited               0\n",
       "dtype: int64"
      ]
     },
     "execution_count": 6,
     "metadata": {},
     "output_type": "execute_result"
    }
   ],
   "source": [
    "data.isna().sum()"
   ]
  },
  {
   "cell_type": "code",
   "execution_count": 7,
   "metadata": {},
   "outputs": [],
   "source": [
    "#data['tenure'] = data['tenure'].fillna(data['tenure'].median())# заменю пропуски на медианное число, так как неизвестна причина пропусков"
   ]
  },
  {
   "cell_type": "code",
   "execution_count": 8,
   "metadata": {
    "scrolled": true
   },
   "outputs": [
    {
     "data": {
      "text/plain": [
       "0"
      ]
     },
     "execution_count": 8,
     "metadata": {},
     "output_type": "execute_result"
    }
   ],
   "source": [
    "data.duplicated().sum()# проверка наличия дубликатов"
   ]
  },
  {
   "cell_type": "markdown",
   "metadata": {},
   "source": [
    "### Удаление столбцов"
   ]
  },
  {
   "cell_type": "code",
   "execution_count": 9,
   "metadata": {},
   "outputs": [
    {
     "data": {
      "text/html": [
       "<div>\n",
       "<style scoped>\n",
       "    .dataframe tbody tr th:only-of-type {\n",
       "        vertical-align: middle;\n",
       "    }\n",
       "\n",
       "    .dataframe tbody tr th {\n",
       "        vertical-align: top;\n",
       "    }\n",
       "\n",
       "    .dataframe thead th {\n",
       "        text-align: right;\n",
       "    }\n",
       "</style>\n",
       "<table border=\"1\" class=\"dataframe\">\n",
       "  <thead>\n",
       "    <tr style=\"text-align: right;\">\n",
       "      <th></th>\n",
       "      <th>creditscore</th>\n",
       "      <th>geography</th>\n",
       "      <th>gender</th>\n",
       "      <th>age</th>\n",
       "      <th>tenure</th>\n",
       "      <th>balance</th>\n",
       "      <th>numofproducts</th>\n",
       "      <th>hascrcard</th>\n",
       "      <th>isactivemember</th>\n",
       "      <th>estimatedsalary</th>\n",
       "      <th>exited</th>\n",
       "    </tr>\n",
       "  </thead>\n",
       "  <tbody>\n",
       "    <tr>\n",
       "      <th>0</th>\n",
       "      <td>619</td>\n",
       "      <td>France</td>\n",
       "      <td>Female</td>\n",
       "      <td>42</td>\n",
       "      <td>2.0</td>\n",
       "      <td>0.00</td>\n",
       "      <td>1</td>\n",
       "      <td>1</td>\n",
       "      <td>1</td>\n",
       "      <td>101348.88</td>\n",
       "      <td>1</td>\n",
       "    </tr>\n",
       "    <tr>\n",
       "      <th>1</th>\n",
       "      <td>608</td>\n",
       "      <td>Spain</td>\n",
       "      <td>Female</td>\n",
       "      <td>41</td>\n",
       "      <td>1.0</td>\n",
       "      <td>83807.86</td>\n",
       "      <td>1</td>\n",
       "      <td>0</td>\n",
       "      <td>1</td>\n",
       "      <td>112542.58</td>\n",
       "      <td>0</td>\n",
       "    </tr>\n",
       "    <tr>\n",
       "      <th>2</th>\n",
       "      <td>502</td>\n",
       "      <td>France</td>\n",
       "      <td>Female</td>\n",
       "      <td>42</td>\n",
       "      <td>8.0</td>\n",
       "      <td>159660.80</td>\n",
       "      <td>3</td>\n",
       "      <td>1</td>\n",
       "      <td>0</td>\n",
       "      <td>113931.57</td>\n",
       "      <td>1</td>\n",
       "    </tr>\n",
       "    <tr>\n",
       "      <th>3</th>\n",
       "      <td>699</td>\n",
       "      <td>France</td>\n",
       "      <td>Female</td>\n",
       "      <td>39</td>\n",
       "      <td>1.0</td>\n",
       "      <td>0.00</td>\n",
       "      <td>2</td>\n",
       "      <td>0</td>\n",
       "      <td>0</td>\n",
       "      <td>93826.63</td>\n",
       "      <td>0</td>\n",
       "    </tr>\n",
       "    <tr>\n",
       "      <th>4</th>\n",
       "      <td>850</td>\n",
       "      <td>Spain</td>\n",
       "      <td>Female</td>\n",
       "      <td>43</td>\n",
       "      <td>2.0</td>\n",
       "      <td>125510.82</td>\n",
       "      <td>1</td>\n",
       "      <td>1</td>\n",
       "      <td>1</td>\n",
       "      <td>79084.10</td>\n",
       "      <td>0</td>\n",
       "    </tr>\n",
       "  </tbody>\n",
       "</table>\n",
       "</div>"
      ],
      "text/plain": [
       "   creditscore geography  gender  age  tenure    balance  numofproducts  \\\n",
       "0          619    France  Female   42     2.0       0.00              1   \n",
       "1          608     Spain  Female   41     1.0   83807.86              1   \n",
       "2          502    France  Female   42     8.0  159660.80              3   \n",
       "3          699    France  Female   39     1.0       0.00              2   \n",
       "4          850     Spain  Female   43     2.0  125510.82              1   \n",
       "\n",
       "   hascrcard  isactivemember  estimatedsalary  exited  \n",
       "0          1               1        101348.88       1  \n",
       "1          0               1        112542.58       0  \n",
       "2          1               0        113931.57       1  \n",
       "3          0               0         93826.63       0  \n",
       "4          1               1         79084.10       0  "
      ]
     },
     "execution_count": 9,
     "metadata": {},
     "output_type": "execute_result"
    }
   ],
   "source": [
    "data_new = data.drop({'rownumber','customerid', 'surname'}, axis=1)\n",
    "data_new.head()"
   ]
  },
  {
   "cell_type": "code",
   "execution_count": 10,
   "metadata": {},
   "outputs": [
    {
     "data": {
      "text/plain": [
       "(10000, 11)"
      ]
     },
     "execution_count": 10,
     "metadata": {},
     "output_type": "execute_result"
    }
   ],
   "source": [
    "data_new.shape"
   ]
  },
  {
   "cell_type": "markdown",
   "metadata": {},
   "source": [
    "### Преобразуем данные \n",
    "техникой OHE, что бы использовать модели: деревое решений, случайный лес и логистическую регрессию."
   ]
  },
  {
   "cell_type": "code",
   "execution_count": 11,
   "metadata": {},
   "outputs": [
    {
     "data": {
      "text/html": [
       "<div>\n",
       "<style scoped>\n",
       "    .dataframe tbody tr th:only-of-type {\n",
       "        vertical-align: middle;\n",
       "    }\n",
       "\n",
       "    .dataframe tbody tr th {\n",
       "        vertical-align: top;\n",
       "    }\n",
       "\n",
       "    .dataframe thead th {\n",
       "        text-align: right;\n",
       "    }\n",
       "</style>\n",
       "<table border=\"1\" class=\"dataframe\">\n",
       "  <thead>\n",
       "    <tr style=\"text-align: right;\">\n",
       "      <th></th>\n",
       "      <th>creditscore</th>\n",
       "      <th>age</th>\n",
       "      <th>tenure</th>\n",
       "      <th>balance</th>\n",
       "      <th>numofproducts</th>\n",
       "      <th>hascrcard</th>\n",
       "      <th>isactivemember</th>\n",
       "      <th>estimatedsalary</th>\n",
       "      <th>exited</th>\n",
       "      <th>geography_Germany</th>\n",
       "      <th>geography_Spain</th>\n",
       "      <th>gender_Male</th>\n",
       "    </tr>\n",
       "  </thead>\n",
       "  <tbody>\n",
       "    <tr>\n",
       "      <th>0</th>\n",
       "      <td>619</td>\n",
       "      <td>42</td>\n",
       "      <td>2.0</td>\n",
       "      <td>0.00</td>\n",
       "      <td>1</td>\n",
       "      <td>1</td>\n",
       "      <td>1</td>\n",
       "      <td>101348.88</td>\n",
       "      <td>1</td>\n",
       "      <td>0</td>\n",
       "      <td>0</td>\n",
       "      <td>0</td>\n",
       "    </tr>\n",
       "    <tr>\n",
       "      <th>1</th>\n",
       "      <td>608</td>\n",
       "      <td>41</td>\n",
       "      <td>1.0</td>\n",
       "      <td>83807.86</td>\n",
       "      <td>1</td>\n",
       "      <td>0</td>\n",
       "      <td>1</td>\n",
       "      <td>112542.58</td>\n",
       "      <td>0</td>\n",
       "      <td>0</td>\n",
       "      <td>1</td>\n",
       "      <td>0</td>\n",
       "    </tr>\n",
       "    <tr>\n",
       "      <th>2</th>\n",
       "      <td>502</td>\n",
       "      <td>42</td>\n",
       "      <td>8.0</td>\n",
       "      <td>159660.80</td>\n",
       "      <td>3</td>\n",
       "      <td>1</td>\n",
       "      <td>0</td>\n",
       "      <td>113931.57</td>\n",
       "      <td>1</td>\n",
       "      <td>0</td>\n",
       "      <td>0</td>\n",
       "      <td>0</td>\n",
       "    </tr>\n",
       "    <tr>\n",
       "      <th>3</th>\n",
       "      <td>699</td>\n",
       "      <td>39</td>\n",
       "      <td>1.0</td>\n",
       "      <td>0.00</td>\n",
       "      <td>2</td>\n",
       "      <td>0</td>\n",
       "      <td>0</td>\n",
       "      <td>93826.63</td>\n",
       "      <td>0</td>\n",
       "      <td>0</td>\n",
       "      <td>0</td>\n",
       "      <td>0</td>\n",
       "    </tr>\n",
       "    <tr>\n",
       "      <th>4</th>\n",
       "      <td>850</td>\n",
       "      <td>43</td>\n",
       "      <td>2.0</td>\n",
       "      <td>125510.82</td>\n",
       "      <td>1</td>\n",
       "      <td>1</td>\n",
       "      <td>1</td>\n",
       "      <td>79084.10</td>\n",
       "      <td>0</td>\n",
       "      <td>0</td>\n",
       "      <td>1</td>\n",
       "      <td>0</td>\n",
       "    </tr>\n",
       "  </tbody>\n",
       "</table>\n",
       "</div>"
      ],
      "text/plain": [
       "   creditscore  age  tenure    balance  numofproducts  hascrcard  \\\n",
       "0          619   42     2.0       0.00              1          1   \n",
       "1          608   41     1.0   83807.86              1          0   \n",
       "2          502   42     8.0  159660.80              3          1   \n",
       "3          699   39     1.0       0.00              2          0   \n",
       "4          850   43     2.0  125510.82              1          1   \n",
       "\n",
       "   isactivemember  estimatedsalary  exited  geography_Germany  \\\n",
       "0               1        101348.88       1                  0   \n",
       "1               1        112542.58       0                  0   \n",
       "2               0        113931.57       1                  0   \n",
       "3               0         93826.63       0                  0   \n",
       "4               1         79084.10       0                  0   \n",
       "\n",
       "   geography_Spain  gender_Male  \n",
       "0                0            0  \n",
       "1                1            0  \n",
       "2                0            0  \n",
       "3                0            0  \n",
       "4                1            0  "
      ]
     },
     "execution_count": 11,
     "metadata": {},
     "output_type": "execute_result"
    }
   ],
   "source": [
    "data_new = pd.get_dummies(data_new, columns = ['geography', 'gender'],drop_first=True)# удалив первые столбцы преобразованных данных, что бы избежать дамми-ловушки\n",
    "data_new.head()"
   ]
  },
  {
   "cell_type": "markdown",
   "metadata": {},
   "source": [
    "### Корреляци данных и проверка замены пропусков"
   ]
  },
  {
   "cell_type": "code",
   "execution_count": 12,
   "metadata": {},
   "outputs": [
    {
     "data": {
      "text/html": [
       "<div>\n",
       "<style scoped>\n",
       "    .dataframe tbody tr th:only-of-type {\n",
       "        vertical-align: middle;\n",
       "    }\n",
       "\n",
       "    .dataframe tbody tr th {\n",
       "        vertical-align: top;\n",
       "    }\n",
       "\n",
       "    .dataframe thead th {\n",
       "        text-align: right;\n",
       "    }\n",
       "</style>\n",
       "<table border=\"1\" class=\"dataframe\">\n",
       "  <thead>\n",
       "    <tr style=\"text-align: right;\">\n",
       "      <th></th>\n",
       "      <th>creditscore</th>\n",
       "      <th>age</th>\n",
       "      <th>tenure</th>\n",
       "      <th>balance</th>\n",
       "      <th>numofproducts</th>\n",
       "      <th>hascrcard</th>\n",
       "      <th>isactivemember</th>\n",
       "      <th>estimatedsalary</th>\n",
       "      <th>exited</th>\n",
       "      <th>geography_Germany</th>\n",
       "      <th>geography_Spain</th>\n",
       "      <th>gender_Male</th>\n",
       "    </tr>\n",
       "  </thead>\n",
       "  <tbody>\n",
       "    <tr>\n",
       "      <th>creditscore</th>\n",
       "      <td>1.000000</td>\n",
       "      <td>-0.003965</td>\n",
       "      <td>-0.000062</td>\n",
       "      <td>0.006268</td>\n",
       "      <td>0.012238</td>\n",
       "      <td>-0.005458</td>\n",
       "      <td>0.025651</td>\n",
       "      <td>-0.001384</td>\n",
       "      <td>-0.027094</td>\n",
       "      <td>0.005538</td>\n",
       "      <td>0.004780</td>\n",
       "      <td>-0.002857</td>\n",
       "    </tr>\n",
       "    <tr>\n",
       "      <th>age</th>\n",
       "      <td>-0.003965</td>\n",
       "      <td>1.000000</td>\n",
       "      <td>-0.013134</td>\n",
       "      <td>0.028308</td>\n",
       "      <td>-0.030680</td>\n",
       "      <td>-0.011721</td>\n",
       "      <td>0.085472</td>\n",
       "      <td>-0.007201</td>\n",
       "      <td>0.285323</td>\n",
       "      <td>0.046897</td>\n",
       "      <td>-0.001685</td>\n",
       "      <td>-0.027544</td>\n",
       "    </tr>\n",
       "    <tr>\n",
       "      <th>tenure</th>\n",
       "      <td>-0.000062</td>\n",
       "      <td>-0.013134</td>\n",
       "      <td>1.000000</td>\n",
       "      <td>-0.007911</td>\n",
       "      <td>0.011979</td>\n",
       "      <td>0.027232</td>\n",
       "      <td>-0.032178</td>\n",
       "      <td>0.010520</td>\n",
       "      <td>-0.016761</td>\n",
       "      <td>-0.003299</td>\n",
       "      <td>0.000810</td>\n",
       "      <td>0.012634</td>\n",
       "    </tr>\n",
       "    <tr>\n",
       "      <th>balance</th>\n",
       "      <td>0.006268</td>\n",
       "      <td>0.028308</td>\n",
       "      <td>-0.007911</td>\n",
       "      <td>1.000000</td>\n",
       "      <td>-0.304180</td>\n",
       "      <td>-0.014858</td>\n",
       "      <td>-0.010084</td>\n",
       "      <td>0.012797</td>\n",
       "      <td>0.118533</td>\n",
       "      <td>0.401110</td>\n",
       "      <td>-0.134892</td>\n",
       "      <td>0.012087</td>\n",
       "    </tr>\n",
       "    <tr>\n",
       "      <th>numofproducts</th>\n",
       "      <td>0.012238</td>\n",
       "      <td>-0.030680</td>\n",
       "      <td>0.011979</td>\n",
       "      <td>-0.304180</td>\n",
       "      <td>1.000000</td>\n",
       "      <td>0.003183</td>\n",
       "      <td>0.009612</td>\n",
       "      <td>0.014204</td>\n",
       "      <td>-0.047820</td>\n",
       "      <td>-0.010419</td>\n",
       "      <td>0.009039</td>\n",
       "      <td>-0.021859</td>\n",
       "    </tr>\n",
       "    <tr>\n",
       "      <th>hascrcard</th>\n",
       "      <td>-0.005458</td>\n",
       "      <td>-0.011721</td>\n",
       "      <td>0.027232</td>\n",
       "      <td>-0.014858</td>\n",
       "      <td>0.003183</td>\n",
       "      <td>1.000000</td>\n",
       "      <td>-0.011866</td>\n",
       "      <td>-0.009933</td>\n",
       "      <td>-0.007138</td>\n",
       "      <td>0.010577</td>\n",
       "      <td>-0.013480</td>\n",
       "      <td>0.005766</td>\n",
       "    </tr>\n",
       "    <tr>\n",
       "      <th>isactivemember</th>\n",
       "      <td>0.025651</td>\n",
       "      <td>0.085472</td>\n",
       "      <td>-0.032178</td>\n",
       "      <td>-0.010084</td>\n",
       "      <td>0.009612</td>\n",
       "      <td>-0.011866</td>\n",
       "      <td>1.000000</td>\n",
       "      <td>-0.011421</td>\n",
       "      <td>-0.156128</td>\n",
       "      <td>-0.020486</td>\n",
       "      <td>0.016732</td>\n",
       "      <td>0.022544</td>\n",
       "    </tr>\n",
       "    <tr>\n",
       "      <th>estimatedsalary</th>\n",
       "      <td>-0.001384</td>\n",
       "      <td>-0.007201</td>\n",
       "      <td>0.010520</td>\n",
       "      <td>0.012797</td>\n",
       "      <td>0.014204</td>\n",
       "      <td>-0.009933</td>\n",
       "      <td>-0.011421</td>\n",
       "      <td>1.000000</td>\n",
       "      <td>0.012097</td>\n",
       "      <td>0.010297</td>\n",
       "      <td>-0.006482</td>\n",
       "      <td>-0.008112</td>\n",
       "    </tr>\n",
       "    <tr>\n",
       "      <th>exited</th>\n",
       "      <td>-0.027094</td>\n",
       "      <td>0.285323</td>\n",
       "      <td>-0.016761</td>\n",
       "      <td>0.118533</td>\n",
       "      <td>-0.047820</td>\n",
       "      <td>-0.007138</td>\n",
       "      <td>-0.156128</td>\n",
       "      <td>0.012097</td>\n",
       "      <td>1.000000</td>\n",
       "      <td>0.173488</td>\n",
       "      <td>-0.052667</td>\n",
       "      <td>-0.106512</td>\n",
       "    </tr>\n",
       "    <tr>\n",
       "      <th>geography_Germany</th>\n",
       "      <td>0.005538</td>\n",
       "      <td>0.046897</td>\n",
       "      <td>-0.003299</td>\n",
       "      <td>0.401110</td>\n",
       "      <td>-0.010419</td>\n",
       "      <td>0.010577</td>\n",
       "      <td>-0.020486</td>\n",
       "      <td>0.010297</td>\n",
       "      <td>0.173488</td>\n",
       "      <td>1.000000</td>\n",
       "      <td>-0.332084</td>\n",
       "      <td>-0.024628</td>\n",
       "    </tr>\n",
       "    <tr>\n",
       "      <th>geography_Spain</th>\n",
       "      <td>0.004780</td>\n",
       "      <td>-0.001685</td>\n",
       "      <td>0.000810</td>\n",
       "      <td>-0.134892</td>\n",
       "      <td>0.009039</td>\n",
       "      <td>-0.013480</td>\n",
       "      <td>0.016732</td>\n",
       "      <td>-0.006482</td>\n",
       "      <td>-0.052667</td>\n",
       "      <td>-0.332084</td>\n",
       "      <td>1.000000</td>\n",
       "      <td>0.016889</td>\n",
       "    </tr>\n",
       "    <tr>\n",
       "      <th>gender_Male</th>\n",
       "      <td>-0.002857</td>\n",
       "      <td>-0.027544</td>\n",
       "      <td>0.012634</td>\n",
       "      <td>0.012087</td>\n",
       "      <td>-0.021859</td>\n",
       "      <td>0.005766</td>\n",
       "      <td>0.022544</td>\n",
       "      <td>-0.008112</td>\n",
       "      <td>-0.106512</td>\n",
       "      <td>-0.024628</td>\n",
       "      <td>0.016889</td>\n",
       "      <td>1.000000</td>\n",
       "    </tr>\n",
       "  </tbody>\n",
       "</table>\n",
       "</div>"
      ],
      "text/plain": [
       "                   creditscore       age    tenure   balance  numofproducts  \\\n",
       "creditscore           1.000000 -0.003965 -0.000062  0.006268       0.012238   \n",
       "age                  -0.003965  1.000000 -0.013134  0.028308      -0.030680   \n",
       "tenure               -0.000062 -0.013134  1.000000 -0.007911       0.011979   \n",
       "balance               0.006268  0.028308 -0.007911  1.000000      -0.304180   \n",
       "numofproducts         0.012238 -0.030680  0.011979 -0.304180       1.000000   \n",
       "hascrcard            -0.005458 -0.011721  0.027232 -0.014858       0.003183   \n",
       "isactivemember        0.025651  0.085472 -0.032178 -0.010084       0.009612   \n",
       "estimatedsalary      -0.001384 -0.007201  0.010520  0.012797       0.014204   \n",
       "exited               -0.027094  0.285323 -0.016761  0.118533      -0.047820   \n",
       "geography_Germany     0.005538  0.046897 -0.003299  0.401110      -0.010419   \n",
       "geography_Spain       0.004780 -0.001685  0.000810 -0.134892       0.009039   \n",
       "gender_Male          -0.002857 -0.027544  0.012634  0.012087      -0.021859   \n",
       "\n",
       "                   hascrcard  isactivemember  estimatedsalary    exited  \\\n",
       "creditscore        -0.005458        0.025651        -0.001384 -0.027094   \n",
       "age                -0.011721        0.085472        -0.007201  0.285323   \n",
       "tenure              0.027232       -0.032178         0.010520 -0.016761   \n",
       "balance            -0.014858       -0.010084         0.012797  0.118533   \n",
       "numofproducts       0.003183        0.009612         0.014204 -0.047820   \n",
       "hascrcard           1.000000       -0.011866        -0.009933 -0.007138   \n",
       "isactivemember     -0.011866        1.000000        -0.011421 -0.156128   \n",
       "estimatedsalary    -0.009933       -0.011421         1.000000  0.012097   \n",
       "exited             -0.007138       -0.156128         0.012097  1.000000   \n",
       "geography_Germany   0.010577       -0.020486         0.010297  0.173488   \n",
       "geography_Spain    -0.013480        0.016732        -0.006482 -0.052667   \n",
       "gender_Male         0.005766        0.022544        -0.008112 -0.106512   \n",
       "\n",
       "                   geography_Germany  geography_Spain  gender_Male  \n",
       "creditscore                 0.005538         0.004780    -0.002857  \n",
       "age                         0.046897        -0.001685    -0.027544  \n",
       "tenure                     -0.003299         0.000810     0.012634  \n",
       "balance                     0.401110        -0.134892     0.012087  \n",
       "numofproducts              -0.010419         0.009039    -0.021859  \n",
       "hascrcard                   0.010577        -0.013480     0.005766  \n",
       "isactivemember             -0.020486         0.016732     0.022544  \n",
       "estimatedsalary             0.010297        -0.006482    -0.008112  \n",
       "exited                      0.173488        -0.052667    -0.106512  \n",
       "geography_Germany           1.000000        -0.332084    -0.024628  \n",
       "geography_Spain            -0.332084         1.000000     0.016889  \n",
       "gender_Male                -0.024628         0.016889     1.000000  "
      ]
     },
     "execution_count": 12,
     "metadata": {},
     "output_type": "execute_result"
    }
   ],
   "source": [
    "data_new.corr()"
   ]
  },
  {
   "cell_type": "markdown",
   "metadata": {},
   "source": [
    "По корреляции видно что многие элементы таблицы имеют слабое влияние на целевой признак `exited`, есть с отрицательной и положительной корреляцией, столбец с пропусками `tenure` - имеет очень слабую отрицательную корреляцию, проэтому проверю замену пропусков в нем двумя способами на модели случайного леса и сравню параметры"
   ]
  },
  {
   "cell_type": "code",
   "execution_count": 13,
   "metadata": {},
   "outputs": [],
   "source": [
    "df_tenure_0 = data_new\n",
    "df_tenure_median = data_new"
   ]
  },
  {
   "cell_type": "code",
   "execution_count": 14,
   "metadata": {},
   "outputs": [],
   "source": [
    "df_tenure_0['tenure'] = df_tenure_0['tenure'].fillna(0)\n",
    "df_tenure_median['tenure'] = df_tenure_median['tenure'].fillna(df_tenure_median['tenure'].median())\n"
   ]
  },
  {
   "cell_type": "code",
   "execution_count": 15,
   "metadata": {},
   "outputs": [],
   "source": [
    "def test_model(data):\n",
    "\n",
    "    features = data_new.drop('exited', axis=1)\n",
    "    target = data_new['exited']\n",
    "    features_train, features_valid, target_train, target_valid = train_test_split(features,\n",
    "                                                    target,\n",
    "                                                    train_size=0.7,\n",
    "                                                    random_state=12345, \n",
    "                                                    stratify=target)\n",
    "    numeric = ['creditscore', 'age', 'tenure', 'balance', 'numofproducts', 'estimatedsalary'] # фиксируем численные признаки\n",
    "    scaler = StandardScaler()\n",
    "    scaler.fit(features_train[numeric])\n",
    "    model = RandomForestClassifier(random_state=12345, n_estimators = 100)\n",
    "    model.fit(features_train, target_train)\n",
    "    prediction = model.predict(features_valid)\n",
    "    f1_mera = f1_score(target_valid, prediction)\n",
    "    auc_roc = roc_auc_score(target_valid, prediction)\n",
    "    return (f1_mera, auc_roc)"
   ]
  },
  {
   "cell_type": "code",
   "execution_count": 16,
   "metadata": {},
   "outputs": [
    {
     "name": "stdout",
     "output_type": "stream",
     "text": [
      "Параметры F1-меры и AUC-ROC при замене на 0:  (0.5668341708542713, 0.7094213864829186)\n",
      "Параметры F1-меры и AUC-ROC при замене на медиану:  (0.5668341708542713, 0.7094213864829186)\n"
     ]
    }
   ],
   "source": [
    "print(\"Параметры F1-меры и AUC-ROC при замене на 0: \", test_model(df_tenure_0))\n",
    "print(\"Параметры F1-меры и AUC-ROC при замене на медиану: \",test_model(df_tenure_median))"
   ]
  },
  {
   "cell_type": "markdown",
   "metadata": {},
   "source": [
    "Метрики не отличаются, значит пропуски можно заменить любым способом"
   ]
  },
  {
   "cell_type": "code",
   "execution_count": 17,
   "metadata": {},
   "outputs": [],
   "source": [
    "data_new['tenure'] = data_new['tenure'].fillna(data_new['tenure'].median())"
   ]
  },
  {
   "cell_type": "code",
   "execution_count": 18,
   "metadata": {},
   "outputs": [
    {
     "data": {
      "text/plain": [
       "-0.013319236197946805"
      ]
     },
     "execution_count": 18,
     "metadata": {},
     "output_type": "execute_result"
    }
   ],
   "source": [
    "data_new['tenure'].corr(data_new['exited'])"
   ]
  },
  {
   "cell_type": "markdown",
   "metadata": {},
   "source": [
    "Заменив пропуски, проверив корреляцию между данными столбцами видно, что она изменилась на 0,003 "
   ]
  },
  {
   "cell_type": "markdown",
   "metadata": {},
   "source": [
    "### Разделение на выборки\n",
    "Так как дополнительно не предоставлена тестовая выборка, необходимо поделить данные на 3 выборки:\n",
    "- обучающую\n",
    "- валидационную\n",
    "- тестовую"
   ]
  },
  {
   "cell_type": "code",
   "execution_count": 19,
   "metadata": {},
   "outputs": [],
   "source": [
    "features = data_new.drop('exited', axis=1)\n",
    "target = data_new['exited']"
   ]
  },
  {
   "cell_type": "code",
   "execution_count": 20,
   "metadata": {},
   "outputs": [],
   "source": [
    "features_train, features_valid_test, target_train, target_valid_test = train_test_split(features,\n",
    "                                                    target,\n",
    "                                                    train_size=0.6,\n",
    "                                                    random_state=12345, \n",
    "                                                    stratify=target)\n",
    "# выделил 60% данных на тренировочную выборку, остальные данные разделю поровну между валидационнрй и тестовой"
   ]
  },
  {
   "cell_type": "code",
   "execution_count": 21,
   "metadata": {},
   "outputs": [],
   "source": [
    "features_valid, features_test, target_valid, target_test = train_test_split(features_valid_test,\n",
    "                                                    target_valid_test,\n",
    "                                                    train_size=0.5,\n",
    "                                                    random_state=12345, \n",
    "                                                    stratify=target_valid_test)"
   ]
  },
  {
   "cell_type": "code",
   "execution_count": 22,
   "metadata": {},
   "outputs": [
    {
     "data": {
      "text/plain": [
       "(6000, 11)"
      ]
     },
     "metadata": {},
     "output_type": "display_data"
    },
    {
     "data": {
      "text/plain": [
       "(2000, 11)"
      ]
     },
     "metadata": {},
     "output_type": "display_data"
    },
    {
     "data": {
      "text/plain": [
       "(2000, 11)"
      ]
     },
     "metadata": {},
     "output_type": "display_data"
    }
   ],
   "source": [
    "display(features_train.shape,\n",
    "       features_valid.shape,\n",
    "       features_test.shape)"
   ]
  },
  {
   "cell_type": "markdown",
   "metadata": {},
   "source": [
    "- 6000 в тренировочной выборки\n",
    "- 2000 в валидационной\n",
    "- 2000 в тестовой"
   ]
  },
  {
   "cell_type": "markdown",
   "metadata": {},
   "source": [
    "### Маштабирование признаков"
   ]
  },
  {
   "cell_type": "markdown",
   "metadata": {},
   "source": [
    "Маштабирование данных необходимо, так как все численные признаки имеют разную величину числа"
   ]
  },
  {
   "cell_type": "code",
   "execution_count": 23,
   "metadata": {},
   "outputs": [
    {
     "data": {
      "text/plain": [
       "StandardScaler()"
      ]
     },
     "execution_count": 23,
     "metadata": {},
     "output_type": "execute_result"
    }
   ],
   "source": [
    "numeric = ['creditscore', 'age', 'tenure', 'balance', 'numofproducts', 'estimatedsalary'] # фиксируем численные признаки\n",
    "scaler = StandardScaler()\n",
    "scaler.fit(features_train[numeric]) # обучаем на тренировочной выборке"
   ]
  },
  {
   "cell_type": "code",
   "execution_count": 24,
   "metadata": {
    "scrolled": true
   },
   "outputs": [
    {
     "name": "stderr",
     "output_type": "stream",
     "text": [
      "/tmp/ipykernel_717/1320290043.py:1: SettingWithCopyWarning: \n",
      "A value is trying to be set on a copy of a slice from a DataFrame.\n",
      "Try using .loc[row_indexer,col_indexer] = value instead\n",
      "\n",
      "See the caveats in the documentation: https://pandas.pydata.org/pandas-docs/stable/user_guide/indexing.html#returning-a-view-versus-a-copy\n",
      "  features_train[numeric] = scaler.transform(features_train[numeric])\n",
      "/opt/conda/lib/python3.9/site-packages/pandas/core/indexing.py:1738: SettingWithCopyWarning: \n",
      "A value is trying to be set on a copy of a slice from a DataFrame.\n",
      "Try using .loc[row_indexer,col_indexer] = value instead\n",
      "\n",
      "See the caveats in the documentation: https://pandas.pydata.org/pandas-docs/stable/user_guide/indexing.html#returning-a-view-versus-a-copy\n",
      "  self._setitem_single_column(loc, value[:, i].tolist(), pi)\n"
     ]
    },
    {
     "data": {
      "text/html": [
       "<div>\n",
       "<style scoped>\n",
       "    .dataframe tbody tr th:only-of-type {\n",
       "        vertical-align: middle;\n",
       "    }\n",
       "\n",
       "    .dataframe tbody tr th {\n",
       "        vertical-align: top;\n",
       "    }\n",
       "\n",
       "    .dataframe thead th {\n",
       "        text-align: right;\n",
       "    }\n",
       "</style>\n",
       "<table border=\"1\" class=\"dataframe\">\n",
       "  <thead>\n",
       "    <tr style=\"text-align: right;\">\n",
       "      <th></th>\n",
       "      <th>creditscore</th>\n",
       "      <th>age</th>\n",
       "      <th>tenure</th>\n",
       "      <th>balance</th>\n",
       "      <th>numofproducts</th>\n",
       "      <th>hascrcard</th>\n",
       "      <th>isactivemember</th>\n",
       "      <th>estimatedsalary</th>\n",
       "      <th>geography_Germany</th>\n",
       "      <th>geography_Spain</th>\n",
       "      <th>gender_Male</th>\n",
       "    </tr>\n",
       "  </thead>\n",
       "  <tbody>\n",
       "    <tr>\n",
       "      <th>2837</th>\n",
       "      <td>-1.040434</td>\n",
       "      <td>0.953312</td>\n",
       "      <td>0.467449</td>\n",
       "      <td>0.774657</td>\n",
       "      <td>-0.914708</td>\n",
       "      <td>0</td>\n",
       "      <td>1</td>\n",
       "      <td>-0.119110</td>\n",
       "      <td>1</td>\n",
       "      <td>0</td>\n",
       "      <td>0</td>\n",
       "    </tr>\n",
       "    <tr>\n",
       "      <th>9925</th>\n",
       "      <td>0.454006</td>\n",
       "      <td>-0.095244</td>\n",
       "      <td>-1.461501</td>\n",
       "      <td>1.910540</td>\n",
       "      <td>-0.914708</td>\n",
       "      <td>1</td>\n",
       "      <td>1</td>\n",
       "      <td>-0.258658</td>\n",
       "      <td>0</td>\n",
       "      <td>0</td>\n",
       "      <td>0</td>\n",
       "    </tr>\n",
       "    <tr>\n",
       "      <th>8746</th>\n",
       "      <td>0.103585</td>\n",
       "      <td>-0.476537</td>\n",
       "      <td>1.110432</td>\n",
       "      <td>0.481608</td>\n",
       "      <td>0.820981</td>\n",
       "      <td>0</td>\n",
       "      <td>1</td>\n",
       "      <td>1.422836</td>\n",
       "      <td>0</td>\n",
       "      <td>0</td>\n",
       "      <td>1</td>\n",
       "    </tr>\n",
       "    <tr>\n",
       "      <th>660</th>\n",
       "      <td>-0.184996</td>\n",
       "      <td>0.190726</td>\n",
       "      <td>-1.461501</td>\n",
       "      <td>0.088439</td>\n",
       "      <td>-0.914708</td>\n",
       "      <td>1</td>\n",
       "      <td>1</td>\n",
       "      <td>-1.160427</td>\n",
       "      <td>1</td>\n",
       "      <td>0</td>\n",
       "      <td>0</td>\n",
       "    </tr>\n",
       "    <tr>\n",
       "      <th>3610</th>\n",
       "      <td>-0.720933</td>\n",
       "      <td>1.620574</td>\n",
       "      <td>-1.140009</td>\n",
       "      <td>0.879129</td>\n",
       "      <td>-0.914708</td>\n",
       "      <td>1</td>\n",
       "      <td>0</td>\n",
       "      <td>0.113236</td>\n",
       "      <td>0</td>\n",
       "      <td>0</td>\n",
       "      <td>0</td>\n",
       "    </tr>\n",
       "  </tbody>\n",
       "</table>\n",
       "</div>"
      ],
      "text/plain": [
       "      creditscore       age    tenure   balance  numofproducts  hascrcard  \\\n",
       "2837    -1.040434  0.953312  0.467449  0.774657      -0.914708          0   \n",
       "9925     0.454006 -0.095244 -1.461501  1.910540      -0.914708          1   \n",
       "8746     0.103585 -0.476537  1.110432  0.481608       0.820981          0   \n",
       "660     -0.184996  0.190726 -1.461501  0.088439      -0.914708          1   \n",
       "3610    -0.720933  1.620574 -1.140009  0.879129      -0.914708          1   \n",
       "\n",
       "      isactivemember  estimatedsalary  geography_Germany  geography_Spain  \\\n",
       "2837               1        -0.119110                  1                0   \n",
       "9925               1        -0.258658                  0                0   \n",
       "8746               1         1.422836                  0                0   \n",
       "660                1        -1.160427                  1                0   \n",
       "3610               0         0.113236                  0                0   \n",
       "\n",
       "      gender_Male  \n",
       "2837            0  \n",
       "9925            0  \n",
       "8746            1  \n",
       "660             0  \n",
       "3610            0  "
      ]
     },
     "execution_count": 24,
     "metadata": {},
     "output_type": "execute_result"
    }
   ],
   "source": [
    "features_train[numeric] = scaler.transform(features_train[numeric])\n",
    "features_train.head()\n",
    "# маштабируем численные признаки в тренировочной выборке"
   ]
  },
  {
   "cell_type": "code",
   "execution_count": 25,
   "metadata": {},
   "outputs": [
    {
     "name": "stderr",
     "output_type": "stream",
     "text": [
      "/tmp/ipykernel_717/997885763.py:1: SettingWithCopyWarning: \n",
      "A value is trying to be set on a copy of a slice from a DataFrame.\n",
      "Try using .loc[row_indexer,col_indexer] = value instead\n",
      "\n",
      "See the caveats in the documentation: https://pandas.pydata.org/pandas-docs/stable/user_guide/indexing.html#returning-a-view-versus-a-copy\n",
      "  features_valid[numeric] = scaler.transform(features_valid[numeric])\n",
      "/opt/conda/lib/python3.9/site-packages/pandas/core/indexing.py:1738: SettingWithCopyWarning: \n",
      "A value is trying to be set on a copy of a slice from a DataFrame.\n",
      "Try using .loc[row_indexer,col_indexer] = value instead\n",
      "\n",
      "See the caveats in the documentation: https://pandas.pydata.org/pandas-docs/stable/user_guide/indexing.html#returning-a-view-versus-a-copy\n",
      "  self._setitem_single_column(loc, value[:, i].tolist(), pi)\n"
     ]
    },
    {
     "data": {
      "text/html": [
       "<div>\n",
       "<style scoped>\n",
       "    .dataframe tbody tr th:only-of-type {\n",
       "        vertical-align: middle;\n",
       "    }\n",
       "\n",
       "    .dataframe tbody tr th {\n",
       "        vertical-align: top;\n",
       "    }\n",
       "\n",
       "    .dataframe thead th {\n",
       "        text-align: right;\n",
       "    }\n",
       "</style>\n",
       "<table border=\"1\" class=\"dataframe\">\n",
       "  <thead>\n",
       "    <tr style=\"text-align: right;\">\n",
       "      <th></th>\n",
       "      <th>creditscore</th>\n",
       "      <th>age</th>\n",
       "      <th>tenure</th>\n",
       "      <th>balance</th>\n",
       "      <th>numofproducts</th>\n",
       "      <th>hascrcard</th>\n",
       "      <th>isactivemember</th>\n",
       "      <th>estimatedsalary</th>\n",
       "      <th>geography_Germany</th>\n",
       "      <th>geography_Spain</th>\n",
       "      <th>gender_Male</th>\n",
       "    </tr>\n",
       "  </thead>\n",
       "  <tbody>\n",
       "    <tr>\n",
       "      <th>6612</th>\n",
       "      <td>-1.524838</td>\n",
       "      <td>2.383160</td>\n",
       "      <td>-0.497026</td>\n",
       "      <td>1.011655</td>\n",
       "      <td>-0.914708</td>\n",
       "      <td>0</td>\n",
       "      <td>1</td>\n",
       "      <td>0.010275</td>\n",
       "      <td>0</td>\n",
       "      <td>0</td>\n",
       "      <td>0</td>\n",
       "    </tr>\n",
       "    <tr>\n",
       "      <th>519</th>\n",
       "      <td>0.587990</td>\n",
       "      <td>1.811221</td>\n",
       "      <td>0.467449</td>\n",
       "      <td>0.213192</td>\n",
       "      <td>-0.914708</td>\n",
       "      <td>0</td>\n",
       "      <td>1</td>\n",
       "      <td>0.453089</td>\n",
       "      <td>0</td>\n",
       "      <td>0</td>\n",
       "      <td>1</td>\n",
       "    </tr>\n",
       "    <tr>\n",
       "      <th>1609</th>\n",
       "      <td>-0.318980</td>\n",
       "      <td>-0.381213</td>\n",
       "      <td>1.110432</td>\n",
       "      <td>0.893896</td>\n",
       "      <td>-0.914708</td>\n",
       "      <td>1</td>\n",
       "      <td>0</td>\n",
       "      <td>-0.603508</td>\n",
       "      <td>0</td>\n",
       "      <td>0</td>\n",
       "      <td>0</td>\n",
       "    </tr>\n",
       "    <tr>\n",
       "      <th>3475</th>\n",
       "      <td>1.226991</td>\n",
       "      <td>-0.762506</td>\n",
       "      <td>-0.175534</td>\n",
       "      <td>-0.240363</td>\n",
       "      <td>0.820981</td>\n",
       "      <td>1</td>\n",
       "      <td>1</td>\n",
       "      <td>-1.621460</td>\n",
       "      <td>0</td>\n",
       "      <td>0</td>\n",
       "      <td>1</td>\n",
       "    </tr>\n",
       "    <tr>\n",
       "      <th>2707</th>\n",
       "      <td>-0.133464</td>\n",
       "      <td>-0.095244</td>\n",
       "      <td>-0.497026</td>\n",
       "      <td>0.447305</td>\n",
       "      <td>-0.914708</td>\n",
       "      <td>0</td>\n",
       "      <td>0</td>\n",
       "      <td>0.338574</td>\n",
       "      <td>0</td>\n",
       "      <td>0</td>\n",
       "      <td>0</td>\n",
       "    </tr>\n",
       "  </tbody>\n",
       "</table>\n",
       "</div>"
      ],
      "text/plain": [
       "      creditscore       age    tenure   balance  numofproducts  hascrcard  \\\n",
       "6612    -1.524838  2.383160 -0.497026  1.011655      -0.914708          0   \n",
       "519      0.587990  1.811221  0.467449  0.213192      -0.914708          0   \n",
       "1609    -0.318980 -0.381213  1.110432  0.893896      -0.914708          1   \n",
       "3475     1.226991 -0.762506 -0.175534 -0.240363       0.820981          1   \n",
       "2707    -0.133464 -0.095244 -0.497026  0.447305      -0.914708          0   \n",
       "\n",
       "      isactivemember  estimatedsalary  geography_Germany  geography_Spain  \\\n",
       "6612               1         0.010275                  0                0   \n",
       "519                1         0.453089                  0                0   \n",
       "1609               0        -0.603508                  0                0   \n",
       "3475               1        -1.621460                  0                0   \n",
       "2707               0         0.338574                  0                0   \n",
       "\n",
       "      gender_Male  \n",
       "6612            0  \n",
       "519             1  \n",
       "1609            0  \n",
       "3475            1  \n",
       "2707            0  "
      ]
     },
     "execution_count": 25,
     "metadata": {},
     "output_type": "execute_result"
    }
   ],
   "source": [
    "features_valid[numeric] = scaler.transform(features_valid[numeric])\n",
    "features_valid.head()\n",
    "# маштабируем численные признаки в валидационной выборке"
   ]
  },
  {
   "cell_type": "code",
   "execution_count": 26,
   "metadata": {},
   "outputs": [
    {
     "name": "stderr",
     "output_type": "stream",
     "text": [
      "/tmp/ipykernel_717/292098413.py:1: SettingWithCopyWarning: \n",
      "A value is trying to be set on a copy of a slice from a DataFrame.\n",
      "Try using .loc[row_indexer,col_indexer] = value instead\n",
      "\n",
      "See the caveats in the documentation: https://pandas.pydata.org/pandas-docs/stable/user_guide/indexing.html#returning-a-view-versus-a-copy\n",
      "  features_test[numeric] = scaler.transform(features_test[numeric])\n",
      "/opt/conda/lib/python3.9/site-packages/pandas/core/indexing.py:1738: SettingWithCopyWarning: \n",
      "A value is trying to be set on a copy of a slice from a DataFrame.\n",
      "Try using .loc[row_indexer,col_indexer] = value instead\n",
      "\n",
      "See the caveats in the documentation: https://pandas.pydata.org/pandas-docs/stable/user_guide/indexing.html#returning-a-view-versus-a-copy\n",
      "  self._setitem_single_column(loc, value[:, i].tolist(), pi)\n"
     ]
    },
    {
     "data": {
      "text/html": [
       "<div>\n",
       "<style scoped>\n",
       "    .dataframe tbody tr th:only-of-type {\n",
       "        vertical-align: middle;\n",
       "    }\n",
       "\n",
       "    .dataframe tbody tr th {\n",
       "        vertical-align: top;\n",
       "    }\n",
       "\n",
       "    .dataframe thead th {\n",
       "        text-align: right;\n",
       "    }\n",
       "</style>\n",
       "<table border=\"1\" class=\"dataframe\">\n",
       "  <thead>\n",
       "    <tr style=\"text-align: right;\">\n",
       "      <th></th>\n",
       "      <th>creditscore</th>\n",
       "      <th>age</th>\n",
       "      <th>tenure</th>\n",
       "      <th>balance</th>\n",
       "      <th>numofproducts</th>\n",
       "      <th>hascrcard</th>\n",
       "      <th>isactivemember</th>\n",
       "      <th>estimatedsalary</th>\n",
       "      <th>geography_Germany</th>\n",
       "      <th>geography_Spain</th>\n",
       "      <th>gender_Male</th>\n",
       "    </tr>\n",
       "  </thead>\n",
       "  <tbody>\n",
       "    <tr>\n",
       "      <th>657</th>\n",
       "      <td>-0.504497</td>\n",
       "      <td>1.429928</td>\n",
       "      <td>-1.140009</td>\n",
       "      <td>0.873883</td>\n",
       "      <td>0.820981</td>\n",
       "      <td>1</td>\n",
       "      <td>1</td>\n",
       "      <td>1.725255</td>\n",
       "      <td>1</td>\n",
       "      <td>0</td>\n",
       "      <td>0</td>\n",
       "    </tr>\n",
       "    <tr>\n",
       "      <th>2083</th>\n",
       "      <td>-1.195031</td>\n",
       "      <td>-1.429769</td>\n",
       "      <td>-1.140009</td>\n",
       "      <td>-1.219673</td>\n",
       "      <td>-0.914708</td>\n",
       "      <td>1</td>\n",
       "      <td>1</td>\n",
       "      <td>1.203665</td>\n",
       "      <td>0</td>\n",
       "      <td>0</td>\n",
       "      <td>1</td>\n",
       "    </tr>\n",
       "    <tr>\n",
       "      <th>3234</th>\n",
       "      <td>-1.267176</td>\n",
       "      <td>0.762665</td>\n",
       "      <td>-1.140009</td>\n",
       "      <td>-1.219673</td>\n",
       "      <td>-0.914708</td>\n",
       "      <td>1</td>\n",
       "      <td>0</td>\n",
       "      <td>-1.374743</td>\n",
       "      <td>0</td>\n",
       "      <td>0</td>\n",
       "      <td>1</td>\n",
       "    </tr>\n",
       "    <tr>\n",
       "      <th>1551</th>\n",
       "      <td>0.825039</td>\n",
       "      <td>1.239281</td>\n",
       "      <td>0.788940</td>\n",
       "      <td>-1.219673</td>\n",
       "      <td>0.820981</td>\n",
       "      <td>0</td>\n",
       "      <td>1</td>\n",
       "      <td>0.382306</td>\n",
       "      <td>0</td>\n",
       "      <td>1</td>\n",
       "      <td>0</td>\n",
       "    </tr>\n",
       "    <tr>\n",
       "      <th>2344</th>\n",
       "      <td>0.660135</td>\n",
       "      <td>0.953312</td>\n",
       "      <td>-0.175534</td>\n",
       "      <td>0.267087</td>\n",
       "      <td>-0.914708</td>\n",
       "      <td>1</td>\n",
       "      <td>0</td>\n",
       "      <td>-1.613578</td>\n",
       "      <td>1</td>\n",
       "      <td>0</td>\n",
       "      <td>0</td>\n",
       "    </tr>\n",
       "  </tbody>\n",
       "</table>\n",
       "</div>"
      ],
      "text/plain": [
       "      creditscore       age    tenure   balance  numofproducts  hascrcard  \\\n",
       "657     -0.504497  1.429928 -1.140009  0.873883       0.820981          1   \n",
       "2083    -1.195031 -1.429769 -1.140009 -1.219673      -0.914708          1   \n",
       "3234    -1.267176  0.762665 -1.140009 -1.219673      -0.914708          1   \n",
       "1551     0.825039  1.239281  0.788940 -1.219673       0.820981          0   \n",
       "2344     0.660135  0.953312 -0.175534  0.267087      -0.914708          1   \n",
       "\n",
       "      isactivemember  estimatedsalary  geography_Germany  geography_Spain  \\\n",
       "657                1         1.725255                  1                0   \n",
       "2083               1         1.203665                  0                0   \n",
       "3234               0        -1.374743                  0                0   \n",
       "1551               1         0.382306                  0                1   \n",
       "2344               0        -1.613578                  1                0   \n",
       "\n",
       "      gender_Male  \n",
       "657             0  \n",
       "2083            1  \n",
       "3234            1  \n",
       "1551            0  \n",
       "2344            0  "
      ]
     },
     "execution_count": 26,
     "metadata": {},
     "output_type": "execute_result"
    }
   ],
   "source": [
    "features_test[numeric] = scaler.transform(features_test[numeric])\n",
    "features_test.head()\n",
    "# маштабируем численные признаки в тестовой выборке"
   ]
  },
  {
   "cell_type": "markdown",
   "metadata": {},
   "source": [
    "## Исследование задачи"
   ]
  },
  {
   "cell_type": "markdown",
   "metadata": {},
   "source": [
    "### Баланс классов"
   ]
  },
  {
   "cell_type": "code",
   "execution_count": 27,
   "metadata": {},
   "outputs": [
    {
     "data": {
      "text/plain": [
       "0    0.796333\n",
       "1    0.203667\n",
       "Name: exited, dtype: float64"
      ]
     },
     "execution_count": 27,
     "metadata": {},
     "output_type": "execute_result"
    }
   ],
   "source": [
    "target_train.value_counts(normalize = 1)"
   ]
  },
  {
   "cell_type": "code",
   "execution_count": 28,
   "metadata": {},
   "outputs": [
    {
     "data": {
      "text/plain": [
       "0    0.796\n",
       "1    0.204\n",
       "Name: exited, dtype: float64"
      ]
     },
     "execution_count": 28,
     "metadata": {},
     "output_type": "execute_result"
    }
   ],
   "source": [
    "target_valid.value_counts(normalize = 1)"
   ]
  },
  {
   "cell_type": "markdown",
   "metadata": {},
   "source": [
    "В обучающей и валидационной выборке идет дисбаланс данных, ответов `0` - 80%, `1` - 20%\n",
    "<br>Модель будет делать предсазания чаще всего в сторону одного ответа"
   ]
  },
  {
   "cell_type": "markdown",
   "metadata": {},
   "source": [
    "### Изучены модели без учёта дисбаланса"
   ]
  },
  {
   "cell_type": "markdown",
   "metadata": {},
   "source": [
    "#### accuracy"
   ]
  },
  {
   "cell_type": "code",
   "execution_count": 29,
   "metadata": {},
   "outputs": [],
   "source": [
    "model_tree=DecisionTreeClassifier(random_state=123)\n",
    "model_tree.fit(features_train, target_train)\n",
    "predic_tree = model_tree.predict(features_valid)\n",
    "f1_m_tree = f1_score(target_valid, predic_tree)\n",
    "roc_acc_tree = roc_auc_score(target_valid, predic_tree)"
   ]
  },
  {
   "cell_type": "code",
   "execution_count": 30,
   "metadata": {},
   "outputs": [],
   "source": [
    "model_rfc = RandomForestClassifier(random_state=12345, n_estimators = 100)\n",
    "model_rfc.fit(features_train, target_train)\n",
    "predic_rfc = model_rfc.predict(features_valid)\n",
    "f1_m_rfc = f1_score(target_valid, predic_rfc)\n",
    "roc_acc_rfc = roc_auc_score(target_valid, predic_rfc)"
   ]
  },
  {
   "cell_type": "code",
   "execution_count": 31,
   "metadata": {},
   "outputs": [],
   "source": [
    "model_logreg = LogisticRegression(solver = 'liblinear')\n",
    "model_logreg.fit(features_train, target_train)\n",
    "predic_logreg = model_logreg.predict(features_valid)\n",
    "f1_m_logreg = f1_score(target_valid, predic_logreg)\n",
    "roc_acc_logreg = roc_auc_score(target_valid, predic_logreg)"
   ]
  },
  {
   "cell_type": "markdown",
   "metadata": {},
   "source": [
    "    Сравним F1 и AUC-ROC с константной моделью"
   ]
  },
  {
   "cell_type": "markdown",
   "metadata": {},
   "source": [
    "#### Проверка адекватности"
   ]
  },
  {
   "cell_type": "code",
   "execution_count": 32,
   "metadata": {},
   "outputs": [
    {
     "data": {
      "text/plain": [
       "(2000,)"
      ]
     },
     "execution_count": 32,
     "metadata": {},
     "output_type": "execute_result"
    }
   ],
   "source": [
    "target_predict_constant = pd.Series([0]*len(target_valid)) # за константу берем ответы 0, так как их 80%\n",
    "target_predict_constant.shape # проверка себя"
   ]
  },
  {
   "cell_type": "code",
   "execution_count": 33,
   "metadata": {},
   "outputs": [],
   "source": [
    "f1_m_constant = f1_score(target_valid, target_predict_constant)\n",
    "roc_acc_constant = roc_auc_score(target_valid, target_predict_constant)"
   ]
  },
  {
   "cell_type": "code",
   "execution_count": 34,
   "metadata": {},
   "outputs": [
    {
     "name": "stdout",
     "output_type": "stream",
     "text": [
      "F1 и AUC-ROC модели дерева:  0.5130641330166271 0.696238545669524\n",
      "F1 и AUC-ROC случайного леса:  0.6103703703703703 0.7332926889348704\n",
      "F1 и AUC-ROC логистческой регрессии 0.3076923076923077 0.5859813774756133\n",
      "F1 и AUC-ROC константной модели:  0.0 0.5\n"
     ]
    }
   ],
   "source": [
    "print(\"F1 и AUC-ROC модели дерева: \", f1_m_tree , roc_acc_tree)\n",
    "print(\"F1 и AUC-ROC случайного леса: \", f1_m_rfc, roc_acc_rfc)\n",
    "print(\"F1 и AUC-ROC логистческой регрессии\", f1_m_logreg, roc_acc_logreg)\n",
    "print('F1 и AUC-ROC константной модели: ',f1_m_constant, roc_acc_constant)"
   ]
  },
  {
   "cell_type": "markdown",
   "metadata": {},
   "source": [
    "<br> **Метрики логическо регрессии:**\n",
    "  - AUC-ROC = 0,58 близка к константной модели\n",
    "  - F1 = 0.3 очень мала\n",
    "<br> **Метрики дерева решений:**\n",
    "  - AUC-ROC = 0,69 \n",
    "  - F1 = 0.51\n",
    "<br> **Метрики случайного леса:**\n",
    "  - AUC-ROC = 0,73 \n",
    "  - F1 = 0.61\n",
    "**Случайный лес и дерево решений дают хорошие показатели, но фаворит все же модель Случайного леса**"
   ]
  },
  {
   "cell_type": "markdown",
   "metadata": {},
   "source": [
    "#### Матрица ошибок"
   ]
  },
  {
   "cell_type": "markdown",
   "metadata": {},
   "source": [
    "Обратимся к матрице ошибок для каждой модели, что бы разобраться в ситуации"
   ]
  },
  {
   "cell_type": "code",
   "execution_count": 35,
   "metadata": {},
   "outputs": [
    {
     "data": {
      "text/plain": [
       "array([[1374,  218],\n",
       "       [ 192,  216]])"
      ]
     },
     "execution_count": 35,
     "metadata": {},
     "output_type": "execute_result"
    }
   ],
   "source": [
    "confusion_matrix(target_valid, predic_tree)"
   ]
  },
  {
   "cell_type": "code",
   "execution_count": 36,
   "metadata": {},
   "outputs": [],
   "source": [
    "def rec_prec_f1(target_valid, prediction):\n",
    "    print(\"Матрица ошибок:\", '\\n', confusion_matrix(target_valid, prediction))\n",
    "    print(\"Полнота\" , recall_score(target_valid, prediction))\n",
    "    print(\"Точность\", precision_score(target_valid, prediction))\n",
    "    print(\"F1-мера\", f1_score(target_valid, prediction))\n",
    "    print(\"AUC-ROC\", roc_auc_score(target_valid, prediction))"
   ]
  },
  {
   "cell_type": "code",
   "execution_count": 37,
   "metadata": {},
   "outputs": [
    {
     "name": "stdout",
     "output_type": "stream",
     "text": [
      "модель Дерева\n",
      "Матрица ошибок: \n",
      " [[1374  218]\n",
      " [ 192  216]]\n",
      "Полнота 0.5294117647058824\n",
      "Точность 0.4976958525345622\n",
      "F1-мера 0.5130641330166271\n",
      "AUC-ROC 0.696238545669524\n"
     ]
    }
   ],
   "source": [
    "print(\"модель Дерева\") \n",
    "rec_prec_f1(target_valid, predic_tree)"
   ]
  },
  {
   "cell_type": "markdown",
   "metadata": {},
   "source": [
    "Модель предсказывает качественные негативные ответы в больших случаях, в остальных случаях FP, TP, FN, выдаются практически с равной долей\n",
    "<br>Низкий показатель метрики F1 - 0.5, свидетельствует о низком качестве модели, нехватает точности"
   ]
  },
  {
   "cell_type": "code",
   "execution_count": 38,
   "metadata": {
    "scrolled": true
   },
   "outputs": [
    {
     "name": "stdout",
     "output_type": "stream",
     "text": [
      "модель Случайного леса\n",
      "Матрица ошибок: \n",
      " [[1531   61]\n",
      " [ 202  206]]\n",
      "Полнота 0.5049019607843137\n",
      "Точность 0.7715355805243446\n",
      "F1-мера 0.6103703703703703\n",
      "AUC-ROC 0.7332926889348704\n"
     ]
    }
   ],
   "source": [
    "print(\"модель Случайного леса\") \n",
    "rec_prec_f1(target_valid, predic_rfc)"
   ]
  },
  {
   "cell_type": "markdown",
   "metadata": {},
   "source": [
    "Модель выдает качественные негативные ответы в больших случаях, в остальных случаях TP, FN, выдаются с равной долей и преобладают над FP\n",
    "<br>Низкий показатель метрики F1 - 0.6, свидетельствует о низком качестве модели, нехватает точности"
   ]
  },
  {
   "cell_type": "code",
   "execution_count": 39,
   "metadata": {},
   "outputs": [
    {
     "name": "stdout",
     "output_type": "stream",
     "text": [
      "модель Логической регресии\n",
      "Матрица ошибок: \n",
      " [[1538   54]\n",
      " [ 324   84]]\n",
      "Полнота 0.20588235294117646\n",
      "Точность 0.6086956521739131\n",
      "F1-мера 0.3076923076923077\n",
      "AUC-ROC 0.5859813774756133\n"
     ]
    }
   ],
   "source": [
    "print(\"модель Логической регресии\") \n",
    "rec_prec_f1(target_valid, predic_logreg)"
   ]
  },
  {
   "cell_type": "markdown",
   "metadata": {},
   "source": [
    "Для логической регресии посчитаем метрику AUC-ROC"
   ]
  },
  {
   "cell_type": "code",
   "execution_count": 40,
   "metadata": {},
   "outputs": [
    {
     "data": {
      "text/plain": [
       "0.787586831214898"
      ]
     },
     "execution_count": 40,
     "metadata": {},
     "output_type": "execute_result"
    }
   ],
   "source": [
    "logreg_probabilities_one_valid = model_logreg.predict_proba(features_valid)[:, 1]\n",
    "\n",
    "auc_roc_logreg = roc_auc_score(target_valid, logreg_probabilities_one_valid)\n",
    "\n",
    "auc_roc_logreg"
   ]
  },
  {
   "cell_type": "code",
   "execution_count": 41,
   "metadata": {},
   "outputs": [
    {
     "name": "stdout",
     "output_type": "stream",
     "text": [
      "Acc 0.811\n"
     ]
    },
    {
     "data": {
      "image/png": "[encoded data removed]",
      "text/plain": [
       "<Figure size 432x288 with 1 Axes>"
      ]
     },
     "metadata": {
      "needs_background": "light"
     },
     "output_type": "display_data"
    }
   ],
   "source": [
    "print(\"Acc\", model_logreg.score(features_valid, target_valid))\n",
    "fpr, tpr, thresholds = roc_curve(target_valid, logreg_probabilities_one_valid) \n",
    "\n",
    "plt.figure()\n",
    "plt.plot(fpr, tpr)\n",
    "plt.plot([0, 1], [0, 1], linestyle='--')\n",
    "plt.xlim([0.0, 1.0])\n",
    "plt.ylim([0.0, 1.0])\n",
    "plt.xlabel('False Positive Rate')\n",
    "plt.ylabel('True Positive Rate')\n",
    "plt.title('ROC-кривая')\n",
    "plt.show()"
   ]
  },
  {
   "cell_type": "markdown",
   "metadata": {},
   "source": [
    "**Проверим метрику на сбалансированной выборке**"
   ]
  },
  {
   "cell_type": "code",
   "execution_count": 42,
   "metadata": {},
   "outputs": [
    {
     "name": "stdout",
     "output_type": "stream",
     "text": [
      "Acc 0.7325\n",
      "AUC-ROC 0.7937758646172037\n"
     ]
    },
    {
     "data": {
      "image/png": "[encoded data removed]",
      "text/plain": [
       "<Figure size 432x288 with 1 Axes>"
      ]
     },
     "metadata": {
      "needs_background": "light"
     },
     "output_type": "display_data"
    }
   ],
   "source": [
    "model_logreg = LogisticRegression(solver = 'liblinear', class_weight='balanced')\n",
    "model_logreg.fit(features_train, target_train)\n",
    "logreg_probabilities_one_valid_weight = model_logreg.predict_proba(features_valid)[:, 1]\n",
    "print(\"Acc\", model_logreg.score(features_valid, target_valid))\n",
    "print(\"AUC-ROC\", roc_auc_score(target_valid, logreg_probabilities_one_valid_weight))\n",
    "\n",
    "fpr, tpr, thresholds = roc_curve(target_valid, logreg_probabilities_one_valid_weight) \n",
    "plt.figure()\n",
    "plt.plot(fpr, tpr)\n",
    "plt.plot([0, 1], [0, 1], linestyle='--')\n",
    "plt.xlim([0.0, 1.0])\n",
    "plt.ylim([0.0, 1.0])\n",
    "plt.xlabel('False Positive Rate')\n",
    "plt.ylabel('True Positive Rate')\n",
    "plt.title('ROC-кривая')\n",
    "plt.show()"
   ]
  },
  {
   "cell_type": "markdown",
   "metadata": {},
   "source": [
    "Показатели не сильно улучшились, точность упала\n",
    "Логическая регрессия показывает максимальную точность в предсказании отрицательных ответов, это получается из-за того, что в выборке доля таких ответов - 80%"
   ]
  },
  {
   "cell_type": "code",
   "execution_count": 43,
   "metadata": {},
   "outputs": [],
   "source": [
    "table_comp_f1 = []\n",
    "table_comp_auc_roc = []"
   ]
  },
  {
   "cell_type": "code",
   "execution_count": 44,
   "metadata": {},
   "outputs": [],
   "source": [
    "table_comp_f1.append(f1_m_tree)\n",
    "table_comp_f1.append(f1_m_rfc)\n",
    "table_comp_f1.append(f1_m_logreg)\n",
    "table_comp_auc_roc.append(roc_acc_tree)\n",
    "table_comp_auc_roc.append(roc_acc_rfc)\n",
    "table_comp_auc_roc.append(roc_acc_logreg)"
   ]
  },
  {
   "cell_type": "code",
   "execution_count": 45,
   "metadata": {},
   "outputs": [
    {
     "data": {
      "text/plain": [
       "[0.5130641330166271, 0.6103703703703703, 0.3076923076923077]"
      ]
     },
     "execution_count": 45,
     "metadata": {},
     "output_type": "execute_result"
    }
   ],
   "source": [
    "table_comp_f1"
   ]
  },
  {
   "cell_type": "code",
   "execution_count": 46,
   "metadata": {},
   "outputs": [
    {
     "data": {
      "text/html": [
       "<div>\n",
       "<style scoped>\n",
       "    .dataframe tbody tr th:only-of-type {\n",
       "        vertical-align: middle;\n",
       "    }\n",
       "\n",
       "    .dataframe tbody tr th {\n",
       "        vertical-align: top;\n",
       "    }\n",
       "\n",
       "    .dataframe thead th {\n",
       "        text-align: right;\n",
       "    }\n",
       "</style>\n",
       "<table border=\"1\" class=\"dataframe\">\n",
       "  <thead>\n",
       "    <tr style=\"text-align: right;\">\n",
       "      <th></th>\n",
       "      <th>Tree</th>\n",
       "      <th>Forest</th>\n",
       "      <th>LogReg</th>\n",
       "    </tr>\n",
       "  </thead>\n",
       "  <tbody>\n",
       "    <tr>\n",
       "      <th>F1</th>\n",
       "      <td>0.513064</td>\n",
       "      <td>0.610370</td>\n",
       "      <td>0.307692</td>\n",
       "    </tr>\n",
       "    <tr>\n",
       "      <th>AUC_ROC</th>\n",
       "      <td>0.696239</td>\n",
       "      <td>0.733293</td>\n",
       "      <td>0.585981</td>\n",
       "    </tr>\n",
       "  </tbody>\n",
       "</table>\n",
       "</div>"
      ],
      "text/plain": [
       "              Tree    Forest    LogReg\n",
       "F1        0.513064  0.610370  0.307692\n",
       " AUC_ROC  0.696239  0.733293  0.585981"
      ]
     },
     "execution_count": 46,
     "metadata": {},
     "output_type": "execute_result"
    }
   ],
   "source": [
    "table_comp = pd.DataFrame(data = (table_comp_f1,table_comp_auc_roc),\n",
    "                          index = ['F1', ' AUC_ROC'],\n",
    "                          columns =['Tree', 'Forest', 'LogReg'])\n",
    "table_comp"
   ]
  },
  {
   "cell_type": "markdown",
   "metadata": {},
   "source": [
    "**Из 3 моделей луше всего показывает случайный лес, показатель метрики F1-мера самый высокий - 0,61\n",
    "<br> Логическая регрессиия не дает хорошего результата в данном случаи, при выделении класса, показатель AUC-ROC почти не меняется, а качество модели accuracy - падает\n",
    "<br> модель дерева показывает средние результаты, которые тоже не высоки F1-мера=0.51\n",
    "AUC-ROC=0.69**"
   ]
  },
  {
   "cell_type": "markdown",
   "metadata": {},
   "source": [
    "## Борьба с дисбалансом"
   ]
  },
  {
   "cell_type": "markdown",
   "metadata": {},
   "source": [
    "В данных сообношение классов 80% - `0`, к 20% - `1`, что бы убрать дисбаланс между классами, будем увеличивать количество положительных ответов."
   ]
  },
  {
   "cell_type": "code",
   "execution_count": 47,
   "metadata": {},
   "outputs": [],
   "source": [
    "def upsample(features, target, repeat):\n",
    "    features_zeros = features[target == 0]\n",
    "    features_ones = features[target == 1]\n",
    "    target_zeros = target[target == 0]\n",
    "    target_ones = target[target == 1]\n",
    "\n",
    "    features_upsampled = pd.concat([features_zeros] + [features_ones] * repeat)\n",
    "    target_upsampled = pd.concat([target_zeros] + [target_ones] * repeat)\n",
    "    \n",
    "    features_upsampled, target_upsampled = shuffle(\n",
    "        features_upsampled, target_upsampled, random_state=12345) #перемешаем, что бы модель нормально обучалась\n",
    "    \n",
    "    return features_upsampled, target_upsampled"
   ]
  },
  {
   "cell_type": "code",
   "execution_count": 48,
   "metadata": {},
   "outputs": [],
   "source": [
    "features_upsampled, target_upsampled = upsample(features_train, target_train, 4) \n",
    "# увеличем 1 класс в 4 раза, что бы сравнять их количество"
   ]
  },
  {
   "cell_type": "code",
   "execution_count": 49,
   "metadata": {},
   "outputs": [
    {
     "data": {
      "text/plain": [
       "(9666, 11)"
      ]
     },
     "execution_count": 49,
     "metadata": {},
     "output_type": "execute_result"
    }
   ],
   "source": [
    "features_upsampled.shape"
   ]
  },
  {
   "cell_type": "markdown",
   "metadata": {},
   "source": [
    "Обучим наши модели на новых данных"
   ]
  },
  {
   "cell_type": "code",
   "execution_count": 50,
   "metadata": {},
   "outputs": [],
   "source": [
    "model_tree_balans=DecisionTreeClassifier(random_state=123)\n",
    "model_tree_balans.fit(features_upsampled, target_upsampled)\n",
    "predic_tree_balans = model_tree_balans.predict(features_valid)\n",
    "f1_m_tree_balans = f1_score(target_valid, predic_tree_balans)\n",
    "roc_acc_tree_balan = roc_auc_score(target_valid, predic_tree_balans)"
   ]
  },
  {
   "cell_type": "code",
   "execution_count": 51,
   "metadata": {
    "scrolled": true
   },
   "outputs": [],
   "source": [
    "model_rfc_balans = RandomForestClassifier(random_state=12345, n_estimators = 100)\n",
    "model_rfc_balans.fit(features_upsampled, target_upsampled)\n",
    "predic_rfc_balans = model_rfc_balans.predict(features_valid)\n",
    "f1_m_rfc_balans = f1_score(target_valid, predic_rfc_balans)\n",
    "roc_acc_rfc_balan = roc_auc_score(target_valid, predic_rfc_balans)"
   ]
  },
  {
   "cell_type": "code",
   "execution_count": 52,
   "metadata": {},
   "outputs": [],
   "source": [
    "model_logreg_balans = LogisticRegression(solver = 'liblinear')\n",
    "model_logreg_balans.fit(features_upsampled, target_upsampled)\n",
    "predic_logreg_balans = model_logreg_balans.predict(features_valid)\n",
    "f1_m_logreg_balans = f1_score(target_valid, predic_logreg_balans)\n",
    "roc_acc_logreg_balan = roc_auc_score(target_valid, predic_logreg_balans)"
   ]
  },
  {
   "cell_type": "code",
   "execution_count": 53,
   "metadata": {},
   "outputs": [],
   "source": [
    "table_comp_f1.append([f1_m_tree_balans,f1_m_rfc_balans,f1_m_logreg_balans])\n"
   ]
  },
  {
   "cell_type": "code",
   "execution_count": 54,
   "metadata": {},
   "outputs": [],
   "source": [
    "table_comp['Tree_balans'] = [f1_m_tree_balans, roc_acc_tree_balan]\n",
    "table_comp['Forest_balans'] = [f1_m_rfc_balans, roc_acc_rfc_balan]\n",
    "table_comp['LogReg_balans'] = [f1_m_logreg_balans, roc_acc_logreg_balan]"
   ]
  },
  {
   "cell_type": "code",
   "execution_count": 55,
   "metadata": {},
   "outputs": [
    {
     "data": {
      "text/html": [
       "<div>\n",
       "<style scoped>\n",
       "    .dataframe tbody tr th:only-of-type {\n",
       "        vertical-align: middle;\n",
       "    }\n",
       "\n",
       "    .dataframe tbody tr th {\n",
       "        vertical-align: top;\n",
       "    }\n",
       "\n",
       "    .dataframe thead th {\n",
       "        text-align: right;\n",
       "    }\n",
       "</style>\n",
       "<table border=\"1\" class=\"dataframe\">\n",
       "  <thead>\n",
       "    <tr style=\"text-align: right;\">\n",
       "      <th></th>\n",
       "      <th>Tree</th>\n",
       "      <th>Forest</th>\n",
       "      <th>LogReg</th>\n",
       "      <th>Tree_balans</th>\n",
       "      <th>Forest_balans</th>\n",
       "      <th>LogReg_balans</th>\n",
       "    </tr>\n",
       "  </thead>\n",
       "  <tbody>\n",
       "    <tr>\n",
       "      <th>F1</th>\n",
       "      <td>0.513064</td>\n",
       "      <td>0.610370</td>\n",
       "      <td>0.307692</td>\n",
       "      <td>0.520446</td>\n",
       "      <td>0.605820</td>\n",
       "      <td>0.524675</td>\n",
       "    </tr>\n",
       "    <tr>\n",
       "      <th>AUC_ROC</th>\n",
       "      <td>0.696239</td>\n",
       "      <td>0.733293</td>\n",
       "      <td>0.585981</td>\n",
       "      <td>0.697994</td>\n",
       "      <td>0.743263</td>\n",
       "      <td>0.731876</td>\n",
       "    </tr>\n",
       "  </tbody>\n",
       "</table>\n",
       "</div>"
      ],
      "text/plain": [
       "              Tree    Forest    LogReg  Tree_balans  Forest_balans  \\\n",
       "F1        0.513064  0.610370  0.307692     0.520446       0.605820   \n",
       " AUC_ROC  0.696239  0.733293  0.585981     0.697994       0.743263   \n",
       "\n",
       "          LogReg_balans  \n",
       "F1             0.524675  \n",
       " AUC_ROC       0.731876  "
      ]
     },
     "execution_count": 55,
     "metadata": {},
     "output_type": "execute_result"
    }
   ],
   "source": [
    "table_comp"
   ]
  },
  {
   "cell_type": "markdown",
   "metadata": {},
   "source": [
    "Показатели всех 3 моделий изменились, несильно\n",
    "<br> Логическая регрессия улучшила данные, но F1 всего 0,5\n",
    "<br> Случайный лес уменьшил F1 до 0,60, но увеличил AUC-ROC до 0,74\n",
    "<br> модель Дерева почти не изменила свои показатели"
   ]
  },
  {
   "cell_type": "markdown",
   "metadata": {},
   "source": [
    "Лучшие показатели у случайного леса F1-мера - `0,605`, AUC-ROC - `0.74`. Попробуем подобрать гиперпараметры для улучшения модели"
   ]
  },
  {
   "cell_type": "markdown",
   "metadata": {},
   "source": [
    "На сбалансированных данных метрики моделей сильно не поменялись, у Логической регресии показатель F1 - стал выше(было 0.3, стало 0.52), так как лучшие показатели среди 3 моделей у случайного леса (F1-мера=0.605 и AUC-ROC=0.743)\n",
    "дальше я стал настраивать модель гиперпараметрами, для улучшения показателей."
   ]
  },
  {
   "cell_type": "code",
   "execution_count": 56,
   "metadata": {},
   "outputs": [
    {
     "data": {
      "text/html": [
       "<div>\n",
       "<style scoped>\n",
       "    .dataframe tbody tr th:only-of-type {\n",
       "        vertical-align: middle;\n",
       "    }\n",
       "\n",
       "    .dataframe tbody tr th {\n",
       "        vertical-align: top;\n",
       "    }\n",
       "\n",
       "    .dataframe thead tr th {\n",
       "        text-align: left;\n",
       "    }\n",
       "\n",
       "    .dataframe thead tr:last-of-type th {\n",
       "        text-align: right;\n",
       "    }\n",
       "</style>\n",
       "<table border=\"1\" class=\"dataframe\">\n",
       "  <thead>\n",
       "    <tr>\n",
       "      <th></th>\n",
       "      <th colspan=\"15\" halign=\"left\">f1</th>\n",
       "    </tr>\n",
       "    <tr>\n",
       "      <th>table_est</th>\n",
       "      <th>70.0</th>\n",
       "      <th>72.0</th>\n",
       "      <th>74.0</th>\n",
       "      <th>76.0</th>\n",
       "      <th>78.0</th>\n",
       "      <th>80.0</th>\n",
       "      <th>82.0</th>\n",
       "      <th>84.0</th>\n",
       "      <th>86.0</th>\n",
       "      <th>88.0</th>\n",
       "      <th>90.0</th>\n",
       "      <th>92.0</th>\n",
       "      <th>94.0</th>\n",
       "      <th>96.0</th>\n",
       "      <th>98.0</th>\n",
       "    </tr>\n",
       "    <tr>\n",
       "      <th>table_depth</th>\n",
       "      <th></th>\n",
       "      <th></th>\n",
       "      <th></th>\n",
       "      <th></th>\n",
       "      <th></th>\n",
       "      <th></th>\n",
       "      <th></th>\n",
       "      <th></th>\n",
       "      <th></th>\n",
       "      <th></th>\n",
       "      <th></th>\n",
       "      <th></th>\n",
       "      <th></th>\n",
       "      <th></th>\n",
       "      <th></th>\n",
       "    </tr>\n",
       "  </thead>\n",
       "  <tbody>\n",
       "    <tr>\n",
       "      <th>5.0</th>\n",
       "      <td>0.615825</td>\n",
       "      <td>0.612750</td>\n",
       "      <td>0.613636</td>\n",
       "      <td>0.616412</td>\n",
       "      <td>0.614653</td>\n",
       "      <td>0.613918</td>\n",
       "      <td>0.614943</td>\n",
       "      <td>0.615091</td>\n",
       "      <td>0.616123</td>\n",
       "      <td>0.616123</td>\n",
       "      <td>0.614354</td>\n",
       "      <td>0.614943</td>\n",
       "      <td>0.615532</td>\n",
       "      <td>0.618774</td>\n",
       "      <td>0.621154</td>\n",
       "    </tr>\n",
       "    <tr>\n",
       "      <th>6.0</th>\n",
       "      <td>0.622919</td>\n",
       "      <td>0.623402</td>\n",
       "      <td>0.622179</td>\n",
       "      <td>0.625984</td>\n",
       "      <td>0.623402</td>\n",
       "      <td>0.624631</td>\n",
       "      <td>0.625369</td>\n",
       "      <td>0.628684</td>\n",
       "      <td>0.625490</td>\n",
       "      <td>0.627335</td>\n",
       "      <td>0.627102</td>\n",
       "      <td>0.624631</td>\n",
       "      <td>0.625369</td>\n",
       "      <td>0.627953</td>\n",
       "      <td>0.625247</td>\n",
       "    </tr>\n",
       "    <tr>\n",
       "      <th>7.0</th>\n",
       "      <td>0.631365</td>\n",
       "      <td>0.634146</td>\n",
       "      <td>0.631579</td>\n",
       "      <td>0.632114</td>\n",
       "      <td>0.630193</td>\n",
       "      <td>0.630832</td>\n",
       "      <td>0.629328</td>\n",
       "      <td>0.628049</td>\n",
       "      <td>0.629213</td>\n",
       "      <td>0.629328</td>\n",
       "      <td>0.626016</td>\n",
       "      <td>0.628688</td>\n",
       "      <td>0.630081</td>\n",
       "      <td>0.629969</td>\n",
       "      <td>0.630722</td>\n",
       "    </tr>\n",
       "    <tr>\n",
       "      <th>8.0</th>\n",
       "      <td>0.627207</td>\n",
       "      <td>0.624481</td>\n",
       "      <td>0.627207</td>\n",
       "      <td>0.631579</td>\n",
       "      <td>0.632231</td>\n",
       "      <td>0.630278</td>\n",
       "      <td>0.629630</td>\n",
       "      <td>0.630052</td>\n",
       "      <td>0.630705</td>\n",
       "      <td>0.632124</td>\n",
       "      <td>0.633643</td>\n",
       "      <td>0.633540</td>\n",
       "      <td>0.633643</td>\n",
       "      <td>0.631470</td>\n",
       "      <td>0.634197</td>\n",
       "    </tr>\n",
       "    <tr>\n",
       "      <th>9.0</th>\n",
       "      <td>0.642857</td>\n",
       "      <td>0.640693</td>\n",
       "      <td>0.644324</td>\n",
       "      <td>0.641387</td>\n",
       "      <td>0.637931</td>\n",
       "      <td>0.639397</td>\n",
       "      <td>0.640777</td>\n",
       "      <td>0.637931</td>\n",
       "      <td>0.635091</td>\n",
       "      <td>0.635776</td>\n",
       "      <td>0.638024</td>\n",
       "      <td>0.637339</td>\n",
       "      <td>0.637244</td>\n",
       "      <td>0.640086</td>\n",
       "      <td>0.642320</td>\n",
       "    </tr>\n",
       "  </tbody>\n",
       "</table>\n",
       "</div>"
      ],
      "text/plain": [
       "                   f1                                                    \\\n",
       "table_est        70.0      72.0      74.0      76.0      78.0      80.0   \n",
       "table_depth                                                               \n",
       "5.0          0.615825  0.612750  0.613636  0.616412  0.614653  0.613918   \n",
       "6.0          0.622919  0.623402  0.622179  0.625984  0.623402  0.624631   \n",
       "7.0          0.631365  0.634146  0.631579  0.632114  0.630193  0.630832   \n",
       "8.0          0.627207  0.624481  0.627207  0.631579  0.632231  0.630278   \n",
       "9.0          0.642857  0.640693  0.644324  0.641387  0.637931  0.639397   \n",
       "\n",
       "                                                                         \\\n",
       "table_est        82.0      84.0      86.0      88.0      90.0      92.0   \n",
       "table_depth                                                               \n",
       "5.0          0.614943  0.615091  0.616123  0.616123  0.614354  0.614943   \n",
       "6.0          0.625369  0.628684  0.625490  0.627335  0.627102  0.624631   \n",
       "7.0          0.629328  0.628049  0.629213  0.629328  0.626016  0.628688   \n",
       "8.0          0.629630  0.630052  0.630705  0.632124  0.633643  0.633540   \n",
       "9.0          0.640777  0.637931  0.635091  0.635776  0.638024  0.637339   \n",
       "\n",
       "                                           \n",
       "table_est        94.0      96.0      98.0  \n",
       "table_depth                                \n",
       "5.0          0.615532  0.618774  0.621154  \n",
       "6.0          0.625369  0.627953  0.625247  \n",
       "7.0          0.630081  0.629969  0.630722  \n",
       "8.0          0.633643  0.631470  0.634197  \n",
       "9.0          0.637244  0.640086  0.642320  "
      ]
     },
     "metadata": {},
     "output_type": "display_data"
    },
    {
     "name": "stdout",
     "output_type": "stream",
     "text": [
      "\n",
      "Лучшие показатели:\n"
     ]
    },
    {
     "data": {
      "text/html": [
       "<div>\n",
       "<style scoped>\n",
       "    .dataframe tbody tr th:only-of-type {\n",
       "        vertical-align: middle;\n",
       "    }\n",
       "\n",
       "    .dataframe tbody tr th {\n",
       "        vertical-align: top;\n",
       "    }\n",
       "\n",
       "    .dataframe thead th {\n",
       "        text-align: right;\n",
       "    }\n",
       "</style>\n",
       "<table border=\"1\" class=\"dataframe\">\n",
       "  <thead>\n",
       "    <tr style=\"text-align: right;\">\n",
       "      <th></th>\n",
       "      <th>0</th>\n",
       "    </tr>\n",
       "  </thead>\n",
       "  <tbody>\n",
       "    <tr>\n",
       "      <th>Est</th>\n",
       "      <td>74.000000</td>\n",
       "    </tr>\n",
       "    <tr>\n",
       "      <th>Depth</th>\n",
       "      <td>9.000000</td>\n",
       "    </tr>\n",
       "    <tr>\n",
       "      <th>F1-мера</th>\n",
       "      <td>0.644324</td>\n",
       "    </tr>\n",
       "    <tr>\n",
       "      <th>AUC-ROC</th>\n",
       "      <td>0.796415</td>\n",
       "    </tr>\n",
       "  </tbody>\n",
       "</table>\n",
       "</div>"
      ],
      "text/plain": [
       "                 0\n",
       "Est      74.000000\n",
       "Depth     9.000000\n",
       "F1-мера   0.644324\n",
       "AUC-ROC   0.796415"
      ]
     },
     "metadata": {},
     "output_type": "display_data"
    },
    {
     "name": "stdout",
     "output_type": "stream",
     "text": [
      "CPU times: user 37.3 s, sys: 105 ms, total: 37.4 s\n",
      "Wall time: 37.4 s\n"
     ]
    }
   ],
   "source": [
    "%%time\n",
    "best_model_forest = None\n",
    "best_result = 0\n",
    "best_auc_roc = 0\n",
    "best_est = 0\n",
    "best_depth = 0\n",
    "table_est = []\n",
    "table_depth = []\n",
    "f1 = []\n",
    "\n",
    "\n",
    "\n",
    "for est in range(70, 100, 2): # обрезал выборку с 70 до 100, что бы не зависал код на долго\n",
    "    for depth in range (5, 10): # так же обрезал выборку глубины \n",
    "        \n",
    "        model = RandomForestClassifier(random_state=12345, n_estimators=est, max_depth=depth)\n",
    "        model.fit(features_upsampled, target_upsampled) \n",
    "        prediction = model.predict(features_valid)\n",
    "        result = f1_score(target_valid, prediction) \n",
    "        auc_roc = roc_auc_score(target_valid, prediction)\n",
    "        f1.append(result)\n",
    "        table_est.append(est)\n",
    "        table_depth.append(depth)\n",
    "        if result > best_result:\n",
    "            best_model_forest = model\n",
    "            best_result = result\n",
    "            best_auc_roc = auc_roc\n",
    "            best_est = est\n",
    "            best_depth = depth\n",
    "\n",
    "#print(\"F1-мера наилучшей модели на валидационной выборке:\", best_result)\n",
    "#print(\"Количество деревьев:\", best_est,)\n",
    "#print(\"Максимальная глубина:\", best_depth)\n",
    "best_forest = pd.DataFrame(data = (best_est, best_depth, best_result, best_auc_roc))\n",
    "best_forest.index = ('Est', 'Depth', 'F1-мера', 'AUC-ROC')\n",
    "\n",
    "table_1 = pd.DataFrame(data = (table_est, table_depth, f1)).T\n",
    "table_1.columns = ('table_est', 'table_depth', 'f1')\n",
    "display(table_1.pivot_table(index = ['table_depth'], columns = ['table_est']))\n",
    "print()\n",
    "print(\"Лучшие показатели:\")\n",
    "display(best_forest)"
   ]
  },
  {
   "cell_type": "code",
   "execution_count": 57,
   "metadata": {},
   "outputs": [
    {
     "name": "stdout",
     "output_type": "stream",
     "text": [
      "Матрица ошибок: \n",
      " [[1373  219]\n",
      " [ 110  298]]\n",
      "Полнота 0.7303921568627451\n",
      "Точность 0.5764023210831721\n",
      "F1-мера 0.6443243243243243\n",
      "AUC-ROC 0.7964146713961967\n"
     ]
    }
   ],
   "source": [
    "best_model_prediction = best_model_forest.predict(features_valid)\n",
    "rec_prec_f1(target_valid, best_model_prediction)"
   ]
  },
  {
   "cell_type": "markdown",
   "metadata": {},
   "source": [
    "На сбалансированных данных метрики моделей сильно не поменялись, у Логической регресии показатель качества accuracy - стал ниже константной (0,725 к 0,76), так как лучшие показатели среди 3 моделей у случайного леса (F1-мера=0.6126 и\n",
    "AUC-ROC=0.7351)\n",
    "<br>дальше я стал настраивать модель гиперпараметрами, для улучшения показателей.\n",
    "Удалось повысить площадь под кривой AUC-ROC до 0,79 и поднять F1-меру до 0,643.\n",
    "Проверим модель с гиперпараметрами на тестовой выборке"
   ]
  },
  {
   "cell_type": "markdown",
   "metadata": {},
   "source": [
    "## Тестирование модели"
   ]
  },
  {
   "cell_type": "code",
   "execution_count": 58,
   "metadata": {},
   "outputs": [
    {
     "name": "stdout",
     "output_type": "stream",
     "text": [
      "Матрица ошибок: \n",
      " [[1356  237]\n",
      " [ 124  283]]\n",
      "Полнота 0.6953316953316954\n",
      "Точность 0.5442307692307692\n",
      "F1-мера 0.610571736785329\n",
      "AUC-ROC 0.7732779003965444\n"
     ]
    }
   ],
   "source": [
    "model_test_prediction = best_model_forest.predict(features_test)\n",
    "rec_prec_f1(target_test, model_test_prediction)"
   ]
  },
  {
   "cell_type": "code",
   "execution_count": 59,
   "metadata": {},
   "outputs": [
    {
     "data": {
      "image/png": "[encoded data removed]",
      "text/plain": [
       "<Figure size 432x288 with 1 Axes>"
      ]
     },
     "metadata": {
      "needs_background": "light"
     },
     "output_type": "display_data"
    }
   ],
   "source": [
    "rfc_probabilities_one_test = best_model_forest.predict_proba(features_test)[:, 1]\n",
    "\n",
    "fpr, tpr, thresholds = roc_curve(target_test, rfc_probabilities_one_test) \n",
    "plt.figure()\n",
    "plt.plot(fpr, tpr)\n",
    "plt.plot([0, 1], [0, 1], linestyle='--')\n",
    "plt.xlim([0.0, 1.0])\n",
    "plt.ylim([0.0, 1.0])\n",
    "plt.xlabel('False Positive Rate')\n",
    "plt.ylabel('True Positive Rate')\n",
    "plt.title('ROC-кривая')\n",
    "plt.show()"
   ]
  },
  {
   "cell_type": "code",
   "execution_count": 60,
   "metadata": {},
   "outputs": [
    {
     "name": "stdout",
     "output_type": "stream",
     "text": [
      "Качество модели:  0.8195\n"
     ]
    }
   ],
   "source": [
    "best_predic_rfc = best_model_forest.predict(features_test)\n",
    "acc_rfc = accuracy_score(target_test, best_predic_rfc)\n",
    "print('Качество модели: ',acc_rfc)"
   ]
  },
  {
   "cell_type": "markdown",
   "metadata": {},
   "source": [
    "**Новый вывод:**"
   ]
  },
  {
   "cell_type": "code",
   "execution_count": 61,
   "metadata": {},
   "outputs": [
    {
     "data": {
      "text/html": [
       "<div>\n",
       "<style scoped>\n",
       "    .dataframe tbody tr th:only-of-type {\n",
       "        vertical-align: middle;\n",
       "    }\n",
       "\n",
       "    .dataframe tbody tr th {\n",
       "        vertical-align: top;\n",
       "    }\n",
       "\n",
       "    .dataframe thead th {\n",
       "        text-align: right;\n",
       "    }\n",
       "</style>\n",
       "<table border=\"1\" class=\"dataframe\">\n",
       "  <thead>\n",
       "    <tr style=\"text-align: right;\">\n",
       "      <th></th>\n",
       "      <th>Tree</th>\n",
       "      <th>Forest</th>\n",
       "      <th>LogReg</th>\n",
       "      <th>Tree_balans</th>\n",
       "      <th>Forest_balans</th>\n",
       "      <th>LogReg_balans</th>\n",
       "    </tr>\n",
       "  </thead>\n",
       "  <tbody>\n",
       "    <tr>\n",
       "      <th>F1</th>\n",
       "      <td>0.513064</td>\n",
       "      <td>0.610370</td>\n",
       "      <td>0.307692</td>\n",
       "      <td>0.520446</td>\n",
       "      <td>0.605820</td>\n",
       "      <td>0.524675</td>\n",
       "    </tr>\n",
       "    <tr>\n",
       "      <th>AUC_ROC</th>\n",
       "      <td>0.696239</td>\n",
       "      <td>0.733293</td>\n",
       "      <td>0.585981</td>\n",
       "      <td>0.697994</td>\n",
       "      <td>0.743263</td>\n",
       "      <td>0.731876</td>\n",
       "    </tr>\n",
       "  </tbody>\n",
       "</table>\n",
       "</div>"
      ],
      "text/plain": [
       "              Tree    Forest    LogReg  Tree_balans  Forest_balans  \\\n",
       "F1        0.513064  0.610370  0.307692     0.520446       0.605820   \n",
       " AUC_ROC  0.696239  0.733293  0.585981     0.697994       0.743263   \n",
       "\n",
       "          LogReg_balans  \n",
       "F1             0.524675  \n",
       " AUC_ROC       0.731876  "
      ]
     },
     "execution_count": 61,
     "metadata": {},
     "output_type": "execute_result"
    }
   ],
   "source": [
    "table_comp"
   ]
  },
  {
   "cell_type": "markdown",
   "metadata": {},
   "source": [
    "Видно что F1 и AUC-Roc сильно меняются только в модели Логической Регрессии, у Модели Дерева и Случайного леса эти показатели слабо реагируют на сбалансированные данные. Имея лучшие показатели не в \"прокаченной модели\" у Случайного леса  - F1 = 0.605 и AUC-ROC = 0.743. Подобрав лучшие гиперпараметры на выходе вышло улучшить данные."
   ]
  },
  {
   "cell_type": "code",
   "execution_count": 62,
   "metadata": {
    "scrolled": true
   },
   "outputs": [
    {
     "data": {
      "text/html": [
       "<div>\n",
       "<style scoped>\n",
       "    .dataframe tbody tr th:only-of-type {\n",
       "        vertical-align: middle;\n",
       "    }\n",
       "\n",
       "    .dataframe tbody tr th {\n",
       "        vertical-align: top;\n",
       "    }\n",
       "\n",
       "    .dataframe thead th {\n",
       "        text-align: right;\n",
       "    }\n",
       "</style>\n",
       "<table border=\"1\" class=\"dataframe\">\n",
       "  <thead>\n",
       "    <tr style=\"text-align: right;\">\n",
       "      <th></th>\n",
       "      <th>0</th>\n",
       "    </tr>\n",
       "  </thead>\n",
       "  <tbody>\n",
       "    <tr>\n",
       "      <th>Est</th>\n",
       "      <td>74.000000</td>\n",
       "    </tr>\n",
       "    <tr>\n",
       "      <th>Depth</th>\n",
       "      <td>9.000000</td>\n",
       "    </tr>\n",
       "    <tr>\n",
       "      <th>F1-мера</th>\n",
       "      <td>0.644324</td>\n",
       "    </tr>\n",
       "    <tr>\n",
       "      <th>AUC-ROC</th>\n",
       "      <td>0.796415</td>\n",
       "    </tr>\n",
       "  </tbody>\n",
       "</table>\n",
       "</div>"
      ],
      "text/plain": [
       "                 0\n",
       "Est      74.000000\n",
       "Depth     9.000000\n",
       "F1-мера   0.644324\n",
       "AUC-ROC   0.796415"
      ]
     },
     "execution_count": 62,
     "metadata": {},
     "output_type": "execute_result"
    }
   ],
   "source": [
    "best_forest"
   ]
  },
  {
   "cell_type": "markdown",
   "metadata": {},
   "source": [
    "Случайный лес с параметрами max_depth=9, n_estimators=74 составил F1=0,644, AUC-ROC=0.796"
   ]
  },
  {
   "cell_type": "code",
   "execution_count": 63,
   "metadata": {},
   "outputs": [
    {
     "name": "stdout",
     "output_type": "stream",
     "text": [
      "Матрица ошибок: \n",
      " [[1356  237]\n",
      " [ 124  283]]\n",
      "Полнота 0.6953316953316954\n",
      "Точность 0.5442307692307692\n",
      "F1-мера 0.610571736785329\n",
      "AUC-ROC 0.7732779003965444\n"
     ]
    }
   ],
   "source": [
    "rec_prec_f1(target_test, model_test_prediction)"
   ]
  },
  {
   "cell_type": "markdown",
   "metadata": {},
   "source": [
    "**Вывод**\n",
    "<br> По итогу моих действий мне удалось на `тестовой выборке` достигнуть \n",
    "<br>F1 = 0,61 \n",
    "<br>AUC-ROC = 0,77 - показывает что модель достаточно хорошо предсказывает то, что клиент останется клиентом банка\n",
    "<br>Показатель полноты модели = 0,69 - говорит о том, что модель способна предсказать уход клиента с высокой долей вероятности\n",
    "Показатель точности = 0,54 - обьясняет то, что модель только в 54% верно предскажет действия клиентов.\n",
    "Данная модель поможет предсказать останется ли человек клиентом банка.\n"
   ]
  }
 ],
 "metadata": {
  "ExecuteTimeLog": [
   {
    "duration": 380,
    "start_time": "2022-09-12T08:54:42.571Z"
   },
   {
    "duration": 66,
    "start_time": "2022-09-12T08:56:12.948Z"
   },
   {
    "duration": 12,
    "start_time": "2022-09-12T09:00:19.953Z"
   },
   {
    "duration": 12,
    "start_time": "2022-09-12T09:00:41.156Z"
   },
   {
    "duration": 11,
    "start_time": "2022-09-12T09:01:05.824Z"
   },
   {
    "duration": 11,
    "start_time": "2022-09-12T09:01:37.405Z"
   },
   {
    "duration": 3,
    "start_time": "2022-09-12T09:04:45.419Z"
   },
   {
    "duration": 3,
    "start_time": "2022-09-12T09:04:49.624Z"
   },
   {
    "duration": 11,
    "start_time": "2022-09-12T09:04:51.233Z"
   },
   {
    "duration": 977,
    "start_time": "2022-09-12T09:05:06.395Z"
   },
   {
    "duration": 47,
    "start_time": "2022-09-12T09:05:15.570Z"
   },
   {
    "duration": 3,
    "start_time": "2022-09-12T09:07:04.455Z"
   },
   {
    "duration": 83,
    "start_time": "2022-09-12T09:08:33.540Z"
   },
   {
    "duration": 58,
    "start_time": "2022-09-12T09:10:09.958Z"
   },
   {
    "duration": 13,
    "start_time": "2022-09-12T09:15:59.810Z"
   },
   {
    "duration": 13,
    "start_time": "2022-09-12T09:16:12.443Z"
   },
   {
    "duration": 48,
    "start_time": "2022-09-12T09:16:18.851Z"
   },
   {
    "duration": 14,
    "start_time": "2022-09-12T09:16:36.486Z"
   },
   {
    "duration": 14,
    "start_time": "2022-09-12T09:16:40.012Z"
   },
   {
    "duration": 133,
    "start_time": "2022-09-12T09:19:27.855Z"
   },
   {
    "duration": 262,
    "start_time": "2022-09-12T09:21:02.262Z"
   },
   {
    "duration": 243,
    "start_time": "2022-09-12T09:22:06.671Z"
   },
   {
    "duration": 265,
    "start_time": "2022-09-12T09:22:14.094Z"
   },
   {
    "duration": 269,
    "start_time": "2022-09-12T09:23:47.384Z"
   },
   {
    "duration": 278,
    "start_time": "2022-09-12T09:24:54.037Z"
   },
   {
    "duration": 3,
    "start_time": "2022-09-12T09:26:03.224Z"
   },
   {
    "duration": 252,
    "start_time": "2022-09-12T09:26:03.850Z"
   },
   {
    "duration": 260,
    "start_time": "2022-09-12T09:30:19.646Z"
   },
   {
    "duration": 40,
    "start_time": "2022-09-12T09:37:32.604Z"
   },
   {
    "duration": 265,
    "start_time": "2022-09-12T09:37:46.483Z"
   },
   {
    "duration": 266,
    "start_time": "2022-09-12T09:37:57.727Z"
   },
   {
    "duration": 182,
    "start_time": "2022-09-12T09:40:54.464Z"
   },
   {
    "duration": 12,
    "start_time": "2022-09-12T09:41:03.166Z"
   },
   {
    "duration": 246,
    "start_time": "2022-09-12T09:41:12.768Z"
   },
   {
    "duration": 3,
    "start_time": "2022-09-12T09:42:22.552Z"
   },
   {
    "duration": 3,
    "start_time": "2022-09-12T09:42:23.597Z"
   },
   {
    "duration": 13,
    "start_time": "2022-09-12T09:42:36.746Z"
   },
   {
    "duration": 1551,
    "start_time": "2022-09-12T09:43:16.217Z"
   },
   {
    "duration": 179,
    "start_time": "2022-09-12T09:43:18.973Z"
   },
   {
    "duration": 270,
    "start_time": "2022-09-12T09:43:37.452Z"
   },
   {
    "duration": 416,
    "start_time": "2022-09-12T09:43:48.899Z"
   },
   {
    "duration": 326,
    "start_time": "2022-09-12T09:43:49.318Z"
   },
   {
    "duration": 242,
    "start_time": "2022-09-12T09:45:15.505Z"
   },
   {
    "duration": 107,
    "start_time": "2022-09-12T09:48:54.554Z"
   },
   {
    "duration": 40,
    "start_time": "2022-09-12T09:55:19.798Z"
   },
   {
    "duration": 48,
    "start_time": "2022-09-12T09:55:56.640Z"
   },
   {
    "duration": 50,
    "start_time": "2022-09-12T11:00:53.309Z"
   },
   {
    "duration": 58,
    "start_time": "2022-09-12T11:01:00.534Z"
   },
   {
    "duration": 52,
    "start_time": "2022-09-12T11:04:36.275Z"
   },
   {
    "duration": 69,
    "start_time": "2022-09-12T11:07:38.632Z"
   },
   {
    "duration": 52,
    "start_time": "2022-09-12T11:07:43.984Z"
   },
   {
    "duration": 4,
    "start_time": "2022-09-12T11:08:46.208Z"
   },
   {
    "duration": 11,
    "start_time": "2022-09-12T11:09:19.369Z"
   },
   {
    "duration": 9,
    "start_time": "2022-09-12T11:09:29.034Z"
   },
   {
    "duration": 5,
    "start_time": "2022-09-12T11:09:38.217Z"
   },
   {
    "duration": 29,
    "start_time": "2022-09-12T11:10:01.207Z"
   },
   {
    "duration": 7,
    "start_time": "2022-09-12T11:10:08.452Z"
   },
   {
    "duration": 7,
    "start_time": "2022-09-12T11:10:13.675Z"
   },
   {
    "duration": 7,
    "start_time": "2022-09-12T11:10:21.990Z"
   },
   {
    "duration": 4,
    "start_time": "2022-09-12T11:10:41.261Z"
   },
   {
    "duration": 54,
    "start_time": "2022-09-12T11:11:03.711Z"
   },
   {
    "duration": 51,
    "start_time": "2022-09-12T11:11:14.033Z"
   },
   {
    "duration": 19,
    "start_time": "2022-09-12T11:11:21.454Z"
   },
   {
    "duration": 21,
    "start_time": "2022-09-12T11:11:39.510Z"
   },
   {
    "duration": 18,
    "start_time": "2022-09-12T11:11:47.390Z"
   },
   {
    "duration": 5,
    "start_time": "2022-09-12T11:22:52.161Z"
   },
   {
    "duration": 6,
    "start_time": "2022-09-12T11:23:01.771Z"
   },
   {
    "duration": 7,
    "start_time": "2022-09-12T11:23:14.582Z"
   },
   {
    "duration": 4,
    "start_time": "2022-09-12T11:23:36.220Z"
   },
   {
    "duration": 66,
    "start_time": "2022-09-12T11:26:31.966Z"
   },
   {
    "duration": 77,
    "start_time": "2022-09-12T11:27:10.796Z"
   },
   {
    "duration": 59,
    "start_time": "2022-09-12T11:27:24.389Z"
   },
   {
    "duration": 4,
    "start_time": "2022-09-12T11:31:12.278Z"
   },
   {
    "duration": 67,
    "start_time": "2022-09-12T11:31:49.067Z"
   },
   {
    "duration": 4,
    "start_time": "2022-09-12T11:43:32.642Z"
   },
   {
    "duration": 3,
    "start_time": "2022-09-12T11:45:24.820Z"
   },
   {
    "duration": 22,
    "start_time": "2022-09-12T11:45:25.632Z"
   },
   {
    "duration": 4,
    "start_time": "2022-09-12T11:45:46.033Z"
   },
   {
    "duration": 3,
    "start_time": "2022-09-12T11:45:46.586Z"
   },
   {
    "duration": 8,
    "start_time": "2022-09-12T11:47:47.532Z"
   },
   {
    "duration": 12,
    "start_time": "2022-09-12T11:48:02.748Z"
   },
   {
    "duration": 11,
    "start_time": "2022-09-12T11:49:10.193Z"
   },
   {
    "duration": 10,
    "start_time": "2022-09-12T11:49:51.441Z"
   },
   {
    "duration": 7,
    "start_time": "2022-09-12T11:50:21.418Z"
   },
   {
    "duration": 4,
    "start_time": "2022-09-12T11:50:50.472Z"
   },
   {
    "duration": 4,
    "start_time": "2022-09-12T11:51:02.664Z"
   },
   {
    "duration": 3,
    "start_time": "2022-09-12T11:51:06.758Z"
   },
   {
    "duration": 9,
    "start_time": "2022-09-12T11:51:17.093Z"
   },
   {
    "duration": 12,
    "start_time": "2022-09-12T11:51:24.463Z"
   },
   {
    "duration": 11,
    "start_time": "2022-09-12T11:53:19.172Z"
   },
   {
    "duration": 10,
    "start_time": "2022-09-12T11:53:42.986Z"
   },
   {
    "duration": 3,
    "start_time": "2022-09-12T11:54:34.635Z"
   },
   {
    "duration": 6,
    "start_time": "2022-09-12T11:57:14.118Z"
   },
   {
    "duration": 19,
    "start_time": "2022-09-12T11:57:18.862Z"
   },
   {
    "duration": 86,
    "start_time": "2022-09-12T12:07:20.972Z"
   },
   {
    "duration": 22,
    "start_time": "2022-09-12T12:08:57.525Z"
   },
   {
    "duration": 10,
    "start_time": "2022-09-12T12:31:19.619Z"
   },
   {
    "duration": 5,
    "start_time": "2022-09-12T12:31:30.888Z"
   },
   {
    "duration": 8,
    "start_time": "2022-09-12T12:35:56.434Z"
   },
   {
    "duration": 641,
    "start_time": "2022-09-12T12:36:05.766Z"
   },
   {
    "duration": 9,
    "start_time": "2022-09-12T12:36:11.913Z"
   },
   {
    "duration": 42,
    "start_time": "2022-09-12T12:37:07.769Z"
   },
   {
    "duration": 7,
    "start_time": "2022-09-12T12:37:55.584Z"
   },
   {
    "duration": 28,
    "start_time": "2022-09-12T12:38:34.950Z"
   },
   {
    "duration": 6,
    "start_time": "2022-09-12T12:38:46.461Z"
   },
   {
    "duration": 8,
    "start_time": "2022-09-12T14:03:08.744Z"
   },
   {
    "duration": 3,
    "start_time": "2022-09-12T14:03:16.004Z"
   },
   {
    "duration": 2,
    "start_time": "2022-09-12T14:03:28.390Z"
   },
   {
    "duration": 11,
    "start_time": "2022-09-12T14:03:31.499Z"
   },
   {
    "duration": 9,
    "start_time": "2022-09-12T14:03:48.020Z"
   },
   {
    "duration": 23,
    "start_time": "2022-09-12T14:04:17.513Z"
   },
   {
    "duration": 17,
    "start_time": "2022-09-12T14:04:47.619Z"
   },
   {
    "duration": 17,
    "start_time": "2022-09-12T14:05:27.851Z"
   },
   {
    "duration": 16,
    "start_time": "2022-09-12T14:06:45.945Z"
   },
   {
    "duration": 5,
    "start_time": "2022-09-12T14:13:03.449Z"
   },
   {
    "duration": 5,
    "start_time": "2022-09-12T14:15:54.865Z"
   },
   {
    "duration": 9,
    "start_time": "2022-09-12T14:20:37.636Z"
   },
   {
    "duration": 44,
    "start_time": "2022-09-12T14:20:43.784Z"
   },
   {
    "duration": 3,
    "start_time": "2022-09-12T14:20:49.325Z"
   },
   {
    "duration": 40,
    "start_time": "2022-09-12T14:21:33.792Z"
   },
   {
    "duration": 32,
    "start_time": "2022-09-12T14:21:38.807Z"
   },
   {
    "duration": 1076,
    "start_time": "2022-09-12T14:22:06.193Z"
   },
   {
    "duration": 73,
    "start_time": "2022-09-12T14:22:07.271Z"
   },
   {
    "duration": 5,
    "start_time": "2022-09-12T14:22:07.345Z"
   },
   {
    "duration": 4,
    "start_time": "2022-09-12T14:22:07.352Z"
   },
   {
    "duration": 7,
    "start_time": "2022-09-12T14:22:07.357Z"
   },
   {
    "duration": 5,
    "start_time": "2022-09-12T14:22:07.366Z"
   },
   {
    "duration": 15,
    "start_time": "2022-09-12T14:22:07.373Z"
   },
   {
    "duration": 11,
    "start_time": "2022-09-12T14:22:07.390Z"
   },
   {
    "duration": 3,
    "start_time": "2022-09-12T14:22:07.422Z"
   },
   {
    "duration": 21,
    "start_time": "2022-09-12T14:22:07.427Z"
   },
   {
    "duration": 4,
    "start_time": "2022-09-12T14:22:07.449Z"
   },
   {
    "duration": 11,
    "start_time": "2022-09-12T14:22:07.455Z"
   },
   {
    "duration": 21,
    "start_time": "2022-09-12T14:22:07.468Z"
   },
   {
    "duration": 9,
    "start_time": "2022-09-12T14:22:07.491Z"
   },
   {
    "duration": 11,
    "start_time": "2022-09-12T14:22:07.522Z"
   },
   {
    "duration": 26,
    "start_time": "2022-09-12T14:22:07.535Z"
   },
   {
    "duration": 17,
    "start_time": "2022-09-12T14:22:07.563Z"
   },
   {
    "duration": 16,
    "start_time": "2022-09-12T14:22:07.582Z"
   },
   {
    "duration": 6,
    "start_time": "2022-09-12T14:22:07.622Z"
   },
   {
    "duration": 7,
    "start_time": "2022-09-12T14:22:07.629Z"
   },
   {
    "duration": 34,
    "start_time": "2022-09-12T14:22:07.637Z"
   },
   {
    "duration": 66,
    "start_time": "2022-09-12T14:22:49.324Z"
   },
   {
    "duration": 33,
    "start_time": "2022-09-12T14:22:55.096Z"
   },
   {
    "duration": 661,
    "start_time": "2022-09-12T14:24:19.752Z"
   },
   {
    "duration": 19,
    "start_time": "2022-09-12T14:25:47.747Z"
   },
   {
    "duration": 3,
    "start_time": "2022-09-12T15:08:54.408Z"
   },
   {
    "duration": 34,
    "start_time": "2022-09-12T15:08:58.013Z"
   },
   {
    "duration": 630,
    "start_time": "2022-09-12T15:09:26.740Z"
   },
   {
    "duration": 23,
    "start_time": "2022-09-12T15:09:54.218Z"
   },
   {
    "duration": 4,
    "start_time": "2022-09-12T15:16:58.685Z"
   },
   {
    "duration": 4,
    "start_time": "2022-09-12T15:17:32.117Z"
   },
   {
    "duration": 6,
    "start_time": "2022-09-12T15:21:15.964Z"
   },
   {
    "duration": 9,
    "start_time": "2022-09-12T15:21:25.878Z"
   },
   {
    "duration": 44,
    "start_time": "2022-09-12T15:21:47.810Z"
   },
   {
    "duration": 7,
    "start_time": "2022-09-12T15:21:57.141Z"
   },
   {
    "duration": 6,
    "start_time": "2022-09-12T15:22:35.112Z"
   },
   {
    "duration": 7,
    "start_time": "2022-09-12T15:22:39.900Z"
   },
   {
    "duration": 49,
    "start_time": "2022-09-12T15:23:40.116Z"
   },
   {
    "duration": 32,
    "start_time": "2022-09-12T15:32:02.593Z"
   },
   {
    "duration": 31,
    "start_time": "2022-09-12T15:32:06.344Z"
   },
   {
    "duration": 95,
    "start_time": "2022-09-12T15:32:20.268Z"
   },
   {
    "duration": 5,
    "start_time": "2022-09-12T15:32:23.386Z"
   },
   {
    "duration": 38,
    "start_time": "2022-09-12T15:46:23.131Z"
   },
   {
    "duration": 39,
    "start_time": "2022-09-12T15:46:34.111Z"
   },
   {
    "duration": 36,
    "start_time": "2022-09-12T15:47:57.292Z"
   },
   {
    "duration": 32,
    "start_time": "2022-09-12T15:48:04.122Z"
   },
   {
    "duration": 31,
    "start_time": "2022-09-12T15:48:44.818Z"
   },
   {
    "duration": 34,
    "start_time": "2022-09-12T16:02:15.254Z"
   },
   {
    "duration": 32,
    "start_time": "2022-09-12T16:02:34.409Z"
   },
   {
    "duration": 17,
    "start_time": "2022-09-12T16:02:46.629Z"
   },
   {
    "duration": 639,
    "start_time": "2022-09-12T16:02:47.670Z"
   },
   {
    "duration": 4,
    "start_time": "2022-09-12T16:12:14.159Z"
   },
   {
    "duration": 11,
    "start_time": "2022-09-12T16:12:15.765Z"
   },
   {
    "duration": 5,
    "start_time": "2022-09-12T16:12:38.964Z"
   },
   {
    "duration": 12,
    "start_time": "2022-09-12T16:12:39.549Z"
   },
   {
    "duration": 38,
    "start_time": "2022-09-12T16:25:38.828Z"
   },
   {
    "duration": 35,
    "start_time": "2022-09-12T16:26:28.165Z"
   },
   {
    "duration": 36,
    "start_time": "2022-09-12T16:26:34.057Z"
   },
   {
    "duration": 4,
    "start_time": "2022-09-12T16:26:45.044Z"
   },
   {
    "duration": 38,
    "start_time": "2022-09-12T16:26:53.961Z"
   },
   {
    "duration": 35,
    "start_time": "2022-09-12T16:27:04.211Z"
   },
   {
    "duration": 3,
    "start_time": "2022-09-12T16:28:35.041Z"
   },
   {
    "duration": 38,
    "start_time": "2022-09-12T16:28:42.077Z"
   },
   {
    "duration": 32,
    "start_time": "2022-09-12T16:30:14.390Z"
   },
   {
    "duration": 656,
    "start_time": "2022-09-12T16:32:08.248Z"
   },
   {
    "duration": 23,
    "start_time": "2022-09-12T16:32:10.045Z"
   },
   {
    "duration": 23,
    "start_time": "2022-09-12T16:32:16.965Z"
   },
   {
    "duration": 17,
    "start_time": "2022-09-12T16:32:32.792Z"
   },
   {
    "duration": 5,
    "start_time": "2022-09-12T16:33:23.417Z"
   },
   {
    "duration": 3,
    "start_time": "2022-09-12T16:33:24.171Z"
   },
   {
    "duration": 5,
    "start_time": "2022-09-12T16:33:24.970Z"
   },
   {
    "duration": 4,
    "start_time": "2022-09-12T16:33:32.292Z"
   },
   {
    "duration": 3,
    "start_time": "2022-09-12T16:33:32.840Z"
   },
   {
    "duration": 4,
    "start_time": "2022-09-12T16:33:33.282Z"
   },
   {
    "duration": 33,
    "start_time": "2022-09-12T16:40:58.465Z"
   },
   {
    "duration": 644,
    "start_time": "2022-09-12T16:41:43.028Z"
   },
   {
    "duration": 669,
    "start_time": "2022-09-12T16:41:52.864Z"
   },
   {
    "duration": 32,
    "start_time": "2022-09-12T16:43:42.881Z"
   },
   {
    "duration": 668,
    "start_time": "2022-09-12T16:43:48.465Z"
   },
   {
    "duration": 2330,
    "start_time": "2022-09-12T16:43:56.986Z"
   },
   {
    "duration": 76,
    "start_time": "2022-09-12T16:43:59.318Z"
   },
   {
    "duration": 4,
    "start_time": "2022-09-12T16:43:59.396Z"
   },
   {
    "duration": 6,
    "start_time": "2022-09-12T16:43:59.401Z"
   },
   {
    "duration": 6,
    "start_time": "2022-09-12T16:43:59.408Z"
   },
   {
    "duration": 8,
    "start_time": "2022-09-12T16:43:59.415Z"
   },
   {
    "duration": 13,
    "start_time": "2022-09-12T16:43:59.425Z"
   },
   {
    "duration": 11,
    "start_time": "2022-09-12T16:43:59.439Z"
   },
   {
    "duration": 6,
    "start_time": "2022-09-12T16:43:59.451Z"
   },
   {
    "duration": 18,
    "start_time": "2022-09-12T16:43:59.459Z"
   },
   {
    "duration": 4,
    "start_time": "2022-09-12T16:43:59.479Z"
   },
   {
    "duration": 9,
    "start_time": "2022-09-12T16:43:59.484Z"
   },
   {
    "duration": 7,
    "start_time": "2022-09-12T16:43:59.495Z"
   },
   {
    "duration": 5,
    "start_time": "2022-09-12T16:43:59.503Z"
   },
   {
    "duration": 9,
    "start_time": "2022-09-12T16:43:59.509Z"
   },
   {
    "duration": 19,
    "start_time": "2022-09-12T16:43:59.519Z"
   },
   {
    "duration": 16,
    "start_time": "2022-09-12T16:43:59.540Z"
   },
   {
    "duration": 15,
    "start_time": "2022-09-12T16:43:59.557Z"
   },
   {
    "duration": 9,
    "start_time": "2022-09-12T16:43:59.574Z"
   },
   {
    "duration": 4,
    "start_time": "2022-09-12T16:43:59.585Z"
   },
   {
    "duration": 37,
    "start_time": "2022-09-12T16:43:59.591Z"
   },
   {
    "duration": 652,
    "start_time": "2022-09-12T16:43:59.629Z"
   },
   {
    "duration": 43,
    "start_time": "2022-09-12T16:44:00.282Z"
   },
   {
    "duration": 96,
    "start_time": "2022-09-12T16:44:00.328Z"
   },
   {
    "duration": 3,
    "start_time": "2022-09-12T16:44:00.426Z"
   },
   {
    "duration": 23,
    "start_time": "2022-09-12T16:44:00.431Z"
   },
   {
    "duration": 26,
    "start_time": "2022-09-12T16:44:00.456Z"
   },
   {
    "duration": 52,
    "start_time": "2022-09-12T17:14:07.905Z"
   },
   {
    "duration": 5,
    "start_time": "2022-09-12T17:14:13.303Z"
   },
   {
    "duration": 5,
    "start_time": "2022-09-12T17:14:45.514Z"
   },
   {
    "duration": 4,
    "start_time": "2022-09-12T17:15:15.233Z"
   },
   {
    "duration": 3,
    "start_time": "2022-09-12T17:15:17.400Z"
   },
   {
    "duration": 4,
    "start_time": "2022-09-12T17:15:17.931Z"
   },
   {
    "duration": 4,
    "start_time": "2022-09-12T17:15:23.071Z"
   },
   {
    "duration": 5,
    "start_time": "2022-09-12T17:15:23.834Z"
   },
   {
    "duration": 37,
    "start_time": "2022-09-12T17:15:25.647Z"
   },
   {
    "duration": 652,
    "start_time": "2022-09-12T17:15:26.521Z"
   },
   {
    "duration": 19,
    "start_time": "2022-09-12T17:15:27.175Z"
   },
   {
    "duration": 5,
    "start_time": "2022-09-12T17:15:27.585Z"
   },
   {
    "duration": 4,
    "start_time": "2022-09-12T17:15:27.973Z"
   },
   {
    "duration": 3,
    "start_time": "2022-09-12T17:15:28.340Z"
   },
   {
    "duration": 4,
    "start_time": "2022-09-12T17:15:28.676Z"
   },
   {
    "duration": 5,
    "start_time": "2022-09-12T17:17:33.587Z"
   },
   {
    "duration": 5,
    "start_time": "2022-09-12T17:31:29.336Z"
   },
   {
    "duration": 93,
    "start_time": "2022-09-12T17:32:51.947Z"
   },
   {
    "duration": 4,
    "start_time": "2022-09-12T17:33:02.334Z"
   },
   {
    "duration": 10,
    "start_time": "2022-09-12T17:33:02.753Z"
   },
   {
    "duration": 3,
    "start_time": "2022-09-12T17:34:03.789Z"
   },
   {
    "duration": 14,
    "start_time": "2022-09-12T17:34:04.375Z"
   },
   {
    "duration": 47,
    "start_time": "2022-09-12T17:34:27.633Z"
   },
   {
    "duration": 3,
    "start_time": "2022-09-12T17:34:45.331Z"
   },
   {
    "duration": 14,
    "start_time": "2022-09-12T17:34:46.568Z"
   },
   {
    "duration": 3,
    "start_time": "2022-09-12T17:35:06.113Z"
   },
   {
    "duration": 13,
    "start_time": "2022-09-12T17:35:07.100Z"
   },
   {
    "duration": 47,
    "start_time": "2022-09-12T17:35:30.628Z"
   },
   {
    "duration": 5,
    "start_time": "2022-09-12T17:35:37.467Z"
   },
   {
    "duration": 3,
    "start_time": "2022-09-12T17:35:40.793Z"
   },
   {
    "duration": 11,
    "start_time": "2022-09-12T17:35:41.550Z"
   },
   {
    "duration": 41,
    "start_time": "2022-09-12T17:37:16.043Z"
   },
   {
    "duration": 12,
    "start_time": "2022-09-12T17:37:22.605Z"
   },
   {
    "duration": 9,
    "start_time": "2022-09-12T17:37:36.092Z"
   },
   {
    "duration": 11,
    "start_time": "2022-09-12T17:37:42.731Z"
   },
   {
    "duration": 14,
    "start_time": "2022-09-12T17:38:03.849Z"
   },
   {
    "duration": 12,
    "start_time": "2022-09-12T17:38:39.377Z"
   },
   {
    "duration": 13,
    "start_time": "2022-09-12T17:39:07.632Z"
   },
   {
    "duration": 5,
    "start_time": "2022-09-12T17:54:34.050Z"
   },
   {
    "duration": 10,
    "start_time": "2022-09-12T17:55:53.798Z"
   },
   {
    "duration": 11,
    "start_time": "2022-09-12T17:56:31.970Z"
   },
   {
    "duration": 245,
    "start_time": "2022-09-12T17:57:01.746Z"
   },
   {
    "duration": 123,
    "start_time": "2022-09-12T17:57:08.730Z"
   },
   {
    "duration": 303,
    "start_time": "2022-09-12T18:56:02.581Z"
   },
   {
    "duration": 290,
    "start_time": "2022-09-12T19:02:13.932Z"
   },
   {
    "duration": 1410,
    "start_time": "2022-09-12T21:56:58.184Z"
   },
   {
    "duration": 108,
    "start_time": "2022-09-12T21:56:59.596Z"
   },
   {
    "duration": 5,
    "start_time": "2022-09-12T21:56:59.705Z"
   },
   {
    "duration": 10,
    "start_time": "2022-09-12T21:56:59.712Z"
   },
   {
    "duration": 10,
    "start_time": "2022-09-12T21:56:59.723Z"
   },
   {
    "duration": 5,
    "start_time": "2022-09-12T21:56:59.735Z"
   },
   {
    "duration": 12,
    "start_time": "2022-09-12T21:56:59.741Z"
   },
   {
    "duration": 12,
    "start_time": "2022-09-12T21:56:59.755Z"
   },
   {
    "duration": 4,
    "start_time": "2022-09-12T21:56:59.769Z"
   },
   {
    "duration": 17,
    "start_time": "2022-09-12T21:56:59.776Z"
   },
   {
    "duration": 29,
    "start_time": "2022-09-12T21:56:59.795Z"
   },
   {
    "duration": 8,
    "start_time": "2022-09-12T21:56:59.825Z"
   },
   {
    "duration": 7,
    "start_time": "2022-09-12T21:56:59.834Z"
   },
   {
    "duration": 8,
    "start_time": "2022-09-12T21:56:59.842Z"
   },
   {
    "duration": 14,
    "start_time": "2022-09-12T21:56:59.852Z"
   },
   {
    "duration": 21,
    "start_time": "2022-09-12T21:56:59.867Z"
   },
   {
    "duration": 41,
    "start_time": "2022-09-12T21:56:59.890Z"
   },
   {
    "duration": 15,
    "start_time": "2022-09-12T21:56:59.933Z"
   },
   {
    "duration": 8,
    "start_time": "2022-09-12T21:56:59.950Z"
   },
   {
    "duration": 8,
    "start_time": "2022-09-12T21:56:59.960Z"
   },
   {
    "duration": 35,
    "start_time": "2022-09-12T21:56:59.970Z"
   },
   {
    "duration": 646,
    "start_time": "2022-09-12T21:57:00.021Z"
   },
   {
    "duration": 53,
    "start_time": "2022-09-12T21:57:00.669Z"
   },
   {
    "duration": 111,
    "start_time": "2022-09-12T21:57:00.725Z"
   },
   {
    "duration": 27,
    "start_time": "2022-09-12T21:57:00.838Z"
   },
   {
    "duration": 31,
    "start_time": "2022-09-12T21:57:00.867Z"
   },
   {
    "duration": 67,
    "start_time": "2022-09-12T21:57:00.900Z"
   },
   {
    "duration": 57,
    "start_time": "2022-09-12T21:57:00.969Z"
   },
   {
    "duration": 43,
    "start_time": "2022-09-12T21:57:01.028Z"
   },
   {
    "duration": 38,
    "start_time": "2022-09-12T21:57:01.073Z"
   },
   {
    "duration": 10,
    "start_time": "2022-09-12T21:57:01.113Z"
   },
   {
    "duration": 12,
    "start_time": "2022-09-12T21:57:01.125Z"
   },
   {
    "duration": 19,
    "start_time": "2022-09-12T21:57:01.139Z"
   },
   {
    "duration": 280,
    "start_time": "2022-09-12T21:57:01.160Z"
   },
   {
    "duration": 283,
    "start_time": "2022-09-12T21:57:01.442Z"
   },
   {
    "duration": 4,
    "start_time": "2022-09-12T21:59:21.307Z"
   },
   {
    "duration": 4,
    "start_time": "2022-09-12T22:08:08.052Z"
   },
   {
    "duration": 4,
    "start_time": "2022-09-12T22:10:43.298Z"
   },
   {
    "duration": 9,
    "start_time": "2022-09-12T22:11:42.594Z"
   },
   {
    "duration": 38,
    "start_time": "2022-09-12T22:13:06.385Z"
   },
   {
    "duration": 40,
    "start_time": "2022-09-12T22:13:20.145Z"
   },
   {
    "duration": 861,
    "start_time": "2022-09-12T22:14:47.537Z"
   },
   {
    "duration": 23,
    "start_time": "2022-09-12T22:14:50.436Z"
   },
   {
    "duration": 929,
    "start_time": "2022-09-12T22:15:02.993Z"
   },
   {
    "duration": 25,
    "start_time": "2022-09-12T22:15:04.576Z"
   },
   {
    "duration": 108,
    "start_time": "2022-09-12T22:18:29.817Z"
   },
   {
    "duration": 4,
    "start_time": "2022-09-12T22:18:37.625Z"
   },
   {
    "duration": 6,
    "start_time": "2022-09-12T22:18:42.343Z"
   },
   {
    "duration": 11,
    "start_time": "2022-09-12T22:19:40.807Z"
   },
   {
    "duration": 4,
    "start_time": "2022-09-12T22:20:26.999Z"
   },
   {
    "duration": 4,
    "start_time": "2022-09-12T22:23:30.325Z"
   },
   {
    "duration": 13,
    "start_time": "2022-09-12T22:23:31.029Z"
   },
   {
    "duration": 13,
    "start_time": "2022-09-12T22:23:33.505Z"
   },
   {
    "duration": 40,
    "start_time": "2022-09-12T23:02:30.566Z"
   },
   {
    "duration": 888,
    "start_time": "2022-09-12T23:02:36.401Z"
   },
   {
    "duration": 26,
    "start_time": "2022-09-12T23:02:39.033Z"
   },
   {
    "duration": 4,
    "start_time": "2022-09-12T23:03:33.154Z"
   },
   {
    "duration": 39,
    "start_time": "2022-09-12T23:04:39.480Z"
   },
   {
    "duration": 880,
    "start_time": "2022-09-12T23:04:40.193Z"
   },
   {
    "duration": 27,
    "start_time": "2022-09-12T23:04:44.905Z"
   },
   {
    "duration": 31,
    "start_time": "2022-09-12T23:05:11.601Z"
   },
   {
    "duration": 11,
    "start_time": "2022-09-12T23:06:38.001Z"
   },
   {
    "duration": 39,
    "start_time": "2022-09-12T23:06:49.256Z"
   },
   {
    "duration": 11,
    "start_time": "2022-09-12T23:06:51.312Z"
   },
   {
    "duration": 874,
    "start_time": "2022-09-12T23:06:57.640Z"
   },
   {
    "duration": 27,
    "start_time": "2022-09-12T23:06:59.079Z"
   },
   {
    "duration": 5,
    "start_time": "2022-09-12T23:06:59.800Z"
   },
   {
    "duration": 1251,
    "start_time": "2022-09-12T23:09:33.430Z"
   },
   {
    "duration": 72,
    "start_time": "2022-09-12T23:09:34.683Z"
   },
   {
    "duration": 4,
    "start_time": "2022-09-12T23:09:34.756Z"
   },
   {
    "duration": 18,
    "start_time": "2022-09-12T23:09:34.762Z"
   },
   {
    "duration": 17,
    "start_time": "2022-09-12T23:09:34.781Z"
   },
   {
    "duration": 20,
    "start_time": "2022-09-12T23:09:34.800Z"
   },
   {
    "duration": 23,
    "start_time": "2022-09-12T23:09:34.821Z"
   },
   {
    "duration": 20,
    "start_time": "2022-09-12T23:09:34.846Z"
   },
   {
    "duration": 17,
    "start_time": "2022-09-12T23:09:34.867Z"
   },
   {
    "duration": 32,
    "start_time": "2022-09-12T23:09:34.886Z"
   },
   {
    "duration": 6,
    "start_time": "2022-09-12T23:09:34.919Z"
   },
   {
    "duration": 23,
    "start_time": "2022-09-12T23:09:34.926Z"
   },
   {
    "duration": 23,
    "start_time": "2022-09-12T23:09:34.951Z"
   },
   {
    "duration": 12,
    "start_time": "2022-09-12T23:09:34.975Z"
   },
   {
    "duration": 18,
    "start_time": "2022-09-12T23:09:34.989Z"
   },
   {
    "duration": 23,
    "start_time": "2022-09-12T23:09:35.008Z"
   },
   {
    "duration": 17,
    "start_time": "2022-09-12T23:09:35.032Z"
   },
   {
    "duration": 20,
    "start_time": "2022-09-12T23:09:35.050Z"
   },
   {
    "duration": 6,
    "start_time": "2022-09-12T23:09:35.071Z"
   },
   {
    "duration": 11,
    "start_time": "2022-09-12T23:09:35.079Z"
   },
   {
    "duration": 57,
    "start_time": "2022-09-12T23:09:35.091Z"
   },
   {
    "duration": 659,
    "start_time": "2022-09-12T23:09:35.149Z"
   },
   {
    "duration": 24,
    "start_time": "2022-09-12T23:09:35.810Z"
   },
   {
    "duration": 88,
    "start_time": "2022-09-12T23:09:35.836Z"
   },
   {
    "duration": 103,
    "start_time": "2022-09-12T23:09:35.926Z"
   },
   {
    "duration": 22,
    "start_time": "2022-09-12T23:09:36.030Z"
   },
   {
    "duration": 16,
    "start_time": "2022-09-12T23:09:36.053Z"
   },
   {
    "duration": 8,
    "start_time": "2022-09-12T23:09:36.072Z"
   },
   {
    "duration": 23,
    "start_time": "2022-09-12T23:09:36.081Z"
   },
   {
    "duration": 10,
    "start_time": "2022-09-12T23:09:36.105Z"
   },
   {
    "duration": 12,
    "start_time": "2022-09-12T23:09:36.116Z"
   },
   {
    "duration": 24,
    "start_time": "2022-09-12T23:09:36.130Z"
   },
   {
    "duration": 377,
    "start_time": "2022-09-12T23:09:36.156Z"
   },
   {
    "duration": 332,
    "start_time": "2022-09-12T23:09:36.534Z"
   },
   {
    "duration": 54,
    "start_time": "2022-09-12T23:09:36.868Z"
   },
   {
    "duration": 15,
    "start_time": "2022-09-12T23:09:36.924Z"
   },
   {
    "duration": 4,
    "start_time": "2022-09-12T23:09:36.940Z"
   },
   {
    "duration": 86,
    "start_time": "2022-09-12T23:09:36.946Z"
   },
   {
    "duration": 1805,
    "start_time": "2022-09-12T23:09:37.034Z"
   },
   {
    "duration": 83,
    "start_time": "2022-09-12T23:09:38.840Z"
   },
   {
    "duration": 6,
    "start_time": "2022-09-12T23:09:38.926Z"
   },
   {
    "duration": 27,
    "start_time": "2022-09-12T23:09:39.022Z"
   },
   {
    "duration": 4,
    "start_time": "2022-09-12T23:11:05.911Z"
   },
   {
    "duration": 3,
    "start_time": "2022-09-12T23:11:38.321Z"
   },
   {
    "duration": 99,
    "start_time": "2022-09-12T23:15:29.773Z"
   },
   {
    "duration": 909,
    "start_time": "2022-09-12T23:15:38.772Z"
   },
   {
    "duration": 43,
    "start_time": "2022-09-12T23:15:39.683Z"
   },
   {
    "duration": 6,
    "start_time": "2022-09-12T23:15:39.916Z"
   },
   {
    "duration": 41,
    "start_time": "2022-09-12T23:15:41.732Z"
   },
   {
    "duration": 14,
    "start_time": "2022-09-12T23:15:52.612Z"
   },
   {
    "duration": 11,
    "start_time": "2022-09-12T23:16:02.500Z"
   },
   {
    "duration": 11,
    "start_time": "2022-09-12T23:16:40.374Z"
   },
   {
    "duration": 92,
    "start_time": "2022-09-13T02:19:34.463Z"
   },
   {
    "duration": 1425,
    "start_time": "2022-09-13T02:19:40.278Z"
   },
   {
    "duration": 207,
    "start_time": "2022-09-13T02:19:41.705Z"
   },
   {
    "duration": 5,
    "start_time": "2022-09-13T02:19:41.919Z"
   },
   {
    "duration": 4,
    "start_time": "2022-09-13T02:19:41.926Z"
   },
   {
    "duration": 7,
    "start_time": "2022-09-13T02:19:41.931Z"
   },
   {
    "duration": 5,
    "start_time": "2022-09-13T02:19:41.940Z"
   },
   {
    "duration": 13,
    "start_time": "2022-09-13T02:19:41.946Z"
   },
   {
    "duration": 12,
    "start_time": "2022-09-13T02:19:41.961Z"
   },
   {
    "duration": 4,
    "start_time": "2022-09-13T02:19:41.974Z"
   },
   {
    "duration": 50,
    "start_time": "2022-09-13T02:19:41.980Z"
   },
   {
    "duration": 6,
    "start_time": "2022-09-13T02:19:42.032Z"
   },
   {
    "duration": 8,
    "start_time": "2022-09-13T02:19:42.040Z"
   },
   {
    "duration": 5,
    "start_time": "2022-09-13T02:19:42.050Z"
   },
   {
    "duration": 5,
    "start_time": "2022-09-13T02:19:42.056Z"
   },
   {
    "duration": 7,
    "start_time": "2022-09-13T02:19:42.062Z"
   },
   {
    "duration": 55,
    "start_time": "2022-09-13T02:19:42.070Z"
   },
   {
    "duration": 17,
    "start_time": "2022-09-13T02:19:42.126Z"
   },
   {
    "duration": 15,
    "start_time": "2022-09-13T02:19:42.144Z"
   },
   {
    "duration": 8,
    "start_time": "2022-09-13T02:19:42.160Z"
   },
   {
    "duration": 5,
    "start_time": "2022-09-13T02:19:42.169Z"
   },
   {
    "duration": 55,
    "start_time": "2022-09-13T02:19:42.175Z"
   },
   {
    "duration": 636,
    "start_time": "2022-09-13T02:19:42.232Z"
   },
   {
    "duration": 54,
    "start_time": "2022-09-13T02:19:42.870Z"
   },
   {
    "duration": 89,
    "start_time": "2022-09-13T02:19:42.925Z"
   },
   {
    "duration": 12,
    "start_time": "2022-09-13T02:19:43.018Z"
   },
   {
    "duration": 87,
    "start_time": "2022-09-13T02:19:43.031Z"
   },
   {
    "duration": 7,
    "start_time": "2022-09-13T02:19:43.120Z"
   },
   {
    "duration": 4,
    "start_time": "2022-09-13T02:19:43.130Z"
   },
   {
    "duration": 13,
    "start_time": "2022-09-13T02:19:43.136Z"
   },
   {
    "duration": 11,
    "start_time": "2022-09-13T02:19:43.151Z"
   },
   {
    "duration": 5,
    "start_time": "2022-09-13T02:19:43.163Z"
   },
   {
    "duration": 40,
    "start_time": "2022-09-13T02:19:43.169Z"
   },
   {
    "duration": 221,
    "start_time": "2022-09-13T02:19:43.210Z"
   },
   {
    "duration": 250,
    "start_time": "2022-09-13T02:19:43.432Z"
   },
   {
    "duration": 4,
    "start_time": "2022-09-13T02:19:43.683Z"
   },
   {
    "duration": 31,
    "start_time": "2022-09-13T02:19:43.688Z"
   },
   {
    "duration": 7,
    "start_time": "2022-09-13T02:19:43.721Z"
   },
   {
    "duration": 39,
    "start_time": "2022-09-13T02:19:43.729Z"
   },
   {
    "duration": 862,
    "start_time": "2022-09-13T02:19:43.769Z"
   },
   {
    "duration": 22,
    "start_time": "2022-09-13T02:19:44.632Z"
   },
   {
    "duration": 59,
    "start_time": "2022-09-13T02:19:44.657Z"
   },
   {
    "duration": 113,
    "start_time": "2022-09-13T02:19:44.719Z"
   },
   {
    "duration": 11,
    "start_time": "2022-09-13T02:19:44.834Z"
   },
   {
    "duration": 10,
    "start_time": "2022-09-13T02:19:44.847Z"
   },
   {
    "duration": 85,
    "start_time": "2022-09-13T02:19:44.858Z"
   },
   {
    "duration": 669,
    "start_time": "2022-09-13T02:20:10.049Z"
   },
   {
    "duration": 134,
    "start_time": "2022-09-13T02:20:43.497Z"
   },
   {
    "duration": 109,
    "start_time": "2022-09-13T02:20:54.514Z"
   },
   {
    "duration": 67740,
    "start_time": "2022-09-13T02:22:15.079Z"
   },
   {
    "duration": 11,
    "start_time": "2022-09-13T02:24:15.064Z"
   },
   {
    "duration": 12,
    "start_time": "2022-09-13T02:24:16.438Z"
   },
   {
    "duration": 14,
    "start_time": "2022-09-13T02:24:17.422Z"
   },
   {
    "duration": 6002,
    "start_time": "2022-09-13T02:26:13.416Z"
   },
   {
    "duration": 5828,
    "start_time": "2022-09-13T02:26:30.887Z"
   },
   {
    "duration": 3695,
    "start_time": "2022-09-13T02:26:59.887Z"
   },
   {
    "duration": 3362,
    "start_time": "2022-09-13T02:27:14.294Z"
   },
   {
    "duration": 17251,
    "start_time": "2022-09-13T02:27:22.878Z"
   },
   {
    "duration": 8181,
    "start_time": "2022-09-13T02:28:38.757Z"
   },
   {
    "duration": 4659,
    "start_time": "2022-09-13T02:29:00.061Z"
   },
   {
    "duration": 2536,
    "start_time": "2022-09-13T02:29:12.021Z"
   },
   {
    "duration": 4646,
    "start_time": "2022-09-13T02:29:25.173Z"
   },
   {
    "duration": 3340,
    "start_time": "2022-09-13T02:29:38.037Z"
   },
   {
    "duration": 84,
    "start_time": "2022-09-13T02:30:29.988Z"
   },
   {
    "duration": 144,
    "start_time": "2022-09-13T02:32:01.883Z"
   },
   {
    "duration": 234,
    "start_time": "2022-09-13T02:32:07.891Z"
   },
   {
    "duration": 212,
    "start_time": "2022-09-13T02:32:28.117Z"
   },
   {
    "duration": 26,
    "start_time": "2022-09-13T02:32:42.711Z"
   },
   {
    "duration": 39436,
    "start_time": "2022-09-13T02:33:47.988Z"
   },
   {
    "duration": 39217,
    "start_time": "2022-09-13T02:34:46.773Z"
   },
   {
    "duration": 3333,
    "start_time": "2022-09-13T02:35:40.426Z"
   },
   {
    "duration": 221,
    "start_time": "2022-09-13T02:37:15.697Z"
   },
   {
    "duration": 43,
    "start_time": "2022-09-13T11:54:12.490Z"
   },
   {
    "duration": 1407,
    "start_time": "2022-09-13T11:54:18.218Z"
   },
   {
    "duration": 107,
    "start_time": "2022-09-13T11:54:19.627Z"
   },
   {
    "duration": 4,
    "start_time": "2022-09-13T11:54:19.736Z"
   },
   {
    "duration": 20,
    "start_time": "2022-09-13T11:54:19.742Z"
   },
   {
    "duration": 21,
    "start_time": "2022-09-13T11:54:19.763Z"
   },
   {
    "duration": 21,
    "start_time": "2022-09-13T11:54:19.785Z"
   },
   {
    "duration": 41,
    "start_time": "2022-09-13T11:54:19.807Z"
   },
   {
    "duration": 22,
    "start_time": "2022-09-13T11:54:19.850Z"
   },
   {
    "duration": 36,
    "start_time": "2022-09-13T11:54:19.873Z"
   },
   {
    "duration": 31,
    "start_time": "2022-09-13T11:54:19.912Z"
   },
   {
    "duration": 17,
    "start_time": "2022-09-13T11:54:19.944Z"
   },
   {
    "duration": 20,
    "start_time": "2022-09-13T11:54:19.963Z"
   },
   {
    "duration": 61,
    "start_time": "2022-09-13T11:54:19.984Z"
   },
   {
    "duration": 27,
    "start_time": "2022-09-13T11:54:20.047Z"
   },
   {
    "duration": 20,
    "start_time": "2022-09-13T11:54:20.075Z"
   },
   {
    "duration": 39,
    "start_time": "2022-09-13T11:54:20.096Z"
   },
   {
    "duration": 18,
    "start_time": "2022-09-13T11:54:20.136Z"
   },
   {
    "duration": 32,
    "start_time": "2022-09-13T11:54:20.156Z"
   },
   {
    "duration": 32,
    "start_time": "2022-09-13T11:54:20.190Z"
   },
   {
    "duration": 32,
    "start_time": "2022-09-13T11:54:20.223Z"
   },
   {
    "duration": 44,
    "start_time": "2022-09-13T11:54:20.256Z"
   },
   {
    "duration": 636,
    "start_time": "2022-09-13T11:54:20.301Z"
   },
   {
    "duration": 18,
    "start_time": "2022-09-13T11:54:20.939Z"
   },
   {
    "duration": 181,
    "start_time": "2022-09-13T11:54:20.959Z"
   },
   {
    "duration": 28,
    "start_time": "2022-09-13T11:54:21.142Z"
   },
   {
    "duration": 47,
    "start_time": "2022-09-13T11:54:21.171Z"
   },
   {
    "duration": 70,
    "start_time": "2022-09-13T11:54:21.219Z"
   },
   {
    "duration": 26,
    "start_time": "2022-09-13T11:54:21.292Z"
   },
   {
    "duration": 23,
    "start_time": "2022-09-13T11:54:21.320Z"
   },
   {
    "duration": 30,
    "start_time": "2022-09-13T11:54:21.344Z"
   },
   {
    "duration": 23,
    "start_time": "2022-09-13T11:54:21.376Z"
   },
   {
    "duration": 40,
    "start_time": "2022-09-13T11:54:21.400Z"
   },
   {
    "duration": 307,
    "start_time": "2022-09-13T11:54:21.443Z"
   },
   {
    "duration": 291,
    "start_time": "2022-09-13T11:54:21.751Z"
   },
   {
    "duration": 4,
    "start_time": "2022-09-13T11:54:22.044Z"
   },
   {
    "duration": 15,
    "start_time": "2022-09-13T11:54:22.049Z"
   },
   {
    "duration": 13,
    "start_time": "2022-09-13T11:54:22.066Z"
   },
   {
    "duration": 80,
    "start_time": "2022-09-13T11:54:22.080Z"
   },
   {
    "duration": 890,
    "start_time": "2022-09-13T11:54:22.162Z"
   },
   {
    "duration": 52,
    "start_time": "2022-09-13T11:54:23.053Z"
   },
   {
    "duration": 36,
    "start_time": "2022-09-13T11:54:23.106Z"
   },
   {
    "duration": 197,
    "start_time": "2022-09-13T11:54:23.143Z"
   },
   {
    "duration": 25,
    "start_time": "2022-09-13T11:54:23.342Z"
   },
   {
    "duration": 12,
    "start_time": "2022-09-13T11:54:23.369Z"
   },
   {
    "duration": 13,
    "start_time": "2022-09-13T11:54:23.383Z"
   },
   {
    "duration": 3591,
    "start_time": "2022-09-13T11:54:23.398Z"
   },
   {
    "duration": 242,
    "start_time": "2022-09-13T11:54:26.991Z"
   },
   {
    "duration": 25,
    "start_time": "2022-09-13T11:54:27.237Z"
   },
   {
    "duration": 56,
    "start_time": "2022-09-13T11:54:30.189Z"
   },
   {
    "duration": 13,
    "start_time": "2022-09-13T11:56:53.482Z"
   },
   {
    "duration": 12,
    "start_time": "2022-09-13T11:57:01.683Z"
   },
   {
    "duration": 14,
    "start_time": "2022-09-13T11:57:19.146Z"
   },
   {
    "duration": 14,
    "start_time": "2022-09-13T11:57:32.997Z"
   },
   {
    "duration": 8,
    "start_time": "2022-09-13T12:10:17.265Z"
   },
   {
    "duration": 6,
    "start_time": "2022-09-13T12:10:26.012Z"
   },
   {
    "duration": 8,
    "start_time": "2022-09-13T12:10:41.665Z"
   },
   {
    "duration": 5,
    "start_time": "2022-09-13T12:19:40.856Z"
   },
   {
    "duration": 1383,
    "start_time": "2022-09-13T12:20:27.260Z"
   },
   {
    "duration": 73,
    "start_time": "2022-09-13T12:20:28.645Z"
   },
   {
    "duration": 5,
    "start_time": "2022-09-13T12:20:28.719Z"
   },
   {
    "duration": 15,
    "start_time": "2022-09-13T12:20:28.725Z"
   },
   {
    "duration": 27,
    "start_time": "2022-09-13T12:20:28.742Z"
   },
   {
    "duration": 21,
    "start_time": "2022-09-13T12:20:28.771Z"
   },
   {
    "duration": 18,
    "start_time": "2022-09-13T12:20:28.794Z"
   },
   {
    "duration": 21,
    "start_time": "2022-09-13T12:20:28.814Z"
   },
   {
    "duration": 16,
    "start_time": "2022-09-13T12:20:28.837Z"
   },
   {
    "duration": 42,
    "start_time": "2022-09-13T12:20:28.855Z"
   },
   {
    "duration": 8,
    "start_time": "2022-09-13T12:20:28.898Z"
   },
   {
    "duration": 22,
    "start_time": "2022-09-13T12:20:28.907Z"
   },
   {
    "duration": 19,
    "start_time": "2022-09-13T12:20:28.931Z"
   },
   {
    "duration": 17,
    "start_time": "2022-09-13T12:20:28.953Z"
   },
   {
    "duration": 27,
    "start_time": "2022-09-13T12:20:28.972Z"
   },
   {
    "duration": 43,
    "start_time": "2022-09-13T12:20:29.000Z"
   },
   {
    "duration": 18,
    "start_time": "2022-09-13T12:20:29.045Z"
   },
   {
    "duration": 29,
    "start_time": "2022-09-13T12:20:29.065Z"
   },
   {
    "duration": 25,
    "start_time": "2022-09-13T12:20:29.095Z"
   },
   {
    "duration": 19,
    "start_time": "2022-09-13T12:20:29.122Z"
   },
   {
    "duration": 56,
    "start_time": "2022-09-13T12:20:29.142Z"
   },
   {
    "duration": 679,
    "start_time": "2022-09-13T12:20:29.200Z"
   },
   {
    "duration": 61,
    "start_time": "2022-09-13T12:20:29.880Z"
   },
   {
    "duration": 6,
    "start_time": "2022-09-13T12:20:29.944Z"
   },
   {
    "duration": 109,
    "start_time": "2022-09-13T12:20:29.951Z"
   },
   {
    "duration": 21,
    "start_time": "2022-09-13T12:20:30.062Z"
   },
   {
    "duration": 34,
    "start_time": "2022-09-13T12:20:30.085Z"
   },
   {
    "duration": 12,
    "start_time": "2022-09-13T12:20:30.121Z"
   },
   {
    "duration": 29,
    "start_time": "2022-09-13T12:20:30.135Z"
   },
   {
    "duration": 38,
    "start_time": "2022-09-13T12:20:30.166Z"
   },
   {
    "duration": 9,
    "start_time": "2022-09-13T12:20:30.206Z"
   },
   {
    "duration": 30,
    "start_time": "2022-09-13T12:20:30.217Z"
   },
   {
    "duration": 392,
    "start_time": "2022-09-13T12:20:30.249Z"
   },
   {
    "duration": 279,
    "start_time": "2022-09-13T12:20:30.643Z"
   },
   {
    "duration": 14,
    "start_time": "2022-09-13T12:20:30.924Z"
   },
   {
    "duration": 31,
    "start_time": "2022-09-13T12:20:30.939Z"
   },
   {
    "duration": 56,
    "start_time": "2022-09-13T12:20:30.971Z"
   },
   {
    "duration": 56,
    "start_time": "2022-09-13T12:20:31.029Z"
   },
   {
    "duration": 898,
    "start_time": "2022-09-13T12:20:31.087Z"
   },
   {
    "duration": 54,
    "start_time": "2022-09-13T12:20:31.987Z"
   },
   {
    "duration": 96,
    "start_time": "2022-09-13T12:20:32.046Z"
   },
   {
    "duration": 42,
    "start_time": "2022-09-13T12:20:32.144Z"
   },
   {
    "duration": 28,
    "start_time": "2022-09-13T12:20:32.188Z"
   },
   {
    "duration": 38,
    "start_time": "2022-09-13T12:20:32.218Z"
   },
   {
    "duration": 3508,
    "start_time": "2022-09-13T12:20:32.257Z"
   },
   {
    "duration": 226,
    "start_time": "2022-09-13T12:20:35.767Z"
   },
   {
    "duration": 25,
    "start_time": "2022-09-13T12:20:35.994Z"
   },
   {
    "duration": 4,
    "start_time": "2022-09-13T12:26:38.767Z"
   },
   {
    "duration": 13,
    "start_time": "2022-09-13T12:29:32.915Z"
   },
   {
    "duration": 268,
    "start_time": "2022-09-13T12:31:37.777Z"
   },
   {
    "duration": 303,
    "start_time": "2022-09-13T12:31:46.316Z"
   },
   {
    "duration": 1272,
    "start_time": "2022-09-13T12:36:22.995Z"
   },
   {
    "duration": 73,
    "start_time": "2022-09-13T12:36:24.269Z"
   },
   {
    "duration": 4,
    "start_time": "2022-09-13T12:36:24.344Z"
   },
   {
    "duration": 7,
    "start_time": "2022-09-13T12:36:24.350Z"
   },
   {
    "duration": 9,
    "start_time": "2022-09-13T12:36:24.358Z"
   },
   {
    "duration": 8,
    "start_time": "2022-09-13T12:36:24.369Z"
   },
   {
    "duration": 15,
    "start_time": "2022-09-13T12:36:24.378Z"
   },
   {
    "duration": 12,
    "start_time": "2022-09-13T12:36:24.395Z"
   },
   {
    "duration": 28,
    "start_time": "2022-09-13T12:36:24.409Z"
   },
   {
    "duration": 19,
    "start_time": "2022-09-13T12:36:24.440Z"
   },
   {
    "duration": 7,
    "start_time": "2022-09-13T12:36:24.461Z"
   },
   {
    "duration": 11,
    "start_time": "2022-09-13T12:36:24.469Z"
   },
   {
    "duration": 7,
    "start_time": "2022-09-13T12:36:24.481Z"
   },
   {
    "duration": 8,
    "start_time": "2022-09-13T12:36:24.489Z"
   },
   {
    "duration": 18,
    "start_time": "2022-09-13T12:36:24.498Z"
   },
   {
    "duration": 23,
    "start_time": "2022-09-13T12:36:24.537Z"
   },
   {
    "duration": 17,
    "start_time": "2022-09-13T12:36:24.562Z"
   },
   {
    "duration": 18,
    "start_time": "2022-09-13T12:36:24.581Z"
   },
   {
    "duration": 39,
    "start_time": "2022-09-13T12:36:24.601Z"
   },
   {
    "duration": 5,
    "start_time": "2022-09-13T12:36:24.642Z"
   },
   {
    "duration": 48,
    "start_time": "2022-09-13T12:36:24.648Z"
   },
   {
    "duration": 661,
    "start_time": "2022-09-13T12:36:24.697Z"
   },
   {
    "duration": 84,
    "start_time": "2022-09-13T12:36:25.360Z"
   },
   {
    "duration": 92,
    "start_time": "2022-09-13T12:36:25.447Z"
   },
   {
    "duration": 10,
    "start_time": "2022-09-13T12:36:25.541Z"
   },
   {
    "duration": 7,
    "start_time": "2022-09-13T12:36:25.553Z"
   },
   {
    "duration": 10,
    "start_time": "2022-09-13T12:36:25.561Z"
   },
   {
    "duration": 4,
    "start_time": "2022-09-13T12:36:25.574Z"
   },
   {
    "duration": 15,
    "start_time": "2022-09-13T12:36:25.580Z"
   },
   {
    "duration": 12,
    "start_time": "2022-09-13T12:36:25.597Z"
   },
   {
    "duration": 37,
    "start_time": "2022-09-13T12:36:25.610Z"
   },
   {
    "duration": 92,
    "start_time": "2022-09-13T12:36:25.648Z"
   },
   {
    "duration": 394,
    "start_time": "2022-09-13T12:36:25.746Z"
   },
   {
    "duration": 277,
    "start_time": "2022-09-13T12:36:26.141Z"
   },
   {
    "duration": 18,
    "start_time": "2022-09-13T12:36:26.420Z"
   },
   {
    "duration": 15,
    "start_time": "2022-09-13T12:36:26.439Z"
   },
   {
    "duration": 5,
    "start_time": "2022-09-13T12:36:26.456Z"
   },
   {
    "duration": 51,
    "start_time": "2022-09-13T12:36:26.463Z"
   },
   {
    "duration": 952,
    "start_time": "2022-09-13T12:36:26.516Z"
   },
   {
    "duration": 29,
    "start_time": "2022-09-13T12:36:27.470Z"
   },
   {
    "duration": 6,
    "start_time": "2022-09-13T12:36:27.537Z"
   },
   {
    "duration": 112,
    "start_time": "2022-09-13T12:36:27.545Z"
   },
   {
    "duration": 15,
    "start_time": "2022-09-13T12:36:27.658Z"
   },
   {
    "duration": 14,
    "start_time": "2022-09-13T12:36:27.675Z"
   },
   {
    "duration": 3621,
    "start_time": "2022-09-13T12:36:27.691Z"
   },
   {
    "duration": 241,
    "start_time": "2022-09-13T12:36:31.314Z"
   },
   {
    "duration": 26,
    "start_time": "2022-09-13T12:36:31.557Z"
   },
   {
    "duration": 40,
    "start_time": "2022-09-13T12:39:00.723Z"
   },
   {
    "duration": 955,
    "start_time": "2022-09-13T12:39:01.096Z"
   },
   {
    "duration": 91,
    "start_time": "2022-09-13T12:39:02.053Z"
   },
   {
    "duration": 94,
    "start_time": "2022-09-13T12:39:02.147Z"
   },
   {
    "duration": 13,
    "start_time": "2022-09-13T12:39:17.374Z"
   },
   {
    "duration": 11,
    "start_time": "2022-09-13T12:39:18.374Z"
   },
   {
    "duration": 13,
    "start_time": "2022-09-13T12:39:19.441Z"
   },
   {
    "duration": 3563,
    "start_time": "2022-09-13T12:40:12.980Z"
   },
   {
    "duration": 230,
    "start_time": "2022-09-13T12:40:16.545Z"
   },
   {
    "duration": 26,
    "start_time": "2022-09-13T12:40:16.777Z"
   },
   {
    "duration": 28,
    "start_time": "2022-09-13T12:47:18.954Z"
   },
   {
    "duration": 860,
    "start_time": "2022-09-13T12:48:21.208Z"
   },
   {
    "duration": 66,
    "start_time": "2022-09-13T12:48:25.908Z"
   },
   {
    "duration": 63,
    "start_time": "2022-09-13T12:48:28.964Z"
   },
   {
    "duration": 531,
    "start_time": "2022-09-13T12:48:40.497Z"
   },
   {
    "duration": 45,
    "start_time": "2022-09-13T12:48:41.553Z"
   },
   {
    "duration": 40,
    "start_time": "2022-09-13T12:48:43.639Z"
   },
   {
    "duration": 207404,
    "start_time": "2022-09-13T12:49:00.314Z"
   },
   {
    "duration": 562,
    "start_time": "2022-09-13T12:52:58.986Z"
   },
   {
    "duration": 43,
    "start_time": "2022-09-13T12:53:00.959Z"
   },
   {
    "duration": 40,
    "start_time": "2022-09-13T12:53:51.852Z"
   },
   {
    "duration": 507,
    "start_time": "2022-09-13T12:54:25.863Z"
   },
   {
    "duration": 665,
    "start_time": "2022-09-13T12:54:41.110Z"
   },
   {
    "duration": 38,
    "start_time": "2022-09-13T12:54:41.777Z"
   },
   {
    "duration": 504,
    "start_time": "2022-09-13T12:54:51.401Z"
   },
   {
    "duration": 42,
    "start_time": "2022-09-13T12:54:52.158Z"
   },
   {
    "duration": 530,
    "start_time": "2022-09-13T12:55:03.055Z"
   },
   {
    "duration": 41,
    "start_time": "2022-09-13T12:55:04.289Z"
   },
   {
    "duration": 520,
    "start_time": "2022-09-13T12:55:10.457Z"
   },
   {
    "duration": 44,
    "start_time": "2022-09-13T12:55:11.712Z"
   },
   {
    "duration": 41,
    "start_time": "2022-09-13T12:56:03.810Z"
   },
   {
    "duration": 872,
    "start_time": "2022-09-13T12:56:17.308Z"
   },
   {
    "duration": 54,
    "start_time": "2022-09-13T12:56:20.298Z"
   },
   {
    "duration": 55,
    "start_time": "2022-09-13T12:56:28.684Z"
   },
   {
    "duration": 96037,
    "start_time": "2022-09-13T12:59:06.608Z"
   },
   {
    "duration": 1442,
    "start_time": "2022-09-13T13:00:49.758Z"
   },
   {
    "duration": 71,
    "start_time": "2022-09-13T13:00:51.202Z"
   },
   {
    "duration": 4,
    "start_time": "2022-09-13T13:00:51.274Z"
   },
   {
    "duration": 17,
    "start_time": "2022-09-13T13:00:51.279Z"
   },
   {
    "duration": 21,
    "start_time": "2022-09-13T13:00:51.297Z"
   },
   {
    "duration": 14,
    "start_time": "2022-09-13T13:00:51.320Z"
   },
   {
    "duration": 23,
    "start_time": "2022-09-13T13:00:51.336Z"
   },
   {
    "duration": 16,
    "start_time": "2022-09-13T13:00:51.361Z"
   },
   {
    "duration": 7,
    "start_time": "2022-09-13T13:00:51.378Z"
   },
   {
    "duration": 38,
    "start_time": "2022-09-13T13:00:51.387Z"
   },
   {
    "duration": 6,
    "start_time": "2022-09-13T13:00:51.427Z"
   },
   {
    "duration": 24,
    "start_time": "2022-09-13T13:00:51.435Z"
   },
   {
    "duration": 8,
    "start_time": "2022-09-13T13:00:51.461Z"
   },
   {
    "duration": 21,
    "start_time": "2022-09-13T13:00:51.472Z"
   },
   {
    "duration": 12,
    "start_time": "2022-09-13T13:00:51.495Z"
   },
   {
    "duration": 31,
    "start_time": "2022-09-13T13:00:51.508Z"
   },
   {
    "duration": 19,
    "start_time": "2022-09-13T13:00:51.540Z"
   },
   {
    "duration": 19,
    "start_time": "2022-09-13T13:00:51.561Z"
   },
   {
    "duration": 6,
    "start_time": "2022-09-13T13:00:51.581Z"
   },
   {
    "duration": 14,
    "start_time": "2022-09-13T13:00:51.589Z"
   },
   {
    "duration": 53,
    "start_time": "2022-09-13T13:00:51.604Z"
   },
   {
    "duration": 650,
    "start_time": "2022-09-13T13:00:51.659Z"
   },
   {
    "duration": 29,
    "start_time": "2022-09-13T13:00:52.311Z"
   },
   {
    "duration": 96,
    "start_time": "2022-09-13T13:00:52.342Z"
   },
   {
    "duration": 17,
    "start_time": "2022-09-13T13:00:52.441Z"
   },
   {
    "duration": 92,
    "start_time": "2022-09-13T13:00:52.459Z"
   },
   {
    "duration": 13,
    "start_time": "2022-09-13T13:00:52.552Z"
   },
   {
    "duration": 9,
    "start_time": "2022-09-13T13:00:52.570Z"
   },
   {
    "duration": 30,
    "start_time": "2022-09-13T13:00:52.581Z"
   },
   {
    "duration": 20,
    "start_time": "2022-09-13T13:00:52.613Z"
   },
   {
    "duration": 27,
    "start_time": "2022-09-13T13:00:52.634Z"
   },
   {
    "duration": 16,
    "start_time": "2022-09-13T13:00:52.663Z"
   },
   {
    "duration": 411,
    "start_time": "2022-09-13T13:00:52.737Z"
   },
   {
    "duration": 292,
    "start_time": "2022-09-13T13:00:53.150Z"
   },
   {
    "duration": 4,
    "start_time": "2022-09-13T13:00:53.444Z"
   },
   {
    "duration": 20,
    "start_time": "2022-09-13T13:00:53.449Z"
   },
   {
    "duration": 7,
    "start_time": "2022-09-13T13:00:53.470Z"
   },
   {
    "duration": 43,
    "start_time": "2022-09-13T13:00:53.479Z"
   },
   {
    "duration": 893,
    "start_time": "2022-09-13T13:00:53.524Z"
   },
   {
    "duration": 118,
    "start_time": "2022-09-13T13:00:54.419Z"
   },
   {
    "duration": 7,
    "start_time": "2022-09-13T13:00:54.539Z"
   },
   {
    "duration": 113,
    "start_time": "2022-09-13T13:00:54.548Z"
   },
   {
    "duration": 12,
    "start_time": "2022-09-13T13:00:54.662Z"
   },
   {
    "duration": 11,
    "start_time": "2022-09-13T13:00:54.675Z"
   },
   {
    "duration": 469595,
    "start_time": "2022-09-13T13:00:54.688Z"
   },
   {
    "duration": 0,
    "start_time": "2022-09-13T13:08:44.285Z"
   },
   {
    "duration": 0,
    "start_time": "2022-09-13T13:08:44.287Z"
   },
   {
    "duration": 0,
    "start_time": "2022-09-13T13:08:44.288Z"
   },
   {
    "duration": 1348,
    "start_time": "2022-09-13T13:08:51.088Z"
   },
   {
    "duration": 73,
    "start_time": "2022-09-13T13:08:52.438Z"
   },
   {
    "duration": 5,
    "start_time": "2022-09-13T13:08:52.513Z"
   },
   {
    "duration": 7,
    "start_time": "2022-09-13T13:08:52.519Z"
   },
   {
    "duration": 13,
    "start_time": "2022-09-13T13:08:52.527Z"
   },
   {
    "duration": 12,
    "start_time": "2022-09-13T13:08:52.542Z"
   },
   {
    "duration": 15,
    "start_time": "2022-09-13T13:08:52.555Z"
   },
   {
    "duration": 16,
    "start_time": "2022-09-13T13:08:52.571Z"
   },
   {
    "duration": 9,
    "start_time": "2022-09-13T13:08:52.589Z"
   },
   {
    "duration": 24,
    "start_time": "2022-09-13T13:08:52.600Z"
   },
   {
    "duration": 5,
    "start_time": "2022-09-13T13:08:52.626Z"
   },
   {
    "duration": 12,
    "start_time": "2022-09-13T13:08:52.632Z"
   },
   {
    "duration": 16,
    "start_time": "2022-09-13T13:08:52.645Z"
   },
   {
    "duration": 12,
    "start_time": "2022-09-13T13:08:52.663Z"
   },
   {
    "duration": 24,
    "start_time": "2022-09-13T13:08:52.676Z"
   },
   {
    "duration": 24,
    "start_time": "2022-09-13T13:08:52.702Z"
   },
   {
    "duration": 18,
    "start_time": "2022-09-13T13:08:52.728Z"
   },
   {
    "duration": 18,
    "start_time": "2022-09-13T13:08:52.748Z"
   },
   {
    "duration": 6,
    "start_time": "2022-09-13T13:08:52.767Z"
   },
   {
    "duration": 5,
    "start_time": "2022-09-13T13:08:52.775Z"
   },
   {
    "duration": 59,
    "start_time": "2022-09-13T13:08:52.781Z"
   },
   {
    "duration": 665,
    "start_time": "2022-09-13T13:08:52.841Z"
   },
   {
    "duration": 38,
    "start_time": "2022-09-13T13:08:53.507Z"
   },
   {
    "duration": 97,
    "start_time": "2022-09-13T13:08:53.547Z"
   },
   {
    "duration": 101,
    "start_time": "2022-09-13T13:08:53.646Z"
   },
   {
    "duration": 9,
    "start_time": "2022-09-13T13:08:53.749Z"
   },
   {
    "duration": 10,
    "start_time": "2022-09-13T13:08:53.760Z"
   },
   {
    "duration": 3,
    "start_time": "2022-09-13T13:08:53.775Z"
   },
   {
    "duration": 14,
    "start_time": "2022-09-13T13:08:53.780Z"
   },
   {
    "duration": 13,
    "start_time": "2022-09-13T13:08:53.795Z"
   },
   {
    "duration": 32,
    "start_time": "2022-09-13T13:08:53.809Z"
   },
   {
    "duration": 14,
    "start_time": "2022-09-13T13:08:53.843Z"
   },
   {
    "duration": 385,
    "start_time": "2022-09-13T13:08:53.938Z"
   },
   {
    "duration": 313,
    "start_time": "2022-09-13T13:08:54.324Z"
   },
   {
    "duration": 3,
    "start_time": "2022-09-13T13:08:54.639Z"
   },
   {
    "duration": 13,
    "start_time": "2022-09-13T13:08:54.644Z"
   },
   {
    "duration": 5,
    "start_time": "2022-09-13T13:08:54.658Z"
   },
   {
    "duration": 41,
    "start_time": "2022-09-13T13:08:54.665Z"
   },
   {
    "duration": 894,
    "start_time": "2022-09-13T13:08:54.708Z"
   },
   {
    "duration": 39,
    "start_time": "2022-09-13T13:08:55.604Z"
   },
   {
    "duration": 94,
    "start_time": "2022-09-13T13:08:55.646Z"
   },
   {
    "duration": 113,
    "start_time": "2022-09-13T13:08:55.742Z"
   },
   {
    "duration": 12,
    "start_time": "2022-09-13T13:08:55.857Z"
   },
   {
    "duration": 12,
    "start_time": "2022-09-13T13:08:55.871Z"
   },
   {
    "duration": 254053,
    "start_time": "2022-09-13T13:08:55.885Z"
   },
   {
    "duration": 0,
    "start_time": "2022-09-13T13:13:09.939Z"
   },
   {
    "duration": 0,
    "start_time": "2022-09-13T13:13:09.941Z"
   },
   {
    "duration": 0,
    "start_time": "2022-09-13T13:13:09.942Z"
   },
   {
    "duration": 1372,
    "start_time": "2022-09-13T13:13:54.285Z"
   },
   {
    "duration": 78,
    "start_time": "2022-09-13T13:13:55.659Z"
   },
   {
    "duration": 4,
    "start_time": "2022-09-13T13:13:55.739Z"
   },
   {
    "duration": 8,
    "start_time": "2022-09-13T13:13:55.745Z"
   },
   {
    "duration": 7,
    "start_time": "2022-09-13T13:13:55.755Z"
   },
   {
    "duration": 9,
    "start_time": "2022-09-13T13:13:55.764Z"
   },
   {
    "duration": 12,
    "start_time": "2022-09-13T13:13:55.775Z"
   },
   {
    "duration": 13,
    "start_time": "2022-09-13T13:13:55.788Z"
   },
   {
    "duration": 37,
    "start_time": "2022-09-13T13:13:55.803Z"
   },
   {
    "duration": 33,
    "start_time": "2022-09-13T13:13:55.844Z"
   },
   {
    "duration": 8,
    "start_time": "2022-09-13T13:13:55.879Z"
   },
   {
    "duration": 16,
    "start_time": "2022-09-13T13:13:55.889Z"
   },
   {
    "duration": 30,
    "start_time": "2022-09-13T13:13:55.907Z"
   },
   {
    "duration": 6,
    "start_time": "2022-09-13T13:13:55.939Z"
   },
   {
    "duration": 12,
    "start_time": "2022-09-13T13:13:55.946Z"
   },
   {
    "duration": 23,
    "start_time": "2022-09-13T13:13:55.959Z"
   },
   {
    "duration": 18,
    "start_time": "2022-09-13T13:13:55.984Z"
   },
   {
    "duration": 50,
    "start_time": "2022-09-13T13:13:56.003Z"
   },
   {
    "duration": 7,
    "start_time": "2022-09-13T13:13:56.055Z"
   },
   {
    "duration": 9,
    "start_time": "2022-09-13T13:13:56.063Z"
   },
   {
    "duration": 44,
    "start_time": "2022-09-13T13:13:56.074Z"
   },
   {
    "duration": 714,
    "start_time": "2022-09-13T13:13:56.119Z"
   },
   {
    "duration": 26,
    "start_time": "2022-09-13T13:13:56.835Z"
   },
   {
    "duration": 9,
    "start_time": "2022-09-13T13:13:56.936Z"
   },
   {
    "duration": 91,
    "start_time": "2022-09-13T13:13:56.948Z"
   },
   {
    "duration": 7,
    "start_time": "2022-09-13T13:13:57.042Z"
   },
   {
    "duration": 12,
    "start_time": "2022-09-13T13:13:57.051Z"
   },
   {
    "duration": 5,
    "start_time": "2022-09-13T13:13:57.068Z"
   },
   {
    "duration": 19,
    "start_time": "2022-09-13T13:13:57.075Z"
   },
   {
    "duration": 50,
    "start_time": "2022-09-13T13:13:57.096Z"
   },
   {
    "duration": 19,
    "start_time": "2022-09-13T13:13:57.148Z"
   },
   {
    "duration": 75,
    "start_time": "2022-09-13T13:13:57.169Z"
   },
   {
    "duration": 442,
    "start_time": "2022-09-13T13:13:57.246Z"
   },
   {
    "duration": 374,
    "start_time": "2022-09-13T13:13:57.690Z"
   },
   {
    "duration": 5,
    "start_time": "2022-09-13T13:13:58.066Z"
   },
   {
    "duration": 15,
    "start_time": "2022-09-13T13:13:58.073Z"
   },
   {
    "duration": 5,
    "start_time": "2022-09-13T13:13:58.089Z"
   },
   {
    "duration": 61,
    "start_time": "2022-09-13T13:13:58.096Z"
   },
   {
    "duration": 1023,
    "start_time": "2022-09-13T13:13:58.159Z"
   },
   {
    "duration": 53,
    "start_time": "2022-09-13T13:13:59.184Z"
   },
   {
    "duration": 7,
    "start_time": "2022-09-13T13:13:59.240Z"
   },
   {
    "duration": 112,
    "start_time": "2022-09-13T13:13:59.249Z"
   },
   {
    "duration": 13,
    "start_time": "2022-09-13T13:13:59.363Z"
   },
   {
    "duration": 13,
    "start_time": "2022-09-13T13:13:59.378Z"
   },
   {
    "duration": 150835,
    "start_time": "2022-09-13T13:13:59.393Z"
   },
   {
    "duration": 7,
    "start_time": "2022-09-13T13:16:30.230Z"
   },
   {
    "duration": 74,
    "start_time": "2022-09-13T13:16:30.238Z"
   },
   {
    "duration": 98,
    "start_time": "2022-09-13T13:16:30.313Z"
   },
   {
    "duration": 53,
    "start_time": "2022-09-13T13:18:19.385Z"
   },
   {
    "duration": 21368,
    "start_time": "2022-09-13T13:18:56.575Z"
   },
   {
    "duration": 2,
    "start_time": "2022-09-13T13:19:26.360Z"
   },
   {
    "duration": 52,
    "start_time": "2022-09-13T13:19:26.756Z"
   },
   {
    "duration": 51,
    "start_time": "2022-09-13T13:19:29.672Z"
   },
   {
    "duration": 918,
    "start_time": "2022-09-13T13:21:06.886Z"
   },
   {
    "duration": 64,
    "start_time": "2022-09-13T13:21:09.069Z"
   },
   {
    "duration": 65,
    "start_time": "2022-09-13T13:21:22.764Z"
   },
   {
    "duration": 883,
    "start_time": "2022-09-13T13:21:40.015Z"
   },
   {
    "duration": 66,
    "start_time": "2022-09-13T13:21:41.518Z"
   },
   {
    "duration": 69,
    "start_time": "2022-09-13T13:21:42.653Z"
   },
   {
    "duration": 62,
    "start_time": "2022-09-13T13:22:07.707Z"
   },
   {
    "duration": 59,
    "start_time": "2022-09-13T13:22:08.918Z"
   },
   {
    "duration": 30,
    "start_time": "2022-09-13T13:22:29.500Z"
   },
   {
    "duration": 21051,
    "start_time": "2022-09-13T13:22:42.155Z"
   },
   {
    "duration": 22447,
    "start_time": "2022-09-13T13:23:27.334Z"
   },
   {
    "duration": 65,
    "start_time": "2022-09-13T13:23:57.360Z"
   },
   {
    "duration": 55,
    "start_time": "2022-09-13T13:23:59.846Z"
   },
   {
    "duration": 1872,
    "start_time": "2022-09-13T13:24:46.114Z"
   },
   {
    "duration": 72,
    "start_time": "2022-09-13T13:24:47.988Z"
   },
   {
    "duration": 4,
    "start_time": "2022-09-13T13:24:48.062Z"
   },
   {
    "duration": 11,
    "start_time": "2022-09-13T13:24:48.067Z"
   },
   {
    "duration": 16,
    "start_time": "2022-09-13T13:24:48.079Z"
   },
   {
    "duration": 9,
    "start_time": "2022-09-13T13:24:48.096Z"
   },
   {
    "duration": 15,
    "start_time": "2022-09-13T13:24:48.107Z"
   },
   {
    "duration": 16,
    "start_time": "2022-09-13T13:24:48.124Z"
   },
   {
    "duration": 7,
    "start_time": "2022-09-13T13:24:48.141Z"
   },
   {
    "duration": 17,
    "start_time": "2022-09-13T13:24:48.151Z"
   },
   {
    "duration": 6,
    "start_time": "2022-09-13T13:24:48.170Z"
   },
   {
    "duration": 8,
    "start_time": "2022-09-13T13:24:48.178Z"
   },
   {
    "duration": 7,
    "start_time": "2022-09-13T13:24:48.188Z"
   },
   {
    "duration": 7,
    "start_time": "2022-09-13T13:24:48.197Z"
   },
   {
    "duration": 9,
    "start_time": "2022-09-13T13:24:48.238Z"
   },
   {
    "duration": 21,
    "start_time": "2022-09-13T13:24:48.249Z"
   },
   {
    "duration": 17,
    "start_time": "2022-09-13T13:24:48.272Z"
   },
   {
    "duration": 49,
    "start_time": "2022-09-13T13:24:48.291Z"
   },
   {
    "duration": 6,
    "start_time": "2022-09-13T13:24:48.341Z"
   },
   {
    "duration": 5,
    "start_time": "2022-09-13T13:24:48.348Z"
   },
   {
    "duration": 33,
    "start_time": "2022-09-13T13:24:48.354Z"
   },
   {
    "duration": 663,
    "start_time": "2022-09-13T13:24:48.389Z"
   },
   {
    "duration": 84,
    "start_time": "2022-09-13T13:24:49.054Z"
   },
   {
    "duration": 96,
    "start_time": "2022-09-13T13:24:49.141Z"
   },
   {
    "duration": 12,
    "start_time": "2022-09-13T13:24:49.239Z"
   },
   {
    "duration": 16,
    "start_time": "2022-09-13T13:24:49.252Z"
   },
   {
    "duration": 27,
    "start_time": "2022-09-13T13:24:49.269Z"
   },
   {
    "duration": 16,
    "start_time": "2022-09-13T13:24:49.299Z"
   },
   {
    "duration": 25,
    "start_time": "2022-09-13T13:24:49.316Z"
   },
   {
    "duration": 20,
    "start_time": "2022-09-13T13:24:49.343Z"
   },
   {
    "duration": 12,
    "start_time": "2022-09-13T13:24:49.364Z"
   },
   {
    "duration": 63,
    "start_time": "2022-09-13T13:24:49.377Z"
   },
   {
    "duration": 399,
    "start_time": "2022-09-13T13:24:49.442Z"
   },
   {
    "duration": 301,
    "start_time": "2022-09-13T13:24:49.843Z"
   },
   {
    "duration": 4,
    "start_time": "2022-09-13T13:24:50.146Z"
   },
   {
    "duration": 12,
    "start_time": "2022-09-13T13:24:50.152Z"
   },
   {
    "duration": 4,
    "start_time": "2022-09-13T13:24:50.166Z"
   },
   {
    "duration": 46,
    "start_time": "2022-09-13T13:24:50.172Z"
   },
   {
    "duration": 902,
    "start_time": "2022-09-13T13:24:50.220Z"
   },
   {
    "duration": 26,
    "start_time": "2022-09-13T13:24:51.124Z"
   },
   {
    "duration": 82,
    "start_time": "2022-09-13T13:24:51.156Z"
   },
   {
    "duration": 112,
    "start_time": "2022-09-13T13:24:51.241Z"
   },
   {
    "duration": 11,
    "start_time": "2022-09-13T13:24:51.355Z"
   },
   {
    "duration": 11,
    "start_time": "2022-09-13T13:24:51.368Z"
   },
   {
    "duration": 17689,
    "start_time": "2022-09-13T13:24:51.381Z"
   },
   {
    "duration": 36,
    "start_time": "2022-09-13T13:25:09.072Z"
   },
   {
    "duration": 36,
    "start_time": "2022-09-13T13:25:09.110Z"
   },
   {
    "duration": 1385,
    "start_time": "2022-09-13T13:25:12.847Z"
   },
   {
    "duration": 88,
    "start_time": "2022-09-13T13:25:14.234Z"
   },
   {
    "duration": 6,
    "start_time": "2022-09-13T13:25:14.323Z"
   },
   {
    "duration": 6,
    "start_time": "2022-09-13T13:25:14.331Z"
   },
   {
    "duration": 15,
    "start_time": "2022-09-13T13:25:14.339Z"
   },
   {
    "duration": 7,
    "start_time": "2022-09-13T13:25:14.356Z"
   },
   {
    "duration": 12,
    "start_time": "2022-09-13T13:25:14.365Z"
   },
   {
    "duration": 13,
    "start_time": "2022-09-13T13:25:14.378Z"
   },
   {
    "duration": 6,
    "start_time": "2022-09-13T13:25:14.392Z"
   },
   {
    "duration": 21,
    "start_time": "2022-09-13T13:25:14.400Z"
   },
   {
    "duration": 17,
    "start_time": "2022-09-13T13:25:14.422Z"
   },
   {
    "duration": 19,
    "start_time": "2022-09-13T13:25:14.441Z"
   },
   {
    "duration": 12,
    "start_time": "2022-09-13T13:25:14.461Z"
   },
   {
    "duration": 5,
    "start_time": "2022-09-13T13:25:14.476Z"
   },
   {
    "duration": 14,
    "start_time": "2022-09-13T13:25:14.482Z"
   },
   {
    "duration": 21,
    "start_time": "2022-09-13T13:25:14.497Z"
   },
   {
    "duration": 32,
    "start_time": "2022-09-13T13:25:14.519Z"
   },
   {
    "duration": 26,
    "start_time": "2022-09-13T13:25:14.553Z"
   },
   {
    "duration": 6,
    "start_time": "2022-09-13T13:25:14.581Z"
   },
   {
    "duration": 17,
    "start_time": "2022-09-13T13:25:14.588Z"
   },
   {
    "duration": 39,
    "start_time": "2022-09-13T13:25:14.606Z"
   },
   {
    "duration": 675,
    "start_time": "2022-09-13T13:25:14.647Z"
   },
   {
    "duration": 31,
    "start_time": "2022-09-13T13:25:15.323Z"
   },
   {
    "duration": 191,
    "start_time": "2022-09-13T13:25:15.356Z"
   },
   {
    "duration": 22,
    "start_time": "2022-09-13T13:25:15.548Z"
   },
   {
    "duration": 26,
    "start_time": "2022-09-13T13:25:15.571Z"
   },
   {
    "duration": 25,
    "start_time": "2022-09-13T13:25:15.599Z"
   },
   {
    "duration": 16,
    "start_time": "2022-09-13T13:25:15.626Z"
   },
   {
    "duration": 30,
    "start_time": "2022-09-13T13:25:15.644Z"
   },
   {
    "duration": 17,
    "start_time": "2022-09-13T13:25:15.677Z"
   },
   {
    "duration": 25,
    "start_time": "2022-09-13T13:25:15.696Z"
   },
   {
    "duration": 16,
    "start_time": "2022-09-13T13:25:15.722Z"
   },
   {
    "duration": 502,
    "start_time": "2022-09-13T13:25:15.741Z"
   },
   {
    "duration": 298,
    "start_time": "2022-09-13T13:25:16.244Z"
   },
   {
    "duration": 3,
    "start_time": "2022-09-13T13:25:16.544Z"
   },
   {
    "duration": 26,
    "start_time": "2022-09-13T13:25:16.549Z"
   },
   {
    "duration": 17,
    "start_time": "2022-09-13T13:25:16.577Z"
   },
   {
    "duration": 51,
    "start_time": "2022-09-13T13:25:16.595Z"
   },
   {
    "duration": 1089,
    "start_time": "2022-09-13T13:25:16.648Z"
   },
   {
    "duration": 31,
    "start_time": "2022-09-13T13:25:17.738Z"
   },
   {
    "duration": 72,
    "start_time": "2022-09-13T13:25:17.774Z"
   },
   {
    "duration": 13,
    "start_time": "2022-09-13T13:25:17.937Z"
   },
   {
    "duration": 13,
    "start_time": "2022-09-13T13:25:17.952Z"
   },
   {
    "duration": 13,
    "start_time": "2022-09-13T13:25:17.966Z"
   },
   {
    "duration": 412410,
    "start_time": "2022-09-13T13:25:17.980Z"
   },
   {
    "duration": 52,
    "start_time": "2022-09-13T13:32:10.392Z"
   },
   {
    "duration": 40,
    "start_time": "2022-09-13T13:32:10.445Z"
   },
   {
    "duration": 138,
    "start_time": "2022-09-13T13:32:23.422Z"
   },
   {
    "duration": 498,
    "start_time": "2022-09-13T13:33:47.156Z"
   },
   {
    "duration": 36,
    "start_time": "2022-09-13T13:34:41.280Z"
   },
   {
    "duration": 585,
    "start_time": "2022-09-13T13:34:50.204Z"
   },
   {
    "duration": 44,
    "start_time": "2022-09-13T13:34:52.489Z"
   },
   {
    "duration": 720,
    "start_time": "2022-09-13T13:35:04.181Z"
   },
   {
    "duration": 67,
    "start_time": "2022-09-13T13:35:07.250Z"
   },
   {
    "duration": 1697,
    "start_time": "2022-09-13T13:36:19.355Z"
   },
   {
    "duration": 70,
    "start_time": "2022-09-13T13:36:21.054Z"
   },
   {
    "duration": 4,
    "start_time": "2022-09-13T13:36:21.126Z"
   },
   {
    "duration": 6,
    "start_time": "2022-09-13T13:36:21.132Z"
   },
   {
    "duration": 13,
    "start_time": "2022-09-13T13:36:21.139Z"
   },
   {
    "duration": 8,
    "start_time": "2022-09-13T13:36:21.154Z"
   },
   {
    "duration": 15,
    "start_time": "2022-09-13T13:36:21.163Z"
   },
   {
    "duration": 12,
    "start_time": "2022-09-13T13:36:21.180Z"
   },
   {
    "duration": 7,
    "start_time": "2022-09-13T13:36:21.194Z"
   },
   {
    "duration": 23,
    "start_time": "2022-09-13T13:36:21.203Z"
   },
   {
    "duration": 10,
    "start_time": "2022-09-13T13:36:21.227Z"
   },
   {
    "duration": 7,
    "start_time": "2022-09-13T13:36:21.238Z"
   },
   {
    "duration": 9,
    "start_time": "2022-09-13T13:36:21.247Z"
   },
   {
    "duration": 8,
    "start_time": "2022-09-13T13:36:21.257Z"
   },
   {
    "duration": 11,
    "start_time": "2022-09-13T13:36:21.267Z"
   },
   {
    "duration": 27,
    "start_time": "2022-09-13T13:36:21.280Z"
   },
   {
    "duration": 39,
    "start_time": "2022-09-13T13:36:21.309Z"
   },
   {
    "duration": 17,
    "start_time": "2022-09-13T13:36:21.350Z"
   },
   {
    "duration": 13,
    "start_time": "2022-09-13T13:36:21.369Z"
   },
   {
    "duration": 20,
    "start_time": "2022-09-13T13:36:21.384Z"
   },
   {
    "duration": 78,
    "start_time": "2022-09-13T13:36:21.406Z"
   },
   {
    "duration": 660,
    "start_time": "2022-09-13T13:36:21.486Z"
   },
   {
    "duration": 23,
    "start_time": "2022-09-13T13:36:22.148Z"
   },
   {
    "duration": 67,
    "start_time": "2022-09-13T13:36:22.173Z"
   },
   {
    "duration": 97,
    "start_time": "2022-09-13T13:36:22.242Z"
   },
   {
    "duration": 7,
    "start_time": "2022-09-13T13:36:22.340Z"
   },
   {
    "duration": 11,
    "start_time": "2022-09-13T13:36:22.349Z"
   },
   {
    "duration": 5,
    "start_time": "2022-09-13T13:36:22.364Z"
   },
   {
    "duration": 24,
    "start_time": "2022-09-13T13:36:22.370Z"
   },
   {
    "duration": 28,
    "start_time": "2022-09-13T13:36:22.395Z"
   },
   {
    "duration": 13,
    "start_time": "2022-09-13T13:36:22.424Z"
   },
   {
    "duration": 11,
    "start_time": "2022-09-13T13:36:22.439Z"
   },
   {
    "duration": 391,
    "start_time": "2022-09-13T13:36:22.452Z"
   },
   {
    "duration": 293,
    "start_time": "2022-09-13T13:36:22.845Z"
   },
   {
    "duration": 4,
    "start_time": "2022-09-13T13:36:23.140Z"
   },
   {
    "duration": 13,
    "start_time": "2022-09-13T13:36:23.146Z"
   },
   {
    "duration": 4,
    "start_time": "2022-09-13T13:36:23.160Z"
   },
   {
    "duration": 45,
    "start_time": "2022-09-13T13:36:23.165Z"
   },
   {
    "duration": 909,
    "start_time": "2022-09-13T13:36:23.212Z"
   },
   {
    "duration": 25,
    "start_time": "2022-09-13T13:36:24.123Z"
   },
   {
    "duration": 87,
    "start_time": "2022-09-13T13:36:24.151Z"
   },
   {
    "duration": 107,
    "start_time": "2022-09-13T13:36:24.240Z"
   },
   {
    "duration": 11,
    "start_time": "2022-09-13T13:36:24.349Z"
   },
   {
    "duration": 11,
    "start_time": "2022-09-13T13:36:24.361Z"
   },
   {
    "duration": 73952,
    "start_time": "2022-09-13T13:36:24.373Z"
   },
   {
    "duration": 52,
    "start_time": "2022-09-13T13:37:38.326Z"
   },
   {
    "duration": 722,
    "start_time": "2022-09-13T13:37:38.379Z"
   },
   {
    "duration": 57,
    "start_time": "2022-09-13T13:37:39.103Z"
   },
   {
    "duration": 43,
    "start_time": "2022-09-13T13:37:39.162Z"
   },
   {
    "duration": 154,
    "start_time": "2022-09-13T13:37:39.206Z"
   },
   {
    "duration": 75111,
    "start_time": "2022-09-13T13:40:01.894Z"
   },
   {
    "duration": 47,
    "start_time": "2022-09-13T13:41:43.708Z"
   },
   {
    "duration": 138,
    "start_time": "2022-09-13T13:51:55.853Z"
   },
   {
    "duration": 132,
    "start_time": "2022-09-13T13:52:34.857Z"
   },
   {
    "duration": 134,
    "start_time": "2022-09-13T13:52:48.597Z"
   },
   {
    "duration": 35,
    "start_time": "2022-09-13T13:53:02.512Z"
   },
   {
    "duration": 38,
    "start_time": "2022-09-13T13:53:09.765Z"
   },
   {
    "duration": 38,
    "start_time": "2022-09-13T13:53:40.813Z"
   },
   {
    "duration": 58,
    "start_time": "2022-09-13T22:47:17.177Z"
   },
   {
    "duration": 1885,
    "start_time": "2022-09-13T22:47:23.961Z"
   },
   {
    "duration": 273,
    "start_time": "2022-09-13T22:47:25.850Z"
   },
   {
    "duration": 6,
    "start_time": "2022-09-13T22:47:26.125Z"
   },
   {
    "duration": 48,
    "start_time": "2022-09-13T22:47:26.133Z"
   },
   {
    "duration": 45,
    "start_time": "2022-09-13T22:47:26.184Z"
   },
   {
    "duration": 40,
    "start_time": "2022-09-13T22:47:26.231Z"
   },
   {
    "duration": 47,
    "start_time": "2022-09-13T22:47:26.274Z"
   },
   {
    "duration": 111,
    "start_time": "2022-09-13T22:47:26.323Z"
   },
   {
    "duration": 42,
    "start_time": "2022-09-13T22:47:26.436Z"
   },
   {
    "duration": 80,
    "start_time": "2022-09-13T22:47:26.481Z"
   },
   {
    "duration": 86,
    "start_time": "2022-09-13T22:47:26.563Z"
   },
   {
    "duration": 76,
    "start_time": "2022-09-13T22:47:26.651Z"
   },
   {
    "duration": 67,
    "start_time": "2022-09-13T22:47:26.731Z"
   },
   {
    "duration": 57,
    "start_time": "2022-09-13T22:47:26.822Z"
   },
   {
    "duration": 56,
    "start_time": "2022-09-13T22:47:26.881Z"
   },
   {
    "duration": 18,
    "start_time": "2022-09-13T22:47:26.939Z"
   },
   {
    "duration": 110,
    "start_time": "2022-09-13T22:47:26.959Z"
   },
   {
    "duration": 83,
    "start_time": "2022-09-13T22:47:27.072Z"
   },
   {
    "duration": 84,
    "start_time": "2022-09-13T22:47:27.158Z"
   },
   {
    "duration": 30,
    "start_time": "2022-09-13T22:47:27.244Z"
   },
   {
    "duration": 36,
    "start_time": "2022-09-13T22:47:27.276Z"
   },
   {
    "duration": 98,
    "start_time": "2022-09-13T22:47:27.315Z"
   },
   {
    "duration": 835,
    "start_time": "2022-09-13T22:47:27.416Z"
   },
   {
    "duration": 80,
    "start_time": "2022-09-13T22:47:28.253Z"
   },
   {
    "duration": 11,
    "start_time": "2022-09-13T22:47:28.335Z"
   },
   {
    "duration": 84,
    "start_time": "2022-09-13T22:47:28.349Z"
   },
   {
    "duration": 8,
    "start_time": "2022-09-13T22:47:28.440Z"
   },
   {
    "duration": 43,
    "start_time": "2022-09-13T22:47:28.450Z"
   },
   {
    "duration": 17,
    "start_time": "2022-09-13T22:47:28.495Z"
   },
   {
    "duration": 65,
    "start_time": "2022-09-13T22:47:28.515Z"
   },
   {
    "duration": 18,
    "start_time": "2022-09-13T22:47:28.584Z"
   },
   {
    "duration": 12,
    "start_time": "2022-09-13T22:47:28.604Z"
   },
   {
    "duration": 117,
    "start_time": "2022-09-13T22:47:28.618Z"
   },
   {
    "duration": 617,
    "start_time": "2022-09-13T22:47:28.739Z"
   },
   {
    "duration": 590,
    "start_time": "2022-09-13T22:47:29.358Z"
   },
   {
    "duration": 9,
    "start_time": "2022-09-13T22:47:29.951Z"
   },
   {
    "duration": 127,
    "start_time": "2022-09-13T22:47:29.962Z"
   },
   {
    "duration": 61,
    "start_time": "2022-09-13T22:47:30.091Z"
   },
   {
    "duration": 118,
    "start_time": "2022-09-13T22:47:30.154Z"
   },
   {
    "duration": 1854,
    "start_time": "2022-09-13T22:47:30.274Z"
   },
   {
    "duration": 31,
    "start_time": "2022-09-13T22:47:32.133Z"
   },
   {
    "duration": 74,
    "start_time": "2022-09-13T22:47:32.167Z"
   },
   {
    "duration": 123,
    "start_time": "2022-09-13T22:47:32.243Z"
   },
   {
    "duration": 15,
    "start_time": "2022-09-13T22:47:32.367Z"
   },
   {
    "duration": 28,
    "start_time": "2022-09-13T22:47:32.384Z"
   },
   {
    "duration": 91580,
    "start_time": "2022-09-13T22:47:32.414Z"
   },
   {
    "duration": 60,
    "start_time": "2022-09-13T22:49:03.996Z"
   },
   {
    "duration": 51,
    "start_time": "2022-09-13T22:49:04.058Z"
   },
   {
    "duration": 180,
    "start_time": "2022-09-13T22:49:04.130Z"
   },
   {
    "duration": 49,
    "start_time": "2022-09-13T22:49:04.312Z"
   },
   {
    "duration": 1495,
    "start_time": "2022-09-13T23:30:18.095Z"
   },
   {
    "duration": 87,
    "start_time": "2022-09-13T23:30:19.592Z"
   },
   {
    "duration": 5,
    "start_time": "2022-09-13T23:30:19.681Z"
   },
   {
    "duration": 7,
    "start_time": "2022-09-13T23:30:19.688Z"
   },
   {
    "duration": 11,
    "start_time": "2022-09-13T23:30:19.697Z"
   },
   {
    "duration": 3,
    "start_time": "2022-09-13T23:30:19.720Z"
   },
   {
    "duration": 28,
    "start_time": "2022-09-13T23:30:19.724Z"
   },
   {
    "duration": 13,
    "start_time": "2022-09-13T23:30:19.753Z"
   },
   {
    "duration": 5,
    "start_time": "2022-09-13T23:30:19.768Z"
   },
   {
    "duration": 1175,
    "start_time": "2022-09-13T23:30:19.776Z"
   },
   {
    "duration": 0,
    "start_time": "2022-09-13T23:30:20.953Z"
   },
   {
    "duration": 0,
    "start_time": "2022-09-13T23:30:20.955Z"
   },
   {
    "duration": 0,
    "start_time": "2022-09-13T23:30:20.956Z"
   },
   {
    "duration": 0,
    "start_time": "2022-09-13T23:30:20.957Z"
   },
   {
    "duration": 0,
    "start_time": "2022-09-13T23:30:20.958Z"
   },
   {
    "duration": 0,
    "start_time": "2022-09-13T23:30:20.959Z"
   },
   {
    "duration": 0,
    "start_time": "2022-09-13T23:30:20.960Z"
   },
   {
    "duration": 0,
    "start_time": "2022-09-13T23:30:20.963Z"
   },
   {
    "duration": 0,
    "start_time": "2022-09-13T23:30:20.964Z"
   },
   {
    "duration": 0,
    "start_time": "2022-09-13T23:30:20.965Z"
   },
   {
    "duration": 0,
    "start_time": "2022-09-13T23:30:20.966Z"
   },
   {
    "duration": 0,
    "start_time": "2022-09-13T23:30:20.967Z"
   },
   {
    "duration": 0,
    "start_time": "2022-09-13T23:30:20.968Z"
   },
   {
    "duration": 0,
    "start_time": "2022-09-13T23:30:20.969Z"
   },
   {
    "duration": 0,
    "start_time": "2022-09-13T23:30:20.971Z"
   },
   {
    "duration": 0,
    "start_time": "2022-09-13T23:30:20.972Z"
   },
   {
    "duration": 0,
    "start_time": "2022-09-13T23:30:20.973Z"
   },
   {
    "duration": 0,
    "start_time": "2022-09-13T23:30:20.974Z"
   },
   {
    "duration": 0,
    "start_time": "2022-09-13T23:30:20.975Z"
   },
   {
    "duration": 0,
    "start_time": "2022-09-13T23:30:20.976Z"
   },
   {
    "duration": 0,
    "start_time": "2022-09-13T23:30:20.977Z"
   },
   {
    "duration": 0,
    "start_time": "2022-09-13T23:30:20.977Z"
   },
   {
    "duration": 0,
    "start_time": "2022-09-13T23:30:20.978Z"
   },
   {
    "duration": 0,
    "start_time": "2022-09-13T23:30:20.979Z"
   },
   {
    "duration": 0,
    "start_time": "2022-09-13T23:30:20.979Z"
   },
   {
    "duration": 0,
    "start_time": "2022-09-13T23:30:20.980Z"
   },
   {
    "duration": 0,
    "start_time": "2022-09-13T23:30:20.981Z"
   },
   {
    "duration": 0,
    "start_time": "2022-09-13T23:30:21.020Z"
   },
   {
    "duration": 0,
    "start_time": "2022-09-13T23:30:21.022Z"
   },
   {
    "duration": 0,
    "start_time": "2022-09-13T23:30:21.023Z"
   },
   {
    "duration": 0,
    "start_time": "2022-09-13T23:30:21.024Z"
   },
   {
    "duration": 0,
    "start_time": "2022-09-13T23:30:21.025Z"
   },
   {
    "duration": 0,
    "start_time": "2022-09-13T23:30:21.027Z"
   },
   {
    "duration": 0,
    "start_time": "2022-09-13T23:30:21.028Z"
   },
   {
    "duration": 0,
    "start_time": "2022-09-13T23:30:21.029Z"
   },
   {
    "duration": 0,
    "start_time": "2022-09-13T23:30:21.030Z"
   },
   {
    "duration": 0,
    "start_time": "2022-09-13T23:30:21.031Z"
   },
   {
    "duration": 0,
    "start_time": "2022-09-13T23:30:21.035Z"
   },
   {
    "duration": 0,
    "start_time": "2022-09-13T23:30:21.036Z"
   },
   {
    "duration": 9,
    "start_time": "2022-09-13T23:30:50.564Z"
   },
   {
    "duration": 59,
    "start_time": "2022-09-13T23:32:39.936Z"
   },
   {
    "duration": 17,
    "start_time": "2022-09-13T23:32:45.372Z"
   },
   {
    "duration": 13,
    "start_time": "2022-09-13T23:32:59.044Z"
   },
   {
    "duration": 17,
    "start_time": "2022-09-13T23:33:39.839Z"
   },
   {
    "duration": 1159,
    "start_time": "2022-09-13T23:33:45.538Z"
   },
   {
    "duration": 43,
    "start_time": "2022-09-13T23:34:53.338Z"
   },
   {
    "duration": 13,
    "start_time": "2022-09-13T23:34:56.996Z"
   },
   {
    "duration": 13,
    "start_time": "2022-09-13T23:35:49.012Z"
   },
   {
    "duration": 11,
    "start_time": "2022-09-13T23:35:54.664Z"
   },
   {
    "duration": 804,
    "start_time": "2022-09-13T23:36:49.468Z"
   },
   {
    "duration": 10,
    "start_time": "2022-09-13T23:36:59.308Z"
   },
   {
    "duration": 1476,
    "start_time": "2022-09-13T23:37:08.519Z"
   },
   {
    "duration": 99,
    "start_time": "2022-09-13T23:37:09.997Z"
   },
   {
    "duration": 6,
    "start_time": "2022-09-13T23:37:10.098Z"
   },
   {
    "duration": 8,
    "start_time": "2022-09-13T23:37:10.107Z"
   },
   {
    "duration": 24,
    "start_time": "2022-09-13T23:37:10.116Z"
   },
   {
    "duration": 7,
    "start_time": "2022-09-13T23:37:10.141Z"
   },
   {
    "duration": 18,
    "start_time": "2022-09-13T23:37:10.149Z"
   },
   {
    "duration": 15,
    "start_time": "2022-09-13T23:37:10.169Z"
   },
   {
    "duration": 5,
    "start_time": "2022-09-13T23:37:10.186Z"
   },
   {
    "duration": 23,
    "start_time": "2022-09-13T23:37:10.194Z"
   },
   {
    "duration": 7,
    "start_time": "2022-09-13T23:37:10.221Z"
   },
   {
    "duration": 24,
    "start_time": "2022-09-13T23:37:10.230Z"
   },
   {
    "duration": 8,
    "start_time": "2022-09-13T23:37:10.255Z"
   },
   {
    "duration": 7,
    "start_time": "2022-09-13T23:37:10.265Z"
   },
   {
    "duration": 11,
    "start_time": "2022-09-13T23:37:10.274Z"
   },
   {
    "duration": 51,
    "start_time": "2022-09-13T23:37:10.286Z"
   },
   {
    "duration": 21,
    "start_time": "2022-09-13T23:37:10.339Z"
   },
   {
    "duration": 19,
    "start_time": "2022-09-13T23:37:10.362Z"
   },
   {
    "duration": 44,
    "start_time": "2022-09-13T23:37:10.383Z"
   },
   {
    "duration": 23,
    "start_time": "2022-09-13T23:37:10.428Z"
   },
   {
    "duration": 282,
    "start_time": "2022-09-13T23:37:10.453Z"
   },
   {
    "duration": 0,
    "start_time": "2022-09-13T23:37:10.738Z"
   },
   {
    "duration": 0,
    "start_time": "2022-09-13T23:37:10.740Z"
   },
   {
    "duration": 0,
    "start_time": "2022-09-13T23:37:10.742Z"
   },
   {
    "duration": 0,
    "start_time": "2022-09-13T23:37:10.744Z"
   },
   {
    "duration": 0,
    "start_time": "2022-09-13T23:37:10.745Z"
   },
   {
    "duration": 0,
    "start_time": "2022-09-13T23:37:10.746Z"
   },
   {
    "duration": 0,
    "start_time": "2022-09-13T23:37:10.748Z"
   },
   {
    "duration": 0,
    "start_time": "2022-09-13T23:37:10.750Z"
   },
   {
    "duration": 0,
    "start_time": "2022-09-13T23:37:10.750Z"
   },
   {
    "duration": 0,
    "start_time": "2022-09-13T23:37:10.751Z"
   },
   {
    "duration": 0,
    "start_time": "2022-09-13T23:37:10.753Z"
   },
   {
    "duration": 0,
    "start_time": "2022-09-13T23:37:10.754Z"
   },
   {
    "duration": 0,
    "start_time": "2022-09-13T23:37:10.755Z"
   },
   {
    "duration": 0,
    "start_time": "2022-09-13T23:37:10.756Z"
   },
   {
    "duration": 0,
    "start_time": "2022-09-13T23:37:10.757Z"
   },
   {
    "duration": 0,
    "start_time": "2022-09-13T23:37:10.758Z"
   },
   {
    "duration": 0,
    "start_time": "2022-09-13T23:37:10.759Z"
   },
   {
    "duration": 0,
    "start_time": "2022-09-13T23:37:10.760Z"
   },
   {
    "duration": 0,
    "start_time": "2022-09-13T23:37:10.761Z"
   },
   {
    "duration": 0,
    "start_time": "2022-09-13T23:37:10.762Z"
   },
   {
    "duration": 0,
    "start_time": "2022-09-13T23:37:10.821Z"
   },
   {
    "duration": 0,
    "start_time": "2022-09-13T23:37:10.827Z"
   },
   {
    "duration": 0,
    "start_time": "2022-09-13T23:37:10.828Z"
   },
   {
    "duration": 0,
    "start_time": "2022-09-13T23:37:10.830Z"
   },
   {
    "duration": 0,
    "start_time": "2022-09-13T23:37:10.831Z"
   },
   {
    "duration": 0,
    "start_time": "2022-09-13T23:37:10.831Z"
   },
   {
    "duration": 1,
    "start_time": "2022-09-13T23:37:10.832Z"
   },
   {
    "duration": 0,
    "start_time": "2022-09-13T23:37:10.834Z"
   },
   {
    "duration": 1455,
    "start_time": "2022-09-13T23:38:02.801Z"
   },
   {
    "duration": 85,
    "start_time": "2022-09-13T23:38:04.259Z"
   },
   {
    "duration": 7,
    "start_time": "2022-09-13T23:38:04.345Z"
   },
   {
    "duration": 11,
    "start_time": "2022-09-13T23:38:04.355Z"
   },
   {
    "duration": 10,
    "start_time": "2022-09-13T23:38:04.368Z"
   },
   {
    "duration": 7,
    "start_time": "2022-09-13T23:38:04.380Z"
   },
   {
    "duration": 22,
    "start_time": "2022-09-13T23:38:04.389Z"
   },
   {
    "duration": 33,
    "start_time": "2022-09-13T23:38:04.420Z"
   },
   {
    "duration": 12,
    "start_time": "2022-09-13T23:38:04.456Z"
   },
   {
    "duration": 33,
    "start_time": "2022-09-13T23:38:04.473Z"
   },
   {
    "duration": 7,
    "start_time": "2022-09-13T23:38:04.508Z"
   },
   {
    "duration": 13,
    "start_time": "2022-09-13T23:38:04.520Z"
   },
   {
    "duration": 16,
    "start_time": "2022-09-13T23:38:04.538Z"
   },
   {
    "duration": 8,
    "start_time": "2022-09-13T23:38:04.556Z"
   },
   {
    "duration": 30,
    "start_time": "2022-09-13T23:38:04.565Z"
   },
   {
    "duration": 73,
    "start_time": "2022-09-13T23:38:04.596Z"
   },
   {
    "duration": 23,
    "start_time": "2022-09-13T23:38:04.671Z"
   },
   {
    "duration": 24,
    "start_time": "2022-09-13T23:38:04.696Z"
   },
   {
    "duration": 34,
    "start_time": "2022-09-13T23:38:04.722Z"
   },
   {
    "duration": 14,
    "start_time": "2022-09-13T23:38:04.758Z"
   },
   {
    "duration": 179,
    "start_time": "2022-09-13T23:38:04.774Z"
   },
   {
    "duration": 0,
    "start_time": "2022-09-13T23:38:04.955Z"
   },
   {
    "duration": 0,
    "start_time": "2022-09-13T23:38:04.957Z"
   },
   {
    "duration": 0,
    "start_time": "2022-09-13T23:38:04.958Z"
   },
   {
    "duration": 0,
    "start_time": "2022-09-13T23:38:04.959Z"
   },
   {
    "duration": 0,
    "start_time": "2022-09-13T23:38:04.959Z"
   },
   {
    "duration": 0,
    "start_time": "2022-09-13T23:38:04.960Z"
   },
   {
    "duration": 0,
    "start_time": "2022-09-13T23:38:04.962Z"
   },
   {
    "duration": 0,
    "start_time": "2022-09-13T23:38:04.963Z"
   },
   {
    "duration": 0,
    "start_time": "2022-09-13T23:38:04.963Z"
   },
   {
    "duration": 0,
    "start_time": "2022-09-13T23:38:04.964Z"
   },
   {
    "duration": 0,
    "start_time": "2022-09-13T23:38:04.965Z"
   },
   {
    "duration": 0,
    "start_time": "2022-09-13T23:38:04.966Z"
   },
   {
    "duration": 0,
    "start_time": "2022-09-13T23:38:05.021Z"
   },
   {
    "duration": 0,
    "start_time": "2022-09-13T23:38:05.024Z"
   },
   {
    "duration": 0,
    "start_time": "2022-09-13T23:38:05.025Z"
   },
   {
    "duration": 0,
    "start_time": "2022-09-13T23:38:05.026Z"
   },
   {
    "duration": 0,
    "start_time": "2022-09-13T23:38:05.027Z"
   },
   {
    "duration": 0,
    "start_time": "2022-09-13T23:38:05.028Z"
   },
   {
    "duration": 0,
    "start_time": "2022-09-13T23:38:05.030Z"
   },
   {
    "duration": 0,
    "start_time": "2022-09-13T23:38:05.031Z"
   },
   {
    "duration": 0,
    "start_time": "2022-09-13T23:38:05.032Z"
   },
   {
    "duration": 0,
    "start_time": "2022-09-13T23:38:05.033Z"
   },
   {
    "duration": 0,
    "start_time": "2022-09-13T23:38:05.034Z"
   },
   {
    "duration": 0,
    "start_time": "2022-09-13T23:38:05.036Z"
   },
   {
    "duration": 0,
    "start_time": "2022-09-13T23:38:05.037Z"
   },
   {
    "duration": 0,
    "start_time": "2022-09-13T23:38:05.038Z"
   },
   {
    "duration": 0,
    "start_time": "2022-09-13T23:38:05.039Z"
   },
   {
    "duration": 0,
    "start_time": "2022-09-13T23:38:05.041Z"
   },
   {
    "duration": 2,
    "start_time": "2022-09-13T23:42:24.535Z"
   },
   {
    "duration": 7,
    "start_time": "2022-09-13T23:43:11.647Z"
   },
   {
    "duration": 4,
    "start_time": "2022-09-13T23:43:21.605Z"
   },
   {
    "duration": 6,
    "start_time": "2022-09-13T23:43:46.303Z"
   },
   {
    "duration": 4,
    "start_time": "2022-09-13T23:43:57.887Z"
   },
   {
    "duration": 6,
    "start_time": "2022-09-13T23:43:59.638Z"
   },
   {
    "duration": 7,
    "start_time": "2022-09-13T23:44:00.620Z"
   },
   {
    "duration": 1415,
    "start_time": "2022-09-13T23:44:10.073Z"
   },
   {
    "duration": 94,
    "start_time": "2022-09-13T23:44:11.491Z"
   },
   {
    "duration": 38,
    "start_time": "2022-09-13T23:44:11.587Z"
   },
   {
    "duration": 25,
    "start_time": "2022-09-13T23:44:11.628Z"
   },
   {
    "duration": 8,
    "start_time": "2022-09-13T23:44:11.656Z"
   },
   {
    "duration": 7,
    "start_time": "2022-09-13T23:44:11.666Z"
   },
   {
    "duration": 82,
    "start_time": "2022-09-13T23:44:11.675Z"
   },
   {
    "duration": 19,
    "start_time": "2022-09-13T23:44:11.760Z"
   },
   {
    "duration": 44,
    "start_time": "2022-09-13T23:44:11.781Z"
   },
   {
    "duration": 92,
    "start_time": "2022-09-13T23:44:11.830Z"
   },
   {
    "duration": 3,
    "start_time": "2022-09-13T23:44:11.924Z"
   },
   {
    "duration": 24,
    "start_time": "2022-09-13T23:44:11.929Z"
   },
   {
    "duration": 6,
    "start_time": "2022-09-13T23:44:11.955Z"
   },
   {
    "duration": 10,
    "start_time": "2022-09-13T23:44:11.963Z"
   },
   {
    "duration": 14,
    "start_time": "2022-09-13T23:44:12.021Z"
   },
   {
    "duration": 19,
    "start_time": "2022-09-13T23:44:12.038Z"
   },
   {
    "duration": 11,
    "start_time": "2022-09-13T23:44:12.059Z"
   },
   {
    "duration": 61,
    "start_time": "2022-09-13T23:44:12.072Z"
   },
   {
    "duration": 92,
    "start_time": "2022-09-13T23:44:12.135Z"
   },
   {
    "duration": 29,
    "start_time": "2022-09-13T23:44:12.229Z"
   },
   {
    "duration": 87,
    "start_time": "2022-09-13T23:44:12.261Z"
   },
   {
    "duration": 20,
    "start_time": "2022-09-13T23:44:12.350Z"
   },
   {
    "duration": 7,
    "start_time": "2022-09-13T23:44:12.372Z"
   },
   {
    "duration": 334,
    "start_time": "2022-09-13T23:44:12.425Z"
   },
   {
    "duration": 0,
    "start_time": "2022-09-13T23:44:12.762Z"
   },
   {
    "duration": 0,
    "start_time": "2022-09-13T23:44:12.764Z"
   },
   {
    "duration": 0,
    "start_time": "2022-09-13T23:44:12.765Z"
   },
   {
    "duration": 0,
    "start_time": "2022-09-13T23:44:12.767Z"
   },
   {
    "duration": 0,
    "start_time": "2022-09-13T23:44:12.768Z"
   },
   {
    "duration": 0,
    "start_time": "2022-09-13T23:44:12.769Z"
   },
   {
    "duration": 0,
    "start_time": "2022-09-13T23:44:12.820Z"
   },
   {
    "duration": 0,
    "start_time": "2022-09-13T23:44:12.822Z"
   },
   {
    "duration": 0,
    "start_time": "2022-09-13T23:44:12.822Z"
   },
   {
    "duration": 0,
    "start_time": "2022-09-13T23:44:12.823Z"
   },
   {
    "duration": 0,
    "start_time": "2022-09-13T23:44:12.824Z"
   },
   {
    "duration": 0,
    "start_time": "2022-09-13T23:44:12.825Z"
   },
   {
    "duration": 0,
    "start_time": "2022-09-13T23:44:12.826Z"
   },
   {
    "duration": 0,
    "start_time": "2022-09-13T23:44:12.830Z"
   },
   {
    "duration": 0,
    "start_time": "2022-09-13T23:44:12.831Z"
   },
   {
    "duration": 0,
    "start_time": "2022-09-13T23:44:12.832Z"
   },
   {
    "duration": 0,
    "start_time": "2022-09-13T23:44:12.834Z"
   },
   {
    "duration": 0,
    "start_time": "2022-09-13T23:44:12.836Z"
   },
   {
    "duration": 0,
    "start_time": "2022-09-13T23:44:12.838Z"
   },
   {
    "duration": 0,
    "start_time": "2022-09-13T23:44:12.839Z"
   },
   {
    "duration": 0,
    "start_time": "2022-09-13T23:44:12.841Z"
   },
   {
    "duration": 0,
    "start_time": "2022-09-13T23:44:12.843Z"
   },
   {
    "duration": 0,
    "start_time": "2022-09-13T23:44:12.845Z"
   },
   {
    "duration": 0,
    "start_time": "2022-09-13T23:44:12.845Z"
   },
   {
    "duration": 0,
    "start_time": "2022-09-13T23:44:12.846Z"
   },
   {
    "duration": 0,
    "start_time": "2022-09-13T23:44:12.847Z"
   },
   {
    "duration": 0,
    "start_time": "2022-09-13T23:44:12.848Z"
   },
   {
    "duration": 0,
    "start_time": "2022-09-13T23:44:12.849Z"
   },
   {
    "duration": 6,
    "start_time": "2022-09-13T23:44:31.543Z"
   },
   {
    "duration": 3,
    "start_time": "2022-09-14T01:19:52.358Z"
   },
   {
    "duration": 11,
    "start_time": "2022-09-14T01:20:28.340Z"
   },
   {
    "duration": 5,
    "start_time": "2022-09-14T01:23:38.891Z"
   },
   {
    "duration": 33,
    "start_time": "2022-09-14T01:23:59.651Z"
   },
   {
    "duration": 4,
    "start_time": "2022-09-14T01:25:11.107Z"
   },
   {
    "duration": 31,
    "start_time": "2022-09-14T01:25:12.586Z"
   },
   {
    "duration": 4,
    "start_time": "2022-09-14T01:25:58.763Z"
   },
   {
    "duration": 29,
    "start_time": "2022-09-14T01:26:00.979Z"
   },
   {
    "duration": 4,
    "start_time": "2022-09-14T01:26:15.370Z"
   },
   {
    "duration": 29,
    "start_time": "2022-09-14T01:26:17.754Z"
   },
   {
    "duration": 4,
    "start_time": "2022-09-14T01:27:54.048Z"
   },
   {
    "duration": 9,
    "start_time": "2022-09-14T01:27:54.673Z"
   },
   {
    "duration": 58,
    "start_time": "2022-09-14T01:30:39.536Z"
   },
   {
    "duration": 5,
    "start_time": "2022-09-14T01:30:44.648Z"
   },
   {
    "duration": 5,
    "start_time": "2022-09-14T01:30:50.296Z"
   },
   {
    "duration": 5,
    "start_time": "2022-09-14T01:30:51.856Z"
   },
   {
    "duration": 843,
    "start_time": "2022-09-14T01:31:32.495Z"
   },
   {
    "duration": 5,
    "start_time": "2022-09-14T01:31:46.871Z"
   },
   {
    "duration": 833,
    "start_time": "2022-09-14T01:31:47.319Z"
   },
   {
    "duration": 8,
    "start_time": "2022-09-14T01:31:58.426Z"
   },
   {
    "duration": 857,
    "start_time": "2022-09-14T01:31:58.815Z"
   },
   {
    "duration": 812,
    "start_time": "2022-09-14T01:32:10.956Z"
   },
   {
    "duration": 2389,
    "start_time": "2022-09-14T01:32:38.256Z"
   },
   {
    "duration": 1356,
    "start_time": "2022-09-14T01:32:52.668Z"
   },
   {
    "duration": 82,
    "start_time": "2022-09-14T01:32:54.027Z"
   },
   {
    "duration": 5,
    "start_time": "2022-09-14T01:32:54.110Z"
   },
   {
    "duration": 21,
    "start_time": "2022-09-14T01:32:54.118Z"
   },
   {
    "duration": 28,
    "start_time": "2022-09-14T01:32:54.141Z"
   },
   {
    "duration": 9,
    "start_time": "2022-09-14T01:32:54.171Z"
   },
   {
    "duration": 16,
    "start_time": "2022-09-14T01:32:54.182Z"
   },
   {
    "duration": 14,
    "start_time": "2022-09-14T01:32:54.200Z"
   },
   {
    "duration": 7,
    "start_time": "2022-09-14T01:32:54.216Z"
   },
   {
    "duration": 34,
    "start_time": "2022-09-14T01:32:54.226Z"
   },
   {
    "duration": 3,
    "start_time": "2022-09-14T01:32:54.261Z"
   },
   {
    "duration": 7,
    "start_time": "2022-09-14T01:32:54.266Z"
   },
   {
    "duration": 8,
    "start_time": "2022-09-14T01:32:54.275Z"
   },
   {
    "duration": 3139,
    "start_time": "2022-09-14T01:32:54.284Z"
   },
   {
    "duration": 4,
    "start_time": "2022-09-14T01:32:57.425Z"
   },
   {
    "duration": 23,
    "start_time": "2022-09-14T01:32:57.431Z"
   },
   {
    "duration": 8,
    "start_time": "2022-09-14T01:32:57.456Z"
   },
   {
    "duration": 7,
    "start_time": "2022-09-14T01:32:57.467Z"
   },
   {
    "duration": 12,
    "start_time": "2022-09-14T01:32:57.522Z"
   },
   {
    "duration": 89,
    "start_time": "2022-09-14T01:32:57.536Z"
   },
   {
    "duration": 28,
    "start_time": "2022-09-14T01:32:57.628Z"
   },
   {
    "duration": 84,
    "start_time": "2022-09-14T01:32:57.658Z"
   },
   {
    "duration": 14,
    "start_time": "2022-09-14T01:32:57.744Z"
   },
   {
    "duration": 11,
    "start_time": "2022-09-14T01:32:57.761Z"
   },
   {
    "duration": 91,
    "start_time": "2022-09-14T01:32:57.773Z"
   },
   {
    "duration": 1138,
    "start_time": "2022-09-14T01:32:57.866Z"
   },
   {
    "duration": 32,
    "start_time": "2022-09-14T01:32:59.007Z"
   },
   {
    "duration": 79,
    "start_time": "2022-09-14T01:32:59.043Z"
   },
   {
    "duration": 121,
    "start_time": "2022-09-14T01:32:59.124Z"
   },
   {
    "duration": 6,
    "start_time": "2022-09-14T01:32:59.246Z"
   },
   {
    "duration": 9,
    "start_time": "2022-09-14T01:32:59.254Z"
   },
   {
    "duration": 4,
    "start_time": "2022-09-14T01:32:59.265Z"
   },
   {
    "duration": 18,
    "start_time": "2022-09-14T01:32:59.271Z"
   },
   {
    "duration": 13,
    "start_time": "2022-09-14T01:32:59.291Z"
   },
   {
    "duration": 26,
    "start_time": "2022-09-14T01:32:59.305Z"
   },
   {
    "duration": 13,
    "start_time": "2022-09-14T01:32:59.334Z"
   },
   {
    "duration": 409,
    "start_time": "2022-09-14T01:32:59.421Z"
   },
   {
    "duration": 313,
    "start_time": "2022-09-14T01:32:59.832Z"
   },
   {
    "duration": 5,
    "start_time": "2022-09-14T01:33:00.147Z"
   },
   {
    "duration": 26,
    "start_time": "2022-09-14T01:33:00.153Z"
   },
   {
    "duration": 56,
    "start_time": "2022-09-14T01:33:00.181Z"
   },
   {
    "duration": 55,
    "start_time": "2022-09-14T01:33:00.239Z"
   },
   {
    "duration": 1043,
    "start_time": "2022-09-14T01:33:00.296Z"
   },
   {
    "duration": 85,
    "start_time": "2022-09-14T01:33:01.340Z"
   },
   {
    "duration": 97,
    "start_time": "2022-09-14T01:33:01.427Z"
   },
   {
    "duration": 38,
    "start_time": "2022-09-14T01:33:01.526Z"
   },
   {
    "duration": 18,
    "start_time": "2022-09-14T01:33:01.566Z"
   },
   {
    "duration": 26,
    "start_time": "2022-09-14T01:33:01.586Z"
   },
   {
    "duration": 86576,
    "start_time": "2022-09-14T01:33:01.621Z"
   },
   {
    "duration": 52,
    "start_time": "2022-09-14T01:34:28.199Z"
   },
   {
    "duration": 46,
    "start_time": "2022-09-14T01:34:28.253Z"
   },
   {
    "duration": 181,
    "start_time": "2022-09-14T01:34:28.302Z"
   },
   {
    "duration": 44,
    "start_time": "2022-09-14T01:34:28.485Z"
   },
   {
    "duration": 9,
    "start_time": "2022-09-14T01:34:28.533Z"
   },
   {
    "duration": 8,
    "start_time": "2022-09-14T01:34:40.037Z"
   },
   {
    "duration": 8,
    "start_time": "2022-09-14T01:34:42.309Z"
   },
   {
    "duration": 12,
    "start_time": "2022-09-14T01:34:48.892Z"
   },
   {
    "duration": 92,
    "start_time": "2022-09-14T01:35:23.517Z"
   },
   {
    "duration": 1461,
    "start_time": "2022-09-14T01:35:58.527Z"
   },
   {
    "duration": 88,
    "start_time": "2022-09-14T01:35:59.990Z"
   },
   {
    "duration": 5,
    "start_time": "2022-09-14T01:36:00.080Z"
   },
   {
    "duration": 18,
    "start_time": "2022-09-14T01:36:00.087Z"
   },
   {
    "duration": 24,
    "start_time": "2022-09-14T01:36:00.107Z"
   },
   {
    "duration": 14,
    "start_time": "2022-09-14T01:36:00.133Z"
   },
   {
    "duration": 27,
    "start_time": "2022-09-14T01:36:00.149Z"
   },
   {
    "duration": 14,
    "start_time": "2022-09-14T01:36:00.177Z"
   },
   {
    "duration": 20,
    "start_time": "2022-09-14T01:36:00.193Z"
   },
   {
    "duration": 28,
    "start_time": "2022-09-14T01:36:00.216Z"
   },
   {
    "duration": 6,
    "start_time": "2022-09-14T01:36:00.246Z"
   },
   {
    "duration": 13,
    "start_time": "2022-09-14T01:36:00.254Z"
   },
   {
    "duration": 41,
    "start_time": "2022-09-14T01:36:00.268Z"
   },
   {
    "duration": 4,
    "start_time": "2022-09-14T01:36:00.311Z"
   },
   {
    "duration": 3810,
    "start_time": "2022-09-14T01:36:00.317Z"
   },
   {
    "duration": 10,
    "start_time": "2022-09-14T01:36:04.128Z"
   },
   {
    "duration": 12,
    "start_time": "2022-09-14T01:36:04.140Z"
   },
   {
    "duration": 6,
    "start_time": "2022-09-14T01:36:04.154Z"
   },
   {
    "duration": 4,
    "start_time": "2022-09-14T01:36:04.162Z"
   },
   {
    "duration": 0,
    "start_time": "2022-09-14T01:36:04.168Z"
   },
   {
    "duration": 0,
    "start_time": "2022-09-14T01:36:04.170Z"
   },
   {
    "duration": 0,
    "start_time": "2022-09-14T01:36:04.172Z"
   },
   {
    "duration": 0,
    "start_time": "2022-09-14T01:36:04.172Z"
   },
   {
    "duration": 0,
    "start_time": "2022-09-14T01:36:04.174Z"
   },
   {
    "duration": 0,
    "start_time": "2022-09-14T01:36:04.175Z"
   },
   {
    "duration": 0,
    "start_time": "2022-09-14T01:36:04.176Z"
   },
   {
    "duration": 0,
    "start_time": "2022-09-14T01:36:04.177Z"
   },
   {
    "duration": 0,
    "start_time": "2022-09-14T01:36:04.179Z"
   },
   {
    "duration": 0,
    "start_time": "2022-09-14T01:36:04.180Z"
   },
   {
    "duration": 0,
    "start_time": "2022-09-14T01:36:04.181Z"
   },
   {
    "duration": 0,
    "start_time": "2022-09-14T01:36:04.230Z"
   },
   {
    "duration": 0,
    "start_time": "2022-09-14T01:36:04.232Z"
   },
   {
    "duration": 0,
    "start_time": "2022-09-14T01:36:04.233Z"
   },
   {
    "duration": 0,
    "start_time": "2022-09-14T01:36:04.235Z"
   },
   {
    "duration": 0,
    "start_time": "2022-09-14T01:36:04.236Z"
   },
   {
    "duration": 0,
    "start_time": "2022-09-14T01:36:04.238Z"
   },
   {
    "duration": 0,
    "start_time": "2022-09-14T01:36:04.239Z"
   },
   {
    "duration": 0,
    "start_time": "2022-09-14T01:36:04.240Z"
   },
   {
    "duration": 1,
    "start_time": "2022-09-14T01:36:04.241Z"
   },
   {
    "duration": 0,
    "start_time": "2022-09-14T01:36:04.242Z"
   },
   {
    "duration": 0,
    "start_time": "2022-09-14T01:36:04.244Z"
   },
   {
    "duration": 0,
    "start_time": "2022-09-14T01:36:04.245Z"
   },
   {
    "duration": 0,
    "start_time": "2022-09-14T01:36:04.246Z"
   },
   {
    "duration": 0,
    "start_time": "2022-09-14T01:36:04.247Z"
   },
   {
    "duration": 0,
    "start_time": "2022-09-14T01:36:04.249Z"
   },
   {
    "duration": 0,
    "start_time": "2022-09-14T01:36:04.251Z"
   },
   {
    "duration": 0,
    "start_time": "2022-09-14T01:36:04.252Z"
   },
   {
    "duration": 0,
    "start_time": "2022-09-14T01:36:04.254Z"
   },
   {
    "duration": 0,
    "start_time": "2022-09-14T01:36:04.255Z"
   },
   {
    "duration": 0,
    "start_time": "2022-09-14T01:36:04.257Z"
   },
   {
    "duration": 0,
    "start_time": "2022-09-14T01:36:04.259Z"
   },
   {
    "duration": 0,
    "start_time": "2022-09-14T01:36:04.260Z"
   },
   {
    "duration": 0,
    "start_time": "2022-09-14T01:36:04.261Z"
   },
   {
    "duration": 1,
    "start_time": "2022-09-14T01:36:04.263Z"
   },
   {
    "duration": 10,
    "start_time": "2022-09-14T01:36:23.033Z"
   },
   {
    "duration": 8,
    "start_time": "2022-09-14T01:36:45.841Z"
   },
   {
    "duration": 14,
    "start_time": "2022-09-14T01:36:47.521Z"
   },
   {
    "duration": 1393,
    "start_time": "2022-09-14T01:36:51.377Z"
   },
   {
    "duration": 92,
    "start_time": "2022-09-14T01:36:52.772Z"
   },
   {
    "duration": 71,
    "start_time": "2022-09-14T01:36:52.866Z"
   },
   {
    "duration": 5,
    "start_time": "2022-09-14T01:36:52.939Z"
   },
   {
    "duration": 7,
    "start_time": "2022-09-14T01:36:52.946Z"
   },
   {
    "duration": 3,
    "start_time": "2022-09-14T01:36:52.955Z"
   },
   {
    "duration": 13,
    "start_time": "2022-09-14T01:36:52.960Z"
   },
   {
    "duration": 22,
    "start_time": "2022-09-14T01:36:53.020Z"
   },
   {
    "duration": 28,
    "start_time": "2022-09-14T01:36:53.043Z"
   },
   {
    "duration": 70,
    "start_time": "2022-09-14T01:36:53.072Z"
   },
   {
    "duration": 24,
    "start_time": "2022-09-14T01:36:53.144Z"
   },
   {
    "duration": 53,
    "start_time": "2022-09-14T01:36:53.170Z"
   },
   {
    "duration": 31,
    "start_time": "2022-09-14T01:36:53.225Z"
   },
   {
    "duration": 45,
    "start_time": "2022-09-14T01:36:53.278Z"
   },
   {
    "duration": 30,
    "start_time": "2022-09-14T01:36:53.325Z"
   },
   {
    "duration": 3209,
    "start_time": "2022-09-14T01:36:53.357Z"
   },
   {
    "duration": 5,
    "start_time": "2022-09-14T01:36:56.568Z"
   },
   {
    "duration": 50,
    "start_time": "2022-09-14T01:36:56.574Z"
   },
   {
    "duration": 46,
    "start_time": "2022-09-14T01:36:56.627Z"
   },
   {
    "duration": 29,
    "start_time": "2022-09-14T01:36:56.675Z"
   },
   {
    "duration": 0,
    "start_time": "2022-09-14T01:36:56.706Z"
   },
   {
    "duration": 0,
    "start_time": "2022-09-14T01:36:56.708Z"
   },
   {
    "duration": 0,
    "start_time": "2022-09-14T01:36:56.709Z"
   },
   {
    "duration": 0,
    "start_time": "2022-09-14T01:36:56.711Z"
   },
   {
    "duration": 0,
    "start_time": "2022-09-14T01:36:56.712Z"
   },
   {
    "duration": 0,
    "start_time": "2022-09-14T01:36:56.713Z"
   },
   {
    "duration": 0,
    "start_time": "2022-09-14T01:36:56.715Z"
   },
   {
    "duration": 0,
    "start_time": "2022-09-14T01:36:56.716Z"
   },
   {
    "duration": 0,
    "start_time": "2022-09-14T01:36:56.718Z"
   },
   {
    "duration": 0,
    "start_time": "2022-09-14T01:36:56.720Z"
   },
   {
    "duration": 0,
    "start_time": "2022-09-14T01:36:56.721Z"
   },
   {
    "duration": 0,
    "start_time": "2022-09-14T01:36:56.722Z"
   },
   {
    "duration": 0,
    "start_time": "2022-09-14T01:36:56.723Z"
   },
   {
    "duration": 0,
    "start_time": "2022-09-14T01:36:56.724Z"
   },
   {
    "duration": 0,
    "start_time": "2022-09-14T01:36:56.726Z"
   },
   {
    "duration": 0,
    "start_time": "2022-09-14T01:36:56.727Z"
   },
   {
    "duration": 0,
    "start_time": "2022-09-14T01:36:56.728Z"
   },
   {
    "duration": 0,
    "start_time": "2022-09-14T01:36:56.730Z"
   },
   {
    "duration": 0,
    "start_time": "2022-09-14T01:36:56.731Z"
   },
   {
    "duration": 0,
    "start_time": "2022-09-14T01:36:56.733Z"
   },
   {
    "duration": 0,
    "start_time": "2022-09-14T01:36:56.734Z"
   },
   {
    "duration": 0,
    "start_time": "2022-09-14T01:36:56.736Z"
   },
   {
    "duration": 0,
    "start_time": "2022-09-14T01:36:56.737Z"
   },
   {
    "duration": 0,
    "start_time": "2022-09-14T01:36:56.739Z"
   },
   {
    "duration": 0,
    "start_time": "2022-09-14T01:36:56.740Z"
   },
   {
    "duration": 0,
    "start_time": "2022-09-14T01:36:56.741Z"
   },
   {
    "duration": 0,
    "start_time": "2022-09-14T01:36:56.742Z"
   },
   {
    "duration": 0,
    "start_time": "2022-09-14T01:36:56.744Z"
   },
   {
    "duration": 0,
    "start_time": "2022-09-14T01:36:56.745Z"
   },
   {
    "duration": 0,
    "start_time": "2022-09-14T01:36:56.746Z"
   },
   {
    "duration": 0,
    "start_time": "2022-09-14T01:36:56.748Z"
   },
   {
    "duration": 0,
    "start_time": "2022-09-14T01:36:56.749Z"
   },
   {
    "duration": 0,
    "start_time": "2022-09-14T01:36:56.751Z"
   },
   {
    "duration": 0,
    "start_time": "2022-09-14T01:36:56.752Z"
   },
   {
    "duration": 0,
    "start_time": "2022-09-14T01:36:56.754Z"
   },
   {
    "duration": 113,
    "start_time": "2022-09-14T01:39:16.459Z"
   },
   {
    "duration": 5,
    "start_time": "2022-09-14T01:40:34.602Z"
   },
   {
    "duration": 5,
    "start_time": "2022-09-14T01:40:36.058Z"
   },
   {
    "duration": 8,
    "start_time": "2022-09-14T01:40:37.890Z"
   },
   {
    "duration": 1446,
    "start_time": "2022-09-14T01:40:53.000Z"
   },
   {
    "duration": 84,
    "start_time": "2022-09-14T01:40:54.448Z"
   },
   {
    "duration": 6,
    "start_time": "2022-09-14T01:40:54.535Z"
   },
   {
    "duration": 6,
    "start_time": "2022-09-14T01:40:54.543Z"
   },
   {
    "duration": 7,
    "start_time": "2022-09-14T01:40:54.551Z"
   },
   {
    "duration": 3,
    "start_time": "2022-09-14T01:40:54.560Z"
   },
   {
    "duration": 15,
    "start_time": "2022-09-14T01:40:54.565Z"
   },
   {
    "duration": 41,
    "start_time": "2022-09-14T01:40:54.582Z"
   },
   {
    "duration": 19,
    "start_time": "2022-09-14T01:40:54.625Z"
   },
   {
    "duration": 24,
    "start_time": "2022-09-14T01:40:54.647Z"
   },
   {
    "duration": 4,
    "start_time": "2022-09-14T01:40:54.673Z"
   },
   {
    "duration": 19,
    "start_time": "2022-09-14T01:40:54.679Z"
   },
   {
    "duration": 14,
    "start_time": "2022-09-14T01:40:54.699Z"
   },
   {
    "duration": 6,
    "start_time": "2022-09-14T01:40:54.715Z"
   },
   {
    "duration": 17,
    "start_time": "2022-09-14T01:40:54.723Z"
   },
   {
    "duration": 3546,
    "start_time": "2022-09-14T01:40:54.742Z"
   },
   {
    "duration": 5,
    "start_time": "2022-09-14T01:40:58.290Z"
   },
   {
    "duration": 11,
    "start_time": "2022-09-14T01:40:58.297Z"
   },
   {
    "duration": 8,
    "start_time": "2022-09-14T01:40:58.322Z"
   },
   {
    "duration": 10,
    "start_time": "2022-09-14T01:40:58.331Z"
   },
   {
    "duration": 0,
    "start_time": "2022-09-14T01:40:58.344Z"
   },
   {
    "duration": 0,
    "start_time": "2022-09-14T01:40:58.346Z"
   },
   {
    "duration": 0,
    "start_time": "2022-09-14T01:40:58.347Z"
   },
   {
    "duration": 0,
    "start_time": "2022-09-14T01:40:58.348Z"
   },
   {
    "duration": 0,
    "start_time": "2022-09-14T01:40:58.350Z"
   },
   {
    "duration": 0,
    "start_time": "2022-09-14T01:40:58.351Z"
   },
   {
    "duration": 0,
    "start_time": "2022-09-14T01:40:58.352Z"
   },
   {
    "duration": 0,
    "start_time": "2022-09-14T01:40:58.354Z"
   },
   {
    "duration": 0,
    "start_time": "2022-09-14T01:40:58.355Z"
   },
   {
    "duration": 0,
    "start_time": "2022-09-14T01:40:58.356Z"
   },
   {
    "duration": 0,
    "start_time": "2022-09-14T01:40:58.357Z"
   },
   {
    "duration": 0,
    "start_time": "2022-09-14T01:40:58.359Z"
   },
   {
    "duration": 0,
    "start_time": "2022-09-14T01:40:58.360Z"
   },
   {
    "duration": 0,
    "start_time": "2022-09-14T01:40:58.361Z"
   },
   {
    "duration": 0,
    "start_time": "2022-09-14T01:40:58.362Z"
   },
   {
    "duration": 0,
    "start_time": "2022-09-14T01:40:58.363Z"
   },
   {
    "duration": 0,
    "start_time": "2022-09-14T01:40:58.364Z"
   },
   {
    "duration": 0,
    "start_time": "2022-09-14T01:40:58.365Z"
   },
   {
    "duration": 0,
    "start_time": "2022-09-14T01:40:58.366Z"
   },
   {
    "duration": 0,
    "start_time": "2022-09-14T01:40:58.367Z"
   },
   {
    "duration": 0,
    "start_time": "2022-09-14T01:40:58.368Z"
   },
   {
    "duration": 0,
    "start_time": "2022-09-14T01:40:58.370Z"
   },
   {
    "duration": 0,
    "start_time": "2022-09-14T01:40:58.371Z"
   },
   {
    "duration": 0,
    "start_time": "2022-09-14T01:40:58.372Z"
   },
   {
    "duration": 0,
    "start_time": "2022-09-14T01:40:58.373Z"
   },
   {
    "duration": 0,
    "start_time": "2022-09-14T01:40:58.422Z"
   },
   {
    "duration": 0,
    "start_time": "2022-09-14T01:40:58.423Z"
   },
   {
    "duration": 0,
    "start_time": "2022-09-14T01:40:58.425Z"
   },
   {
    "duration": 0,
    "start_time": "2022-09-14T01:40:58.426Z"
   },
   {
    "duration": 0,
    "start_time": "2022-09-14T01:40:58.427Z"
   },
   {
    "duration": 0,
    "start_time": "2022-09-14T01:40:58.429Z"
   },
   {
    "duration": 0,
    "start_time": "2022-09-14T01:40:58.430Z"
   },
   {
    "duration": 0,
    "start_time": "2022-09-14T01:40:58.431Z"
   },
   {
    "duration": 0,
    "start_time": "2022-09-14T01:40:58.432Z"
   },
   {
    "duration": 0,
    "start_time": "2022-09-14T01:40:58.433Z"
   },
   {
    "duration": 1561,
    "start_time": "2022-09-14T01:41:37.048Z"
   },
   {
    "duration": 4,
    "start_time": "2022-09-14T01:41:47.071Z"
   },
   {
    "duration": 1778,
    "start_time": "2022-09-14T01:41:47.775Z"
   },
   {
    "duration": 5,
    "start_time": "2022-09-14T01:42:52.062Z"
   },
   {
    "duration": 1751,
    "start_time": "2022-09-14T01:42:53.392Z"
   },
   {
    "duration": 2664,
    "start_time": "2022-09-14T01:42:57.975Z"
   },
   {
    "duration": 12,
    "start_time": "2022-09-14T01:44:04.550Z"
   },
   {
    "duration": 8,
    "start_time": "2022-09-14T01:44:06.286Z"
   },
   {
    "duration": 8,
    "start_time": "2022-09-14T01:44:18.236Z"
   },
   {
    "duration": 12,
    "start_time": "2022-09-14T01:44:18.942Z"
   },
   {
    "duration": 1373,
    "start_time": "2022-09-14T01:44:24.121Z"
   },
   {
    "duration": 85,
    "start_time": "2022-09-14T01:44:25.496Z"
   },
   {
    "duration": 5,
    "start_time": "2022-09-14T01:44:25.582Z"
   },
   {
    "duration": 8,
    "start_time": "2022-09-14T01:44:25.589Z"
   },
   {
    "duration": 22,
    "start_time": "2022-09-14T01:44:25.598Z"
   },
   {
    "duration": 4,
    "start_time": "2022-09-14T01:44:25.630Z"
   },
   {
    "duration": 18,
    "start_time": "2022-09-14T01:44:25.636Z"
   },
   {
    "duration": 13,
    "start_time": "2022-09-14T01:44:25.656Z"
   },
   {
    "duration": 5,
    "start_time": "2022-09-14T01:44:25.671Z"
   },
   {
    "duration": 19,
    "start_time": "2022-09-14T01:44:25.679Z"
   },
   {
    "duration": 24,
    "start_time": "2022-09-14T01:44:25.700Z"
   },
   {
    "duration": 22,
    "start_time": "2022-09-14T01:44:25.725Z"
   },
   {
    "duration": 11,
    "start_time": "2022-09-14T01:44:25.748Z"
   },
   {
    "duration": 5,
    "start_time": "2022-09-14T01:44:25.760Z"
   },
   {
    "duration": 7,
    "start_time": "2022-09-14T01:44:25.766Z"
   },
   {
    "duration": 2632,
    "start_time": "2022-09-14T01:44:25.774Z"
   },
   {
    "duration": 5,
    "start_time": "2022-09-14T01:44:28.408Z"
   },
   {
    "duration": 10,
    "start_time": "2022-09-14T01:44:28.421Z"
   },
   {
    "duration": 8,
    "start_time": "2022-09-14T01:44:28.436Z"
   },
   {
    "duration": 7,
    "start_time": "2022-09-14T01:44:28.445Z"
   },
   {
    "duration": 0,
    "start_time": "2022-09-14T01:44:28.455Z"
   },
   {
    "duration": 0,
    "start_time": "2022-09-14T01:44:28.456Z"
   },
   {
    "duration": 0,
    "start_time": "2022-09-14T01:44:28.457Z"
   },
   {
    "duration": 0,
    "start_time": "2022-09-14T01:44:28.458Z"
   },
   {
    "duration": 0,
    "start_time": "2022-09-14T01:44:28.459Z"
   },
   {
    "duration": 0,
    "start_time": "2022-09-14T01:44:28.461Z"
   },
   {
    "duration": 0,
    "start_time": "2022-09-14T01:44:28.463Z"
   },
   {
    "duration": 0,
    "start_time": "2022-09-14T01:44:28.464Z"
   },
   {
    "duration": 0,
    "start_time": "2022-09-14T01:44:28.465Z"
   },
   {
    "duration": 0,
    "start_time": "2022-09-14T01:44:28.467Z"
   },
   {
    "duration": 0,
    "start_time": "2022-09-14T01:44:28.468Z"
   },
   {
    "duration": 0,
    "start_time": "2022-09-14T01:44:28.470Z"
   },
   {
    "duration": 0,
    "start_time": "2022-09-14T01:44:28.471Z"
   },
   {
    "duration": 0,
    "start_time": "2022-09-14T01:44:28.473Z"
   },
   {
    "duration": 0,
    "start_time": "2022-09-14T01:44:28.475Z"
   },
   {
    "duration": 0,
    "start_time": "2022-09-14T01:44:28.476Z"
   },
   {
    "duration": 0,
    "start_time": "2022-09-14T01:44:28.521Z"
   },
   {
    "duration": 0,
    "start_time": "2022-09-14T01:44:28.523Z"
   },
   {
    "duration": 0,
    "start_time": "2022-09-14T01:44:28.525Z"
   },
   {
    "duration": 0,
    "start_time": "2022-09-14T01:44:28.526Z"
   },
   {
    "duration": 0,
    "start_time": "2022-09-14T01:44:28.528Z"
   },
   {
    "duration": 0,
    "start_time": "2022-09-14T01:44:28.529Z"
   },
   {
    "duration": 0,
    "start_time": "2022-09-14T01:44:28.531Z"
   },
   {
    "duration": 0,
    "start_time": "2022-09-14T01:44:28.532Z"
   },
   {
    "duration": 0,
    "start_time": "2022-09-14T01:44:28.533Z"
   },
   {
    "duration": 0,
    "start_time": "2022-09-14T01:44:28.535Z"
   },
   {
    "duration": 0,
    "start_time": "2022-09-14T01:44:28.536Z"
   },
   {
    "duration": 0,
    "start_time": "2022-09-14T01:44:28.538Z"
   },
   {
    "duration": 0,
    "start_time": "2022-09-14T01:44:28.539Z"
   },
   {
    "duration": 1,
    "start_time": "2022-09-14T01:44:28.540Z"
   },
   {
    "duration": 0,
    "start_time": "2022-09-14T01:44:28.543Z"
   },
   {
    "duration": 0,
    "start_time": "2022-09-14T01:44:28.544Z"
   },
   {
    "duration": 0,
    "start_time": "2022-09-14T01:44:28.546Z"
   },
   {
    "duration": 0,
    "start_time": "2022-09-14T01:44:28.547Z"
   },
   {
    "duration": 0,
    "start_time": "2022-09-14T01:44:28.549Z"
   },
   {
    "duration": 18,
    "start_time": "2022-09-14T01:44:54.282Z"
   },
   {
    "duration": 7,
    "start_time": "2022-09-14T01:44:59.875Z"
   },
   {
    "duration": 25,
    "start_time": "2022-09-14T01:45:20.050Z"
   },
   {
    "duration": 5,
    "start_time": "2022-09-14T02:08:26.362Z"
   },
   {
    "duration": 3,
    "start_time": "2022-09-14T02:08:28.609Z"
   },
   {
    "duration": 6,
    "start_time": "2022-09-14T02:08:29.138Z"
   },
   {
    "duration": 7,
    "start_time": "2022-09-14T02:08:30.161Z"
   },
   {
    "duration": 5,
    "start_time": "2022-09-14T02:08:31.080Z"
   },
   {
    "duration": 2707,
    "start_time": "2022-09-14T02:08:32.497Z"
   },
   {
    "duration": 5,
    "start_time": "2022-09-14T02:10:27.402Z"
   },
   {
    "duration": 5,
    "start_time": "2022-09-14T02:10:28.296Z"
   },
   {
    "duration": 2679,
    "start_time": "2022-09-14T02:10:29.577Z"
   },
   {
    "duration": 1367,
    "start_time": "2022-09-14T02:10:35.790Z"
   },
   {
    "duration": 85,
    "start_time": "2022-09-14T02:10:37.159Z"
   },
   {
    "duration": 5,
    "start_time": "2022-09-14T02:10:37.246Z"
   },
   {
    "duration": 6,
    "start_time": "2022-09-14T02:10:37.253Z"
   },
   {
    "duration": 9,
    "start_time": "2022-09-14T02:10:37.260Z"
   },
   {
    "duration": 11,
    "start_time": "2022-09-14T02:10:37.270Z"
   },
   {
    "duration": 49,
    "start_time": "2022-09-14T02:10:37.282Z"
   },
   {
    "duration": 3,
    "start_time": "2022-09-14T02:10:37.335Z"
   },
   {
    "duration": 19,
    "start_time": "2022-09-14T02:10:37.340Z"
   },
   {
    "duration": 13,
    "start_time": "2022-09-14T02:10:37.363Z"
   },
   {
    "duration": 6,
    "start_time": "2022-09-14T02:10:37.378Z"
   },
   {
    "duration": 51,
    "start_time": "2022-09-14T02:10:37.386Z"
   },
   {
    "duration": 6,
    "start_time": "2022-09-14T02:10:37.440Z"
   },
   {
    "duration": 10,
    "start_time": "2022-09-14T02:10:37.448Z"
   },
   {
    "duration": 147,
    "start_time": "2022-09-14T02:10:37.461Z"
   },
   {
    "duration": 0,
    "start_time": "2022-09-14T02:10:37.610Z"
   },
   {
    "duration": 0,
    "start_time": "2022-09-14T02:10:37.611Z"
   },
   {
    "duration": 0,
    "start_time": "2022-09-14T02:10:37.630Z"
   },
   {
    "duration": 0,
    "start_time": "2022-09-14T02:10:37.631Z"
   },
   {
    "duration": 0,
    "start_time": "2022-09-14T02:10:37.632Z"
   },
   {
    "duration": 0,
    "start_time": "2022-09-14T02:10:37.635Z"
   },
   {
    "duration": 0,
    "start_time": "2022-09-14T02:10:37.636Z"
   },
   {
    "duration": 0,
    "start_time": "2022-09-14T02:10:37.638Z"
   },
   {
    "duration": 0,
    "start_time": "2022-09-14T02:10:37.640Z"
   },
   {
    "duration": 0,
    "start_time": "2022-09-14T02:10:37.642Z"
   },
   {
    "duration": 0,
    "start_time": "2022-09-14T02:10:37.643Z"
   },
   {
    "duration": 0,
    "start_time": "2022-09-14T02:10:37.644Z"
   },
   {
    "duration": 0,
    "start_time": "2022-09-14T02:10:37.646Z"
   },
   {
    "duration": 0,
    "start_time": "2022-09-14T02:10:37.647Z"
   },
   {
    "duration": 0,
    "start_time": "2022-09-14T02:10:37.649Z"
   },
   {
    "duration": 0,
    "start_time": "2022-09-14T02:10:37.651Z"
   },
   {
    "duration": 0,
    "start_time": "2022-09-14T02:10:37.652Z"
   },
   {
    "duration": 0,
    "start_time": "2022-09-14T02:10:37.653Z"
   },
   {
    "duration": 0,
    "start_time": "2022-09-14T02:10:37.655Z"
   },
   {
    "duration": 0,
    "start_time": "2022-09-14T02:10:37.656Z"
   },
   {
    "duration": 0,
    "start_time": "2022-09-14T02:10:37.657Z"
   },
   {
    "duration": 0,
    "start_time": "2022-09-14T02:10:37.659Z"
   },
   {
    "duration": 0,
    "start_time": "2022-09-14T02:10:37.660Z"
   },
   {
    "duration": 0,
    "start_time": "2022-09-14T02:10:37.662Z"
   },
   {
    "duration": 0,
    "start_time": "2022-09-14T02:10:37.663Z"
   },
   {
    "duration": 0,
    "start_time": "2022-09-14T02:10:37.664Z"
   },
   {
    "duration": 0,
    "start_time": "2022-09-14T02:10:37.666Z"
   },
   {
    "duration": 0,
    "start_time": "2022-09-14T02:10:37.667Z"
   },
   {
    "duration": 0,
    "start_time": "2022-09-14T02:10:37.669Z"
   },
   {
    "duration": 0,
    "start_time": "2022-09-14T02:10:37.670Z"
   },
   {
    "duration": 0,
    "start_time": "2022-09-14T02:10:37.671Z"
   },
   {
    "duration": 0,
    "start_time": "2022-09-14T02:10:37.672Z"
   },
   {
    "duration": 0,
    "start_time": "2022-09-14T02:10:37.725Z"
   },
   {
    "duration": 0,
    "start_time": "2022-09-14T02:10:37.726Z"
   },
   {
    "duration": 0,
    "start_time": "2022-09-14T02:10:37.727Z"
   },
   {
    "duration": 0,
    "start_time": "2022-09-14T02:10:37.728Z"
   },
   {
    "duration": 0,
    "start_time": "2022-09-14T02:10:37.729Z"
   },
   {
    "duration": 0,
    "start_time": "2022-09-14T02:10:37.730Z"
   },
   {
    "duration": 0,
    "start_time": "2022-09-14T02:10:37.731Z"
   },
   {
    "duration": 41,
    "start_time": "2022-09-14T02:10:50.417Z"
   },
   {
    "duration": 8,
    "start_time": "2022-09-14T02:11:04.235Z"
   },
   {
    "duration": 7,
    "start_time": "2022-09-14T02:11:05.333Z"
   },
   {
    "duration": 30,
    "start_time": "2022-09-14T02:11:06.585Z"
   },
   {
    "duration": 60,
    "start_time": "2022-09-14T02:11:29.184Z"
   },
   {
    "duration": 5,
    "start_time": "2022-09-14T02:11:33.601Z"
   },
   {
    "duration": 1471,
    "start_time": "2022-09-14T02:12:47.701Z"
   },
   {
    "duration": 87,
    "start_time": "2022-09-14T02:12:49.174Z"
   },
   {
    "duration": 5,
    "start_time": "2022-09-14T02:12:49.263Z"
   },
   {
    "duration": 5,
    "start_time": "2022-09-14T02:12:49.271Z"
   },
   {
    "duration": 8,
    "start_time": "2022-09-14T02:12:49.277Z"
   },
   {
    "duration": 14,
    "start_time": "2022-09-14T02:12:49.286Z"
   },
   {
    "duration": 47,
    "start_time": "2022-09-14T02:12:49.302Z"
   },
   {
    "duration": 3,
    "start_time": "2022-09-14T02:12:49.350Z"
   },
   {
    "duration": 18,
    "start_time": "2022-09-14T02:12:49.355Z"
   },
   {
    "duration": 13,
    "start_time": "2022-09-14T02:12:49.377Z"
   },
   {
    "duration": 42,
    "start_time": "2022-09-14T02:12:49.392Z"
   },
   {
    "duration": 23,
    "start_time": "2022-09-14T02:12:49.436Z"
   },
   {
    "duration": 2,
    "start_time": "2022-09-14T02:12:49.461Z"
   },
   {
    "duration": 8,
    "start_time": "2022-09-14T02:12:49.465Z"
   },
   {
    "duration": 7,
    "start_time": "2022-09-14T02:12:49.475Z"
   },
   {
    "duration": 5,
    "start_time": "2022-09-14T02:12:49.484Z"
   },
   {
    "duration": 2919,
    "start_time": "2022-09-14T02:12:49.491Z"
   },
   {
    "duration": 18,
    "start_time": "2022-09-14T02:12:52.412Z"
   },
   {
    "duration": 19,
    "start_time": "2022-09-14T02:12:52.434Z"
   },
   {
    "duration": 7,
    "start_time": "2022-09-14T02:12:52.455Z"
   },
   {
    "duration": 8,
    "start_time": "2022-09-14T02:12:52.463Z"
   },
   {
    "duration": 0,
    "start_time": "2022-09-14T02:12:52.473Z"
   },
   {
    "duration": 0,
    "start_time": "2022-09-14T02:12:52.475Z"
   },
   {
    "duration": 0,
    "start_time": "2022-09-14T02:12:52.476Z"
   },
   {
    "duration": 0,
    "start_time": "2022-09-14T02:12:52.477Z"
   },
   {
    "duration": 0,
    "start_time": "2022-09-14T02:12:52.478Z"
   },
   {
    "duration": 0,
    "start_time": "2022-09-14T02:12:52.480Z"
   },
   {
    "duration": 0,
    "start_time": "2022-09-14T02:12:52.481Z"
   },
   {
    "duration": 0,
    "start_time": "2022-09-14T02:12:52.483Z"
   },
   {
    "duration": 0,
    "start_time": "2022-09-14T02:12:52.483Z"
   },
   {
    "duration": 0,
    "start_time": "2022-09-14T02:12:52.484Z"
   },
   {
    "duration": 0,
    "start_time": "2022-09-14T02:12:52.485Z"
   },
   {
    "duration": 0,
    "start_time": "2022-09-14T02:12:52.486Z"
   },
   {
    "duration": 0,
    "start_time": "2022-09-14T02:12:52.488Z"
   },
   {
    "duration": 0,
    "start_time": "2022-09-14T02:12:52.489Z"
   },
   {
    "duration": 0,
    "start_time": "2022-09-14T02:12:52.490Z"
   },
   {
    "duration": 0,
    "start_time": "2022-09-14T02:12:52.491Z"
   },
   {
    "duration": 0,
    "start_time": "2022-09-14T02:12:52.492Z"
   },
   {
    "duration": 0,
    "start_time": "2022-09-14T02:12:52.493Z"
   },
   {
    "duration": 0,
    "start_time": "2022-09-14T02:12:52.494Z"
   },
   {
    "duration": 0,
    "start_time": "2022-09-14T02:12:52.495Z"
   },
   {
    "duration": 0,
    "start_time": "2022-09-14T02:12:52.496Z"
   },
   {
    "duration": 0,
    "start_time": "2022-09-14T02:12:52.497Z"
   },
   {
    "duration": 0,
    "start_time": "2022-09-14T02:12:52.538Z"
   },
   {
    "duration": 0,
    "start_time": "2022-09-14T02:12:52.540Z"
   },
   {
    "duration": 0,
    "start_time": "2022-09-14T02:12:52.541Z"
   },
   {
    "duration": 0,
    "start_time": "2022-09-14T02:12:52.542Z"
   },
   {
    "duration": 0,
    "start_time": "2022-09-14T02:12:52.543Z"
   },
   {
    "duration": 0,
    "start_time": "2022-09-14T02:12:52.544Z"
   },
   {
    "duration": 0,
    "start_time": "2022-09-14T02:12:52.546Z"
   },
   {
    "duration": 0,
    "start_time": "2022-09-14T02:12:52.547Z"
   },
   {
    "duration": 0,
    "start_time": "2022-09-14T02:12:52.548Z"
   },
   {
    "duration": 0,
    "start_time": "2022-09-14T02:12:52.549Z"
   },
   {
    "duration": 0,
    "start_time": "2022-09-14T02:12:52.550Z"
   },
   {
    "duration": 0,
    "start_time": "2022-09-14T02:12:52.552Z"
   },
   {
    "duration": 0,
    "start_time": "2022-09-14T02:12:52.553Z"
   },
   {
    "duration": 119,
    "start_time": "2022-09-14T02:14:57.699Z"
   },
   {
    "duration": 25,
    "start_time": "2022-09-14T02:15:34.307Z"
   },
   {
    "duration": 5,
    "start_time": "2022-09-14T02:16:01.556Z"
   },
   {
    "duration": 6,
    "start_time": "2022-09-14T02:16:44.803Z"
   },
   {
    "duration": 23,
    "start_time": "2022-09-14T02:19:12.818Z"
   },
   {
    "duration": 850,
    "start_time": "2022-09-14T02:19:40.593Z"
   },
   {
    "duration": 5,
    "start_time": "2022-09-14T02:19:50.906Z"
   },
   {
    "duration": 6,
    "start_time": "2022-09-14T02:20:00.740Z"
   },
   {
    "duration": 6,
    "start_time": "2022-09-14T02:20:14.905Z"
   },
   {
    "duration": 6,
    "start_time": "2022-09-14T02:20:21.638Z"
   },
   {
    "duration": 945,
    "start_time": "2022-09-14T02:20:27.905Z"
   },
   {
    "duration": 7,
    "start_time": "2022-09-14T02:20:40.133Z"
   },
   {
    "duration": 6,
    "start_time": "2022-09-14T02:20:45.961Z"
   },
   {
    "duration": 6,
    "start_time": "2022-09-14T02:20:51.472Z"
   },
   {
    "duration": 6,
    "start_time": "2022-09-14T02:20:57.344Z"
   },
   {
    "duration": 6,
    "start_time": "2022-09-14T02:21:02.208Z"
   },
   {
    "duration": 193,
    "start_time": "2022-09-14T02:21:09.712Z"
   },
   {
    "duration": 903,
    "start_time": "2022-09-14T02:22:21.776Z"
   },
   {
    "duration": 4,
    "start_time": "2022-09-14T02:22:51.656Z"
   },
   {
    "duration": 5,
    "start_time": "2022-09-14T02:22:52.556Z"
   },
   {
    "duration": 886,
    "start_time": "2022-09-14T02:22:52.800Z"
   },
   {
    "duration": 1806,
    "start_time": "2022-09-14T02:23:00.080Z"
   },
   {
    "duration": 5,
    "start_time": "2022-09-14T02:23:11.063Z"
   },
   {
    "duration": 5,
    "start_time": "2022-09-14T02:23:11.799Z"
   },
   {
    "duration": 1777,
    "start_time": "2022-09-14T02:23:12.191Z"
   },
   {
    "duration": 6,
    "start_time": "2022-09-14T02:23:27.827Z"
   },
   {
    "duration": 5,
    "start_time": "2022-09-14T02:23:28.815Z"
   },
   {
    "duration": 1748,
    "start_time": "2022-09-14T02:23:29.230Z"
   },
   {
    "duration": 5,
    "start_time": "2022-09-14T02:23:39.463Z"
   },
   {
    "duration": 14,
    "start_time": "2022-09-14T02:23:40.220Z"
   },
   {
    "duration": 6,
    "start_time": "2022-09-14T02:26:18.302Z"
   },
   {
    "duration": 22,
    "start_time": "2022-09-14T02:28:29.942Z"
   },
   {
    "duration": 9,
    "start_time": "2022-09-14T02:28:50.237Z"
   },
   {
    "duration": 18,
    "start_time": "2022-09-14T02:29:00.109Z"
   },
   {
    "duration": 28,
    "start_time": "2022-09-14T02:29:04.070Z"
   },
   {
    "duration": 30,
    "start_time": "2022-09-14T02:30:04.573Z"
   },
   {
    "duration": 52,
    "start_time": "2022-09-14T12:43:47.968Z"
   },
   {
    "duration": 1506,
    "start_time": "2022-09-14T12:43:53.238Z"
   },
   {
    "duration": 112,
    "start_time": "2022-09-14T12:43:54.746Z"
   },
   {
    "duration": 5,
    "start_time": "2022-09-14T12:43:54.860Z"
   },
   {
    "duration": 6,
    "start_time": "2022-09-14T12:43:54.868Z"
   },
   {
    "duration": 14,
    "start_time": "2022-09-14T12:43:54.875Z"
   },
   {
    "duration": 7,
    "start_time": "2022-09-14T12:43:54.891Z"
   },
   {
    "duration": 22,
    "start_time": "2022-09-14T12:43:54.900Z"
   },
   {
    "duration": 130,
    "start_time": "2022-09-14T12:43:54.923Z"
   },
   {
    "duration": 0,
    "start_time": "2022-09-14T12:43:55.056Z"
   },
   {
    "duration": 0,
    "start_time": "2022-09-14T12:43:55.057Z"
   },
   {
    "duration": 0,
    "start_time": "2022-09-14T12:43:55.058Z"
   },
   {
    "duration": 0,
    "start_time": "2022-09-14T12:43:55.060Z"
   },
   {
    "duration": 0,
    "start_time": "2022-09-14T12:43:55.061Z"
   },
   {
    "duration": 0,
    "start_time": "2022-09-14T12:43:55.062Z"
   },
   {
    "duration": 0,
    "start_time": "2022-09-14T12:43:55.063Z"
   },
   {
    "duration": 0,
    "start_time": "2022-09-14T12:43:55.064Z"
   },
   {
    "duration": 0,
    "start_time": "2022-09-14T12:43:55.065Z"
   },
   {
    "duration": 0,
    "start_time": "2022-09-14T12:43:55.066Z"
   },
   {
    "duration": 0,
    "start_time": "2022-09-14T12:43:55.067Z"
   },
   {
    "duration": 0,
    "start_time": "2022-09-14T12:43:55.068Z"
   },
   {
    "duration": 1,
    "start_time": "2022-09-14T12:43:55.068Z"
   },
   {
    "duration": 0,
    "start_time": "2022-09-14T12:43:55.069Z"
   },
   {
    "duration": 0,
    "start_time": "2022-09-14T12:43:55.070Z"
   },
   {
    "duration": 0,
    "start_time": "2022-09-14T12:43:55.071Z"
   },
   {
    "duration": 0,
    "start_time": "2022-09-14T12:43:55.072Z"
   },
   {
    "duration": 0,
    "start_time": "2022-09-14T12:43:55.073Z"
   },
   {
    "duration": 0,
    "start_time": "2022-09-14T12:43:55.074Z"
   },
   {
    "duration": 0,
    "start_time": "2022-09-14T12:43:55.075Z"
   },
   {
    "duration": 0,
    "start_time": "2022-09-14T12:43:55.076Z"
   },
   {
    "duration": 0,
    "start_time": "2022-09-14T12:43:55.077Z"
   },
   {
    "duration": 0,
    "start_time": "2022-09-14T12:43:55.078Z"
   },
   {
    "duration": 0,
    "start_time": "2022-09-14T12:43:55.079Z"
   },
   {
    "duration": 0,
    "start_time": "2022-09-14T12:43:55.080Z"
   },
   {
    "duration": 0,
    "start_time": "2022-09-14T12:43:55.080Z"
   },
   {
    "duration": 0,
    "start_time": "2022-09-14T12:43:55.081Z"
   },
   {
    "duration": 0,
    "start_time": "2022-09-14T12:43:55.082Z"
   },
   {
    "duration": 0,
    "start_time": "2022-09-14T12:43:55.083Z"
   },
   {
    "duration": 0,
    "start_time": "2022-09-14T12:43:55.084Z"
   },
   {
    "duration": 0,
    "start_time": "2022-09-14T12:43:55.085Z"
   },
   {
    "duration": 0,
    "start_time": "2022-09-14T12:43:55.086Z"
   },
   {
    "duration": 0,
    "start_time": "2022-09-14T12:43:55.087Z"
   },
   {
    "duration": 0,
    "start_time": "2022-09-14T12:43:55.088Z"
   },
   {
    "duration": 0,
    "start_time": "2022-09-14T12:43:55.089Z"
   },
   {
    "duration": 0,
    "start_time": "2022-09-14T12:43:55.147Z"
   },
   {
    "duration": 0,
    "start_time": "2022-09-14T12:43:55.148Z"
   },
   {
    "duration": 0,
    "start_time": "2022-09-14T12:43:55.149Z"
   },
   {
    "duration": 0,
    "start_time": "2022-09-14T12:43:55.150Z"
   },
   {
    "duration": 0,
    "start_time": "2022-09-14T12:43:55.151Z"
   },
   {
    "duration": 0,
    "start_time": "2022-09-14T12:43:55.152Z"
   },
   {
    "duration": 0,
    "start_time": "2022-09-14T12:43:55.153Z"
   },
   {
    "duration": 0,
    "start_time": "2022-09-14T12:43:55.155Z"
   },
   {
    "duration": 0,
    "start_time": "2022-09-14T12:43:55.155Z"
   },
   {
    "duration": 0,
    "start_time": "2022-09-14T12:43:55.156Z"
   },
   {
    "duration": 0,
    "start_time": "2022-09-14T12:43:55.157Z"
   },
   {
    "duration": 0,
    "start_time": "2022-09-14T12:43:55.158Z"
   },
   {
    "duration": 0,
    "start_time": "2022-09-14T12:43:55.159Z"
   },
   {
    "duration": 0,
    "start_time": "2022-09-14T12:43:55.160Z"
   },
   {
    "duration": 0,
    "start_time": "2022-09-14T12:43:55.161Z"
   },
   {
    "duration": 3,
    "start_time": "2022-09-14T12:45:06.533Z"
   },
   {
    "duration": 13,
    "start_time": "2022-09-14T12:45:07.082Z"
   },
   {
    "duration": 13,
    "start_time": "2022-09-14T12:45:10.634Z"
   },
   {
    "duration": 3,
    "start_time": "2022-09-14T12:45:15.134Z"
   },
   {
    "duration": 21,
    "start_time": "2022-09-14T12:45:16.962Z"
   },
   {
    "duration": 13,
    "start_time": "2022-09-14T12:45:32.796Z"
   },
   {
    "duration": 11,
    "start_time": "2022-09-14T12:45:37.418Z"
   },
   {
    "duration": 15,
    "start_time": "2022-09-14T12:45:41.781Z"
   },
   {
    "duration": 15,
    "start_time": "2022-09-14T12:46:34.644Z"
   },
   {
    "duration": 4,
    "start_time": "2022-09-14T12:46:38.881Z"
   },
   {
    "duration": 16,
    "start_time": "2022-09-14T12:46:40.559Z"
   },
   {
    "duration": 20,
    "start_time": "2022-09-14T12:46:43.069Z"
   },
   {
    "duration": 3,
    "start_time": "2022-09-14T12:51:00.308Z"
   },
   {
    "duration": 5,
    "start_time": "2022-09-14T12:51:00.947Z"
   },
   {
    "duration": 6,
    "start_time": "2022-09-14T12:51:01.496Z"
   },
   {
    "duration": 1450,
    "start_time": "2022-09-14T12:51:07.037Z"
   },
   {
    "duration": 73,
    "start_time": "2022-09-14T12:51:08.489Z"
   },
   {
    "duration": 4,
    "start_time": "2022-09-14T12:51:08.565Z"
   },
   {
    "duration": 6,
    "start_time": "2022-09-14T12:51:08.571Z"
   },
   {
    "duration": 7,
    "start_time": "2022-09-14T12:51:08.579Z"
   },
   {
    "duration": 8,
    "start_time": "2022-09-14T12:51:08.588Z"
   },
   {
    "duration": 18,
    "start_time": "2022-09-14T12:51:08.598Z"
   },
   {
    "duration": 19,
    "start_time": "2022-09-14T12:51:08.618Z"
   },
   {
    "duration": 13,
    "start_time": "2022-09-14T12:51:08.649Z"
   },
   {
    "duration": 12,
    "start_time": "2022-09-14T12:51:08.665Z"
   },
   {
    "duration": 25,
    "start_time": "2022-09-14T12:51:08.679Z"
   },
   {
    "duration": 23,
    "start_time": "2022-09-14T12:51:08.706Z"
   },
   {
    "duration": 3,
    "start_time": "2022-09-14T12:51:08.748Z"
   },
   {
    "duration": 15,
    "start_time": "2022-09-14T12:51:08.753Z"
   },
   {
    "duration": 6,
    "start_time": "2022-09-14T12:51:08.770Z"
   },
   {
    "duration": 2100,
    "start_time": "2022-09-14T12:51:08.779Z"
   },
   {
    "duration": 5,
    "start_time": "2022-09-14T12:51:10.882Z"
   },
   {
    "duration": 7,
    "start_time": "2022-09-14T12:51:10.946Z"
   },
   {
    "duration": 22,
    "start_time": "2022-09-14T12:51:10.955Z"
   },
   {
    "duration": 9,
    "start_time": "2022-09-14T12:51:10.979Z"
   },
   {
    "duration": 7,
    "start_time": "2022-09-14T12:51:10.990Z"
   },
   {
    "duration": 0,
    "start_time": "2022-09-14T12:51:10.999Z"
   },
   {
    "duration": 0,
    "start_time": "2022-09-14T12:51:11.001Z"
   },
   {
    "duration": 0,
    "start_time": "2022-09-14T12:51:11.001Z"
   },
   {
    "duration": 0,
    "start_time": "2022-09-14T12:51:11.051Z"
   },
   {
    "duration": 0,
    "start_time": "2022-09-14T12:51:11.052Z"
   },
   {
    "duration": 0,
    "start_time": "2022-09-14T12:51:11.056Z"
   },
   {
    "duration": 0,
    "start_time": "2022-09-14T12:51:11.058Z"
   },
   {
    "duration": 0,
    "start_time": "2022-09-14T12:51:11.061Z"
   },
   {
    "duration": 0,
    "start_time": "2022-09-14T12:51:11.063Z"
   },
   {
    "duration": 0,
    "start_time": "2022-09-14T12:51:11.064Z"
   },
   {
    "duration": 0,
    "start_time": "2022-09-14T12:51:11.066Z"
   },
   {
    "duration": 0,
    "start_time": "2022-09-14T12:51:11.068Z"
   },
   {
    "duration": 0,
    "start_time": "2022-09-14T12:51:11.069Z"
   },
   {
    "duration": 0,
    "start_time": "2022-09-14T12:51:11.070Z"
   },
   {
    "duration": 0,
    "start_time": "2022-09-14T12:51:11.071Z"
   },
   {
    "duration": 0,
    "start_time": "2022-09-14T12:51:11.073Z"
   },
   {
    "duration": 0,
    "start_time": "2022-09-14T12:51:11.074Z"
   },
   {
    "duration": 0,
    "start_time": "2022-09-14T12:51:11.077Z"
   },
   {
    "duration": 0,
    "start_time": "2022-09-14T12:51:11.078Z"
   },
   {
    "duration": 0,
    "start_time": "2022-09-14T12:51:11.079Z"
   },
   {
    "duration": 0,
    "start_time": "2022-09-14T12:51:11.080Z"
   },
   {
    "duration": 0,
    "start_time": "2022-09-14T12:51:11.082Z"
   },
   {
    "duration": 0,
    "start_time": "2022-09-14T12:51:11.083Z"
   },
   {
    "duration": 0,
    "start_time": "2022-09-14T12:51:11.084Z"
   },
   {
    "duration": 0,
    "start_time": "2022-09-14T12:51:11.086Z"
   },
   {
    "duration": 0,
    "start_time": "2022-09-14T12:51:11.087Z"
   },
   {
    "duration": 0,
    "start_time": "2022-09-14T12:51:11.088Z"
   },
   {
    "duration": 0,
    "start_time": "2022-09-14T12:51:11.089Z"
   },
   {
    "duration": 0,
    "start_time": "2022-09-14T12:51:11.147Z"
   },
   {
    "duration": 0,
    "start_time": "2022-09-14T12:51:11.148Z"
   },
   {
    "duration": 0,
    "start_time": "2022-09-14T12:51:11.151Z"
   },
   {
    "duration": 0,
    "start_time": "2022-09-14T12:51:11.153Z"
   },
   {
    "duration": 0,
    "start_time": "2022-09-14T12:51:11.155Z"
   },
   {
    "duration": 0,
    "start_time": "2022-09-14T12:51:11.157Z"
   },
   {
    "duration": 0,
    "start_time": "2022-09-14T12:51:11.158Z"
   },
   {
    "duration": 1713,
    "start_time": "2022-09-14T12:54:29.049Z"
   },
   {
    "duration": 4,
    "start_time": "2022-09-14T12:55:37.607Z"
   },
   {
    "duration": 6,
    "start_time": "2022-09-14T12:55:38.064Z"
   },
   {
    "duration": 5,
    "start_time": "2022-09-14T12:56:38.836Z"
   },
   {
    "duration": 4,
    "start_time": "2022-09-14T12:56:59.106Z"
   },
   {
    "duration": 6,
    "start_time": "2022-09-14T12:56:59.744Z"
   },
   {
    "duration": 4,
    "start_time": "2022-09-14T12:57:07.116Z"
   },
   {
    "duration": 7,
    "start_time": "2022-09-14T12:57:07.505Z"
   },
   {
    "duration": 1538,
    "start_time": "2022-09-14T12:57:12.528Z"
   },
   {
    "duration": 73,
    "start_time": "2022-09-14T12:57:14.068Z"
   },
   {
    "duration": 5,
    "start_time": "2022-09-14T12:57:14.142Z"
   },
   {
    "duration": 6,
    "start_time": "2022-09-14T12:57:14.149Z"
   },
   {
    "duration": 19,
    "start_time": "2022-09-14T12:57:14.157Z"
   },
   {
    "duration": 9,
    "start_time": "2022-09-14T12:57:14.178Z"
   },
   {
    "duration": 6,
    "start_time": "2022-09-14T12:57:14.189Z"
   },
   {
    "duration": 13,
    "start_time": "2022-09-14T12:57:14.196Z"
   },
   {
    "duration": 25,
    "start_time": "2022-09-14T12:57:14.210Z"
   },
   {
    "duration": 5,
    "start_time": "2022-09-14T12:57:14.237Z"
   },
   {
    "duration": 20,
    "start_time": "2022-09-14T12:57:14.243Z"
   },
   {
    "duration": 21,
    "start_time": "2022-09-14T12:57:14.265Z"
   },
   {
    "duration": 2,
    "start_time": "2022-09-14T12:57:14.288Z"
   },
   {
    "duration": 9,
    "start_time": "2022-09-14T12:57:14.292Z"
   },
   {
    "duration": 8,
    "start_time": "2022-09-14T12:57:14.302Z"
   },
   {
    "duration": 1666,
    "start_time": "2022-09-14T12:57:14.311Z"
   },
   {
    "duration": 4,
    "start_time": "2022-09-14T12:57:15.978Z"
   },
   {
    "duration": 10,
    "start_time": "2022-09-14T12:57:15.983Z"
   },
   {
    "duration": 5,
    "start_time": "2022-09-14T12:57:15.995Z"
   },
   {
    "duration": 15,
    "start_time": "2022-09-14T12:57:16.002Z"
   },
   {
    "duration": 27,
    "start_time": "2022-09-14T12:57:16.020Z"
   },
   {
    "duration": 5,
    "start_time": "2022-09-14T12:57:16.049Z"
   },
   {
    "duration": 0,
    "start_time": "2022-09-14T12:57:16.058Z"
   },
   {
    "duration": 0,
    "start_time": "2022-09-14T12:57:16.060Z"
   },
   {
    "duration": 0,
    "start_time": "2022-09-14T12:57:16.061Z"
   },
   {
    "duration": 0,
    "start_time": "2022-09-14T12:57:16.062Z"
   },
   {
    "duration": 0,
    "start_time": "2022-09-14T12:57:16.064Z"
   },
   {
    "duration": 0,
    "start_time": "2022-09-14T12:57:16.065Z"
   },
   {
    "duration": 0,
    "start_time": "2022-09-14T12:57:16.067Z"
   },
   {
    "duration": 0,
    "start_time": "2022-09-14T12:57:16.069Z"
   },
   {
    "duration": 0,
    "start_time": "2022-09-14T12:57:16.070Z"
   },
   {
    "duration": 0,
    "start_time": "2022-09-14T12:57:16.072Z"
   },
   {
    "duration": 0,
    "start_time": "2022-09-14T12:57:16.073Z"
   },
   {
    "duration": 0,
    "start_time": "2022-09-14T12:57:16.075Z"
   },
   {
    "duration": 0,
    "start_time": "2022-09-14T12:57:16.077Z"
   },
   {
    "duration": 0,
    "start_time": "2022-09-14T12:57:16.078Z"
   },
   {
    "duration": 0,
    "start_time": "2022-09-14T12:57:16.079Z"
   },
   {
    "duration": 0,
    "start_time": "2022-09-14T12:57:16.080Z"
   },
   {
    "duration": 0,
    "start_time": "2022-09-14T12:57:16.082Z"
   },
   {
    "duration": 0,
    "start_time": "2022-09-14T12:57:16.083Z"
   },
   {
    "duration": 0,
    "start_time": "2022-09-14T12:57:16.085Z"
   },
   {
    "duration": 0,
    "start_time": "2022-09-14T12:57:16.087Z"
   },
   {
    "duration": 1,
    "start_time": "2022-09-14T12:57:16.088Z"
   },
   {
    "duration": 0,
    "start_time": "2022-09-14T12:57:16.090Z"
   },
   {
    "duration": 0,
    "start_time": "2022-09-14T12:57:16.091Z"
   },
   {
    "duration": 0,
    "start_time": "2022-09-14T12:57:16.147Z"
   },
   {
    "duration": 0,
    "start_time": "2022-09-14T12:57:16.148Z"
   },
   {
    "duration": 0,
    "start_time": "2022-09-14T12:57:16.149Z"
   },
   {
    "duration": 0,
    "start_time": "2022-09-14T12:57:16.150Z"
   },
   {
    "duration": 0,
    "start_time": "2022-09-14T12:57:16.151Z"
   },
   {
    "duration": 0,
    "start_time": "2022-09-14T12:57:16.152Z"
   },
   {
    "duration": 0,
    "start_time": "2022-09-14T12:57:16.153Z"
   },
   {
    "duration": 0,
    "start_time": "2022-09-14T12:57:16.154Z"
   },
   {
    "duration": 0,
    "start_time": "2022-09-14T12:57:16.155Z"
   },
   {
    "duration": 0,
    "start_time": "2022-09-14T12:57:16.156Z"
   },
   {
    "duration": 0,
    "start_time": "2022-09-14T12:57:16.157Z"
   },
   {
    "duration": 0,
    "start_time": "2022-09-14T12:57:16.158Z"
   },
   {
    "duration": 5,
    "start_time": "2022-09-14T12:57:27.494Z"
   },
   {
    "duration": 6,
    "start_time": "2022-09-14T12:57:27.900Z"
   },
   {
    "duration": 4,
    "start_time": "2022-09-14T12:59:43.143Z"
   },
   {
    "duration": 8,
    "start_time": "2022-09-14T12:59:43.798Z"
   },
   {
    "duration": 8,
    "start_time": "2022-09-14T12:59:48.645Z"
   },
   {
    "duration": 8,
    "start_time": "2022-09-14T12:59:53.004Z"
   },
   {
    "duration": 1480,
    "start_time": "2022-09-14T13:00:01.069Z"
   },
   {
    "duration": 74,
    "start_time": "2022-09-14T13:00:02.551Z"
   },
   {
    "duration": 5,
    "start_time": "2022-09-14T13:00:02.626Z"
   },
   {
    "duration": 13,
    "start_time": "2022-09-14T13:00:02.634Z"
   },
   {
    "duration": 21,
    "start_time": "2022-09-14T13:00:02.649Z"
   },
   {
    "duration": 12,
    "start_time": "2022-09-14T13:00:02.672Z"
   },
   {
    "duration": 14,
    "start_time": "2022-09-14T13:00:02.686Z"
   },
   {
    "duration": 27,
    "start_time": "2022-09-14T13:00:02.701Z"
   },
   {
    "duration": 14,
    "start_time": "2022-09-14T13:00:02.729Z"
   },
   {
    "duration": 8,
    "start_time": "2022-09-14T13:00:02.746Z"
   },
   {
    "duration": 22,
    "start_time": "2022-09-14T13:00:02.756Z"
   },
   {
    "duration": 21,
    "start_time": "2022-09-14T13:00:02.780Z"
   },
   {
    "duration": 3,
    "start_time": "2022-09-14T13:00:02.802Z"
   },
   {
    "duration": 14,
    "start_time": "2022-09-14T13:00:02.806Z"
   },
   {
    "duration": 7,
    "start_time": "2022-09-14T13:00:02.821Z"
   },
   {
    "duration": 1662,
    "start_time": "2022-09-14T13:00:02.829Z"
   },
   {
    "duration": 4,
    "start_time": "2022-09-14T13:00:04.493Z"
   },
   {
    "duration": 9,
    "start_time": "2022-09-14T13:00:04.499Z"
   },
   {
    "duration": 9,
    "start_time": "2022-09-14T13:00:04.510Z"
   },
   {
    "duration": 16,
    "start_time": "2022-09-14T13:00:04.520Z"
   },
   {
    "duration": 13,
    "start_time": "2022-09-14T13:00:04.538Z"
   },
   {
    "duration": 14,
    "start_time": "2022-09-14T13:00:04.552Z"
   },
   {
    "duration": 10,
    "start_time": "2022-09-14T13:00:04.568Z"
   },
   {
    "duration": 23,
    "start_time": "2022-09-14T13:00:04.580Z"
   },
   {
    "duration": 43,
    "start_time": "2022-09-14T13:00:04.605Z"
   },
   {
    "duration": 28,
    "start_time": "2022-09-14T13:00:04.650Z"
   },
   {
    "duration": 8,
    "start_time": "2022-09-14T13:00:04.681Z"
   },
   {
    "duration": 6,
    "start_time": "2022-09-14T13:00:04.692Z"
   },
   {
    "duration": 58,
    "start_time": "2022-09-14T13:00:04.700Z"
   },
   {
    "duration": 706,
    "start_time": "2022-09-14T13:00:04.760Z"
   },
   {
    "duration": 19,
    "start_time": "2022-09-14T13:00:05.467Z"
   },
   {
    "duration": 62,
    "start_time": "2022-09-14T13:00:05.488Z"
   },
   {
    "duration": 10,
    "start_time": "2022-09-14T13:00:05.552Z"
   },
   {
    "duration": 86,
    "start_time": "2022-09-14T13:00:05.564Z"
   },
   {
    "duration": 10,
    "start_time": "2022-09-14T13:00:05.652Z"
   },
   {
    "duration": 3,
    "start_time": "2022-09-14T13:00:05.664Z"
   },
   {
    "duration": 17,
    "start_time": "2022-09-14T13:00:05.669Z"
   },
   {
    "duration": 14,
    "start_time": "2022-09-14T13:00:05.687Z"
   },
   {
    "duration": 44,
    "start_time": "2022-09-14T13:00:05.703Z"
   },
   {
    "duration": 10,
    "start_time": "2022-09-14T13:00:05.749Z"
   },
   {
    "duration": 385,
    "start_time": "2022-09-14T13:00:05.761Z"
   },
   {
    "duration": 342,
    "start_time": "2022-09-14T13:00:06.148Z"
   },
   {
    "duration": 5,
    "start_time": "2022-09-14T13:00:06.492Z"
   },
   {
    "duration": 22,
    "start_time": "2022-09-14T13:00:06.499Z"
   },
   {
    "duration": 26,
    "start_time": "2022-09-14T13:00:06.523Z"
   },
   {
    "duration": 47,
    "start_time": "2022-09-14T13:00:06.552Z"
   },
   {
    "duration": 963,
    "start_time": "2022-09-14T13:00:06.601Z"
   },
   {
    "duration": 85,
    "start_time": "2022-09-14T13:00:07.566Z"
   },
   {
    "duration": 7,
    "start_time": "2022-09-14T13:00:07.654Z"
   },
   {
    "duration": 17,
    "start_time": "2022-09-14T13:00:07.748Z"
   },
   {
    "duration": 12,
    "start_time": "2022-09-14T13:00:07.767Z"
   },
   {
    "duration": 12,
    "start_time": "2022-09-14T13:00:07.781Z"
   },
   {
    "duration": 79130,
    "start_time": "2022-09-14T13:00:07.795Z"
   },
   {
    "duration": 46,
    "start_time": "2022-09-14T13:01:26.926Z"
   },
   {
    "duration": 40,
    "start_time": "2022-09-14T13:01:26.974Z"
   },
   {
    "duration": 153,
    "start_time": "2022-09-14T13:01:27.016Z"
   },
   {
    "duration": 38,
    "start_time": "2022-09-14T13:01:27.172Z"
   },
   {
    "duration": 9,
    "start_time": "2022-09-14T13:21:09.392Z"
   },
   {
    "duration": 1875,
    "start_time": "2022-09-14T13:21:22.713Z"
   },
   {
    "duration": 20,
    "start_time": "2022-09-14T13:21:31.274Z"
   },
   {
    "duration": 57,
    "start_time": "2022-09-14T13:22:17.879Z"
   },
   {
    "duration": 1323,
    "start_time": "2022-09-14T13:22:51.009Z"
   },
   {
    "duration": 79,
    "start_time": "2022-09-14T13:22:52.334Z"
   },
   {
    "duration": 4,
    "start_time": "2022-09-14T13:22:52.414Z"
   },
   {
    "duration": 5,
    "start_time": "2022-09-14T13:22:52.420Z"
   },
   {
    "duration": 8,
    "start_time": "2022-09-14T13:22:52.426Z"
   },
   {
    "duration": 9,
    "start_time": "2022-09-14T13:22:52.436Z"
   },
   {
    "duration": 3,
    "start_time": "2022-09-14T13:22:52.447Z"
   },
   {
    "duration": 13,
    "start_time": "2022-09-14T13:22:52.451Z"
   },
   {
    "duration": 12,
    "start_time": "2022-09-14T13:22:52.465Z"
   },
   {
    "duration": 4,
    "start_time": "2022-09-14T13:22:52.480Z"
   },
   {
    "duration": 18,
    "start_time": "2022-09-14T13:22:52.486Z"
   },
   {
    "duration": 43,
    "start_time": "2022-09-14T13:22:52.505Z"
   },
   {
    "duration": 3,
    "start_time": "2022-09-14T13:22:52.549Z"
   },
   {
    "duration": 10,
    "start_time": "2022-09-14T13:22:52.553Z"
   },
   {
    "duration": 4,
    "start_time": "2022-09-14T13:22:52.564Z"
   },
   {
    "duration": 1550,
    "start_time": "2022-09-14T13:22:52.570Z"
   },
   {
    "duration": 4,
    "start_time": "2022-09-14T13:22:54.121Z"
   },
   {
    "duration": 7,
    "start_time": "2022-09-14T13:22:54.127Z"
   },
   {
    "duration": 14,
    "start_time": "2022-09-14T13:22:54.135Z"
   },
   {
    "duration": 9,
    "start_time": "2022-09-14T13:22:54.150Z"
   },
   {
    "duration": 9,
    "start_time": "2022-09-14T13:22:54.161Z"
   },
   {
    "duration": 6,
    "start_time": "2022-09-14T13:22:54.172Z"
   },
   {
    "duration": 9,
    "start_time": "2022-09-14T13:22:54.180Z"
   },
   {
    "duration": 21,
    "start_time": "2022-09-14T13:22:54.191Z"
   },
   {
    "duration": 47,
    "start_time": "2022-09-14T13:22:54.213Z"
   },
   {
    "duration": 17,
    "start_time": "2022-09-14T13:22:54.262Z"
   },
   {
    "duration": 6,
    "start_time": "2022-09-14T13:22:54.280Z"
   },
   {
    "duration": 5,
    "start_time": "2022-09-14T13:22:54.289Z"
   },
   {
    "duration": 61,
    "start_time": "2022-09-14T13:22:54.295Z"
   },
   {
    "duration": 650,
    "start_time": "2022-09-14T13:22:54.357Z"
   },
   {
    "duration": 49,
    "start_time": "2022-09-14T13:22:55.009Z"
   },
   {
    "duration": 88,
    "start_time": "2022-09-14T13:22:55.061Z"
   },
   {
    "duration": 6,
    "start_time": "2022-09-14T13:22:55.151Z"
   },
   {
    "duration": 5,
    "start_time": "2022-09-14T13:22:55.159Z"
   },
   {
    "duration": 6,
    "start_time": "2022-09-14T13:22:55.166Z"
   },
   {
    "duration": 3,
    "start_time": "2022-09-14T13:22:55.174Z"
   },
   {
    "duration": 19,
    "start_time": "2022-09-14T13:22:55.179Z"
   },
   {
    "duration": 13,
    "start_time": "2022-09-14T13:22:55.246Z"
   },
   {
    "duration": 11,
    "start_time": "2022-09-14T13:22:55.260Z"
   },
   {
    "duration": 11,
    "start_time": "2022-09-14T13:22:55.273Z"
   },
   {
    "duration": 334,
    "start_time": "2022-09-14T13:22:55.348Z"
   },
   {
    "duration": 497,
    "start_time": "2022-09-14T13:22:55.683Z"
   },
   {
    "duration": 4,
    "start_time": "2022-09-14T13:22:56.181Z"
   },
   {
    "duration": 63,
    "start_time": "2022-09-14T13:22:56.187Z"
   },
   {
    "duration": 6,
    "start_time": "2022-09-14T13:22:56.251Z"
   },
   {
    "duration": 105,
    "start_time": "2022-09-14T13:22:56.259Z"
   },
   {
    "duration": 1547,
    "start_time": "2022-09-14T13:22:56.366Z"
   },
   {
    "duration": 36,
    "start_time": "2022-09-14T13:22:57.915Z"
   },
   {
    "duration": 7,
    "start_time": "2022-09-14T13:22:57.953Z"
   },
   {
    "duration": 195,
    "start_time": "2022-09-14T13:22:57.961Z"
   },
   {
    "duration": 14,
    "start_time": "2022-09-14T13:22:58.158Z"
   },
   {
    "duration": 15,
    "start_time": "2022-09-14T13:22:58.174Z"
   },
   {
    "duration": 75118,
    "start_time": "2022-09-14T13:22:58.191Z"
   },
   {
    "duration": 46,
    "start_time": "2022-09-14T13:24:13.310Z"
   },
   {
    "duration": 46,
    "start_time": "2022-09-14T13:24:13.357Z"
   },
   {
    "duration": 165,
    "start_time": "2022-09-14T13:24:13.405Z"
   },
   {
    "duration": 35,
    "start_time": "2022-09-14T13:24:13.571Z"
   },
   {
    "duration": 4,
    "start_time": "2022-09-14T13:27:20.896Z"
   },
   {
    "duration": 35,
    "start_time": "2022-09-14T13:27:25.305Z"
   },
   {
    "duration": 5,
    "start_time": "2022-09-14T13:27:26.142Z"
   },
   {
    "duration": 667,
    "start_time": "2022-09-14T13:27:27.936Z"
   },
   {
    "duration": 19,
    "start_time": "2022-09-14T13:27:29.535Z"
   },
   {
    "duration": 32,
    "start_time": "2022-09-14T13:27:33.613Z"
   },
   {
    "duration": 665,
    "start_time": "2022-09-14T13:27:33.847Z"
   },
   {
    "duration": 33,
    "start_time": "2022-09-14T13:27:34.514Z"
   },
   {
    "duration": 5,
    "start_time": "2022-09-14T13:27:38.456Z"
   },
   {
    "duration": 4,
    "start_time": "2022-09-14T13:27:39.084Z"
   },
   {
    "duration": 5,
    "start_time": "2022-09-14T13:27:42.804Z"
   },
   {
    "duration": 6,
    "start_time": "2022-09-14T13:27:46.305Z"
   },
   {
    "duration": 35,
    "start_time": "2022-09-14T13:29:44.292Z"
   },
   {
    "duration": 733,
    "start_time": "2022-09-14T13:29:44.638Z"
   },
   {
    "duration": 74,
    "start_time": "2022-09-14T13:29:45.373Z"
   },
   {
    "duration": 5,
    "start_time": "2022-09-14T13:29:46.068Z"
   },
   {
    "duration": 8,
    "start_time": "2022-09-14T13:29:46.367Z"
   },
   {
    "duration": 5,
    "start_time": "2022-09-14T13:29:46.749Z"
   },
   {
    "duration": 3,
    "start_time": "2022-09-14T13:42:54.345Z"
   },
   {
    "duration": 2,
    "start_time": "2022-09-14T13:43:31.140Z"
   },
   {
    "duration": 101,
    "start_time": "2022-09-14T13:44:11.990Z"
   },
   {
    "duration": 3,
    "start_time": "2022-09-14T13:46:59.799Z"
   },
   {
    "duration": 4,
    "start_time": "2022-09-14T13:47:01.313Z"
   },
   {
    "duration": 7,
    "start_time": "2022-09-14T13:47:01.809Z"
   },
   {
    "duration": 5,
    "start_time": "2022-09-14T13:48:49.435Z"
   },
   {
    "duration": 8,
    "start_time": "2022-09-14T13:48:54.296Z"
   },
   {
    "duration": 4,
    "start_time": "2022-09-14T13:49:19.603Z"
   },
   {
    "duration": 8,
    "start_time": "2022-09-14T13:49:20.187Z"
   },
   {
    "duration": 125,
    "start_time": "2022-09-14T13:50:26.551Z"
   },
   {
    "duration": 14,
    "start_time": "2022-09-14T13:50:31.119Z"
   },
   {
    "duration": 16,
    "start_time": "2022-09-14T13:52:38.361Z"
   },
   {
    "duration": 679,
    "start_time": "2022-09-14T13:54:02.551Z"
   },
   {
    "duration": 17,
    "start_time": "2022-09-14T13:54:08.382Z"
   },
   {
    "duration": 15,
    "start_time": "2022-09-14T13:54:36.835Z"
   },
   {
    "duration": 3,
    "start_time": "2022-09-14T13:54:45.902Z"
   },
   {
    "duration": 11,
    "start_time": "2022-09-14T13:54:47.419Z"
   },
   {
    "duration": 8,
    "start_time": "2022-09-14T13:54:52.273Z"
   },
   {
    "duration": 14,
    "start_time": "2022-09-14T13:55:32.132Z"
   },
   {
    "duration": 3,
    "start_time": "2022-09-14T13:55:44.181Z"
   },
   {
    "duration": 8,
    "start_time": "2022-09-14T13:55:45.223Z"
   },
   {
    "duration": 3,
    "start_time": "2022-09-14T13:57:17.460Z"
   },
   {
    "duration": 12,
    "start_time": "2022-09-14T13:57:18.038Z"
   },
   {
    "duration": 13,
    "start_time": "2022-09-14T13:57:24.641Z"
   },
   {
    "duration": 1422,
    "start_time": "2022-09-14T13:57:31.257Z"
   },
   {
    "duration": 78,
    "start_time": "2022-09-14T13:57:32.681Z"
   },
   {
    "duration": 5,
    "start_time": "2022-09-14T13:57:32.761Z"
   },
   {
    "duration": 14,
    "start_time": "2022-09-14T13:57:32.768Z"
   },
   {
    "duration": 12,
    "start_time": "2022-09-14T13:57:32.784Z"
   },
   {
    "duration": 9,
    "start_time": "2022-09-14T13:57:32.798Z"
   },
   {
    "duration": 8,
    "start_time": "2022-09-14T13:57:32.809Z"
   },
   {
    "duration": 16,
    "start_time": "2022-09-14T13:57:32.819Z"
   },
   {
    "duration": 15,
    "start_time": "2022-09-14T13:57:32.836Z"
   },
   {
    "duration": 10,
    "start_time": "2022-09-14T13:57:32.853Z"
   },
   {
    "duration": 20,
    "start_time": "2022-09-14T13:57:32.865Z"
   },
   {
    "duration": 23,
    "start_time": "2022-09-14T13:57:32.888Z"
   },
   {
    "duration": 2,
    "start_time": "2022-09-14T13:57:32.913Z"
   },
   {
    "duration": 8,
    "start_time": "2022-09-14T13:57:32.946Z"
   },
   {
    "duration": 5,
    "start_time": "2022-09-14T13:57:32.956Z"
   },
   {
    "duration": 1623,
    "start_time": "2022-09-14T13:57:32.962Z"
   },
   {
    "duration": 4,
    "start_time": "2022-09-14T13:57:34.587Z"
   },
   {
    "duration": 7,
    "start_time": "2022-09-14T13:57:34.593Z"
   },
   {
    "duration": 4,
    "start_time": "2022-09-14T13:57:34.602Z"
   },
   {
    "duration": 14,
    "start_time": "2022-09-14T13:57:34.607Z"
   },
   {
    "duration": 26,
    "start_time": "2022-09-14T13:57:34.624Z"
   },
   {
    "duration": 6,
    "start_time": "2022-09-14T13:57:34.652Z"
   },
   {
    "duration": 10,
    "start_time": "2022-09-14T13:57:34.659Z"
   },
   {
    "duration": 24,
    "start_time": "2022-09-14T13:57:34.671Z"
   },
   {
    "duration": 52,
    "start_time": "2022-09-14T13:57:34.697Z"
   },
   {
    "duration": 17,
    "start_time": "2022-09-14T13:57:34.751Z"
   },
   {
    "duration": 6,
    "start_time": "2022-09-14T13:57:34.770Z"
   },
   {
    "duration": 4,
    "start_time": "2022-09-14T13:57:34.780Z"
   },
   {
    "duration": 69,
    "start_time": "2022-09-14T13:57:34.786Z"
   },
   {
    "duration": 673,
    "start_time": "2022-09-14T13:57:34.856Z"
   },
   {
    "duration": 28,
    "start_time": "2022-09-14T13:57:35.530Z"
   },
   {
    "duration": 90,
    "start_time": "2022-09-14T13:57:35.560Z"
   },
   {
    "duration": 110,
    "start_time": "2022-09-14T13:57:35.653Z"
   },
   {
    "duration": 5,
    "start_time": "2022-09-14T13:57:35.764Z"
   },
   {
    "duration": 14,
    "start_time": "2022-09-14T13:57:35.770Z"
   },
   {
    "duration": 15,
    "start_time": "2022-09-14T13:57:35.785Z"
   },
   {
    "duration": 16,
    "start_time": "2022-09-14T13:57:35.801Z"
   },
   {
    "duration": 11,
    "start_time": "2022-09-14T13:57:35.819Z"
   },
   {
    "duration": 12,
    "start_time": "2022-09-14T13:57:35.831Z"
   },
   {
    "duration": 11,
    "start_time": "2022-09-14T13:57:35.847Z"
   },
   {
    "duration": 513,
    "start_time": "2022-09-14T13:57:35.860Z"
   },
   {
    "duration": 277,
    "start_time": "2022-09-14T13:57:36.375Z"
   },
   {
    "duration": 2,
    "start_time": "2022-09-14T13:57:36.654Z"
   },
   {
    "duration": 119,
    "start_time": "2022-09-14T13:57:36.658Z"
   },
   {
    "duration": 0,
    "start_time": "2022-09-14T13:57:36.779Z"
   },
   {
    "duration": 0,
    "start_time": "2022-09-14T13:57:36.780Z"
   },
   {
    "duration": 0,
    "start_time": "2022-09-14T13:57:36.781Z"
   },
   {
    "duration": 0,
    "start_time": "2022-09-14T13:57:36.782Z"
   },
   {
    "duration": 0,
    "start_time": "2022-09-14T13:57:36.783Z"
   },
   {
    "duration": 0,
    "start_time": "2022-09-14T13:57:36.784Z"
   },
   {
    "duration": 0,
    "start_time": "2022-09-14T13:57:36.785Z"
   },
   {
    "duration": 0,
    "start_time": "2022-09-14T13:57:36.786Z"
   },
   {
    "duration": 0,
    "start_time": "2022-09-14T13:57:36.787Z"
   },
   {
    "duration": 0,
    "start_time": "2022-09-14T13:57:36.789Z"
   },
   {
    "duration": 0,
    "start_time": "2022-09-14T13:57:36.789Z"
   },
   {
    "duration": 0,
    "start_time": "2022-09-14T13:57:36.790Z"
   },
   {
    "duration": 0,
    "start_time": "2022-09-14T13:57:36.791Z"
   },
   {
    "duration": 0,
    "start_time": "2022-09-14T13:57:36.792Z"
   },
   {
    "duration": 0,
    "start_time": "2022-09-14T13:57:36.793Z"
   },
   {
    "duration": 3,
    "start_time": "2022-09-14T13:57:58.606Z"
   },
   {
    "duration": 3,
    "start_time": "2022-09-14T13:58:23.127Z"
   },
   {
    "duration": 4,
    "start_time": "2022-09-14T13:58:29.173Z"
   },
   {
    "duration": 4,
    "start_time": "2022-09-14T13:58:39.326Z"
   },
   {
    "duration": 2,
    "start_time": "2022-09-14T13:59:39.952Z"
   },
   {
    "duration": 2,
    "start_time": "2022-09-14T14:00:21.553Z"
   },
   {
    "duration": 3,
    "start_time": "2022-09-14T14:01:09.476Z"
   },
   {
    "duration": 6,
    "start_time": "2022-09-14T14:01:12.552Z"
   },
   {
    "duration": 3,
    "start_time": "2022-09-14T14:02:31.163Z"
   },
   {
    "duration": 7,
    "start_time": "2022-09-14T14:02:31.791Z"
   },
   {
    "duration": 3,
    "start_time": "2022-09-14T14:03:14.136Z"
   },
   {
    "duration": 16,
    "start_time": "2022-09-14T14:03:14.867Z"
   },
   {
    "duration": 11,
    "start_time": "2022-09-14T14:03:37.939Z"
   },
   {
    "duration": 2,
    "start_time": "2022-09-14T14:03:43.779Z"
   },
   {
    "duration": 9,
    "start_time": "2022-09-14T14:03:44.235Z"
   },
   {
    "duration": 4,
    "start_time": "2022-09-14T14:03:45.132Z"
   },
   {
    "duration": 9,
    "start_time": "2022-09-14T14:03:46.567Z"
   },
   {
    "duration": 1500,
    "start_time": "2022-09-14T14:03:51.444Z"
   },
   {
    "duration": 74,
    "start_time": "2022-09-14T14:03:52.946Z"
   },
   {
    "duration": 5,
    "start_time": "2022-09-14T14:03:53.021Z"
   },
   {
    "duration": 5,
    "start_time": "2022-09-14T14:03:53.028Z"
   },
   {
    "duration": 7,
    "start_time": "2022-09-14T14:03:53.034Z"
   },
   {
    "duration": 10,
    "start_time": "2022-09-14T14:03:53.042Z"
   },
   {
    "duration": 2,
    "start_time": "2022-09-14T14:03:53.054Z"
   },
   {
    "duration": 14,
    "start_time": "2022-09-14T14:03:53.057Z"
   },
   {
    "duration": 12,
    "start_time": "2022-09-14T14:03:53.073Z"
   },
   {
    "duration": 4,
    "start_time": "2022-09-14T14:03:53.087Z"
   },
   {
    "duration": 17,
    "start_time": "2022-09-14T14:03:53.093Z"
   },
   {
    "duration": 48,
    "start_time": "2022-09-14T14:03:53.111Z"
   },
   {
    "duration": 3,
    "start_time": "2022-09-14T14:03:53.160Z"
   },
   {
    "duration": 10,
    "start_time": "2022-09-14T14:03:53.164Z"
   },
   {
    "duration": 5,
    "start_time": "2022-09-14T14:03:53.176Z"
   },
   {
    "duration": 1615,
    "start_time": "2022-09-14T14:03:53.182Z"
   },
   {
    "duration": 4,
    "start_time": "2022-09-14T14:03:54.798Z"
   },
   {
    "duration": 13,
    "start_time": "2022-09-14T14:03:54.803Z"
   },
   {
    "duration": 11,
    "start_time": "2022-09-14T14:03:54.818Z"
   },
   {
    "duration": 11,
    "start_time": "2022-09-14T14:03:54.830Z"
   },
   {
    "duration": 12,
    "start_time": "2022-09-14T14:03:54.842Z"
   },
   {
    "duration": 6,
    "start_time": "2022-09-14T14:03:54.856Z"
   },
   {
    "duration": 8,
    "start_time": "2022-09-14T14:03:54.864Z"
   },
   {
    "duration": 22,
    "start_time": "2022-09-14T14:03:54.874Z"
   },
   {
    "duration": 66,
    "start_time": "2022-09-14T14:03:54.898Z"
   },
   {
    "duration": 19,
    "start_time": "2022-09-14T14:03:54.966Z"
   },
   {
    "duration": 65,
    "start_time": "2022-09-14T14:03:54.986Z"
   },
   {
    "duration": 5,
    "start_time": "2022-09-14T14:03:55.056Z"
   },
   {
    "duration": 87,
    "start_time": "2022-09-14T14:03:55.062Z"
   },
   {
    "duration": 1432,
    "start_time": "2022-09-14T14:03:55.151Z"
   },
   {
    "duration": 163,
    "start_time": "2022-09-14T14:03:56.584Z"
   },
   {
    "duration": 7,
    "start_time": "2022-09-14T14:03:56.750Z"
   },
   {
    "duration": 9,
    "start_time": "2022-09-14T14:03:56.847Z"
   },
   {
    "duration": 4,
    "start_time": "2022-09-14T14:03:56.858Z"
   },
   {
    "duration": 11,
    "start_time": "2022-09-14T14:03:56.864Z"
   },
   {
    "duration": 6,
    "start_time": "2022-09-14T14:03:56.876Z"
   },
   {
    "duration": 18,
    "start_time": "2022-09-14T14:03:56.883Z"
   },
   {
    "duration": 12,
    "start_time": "2022-09-14T14:03:56.947Z"
   },
   {
    "duration": 12,
    "start_time": "2022-09-14T14:03:56.960Z"
   },
   {
    "duration": 10,
    "start_time": "2022-09-14T14:03:56.974Z"
   },
   {
    "duration": 290,
    "start_time": "2022-09-14T14:03:57.048Z"
   },
   {
    "duration": 315,
    "start_time": "2022-09-14T14:03:57.340Z"
   },
   {
    "duration": 2,
    "start_time": "2022-09-14T14:03:57.657Z"
   },
   {
    "duration": 113,
    "start_time": "2022-09-14T14:03:57.661Z"
   },
   {
    "duration": 0,
    "start_time": "2022-09-14T14:03:57.775Z"
   },
   {
    "duration": 0,
    "start_time": "2022-09-14T14:03:57.776Z"
   },
   {
    "duration": 0,
    "start_time": "2022-09-14T14:03:57.778Z"
   },
   {
    "duration": 0,
    "start_time": "2022-09-14T14:03:57.778Z"
   },
   {
    "duration": 0,
    "start_time": "2022-09-14T14:03:57.780Z"
   },
   {
    "duration": 0,
    "start_time": "2022-09-14T14:03:57.781Z"
   },
   {
    "duration": 0,
    "start_time": "2022-09-14T14:03:57.782Z"
   },
   {
    "duration": 0,
    "start_time": "2022-09-14T14:03:57.783Z"
   },
   {
    "duration": 0,
    "start_time": "2022-09-14T14:03:57.784Z"
   },
   {
    "duration": 0,
    "start_time": "2022-09-14T14:03:57.785Z"
   },
   {
    "duration": 0,
    "start_time": "2022-09-14T14:03:57.786Z"
   },
   {
    "duration": 0,
    "start_time": "2022-09-14T14:03:57.788Z"
   },
   {
    "duration": 0,
    "start_time": "2022-09-14T14:03:57.789Z"
   },
   {
    "duration": 0,
    "start_time": "2022-09-14T14:03:57.790Z"
   },
   {
    "duration": 0,
    "start_time": "2022-09-14T14:03:57.791Z"
   },
   {
    "duration": 0,
    "start_time": "2022-09-14T14:03:57.792Z"
   },
   {
    "duration": 0,
    "start_time": "2022-09-14T14:03:57.793Z"
   },
   {
    "duration": 3,
    "start_time": "2022-09-14T14:04:08.018Z"
   },
   {
    "duration": 17,
    "start_time": "2022-09-14T14:04:08.980Z"
   },
   {
    "duration": 4,
    "start_time": "2022-09-14T14:04:31.104Z"
   },
   {
    "duration": 9,
    "start_time": "2022-09-14T14:04:31.963Z"
   },
   {
    "duration": 4,
    "start_time": "2022-09-14T14:05:10.448Z"
   },
   {
    "duration": 15,
    "start_time": "2022-09-14T14:05:47.911Z"
   },
   {
    "duration": 3,
    "start_time": "2022-09-14T14:06:06.152Z"
   },
   {
    "duration": 3,
    "start_time": "2022-09-14T14:06:06.842Z"
   },
   {
    "duration": 4,
    "start_time": "2022-09-14T14:06:07.745Z"
   },
   {
    "duration": 8,
    "start_time": "2022-09-14T14:06:09.393Z"
   },
   {
    "duration": 11,
    "start_time": "2022-09-14T14:08:23.649Z"
   },
   {
    "duration": 272,
    "start_time": "2022-09-14T14:08:46.091Z"
   },
   {
    "duration": 10,
    "start_time": "2022-09-14T14:10:20.776Z"
   },
   {
    "duration": 1240,
    "start_time": "2022-09-14T14:56:38.891Z"
   },
   {
    "duration": 73,
    "start_time": "2022-09-14T14:56:40.133Z"
   },
   {
    "duration": 4,
    "start_time": "2022-09-14T14:56:40.207Z"
   },
   {
    "duration": 15,
    "start_time": "2022-09-14T14:56:40.213Z"
   },
   {
    "duration": 14,
    "start_time": "2022-09-14T14:56:40.229Z"
   },
   {
    "duration": 21,
    "start_time": "2022-09-14T14:56:40.245Z"
   },
   {
    "duration": 7,
    "start_time": "2022-09-14T14:56:40.268Z"
   },
   {
    "duration": 18,
    "start_time": "2022-09-14T14:56:40.278Z"
   },
   {
    "duration": 15,
    "start_time": "2022-09-14T14:56:40.298Z"
   },
   {
    "duration": 6,
    "start_time": "2022-09-14T14:56:40.316Z"
   },
   {
    "duration": 22,
    "start_time": "2022-09-14T14:56:40.323Z"
   },
   {
    "duration": 22,
    "start_time": "2022-09-14T14:56:40.346Z"
   },
   {
    "duration": 2,
    "start_time": "2022-09-14T14:56:40.370Z"
   },
   {
    "duration": 10,
    "start_time": "2022-09-14T14:56:40.374Z"
   },
   {
    "duration": 6,
    "start_time": "2022-09-14T14:56:40.385Z"
   },
   {
    "duration": 1547,
    "start_time": "2022-09-14T14:56:40.392Z"
   },
   {
    "duration": 7,
    "start_time": "2022-09-14T14:56:41.941Z"
   },
   {
    "duration": 12,
    "start_time": "2022-09-14T14:56:41.949Z"
   },
   {
    "duration": 5,
    "start_time": "2022-09-14T14:56:41.963Z"
   },
   {
    "duration": 11,
    "start_time": "2022-09-14T14:56:41.969Z"
   },
   {
    "duration": 7,
    "start_time": "2022-09-14T14:56:41.981Z"
   },
   {
    "duration": 6,
    "start_time": "2022-09-14T14:56:41.989Z"
   },
   {
    "duration": 9,
    "start_time": "2022-09-14T14:56:41.996Z"
   },
   {
    "duration": 19,
    "start_time": "2022-09-14T14:56:42.006Z"
   },
   {
    "duration": 16,
    "start_time": "2022-09-14T14:56:42.047Z"
   },
   {
    "duration": 16,
    "start_time": "2022-09-14T14:56:42.064Z"
   },
   {
    "duration": 5,
    "start_time": "2022-09-14T14:56:42.082Z"
   },
   {
    "duration": 5,
    "start_time": "2022-09-14T14:56:42.090Z"
   },
   {
    "duration": 64,
    "start_time": "2022-09-14T14:56:42.096Z"
   },
   {
    "duration": 667,
    "start_time": "2022-09-14T14:56:42.161Z"
   },
   {
    "duration": 23,
    "start_time": "2022-09-14T14:56:42.829Z"
   },
   {
    "duration": 101,
    "start_time": "2022-09-14T14:56:42.854Z"
   },
   {
    "duration": 93,
    "start_time": "2022-09-14T14:56:42.957Z"
   },
   {
    "duration": 7,
    "start_time": "2022-09-14T14:56:43.052Z"
   },
   {
    "duration": 7,
    "start_time": "2022-09-14T14:56:43.060Z"
   },
   {
    "duration": 3,
    "start_time": "2022-09-14T14:56:43.069Z"
   },
   {
    "duration": 15,
    "start_time": "2022-09-14T14:56:43.073Z"
   },
   {
    "duration": 11,
    "start_time": "2022-09-14T14:56:43.089Z"
   },
   {
    "duration": 45,
    "start_time": "2022-09-14T14:56:43.102Z"
   },
   {
    "duration": 16,
    "start_time": "2022-09-14T14:56:43.149Z"
   },
   {
    "duration": 402,
    "start_time": "2022-09-14T14:56:43.249Z"
   },
   {
    "duration": 296,
    "start_time": "2022-09-14T14:56:43.653Z"
   },
   {
    "duration": 3,
    "start_time": "2022-09-14T14:56:43.950Z"
   },
   {
    "duration": 5,
    "start_time": "2022-09-14T14:56:43.954Z"
   },
   {
    "duration": 12,
    "start_time": "2022-09-14T14:56:43.961Z"
   },
   {
    "duration": 6,
    "start_time": "2022-09-14T14:56:43.975Z"
   },
   {
    "duration": 13,
    "start_time": "2022-09-14T14:56:43.983Z"
   },
   {
    "duration": 4,
    "start_time": "2022-09-14T14:56:43.997Z"
   },
   {
    "duration": 53,
    "start_time": "2022-09-14T14:56:44.003Z"
   },
   {
    "duration": 886,
    "start_time": "2022-09-14T14:56:44.058Z"
   },
   {
    "duration": 25,
    "start_time": "2022-09-14T14:56:44.946Z"
   },
   {
    "duration": 276,
    "start_time": "2022-09-14T14:56:44.973Z"
   },
   {
    "duration": 0,
    "start_time": "2022-09-14T14:56:45.250Z"
   },
   {
    "duration": 0,
    "start_time": "2022-09-14T14:56:45.251Z"
   },
   {
    "duration": 0,
    "start_time": "2022-09-14T14:56:45.252Z"
   },
   {
    "duration": 0,
    "start_time": "2022-09-14T14:56:45.253Z"
   },
   {
    "duration": 1,
    "start_time": "2022-09-14T14:56:45.254Z"
   },
   {
    "duration": 0,
    "start_time": "2022-09-14T14:56:45.255Z"
   },
   {
    "duration": 0,
    "start_time": "2022-09-14T14:56:45.256Z"
   },
   {
    "duration": 0,
    "start_time": "2022-09-14T14:56:45.257Z"
   },
   {
    "duration": 9,
    "start_time": "2022-09-14T15:02:47.133Z"
   },
   {
    "duration": 41,
    "start_time": "2022-09-14T15:02:53.897Z"
   },
   {
    "duration": 880,
    "start_time": "2022-09-14T15:02:54.466Z"
   },
   {
    "duration": 33,
    "start_time": "2022-09-14T15:02:55.348Z"
   },
   {
    "duration": 96,
    "start_time": "2022-09-14T15:02:55.453Z"
   },
   {
    "duration": 8,
    "start_time": "2022-09-14T15:03:01.690Z"
   },
   {
    "duration": 9,
    "start_time": "2022-09-14T15:05:11.897Z"
   },
   {
    "duration": 3,
    "start_time": "2022-09-14T15:05:25.080Z"
   },
   {
    "duration": 3,
    "start_time": "2022-09-14T15:05:45.792Z"
   },
   {
    "duration": 1391,
    "start_time": "2022-09-14T15:07:01.549Z"
   },
   {
    "duration": 74,
    "start_time": "2022-09-14T15:07:02.942Z"
   },
   {
    "duration": 5,
    "start_time": "2022-09-14T15:07:03.017Z"
   },
   {
    "duration": 20,
    "start_time": "2022-09-14T15:07:03.024Z"
   },
   {
    "duration": 22,
    "start_time": "2022-09-14T15:07:03.045Z"
   },
   {
    "duration": 23,
    "start_time": "2022-09-14T15:07:03.068Z"
   },
   {
    "duration": 21,
    "start_time": "2022-09-14T15:07:03.093Z"
   },
   {
    "duration": 23,
    "start_time": "2022-09-14T15:07:03.116Z"
   },
   {
    "duration": 37,
    "start_time": "2022-09-14T15:07:03.141Z"
   },
   {
    "duration": 10,
    "start_time": "2022-09-14T15:07:03.181Z"
   },
   {
    "duration": 22,
    "start_time": "2022-09-14T15:07:03.193Z"
   },
   {
    "duration": 22,
    "start_time": "2022-09-14T15:07:03.217Z"
   },
   {
    "duration": 3,
    "start_time": "2022-09-14T15:07:03.241Z"
   },
   {
    "duration": 12,
    "start_time": "2022-09-14T15:07:03.246Z"
   },
   {
    "duration": 7,
    "start_time": "2022-09-14T15:07:03.260Z"
   },
   {
    "duration": 1574,
    "start_time": "2022-09-14T15:07:03.268Z"
   },
   {
    "duration": 6,
    "start_time": "2022-09-14T15:07:04.844Z"
   },
   {
    "duration": 7,
    "start_time": "2022-09-14T15:07:04.851Z"
   },
   {
    "duration": 4,
    "start_time": "2022-09-14T15:07:04.860Z"
   },
   {
    "duration": 9,
    "start_time": "2022-09-14T15:07:04.866Z"
   },
   {
    "duration": 8,
    "start_time": "2022-09-14T15:07:04.877Z"
   },
   {
    "duration": 6,
    "start_time": "2022-09-14T15:07:04.887Z"
   },
   {
    "duration": 9,
    "start_time": "2022-09-14T15:07:04.895Z"
   },
   {
    "duration": 60,
    "start_time": "2022-09-14T15:07:04.905Z"
   },
   {
    "duration": 17,
    "start_time": "2022-09-14T15:07:04.967Z"
   },
   {
    "duration": 20,
    "start_time": "2022-09-14T15:07:04.986Z"
   },
   {
    "duration": 6,
    "start_time": "2022-09-14T15:07:05.007Z"
   },
   {
    "duration": 31,
    "start_time": "2022-09-14T15:07:05.016Z"
   },
   {
    "duration": 35,
    "start_time": "2022-09-14T15:07:05.049Z"
   },
   {
    "duration": 887,
    "start_time": "2022-09-14T15:07:05.085Z"
   },
   {
    "duration": 74,
    "start_time": "2022-09-14T15:07:05.974Z"
   },
   {
    "duration": 97,
    "start_time": "2022-09-14T15:07:06.050Z"
   },
   {
    "duration": 7,
    "start_time": "2022-09-14T15:07:06.149Z"
   },
   {
    "duration": 7,
    "start_time": "2022-09-14T15:07:06.158Z"
   },
   {
    "duration": 5,
    "start_time": "2022-09-14T15:07:06.167Z"
   },
   {
    "duration": 3,
    "start_time": "2022-09-14T15:07:06.174Z"
   },
   {
    "duration": 14,
    "start_time": "2022-09-14T15:07:06.178Z"
   },
   {
    "duration": 14,
    "start_time": "2022-09-14T15:07:06.248Z"
   },
   {
    "duration": 16,
    "start_time": "2022-09-14T15:07:06.264Z"
   },
   {
    "duration": 76,
    "start_time": "2022-09-14T15:07:06.282Z"
   },
   {
    "duration": 416,
    "start_time": "2022-09-14T15:07:06.449Z"
   },
   {
    "duration": 422,
    "start_time": "2022-09-14T15:07:06.867Z"
   },
   {
    "duration": 2,
    "start_time": "2022-09-14T15:07:07.291Z"
   },
   {
    "duration": 54,
    "start_time": "2022-09-14T15:07:07.294Z"
   },
   {
    "duration": 220,
    "start_time": "2022-09-14T15:07:07.350Z"
   },
   {
    "duration": 0,
    "start_time": "2022-09-14T15:07:07.572Z"
   },
   {
    "duration": 0,
    "start_time": "2022-09-14T15:07:07.573Z"
   },
   {
    "duration": 0,
    "start_time": "2022-09-14T15:07:07.574Z"
   },
   {
    "duration": 0,
    "start_time": "2022-09-14T15:07:07.575Z"
   },
   {
    "duration": 0,
    "start_time": "2022-09-14T15:07:07.576Z"
   },
   {
    "duration": 0,
    "start_time": "2022-09-14T15:07:07.578Z"
   },
   {
    "duration": 0,
    "start_time": "2022-09-14T15:07:07.579Z"
   },
   {
    "duration": 0,
    "start_time": "2022-09-14T15:07:07.580Z"
   },
   {
    "duration": 0,
    "start_time": "2022-09-14T15:07:07.580Z"
   },
   {
    "duration": 0,
    "start_time": "2022-09-14T15:07:07.581Z"
   },
   {
    "duration": 0,
    "start_time": "2022-09-14T15:07:07.582Z"
   },
   {
    "duration": 0,
    "start_time": "2022-09-14T15:07:07.584Z"
   },
   {
    "duration": 0,
    "start_time": "2022-09-14T15:07:07.585Z"
   },
   {
    "duration": 0,
    "start_time": "2022-09-14T15:07:07.586Z"
   },
   {
    "duration": 0,
    "start_time": "2022-09-14T15:07:07.587Z"
   },
   {
    "duration": 0,
    "start_time": "2022-09-14T15:07:07.588Z"
   },
   {
    "duration": 0,
    "start_time": "2022-09-14T15:07:07.647Z"
   },
   {
    "duration": 0,
    "start_time": "2022-09-14T15:07:07.648Z"
   },
   {
    "duration": 7,
    "start_time": "2022-09-14T15:07:27.807Z"
   },
   {
    "duration": 4,
    "start_time": "2022-09-14T15:07:45.353Z"
   },
   {
    "duration": 3,
    "start_time": "2022-09-14T15:07:57.120Z"
   },
   {
    "duration": 4,
    "start_time": "2022-09-14T15:07:57.567Z"
   },
   {
    "duration": 1305,
    "start_time": "2022-09-14T15:08:02.580Z"
   },
   {
    "duration": 76,
    "start_time": "2022-09-14T15:08:03.887Z"
   },
   {
    "duration": 4,
    "start_time": "2022-09-14T15:08:03.965Z"
   },
   {
    "duration": 8,
    "start_time": "2022-09-14T15:08:03.971Z"
   },
   {
    "duration": 8,
    "start_time": "2022-09-14T15:08:03.980Z"
   },
   {
    "duration": 10,
    "start_time": "2022-09-14T15:08:03.989Z"
   },
   {
    "duration": 2,
    "start_time": "2022-09-14T15:08:04.001Z"
   },
   {
    "duration": 15,
    "start_time": "2022-09-14T15:08:04.005Z"
   },
   {
    "duration": 35,
    "start_time": "2022-09-14T15:08:04.021Z"
   },
   {
    "duration": 5,
    "start_time": "2022-09-14T15:08:04.058Z"
   },
   {
    "duration": 18,
    "start_time": "2022-09-14T15:08:04.064Z"
   },
   {
    "duration": 19,
    "start_time": "2022-09-14T15:08:04.084Z"
   },
   {
    "duration": 2,
    "start_time": "2022-09-14T15:08:04.105Z"
   },
   {
    "duration": 9,
    "start_time": "2022-09-14T15:08:04.108Z"
   },
   {
    "duration": 29,
    "start_time": "2022-09-14T15:08:04.118Z"
   },
   {
    "duration": 1576,
    "start_time": "2022-09-14T15:08:04.148Z"
   },
   {
    "duration": 4,
    "start_time": "2022-09-14T15:08:05.726Z"
   },
   {
    "duration": 17,
    "start_time": "2022-09-14T15:08:05.731Z"
   },
   {
    "duration": 3,
    "start_time": "2022-09-14T15:08:05.750Z"
   },
   {
    "duration": 9,
    "start_time": "2022-09-14T15:08:05.755Z"
   },
   {
    "duration": 7,
    "start_time": "2022-09-14T15:08:05.766Z"
   },
   {
    "duration": 6,
    "start_time": "2022-09-14T15:08:05.774Z"
   },
   {
    "duration": 8,
    "start_time": "2022-09-14T15:08:05.782Z"
   },
   {
    "duration": 27,
    "start_time": "2022-09-14T15:08:05.791Z"
   },
   {
    "duration": 44,
    "start_time": "2022-09-14T15:08:05.819Z"
   },
   {
    "duration": 16,
    "start_time": "2022-09-14T15:08:05.864Z"
   },
   {
    "duration": 5,
    "start_time": "2022-09-14T15:08:05.882Z"
   },
   {
    "duration": 4,
    "start_time": "2022-09-14T15:08:05.891Z"
   },
   {
    "duration": 66,
    "start_time": "2022-09-14T15:08:05.896Z"
   },
   {
    "duration": 739,
    "start_time": "2022-09-14T15:08:05.963Z"
   },
   {
    "duration": 45,
    "start_time": "2022-09-14T15:08:06.703Z"
   },
   {
    "duration": 97,
    "start_time": "2022-09-14T15:08:06.750Z"
   },
   {
    "duration": 8,
    "start_time": "2022-09-14T15:08:06.849Z"
   },
   {
    "duration": 6,
    "start_time": "2022-09-14T15:08:06.859Z"
   },
   {
    "duration": 10,
    "start_time": "2022-09-14T15:08:06.867Z"
   },
   {
    "duration": 3,
    "start_time": "2022-09-14T15:08:06.879Z"
   },
   {
    "duration": 13,
    "start_time": "2022-09-14T15:08:06.884Z"
   },
   {
    "duration": 12,
    "start_time": "2022-09-14T15:08:06.899Z"
   },
   {
    "duration": 12,
    "start_time": "2022-09-14T15:08:06.947Z"
   },
   {
    "duration": 13,
    "start_time": "2022-09-14T15:08:06.961Z"
   },
   {
    "duration": 352,
    "start_time": "2022-09-14T15:08:07.048Z"
   },
   {
    "duration": 335,
    "start_time": "2022-09-14T15:08:07.401Z"
   },
   {
    "duration": 9,
    "start_time": "2022-09-14T15:08:07.738Z"
   },
   {
    "duration": 3,
    "start_time": "2022-09-14T15:08:07.748Z"
   },
   {
    "duration": 6,
    "start_time": "2022-09-14T15:08:07.752Z"
   },
   {
    "duration": 9,
    "start_time": "2022-09-14T15:08:07.760Z"
   },
   {
    "duration": 7,
    "start_time": "2022-09-14T15:08:07.771Z"
   },
   {
    "duration": 13,
    "start_time": "2022-09-14T15:08:07.780Z"
   },
   {
    "duration": 3,
    "start_time": "2022-09-14T15:08:07.794Z"
   },
   {
    "duration": 64,
    "start_time": "2022-09-14T15:08:07.799Z"
   },
   {
    "duration": 1727,
    "start_time": "2022-09-14T15:08:07.865Z"
   },
   {
    "duration": 162,
    "start_time": "2022-09-14T15:08:09.594Z"
   },
   {
    "duration": 3,
    "start_time": "2022-09-14T15:08:09.846Z"
   },
   {
    "duration": 11,
    "start_time": "2022-09-14T15:08:09.851Z"
   },
   {
    "duration": 14,
    "start_time": "2022-09-14T15:08:09.864Z"
   },
   {
    "duration": 154,
    "start_time": "2022-09-14T15:08:09.879Z"
   },
   {
    "duration": 0,
    "start_time": "2022-09-14T15:08:10.035Z"
   },
   {
    "duration": 0,
    "start_time": "2022-09-14T15:08:10.036Z"
   },
   {
    "duration": 0,
    "start_time": "2022-09-14T15:08:10.046Z"
   },
   {
    "duration": 0,
    "start_time": "2022-09-14T15:08:10.048Z"
   },
   {
    "duration": 0,
    "start_time": "2022-09-14T15:08:10.049Z"
   },
   {
    "duration": 0,
    "start_time": "2022-09-14T15:08:10.050Z"
   },
   {
    "duration": 0,
    "start_time": "2022-09-14T15:08:10.050Z"
   },
   {
    "duration": 0,
    "start_time": "2022-09-14T15:08:10.051Z"
   },
   {
    "duration": 4,
    "start_time": "2022-09-14T15:08:27.005Z"
   },
   {
    "duration": 4,
    "start_time": "2022-09-14T15:08:27.352Z"
   },
   {
    "duration": 1343,
    "start_time": "2022-09-14T15:08:31.739Z"
   },
   {
    "duration": 72,
    "start_time": "2022-09-14T15:08:33.084Z"
   },
   {
    "duration": 4,
    "start_time": "2022-09-14T15:08:33.158Z"
   },
   {
    "duration": 5,
    "start_time": "2022-09-14T15:08:33.164Z"
   },
   {
    "duration": 12,
    "start_time": "2022-09-14T15:08:33.170Z"
   },
   {
    "duration": 8,
    "start_time": "2022-09-14T15:08:33.183Z"
   },
   {
    "duration": 4,
    "start_time": "2022-09-14T15:08:33.193Z"
   },
   {
    "duration": 22,
    "start_time": "2022-09-14T15:08:33.199Z"
   },
   {
    "duration": 15,
    "start_time": "2022-09-14T15:08:33.223Z"
   },
   {
    "duration": 3,
    "start_time": "2022-09-14T15:08:33.246Z"
   },
   {
    "duration": 19,
    "start_time": "2022-09-14T15:08:33.251Z"
   },
   {
    "duration": 21,
    "start_time": "2022-09-14T15:08:33.271Z"
   },
   {
    "duration": 3,
    "start_time": "2022-09-14T15:08:33.293Z"
   },
   {
    "duration": 9,
    "start_time": "2022-09-14T15:08:33.297Z"
   },
   {
    "duration": 10,
    "start_time": "2022-09-14T15:08:33.307Z"
   },
   {
    "duration": 1540,
    "start_time": "2022-09-14T15:08:33.318Z"
   },
   {
    "duration": 4,
    "start_time": "2022-09-14T15:08:34.860Z"
   },
   {
    "duration": 7,
    "start_time": "2022-09-14T15:08:34.866Z"
   },
   {
    "duration": 4,
    "start_time": "2022-09-14T15:08:34.875Z"
   },
   {
    "duration": 9,
    "start_time": "2022-09-14T15:08:34.880Z"
   },
   {
    "duration": 6,
    "start_time": "2022-09-14T15:08:34.890Z"
   },
   {
    "duration": 7,
    "start_time": "2022-09-14T15:08:34.897Z"
   },
   {
    "duration": 8,
    "start_time": "2022-09-14T15:08:34.905Z"
   },
   {
    "duration": 20,
    "start_time": "2022-09-14T15:08:34.947Z"
   },
   {
    "duration": 17,
    "start_time": "2022-09-14T15:08:34.968Z"
   },
   {
    "duration": 15,
    "start_time": "2022-09-14T15:08:34.986Z"
   },
   {
    "duration": 6,
    "start_time": "2022-09-14T15:08:35.003Z"
   },
   {
    "duration": 38,
    "start_time": "2022-09-14T15:08:35.012Z"
   },
   {
    "duration": 36,
    "start_time": "2022-09-14T15:08:35.052Z"
   },
   {
    "duration": 647,
    "start_time": "2022-09-14T15:08:35.090Z"
   },
   {
    "duration": 26,
    "start_time": "2022-09-14T15:08:35.739Z"
   },
   {
    "duration": 85,
    "start_time": "2022-09-14T15:08:35.767Z"
   },
   {
    "duration": 101,
    "start_time": "2022-09-14T15:08:35.854Z"
   },
   {
    "duration": 5,
    "start_time": "2022-09-14T15:08:35.957Z"
   },
   {
    "duration": 8,
    "start_time": "2022-09-14T15:08:35.963Z"
   },
   {
    "duration": 3,
    "start_time": "2022-09-14T15:08:35.973Z"
   },
   {
    "duration": 17,
    "start_time": "2022-09-14T15:08:35.977Z"
   },
   {
    "duration": 11,
    "start_time": "2022-09-14T15:08:35.995Z"
   },
   {
    "duration": 40,
    "start_time": "2022-09-14T15:08:36.007Z"
   },
   {
    "duration": 15,
    "start_time": "2022-09-14T15:08:36.049Z"
   },
   {
    "duration": 523,
    "start_time": "2022-09-14T15:08:36.149Z"
   },
   {
    "duration": 481,
    "start_time": "2022-09-14T15:08:36.673Z"
   },
   {
    "duration": 2,
    "start_time": "2022-09-14T15:08:37.155Z"
   },
   {
    "duration": 6,
    "start_time": "2022-09-14T15:08:37.159Z"
   },
   {
    "duration": 9,
    "start_time": "2022-09-14T15:08:37.166Z"
   },
   {
    "duration": 13,
    "start_time": "2022-09-14T15:08:37.177Z"
   },
   {
    "duration": 5,
    "start_time": "2022-09-14T15:08:37.191Z"
   },
   {
    "duration": 10,
    "start_time": "2022-09-14T15:08:37.247Z"
   },
   {
    "duration": 8,
    "start_time": "2022-09-14T15:08:37.258Z"
   },
   {
    "duration": 87,
    "start_time": "2022-09-14T15:08:37.268Z"
   },
   {
    "duration": 1894,
    "start_time": "2022-09-14T15:08:37.357Z"
   },
   {
    "duration": 194,
    "start_time": "2022-09-14T15:08:39.253Z"
   },
   {
    "duration": 2,
    "start_time": "2022-09-14T15:08:39.449Z"
   },
   {
    "duration": 7,
    "start_time": "2022-09-14T15:08:39.453Z"
   },
   {
    "duration": 8,
    "start_time": "2022-09-14T15:08:39.461Z"
   },
   {
    "duration": 200,
    "start_time": "2022-09-14T15:08:39.470Z"
   },
   {
    "duration": 0,
    "start_time": "2022-09-14T15:08:39.672Z"
   },
   {
    "duration": 0,
    "start_time": "2022-09-14T15:08:39.673Z"
   },
   {
    "duration": 0,
    "start_time": "2022-09-14T15:08:39.674Z"
   },
   {
    "duration": 0,
    "start_time": "2022-09-14T15:08:39.675Z"
   },
   {
    "duration": 0,
    "start_time": "2022-09-14T15:08:39.676Z"
   },
   {
    "duration": 0,
    "start_time": "2022-09-14T15:08:39.677Z"
   },
   {
    "duration": 0,
    "start_time": "2022-09-14T15:08:39.678Z"
   },
   {
    "duration": 0,
    "start_time": "2022-09-14T15:08:39.679Z"
   },
   {
    "duration": 3,
    "start_time": "2022-09-14T15:09:11.893Z"
   },
   {
    "duration": 16,
    "start_time": "2022-09-14T15:09:21.865Z"
   },
   {
    "duration": 1328,
    "start_time": "2022-09-14T15:09:25.579Z"
   },
   {
    "duration": 78,
    "start_time": "2022-09-14T15:09:26.909Z"
   },
   {
    "duration": 4,
    "start_time": "2022-09-14T15:09:26.989Z"
   },
   {
    "duration": 5,
    "start_time": "2022-09-14T15:09:26.995Z"
   },
   {
    "duration": 7,
    "start_time": "2022-09-14T15:09:27.002Z"
   },
   {
    "duration": 11,
    "start_time": "2022-09-14T15:09:27.011Z"
   },
   {
    "duration": 4,
    "start_time": "2022-09-14T15:09:27.023Z"
   },
   {
    "duration": 26,
    "start_time": "2022-09-14T15:09:27.029Z"
   },
   {
    "duration": 12,
    "start_time": "2022-09-14T15:09:27.057Z"
   },
   {
    "duration": 7,
    "start_time": "2022-09-14T15:09:27.071Z"
   },
   {
    "duration": 19,
    "start_time": "2022-09-14T15:09:27.079Z"
   },
   {
    "duration": 22,
    "start_time": "2022-09-14T15:09:27.099Z"
   },
   {
    "duration": 3,
    "start_time": "2022-09-14T15:09:27.147Z"
   },
   {
    "duration": 14,
    "start_time": "2022-09-14T15:09:27.151Z"
   },
   {
    "duration": 7,
    "start_time": "2022-09-14T15:09:27.167Z"
   },
   {
    "duration": 1595,
    "start_time": "2022-09-14T15:09:27.175Z"
   },
   {
    "duration": 5,
    "start_time": "2022-09-14T15:09:28.772Z"
   },
   {
    "duration": 19,
    "start_time": "2022-09-14T15:09:28.778Z"
   },
   {
    "duration": 26,
    "start_time": "2022-09-14T15:09:28.799Z"
   },
   {
    "duration": 21,
    "start_time": "2022-09-14T15:09:28.826Z"
   },
   {
    "duration": 40,
    "start_time": "2022-09-14T15:09:28.848Z"
   },
   {
    "duration": 34,
    "start_time": "2022-09-14T15:09:28.890Z"
   },
   {
    "duration": 37,
    "start_time": "2022-09-14T15:09:28.926Z"
   },
   {
    "duration": 35,
    "start_time": "2022-09-14T15:09:28.965Z"
   },
   {
    "duration": 21,
    "start_time": "2022-09-14T15:09:29.001Z"
   },
   {
    "duration": 28,
    "start_time": "2022-09-14T15:09:29.023Z"
   },
   {
    "duration": 21,
    "start_time": "2022-09-14T15:09:29.053Z"
   },
   {
    "duration": 18,
    "start_time": "2022-09-14T15:09:29.077Z"
   },
   {
    "duration": 47,
    "start_time": "2022-09-14T15:09:29.097Z"
   },
   {
    "duration": 679,
    "start_time": "2022-09-14T15:09:29.146Z"
   },
   {
    "duration": 29,
    "start_time": "2022-09-14T15:09:29.827Z"
   },
   {
    "duration": 7,
    "start_time": "2022-09-14T15:09:29.949Z"
   },
   {
    "duration": 10,
    "start_time": "2022-09-14T15:09:30.048Z"
   },
   {
    "duration": 6,
    "start_time": "2022-09-14T15:09:30.060Z"
   },
   {
    "duration": 10,
    "start_time": "2022-09-14T15:09:30.067Z"
   },
   {
    "duration": 11,
    "start_time": "2022-09-14T15:09:30.079Z"
   },
   {
    "duration": 27,
    "start_time": "2022-09-14T15:09:30.092Z"
   },
   {
    "duration": 37,
    "start_time": "2022-09-14T15:09:30.121Z"
   },
   {
    "duration": 36,
    "start_time": "2022-09-14T15:09:30.161Z"
   },
   {
    "duration": 12,
    "start_time": "2022-09-14T15:09:30.199Z"
   },
   {
    "duration": 402,
    "start_time": "2022-09-14T15:09:30.249Z"
   },
   {
    "duration": 308,
    "start_time": "2022-09-14T15:09:30.652Z"
   },
   {
    "duration": 3,
    "start_time": "2022-09-14T15:09:30.962Z"
   },
   {
    "duration": 15,
    "start_time": "2022-09-14T15:09:30.966Z"
   },
   {
    "duration": 16,
    "start_time": "2022-09-14T15:09:30.983Z"
   },
   {
    "duration": 22,
    "start_time": "2022-09-14T15:09:31.001Z"
   },
   {
    "duration": 25,
    "start_time": "2022-09-14T15:09:31.025Z"
   },
   {
    "duration": 34,
    "start_time": "2022-09-14T15:09:31.052Z"
   },
   {
    "duration": 29,
    "start_time": "2022-09-14T15:09:31.088Z"
   },
   {
    "duration": 67,
    "start_time": "2022-09-14T15:09:31.119Z"
   },
   {
    "duration": 1865,
    "start_time": "2022-09-14T15:09:31.188Z"
   },
   {
    "duration": 28,
    "start_time": "2022-09-14T15:09:33.054Z"
   },
   {
    "duration": 3,
    "start_time": "2022-09-14T15:09:33.149Z"
   },
   {
    "duration": 103,
    "start_time": "2022-09-14T15:09:33.154Z"
   },
   {
    "duration": 6,
    "start_time": "2022-09-14T15:09:33.259Z"
   },
   {
    "duration": 110,
    "start_time": "2022-09-14T15:09:33.267Z"
   },
   {
    "duration": 0,
    "start_time": "2022-09-14T15:09:33.378Z"
   },
   {
    "duration": 0,
    "start_time": "2022-09-14T15:09:33.379Z"
   },
   {
    "duration": 0,
    "start_time": "2022-09-14T15:09:33.381Z"
   },
   {
    "duration": 0,
    "start_time": "2022-09-14T15:09:33.383Z"
   },
   {
    "duration": 0,
    "start_time": "2022-09-14T15:09:33.384Z"
   },
   {
    "duration": 0,
    "start_time": "2022-09-14T15:09:33.386Z"
   },
   {
    "duration": 0,
    "start_time": "2022-09-14T15:09:33.388Z"
   },
   {
    "duration": 0,
    "start_time": "2022-09-14T15:09:33.389Z"
   },
   {
    "duration": 4,
    "start_time": "2022-09-14T15:10:19.355Z"
   },
   {
    "duration": 4,
    "start_time": "2022-09-14T15:10:20.017Z"
   },
   {
    "duration": 8,
    "start_time": "2022-09-14T15:10:22.452Z"
   },
   {
    "duration": 4,
    "start_time": "2022-09-14T15:10:40.823Z"
   },
   {
    "duration": 10,
    "start_time": "2022-09-14T15:10:41.970Z"
   },
   {
    "duration": 3,
    "start_time": "2022-09-14T15:11:40.486Z"
   },
   {
    "duration": 10,
    "start_time": "2022-09-14T15:11:41.486Z"
   },
   {
    "duration": 3,
    "start_time": "2022-09-14T15:12:09.596Z"
   },
   {
    "duration": 9,
    "start_time": "2022-09-14T15:12:09.968Z"
   },
   {
    "duration": 3,
    "start_time": "2022-09-14T15:13:12.982Z"
   },
   {
    "duration": 4,
    "start_time": "2022-09-14T15:13:13.479Z"
   },
   {
    "duration": 10,
    "start_time": "2022-09-14T15:13:13.721Z"
   },
   {
    "duration": 1341,
    "start_time": "2022-09-14T15:13:17.921Z"
   },
   {
    "duration": 74,
    "start_time": "2022-09-14T15:13:19.266Z"
   },
   {
    "duration": 3,
    "start_time": "2022-09-14T15:13:19.342Z"
   },
   {
    "duration": 8,
    "start_time": "2022-09-14T15:13:19.347Z"
   },
   {
    "duration": 7,
    "start_time": "2022-09-14T15:13:19.356Z"
   },
   {
    "duration": 8,
    "start_time": "2022-09-14T15:13:19.365Z"
   },
   {
    "duration": 2,
    "start_time": "2022-09-14T15:13:19.375Z"
   },
   {
    "duration": 13,
    "start_time": "2022-09-14T15:13:19.378Z"
   },
   {
    "duration": 12,
    "start_time": "2022-09-14T15:13:19.394Z"
   },
   {
    "duration": 7,
    "start_time": "2022-09-14T15:13:19.407Z"
   },
   {
    "duration": 44,
    "start_time": "2022-09-14T15:13:19.416Z"
   },
   {
    "duration": 21,
    "start_time": "2022-09-14T15:13:19.461Z"
   },
   {
    "duration": 2,
    "start_time": "2022-09-14T15:13:19.484Z"
   },
   {
    "duration": 10,
    "start_time": "2022-09-14T15:13:19.487Z"
   },
   {
    "duration": 5,
    "start_time": "2022-09-14T15:13:19.499Z"
   },
   {
    "duration": 1591,
    "start_time": "2022-09-14T15:13:19.505Z"
   },
   {
    "duration": 4,
    "start_time": "2022-09-14T15:13:21.098Z"
   },
   {
    "duration": 8,
    "start_time": "2022-09-14T15:13:21.103Z"
   },
   {
    "duration": 9,
    "start_time": "2022-09-14T15:13:21.112Z"
   },
   {
    "duration": 9,
    "start_time": "2022-09-14T15:13:21.122Z"
   },
   {
    "duration": 16,
    "start_time": "2022-09-14T15:13:21.133Z"
   },
   {
    "duration": 14,
    "start_time": "2022-09-14T15:13:21.151Z"
   },
   {
    "duration": 11,
    "start_time": "2022-09-14T15:13:21.166Z"
   },
   {
    "duration": 68,
    "start_time": "2022-09-14T15:13:21.179Z"
   },
   {
    "duration": 18,
    "start_time": "2022-09-14T15:13:21.248Z"
   },
   {
    "duration": 16,
    "start_time": "2022-09-14T15:13:21.268Z"
   },
   {
    "duration": 59,
    "start_time": "2022-09-14T15:13:21.287Z"
   },
   {
    "duration": 6,
    "start_time": "2022-09-14T15:13:21.348Z"
   },
   {
    "duration": 37,
    "start_time": "2022-09-14T15:13:21.356Z"
   },
   {
    "duration": 1317,
    "start_time": "2022-09-14T15:13:21.446Z"
   },
   {
    "duration": 85,
    "start_time": "2022-09-14T15:13:22.765Z"
   },
   {
    "duration": 94,
    "start_time": "2022-09-14T15:13:22.853Z"
   },
   {
    "duration": 7,
    "start_time": "2022-09-14T15:13:22.949Z"
   },
   {
    "duration": 5,
    "start_time": "2022-09-14T15:13:22.958Z"
   },
   {
    "duration": 7,
    "start_time": "2022-09-14T15:13:22.965Z"
   },
   {
    "duration": 4,
    "start_time": "2022-09-14T15:13:22.973Z"
   },
   {
    "duration": 13,
    "start_time": "2022-09-14T15:13:22.979Z"
   },
   {
    "duration": 12,
    "start_time": "2022-09-14T15:13:22.994Z"
   },
   {
    "duration": 13,
    "start_time": "2022-09-14T15:13:23.047Z"
   },
   {
    "duration": 10,
    "start_time": "2022-09-14T15:13:23.062Z"
   },
   {
    "duration": 476,
    "start_time": "2022-09-14T15:13:23.073Z"
   },
   {
    "duration": 302,
    "start_time": "2022-09-14T15:13:23.550Z"
   },
   {
    "duration": 3,
    "start_time": "2022-09-14T15:13:23.854Z"
   },
   {
    "duration": 7,
    "start_time": "2022-09-14T15:13:23.859Z"
   },
   {
    "duration": 10,
    "start_time": "2022-09-14T15:13:23.867Z"
   },
   {
    "duration": 10,
    "start_time": "2022-09-14T15:13:23.879Z"
   },
   {
    "duration": 7,
    "start_time": "2022-09-14T15:13:23.890Z"
   },
   {
    "duration": 50,
    "start_time": "2022-09-14T15:13:23.899Z"
   },
   {
    "duration": 3,
    "start_time": "2022-09-14T15:13:23.950Z"
   },
   {
    "duration": 107,
    "start_time": "2022-09-14T15:13:23.955Z"
   },
   {
    "duration": 1640,
    "start_time": "2022-09-14T15:13:24.063Z"
   },
   {
    "duration": 42,
    "start_time": "2022-09-14T15:13:25.705Z"
   },
   {
    "duration": 7,
    "start_time": "2022-09-14T15:13:25.749Z"
   },
   {
    "duration": 23,
    "start_time": "2022-09-14T15:13:25.848Z"
   },
   {
    "duration": 76,
    "start_time": "2022-09-14T15:13:25.873Z"
   },
   {
    "duration": 119,
    "start_time": "2022-09-14T15:13:25.950Z"
   },
   {
    "duration": 0,
    "start_time": "2022-09-14T15:13:26.070Z"
   },
   {
    "duration": 0,
    "start_time": "2022-09-14T15:13:26.071Z"
   },
   {
    "duration": 0,
    "start_time": "2022-09-14T15:13:26.072Z"
   },
   {
    "duration": 0,
    "start_time": "2022-09-14T15:13:26.073Z"
   },
   {
    "duration": 0,
    "start_time": "2022-09-14T15:13:26.074Z"
   },
   {
    "duration": 0,
    "start_time": "2022-09-14T15:13:26.075Z"
   },
   {
    "duration": 0,
    "start_time": "2022-09-14T15:13:26.076Z"
   },
   {
    "duration": 0,
    "start_time": "2022-09-14T15:13:26.078Z"
   },
   {
    "duration": 1282,
    "start_time": "2022-09-14T15:13:52.989Z"
   },
   {
    "duration": 76,
    "start_time": "2022-09-14T15:13:54.273Z"
   },
   {
    "duration": 4,
    "start_time": "2022-09-14T15:13:54.351Z"
   },
   {
    "duration": 5,
    "start_time": "2022-09-14T15:13:54.358Z"
   },
   {
    "duration": 7,
    "start_time": "2022-09-14T15:13:54.365Z"
   },
   {
    "duration": 8,
    "start_time": "2022-09-14T15:13:54.374Z"
   },
   {
    "duration": 6,
    "start_time": "2022-09-14T15:13:54.384Z"
   },
   {
    "duration": 17,
    "start_time": "2022-09-14T15:13:54.391Z"
   },
   {
    "duration": 12,
    "start_time": "2022-09-14T15:13:54.410Z"
   },
   {
    "duration": 23,
    "start_time": "2022-09-14T15:13:54.424Z"
   },
   {
    "duration": 16,
    "start_time": "2022-09-14T15:13:54.449Z"
   },
   {
    "duration": 20,
    "start_time": "2022-09-14T15:13:54.467Z"
   },
   {
    "duration": 2,
    "start_time": "2022-09-14T15:13:54.488Z"
   },
   {
    "duration": 11,
    "start_time": "2022-09-14T15:13:54.492Z"
   },
   {
    "duration": 7,
    "start_time": "2022-09-14T15:13:54.505Z"
   },
   {
    "duration": 1556,
    "start_time": "2022-09-14T15:13:54.513Z"
   },
   {
    "duration": 3,
    "start_time": "2022-09-14T15:13:56.071Z"
   },
   {
    "duration": 8,
    "start_time": "2022-09-14T15:13:56.076Z"
   },
   {
    "duration": 5,
    "start_time": "2022-09-14T15:13:56.085Z"
   },
   {
    "duration": 9,
    "start_time": "2022-09-14T15:13:56.092Z"
   },
   {
    "duration": 7,
    "start_time": "2022-09-14T15:13:56.102Z"
   },
   {
    "duration": 7,
    "start_time": "2022-09-14T15:13:56.111Z"
   },
   {
    "duration": 33,
    "start_time": "2022-09-14T15:13:56.119Z"
   },
   {
    "duration": 22,
    "start_time": "2022-09-14T15:13:56.154Z"
   },
   {
    "duration": 17,
    "start_time": "2022-09-14T15:13:56.178Z"
   },
   {
    "duration": 52,
    "start_time": "2022-09-14T15:13:56.197Z"
   },
   {
    "duration": 9,
    "start_time": "2022-09-14T15:13:56.250Z"
   },
   {
    "duration": 7,
    "start_time": "2022-09-14T15:13:56.263Z"
   },
   {
    "duration": 43,
    "start_time": "2022-09-14T15:13:56.272Z"
   },
   {
    "duration": 687,
    "start_time": "2022-09-14T15:13:56.317Z"
   },
   {
    "duration": 46,
    "start_time": "2022-09-14T15:13:57.006Z"
   },
   {
    "duration": 96,
    "start_time": "2022-09-14T15:13:57.055Z"
   },
   {
    "duration": 9,
    "start_time": "2022-09-14T15:13:57.153Z"
   },
   {
    "duration": 5,
    "start_time": "2022-09-14T15:13:57.163Z"
   },
   {
    "duration": 6,
    "start_time": "2022-09-14T15:13:57.170Z"
   },
   {
    "duration": 3,
    "start_time": "2022-09-14T15:13:57.178Z"
   },
   {
    "duration": 16,
    "start_time": "2022-09-14T15:13:57.183Z"
   },
   {
    "duration": 11,
    "start_time": "2022-09-14T15:13:57.248Z"
   },
   {
    "duration": 10,
    "start_time": "2022-09-14T15:13:57.261Z"
   },
   {
    "duration": 80,
    "start_time": "2022-09-14T15:13:57.273Z"
   },
   {
    "duration": 397,
    "start_time": "2022-09-14T15:13:57.356Z"
   },
   {
    "duration": 302,
    "start_time": "2022-09-14T15:13:57.755Z"
   },
   {
    "duration": 3,
    "start_time": "2022-09-14T15:13:58.058Z"
   },
   {
    "duration": 10,
    "start_time": "2022-09-14T15:13:58.062Z"
   },
   {
    "duration": 14,
    "start_time": "2022-09-14T15:13:58.073Z"
   },
   {
    "duration": 12,
    "start_time": "2022-09-14T15:13:58.089Z"
   },
   {
    "duration": 8,
    "start_time": "2022-09-14T15:13:58.102Z"
   },
   {
    "duration": 21,
    "start_time": "2022-09-14T15:13:58.111Z"
   },
   {
    "duration": 7,
    "start_time": "2022-09-14T15:13:58.133Z"
   },
   {
    "duration": 51,
    "start_time": "2022-09-14T15:13:58.141Z"
   },
   {
    "duration": 890,
    "start_time": "2022-09-14T15:13:58.194Z"
   },
   {
    "duration": 62,
    "start_time": "2022-09-14T15:13:59.085Z"
   },
   {
    "duration": 98,
    "start_time": "2022-09-14T15:13:59.149Z"
   },
   {
    "duration": 12,
    "start_time": "2022-09-14T15:13:59.249Z"
   },
   {
    "duration": 17,
    "start_time": "2022-09-14T15:13:59.263Z"
   },
   {
    "duration": 105,
    "start_time": "2022-09-14T15:13:59.281Z"
   },
   {
    "duration": 0,
    "start_time": "2022-09-14T15:13:59.388Z"
   },
   {
    "duration": 0,
    "start_time": "2022-09-14T15:13:59.389Z"
   },
   {
    "duration": 0,
    "start_time": "2022-09-14T15:13:59.390Z"
   },
   {
    "duration": 0,
    "start_time": "2022-09-14T15:13:59.391Z"
   },
   {
    "duration": 0,
    "start_time": "2022-09-14T15:13:59.392Z"
   },
   {
    "duration": 0,
    "start_time": "2022-09-14T15:13:59.393Z"
   },
   {
    "duration": 0,
    "start_time": "2022-09-14T15:13:59.394Z"
   },
   {
    "duration": 1,
    "start_time": "2022-09-14T15:13:59.395Z"
   },
   {
    "duration": 43,
    "start_time": "2022-09-14T15:16:36.079Z"
   },
   {
    "duration": 1014,
    "start_time": "2022-09-14T15:16:36.569Z"
   },
   {
    "duration": 66,
    "start_time": "2022-09-14T15:16:37.584Z"
   },
   {
    "duration": 4,
    "start_time": "2022-09-14T15:16:37.918Z"
   },
   {
    "duration": 32,
    "start_time": "2022-09-14T15:16:37.924Z"
   },
   {
    "duration": 9,
    "start_time": "2022-09-14T15:16:38.570Z"
   },
   {
    "duration": 13,
    "start_time": "2022-09-14T15:18:12.501Z"
   },
   {
    "duration": 13,
    "start_time": "2022-09-14T15:18:14.025Z"
   },
   {
    "duration": 11,
    "start_time": "2022-09-14T15:18:35.798Z"
   },
   {
    "duration": 14,
    "start_time": "2022-09-14T15:18:40.989Z"
   },
   {
    "duration": 75427,
    "start_time": "2022-09-14T15:22:47.897Z"
   },
   {
    "duration": 1333,
    "start_time": "2022-09-14T15:25:30.700Z"
   },
   {
    "duration": 75,
    "start_time": "2022-09-14T15:25:32.035Z"
   },
   {
    "duration": 4,
    "start_time": "2022-09-14T15:25:32.112Z"
   },
   {
    "duration": 11,
    "start_time": "2022-09-14T15:25:32.119Z"
   },
   {
    "duration": 9,
    "start_time": "2022-09-14T15:25:32.132Z"
   },
   {
    "duration": 16,
    "start_time": "2022-09-14T15:25:32.143Z"
   },
   {
    "duration": 3,
    "start_time": "2022-09-14T15:25:32.161Z"
   },
   {
    "duration": 16,
    "start_time": "2022-09-14T15:25:32.166Z"
   },
   {
    "duration": 15,
    "start_time": "2022-09-14T15:25:32.183Z"
   },
   {
    "duration": 15,
    "start_time": "2022-09-14T15:25:32.201Z"
   },
   {
    "duration": 23,
    "start_time": "2022-09-14T15:25:32.218Z"
   },
   {
    "duration": 23,
    "start_time": "2022-09-14T15:25:32.243Z"
   },
   {
    "duration": 2,
    "start_time": "2022-09-14T15:25:32.268Z"
   },
   {
    "duration": 22,
    "start_time": "2022-09-14T15:25:32.272Z"
   },
   {
    "duration": 5,
    "start_time": "2022-09-14T15:25:32.296Z"
   },
   {
    "duration": 1564,
    "start_time": "2022-09-14T15:25:32.302Z"
   },
   {
    "duration": 5,
    "start_time": "2022-09-14T15:25:33.868Z"
   },
   {
    "duration": 13,
    "start_time": "2022-09-14T15:25:33.875Z"
   },
   {
    "duration": 9,
    "start_time": "2022-09-14T15:25:33.890Z"
   },
   {
    "duration": 14,
    "start_time": "2022-09-14T15:25:33.901Z"
   },
   {
    "duration": 16,
    "start_time": "2022-09-14T15:25:33.916Z"
   },
   {
    "duration": 21,
    "start_time": "2022-09-14T15:25:33.934Z"
   },
   {
    "duration": 17,
    "start_time": "2022-09-14T15:25:33.965Z"
   },
   {
    "duration": 24,
    "start_time": "2022-09-14T15:25:33.983Z"
   },
   {
    "duration": 18,
    "start_time": "2022-09-14T15:25:34.008Z"
   },
   {
    "duration": 22,
    "start_time": "2022-09-14T15:25:34.027Z"
   },
   {
    "duration": 7,
    "start_time": "2022-09-14T15:25:34.051Z"
   },
   {
    "duration": 4,
    "start_time": "2022-09-14T15:25:34.061Z"
   },
   {
    "duration": 37,
    "start_time": "2022-09-14T15:25:34.066Z"
   },
   {
    "duration": 667,
    "start_time": "2022-09-14T15:25:34.105Z"
   },
   {
    "duration": 22,
    "start_time": "2022-09-14T15:25:34.774Z"
   },
   {
    "duration": 97,
    "start_time": "2022-09-14T15:25:34.851Z"
   },
   {
    "duration": 6,
    "start_time": "2022-09-14T15:25:34.950Z"
   },
   {
    "duration": 4,
    "start_time": "2022-09-14T15:25:34.958Z"
   },
   {
    "duration": 8,
    "start_time": "2022-09-14T15:25:34.963Z"
   },
   {
    "duration": 3,
    "start_time": "2022-09-14T15:25:34.972Z"
   },
   {
    "duration": 13,
    "start_time": "2022-09-14T15:25:34.977Z"
   },
   {
    "duration": 10,
    "start_time": "2022-09-14T15:25:34.992Z"
   },
   {
    "duration": 49,
    "start_time": "2022-09-14T15:25:35.003Z"
   },
   {
    "duration": 11,
    "start_time": "2022-09-14T15:25:35.053Z"
   },
   {
    "duration": 389,
    "start_time": "2022-09-14T15:25:35.066Z"
   },
   {
    "duration": 292,
    "start_time": "2022-09-14T15:25:35.457Z"
   },
   {
    "duration": 3,
    "start_time": "2022-09-14T15:25:35.750Z"
   },
   {
    "duration": 8,
    "start_time": "2022-09-14T15:25:35.755Z"
   },
   {
    "duration": 10,
    "start_time": "2022-09-14T15:25:35.764Z"
   },
   {
    "duration": 10,
    "start_time": "2022-09-14T15:25:35.776Z"
   },
   {
    "duration": 7,
    "start_time": "2022-09-14T15:25:35.788Z"
   },
   {
    "duration": 14,
    "start_time": "2022-09-14T15:25:35.796Z"
   },
   {
    "duration": 4,
    "start_time": "2022-09-14T15:25:35.811Z"
   },
   {
    "duration": 64,
    "start_time": "2022-09-14T15:25:35.816Z"
   },
   {
    "duration": 955,
    "start_time": "2022-09-14T15:25:35.881Z"
   },
   {
    "duration": 29,
    "start_time": "2022-09-14T15:25:36.838Z"
   },
   {
    "duration": 78,
    "start_time": "2022-09-14T15:25:36.870Z"
   },
   {
    "duration": 99,
    "start_time": "2022-09-14T15:25:36.950Z"
   },
   {
    "duration": 14,
    "start_time": "2022-09-14T15:25:37.051Z"
   },
   {
    "duration": 74369,
    "start_time": "2022-09-14T15:25:37.066Z"
   },
   {
    "duration": 50,
    "start_time": "2022-09-14T15:26:51.436Z"
   },
   {
    "duration": 40,
    "start_time": "2022-09-14T15:26:51.487Z"
   },
   {
    "duration": 158,
    "start_time": "2022-09-14T15:26:51.528Z"
   },
   {
    "duration": 32,
    "start_time": "2022-09-14T15:26:51.688Z"
   },
   {
    "duration": 58,
    "start_time": "2022-09-14T15:40:13.909Z"
   },
   {
    "duration": 33,
    "start_time": "2022-09-14T15:41:21.437Z"
   },
   {
    "duration": 28,
    "start_time": "2022-09-14T15:41:32.363Z"
   },
   {
    "duration": 46,
    "start_time": "2022-09-14T15:42:02.409Z"
   },
   {
    "duration": 75743,
    "start_time": "2022-09-14T15:42:27.694Z"
   },
   {
    "duration": 82,
    "start_time": "2022-09-14T15:48:21.509Z"
   },
   {
    "duration": 75251,
    "start_time": "2022-09-14T15:48:33.503Z"
   },
   {
    "duration": 18,
    "start_time": "2022-09-14T15:50:52.532Z"
   },
   {
    "duration": 80,
    "start_time": "2022-09-14T15:56:01.104Z"
   },
   {
    "duration": 76161,
    "start_time": "2022-09-14T15:56:06.755Z"
   },
   {
    "duration": 76135,
    "start_time": "2022-09-14T16:06:33.704Z"
   },
   {
    "duration": 76999,
    "start_time": "2022-09-14T16:09:14.478Z"
   },
   {
    "duration": 8,
    "start_time": "2022-09-14T16:10:31.479Z"
   },
   {
    "duration": 15,
    "start_time": "2022-09-14T16:10:40.063Z"
   },
   {
    "duration": 16,
    "start_time": "2022-09-14T16:12:31.736Z"
   },
   {
    "duration": 9,
    "start_time": "2022-09-14T16:12:50.984Z"
   },
   {
    "duration": 16,
    "start_time": "2022-09-14T16:12:55.458Z"
   },
   {
    "duration": 14,
    "start_time": "2022-09-14T16:14:29.414Z"
   },
   {
    "duration": 10,
    "start_time": "2022-09-14T16:14:40.061Z"
   },
   {
    "duration": 17,
    "start_time": "2022-09-14T16:14:45.355Z"
   },
   {
    "duration": 1485,
    "start_time": "2022-09-14T17:02:44.292Z"
   },
   {
    "duration": 90,
    "start_time": "2022-09-14T17:02:45.780Z"
   },
   {
    "duration": 4,
    "start_time": "2022-09-14T17:02:45.872Z"
   },
   {
    "duration": 8,
    "start_time": "2022-09-14T17:02:45.879Z"
   },
   {
    "duration": 7,
    "start_time": "2022-09-14T17:02:45.889Z"
   },
   {
    "duration": 9,
    "start_time": "2022-09-14T17:02:45.897Z"
   },
   {
    "duration": 5,
    "start_time": "2022-09-14T17:02:45.908Z"
   },
   {
    "duration": 45,
    "start_time": "2022-09-14T17:02:45.914Z"
   },
   {
    "duration": 17,
    "start_time": "2022-09-14T17:02:45.961Z"
   },
   {
    "duration": 6,
    "start_time": "2022-09-14T17:02:45.980Z"
   },
   {
    "duration": 19,
    "start_time": "2022-09-14T17:02:45.987Z"
   },
   {
    "duration": 61,
    "start_time": "2022-09-14T17:02:46.008Z"
   },
   {
    "duration": 4,
    "start_time": "2022-09-14T17:02:46.070Z"
   },
   {
    "duration": 13,
    "start_time": "2022-09-14T17:02:46.076Z"
   },
   {
    "duration": 5,
    "start_time": "2022-09-14T17:02:46.091Z"
   },
   {
    "duration": 1913,
    "start_time": "2022-09-14T17:02:46.098Z"
   },
   {
    "duration": 5,
    "start_time": "2022-09-14T17:02:48.013Z"
   },
   {
    "duration": 14,
    "start_time": "2022-09-14T17:02:48.020Z"
   },
   {
    "duration": 33,
    "start_time": "2022-09-14T17:02:48.037Z"
   },
   {
    "duration": 13,
    "start_time": "2022-09-14T17:02:48.071Z"
   },
   {
    "duration": 6,
    "start_time": "2022-09-14T17:02:48.086Z"
   },
   {
    "duration": 6,
    "start_time": "2022-09-14T17:02:48.093Z"
   },
   {
    "duration": 11,
    "start_time": "2022-09-14T17:02:48.101Z"
   },
   {
    "duration": 24,
    "start_time": "2022-09-14T17:02:48.113Z"
   },
   {
    "duration": 33,
    "start_time": "2022-09-14T17:02:48.139Z"
   },
   {
    "duration": 18,
    "start_time": "2022-09-14T17:02:48.174Z"
   },
   {
    "duration": 8,
    "start_time": "2022-09-14T17:02:48.194Z"
   },
   {
    "duration": 6,
    "start_time": "2022-09-14T17:02:48.206Z"
   },
   {
    "duration": 44,
    "start_time": "2022-09-14T17:02:48.246Z"
   },
   {
    "duration": 765,
    "start_time": "2022-09-14T17:02:48.292Z"
   },
   {
    "duration": 90,
    "start_time": "2022-09-14T17:02:49.060Z"
   },
   {
    "duration": 6,
    "start_time": "2022-09-14T17:02:49.152Z"
   },
   {
    "duration": 87,
    "start_time": "2022-09-14T17:02:49.160Z"
   },
   {
    "duration": 20,
    "start_time": "2022-09-14T17:02:49.249Z"
   },
   {
    "duration": 8,
    "start_time": "2022-09-14T17:02:49.270Z"
   },
   {
    "duration": 7,
    "start_time": "2022-09-14T17:02:49.279Z"
   },
   {
    "duration": 14,
    "start_time": "2022-09-14T17:02:49.288Z"
   },
   {
    "duration": 13,
    "start_time": "2022-09-14T17:02:49.304Z"
   },
   {
    "duration": 40,
    "start_time": "2022-09-14T17:02:49.318Z"
   },
   {
    "duration": 87,
    "start_time": "2022-09-14T17:02:49.361Z"
   },
   {
    "duration": 442,
    "start_time": "2022-09-14T17:02:49.450Z"
   },
   {
    "duration": 361,
    "start_time": "2022-09-14T17:02:49.894Z"
   },
   {
    "duration": 4,
    "start_time": "2022-09-14T17:02:50.257Z"
   },
   {
    "duration": 10,
    "start_time": "2022-09-14T17:02:50.264Z"
   },
   {
    "duration": 5,
    "start_time": "2022-09-14T17:02:50.276Z"
   },
   {
    "duration": 16,
    "start_time": "2022-09-14T17:02:50.282Z"
   },
   {
    "duration": 6,
    "start_time": "2022-09-14T17:02:50.300Z"
   },
   {
    "duration": 17,
    "start_time": "2022-09-14T17:02:50.308Z"
   },
   {
    "duration": 6,
    "start_time": "2022-09-14T17:02:50.351Z"
   },
   {
    "duration": 68,
    "start_time": "2022-09-14T17:02:50.359Z"
   },
   {
    "duration": 1044,
    "start_time": "2022-09-14T17:02:50.428Z"
   },
   {
    "duration": 74,
    "start_time": "2022-09-14T17:02:51.474Z"
   },
   {
    "duration": 3,
    "start_time": "2022-09-14T17:02:51.550Z"
   },
   {
    "duration": 117,
    "start_time": "2022-09-14T17:02:51.555Z"
   },
   {
    "duration": 21,
    "start_time": "2022-09-14T17:02:51.674Z"
   },
   {
    "duration": 83377,
    "start_time": "2022-09-14T17:02:51.697Z"
   },
   {
    "duration": 16,
    "start_time": "2022-09-14T17:04:15.076Z"
   },
   {
    "duration": 78205,
    "start_time": "2022-09-14T17:04:15.094Z"
   },
   {
    "duration": 47,
    "start_time": "2022-09-14T17:05:33.300Z"
   },
   {
    "duration": 57,
    "start_time": "2022-09-14T17:05:33.349Z"
   },
   {
    "duration": 165,
    "start_time": "2022-09-14T17:05:33.408Z"
   },
   {
    "duration": 34,
    "start_time": "2022-09-14T17:05:33.575Z"
   },
   {
    "duration": 119,
    "start_time": "2022-09-14T17:05:33.613Z"
   },
   {
    "duration": 15,
    "start_time": "2022-09-14T17:07:22.091Z"
   },
   {
    "duration": 7,
    "start_time": "2022-09-14T17:08:35.604Z"
   },
   {
    "duration": 7,
    "start_time": "2022-09-14T17:08:45.419Z"
   },
   {
    "duration": 1422,
    "start_time": "2022-09-14T17:08:50.820Z"
   },
   {
    "duration": 73,
    "start_time": "2022-09-14T17:08:52.244Z"
   },
   {
    "duration": 4,
    "start_time": "2022-09-14T17:08:52.319Z"
   },
   {
    "duration": 6,
    "start_time": "2022-09-14T17:08:52.325Z"
   },
   {
    "duration": 7,
    "start_time": "2022-09-14T17:08:52.332Z"
   },
   {
    "duration": 9,
    "start_time": "2022-09-14T17:08:52.340Z"
   },
   {
    "duration": 3,
    "start_time": "2022-09-14T17:08:52.351Z"
   },
   {
    "duration": 14,
    "start_time": "2022-09-14T17:08:52.355Z"
   },
   {
    "duration": 12,
    "start_time": "2022-09-14T17:08:52.370Z"
   },
   {
    "duration": 4,
    "start_time": "2022-09-14T17:08:52.385Z"
   },
   {
    "duration": 20,
    "start_time": "2022-09-14T17:08:52.390Z"
   },
   {
    "duration": 54,
    "start_time": "2022-09-14T17:08:52.411Z"
   },
   {
    "duration": 2,
    "start_time": "2022-09-14T17:08:52.467Z"
   },
   {
    "duration": 11,
    "start_time": "2022-09-14T17:08:52.471Z"
   },
   {
    "duration": 8,
    "start_time": "2022-09-14T17:08:52.484Z"
   },
   {
    "duration": 1576,
    "start_time": "2022-09-14T17:08:52.493Z"
   },
   {
    "duration": 4,
    "start_time": "2022-09-14T17:08:54.070Z"
   },
   {
    "duration": 10,
    "start_time": "2022-09-14T17:08:54.075Z"
   },
   {
    "duration": 6,
    "start_time": "2022-09-14T17:08:54.086Z"
   },
   {
    "duration": 11,
    "start_time": "2022-09-14T17:08:54.093Z"
   },
   {
    "duration": 11,
    "start_time": "2022-09-14T17:08:54.105Z"
   },
   {
    "duration": 11,
    "start_time": "2022-09-14T17:08:54.117Z"
   },
   {
    "duration": 22,
    "start_time": "2022-09-14T17:08:54.129Z"
   },
   {
    "duration": 20,
    "start_time": "2022-09-14T17:08:54.153Z"
   },
   {
    "duration": 17,
    "start_time": "2022-09-14T17:08:54.175Z"
   },
   {
    "duration": 18,
    "start_time": "2022-09-14T17:08:54.194Z"
   },
   {
    "duration": 39,
    "start_time": "2022-09-14T17:08:54.213Z"
   },
   {
    "duration": 7,
    "start_time": "2022-09-14T17:08:54.257Z"
   },
   {
    "duration": 45,
    "start_time": "2022-09-14T17:08:54.266Z"
   },
   {
    "duration": 1040,
    "start_time": "2022-09-14T17:08:54.313Z"
   },
   {
    "duration": 93,
    "start_time": "2022-09-14T17:08:55.355Z"
   },
   {
    "duration": 97,
    "start_time": "2022-09-14T17:08:55.451Z"
   },
   {
    "duration": 7,
    "start_time": "2022-09-14T17:08:55.550Z"
   },
   {
    "duration": 11,
    "start_time": "2022-09-14T17:08:55.559Z"
   },
   {
    "duration": 21,
    "start_time": "2022-09-14T17:08:55.571Z"
   },
   {
    "duration": 5,
    "start_time": "2022-09-14T17:08:55.594Z"
   },
   {
    "duration": 58,
    "start_time": "2022-09-14T17:08:55.601Z"
   },
   {
    "duration": 16,
    "start_time": "2022-09-14T17:08:55.661Z"
   },
   {
    "duration": 14,
    "start_time": "2022-09-14T17:08:55.679Z"
   },
   {
    "duration": 10,
    "start_time": "2022-09-14T17:08:55.748Z"
   },
   {
    "duration": 513,
    "start_time": "2022-09-14T17:08:55.760Z"
   },
   {
    "duration": 511,
    "start_time": "2022-09-14T17:08:56.275Z"
   },
   {
    "duration": 4,
    "start_time": "2022-09-14T17:08:56.788Z"
   },
   {
    "duration": 5,
    "start_time": "2022-09-14T17:08:56.848Z"
   },
   {
    "duration": 6,
    "start_time": "2022-09-14T17:08:56.855Z"
   },
   {
    "duration": 13,
    "start_time": "2022-09-14T17:08:56.863Z"
   },
   {
    "duration": 6,
    "start_time": "2022-09-14T17:08:56.878Z"
   },
   {
    "duration": 69,
    "start_time": "2022-09-14T17:08:56.885Z"
   },
   {
    "duration": 8,
    "start_time": "2022-09-14T17:08:56.957Z"
   },
   {
    "duration": 86,
    "start_time": "2022-09-14T17:08:56.967Z"
   },
   {
    "duration": 918,
    "start_time": "2022-09-14T17:08:57.054Z"
   },
   {
    "duration": 74,
    "start_time": "2022-09-14T17:08:57.974Z"
   },
   {
    "duration": 4,
    "start_time": "2022-09-14T17:08:58.050Z"
   },
   {
    "duration": 96,
    "start_time": "2022-09-14T17:08:58.056Z"
   },
   {
    "duration": 12,
    "start_time": "2022-09-14T17:08:58.154Z"
   },
   {
    "duration": 77863,
    "start_time": "2022-09-14T17:08:58.168Z"
   },
   {
    "duration": 34,
    "start_time": "2022-09-14T17:10:16.032Z"
   },
   {
    "duration": 78523,
    "start_time": "2022-09-14T17:10:16.068Z"
   },
   {
    "duration": 40,
    "start_time": "2022-09-14T17:11:34.592Z"
   },
   {
    "duration": 50,
    "start_time": "2022-09-14T17:11:34.633Z"
   },
   {
    "duration": 150,
    "start_time": "2022-09-14T17:11:34.685Z"
   },
   {
    "duration": 38,
    "start_time": "2022-09-14T17:11:34.836Z"
   },
   {
    "duration": 8,
    "start_time": "2022-09-14T17:17:09.914Z"
   },
   {
    "duration": 8,
    "start_time": "2022-09-14T17:17:30.982Z"
   },
   {
    "duration": 104,
    "start_time": "2022-09-14T17:17:53.602Z"
   },
   {
    "duration": 10,
    "start_time": "2022-09-14T17:18:04.349Z"
   },
   {
    "duration": 4,
    "start_time": "2022-09-14T17:18:08.145Z"
   },
   {
    "duration": 9,
    "start_time": "2022-09-14T17:18:08.979Z"
   },
   {
    "duration": 1406,
    "start_time": "2022-09-14T17:18:20.680Z"
   },
   {
    "duration": 78,
    "start_time": "2022-09-14T17:18:22.088Z"
   },
   {
    "duration": 5,
    "start_time": "2022-09-14T17:18:22.167Z"
   },
   {
    "duration": 7,
    "start_time": "2022-09-14T17:18:22.174Z"
   },
   {
    "duration": 15,
    "start_time": "2022-09-14T17:18:22.182Z"
   },
   {
    "duration": 11,
    "start_time": "2022-09-14T17:18:22.199Z"
   },
   {
    "duration": 3,
    "start_time": "2022-09-14T17:18:22.213Z"
   },
   {
    "duration": 34,
    "start_time": "2022-09-14T17:18:22.218Z"
   },
   {
    "duration": 13,
    "start_time": "2022-09-14T17:18:22.254Z"
   },
   {
    "duration": 4,
    "start_time": "2022-09-14T17:18:22.270Z"
   },
   {
    "duration": 21,
    "start_time": "2022-09-14T17:18:22.276Z"
   },
   {
    "duration": 49,
    "start_time": "2022-09-14T17:18:22.298Z"
   },
   {
    "duration": 3,
    "start_time": "2022-09-14T17:18:22.349Z"
   },
   {
    "duration": 13,
    "start_time": "2022-09-14T17:18:22.353Z"
   },
   {
    "duration": 6,
    "start_time": "2022-09-14T17:18:22.368Z"
   },
   {
    "duration": 1698,
    "start_time": "2022-09-14T17:18:22.375Z"
   },
   {
    "duration": 5,
    "start_time": "2022-09-14T17:18:24.075Z"
   },
   {
    "duration": 8,
    "start_time": "2022-09-14T17:18:24.082Z"
   },
   {
    "duration": 6,
    "start_time": "2022-09-14T17:18:24.092Z"
   },
   {
    "duration": 13,
    "start_time": "2022-09-14T17:18:24.100Z"
   },
   {
    "duration": 6,
    "start_time": "2022-09-14T17:18:24.114Z"
   },
   {
    "duration": 26,
    "start_time": "2022-09-14T17:18:24.122Z"
   },
   {
    "duration": 9,
    "start_time": "2022-09-14T17:18:24.150Z"
   },
   {
    "duration": 26,
    "start_time": "2022-09-14T17:18:24.160Z"
   },
   {
    "duration": 19,
    "start_time": "2022-09-14T17:18:24.188Z"
   },
   {
    "duration": 50,
    "start_time": "2022-09-14T17:18:24.209Z"
   },
   {
    "duration": 7,
    "start_time": "2022-09-14T17:18:24.261Z"
   },
   {
    "duration": 7,
    "start_time": "2022-09-14T17:18:24.272Z"
   },
   {
    "duration": 41,
    "start_time": "2022-09-14T17:18:24.280Z"
   },
   {
    "duration": 716,
    "start_time": "2022-09-14T17:18:24.323Z"
   },
   {
    "duration": 103,
    "start_time": "2022-09-14T17:18:25.047Z"
   },
   {
    "duration": 98,
    "start_time": "2022-09-14T17:18:25.151Z"
   },
   {
    "duration": 7,
    "start_time": "2022-09-14T17:18:25.250Z"
   },
   {
    "duration": 11,
    "start_time": "2022-09-14T17:18:25.259Z"
   },
   {
    "duration": 7,
    "start_time": "2022-09-14T17:18:25.272Z"
   },
   {
    "duration": 4,
    "start_time": "2022-09-14T17:18:25.280Z"
   },
   {
    "duration": 15,
    "start_time": "2022-09-14T17:18:25.285Z"
   },
   {
    "duration": 12,
    "start_time": "2022-09-14T17:18:25.301Z"
   },
   {
    "duration": 43,
    "start_time": "2022-09-14T17:18:25.315Z"
   },
   {
    "duration": 94,
    "start_time": "2022-09-14T17:18:25.359Z"
   },
   {
    "duration": 416,
    "start_time": "2022-09-14T17:18:25.456Z"
   },
   {
    "duration": 306,
    "start_time": "2022-09-14T17:18:25.873Z"
   },
   {
    "duration": 3,
    "start_time": "2022-09-14T17:18:26.181Z"
   },
   {
    "duration": 9,
    "start_time": "2022-09-14T17:18:26.185Z"
   },
   {
    "duration": 7,
    "start_time": "2022-09-14T17:18:26.196Z"
   },
   {
    "duration": 19,
    "start_time": "2022-09-14T17:18:26.204Z"
   },
   {
    "duration": 20,
    "start_time": "2022-09-14T17:18:26.226Z"
   },
   {
    "duration": 18,
    "start_time": "2022-09-14T17:18:26.249Z"
   },
   {
    "duration": 5,
    "start_time": "2022-09-14T17:18:26.270Z"
   },
   {
    "duration": 88,
    "start_time": "2022-09-14T17:18:26.276Z"
   },
   {
    "duration": 1016,
    "start_time": "2022-09-14T17:18:26.366Z"
   },
   {
    "duration": 67,
    "start_time": "2022-09-14T17:18:27.387Z"
   },
   {
    "duration": 3,
    "start_time": "2022-09-14T17:18:27.456Z"
   },
   {
    "duration": 89,
    "start_time": "2022-09-14T17:18:27.461Z"
   },
   {
    "duration": 19,
    "start_time": "2022-09-14T17:18:27.551Z"
   },
   {
    "duration": 78302,
    "start_time": "2022-09-14T17:18:27.572Z"
   },
   {
    "duration": 21,
    "start_time": "2022-09-14T17:19:45.876Z"
   },
   {
    "duration": 7,
    "start_time": "2022-09-14T17:19:45.899Z"
   },
   {
    "duration": 16,
    "start_time": "2022-09-14T17:19:45.908Z"
   },
   {
    "duration": 77942,
    "start_time": "2022-09-14T17:19:45.926Z"
   },
   {
    "duration": 43,
    "start_time": "2022-09-14T17:21:03.870Z"
   },
   {
    "duration": 64,
    "start_time": "2022-09-14T17:21:03.915Z"
   },
   {
    "duration": 151,
    "start_time": "2022-09-14T17:21:03.981Z"
   },
   {
    "duration": 44,
    "start_time": "2022-09-14T17:21:04.134Z"
   },
   {
    "duration": 3,
    "start_time": "2022-09-14T17:21:50.109Z"
   },
   {
    "duration": 10,
    "start_time": "2022-09-14T17:21:59.887Z"
   },
   {
    "duration": 13,
    "start_time": "2022-09-14T17:22:34.262Z"
   },
   {
    "duration": 23,
    "start_time": "2022-09-14T17:23:28.511Z"
   },
   {
    "duration": 28,
    "start_time": "2022-09-14T17:23:44.445Z"
   },
   {
    "duration": 115,
    "start_time": "2022-09-14T17:27:36.933Z"
   },
   {
    "duration": 54,
    "start_time": "2022-09-14T17:27:40.747Z"
   },
   {
    "duration": 30,
    "start_time": "2022-09-14T17:27:42.982Z"
   },
   {
    "duration": 44,
    "start_time": "2022-09-14T17:29:07.701Z"
   },
   {
    "duration": 38,
    "start_time": "2022-09-14T17:29:13.552Z"
   },
   {
    "duration": 409,
    "start_time": "2022-09-14T17:37:26.682Z"
   },
   {
    "duration": 1435,
    "start_time": "2022-09-14T17:38:11.181Z"
   },
   {
    "duration": 77,
    "start_time": "2022-09-14T17:38:12.618Z"
   },
   {
    "duration": 5,
    "start_time": "2022-09-14T17:38:12.697Z"
   },
   {
    "duration": 4,
    "start_time": "2022-09-14T17:38:12.703Z"
   },
   {
    "duration": 7,
    "start_time": "2022-09-14T17:38:12.709Z"
   },
   {
    "duration": 10,
    "start_time": "2022-09-14T17:38:12.718Z"
   },
   {
    "duration": 2,
    "start_time": "2022-09-14T17:38:12.747Z"
   },
   {
    "duration": 16,
    "start_time": "2022-09-14T17:38:12.750Z"
   },
   {
    "duration": 13,
    "start_time": "2022-09-14T17:38:12.767Z"
   },
   {
    "duration": 5,
    "start_time": "2022-09-14T17:38:12.782Z"
   },
   {
    "duration": 18,
    "start_time": "2022-09-14T17:38:12.789Z"
   },
   {
    "duration": 43,
    "start_time": "2022-09-14T17:38:12.808Z"
   },
   {
    "duration": 3,
    "start_time": "2022-09-14T17:38:12.852Z"
   },
   {
    "duration": 8,
    "start_time": "2022-09-14T17:38:12.856Z"
   },
   {
    "duration": 10,
    "start_time": "2022-09-14T17:38:12.865Z"
   },
   {
    "duration": 1600,
    "start_time": "2022-09-14T17:38:12.877Z"
   },
   {
    "duration": 5,
    "start_time": "2022-09-14T17:38:14.479Z"
   },
   {
    "duration": 8,
    "start_time": "2022-09-14T17:38:14.486Z"
   },
   {
    "duration": 4,
    "start_time": "2022-09-14T17:38:14.496Z"
   },
   {
    "duration": 9,
    "start_time": "2022-09-14T17:38:14.502Z"
   },
   {
    "duration": 6,
    "start_time": "2022-09-14T17:38:14.512Z"
   },
   {
    "duration": 32,
    "start_time": "2022-09-14T17:38:14.519Z"
   },
   {
    "duration": 9,
    "start_time": "2022-09-14T17:38:14.553Z"
   },
   {
    "duration": 22,
    "start_time": "2022-09-14T17:38:14.563Z"
   },
   {
    "duration": 16,
    "start_time": "2022-09-14T17:38:14.587Z"
   },
   {
    "duration": 52,
    "start_time": "2022-09-14T17:38:14.605Z"
   },
   {
    "duration": 6,
    "start_time": "2022-09-14T17:38:14.659Z"
   },
   {
    "duration": 5,
    "start_time": "2022-09-14T17:38:14.668Z"
   },
   {
    "duration": 36,
    "start_time": "2022-09-14T17:38:14.674Z"
   },
   {
    "duration": 706,
    "start_time": "2022-09-14T17:38:14.712Z"
   },
   {
    "duration": 28,
    "start_time": "2022-09-14T17:38:15.420Z"
   },
   {
    "duration": 98,
    "start_time": "2022-09-14T17:38:15.450Z"
   },
   {
    "duration": 97,
    "start_time": "2022-09-14T17:38:15.550Z"
   },
   {
    "duration": 9,
    "start_time": "2022-09-14T17:38:15.649Z"
   },
   {
    "duration": 7,
    "start_time": "2022-09-14T17:38:15.659Z"
   },
   {
    "duration": 3,
    "start_time": "2022-09-14T17:38:15.668Z"
   },
   {
    "duration": 13,
    "start_time": "2022-09-14T17:38:15.672Z"
   },
   {
    "duration": 10,
    "start_time": "2022-09-14T17:38:15.687Z"
   },
   {
    "duration": 10,
    "start_time": "2022-09-14T17:38:15.699Z"
   },
   {
    "duration": 47,
    "start_time": "2022-09-14T17:38:15.711Z"
   },
   {
    "duration": 311,
    "start_time": "2022-09-14T17:38:15.848Z"
   },
   {
    "duration": 343,
    "start_time": "2022-09-14T17:38:16.161Z"
   },
   {
    "duration": 3,
    "start_time": "2022-09-14T17:38:16.506Z"
   },
   {
    "duration": 12,
    "start_time": "2022-09-14T17:38:16.511Z"
   },
   {
    "duration": 8,
    "start_time": "2022-09-14T17:38:16.525Z"
   },
   {
    "duration": 17,
    "start_time": "2022-09-14T17:38:16.535Z"
   },
   {
    "duration": 7,
    "start_time": "2022-09-14T17:38:16.554Z"
   },
   {
    "duration": 20,
    "start_time": "2022-09-14T17:38:16.562Z"
   },
   {
    "duration": 5,
    "start_time": "2022-09-14T17:38:16.586Z"
   },
   {
    "duration": 66,
    "start_time": "2022-09-14T17:38:16.594Z"
   },
   {
    "duration": 908,
    "start_time": "2022-09-14T17:38:16.662Z"
   },
   {
    "duration": 76,
    "start_time": "2022-09-14T17:38:17.572Z"
   },
   {
    "duration": 97,
    "start_time": "2022-09-14T17:38:17.650Z"
   },
   {
    "duration": 5,
    "start_time": "2022-09-14T17:38:17.749Z"
   },
   {
    "duration": 14,
    "start_time": "2022-09-14T17:38:17.756Z"
   },
   {
    "duration": 5,
    "start_time": "2022-09-14T17:38:17.772Z"
   },
   {
    "duration": 4,
    "start_time": "2022-09-14T17:38:17.779Z"
   },
   {
    "duration": 5,
    "start_time": "2022-09-14T17:38:17.785Z"
   },
   {
    "duration": 4,
    "start_time": "2022-09-14T17:38:17.791Z"
   },
   {
    "duration": 562,
    "start_time": "2022-09-14T17:38:17.796Z"
   },
   {
    "duration": 9,
    "start_time": "2022-09-14T17:38:18.360Z"
   },
   {
    "duration": 0,
    "start_time": "2022-09-14T17:38:18.371Z"
   },
   {
    "duration": 0,
    "start_time": "2022-09-14T17:38:18.372Z"
   },
   {
    "duration": 0,
    "start_time": "2022-09-14T17:38:18.373Z"
   },
   {
    "duration": 1366,
    "start_time": "2022-09-14T17:39:01.403Z"
   },
   {
    "duration": 76,
    "start_time": "2022-09-14T17:39:02.771Z"
   },
   {
    "duration": 5,
    "start_time": "2022-09-14T17:39:02.848Z"
   },
   {
    "duration": 9,
    "start_time": "2022-09-14T17:39:02.855Z"
   },
   {
    "duration": 7,
    "start_time": "2022-09-14T17:39:02.865Z"
   },
   {
    "duration": 8,
    "start_time": "2022-09-14T17:39:02.873Z"
   },
   {
    "duration": 10,
    "start_time": "2022-09-14T17:39:02.882Z"
   },
   {
    "duration": 14,
    "start_time": "2022-09-14T17:39:02.893Z"
   },
   {
    "duration": 12,
    "start_time": "2022-09-14T17:39:02.909Z"
   },
   {
    "duration": 25,
    "start_time": "2022-09-14T17:39:02.924Z"
   },
   {
    "duration": 21,
    "start_time": "2022-09-14T17:39:02.950Z"
   },
   {
    "duration": 20,
    "start_time": "2022-09-14T17:39:02.972Z"
   },
   {
    "duration": 2,
    "start_time": "2022-09-14T17:39:02.994Z"
   },
   {
    "duration": 15,
    "start_time": "2022-09-14T17:39:02.998Z"
   },
   {
    "duration": 15,
    "start_time": "2022-09-14T17:39:03.014Z"
   },
   {
    "duration": 1577,
    "start_time": "2022-09-14T17:39:03.031Z"
   },
   {
    "duration": 4,
    "start_time": "2022-09-14T17:39:04.610Z"
   },
   {
    "duration": 26,
    "start_time": "2022-09-14T17:39:04.616Z"
   },
   {
    "duration": 23,
    "start_time": "2022-09-14T17:39:04.644Z"
   },
   {
    "duration": 33,
    "start_time": "2022-09-14T17:39:04.669Z"
   },
   {
    "duration": 22,
    "start_time": "2022-09-14T17:39:04.704Z"
   },
   {
    "duration": 27,
    "start_time": "2022-09-14T17:39:04.727Z"
   },
   {
    "duration": 13,
    "start_time": "2022-09-14T17:39:04.756Z"
   },
   {
    "duration": 41,
    "start_time": "2022-09-14T17:39:04.771Z"
   },
   {
    "duration": 30,
    "start_time": "2022-09-14T17:39:04.813Z"
   },
   {
    "duration": 19,
    "start_time": "2022-09-14T17:39:04.845Z"
   },
   {
    "duration": 18,
    "start_time": "2022-09-14T17:39:04.866Z"
   },
   {
    "duration": 7,
    "start_time": "2022-09-14T17:39:04.889Z"
   },
   {
    "duration": 44,
    "start_time": "2022-09-14T17:39:04.898Z"
   },
   {
    "duration": 689,
    "start_time": "2022-09-14T17:39:04.944Z"
   },
   {
    "duration": 112,
    "start_time": "2022-09-14T17:39:05.635Z"
   },
   {
    "duration": 101,
    "start_time": "2022-09-14T17:39:05.750Z"
   },
   {
    "duration": 23,
    "start_time": "2022-09-14T17:39:05.852Z"
   },
   {
    "duration": 27,
    "start_time": "2022-09-14T17:39:05.877Z"
   },
   {
    "duration": 21,
    "start_time": "2022-09-14T17:39:05.905Z"
   },
   {
    "duration": 22,
    "start_time": "2022-09-14T17:39:05.928Z"
   },
   {
    "duration": 38,
    "start_time": "2022-09-14T17:39:05.951Z"
   },
   {
    "duration": 31,
    "start_time": "2022-09-14T17:39:05.991Z"
   },
   {
    "duration": 40,
    "start_time": "2022-09-14T17:39:06.023Z"
   },
   {
    "duration": 34,
    "start_time": "2022-09-14T17:39:06.065Z"
   },
   {
    "duration": 454,
    "start_time": "2022-09-14T17:39:06.147Z"
   },
   {
    "duration": 346,
    "start_time": "2022-09-14T17:39:06.603Z"
   },
   {
    "duration": 2,
    "start_time": "2022-09-14T17:39:06.951Z"
   },
   {
    "duration": 25,
    "start_time": "2022-09-14T17:39:06.955Z"
   },
   {
    "duration": 16,
    "start_time": "2022-09-14T17:39:06.981Z"
   },
   {
    "duration": 31,
    "start_time": "2022-09-14T17:39:06.998Z"
   },
   {
    "duration": 14,
    "start_time": "2022-09-14T17:39:07.031Z"
   },
   {
    "duration": 35,
    "start_time": "2022-09-14T17:39:07.047Z"
   },
   {
    "duration": 18,
    "start_time": "2022-09-14T17:39:07.083Z"
   },
   {
    "duration": 64,
    "start_time": "2022-09-14T17:39:07.103Z"
   },
   {
    "duration": 962,
    "start_time": "2022-09-14T17:39:07.169Z"
   },
   {
    "duration": 38,
    "start_time": "2022-09-14T17:39:08.133Z"
   },
   {
    "duration": 75,
    "start_time": "2022-09-14T17:39:08.173Z"
   },
   {
    "duration": 104,
    "start_time": "2022-09-14T17:39:08.251Z"
   },
   {
    "duration": 14,
    "start_time": "2022-09-14T17:39:08.356Z"
   },
   {
    "duration": 6,
    "start_time": "2022-09-14T17:39:08.371Z"
   },
   {
    "duration": 5,
    "start_time": "2022-09-14T17:39:08.378Z"
   },
   {
    "duration": 6,
    "start_time": "2022-09-14T17:39:08.385Z"
   },
   {
    "duration": 6,
    "start_time": "2022-09-14T17:39:08.393Z"
   },
   {
    "duration": 1279,
    "start_time": "2022-09-14T17:39:49.667Z"
   },
   {
    "duration": 74,
    "start_time": "2022-09-14T17:39:50.948Z"
   },
   {
    "duration": 6,
    "start_time": "2022-09-14T17:39:51.023Z"
   },
   {
    "duration": 7,
    "start_time": "2022-09-14T17:39:51.031Z"
   },
   {
    "duration": 11,
    "start_time": "2022-09-14T17:39:51.040Z"
   },
   {
    "duration": 10,
    "start_time": "2022-09-14T17:39:51.052Z"
   },
   {
    "duration": 5,
    "start_time": "2022-09-14T17:39:51.063Z"
   },
   {
    "duration": 16,
    "start_time": "2022-09-14T17:39:51.069Z"
   },
   {
    "duration": 11,
    "start_time": "2022-09-14T17:39:51.087Z"
   },
   {
    "duration": 9,
    "start_time": "2022-09-14T17:39:51.100Z"
   },
   {
    "duration": 19,
    "start_time": "2022-09-14T17:39:51.110Z"
   },
   {
    "duration": 31,
    "start_time": "2022-09-14T17:39:51.130Z"
   },
   {
    "duration": 2,
    "start_time": "2022-09-14T17:39:51.163Z"
   },
   {
    "duration": 39,
    "start_time": "2022-09-14T17:39:51.166Z"
   },
   {
    "duration": 10,
    "start_time": "2022-09-14T17:39:51.207Z"
   },
   {
    "duration": 1617,
    "start_time": "2022-09-14T17:39:51.219Z"
   },
   {
    "duration": 8,
    "start_time": "2022-09-14T17:39:52.838Z"
   },
   {
    "duration": 4,
    "start_time": "2022-09-14T17:39:52.848Z"
   },
   {
    "duration": 5,
    "start_time": "2022-09-14T17:39:52.854Z"
   },
   {
    "duration": 10,
    "start_time": "2022-09-14T17:39:52.861Z"
   },
   {
    "duration": 16,
    "start_time": "2022-09-14T17:39:52.872Z"
   },
   {
    "duration": 8,
    "start_time": "2022-09-14T17:39:52.890Z"
   },
   {
    "duration": 10,
    "start_time": "2022-09-14T17:39:52.900Z"
   },
   {
    "duration": 35,
    "start_time": "2022-09-14T17:39:52.912Z"
   },
   {
    "duration": 17,
    "start_time": "2022-09-14T17:39:52.949Z"
   },
   {
    "duration": 17,
    "start_time": "2022-09-14T17:39:52.968Z"
   },
   {
    "duration": 6,
    "start_time": "2022-09-14T17:39:52.987Z"
   },
   {
    "duration": 4,
    "start_time": "2022-09-14T17:39:52.998Z"
   },
   {
    "duration": 74,
    "start_time": "2022-09-14T17:39:53.004Z"
   },
   {
    "duration": 665,
    "start_time": "2022-09-14T17:39:53.080Z"
   },
   {
    "duration": 24,
    "start_time": "2022-09-14T17:39:53.747Z"
   },
   {
    "duration": 81,
    "start_time": "2022-09-14T17:39:53.773Z"
   },
   {
    "duration": 8,
    "start_time": "2022-09-14T17:39:53.946Z"
   },
   {
    "duration": 5,
    "start_time": "2022-09-14T17:39:53.955Z"
   },
   {
    "duration": 6,
    "start_time": "2022-09-14T17:39:53.961Z"
   },
   {
    "duration": 4,
    "start_time": "2022-09-14T17:39:53.969Z"
   },
   {
    "duration": 13,
    "start_time": "2022-09-14T17:39:53.975Z"
   },
   {
    "duration": 11,
    "start_time": "2022-09-14T17:39:53.989Z"
   },
   {
    "duration": 10,
    "start_time": "2022-09-14T17:39:54.001Z"
   },
   {
    "duration": 41,
    "start_time": "2022-09-14T17:39:54.013Z"
   },
   {
    "duration": 374,
    "start_time": "2022-09-14T17:39:54.056Z"
   },
   {
    "duration": 308,
    "start_time": "2022-09-14T17:39:54.432Z"
   },
   {
    "duration": 2,
    "start_time": "2022-09-14T17:39:54.746Z"
   },
   {
    "duration": 7,
    "start_time": "2022-09-14T17:39:54.749Z"
   },
   {
    "duration": 6,
    "start_time": "2022-09-14T17:39:54.757Z"
   },
   {
    "duration": 14,
    "start_time": "2022-09-14T17:39:54.764Z"
   },
   {
    "duration": 7,
    "start_time": "2022-09-14T17:39:54.779Z"
   },
   {
    "duration": 24,
    "start_time": "2022-09-14T17:39:54.787Z"
   },
   {
    "duration": 3,
    "start_time": "2022-09-14T17:39:54.812Z"
   },
   {
    "duration": 49,
    "start_time": "2022-09-14T17:39:54.817Z"
   },
   {
    "duration": 903,
    "start_time": "2022-09-14T17:39:54.868Z"
   },
   {
    "duration": 74,
    "start_time": "2022-09-14T17:39:55.773Z"
   },
   {
    "duration": 94,
    "start_time": "2022-09-14T17:39:55.853Z"
   },
   {
    "duration": 7,
    "start_time": "2022-09-14T17:39:55.949Z"
   },
   {
    "duration": 15,
    "start_time": "2022-09-14T17:39:55.957Z"
   },
   {
    "duration": 7,
    "start_time": "2022-09-14T17:39:55.974Z"
   },
   {
    "duration": 5,
    "start_time": "2022-09-14T17:39:55.982Z"
   },
   {
    "duration": 10,
    "start_time": "2022-09-14T17:39:55.989Z"
   },
   {
    "duration": 7,
    "start_time": "2022-09-14T17:39:56.001Z"
   },
   {
    "duration": 75992,
    "start_time": "2022-09-14T17:39:56.010Z"
   },
   {
    "duration": 51,
    "start_time": "2022-09-14T17:41:12.004Z"
   },
   {
    "duration": 40,
    "start_time": "2022-09-14T17:41:12.057Z"
   },
   {
    "duration": 155,
    "start_time": "2022-09-14T17:41:12.099Z"
   },
   {
    "duration": 35,
    "start_time": "2022-09-14T17:41:12.256Z"
   },
   {
    "duration": 54,
    "start_time": "2022-09-14T17:45:06.492Z"
   },
   {
    "duration": 10,
    "start_time": "2022-09-14T17:48:52.295Z"
   },
   {
    "duration": 3,
    "start_time": "2022-09-14T17:52:23.429Z"
   },
   {
    "duration": 7,
    "start_time": "2022-09-14T17:52:31.004Z"
   },
   {
    "duration": 3,
    "start_time": "2022-09-14T17:53:04.096Z"
   },
   {
    "duration": 7,
    "start_time": "2022-09-14T17:53:04.669Z"
   },
   {
    "duration": 104,
    "start_time": "2022-09-14T17:54:04.622Z"
   },
   {
    "duration": 7,
    "start_time": "2022-09-14T17:54:05.323Z"
   },
   {
    "duration": 4,
    "start_time": "2022-09-14T17:54:19.852Z"
   },
   {
    "duration": 10,
    "start_time": "2022-09-14T17:54:20.732Z"
   },
   {
    "duration": 277,
    "start_time": "2022-09-14T17:54:58.960Z"
   },
   {
    "duration": 6,
    "start_time": "2022-09-14T17:54:59.509Z"
   },
   {
    "duration": 216,
    "start_time": "2022-09-14T17:55:17.857Z"
   },
   {
    "duration": 3,
    "start_time": "2022-09-14T17:55:26.548Z"
   },
   {
    "duration": 6,
    "start_time": "2022-09-14T17:55:27.277Z"
   },
   {
    "duration": 218,
    "start_time": "2022-09-14T17:56:07.203Z"
   },
   {
    "duration": 272,
    "start_time": "2022-09-14T17:56:40.704Z"
   },
   {
    "duration": 4,
    "start_time": "2022-09-14T17:56:47.062Z"
   },
   {
    "duration": 8,
    "start_time": "2022-09-14T17:56:50.697Z"
   },
   {
    "duration": 17,
    "start_time": "2022-09-14T17:57:18.552Z"
   },
   {
    "duration": 4,
    "start_time": "2022-09-14T17:57:28.683Z"
   },
   {
    "duration": 8,
    "start_time": "2022-09-14T17:57:29.717Z"
   },
   {
    "duration": 77747,
    "start_time": "2022-09-14T17:59:19.624Z"
   },
   {
    "duration": 34,
    "start_time": "2022-09-14T18:01:08.246Z"
   },
   {
    "duration": 63296,
    "start_time": "2022-09-14T18:01:36.203Z"
   },
   {
    "duration": 1337,
    "start_time": "2022-09-14T18:02:44.433Z"
   },
   {
    "duration": 83,
    "start_time": "2022-09-14T18:02:45.772Z"
   },
   {
    "duration": 6,
    "start_time": "2022-09-14T18:02:45.856Z"
   },
   {
    "duration": 9,
    "start_time": "2022-09-14T18:02:45.863Z"
   },
   {
    "duration": 13,
    "start_time": "2022-09-14T18:02:45.874Z"
   },
   {
    "duration": 10,
    "start_time": "2022-09-14T18:02:45.889Z"
   },
   {
    "duration": 4,
    "start_time": "2022-09-14T18:02:45.900Z"
   },
   {
    "duration": 18,
    "start_time": "2022-09-14T18:02:45.905Z"
   },
   {
    "duration": 12,
    "start_time": "2022-09-14T18:02:45.925Z"
   },
   {
    "duration": 3,
    "start_time": "2022-09-14T18:02:45.956Z"
   },
   {
    "duration": 29,
    "start_time": "2022-09-14T18:02:45.961Z"
   },
   {
    "duration": 23,
    "start_time": "2022-09-14T18:02:45.991Z"
   },
   {
    "duration": 3,
    "start_time": "2022-09-14T18:02:46.015Z"
   },
   {
    "duration": 20,
    "start_time": "2022-09-14T18:02:46.019Z"
   },
   {
    "duration": 12,
    "start_time": "2022-09-14T18:02:46.041Z"
   },
   {
    "duration": 1634,
    "start_time": "2022-09-14T18:02:46.054Z"
   },
   {
    "duration": 4,
    "start_time": "2022-09-14T18:02:47.690Z"
   },
   {
    "duration": 14,
    "start_time": "2022-09-14T18:02:47.695Z"
   },
   {
    "duration": 4,
    "start_time": "2022-09-14T18:02:47.711Z"
   },
   {
    "duration": 13,
    "start_time": "2022-09-14T18:02:47.716Z"
   },
   {
    "duration": 16,
    "start_time": "2022-09-14T18:02:47.731Z"
   },
   {
    "duration": 6,
    "start_time": "2022-09-14T18:02:47.748Z"
   },
   {
    "duration": 8,
    "start_time": "2022-09-14T18:02:47.756Z"
   },
   {
    "duration": 23,
    "start_time": "2022-09-14T18:02:47.766Z"
   },
   {
    "duration": 19,
    "start_time": "2022-09-14T18:02:47.791Z"
   },
   {
    "duration": 50,
    "start_time": "2022-09-14T18:02:47.811Z"
   },
   {
    "duration": 7,
    "start_time": "2022-09-14T18:02:47.862Z"
   },
   {
    "duration": 5,
    "start_time": "2022-09-14T18:02:47.873Z"
   },
   {
    "duration": 37,
    "start_time": "2022-09-14T18:02:47.880Z"
   },
   {
    "duration": 717,
    "start_time": "2022-09-14T18:02:47.919Z"
   },
   {
    "duration": 22,
    "start_time": "2022-09-14T18:02:48.638Z"
   },
   {
    "duration": 92,
    "start_time": "2022-09-14T18:02:48.662Z"
   },
   {
    "duration": 102,
    "start_time": "2022-09-14T18:02:48.756Z"
   },
   {
    "duration": 5,
    "start_time": "2022-09-14T18:02:48.860Z"
   },
   {
    "duration": 7,
    "start_time": "2022-09-14T18:02:48.866Z"
   },
   {
    "duration": 4,
    "start_time": "2022-09-14T18:02:48.875Z"
   },
   {
    "duration": 18,
    "start_time": "2022-09-14T18:02:48.880Z"
   },
   {
    "duration": 13,
    "start_time": "2022-09-14T18:02:48.900Z"
   },
   {
    "duration": 16,
    "start_time": "2022-09-14T18:02:48.946Z"
   },
   {
    "duration": 83,
    "start_time": "2022-09-14T18:02:48.964Z"
   },
   {
    "duration": 417,
    "start_time": "2022-09-14T18:02:49.049Z"
   },
   {
    "duration": 280,
    "start_time": "2022-09-14T18:02:49.467Z"
   },
   {
    "duration": 3,
    "start_time": "2022-09-14T18:02:49.748Z"
   },
   {
    "duration": 8,
    "start_time": "2022-09-14T18:02:49.752Z"
   },
   {
    "duration": 9,
    "start_time": "2022-09-14T18:02:49.762Z"
   },
   {
    "duration": 10,
    "start_time": "2022-09-14T18:02:49.773Z"
   },
   {
    "duration": 5,
    "start_time": "2022-09-14T18:02:49.785Z"
   },
   {
    "duration": 13,
    "start_time": "2022-09-14T18:02:49.792Z"
   },
   {
    "duration": 3,
    "start_time": "2022-09-14T18:02:49.807Z"
   },
   {
    "duration": 59,
    "start_time": "2022-09-14T18:02:49.812Z"
   },
   {
    "duration": 947,
    "start_time": "2022-09-14T18:02:49.873Z"
   },
   {
    "duration": 32,
    "start_time": "2022-09-14T18:02:50.821Z"
   },
   {
    "duration": 93,
    "start_time": "2022-09-14T18:02:50.855Z"
   },
   {
    "duration": 106,
    "start_time": "2022-09-14T18:02:50.950Z"
   },
   {
    "duration": 19,
    "start_time": "2022-09-14T18:02:51.058Z"
   },
   {
    "duration": 38120,
    "start_time": "2022-09-14T18:02:51.079Z"
   },
   {
    "duration": 48,
    "start_time": "2022-09-14T18:03:29.201Z"
   },
   {
    "duration": 39,
    "start_time": "2022-09-14T18:03:29.250Z"
   },
   {
    "duration": 171,
    "start_time": "2022-09-14T18:03:29.291Z"
   },
   {
    "duration": 34,
    "start_time": "2022-09-14T18:03:29.464Z"
   },
   {
    "duration": 9,
    "start_time": "2022-09-14T18:03:29.499Z"
   },
   {
    "duration": 37587,
    "start_time": "2022-09-14T18:04:10.433Z"
   },
   {
    "duration": 8,
    "start_time": "2022-09-14T18:07:30.703Z"
   },
   {
    "duration": 7,
    "start_time": "2022-09-14T18:09:54.777Z"
   },
   {
    "duration": 7,
    "start_time": "2022-09-14T18:10:05.919Z"
   },
   {
    "duration": 6,
    "start_time": "2022-09-14T18:10:10.529Z"
   },
   {
    "duration": 7,
    "start_time": "2022-09-14T18:13:00.264Z"
   },
   {
    "duration": 1651,
    "start_time": "2022-09-14T18:17:04.047Z"
   },
   {
    "duration": 76,
    "start_time": "2022-09-14T18:17:05.700Z"
   },
   {
    "duration": 5,
    "start_time": "2022-09-14T18:17:05.777Z"
   },
   {
    "duration": 13,
    "start_time": "2022-09-14T18:17:05.784Z"
   },
   {
    "duration": 9,
    "start_time": "2022-09-14T18:17:05.798Z"
   },
   {
    "duration": 12,
    "start_time": "2022-09-14T18:17:05.808Z"
   },
   {
    "duration": 5,
    "start_time": "2022-09-14T18:17:05.821Z"
   },
   {
    "duration": 23,
    "start_time": "2022-09-14T18:17:05.827Z"
   },
   {
    "duration": 12,
    "start_time": "2022-09-14T18:17:05.851Z"
   },
   {
    "duration": 9,
    "start_time": "2022-09-14T18:17:05.865Z"
   },
   {
    "duration": 18,
    "start_time": "2022-09-14T18:17:05.875Z"
   },
   {
    "duration": 21,
    "start_time": "2022-09-14T18:17:05.894Z"
   },
   {
    "duration": 2,
    "start_time": "2022-09-14T18:17:05.917Z"
   },
   {
    "duration": 6,
    "start_time": "2022-09-14T18:17:05.947Z"
   },
   {
    "duration": 5,
    "start_time": "2022-09-14T18:17:05.955Z"
   },
   {
    "duration": 1620,
    "start_time": "2022-09-14T18:17:05.962Z"
   },
   {
    "duration": 4,
    "start_time": "2022-09-14T18:17:07.584Z"
   },
   {
    "duration": 11,
    "start_time": "2022-09-14T18:17:07.589Z"
   },
   {
    "duration": 4,
    "start_time": "2022-09-14T18:17:07.601Z"
   },
   {
    "duration": 10,
    "start_time": "2022-09-14T18:17:07.607Z"
   },
   {
    "duration": 6,
    "start_time": "2022-09-14T18:17:07.618Z"
   },
   {
    "duration": 25,
    "start_time": "2022-09-14T18:17:07.625Z"
   },
   {
    "duration": 9,
    "start_time": "2022-09-14T18:17:07.651Z"
   },
   {
    "duration": 24,
    "start_time": "2022-09-14T18:17:07.661Z"
   },
   {
    "duration": 18,
    "start_time": "2022-09-14T18:17:07.686Z"
   },
   {
    "duration": 44,
    "start_time": "2022-09-14T18:17:07.706Z"
   },
   {
    "duration": 7,
    "start_time": "2022-09-14T18:17:07.751Z"
   },
   {
    "duration": 5,
    "start_time": "2022-09-14T18:17:07.762Z"
   },
   {
    "duration": 43,
    "start_time": "2022-09-14T18:17:07.768Z"
   },
   {
    "duration": 714,
    "start_time": "2022-09-14T18:17:07.813Z"
   },
   {
    "duration": 25,
    "start_time": "2022-09-14T18:17:08.529Z"
   },
   {
    "duration": 93,
    "start_time": "2022-09-14T18:17:08.556Z"
   },
   {
    "duration": 100,
    "start_time": "2022-09-14T18:17:08.651Z"
   },
   {
    "duration": 6,
    "start_time": "2022-09-14T18:17:08.753Z"
   },
   {
    "duration": 6,
    "start_time": "2022-09-14T18:17:08.761Z"
   },
   {
    "duration": 4,
    "start_time": "2022-09-14T18:17:08.769Z"
   },
   {
    "duration": 24,
    "start_time": "2022-09-14T18:17:08.775Z"
   },
   {
    "duration": 12,
    "start_time": "2022-09-14T18:17:08.801Z"
   },
   {
    "duration": 41,
    "start_time": "2022-09-14T18:17:08.815Z"
   },
   {
    "duration": 90,
    "start_time": "2022-09-14T18:17:08.858Z"
   },
   {
    "duration": 402,
    "start_time": "2022-09-14T18:17:08.953Z"
   },
   {
    "duration": 296,
    "start_time": "2022-09-14T18:17:09.357Z"
   },
   {
    "duration": 3,
    "start_time": "2022-09-14T18:17:09.654Z"
   },
   {
    "duration": 7,
    "start_time": "2022-09-14T18:17:09.658Z"
   },
   {
    "duration": 7,
    "start_time": "2022-09-14T18:17:09.666Z"
   },
   {
    "duration": 10,
    "start_time": "2022-09-14T18:17:09.674Z"
   },
   {
    "duration": 7,
    "start_time": "2022-09-14T18:17:09.686Z"
   },
   {
    "duration": 14,
    "start_time": "2022-09-14T18:17:09.694Z"
   },
   {
    "duration": 3,
    "start_time": "2022-09-14T18:17:09.709Z"
   },
   {
    "duration": 62,
    "start_time": "2022-09-14T18:17:09.714Z"
   },
   {
    "duration": 912,
    "start_time": "2022-09-14T18:17:09.778Z"
   },
   {
    "duration": 55,
    "start_time": "2022-09-14T18:17:10.692Z"
   },
   {
    "duration": 4,
    "start_time": "2022-09-14T18:17:10.750Z"
   },
   {
    "duration": 98,
    "start_time": "2022-09-14T18:17:10.756Z"
   },
   {
    "duration": 13,
    "start_time": "2022-09-14T18:17:10.855Z"
   },
   {
    "duration": 38564,
    "start_time": "2022-09-14T18:17:10.870Z"
   },
   {
    "duration": 49,
    "start_time": "2022-09-14T18:17:49.436Z"
   },
   {
    "duration": 41,
    "start_time": "2022-09-14T18:17:49.486Z"
   },
   {
    "duration": 169,
    "start_time": "2022-09-14T18:17:49.528Z"
   },
   {
    "duration": 33,
    "start_time": "2022-09-14T18:17:49.698Z"
   },
   {
    "duration": 18,
    "start_time": "2022-09-14T18:17:49.733Z"
   },
   {
    "duration": 9,
    "start_time": "2022-09-14T18:17:49.753Z"
   },
   {
    "duration": 38794,
    "start_time": "2022-09-14T18:25:07.294Z"
   },
   {
    "duration": 7,
    "start_time": "2022-09-14T18:27:44.754Z"
   },
   {
    "duration": 42,
    "start_time": "2022-09-14T18:32:32.595Z"
   },
   {
    "duration": 2,
    "start_time": "2022-09-14T18:32:42.297Z"
   },
   {
    "duration": 5,
    "start_time": "2022-09-14T18:32:55.537Z"
   },
   {
    "duration": 2,
    "start_time": "2022-09-14T18:33:09.297Z"
   },
   {
    "duration": 4,
    "start_time": "2022-09-14T18:33:18.322Z"
   },
   {
    "duration": 39,
    "start_time": "2022-09-14T18:33:30.905Z"
   },
   {
    "duration": 51,
    "start_time": "2022-09-14T18:33:46.229Z"
   },
   {
    "duration": 10,
    "start_time": "2022-09-14T18:46:20.521Z"
   },
   {
    "duration": 11,
    "start_time": "2022-09-14T18:46:42.522Z"
   },
   {
    "duration": 1412,
    "start_time": "2022-09-14T18:50:31.688Z"
   },
   {
    "duration": 77,
    "start_time": "2022-09-14T18:50:33.102Z"
   },
   {
    "duration": 4,
    "start_time": "2022-09-14T18:50:33.181Z"
   },
   {
    "duration": 7,
    "start_time": "2022-09-14T18:50:33.187Z"
   },
   {
    "duration": 9,
    "start_time": "2022-09-14T18:50:33.195Z"
   },
   {
    "duration": 7,
    "start_time": "2022-09-14T18:50:33.206Z"
   },
   {
    "duration": 3,
    "start_time": "2022-09-14T18:50:33.214Z"
   },
   {
    "duration": 37,
    "start_time": "2022-09-14T18:50:33.218Z"
   },
   {
    "duration": 12,
    "start_time": "2022-09-14T18:50:33.256Z"
   },
   {
    "duration": 3,
    "start_time": "2022-09-14T18:50:33.271Z"
   },
   {
    "duration": 18,
    "start_time": "2022-09-14T18:50:33.275Z"
   },
   {
    "duration": 21,
    "start_time": "2022-09-14T18:50:33.294Z"
   },
   {
    "duration": 2,
    "start_time": "2022-09-14T18:50:33.346Z"
   },
   {
    "duration": 10,
    "start_time": "2022-09-14T18:50:33.350Z"
   },
   {
    "duration": 18,
    "start_time": "2022-09-14T18:50:33.361Z"
   },
   {
    "duration": 1527,
    "start_time": "2022-09-14T18:50:33.381Z"
   },
   {
    "duration": 3,
    "start_time": "2022-09-14T18:50:34.910Z"
   },
   {
    "duration": 8,
    "start_time": "2022-09-14T18:50:34.915Z"
   },
   {
    "duration": 6,
    "start_time": "2022-09-14T18:50:34.925Z"
   },
   {
    "duration": 16,
    "start_time": "2022-09-14T18:50:34.932Z"
   },
   {
    "duration": 10,
    "start_time": "2022-09-14T18:50:34.949Z"
   },
   {
    "duration": 5,
    "start_time": "2022-09-14T18:50:34.961Z"
   },
   {
    "duration": 8,
    "start_time": "2022-09-14T18:50:34.967Z"
   },
   {
    "duration": 20,
    "start_time": "2022-09-14T18:50:34.976Z"
   },
   {
    "duration": 16,
    "start_time": "2022-09-14T18:50:34.998Z"
   },
   {
    "duration": 48,
    "start_time": "2022-09-14T18:50:35.015Z"
   },
   {
    "duration": 7,
    "start_time": "2022-09-14T18:50:35.065Z"
   },
   {
    "duration": 6,
    "start_time": "2022-09-14T18:50:35.075Z"
   },
   {
    "duration": 41,
    "start_time": "2022-09-14T18:50:35.083Z"
   },
   {
    "duration": 677,
    "start_time": "2022-09-14T18:50:35.126Z"
   },
   {
    "duration": 42,
    "start_time": "2022-09-14T18:50:35.805Z"
   },
   {
    "duration": 99,
    "start_time": "2022-09-14T18:50:35.849Z"
   },
   {
    "duration": 8,
    "start_time": "2022-09-14T18:50:35.951Z"
   },
   {
    "duration": 5,
    "start_time": "2022-09-14T18:50:35.961Z"
   },
   {
    "duration": 8,
    "start_time": "2022-09-14T18:50:35.967Z"
   },
   {
    "duration": 5,
    "start_time": "2022-09-14T18:50:35.976Z"
   },
   {
    "duration": 17,
    "start_time": "2022-09-14T18:50:35.982Z"
   },
   {
    "duration": 57,
    "start_time": "2022-09-14T18:50:36.001Z"
   },
   {
    "duration": 10,
    "start_time": "2022-09-14T18:50:36.060Z"
   },
   {
    "duration": 9,
    "start_time": "2022-09-14T18:50:36.072Z"
   },
   {
    "duration": 323,
    "start_time": "2022-09-14T18:50:36.147Z"
   },
   {
    "duration": 362,
    "start_time": "2022-09-14T18:50:36.472Z"
   },
   {
    "duration": 3,
    "start_time": "2022-09-14T18:50:36.846Z"
   },
   {
    "duration": 6,
    "start_time": "2022-09-14T18:50:36.851Z"
   },
   {
    "duration": 6,
    "start_time": "2022-09-14T18:50:36.859Z"
   },
   {
    "duration": 10,
    "start_time": "2022-09-14T18:50:36.866Z"
   },
   {
    "duration": 6,
    "start_time": "2022-09-14T18:50:36.877Z"
   },
   {
    "duration": 15,
    "start_time": "2022-09-14T18:50:36.884Z"
   },
   {
    "duration": 4,
    "start_time": "2022-09-14T18:50:36.900Z"
   },
   {
    "duration": 61,
    "start_time": "2022-09-14T18:50:36.905Z"
   },
   {
    "duration": 901,
    "start_time": "2022-09-14T18:50:36.968Z"
   },
   {
    "duration": 29,
    "start_time": "2022-09-14T18:50:37.870Z"
   },
   {
    "duration": 4,
    "start_time": "2022-09-14T18:50:37.955Z"
   },
   {
    "duration": 8,
    "start_time": "2022-09-14T18:50:38.046Z"
   },
   {
    "duration": 13,
    "start_time": "2022-09-14T18:50:38.056Z"
   },
   {
    "duration": 37404,
    "start_time": "2022-09-14T18:50:38.070Z"
   },
   {
    "duration": 41,
    "start_time": "2022-09-14T18:51:15.476Z"
   },
   {
    "duration": 63,
    "start_time": "2022-09-14T18:51:15.519Z"
   },
   {
    "duration": 151,
    "start_time": "2022-09-14T18:51:15.584Z"
   },
   {
    "duration": 38,
    "start_time": "2022-09-14T18:51:15.737Z"
   },
   {
    "duration": 8,
    "start_time": "2022-09-14T18:51:15.777Z"
   },
   {
    "duration": 8,
    "start_time": "2022-09-14T18:51:15.786Z"
   },
   {
    "duration": 14,
    "start_time": "2022-09-14T18:51:15.795Z"
   }
  ],
  "kernelspec": {
   "display_name": "Python 3 (ipykernel)",
   "language": "python",
   "name": "python3"
  },
  "language_info": {
   "codemirror_mode": {
    "name": "ipython",
    "version": 3
   },
   "file_extension": ".py",
   "mimetype": "text/x-python",
   "name": "python",
   "nbconvert_exporter": "python",
   "pygments_lexer": "ipython3",
   "version": "3.9.13"
  },
  "toc": {
   "base_numbering": 1,
   "nav_menu": {},
   "number_sections": true,
   "sideBar": true,
   "skip_h1_title": true,
   "title_cell": "Содержание",
   "title_sidebar": "Contents",
   "toc_cell": true,
   "toc_position": {
    "height": "calc(100% - 180px)",
    "left": "10px",
    "top": "150px",
    "width": "390.625px"
   },
   "toc_section_display": true,
   "toc_window_display": true
  }
 },
 "nbformat": 4,
 "nbformat_minor": 2
}
