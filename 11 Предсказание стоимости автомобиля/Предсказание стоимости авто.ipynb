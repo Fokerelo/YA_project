{
 "cells": [
  {
   "cell_type": "markdown",
   "metadata": {},
   "source": [
    "# Определение стоимости автомобилей"
   ]
  },
  {
   "cell_type": "markdown",
   "metadata": {},
   "source": [
    "Сервис по продаже автомобилей с пробегом «Не бит, не крашен» разрабатывает приложение для привлечения новых клиентов. В нём можно быстро узнать рыночную стоимость своего автомобиля. В вашем распоряжении исторические данные: технические характеристики, комплектации и цены автомобилей. Вам нужно построить модель для определения стоимости. \n",
    "\n",
    "Заказчику важны:\n",
    "\n",
    "- качество предсказания;\n",
    "- скорость предсказания;\n",
    "- время обучения."
   ]
  },
  {
   "cell_type": "markdown",
   "metadata": {},
   "source": [
    "**Признаки**\n",
    "\n",
    "DateCrawled — дата скачивания анкеты из базы\n",
    "<br>VehicleType — тип автомобильного кузова\n",
    "<br>RegistrationYear — год регистрации автомобиля\n",
    "<br>Gearbox — тип коробки передач\n",
    "<br>Power — мощность (л. с.)\n",
    "<br>Model — модель автомобиля\n",
    "<br>Kilometer — пробег (км)\n",
    "<br>RegistrationMonth — месяц регистрации автомобиля\n",
    "<br>FuelType — тип топлива\n",
    "<br>Brand — марка автомобиля\n",
    "<br>Repaired — была машина в ремонте или нет\n",
    "<br>DateCreated — дата создания анкеты\n",
    "<br>NumberOfPictures — количество фотографий автомобиля\n",
    "<br>PostalCode — почтовый индекс владельца анкеты (пользователя)\n",
    "<br>LastSeen — дата последней активности пользователя\n",
    "\n",
    "**Целевой признак**\n",
    "<br>Price — цена (евро)"
   ]
  },
  {
   "cell_type": "markdown",
   "metadata": {},
   "source": [
    "## Подготовка данных"
   ]
  },
  {
   "cell_type": "markdown",
   "metadata": {},
   "source": [
    "### Знакомство с данными"
   ]
  },
  {
   "cell_type": "code",
   "execution_count": 1,
   "metadata": {},
   "outputs": [],
   "source": [
    "import pandas as pd\n",
    "import numpy as np\n",
    "import scipy.stats as st\n",
    "import matplotlib.pyplot as plt\n",
    "\n",
    "from lightgbm import LGBMRegressor\n",
    "from sklearn.preprocessing import OrdinalEncoder\n",
    "from sklearn.model_selection import train_test_split\n",
    "from sklearn.metrics import mean_squared_error\n",
    "from sklearn.ensemble import RandomForestRegressor\n",
    "from sklearn.model_selection import cross_val_score, GridSearchCV\n",
    "import lightgbm as lgb\n",
    "\n",
    "from catboost import CatBoostRegressor, Pool\n",
    "\n",
    "STATE = 12345"
   ]
  },
  {
   "cell_type": "code",
   "execution_count": 2,
   "metadata": {},
   "outputs": [],
   "source": [
    "data = pd.read_csv('/datasets/autos.csv')"
   ]
  },
  {
   "cell_type": "code",
   "execution_count": 3,
   "metadata": {},
   "outputs": [],
   "source": [
    "def data_info(df):\n",
    "        display(df.head(5))\n",
    "        print(\"Пропусков в данных: \")\n",
    "        print(df.isna().sum().sum(), end='\\n'*2)\n",
    "        print(\"Дубликатов в данных: \", df.duplicated().sum())\n",
    "        print()\n",
    "        df.info()\n",
    "        display(df.describe())\n",
    "        def data_isna(df):\n",
    "            isna = pd.DataFrame(round(df.isna().mean()*100,)).style.background_gradient('coolwarm')\n",
    "            return isna\n",
    "        display(data_isna(df))"
   ]
  },
  {
   "cell_type": "code",
   "execution_count": 4,
   "metadata": {
    "scrolled": false
   },
   "outputs": [
    {
     "data": {
      "text/html": [
       "<div>\n",
       "<style scoped>\n",
       "    .dataframe tbody tr th:only-of-type {\n",
       "        vertical-align: middle;\n",
       "    }\n",
       "\n",
       "    .dataframe tbody tr th {\n",
       "        vertical-align: top;\n",
       "    }\n",
       "\n",
       "    .dataframe thead th {\n",
       "        text-align: right;\n",
       "    }\n",
       "</style>\n",
       "<table border=\"1\" class=\"dataframe\">\n",
       "  <thead>\n",
       "    <tr style=\"text-align: right;\">\n",
       "      <th></th>\n",
       "      <th>DateCrawled</th>\n",
       "      <th>Price</th>\n",
       "      <th>VehicleType</th>\n",
       "      <th>RegistrationYear</th>\n",
       "      <th>Gearbox</th>\n",
       "      <th>Power</th>\n",
       "      <th>Model</th>\n",
       "      <th>Kilometer</th>\n",
       "      <th>RegistrationMonth</th>\n",
       "      <th>FuelType</th>\n",
       "      <th>Brand</th>\n",
       "      <th>Repaired</th>\n",
       "      <th>DateCreated</th>\n",
       "      <th>NumberOfPictures</th>\n",
       "      <th>PostalCode</th>\n",
       "      <th>LastSeen</th>\n",
       "    </tr>\n",
       "  </thead>\n",
       "  <tbody>\n",
       "    <tr>\n",
       "      <th>0</th>\n",
       "      <td>2016-03-24 11:52:17</td>\n",
       "      <td>480</td>\n",
       "      <td>NaN</td>\n",
       "      <td>1993</td>\n",
       "      <td>manual</td>\n",
       "      <td>0</td>\n",
       "      <td>golf</td>\n",
       "      <td>150000</td>\n",
       "      <td>0</td>\n",
       "      <td>petrol</td>\n",
       "      <td>volkswagen</td>\n",
       "      <td>NaN</td>\n",
       "      <td>2016-03-24 00:00:00</td>\n",
       "      <td>0</td>\n",
       "      <td>70435</td>\n",
       "      <td>2016-04-07 03:16:57</td>\n",
       "    </tr>\n",
       "    <tr>\n",
       "      <th>1</th>\n",
       "      <td>2016-03-24 10:58:45</td>\n",
       "      <td>18300</td>\n",
       "      <td>coupe</td>\n",
       "      <td>2011</td>\n",
       "      <td>manual</td>\n",
       "      <td>190</td>\n",
       "      <td>NaN</td>\n",
       "      <td>125000</td>\n",
       "      <td>5</td>\n",
       "      <td>gasoline</td>\n",
       "      <td>audi</td>\n",
       "      <td>yes</td>\n",
       "      <td>2016-03-24 00:00:00</td>\n",
       "      <td>0</td>\n",
       "      <td>66954</td>\n",
       "      <td>2016-04-07 01:46:50</td>\n",
       "    </tr>\n",
       "    <tr>\n",
       "      <th>2</th>\n",
       "      <td>2016-03-14 12:52:21</td>\n",
       "      <td>9800</td>\n",
       "      <td>suv</td>\n",
       "      <td>2004</td>\n",
       "      <td>auto</td>\n",
       "      <td>163</td>\n",
       "      <td>grand</td>\n",
       "      <td>125000</td>\n",
       "      <td>8</td>\n",
       "      <td>gasoline</td>\n",
       "      <td>jeep</td>\n",
       "      <td>NaN</td>\n",
       "      <td>2016-03-14 00:00:00</td>\n",
       "      <td>0</td>\n",
       "      <td>90480</td>\n",
       "      <td>2016-04-05 12:47:46</td>\n",
       "    </tr>\n",
       "    <tr>\n",
       "      <th>3</th>\n",
       "      <td>2016-03-17 16:54:04</td>\n",
       "      <td>1500</td>\n",
       "      <td>small</td>\n",
       "      <td>2001</td>\n",
       "      <td>manual</td>\n",
       "      <td>75</td>\n",
       "      <td>golf</td>\n",
       "      <td>150000</td>\n",
       "      <td>6</td>\n",
       "      <td>petrol</td>\n",
       "      <td>volkswagen</td>\n",
       "      <td>no</td>\n",
       "      <td>2016-03-17 00:00:00</td>\n",
       "      <td>0</td>\n",
       "      <td>91074</td>\n",
       "      <td>2016-03-17 17:40:17</td>\n",
       "    </tr>\n",
       "    <tr>\n",
       "      <th>4</th>\n",
       "      <td>2016-03-31 17:25:20</td>\n",
       "      <td>3600</td>\n",
       "      <td>small</td>\n",
       "      <td>2008</td>\n",
       "      <td>manual</td>\n",
       "      <td>69</td>\n",
       "      <td>fabia</td>\n",
       "      <td>90000</td>\n",
       "      <td>7</td>\n",
       "      <td>gasoline</td>\n",
       "      <td>skoda</td>\n",
       "      <td>no</td>\n",
       "      <td>2016-03-31 00:00:00</td>\n",
       "      <td>0</td>\n",
       "      <td>60437</td>\n",
       "      <td>2016-04-06 10:17:21</td>\n",
       "    </tr>\n",
       "  </tbody>\n",
       "</table>\n",
       "</div>"
      ],
      "text/plain": [
       "           DateCrawled  Price VehicleType  RegistrationYear Gearbox  Power  \\\n",
       "0  2016-03-24 11:52:17    480         NaN              1993  manual      0   \n",
       "1  2016-03-24 10:58:45  18300       coupe              2011  manual    190   \n",
       "2  2016-03-14 12:52:21   9800         suv              2004    auto    163   \n",
       "3  2016-03-17 16:54:04   1500       small              2001  manual     75   \n",
       "4  2016-03-31 17:25:20   3600       small              2008  manual     69   \n",
       "\n",
       "   Model  Kilometer  RegistrationMonth  FuelType       Brand Repaired  \\\n",
       "0   golf     150000                  0    petrol  volkswagen      NaN   \n",
       "1    NaN     125000                  5  gasoline        audi      yes   \n",
       "2  grand     125000                  8  gasoline        jeep      NaN   \n",
       "3   golf     150000                  6    petrol  volkswagen       no   \n",
       "4  fabia      90000                  7  gasoline       skoda       no   \n",
       "\n",
       "           DateCreated  NumberOfPictures  PostalCode             LastSeen  \n",
       "0  2016-03-24 00:00:00                 0       70435  2016-04-07 03:16:57  \n",
       "1  2016-03-24 00:00:00                 0       66954  2016-04-07 01:46:50  \n",
       "2  2016-03-14 00:00:00                 0       90480  2016-04-05 12:47:46  \n",
       "3  2016-03-17 00:00:00                 0       91074  2016-03-17 17:40:17  \n",
       "4  2016-03-31 00:00:00                 0       60437  2016-04-06 10:17:21  "
      ]
     },
     "metadata": {},
     "output_type": "display_data"
    },
    {
     "name": "stdout",
     "output_type": "stream",
     "text": [
      "Пропусков в данных: \n",
      "181077\n",
      "\n",
      "Дубликатов в данных:  4\n",
      "\n",
      "<class 'pandas.core.frame.DataFrame'>\n",
      "RangeIndex: 354369 entries, 0 to 354368\n",
      "Data columns (total 16 columns):\n",
      " #   Column             Non-Null Count   Dtype \n",
      "---  ------             --------------   ----- \n",
      " 0   DateCrawled        354369 non-null  object\n",
      " 1   Price              354369 non-null  int64 \n",
      " 2   VehicleType        316879 non-null  object\n",
      " 3   RegistrationYear   354369 non-null  int64 \n",
      " 4   Gearbox            334536 non-null  object\n",
      " 5   Power              354369 non-null  int64 \n",
      " 6   Model              334664 non-null  object\n",
      " 7   Kilometer          354369 non-null  int64 \n",
      " 8   RegistrationMonth  354369 non-null  int64 \n",
      " 9   FuelType           321474 non-null  object\n",
      " 10  Brand              354369 non-null  object\n",
      " 11  Repaired           283215 non-null  object\n",
      " 12  DateCreated        354369 non-null  object\n",
      " 13  NumberOfPictures   354369 non-null  int64 \n",
      " 14  PostalCode         354369 non-null  int64 \n",
      " 15  LastSeen           354369 non-null  object\n",
      "dtypes: int64(7), object(9)\n",
      "memory usage: 43.3+ MB\n"
     ]
    },
    {
     "data": {
      "text/html": [
       "<div>\n",
       "<style scoped>\n",
       "    .dataframe tbody tr th:only-of-type {\n",
       "        vertical-align: middle;\n",
       "    }\n",
       "\n",
       "    .dataframe tbody tr th {\n",
       "        vertical-align: top;\n",
       "    }\n",
       "\n",
       "    .dataframe thead th {\n",
       "        text-align: right;\n",
       "    }\n",
       "</style>\n",
       "<table border=\"1\" class=\"dataframe\">\n",
       "  <thead>\n",
       "    <tr style=\"text-align: right;\">\n",
       "      <th></th>\n",
       "      <th>Price</th>\n",
       "      <th>RegistrationYear</th>\n",
       "      <th>Power</th>\n",
       "      <th>Kilometer</th>\n",
       "      <th>RegistrationMonth</th>\n",
       "      <th>NumberOfPictures</th>\n",
       "      <th>PostalCode</th>\n",
       "    </tr>\n",
       "  </thead>\n",
       "  <tbody>\n",
       "    <tr>\n",
       "      <th>count</th>\n",
       "      <td>354369.000000</td>\n",
       "      <td>354369.000000</td>\n",
       "      <td>354369.000000</td>\n",
       "      <td>354369.000000</td>\n",
       "      <td>354369.000000</td>\n",
       "      <td>354369.0</td>\n",
       "      <td>354369.000000</td>\n",
       "    </tr>\n",
       "    <tr>\n",
       "      <th>mean</th>\n",
       "      <td>4416.656776</td>\n",
       "      <td>2004.234448</td>\n",
       "      <td>110.094337</td>\n",
       "      <td>128211.172535</td>\n",
       "      <td>5.714645</td>\n",
       "      <td>0.0</td>\n",
       "      <td>50508.689087</td>\n",
       "    </tr>\n",
       "    <tr>\n",
       "      <th>std</th>\n",
       "      <td>4514.158514</td>\n",
       "      <td>90.227958</td>\n",
       "      <td>189.850405</td>\n",
       "      <td>37905.341530</td>\n",
       "      <td>3.726421</td>\n",
       "      <td>0.0</td>\n",
       "      <td>25783.096248</td>\n",
       "    </tr>\n",
       "    <tr>\n",
       "      <th>min</th>\n",
       "      <td>0.000000</td>\n",
       "      <td>1000.000000</td>\n",
       "      <td>0.000000</td>\n",
       "      <td>5000.000000</td>\n",
       "      <td>0.000000</td>\n",
       "      <td>0.0</td>\n",
       "      <td>1067.000000</td>\n",
       "    </tr>\n",
       "    <tr>\n",
       "      <th>25%</th>\n",
       "      <td>1050.000000</td>\n",
       "      <td>1999.000000</td>\n",
       "      <td>69.000000</td>\n",
       "      <td>125000.000000</td>\n",
       "      <td>3.000000</td>\n",
       "      <td>0.0</td>\n",
       "      <td>30165.000000</td>\n",
       "    </tr>\n",
       "    <tr>\n",
       "      <th>50%</th>\n",
       "      <td>2700.000000</td>\n",
       "      <td>2003.000000</td>\n",
       "      <td>105.000000</td>\n",
       "      <td>150000.000000</td>\n",
       "      <td>6.000000</td>\n",
       "      <td>0.0</td>\n",
       "      <td>49413.000000</td>\n",
       "    </tr>\n",
       "    <tr>\n",
       "      <th>75%</th>\n",
       "      <td>6400.000000</td>\n",
       "      <td>2008.000000</td>\n",
       "      <td>143.000000</td>\n",
       "      <td>150000.000000</td>\n",
       "      <td>9.000000</td>\n",
       "      <td>0.0</td>\n",
       "      <td>71083.000000</td>\n",
       "    </tr>\n",
       "    <tr>\n",
       "      <th>max</th>\n",
       "      <td>20000.000000</td>\n",
       "      <td>9999.000000</td>\n",
       "      <td>20000.000000</td>\n",
       "      <td>150000.000000</td>\n",
       "      <td>12.000000</td>\n",
       "      <td>0.0</td>\n",
       "      <td>99998.000000</td>\n",
       "    </tr>\n",
       "  </tbody>\n",
       "</table>\n",
       "</div>"
      ],
      "text/plain": [
       "               Price  RegistrationYear          Power      Kilometer  \\\n",
       "count  354369.000000     354369.000000  354369.000000  354369.000000   \n",
       "mean     4416.656776       2004.234448     110.094337  128211.172535   \n",
       "std      4514.158514         90.227958     189.850405   37905.341530   \n",
       "min         0.000000       1000.000000       0.000000    5000.000000   \n",
       "25%      1050.000000       1999.000000      69.000000  125000.000000   \n",
       "50%      2700.000000       2003.000000     105.000000  150000.000000   \n",
       "75%      6400.000000       2008.000000     143.000000  150000.000000   \n",
       "max     20000.000000       9999.000000   20000.000000  150000.000000   \n",
       "\n",
       "       RegistrationMonth  NumberOfPictures     PostalCode  \n",
       "count      354369.000000          354369.0  354369.000000  \n",
       "mean            5.714645               0.0   50508.689087  \n",
       "std             3.726421               0.0   25783.096248  \n",
       "min             0.000000               0.0    1067.000000  \n",
       "25%             3.000000               0.0   30165.000000  \n",
       "50%             6.000000               0.0   49413.000000  \n",
       "75%             9.000000               0.0   71083.000000  \n",
       "max            12.000000               0.0   99998.000000  "
      ]
     },
     "metadata": {},
     "output_type": "display_data"
    },
    {
     "data": {
      "text/html": [
       "<style  type=\"text/css\" >\n",
       "#T_8b877_row0_col0,#T_8b877_row1_col0,#T_8b877_row3_col0,#T_8b877_row5_col0,#T_8b877_row7_col0,#T_8b877_row8_col0,#T_8b877_row10_col0,#T_8b877_row12_col0,#T_8b877_row13_col0,#T_8b877_row14_col0,#T_8b877_row15_col0{\n",
       "            background-color:  #3b4cc0;\n",
       "            color:  #f1f1f1;\n",
       "        }#T_8b877_row2_col0{\n",
       "            background-color:  #e9d5cb;\n",
       "            color:  #000000;\n",
       "        }#T_8b877_row4_col0,#T_8b877_row6_col0{\n",
       "            background-color:  #9ebeff;\n",
       "            color:  #000000;\n",
       "        }#T_8b877_row9_col0{\n",
       "            background-color:  #cfdaea;\n",
       "            color:  #000000;\n",
       "        }#T_8b877_row11_col0{\n",
       "            background-color:  #b40426;\n",
       "            color:  #f1f1f1;\n",
       "        }</style><table id=\"T_8b877_\" ><thead>    <tr>        <th class=\"blank level0\" ></th>        <th class=\"col_heading level0 col0\" >0</th>    </tr></thead><tbody>\n",
       "                <tr>\n",
       "                        <th id=\"T_8b877_level0_row0\" class=\"row_heading level0 row0\" >DateCrawled</th>\n",
       "                        <td id=\"T_8b877_row0_col0\" class=\"data row0 col0\" >0.000000</td>\n",
       "            </tr>\n",
       "            <tr>\n",
       "                        <th id=\"T_8b877_level0_row1\" class=\"row_heading level0 row1\" >Price</th>\n",
       "                        <td id=\"T_8b877_row1_col0\" class=\"data row1 col0\" >0.000000</td>\n",
       "            </tr>\n",
       "            <tr>\n",
       "                        <th id=\"T_8b877_level0_row2\" class=\"row_heading level0 row2\" >VehicleType</th>\n",
       "                        <td id=\"T_8b877_row2_col0\" class=\"data row2 col0\" >11.000000</td>\n",
       "            </tr>\n",
       "            <tr>\n",
       "                        <th id=\"T_8b877_level0_row3\" class=\"row_heading level0 row3\" >RegistrationYear</th>\n",
       "                        <td id=\"T_8b877_row3_col0\" class=\"data row3 col0\" >0.000000</td>\n",
       "            </tr>\n",
       "            <tr>\n",
       "                        <th id=\"T_8b877_level0_row4\" class=\"row_heading level0 row4\" >Gearbox</th>\n",
       "                        <td id=\"T_8b877_row4_col0\" class=\"data row4 col0\" >6.000000</td>\n",
       "            </tr>\n",
       "            <tr>\n",
       "                        <th id=\"T_8b877_level0_row5\" class=\"row_heading level0 row5\" >Power</th>\n",
       "                        <td id=\"T_8b877_row5_col0\" class=\"data row5 col0\" >0.000000</td>\n",
       "            </tr>\n",
       "            <tr>\n",
       "                        <th id=\"T_8b877_level0_row6\" class=\"row_heading level0 row6\" >Model</th>\n",
       "                        <td id=\"T_8b877_row6_col0\" class=\"data row6 col0\" >6.000000</td>\n",
       "            </tr>\n",
       "            <tr>\n",
       "                        <th id=\"T_8b877_level0_row7\" class=\"row_heading level0 row7\" >Kilometer</th>\n",
       "                        <td id=\"T_8b877_row7_col0\" class=\"data row7 col0\" >0.000000</td>\n",
       "            </tr>\n",
       "            <tr>\n",
       "                        <th id=\"T_8b877_level0_row8\" class=\"row_heading level0 row8\" >RegistrationMonth</th>\n",
       "                        <td id=\"T_8b877_row8_col0\" class=\"data row8 col0\" >0.000000</td>\n",
       "            </tr>\n",
       "            <tr>\n",
       "                        <th id=\"T_8b877_level0_row9\" class=\"row_heading level0 row9\" >FuelType</th>\n",
       "                        <td id=\"T_8b877_row9_col0\" class=\"data row9 col0\" >9.000000</td>\n",
       "            </tr>\n",
       "            <tr>\n",
       "                        <th id=\"T_8b877_level0_row10\" class=\"row_heading level0 row10\" >Brand</th>\n",
       "                        <td id=\"T_8b877_row10_col0\" class=\"data row10 col0\" >0.000000</td>\n",
       "            </tr>\n",
       "            <tr>\n",
       "                        <th id=\"T_8b877_level0_row11\" class=\"row_heading level0 row11\" >Repaired</th>\n",
       "                        <td id=\"T_8b877_row11_col0\" class=\"data row11 col0\" >20.000000</td>\n",
       "            </tr>\n",
       "            <tr>\n",
       "                        <th id=\"T_8b877_level0_row12\" class=\"row_heading level0 row12\" >DateCreated</th>\n",
       "                        <td id=\"T_8b877_row12_col0\" class=\"data row12 col0\" >0.000000</td>\n",
       "            </tr>\n",
       "            <tr>\n",
       "                        <th id=\"T_8b877_level0_row13\" class=\"row_heading level0 row13\" >NumberOfPictures</th>\n",
       "                        <td id=\"T_8b877_row13_col0\" class=\"data row13 col0\" >0.000000</td>\n",
       "            </tr>\n",
       "            <tr>\n",
       "                        <th id=\"T_8b877_level0_row14\" class=\"row_heading level0 row14\" >PostalCode</th>\n",
       "                        <td id=\"T_8b877_row14_col0\" class=\"data row14 col0\" >0.000000</td>\n",
       "            </tr>\n",
       "            <tr>\n",
       "                        <th id=\"T_8b877_level0_row15\" class=\"row_heading level0 row15\" >LastSeen</th>\n",
       "                        <td id=\"T_8b877_row15_col0\" class=\"data row15 col0\" >0.000000</td>\n",
       "            </tr>\n",
       "    </tbody></table>"
      ],
      "text/plain": [
       "<pandas.io.formats.style.Styler at 0x7fae1c605190>"
      ]
     },
     "metadata": {},
     "output_type": "display_data"
    }
   ],
   "source": [
    "data_info(data)"
   ]
  },
  {
   "cell_type": "markdown",
   "metadata": {},
   "source": [
    "**Изучите данные. Заполните пропущенные значения и обработайте аномалии в столбцах. Если среди признаков имеются неинформативные, удалите их.**"
   ]
  },
  {
   "cell_type": "markdown",
   "metadata": {},
   "source": [
    "- У нас 354 - тысячи строк с даными\n",
    "- в которых 181 тыс. пропусков \n",
    "- и 4 дубликата(дубликаты удалим сразу, так как на общем обьеме они данных они не повлияют)\n",
    "- тип данных столбцов: \"DateCrawled, DateCreated, LastSeen\" с датами - object, но так как даты скачивания и создания анкеты, появления пользователя в сети не влияют на цену авто - не информативные признаки, данные столбцы будут удалены и обрабатывать их нет смысла. Остальные типы данных соответствуют\n",
    "- так же удалю столбцы \"NumberOfPictures, PostalCode, RegistrationMonth\" - тоже не информативные признаки"
   ]
  },
  {
   "cell_type": "markdown",
   "metadata": {},
   "source": [
    "### Подготовка данных"
   ]
  },
  {
   "cell_type": "markdown",
   "metadata": {},
   "source": [
    "Сразу удалим наши 4 дубликата"
   ]
  },
  {
   "cell_type": "code",
   "execution_count": 5,
   "metadata": {},
   "outputs": [
    {
     "data": {
      "text/plain": [
       "0"
      ]
     },
     "execution_count": 5,
     "metadata": {},
     "output_type": "execute_result"
    }
   ],
   "source": [
    "data = data.drop_duplicates()\n",
    "data.duplicated().sum()"
   ]
  },
  {
   "cell_type": "markdown",
   "metadata": {},
   "source": [
    "#### Работа с аномалиями"
   ]
  },
  {
   "cell_type": "code",
   "execution_count": 6,
   "metadata": {},
   "outputs": [
    {
     "data": {
      "text/html": [
       "<div>\n",
       "<style scoped>\n",
       "    .dataframe tbody tr th:only-of-type {\n",
       "        vertical-align: middle;\n",
       "    }\n",
       "\n",
       "    .dataframe tbody tr th {\n",
       "        vertical-align: top;\n",
       "    }\n",
       "\n",
       "    .dataframe thead th {\n",
       "        text-align: right;\n",
       "    }\n",
       "</style>\n",
       "<table border=\"1\" class=\"dataframe\">\n",
       "  <thead>\n",
       "    <tr style=\"text-align: right;\">\n",
       "      <th></th>\n",
       "      <th>Price</th>\n",
       "      <th>RegistrationYear</th>\n",
       "      <th>Power</th>\n",
       "      <th>Kilometer</th>\n",
       "      <th>RegistrationMonth</th>\n",
       "      <th>NumberOfPictures</th>\n",
       "      <th>PostalCode</th>\n",
       "    </tr>\n",
       "  </thead>\n",
       "  <tbody>\n",
       "    <tr>\n",
       "      <th>count</th>\n",
       "      <td>354365.000000</td>\n",
       "      <td>354365.000000</td>\n",
       "      <td>354365.000000</td>\n",
       "      <td>354365.000000</td>\n",
       "      <td>354365.000000</td>\n",
       "      <td>354365.0</td>\n",
       "      <td>354365.000000</td>\n",
       "    </tr>\n",
       "    <tr>\n",
       "      <th>mean</th>\n",
       "      <td>4416.679830</td>\n",
       "      <td>2004.234481</td>\n",
       "      <td>110.093816</td>\n",
       "      <td>128211.363989</td>\n",
       "      <td>5.714650</td>\n",
       "      <td>0.0</td>\n",
       "      <td>50508.503800</td>\n",
       "    </tr>\n",
       "    <tr>\n",
       "      <th>std</th>\n",
       "      <td>4514.176349</td>\n",
       "      <td>90.228466</td>\n",
       "      <td>189.851330</td>\n",
       "      <td>37905.083858</td>\n",
       "      <td>3.726432</td>\n",
       "      <td>0.0</td>\n",
       "      <td>25783.100078</td>\n",
       "    </tr>\n",
       "    <tr>\n",
       "      <th>min</th>\n",
       "      <td>0.000000</td>\n",
       "      <td>1000.000000</td>\n",
       "      <td>0.000000</td>\n",
       "      <td>5000.000000</td>\n",
       "      <td>0.000000</td>\n",
       "      <td>0.0</td>\n",
       "      <td>1067.000000</td>\n",
       "    </tr>\n",
       "    <tr>\n",
       "      <th>25%</th>\n",
       "      <td>1050.000000</td>\n",
       "      <td>1999.000000</td>\n",
       "      <td>69.000000</td>\n",
       "      <td>125000.000000</td>\n",
       "      <td>3.000000</td>\n",
       "      <td>0.0</td>\n",
       "      <td>30165.000000</td>\n",
       "    </tr>\n",
       "    <tr>\n",
       "      <th>50%</th>\n",
       "      <td>2700.000000</td>\n",
       "      <td>2003.000000</td>\n",
       "      <td>105.000000</td>\n",
       "      <td>150000.000000</td>\n",
       "      <td>6.000000</td>\n",
       "      <td>0.0</td>\n",
       "      <td>49413.000000</td>\n",
       "    </tr>\n",
       "    <tr>\n",
       "      <th>75%</th>\n",
       "      <td>6400.000000</td>\n",
       "      <td>2008.000000</td>\n",
       "      <td>143.000000</td>\n",
       "      <td>150000.000000</td>\n",
       "      <td>9.000000</td>\n",
       "      <td>0.0</td>\n",
       "      <td>71083.000000</td>\n",
       "    </tr>\n",
       "    <tr>\n",
       "      <th>max</th>\n",
       "      <td>20000.000000</td>\n",
       "      <td>9999.000000</td>\n",
       "      <td>20000.000000</td>\n",
       "      <td>150000.000000</td>\n",
       "      <td>12.000000</td>\n",
       "      <td>0.0</td>\n",
       "      <td>99998.000000</td>\n",
       "    </tr>\n",
       "  </tbody>\n",
       "</table>\n",
       "</div>"
      ],
      "text/plain": [
       "               Price  RegistrationYear          Power      Kilometer  \\\n",
       "count  354365.000000     354365.000000  354365.000000  354365.000000   \n",
       "mean     4416.679830       2004.234481     110.093816  128211.363989   \n",
       "std      4514.176349         90.228466     189.851330   37905.083858   \n",
       "min         0.000000       1000.000000       0.000000    5000.000000   \n",
       "25%      1050.000000       1999.000000      69.000000  125000.000000   \n",
       "50%      2700.000000       2003.000000     105.000000  150000.000000   \n",
       "75%      6400.000000       2008.000000     143.000000  150000.000000   \n",
       "max     20000.000000       9999.000000   20000.000000  150000.000000   \n",
       "\n",
       "       RegistrationMonth  NumberOfPictures     PostalCode  \n",
       "count      354365.000000          354365.0  354365.000000  \n",
       "mean            5.714650               0.0   50508.503800  \n",
       "std             3.726432               0.0   25783.100078  \n",
       "min             0.000000               0.0    1067.000000  \n",
       "25%             3.000000               0.0   30165.000000  \n",
       "50%             6.000000               0.0   49413.000000  \n",
       "75%             9.000000               0.0   71083.000000  \n",
       "max            12.000000               0.0   99998.000000  "
      ]
     },
     "execution_count": 6,
     "metadata": {},
     "output_type": "execute_result"
    },
    {
     "data": {
      "image/png": "[encoded data removed]",
      "text/plain": [
       "<Figure size 720x720 with 1 Axes>"
      ]
     },
     "metadata": {
      "needs_background": "light"
     },
     "output_type": "display_data"
    }
   ],
   "source": [
    "data.plot(kind='box', figsize=(10,10),)\n",
    "data.describe()"
   ]
  },
  {
   "cell_type": "markdown",
   "metadata": {},
   "source": [
    "Проверю зависимость цены от других признаков"
   ]
  },
  {
   "cell_type": "code",
   "execution_count": 7,
   "metadata": {},
   "outputs": [
    {
     "data": {
      "text/html": [
       "<div>\n",
       "<style scoped>\n",
       "    .dataframe tbody tr th:only-of-type {\n",
       "        vertical-align: middle;\n",
       "    }\n",
       "\n",
       "    .dataframe tbody tr th {\n",
       "        vertical-align: top;\n",
       "    }\n",
       "\n",
       "    .dataframe thead th {\n",
       "        text-align: right;\n",
       "    }\n",
       "</style>\n",
       "<table border=\"1\" class=\"dataframe\">\n",
       "  <thead>\n",
       "    <tr style=\"text-align: right;\">\n",
       "      <th></th>\n",
       "      <th>Price</th>\n",
       "      <th>RegistrationYear</th>\n",
       "      <th>Power</th>\n",
       "      <th>Kilometer</th>\n",
       "      <th>RegistrationMonth</th>\n",
       "      <th>NumberOfPictures</th>\n",
       "      <th>PostalCode</th>\n",
       "    </tr>\n",
       "  </thead>\n",
       "  <tbody>\n",
       "    <tr>\n",
       "      <th>Price</th>\n",
       "      <td>1.000000</td>\n",
       "      <td>0.026916</td>\n",
       "      <td>0.158872</td>\n",
       "      <td>-0.333207</td>\n",
       "      <td>0.110580</td>\n",
       "      <td>NaN</td>\n",
       "      <td>0.076058</td>\n",
       "    </tr>\n",
       "    <tr>\n",
       "      <th>RegistrationYear</th>\n",
       "      <td>0.026916</td>\n",
       "      <td>1.000000</td>\n",
       "      <td>-0.000828</td>\n",
       "      <td>-0.053448</td>\n",
       "      <td>-0.011619</td>\n",
       "      <td>NaN</td>\n",
       "      <td>-0.003459</td>\n",
       "    </tr>\n",
       "    <tr>\n",
       "      <th>Power</th>\n",
       "      <td>0.158872</td>\n",
       "      <td>-0.000828</td>\n",
       "      <td>1.000000</td>\n",
       "      <td>0.024006</td>\n",
       "      <td>0.043379</td>\n",
       "      <td>NaN</td>\n",
       "      <td>0.021662</td>\n",
       "    </tr>\n",
       "    <tr>\n",
       "      <th>Kilometer</th>\n",
       "      <td>-0.333207</td>\n",
       "      <td>-0.053448</td>\n",
       "      <td>0.024006</td>\n",
       "      <td>1.000000</td>\n",
       "      <td>0.009575</td>\n",
       "      <td>NaN</td>\n",
       "      <td>-0.007685</td>\n",
       "    </tr>\n",
       "    <tr>\n",
       "      <th>RegistrationMonth</th>\n",
       "      <td>0.110580</td>\n",
       "      <td>-0.011619</td>\n",
       "      <td>0.043379</td>\n",
       "      <td>0.009575</td>\n",
       "      <td>1.000000</td>\n",
       "      <td>NaN</td>\n",
       "      <td>0.013996</td>\n",
       "    </tr>\n",
       "    <tr>\n",
       "      <th>NumberOfPictures</th>\n",
       "      <td>NaN</td>\n",
       "      <td>NaN</td>\n",
       "      <td>NaN</td>\n",
       "      <td>NaN</td>\n",
       "      <td>NaN</td>\n",
       "      <td>NaN</td>\n",
       "      <td>NaN</td>\n",
       "    </tr>\n",
       "    <tr>\n",
       "      <th>PostalCode</th>\n",
       "      <td>0.076058</td>\n",
       "      <td>-0.003459</td>\n",
       "      <td>0.021662</td>\n",
       "      <td>-0.007685</td>\n",
       "      <td>0.013996</td>\n",
       "      <td>NaN</td>\n",
       "      <td>1.000000</td>\n",
       "    </tr>\n",
       "  </tbody>\n",
       "</table>\n",
       "</div>"
      ],
      "text/plain": [
       "                      Price  RegistrationYear     Power  Kilometer  \\\n",
       "Price              1.000000          0.026916  0.158872  -0.333207   \n",
       "RegistrationYear   0.026916          1.000000 -0.000828  -0.053448   \n",
       "Power              0.158872         -0.000828  1.000000   0.024006   \n",
       "Kilometer         -0.333207         -0.053448  0.024006   1.000000   \n",
       "RegistrationMonth  0.110580         -0.011619  0.043379   0.009575   \n",
       "NumberOfPictures        NaN               NaN       NaN        NaN   \n",
       "PostalCode         0.076058         -0.003459  0.021662  -0.007685   \n",
       "\n",
       "                   RegistrationMonth  NumberOfPictures  PostalCode  \n",
       "Price                       0.110580               NaN    0.076058  \n",
       "RegistrationYear           -0.011619               NaN   -0.003459  \n",
       "Power                       0.043379               NaN    0.021662  \n",
       "Kilometer                   0.009575               NaN   -0.007685  \n",
       "RegistrationMonth           1.000000               NaN    0.013996  \n",
       "NumberOfPictures                 NaN               NaN         NaN  \n",
       "PostalCode                  0.013996               NaN    1.000000  "
      ]
     },
     "execution_count": 7,
     "metadata": {},
     "output_type": "execute_result"
    }
   ],
   "source": [
    "data.corr()"
   ]
  },
  {
   "cell_type": "markdown",
   "metadata": {},
   "source": [
    "Из данных можно выделить следующие аномалии:\n",
    "- Столбец \"NumberOfPictures\" полностью без даннах, в дальнейшем удалим вместе с другими неинформативными столбцами\n",
    "- Год регистрации(RegistrationYear) -  минимальный в обьявлении 1000, а максимальный 9999, попробуем ограничить данные последними 100 годами(мб антиквариат в обьявлениях)\n",
    "- Мощность л.с.(Power) - минимальный показатель 0л.с. - разберем его детальнее, максимум 20 000л.с. - это уже либо ошибка, либо обьявление не для обычного пользователя(самый мощный авто в мире на 2022 год - электрический гиперкар Owl от японской компании Aspark 2012л.с.)\n",
    "- Цена продажи (Price) - имеет максимальное значение в 20 000 евро, при среднем показателе и стандартоном отклонении ~4500, тоже может быть аномалией и сильно исказить работу моделей\n",
    "- Километраж авто не вызывает подозрений, так как вполне возможны обьявления с маленьким пробегом авто"
   ]
  },
  {
   "cell_type": "markdown",
   "metadata": {},
   "source": [
    "Начнем с ограничения по годам"
   ]
  },
  {
   "cell_type": "code",
   "execution_count": 8,
   "metadata": {},
   "outputs": [],
   "source": [
    "#DateCreated — дата создания анкеты, год регистрации не может быть выше даты регистрации(в машины из будующего мы не верим)\n",
    "data['DateCreated'] = pd.to_datetime(data['DateCreated'], yearfirst=True)"
   ]
  },
  {
   "cell_type": "code",
   "execution_count": 9,
   "metadata": {},
   "outputs": [
    {
     "data": {
      "image/png": "[encoded data removed]",
      "text/plain": [
       "<Figure size 432x288 with 1 Axes>"
      ]
     },
     "metadata": {
      "needs_background": "light"
     },
     "output_type": "display_data"
    },
    {
     "name": "stderr",
     "output_type": "stream",
     "text": [
      "/tmp/ipykernel_289/1982608716.py:7: FutureWarning: Treating datetime data as categorical rather than numeric in `.describe` is deprecated and will be removed in a future version of pandas. Specify `datetime_is_numeric=True` to silence this warning and adopt the future behavior now.\n",
      "  data['DateCreated'].describe()\n"
     ]
    },
    {
     "data": {
      "text/plain": [
       "count                  354365\n",
       "unique                    109\n",
       "top       2016-04-03 00:00:00\n",
       "freq                    13718\n",
       "first     2014-03-10 00:00:00\n",
       "last      2016-04-07 00:00:00\n",
       "Name: DateCreated, dtype: object"
      ]
     },
     "execution_count": 9,
     "metadata": {},
     "output_type": "execute_result"
    }
   ],
   "source": [
    "plt.hist(data['DateCreated'], bins=30)\n",
    "plt.title('Дата создания анкеты')\n",
    "plt.xlabel('Дата создания')\n",
    "plt.ylabel('Количество обьявлекний')\n",
    "plt.grid(True)\n",
    "plt.show()\n",
    "data['DateCreated'].describe()"
   ]
  },
  {
   "cell_type": "markdown",
   "metadata": {},
   "source": [
    "Начнем с ограничения по годам"
   ]
  },
  {
   "cell_type": "markdown",
   "metadata": {},
   "source": [
    "Максимальная дата обьявления апрель 2016, регистрация старше этой даты стоит удалить, для этого просмотрим столбцы \"RegistrationYear\" и \"RegistrationMonth\"\n",
    "\n",
    "Но в столбце \"RegistrationMonth\" присутствуют месяца `0`, которых не существуют, заменим их на первый день месяца"
   ]
  },
  {
   "cell_type": "code",
   "execution_count": 10,
   "metadata": {},
   "outputs": [],
   "source": [
    "data.loc[data['RegistrationMonth'] == 0, 'RegistrationMonth'] = 1"
   ]
  },
  {
   "cell_type": "code",
   "execution_count": 11,
   "metadata": {},
   "outputs": [
    {
     "data": {
      "text/html": [
       "<div>\n",
       "<style scoped>\n",
       "    .dataframe tbody tr th:only-of-type {\n",
       "        vertical-align: middle;\n",
       "    }\n",
       "\n",
       "    .dataframe tbody tr th {\n",
       "        vertical-align: top;\n",
       "    }\n",
       "\n",
       "    .dataframe thead th {\n",
       "        text-align: right;\n",
       "    }\n",
       "</style>\n",
       "<table border=\"1\" class=\"dataframe\">\n",
       "  <thead>\n",
       "    <tr style=\"text-align: right;\">\n",
       "      <th></th>\n",
       "      <th>Price</th>\n",
       "      <th>RegistrationYear</th>\n",
       "      <th>Power</th>\n",
       "      <th>Kilometer</th>\n",
       "      <th>RegistrationMonth</th>\n",
       "      <th>NumberOfPictures</th>\n",
       "      <th>PostalCode</th>\n",
       "    </tr>\n",
       "  </thead>\n",
       "  <tbody>\n",
       "    <tr>\n",
       "      <th>count</th>\n",
       "      <td>354365.000000</td>\n",
       "      <td>354365.000000</td>\n",
       "      <td>354365.000000</td>\n",
       "      <td>354365.000000</td>\n",
       "      <td>354365.000000</td>\n",
       "      <td>354365.0</td>\n",
       "      <td>354365.000000</td>\n",
       "    </tr>\n",
       "    <tr>\n",
       "      <th>mean</th>\n",
       "      <td>4416.679830</td>\n",
       "      <td>2004.234481</td>\n",
       "      <td>110.093816</td>\n",
       "      <td>128211.363989</td>\n",
       "      <td>5.820056</td>\n",
       "      <td>0.0</td>\n",
       "      <td>50508.503800</td>\n",
       "    </tr>\n",
       "    <tr>\n",
       "      <th>std</th>\n",
       "      <td>4514.176349</td>\n",
       "      <td>90.228466</td>\n",
       "      <td>189.851330</td>\n",
       "      <td>37905.083858</td>\n",
       "      <td>3.574336</td>\n",
       "      <td>0.0</td>\n",
       "      <td>25783.100078</td>\n",
       "    </tr>\n",
       "    <tr>\n",
       "      <th>min</th>\n",
       "      <td>0.000000</td>\n",
       "      <td>1000.000000</td>\n",
       "      <td>0.000000</td>\n",
       "      <td>5000.000000</td>\n",
       "      <td>1.000000</td>\n",
       "      <td>0.0</td>\n",
       "      <td>1067.000000</td>\n",
       "    </tr>\n",
       "    <tr>\n",
       "      <th>25%</th>\n",
       "      <td>1050.000000</td>\n",
       "      <td>1999.000000</td>\n",
       "      <td>69.000000</td>\n",
       "      <td>125000.000000</td>\n",
       "      <td>3.000000</td>\n",
       "      <td>0.0</td>\n",
       "      <td>30165.000000</td>\n",
       "    </tr>\n",
       "    <tr>\n",
       "      <th>50%</th>\n",
       "      <td>2700.000000</td>\n",
       "      <td>2003.000000</td>\n",
       "      <td>105.000000</td>\n",
       "      <td>150000.000000</td>\n",
       "      <td>6.000000</td>\n",
       "      <td>0.0</td>\n",
       "      <td>49413.000000</td>\n",
       "    </tr>\n",
       "    <tr>\n",
       "      <th>75%</th>\n",
       "      <td>6400.000000</td>\n",
       "      <td>2008.000000</td>\n",
       "      <td>143.000000</td>\n",
       "      <td>150000.000000</td>\n",
       "      <td>9.000000</td>\n",
       "      <td>0.0</td>\n",
       "      <td>71083.000000</td>\n",
       "    </tr>\n",
       "    <tr>\n",
       "      <th>max</th>\n",
       "      <td>20000.000000</td>\n",
       "      <td>9999.000000</td>\n",
       "      <td>20000.000000</td>\n",
       "      <td>150000.000000</td>\n",
       "      <td>12.000000</td>\n",
       "      <td>0.0</td>\n",
       "      <td>99998.000000</td>\n",
       "    </tr>\n",
       "  </tbody>\n",
       "</table>\n",
       "</div>"
      ],
      "text/plain": [
       "               Price  RegistrationYear          Power      Kilometer  \\\n",
       "count  354365.000000     354365.000000  354365.000000  354365.000000   \n",
       "mean     4416.679830       2004.234481     110.093816  128211.363989   \n",
       "std      4514.176349         90.228466     189.851330   37905.083858   \n",
       "min         0.000000       1000.000000       0.000000    5000.000000   \n",
       "25%      1050.000000       1999.000000      69.000000  125000.000000   \n",
       "50%      2700.000000       2003.000000     105.000000  150000.000000   \n",
       "75%      6400.000000       2008.000000     143.000000  150000.000000   \n",
       "max     20000.000000       9999.000000   20000.000000  150000.000000   \n",
       "\n",
       "       RegistrationMonth  NumberOfPictures     PostalCode  \n",
       "count      354365.000000          354365.0  354365.000000  \n",
       "mean            5.820056               0.0   50508.503800  \n",
       "std             3.574336               0.0   25783.100078  \n",
       "min             1.000000               0.0    1067.000000  \n",
       "25%             3.000000               0.0   30165.000000  \n",
       "50%             6.000000               0.0   49413.000000  \n",
       "75%             9.000000               0.0   71083.000000  \n",
       "max            12.000000               0.0   99998.000000  "
      ]
     },
     "execution_count": 11,
     "metadata": {},
     "output_type": "execute_result"
    }
   ],
   "source": [
    "data.describe()"
   ]
  },
  {
   "cell_type": "code",
   "execution_count": 12,
   "metadata": {},
   "outputs": [
    {
     "data": {
      "text/plain": [
       "(354365, 16)"
      ]
     },
     "execution_count": 12,
     "metadata": {},
     "output_type": "execute_result"
    }
   ],
   "source": [
    "data.shape"
   ]
  },
  {
   "cell_type": "code",
   "execution_count": 13,
   "metadata": {},
   "outputs": [],
   "source": [
    "data = data[(data['RegistrationYear'] > 1916)]\n",
    "data =  data[(data['RegistrationMonth'] < 4) | (data['RegistrationYear'] < 2016)]"
   ]
  },
  {
   "cell_type": "code",
   "execution_count": 14,
   "metadata": {},
   "outputs": [
    {
     "data": {
      "text/plain": [
       "(340637, 16)"
      ]
     },
     "execution_count": 14,
     "metadata": {},
     "output_type": "execute_result"
    }
   ],
   "source": [
    "data.shape"
   ]
  },
  {
   "cell_type": "markdown",
   "metadata": {},
   "source": [
    "минус 1500 строк\n",
    "<br>Далее Мощность - ограничим суперкаром в 2012л.с"
   ]
  },
  {
   "cell_type": "code",
   "execution_count": 15,
   "metadata": {},
   "outputs": [
    {
     "data": {
      "image/png": "[encoded data removed]",
      "text/plain": [
       "<Figure size 432x288 with 1 Axes>"
      ]
     },
     "metadata": {
      "needs_background": "light"
     },
     "output_type": "display_data"
    },
    {
     "data": {
      "text/plain": [
       "count    340637.000000\n",
       "mean        110.798847\n",
       "std         186.393834\n",
       "min           0.000000\n",
       "25%          69.000000\n",
       "50%         105.000000\n",
       "75%         143.000000\n",
       "max       20000.000000\n",
       "Name: Power, dtype: float64"
      ]
     },
     "execution_count": 15,
     "metadata": {},
     "output_type": "execute_result"
    }
   ],
   "source": [
    "plt.hist(data['Power'], bins=10,  range=(0,500))\n",
    "plt.title('Мощность авто Л.С.')\n",
    "plt.xlabel('Лошадиные силы')\n",
    "plt.ylabel('Количество обьявлений')\n",
    "plt.grid(True)\n",
    "plt.show()\n",
    "data['Power'].describe()"
   ]
  },
  {
   "cell_type": "markdown",
   "metadata": {},
   "source": [
    "Минимальная мощность продаваемых авто в районе 50л.с, ограничим данные, что бы убрать обьявления с авто без мощности двигателя"
   ]
  },
  {
   "cell_type": "code",
   "execution_count": 16,
   "metadata": {},
   "outputs": [],
   "source": [
    "data = data[(data['Power'] < 2012) & (data['Power'] > 50)]"
   ]
  },
  {
   "cell_type": "code",
   "execution_count": 17,
   "metadata": {},
   "outputs": [
    {
     "data": {
      "text/plain": [
       "count    293314.000000\n",
       "mean        124.113367\n",
       "std          63.728336\n",
       "min          51.000000\n",
       "25%          82.000000\n",
       "50%         115.000000\n",
       "75%         150.000000\n",
       "max        2009.000000\n",
       "Name: Power, dtype: float64"
      ]
     },
     "execution_count": 17,
     "metadata": {},
     "output_type": "execute_result"
    }
   ],
   "source": [
    "data['Power'].describe()"
   ]
  },
  {
   "cell_type": "code",
   "execution_count": 18,
   "metadata": {
    "scrolled": true
   },
   "outputs": [
    {
     "data": {
      "text/plain": [
       "(293314, 16)"
      ]
     },
     "execution_count": 18,
     "metadata": {},
     "output_type": "execute_result"
    }
   ],
   "source": [
    "data.shape"
   ]
  },
  {
   "cell_type": "markdown",
   "metadata": {},
   "source": [
    "удалив авто по минимальной и максимальной мощности мы удалили 60 000, если в дальнейшем показатели модели будут не удолетворительными, можно вернуться к пересмотру данной метрики\n",
    "<br>Теперь займусь аномалией в столбце цен, с помощью формул поиска квартилей, удалю анамалии, которые не входят в диапозон нормы"
   ]
  },
  {
   "cell_type": "code",
   "execution_count": 19,
   "metadata": {},
   "outputs": [
    {
     "data": {
      "image/png": "[encoded data removed]",
      "text/plain": [
       "<Figure size 432x288 with 1 Axes>"
      ]
     },
     "metadata": {
      "needs_background": "light"
     },
     "output_type": "display_data"
    },
    {
     "data": {
      "text/plain": [
       "count    293314.0000\n",
       "mean       4863.7055\n",
       "std        4633.9141\n",
       "min           0.0000\n",
       "25%        1321.0000\n",
       "50%        3200.0000\n",
       "75%        6999.0000\n",
       "max       20000.0000\n",
       "Name: Price, dtype: float64"
      ]
     },
     "execution_count": 19,
     "metadata": {},
     "output_type": "execute_result"
    }
   ],
   "source": [
    "plt.hist(data['Price'], bins=100,  range=(20,20000))\n",
    "plt.title('Цена авто')\n",
    "plt.xlabel('Стоимость в Евро')\n",
    "plt.ylabel('Количество обьявлений')\n",
    "plt.grid(True)\n",
    "plt.show()\n",
    "data['Price'].describe()"
   ]
  },
  {
   "cell_type": "markdown",
   "metadata": {},
   "source": [
    "Пик цену приходится на 500-1000 евро, ограничим минимальный порог цены в 500, что бы оставить малобюджетные авто и отсечь совсем дешовые"
   ]
  },
  {
   "cell_type": "code",
   "execution_count": 20,
   "metadata": {},
   "outputs": [
    {
     "data": {
      "text/plain": [
       "(293314, 16)"
      ]
     },
     "execution_count": 20,
     "metadata": {},
     "output_type": "execute_result"
    }
   ],
   "source": [
    "data.shape"
   ]
  },
  {
   "cell_type": "code",
   "execution_count": 21,
   "metadata": {},
   "outputs": [],
   "source": [
    "data = data[(data['Price'] > 500)]"
   ]
  },
  {
   "cell_type": "code",
   "execution_count": 22,
   "metadata": {},
   "outputs": [
    {
     "data": {
      "text/html": [
       "<div>\n",
       "<style scoped>\n",
       "    .dataframe tbody tr th:only-of-type {\n",
       "        vertical-align: middle;\n",
       "    }\n",
       "\n",
       "    .dataframe tbody tr th {\n",
       "        vertical-align: top;\n",
       "    }\n",
       "\n",
       "    .dataframe thead th {\n",
       "        text-align: right;\n",
       "    }\n",
       "</style>\n",
       "<table border=\"1\" class=\"dataframe\">\n",
       "  <thead>\n",
       "    <tr style=\"text-align: right;\">\n",
       "      <th></th>\n",
       "      <th>Price</th>\n",
       "      <th>RegistrationYear</th>\n",
       "      <th>Power</th>\n",
       "      <th>Kilometer</th>\n",
       "      <th>RegistrationMonth</th>\n",
       "      <th>NumberOfPictures</th>\n",
       "      <th>PostalCode</th>\n",
       "    </tr>\n",
       "  </thead>\n",
       "  <tbody>\n",
       "    <tr>\n",
       "      <th>count</th>\n",
       "      <td>268723.000000</td>\n",
       "      <td>268723.000000</td>\n",
       "      <td>268723.000000</td>\n",
       "      <td>268723.000000</td>\n",
       "      <td>268723.000000</td>\n",
       "      <td>268723.0</td>\n",
       "      <td>268723.000000</td>\n",
       "    </tr>\n",
       "    <tr>\n",
       "      <th>mean</th>\n",
       "      <td>5285.636280</td>\n",
       "      <td>2003.566379</td>\n",
       "      <td>126.408339</td>\n",
       "      <td>127672.342896</td>\n",
       "      <td>6.057851</td>\n",
       "      <td>0.0</td>\n",
       "      <td>51572.340697</td>\n",
       "    </tr>\n",
       "    <tr>\n",
       "      <th>std</th>\n",
       "      <td>4616.429953</td>\n",
       "      <td>27.483488</td>\n",
       "      <td>62.654161</td>\n",
       "      <td>36909.827645</td>\n",
       "      <td>3.486424</td>\n",
       "      <td>0.0</td>\n",
       "      <td>25722.877739</td>\n",
       "    </tr>\n",
       "    <tr>\n",
       "      <th>min</th>\n",
       "      <td>501.000000</td>\n",
       "      <td>1937.000000</td>\n",
       "      <td>51.000000</td>\n",
       "      <td>5000.000000</td>\n",
       "      <td>1.000000</td>\n",
       "      <td>0.0</td>\n",
       "      <td>1067.000000</td>\n",
       "    </tr>\n",
       "    <tr>\n",
       "      <th>25%</th>\n",
       "      <td>1700.000000</td>\n",
       "      <td>2000.000000</td>\n",
       "      <td>87.000000</td>\n",
       "      <td>125000.000000</td>\n",
       "      <td>3.000000</td>\n",
       "      <td>0.0</td>\n",
       "      <td>31191.000000</td>\n",
       "    </tr>\n",
       "    <tr>\n",
       "      <th>50%</th>\n",
       "      <td>3650.000000</td>\n",
       "      <td>2004.000000</td>\n",
       "      <td>116.000000</td>\n",
       "      <td>150000.000000</td>\n",
       "      <td>6.000000</td>\n",
       "      <td>0.0</td>\n",
       "      <td>50769.000000</td>\n",
       "    </tr>\n",
       "    <tr>\n",
       "      <th>75%</th>\n",
       "      <td>7500.000000</td>\n",
       "      <td>2008.000000</td>\n",
       "      <td>150.000000</td>\n",
       "      <td>150000.000000</td>\n",
       "      <td>9.000000</td>\n",
       "      <td>0.0</td>\n",
       "      <td>72336.000000</td>\n",
       "    </tr>\n",
       "    <tr>\n",
       "      <th>max</th>\n",
       "      <td>20000.000000</td>\n",
       "      <td>9999.000000</td>\n",
       "      <td>2009.000000</td>\n",
       "      <td>150000.000000</td>\n",
       "      <td>12.000000</td>\n",
       "      <td>0.0</td>\n",
       "      <td>99998.000000</td>\n",
       "    </tr>\n",
       "  </tbody>\n",
       "</table>\n",
       "</div>"
      ],
      "text/plain": [
       "               Price  RegistrationYear          Power      Kilometer  \\\n",
       "count  268723.000000     268723.000000  268723.000000  268723.000000   \n",
       "mean     5285.636280       2003.566379     126.408339  127672.342896   \n",
       "std      4616.429953         27.483488      62.654161   36909.827645   \n",
       "min       501.000000       1937.000000      51.000000    5000.000000   \n",
       "25%      1700.000000       2000.000000      87.000000  125000.000000   \n",
       "50%      3650.000000       2004.000000     116.000000  150000.000000   \n",
       "75%      7500.000000       2008.000000     150.000000  150000.000000   \n",
       "max     20000.000000       9999.000000    2009.000000  150000.000000   \n",
       "\n",
       "       RegistrationMonth  NumberOfPictures     PostalCode  \n",
       "count      268723.000000          268723.0  268723.000000  \n",
       "mean            6.057851               0.0   51572.340697  \n",
       "std             3.486424               0.0   25722.877739  \n",
       "min             1.000000               0.0    1067.000000  \n",
       "25%             3.000000               0.0   31191.000000  \n",
       "50%             6.000000               0.0   50769.000000  \n",
       "75%             9.000000               0.0   72336.000000  \n",
       "max            12.000000               0.0   99998.000000  "
      ]
     },
     "execution_count": 22,
     "metadata": {},
     "output_type": "execute_result"
    }
   ],
   "source": [
    "data.describe()"
   ]
  },
  {
   "cell_type": "code",
   "execution_count": 23,
   "metadata": {},
   "outputs": [
    {
     "data": {
      "text/plain": [
       "(268723, 16)"
      ]
     },
     "execution_count": 23,
     "metadata": {},
     "output_type": "execute_result"
    }
   ],
   "source": [
    "data.shape"
   ]
  },
  {
   "cell_type": "markdown",
   "metadata": {},
   "source": [
    "После обработки анамалий было удалено 85000 строк"
   ]
  },
  {
   "cell_type": "markdown",
   "metadata": {},
   "source": [
    "#### Удаление пропусков"
   ]
  },
  {
   "cell_type": "markdown",
   "metadata": {},
   "source": [
    "Теперь займусь пропусками\n",
    "<br>Ещё раз проверю количество пропусков, в процентном соотношении"
   ]
  },
  {
   "cell_type": "code",
   "execution_count": 24,
   "metadata": {},
   "outputs": [
    {
     "data": {
      "text/html": [
       "<style  type=\"text/css\" >\n",
       "#T_78c2e_row0_col0,#T_78c2e_row1_col0,#T_78c2e_row3_col0,#T_78c2e_row5_col0,#T_78c2e_row7_col0,#T_78c2e_row8_col0,#T_78c2e_row10_col0,#T_78c2e_row12_col0,#T_78c2e_row13_col0,#T_78c2e_row14_col0,#T_78c2e_row15_col0{\n",
       "            background-color:  #3b4cc0;\n",
       "            color:  #f1f1f1;\n",
       "        }#T_78c2e_row2_col0,#T_78c2e_row6_col0{\n",
       "            background-color:  #86a9fc;\n",
       "            color:  #000000;\n",
       "        }#T_78c2e_row4_col0{\n",
       "            background-color:  #6b8df0;\n",
       "            color:  #000000;\n",
       "        }#T_78c2e_row9_col0{\n",
       "            background-color:  #a1c0ff;\n",
       "            color:  #000000;\n",
       "        }#T_78c2e_row11_col0{\n",
       "            background-color:  #b40426;\n",
       "            color:  #f1f1f1;\n",
       "        }</style><table id=\"T_78c2e_\" ><thead>    <tr>        <th class=\"blank level0\" ></th>        <th class=\"col_heading level0 col0\" >0</th>    </tr></thead><tbody>\n",
       "                <tr>\n",
       "                        <th id=\"T_78c2e_level0_row0\" class=\"row_heading level0 row0\" >DateCrawled</th>\n",
       "                        <td id=\"T_78c2e_row0_col0\" class=\"data row0 col0\" >0.000000</td>\n",
       "            </tr>\n",
       "            <tr>\n",
       "                        <th id=\"T_78c2e_level0_row1\" class=\"row_heading level0 row1\" >Price</th>\n",
       "                        <td id=\"T_78c2e_row1_col0\" class=\"data row1 col0\" >0.000000</td>\n",
       "            </tr>\n",
       "            <tr>\n",
       "                        <th id=\"T_78c2e_level0_row2\" class=\"row_heading level0 row2\" >VehicleType</th>\n",
       "                        <td id=\"T_78c2e_row2_col0\" class=\"data row2 col0\" >3.000000</td>\n",
       "            </tr>\n",
       "            <tr>\n",
       "                        <th id=\"T_78c2e_level0_row3\" class=\"row_heading level0 row3\" >RegistrationYear</th>\n",
       "                        <td id=\"T_78c2e_row3_col0\" class=\"data row3 col0\" >0.000000</td>\n",
       "            </tr>\n",
       "            <tr>\n",
       "                        <th id=\"T_78c2e_level0_row4\" class=\"row_heading level0 row4\" >Gearbox</th>\n",
       "                        <td id=\"T_78c2e_row4_col0\" class=\"data row4 col0\" >2.000000</td>\n",
       "            </tr>\n",
       "            <tr>\n",
       "                        <th id=\"T_78c2e_level0_row5\" class=\"row_heading level0 row5\" >Power</th>\n",
       "                        <td id=\"T_78c2e_row5_col0\" class=\"data row5 col0\" >0.000000</td>\n",
       "            </tr>\n",
       "            <tr>\n",
       "                        <th id=\"T_78c2e_level0_row6\" class=\"row_heading level0 row6\" >Model</th>\n",
       "                        <td id=\"T_78c2e_row6_col0\" class=\"data row6 col0\" >3.000000</td>\n",
       "            </tr>\n",
       "            <tr>\n",
       "                        <th id=\"T_78c2e_level0_row7\" class=\"row_heading level0 row7\" >Kilometer</th>\n",
       "                        <td id=\"T_78c2e_row7_col0\" class=\"data row7 col0\" >0.000000</td>\n",
       "            </tr>\n",
       "            <tr>\n",
       "                        <th id=\"T_78c2e_level0_row8\" class=\"row_heading level0 row8\" >RegistrationMonth</th>\n",
       "                        <td id=\"T_78c2e_row8_col0\" class=\"data row8 col0\" >0.000000</td>\n",
       "            </tr>\n",
       "            <tr>\n",
       "                        <th id=\"T_78c2e_level0_row9\" class=\"row_heading level0 row9\" >FuelType</th>\n",
       "                        <td id=\"T_78c2e_row9_col0\" class=\"data row9 col0\" >4.000000</td>\n",
       "            </tr>\n",
       "            <tr>\n",
       "                        <th id=\"T_78c2e_level0_row10\" class=\"row_heading level0 row10\" >Brand</th>\n",
       "                        <td id=\"T_78c2e_row10_col0\" class=\"data row10 col0\" >0.000000</td>\n",
       "            </tr>\n",
       "            <tr>\n",
       "                        <th id=\"T_78c2e_level0_row11\" class=\"row_heading level0 row11\" >Repaired</th>\n",
       "                        <td id=\"T_78c2e_row11_col0\" class=\"data row11 col0\" >13.000000</td>\n",
       "            </tr>\n",
       "            <tr>\n",
       "                        <th id=\"T_78c2e_level0_row12\" class=\"row_heading level0 row12\" >DateCreated</th>\n",
       "                        <td id=\"T_78c2e_row12_col0\" class=\"data row12 col0\" >0.000000</td>\n",
       "            </tr>\n",
       "            <tr>\n",
       "                        <th id=\"T_78c2e_level0_row13\" class=\"row_heading level0 row13\" >NumberOfPictures</th>\n",
       "                        <td id=\"T_78c2e_row13_col0\" class=\"data row13 col0\" >0.000000</td>\n",
       "            </tr>\n",
       "            <tr>\n",
       "                        <th id=\"T_78c2e_level0_row14\" class=\"row_heading level0 row14\" >PostalCode</th>\n",
       "                        <td id=\"T_78c2e_row14_col0\" class=\"data row14 col0\" >0.000000</td>\n",
       "            </tr>\n",
       "            <tr>\n",
       "                        <th id=\"T_78c2e_level0_row15\" class=\"row_heading level0 row15\" >LastSeen</th>\n",
       "                        <td id=\"T_78c2e_row15_col0\" class=\"data row15 col0\" >0.000000</td>\n",
       "            </tr>\n",
       "    </tbody></table>"
      ],
      "text/plain": [
       "<pandas.io.formats.style.Styler at 0x7fad8d3ff640>"
      ]
     },
     "execution_count": 24,
     "metadata": {},
     "output_type": "execute_result"
    }
   ],
   "source": [
    "pd.DataFrame(round(data.isna().mean()*100,)).style.background_gradient('coolwarm')"
   ]
  },
  {
   "cell_type": "markdown",
   "metadata": {},
   "source": [
    "Очень много пропусков, если удалить данные, то будет большая потеря и возможность плохое обучения моделей, заменим пропуски на наиболее часто встречающимся значением, так как пропуски в \"Категориальных признаках\"  и это не должно так повредить обучению модели как удаление этих данных.\n",
    "<br> в столбце \"Repaired — была машина в ремонте или нет\", замену произведу на \"no\""
   ]
  },
  {
   "cell_type": "code",
   "execution_count": 25,
   "metadata": {},
   "outputs": [
    {
     "data": {
      "text/plain": [
       "(268723, 16)"
      ]
     },
     "execution_count": 25,
     "metadata": {},
     "output_type": "execute_result"
    }
   ],
   "source": [
    "data.shape"
   ]
  },
  {
   "cell_type": "code",
   "execution_count": 26,
   "metadata": {},
   "outputs": [
    {
     "name": "stdout",
     "output_type": "stream",
     "text": [
      "<class 'pandas.core.frame.DataFrame'>\n",
      "Int64Index: 268723 entries, 1 to 354368\n",
      "Data columns (total 16 columns):\n",
      " #   Column             Non-Null Count   Dtype         \n",
      "---  ------             --------------   -----         \n",
      " 0   DateCrawled        268723 non-null  object        \n",
      " 1   Price              268723 non-null  int64         \n",
      " 2   VehicleType        260203 non-null  object        \n",
      " 3   RegistrationYear   268723 non-null  int64         \n",
      " 4   Gearbox            264570 non-null  object        \n",
      " 5   Power              268723 non-null  int64         \n",
      " 6   Model              259636 non-null  object        \n",
      " 7   Kilometer          268723 non-null  int64         \n",
      " 8   RegistrationMonth  268723 non-null  int64         \n",
      " 9   FuelType           256877 non-null  object        \n",
      " 10  Brand              268723 non-null  object        \n",
      " 11  Repaired           233768 non-null  object        \n",
      " 12  DateCreated        268723 non-null  datetime64[ns]\n",
      " 13  NumberOfPictures   268723 non-null  int64         \n",
      " 14  PostalCode         268723 non-null  int64         \n",
      " 15  LastSeen           268723 non-null  object        \n",
      "dtypes: datetime64[ns](1), int64(7), object(8)\n",
      "memory usage: 34.9+ MB\n"
     ]
    }
   ],
   "source": [
    "data.info()"
   ]
  },
  {
   "cell_type": "code",
   "execution_count": 27,
   "metadata": {},
   "outputs": [],
   "source": [
    "column = ['VehicleType', 'Gearbox', 'Model', 'FuelType']\n",
    "for col in column:\n",
    "    data[col] = data[col].fillna('unknown')\n",
    "\n",
    "data['Repaired'] = data['Repaired'].fillna('no')"
   ]
  },
  {
   "cell_type": "code",
   "execution_count": 28,
   "metadata": {},
   "outputs": [
    {
     "data": {
      "text/html": [
       "<style  type=\"text/css\" >\n",
       "#T_03f6a_row0_col0,#T_03f6a_row1_col0,#T_03f6a_row2_col0,#T_03f6a_row3_col0,#T_03f6a_row4_col0,#T_03f6a_row5_col0,#T_03f6a_row6_col0,#T_03f6a_row7_col0,#T_03f6a_row8_col0,#T_03f6a_row9_col0,#T_03f6a_row10_col0,#T_03f6a_row11_col0,#T_03f6a_row12_col0,#T_03f6a_row13_col0,#T_03f6a_row14_col0,#T_03f6a_row15_col0{\n",
       "            background-color:  #3b4cc0;\n",
       "            color:  #f1f1f1;\n",
       "        }</style><table id=\"T_03f6a_\" ><thead>    <tr>        <th class=\"blank level0\" ></th>        <th class=\"col_heading level0 col0\" >0</th>    </tr></thead><tbody>\n",
       "                <tr>\n",
       "                        <th id=\"T_03f6a_level0_row0\" class=\"row_heading level0 row0\" >DateCrawled</th>\n",
       "                        <td id=\"T_03f6a_row0_col0\" class=\"data row0 col0\" >0.000000</td>\n",
       "            </tr>\n",
       "            <tr>\n",
       "                        <th id=\"T_03f6a_level0_row1\" class=\"row_heading level0 row1\" >Price</th>\n",
       "                        <td id=\"T_03f6a_row1_col0\" class=\"data row1 col0\" >0.000000</td>\n",
       "            </tr>\n",
       "            <tr>\n",
       "                        <th id=\"T_03f6a_level0_row2\" class=\"row_heading level0 row2\" >VehicleType</th>\n",
       "                        <td id=\"T_03f6a_row2_col0\" class=\"data row2 col0\" >0.000000</td>\n",
       "            </tr>\n",
       "            <tr>\n",
       "                        <th id=\"T_03f6a_level0_row3\" class=\"row_heading level0 row3\" >RegistrationYear</th>\n",
       "                        <td id=\"T_03f6a_row3_col0\" class=\"data row3 col0\" >0.000000</td>\n",
       "            </tr>\n",
       "            <tr>\n",
       "                        <th id=\"T_03f6a_level0_row4\" class=\"row_heading level0 row4\" >Gearbox</th>\n",
       "                        <td id=\"T_03f6a_row4_col0\" class=\"data row4 col0\" >0.000000</td>\n",
       "            </tr>\n",
       "            <tr>\n",
       "                        <th id=\"T_03f6a_level0_row5\" class=\"row_heading level0 row5\" >Power</th>\n",
       "                        <td id=\"T_03f6a_row5_col0\" class=\"data row5 col0\" >0.000000</td>\n",
       "            </tr>\n",
       "            <tr>\n",
       "                        <th id=\"T_03f6a_level0_row6\" class=\"row_heading level0 row6\" >Model</th>\n",
       "                        <td id=\"T_03f6a_row6_col0\" class=\"data row6 col0\" >0.000000</td>\n",
       "            </tr>\n",
       "            <tr>\n",
       "                        <th id=\"T_03f6a_level0_row7\" class=\"row_heading level0 row7\" >Kilometer</th>\n",
       "                        <td id=\"T_03f6a_row7_col0\" class=\"data row7 col0\" >0.000000</td>\n",
       "            </tr>\n",
       "            <tr>\n",
       "                        <th id=\"T_03f6a_level0_row8\" class=\"row_heading level0 row8\" >RegistrationMonth</th>\n",
       "                        <td id=\"T_03f6a_row8_col0\" class=\"data row8 col0\" >0.000000</td>\n",
       "            </tr>\n",
       "            <tr>\n",
       "                        <th id=\"T_03f6a_level0_row9\" class=\"row_heading level0 row9\" >FuelType</th>\n",
       "                        <td id=\"T_03f6a_row9_col0\" class=\"data row9 col0\" >0.000000</td>\n",
       "            </tr>\n",
       "            <tr>\n",
       "                        <th id=\"T_03f6a_level0_row10\" class=\"row_heading level0 row10\" >Brand</th>\n",
       "                        <td id=\"T_03f6a_row10_col0\" class=\"data row10 col0\" >0.000000</td>\n",
       "            </tr>\n",
       "            <tr>\n",
       "                        <th id=\"T_03f6a_level0_row11\" class=\"row_heading level0 row11\" >Repaired</th>\n",
       "                        <td id=\"T_03f6a_row11_col0\" class=\"data row11 col0\" >0.000000</td>\n",
       "            </tr>\n",
       "            <tr>\n",
       "                        <th id=\"T_03f6a_level0_row12\" class=\"row_heading level0 row12\" >DateCreated</th>\n",
       "                        <td id=\"T_03f6a_row12_col0\" class=\"data row12 col0\" >0.000000</td>\n",
       "            </tr>\n",
       "            <tr>\n",
       "                        <th id=\"T_03f6a_level0_row13\" class=\"row_heading level0 row13\" >NumberOfPictures</th>\n",
       "                        <td id=\"T_03f6a_row13_col0\" class=\"data row13 col0\" >0.000000</td>\n",
       "            </tr>\n",
       "            <tr>\n",
       "                        <th id=\"T_03f6a_level0_row14\" class=\"row_heading level0 row14\" >PostalCode</th>\n",
       "                        <td id=\"T_03f6a_row14_col0\" class=\"data row14 col0\" >0.000000</td>\n",
       "            </tr>\n",
       "            <tr>\n",
       "                        <th id=\"T_03f6a_level0_row15\" class=\"row_heading level0 row15\" >LastSeen</th>\n",
       "                        <td id=\"T_03f6a_row15_col0\" class=\"data row15 col0\" >0.000000</td>\n",
       "            </tr>\n",
       "    </tbody></table>"
      ],
      "text/plain": [
       "<pandas.io.formats.style.Styler at 0x7fad8d28adc0>"
      ]
     },
     "execution_count": 28,
     "metadata": {},
     "output_type": "execute_result"
    }
   ],
   "source": [
    "pd.DataFrame(round(data.isna().mean()*100,)).style.background_gradient('coolwarm')"
   ]
  },
  {
   "cell_type": "markdown",
   "metadata": {},
   "source": [
    "#### Не информативные столбцы"
   ]
  },
  {
   "cell_type": "markdown",
   "metadata": {},
   "source": [
    "Последними действиями под \"нож\" отправляю не информативные столбцы"
   ]
  },
  {
   "cell_type": "code",
   "execution_count": 29,
   "metadata": {},
   "outputs": [
    {
     "data": {
      "text/plain": [
       "(268723, 16)"
      ]
     },
     "execution_count": 29,
     "metadata": {},
     "output_type": "execute_result"
    }
   ],
   "source": [
    "data.shape"
   ]
  },
  {
   "cell_type": "code",
   "execution_count": 30,
   "metadata": {},
   "outputs": [],
   "source": [
    "data = data.drop(columns=['DateCrawled', 'DateCreated', 'LastSeen', 'NumberOfPictures', 'PostalCode', 'RegistrationMonth'], axis=1)"
   ]
  },
  {
   "cell_type": "code",
   "execution_count": 31,
   "metadata": {},
   "outputs": [
    {
     "data": {
      "text/plain": [
       "(268723, 10)"
      ]
     },
     "execution_count": 31,
     "metadata": {},
     "output_type": "execute_result"
    }
   ],
   "source": [
    "data.shape"
   ]
  },
  {
   "cell_type": "markdown",
   "metadata": {},
   "source": [
    "#### Вывод"
   ]
  },
  {
   "cell_type": "markdown",
   "metadata": {},
   "source": [
    "**В ходе моих действий я удалил 19364 строк, убирая аномалии для адекватного обучения модели.\n",
    "<br> Все пропуски оказались в категориальных признаках и были заменены на наиболее повторяющиеся варианты, это было сделано в замен удаления пропусков, так как иначе была бы потеря более 50% данных\n",
    "<br> Все не информативные столбцы были так же удалены, для облегчения обучения модели\n",
    "<br> Дубликатов в данных оказалось ничтожно мало и они так же были удалены**"
   ]
  },
  {
   "cell_type": "markdown",
   "metadata": {},
   "source": [
    "## Обучение моделей"
   ]
  },
  {
   "cell_type": "code",
   "execution_count": 118,
   "metadata": {},
   "outputs": [],
   "source": [
    "#переменные составления итоговой таблицы\n",
    "best_score_tabl = []\n",
    "best_time_fit = []\n",
    "best_time_pred = []"
   ]
  },
  {
   "cell_type": "markdown",
   "metadata": {},
   "source": [
    "### Разделение на выборки"
   ]
  },
  {
   "cell_type": "code",
   "execution_count": 33,
   "metadata": {},
   "outputs": [
    {
     "data": {
      "text/plain": [
       "(268723, 10)"
      ]
     },
     "execution_count": 33,
     "metadata": {},
     "output_type": "execute_result"
    }
   ],
   "source": [
    "data.shape"
   ]
  },
  {
   "cell_type": "code",
   "execution_count": 34,
   "metadata": {},
   "outputs": [],
   "source": [
    "features = data.drop(['Price'] , axis=1)\n",
    "target = data['Price']\n",
    "\n",
    "features_train, features_valid, target_train, target_valid = train_test_split(features,\n",
    "                                                                              target, \n",
    "                                                                              test_size=0.5, \n",
    "                                                                              random_state=STATE)\n",
    "# Выделил обучающую и валидационную выборки"
   ]
  },
  {
   "cell_type": "code",
   "execution_count": 35,
   "metadata": {},
   "outputs": [
    {
     "data": {
      "text/plain": [
       "(268723, 9)"
      ]
     },
     "metadata": {},
     "output_type": "display_data"
    },
    {
     "data": {
      "text/plain": [
       "(268723,)"
      ]
     },
     "metadata": {},
     "output_type": "display_data"
    }
   ],
   "source": [
    "display(features.shape, target.shape)"
   ]
  },
  {
   "cell_type": "code",
   "execution_count": 36,
   "metadata": {},
   "outputs": [
    {
     "data": {
      "text/plain": [
       "'Features:'"
      ]
     },
     "metadata": {},
     "output_type": "display_data"
    },
    {
     "data": {
      "text/plain": [
       "True"
      ]
     },
     "metadata": {},
     "output_type": "display_data"
    },
    {
     "data": {
      "text/plain": [
       "'Target:'"
      ]
     },
     "metadata": {},
     "output_type": "display_data"
    },
    {
     "data": {
      "text/plain": [
       "True"
      ]
     },
     "metadata": {},
     "output_type": "display_data"
    }
   ],
   "source": [
    "display('Features:',features_train.shape[0]+features_valid.shape[0]==features.shape[0],\n",
    "        'Target:',target_train.shape[0]+target_valid.shape[0]==target.shape[0])"
   ]
  },
  {
   "cell_type": "markdown",
   "metadata": {},
   "source": [
    "### Случайный лес"
   ]
  },
  {
   "cell_type": "markdown",
   "metadata": {},
   "source": [
    "#### Кодирование категориальных признаков"
   ]
  },
  {
   "cell_type": "code",
   "execution_count": 37,
   "metadata": {},
   "outputs": [],
   "source": [
    "#копируем выборки, что бы не изменять основные данные для других моделей\n",
    "features_train_ord = features_train.copy()\n",
    "features_valid_ord = features_valid.copy()"
   ]
  },
  {
   "cell_type": "code",
   "execution_count": 38,
   "metadata": {},
   "outputs": [],
   "source": [
    "columns=['VehicleType', 'Gearbox','Model', 'FuelType','Brand', 'Repaired']"
   ]
  },
  {
   "cell_type": "code",
   "execution_count": 39,
   "metadata": {
    "scrolled": false
   },
   "outputs": [
    {
     "data": {
      "text/plain": [
       "OrdinalEncoder(handle_unknown='ignore')"
      ]
     },
     "execution_count": 39,
     "metadata": {},
     "output_type": "execute_result"
    }
   ],
   "source": [
    "ord_enc = OrdinalEncoder(handle_unknown='ignore')\n",
    "ord_enc.fit(features_train[columns])"
   ]
  },
  {
   "cell_type": "code",
   "execution_count": 40,
   "metadata": {},
   "outputs": [],
   "source": [
    "def OrdinalCod(df,column):\n",
    "    df[column] = ord_enc.transform(df[column])\n",
    "    return df"
   ]
  },
  {
   "cell_type": "code",
   "execution_count": 41,
   "metadata": {},
   "outputs": [],
   "source": [
    "features_train_ord = OrdinalCod(features_train_ord,columns)\n",
    "features_valid_ord = OrdinalCod(features_valid_ord,columns)"
   ]
  },
  {
   "cell_type": "code",
   "execution_count": 42,
   "metadata": {},
   "outputs": [
    {
     "data": {
      "text/html": [
       "<div>\n",
       "<style scoped>\n",
       "    .dataframe tbody tr th:only-of-type {\n",
       "        vertical-align: middle;\n",
       "    }\n",
       "\n",
       "    .dataframe tbody tr th {\n",
       "        vertical-align: top;\n",
       "    }\n",
       "\n",
       "    .dataframe thead th {\n",
       "        text-align: right;\n",
       "    }\n",
       "</style>\n",
       "<table border=\"1\" class=\"dataframe\">\n",
       "  <thead>\n",
       "    <tr style=\"text-align: right;\">\n",
       "      <th></th>\n",
       "      <th>VehicleType</th>\n",
       "      <th>RegistrationYear</th>\n",
       "      <th>Gearbox</th>\n",
       "      <th>Power</th>\n",
       "      <th>Model</th>\n",
       "      <th>Kilometer</th>\n",
       "      <th>FuelType</th>\n",
       "      <th>Brand</th>\n",
       "      <th>Repaired</th>\n",
       "    </tr>\n",
       "  </thead>\n",
       "  <tbody>\n",
       "    <tr>\n",
       "      <th>333553</th>\n",
       "      <td>4.0</td>\n",
       "      <td>2005</td>\n",
       "      <td>1.0</td>\n",
       "      <td>163</td>\n",
       "      <td>11.0</td>\n",
       "      <td>150000</td>\n",
       "      <td>2.0</td>\n",
       "      <td>2.0</td>\n",
       "      <td>0.0</td>\n",
       "    </tr>\n",
       "    <tr>\n",
       "      <th>220304</th>\n",
       "      <td>8.0</td>\n",
       "      <td>1995</td>\n",
       "      <td>1.0</td>\n",
       "      <td>90</td>\n",
       "      <td>168.0</td>\n",
       "      <td>150000</td>\n",
       "      <td>6.0</td>\n",
       "      <td>38.0</td>\n",
       "      <td>0.0</td>\n",
       "    </tr>\n",
       "    <tr>\n",
       "      <th>219591</th>\n",
       "      <td>4.0</td>\n",
       "      <td>2008</td>\n",
       "      <td>1.0</td>\n",
       "      <td>95</td>\n",
       "      <td>32.0</td>\n",
       "      <td>125000</td>\n",
       "      <td>6.0</td>\n",
       "      <td>20.0</td>\n",
       "      <td>0.0</td>\n",
       "    </tr>\n",
       "    <tr>\n",
       "      <th>35651</th>\n",
       "      <td>8.0</td>\n",
       "      <td>2007</td>\n",
       "      <td>1.0</td>\n",
       "      <td>140</td>\n",
       "      <td>27.0</td>\n",
       "      <td>150000</td>\n",
       "      <td>2.0</td>\n",
       "      <td>1.0</td>\n",
       "      <td>0.0</td>\n",
       "    </tr>\n",
       "    <tr>\n",
       "      <th>7530</th>\n",
       "      <td>7.0</td>\n",
       "      <td>2016</td>\n",
       "      <td>1.0</td>\n",
       "      <td>90</td>\n",
       "      <td>82.0</td>\n",
       "      <td>150000</td>\n",
       "      <td>7.0</td>\n",
       "      <td>24.0</td>\n",
       "      <td>0.0</td>\n",
       "    </tr>\n",
       "    <tr>\n",
       "      <th>...</th>\n",
       "      <td>...</td>\n",
       "      <td>...</td>\n",
       "      <td>...</td>\n",
       "      <td>...</td>\n",
       "      <td>...</td>\n",
       "      <td>...</td>\n",
       "      <td>...</td>\n",
       "      <td>...</td>\n",
       "      <td>...</td>\n",
       "    </tr>\n",
       "    <tr>\n",
       "      <th>209697</th>\n",
       "      <td>4.0</td>\n",
       "      <td>2005</td>\n",
       "      <td>0.0</td>\n",
       "      <td>140</td>\n",
       "      <td>115.0</td>\n",
       "      <td>125000</td>\n",
       "      <td>2.0</td>\n",
       "      <td>38.0</td>\n",
       "      <td>0.0</td>\n",
       "    </tr>\n",
       "    <tr>\n",
       "      <th>63355</th>\n",
       "      <td>4.0</td>\n",
       "      <td>2001</td>\n",
       "      <td>1.0</td>\n",
       "      <td>98</td>\n",
       "      <td>10.0</td>\n",
       "      <td>150000</td>\n",
       "      <td>6.0</td>\n",
       "      <td>19.0</td>\n",
       "      <td>0.0</td>\n",
       "    </tr>\n",
       "    <tr>\n",
       "      <th>114087</th>\n",
       "      <td>4.0</td>\n",
       "      <td>1993</td>\n",
       "      <td>1.0</td>\n",
       "      <td>90</td>\n",
       "      <td>19.0</td>\n",
       "      <td>150000</td>\n",
       "      <td>6.0</td>\n",
       "      <td>1.0</td>\n",
       "      <td>0.0</td>\n",
       "    </tr>\n",
       "    <tr>\n",
       "      <th>101982</th>\n",
       "      <td>5.0</td>\n",
       "      <td>2009</td>\n",
       "      <td>1.0</td>\n",
       "      <td>65</td>\n",
       "      <td>149.0</td>\n",
       "      <td>125000</td>\n",
       "      <td>6.0</td>\n",
       "      <td>23.0</td>\n",
       "      <td>1.0</td>\n",
       "    </tr>\n",
       "    <tr>\n",
       "      <th>286934</th>\n",
       "      <td>4.0</td>\n",
       "      <td>1998</td>\n",
       "      <td>1.0</td>\n",
       "      <td>102</td>\n",
       "      <td>11.0</td>\n",
       "      <td>150000</td>\n",
       "      <td>6.0</td>\n",
       "      <td>2.0</td>\n",
       "      <td>0.0</td>\n",
       "    </tr>\n",
       "  </tbody>\n",
       "</table>\n",
       "<p>134361 rows × 9 columns</p>\n",
       "</div>"
      ],
      "text/plain": [
       "        VehicleType  RegistrationYear  Gearbox  Power  Model  Kilometer  \\\n",
       "333553          4.0              2005      1.0    163   11.0     150000   \n",
       "220304          8.0              1995      1.0     90  168.0     150000   \n",
       "219591          4.0              2008      1.0     95   32.0     125000   \n",
       "35651           8.0              2007      1.0    140   27.0     150000   \n",
       "7530            7.0              2016      1.0     90   82.0     150000   \n",
       "...             ...               ...      ...    ...    ...        ...   \n",
       "209697          4.0              2005      0.0    140  115.0     125000   \n",
       "63355           4.0              2001      1.0     98   10.0     150000   \n",
       "114087          4.0              1993      1.0     90   19.0     150000   \n",
       "101982          5.0              2009      1.0     65  149.0     125000   \n",
       "286934          4.0              1998      1.0    102   11.0     150000   \n",
       "\n",
       "        FuelType  Brand  Repaired  \n",
       "333553       2.0    2.0       0.0  \n",
       "220304       6.0   38.0       0.0  \n",
       "219591       6.0   20.0       0.0  \n",
       "35651        2.0    1.0       0.0  \n",
       "7530         7.0   24.0       0.0  \n",
       "...          ...    ...       ...  \n",
       "209697       2.0   38.0       0.0  \n",
       "63355        6.0   19.0       0.0  \n",
       "114087       6.0    1.0       0.0  \n",
       "101982       6.0   23.0       1.0  \n",
       "286934       6.0    2.0       0.0  \n",
       "\n",
       "[134361 rows x 9 columns]"
      ]
     },
     "execution_count": 42,
     "metadata": {},
     "output_type": "execute_result"
    }
   ],
   "source": [
    "features_train_ord"
   ]
  },
  {
   "cell_type": "markdown",
   "metadata": {},
   "source": [
    "#### Обучение модели"
   ]
  },
  {
   "cell_type": "code",
   "execution_count": 43,
   "metadata": {},
   "outputs": [
    {
     "name": "stdout",
     "output_type": "stream",
     "text": [
      "Лучшее значение RMSE для случайного леса: 1889.096530628962\n",
      " при значениях гиперпараметров: {'max_depth': 10, 'n_estimators': 90}\n",
      "CPU times: user 7min 47s, sys: 1.11 s, total: 7min 48s\n",
      "Wall time: 7min 50s\n"
     ]
    }
   ],
   "source": [
    "%%time\n",
    "param_grid = {'max_depth': range(2, 11, 2),\n",
    "              'n_estimators': range(10, 100, 10)\n",
    "              }             \n",
    "\n",
    "model = RandomForestRegressor(random_state=STATE)\n",
    "search = GridSearchCV(model, param_grid, cv=3, scoring='neg_root_mean_squared_error')\n",
    "search.fit(features_train_ord, target_train)\n",
    "print('Лучшее значение RMSE для случайного леса: {}'\n",
    "      '\\n при значениях гиперпараметров: {}'.format(-search.best_score_,search.best_params_))"
   ]
  },
  {
   "cell_type": "code",
   "execution_count": 44,
   "metadata": {
    "scrolled": false
   },
   "outputs": [
    {
     "data": {
      "text/html": [
       "<div>\n",
       "<style scoped>\n",
       "    .dataframe tbody tr th:only-of-type {\n",
       "        vertical-align: middle;\n",
       "    }\n",
       "\n",
       "    .dataframe tbody tr th {\n",
       "        vertical-align: top;\n",
       "    }\n",
       "\n",
       "    .dataframe thead th {\n",
       "        text-align: right;\n",
       "    }\n",
       "</style>\n",
       "<table border=\"1\" class=\"dataframe\">\n",
       "  <thead>\n",
       "    <tr style=\"text-align: right;\">\n",
       "      <th></th>\n",
       "      <th>mean_fit_time</th>\n",
       "      <th>std_fit_time</th>\n",
       "      <th>mean_score_time</th>\n",
       "      <th>std_score_time</th>\n",
       "      <th>param_max_depth</th>\n",
       "      <th>param_n_estimators</th>\n",
       "      <th>params</th>\n",
       "      <th>split0_test_score</th>\n",
       "      <th>split1_test_score</th>\n",
       "      <th>split2_test_score</th>\n",
       "      <th>mean_test_score</th>\n",
       "      <th>std_test_score</th>\n",
       "      <th>rank_test_score</th>\n",
       "    </tr>\n",
       "  </thead>\n",
       "  <tbody>\n",
       "    <tr>\n",
       "      <th>0</th>\n",
       "      <td>0.288996</td>\n",
       "      <td>0.015515</td>\n",
       "      <td>0.012695</td>\n",
       "      <td>0.000107</td>\n",
       "      <td>2</td>\n",
       "      <td>10</td>\n",
       "      <td>{'max_depth': 2, 'n_estimators': 10}</td>\n",
       "      <td>-3227.550433</td>\n",
       "      <td>-3246.951099</td>\n",
       "      <td>-3256.392915</td>\n",
       "      <td>-3243.631482</td>\n",
       "      <td>12.006584</td>\n",
       "      <td>37</td>\n",
       "    </tr>\n",
       "    <tr>\n",
       "      <th>1</th>\n",
       "      <td>0.543552</td>\n",
       "      <td>0.011642</td>\n",
       "      <td>0.022135</td>\n",
       "      <td>0.000399</td>\n",
       "      <td>2</td>\n",
       "      <td>20</td>\n",
       "      <td>{'max_depth': 2, 'n_estimators': 20}</td>\n",
       "      <td>-3227.543865</td>\n",
       "      <td>-3246.940933</td>\n",
       "      <td>-3256.614544</td>\n",
       "      <td>-3243.699781</td>\n",
       "      <td>12.087319</td>\n",
       "      <td>38</td>\n",
       "    </tr>\n",
       "    <tr>\n",
       "      <th>2</th>\n",
       "      <td>0.820081</td>\n",
       "      <td>0.019114</td>\n",
       "      <td>0.032240</td>\n",
       "      <td>0.002635</td>\n",
       "      <td>2</td>\n",
       "      <td>30</td>\n",
       "      <td>{'max_depth': 2, 'n_estimators': 30}</td>\n",
       "      <td>-3227.609920</td>\n",
       "      <td>-3247.047283</td>\n",
       "      <td>-3256.611477</td>\n",
       "      <td>-3243.756226</td>\n",
       "      <td>12.066369</td>\n",
       "      <td>44</td>\n",
       "    </tr>\n",
       "    <tr>\n",
       "      <th>3</th>\n",
       "      <td>1.079458</td>\n",
       "      <td>0.023180</td>\n",
       "      <td>0.039581</td>\n",
       "      <td>0.000384</td>\n",
       "      <td>2</td>\n",
       "      <td>40</td>\n",
       "      <td>{'max_depth': 2, 'n_estimators': 40}</td>\n",
       "      <td>-3227.557780</td>\n",
       "      <td>-3247.020350</td>\n",
       "      <td>-3256.642880</td>\n",
       "      <td>-3243.740337</td>\n",
       "      <td>12.098337</td>\n",
       "      <td>43</td>\n",
       "    </tr>\n",
       "    <tr>\n",
       "      <th>4</th>\n",
       "      <td>1.359404</td>\n",
       "      <td>0.021614</td>\n",
       "      <td>0.049758</td>\n",
       "      <td>0.001449</td>\n",
       "      <td>2</td>\n",
       "      <td>50</td>\n",
       "      <td>{'max_depth': 2, 'n_estimators': 50}</td>\n",
       "      <td>-3227.585669</td>\n",
       "      <td>-3246.960475</td>\n",
       "      <td>-3256.632948</td>\n",
       "      <td>-3243.726364</td>\n",
       "      <td>12.076995</td>\n",
       "      <td>41</td>\n",
       "    </tr>\n",
       "  </tbody>\n",
       "</table>\n",
       "</div>"
      ],
      "text/plain": [
       "   mean_fit_time  std_fit_time  mean_score_time  std_score_time  \\\n",
       "0       0.288996      0.015515         0.012695        0.000107   \n",
       "1       0.543552      0.011642         0.022135        0.000399   \n",
       "2       0.820081      0.019114         0.032240        0.002635   \n",
       "3       1.079458      0.023180         0.039581        0.000384   \n",
       "4       1.359404      0.021614         0.049758        0.001449   \n",
       "\n",
       "  param_max_depth param_n_estimators                                params  \\\n",
       "0               2                 10  {'max_depth': 2, 'n_estimators': 10}   \n",
       "1               2                 20  {'max_depth': 2, 'n_estimators': 20}   \n",
       "2               2                 30  {'max_depth': 2, 'n_estimators': 30}   \n",
       "3               2                 40  {'max_depth': 2, 'n_estimators': 40}   \n",
       "4               2                 50  {'max_depth': 2, 'n_estimators': 50}   \n",
       "\n",
       "   split0_test_score  split1_test_score  split2_test_score  mean_test_score  \\\n",
       "0       -3227.550433       -3246.951099       -3256.392915     -3243.631482   \n",
       "1       -3227.543865       -3246.940933       -3256.614544     -3243.699781   \n",
       "2       -3227.609920       -3247.047283       -3256.611477     -3243.756226   \n",
       "3       -3227.557780       -3247.020350       -3256.642880     -3243.740337   \n",
       "4       -3227.585669       -3246.960475       -3256.632948     -3243.726364   \n",
       "\n",
       "   std_test_score  rank_test_score  \n",
       "0       12.006584               37  \n",
       "1       12.087319               38  \n",
       "2       12.066369               44  \n",
       "3       12.098337               43  \n",
       "4       12.076995               41  "
      ]
     },
     "execution_count": 44,
     "metadata": {},
     "output_type": "execute_result"
    }
   ],
   "source": [
    "result_RF = pd.DataFrame(search.cv_results_)\n",
    "result_RF.head()"
   ]
  },
  {
   "cell_type": "code",
   "execution_count": 119,
   "metadata": {},
   "outputs": [],
   "source": [
    "best_time_fit.append(result_RF[result_RF['rank_test_score']==1]['mean_fit_time'].values[0])\n",
    "best_time_pred.append(result_RF[result_RF['rank_test_score']==1]['mean_score_time'].values[0])\n",
    "best_score_tabl.append(-result_RF[result_RF['rank_test_score']==1]['mean_test_score'].values[0])"
   ]
  },
  {
   "cell_type": "code",
   "execution_count": 103,
   "metadata": {},
   "outputs": [
    {
     "name": "stdout",
     "output_type": "stream",
     "text": [
      "CPU times: user 54 µs, sys: 0 ns, total: 54 µs\n",
      "Wall time: 57 µs\n"
     ]
    }
   ],
   "source": [
    "%%time\n",
    "model_RF = RandomForestRegressor(max_depth=10,n_estimators=90,random_state=STATE)"
   ]
  },
  {
   "cell_type": "markdown",
   "metadata": {},
   "source": [
    "### LightGBM"
   ]
  },
  {
   "cell_type": "markdown",
   "metadata": {},
   "source": [
    "#### Выделение категориальных признаков"
   ]
  },
  {
   "cell_type": "code",
   "execution_count": 47,
   "metadata": {},
   "outputs": [],
   "source": [
    "data_light = data.copy()\n",
    "data_light = data_light.astype({\"VehicleType\":'category',\n",
    "                                \"Gearbox\":'category',\n",
    "                                \"Model\":'category',\n",
    "                                \"FuelType\":'category',\n",
    "                                \"Brand\":'category',\n",
    "                                \"Repaired\":'category'\n",
    "                               })"
   ]
  },
  {
   "cell_type": "markdown",
   "metadata": {},
   "source": [
    "#### Разделение на выборки"
   ]
  },
  {
   "cell_type": "code",
   "execution_count": 48,
   "metadata": {},
   "outputs": [],
   "source": [
    "features_light = data_light.drop(\"Price\",axis = 1)\n",
    "target_light = data_light[\"Price\"]\n",
    "\n",
    "features_train_lgb, features_valid_lgb, target_train_lgb, target_valid_lgb = train_test_split(features_light,\n",
    "                                                                              target_light,\n",
    "                                                                              test_size = 0.25,\n",
    "                                                                              random_state = STATE)"
   ]
  },
  {
   "cell_type": "markdown",
   "metadata": {},
   "source": [
    "#### Обучение модели"
   ]
  },
  {
   "cell_type": "code",
   "execution_count": 49,
   "metadata": {
    "scrolled": true
   },
   "outputs": [
    {
     "name": "stdout",
     "output_type": "stream",
     "text": [
      "Лучшее значение RMSE для LGBMRegressor: 1590.5821574080785\n",
      " при значениях гиперпараметров: {'learning_rate': 0.30000000000000004, 'max_depth': 10, 'num_leaves': 45}\n",
      "CPU times: user 10min 33s, sys: 2.19 s, total: 10min 35s\n",
      "Wall time: 10min 42s\n"
     ]
    }
   ],
   "source": [
    "%%time\n",
    "param_grid = {'max_depth': range(2, 11, 2),\n",
    "             'num_leaves': range(5,51,10),\n",
    "             'learning_rate':np.arange(0.1,0.5,0.2)}  \n",
    "lgb_model = lgb.LGBMRegressor(random_state=STATE)\n",
    "\n",
    "search = GridSearchCV(lgb_model, param_grid, cv=3, scoring='neg_root_mean_squared_error')\n",
    "search.fit(features_train_lgb, target_train_lgb)\n",
    "print('Лучшее значение RMSE для LGBMRegressor: {}'\n",
    "      '\\n при значениях гиперпараметров: {}'.format(-search.best_score_,search.best_params_))\n"
   ]
  },
  {
   "cell_type": "code",
   "execution_count": 112,
   "metadata": {},
   "outputs": [
    {
     "data": {
      "text/html": [
       "<div>\n",
       "<style scoped>\n",
       "    .dataframe tbody tr th:only-of-type {\n",
       "        vertical-align: middle;\n",
       "    }\n",
       "\n",
       "    .dataframe tbody tr th {\n",
       "        vertical-align: top;\n",
       "    }\n",
       "\n",
       "    .dataframe thead th {\n",
       "        text-align: right;\n",
       "    }\n",
       "</style>\n",
       "<table border=\"1\" class=\"dataframe\">\n",
       "  <thead>\n",
       "    <tr style=\"text-align: right;\">\n",
       "      <th></th>\n",
       "      <th>mean_fit_time</th>\n",
       "      <th>std_fit_time</th>\n",
       "      <th>mean_score_time</th>\n",
       "      <th>std_score_time</th>\n",
       "      <th>param_depth</th>\n",
       "      <th>param_learning_rate</th>\n",
       "      <th>params</th>\n",
       "      <th>split0_test_score</th>\n",
       "      <th>split1_test_score</th>\n",
       "      <th>split2_test_score</th>\n",
       "      <th>mean_test_score</th>\n",
       "      <th>std_test_score</th>\n",
       "      <th>rank_test_score</th>\n",
       "    </tr>\n",
       "  </thead>\n",
       "  <tbody>\n",
       "    <tr>\n",
       "      <th>2</th>\n",
       "      <td>293.961682</td>\n",
       "      <td>5.887823</td>\n",
       "      <td>1.152098</td>\n",
       "      <td>0.057306</td>\n",
       "      <td>10</td>\n",
       "      <td>0.1</td>\n",
       "      <td>{'depth': 10, 'learning_rate': 0.1}</td>\n",
       "      <td>-1552.457355</td>\n",
       "      <td>-1546.920345</td>\n",
       "      <td>-1561.830253</td>\n",
       "      <td>-1553.735984</td>\n",
       "      <td>6.153726</td>\n",
       "      <td>1</td>\n",
       "    </tr>\n",
       "  </tbody>\n",
       "</table>\n",
       "</div>"
      ],
      "text/plain": [
       "   mean_fit_time  std_fit_time  mean_score_time  std_score_time param_depth  \\\n",
       "2     293.961682      5.887823         1.152098        0.057306          10   \n",
       "\n",
       "  param_learning_rate                               params  split0_test_score  \\\n",
       "2                 0.1  {'depth': 10, 'learning_rate': 0.1}       -1552.457355   \n",
       "\n",
       "   split1_test_score  split2_test_score  mean_test_score  std_test_score  \\\n",
       "2       -1546.920345       -1561.830253     -1553.735984        6.153726   \n",
       "\n",
       "   rank_test_score  \n",
       "2                1  "
      ]
     },
     "execution_count": 112,
     "metadata": {},
     "output_type": "execute_result"
    }
   ],
   "source": [
    "result_LGB = pd.DataFrame(search.cv_results_)\n",
    "result_LGB[result_LGB['rank_test_score']==1]"
   ]
  },
  {
   "cell_type": "code",
   "execution_count": 120,
   "metadata": {},
   "outputs": [],
   "source": [
    "best_time_fit.append(result_LGB[result_LGB['rank_test_score']==1]['mean_fit_time'].values[0])\n",
    "best_time_pred.append(result_LGB[result_LGB['rank_test_score']==1]['mean_score_time'].values[0])\n",
    "best_score_tabl.append(-result_LGB[result_LGB['rank_test_score']==1]['mean_test_score'].values[0])"
   ]
  },
  {
   "cell_type": "code",
   "execution_count": 55,
   "metadata": {
    "scrolled": true
   },
   "outputs": [
    {
     "name": "stdout",
     "output_type": "stream",
     "text": [
      "CPU times: user 35 µs, sys: 0 ns, total: 35 µs\n",
      "Wall time: 40.3 µs\n"
     ]
    }
   ],
   "source": [
    "%%time\n",
    "# LightGBM\n",
    "lgb_model = lgb.LGBMRegressor(\n",
    "    max_depth = 8,\n",
    "    num_leaves = 45,\n",
    "    learning_rate = 0.3,\n",
    "    random_state=STATE)"
   ]
  },
  {
   "cell_type": "markdown",
   "metadata": {},
   "source": [
    "### CatBoost"
   ]
  },
  {
   "cell_type": "markdown",
   "metadata": {},
   "source": [
    "#### Разделение на выборки"
   ]
  },
  {
   "cell_type": "code",
   "execution_count": 58,
   "metadata": {},
   "outputs": [
    {
     "data": {
      "text/plain": [
       "(268723, 10)"
      ]
     },
     "execution_count": 58,
     "metadata": {},
     "output_type": "execute_result"
    }
   ],
   "source": [
    "data.shape"
   ]
  },
  {
   "cell_type": "code",
   "execution_count": 59,
   "metadata": {},
   "outputs": [],
   "source": [
    "features_train_cat, features_valid_cat, target_train_cat, target_valid_cat = train_test_split(data.drop('Price' , axis=1),\n",
    "                                                                              data['Price'], \n",
    "                                                                              test_size=0.25, \n",
    "                                                                              random_state=STATE)"
   ]
  },
  {
   "cell_type": "code",
   "execution_count": 60,
   "metadata": {},
   "outputs": [
    {
     "name": "stdout",
     "output_type": "stream",
     "text": [
      "(201542, 9) (67181, 9)\n"
     ]
    }
   ],
   "source": [
    "print(features_train_cat.shape, features_valid_cat.shape)"
   ]
  },
  {
   "cell_type": "code",
   "execution_count": 61,
   "metadata": {},
   "outputs": [
    {
     "name": "stdout",
     "output_type": "stream",
     "text": [
      "(201542,) (67181,)\n"
     ]
    }
   ],
   "source": [
    "print(target_train_cat.shape, target_valid_cat.shape)"
   ]
  },
  {
   "cell_type": "markdown",
   "metadata": {},
   "source": [
    "#### Поиск лучших гиперпараметров"
   ]
  },
  {
   "cell_type": "code",
   "execution_count": 115,
   "metadata": {
    "scrolled": true
   },
   "outputs": [
    {
     "name": "stderr",
     "output_type": "stream",
     "text": [
      "Custom logger is already specified. Specify more than one logger at same time is not thread safe."
     ]
    },
    {
     "name": "stdout",
     "output_type": "stream",
     "text": [
      "0:\tlearn: 4468.2966384\ttotal: 27.5ms\tremaining: 27.5s\n",
      "100:\tlearn: 2428.4524713\ttotal: 1.85s\tremaining: 16.5s\n",
      "200:\tlearn: 2253.4864472\ttotal: 3.68s\tremaining: 14.6s\n",
      "300:\tlearn: 2205.3746251\ttotal: 5.45s\tremaining: 12.7s\n",
      "400:\tlearn: 2186.7484570\ttotal: 7.2s\tremaining: 10.8s\n",
      "500:\tlearn: 2175.8179288\ttotal: 9.01s\tremaining: 8.97s\n",
      "600:\tlearn: 2168.1209380\ttotal: 10.7s\tremaining: 7.12s\n",
      "700:\tlearn: 2162.4779165\ttotal: 12.5s\tremaining: 5.34s\n",
      "800:\tlearn: 2158.1067547\ttotal: 14.3s\tremaining: 3.54s\n",
      "900:\tlearn: 2154.4755559\ttotal: 16s\tremaining: 1.76s\n",
      "999:\tlearn: 2151.4100193\ttotal: 17.7s\tremaining: 0us\n",
      "0:\tlearn: 4457.5737979\ttotal: 26ms\tremaining: 26s\n",
      "100:\tlearn: 2424.0291891\ttotal: 1.77s\tremaining: 15.8s\n",
      "200:\tlearn: 2249.4247179\ttotal: 3.54s\tremaining: 14.1s\n",
      "300:\tlearn: 2200.9910686\ttotal: 5.31s\tremaining: 12.3s\n",
      "400:\tlearn: 2182.3730180\ttotal: 7.08s\tremaining: 10.6s\n",
      "500:\tlearn: 2172.3624733\ttotal: 8.83s\tremaining: 8.79s\n",
      "600:\tlearn: 2165.7760304\ttotal: 10.6s\tremaining: 7.03s\n",
      "700:\tlearn: 2160.9436179\ttotal: 12.3s\tremaining: 5.26s\n",
      "800:\tlearn: 2157.1168900\ttotal: 14.1s\tremaining: 3.49s\n",
      "900:\tlearn: 2153.9185628\ttotal: 15.8s\tremaining: 1.74s\n",
      "999:\tlearn: 2151.1521210\ttotal: 17.5s\tremaining: 0us\n",
      "0:\tlearn: 4452.6622040\ttotal: 29.1ms\tremaining: 29.1s\n",
      "100:\tlearn: 2410.2172461\ttotal: 1.83s\tremaining: 16.3s\n",
      "200:\tlearn: 2238.2645852\ttotal: 3.66s\tremaining: 14.5s\n",
      "300:\tlearn: 2191.0774111\ttotal: 5.47s\tremaining: 12.7s\n",
      "400:\tlearn: 2173.2567426\ttotal: 7.26s\tremaining: 10.8s\n",
      "500:\tlearn: 2163.5901090\ttotal: 8.97s\tremaining: 8.93s\n",
      "600:\tlearn: 2156.8185787\ttotal: 10.7s\tremaining: 7.13s\n",
      "700:\tlearn: 2151.7668866\ttotal: 12.5s\tremaining: 5.33s\n",
      "800:\tlearn: 2147.7763107\ttotal: 14.2s\tremaining: 3.53s\n",
      "900:\tlearn: 2144.4157958\ttotal: 16s\tremaining: 1.75s\n",
      "999:\tlearn: 2141.6162287\ttotal: 17.7s\tremaining: 0us\n",
      "0:\tlearn: 4182.8126794\ttotal: 24.1ms\tremaining: 24.1s\n",
      "100:\tlearn: 2217.0019422\ttotal: 1.79s\tremaining: 15.9s\n",
      "200:\tlearn: 2180.5805856\ttotal: 3.54s\tremaining: 14.1s\n",
      "300:\tlearn: 2165.4047857\ttotal: 5.25s\tremaining: 12.2s\n",
      "400:\tlearn: 2155.4993098\ttotal: 7.02s\tremaining: 10.5s\n",
      "500:\tlearn: 2148.6811519\ttotal: 8.75s\tremaining: 8.71s\n",
      "600:\tlearn: 2143.3268280\ttotal: 10.5s\tremaining: 6.96s\n",
      "700:\tlearn: 2139.0250255\ttotal: 12.2s\tremaining: 5.22s\n",
      "800:\tlearn: 2135.3548621\ttotal: 13.9s\tremaining: 3.46s\n",
      "900:\tlearn: 2132.3104156\ttotal: 15.6s\tremaining: 1.72s\n",
      "999:\tlearn: 2129.8298722\ttotal: 17.4s\tremaining: 0us\n",
      "0:\tlearn: 4173.7216011\ttotal: 25.6ms\tremaining: 25.6s\n",
      "100:\tlearn: 2218.2949445\ttotal: 1.77s\tremaining: 15.8s\n",
      "200:\tlearn: 2179.2523133\ttotal: 3.5s\tremaining: 13.9s\n",
      "300:\tlearn: 2164.7489044\ttotal: 5.23s\tremaining: 12.2s\n",
      "400:\tlearn: 2155.3561483\ttotal: 6.95s\tremaining: 10.4s\n",
      "500:\tlearn: 2148.6618373\ttotal: 8.78s\tremaining: 8.74s\n",
      "600:\tlearn: 2143.5848541\ttotal: 10.5s\tremaining: 6.97s\n",
      "700:\tlearn: 2139.4728054\ttotal: 12.2s\tremaining: 5.21s\n",
      "800:\tlearn: 2136.0580195\ttotal: 14s\tremaining: 3.48s\n",
      "900:\tlearn: 2133.1179135\ttotal: 15.9s\tremaining: 1.74s\n",
      "999:\tlearn: 2130.8427886\ttotal: 17.6s\tremaining: 0us\n",
      "0:\tlearn: 4164.7988029\ttotal: 25.4ms\tremaining: 25.3s\n",
      "100:\tlearn: 2212.1259700\ttotal: 1.78s\tremaining: 15.9s\n",
      "200:\tlearn: 2173.7035360\ttotal: 3.51s\tremaining: 14s\n",
      "300:\tlearn: 2157.7887134\ttotal: 5.26s\tremaining: 12.2s\n",
      "400:\tlearn: 2147.6970772\ttotal: 7.06s\tremaining: 10.5s\n",
      "500:\tlearn: 2140.4443314\ttotal: 8.86s\tremaining: 8.82s\n",
      "600:\tlearn: 2134.9595805\ttotal: 10.6s\tremaining: 7.03s\n",
      "700:\tlearn: 2130.5400903\ttotal: 12.3s\tremaining: 5.25s\n",
      "800:\tlearn: 2127.1351132\ttotal: 14.1s\tremaining: 3.5s\n",
      "900:\tlearn: 2124.0912458\ttotal: 15.8s\tremaining: 1.74s\n",
      "999:\tlearn: 2121.6600538\ttotal: 17.5s\tremaining: 0us\n",
      "0:\tlearn: 4301.9294657\ttotal: 313ms\tremaining: 5m 12s\n",
      "100:\tlearn: 1619.7970344\ttotal: 25.4s\tremaining: 3m 45s\n",
      "200:\tlearn: 1524.9504712\ttotal: 52.1s\tremaining: 3m 27s\n",
      "300:\tlearn: 1475.4767496\ttotal: 1m 18s\tremaining: 3m 3s\n",
      "400:\tlearn: 1436.2297640\ttotal: 1m 45s\tremaining: 2m 38s\n",
      "500:\tlearn: 1406.8680252\ttotal: 2m 13s\tremaining: 2m 13s\n",
      "600:\tlearn: 1383.5398830\ttotal: 2m 42s\tremaining: 1m 47s\n",
      "700:\tlearn: 1362.5766257\ttotal: 3m 11s\tremaining: 1m 21s\n",
      "800:\tlearn: 1340.8612934\ttotal: 3m 40s\tremaining: 54.7s\n",
      "900:\tlearn: 1321.2278597\ttotal: 4m 8s\tremaining: 27.3s\n",
      "999:\tlearn: 1304.7637172\ttotal: 4m 37s\tremaining: 0us\n",
      "0:\tlearn: 4295.5123359\ttotal: 310ms\tremaining: 5m 9s\n",
      "100:\tlearn: 1616.2492320\ttotal: 26.3s\tremaining: 3m 53s\n",
      "200:\tlearn: 1526.2281828\ttotal: 53.5s\tremaining: 3m 32s\n",
      "300:\tlearn: 1478.4290706\ttotal: 1m 21s\tremaining: 3m 10s\n",
      "400:\tlearn: 1443.2350640\ttotal: 1m 50s\tremaining: 2m 45s\n",
      "500:\tlearn: 1408.4520443\ttotal: 2m 19s\tremaining: 2m 18s\n",
      "600:\tlearn: 1380.1417851\ttotal: 2m 48s\tremaining: 1m 51s\n",
      "700:\tlearn: 1357.7030467\ttotal: 3m 17s\tremaining: 1m 24s\n",
      "800:\tlearn: 1336.4208550\ttotal: 3m 45s\tremaining: 56s\n",
      "900:\tlearn: 1319.3966824\ttotal: 4m 13s\tremaining: 27.9s\n",
      "999:\tlearn: 1303.2664410\ttotal: 4m 42s\tremaining: 0us\n",
      "0:\tlearn: 4282.1798897\ttotal: 287ms\tremaining: 4m 46s\n",
      "100:\tlearn: 1608.7219406\ttotal: 25s\tremaining: 3m 42s\n",
      "200:\tlearn: 1518.9601457\ttotal: 49.5s\tremaining: 3m 16s\n",
      "300:\tlearn: 1471.7325440\ttotal: 1m 14s\tremaining: 2m 51s\n",
      "400:\tlearn: 1436.2070515\ttotal: 1m 39s\tremaining: 2m 28s\n",
      "500:\tlearn: 1403.8245797\ttotal: 2m 4s\tremaining: 2m 4s\n",
      "600:\tlearn: 1376.5184335\ttotal: 2m 31s\tremaining: 1m 40s\n",
      "700:\tlearn: 1355.5481739\ttotal: 2m 58s\tremaining: 1m 16s\n",
      "800:\tlearn: 1338.0321169\ttotal: 3m 25s\tremaining: 51s\n",
      "900:\tlearn: 1319.9855388\ttotal: 3m 52s\tremaining: 25.5s\n",
      "999:\tlearn: 1302.8673116\ttotal: 4m 19s\tremaining: 0us\n",
      "0:\tlearn: 3684.3768688\ttotal: 302ms\tremaining: 5m 1s\n",
      "100:\tlearn: 1475.1832440\ttotal: 25.5s\tremaining: 3m 47s\n",
      "200:\tlearn: 1378.1853678\ttotal: 52s\tremaining: 3m 26s\n",
      "300:\tlearn: 1318.9925262\ttotal: 1m 19s\tremaining: 3m 3s\n",
      "400:\tlearn: 1275.8472653\ttotal: 1m 46s\tremaining: 2m 38s\n",
      "500:\tlearn: 1240.3816629\ttotal: 2m 12s\tremaining: 2m 12s\n",
      "600:\tlearn: 1211.6268240\ttotal: 2m 39s\tremaining: 1m 45s\n",
      "700:\tlearn: 1189.0419697\ttotal: 3m 7s\tremaining: 1m 19s\n",
      "800:\tlearn: 1168.9063674\ttotal: 3m 33s\tremaining: 53.1s\n",
      "900:\tlearn: 1148.0642885\ttotal: 4m 1s\tremaining: 26.5s\n",
      "999:\tlearn: 1132.4096815\ttotal: 4m 28s\tremaining: 0us\n",
      "0:\tlearn: 3688.7963014\ttotal: 296ms\tremaining: 4m 55s\n",
      "100:\tlearn: 1491.2852698\ttotal: 25.3s\tremaining: 3m 44s\n",
      "200:\tlearn: 1389.0068976\ttotal: 51.3s\tremaining: 3m 23s\n",
      "300:\tlearn: 1329.8549688\ttotal: 1m 18s\tremaining: 3m 2s\n",
      "400:\tlearn: 1287.5992237\ttotal: 1m 45s\tremaining: 2m 37s\n",
      "500:\tlearn: 1251.3319021\ttotal: 2m 12s\tremaining: 2m 12s\n",
      "600:\tlearn: 1219.5612735\ttotal: 2m 39s\tremaining: 1m 45s\n",
      "700:\tlearn: 1196.6368175\ttotal: 3m 6s\tremaining: 1m 19s\n",
      "800:\tlearn: 1174.6283803\ttotal: 3m 34s\tremaining: 53.3s\n",
      "900:\tlearn: 1154.8398337\ttotal: 4m 1s\tremaining: 26.6s\n",
      "999:\tlearn: 1135.7084315\ttotal: 4m 28s\tremaining: 0us\n",
      "0:\tlearn: 3652.5770333\ttotal: 295ms\tremaining: 4m 54s\n",
      "100:\tlearn: 1487.8694571\ttotal: 24.6s\tremaining: 3m 39s\n",
      "200:\tlearn: 1385.7124982\ttotal: 50s\tremaining: 3m 18s\n",
      "300:\tlearn: 1329.6227203\ttotal: 1m 15s\tremaining: 2m 55s\n",
      "400:\tlearn: 1285.1605257\ttotal: 1m 42s\tremaining: 2m 32s\n",
      "500:\tlearn: 1247.4167175\ttotal: 2m 9s\tremaining: 2m 8s\n",
      "600:\tlearn: 1219.5324863\ttotal: 2m 36s\tremaining: 1m 44s\n",
      "700:\tlearn: 1195.7023666\ttotal: 3m 4s\tremaining: 1m 18s\n",
      "800:\tlearn: 1172.6533932\ttotal: 3m 32s\tremaining: 52.7s\n",
      "900:\tlearn: 1152.3798076\ttotal: 3m 59s\tremaining: 26.3s\n",
      "999:\tlearn: 1135.5329415\ttotal: 4m 26s\tremaining: 0us\n",
      "0:\tlearn: 4283.6346561\ttotal: 512ms\tremaining: 8m 31s\n",
      "100:\tlearn: 1618.6544074\ttotal: 36.9s\tremaining: 5m 28s\n",
      "200:\tlearn: 1534.4220713\ttotal: 1m 13s\tremaining: 4m 53s\n",
      "300:\tlearn: 1487.0630844\ttotal: 1m 52s\tremaining: 4m 21s\n",
      "400:\tlearn: 1453.7556413\ttotal: 2m 32s\tremaining: 3m 47s\n",
      "500:\tlearn: 1425.7057518\ttotal: 3m 11s\tremaining: 3m 10s\n",
      "600:\tlearn: 1403.3430426\ttotal: 3m 51s\tremaining: 2m 33s\n",
      "700:\tlearn: 1385.5414249\ttotal: 4m 31s\tremaining: 1m 55s\n",
      "800:\tlearn: 1371.3117061\ttotal: 5m 11s\tremaining: 1m 17s\n",
      "900:\tlearn: 1356.7319409\ttotal: 5m 52s\tremaining: 38.7s\n",
      "999:\tlearn: 1342.3333681\ttotal: 6m 36s\tremaining: 0us\n",
      "CPU times: user 35min 38s, sys: 9.32 s, total: 35min 47s\n",
      "Wall time: 36min 3s\n"
     ]
    },
    {
     "data": {
      "text/plain": [
       "GridSearchCV(cv=3,\n",
       "             estimator=<catboost.core.CatBoostRegressor object at 0x7fad8d55d760>,\n",
       "             param_grid={'depth': [1, 10], 'learning_rate': array([0.1, 0.3])},\n",
       "             scoring='neg_root_mean_squared_error')"
      ]
     },
     "execution_count": 115,
     "metadata": {},
     "output_type": "execute_result"
    }
   ],
   "source": [
    "%%time\n",
    "\n",
    "catboost = CatBoostRegressor(loss_function='RMSE',verbose=100)\n",
    "parameters_cat = {'depth':[1,10], 'learning_rate':np.arange(0.1,0.5,0.2)}\n",
    "search = GridSearchCV(catboost, \n",
    "                      parameters_cat,\n",
    "                      cv=3, \n",
    "                      scoring='neg_root_mean_squared_error')\n",
    "\n",
    "search.fit(features_train_cat, target_train_cat, cat_features=[\"VehicleType\",\"Gearbox\",\n",
    "                                   \"Model\",\"FuelType\",\n",
    "                                   \"Brand\",\"Repaired\"])"
   ]
  },
  {
   "cell_type": "code",
   "execution_count": 116,
   "metadata": {},
   "outputs": [
    {
     "name": "stdout",
     "output_type": "stream",
     "text": [
      "Лучшее значение RMSE для CatBoostRegressor: 1553.7359844044622\n",
      " при значениях гиперпараметров: {'depth': 10, 'learning_rate': 0.1}\n"
     ]
    }
   ],
   "source": [
    "print('Лучшее значение RMSE для CatBoostRegressor: {}'\n",
    "      '\\n при значениях гиперпараметров: {}'.format(-search.best_score_,search.best_params_))"
   ]
  },
  {
   "cell_type": "code",
   "execution_count": 117,
   "metadata": {},
   "outputs": [
    {
     "data": {
      "text/html": [
       "<div>\n",
       "<style scoped>\n",
       "    .dataframe tbody tr th:only-of-type {\n",
       "        vertical-align: middle;\n",
       "    }\n",
       "\n",
       "    .dataframe tbody tr th {\n",
       "        vertical-align: top;\n",
       "    }\n",
       "\n",
       "    .dataframe thead th {\n",
       "        text-align: right;\n",
       "    }\n",
       "</style>\n",
       "<table border=\"1\" class=\"dataframe\">\n",
       "  <thead>\n",
       "    <tr style=\"text-align: right;\">\n",
       "      <th></th>\n",
       "      <th>mean_fit_time</th>\n",
       "      <th>std_fit_time</th>\n",
       "      <th>mean_score_time</th>\n",
       "      <th>std_score_time</th>\n",
       "      <th>param_depth</th>\n",
       "      <th>param_learning_rate</th>\n",
       "      <th>params</th>\n",
       "      <th>split0_test_score</th>\n",
       "      <th>split1_test_score</th>\n",
       "      <th>split2_test_score</th>\n",
       "      <th>mean_test_score</th>\n",
       "      <th>std_test_score</th>\n",
       "      <th>rank_test_score</th>\n",
       "    </tr>\n",
       "  </thead>\n",
       "  <tbody>\n",
       "    <tr>\n",
       "      <th>2</th>\n",
       "      <td>276.145337</td>\n",
       "      <td>10.105522</td>\n",
       "      <td>1.126626</td>\n",
       "      <td>0.052023</td>\n",
       "      <td>10</td>\n",
       "      <td>0.1</td>\n",
       "      <td>{'depth': 10, 'learning_rate': 0.1}</td>\n",
       "      <td>-1552.457355</td>\n",
       "      <td>-1546.920345</td>\n",
       "      <td>-1561.830253</td>\n",
       "      <td>-1553.735984</td>\n",
       "      <td>6.153726</td>\n",
       "      <td>1</td>\n",
       "    </tr>\n",
       "  </tbody>\n",
       "</table>\n",
       "</div>"
      ],
      "text/plain": [
       "   mean_fit_time  std_fit_time  mean_score_time  std_score_time param_depth  \\\n",
       "2     276.145337     10.105522         1.126626        0.052023          10   \n",
       "\n",
       "  param_learning_rate                               params  split0_test_score  \\\n",
       "2                 0.1  {'depth': 10, 'learning_rate': 0.1}       -1552.457355   \n",
       "\n",
       "   split1_test_score  split2_test_score  mean_test_score  std_test_score  \\\n",
       "2       -1546.920345       -1561.830253     -1553.735984        6.153726   \n",
       "\n",
       "   rank_test_score  \n",
       "2                1  "
      ]
     },
     "execution_count": 117,
     "metadata": {},
     "output_type": "execute_result"
    }
   ],
   "source": [
    "result_cat = pd.DataFrame(search.cv_results_)\n",
    "result_cat[result_cat['rank_test_score']==1]"
   ]
  },
  {
   "cell_type": "code",
   "execution_count": 121,
   "metadata": {},
   "outputs": [],
   "source": [
    "best_time_fit.append(result_cat[result_cat['rank_test_score']==1]['mean_fit_time'].values[0])\n",
    "best_time_pred.append(result_cat[result_cat['rank_test_score']==1]['mean_score_time'].values[0])\n",
    "best_score_tabl.append(-result_cat[result_cat['rank_test_score']==1]['mean_test_score'].values[0])"
   ]
  },
  {
   "cell_type": "markdown",
   "metadata": {},
   "source": [
    "#### Обучение модели"
   ]
  },
  {
   "cell_type": "code",
   "execution_count": 125,
   "metadata": {},
   "outputs": [
    {
     "name": "stdout",
     "output_type": "stream",
     "text": [
      "0:\tlearn: 4283.6346561\ttotal: 468ms\tremaining: 7m 47s\n",
      "100:\tlearn: 1618.6544074\ttotal: 37.4s\tremaining: 5m 33s\n",
      "200:\tlearn: 1534.4220713\ttotal: 1m 14s\tremaining: 4m 57s\n",
      "300:\tlearn: 1487.0630844\ttotal: 1m 54s\tremaining: 4m 24s\n",
      "400:\tlearn: 1453.7556413\ttotal: 2m 33s\tremaining: 3m 49s\n",
      "500:\tlearn: 1425.7057518\ttotal: 3m 12s\tremaining: 3m 11s\n",
      "600:\tlearn: 1403.3430426\ttotal: 3m 52s\tremaining: 2m 34s\n",
      "700:\tlearn: 1385.5414249\ttotal: 4m 32s\tremaining: 1m 56s\n",
      "800:\tlearn: 1371.3117061\ttotal: 5m 13s\tremaining: 1m 17s\n",
      "900:\tlearn: 1356.7319409\ttotal: 5m 54s\tremaining: 39s\n",
      "999:\tlearn: 1342.3333681\ttotal: 6m 35s\tremaining: 0us\n",
      "CPU times: user 6min 36s, sys: 1.4 s, total: 6min 37s\n",
      "Wall time: 6min 39s\n"
     ]
    },
    {
     "data": {
      "text/plain": [
       "<catboost.core.CatBoostRegressor at 0x7fad8d02aa90>"
      ]
     },
     "execution_count": 125,
     "metadata": {},
     "output_type": "execute_result"
    }
   ],
   "source": [
    "%%time\n",
    "model_cat = CatBoostRegressor(depth=10, \n",
    "                              learning_rate=0.1,\n",
    "                              loss_function='RMSE',verbose=100)\n",
    "model_cat.fit(Pool(features_train_cat,target_train_cat,\n",
    "                   cat_features=[\"VehicleType\",\"Gearbox\",\"Model\",\"FuelType\",\"Brand\",\"Repaired\"]))"
   ]
  },
  {
   "cell_type": "markdown",
   "metadata": {},
   "source": [
    "## Анализ моделей"
   ]
  },
  {
   "cell_type": "code",
   "execution_count": 122,
   "metadata": {},
   "outputs": [],
   "source": [
    "best = pd.DataFrame(data = best_score_tabl, index = ['RF','LGB','CatBoost'], columns = ['Показатель RMSE'])"
   ]
  },
  {
   "cell_type": "code",
   "execution_count": 123,
   "metadata": {},
   "outputs": [],
   "source": [
    "best['Время обучения'] = best_time_fit\n",
    "best['Время предсказания'] = best_time_pred"
   ]
  },
  {
   "cell_type": "code",
   "execution_count": 124,
   "metadata": {},
   "outputs": [
    {
     "data": {
      "text/html": [
       "<div>\n",
       "<style scoped>\n",
       "    .dataframe tbody tr th:only-of-type {\n",
       "        vertical-align: middle;\n",
       "    }\n",
       "\n",
       "    .dataframe tbody tr th {\n",
       "        vertical-align: top;\n",
       "    }\n",
       "\n",
       "    .dataframe thead th {\n",
       "        text-align: right;\n",
       "    }\n",
       "</style>\n",
       "<table border=\"1\" class=\"dataframe\">\n",
       "  <thead>\n",
       "    <tr style=\"text-align: right;\">\n",
       "      <th></th>\n",
       "      <th>Показатель RMSE</th>\n",
       "      <th>Время обучения</th>\n",
       "      <th>Время предсказания</th>\n",
       "    </tr>\n",
       "  </thead>\n",
       "  <tbody>\n",
       "    <tr>\n",
       "      <th>RF</th>\n",
       "      <td>1889.096531</td>\n",
       "      <td>9.200094</td>\n",
       "      <td>0.365987</td>\n",
       "    </tr>\n",
       "    <tr>\n",
       "      <th>LGB</th>\n",
       "      <td>1553.735984</td>\n",
       "      <td>293.961682</td>\n",
       "      <td>1.152098</td>\n",
       "    </tr>\n",
       "    <tr>\n",
       "      <th>CatBoost</th>\n",
       "      <td>1553.735984</td>\n",
       "      <td>276.145337</td>\n",
       "      <td>1.126626</td>\n",
       "    </tr>\n",
       "  </tbody>\n",
       "</table>\n",
       "</div>"
      ],
      "text/plain": [
       "          Показатель RMSE  Время обучения  Время предсказания\n",
       "RF            1889.096531        9.200094            0.365987\n",
       "LGB           1553.735984      293.961682            1.152098\n",
       "CatBoost      1553.735984      276.145337            1.126626"
      ]
     },
     "execution_count": 124,
     "metadata": {},
     "output_type": "execute_result"
    }
   ],
   "source": [
    "best"
   ]
  },
  {
   "cell_type": "markdown",
   "metadata": {},
   "source": [
    "В итоге исследования мы видим что показатель RMSE у LightGBM и CatBoost одинаковые - 1553,73. модель RandomForest отпадает, так как её показатель выше остальных - 1889,09.\n",
    "<br>Исходя из требований заказчика:\n",
    "- качество предсказания;\n",
    "- время обучения модели; \n",
    "- время предсказания модели.\n",
    "Остается выбор только по двум критериям и тут CatBoots показывает лучшее время обучения `276 ` против времени обучения у LightGBM `293`. \n",
    "<br>А так же время предсказания у CatBoots всего лишь `1,126`, тогда как у LightGBM время предсказание  `1,15`.\n",
    "<br> Стало быть нам подходит модель CatBoost с гиперпараметрами: 'depth': 10, 'learning_rate': 0.1"
   ]
  },
  {
   "cell_type": "code",
   "execution_count": 129,
   "metadata": {},
   "outputs": [],
   "source": [
    "pred=model_cat.predict(features_valid_cat)\n",
    "rmse_cat=mean_squared_error(target_valid_cat, pred)**0.5"
   ]
  },
  {
   "cell_type": "code",
   "execution_count": 130,
   "metadata": {},
   "outputs": [
    {
     "data": {
      "text/plain": [
       "1523.9708850764116"
      ]
     },
     "execution_count": 130,
     "metadata": {},
     "output_type": "execute_result"
    }
   ],
   "source": [
    "rmse_cat"
   ]
  },
  {
   "cell_type": "markdown",
   "metadata": {},
   "source": [
    "### Вывод"
   ]
  },
  {
   "cell_type": "markdown",
   "metadata": {},
   "source": [
    "**Исследовав 3 модели с подбором гиперпараметров мне вывелась лучшая модель CatBoost с самым быстрым обучением - 276 и предсказанием - 1,126. И показателем RMSE - 1553.73.\n",
    "На Тестовой выборке показатель RMSE улучшился до 1523.97. Считаю что модель не переобучен и в целом адекватная**"
   ]
  }
 ],
 "metadata": {
  "ExecuteTimeLog": [
   {
    "duration": 403,
    "start_time": "2022-11-04T08:30:04.174Z"
   },
   {
    "duration": 1020,
    "start_time": "2022-11-04T08:30:40.034Z"
   },
   {
    "duration": 26,
    "start_time": "2022-11-04T08:30:49.694Z"
   },
   {
    "duration": 12,
    "start_time": "2022-11-04T08:30:59.704Z"
   },
   {
    "duration": 3,
    "start_time": "2022-11-04T08:33:50.355Z"
   },
   {
    "duration": 755,
    "start_time": "2022-11-04T08:33:57.191Z"
   },
   {
    "duration": 4,
    "start_time": "2022-11-04T08:36:22.038Z"
   },
   {
    "duration": 608,
    "start_time": "2022-11-04T08:36:26.187Z"
   },
   {
    "duration": 442,
    "start_time": "2022-11-04T19:34:10.335Z"
   },
   {
    "duration": 1146,
    "start_time": "2022-11-04T19:34:10.779Z"
   },
   {
    "duration": 3,
    "start_time": "2022-11-04T19:34:11.930Z"
   },
   {
    "duration": 732,
    "start_time": "2022-11-04T19:34:11.935Z"
   },
   {
    "duration": 3,
    "start_time": "2022-11-04T19:34:41.751Z"
   },
   {
    "duration": 576,
    "start_time": "2022-11-04T19:34:53.147Z"
   },
   {
    "duration": 4,
    "start_time": "2022-11-04T20:06:18.722Z"
   },
   {
    "duration": 747,
    "start_time": "2022-11-04T20:06:21.325Z"
   },
   {
    "duration": 716,
    "start_time": "2022-11-04T20:07:03.879Z"
   },
   {
    "duration": 4,
    "start_time": "2022-11-04T20:07:29.153Z"
   },
   {
    "duration": 812,
    "start_time": "2022-11-04T20:07:29.727Z"
   },
   {
    "duration": 3,
    "start_time": "2022-11-04T20:07:39.628Z"
   },
   {
    "duration": 645,
    "start_time": "2022-11-04T20:07:40.363Z"
   },
   {
    "duration": 3,
    "start_time": "2022-11-04T20:07:57.595Z"
   },
   {
    "duration": 665,
    "start_time": "2022-11-04T20:07:58.324Z"
   },
   {
    "duration": 4,
    "start_time": "2022-11-04T20:08:13.097Z"
   },
   {
    "duration": 627,
    "start_time": "2022-11-04T20:08:13.560Z"
   },
   {
    "duration": 5,
    "start_time": "2022-11-04T20:09:11.576Z"
   },
   {
    "duration": 892,
    "start_time": "2022-11-04T20:09:13.177Z"
   },
   {
    "duration": 4,
    "start_time": "2022-11-04T20:09:26.033Z"
   },
   {
    "duration": 820,
    "start_time": "2022-11-04T20:09:26.562Z"
   },
   {
    "duration": 4,
    "start_time": "2022-11-04T20:09:41.745Z"
   },
   {
    "duration": 746,
    "start_time": "2022-11-04T20:09:42.236Z"
   },
   {
    "duration": 6,
    "start_time": "2022-11-04T20:12:08.173Z"
   },
   {
    "duration": 849,
    "start_time": "2022-11-04T20:12:08.482Z"
   },
   {
    "duration": 4,
    "start_time": "2022-11-04T20:12:36.167Z"
   },
   {
    "duration": 783,
    "start_time": "2022-11-04T20:12:36.740Z"
   },
   {
    "duration": 4,
    "start_time": "2022-11-04T20:13:32.153Z"
   },
   {
    "duration": 844,
    "start_time": "2022-11-04T20:13:32.730Z"
   },
   {
    "duration": 9,
    "start_time": "2022-11-04T20:22:23.520Z"
   },
   {
    "duration": 96,
    "start_time": "2022-11-04T20:22:40.560Z"
   },
   {
    "duration": 9,
    "start_time": "2022-11-04T20:22:43.555Z"
   },
   {
    "duration": 8,
    "start_time": "2022-11-04T20:22:49.000Z"
   },
   {
    "duration": 6,
    "start_time": "2022-11-04T20:22:56.425Z"
   },
   {
    "duration": 31,
    "start_time": "2022-11-04T20:25:53.300Z"
   },
   {
    "duration": 44,
    "start_time": "2022-11-04T20:26:16.983Z"
   },
   {
    "duration": 238,
    "start_time": "2022-11-04T20:26:41.784Z"
   },
   {
    "duration": 448,
    "start_time": "2022-11-04T20:28:09.777Z"
   },
   {
    "duration": 84,
    "start_time": "2022-11-04T20:29:03.670Z"
   },
   {
    "duration": 420,
    "start_time": "2022-11-04T20:29:44.902Z"
   },
   {
    "duration": 1189,
    "start_time": "2022-11-04T20:29:45.324Z"
   },
   {
    "duration": 5,
    "start_time": "2022-11-04T20:29:46.515Z"
   },
   {
    "duration": 1436,
    "start_time": "2022-11-04T20:29:46.523Z"
   },
   {
    "duration": 47,
    "start_time": "2022-11-04T20:29:47.961Z"
   },
   {
    "duration": 268,
    "start_time": "2022-11-04T20:29:48.011Z"
   },
   {
    "duration": 63,
    "start_time": "2022-11-04T20:30:40.756Z"
   },
   {
    "duration": 84,
    "start_time": "2022-11-04T20:32:00.461Z"
   },
   {
    "duration": 346,
    "start_time": "2022-11-04T20:32:10.684Z"
   },
   {
    "duration": 914,
    "start_time": "2022-11-04T20:32:11.032Z"
   },
   {
    "duration": 4,
    "start_time": "2022-11-04T20:32:11.948Z"
   },
   {
    "duration": 1279,
    "start_time": "2022-11-04T20:32:11.954Z"
   },
   {
    "duration": 47,
    "start_time": "2022-11-04T20:32:13.235Z"
   },
   {
    "duration": 218,
    "start_time": "2022-11-04T20:32:13.283Z"
   },
   {
    "duration": 58,
    "start_time": "2022-11-04T20:32:13.502Z"
   },
   {
    "duration": 32,
    "start_time": "2022-11-04T20:40:54.663Z"
   },
   {
    "duration": 97,
    "start_time": "2022-11-04T20:41:03.285Z"
   },
   {
    "duration": 33,
    "start_time": "2022-11-04T20:41:15.022Z"
   },
   {
    "duration": 41,
    "start_time": "2022-11-04T20:41:20.710Z"
   },
   {
    "duration": 99,
    "start_time": "2022-11-04T20:41:36.926Z"
   },
   {
    "duration": 92,
    "start_time": "2022-11-04T20:41:41.406Z"
   },
   {
    "duration": 21011,
    "start_time": "2022-11-04T20:41:48.373Z"
   },
   {
    "duration": 35,
    "start_time": "2022-11-04T20:42:46.532Z"
   },
   {
    "duration": 18,
    "start_time": "2022-11-04T20:43:13.546Z"
   },
   {
    "duration": 9,
    "start_time": "2022-11-04T20:44:58.180Z"
   },
   {
    "duration": 17,
    "start_time": "2022-11-04T20:45:24.662Z"
   },
   {
    "duration": 4,
    "start_time": "2022-11-04T20:47:02.832Z"
   },
   {
    "duration": 49,
    "start_time": "2022-11-04T20:47:11.084Z"
   },
   {
    "duration": 76,
    "start_time": "2022-11-04T20:47:18.162Z"
   },
   {
    "duration": 211,
    "start_time": "2022-11-04T20:48:08.705Z"
   },
   {
    "duration": 19,
    "start_time": "2022-11-04T20:48:24.535Z"
   },
   {
    "duration": 4,
    "start_time": "2022-11-04T20:48:30.764Z"
   },
   {
    "duration": 12,
    "start_time": "2022-11-04T20:48:53.522Z"
   },
   {
    "duration": 21,
    "start_time": "2022-11-04T20:49:06.128Z"
   },
   {
    "duration": 32,
    "start_time": "2022-11-04T20:51:00.167Z"
   },
   {
    "duration": 22,
    "start_time": "2022-11-04T20:51:22.140Z"
   },
   {
    "duration": 30,
    "start_time": "2022-11-04T20:52:00.929Z"
   },
   {
    "duration": 418,
    "start_time": "2022-11-04T20:55:22.456Z"
   },
   {
    "duration": 936,
    "start_time": "2022-11-04T20:55:46.564Z"
   },
   {
    "duration": 809,
    "start_time": "2022-11-04T20:55:50.894Z"
   },
   {
    "duration": 700,
    "start_time": "2022-11-04T20:56:20.804Z"
   },
   {
    "duration": 235,
    "start_time": "2022-11-04T20:56:26.638Z"
   },
   {
    "duration": 285,
    "start_time": "2022-11-04T20:56:41.280Z"
   },
   {
    "duration": 591,
    "start_time": "2022-11-04T20:56:56.562Z"
   },
   {
    "duration": 524,
    "start_time": "2022-11-04T20:57:45.377Z"
   },
   {
    "duration": 1117,
    "start_time": "2022-11-04T20:57:56.478Z"
   },
   {
    "duration": 773,
    "start_time": "2022-11-04T20:59:21.956Z"
   },
   {
    "duration": 1073,
    "start_time": "2022-11-04T20:59:26.751Z"
   },
   {
    "duration": 1022,
    "start_time": "2022-11-04T20:59:47.728Z"
   },
   {
    "duration": 244,
    "start_time": "2022-11-04T20:59:52.896Z"
   },
   {
    "duration": 212,
    "start_time": "2022-11-04T21:00:17.227Z"
   },
   {
    "duration": 132,
    "start_time": "2022-11-04T21:00:27.637Z"
   },
   {
    "duration": 408,
    "start_time": "2022-11-04T21:01:04.657Z"
   },
   {
    "duration": 388,
    "start_time": "2022-11-04T21:01:11.413Z"
   },
   {
    "duration": 736,
    "start_time": "2022-11-04T21:02:01.493Z"
   },
   {
    "duration": 241,
    "start_time": "2022-11-04T21:02:27.455Z"
   },
   {
    "duration": 184,
    "start_time": "2022-11-04T21:02:37.598Z"
   },
   {
    "duration": 323,
    "start_time": "2022-11-04T21:03:39.374Z"
   },
   {
    "duration": 407,
    "start_time": "2022-11-04T21:04:06.180Z"
   },
   {
    "duration": 11,
    "start_time": "2022-11-04T21:06:23.818Z"
   },
   {
    "duration": 11,
    "start_time": "2022-11-04T21:06:51.150Z"
   },
   {
    "duration": 3,
    "start_time": "2022-11-04T21:07:14.668Z"
   },
   {
    "duration": 47,
    "start_time": "2022-11-04T21:07:50.851Z"
   },
   {
    "duration": 376,
    "start_time": "2022-11-04T21:08:02.201Z"
   },
   {
    "duration": 890,
    "start_time": "2022-11-04T21:08:02.579Z"
   },
   {
    "duration": 4,
    "start_time": "2022-11-04T21:08:03.471Z"
   },
   {
    "duration": 1322,
    "start_time": "2022-11-04T21:08:03.476Z"
   },
   {
    "duration": 51,
    "start_time": "2022-11-04T21:08:04.800Z"
   },
   {
    "duration": 215,
    "start_time": "2022-11-04T21:08:04.853Z"
   },
   {
    "duration": 413,
    "start_time": "2022-11-04T21:08:05.069Z"
   },
   {
    "duration": 19,
    "start_time": "2022-11-04T21:08:05.484Z"
   },
   {
    "duration": 56,
    "start_time": "2022-11-04T21:08:20.653Z"
   },
   {
    "duration": 28,
    "start_time": "2022-11-04T21:09:27.556Z"
   },
   {
    "duration": 4,
    "start_time": "2022-11-04T21:12:23.911Z"
   },
   {
    "duration": 12,
    "start_time": "2022-11-04T21:12:35.370Z"
   },
   {
    "duration": 435,
    "start_time": "2022-11-04T21:12:39.751Z"
   },
   {
    "duration": 965,
    "start_time": "2022-11-04T21:12:40.188Z"
   },
   {
    "duration": 4,
    "start_time": "2022-11-04T21:12:41.155Z"
   },
   {
    "duration": 1322,
    "start_time": "2022-11-04T21:12:41.161Z"
   },
   {
    "duration": 64,
    "start_time": "2022-11-04T21:12:42.485Z"
   },
   {
    "duration": 227,
    "start_time": "2022-11-04T21:12:42.553Z"
   },
   {
    "duration": 3,
    "start_time": "2022-11-04T21:12:42.782Z"
   },
   {
    "duration": 403,
    "start_time": "2022-11-04T21:12:42.787Z"
   },
   {
    "duration": 3,
    "start_time": "2022-11-04T21:12:43.192Z"
   },
   {
    "duration": 33,
    "start_time": "2022-11-04T21:12:43.197Z"
   },
   {
    "duration": 24,
    "start_time": "2022-11-04T21:12:43.240Z"
   },
   {
    "duration": 50,
    "start_time": "2022-11-04T21:12:43.266Z"
   },
   {
    "duration": 389,
    "start_time": "2022-11-04T21:13:03.291Z"
   },
   {
    "duration": 939,
    "start_time": "2022-11-04T21:13:03.681Z"
   },
   {
    "duration": 4,
    "start_time": "2022-11-04T21:13:04.622Z"
   },
   {
    "duration": 1342,
    "start_time": "2022-11-04T21:13:04.628Z"
   },
   {
    "duration": 3,
    "start_time": "2022-11-04T21:13:05.972Z"
   },
   {
    "duration": 49,
    "start_time": "2022-11-04T21:13:05.977Z"
   },
   {
    "duration": 245,
    "start_time": "2022-11-04T21:13:06.027Z"
   },
   {
    "duration": 5,
    "start_time": "2022-11-04T21:13:06.273Z"
   },
   {
    "duration": 417,
    "start_time": "2022-11-04T21:13:06.279Z"
   },
   {
    "duration": 3,
    "start_time": "2022-11-04T21:13:06.699Z"
   },
   {
    "duration": 47,
    "start_time": "2022-11-04T21:13:06.703Z"
   },
   {
    "duration": 19,
    "start_time": "2022-11-04T21:13:06.752Z"
   },
   {
    "duration": 50,
    "start_time": "2022-11-04T21:13:06.773Z"
   },
   {
    "duration": 423,
    "start_time": "2022-11-04T21:13:30.039Z"
   },
   {
    "duration": 950,
    "start_time": "2022-11-04T21:13:30.464Z"
   },
   {
    "duration": 4,
    "start_time": "2022-11-04T21:13:31.419Z"
   },
   {
    "duration": 1303,
    "start_time": "2022-11-04T21:13:31.424Z"
   },
   {
    "duration": 3,
    "start_time": "2022-11-04T21:13:32.729Z"
   },
   {
    "duration": 58,
    "start_time": "2022-11-04T21:13:32.745Z"
   },
   {
    "duration": 4,
    "start_time": "2022-11-04T21:13:32.805Z"
   },
   {
    "duration": 6,
    "start_time": "2022-11-04T21:13:32.811Z"
   },
   {
    "duration": 449,
    "start_time": "2022-11-04T21:13:32.819Z"
   },
   {
    "duration": 4,
    "start_time": "2022-11-04T21:13:33.269Z"
   },
   {
    "duration": 39,
    "start_time": "2022-11-04T21:13:33.275Z"
   },
   {
    "duration": 41,
    "start_time": "2022-11-04T21:13:33.316Z"
   },
   {
    "duration": 60,
    "start_time": "2022-11-04T21:13:33.359Z"
   },
   {
    "duration": 209,
    "start_time": "2022-11-04T21:14:33.475Z"
   },
   {
    "duration": 4,
    "start_time": "2022-11-04T21:15:03.599Z"
   },
   {
    "duration": 556,
    "start_time": "2022-11-04T21:15:04.412Z"
   },
   {
    "duration": 5,
    "start_time": "2022-11-04T21:15:20.955Z"
   },
   {
    "duration": 544,
    "start_time": "2022-11-04T21:15:21.376Z"
   },
   {
    "duration": 377,
    "start_time": "2022-11-04T21:15:31.300Z"
   },
   {
    "duration": 911,
    "start_time": "2022-11-04T21:15:31.680Z"
   },
   {
    "duration": 4,
    "start_time": "2022-11-04T21:15:32.593Z"
   },
   {
    "duration": 1403,
    "start_time": "2022-11-04T21:15:32.599Z"
   },
   {
    "duration": 4,
    "start_time": "2022-11-04T21:15:34.003Z"
   },
   {
    "duration": 76,
    "start_time": "2022-11-04T21:15:34.008Z"
   },
   {
    "duration": 9,
    "start_time": "2022-11-04T21:15:34.086Z"
   },
   {
    "duration": 259,
    "start_time": "2022-11-04T21:15:34.097Z"
   },
   {
    "duration": 4,
    "start_time": "2022-11-04T21:15:34.359Z"
   },
   {
    "duration": 478,
    "start_time": "2022-11-04T21:15:34.365Z"
   },
   {
    "duration": 6,
    "start_time": "2022-11-04T21:15:34.845Z"
   },
   {
    "duration": 43,
    "start_time": "2022-11-04T21:15:34.853Z"
   },
   {
    "duration": 21,
    "start_time": "2022-11-04T21:15:34.897Z"
   },
   {
    "duration": 78,
    "start_time": "2022-11-04T21:15:34.920Z"
   },
   {
    "duration": 385,
    "start_time": "2022-11-04T21:15:58.894Z"
   },
   {
    "duration": 905,
    "start_time": "2022-11-04T21:15:59.281Z"
   },
   {
    "duration": 4,
    "start_time": "2022-11-04T21:16:00.188Z"
   },
   {
    "duration": 1380,
    "start_time": "2022-11-04T21:16:00.194Z"
   },
   {
    "duration": 4,
    "start_time": "2022-11-04T21:16:01.576Z"
   },
   {
    "duration": 44,
    "start_time": "2022-11-04T21:16:01.582Z"
   },
   {
    "duration": 18,
    "start_time": "2022-11-04T21:16:01.627Z"
   },
   {
    "duration": 216,
    "start_time": "2022-11-04T21:16:01.647Z"
   },
   {
    "duration": 3,
    "start_time": "2022-11-04T21:16:01.865Z"
   },
   {
    "duration": 458,
    "start_time": "2022-11-04T21:16:01.870Z"
   },
   {
    "duration": 10,
    "start_time": "2022-11-04T21:16:02.330Z"
   },
   {
    "duration": 42,
    "start_time": "2022-11-04T21:16:02.342Z"
   },
   {
    "duration": 22,
    "start_time": "2022-11-04T21:16:02.386Z"
   },
   {
    "duration": 79,
    "start_time": "2022-11-04T21:16:02.410Z"
   },
   {
    "duration": 4,
    "start_time": "2022-11-04T21:16:19.831Z"
   },
   {
    "duration": 541,
    "start_time": "2022-11-04T21:16:20.681Z"
   },
   {
    "duration": 442,
    "start_time": "2022-11-04T21:17:16.870Z"
   },
   {
    "duration": 879,
    "start_time": "2022-11-04T21:17:17.314Z"
   },
   {
    "duration": 5,
    "start_time": "2022-11-04T21:17:18.195Z"
   },
   {
    "duration": 1392,
    "start_time": "2022-11-04T21:17:18.202Z"
   },
   {
    "duration": 4,
    "start_time": "2022-11-04T21:17:19.596Z"
   },
   {
    "duration": 67,
    "start_time": "2022-11-04T21:17:19.602Z"
   },
   {
    "duration": 2,
    "start_time": "2022-11-04T21:17:19.673Z"
   },
   {
    "duration": 6,
    "start_time": "2022-11-04T21:17:19.677Z"
   },
   {
    "duration": 7,
    "start_time": "2022-11-04T21:17:19.684Z"
   },
   {
    "duration": 463,
    "start_time": "2022-11-04T21:17:19.693Z"
   },
   {
    "duration": 4,
    "start_time": "2022-11-04T21:17:20.157Z"
   },
   {
    "duration": 34,
    "start_time": "2022-11-04T21:17:20.162Z"
   },
   {
    "duration": 22,
    "start_time": "2022-11-04T21:17:20.198Z"
   },
   {
    "duration": 64,
    "start_time": "2022-11-04T21:17:20.238Z"
   },
   {
    "duration": 518,
    "start_time": "2022-11-04T21:17:23.869Z"
   },
   {
    "duration": 435,
    "start_time": "2022-11-04T21:18:32.984Z"
   },
   {
    "duration": 918,
    "start_time": "2022-11-04T21:18:33.421Z"
   },
   {
    "duration": 7,
    "start_time": "2022-11-04T21:18:34.341Z"
   },
   {
    "duration": 1318,
    "start_time": "2022-11-04T21:18:34.351Z"
   },
   {
    "duration": 4,
    "start_time": "2022-11-04T21:18:35.671Z"
   },
   {
    "duration": 47,
    "start_time": "2022-11-04T21:18:35.676Z"
   },
   {
    "duration": 220,
    "start_time": "2022-11-04T21:18:35.724Z"
   },
   {
    "duration": 200,
    "start_time": "2022-11-04T21:18:35.949Z"
   },
   {
    "duration": 4,
    "start_time": "2022-11-04T21:18:36.151Z"
   },
   {
    "duration": 414,
    "start_time": "2022-11-04T21:18:36.158Z"
   },
   {
    "duration": 3,
    "start_time": "2022-11-04T21:18:36.574Z"
   },
   {
    "duration": 30,
    "start_time": "2022-11-04T21:18:36.578Z"
   },
   {
    "duration": 40,
    "start_time": "2022-11-04T21:18:36.610Z"
   },
   {
    "duration": 48,
    "start_time": "2022-11-04T21:18:36.652Z"
   },
   {
    "duration": 421,
    "start_time": "2022-11-04T21:18:57.348Z"
   },
   {
    "duration": 916,
    "start_time": "2022-11-04T21:18:57.771Z"
   },
   {
    "duration": 5,
    "start_time": "2022-11-04T21:18:58.688Z"
   },
   {
    "duration": 1365,
    "start_time": "2022-11-04T21:18:58.694Z"
   },
   {
    "duration": 4,
    "start_time": "2022-11-04T21:19:00.061Z"
   },
   {
    "duration": 490,
    "start_time": "2022-11-04T21:19:00.067Z"
   },
   {
    "duration": 39,
    "start_time": "2022-11-04T21:19:00.559Z"
   },
   {
    "duration": 241,
    "start_time": "2022-11-04T21:19:00.600Z"
   },
   {
    "duration": 214,
    "start_time": "2022-11-04T21:19:00.843Z"
   },
   {
    "duration": 5,
    "start_time": "2022-11-04T21:19:01.060Z"
   },
   {
    "duration": 456,
    "start_time": "2022-11-04T21:19:01.067Z"
   },
   {
    "duration": 4,
    "start_time": "2022-11-04T21:19:01.525Z"
   },
   {
    "duration": 34,
    "start_time": "2022-11-04T21:19:01.542Z"
   },
   {
    "duration": 24,
    "start_time": "2022-11-04T21:19:01.578Z"
   },
   {
    "duration": 69,
    "start_time": "2022-11-04T21:19:01.604Z"
   },
   {
    "duration": 397,
    "start_time": "2022-11-04T21:19:23.862Z"
   },
   {
    "duration": 895,
    "start_time": "2022-11-04T21:19:24.261Z"
   },
   {
    "duration": 4,
    "start_time": "2022-11-04T21:19:25.158Z"
   },
   {
    "duration": 1290,
    "start_time": "2022-11-04T21:19:25.164Z"
   },
   {
    "duration": 3,
    "start_time": "2022-11-04T21:19:26.456Z"
   },
   {
    "duration": 505,
    "start_time": "2022-11-04T21:19:26.460Z"
   },
   {
    "duration": 99,
    "start_time": "2022-11-04T21:19:26.966Z"
   },
   {
    "duration": 517,
    "start_time": "2022-11-04T21:19:27.067Z"
   },
   {
    "duration": 489,
    "start_time": "2022-11-04T21:19:27.586Z"
   },
   {
    "duration": 4,
    "start_time": "2022-11-04T21:19:28.077Z"
   },
   {
    "duration": 1026,
    "start_time": "2022-11-04T21:19:28.082Z"
   },
   {
    "duration": 30,
    "start_time": "2022-11-04T21:19:29.110Z"
   },
   {
    "duration": 46,
    "start_time": "2022-11-04T21:19:29.142Z"
   },
   {
    "duration": 21,
    "start_time": "2022-11-04T21:19:29.189Z"
   },
   {
    "duration": 96,
    "start_time": "2022-11-04T21:19:29.211Z"
   },
   {
    "duration": 395,
    "start_time": "2022-11-04T21:21:31.267Z"
   },
   {
    "duration": 948,
    "start_time": "2022-11-04T21:21:31.664Z"
   },
   {
    "duration": 6,
    "start_time": "2022-11-04T21:21:32.614Z"
   },
   {
    "duration": 1324,
    "start_time": "2022-11-04T21:21:32.622Z"
   },
   {
    "duration": 47,
    "start_time": "2022-11-04T21:21:33.949Z"
   },
   {
    "duration": 8,
    "start_time": "2022-11-04T21:21:33.998Z"
   },
   {
    "duration": 514,
    "start_time": "2022-11-04T21:21:34.008Z"
   },
   {
    "duration": 8,
    "start_time": "2022-11-04T21:21:34.524Z"
   },
   {
    "duration": 45,
    "start_time": "2022-11-04T21:21:34.534Z"
   },
   {
    "duration": 23,
    "start_time": "2022-11-04T21:21:34.581Z"
   },
   {
    "duration": 87,
    "start_time": "2022-11-04T21:21:34.606Z"
   },
   {
    "duration": 3,
    "start_time": "2022-11-04T21:21:53.976Z"
   },
   {
    "duration": 22,
    "start_time": "2022-11-04T21:26:04.002Z"
   },
   {
    "duration": 55,
    "start_time": "2022-11-04T21:26:05.650Z"
   },
   {
    "duration": 4,
    "start_time": "2022-11-04T21:26:22.613Z"
   },
   {
    "duration": 434,
    "start_time": "2022-11-04T21:27:01.334Z"
   },
   {
    "duration": 906,
    "start_time": "2022-11-04T21:27:01.770Z"
   },
   {
    "duration": 4,
    "start_time": "2022-11-04T21:27:02.678Z"
   },
   {
    "duration": 1323,
    "start_time": "2022-11-04T21:27:02.684Z"
   },
   {
    "duration": 4,
    "start_time": "2022-11-04T21:27:04.008Z"
   },
   {
    "duration": 64,
    "start_time": "2022-11-04T21:27:04.014Z"
   },
   {
    "duration": 8,
    "start_time": "2022-11-04T21:27:04.080Z"
   },
   {
    "duration": 477,
    "start_time": "2022-11-04T21:27:04.089Z"
   },
   {
    "duration": 31,
    "start_time": "2022-11-04T21:27:04.568Z"
   },
   {
    "duration": 57,
    "start_time": "2022-11-04T21:27:04.602Z"
   },
   {
    "duration": 3,
    "start_time": "2022-11-04T21:27:04.661Z"
   },
   {
    "duration": 24,
    "start_time": "2022-11-04T21:27:04.666Z"
   },
   {
    "duration": 4,
    "start_time": "2022-11-04T21:27:04.693Z"
   },
   {
    "duration": 49,
    "start_time": "2022-11-04T21:27:04.698Z"
   },
   {
    "duration": 5,
    "start_time": "2022-11-04T21:27:04.750Z"
   },
   {
    "duration": 57,
    "start_time": "2022-11-04T21:27:04.757Z"
   },
   {
    "duration": 81,
    "start_time": "2022-11-04T21:34:45.723Z"
   },
   {
    "duration": 3,
    "start_time": "2022-11-04T21:34:48.353Z"
   },
   {
    "duration": 10,
    "start_time": "2022-11-04T21:34:48.825Z"
   },
   {
    "duration": 3,
    "start_time": "2022-11-04T21:35:27.177Z"
   },
   {
    "duration": 4,
    "start_time": "2022-11-04T21:35:35.451Z"
   },
   {
    "duration": 10,
    "start_time": "2022-11-04T21:35:35.923Z"
   },
   {
    "duration": 3,
    "start_time": "2022-11-04T21:36:29.055Z"
   },
   {
    "duration": 9,
    "start_time": "2022-11-04T21:36:29.777Z"
   },
   {
    "duration": 3,
    "start_time": "2022-11-04T21:37:21.008Z"
   },
   {
    "duration": 9,
    "start_time": "2022-11-04T21:37:21.483Z"
   },
   {
    "duration": 3,
    "start_time": "2022-11-04T21:37:28.395Z"
   },
   {
    "duration": 10,
    "start_time": "2022-11-04T21:37:28.890Z"
   },
   {
    "duration": 3,
    "start_time": "2022-11-04T21:39:22.005Z"
   },
   {
    "duration": 17,
    "start_time": "2022-11-04T21:39:22.436Z"
   },
   {
    "duration": 12,
    "start_time": "2022-11-04T21:40:56.560Z"
   },
   {
    "duration": 13,
    "start_time": "2022-11-04T21:41:03.891Z"
   },
   {
    "duration": 41,
    "start_time": "2022-11-04T21:41:16.431Z"
   },
   {
    "duration": 61,
    "start_time": "2022-11-04T21:41:19.215Z"
   },
   {
    "duration": 9,
    "start_time": "2022-11-04T21:41:36.151Z"
   },
   {
    "duration": 57,
    "start_time": "2022-11-04T21:41:45.752Z"
   },
   {
    "duration": 30,
    "start_time": "2022-11-04T21:42:16.151Z"
   },
   {
    "duration": 57,
    "start_time": "2022-11-04T21:42:16.599Z"
   },
   {
    "duration": 15,
    "start_time": "2022-11-04T21:42:36.387Z"
   },
   {
    "duration": 15,
    "start_time": "2022-11-04T21:42:37.024Z"
   },
   {
    "duration": 9,
    "start_time": "2022-11-04T21:42:42.912Z"
   },
   {
    "duration": 404,
    "start_time": "2022-11-04T21:42:55.161Z"
   },
   {
    "duration": 898,
    "start_time": "2022-11-04T21:42:55.566Z"
   },
   {
    "duration": 5,
    "start_time": "2022-11-04T21:42:56.465Z"
   },
   {
    "duration": 1463,
    "start_time": "2022-11-04T21:42:56.473Z"
   },
   {
    "duration": 4,
    "start_time": "2022-11-04T21:42:57.938Z"
   },
   {
    "duration": 60,
    "start_time": "2022-11-04T21:42:57.944Z"
   },
   {
    "duration": 8,
    "start_time": "2022-11-04T21:42:58.006Z"
   },
   {
    "duration": 479,
    "start_time": "2022-11-04T21:42:58.016Z"
   },
   {
    "duration": 66,
    "start_time": "2022-11-04T21:42:58.496Z"
   },
   {
    "duration": 37,
    "start_time": "2022-11-04T21:42:58.566Z"
   },
   {
    "duration": 9,
    "start_time": "2022-11-04T21:42:58.604Z"
   },
   {
    "duration": 45,
    "start_time": "2022-11-04T21:42:58.615Z"
   },
   {
    "duration": 4,
    "start_time": "2022-11-04T21:42:58.662Z"
   },
   {
    "duration": 32,
    "start_time": "2022-11-04T21:42:58.667Z"
   },
   {
    "duration": 4,
    "start_time": "2022-11-04T21:42:58.703Z"
   },
   {
    "duration": 6,
    "start_time": "2022-11-04T21:42:58.709Z"
   },
   {
    "duration": 27,
    "start_time": "2022-11-04T21:42:58.717Z"
   },
   {
    "duration": 13,
    "start_time": "2022-11-04T21:42:58.747Z"
   },
   {
    "duration": 35,
    "start_time": "2022-11-04T21:42:58.762Z"
   },
   {
    "duration": 100,
    "start_time": "2022-11-04T21:42:58.799Z"
   },
   {
    "duration": 36,
    "start_time": "2022-11-04T21:43:20.464Z"
   },
   {
    "duration": 59,
    "start_time": "2022-11-04T21:43:21.137Z"
   },
   {
    "duration": 4,
    "start_time": "2022-11-04T21:44:38.077Z"
   },
   {
    "duration": 3,
    "start_time": "2022-11-04T21:45:16.016Z"
   },
   {
    "duration": 80,
    "start_time": "2022-11-04T21:49:16.477Z"
   },
   {
    "duration": 412,
    "start_time": "2022-11-04T21:49:33.951Z"
   },
   {
    "duration": 976,
    "start_time": "2022-11-04T21:49:34.365Z"
   },
   {
    "duration": 7,
    "start_time": "2022-11-04T21:49:35.343Z"
   },
   {
    "duration": 1341,
    "start_time": "2022-11-04T21:49:35.352Z"
   },
   {
    "duration": 3,
    "start_time": "2022-11-04T21:49:36.695Z"
   },
   {
    "duration": 57,
    "start_time": "2022-11-04T21:49:36.700Z"
   },
   {
    "duration": 4,
    "start_time": "2022-11-04T21:49:36.758Z"
   },
   {
    "duration": 536,
    "start_time": "2022-11-04T21:49:36.764Z"
   },
   {
    "duration": 45,
    "start_time": "2022-11-04T21:49:37.303Z"
   },
   {
    "duration": 41,
    "start_time": "2022-11-04T21:49:37.350Z"
   },
   {
    "duration": 5,
    "start_time": "2022-11-04T21:49:37.393Z"
   },
   {
    "duration": 57,
    "start_time": "2022-11-04T21:49:37.399Z"
   },
   {
    "duration": 4,
    "start_time": "2022-11-04T21:49:37.458Z"
   },
   {
    "duration": 47,
    "start_time": "2022-11-04T21:49:37.464Z"
   },
   {
    "duration": 3,
    "start_time": "2022-11-04T21:49:37.513Z"
   },
   {
    "duration": 5,
    "start_time": "2022-11-04T21:49:37.518Z"
   },
   {
    "duration": 60,
    "start_time": "2022-11-04T21:49:37.524Z"
   },
   {
    "duration": 3,
    "start_time": "2022-11-04T21:49:37.586Z"
   },
   {
    "duration": 63,
    "start_time": "2022-11-04T21:49:37.591Z"
   },
   {
    "duration": 70,
    "start_time": "2022-11-04T21:49:37.657Z"
   },
   {
    "duration": 14,
    "start_time": "2022-11-04T21:50:06.032Z"
   },
   {
    "duration": 128,
    "start_time": "2022-11-04T21:50:42.773Z"
   },
   {
    "duration": 163,
    "start_time": "2022-11-04T21:52:47.675Z"
   },
   {
    "duration": 171,
    "start_time": "2022-11-04T21:52:57.924Z"
   },
   {
    "duration": 210,
    "start_time": "2022-11-04T21:53:08.416Z"
   },
   {
    "duration": 166,
    "start_time": "2022-11-04T21:53:15.163Z"
   },
   {
    "duration": 168,
    "start_time": "2022-11-04T21:53:19.998Z"
   },
   {
    "duration": 173,
    "start_time": "2022-11-04T21:53:25.558Z"
   },
   {
    "duration": 170,
    "start_time": "2022-11-04T21:53:32.395Z"
   },
   {
    "duration": 404,
    "start_time": "2022-11-04T21:53:46.659Z"
   },
   {
    "duration": 990,
    "start_time": "2022-11-04T21:53:47.065Z"
   },
   {
    "duration": 4,
    "start_time": "2022-11-04T21:53:48.057Z"
   },
   {
    "duration": 1328,
    "start_time": "2022-11-04T21:53:48.063Z"
   },
   {
    "duration": 4,
    "start_time": "2022-11-04T21:53:49.392Z"
   },
   {
    "duration": 64,
    "start_time": "2022-11-04T21:53:49.398Z"
   },
   {
    "duration": 6,
    "start_time": "2022-11-04T21:53:49.463Z"
   },
   {
    "duration": 447,
    "start_time": "2022-11-04T21:53:49.470Z"
   },
   {
    "duration": 44,
    "start_time": "2022-11-04T21:53:49.918Z"
   },
   {
    "duration": 28,
    "start_time": "2022-11-04T21:53:49.964Z"
   },
   {
    "duration": 3,
    "start_time": "2022-11-04T21:53:49.994Z"
   },
   {
    "duration": 42,
    "start_time": "2022-11-04T21:53:49.999Z"
   },
   {
    "duration": 6,
    "start_time": "2022-11-04T21:53:50.043Z"
   },
   {
    "duration": 36,
    "start_time": "2022-11-04T21:53:50.051Z"
   },
   {
    "duration": 4,
    "start_time": "2022-11-04T21:53:50.088Z"
   },
   {
    "duration": 7,
    "start_time": "2022-11-04T21:53:50.093Z"
   },
   {
    "duration": 56,
    "start_time": "2022-11-04T21:53:50.102Z"
   },
   {
    "duration": 4,
    "start_time": "2022-11-04T21:53:50.160Z"
   },
   {
    "duration": 54,
    "start_time": "2022-11-04T21:53:50.165Z"
   },
   {
    "duration": 102,
    "start_time": "2022-11-04T21:53:50.221Z"
   },
   {
    "duration": 188,
    "start_time": "2022-11-04T21:53:50.324Z"
   },
   {
    "duration": 427,
    "start_time": "2022-11-04T21:54:17.331Z"
   },
   {
    "duration": 893,
    "start_time": "2022-11-04T21:54:17.759Z"
   },
   {
    "duration": 4,
    "start_time": "2022-11-04T21:54:18.654Z"
   },
   {
    "duration": 1309,
    "start_time": "2022-11-04T21:54:18.660Z"
   },
   {
    "duration": 3,
    "start_time": "2022-11-04T21:54:19.971Z"
   },
   {
    "duration": 51,
    "start_time": "2022-11-04T21:54:19.976Z"
   },
   {
    "duration": 11,
    "start_time": "2022-11-04T21:54:20.029Z"
   },
   {
    "duration": 551,
    "start_time": "2022-11-04T21:54:20.042Z"
   },
   {
    "duration": 51,
    "start_time": "2022-11-04T21:54:20.595Z"
   },
   {
    "duration": 50,
    "start_time": "2022-11-04T21:54:20.655Z"
   },
   {
    "duration": 4,
    "start_time": "2022-11-04T21:54:20.707Z"
   },
   {
    "duration": 53,
    "start_time": "2022-11-04T21:54:20.712Z"
   },
   {
    "duration": 4,
    "start_time": "2022-11-04T21:54:20.768Z"
   },
   {
    "duration": 40,
    "start_time": "2022-11-04T21:54:20.773Z"
   },
   {
    "duration": 4,
    "start_time": "2022-11-04T21:54:20.814Z"
   },
   {
    "duration": 12,
    "start_time": "2022-11-04T21:54:20.819Z"
   },
   {
    "duration": 74,
    "start_time": "2022-11-04T21:54:20.832Z"
   },
   {
    "duration": 4,
    "start_time": "2022-11-04T21:54:20.908Z"
   },
   {
    "duration": 85,
    "start_time": "2022-11-04T21:54:20.913Z"
   },
   {
    "duration": 96,
    "start_time": "2022-11-04T21:54:21.000Z"
   },
   {
    "duration": 224,
    "start_time": "2022-11-04T21:54:21.098Z"
   },
   {
    "duration": 230,
    "start_time": "2022-11-04T21:54:29.858Z"
   },
   {
    "duration": 425,
    "start_time": "2022-11-04T21:55:53.020Z"
   },
   {
    "duration": 877,
    "start_time": "2022-11-04T21:55:53.449Z"
   },
   {
    "duration": 4,
    "start_time": "2022-11-04T21:55:54.328Z"
   },
   {
    "duration": 2364,
    "start_time": "2022-11-04T21:55:54.340Z"
   },
   {
    "duration": 1035,
    "start_time": "2022-11-04T21:55:56.705Z"
   },
   {
    "duration": 6,
    "start_time": "2022-11-04T21:55:57.742Z"
   },
   {
    "duration": 52,
    "start_time": "2022-11-04T21:55:57.750Z"
   },
   {
    "duration": 5,
    "start_time": "2022-11-04T21:55:57.803Z"
   },
   {
    "duration": 532,
    "start_time": "2022-11-04T21:55:57.810Z"
   },
   {
    "duration": 46,
    "start_time": "2022-11-04T21:55:58.345Z"
   },
   {
    "duration": 71,
    "start_time": "2022-11-04T21:55:58.393Z"
   },
   {
    "duration": 4,
    "start_time": "2022-11-04T21:55:58.466Z"
   },
   {
    "duration": 24,
    "start_time": "2022-11-04T21:55:58.472Z"
   },
   {
    "duration": 5,
    "start_time": "2022-11-04T21:55:58.498Z"
   },
   {
    "duration": 71,
    "start_time": "2022-11-04T21:55:58.505Z"
   },
   {
    "duration": 4,
    "start_time": "2022-11-04T21:55:58.578Z"
   },
   {
    "duration": 4,
    "start_time": "2022-11-04T21:55:58.584Z"
   },
   {
    "duration": 64,
    "start_time": "2022-11-04T21:55:58.590Z"
   },
   {
    "duration": 4,
    "start_time": "2022-11-04T21:55:58.656Z"
   },
   {
    "duration": 82,
    "start_time": "2022-11-04T21:55:58.662Z"
   },
   {
    "duration": 109,
    "start_time": "2022-11-04T21:55:58.747Z"
   },
   {
    "duration": 216,
    "start_time": "2022-11-04T21:55:58.857Z"
   },
   {
    "duration": 393,
    "start_time": "2022-11-04T21:56:43.954Z"
   },
   {
    "duration": 844,
    "start_time": "2022-11-04T21:56:44.348Z"
   },
   {
    "duration": 4,
    "start_time": "2022-11-04T21:56:45.193Z"
   },
   {
    "duration": 1201,
    "start_time": "2022-11-04T21:56:45.199Z"
   },
   {
    "duration": 1109,
    "start_time": "2022-11-04T21:56:46.401Z"
   },
   {
    "duration": 4,
    "start_time": "2022-11-04T21:56:47.512Z"
   },
   {
    "duration": 52,
    "start_time": "2022-11-04T21:56:47.517Z"
   },
   {
    "duration": 4,
    "start_time": "2022-11-04T21:56:47.571Z"
   },
   {
    "duration": 471,
    "start_time": "2022-11-04T21:56:47.577Z"
   },
   {
    "duration": 38,
    "start_time": "2022-11-04T21:56:48.052Z"
   },
   {
    "duration": 32,
    "start_time": "2022-11-04T21:56:48.091Z"
   },
   {
    "duration": 18,
    "start_time": "2022-11-04T21:56:48.124Z"
   },
   {
    "duration": 31,
    "start_time": "2022-11-04T21:56:48.145Z"
   },
   {
    "duration": 4,
    "start_time": "2022-11-04T21:56:48.177Z"
   },
   {
    "duration": 61,
    "start_time": "2022-11-04T21:56:48.183Z"
   },
   {
    "duration": 5,
    "start_time": "2022-11-04T21:56:48.248Z"
   },
   {
    "duration": 16,
    "start_time": "2022-11-04T21:56:48.256Z"
   },
   {
    "duration": 35,
    "start_time": "2022-11-04T21:56:48.274Z"
   },
   {
    "duration": 3,
    "start_time": "2022-11-04T21:56:48.311Z"
   },
   {
    "duration": 81,
    "start_time": "2022-11-04T21:56:48.316Z"
   },
   {
    "duration": 100,
    "start_time": "2022-11-04T21:56:48.398Z"
   },
   {
    "duration": 204,
    "start_time": "2022-11-04T21:56:48.499Z"
   },
   {
    "duration": 3,
    "start_time": "2022-11-04T22:08:43.120Z"
   },
   {
    "duration": 729,
    "start_time": "2022-11-04T22:08:43.623Z"
   },
   {
    "duration": 133,
    "start_time": "2022-11-04T22:09:24.794Z"
   },
   {
    "duration": 4,
    "start_time": "2022-11-04T22:09:31.264Z"
   },
   {
    "duration": 84,
    "start_time": "2022-11-04T22:09:40.738Z"
   },
   {
    "duration": 382,
    "start_time": "2022-11-04T22:11:28.977Z"
   },
   {
    "duration": 829,
    "start_time": "2022-11-04T22:11:29.361Z"
   },
   {
    "duration": 4,
    "start_time": "2022-11-04T22:11:30.192Z"
   },
   {
    "duration": 1251,
    "start_time": "2022-11-04T22:11:30.198Z"
   },
   {
    "duration": 959,
    "start_time": "2022-11-04T22:11:31.451Z"
   },
   {
    "duration": 4,
    "start_time": "2022-11-04T22:11:32.411Z"
   },
   {
    "duration": 56,
    "start_time": "2022-11-04T22:11:32.417Z"
   },
   {
    "duration": 3,
    "start_time": "2022-11-04T22:11:32.475Z"
   },
   {
    "duration": 426,
    "start_time": "2022-11-04T22:11:32.480Z"
   },
   {
    "duration": 38,
    "start_time": "2022-11-04T22:11:32.908Z"
   },
   {
    "duration": 29,
    "start_time": "2022-11-04T22:11:32.947Z"
   },
   {
    "duration": 3,
    "start_time": "2022-11-04T22:11:32.978Z"
   },
   {
    "duration": 26,
    "start_time": "2022-11-04T22:11:32.982Z"
   },
   {
    "duration": 5,
    "start_time": "2022-11-04T22:11:33.010Z"
   },
   {
    "duration": 52,
    "start_time": "2022-11-04T22:11:33.017Z"
   },
   {
    "duration": 4,
    "start_time": "2022-11-04T22:11:33.071Z"
   },
   {
    "duration": 6,
    "start_time": "2022-11-04T22:11:33.076Z"
   },
   {
    "duration": 36,
    "start_time": "2022-11-04T22:11:33.084Z"
   },
   {
    "duration": 21,
    "start_time": "2022-11-04T22:11:33.121Z"
   },
   {
    "duration": 53,
    "start_time": "2022-11-04T22:11:33.144Z"
   },
   {
    "duration": 98,
    "start_time": "2022-11-04T22:11:33.199Z"
   },
   {
    "duration": 5,
    "start_time": "2022-11-04T22:11:33.298Z"
   },
   {
    "duration": 158,
    "start_time": "2022-11-04T22:11:33.305Z"
   },
   {
    "duration": 88,
    "start_time": "2022-11-04T22:11:33.465Z"
   },
   {
    "duration": 12,
    "start_time": "2022-11-04T22:11:46.453Z"
   },
   {
    "duration": 4,
    "start_time": "2022-11-04T22:20:45.729Z"
   },
   {
    "duration": 365,
    "start_time": "2022-11-05T13:24:54.439Z"
   },
   {
    "duration": 2843,
    "start_time": "2022-11-05T13:24:54.805Z"
   },
   {
    "duration": 4,
    "start_time": "2022-11-05T13:24:57.650Z"
   },
   {
    "duration": 1152,
    "start_time": "2022-11-05T13:24:57.655Z"
   },
   {
    "duration": 1222,
    "start_time": "2022-11-05T13:24:58.809Z"
   },
   {
    "duration": 3,
    "start_time": "2022-11-05T13:25:00.033Z"
   },
   {
    "duration": 88,
    "start_time": "2022-11-05T13:25:00.038Z"
   },
   {
    "duration": 4,
    "start_time": "2022-11-05T13:25:00.128Z"
   },
   {
    "duration": 791,
    "start_time": "2022-11-05T13:25:00.133Z"
   },
   {
    "duration": 33,
    "start_time": "2022-11-05T13:25:00.926Z"
   },
   {
    "duration": 4,
    "start_time": "2022-11-05T13:25:00.960Z"
   },
   {
    "duration": 48,
    "start_time": "2022-11-05T13:25:00.966Z"
   },
   {
    "duration": 18,
    "start_time": "2022-11-05T13:25:01.016Z"
   },
   {
    "duration": 71,
    "start_time": "2022-11-05T13:25:01.036Z"
   },
   {
    "duration": 13,
    "start_time": "2022-11-05T13:25:01.109Z"
   },
   {
    "duration": 24,
    "start_time": "2022-11-05T13:25:01.124Z"
   },
   {
    "duration": 58,
    "start_time": "2022-11-05T13:25:01.149Z"
   },
   {
    "duration": 9,
    "start_time": "2022-11-05T13:25:01.209Z"
   },
   {
    "duration": 75,
    "start_time": "2022-11-05T13:25:01.220Z"
   },
   {
    "duration": 66,
    "start_time": "2022-11-05T13:25:01.297Z"
   },
   {
    "duration": 21,
    "start_time": "2022-11-05T13:25:01.365Z"
   },
   {
    "duration": 137,
    "start_time": "2022-11-05T13:25:01.387Z"
   },
   {
    "duration": 71,
    "start_time": "2022-11-05T13:25:01.526Z"
   },
   {
    "duration": 7,
    "start_time": "2022-11-05T13:27:11.040Z"
   },
   {
    "duration": 3,
    "start_time": "2022-11-05T13:27:54.690Z"
   },
   {
    "duration": 13,
    "start_time": "2022-11-05T13:27:55.429Z"
   },
   {
    "duration": 13,
    "start_time": "2022-11-05T13:31:42.291Z"
   },
   {
    "duration": 3,
    "start_time": "2022-11-05T13:31:53.945Z"
   },
   {
    "duration": 8,
    "start_time": "2022-11-05T13:31:55.576Z"
   },
   {
    "duration": 63,
    "start_time": "2022-11-05T13:37:12.172Z"
   },
   {
    "duration": 428,
    "start_time": "2022-11-05T13:37:16.472Z"
   },
   {
    "duration": 813,
    "start_time": "2022-11-05T13:37:45.829Z"
   },
   {
    "duration": 657,
    "start_time": "2022-11-05T13:37:46.643Z"
   },
   {
    "duration": 4,
    "start_time": "2022-11-05T13:37:47.302Z"
   },
   {
    "duration": 1028,
    "start_time": "2022-11-05T13:37:47.308Z"
   },
   {
    "duration": 739,
    "start_time": "2022-11-05T13:37:48.337Z"
   },
   {
    "duration": 4,
    "start_time": "2022-11-05T13:37:49.077Z"
   },
   {
    "duration": 40,
    "start_time": "2022-11-05T13:37:49.082Z"
   },
   {
    "duration": 3,
    "start_time": "2022-11-05T13:37:49.123Z"
   },
   {
    "duration": 379,
    "start_time": "2022-11-05T13:37:49.128Z"
   },
   {
    "duration": 36,
    "start_time": "2022-11-05T13:37:49.509Z"
   },
   {
    "duration": 3,
    "start_time": "2022-11-05T13:37:49.546Z"
   },
   {
    "duration": 23,
    "start_time": "2022-11-05T13:37:49.550Z"
   },
   {
    "duration": 3,
    "start_time": "2022-11-05T13:37:49.575Z"
   },
   {
    "duration": 31,
    "start_time": "2022-11-05T13:37:49.580Z"
   },
   {
    "duration": 4,
    "start_time": "2022-11-05T13:37:49.622Z"
   },
   {
    "duration": 5,
    "start_time": "2022-11-05T13:37:49.628Z"
   },
   {
    "duration": 13,
    "start_time": "2022-11-05T13:37:49.634Z"
   },
   {
    "duration": 8,
    "start_time": "2022-11-05T13:37:49.648Z"
   },
   {
    "duration": 10,
    "start_time": "2022-11-05T13:37:49.657Z"
   },
   {
    "duration": 56,
    "start_time": "2022-11-05T13:37:49.668Z"
   },
   {
    "duration": 3,
    "start_time": "2022-11-05T13:37:49.726Z"
   },
   {
    "duration": 45,
    "start_time": "2022-11-05T13:37:49.731Z"
   },
   {
    "duration": 69,
    "start_time": "2022-11-05T13:37:49.777Z"
   },
   {
    "duration": 3,
    "start_time": "2022-11-05T13:37:49.847Z"
   },
   {
    "duration": 114,
    "start_time": "2022-11-05T13:37:49.852Z"
   },
   {
    "duration": 60,
    "start_time": "2022-11-05T13:37:49.968Z"
   },
   {
    "duration": 8,
    "start_time": "2022-11-05T13:38:14.737Z"
   },
   {
    "duration": 7,
    "start_time": "2022-11-05T13:38:20.656Z"
   },
   {
    "duration": 8,
    "start_time": "2022-11-05T13:38:23.725Z"
   },
   {
    "duration": 8,
    "start_time": "2022-11-05T13:38:32.068Z"
   },
   {
    "duration": 7,
    "start_time": "2022-11-05T13:38:38.820Z"
   },
   {
    "duration": 8,
    "start_time": "2022-11-05T13:39:17.101Z"
   },
   {
    "duration": 848,
    "start_time": "2022-11-05T13:39:22.596Z"
   },
   {
    "duration": 717,
    "start_time": "2022-11-05T13:39:23.447Z"
   },
   {
    "duration": 4,
    "start_time": "2022-11-05T13:39:24.165Z"
   },
   {
    "duration": 1026,
    "start_time": "2022-11-05T13:39:24.171Z"
   },
   {
    "duration": 749,
    "start_time": "2022-11-05T13:39:25.198Z"
   },
   {
    "duration": 3,
    "start_time": "2022-11-05T13:39:25.949Z"
   },
   {
    "duration": 35,
    "start_time": "2022-11-05T13:39:25.953Z"
   },
   {
    "duration": 5,
    "start_time": "2022-11-05T13:39:25.990Z"
   },
   {
    "duration": 436,
    "start_time": "2022-11-05T13:39:25.997Z"
   },
   {
    "duration": 31,
    "start_time": "2022-11-05T13:39:26.435Z"
   },
   {
    "duration": 3,
    "start_time": "2022-11-05T13:39:26.468Z"
   },
   {
    "duration": 27,
    "start_time": "2022-11-05T13:39:26.472Z"
   },
   {
    "duration": 3,
    "start_time": "2022-11-05T13:39:26.501Z"
   },
   {
    "duration": 48,
    "start_time": "2022-11-05T13:39:26.506Z"
   },
   {
    "duration": 5,
    "start_time": "2022-11-05T13:39:26.555Z"
   },
   {
    "duration": 8,
    "start_time": "2022-11-05T13:39:26.561Z"
   },
   {
    "duration": 10,
    "start_time": "2022-11-05T13:39:26.570Z"
   },
   {
    "duration": 8,
    "start_time": "2022-11-05T13:39:26.582Z"
   },
   {
    "duration": 8,
    "start_time": "2022-11-05T13:39:26.591Z"
   },
   {
    "duration": 30,
    "start_time": "2022-11-05T13:39:26.621Z"
   },
   {
    "duration": 3,
    "start_time": "2022-11-05T13:39:26.653Z"
   },
   {
    "duration": 48,
    "start_time": "2022-11-05T13:39:26.658Z"
   },
   {
    "duration": 56,
    "start_time": "2022-11-05T13:39:26.721Z"
   },
   {
    "duration": 3,
    "start_time": "2022-11-05T13:39:26.779Z"
   },
   {
    "duration": 117,
    "start_time": "2022-11-05T13:39:26.783Z"
   },
   {
    "duration": 57,
    "start_time": "2022-11-05T13:39:26.902Z"
   },
   {
    "duration": 769,
    "start_time": "2022-11-05T13:39:53.154Z"
   },
   {
    "duration": 695,
    "start_time": "2022-11-05T13:39:53.925Z"
   },
   {
    "duration": 4,
    "start_time": "2022-11-05T13:39:54.622Z"
   },
   {
    "duration": 1059,
    "start_time": "2022-11-05T13:39:54.627Z"
   },
   {
    "duration": 857,
    "start_time": "2022-11-05T13:39:55.688Z"
   },
   {
    "duration": 4,
    "start_time": "2022-11-05T13:39:56.547Z"
   },
   {
    "duration": 40,
    "start_time": "2022-11-05T13:39:56.552Z"
   },
   {
    "duration": 4,
    "start_time": "2022-11-05T13:39:56.593Z"
   },
   {
    "duration": 396,
    "start_time": "2022-11-05T13:39:56.598Z"
   },
   {
    "duration": 36,
    "start_time": "2022-11-05T13:39:56.996Z"
   },
   {
    "duration": 3,
    "start_time": "2022-11-05T13:39:57.034Z"
   },
   {
    "duration": 24,
    "start_time": "2022-11-05T13:39:57.039Z"
   },
   {
    "duration": 3,
    "start_time": "2022-11-05T13:39:57.065Z"
   },
   {
    "duration": 32,
    "start_time": "2022-11-05T13:39:57.069Z"
   },
   {
    "duration": 3,
    "start_time": "2022-11-05T13:39:57.102Z"
   },
   {
    "duration": 15,
    "start_time": "2022-11-05T13:39:57.107Z"
   },
   {
    "duration": 33,
    "start_time": "2022-11-05T13:39:57.124Z"
   },
   {
    "duration": 4,
    "start_time": "2022-11-05T13:39:57.158Z"
   },
   {
    "duration": 60,
    "start_time": "2022-11-05T13:39:57.163Z"
   },
   {
    "duration": 56,
    "start_time": "2022-11-05T13:39:57.224Z"
   },
   {
    "duration": 3,
    "start_time": "2022-11-05T13:39:57.281Z"
   },
   {
    "duration": 121,
    "start_time": "2022-11-05T13:39:57.286Z"
   },
   {
    "duration": 61,
    "start_time": "2022-11-05T13:39:57.408Z"
   },
   {
    "duration": 756,
    "start_time": "2022-11-05T13:40:26.170Z"
   },
   {
    "duration": 687,
    "start_time": "2022-11-05T13:40:26.928Z"
   },
   {
    "duration": 6,
    "start_time": "2022-11-05T13:40:27.617Z"
   },
   {
    "duration": 1037,
    "start_time": "2022-11-05T13:40:27.624Z"
   },
   {
    "duration": 793,
    "start_time": "2022-11-05T13:40:28.662Z"
   },
   {
    "duration": 3,
    "start_time": "2022-11-05T13:40:29.457Z"
   },
   {
    "duration": 34,
    "start_time": "2022-11-05T13:40:29.461Z"
   },
   {
    "duration": 3,
    "start_time": "2022-11-05T13:40:29.496Z"
   },
   {
    "duration": 389,
    "start_time": "2022-11-05T13:40:29.500Z"
   },
   {
    "duration": 34,
    "start_time": "2022-11-05T13:40:29.892Z"
   },
   {
    "duration": 3,
    "start_time": "2022-11-05T13:40:29.928Z"
   },
   {
    "duration": 26,
    "start_time": "2022-11-05T13:40:29.932Z"
   },
   {
    "duration": 4,
    "start_time": "2022-11-05T13:40:29.959Z"
   },
   {
    "duration": 31,
    "start_time": "2022-11-05T13:40:29.964Z"
   },
   {
    "duration": 4,
    "start_time": "2022-11-05T13:40:29.996Z"
   },
   {
    "duration": 2,
    "start_time": "2022-11-05T13:40:30.022Z"
   },
   {
    "duration": 44,
    "start_time": "2022-11-05T13:40:30.026Z"
   },
   {
    "duration": 4,
    "start_time": "2022-11-05T13:40:30.072Z"
   },
   {
    "duration": 55,
    "start_time": "2022-11-05T13:40:30.078Z"
   },
   {
    "duration": 61,
    "start_time": "2022-11-05T13:40:30.135Z"
   },
   {
    "duration": 3,
    "start_time": "2022-11-05T13:40:30.197Z"
   },
   {
    "duration": 132,
    "start_time": "2022-11-05T13:40:30.201Z"
   },
   {
    "duration": 62,
    "start_time": "2022-11-05T13:40:30.335Z"
   },
   {
    "duration": 654,
    "start_time": "2022-11-05T13:47:36.394Z"
   },
   {
    "duration": 34,
    "start_time": "2022-11-05T13:47:39.986Z"
   },
   {
    "duration": 669,
    "start_time": "2022-11-05T13:48:33.995Z"
   },
   {
    "duration": 32,
    "start_time": "2022-11-05T13:48:35.827Z"
   },
   {
    "duration": 41,
    "start_time": "2022-11-05T14:10:12.209Z"
   },
   {
    "duration": 1016,
    "start_time": "2022-11-05T14:10:15.915Z"
   },
   {
    "duration": 666,
    "start_time": "2022-11-05T14:10:16.933Z"
   },
   {
    "duration": 5,
    "start_time": "2022-11-05T14:10:17.600Z"
   },
   {
    "duration": 1039,
    "start_time": "2022-11-05T14:10:17.607Z"
   },
   {
    "duration": 779,
    "start_time": "2022-11-05T14:10:18.648Z"
   },
   {
    "duration": 4,
    "start_time": "2022-11-05T14:10:19.428Z"
   },
   {
    "duration": 35,
    "start_time": "2022-11-05T14:10:19.434Z"
   },
   {
    "duration": 4,
    "start_time": "2022-11-05T14:10:19.471Z"
   },
   {
    "duration": 397,
    "start_time": "2022-11-05T14:10:19.477Z"
   },
   {
    "duration": 29,
    "start_time": "2022-11-05T14:10:19.877Z"
   },
   {
    "duration": 4,
    "start_time": "2022-11-05T14:10:19.921Z"
   },
   {
    "duration": 28,
    "start_time": "2022-11-05T14:10:19.926Z"
   },
   {
    "duration": 4,
    "start_time": "2022-11-05T14:10:19.956Z"
   },
   {
    "duration": 36,
    "start_time": "2022-11-05T14:10:19.962Z"
   },
   {
    "duration": 4,
    "start_time": "2022-11-05T14:10:19.999Z"
   },
   {
    "duration": 21,
    "start_time": "2022-11-05T14:10:20.004Z"
   },
   {
    "duration": 33,
    "start_time": "2022-11-05T14:10:20.026Z"
   },
   {
    "duration": 4,
    "start_time": "2022-11-05T14:10:20.061Z"
   },
   {
    "duration": 56,
    "start_time": "2022-11-05T14:10:20.066Z"
   },
   {
    "duration": 63,
    "start_time": "2022-11-05T14:10:20.124Z"
   },
   {
    "duration": 4,
    "start_time": "2022-11-05T14:10:20.189Z"
   },
   {
    "duration": 130,
    "start_time": "2022-11-05T14:10:20.194Z"
   },
   {
    "duration": 62,
    "start_time": "2022-11-05T14:10:20.326Z"
   },
   {
    "duration": 700,
    "start_time": "2022-11-05T14:10:20.390Z"
   },
   {
    "duration": 123,
    "start_time": "2022-11-05T14:10:21.091Z"
   },
   {
    "duration": 74,
    "start_time": "2022-11-05T14:10:25.030Z"
   },
   {
    "duration": 284,
    "start_time": "2022-11-05T14:11:20.440Z"
   },
   {
    "duration": 32,
    "start_time": "2022-11-05T14:32:41.771Z"
   },
   {
    "duration": 12,
    "start_time": "2022-11-05T14:32:44.662Z"
   },
   {
    "duration": 10,
    "start_time": "2022-11-05T14:32:54.127Z"
   },
   {
    "duration": 661,
    "start_time": "2022-11-05T14:34:17.715Z"
   },
   {
    "duration": 13,
    "start_time": "2022-11-05T14:34:23.710Z"
   },
   {
    "duration": 639,
    "start_time": "2022-11-05T14:34:35.546Z"
   },
   {
    "duration": 13,
    "start_time": "2022-11-05T14:34:36.773Z"
   },
   {
    "duration": 17,
    "start_time": "2022-11-05T14:40:07.639Z"
   },
   {
    "duration": 4,
    "start_time": "2022-11-05T14:40:27.894Z"
   },
   {
    "duration": 13,
    "start_time": "2022-11-05T14:40:35.331Z"
   },
   {
    "duration": 17,
    "start_time": "2022-11-05T14:41:07.514Z"
   },
   {
    "duration": 96,
    "start_time": "2022-11-05T14:41:46.882Z"
   },
   {
    "duration": 1068,
    "start_time": "2022-11-05T14:42:01.745Z"
   },
   {
    "duration": 89,
    "start_time": "2022-11-05T14:42:02.815Z"
   },
   {
    "duration": 16,
    "start_time": "2022-11-05T14:42:04.458Z"
   },
   {
    "duration": 98,
    "start_time": "2022-11-05T14:42:05.154Z"
   },
   {
    "duration": 50,
    "start_time": "2022-11-05T14:42:41.695Z"
   },
   {
    "duration": 1377,
    "start_time": "2022-11-05T14:43:44.796Z"
   },
   {
    "duration": 705,
    "start_time": "2022-11-05T14:43:46.178Z"
   },
   {
    "duration": 4,
    "start_time": "2022-11-05T14:43:46.884Z"
   },
   {
    "duration": 947,
    "start_time": "2022-11-05T14:43:46.889Z"
   },
   {
    "duration": 809,
    "start_time": "2022-11-05T14:43:47.838Z"
   },
   {
    "duration": 3,
    "start_time": "2022-11-05T14:43:48.648Z"
   },
   {
    "duration": 37,
    "start_time": "2022-11-05T14:43:48.653Z"
   },
   {
    "duration": 3,
    "start_time": "2022-11-05T14:43:48.692Z"
   },
   {
    "duration": 406,
    "start_time": "2022-11-05T14:43:48.697Z"
   },
   {
    "duration": 35,
    "start_time": "2022-11-05T14:43:49.105Z"
   },
   {
    "duration": 4,
    "start_time": "2022-11-05T14:43:49.141Z"
   },
   {
    "duration": 22,
    "start_time": "2022-11-05T14:43:49.146Z"
   },
   {
    "duration": 4,
    "start_time": "2022-11-05T14:43:49.169Z"
   },
   {
    "duration": 57,
    "start_time": "2022-11-05T14:43:49.176Z"
   },
   {
    "duration": 3,
    "start_time": "2022-11-05T14:43:49.235Z"
   },
   {
    "duration": 5,
    "start_time": "2022-11-05T14:43:49.239Z"
   },
   {
    "duration": 34,
    "start_time": "2022-11-05T14:43:49.245Z"
   },
   {
    "duration": 3,
    "start_time": "2022-11-05T14:43:49.280Z"
   },
   {
    "duration": 78,
    "start_time": "2022-11-05T14:43:49.285Z"
   },
   {
    "duration": 69,
    "start_time": "2022-11-05T14:43:49.365Z"
   },
   {
    "duration": 7,
    "start_time": "2022-11-05T14:43:49.435Z"
   },
   {
    "duration": 119,
    "start_time": "2022-11-05T14:43:49.444Z"
   },
   {
    "duration": 65,
    "start_time": "2022-11-05T14:43:49.565Z"
   },
   {
    "duration": 637,
    "start_time": "2022-11-05T14:43:49.632Z"
   },
   {
    "duration": 499,
    "start_time": "2022-11-05T14:43:50.271Z"
   },
   {
    "duration": 17,
    "start_time": "2022-11-05T14:43:50.772Z"
   },
   {
    "duration": 108,
    "start_time": "2022-11-05T14:43:50.791Z"
   },
   {
    "duration": 53,
    "start_time": "2022-11-05T14:43:50.900Z"
   },
   {
    "duration": 106,
    "start_time": "2022-11-05T14:43:50.955Z"
   },
   {
    "duration": 79,
    "start_time": "2022-11-05T15:00:58.050Z"
   },
   {
    "duration": 89,
    "start_time": "2022-11-05T15:02:29.230Z"
   },
   {
    "duration": 48,
    "start_time": "2022-11-05T15:04:57.023Z"
   },
   {
    "duration": 1365,
    "start_time": "2022-11-05T15:05:03.093Z"
   },
   {
    "duration": 724,
    "start_time": "2022-11-05T15:05:04.459Z"
   },
   {
    "duration": 3,
    "start_time": "2022-11-05T15:05:05.185Z"
   },
   {
    "duration": 1208,
    "start_time": "2022-11-05T15:05:05.190Z"
   },
   {
    "duration": 817,
    "start_time": "2022-11-05T15:05:06.399Z"
   },
   {
    "duration": 6,
    "start_time": "2022-11-05T15:05:07.217Z"
   },
   {
    "duration": 42,
    "start_time": "2022-11-05T15:05:07.224Z"
   },
   {
    "duration": 3,
    "start_time": "2022-11-05T15:05:07.267Z"
   },
   {
    "duration": 405,
    "start_time": "2022-11-05T15:05:07.272Z"
   },
   {
    "duration": 29,
    "start_time": "2022-11-05T15:05:07.679Z"
   },
   {
    "duration": 14,
    "start_time": "2022-11-05T15:05:07.710Z"
   },
   {
    "duration": 38,
    "start_time": "2022-11-05T15:05:07.725Z"
   },
   {
    "duration": 4,
    "start_time": "2022-11-05T15:05:07.764Z"
   },
   {
    "duration": 36,
    "start_time": "2022-11-05T15:05:07.769Z"
   },
   {
    "duration": 4,
    "start_time": "2022-11-05T15:05:07.806Z"
   },
   {
    "duration": 10,
    "start_time": "2022-11-05T15:05:07.811Z"
   },
   {
    "duration": 41,
    "start_time": "2022-11-05T15:05:07.823Z"
   },
   {
    "duration": 4,
    "start_time": "2022-11-05T15:05:07.866Z"
   },
   {
    "duration": 59,
    "start_time": "2022-11-05T15:05:07.873Z"
   },
   {
    "duration": 65,
    "start_time": "2022-11-05T15:05:07.933Z"
   },
   {
    "duration": 3,
    "start_time": "2022-11-05T15:05:08.000Z"
   },
   {
    "duration": 133,
    "start_time": "2022-11-05T15:05:08.004Z"
   },
   {
    "duration": 60,
    "start_time": "2022-11-05T15:05:08.138Z"
   },
   {
    "duration": 695,
    "start_time": "2022-11-05T15:05:08.200Z"
   },
   {
    "duration": 525,
    "start_time": "2022-11-05T15:05:08.896Z"
   },
   {
    "duration": 20,
    "start_time": "2022-11-05T15:05:09.423Z"
   },
   {
    "duration": 127,
    "start_time": "2022-11-05T15:05:09.445Z"
   },
   {
    "duration": 53,
    "start_time": "2022-11-05T15:05:09.574Z"
   },
   {
    "duration": 5653,
    "start_time": "2022-11-05T15:05:09.628Z"
   },
   {
    "duration": 10,
    "start_time": "2022-11-05T15:05:15.283Z"
   },
   {
    "duration": 1216,
    "start_time": "2022-11-05T15:05:17.718Z"
   },
   {
    "duration": 717,
    "start_time": "2022-11-05T15:05:18.935Z"
   },
   {
    "duration": 4,
    "start_time": "2022-11-05T15:05:19.654Z"
   },
   {
    "duration": 973,
    "start_time": "2022-11-05T15:05:19.659Z"
   },
   {
    "duration": 986,
    "start_time": "2022-11-05T15:05:20.633Z"
   },
   {
    "duration": 3,
    "start_time": "2022-11-05T15:05:21.622Z"
   },
   {
    "duration": 44,
    "start_time": "2022-11-05T15:05:21.627Z"
   },
   {
    "duration": 4,
    "start_time": "2022-11-05T15:05:21.672Z"
   },
   {
    "duration": 425,
    "start_time": "2022-11-05T15:05:21.677Z"
   },
   {
    "duration": 41,
    "start_time": "2022-11-05T15:05:22.105Z"
   },
   {
    "duration": 4,
    "start_time": "2022-11-05T15:05:22.148Z"
   },
   {
    "duration": 25,
    "start_time": "2022-11-05T15:05:22.154Z"
   },
   {
    "duration": 4,
    "start_time": "2022-11-05T15:05:22.181Z"
   },
   {
    "duration": 55,
    "start_time": "2022-11-05T15:05:22.186Z"
   },
   {
    "duration": 4,
    "start_time": "2022-11-05T15:05:22.243Z"
   },
   {
    "duration": 6,
    "start_time": "2022-11-05T15:05:22.249Z"
   },
   {
    "duration": 43,
    "start_time": "2022-11-05T15:05:22.256Z"
   },
   {
    "duration": 23,
    "start_time": "2022-11-05T15:05:22.301Z"
   },
   {
    "duration": 63,
    "start_time": "2022-11-05T15:05:22.326Z"
   },
   {
    "duration": 93,
    "start_time": "2022-11-05T15:05:22.391Z"
   },
   {
    "duration": 5,
    "start_time": "2022-11-05T15:05:22.486Z"
   },
   {
    "duration": 141,
    "start_time": "2022-11-05T15:05:22.493Z"
   },
   {
    "duration": 62,
    "start_time": "2022-11-05T15:05:22.636Z"
   },
   {
    "duration": 681,
    "start_time": "2022-11-05T15:05:22.699Z"
   },
   {
    "duration": 504,
    "start_time": "2022-11-05T15:05:23.382Z"
   },
   {
    "duration": 19,
    "start_time": "2022-11-05T15:05:23.889Z"
   },
   {
    "duration": 131,
    "start_time": "2022-11-05T15:05:23.909Z"
   },
   {
    "duration": 45,
    "start_time": "2022-11-05T15:05:24.043Z"
   },
   {
    "duration": 17148,
    "start_time": "2022-11-05T15:05:24.090Z"
   },
   {
    "duration": 112,
    "start_time": "2022-11-05T15:05:41.240Z"
   },
   {
    "duration": 3,
    "start_time": "2022-11-05T15:06:08.331Z"
   },
   {
    "duration": 151870,
    "start_time": "2022-11-05T15:09:28.005Z"
   },
   {
    "duration": 1169,
    "start_time": "2022-11-05T15:12:03.687Z"
   },
   {
    "duration": 724,
    "start_time": "2022-11-05T15:12:04.858Z"
   },
   {
    "duration": 4,
    "start_time": "2022-11-05T15:12:05.583Z"
   },
   {
    "duration": 1004,
    "start_time": "2022-11-05T15:12:05.589Z"
   },
   {
    "duration": 823,
    "start_time": "2022-11-05T15:12:06.594Z"
   },
   {
    "duration": 3,
    "start_time": "2022-11-05T15:12:07.419Z"
   },
   {
    "duration": 46,
    "start_time": "2022-11-05T15:12:07.424Z"
   },
   {
    "duration": 3,
    "start_time": "2022-11-05T15:12:07.472Z"
   },
   {
    "duration": 412,
    "start_time": "2022-11-05T15:12:07.476Z"
   },
   {
    "duration": 35,
    "start_time": "2022-11-05T15:12:07.891Z"
   },
   {
    "duration": 3,
    "start_time": "2022-11-05T15:12:07.928Z"
   },
   {
    "duration": 24,
    "start_time": "2022-11-05T15:12:07.932Z"
   },
   {
    "duration": 4,
    "start_time": "2022-11-05T15:12:07.958Z"
   },
   {
    "duration": 33,
    "start_time": "2022-11-05T15:12:07.963Z"
   },
   {
    "duration": 24,
    "start_time": "2022-11-05T15:12:07.998Z"
   },
   {
    "duration": 3,
    "start_time": "2022-11-05T15:12:08.024Z"
   },
   {
    "duration": 44,
    "start_time": "2022-11-05T15:12:08.029Z"
   },
   {
    "duration": 20,
    "start_time": "2022-11-05T15:12:08.075Z"
   },
   {
    "duration": 141,
    "start_time": "2022-11-05T15:12:08.097Z"
   },
   {
    "duration": 64,
    "start_time": "2022-11-05T15:12:08.240Z"
   },
   {
    "duration": 16,
    "start_time": "2022-11-05T15:12:08.306Z"
   },
   {
    "duration": 113,
    "start_time": "2022-11-05T15:12:08.323Z"
   },
   {
    "duration": 61,
    "start_time": "2022-11-05T15:12:08.437Z"
   },
   {
    "duration": 637,
    "start_time": "2022-11-05T15:12:08.500Z"
   },
   {
    "duration": 507,
    "start_time": "2022-11-05T15:12:09.138Z"
   },
   {
    "duration": 17,
    "start_time": "2022-11-05T15:12:09.646Z"
   },
   {
    "duration": 136,
    "start_time": "2022-11-05T15:12:09.665Z"
   },
   {
    "duration": 50,
    "start_time": "2022-11-05T15:12:09.804Z"
   },
   {
    "duration": 269995,
    "start_time": "2022-11-05T15:12:09.856Z"
   },
   {
    "duration": 17304,
    "start_time": "2022-11-05T15:16:39.852Z"
   },
   {
    "duration": 3,
    "start_time": "2022-11-05T15:16:57.158Z"
   },
   {
    "duration": 14,
    "start_time": "2022-11-05T15:16:57.163Z"
   },
   {
    "duration": 1195,
    "start_time": "2022-11-05T15:18:34.232Z"
   },
   {
    "duration": 748,
    "start_time": "2022-11-05T15:18:35.429Z"
   },
   {
    "duration": 5,
    "start_time": "2022-11-05T15:18:36.179Z"
   },
   {
    "duration": 983,
    "start_time": "2022-11-05T15:18:36.186Z"
   },
   {
    "duration": 897,
    "start_time": "2022-11-05T15:18:37.171Z"
   },
   {
    "duration": 3,
    "start_time": "2022-11-05T15:18:38.070Z"
   },
   {
    "duration": 47,
    "start_time": "2022-11-05T15:18:38.075Z"
   },
   {
    "duration": 4,
    "start_time": "2022-11-05T15:18:38.123Z"
   },
   {
    "duration": 406,
    "start_time": "2022-11-05T15:18:38.128Z"
   },
   {
    "duration": 28,
    "start_time": "2022-11-05T15:18:38.535Z"
   },
   {
    "duration": 3,
    "start_time": "2022-11-05T15:18:38.565Z"
   },
   {
    "duration": 22,
    "start_time": "2022-11-05T15:18:38.569Z"
   },
   {
    "duration": 3,
    "start_time": "2022-11-05T15:18:38.592Z"
   },
   {
    "duration": 51,
    "start_time": "2022-11-05T15:18:38.597Z"
   },
   {
    "duration": 5,
    "start_time": "2022-11-05T15:18:38.649Z"
   },
   {
    "duration": 5,
    "start_time": "2022-11-05T15:18:38.656Z"
   },
   {
    "duration": 36,
    "start_time": "2022-11-05T15:18:38.662Z"
   },
   {
    "duration": 4,
    "start_time": "2022-11-05T15:18:38.700Z"
   },
   {
    "duration": 45,
    "start_time": "2022-11-05T15:18:38.722Z"
   },
   {
    "duration": 82,
    "start_time": "2022-11-05T15:18:38.768Z"
   },
   {
    "duration": 4,
    "start_time": "2022-11-05T15:18:38.852Z"
   },
   {
    "duration": 129,
    "start_time": "2022-11-05T15:18:38.857Z"
   },
   {
    "duration": 64,
    "start_time": "2022-11-05T15:18:38.987Z"
   },
   {
    "duration": 698,
    "start_time": "2022-11-05T15:18:39.052Z"
   },
   {
    "duration": 510,
    "start_time": "2022-11-05T15:18:39.752Z"
   },
   {
    "duration": 19,
    "start_time": "2022-11-05T15:18:40.264Z"
   },
   {
    "duration": 125,
    "start_time": "2022-11-05T15:18:40.285Z"
   },
   {
    "duration": 57,
    "start_time": "2022-11-05T15:18:40.411Z"
   },
   {
    "duration": 3,
    "start_time": "2022-11-05T15:18:40.469Z"
   },
   {
    "duration": 263,
    "start_time": "2022-11-05T15:18:40.474Z"
   },
   {
    "duration": 16977,
    "start_time": "2022-11-05T15:18:40.738Z"
   },
   {
    "duration": 7,
    "start_time": "2022-11-05T15:18:57.716Z"
   },
   {
    "duration": 36,
    "start_time": "2022-11-05T15:18:57.725Z"
   },
   {
    "duration": 152,
    "start_time": "2022-11-05T15:20:58.219Z"
   },
   {
    "duration": 122958,
    "start_time": "2022-11-05T15:24:45.428Z"
   },
   {
    "duration": 1278,
    "start_time": "2022-11-05T15:26:51.490Z"
   },
   {
    "duration": 748,
    "start_time": "2022-11-05T15:26:52.770Z"
   },
   {
    "duration": 4,
    "start_time": "2022-11-05T15:26:53.521Z"
   },
   {
    "duration": 1010,
    "start_time": "2022-11-05T15:26:53.528Z"
   },
   {
    "duration": 908,
    "start_time": "2022-11-05T15:26:54.539Z"
   },
   {
    "duration": 4,
    "start_time": "2022-11-05T15:26:55.448Z"
   },
   {
    "duration": 42,
    "start_time": "2022-11-05T15:26:55.453Z"
   },
   {
    "duration": 4,
    "start_time": "2022-11-05T15:26:55.496Z"
   },
   {
    "duration": 421,
    "start_time": "2022-11-05T15:26:55.502Z"
   },
   {
    "duration": 29,
    "start_time": "2022-11-05T15:26:55.925Z"
   },
   {
    "duration": 4,
    "start_time": "2022-11-05T15:26:55.956Z"
   },
   {
    "duration": 22,
    "start_time": "2022-11-05T15:26:55.961Z"
   },
   {
    "duration": 3,
    "start_time": "2022-11-05T15:26:55.985Z"
   },
   {
    "duration": 61,
    "start_time": "2022-11-05T15:26:55.990Z"
   },
   {
    "duration": 5,
    "start_time": "2022-11-05T15:26:56.053Z"
   },
   {
    "duration": 8,
    "start_time": "2022-11-05T15:26:56.060Z"
   },
   {
    "duration": 52,
    "start_time": "2022-11-05T15:26:56.070Z"
   },
   {
    "duration": 5,
    "start_time": "2022-11-05T15:26:56.126Z"
   },
   {
    "duration": 66,
    "start_time": "2022-11-05T15:26:56.133Z"
   },
   {
    "duration": 84,
    "start_time": "2022-11-05T15:26:56.201Z"
   },
   {
    "duration": 5,
    "start_time": "2022-11-05T15:26:56.286Z"
   },
   {
    "duration": 130,
    "start_time": "2022-11-05T15:26:56.292Z"
   },
   {
    "duration": 61,
    "start_time": "2022-11-05T15:26:56.423Z"
   },
   {
    "duration": 707,
    "start_time": "2022-11-05T15:26:56.486Z"
   },
   {
    "duration": 518,
    "start_time": "2022-11-05T15:26:57.195Z"
   },
   {
    "duration": 25,
    "start_time": "2022-11-05T15:26:57.714Z"
   },
   {
    "duration": 125,
    "start_time": "2022-11-05T15:26:57.741Z"
   },
   {
    "duration": 56,
    "start_time": "2022-11-05T15:26:57.870Z"
   },
   {
    "duration": 4,
    "start_time": "2022-11-05T15:26:57.928Z"
   },
   {
    "duration": 68,
    "start_time": "2022-11-05T15:26:57.934Z"
   },
   {
    "duration": 0,
    "start_time": "2022-11-05T15:26:58.004Z"
   },
   {
    "duration": 0,
    "start_time": "2022-11-05T15:26:58.006Z"
   },
   {
    "duration": 0,
    "start_time": "2022-11-05T15:26:58.007Z"
   },
   {
    "duration": 0,
    "start_time": "2022-11-05T15:26:58.008Z"
   },
   {
    "duration": 22680,
    "start_time": "2022-11-05T15:27:19.479Z"
   },
   {
    "duration": 1273,
    "start_time": "2022-11-05T15:27:44.501Z"
   },
   {
    "duration": 793,
    "start_time": "2022-11-05T15:27:45.775Z"
   },
   {
    "duration": 4,
    "start_time": "2022-11-05T15:27:46.570Z"
   },
   {
    "duration": 1028,
    "start_time": "2022-11-05T15:27:46.576Z"
   },
   {
    "duration": 890,
    "start_time": "2022-11-05T15:27:47.605Z"
   },
   {
    "duration": 4,
    "start_time": "2022-11-05T15:27:48.497Z"
   },
   {
    "duration": 45,
    "start_time": "2022-11-05T15:27:48.503Z"
   },
   {
    "duration": 4,
    "start_time": "2022-11-05T15:27:48.550Z"
   },
   {
    "duration": 412,
    "start_time": "2022-11-05T15:27:48.555Z"
   },
   {
    "duration": 29,
    "start_time": "2022-11-05T15:27:48.970Z"
   },
   {
    "duration": 3,
    "start_time": "2022-11-05T15:27:49.001Z"
   },
   {
    "duration": 35,
    "start_time": "2022-11-05T15:27:49.006Z"
   },
   {
    "duration": 5,
    "start_time": "2022-11-05T15:27:49.043Z"
   },
   {
    "duration": 32,
    "start_time": "2022-11-05T15:27:49.050Z"
   },
   {
    "duration": 4,
    "start_time": "2022-11-05T15:27:49.084Z"
   },
   {
    "duration": 5,
    "start_time": "2022-11-05T15:27:49.090Z"
   },
   {
    "duration": 32,
    "start_time": "2022-11-05T15:27:49.122Z"
   },
   {
    "duration": 3,
    "start_time": "2022-11-05T15:27:49.156Z"
   },
   {
    "duration": 61,
    "start_time": "2022-11-05T15:27:49.161Z"
   },
   {
    "duration": 63,
    "start_time": "2022-11-05T15:27:49.224Z"
   },
   {
    "duration": 4,
    "start_time": "2022-11-05T15:27:49.289Z"
   },
   {
    "duration": 150,
    "start_time": "2022-11-05T15:27:49.294Z"
   },
   {
    "duration": 84,
    "start_time": "2022-11-05T15:27:49.445Z"
   },
   {
    "duration": 742,
    "start_time": "2022-11-05T15:27:49.532Z"
   },
   {
    "duration": 517,
    "start_time": "2022-11-05T15:27:50.276Z"
   },
   {
    "duration": 27,
    "start_time": "2022-11-05T15:27:50.795Z"
   },
   {
    "duration": 118,
    "start_time": "2022-11-05T15:27:50.824Z"
   },
   {
    "duration": 54,
    "start_time": "2022-11-05T15:27:50.945Z"
   },
   {
    "duration": 3,
    "start_time": "2022-11-05T15:27:51.001Z"
   },
   {
    "duration": 1256,
    "start_time": "2022-11-05T15:30:27.115Z"
   },
   {
    "duration": 728,
    "start_time": "2022-11-05T15:30:28.372Z"
   },
   {
    "duration": 5,
    "start_time": "2022-11-05T15:30:29.102Z"
   },
   {
    "duration": 990,
    "start_time": "2022-11-05T15:30:29.109Z"
   },
   {
    "duration": 945,
    "start_time": "2022-11-05T15:30:30.101Z"
   },
   {
    "duration": 6,
    "start_time": "2022-11-05T15:30:31.048Z"
   },
   {
    "duration": 61,
    "start_time": "2022-11-05T15:30:31.056Z"
   },
   {
    "duration": 6,
    "start_time": "2022-11-05T15:30:31.118Z"
   },
   {
    "duration": 441,
    "start_time": "2022-11-05T15:30:31.126Z"
   },
   {
    "duration": 36,
    "start_time": "2022-11-05T15:30:31.570Z"
   },
   {
    "duration": 4,
    "start_time": "2022-11-05T15:30:31.622Z"
   },
   {
    "duration": 32,
    "start_time": "2022-11-05T15:30:31.627Z"
   },
   {
    "duration": 4,
    "start_time": "2022-11-05T15:30:31.660Z"
   },
   {
    "duration": 76,
    "start_time": "2022-11-05T15:30:31.666Z"
   },
   {
    "duration": 38,
    "start_time": "2022-11-05T15:30:31.744Z"
   },
   {
    "duration": 36,
    "start_time": "2022-11-05T15:30:31.784Z"
   },
   {
    "duration": 49,
    "start_time": "2022-11-05T15:30:31.821Z"
   },
   {
    "duration": 4,
    "start_time": "2022-11-05T15:30:31.872Z"
   },
   {
    "duration": 66,
    "start_time": "2022-11-05T15:30:31.877Z"
   },
   {
    "duration": 81,
    "start_time": "2022-11-05T15:30:31.945Z"
   },
   {
    "duration": 4,
    "start_time": "2022-11-05T15:30:32.027Z"
   },
   {
    "duration": 138,
    "start_time": "2022-11-05T15:30:32.032Z"
   },
   {
    "duration": 71,
    "start_time": "2022-11-05T15:30:32.172Z"
   },
   {
    "duration": 780,
    "start_time": "2022-11-05T15:30:32.245Z"
   },
   {
    "duration": 598,
    "start_time": "2022-11-05T15:30:33.027Z"
   },
   {
    "duration": 21,
    "start_time": "2022-11-05T15:30:33.626Z"
   },
   {
    "duration": 135,
    "start_time": "2022-11-05T15:30:33.648Z"
   },
   {
    "duration": 62,
    "start_time": "2022-11-05T15:30:33.785Z"
   },
   {
    "duration": 3,
    "start_time": "2022-11-05T15:30:33.849Z"
   },
   {
    "duration": 170043,
    "start_time": "2022-11-05T15:30:33.854Z"
   },
   {
    "duration": 668,
    "start_time": "2022-11-05T15:33:23.899Z"
   },
   {
    "duration": 13,
    "start_time": "2022-11-05T15:33:24.569Z"
   },
   {
    "duration": 0,
    "start_time": "2022-11-05T15:33:24.583Z"
   },
   {
    "duration": 0,
    "start_time": "2022-11-05T15:33:24.585Z"
   },
   {
    "duration": 0,
    "start_time": "2022-11-05T15:33:24.587Z"
   },
   {
    "duration": 415,
    "start_time": "2022-11-05T15:34:38.346Z"
   },
   {
    "duration": 412,
    "start_time": "2022-11-05T15:34:47.538Z"
   },
   {
    "duration": 17,
    "start_time": "2022-11-05T16:00:30.430Z"
   },
   {
    "duration": 0,
    "start_time": "2022-11-05T16:00:30.448Z"
   },
   {
    "duration": 0,
    "start_time": "2022-11-05T16:00:30.450Z"
   },
   {
    "duration": 122,
    "start_time": "2022-11-05T16:02:32.919Z"
   },
   {
    "duration": 36,
    "start_time": "2022-11-05T16:02:34.549Z"
   },
   {
    "duration": 108,
    "start_time": "2022-11-05T16:02:37.914Z"
   },
   {
    "duration": 127,
    "start_time": "2022-11-05T16:04:44.516Z"
   },
   {
    "duration": 35,
    "start_time": "2022-11-05T16:04:45.233Z"
   },
   {
    "duration": 113,
    "start_time": "2022-11-05T16:04:48.867Z"
   },
   {
    "duration": 43,
    "start_time": "2022-11-05T16:05:21.157Z"
   },
   {
    "duration": 74,
    "start_time": "2022-11-05T16:06:40.032Z"
   },
   {
    "duration": 119,
    "start_time": "2022-11-05T16:06:41.514Z"
   },
   {
    "duration": 47,
    "start_time": "2022-11-05T16:06:51.294Z"
   },
   {
    "duration": 201887,
    "start_time": "2022-11-05T16:06:52.689Z"
   },
   {
    "duration": 83,
    "start_time": "2022-11-05T16:10:14.578Z"
   },
   {
    "duration": 1250,
    "start_time": "2022-11-05T16:10:21.246Z"
   },
   {
    "duration": 723,
    "start_time": "2022-11-05T16:10:22.498Z"
   },
   {
    "duration": 4,
    "start_time": "2022-11-05T16:10:23.223Z"
   },
   {
    "duration": 1015,
    "start_time": "2022-11-05T16:10:23.237Z"
   },
   {
    "duration": 883,
    "start_time": "2022-11-05T16:10:24.254Z"
   },
   {
    "duration": 5,
    "start_time": "2022-11-05T16:10:25.139Z"
   },
   {
    "duration": 37,
    "start_time": "2022-11-05T16:10:25.145Z"
   },
   {
    "duration": 4,
    "start_time": "2022-11-05T16:10:25.183Z"
   },
   {
    "duration": 419,
    "start_time": "2022-11-05T16:10:25.188Z"
   },
   {
    "duration": 39,
    "start_time": "2022-11-05T16:10:25.609Z"
   },
   {
    "duration": 3,
    "start_time": "2022-11-05T16:10:25.650Z"
   },
   {
    "duration": 22,
    "start_time": "2022-11-05T16:10:25.655Z"
   },
   {
    "duration": 3,
    "start_time": "2022-11-05T16:10:25.679Z"
   },
   {
    "duration": 64,
    "start_time": "2022-11-05T16:10:25.684Z"
   },
   {
    "duration": 3,
    "start_time": "2022-11-05T16:10:25.749Z"
   },
   {
    "duration": 6,
    "start_time": "2022-11-05T16:10:25.754Z"
   },
   {
    "duration": 34,
    "start_time": "2022-11-05T16:10:25.762Z"
   },
   {
    "duration": 33,
    "start_time": "2022-11-05T16:10:25.798Z"
   },
   {
    "duration": 55,
    "start_time": "2022-11-05T16:10:25.836Z"
   },
   {
    "duration": 74,
    "start_time": "2022-11-05T16:10:25.892Z"
   },
   {
    "duration": 3,
    "start_time": "2022-11-05T16:10:25.967Z"
   },
   {
    "duration": 166,
    "start_time": "2022-11-05T16:10:25.972Z"
   },
   {
    "duration": 70,
    "start_time": "2022-11-05T16:10:26.140Z"
   },
   {
    "duration": 716,
    "start_time": "2022-11-05T16:10:26.212Z"
   },
   {
    "duration": 505,
    "start_time": "2022-11-05T16:10:26.933Z"
   },
   {
    "duration": 21,
    "start_time": "2022-11-05T16:10:27.440Z"
   },
   {
    "duration": 122,
    "start_time": "2022-11-05T16:10:27.463Z"
   },
   {
    "duration": 56,
    "start_time": "2022-11-05T16:10:27.588Z"
   },
   {
    "duration": 3,
    "start_time": "2022-11-05T16:10:27.646Z"
   },
   {
    "duration": 49853,
    "start_time": "2022-11-05T16:10:27.650Z"
   },
   {
    "duration": 85,
    "start_time": "2022-11-05T16:11:17.505Z"
   },
   {
    "duration": 115,
    "start_time": "2022-11-05T16:11:17.591Z"
   },
   {
    "duration": 48,
    "start_time": "2022-11-05T16:11:17.708Z"
   },
   {
    "duration": 1264,
    "start_time": "2022-11-05T16:11:20.014Z"
   },
   {
    "duration": 769,
    "start_time": "2022-11-05T16:11:21.280Z"
   },
   {
    "duration": 5,
    "start_time": "2022-11-05T16:11:22.051Z"
   },
   {
    "duration": 1027,
    "start_time": "2022-11-05T16:11:22.057Z"
   },
   {
    "duration": 897,
    "start_time": "2022-11-05T16:11:23.085Z"
   },
   {
    "duration": 5,
    "start_time": "2022-11-05T16:11:23.984Z"
   },
   {
    "duration": 51,
    "start_time": "2022-11-05T16:11:23.991Z"
   },
   {
    "duration": 4,
    "start_time": "2022-11-05T16:11:24.044Z"
   },
   {
    "duration": 429,
    "start_time": "2022-11-05T16:11:24.050Z"
   },
   {
    "duration": 40,
    "start_time": "2022-11-05T16:11:24.482Z"
   },
   {
    "duration": 6,
    "start_time": "2022-11-05T16:11:24.526Z"
   },
   {
    "duration": 24,
    "start_time": "2022-11-05T16:11:24.536Z"
   },
   {
    "duration": 4,
    "start_time": "2022-11-05T16:11:24.562Z"
   },
   {
    "duration": 38,
    "start_time": "2022-11-05T16:11:24.568Z"
   },
   {
    "duration": 5,
    "start_time": "2022-11-05T16:11:24.607Z"
   },
   {
    "duration": 25,
    "start_time": "2022-11-05T16:11:24.613Z"
   },
   {
    "duration": 40,
    "start_time": "2022-11-05T16:11:24.640Z"
   },
   {
    "duration": 3,
    "start_time": "2022-11-05T16:11:24.682Z"
   },
   {
    "duration": 63,
    "start_time": "2022-11-05T16:11:24.687Z"
   },
   {
    "duration": 86,
    "start_time": "2022-11-05T16:11:24.752Z"
   },
   {
    "duration": 4,
    "start_time": "2022-11-05T16:11:24.841Z"
   },
   {
    "duration": 128,
    "start_time": "2022-11-05T16:11:24.847Z"
   },
   {
    "duration": 78,
    "start_time": "2022-11-05T16:11:24.976Z"
   },
   {
    "duration": 713,
    "start_time": "2022-11-05T16:11:25.055Z"
   },
   {
    "duration": 642,
    "start_time": "2022-11-05T16:11:25.770Z"
   },
   {
    "duration": 23,
    "start_time": "2022-11-05T16:11:26.414Z"
   },
   {
    "duration": 121,
    "start_time": "2022-11-05T16:11:26.439Z"
   },
   {
    "duration": 44,
    "start_time": "2022-11-05T16:11:26.562Z"
   },
   {
    "duration": 17,
    "start_time": "2022-11-05T16:11:26.607Z"
   },
   {
    "duration": 175453,
    "start_time": "2022-11-05T16:11:26.630Z"
   },
   {
    "duration": 423,
    "start_time": "2022-11-05T16:14:22.084Z"
   },
   {
    "duration": 127,
    "start_time": "2022-11-05T16:14:22.508Z"
   },
   {
    "duration": 38,
    "start_time": "2022-11-05T16:14:22.637Z"
   },
   {
    "duration": 326730,
    "start_time": "2022-11-05T16:14:22.677Z"
   },
   {
    "duration": 87,
    "start_time": "2022-11-05T16:19:49.408Z"
   },
   {
    "duration": 13,
    "start_time": "2022-11-05T16:19:49.496Z"
   },
   {
    "duration": 0,
    "start_time": "2022-11-05T16:19:49.511Z"
   },
   {
    "duration": 0,
    "start_time": "2022-11-05T16:19:49.515Z"
   },
   {
    "duration": 0,
    "start_time": "2022-11-05T16:19:49.516Z"
   },
   {
    "duration": 50135,
    "start_time": "2022-11-05T16:20:00.704Z"
   },
   {
    "duration": 44216,
    "start_time": "2022-11-05T16:20:52.755Z"
   },
   {
    "duration": 429012,
    "start_time": "2022-11-05T16:21:39.097Z"
   },
   {
    "duration": 79,
    "start_time": "2022-11-05T16:28:48.111Z"
   },
   {
    "duration": 176758,
    "start_time": "2022-11-05T16:28:50.876Z"
   },
   {
    "duration": 53381,
    "start_time": "2022-11-05T16:32:02.151Z"
   },
   {
    "duration": 15043,
    "start_time": "2022-11-05T16:33:00.405Z"
   },
   {
    "duration": 14863,
    "start_time": "2022-11-05T16:34:02.797Z"
   },
   {
    "duration": 4,
    "start_time": "2022-11-05T16:34:22.160Z"
   },
   {
    "duration": 413,
    "start_time": "2022-11-05T16:35:09.480Z"
   },
   {
    "duration": 404,
    "start_time": "2022-11-05T16:35:16.245Z"
   },
   {
    "duration": 3,
    "start_time": "2022-11-05T16:36:10.583Z"
   },
   {
    "duration": 248665,
    "start_time": "2022-11-05T16:36:12.552Z"
   },
   {
    "duration": 568,
    "start_time": "2022-11-05T16:40:21.230Z"
   },
   {
    "duration": 3,
    "start_time": "2022-11-05T16:41:13.573Z"
   },
   {
    "duration": 570487,
    "start_time": "2022-11-05T16:41:13.956Z"
   },
   {
    "duration": 4618,
    "start_time": "2022-11-05T16:50:44.446Z"
   },
   {
    "duration": 12,
    "start_time": "2022-11-05T16:52:15.989Z"
   },
   {
    "duration": 1293,
    "start_time": "2022-11-05T16:53:01.428Z"
   },
   {
    "duration": 807,
    "start_time": "2022-11-05T16:53:02.723Z"
   },
   {
    "duration": 6,
    "start_time": "2022-11-05T16:53:03.531Z"
   },
   {
    "duration": 1065,
    "start_time": "2022-11-05T16:53:03.539Z"
   },
   {
    "duration": 945,
    "start_time": "2022-11-05T16:53:04.606Z"
   },
   {
    "duration": 3,
    "start_time": "2022-11-05T16:53:05.553Z"
   },
   {
    "duration": 45,
    "start_time": "2022-11-05T16:53:05.557Z"
   },
   {
    "duration": 3,
    "start_time": "2022-11-05T16:53:05.603Z"
   },
   {
    "duration": 428,
    "start_time": "2022-11-05T16:53:05.622Z"
   },
   {
    "duration": 37,
    "start_time": "2022-11-05T16:53:06.054Z"
   },
   {
    "duration": 5,
    "start_time": "2022-11-05T16:53:06.093Z"
   },
   {
    "duration": 68,
    "start_time": "2022-11-05T16:53:06.100Z"
   },
   {
    "duration": 15,
    "start_time": "2022-11-05T16:53:06.171Z"
   },
   {
    "duration": 57,
    "start_time": "2022-11-05T16:53:06.188Z"
   },
   {
    "duration": 4,
    "start_time": "2022-11-05T16:53:06.247Z"
   },
   {
    "duration": 9,
    "start_time": "2022-11-05T16:53:06.252Z"
   },
   {
    "duration": 48,
    "start_time": "2022-11-05T16:53:06.263Z"
   },
   {
    "duration": 5,
    "start_time": "2022-11-05T16:53:06.312Z"
   },
   {
    "duration": 81,
    "start_time": "2022-11-05T16:53:06.319Z"
   },
   {
    "duration": 80,
    "start_time": "2022-11-05T16:53:06.402Z"
   },
   {
    "duration": 12,
    "start_time": "2022-11-05T16:53:06.484Z"
   },
   {
    "duration": 149,
    "start_time": "2022-11-05T16:53:06.498Z"
   },
   {
    "duration": 62,
    "start_time": "2022-11-05T16:53:06.649Z"
   },
   {
    "duration": 689,
    "start_time": "2022-11-05T16:53:06.723Z"
   },
   {
    "duration": 522,
    "start_time": "2022-11-05T16:53:07.413Z"
   },
   {
    "duration": 18,
    "start_time": "2022-11-05T16:53:07.937Z"
   },
   {
    "duration": 113,
    "start_time": "2022-11-05T16:53:07.956Z"
   },
   {
    "duration": 34,
    "start_time": "2022-11-05T16:53:08.072Z"
   },
   {
    "duration": 3,
    "start_time": "2022-11-05T16:53:08.108Z"
   },
   {
    "duration": 121839,
    "start_time": "2022-11-05T16:53:08.112Z"
   },
   {
    "duration": 338,
    "start_time": "2022-11-05T16:55:09.952Z"
   },
   {
    "duration": 117,
    "start_time": "2022-11-05T16:55:10.291Z"
   },
   {
    "duration": 42,
    "start_time": "2022-11-05T16:55:10.409Z"
   },
   {
    "duration": 907,
    "start_time": "2022-11-05T16:55:28.838Z"
   },
   {
    "duration": 0,
    "start_time": "2022-11-05T16:55:29.748Z"
   },
   {
    "duration": 0,
    "start_time": "2022-11-05T16:55:29.749Z"
   },
   {
    "duration": 0,
    "start_time": "2022-11-05T16:55:29.750Z"
   },
   {
    "duration": 0,
    "start_time": "2022-11-05T16:55:29.751Z"
   },
   {
    "duration": 0,
    "start_time": "2022-11-05T16:55:29.752Z"
   },
   {
    "duration": 0,
    "start_time": "2022-11-05T16:55:29.753Z"
   },
   {
    "duration": 0,
    "start_time": "2022-11-05T16:55:29.754Z"
   },
   {
    "duration": 0,
    "start_time": "2022-11-05T16:55:29.755Z"
   },
   {
    "duration": 0,
    "start_time": "2022-11-05T16:55:29.756Z"
   },
   {
    "duration": 0,
    "start_time": "2022-11-05T16:55:29.757Z"
   },
   {
    "duration": 0,
    "start_time": "2022-11-05T16:55:29.758Z"
   },
   {
    "duration": 0,
    "start_time": "2022-11-05T16:55:29.759Z"
   },
   {
    "duration": 0,
    "start_time": "2022-11-05T16:55:29.760Z"
   },
   {
    "duration": 0,
    "start_time": "2022-11-05T16:55:29.761Z"
   },
   {
    "duration": 0,
    "start_time": "2022-11-05T16:55:29.763Z"
   },
   {
    "duration": 0,
    "start_time": "2022-11-05T16:55:29.764Z"
   },
   {
    "duration": 0,
    "start_time": "2022-11-05T16:55:29.765Z"
   },
   {
    "duration": 0,
    "start_time": "2022-11-05T16:55:29.766Z"
   },
   {
    "duration": 0,
    "start_time": "2022-11-05T16:55:29.767Z"
   },
   {
    "duration": 0,
    "start_time": "2022-11-05T16:55:29.768Z"
   },
   {
    "duration": 0,
    "start_time": "2022-11-05T16:55:29.769Z"
   },
   {
    "duration": 0,
    "start_time": "2022-11-05T16:55:29.770Z"
   },
   {
    "duration": 0,
    "start_time": "2022-11-05T16:55:29.770Z"
   },
   {
    "duration": 0,
    "start_time": "2022-11-05T16:55:29.772Z"
   },
   {
    "duration": 0,
    "start_time": "2022-11-05T16:55:29.774Z"
   },
   {
    "duration": 0,
    "start_time": "2022-11-05T16:55:29.775Z"
   },
   {
    "duration": 0,
    "start_time": "2022-11-05T16:55:29.777Z"
   },
   {
    "duration": 0,
    "start_time": "2022-11-05T16:55:29.778Z"
   },
   {
    "duration": 0,
    "start_time": "2022-11-05T16:55:29.779Z"
   },
   {
    "duration": 1,
    "start_time": "2022-11-05T16:55:29.780Z"
   },
   {
    "duration": 0,
    "start_time": "2022-11-05T16:55:29.782Z"
   },
   {
    "duration": 0,
    "start_time": "2022-11-05T16:55:29.783Z"
   },
   {
    "duration": 0,
    "start_time": "2022-11-05T16:55:29.784Z"
   },
   {
    "duration": 0,
    "start_time": "2022-11-05T16:55:29.822Z"
   },
   {
    "duration": 0,
    "start_time": "2022-11-05T16:55:29.823Z"
   },
   {
    "duration": 0,
    "start_time": "2022-11-05T16:55:29.824Z"
   },
   {
    "duration": 1237,
    "start_time": "2022-11-05T16:55:32.967Z"
   },
   {
    "duration": 767,
    "start_time": "2022-11-05T16:55:34.206Z"
   },
   {
    "duration": 4,
    "start_time": "2022-11-05T16:55:34.975Z"
   },
   {
    "duration": 1003,
    "start_time": "2022-11-05T16:55:34.980Z"
   },
   {
    "duration": 976,
    "start_time": "2022-11-05T16:55:35.985Z"
   },
   {
    "duration": 3,
    "start_time": "2022-11-05T16:55:36.963Z"
   },
   {
    "duration": 40,
    "start_time": "2022-11-05T16:55:36.967Z"
   },
   {
    "duration": 15,
    "start_time": "2022-11-05T16:55:37.009Z"
   },
   {
    "duration": 441,
    "start_time": "2022-11-05T16:55:37.026Z"
   },
   {
    "duration": 29,
    "start_time": "2022-11-05T16:55:37.469Z"
   },
   {
    "duration": 4,
    "start_time": "2022-11-05T16:55:37.501Z"
   },
   {
    "duration": 34,
    "start_time": "2022-11-05T16:55:37.521Z"
   },
   {
    "duration": 5,
    "start_time": "2022-11-05T16:55:37.558Z"
   },
   {
    "duration": 37,
    "start_time": "2022-11-05T16:55:37.567Z"
   },
   {
    "duration": 4,
    "start_time": "2022-11-05T16:55:37.622Z"
   },
   {
    "duration": 7,
    "start_time": "2022-11-05T16:55:37.627Z"
   },
   {
    "duration": 51,
    "start_time": "2022-11-05T16:55:37.635Z"
   },
   {
    "duration": 5,
    "start_time": "2022-11-05T16:55:37.688Z"
   },
   {
    "duration": 53,
    "start_time": "2022-11-05T16:55:37.694Z"
   },
   {
    "duration": 83,
    "start_time": "2022-11-05T16:55:37.749Z"
   },
   {
    "duration": 6,
    "start_time": "2022-11-05T16:55:37.834Z"
   },
   {
    "duration": 173,
    "start_time": "2022-11-05T16:55:37.842Z"
   },
   {
    "duration": 61,
    "start_time": "2022-11-05T16:55:38.021Z"
   },
   {
    "duration": 715,
    "start_time": "2022-11-05T16:55:38.083Z"
   },
   {
    "duration": 498,
    "start_time": "2022-11-05T16:55:38.800Z"
   },
   {
    "duration": 2,
    "start_time": "2022-11-05T16:55:39.299Z"
   },
   {
    "duration": 13,
    "start_time": "2022-11-05T16:55:39.303Z"
   },
   {
    "duration": 6,
    "start_time": "2022-11-05T16:55:39.317Z"
   },
   {
    "duration": 6,
    "start_time": "2022-11-05T16:55:39.325Z"
   },
   {
    "duration": 122757,
    "start_time": "2022-11-05T16:55:39.333Z"
   },
   {
    "duration": 365,
    "start_time": "2022-11-05T16:57:42.091Z"
   },
   {
    "duration": 126,
    "start_time": "2022-11-05T16:57:42.458Z"
   },
   {
    "duration": 55,
    "start_time": "2022-11-05T16:57:42.586Z"
   },
   {
    "duration": 1259,
    "start_time": "2022-11-05T17:10:13.536Z"
   },
   {
    "duration": 753,
    "start_time": "2022-11-05T17:10:14.797Z"
   },
   {
    "duration": 5,
    "start_time": "2022-11-05T17:10:15.552Z"
   },
   {
    "duration": 1176,
    "start_time": "2022-11-05T17:10:15.559Z"
   },
   {
    "duration": 1180,
    "start_time": "2022-11-05T17:10:16.737Z"
   },
   {
    "duration": 4,
    "start_time": "2022-11-05T17:10:17.919Z"
   },
   {
    "duration": 63,
    "start_time": "2022-11-05T17:10:17.925Z"
   },
   {
    "duration": 5,
    "start_time": "2022-11-05T17:10:17.991Z"
   },
   {
    "duration": 495,
    "start_time": "2022-11-05T17:10:17.998Z"
   },
   {
    "duration": 32,
    "start_time": "2022-11-05T17:10:18.497Z"
   },
   {
    "duration": 5,
    "start_time": "2022-11-05T17:10:18.531Z"
   },
   {
    "duration": 28,
    "start_time": "2022-11-05T17:10:18.538Z"
   },
   {
    "duration": 4,
    "start_time": "2022-11-05T17:10:18.568Z"
   },
   {
    "duration": 58,
    "start_time": "2022-11-05T17:10:18.573Z"
   },
   {
    "duration": 4,
    "start_time": "2022-11-05T17:10:18.632Z"
   },
   {
    "duration": 6,
    "start_time": "2022-11-05T17:10:18.637Z"
   },
   {
    "duration": 35,
    "start_time": "2022-11-05T17:10:18.644Z"
   },
   {
    "duration": 3,
    "start_time": "2022-11-05T17:10:18.681Z"
   },
   {
    "duration": 86,
    "start_time": "2022-11-05T17:10:18.686Z"
   },
   {
    "duration": 75,
    "start_time": "2022-11-05T17:10:18.774Z"
   },
   {
    "duration": 4,
    "start_time": "2022-11-05T17:10:18.850Z"
   },
   {
    "duration": 146,
    "start_time": "2022-11-05T17:10:18.855Z"
   },
   {
    "duration": 72,
    "start_time": "2022-11-05T17:10:19.003Z"
   },
   {
    "duration": 767,
    "start_time": "2022-11-05T17:10:19.077Z"
   },
   {
    "duration": 504,
    "start_time": "2022-11-05T17:10:19.846Z"
   },
   {
    "duration": 2,
    "start_time": "2022-11-05T17:10:20.352Z"
   },
   {
    "duration": 8,
    "start_time": "2022-11-05T17:10:20.355Z"
   },
   {
    "duration": 4,
    "start_time": "2022-11-05T17:10:20.365Z"
   },
   {
    "duration": 5,
    "start_time": "2022-11-05T17:10:20.370Z"
   },
   {
    "duration": 245024,
    "start_time": "2022-11-05T17:10:20.376Z"
   },
   {
    "duration": 544,
    "start_time": "2022-11-05T17:14:25.402Z"
   },
   {
    "duration": 72,
    "start_time": "2022-11-05T17:14:25.948Z"
   },
   {
    "duration": 0,
    "start_time": "2022-11-05T17:14:26.021Z"
   },
   {
    "duration": 0,
    "start_time": "2022-11-05T17:14:26.023Z"
   },
   {
    "duration": 0,
    "start_time": "2022-11-05T17:14:26.024Z"
   },
   {
    "duration": 0,
    "start_time": "2022-11-05T17:14:26.026Z"
   },
   {
    "duration": 0,
    "start_time": "2022-11-05T17:14:26.027Z"
   },
   {
    "duration": 0,
    "start_time": "2022-11-05T17:14:26.029Z"
   },
   {
    "duration": 5,
    "start_time": "2022-11-05T17:26:32.945Z"
   },
   {
    "duration": 327697,
    "start_time": "2022-11-05T17:26:33.444Z"
   },
   {
    "duration": 1059,
    "start_time": "2022-11-05T17:32:01.143Z"
   },
   {
    "duration": 1288,
    "start_time": "2022-11-05T17:36:23.334Z"
   },
   {
    "duration": 755,
    "start_time": "2022-11-05T17:36:24.625Z"
   },
   {
    "duration": 4,
    "start_time": "2022-11-05T17:36:25.382Z"
   },
   {
    "duration": 1105,
    "start_time": "2022-11-05T17:36:25.388Z"
   },
   {
    "duration": 904,
    "start_time": "2022-11-05T17:36:26.495Z"
   },
   {
    "duration": 11,
    "start_time": "2022-11-05T17:36:27.400Z"
   },
   {
    "duration": 70,
    "start_time": "2022-11-05T17:36:27.413Z"
   },
   {
    "duration": 7,
    "start_time": "2022-11-05T17:36:27.486Z"
   },
   {
    "duration": 447,
    "start_time": "2022-11-05T17:36:27.497Z"
   },
   {
    "duration": 33,
    "start_time": "2022-11-05T17:36:27.947Z"
   },
   {
    "duration": 4,
    "start_time": "2022-11-05T17:36:27.982Z"
   },
   {
    "duration": 39,
    "start_time": "2022-11-05T17:36:27.987Z"
   },
   {
    "duration": 5,
    "start_time": "2022-11-05T17:36:28.028Z"
   },
   {
    "duration": 38,
    "start_time": "2022-11-05T17:36:28.034Z"
   },
   {
    "duration": 5,
    "start_time": "2022-11-05T17:36:28.074Z"
   },
   {
    "duration": 6,
    "start_time": "2022-11-05T17:36:28.081Z"
   },
   {
    "duration": 64,
    "start_time": "2022-11-05T17:36:28.089Z"
   },
   {
    "duration": 5,
    "start_time": "2022-11-05T17:36:28.155Z"
   },
   {
    "duration": 61,
    "start_time": "2022-11-05T17:36:28.162Z"
   },
   {
    "duration": 69,
    "start_time": "2022-11-05T17:36:28.225Z"
   },
   {
    "duration": 4,
    "start_time": "2022-11-05T17:36:28.296Z"
   },
   {
    "duration": 148,
    "start_time": "2022-11-05T17:36:28.302Z"
   },
   {
    "duration": 71,
    "start_time": "2022-11-05T17:36:28.452Z"
   },
   {
    "duration": 820,
    "start_time": "2022-11-05T17:36:28.525Z"
   },
   {
    "duration": 564,
    "start_time": "2022-11-05T17:36:29.348Z"
   },
   {
    "duration": 2,
    "start_time": "2022-11-05T17:36:29.914Z"
   },
   {
    "duration": 484954,
    "start_time": "2022-11-05T17:36:29.918Z"
   },
   {
    "duration": 993,
    "start_time": "2022-11-05T17:44:34.876Z"
   },
   {
    "duration": 151,
    "start_time": "2022-11-05T17:44:35.871Z"
   },
   {
    "duration": 61,
    "start_time": "2022-11-05T17:44:36.025Z"
   },
   {
    "duration": 1236,
    "start_time": "2022-11-05T18:01:49.847Z"
   },
   {
    "duration": 727,
    "start_time": "2022-11-05T18:01:51.086Z"
   },
   {
    "duration": 7,
    "start_time": "2022-11-05T18:01:51.815Z"
   },
   {
    "duration": 1050,
    "start_time": "2022-11-05T18:01:51.824Z"
   },
   {
    "duration": 898,
    "start_time": "2022-11-05T18:01:52.876Z"
   },
   {
    "duration": 3,
    "start_time": "2022-11-05T18:01:53.776Z"
   },
   {
    "duration": 47,
    "start_time": "2022-11-05T18:01:53.781Z"
   },
   {
    "duration": 4,
    "start_time": "2022-11-05T18:01:53.830Z"
   },
   {
    "duration": 402,
    "start_time": "2022-11-05T18:01:53.836Z"
   },
   {
    "duration": 30,
    "start_time": "2022-11-05T18:01:54.242Z"
   },
   {
    "duration": 3,
    "start_time": "2022-11-05T18:01:54.274Z"
   },
   {
    "duration": 24,
    "start_time": "2022-11-05T18:01:54.279Z"
   },
   {
    "duration": 4,
    "start_time": "2022-11-05T18:01:54.322Z"
   },
   {
    "duration": 34,
    "start_time": "2022-11-05T18:01:54.327Z"
   },
   {
    "duration": 4,
    "start_time": "2022-11-05T18:01:54.363Z"
   },
   {
    "duration": 5,
    "start_time": "2022-11-05T18:01:54.368Z"
   },
   {
    "duration": 48,
    "start_time": "2022-11-05T18:01:54.374Z"
   },
   {
    "duration": 3,
    "start_time": "2022-11-05T18:01:54.424Z"
   },
   {
    "duration": 51,
    "start_time": "2022-11-05T18:01:54.428Z"
   },
   {
    "duration": 73,
    "start_time": "2022-11-05T18:01:54.481Z"
   },
   {
    "duration": 3,
    "start_time": "2022-11-05T18:01:54.555Z"
   },
   {
    "duration": 125,
    "start_time": "2022-11-05T18:01:54.560Z"
   },
   {
    "duration": 69,
    "start_time": "2022-11-05T18:01:54.687Z"
   },
   {
    "duration": 646,
    "start_time": "2022-11-05T18:01:54.758Z"
   },
   {
    "duration": 499,
    "start_time": "2022-11-05T18:01:55.406Z"
   },
   {
    "duration": 3,
    "start_time": "2022-11-05T18:01:55.906Z"
   },
   {
    "duration": 581738,
    "start_time": "2022-11-05T18:01:55.911Z"
   },
   {
    "duration": 4816,
    "start_time": "2022-11-05T18:11:37.651Z"
   },
   {
    "duration": 146,
    "start_time": "2022-11-05T18:11:42.469Z"
   },
   {
    "duration": 45,
    "start_time": "2022-11-05T18:11:42.617Z"
   },
   {
    "duration": 479877,
    "start_time": "2022-11-05T18:11:42.663Z"
   },
   {
    "duration": 10127,
    "start_time": "2022-11-05T18:19:42.542Z"
   },
   {
    "duration": 5,
    "start_time": "2022-11-05T18:19:52.672Z"
   },
   {
    "duration": 156,
    "start_time": "2022-11-05T18:19:52.679Z"
   },
   {
    "duration": 306,
    "start_time": "2022-11-05T18:30:18.136Z"
   },
   {
    "duration": 107,
    "start_time": "2022-11-05T18:31:54.213Z"
   },
   {
    "duration": 74,
    "start_time": "2022-11-05T18:33:32.266Z"
   },
   {
    "duration": 111,
    "start_time": "2022-11-05T18:35:08.751Z"
   },
   {
    "duration": 10,
    "start_time": "2022-11-05T18:38:17.574Z"
   },
   {
    "duration": 90,
    "start_time": "2022-11-05T18:38:50.177Z"
   },
   {
    "duration": 90,
    "start_time": "2022-11-05T18:38:52.316Z"
   },
   {
    "duration": 1410709,
    "start_time": "2022-11-05T18:39:02.274Z"
   },
   {
    "duration": 320,
    "start_time": "2022-11-05T19:02:32.985Z"
   },
   {
    "duration": 82,
    "start_time": "2022-11-05T19:02:50.821Z"
   },
   {
    "duration": 324,
    "start_time": "2022-11-05T19:03:00.582Z"
   },
   {
    "duration": 117,
    "start_time": "2022-11-05T19:03:01.786Z"
   },
   {
    "duration": 92,
    "start_time": "2022-11-05T19:03:02.242Z"
   },
   {
    "duration": 853,
    "start_time": "2022-11-05T19:03:31.401Z"
   },
   {
    "duration": 74022,
    "start_time": "2022-11-05T19:04:13.305Z"
   },
   {
    "duration": 78,
    "start_time": "2022-11-05T19:05:27.938Z"
   },
   {
    "duration": 83,
    "start_time": "2022-11-05T19:05:28.662Z"
   },
   {
    "duration": 858218,
    "start_time": "2022-11-05T19:05:31.080Z"
   },
   {
    "duration": 1041,
    "start_time": "2022-11-05T19:19:51.074Z"
   },
   {
    "duration": 3393814,
    "start_time": "2022-11-05T19:20:04.435Z"
   },
   {
    "duration": 36,
    "start_time": "2022-11-05T20:33:27.538Z"
   },
   {
    "duration": 111,
    "start_time": "2022-11-05T20:34:43.089Z"
   },
   {
    "duration": 86,
    "start_time": "2022-11-05T20:34:56.804Z"
   },
   {
    "duration": 15,
    "start_time": "2022-11-05T20:35:01.328Z"
   },
   {
    "duration": 5,
    "start_time": "2022-11-05T20:35:20.097Z"
   },
   {
    "duration": 4,
    "start_time": "2022-11-05T20:35:26.507Z"
   },
   {
    "duration": 10,
    "start_time": "2022-11-05T20:38:21.328Z"
   },
   {
    "duration": 3,
    "start_time": "2022-11-05T20:38:33.263Z"
   },
   {
    "duration": 3,
    "start_time": "2022-11-05T20:39:44.209Z"
   },
   {
    "duration": 4,
    "start_time": "2022-11-05T20:39:58.061Z"
   },
   {
    "duration": 88,
    "start_time": "2022-11-05T20:40:00.192Z"
   },
   {
    "duration": 371378,
    "start_time": "2022-11-05T20:41:13.010Z"
   },
   {
    "duration": 1373,
    "start_time": "2022-11-05T20:47:29.815Z"
   },
   {
    "duration": 4,
    "start_time": "2022-11-05T20:47:32.191Z"
   },
   {
    "duration": 16,
    "start_time": "2022-11-05T20:52:26.776Z"
   },
   {
    "duration": 19,
    "start_time": "2022-11-05T20:52:32.388Z"
   },
   {
    "duration": 3,
    "start_time": "2022-11-05T20:57:00.061Z"
   },
   {
    "duration": 86,
    "start_time": "2022-11-05T20:57:01.144Z"
   },
   {
    "duration": 87,
    "start_time": "2022-11-05T20:57:02.643Z"
   },
   {
    "duration": 117,
    "start_time": "2022-11-05T20:57:13.164Z"
   },
   {
    "duration": 40,
    "start_time": "2022-11-05T20:57:14.258Z"
   },
   {
    "duration": 53435,
    "start_time": "2022-11-05T20:57:15.395Z"
   },
   {
    "duration": 10393,
    "start_time": "2022-11-05T20:59:10.857Z"
   },
   {
    "duration": 3,
    "start_time": "2022-11-05T20:59:21.252Z"
   },
   {
    "duration": 1194,
    "start_time": "2022-11-05T21:07:38.250Z"
   },
   {
    "duration": 735,
    "start_time": "2022-11-05T21:07:39.446Z"
   },
   {
    "duration": 5,
    "start_time": "2022-11-05T21:07:40.182Z"
   },
   {
    "duration": 1055,
    "start_time": "2022-11-05T21:07:40.189Z"
   },
   {
    "duration": 1003,
    "start_time": "2022-11-05T21:07:41.245Z"
   },
   {
    "duration": 4,
    "start_time": "2022-11-05T21:07:42.249Z"
   },
   {
    "duration": 48,
    "start_time": "2022-11-05T21:07:42.255Z"
   },
   {
    "duration": 4,
    "start_time": "2022-11-05T21:07:42.305Z"
   },
   {
    "duration": 438,
    "start_time": "2022-11-05T21:07:42.311Z"
   },
   {
    "duration": 31,
    "start_time": "2022-11-05T21:07:42.751Z"
   },
   {
    "duration": 4,
    "start_time": "2022-11-05T21:07:42.783Z"
   },
   {
    "duration": 36,
    "start_time": "2022-11-05T21:07:42.789Z"
   },
   {
    "duration": 4,
    "start_time": "2022-11-05T21:07:42.827Z"
   },
   {
    "duration": 35,
    "start_time": "2022-11-05T21:07:42.832Z"
   },
   {
    "duration": 4,
    "start_time": "2022-11-05T21:07:42.869Z"
   },
   {
    "duration": 4,
    "start_time": "2022-11-05T21:07:42.875Z"
   },
   {
    "duration": 59,
    "start_time": "2022-11-05T21:07:42.881Z"
   },
   {
    "duration": 4,
    "start_time": "2022-11-05T21:07:42.942Z"
   },
   {
    "duration": 71,
    "start_time": "2022-11-05T21:07:42.947Z"
   },
   {
    "duration": 67,
    "start_time": "2022-11-05T21:07:43.020Z"
   },
   {
    "duration": 4,
    "start_time": "2022-11-05T21:07:43.088Z"
   },
   {
    "duration": 138,
    "start_time": "2022-11-05T21:07:43.093Z"
   },
   {
    "duration": 68,
    "start_time": "2022-11-05T21:07:43.233Z"
   },
   {
    "duration": 781,
    "start_time": "2022-11-05T21:07:43.303Z"
   },
   {
    "duration": 503,
    "start_time": "2022-11-05T21:07:44.085Z"
   },
   {
    "duration": 3,
    "start_time": "2022-11-05T21:07:44.589Z"
   },
   {
    "duration": 554643,
    "start_time": "2022-11-05T21:07:44.593Z"
   },
   {
    "duration": 4837,
    "start_time": "2022-11-05T21:16:59.239Z"
   },
   {
    "duration": 136,
    "start_time": "2022-11-05T21:17:04.077Z"
   },
   {
    "duration": 40,
    "start_time": "2022-11-05T21:17:04.214Z"
   },
   {
    "duration": 317274,
    "start_time": "2022-11-05T21:17:04.256Z"
   },
   {
    "duration": 10090,
    "start_time": "2022-11-05T21:22:21.532Z"
   },
   {
    "duration": 3,
    "start_time": "2022-11-05T21:22:31.624Z"
   },
   {
    "duration": 89,
    "start_time": "2022-11-05T21:22:31.628Z"
   },
   {
    "duration": 2,
    "start_time": "2022-11-05T21:22:31.719Z"
   },
   {
    "duration": 212,
    "start_time": "2022-11-05T21:22:31.723Z"
   },
   {
    "duration": 75,
    "start_time": "2022-11-05T21:22:31.936Z"
   },
   {
    "duration": 7,
    "start_time": "2022-11-05T21:22:32.012Z"
   },
   {
    "duration": 356850,
    "start_time": "2022-11-05T21:51:07.393Z"
   },
   {
    "duration": 1233,
    "start_time": "2022-11-05T21:57:04.245Z"
   },
   {
    "duration": 4,
    "start_time": "2022-11-05T21:57:05.480Z"
   },
   {
    "duration": 2,
    "start_time": "2022-11-05T22:04:20.889Z"
   },
   {
    "duration": 3,
    "start_time": "2022-11-05T22:05:27.360Z"
   },
   {
    "duration": 3,
    "start_time": "2022-11-05T22:05:55.955Z"
   },
   {
    "duration": 2,
    "start_time": "2022-11-05T22:06:57.569Z"
   },
   {
    "duration": 2,
    "start_time": "2022-11-05T22:06:58.900Z"
   },
   {
    "duration": 3,
    "start_time": "2022-11-05T22:07:23.576Z"
   },
   {
    "duration": 3,
    "start_time": "2022-11-05T22:07:51.595Z"
   },
   {
    "duration": 19,
    "start_time": "2022-11-05T22:09:02.748Z"
   },
   {
    "duration": 13,
    "start_time": "2022-11-05T22:09:12.852Z"
   },
   {
    "duration": 4,
    "start_time": "2022-11-05T22:09:18.417Z"
   },
   {
    "duration": 6,
    "start_time": "2022-11-05T22:09:22.523Z"
   },
   {
    "duration": 3,
    "start_time": "2022-11-05T22:09:59.208Z"
   },
   {
    "duration": 7,
    "start_time": "2022-11-05T22:09:59.584Z"
   },
   {
    "duration": 2,
    "start_time": "2022-11-05T22:10:39.263Z"
   },
   {
    "duration": 2,
    "start_time": "2022-11-05T22:10:41.551Z"
   },
   {
    "duration": 8,
    "start_time": "2022-11-05T22:10:55.583Z"
   },
   {
    "duration": 10,
    "start_time": "2022-11-05T22:11:02.815Z"
   },
   {
    "duration": 9,
    "start_time": "2022-11-05T22:11:32.009Z"
   },
   {
    "duration": 2,
    "start_time": "2022-11-05T22:11:39.707Z"
   },
   {
    "duration": 2,
    "start_time": "2022-11-05T22:11:45.804Z"
   },
   {
    "duration": 3,
    "start_time": "2022-11-05T22:11:53.336Z"
   },
   {
    "duration": 3,
    "start_time": "2022-11-05T22:12:00.989Z"
   },
   {
    "duration": 3,
    "start_time": "2022-11-05T22:12:04.931Z"
   },
   {
    "duration": 3,
    "start_time": "2022-11-05T22:12:11.010Z"
   },
   {
    "duration": 2,
    "start_time": "2022-11-05T22:12:13.242Z"
   },
   {
    "duration": 4,
    "start_time": "2022-11-05T22:12:23.499Z"
   },
   {
    "duration": 3,
    "start_time": "2022-11-05T22:12:29.868Z"
   },
   {
    "duration": 4,
    "start_time": "2022-11-05T22:12:33.676Z"
   },
   {
    "duration": 6,
    "start_time": "2022-11-05T22:13:01.583Z"
   },
   {
    "duration": 15,
    "start_time": "2022-11-05T22:13:59.023Z"
   },
   {
    "duration": 9,
    "start_time": "2022-11-05T22:14:37.569Z"
   },
   {
    "duration": 15,
    "start_time": "2022-11-05T22:14:50.623Z"
   },
   {
    "duration": 3,
    "start_time": "2022-11-05T22:15:06.524Z"
   },
   {
    "duration": 8,
    "start_time": "2022-11-05T22:15:08.630Z"
   },
   {
    "duration": 3,
    "start_time": "2022-11-05T22:15:36.495Z"
   },
   {
    "duration": 7,
    "start_time": "2022-11-05T22:15:43.777Z"
   },
   {
    "duration": 4,
    "start_time": "2022-11-05T22:16:08.712Z"
   },
   {
    "duration": 8,
    "start_time": "2022-11-05T22:16:09.540Z"
   },
   {
    "duration": 9,
    "start_time": "2022-11-05T22:16:21.815Z"
   },
   {
    "duration": 5,
    "start_time": "2022-11-05T22:16:39.888Z"
   },
   {
    "duration": 10,
    "start_time": "2022-11-05T22:16:45.368Z"
   },
   {
    "duration": 4,
    "start_time": "2022-11-05T22:17:40.911Z"
   },
   {
    "duration": 11,
    "start_time": "2022-11-05T22:17:41.484Z"
   },
   {
    "duration": 2,
    "start_time": "2022-11-05T22:19:07.165Z"
   },
   {
    "duration": 3,
    "start_time": "2022-11-05T22:19:30.104Z"
   },
   {
    "duration": 1257,
    "start_time": "2022-11-05T22:29:52.556Z"
   },
   {
    "duration": 696,
    "start_time": "2022-11-05T22:29:53.815Z"
   },
   {
    "duration": 4,
    "start_time": "2022-11-05T22:29:54.513Z"
   },
   {
    "duration": 1052,
    "start_time": "2022-11-05T22:29:54.521Z"
   },
   {
    "duration": 864,
    "start_time": "2022-11-05T22:29:55.574Z"
   },
   {
    "duration": 3,
    "start_time": "2022-11-05T22:29:56.440Z"
   },
   {
    "duration": 45,
    "start_time": "2022-11-05T22:29:56.444Z"
   },
   {
    "duration": 4,
    "start_time": "2022-11-05T22:29:56.490Z"
   },
   {
    "duration": 405,
    "start_time": "2022-11-05T22:29:56.495Z"
   },
   {
    "duration": 29,
    "start_time": "2022-11-05T22:29:56.902Z"
   },
   {
    "duration": 3,
    "start_time": "2022-11-05T22:29:56.932Z"
   },
   {
    "duration": 21,
    "start_time": "2022-11-05T22:29:56.937Z"
   },
   {
    "duration": 4,
    "start_time": "2022-11-05T22:29:56.959Z"
   },
   {
    "duration": 33,
    "start_time": "2022-11-05T22:29:56.964Z"
   },
   {
    "duration": 24,
    "start_time": "2022-11-05T22:29:56.998Z"
   },
   {
    "duration": 3,
    "start_time": "2022-11-05T22:29:57.023Z"
   },
   {
    "duration": 32,
    "start_time": "2022-11-05T22:29:57.028Z"
   },
   {
    "duration": 4,
    "start_time": "2022-11-05T22:29:57.062Z"
   },
   {
    "duration": 66,
    "start_time": "2022-11-05T22:29:57.067Z"
   },
   {
    "duration": 60,
    "start_time": "2022-11-05T22:29:57.137Z"
   },
   {
    "duration": 4,
    "start_time": "2022-11-05T22:29:57.199Z"
   },
   {
    "duration": 129,
    "start_time": "2022-11-05T22:29:57.205Z"
   },
   {
    "duration": 62,
    "start_time": "2022-11-05T22:29:57.336Z"
   },
   {
    "duration": 2,
    "start_time": "2022-11-05T22:29:57.400Z"
   },
   {
    "duration": 625,
    "start_time": "2022-11-05T22:29:57.403Z"
   },
   {
    "duration": 480,
    "start_time": "2022-11-05T22:29:58.030Z"
   },
   {
    "duration": 3,
    "start_time": "2022-11-05T22:29:58.511Z"
   },
   {
    "duration": 534767,
    "start_time": "2022-11-05T22:29:58.521Z"
   },
   {
    "duration": 3,
    "start_time": "2022-11-05T22:38:53.289Z"
   },
   {
    "duration": 4677,
    "start_time": "2022-11-05T22:38:53.293Z"
   },
   {
    "duration": 2,
    "start_time": "2022-11-05T22:38:57.972Z"
   },
   {
    "duration": 134,
    "start_time": "2022-11-05T22:38:57.975Z"
   },
   {
    "duration": 46,
    "start_time": "2022-11-05T22:38:58.111Z"
   },
   {
    "duration": 91883,
    "start_time": "2022-11-05T22:38:58.159Z"
   },
   {
    "duration": 2,
    "start_time": "2022-11-05T22:40:30.122Z"
   },
   {
    "duration": 9640,
    "start_time": "2022-11-05T22:40:30.126Z"
   },
   {
    "duration": 4,
    "start_time": "2022-11-05T22:40:39.768Z"
   },
   {
    "duration": 10,
    "start_time": "2022-11-05T22:40:39.773Z"
   },
   {
    "duration": 110,
    "start_time": "2022-11-05T22:40:39.785Z"
   },
   {
    "duration": 3182344,
    "start_time": "2022-11-05T22:40:39.897Z"
   },
   {
    "duration": 12,
    "start_time": "2022-11-05T23:33:42.243Z"
   },
   {
    "duration": 0,
    "start_time": "2022-11-05T23:33:42.257Z"
   },
   {
    "duration": 0,
    "start_time": "2022-11-05T23:33:42.258Z"
   },
   {
    "duration": 0,
    "start_time": "2022-11-05T23:33:42.258Z"
   },
   {
    "duration": 0,
    "start_time": "2022-11-05T23:33:42.259Z"
   },
   {
    "duration": 0,
    "start_time": "2022-11-05T23:33:42.260Z"
   },
   {
    "duration": 0,
    "start_time": "2022-11-05T23:33:42.261Z"
   },
   {
    "duration": 0,
    "start_time": "2022-11-05T23:33:42.262Z"
   },
   {
    "duration": 1242,
    "start_time": "2022-11-05T23:33:50.876Z"
   },
   {
    "duration": 696,
    "start_time": "2022-11-05T23:33:52.120Z"
   },
   {
    "duration": 4,
    "start_time": "2022-11-05T23:33:52.818Z"
   },
   {
    "duration": 959,
    "start_time": "2022-11-05T23:33:52.823Z"
   },
   {
    "duration": 839,
    "start_time": "2022-11-05T23:33:53.783Z"
   },
   {
    "duration": 3,
    "start_time": "2022-11-05T23:33:54.623Z"
   },
   {
    "duration": 45,
    "start_time": "2022-11-05T23:33:54.627Z"
   },
   {
    "duration": 3,
    "start_time": "2022-11-05T23:33:54.673Z"
   },
   {
    "duration": 389,
    "start_time": "2022-11-05T23:33:54.678Z"
   },
   {
    "duration": 28,
    "start_time": "2022-11-05T23:33:55.070Z"
   },
   {
    "duration": 4,
    "start_time": "2022-11-05T23:33:55.099Z"
   },
   {
    "duration": 32,
    "start_time": "2022-11-05T23:33:55.104Z"
   },
   {
    "duration": 3,
    "start_time": "2022-11-05T23:33:55.138Z"
   },
   {
    "duration": 33,
    "start_time": "2022-11-05T23:33:55.142Z"
   },
   {
    "duration": 3,
    "start_time": "2022-11-05T23:33:55.176Z"
   },
   {
    "duration": 10,
    "start_time": "2022-11-05T23:33:55.181Z"
   },
   {
    "duration": 50,
    "start_time": "2022-11-05T23:33:55.192Z"
   },
   {
    "duration": 4,
    "start_time": "2022-11-05T23:33:55.244Z"
   },
   {
    "duration": 50,
    "start_time": "2022-11-05T23:33:55.249Z"
   },
   {
    "duration": 77,
    "start_time": "2022-11-05T23:33:55.300Z"
   },
   {
    "duration": 3,
    "start_time": "2022-11-05T23:33:55.379Z"
   },
   {
    "duration": 127,
    "start_time": "2022-11-05T23:33:55.384Z"
   },
   {
    "duration": 63,
    "start_time": "2022-11-05T23:33:55.513Z"
   },
   {
    "duration": 2,
    "start_time": "2022-11-05T23:33:55.578Z"
   },
   {
    "duration": 661,
    "start_time": "2022-11-05T23:33:55.582Z"
   },
   {
    "duration": 497,
    "start_time": "2022-11-05T23:33:56.245Z"
   },
   {
    "duration": 3,
    "start_time": "2022-11-05T23:33:56.744Z"
   },
   {
    "duration": 524248,
    "start_time": "2022-11-05T23:33:56.751Z"
   },
   {
    "duration": 2,
    "start_time": "2022-11-05T23:42:41.000Z"
   },
   {
    "duration": 4564,
    "start_time": "2022-11-05T23:42:41.004Z"
   },
   {
    "duration": 2,
    "start_time": "2022-11-05T23:42:45.570Z"
   },
   {
    "duration": 125,
    "start_time": "2022-11-05T23:42:45.573Z"
   },
   {
    "duration": 42,
    "start_time": "2022-11-05T23:42:45.699Z"
   },
   {
    "duration": 38601,
    "start_time": "2022-11-05T23:42:45.743Z"
   },
   {
    "duration": 77,
    "start_time": "2022-11-05T23:43:24.346Z"
   },
   {
    "duration": 10119,
    "start_time": "2022-11-05T23:43:24.425Z"
   },
   {
    "duration": 4,
    "start_time": "2022-11-05T23:43:34.546Z"
   },
   {
    "duration": 7,
    "start_time": "2022-11-05T23:43:34.551Z"
   },
   {
    "duration": 99,
    "start_time": "2022-11-05T23:43:34.559Z"
   },
   {
    "duration": 3167992,
    "start_time": "2022-11-05T23:43:34.659Z"
   },
   {
    "duration": 3,
    "start_time": "2022-11-06T00:36:22.652Z"
   },
   {
    "duration": 337699,
    "start_time": "2022-11-06T00:36:22.657Z"
   },
   {
    "duration": 3,
    "start_time": "2022-11-06T00:42:00.357Z"
   },
   {
    "duration": 1348,
    "start_time": "2022-11-06T00:42:00.362Z"
   },
   {
    "duration": 4,
    "start_time": "2022-11-06T00:42:01.722Z"
   },
   {
    "duration": 8,
    "start_time": "2022-11-06T00:42:01.728Z"
   },
   {
    "duration": 6,
    "start_time": "2022-11-06T00:42:01.738Z"
   },
   {
    "duration": 18,
    "start_time": "2022-11-06T00:42:01.746Z"
   },
   {
    "duration": 9902,
    "start_time": "2022-11-06T03:31:59.240Z"
   },
   {
    "duration": 1217,
    "start_time": "2022-11-06T03:33:15.669Z"
   },
   {
    "duration": 1209,
    "start_time": "2022-11-06T03:34:00.960Z"
   },
   {
    "duration": 745,
    "start_time": "2022-11-06T03:34:02.171Z"
   },
   {
    "duration": 6,
    "start_time": "2022-11-06T03:34:02.917Z"
   },
   {
    "duration": 970,
    "start_time": "2022-11-06T03:34:02.925Z"
   },
   {
    "duration": 846,
    "start_time": "2022-11-06T03:34:03.897Z"
   },
   {
    "duration": 4,
    "start_time": "2022-11-06T03:34:04.745Z"
   },
   {
    "duration": 39,
    "start_time": "2022-11-06T03:34:04.751Z"
   },
   {
    "duration": 3,
    "start_time": "2022-11-06T03:34:04.792Z"
   },
   {
    "duration": 397,
    "start_time": "2022-11-06T03:34:04.796Z"
   },
   {
    "duration": 35,
    "start_time": "2022-11-06T03:34:05.196Z"
   },
   {
    "duration": 4,
    "start_time": "2022-11-06T03:34:05.232Z"
   },
   {
    "duration": 21,
    "start_time": "2022-11-06T03:34:05.237Z"
   },
   {
    "duration": 4,
    "start_time": "2022-11-06T03:34:05.259Z"
   },
   {
    "duration": 32,
    "start_time": "2022-11-06T03:34:05.264Z"
   },
   {
    "duration": 25,
    "start_time": "2022-11-06T03:34:05.297Z"
   },
   {
    "duration": 3,
    "start_time": "2022-11-06T03:34:05.323Z"
   },
   {
    "duration": 32,
    "start_time": "2022-11-06T03:34:05.328Z"
   },
   {
    "duration": 3,
    "start_time": "2022-11-06T03:34:05.362Z"
   },
   {
    "duration": 67,
    "start_time": "2022-11-06T03:34:05.366Z"
   },
   {
    "duration": 61,
    "start_time": "2022-11-06T03:34:05.434Z"
   },
   {
    "duration": 3,
    "start_time": "2022-11-06T03:34:05.497Z"
   },
   {
    "duration": 126,
    "start_time": "2022-11-06T03:34:05.502Z"
   },
   {
    "duration": 60,
    "start_time": "2022-11-06T03:34:05.630Z"
   },
   {
    "duration": 2,
    "start_time": "2022-11-06T03:34:05.692Z"
   },
   {
    "duration": 647,
    "start_time": "2022-11-06T03:34:05.696Z"
   },
   {
    "duration": 487,
    "start_time": "2022-11-06T03:34:06.345Z"
   },
   {
    "duration": 2,
    "start_time": "2022-11-06T03:34:06.834Z"
   },
   {
    "duration": 522260,
    "start_time": "2022-11-06T03:34:06.839Z"
   },
   {
    "duration": 3,
    "start_time": "2022-11-06T03:42:49.100Z"
   },
   {
    "duration": 4355,
    "start_time": "2022-11-06T03:42:49.104Z"
   },
   {
    "duration": 2,
    "start_time": "2022-11-06T03:42:53.461Z"
   },
   {
    "duration": 130,
    "start_time": "2022-11-06T03:42:53.465Z"
   },
   {
    "duration": 43,
    "start_time": "2022-11-06T03:42:53.596Z"
   },
   {
    "duration": 40784,
    "start_time": "2022-11-06T03:42:53.640Z"
   },
   {
    "duration": 3,
    "start_time": "2022-11-06T03:43:34.426Z"
   },
   {
    "duration": 9938,
    "start_time": "2022-11-06T03:43:34.431Z"
   },
   {
    "duration": 4,
    "start_time": "2022-11-06T03:43:44.370Z"
   },
   {
    "duration": 6,
    "start_time": "2022-11-06T03:43:44.375Z"
   },
   {
    "duration": 104,
    "start_time": "2022-11-06T03:43:44.382Z"
   },
   {
    "duration": 3,
    "start_time": "2022-11-06T03:43:44.487Z"
   },
   {
    "duration": 7,
    "start_time": "2022-11-06T03:43:44.491Z"
   },
   {
    "duration": 336349,
    "start_time": "2022-11-06T03:43:44.499Z"
   },
   {
    "duration": 3,
    "start_time": "2022-11-06T03:49:20.849Z"
   },
   {
    "duration": 1273,
    "start_time": "2022-11-06T03:49:20.853Z"
   },
   {
    "duration": 4,
    "start_time": "2022-11-06T03:49:22.127Z"
   },
   {
    "duration": 9,
    "start_time": "2022-11-06T03:49:22.132Z"
   },
   {
    "duration": 7,
    "start_time": "2022-11-06T03:49:22.143Z"
   },
   {
    "duration": 16,
    "start_time": "2022-11-06T03:49:22.152Z"
   },
   {
    "duration": 1292,
    "start_time": "2022-11-06T23:30:14.325Z"
   },
   {
    "duration": 1039,
    "start_time": "2022-11-06T23:30:17.109Z"
   },
   {
    "duration": 4,
    "start_time": "2022-11-06T23:30:18.907Z"
   },
   {
    "duration": 1022,
    "start_time": "2022-11-06T23:31:04.475Z"
   },
   {
    "duration": 3,
    "start_time": "2022-11-06T23:31:09.649Z"
   },
   {
    "duration": 39,
    "start_time": "2022-11-06T23:31:12.915Z"
   },
   {
    "duration": 3,
    "start_time": "2022-11-06T23:31:13.363Z"
   },
   {
    "duration": 705,
    "start_time": "2022-11-06T23:31:26.996Z"
   },
   {
    "duration": 31,
    "start_time": "2022-11-06T23:31:38.645Z"
   },
   {
    "duration": 1365,
    "start_time": "2022-11-07T11:45:48.905Z"
   },
   {
    "duration": 3109,
    "start_time": "2022-11-07T11:45:50.272Z"
   },
   {
    "duration": 5,
    "start_time": "2022-11-07T11:45:53.382Z"
   },
   {
    "duration": 2121,
    "start_time": "2022-11-07T11:45:53.388Z"
   },
   {
    "duration": 1058,
    "start_time": "2022-11-07T11:45:55.510Z"
   },
   {
    "duration": 4,
    "start_time": "2022-11-07T11:45:56.570Z"
   },
   {
    "duration": 45,
    "start_time": "2022-11-07T11:45:56.576Z"
   },
   {
    "duration": 5,
    "start_time": "2022-11-07T11:45:56.623Z"
   },
   {
    "duration": 456,
    "start_time": "2022-11-07T11:45:56.639Z"
   },
   {
    "duration": 44,
    "start_time": "2022-11-07T11:45:57.098Z"
   },
   {
    "duration": 4,
    "start_time": "2022-11-07T11:45:57.144Z"
   },
   {
    "duration": 29,
    "start_time": "2022-11-07T11:45:57.150Z"
   },
   {
    "duration": 5,
    "start_time": "2022-11-07T11:45:57.181Z"
   },
   {
    "duration": 63,
    "start_time": "2022-11-07T11:45:57.188Z"
   },
   {
    "duration": 5,
    "start_time": "2022-11-07T11:45:57.254Z"
   },
   {
    "duration": 12,
    "start_time": "2022-11-07T11:45:57.261Z"
   },
   {
    "duration": 47,
    "start_time": "2022-11-07T11:45:57.275Z"
   },
   {
    "duration": 13,
    "start_time": "2022-11-07T11:45:57.325Z"
   },
   {
    "duration": 92,
    "start_time": "2022-11-07T11:45:57.340Z"
   },
   {
    "duration": 106,
    "start_time": "2022-11-07T11:45:57.434Z"
   },
   {
    "duration": 17,
    "start_time": "2022-11-07T11:45:57.541Z"
   },
   {
    "duration": 159,
    "start_time": "2022-11-07T11:45:57.560Z"
   },
   {
    "duration": 95,
    "start_time": "2022-11-07T11:45:57.720Z"
   },
   {
    "duration": 3,
    "start_time": "2022-11-07T11:45:57.817Z"
   },
   {
    "duration": 977,
    "start_time": "2022-11-07T11:45:57.821Z"
   },
   {
    "duration": 569,
    "start_time": "2022-11-07T11:45:58.801Z"
   },
   {
    "duration": 3,
    "start_time": "2022-11-07T11:45:59.373Z"
   },
   {
    "duration": 191958,
    "start_time": "2022-11-07T11:45:59.381Z"
   },
   {
    "duration": 2,
    "start_time": "2022-11-07T11:49:11.341Z"
   },
   {
    "duration": 128,
    "start_time": "2022-11-07T11:49:11.344Z"
   },
   {
    "duration": 8,
    "start_time": "2022-11-07T11:49:11.474Z"
   },
   {
    "duration": 0,
    "start_time": "2022-11-07T11:49:11.484Z"
   },
   {
    "duration": 0,
    "start_time": "2022-11-07T11:49:11.485Z"
   },
   {
    "duration": 0,
    "start_time": "2022-11-07T11:49:11.485Z"
   },
   {
    "duration": 0,
    "start_time": "2022-11-07T11:49:11.487Z"
   },
   {
    "duration": 0,
    "start_time": "2022-11-07T11:49:11.488Z"
   },
   {
    "duration": 0,
    "start_time": "2022-11-07T11:49:11.489Z"
   },
   {
    "duration": 0,
    "start_time": "2022-11-07T11:49:11.490Z"
   },
   {
    "duration": 0,
    "start_time": "2022-11-07T11:49:11.492Z"
   },
   {
    "duration": 0,
    "start_time": "2022-11-07T11:49:11.493Z"
   },
   {
    "duration": 0,
    "start_time": "2022-11-07T11:49:11.494Z"
   },
   {
    "duration": 0,
    "start_time": "2022-11-07T11:49:11.495Z"
   },
   {
    "duration": 0,
    "start_time": "2022-11-07T11:49:11.496Z"
   },
   {
    "duration": 0,
    "start_time": "2022-11-07T11:49:11.498Z"
   },
   {
    "duration": 0,
    "start_time": "2022-11-07T11:49:11.499Z"
   },
   {
    "duration": 0,
    "start_time": "2022-11-07T11:49:11.500Z"
   },
   {
    "duration": 0,
    "start_time": "2022-11-07T11:49:11.501Z"
   },
   {
    "duration": 0,
    "start_time": "2022-11-07T11:49:11.502Z"
   },
   {
    "duration": 8,
    "start_time": "2022-11-07T11:49:14.762Z"
   },
   {
    "duration": 1510,
    "start_time": "2022-11-08T11:51:21.778Z"
   },
   {
    "duration": 1285,
    "start_time": "2022-11-08T11:51:23.290Z"
   },
   {
    "duration": 7,
    "start_time": "2022-11-08T11:51:24.577Z"
   },
   {
    "duration": 1853,
    "start_time": "2022-11-08T11:51:24.586Z"
   },
   {
    "duration": 1304,
    "start_time": "2022-11-08T11:51:26.441Z"
   },
   {
    "duration": 6,
    "start_time": "2022-11-08T11:51:27.747Z"
   },
   {
    "duration": 69,
    "start_time": "2022-11-08T11:51:27.755Z"
   },
   {
    "duration": 6,
    "start_time": "2022-11-08T11:51:27.826Z"
   },
   {
    "duration": 600,
    "start_time": "2022-11-08T11:51:27.834Z"
   },
   {
    "duration": 58,
    "start_time": "2022-11-08T11:51:28.439Z"
   },
   {
    "duration": 5,
    "start_time": "2022-11-08T11:51:28.502Z"
   },
   {
    "duration": 47,
    "start_time": "2022-11-08T11:51:28.509Z"
   },
   {
    "duration": 5,
    "start_time": "2022-11-08T11:51:28.558Z"
   },
   {
    "duration": 45,
    "start_time": "2022-11-08T11:51:28.573Z"
   },
   {
    "duration": 11,
    "start_time": "2022-11-08T11:51:28.621Z"
   },
   {
    "duration": 31,
    "start_time": "2022-11-08T11:51:28.634Z"
   },
   {
    "duration": 35,
    "start_time": "2022-11-08T11:51:28.667Z"
   },
   {
    "duration": 40,
    "start_time": "2022-11-08T11:51:28.704Z"
   },
   {
    "duration": 4,
    "start_time": "2022-11-08T11:51:28.747Z"
   },
   {
    "duration": 83,
    "start_time": "2022-11-08T11:51:28.753Z"
   },
   {
    "duration": 106,
    "start_time": "2022-11-08T11:51:28.838Z"
   },
   {
    "duration": 5,
    "start_time": "2022-11-08T11:51:28.947Z"
   },
   {
    "duration": 225,
    "start_time": "2022-11-08T11:51:28.954Z"
   },
   {
    "duration": 115,
    "start_time": "2022-11-08T11:51:29.194Z"
   },
   {
    "duration": 4,
    "start_time": "2022-11-08T11:51:29.310Z"
   },
   {
    "duration": 1239,
    "start_time": "2022-11-08T11:51:29.316Z"
   },
   {
    "duration": 620,
    "start_time": "2022-11-08T11:51:30.557Z"
   },
   {
    "duration": 11,
    "start_time": "2022-11-08T11:51:31.182Z"
   },
   {
    "duration": 603214,
    "start_time": "2022-11-08T11:51:31.195Z"
   },
   {
    "duration": 3,
    "start_time": "2022-11-08T12:01:34.411Z"
   },
   {
    "duration": 98,
    "start_time": "2022-11-08T12:01:34.415Z"
   },
   {
    "duration": 16,
    "start_time": "2022-11-08T12:01:34.515Z"
   },
   {
    "duration": 0,
    "start_time": "2022-11-08T12:01:34.533Z"
   },
   {
    "duration": 0,
    "start_time": "2022-11-08T12:01:34.535Z"
   },
   {
    "duration": 0,
    "start_time": "2022-11-08T12:01:34.536Z"
   },
   {
    "duration": 0,
    "start_time": "2022-11-08T12:01:34.538Z"
   },
   {
    "duration": 0,
    "start_time": "2022-11-08T12:01:34.541Z"
   },
   {
    "duration": 0,
    "start_time": "2022-11-08T12:01:34.543Z"
   },
   {
    "duration": 0,
    "start_time": "2022-11-08T12:01:34.544Z"
   },
   {
    "duration": 0,
    "start_time": "2022-11-08T12:01:34.545Z"
   },
   {
    "duration": 0,
    "start_time": "2022-11-08T12:01:34.546Z"
   },
   {
    "duration": 0,
    "start_time": "2022-11-08T12:01:34.548Z"
   },
   {
    "duration": 0,
    "start_time": "2022-11-08T12:01:34.549Z"
   },
   {
    "duration": 0,
    "start_time": "2022-11-08T12:01:34.550Z"
   },
   {
    "duration": 0,
    "start_time": "2022-11-08T12:01:34.551Z"
   },
   {
    "duration": 0,
    "start_time": "2022-11-08T12:01:34.552Z"
   },
   {
    "duration": 0,
    "start_time": "2022-11-08T12:01:34.555Z"
   },
   {
    "duration": 0,
    "start_time": "2022-11-08T12:01:34.556Z"
   },
   {
    "duration": 0,
    "start_time": "2022-11-08T12:01:34.557Z"
   },
   {
    "duration": 5,
    "start_time": "2022-11-08T12:01:39.985Z"
   },
   {
    "duration": 956,
    "start_time": "2022-11-08T12:01:40.415Z"
   },
   {
    "duration": 5,
    "start_time": "2022-11-08T12:01:42.804Z"
   },
   {
    "duration": 1053,
    "start_time": "2022-11-08T12:01:43.535Z"
   },
   {
    "duration": 1064,
    "start_time": "2022-11-08T12:01:46.634Z"
   },
   {
    "duration": 5,
    "start_time": "2022-11-08T12:01:47.700Z"
   },
   {
    "duration": 72,
    "start_time": "2022-11-08T12:01:47.707Z"
   },
   {
    "duration": 5,
    "start_time": "2022-11-08T12:01:47.782Z"
   },
   {
    "duration": 425,
    "start_time": "2022-11-08T12:01:48.205Z"
   },
   {
    "duration": 44,
    "start_time": "2022-11-08T12:01:50.427Z"
   },
   {
    "duration": 5,
    "start_time": "2022-11-08T12:01:53.116Z"
   },
   {
    "duration": 23,
    "start_time": "2022-11-08T12:01:55.322Z"
   },
   {
    "duration": 4,
    "start_time": "2022-11-08T12:01:58.158Z"
   },
   {
    "duration": 26,
    "start_time": "2022-11-08T12:01:59.370Z"
   },
   {
    "duration": 6,
    "start_time": "2022-11-08T12:02:00.307Z"
   },
   {
    "duration": 3,
    "start_time": "2022-11-08T12:02:02.923Z"
   },
   {
    "duration": 10,
    "start_time": "2022-11-08T12:02:05.743Z"
   },
   {
    "duration": 11,
    "start_time": "2022-11-08T12:03:41.410Z"
   },
   {
    "duration": 6,
    "start_time": "2022-11-08T12:03:48.376Z"
   },
   {
    "duration": 71,
    "start_time": "2022-11-08T12:04:06.143Z"
   },
   {
    "duration": 7,
    "start_time": "2022-11-08T12:04:10.026Z"
   },
   {
    "duration": 10,
    "start_time": "2022-11-08T12:04:28.619Z"
   },
   {
    "duration": 10,
    "start_time": "2022-11-08T12:04:50.558Z"
   },
   {
    "duration": 16,
    "start_time": "2022-11-08T12:07:20.364Z"
   },
   {
    "duration": 12,
    "start_time": "2022-11-08T12:07:36.498Z"
   },
   {
    "duration": 545,
    "start_time": "2022-11-08T12:08:03.742Z"
   },
   {
    "duration": 573,
    "start_time": "2022-11-08T12:08:27.496Z"
   },
   {
    "duration": 22,
    "start_time": "2022-11-08T12:09:06.313Z"
   },
   {
    "duration": 622,
    "start_time": "2022-11-08T12:09:38.978Z"
   },
   {
    "duration": 606,
    "start_time": "2022-11-08T12:10:05.210Z"
   },
   {
    "duration": 11,
    "start_time": "2022-11-08T12:10:21.716Z"
   },
   {
    "duration": 47,
    "start_time": "2022-11-08T12:10:29.574Z"
   },
   {
    "duration": 27,
    "start_time": "2022-11-08T12:10:40.494Z"
   },
   {
    "duration": 26,
    "start_time": "2022-11-08T12:10:48.727Z"
   },
   {
    "duration": 33,
    "start_time": "2022-11-08T12:10:50.335Z"
   },
   {
    "duration": 34,
    "start_time": "2022-11-08T12:11:05.407Z"
   },
   {
    "duration": 37,
    "start_time": "2022-11-08T12:11:11.519Z"
   },
   {
    "duration": 30,
    "start_time": "2022-11-08T12:11:12.103Z"
   },
   {
    "duration": 641,
    "start_time": "2022-11-08T12:11:23.294Z"
   },
   {
    "duration": 589,
    "start_time": "2022-11-08T12:11:31.165Z"
   },
   {
    "duration": 13,
    "start_time": "2022-11-08T12:11:53.517Z"
   },
   {
    "duration": 4,
    "start_time": "2022-11-08T12:12:03.591Z"
   },
   {
    "duration": 37,
    "start_time": "2022-11-08T12:12:17.847Z"
   },
   {
    "duration": 34,
    "start_time": "2022-11-08T12:12:21.533Z"
   },
   {
    "duration": 5,
    "start_time": "2022-11-08T12:13:59.907Z"
   },
   {
    "duration": 14,
    "start_time": "2022-11-08T12:14:16.867Z"
   },
   {
    "duration": 11,
    "start_time": "2022-11-08T12:14:41.952Z"
   },
   {
    "duration": 4,
    "start_time": "2022-11-08T12:14:54.393Z"
   },
   {
    "duration": 19,
    "start_time": "2022-11-08T12:14:54.925Z"
   },
   {
    "duration": 10,
    "start_time": "2022-11-08T12:15:10.403Z"
   },
   {
    "duration": 4,
    "start_time": "2022-11-08T12:16:05.609Z"
   },
   {
    "duration": 11,
    "start_time": "2022-11-08T12:16:06.038Z"
   },
   {
    "duration": 3,
    "start_time": "2022-11-08T12:16:38.189Z"
   },
   {
    "duration": 11,
    "start_time": "2022-11-08T12:16:38.681Z"
   },
   {
    "duration": 70,
    "start_time": "2022-11-08T12:18:12.742Z"
   },
   {
    "duration": 75,
    "start_time": "2022-11-08T12:30:44.186Z"
   },
   {
    "duration": 59,
    "start_time": "2022-11-08T12:31:08.245Z"
   },
   {
    "duration": 48,
    "start_time": "2022-11-08T12:31:19.957Z"
   },
   {
    "duration": 27,
    "start_time": "2022-11-08T12:31:29.394Z"
   },
   {
    "duration": 9,
    "start_time": "2022-11-08T12:32:02.626Z"
   },
   {
    "duration": 12,
    "start_time": "2022-11-08T12:32:38.433Z"
   },
   {
    "duration": 420,
    "start_time": "2022-11-08T12:40:28.222Z"
   },
   {
    "duration": 107,
    "start_time": "2022-11-08T12:53:00.676Z"
   },
   {
    "duration": 15,
    "start_time": "2022-11-08T12:54:27.167Z"
   },
   {
    "duration": 19,
    "start_time": "2022-11-08T12:56:33.474Z"
   },
   {
    "duration": 14,
    "start_time": "2022-11-08T12:57:13.222Z"
   },
   {
    "duration": 4,
    "start_time": "2022-11-08T12:57:40.795Z"
   },
   {
    "duration": 13,
    "start_time": "2022-11-08T12:57:47.306Z"
   },
   {
    "duration": 15,
    "start_time": "2022-11-08T12:58:11.391Z"
   },
   {
    "duration": 3,
    "start_time": "2022-11-08T12:58:18.193Z"
   },
   {
    "duration": 147,
    "start_time": "2022-11-08T12:58:43.509Z"
   },
   {
    "duration": 24,
    "start_time": "2022-11-08T12:58:50.218Z"
   },
   {
    "duration": 5,
    "start_time": "2022-11-08T12:58:55.581Z"
   },
   {
    "duration": 9,
    "start_time": "2022-11-08T12:59:11.546Z"
   },
   {
    "duration": 14,
    "start_time": "2022-11-08T13:03:00.491Z"
   },
   {
    "duration": 11,
    "start_time": "2022-11-08T13:03:58.601Z"
   },
   {
    "duration": 63,
    "start_time": "2022-11-08T13:04:07.759Z"
   },
   {
    "duration": 1716,
    "start_time": "2022-11-08T13:04:18.686Z"
   },
   {
    "duration": 5,
    "start_time": "2022-11-08T13:04:26.082Z"
   },
   {
    "duration": 1750,
    "start_time": "2022-11-08T13:04:26.337Z"
   },
   {
    "duration": 13,
    "start_time": "2022-11-08T13:04:28.089Z"
   },
   {
    "duration": 1808,
    "start_time": "2022-11-08T13:04:28.112Z"
   },
   {
    "duration": 1375,
    "start_time": "2022-11-08T13:04:29.926Z"
   },
   {
    "duration": 9,
    "start_time": "2022-11-08T13:04:32.815Z"
   },
   {
    "duration": 59,
    "start_time": "2022-11-08T13:04:33.057Z"
   },
   {
    "duration": 5,
    "start_time": "2022-11-08T13:04:33.303Z"
   },
   {
    "duration": 574,
    "start_time": "2022-11-08T13:04:33.765Z"
   },
   {
    "duration": 52,
    "start_time": "2022-11-08T13:04:35.300Z"
   },
   {
    "duration": 6,
    "start_time": "2022-11-08T13:04:37.490Z"
   },
   {
    "duration": 27,
    "start_time": "2022-11-08T13:04:37.701Z"
   },
   {
    "duration": 6,
    "start_time": "2022-11-08T13:04:37.948Z"
   },
   {
    "duration": 46,
    "start_time": "2022-11-08T13:04:38.665Z"
   },
   {
    "duration": 12,
    "start_time": "2022-11-08T13:04:39.090Z"
   },
   {
    "duration": 3,
    "start_time": "2022-11-08T13:04:41.816Z"
   },
   {
    "duration": 11,
    "start_time": "2022-11-08T13:04:42.046Z"
   },
   {
    "duration": 55,
    "start_time": "2022-11-08T13:04:42.302Z"
   },
   {
    "duration": 5,
    "start_time": "2022-11-08T13:04:42.577Z"
   },
   {
    "duration": 69,
    "start_time": "2022-11-08T13:04:42.808Z"
   },
   {
    "duration": 119,
    "start_time": "2022-11-08T13:04:46.066Z"
   },
   {
    "duration": 5,
    "start_time": "2022-11-08T13:04:47.356Z"
   },
   {
    "duration": 82,
    "start_time": "2022-11-08T13:04:48.439Z"
   },
   {
    "duration": 106,
    "start_time": "2022-11-08T13:05:15.018Z"
   },
   {
    "duration": 110,
    "start_time": "2022-11-08T13:05:17.469Z"
   },
   {
    "duration": 3,
    "start_time": "2022-11-08T13:05:21.775Z"
   },
   {
    "duration": 13,
    "start_time": "2022-11-08T13:05:24.509Z"
   },
   {
    "duration": 3,
    "start_time": "2022-11-08T13:05:29.431Z"
   },
   {
    "duration": 97,
    "start_time": "2022-11-08T13:05:33.189Z"
   },
   {
    "duration": 16,
    "start_time": "2022-11-08T13:05:44.002Z"
   },
   {
    "duration": 12,
    "start_time": "2022-11-08T13:05:57.159Z"
   },
   {
    "duration": 11,
    "start_time": "2022-11-08T13:06:06.179Z"
   },
   {
    "duration": 17,
    "start_time": "2022-11-08T13:06:13.599Z"
   },
   {
    "duration": 16,
    "start_time": "2022-11-08T13:06:19.782Z"
   },
   {
    "duration": 70,
    "start_time": "2022-11-08T13:09:58.491Z"
   },
   {
    "duration": 1565,
    "start_time": "2022-11-08T13:10:03.463Z"
   },
   {
    "duration": 82,
    "start_time": "2022-11-08T13:10:10.121Z"
   },
   {
    "duration": 10,
    "start_time": "2022-11-08T13:10:10.559Z"
   },
   {
    "duration": 1230,
    "start_time": "2022-11-08T13:10:21.069Z"
   },
   {
    "duration": 4,
    "start_time": "2022-11-08T13:10:22.301Z"
   },
   {
    "duration": 1353,
    "start_time": "2022-11-08T13:10:22.541Z"
   },
   {
    "duration": 1070,
    "start_time": "2022-11-08T13:10:24.778Z"
   },
   {
    "duration": 4,
    "start_time": "2022-11-08T13:10:25.850Z"
   },
   {
    "duration": 61,
    "start_time": "2022-11-08T13:10:25.857Z"
   },
   {
    "duration": 5,
    "start_time": "2022-11-08T13:10:25.948Z"
   },
   {
    "duration": 484,
    "start_time": "2022-11-08T13:10:26.553Z"
   },
   {
    "duration": 38,
    "start_time": "2022-11-08T13:10:27.123Z"
   },
   {
    "duration": 4,
    "start_time": "2022-11-08T13:10:28.393Z"
   },
   {
    "duration": 24,
    "start_time": "2022-11-08T13:10:28.701Z"
   },
   {
    "duration": 4,
    "start_time": "2022-11-08T13:10:29.292Z"
   },
   {
    "duration": 44,
    "start_time": "2022-11-08T13:10:30.121Z"
   },
   {
    "duration": 4,
    "start_time": "2022-11-08T13:10:30.873Z"
   },
   {
    "duration": 273,
    "start_time": "2022-11-08T13:10:31.361Z"
   },
   {
    "duration": 30,
    "start_time": "2022-11-08T13:10:31.636Z"
   },
   {
    "duration": 48,
    "start_time": "2022-11-08T13:10:31.915Z"
   },
   {
    "duration": 4,
    "start_time": "2022-11-08T13:10:32.146Z"
   },
   {
    "duration": 59,
    "start_time": "2022-11-08T13:10:32.413Z"
   },
   {
    "duration": 90,
    "start_time": "2022-11-08T13:10:35.260Z"
   },
   {
    "duration": 5,
    "start_time": "2022-11-08T13:10:35.784Z"
   },
   {
    "duration": 108,
    "start_time": "2022-11-08T13:10:36.071Z"
   },
   {
    "duration": 94,
    "start_time": "2022-11-08T13:10:37.627Z"
   },
   {
    "duration": 2,
    "start_time": "2022-11-08T13:10:40.292Z"
   },
   {
    "duration": 11,
    "start_time": "2022-11-08T13:10:41.568Z"
   },
   {
    "duration": 12,
    "start_time": "2022-11-08T13:10:42.095Z"
   },
   {
    "duration": 3,
    "start_time": "2022-11-08T13:10:45.556Z"
   },
   {
    "duration": 26,
    "start_time": "2022-11-08T13:10:47.840Z"
   },
   {
    "duration": 13,
    "start_time": "2022-11-08T13:10:56.419Z"
   },
   {
    "duration": 55,
    "start_time": "2022-11-08T13:11:16.986Z"
   },
   {
    "duration": 1495,
    "start_time": "2022-11-08T13:11:25.378Z"
   },
   {
    "duration": 1312,
    "start_time": "2022-11-08T13:11:29.272Z"
   },
   {
    "duration": 5,
    "start_time": "2022-11-08T13:11:31.598Z"
   },
   {
    "duration": 1395,
    "start_time": "2022-11-08T13:11:32.207Z"
   },
   {
    "duration": 1098,
    "start_time": "2022-11-08T13:11:34.669Z"
   },
   {
    "duration": 4,
    "start_time": "2022-11-08T13:11:35.771Z"
   },
   {
    "duration": 50,
    "start_time": "2022-11-08T13:11:35.777Z"
   },
   {
    "duration": 5,
    "start_time": "2022-11-08T13:11:36.670Z"
   },
   {
    "duration": 504,
    "start_time": "2022-11-08T13:11:37.819Z"
   },
   {
    "duration": 38,
    "start_time": "2022-11-08T13:11:40.627Z"
   },
   {
    "duration": 5,
    "start_time": "2022-11-08T13:11:41.603Z"
   },
   {
    "duration": 24,
    "start_time": "2022-11-08T13:11:41.837Z"
   },
   {
    "duration": 6,
    "start_time": "2022-11-08T13:11:42.068Z"
   },
   {
    "duration": 39,
    "start_time": "2022-11-08T13:11:42.486Z"
   },
   {
    "duration": 5,
    "start_time": "2022-11-08T13:11:42.674Z"
   },
   {
    "duration": 4,
    "start_time": "2022-11-08T13:11:43.088Z"
   },
   {
    "duration": 10,
    "start_time": "2022-11-08T13:11:43.297Z"
   },
   {
    "duration": 46,
    "start_time": "2022-11-08T13:11:43.516Z"
   },
   {
    "duration": 5,
    "start_time": "2022-11-08T13:11:43.782Z"
   },
   {
    "duration": 62,
    "start_time": "2022-11-08T13:11:44.019Z"
   },
   {
    "duration": 96,
    "start_time": "2022-11-08T13:11:45.439Z"
   },
   {
    "duration": 5,
    "start_time": "2022-11-08T13:11:46.292Z"
   },
   {
    "duration": 113,
    "start_time": "2022-11-08T13:11:46.766Z"
   },
   {
    "duration": 113,
    "start_time": "2022-11-08T13:11:47.815Z"
   },
   {
    "duration": 4,
    "start_time": "2022-11-08T13:11:48.992Z"
   },
   {
    "duration": 13,
    "start_time": "2022-11-08T13:11:49.757Z"
   },
   {
    "duration": 17,
    "start_time": "2022-11-08T13:11:50.125Z"
   },
   {
    "duration": 3,
    "start_time": "2022-11-08T13:11:50.446Z"
   },
   {
    "duration": 128,
    "start_time": "2022-11-08T13:11:50.964Z"
   },
   {
    "duration": 22,
    "start_time": "2022-11-08T13:11:51.234Z"
   },
   {
    "duration": 35,
    "start_time": "2022-11-08T13:13:28.211Z"
   },
   {
    "duration": 17,
    "start_time": "2022-11-08T13:13:43.099Z"
   },
   {
    "duration": 1042,
    "start_time": "2022-11-08T13:13:50.725Z"
   },
   {
    "duration": 47,
    "start_time": "2022-11-08T13:13:55.299Z"
   },
   {
    "duration": 3,
    "start_time": "2022-11-08T13:18:38.724Z"
   },
   {
    "duration": 1494,
    "start_time": "2022-11-08T13:20:16.333Z"
   },
   {
    "duration": 1385,
    "start_time": "2022-11-08T13:20:30.445Z"
   },
   {
    "duration": 10056,
    "start_time": "2022-11-08T13:23:16.368Z"
   },
   {
    "duration": 43,
    "start_time": "2022-11-08T13:23:33.968Z"
   },
   {
    "duration": 18,
    "start_time": "2022-11-08T13:25:23.669Z"
   },
   {
    "duration": 121,
    "start_time": "2022-11-08T13:28:00.837Z"
   },
   {
    "duration": 125,
    "start_time": "2022-11-08T13:28:31.462Z"
   },
   {
    "duration": 4,
    "start_time": "2022-11-08T13:29:23.701Z"
   },
   {
    "duration": 88,
    "start_time": "2022-11-08T13:29:26.393Z"
   },
   {
    "duration": 7,
    "start_time": "2022-11-08T13:29:58.086Z"
   },
   {
    "duration": 4,
    "start_time": "2022-11-08T13:30:54.534Z"
   },
   {
    "duration": 74,
    "start_time": "2022-11-08T13:31:16.247Z"
   },
   {
    "duration": 6,
    "start_time": "2022-11-08T13:31:22.933Z"
   },
   {
    "duration": 7,
    "start_time": "2022-11-08T13:31:50.707Z"
   },
   {
    "duration": 11,
    "start_time": "2022-11-08T13:32:58.269Z"
   },
   {
    "duration": 72,
    "start_time": "2022-11-08T13:33:20.549Z"
   },
   {
    "duration": 11,
    "start_time": "2022-11-08T13:33:24.117Z"
   },
   {
    "duration": 76,
    "start_time": "2022-11-08T13:34:17.497Z"
   },
   {
    "duration": 10,
    "start_time": "2022-11-08T13:34:42.224Z"
   },
   {
    "duration": 43,
    "start_time": "2022-11-08T13:35:05.834Z"
   },
   {
    "duration": 10,
    "start_time": "2022-11-08T13:35:06.524Z"
   },
   {
    "duration": 85,
    "start_time": "2022-11-08T13:35:40.882Z"
   },
   {
    "duration": 8,
    "start_time": "2022-11-08T13:35:45.950Z"
   },
   {
    "duration": 3,
    "start_time": "2022-11-08T13:36:12.242Z"
   },
   {
    "duration": 88,
    "start_time": "2022-11-08T13:36:12.899Z"
   },
   {
    "duration": 9,
    "start_time": "2022-11-08T13:36:13.668Z"
   },
   {
    "duration": 10,
    "start_time": "2022-11-08T13:36:14.528Z"
   },
   {
    "duration": 8,
    "start_time": "2022-11-08T13:36:23.092Z"
   },
   {
    "duration": 11,
    "start_time": "2022-11-08T13:36:46.348Z"
   },
   {
    "duration": 39,
    "start_time": "2022-11-08T13:36:48.794Z"
   },
   {
    "duration": 11,
    "start_time": "2022-11-08T13:36:49.185Z"
   },
   {
    "duration": 5,
    "start_time": "2022-11-08T13:45:14.068Z"
   },
   {
    "duration": 780,
    "start_time": "2022-11-08T13:45:38.057Z"
   },
   {
    "duration": 4,
    "start_time": "2022-11-08T13:45:48.938Z"
   },
   {
    "duration": 5,
    "start_time": "2022-11-08T13:45:53.835Z"
   },
   {
    "duration": 4,
    "start_time": "2022-11-08T13:46:02.599Z"
   },
   {
    "duration": 1002,
    "start_time": "2022-11-08T13:46:03.174Z"
   },
   {
    "duration": 6,
    "start_time": "2022-11-08T13:46:04.851Z"
   },
   {
    "duration": 1078,
    "start_time": "2022-11-08T13:46:05.370Z"
   },
   {
    "duration": 1140,
    "start_time": "2022-11-08T13:46:09.653Z"
   },
   {
    "duration": 4,
    "start_time": "2022-11-08T13:46:12.528Z"
   },
   {
    "duration": 48,
    "start_time": "2022-11-08T13:46:12.753Z"
   },
   {
    "duration": 4,
    "start_time": "2022-11-08T13:46:12.935Z"
   },
   {
    "duration": 498,
    "start_time": "2022-11-08T13:46:13.293Z"
   },
   {
    "duration": 36,
    "start_time": "2022-11-08T13:46:13.793Z"
   },
   {
    "duration": 4,
    "start_time": "2022-11-08T13:46:14.345Z"
   },
   {
    "duration": 25,
    "start_time": "2022-11-08T13:46:14.544Z"
   },
   {
    "duration": 4,
    "start_time": "2022-11-08T13:46:14.742Z"
   },
   {
    "duration": 35,
    "start_time": "2022-11-08T13:46:15.092Z"
   },
   {
    "duration": 7,
    "start_time": "2022-11-08T13:46:15.293Z"
   },
   {
    "duration": 3,
    "start_time": "2022-11-08T13:46:15.645Z"
   },
   {
    "duration": 13,
    "start_time": "2022-11-08T13:46:15.824Z"
   },
   {
    "duration": 37,
    "start_time": "2022-11-08T13:46:16.019Z"
   },
   {
    "duration": 4,
    "start_time": "2022-11-08T13:46:16.226Z"
   },
   {
    "duration": 60,
    "start_time": "2022-11-08T13:46:16.411Z"
   },
   {
    "duration": 104,
    "start_time": "2022-11-08T13:46:18.712Z"
   },
   {
    "duration": 5,
    "start_time": "2022-11-08T13:46:19.409Z"
   },
   {
    "duration": 126,
    "start_time": "2022-11-08T13:46:19.732Z"
   },
   {
    "duration": 113,
    "start_time": "2022-11-08T13:46:22.042Z"
   },
   {
    "duration": 3,
    "start_time": "2022-11-08T13:46:24.697Z"
   },
   {
    "duration": 5,
    "start_time": "2022-11-08T13:46:28.596Z"
   },
   {
    "duration": 105,
    "start_time": "2022-11-08T13:46:30.060Z"
   },
   {
    "duration": 8,
    "start_time": "2022-11-08T13:46:30.947Z"
   },
   {
    "duration": 9,
    "start_time": "2022-11-08T13:46:33.924Z"
   },
   {
    "duration": 48,
    "start_time": "2022-11-08T13:46:34.938Z"
   },
   {
    "duration": 12,
    "start_time": "2022-11-08T13:46:35.685Z"
   },
   {
    "duration": 14,
    "start_time": "2022-11-08T13:46:42.970Z"
   },
   {
    "duration": 414,
    "start_time": "2022-11-08T13:46:56.569Z"
   },
   {
    "duration": 110,
    "start_time": "2022-11-08T13:47:03.748Z"
   },
   {
    "duration": 405,
    "start_time": "2022-11-08T13:47:24.410Z"
   },
   {
    "duration": 5,
    "start_time": "2022-11-08T13:47:25.938Z"
   },
   {
    "duration": 10,
    "start_time": "2022-11-08T13:47:38.008Z"
   },
   {
    "duration": 5,
    "start_time": "2022-11-08T13:47:50.742Z"
   },
   {
    "duration": 5,
    "start_time": "2022-11-08T13:48:01.739Z"
   },
   {
    "duration": 14,
    "start_time": "2022-11-08T13:48:22.253Z"
   },
   {
    "duration": 322,
    "start_time": "2022-11-08T13:48:23.112Z"
   },
   {
    "duration": 4,
    "start_time": "2022-11-08T13:48:24.002Z"
   },
   {
    "duration": 6,
    "start_time": "2022-11-08T13:48:39.844Z"
   },
   {
    "duration": 19,
    "start_time": "2022-11-08T13:48:45.307Z"
   },
   {
    "duration": 15,
    "start_time": "2022-11-08T13:48:47.474Z"
   },
   {
    "duration": 365,
    "start_time": "2022-11-08T13:48:48.837Z"
   },
   {
    "duration": 21,
    "start_time": "2022-11-08T13:48:50.218Z"
   },
   {
    "duration": 6,
    "start_time": "2022-11-08T13:49:23.799Z"
   },
   {
    "duration": 24,
    "start_time": "2022-11-08T13:49:30.780Z"
   },
   {
    "duration": 4,
    "start_time": "2022-11-08T13:50:08.192Z"
   },
   {
    "duration": 867,
    "start_time": "2022-11-08T13:50:08.689Z"
   },
   {
    "duration": 6,
    "start_time": "2022-11-08T13:50:09.558Z"
   },
   {
    "duration": 1176,
    "start_time": "2022-11-08T13:50:09.572Z"
   },
   {
    "duration": 1066,
    "start_time": "2022-11-08T13:50:10.751Z"
   },
   {
    "duration": 5,
    "start_time": "2022-11-08T13:50:11.821Z"
   },
   {
    "duration": 51,
    "start_time": "2022-11-08T13:50:11.828Z"
   },
   {
    "duration": 5,
    "start_time": "2022-11-08T13:50:11.881Z"
   },
   {
    "duration": 524,
    "start_time": "2022-11-08T13:50:11.888Z"
   },
   {
    "duration": 35,
    "start_time": "2022-11-08T13:50:12.414Z"
   },
   {
    "duration": 4,
    "start_time": "2022-11-08T13:50:13.277Z"
   },
   {
    "duration": 24,
    "start_time": "2022-11-08T13:50:13.486Z"
   },
   {
    "duration": 5,
    "start_time": "2022-11-08T13:50:13.688Z"
   },
   {
    "duration": 36,
    "start_time": "2022-11-08T13:50:14.120Z"
   },
   {
    "duration": 5,
    "start_time": "2022-11-08T13:50:14.321Z"
   },
   {
    "duration": 4,
    "start_time": "2022-11-08T13:50:15.119Z"
   },
   {
    "duration": 12,
    "start_time": "2022-11-08T13:50:15.334Z"
   },
   {
    "duration": 43,
    "start_time": "2022-11-08T13:50:15.536Z"
   },
   {
    "duration": 5,
    "start_time": "2022-11-08T13:50:15.911Z"
   },
   {
    "duration": 75,
    "start_time": "2022-11-08T13:50:16.123Z"
   },
   {
    "duration": 114,
    "start_time": "2022-11-08T13:50:17.881Z"
   },
   {
    "duration": 5,
    "start_time": "2022-11-08T13:50:18.582Z"
   },
   {
    "duration": 114,
    "start_time": "2022-11-08T13:50:19.050Z"
   },
   {
    "duration": 97,
    "start_time": "2022-11-08T13:50:20.026Z"
   },
   {
    "duration": 4,
    "start_time": "2022-11-08T13:50:21.245Z"
   },
   {
    "duration": 5,
    "start_time": "2022-11-08T13:50:21.866Z"
   },
   {
    "duration": 98,
    "start_time": "2022-11-08T13:50:22.179Z"
   },
   {
    "duration": 7,
    "start_time": "2022-11-08T13:50:22.440Z"
   },
   {
    "duration": 11,
    "start_time": "2022-11-08T13:50:22.707Z"
   },
   {
    "duration": 44,
    "start_time": "2022-11-08T13:50:23.041Z"
   },
   {
    "duration": 10,
    "start_time": "2022-11-08T13:50:26.356Z"
   },
   {
    "duration": 3,
    "start_time": "2022-11-08T13:50:39.627Z"
   },
   {
    "duration": 35,
    "start_time": "2022-11-08T13:50:44.637Z"
   },
   {
    "duration": 24,
    "start_time": "2022-11-08T13:51:06.650Z"
   },
   {
    "duration": 24,
    "start_time": "2022-11-08T13:51:47.414Z"
   },
   {
    "duration": 11,
    "start_time": "2022-11-08T13:52:14.019Z"
   },
   {
    "duration": 30,
    "start_time": "2022-11-08T13:54:57.879Z"
   },
   {
    "duration": 162,
    "start_time": "2022-11-08T13:55:02.796Z"
   },
   {
    "duration": 26,
    "start_time": "2022-11-08T13:55:06.592Z"
   },
   {
    "duration": 33,
    "start_time": "2022-11-08T13:55:37.170Z"
   },
   {
    "duration": 785,
    "start_time": "2022-11-08T13:55:38.521Z"
   },
   {
    "duration": 19,
    "start_time": "2022-11-08T13:55:40.782Z"
   },
   {
    "duration": 23,
    "start_time": "2022-11-08T13:55:49.167Z"
   },
   {
    "duration": 4,
    "start_time": "2022-11-08T13:56:27.146Z"
   },
   {
    "duration": 12,
    "start_time": "2022-11-08T13:56:40.955Z"
   },
   {
    "duration": 737,
    "start_time": "2022-11-08T13:56:42.539Z"
   },
   {
    "duration": 20,
    "start_time": "2022-11-08T13:56:44.814Z"
   },
   {
    "duration": 744,
    "start_time": "2022-11-08T13:57:02.335Z"
   },
   {
    "duration": 7,
    "start_time": "2022-11-08T13:57:06.341Z"
   },
   {
    "duration": 22,
    "start_time": "2022-11-08T13:57:35.125Z"
   },
   {
    "duration": 838,
    "start_time": "2022-11-08T13:58:00.623Z"
   },
   {
    "duration": 11,
    "start_time": "2022-11-08T13:58:26.932Z"
   },
   {
    "duration": 21,
    "start_time": "2022-11-08T13:58:29.108Z"
   },
   {
    "duration": 17,
    "start_time": "2022-11-08T13:58:38.724Z"
   },
   {
    "duration": 749,
    "start_time": "2022-11-08T13:58:46.263Z"
   },
   {
    "duration": 5,
    "start_time": "2022-11-08T13:58:51.793Z"
   },
   {
    "duration": 741,
    "start_time": "2022-11-08T14:01:32.840Z"
   },
   {
    "duration": 739,
    "start_time": "2022-11-08T14:04:34.733Z"
   },
   {
    "duration": 160,
    "start_time": "2022-11-08T14:04:56.498Z"
   },
   {
    "duration": 157,
    "start_time": "2022-11-08T14:05:19.426Z"
   },
   {
    "duration": 710,
    "start_time": "2022-11-08T14:05:31.962Z"
   },
   {
    "duration": 831,
    "start_time": "2022-11-08T14:05:47.211Z"
   },
   {
    "duration": 1034,
    "start_time": "2022-11-08T14:06:00.027Z"
   },
   {
    "duration": 12,
    "start_time": "2022-11-08T14:09:25.703Z"
   },
   {
    "duration": 732,
    "start_time": "2022-11-08T14:09:58.241Z"
   },
   {
    "duration": 5,
    "start_time": "2022-11-08T14:12:15.120Z"
   },
   {
    "duration": 3,
    "start_time": "2022-11-08T14:12:34.557Z"
   },
   {
    "duration": 676,
    "start_time": "2022-11-08T14:13:15.142Z"
   },
   {
    "duration": 5,
    "start_time": "2022-11-08T14:13:20.193Z"
   },
   {
    "duration": 51,
    "start_time": "2022-11-08T14:14:57.100Z"
   },
   {
    "duration": 1507,
    "start_time": "2022-11-08T14:15:08.633Z"
   },
   {
    "duration": 1227,
    "start_time": "2022-11-08T14:15:11.018Z"
   },
   {
    "duration": 5,
    "start_time": "2022-11-08T14:15:12.247Z"
   },
   {
    "duration": 1368,
    "start_time": "2022-11-08T14:15:12.254Z"
   },
   {
    "duration": 1131,
    "start_time": "2022-11-08T14:15:13.628Z"
   },
   {
    "duration": 5,
    "start_time": "2022-11-08T14:15:14.761Z"
   },
   {
    "duration": 51,
    "start_time": "2022-11-08T14:15:14.772Z"
   },
   {
    "duration": 4,
    "start_time": "2022-11-08T14:15:14.826Z"
   },
   {
    "duration": 527,
    "start_time": "2022-11-08T14:15:14.833Z"
   },
   {
    "duration": 38,
    "start_time": "2022-11-08T14:15:15.362Z"
   },
   {
    "duration": 5,
    "start_time": "2022-11-08T14:15:16.066Z"
   },
   {
    "duration": 24,
    "start_time": "2022-11-08T14:15:16.351Z"
   },
   {
    "duration": 5,
    "start_time": "2022-11-08T14:15:16.586Z"
   },
   {
    "duration": 37,
    "start_time": "2022-11-08T14:15:17.327Z"
   },
   {
    "duration": 4,
    "start_time": "2022-11-08T14:15:17.367Z"
   },
   {
    "duration": 4,
    "start_time": "2022-11-08T14:15:17.943Z"
   },
   {
    "duration": 12,
    "start_time": "2022-11-08T14:15:18.391Z"
   },
   {
    "duration": 39,
    "start_time": "2022-11-08T14:15:18.671Z"
   },
   {
    "duration": 4,
    "start_time": "2022-11-08T14:15:18.878Z"
   },
   {
    "duration": 67,
    "start_time": "2022-11-08T14:15:19.087Z"
   },
   {
    "duration": 109,
    "start_time": "2022-11-08T14:15:21.037Z"
   },
   {
    "duration": 4,
    "start_time": "2022-11-08T14:15:21.636Z"
   },
   {
    "duration": 107,
    "start_time": "2022-11-08T14:15:21.916Z"
   },
   {
    "duration": 103,
    "start_time": "2022-11-08T14:15:22.864Z"
   },
   {
    "duration": 3,
    "start_time": "2022-11-08T14:15:25.111Z"
   },
   {
    "duration": 4,
    "start_time": "2022-11-08T14:15:25.996Z"
   },
   {
    "duration": 95,
    "start_time": "2022-11-08T14:15:27.258Z"
   },
   {
    "duration": 5,
    "start_time": "2022-11-08T14:15:27.980Z"
   },
   {
    "duration": 10,
    "start_time": "2022-11-08T14:15:28.290Z"
   },
   {
    "duration": 46,
    "start_time": "2022-11-08T14:15:28.966Z"
   },
   {
    "duration": 10,
    "start_time": "2022-11-08T14:15:29.762Z"
   },
   {
    "duration": 63,
    "start_time": "2022-11-08T14:15:32.698Z"
   },
   {
    "duration": 2,
    "start_time": "2022-11-08T14:15:37.727Z"
   },
   {
    "duration": 747,
    "start_time": "2022-11-08T14:15:40.002Z"
   },
   {
    "duration": 3094,
    "start_time": "2022-11-08T14:15:41.575Z"
   },
   {
    "duration": 62,
    "start_time": "2022-11-08T14:16:30.659Z"
   },
   {
    "duration": 1424,
    "start_time": "2022-11-08T14:16:37.122Z"
   },
   {
    "duration": 1338,
    "start_time": "2022-11-08T14:16:38.549Z"
   },
   {
    "duration": 5,
    "start_time": "2022-11-08T14:16:39.889Z"
   },
   {
    "duration": 1296,
    "start_time": "2022-11-08T14:16:39.897Z"
   },
   {
    "duration": 1142,
    "start_time": "2022-11-08T14:16:41.195Z"
   },
   {
    "duration": 4,
    "start_time": "2022-11-08T14:16:42.339Z"
   },
   {
    "duration": 62,
    "start_time": "2022-11-08T14:16:42.345Z"
   },
   {
    "duration": 4,
    "start_time": "2022-11-08T14:16:42.409Z"
   },
   {
    "duration": 498,
    "start_time": "2022-11-08T14:16:42.415Z"
   },
   {
    "duration": 36,
    "start_time": "2022-11-08T14:16:42.916Z"
   },
   {
    "duration": 19,
    "start_time": "2022-11-08T14:16:42.954Z"
   },
   {
    "duration": 25,
    "start_time": "2022-11-08T14:16:42.975Z"
   },
   {
    "duration": 4,
    "start_time": "2022-11-08T14:16:43.002Z"
   },
   {
    "duration": 31,
    "start_time": "2022-11-08T14:16:43.008Z"
   },
   {
    "duration": 4,
    "start_time": "2022-11-08T14:16:43.042Z"
   },
   {
    "duration": 29,
    "start_time": "2022-11-08T14:16:43.047Z"
   },
   {
    "duration": 14,
    "start_time": "2022-11-08T14:16:43.078Z"
   },
   {
    "duration": 37,
    "start_time": "2022-11-08T14:16:43.094Z"
   },
   {
    "duration": 4,
    "start_time": "2022-11-08T14:16:43.133Z"
   },
   {
    "duration": 83,
    "start_time": "2022-11-08T14:16:43.138Z"
   },
   {
    "duration": 98,
    "start_time": "2022-11-08T14:16:43.449Z"
   },
   {
    "duration": 4,
    "start_time": "2022-11-08T14:16:43.815Z"
   },
   {
    "duration": 106,
    "start_time": "2022-11-08T14:16:44.012Z"
   },
   {
    "duration": 95,
    "start_time": "2022-11-08T14:16:44.519Z"
   },
   {
    "duration": 3,
    "start_time": "2022-11-08T14:16:45.939Z"
   },
   {
    "duration": 5,
    "start_time": "2022-11-08T14:16:46.479Z"
   },
   {
    "duration": 89,
    "start_time": "2022-11-08T14:16:46.960Z"
   },
   {
    "duration": 6,
    "start_time": "2022-11-08T14:16:47.142Z"
   },
   {
    "duration": 9,
    "start_time": "2022-11-08T14:16:47.350Z"
   },
   {
    "duration": 74,
    "start_time": "2022-11-08T14:16:47.532Z"
   },
   {
    "duration": 11,
    "start_time": "2022-11-08T14:16:47.887Z"
   },
   {
    "duration": 60,
    "start_time": "2022-11-08T14:16:48.994Z"
   },
   {
    "duration": 13,
    "start_time": "2022-11-08T14:16:49.606Z"
   },
   {
    "duration": 3,
    "start_time": "2022-11-08T14:16:50.100Z"
   },
   {
    "duration": 610,
    "start_time": "2022-11-08T14:16:53.794Z"
   },
   {
    "duration": 2991,
    "start_time": "2022-11-08T14:16:54.406Z"
   },
   {
    "duration": 1289,
    "start_time": "2022-11-09T12:28:03.611Z"
   },
   {
    "duration": 1005,
    "start_time": "2022-11-09T12:28:05.826Z"
   },
   {
    "duration": 5,
    "start_time": "2022-11-09T12:28:06.832Z"
   },
   {
    "duration": 1208,
    "start_time": "2022-11-09T12:28:06.838Z"
   },
   {
    "duration": 888,
    "start_time": "2022-11-09T12:28:08.685Z"
   },
   {
    "duration": 4,
    "start_time": "2022-11-09T12:28:09.574Z"
   },
   {
    "duration": 34,
    "start_time": "2022-11-09T12:28:09.587Z"
   },
   {
    "duration": 4,
    "start_time": "2022-11-09T12:28:09.850Z"
   },
   {
    "duration": 400,
    "start_time": "2022-11-09T12:28:10.727Z"
   },
   {
    "duration": 31,
    "start_time": "2022-11-09T12:28:11.239Z"
   },
   {
    "duration": 4,
    "start_time": "2022-11-09T12:28:12.180Z"
   },
   {
    "duration": 21,
    "start_time": "2022-11-09T12:28:12.377Z"
   },
   {
    "duration": 4,
    "start_time": "2022-11-09T12:28:12.668Z"
   },
   {
    "duration": 31,
    "start_time": "2022-11-09T12:28:13.164Z"
   },
   {
    "duration": 4,
    "start_time": "2022-11-09T12:28:13.385Z"
   },
   {
    "duration": 3,
    "start_time": "2022-11-09T12:28:13.908Z"
   },
   {
    "duration": 10,
    "start_time": "2022-11-09T12:28:14.174Z"
   },
   {
    "duration": 34,
    "start_time": "2022-11-09T12:28:14.410Z"
   },
   {
    "duration": 5,
    "start_time": "2022-11-09T12:28:14.675Z"
   },
   {
    "duration": 50,
    "start_time": "2022-11-09T12:28:14.911Z"
   },
   {
    "duration": 73,
    "start_time": "2022-11-09T12:28:16.863Z"
   },
   {
    "duration": 4,
    "start_time": "2022-11-09T12:28:17.353Z"
   },
   {
    "duration": 79,
    "start_time": "2022-11-09T12:28:17.596Z"
   },
   {
    "duration": 69,
    "start_time": "2022-11-09T12:28:23.514Z"
   },
   {
    "duration": 2,
    "start_time": "2022-11-09T12:28:27.572Z"
   },
   {
    "duration": 4,
    "start_time": "2022-11-09T12:28:29.027Z"
   },
   {
    "duration": 91,
    "start_time": "2022-11-09T12:28:29.509Z"
   },
   {
    "duration": 5,
    "start_time": "2022-11-09T12:28:29.894Z"
   },
   {
    "duration": 8,
    "start_time": "2022-11-09T12:28:30.343Z"
   },
   {
    "duration": 51,
    "start_time": "2022-11-09T12:28:31.151Z"
   },
   {
    "duration": 11,
    "start_time": "2022-11-09T12:28:33.136Z"
   },
   {
    "duration": 43,
    "start_time": "2022-11-09T12:28:49.158Z"
   },
   {
    "duration": 13,
    "start_time": "2022-11-09T12:28:53.036Z"
   },
   {
    "duration": 3,
    "start_time": "2022-11-09T12:28:53.882Z"
   },
   {
    "duration": 529,
    "start_time": "2022-11-09T12:28:54.534Z"
   },
   {
    "duration": 2982,
    "start_time": "2022-11-09T12:28:55.262Z"
   },
   {
    "duration": 15,
    "start_time": "2022-11-09T12:29:22.609Z"
   },
   {
    "duration": 1304,
    "start_time": "2022-11-09T12:32:54.216Z"
   },
   {
    "duration": 1041,
    "start_time": "2022-11-09T12:32:56.659Z"
   },
   {
    "duration": 4,
    "start_time": "2022-11-09T12:32:57.703Z"
   },
   {
    "duration": 1046,
    "start_time": "2022-11-09T12:32:57.709Z"
   },
   {
    "duration": 955,
    "start_time": "2022-11-09T12:32:58.757Z"
   },
   {
    "duration": 4,
    "start_time": "2022-11-09T12:32:59.713Z"
   },
   {
    "duration": 52,
    "start_time": "2022-11-09T12:32:59.718Z"
   },
   {
    "duration": 4,
    "start_time": "2022-11-09T12:32:59.772Z"
   },
   {
    "duration": 444,
    "start_time": "2022-11-09T12:32:59.778Z"
   },
   {
    "duration": 36,
    "start_time": "2022-11-09T12:33:00.223Z"
   },
   {
    "duration": 3,
    "start_time": "2022-11-09T12:33:00.979Z"
   },
   {
    "duration": 22,
    "start_time": "2022-11-09T12:33:01.212Z"
   },
   {
    "duration": 4,
    "start_time": "2022-11-09T12:33:01.492Z"
   },
   {
    "duration": 34,
    "start_time": "2022-11-09T12:33:01.992Z"
   },
   {
    "duration": 4,
    "start_time": "2022-11-09T12:33:02.242Z"
   },
   {
    "duration": 3,
    "start_time": "2022-11-09T12:33:02.709Z"
   },
   {
    "duration": 11,
    "start_time": "2022-11-09T12:33:02.914Z"
   },
   {
    "duration": 38,
    "start_time": "2022-11-09T12:33:03.132Z"
   },
   {
    "duration": 4,
    "start_time": "2022-11-09T12:33:03.379Z"
   },
   {
    "duration": 53,
    "start_time": "2022-11-09T12:33:03.733Z"
   },
   {
    "duration": 70,
    "start_time": "2022-11-09T12:33:05.132Z"
   },
   {
    "duration": 4,
    "start_time": "2022-11-09T12:33:05.533Z"
   },
   {
    "duration": 73,
    "start_time": "2022-11-09T12:33:05.746Z"
   },
   {
    "duration": 63,
    "start_time": "2022-11-09T12:33:06.688Z"
   },
   {
    "duration": 2,
    "start_time": "2022-11-09T12:33:08.143Z"
   },
   {
    "duration": 3,
    "start_time": "2022-11-09T12:33:09.092Z"
   },
   {
    "duration": 97,
    "start_time": "2022-11-09T12:33:09.642Z"
   },
   {
    "duration": 6,
    "start_time": "2022-11-09T12:33:13.798Z"
   },
   {
    "duration": 8,
    "start_time": "2022-11-09T12:33:14.280Z"
   },
   {
    "duration": 41,
    "start_time": "2022-11-09T12:33:17.571Z"
   },
   {
    "duration": 10,
    "start_time": "2022-11-09T12:33:17.870Z"
   },
   {
    "duration": 26,
    "start_time": "2022-11-09T12:33:26.774Z"
   },
   {
    "duration": 30,
    "start_time": "2022-11-09T12:33:27.407Z"
   },
   {
    "duration": 3,
    "start_time": "2022-11-09T12:33:40.064Z"
   },
   {
    "duration": 684,
    "start_time": "2022-11-09T12:34:42.683Z"
   },
   {
    "duration": 4,
    "start_time": "2022-11-09T12:34:49.309Z"
   },
   {
    "duration": 34,
    "start_time": "2022-11-09T12:36:00.442Z"
   },
   {
    "duration": 107,
    "start_time": "2022-11-09T12:36:03.405Z"
   },
   {
    "duration": 4,
    "start_time": "2022-11-09T12:36:36.436Z"
   },
   {
    "duration": 768,
    "start_time": "2022-11-09T12:36:36.442Z"
   },
   {
    "duration": 5,
    "start_time": "2022-11-09T12:36:37.212Z"
   },
   {
    "duration": 799,
    "start_time": "2022-11-09T12:36:37.219Z"
   },
   {
    "duration": 779,
    "start_time": "2022-11-09T12:36:38.020Z"
   },
   {
    "duration": 3,
    "start_time": "2022-11-09T12:36:38.800Z"
   },
   {
    "duration": 54,
    "start_time": "2022-11-09T12:36:38.805Z"
   },
   {
    "duration": 4,
    "start_time": "2022-11-09T12:36:38.860Z"
   },
   {
    "duration": 402,
    "start_time": "2022-11-09T12:36:38.866Z"
   },
   {
    "duration": 32,
    "start_time": "2022-11-09T12:36:39.269Z"
   },
   {
    "duration": 3,
    "start_time": "2022-11-09T12:36:39.303Z"
   },
   {
    "duration": 40,
    "start_time": "2022-11-09T12:36:39.307Z"
   },
   {
    "duration": 3,
    "start_time": "2022-11-09T12:36:39.349Z"
   },
   {
    "duration": 33,
    "start_time": "2022-11-09T12:36:39.354Z"
   },
   {
    "duration": 4,
    "start_time": "2022-11-09T12:36:39.388Z"
   },
   {
    "duration": 6,
    "start_time": "2022-11-09T12:36:39.393Z"
   },
   {
    "duration": 34,
    "start_time": "2022-11-09T12:36:39.401Z"
   },
   {
    "duration": 33,
    "start_time": "2022-11-09T12:36:39.436Z"
   },
   {
    "duration": 4,
    "start_time": "2022-11-09T12:36:39.471Z"
   },
   {
    "duration": 151,
    "start_time": "2022-11-09T12:36:39.476Z"
   },
   {
    "duration": 77,
    "start_time": "2022-11-09T12:36:39.629Z"
   },
   {
    "duration": 4,
    "start_time": "2022-11-09T12:36:39.708Z"
   },
   {
    "duration": 86,
    "start_time": "2022-11-09T12:36:39.714Z"
   },
   {
    "duration": 78,
    "start_time": "2022-11-09T12:36:39.803Z"
   },
   {
    "duration": 2,
    "start_time": "2022-11-09T12:36:39.883Z"
   },
   {
    "duration": 7,
    "start_time": "2022-11-09T12:36:39.887Z"
   },
   {
    "duration": 114,
    "start_time": "2022-11-09T12:36:39.895Z"
   },
   {
    "duration": 6,
    "start_time": "2022-11-09T12:36:40.010Z"
   },
   {
    "duration": 21,
    "start_time": "2022-11-09T12:36:40.018Z"
   },
   {
    "duration": 44,
    "start_time": "2022-11-09T12:36:40.041Z"
   },
   {
    "duration": 11,
    "start_time": "2022-11-09T12:36:40.087Z"
   },
   {
    "duration": 37,
    "start_time": "2022-11-09T12:36:40.100Z"
   },
   {
    "duration": 15,
    "start_time": "2022-11-09T12:36:43.539Z"
   },
   {
    "duration": 2,
    "start_time": "2022-11-09T12:36:44.056Z"
   },
   {
    "duration": 14,
    "start_time": "2022-11-09T12:36:45.046Z"
   },
   {
    "duration": 577,
    "start_time": "2022-11-09T12:37:18.683Z"
   },
   {
    "duration": 11,
    "start_time": "2022-11-09T12:37:57.693Z"
   },
   {
    "duration": 10,
    "start_time": "2022-11-09T12:38:00.268Z"
   },
   {
    "duration": 72,
    "start_time": "2022-11-09T12:38:30.847Z"
   },
   {
    "duration": 20,
    "start_time": "2022-11-09T12:38:35.718Z"
   },
   {
    "duration": 1333,
    "start_time": "2022-11-09T12:39:16.371Z"
   },
   {
    "duration": 4,
    "start_time": "2022-11-09T12:39:34.671Z"
   },
   {
    "duration": 732,
    "start_time": "2022-11-09T12:39:34.677Z"
   },
   {
    "duration": 4,
    "start_time": "2022-11-09T12:39:35.411Z"
   },
   {
    "duration": 801,
    "start_time": "2022-11-09T12:39:35.416Z"
   },
   {
    "duration": 814,
    "start_time": "2022-11-09T12:39:36.218Z"
   },
   {
    "duration": 4,
    "start_time": "2022-11-09T12:39:37.033Z"
   },
   {
    "duration": 56,
    "start_time": "2022-11-09T12:39:37.038Z"
   },
   {
    "duration": 16,
    "start_time": "2022-11-09T12:39:37.096Z"
   },
   {
    "duration": 382,
    "start_time": "2022-11-09T12:39:37.114Z"
   },
   {
    "duration": 37,
    "start_time": "2022-11-09T12:39:37.498Z"
   },
   {
    "duration": 3,
    "start_time": "2022-11-09T12:39:37.538Z"
   },
   {
    "duration": 23,
    "start_time": "2022-11-09T12:39:37.543Z"
   },
   {
    "duration": 4,
    "start_time": "2022-11-09T12:39:37.568Z"
   },
   {
    "duration": 25,
    "start_time": "2022-11-09T12:39:37.573Z"
   },
   {
    "duration": 4,
    "start_time": "2022-11-09T12:39:37.599Z"
   },
   {
    "duration": 4,
    "start_time": "2022-11-09T12:39:37.604Z"
   },
   {
    "duration": 29,
    "start_time": "2022-11-09T12:39:37.610Z"
   },
   {
    "duration": 34,
    "start_time": "2022-11-09T12:39:37.640Z"
   },
   {
    "duration": 4,
    "start_time": "2022-11-09T12:39:37.675Z"
   },
   {
    "duration": 70,
    "start_time": "2022-11-09T12:39:37.680Z"
   },
   {
    "duration": 65,
    "start_time": "2022-11-09T12:39:37.752Z"
   },
   {
    "duration": 4,
    "start_time": "2022-11-09T12:39:37.835Z"
   },
   {
    "duration": 73,
    "start_time": "2022-11-09T12:39:37.840Z"
   },
   {
    "duration": 72,
    "start_time": "2022-11-09T12:39:37.915Z"
   },
   {
    "duration": 3,
    "start_time": "2022-11-09T12:39:37.989Z"
   },
   {
    "duration": 6,
    "start_time": "2022-11-09T12:39:37.994Z"
   },
   {
    "duration": 103,
    "start_time": "2022-11-09T12:39:38.002Z"
   },
   {
    "duration": 5,
    "start_time": "2022-11-09T12:39:38.107Z"
   },
   {
    "duration": 24,
    "start_time": "2022-11-09T12:39:38.115Z"
   },
   {
    "duration": 38,
    "start_time": "2022-11-09T12:39:38.140Z"
   },
   {
    "duration": 8,
    "start_time": "2022-11-09T12:39:38.180Z"
   },
   {
    "duration": 11,
    "start_time": "2022-11-09T12:39:41.719Z"
   },
   {
    "duration": 15,
    "start_time": "2022-11-09T12:39:42.058Z"
   },
   {
    "duration": 12,
    "start_time": "2022-11-09T12:39:43.152Z"
   },
   {
    "duration": 2,
    "start_time": "2022-11-09T12:39:47.396Z"
   },
   {
    "duration": 1472,
    "start_time": "2022-11-09T12:39:48.743Z"
   },
   {
    "duration": 235,
    "start_time": "2022-11-09T12:40:02.832Z"
   },
   {
    "duration": 20,
    "start_time": "2022-11-09T12:40:04.885Z"
   },
   {
    "duration": 1113,
    "start_time": "2022-11-09T12:42:29.573Z"
   },
   {
    "duration": 24,
    "start_time": "2022-11-09T12:42:32.077Z"
   },
   {
    "duration": 3,
    "start_time": "2022-11-09T12:51:36.175Z"
   },
   {
    "duration": 9,
    "start_time": "2022-11-09T12:52:01.530Z"
   },
   {
    "duration": 2,
    "start_time": "2022-11-09T12:52:05.336Z"
   },
   {
    "duration": 467,
    "start_time": "2022-11-09T12:52:07.646Z"
   },
   {
    "duration": 3,
    "start_time": "2022-11-09T12:52:28.245Z"
   },
   {
    "duration": 539,
    "start_time": "2022-11-09T12:52:30.081Z"
   },
   {
    "duration": 16,
    "start_time": "2022-11-09T12:53:20.026Z"
   },
   {
    "duration": 31,
    "start_time": "2022-11-09T12:53:27.527Z"
   },
   {
    "duration": 9,
    "start_time": "2022-11-09T12:54:15.803Z"
   },
   {
    "duration": 25,
    "start_time": "2022-11-09T12:54:20.000Z"
   },
   {
    "duration": 6,
    "start_time": "2022-11-09T12:54:49.228Z"
   },
   {
    "duration": 22,
    "start_time": "2022-11-09T12:54:50.393Z"
   },
   {
    "duration": 13,
    "start_time": "2022-11-09T12:55:30.020Z"
   },
   {
    "duration": 3,
    "start_time": "2022-11-09T12:55:31.040Z"
   },
   {
    "duration": 3,
    "start_time": "2022-11-09T12:55:31.904Z"
   },
   {
    "duration": 2,
    "start_time": "2022-11-09T12:55:32.475Z"
   },
   {
    "duration": 465,
    "start_time": "2022-11-09T12:55:35.903Z"
   },
   {
    "duration": 21,
    "start_time": "2022-11-09T12:55:39.007Z"
   },
   {
    "duration": 17,
    "start_time": "2022-11-09T12:55:40.558Z"
   },
   {
    "duration": 18,
    "start_time": "2022-11-09T12:56:13.543Z"
   },
   {
    "duration": 3,
    "start_time": "2022-11-09T12:56:14.011Z"
   },
   {
    "duration": 3,
    "start_time": "2022-11-09T12:56:14.472Z"
   },
   {
    "duration": 3,
    "start_time": "2022-11-09T12:56:14.883Z"
   },
   {
    "duration": 512,
    "start_time": "2022-11-09T12:56:18.159Z"
   },
   {
    "duration": 3,
    "start_time": "2022-11-09T12:56:47.890Z"
   },
   {
    "duration": 496,
    "start_time": "2022-11-09T12:56:49.235Z"
   },
   {
    "duration": 466,
    "start_time": "2022-11-09T12:57:22.954Z"
   },
   {
    "duration": 13,
    "start_time": "2022-11-09T12:57:51.200Z"
   },
   {
    "duration": 3,
    "start_time": "2022-11-09T12:57:51.907Z"
   },
   {
    "duration": 3,
    "start_time": "2022-11-09T12:57:52.298Z"
   },
   {
    "duration": 3,
    "start_time": "2022-11-09T12:57:52.720Z"
   },
   {
    "duration": 904,
    "start_time": "2022-11-09T12:57:53.218Z"
   },
   {
    "duration": 121965,
    "start_time": "2022-11-09T13:11:35.544Z"
   },
   {
    "duration": 74,
    "start_time": "2022-11-09T13:22:31.861Z"
   },
   {
    "duration": 87,
    "start_time": "2022-11-09T13:24:59.864Z"
   },
   {
    "duration": 5,
    "start_time": "2022-11-09T13:25:11.191Z"
   },
   {
    "duration": 4,
    "start_time": "2022-11-09T13:25:41.873Z"
   },
   {
    "duration": 77,
    "start_time": "2022-11-09T13:25:54.760Z"
   },
   {
    "duration": 3,
    "start_time": "2022-11-09T13:26:16.690Z"
   },
   {
    "duration": 78,
    "start_time": "2022-11-09T13:26:21.601Z"
   },
   {
    "duration": 82,
    "start_time": "2022-11-09T13:26:50.943Z"
   },
   {
    "duration": 125979,
    "start_time": "2022-11-09T13:28:08.700Z"
   },
   {
    "duration": 4,
    "start_time": "2022-11-09T13:30:14.681Z"
   },
   {
    "duration": 15,
    "start_time": "2022-11-09T13:32:55.801Z"
   },
   {
    "duration": 3,
    "start_time": "2022-11-09T13:33:53.883Z"
   },
   {
    "duration": 98,
    "start_time": "2022-11-09T13:34:06.304Z"
   },
   {
    "duration": 1574,
    "start_time": "2022-11-09T13:35:14.108Z"
   },
   {
    "duration": 5,
    "start_time": "2022-11-09T13:36:02.841Z"
   },
   {
    "duration": 707,
    "start_time": "2022-11-09T13:36:03.028Z"
   },
   {
    "duration": 4,
    "start_time": "2022-11-09T13:36:03.737Z"
   },
   {
    "duration": 767,
    "start_time": "2022-11-09T13:36:03.742Z"
   },
   {
    "duration": 809,
    "start_time": "2022-11-09T13:36:04.511Z"
   },
   {
    "duration": 3,
    "start_time": "2022-11-09T13:36:05.322Z"
   },
   {
    "duration": 32,
    "start_time": "2022-11-09T13:36:05.420Z"
   },
   {
    "duration": 4,
    "start_time": "2022-11-09T13:36:05.748Z"
   },
   {
    "duration": 387,
    "start_time": "2022-11-09T13:36:06.609Z"
   },
   {
    "duration": 30,
    "start_time": "2022-11-09T13:36:07.215Z"
   },
   {
    "duration": 4,
    "start_time": "2022-11-09T13:36:09.220Z"
   },
   {
    "duration": 27,
    "start_time": "2022-11-09T13:36:09.458Z"
   },
   {
    "duration": 3,
    "start_time": "2022-11-09T13:36:09.717Z"
   },
   {
    "duration": 24,
    "start_time": "2022-11-09T13:36:10.204Z"
   },
   {
    "duration": 4,
    "start_time": "2022-11-09T13:36:10.752Z"
   },
   {
    "duration": 3,
    "start_time": "2022-11-09T13:36:12.601Z"
   },
   {
    "duration": 10,
    "start_time": "2022-11-09T13:36:12.959Z"
   },
   {
    "duration": 37,
    "start_time": "2022-11-09T13:36:13.149Z"
   },
   {
    "duration": 4,
    "start_time": "2022-11-09T13:36:13.380Z"
   },
   {
    "duration": 51,
    "start_time": "2022-11-09T13:36:13.640Z"
   },
   {
    "duration": 71,
    "start_time": "2022-11-09T13:36:16.096Z"
   },
   {
    "duration": 4,
    "start_time": "2022-11-09T13:36:17.846Z"
   },
   {
    "duration": 1114,
    "start_time": "2022-11-09T13:36:18.851Z"
   },
   {
    "duration": 0,
    "start_time": "2022-11-09T13:36:19.967Z"
   },
   {
    "duration": 86,
    "start_time": "2022-11-09T13:36:28.006Z"
   },
   {
    "duration": 2,
    "start_time": "2022-11-09T13:38:28.984Z"
   },
   {
    "duration": 36,
    "start_time": "2022-11-09T13:38:41.914Z"
   },
   {
    "duration": 32,
    "start_time": "2022-11-09T13:38:59.318Z"
   },
   {
    "duration": 21,
    "start_time": "2022-11-09T13:39:04.928Z"
   },
   {
    "duration": 5,
    "start_time": "2022-11-09T13:39:52.872Z"
   },
   {
    "duration": 697,
    "start_time": "2022-11-09T13:39:53.414Z"
   },
   {
    "duration": 5,
    "start_time": "2022-11-09T13:39:54.113Z"
   },
   {
    "duration": 778,
    "start_time": "2022-11-09T13:39:54.120Z"
   },
   {
    "duration": 778,
    "start_time": "2022-11-09T13:39:56.109Z"
   },
   {
    "duration": 4,
    "start_time": "2022-11-09T13:39:56.889Z"
   },
   {
    "duration": 37,
    "start_time": "2022-11-09T13:39:56.983Z"
   },
   {
    "duration": 4,
    "start_time": "2022-11-09T13:39:57.169Z"
   },
   {
    "duration": 390,
    "start_time": "2022-11-09T13:39:57.600Z"
   },
   {
    "duration": 30,
    "start_time": "2022-11-09T13:39:58.670Z"
   },
   {
    "duration": 4,
    "start_time": "2022-11-09T13:40:01.314Z"
   },
   {
    "duration": 25,
    "start_time": "2022-11-09T13:40:01.562Z"
   },
   {
    "duration": 3,
    "start_time": "2022-11-09T13:40:01.951Z"
   },
   {
    "duration": 31,
    "start_time": "2022-11-09T13:40:02.679Z"
   },
   {
    "duration": 5,
    "start_time": "2022-11-09T13:40:02.906Z"
   },
   {
    "duration": 4,
    "start_time": "2022-11-09T13:40:03.389Z"
   },
   {
    "duration": 10,
    "start_time": "2022-11-09T13:40:03.970Z"
   },
   {
    "duration": 33,
    "start_time": "2022-11-09T13:40:04.212Z"
   },
   {
    "duration": 3,
    "start_time": "2022-11-09T13:40:04.518Z"
   },
   {
    "duration": 51,
    "start_time": "2022-11-09T13:40:05.055Z"
   },
   {
    "duration": 65,
    "start_time": "2022-11-09T13:40:07.966Z"
   },
   {
    "duration": 4,
    "start_time": "2022-11-09T13:40:09.543Z"
   },
   {
    "duration": 2,
    "start_time": "2022-11-09T13:40:12.562Z"
   },
   {
    "duration": 29,
    "start_time": "2022-11-09T13:40:13.733Z"
   },
   {
    "duration": 110,
    "start_time": "2022-11-09T13:40:16.356Z"
   },
   {
    "duration": 21,
    "start_time": "2022-11-09T13:40:24.831Z"
   },
   {
    "duration": 16,
    "start_time": "2022-11-09T13:40:31.051Z"
   },
   {
    "duration": 4,
    "start_time": "2022-11-09T13:47:29.401Z"
   },
   {
    "duration": 3,
    "start_time": "2022-11-09T13:48:38.028Z"
   },
   {
    "duration": 510,
    "start_time": "2022-11-09T13:48:39.066Z"
   },
   {
    "duration": 97,
    "start_time": "2022-11-09T13:48:45.730Z"
   },
   {
    "duration": 13,
    "start_time": "2022-11-09T13:49:26.690Z"
   },
   {
    "duration": 3,
    "start_time": "2022-11-09T13:49:27.571Z"
   },
   {
    "duration": 3,
    "start_time": "2022-11-09T13:49:28.029Z"
   },
   {
    "duration": 4,
    "start_time": "2022-11-09T13:49:28.443Z"
   },
   {
    "duration": 917,
    "start_time": "2022-11-09T13:49:29.399Z"
   },
   {
    "duration": 122491,
    "start_time": "2022-11-09T13:49:34.019Z"
   },
   {
    "duration": 3,
    "start_time": "2022-11-09T13:51:36.512Z"
   },
   {
    "duration": 523,
    "start_time": "2022-11-09T13:51:36.516Z"
   },
   {
    "duration": 3,
    "start_time": "2022-11-09T13:51:37.041Z"
   },
   {
    "duration": 32,
    "start_time": "2022-11-09T13:51:37.045Z"
   },
   {
    "duration": 3,
    "start_time": "2022-11-09T13:53:17.445Z"
   },
   {
    "duration": 2129,
    "start_time": "2022-11-09T13:53:20.961Z"
   },
   {
    "duration": 71,
    "start_time": "2022-11-09T13:53:26.076Z"
   },
   {
    "duration": 2,
    "start_time": "2022-11-09T13:53:33.821Z"
   },
   {
    "duration": 5640,
    "start_time": "2022-11-09T13:53:34.244Z"
   },
   {
    "duration": 170,
    "start_time": "2022-11-09T13:53:39.886Z"
   },
   {
    "duration": 79,
    "start_time": "2022-11-09T13:54:29.294Z"
   },
   {
    "duration": 11627,
    "start_time": "2022-11-09T13:55:26.043Z"
   },
   {
    "duration": 3,
    "start_time": "2022-11-09T13:56:11.088Z"
   },
   {
    "duration": 776,
    "start_time": "2022-11-09T13:56:12.323Z"
   },
   {
    "duration": 10,
    "start_time": "2022-11-09T13:56:13.101Z"
   },
   {
    "duration": 766,
    "start_time": "2022-11-09T13:56:14.095Z"
   },
   {
    "duration": 850,
    "start_time": "2022-11-09T13:56:16.714Z"
   },
   {
    "duration": 4,
    "start_time": "2022-11-09T13:56:17.711Z"
   },
   {
    "duration": 35,
    "start_time": "2022-11-09T13:56:18.016Z"
   },
   {
    "duration": 4,
    "start_time": "2022-11-09T13:56:18.314Z"
   },
   {
    "duration": 374,
    "start_time": "2022-11-09T13:56:19.000Z"
   },
   {
    "duration": 33,
    "start_time": "2022-11-09T13:56:19.500Z"
   },
   {
    "duration": 5,
    "start_time": "2022-11-09T13:56:20.378Z"
   },
   {
    "duration": 24,
    "start_time": "2022-11-09T13:56:20.591Z"
   },
   {
    "duration": 3,
    "start_time": "2022-11-09T13:56:20.814Z"
   },
   {
    "duration": 24,
    "start_time": "2022-11-09T13:56:21.311Z"
   },
   {
    "duration": 4,
    "start_time": "2022-11-09T13:56:21.555Z"
   },
   {
    "duration": 3,
    "start_time": "2022-11-09T13:56:21.994Z"
   },
   {
    "duration": 9,
    "start_time": "2022-11-09T13:56:22.268Z"
   },
   {
    "duration": 39,
    "start_time": "2022-11-09T13:56:22.478Z"
   },
   {
    "duration": 4,
    "start_time": "2022-11-09T13:56:22.695Z"
   },
   {
    "duration": 52,
    "start_time": "2022-11-09T13:56:22.905Z"
   },
   {
    "duration": 67,
    "start_time": "2022-11-09T13:56:24.598Z"
   },
   {
    "duration": 4,
    "start_time": "2022-11-09T13:56:25.558Z"
   },
   {
    "duration": 16,
    "start_time": "2022-11-09T13:56:25.815Z"
   },
   {
    "duration": 66,
    "start_time": "2022-11-09T13:56:26.782Z"
   },
   {
    "duration": 84,
    "start_time": "2022-11-09T13:56:32.844Z"
   },
   {
    "duration": 16,
    "start_time": "2022-11-09T13:56:44.304Z"
   },
   {
    "duration": 63,
    "start_time": "2022-11-09T13:56:44.874Z"
   },
   {
    "duration": 65,
    "start_time": "2022-11-09T13:56:45.740Z"
   },
   {
    "duration": 3,
    "start_time": "2022-11-09T13:56:48.490Z"
   },
   {
    "duration": 4,
    "start_time": "2022-11-09T13:56:50.594Z"
   },
   {
    "duration": 95,
    "start_time": "2022-11-09T13:56:54.610Z"
   },
   {
    "duration": 5,
    "start_time": "2022-11-09T13:56:55.202Z"
   },
   {
    "duration": 6,
    "start_time": "2022-11-09T13:56:55.969Z"
   },
   {
    "duration": 40,
    "start_time": "2022-11-09T13:56:56.675Z"
   },
   {
    "duration": 8,
    "start_time": "2022-11-09T13:56:57.330Z"
   },
   {
    "duration": 12,
    "start_time": "2022-11-09T13:56:58.741Z"
   },
   {
    "duration": 2,
    "start_time": "2022-11-09T13:56:59.283Z"
   },
   {
    "duration": 3,
    "start_time": "2022-11-09T13:57:01.089Z"
   },
   {
    "duration": 3,
    "start_time": "2022-11-09T13:57:01.485Z"
   },
   {
    "duration": 884,
    "start_time": "2022-11-09T13:57:01.891Z"
   },
   {
    "duration": 1276,
    "start_time": "2022-11-09T13:57:08.702Z"
   },
   {
    "duration": 58731,
    "start_time": "2022-11-09T13:57:41.491Z"
   },
   {
    "duration": 5,
    "start_time": "2022-11-09T13:58:57.134Z"
   },
   {
    "duration": 3,
    "start_time": "2022-11-09T14:00:22.353Z"
   },
   {
    "duration": 3,
    "start_time": "2022-11-09T14:00:30.773Z"
   },
   {
    "duration": 13,
    "start_time": "2022-11-09T14:01:05.007Z"
   },
   {
    "duration": 4,
    "start_time": "2022-11-09T14:01:06.604Z"
   },
   {
    "duration": 18,
    "start_time": "2022-11-09T14:01:07.128Z"
   },
   {
    "duration": 2,
    "start_time": "2022-11-09T14:01:14.972Z"
   },
   {
    "duration": 12,
    "start_time": "2022-11-09T14:01:17.714Z"
   },
   {
    "duration": 3,
    "start_time": "2022-11-09T14:01:18.496Z"
   },
   {
    "duration": 3,
    "start_time": "2022-11-09T14:01:19.047Z"
   },
   {
    "duration": 4,
    "start_time": "2022-11-09T14:01:19.619Z"
   },
   {
    "duration": 19,
    "start_time": "2022-11-09T14:01:20.259Z"
   },
   {
    "duration": 3,
    "start_time": "2022-11-09T14:01:36.154Z"
   },
   {
    "duration": 3,
    "start_time": "2022-11-09T14:01:37.376Z"
   },
   {
    "duration": 16,
    "start_time": "2022-11-09T14:01:37.982Z"
   },
   {
    "duration": 14,
    "start_time": "2022-11-09T14:01:41.019Z"
   },
   {
    "duration": 3,
    "start_time": "2022-11-09T14:01:41.436Z"
   },
   {
    "duration": 3,
    "start_time": "2022-11-09T14:01:43.734Z"
   },
   {
    "duration": 4,
    "start_time": "2022-11-09T14:01:44.418Z"
   },
   {
    "duration": 4,
    "start_time": "2022-11-09T14:01:44.794Z"
   },
   {
    "duration": 861,
    "start_time": "2022-11-09T14:01:45.765Z"
   },
   {
    "duration": 12,
    "start_time": "2022-11-09T14:03:35.800Z"
   },
   {
    "duration": 23,
    "start_time": "2022-11-09T14:03:36.234Z"
   },
   {
    "duration": 3,
    "start_time": "2022-11-09T14:03:36.657Z"
   },
   {
    "duration": 3,
    "start_time": "2022-11-09T14:03:37.192Z"
   },
   {
    "duration": 3,
    "start_time": "2022-11-09T14:03:37.760Z"
   },
   {
    "duration": 3,
    "start_time": "2022-11-09T14:03:38.223Z"
   },
   {
    "duration": 850,
    "start_time": "2022-11-09T14:03:38.658Z"
   },
   {
    "duration": 231,
    "start_time": "2022-11-09T14:03:41.508Z"
   },
   {
    "duration": 20,
    "start_time": "2022-11-09T14:04:03.852Z"
   },
   {
    "duration": 16,
    "start_time": "2022-11-09T14:04:19.228Z"
   },
   {
    "duration": 20,
    "start_time": "2022-11-09T14:04:41.312Z"
   },
   {
    "duration": 12,
    "start_time": "2022-11-09T14:05:00.091Z"
   },
   {
    "duration": 18,
    "start_time": "2022-11-09T14:05:00.520Z"
   },
   {
    "duration": 3,
    "start_time": "2022-11-09T14:05:01.703Z"
   },
   {
    "duration": 3,
    "start_time": "2022-11-09T14:05:02.157Z"
   },
   {
    "duration": 3,
    "start_time": "2022-11-09T14:05:02.573Z"
   },
   {
    "duration": 3,
    "start_time": "2022-11-09T14:05:02.986Z"
   },
   {
    "duration": 17,
    "start_time": "2022-11-09T14:05:08.288Z"
   },
   {
    "duration": 15,
    "start_time": "2022-11-09T14:05:11.181Z"
   },
   {
    "duration": 244,
    "start_time": "2022-11-09T14:05:16.463Z"
   },
   {
    "duration": 22,
    "start_time": "2022-11-09T14:05:19.490Z"
   },
   {
    "duration": 909,
    "start_time": "2022-11-09T14:05:37.510Z"
   },
   {
    "duration": 19,
    "start_time": "2022-11-09T14:05:42.403Z"
   },
   {
    "duration": 4,
    "start_time": "2022-11-09T14:05:54.033Z"
   },
   {
    "duration": 23,
    "start_time": "2022-11-09T14:05:56.174Z"
   },
   {
    "duration": 14,
    "start_time": "2022-11-09T14:05:58.791Z"
   },
   {
    "duration": 17,
    "start_time": "2022-11-09T14:05:59.072Z"
   },
   {
    "duration": 2,
    "start_time": "2022-11-09T14:05:59.352Z"
   },
   {
    "duration": 4,
    "start_time": "2022-11-09T14:05:59.592Z"
   },
   {
    "duration": 4,
    "start_time": "2022-11-09T14:05:59.843Z"
   },
   {
    "duration": 2,
    "start_time": "2022-11-09T14:06:00.116Z"
   },
   {
    "duration": 906,
    "start_time": "2022-11-09T14:06:00.715Z"
   },
   {
    "duration": 25,
    "start_time": "2022-11-09T14:06:02.552Z"
   },
   {
    "duration": 1320,
    "start_time": "2022-11-09T22:24:37.635Z"
   },
   {
    "duration": 2825,
    "start_time": "2022-11-09T22:24:41.843Z"
   },
   {
    "duration": 5,
    "start_time": "2022-11-09T22:24:44.670Z"
   },
   {
    "duration": 1367,
    "start_time": "2022-11-09T22:24:47.746Z"
   },
   {
    "duration": 1054,
    "start_time": "2022-11-09T22:24:51.475Z"
   },
   {
    "duration": 5,
    "start_time": "2022-11-09T22:24:52.531Z"
   },
   {
    "duration": 100,
    "start_time": "2022-11-09T22:24:52.537Z"
   },
   {
    "duration": 5,
    "start_time": "2022-11-09T22:24:52.640Z"
   },
   {
    "duration": 470,
    "start_time": "2022-11-09T22:24:53.027Z"
   },
   {
    "duration": 32,
    "start_time": "2022-11-09T22:24:53.771Z"
   },
   {
    "duration": 4,
    "start_time": "2022-11-09T22:24:54.802Z"
   },
   {
    "duration": 34,
    "start_time": "2022-11-09T22:24:55.059Z"
   },
   {
    "duration": 5,
    "start_time": "2022-11-09T22:24:55.291Z"
   },
   {
    "duration": 34,
    "start_time": "2022-11-09T22:24:55.706Z"
   },
   {
    "duration": 4,
    "start_time": "2022-11-09T22:24:55.922Z"
   },
   {
    "duration": 3,
    "start_time": "2022-11-09T22:24:56.339Z"
   },
   {
    "duration": 13,
    "start_time": "2022-11-09T22:24:57.027Z"
   },
   {
    "duration": 47,
    "start_time": "2022-11-09T22:24:57.255Z"
   },
   {
    "duration": 4,
    "start_time": "2022-11-09T22:24:57.698Z"
   },
   {
    "duration": 55,
    "start_time": "2022-11-09T22:24:58.138Z"
   },
   {
    "duration": 86,
    "start_time": "2022-11-09T22:25:01.818Z"
   },
   {
    "duration": 6,
    "start_time": "2022-11-09T22:25:02.323Z"
   },
   {
    "duration": 24,
    "start_time": "2022-11-09T22:25:02.722Z"
   },
   {
    "duration": 83,
    "start_time": "2022-11-09T22:25:02.978Z"
   },
   {
    "duration": 81,
    "start_time": "2022-11-09T22:25:13.475Z"
   },
   {
    "duration": 4,
    "start_time": "2022-11-09T22:25:19.658Z"
   },
   {
    "duration": 4,
    "start_time": "2022-11-09T22:25:23.410Z"
   },
   {
    "duration": 87,
    "start_time": "2022-11-09T22:25:23.682Z"
   },
   {
    "duration": 6,
    "start_time": "2022-11-09T22:25:23.913Z"
   },
   {
    "duration": 7,
    "start_time": "2022-11-09T22:25:24.138Z"
   },
   {
    "duration": 59,
    "start_time": "2022-11-09T22:25:24.419Z"
   },
   {
    "duration": 11,
    "start_time": "2022-11-09T22:25:25.978Z"
   },
   {
    "duration": 23,
    "start_time": "2022-11-09T22:25:35.146Z"
   },
   {
    "duration": 35,
    "start_time": "2022-11-09T22:25:35.514Z"
   },
   {
    "duration": 3,
    "start_time": "2022-11-09T22:25:36.050Z"
   },
   {
    "duration": 3,
    "start_time": "2022-11-09T22:25:36.668Z"
   },
   {
    "duration": 3,
    "start_time": "2022-11-09T22:25:49.858Z"
   },
   {
    "duration": 3,
    "start_time": "2022-11-09T22:25:50.554Z"
   },
   {
    "duration": 3,
    "start_time": "2022-11-09T22:25:58.283Z"
   },
   {
    "duration": 4,
    "start_time": "2022-11-09T22:25:58.761Z"
   },
   {
    "duration": 967,
    "start_time": "2022-11-09T22:26:09.723Z"
   },
   {
    "duration": 36,
    "start_time": "2022-11-09T22:26:13.315Z"
   },
   {
    "duration": 3,
    "start_time": "2022-11-09T22:26:40.554Z"
   },
   {
    "duration": 908,
    "start_time": "2022-11-09T22:26:41.050Z"
   },
   {
    "duration": 26,
    "start_time": "2022-11-09T22:26:42.922Z"
   },
   {
    "duration": 386,
    "start_time": "2022-11-09T22:27:06.971Z"
   },
   {
    "duration": 3,
    "start_time": "2022-11-09T22:28:26.786Z"
   },
   {
    "duration": 10,
    "start_time": "2022-11-09T22:28:28.889Z"
   },
   {
    "duration": 3,
    "start_time": "2022-11-09T22:28:52.386Z"
   },
   {
    "duration": 3,
    "start_time": "2022-11-09T22:28:57.193Z"
   },
   {
    "duration": 9,
    "start_time": "2022-11-09T22:29:00.057Z"
   },
   {
    "duration": 3,
    "start_time": "2022-11-09T22:29:34.602Z"
   },
   {
    "duration": 3,
    "start_time": "2022-11-09T22:29:43.441Z"
   },
   {
    "duration": 284,
    "start_time": "2022-11-09T22:29:45.089Z"
   },
   {
    "duration": 3,
    "start_time": "2022-11-09T22:30:07.058Z"
   },
   {
    "duration": 734,
    "start_time": "2022-11-09T22:30:08.913Z"
   },
   {
    "duration": 4,
    "start_time": "2022-11-09T22:30:16.425Z"
   },
   {
    "duration": 15,
    "start_time": "2022-11-09T22:30:46.778Z"
   },
   {
    "duration": 3,
    "start_time": "2022-11-09T22:32:23.384Z"
   },
   {
    "duration": 28,
    "start_time": "2022-11-09T22:32:26.455Z"
   },
   {
    "duration": 3,
    "start_time": "2022-11-09T22:40:03.790Z"
   },
   {
    "duration": 19,
    "start_time": "2022-11-09T22:40:06.541Z"
   },
   {
    "duration": 8,
    "start_time": "2022-11-09T22:41:32.677Z"
   },
   {
    "duration": 3,
    "start_time": "2022-11-09T22:45:19.698Z"
   },
   {
    "duration": 19,
    "start_time": "2022-11-09T22:45:20.115Z"
   },
   {
    "duration": 13,
    "start_time": "2022-11-09T22:45:23.482Z"
   },
   {
    "duration": 3,
    "start_time": "2022-11-09T22:45:23.946Z"
   },
   {
    "duration": 3,
    "start_time": "2022-11-09T22:45:24.363Z"
   },
   {
    "duration": 3,
    "start_time": "2022-11-09T22:45:24.842Z"
   },
   {
    "duration": 892,
    "start_time": "2022-11-09T22:45:25.635Z"
   },
   {
    "duration": 16,
    "start_time": "2022-11-09T22:45:27.298Z"
   },
   {
    "duration": 59,
    "start_time": "2022-11-09T22:45:30.490Z"
   },
   {
    "duration": 61,
    "start_time": "2022-11-09T22:45:57.992Z"
   },
   {
    "duration": 141,
    "start_time": "2022-11-09T22:46:03.766Z"
   },
   {
    "duration": 57,
    "start_time": "2022-11-09T22:47:51.994Z"
   },
   {
    "duration": 66412,
    "start_time": "2022-11-09T22:47:55.658Z"
   },
   {
    "duration": 12,
    "start_time": "2022-11-09T22:51:35.569Z"
   },
   {
    "duration": 71085,
    "start_time": "2022-11-09T22:52:10.881Z"
   },
   {
    "duration": 9,
    "start_time": "2022-11-09T22:53:21.968Z"
   },
   {
    "duration": 79107,
    "start_time": "2022-11-09T22:54:27.720Z"
   },
   {
    "duration": 12,
    "start_time": "2022-11-09T22:55:46.830Z"
   },
   {
    "duration": 36,
    "start_time": "2022-11-09T22:59:32.853Z"
   },
   {
    "duration": 6,
    "start_time": "2022-11-09T23:01:21.852Z"
   },
   {
    "duration": 65574,
    "start_time": "2022-11-09T23:01:38.958Z"
   },
   {
    "duration": 20,
    "start_time": "2022-11-09T23:02:44.534Z"
   },
   {
    "duration": 2035,
    "start_time": "2022-11-11T01:20:26.072Z"
   },
   {
    "duration": 3126,
    "start_time": "2022-11-11T01:20:28.109Z"
   },
   {
    "duration": 4,
    "start_time": "2022-11-11T01:20:31.237Z"
   },
   {
    "duration": 1355,
    "start_time": "2022-11-11T01:20:31.243Z"
   },
   {
    "duration": 1015,
    "start_time": "2022-11-11T01:20:32.599Z"
   },
   {
    "duration": 3,
    "start_time": "2022-11-11T01:20:33.616Z"
   },
   {
    "duration": 68,
    "start_time": "2022-11-11T01:20:33.621Z"
   },
   {
    "duration": 4,
    "start_time": "2022-11-11T01:20:35.678Z"
   },
   {
    "duration": 430,
    "start_time": "2022-11-11T01:20:36.648Z"
   },
   {
    "duration": 31,
    "start_time": "2022-11-11T01:20:37.563Z"
   },
   {
    "duration": 4,
    "start_time": "2022-11-11T01:20:38.698Z"
   },
   {
    "duration": 20,
    "start_time": "2022-11-11T01:20:38.901Z"
   },
   {
    "duration": 4,
    "start_time": "2022-11-11T01:20:39.163Z"
   },
   {
    "duration": 33,
    "start_time": "2022-11-11T01:20:39.603Z"
   },
   {
    "duration": 4,
    "start_time": "2022-11-11T01:20:39.817Z"
   },
   {
    "duration": 3,
    "start_time": "2022-11-11T01:20:40.689Z"
   },
   {
    "duration": 9,
    "start_time": "2022-11-11T01:20:41.006Z"
   },
   {
    "duration": 33,
    "start_time": "2022-11-11T01:20:41.365Z"
   },
   {
    "duration": 3,
    "start_time": "2022-11-11T01:20:41.611Z"
   },
   {
    "duration": 49,
    "start_time": "2022-11-11T01:20:43.183Z"
   },
   {
    "duration": 108,
    "start_time": "2022-11-11T01:20:45.263Z"
   },
   {
    "duration": 4,
    "start_time": "2022-11-11T01:20:46.820Z"
   },
   {
    "duration": 17,
    "start_time": "2022-11-11T01:20:46.981Z"
   },
   {
    "duration": 84,
    "start_time": "2022-11-11T01:20:47.148Z"
   },
   {
    "duration": 88,
    "start_time": "2022-11-11T01:20:50.424Z"
   },
   {
    "duration": 3,
    "start_time": "2022-11-11T01:20:52.686Z"
   },
   {
    "duration": 5,
    "start_time": "2022-11-11T01:20:54.626Z"
   },
   {
    "duration": 98,
    "start_time": "2022-11-11T01:20:55.011Z"
   },
   {
    "duration": 5,
    "start_time": "2022-11-11T01:20:56.499Z"
   },
   {
    "duration": 7,
    "start_time": "2022-11-11T01:20:58.077Z"
   },
   {
    "duration": 56,
    "start_time": "2022-11-11T01:20:59.039Z"
   },
   {
    "duration": 8,
    "start_time": "2022-11-11T01:21:00.983Z"
   },
   {
    "duration": 138,
    "start_time": "2022-11-11T01:21:09.163Z"
   },
   {
    "duration": 622,
    "start_time": "2022-11-11T01:21:16.662Z"
   },
   {
    "duration": 1110,
    "start_time": "2022-11-11T01:22:01.424Z"
   },
   {
    "duration": 19,
    "start_time": "2022-11-11T01:22:05.767Z"
   },
   {
    "duration": 68,
    "start_time": "2022-11-11T01:22:33.710Z"
   },
   {
    "duration": 65992,
    "start_time": "2022-11-11T01:22:40.291Z"
   },
   {
    "duration": 65757,
    "start_time": "2022-11-11T01:24:52.287Z"
   },
   {
    "duration": 1336,
    "start_time": "2022-11-11T02:54:17.081Z"
   },
   {
    "duration": 3052,
    "start_time": "2022-11-11T02:54:18.419Z"
   },
   {
    "duration": 5,
    "start_time": "2022-11-11T02:54:21.472Z"
   },
   {
    "duration": 1342,
    "start_time": "2022-11-11T02:54:21.479Z"
   },
   {
    "duration": 1022,
    "start_time": "2022-11-11T02:54:24.271Z"
   },
   {
    "duration": 5,
    "start_time": "2022-11-11T02:54:25.295Z"
   },
   {
    "duration": 55,
    "start_time": "2022-11-11T02:54:25.384Z"
   },
   {
    "duration": 4,
    "start_time": "2022-11-11T02:54:25.638Z"
   },
   {
    "duration": 432,
    "start_time": "2022-11-11T02:54:26.230Z"
   },
   {
    "duration": 40,
    "start_time": "2022-11-11T02:54:27.086Z"
   },
   {
    "duration": 4,
    "start_time": "2022-11-11T02:54:28.710Z"
   },
   {
    "duration": 20,
    "start_time": "2022-11-11T02:54:29.110Z"
   },
   {
    "duration": 4,
    "start_time": "2022-11-11T02:54:29.366Z"
   },
   {
    "duration": 40,
    "start_time": "2022-11-11T02:54:30.061Z"
   },
   {
    "duration": 5,
    "start_time": "2022-11-11T02:54:30.563Z"
   },
   {
    "duration": 4,
    "start_time": "2022-11-11T02:54:31.274Z"
   },
   {
    "duration": 10,
    "start_time": "2022-11-11T02:54:31.574Z"
   },
   {
    "duration": 35,
    "start_time": "2022-11-11T02:54:32.302Z"
   },
   {
    "duration": 4,
    "start_time": "2022-11-11T02:54:33.109Z"
   },
   {
    "duration": 78,
    "start_time": "2022-11-11T02:54:33.486Z"
   },
   {
    "duration": 146,
    "start_time": "2022-11-11T02:54:35.181Z"
   },
   {
    "duration": 4,
    "start_time": "2022-11-11T02:54:35.669Z"
   },
   {
    "duration": 15,
    "start_time": "2022-11-11T02:54:36.007Z"
   },
   {
    "duration": 86,
    "start_time": "2022-11-11T02:54:36.294Z"
   },
   {
    "duration": 92,
    "start_time": "2022-11-11T02:54:41.597Z"
   },
   {
    "duration": 3,
    "start_time": "2022-11-11T02:54:46.636Z"
   },
   {
    "duration": 3,
    "start_time": "2022-11-11T02:54:47.470Z"
   },
   {
    "duration": 87,
    "start_time": "2022-11-11T02:54:48.326Z"
   },
   {
    "duration": 5,
    "start_time": "2022-11-11T02:54:48.981Z"
   },
   {
    "duration": 9,
    "start_time": "2022-11-11T02:54:49.561Z"
   },
   {
    "duration": 45,
    "start_time": "2022-11-11T02:54:49.942Z"
   },
   {
    "duration": 8,
    "start_time": "2022-11-11T02:54:50.718Z"
   },
   {
    "duration": 25,
    "start_time": "2022-11-11T02:54:53.118Z"
   },
   {
    "duration": 3,
    "start_time": "2022-11-11T02:54:56.246Z"
   },
   {
    "duration": 56,
    "start_time": "2022-11-11T02:54:56.662Z"
   },
   {
    "duration": 62,
    "start_time": "2022-11-11T02:55:00.639Z"
   },
   {
    "duration": 2,
    "start_time": "2022-11-11T02:55:09.526Z"
   },
   {
    "duration": 122,
    "start_time": "2022-11-11T02:55:11.406Z"
   },
   {
    "duration": 1043,
    "start_time": "2022-11-11T02:55:23.839Z"
   },
   {
    "duration": 20,
    "start_time": "2022-11-11T02:55:34.623Z"
   },
   {
    "duration": 69837,
    "start_time": "2022-11-11T02:55:38.921Z"
   },
   {
    "duration": 66214,
    "start_time": "2022-11-11T02:59:05.685Z"
   },
   {
    "duration": 66159,
    "start_time": "2022-11-11T03:00:20.803Z"
   },
   {
    "duration": 1314,
    "start_time": "2022-11-11T12:54:56.211Z"
   },
   {
    "duration": 2889,
    "start_time": "2022-11-11T12:54:58.308Z"
   },
   {
    "duration": 7,
    "start_time": "2022-11-11T12:55:01.200Z"
   },
   {
    "duration": 1382,
    "start_time": "2022-11-11T12:55:05.895Z"
   },
   {
    "duration": 989,
    "start_time": "2022-11-11T12:55:07.889Z"
   },
   {
    "duration": 4,
    "start_time": "2022-11-11T12:55:08.896Z"
   },
   {
    "duration": 38,
    "start_time": "2022-11-11T12:55:09.768Z"
   },
   {
    "duration": 5,
    "start_time": "2022-11-11T12:55:10.949Z"
   },
   {
    "duration": 4,
    "start_time": "2022-11-11T12:55:36.925Z"
   },
   {
    "duration": 800,
    "start_time": "2022-11-11T12:55:37.298Z"
   },
   {
    "duration": 5,
    "start_time": "2022-11-11T12:55:38.100Z"
   },
   {
    "duration": 879,
    "start_time": "2022-11-11T12:55:38.106Z"
   },
   {
    "duration": 898,
    "start_time": "2022-11-11T12:55:46.494Z"
   },
   {
    "duration": 630,
    "start_time": "2022-11-11T12:55:51.884Z"
   },
   {
    "duration": 6,
    "start_time": "2022-11-11T13:01:39.883Z"
   },
   {
    "duration": 5,
    "start_time": "2022-11-11T13:01:55.132Z"
   },
   {
    "duration": 28,
    "start_time": "2022-11-11T13:02:00.967Z"
   },
   {
    "duration": 21,
    "start_time": "2022-11-11T13:02:12.421Z"
   },
   {
    "duration": 25,
    "start_time": "2022-11-11T13:02:19.106Z"
   },
   {
    "duration": 3,
    "start_time": "2022-11-11T13:02:47.901Z"
   },
   {
    "duration": 135,
    "start_time": "2022-11-11T13:03:07.628Z"
   },
   {
    "duration": 96,
    "start_time": "2022-11-11T13:05:56.180Z"
   },
   {
    "duration": 14,
    "start_time": "2022-11-11T13:06:09.716Z"
   },
   {
    "duration": 6,
    "start_time": "2022-11-11T13:06:16.797Z"
   },
   {
    "duration": 10,
    "start_time": "2022-11-11T13:06:30.571Z"
   },
   {
    "duration": 7,
    "start_time": "2022-11-11T13:06:35.339Z"
   },
   {
    "duration": 157,
    "start_time": "2022-11-11T13:06:57.272Z"
   },
   {
    "duration": 469,
    "start_time": "2022-11-11T13:07:15.612Z"
   },
   {
    "duration": 358,
    "start_time": "2022-11-11T13:07:24.471Z"
   },
   {
    "duration": 12,
    "start_time": "2022-11-11T13:07:50.872Z"
   },
   {
    "duration": 20,
    "start_time": "2022-11-11T13:08:06.686Z"
   },
   {
    "duration": 12,
    "start_time": "2022-11-11T13:08:07.885Z"
   },
   {
    "duration": 419,
    "start_time": "2022-11-11T13:08:16.460Z"
   },
   {
    "duration": 247,
    "start_time": "2022-11-11T13:08:27.092Z"
   },
   {
    "duration": 20,
    "start_time": "2022-11-11T13:08:50.384Z"
   },
   {
    "duration": 252,
    "start_time": "2022-11-11T13:08:52.031Z"
   },
   {
    "duration": 371,
    "start_time": "2022-11-11T13:09:03.536Z"
   },
   {
    "duration": 20,
    "start_time": "2022-11-11T13:09:20.624Z"
   },
   {
    "duration": 72,
    "start_time": "2022-11-11T13:10:40.000Z"
   },
   {
    "duration": 18,
    "start_time": "2022-11-11T13:12:27.388Z"
   },
   {
    "duration": 353,
    "start_time": "2022-11-11T13:12:29.615Z"
   },
   {
    "duration": 5,
    "start_time": "2022-11-11T13:12:38.968Z"
   },
   {
    "duration": 720,
    "start_time": "2022-11-11T13:13:19.596Z"
   },
   {
    "duration": 103,
    "start_time": "2022-11-11T13:13:32.835Z"
   },
   {
    "duration": 325,
    "start_time": "2022-11-11T13:13:33.860Z"
   },
   {
    "duration": 5,
    "start_time": "2022-11-11T13:13:43.172Z"
   },
   {
    "duration": 4,
    "start_time": "2022-11-11T13:14:05.812Z"
   },
   {
    "duration": 694,
    "start_time": "2022-11-11T13:14:06.245Z"
   },
   {
    "duration": 4,
    "start_time": "2022-11-11T13:14:06.941Z"
   },
   {
    "duration": 788,
    "start_time": "2022-11-11T13:14:06.946Z"
   },
   {
    "duration": 3,
    "start_time": "2022-11-11T13:14:08.094Z"
   },
   {
    "duration": 88,
    "start_time": "2022-11-11T13:14:08.298Z"
   },
   {
    "duration": 344,
    "start_time": "2022-11-11T13:14:08.602Z"
   },
   {
    "duration": 754,
    "start_time": "2022-11-11T13:14:09.078Z"
   },
   {
    "duration": 13,
    "start_time": "2022-11-11T13:14:40.892Z"
   },
   {
    "duration": 253,
    "start_time": "2022-11-11T13:14:41.559Z"
   },
   {
    "duration": 365,
    "start_time": "2022-11-11T13:16:16.194Z"
   },
   {
    "duration": 4,
    "start_time": "2022-11-11T13:17:15.054Z"
   },
   {
    "duration": 703,
    "start_time": "2022-11-11T13:17:15.386Z"
   },
   {
    "duration": 6,
    "start_time": "2022-11-11T13:17:16.092Z"
   },
   {
    "duration": 799,
    "start_time": "2022-11-11T13:17:16.293Z"
   },
   {
    "duration": 109,
    "start_time": "2022-11-11T13:18:08.471Z"
   },
   {
    "duration": 13,
    "start_time": "2022-11-11T13:18:19.569Z"
   },
   {
    "duration": 13,
    "start_time": "2022-11-11T13:18:48.107Z"
   },
   {
    "duration": 17,
    "start_time": "2022-11-11T13:18:59.482Z"
   },
   {
    "duration": 13,
    "start_time": "2022-11-11T13:19:00.119Z"
   },
   {
    "duration": 330,
    "start_time": "2022-11-11T13:19:05.040Z"
   },
   {
    "duration": 339,
    "start_time": "2022-11-11T13:19:49.641Z"
   },
   {
    "duration": 858,
    "start_time": "2022-11-11T13:20:43.666Z"
   },
   {
    "duration": 528,
    "start_time": "2022-11-11T13:22:38.925Z"
   },
   {
    "duration": 72,
    "start_time": "2022-11-11T13:23:37.484Z"
   },
   {
    "duration": 569,
    "start_time": "2022-11-11T13:23:56.266Z"
   },
   {
    "duration": 68,
    "start_time": "2022-11-11T13:24:08.337Z"
   },
   {
    "duration": 16,
    "start_time": "2022-11-11T13:30:48.781Z"
   },
   {
    "duration": 13,
    "start_time": "2022-11-11T13:30:52.134Z"
   },
   {
    "duration": 332,
    "start_time": "2022-11-11T13:30:53.138Z"
   },
   {
    "duration": 749,
    "start_time": "2022-11-11T13:36:32.890Z"
   },
   {
    "duration": 167,
    "start_time": "2022-11-11T13:37:21.257Z"
   },
   {
    "duration": 4,
    "start_time": "2022-11-11T13:37:46.883Z"
   },
   {
    "duration": 707,
    "start_time": "2022-11-11T13:37:47.172Z"
   },
   {
    "duration": 4,
    "start_time": "2022-11-11T13:37:47.882Z"
   },
   {
    "duration": 819,
    "start_time": "2022-11-11T13:37:47.975Z"
   },
   {
    "duration": 825,
    "start_time": "2022-11-11T13:37:51.005Z"
   },
   {
    "duration": 575,
    "start_time": "2022-11-11T13:37:52.167Z"
   },
   {
    "duration": 68,
    "start_time": "2022-11-11T13:37:52.771Z"
   },
   {
    "duration": 84,
    "start_time": "2022-11-11T13:38:02.785Z"
   },
   {
    "duration": 15,
    "start_time": "2022-11-11T13:38:06.534Z"
   },
   {
    "duration": 387,
    "start_time": "2022-11-11T13:38:06.858Z"
   },
   {
    "duration": 767,
    "start_time": "2022-11-11T13:38:24.718Z"
   },
   {
    "duration": 168,
    "start_time": "2022-11-11T13:38:25.487Z"
   },
   {
    "duration": 25,
    "start_time": "2022-11-11T13:39:06.571Z"
   },
   {
    "duration": 77,
    "start_time": "2022-11-11T13:39:06.942Z"
   },
   {
    "duration": 4,
    "start_time": "2022-11-11T13:39:13.313Z"
   },
   {
    "duration": 695,
    "start_time": "2022-11-11T13:39:13.749Z"
   },
   {
    "duration": 5,
    "start_time": "2022-11-11T13:39:14.446Z"
   },
   {
    "duration": 835,
    "start_time": "2022-11-11T13:39:14.453Z"
   },
   {
    "duration": 856,
    "start_time": "2022-11-11T13:39:15.598Z"
   },
   {
    "duration": 573,
    "start_time": "2022-11-11T13:39:16.470Z"
   },
   {
    "duration": 84,
    "start_time": "2022-11-11T13:39:17.045Z"
   },
   {
    "duration": 68,
    "start_time": "2022-11-11T13:39:18.169Z"
   },
   {
    "duration": 13,
    "start_time": "2022-11-11T13:39:18.455Z"
   },
   {
    "duration": 335,
    "start_time": "2022-11-11T13:39:19.044Z"
   },
   {
    "duration": 6,
    "start_time": "2022-11-11T13:39:21.392Z"
   },
   {
    "duration": 82,
    "start_time": "2022-11-11T13:39:21.841Z"
   },
   {
    "duration": 4,
    "start_time": "2022-11-11T13:39:35.655Z"
   },
   {
    "duration": 12,
    "start_time": "2022-11-11T13:40:51.076Z"
   },
   {
    "duration": 21,
    "start_time": "2022-11-11T13:41:21.198Z"
   },
   {
    "duration": 4,
    "start_time": "2022-11-11T13:41:24.212Z"
   },
   {
    "duration": 22,
    "start_time": "2022-11-11T13:42:07.449Z"
   },
   {
    "duration": 4,
    "start_time": "2022-11-11T13:43:17.742Z"
   },
   {
    "duration": 704,
    "start_time": "2022-11-11T13:43:17.969Z"
   },
   {
    "duration": 5,
    "start_time": "2022-11-11T13:43:18.675Z"
   },
   {
    "duration": 828,
    "start_time": "2022-11-11T13:43:18.681Z"
   },
   {
    "duration": 805,
    "start_time": "2022-11-11T13:43:19.937Z"
   },
   {
    "duration": 575,
    "start_time": "2022-11-11T13:43:20.745Z"
   },
   {
    "duration": 81,
    "start_time": "2022-11-11T13:43:21.323Z"
   },
   {
    "duration": 67,
    "start_time": "2022-11-11T13:43:22.540Z"
   },
   {
    "duration": 14,
    "start_time": "2022-11-11T13:43:22.772Z"
   },
   {
    "duration": 357,
    "start_time": "2022-11-11T13:43:23.506Z"
   },
   {
    "duration": 7,
    "start_time": "2022-11-11T13:43:26.364Z"
   },
   {
    "duration": 94,
    "start_time": "2022-11-11T13:43:27.810Z"
   },
   {
    "duration": 3,
    "start_time": "2022-11-11T13:43:32.126Z"
   },
   {
    "duration": 4,
    "start_time": "2022-11-11T13:43:33.964Z"
   },
   {
    "duration": 56,
    "start_time": "2022-11-11T13:43:44.023Z"
   },
   {
    "duration": 4,
    "start_time": "2022-11-11T13:43:45.126Z"
   },
   {
    "duration": 4,
    "start_time": "2022-11-11T13:44:46.883Z"
   },
   {
    "duration": 739,
    "start_time": "2022-11-11T13:44:47.199Z"
   },
   {
    "duration": 5,
    "start_time": "2022-11-11T13:44:47.940Z"
   },
   {
    "duration": 866,
    "start_time": "2022-11-11T13:44:47.946Z"
   },
   {
    "duration": 861,
    "start_time": "2022-11-11T13:44:49.036Z"
   },
   {
    "duration": 621,
    "start_time": "2022-11-11T13:44:49.899Z"
   },
   {
    "duration": 85,
    "start_time": "2022-11-11T13:44:50.522Z"
   },
   {
    "duration": 75,
    "start_time": "2022-11-11T13:44:51.348Z"
   },
   {
    "duration": 14,
    "start_time": "2022-11-11T13:44:51.724Z"
   },
   {
    "duration": 325,
    "start_time": "2022-11-11T13:44:52.006Z"
   },
   {
    "duration": 6,
    "start_time": "2022-11-11T13:44:53.947Z"
   },
   {
    "duration": 94,
    "start_time": "2022-11-11T13:44:54.406Z"
   },
   {
    "duration": 4,
    "start_time": "2022-11-11T13:44:55.288Z"
   },
   {
    "duration": 81,
    "start_time": "2022-11-11T13:44:56.702Z"
   },
   {
    "duration": 4,
    "start_time": "2022-11-11T13:44:57.154Z"
   },
   {
    "duration": 4,
    "start_time": "2022-11-11T13:47:45.682Z"
   },
   {
    "duration": 754,
    "start_time": "2022-11-11T13:47:45.943Z"
   },
   {
    "duration": 5,
    "start_time": "2022-11-11T13:47:46.699Z"
   },
   {
    "duration": 795,
    "start_time": "2022-11-11T13:47:46.706Z"
   },
   {
    "duration": 807,
    "start_time": "2022-11-11T13:47:48.197Z"
   },
   {
    "duration": 593,
    "start_time": "2022-11-11T13:47:49.006Z"
   },
   {
    "duration": 82,
    "start_time": "2022-11-11T13:47:49.601Z"
   },
   {
    "duration": 73,
    "start_time": "2022-11-11T13:47:50.669Z"
   },
   {
    "duration": 15,
    "start_time": "2022-11-11T13:47:50.961Z"
   },
   {
    "duration": 338,
    "start_time": "2022-11-11T13:47:51.525Z"
   },
   {
    "duration": 7,
    "start_time": "2022-11-11T13:47:54.014Z"
   },
   {
    "duration": 87,
    "start_time": "2022-11-11T13:47:54.974Z"
   },
   {
    "duration": 4,
    "start_time": "2022-11-11T13:47:55.575Z"
   },
   {
    "duration": 5,
    "start_time": "2022-11-11T13:47:58.859Z"
   },
   {
    "duration": 5,
    "start_time": "2022-11-11T13:47:59.246Z"
   },
   {
    "duration": 97,
    "start_time": "2022-11-11T13:48:04.183Z"
   },
   {
    "duration": 4,
    "start_time": "2022-11-11T13:48:05.093Z"
   },
   {
    "duration": 75,
    "start_time": "2022-11-11T13:48:11.032Z"
   },
   {
    "duration": 4,
    "start_time": "2022-11-11T13:48:11.652Z"
   },
   {
    "duration": 80,
    "start_time": "2022-11-11T13:48:14.950Z"
   },
   {
    "duration": 4,
    "start_time": "2022-11-11T13:48:15.485Z"
   },
   {
    "duration": 3,
    "start_time": "2022-11-11T13:48:24.306Z"
   },
   {
    "duration": 758,
    "start_time": "2022-11-11T13:48:24.478Z"
   },
   {
    "duration": 4,
    "start_time": "2022-11-11T13:48:25.238Z"
   },
   {
    "duration": 862,
    "start_time": "2022-11-11T13:48:25.244Z"
   },
   {
    "duration": 844,
    "start_time": "2022-11-11T13:48:26.109Z"
   },
   {
    "duration": 594,
    "start_time": "2022-11-11T13:48:26.955Z"
   },
   {
    "duration": 73,
    "start_time": "2022-11-11T13:48:27.551Z"
   },
   {
    "duration": 73,
    "start_time": "2022-11-11T13:48:27.625Z"
   },
   {
    "duration": 12,
    "start_time": "2022-11-11T13:48:27.700Z"
   },
   {
    "duration": 341,
    "start_time": "2022-11-11T13:48:27.714Z"
   },
   {
    "duration": 6,
    "start_time": "2022-11-11T13:48:28.672Z"
   },
   {
    "duration": 95,
    "start_time": "2022-11-11T13:48:28.936Z"
   },
   {
    "duration": 4,
    "start_time": "2022-11-11T13:48:29.185Z"
   },
   {
    "duration": 88,
    "start_time": "2022-11-11T13:48:29.601Z"
   },
   {
    "duration": 4,
    "start_time": "2022-11-11T13:48:30.131Z"
   },
   {
    "duration": 37,
    "start_time": "2022-11-11T13:48:48.348Z"
   },
   {
    "duration": 4,
    "start_time": "2022-11-11T13:48:49.022Z"
   },
   {
    "duration": 651,
    "start_time": "2022-11-11T13:49:52.230Z"
   },
   {
    "duration": 362,
    "start_time": "2022-11-11T13:50:06.108Z"
   },
   {
    "duration": 52,
    "start_time": "2022-11-11T13:50:19.362Z"
   },
   {
    "duration": 10,
    "start_time": "2022-11-11T13:50:22.069Z"
   },
   {
    "duration": 322,
    "start_time": "2022-11-11T13:50:25.486Z"
   },
   {
    "duration": 7698,
    "start_time": "2022-11-11T13:50:41.667Z"
   },
   {
    "duration": 567,
    "start_time": "2022-11-11T13:52:29.286Z"
   },
   {
    "duration": 40,
    "start_time": "2022-11-11T13:53:17.161Z"
   },
   {
    "duration": 27,
    "start_time": "2022-11-11T13:53:33.409Z"
   },
   {
    "duration": 42,
    "start_time": "2022-11-11T13:53:43.760Z"
   },
   {
    "duration": 42,
    "start_time": "2022-11-11T13:53:54.402Z"
   },
   {
    "duration": 2637,
    "start_time": "2022-11-11T13:54:17.827Z"
   },
   {
    "duration": 8,
    "start_time": "2022-11-11T13:56:15.553Z"
   },
   {
    "duration": 7,
    "start_time": "2022-11-11T13:56:22.234Z"
   },
   {
    "duration": 80,
    "start_time": "2022-11-11T13:58:12.936Z"
   },
   {
    "duration": 4,
    "start_time": "2022-11-11T13:58:17.276Z"
   },
   {
    "duration": 1447,
    "start_time": "2022-11-11T14:01:32.629Z"
   },
   {
    "duration": 787,
    "start_time": "2022-11-11T14:01:34.665Z"
   },
   {
    "duration": 4,
    "start_time": "2022-11-11T14:01:35.454Z"
   },
   {
    "duration": 979,
    "start_time": "2022-11-11T14:01:35.467Z"
   },
   {
    "duration": 949,
    "start_time": "2022-11-11T14:01:37.188Z"
   },
   {
    "duration": 630,
    "start_time": "2022-11-11T14:01:38.139Z"
   },
   {
    "duration": 73,
    "start_time": "2022-11-11T14:01:38.771Z"
   },
   {
    "duration": 74,
    "start_time": "2022-11-11T14:01:39.684Z"
   },
   {
    "duration": 13,
    "start_time": "2022-11-11T14:01:40.931Z"
   },
   {
    "duration": 478,
    "start_time": "2022-11-11T14:01:45.028Z"
   },
   {
    "duration": 7,
    "start_time": "2022-11-11T14:01:57.171Z"
   },
   {
    "duration": 92,
    "start_time": "2022-11-11T14:01:57.365Z"
   },
   {
    "duration": 4,
    "start_time": "2022-11-11T14:01:57.580Z"
   },
   {
    "duration": 94,
    "start_time": "2022-11-11T14:01:59.085Z"
   },
   {
    "duration": 4,
    "start_time": "2022-11-11T14:01:59.507Z"
   },
   {
    "duration": 211,
    "start_time": "2022-11-11T14:02:17.025Z"
   },
   {
    "duration": 241,
    "start_time": "2022-11-11T14:03:03.786Z"
   },
   {
    "duration": 54,
    "start_time": "2022-11-11T14:05:17.577Z"
   },
   {
    "duration": 1531,
    "start_time": "2022-11-11T14:05:20.704Z"
   },
   {
    "duration": 818,
    "start_time": "2022-11-11T14:05:22.237Z"
   },
   {
    "duration": 5,
    "start_time": "2022-11-11T14:05:23.057Z"
   },
   {
    "duration": 1034,
    "start_time": "2022-11-11T14:05:23.064Z"
   },
   {
    "duration": 1026,
    "start_time": "2022-11-11T14:05:24.101Z"
   },
   {
    "duration": 620,
    "start_time": "2022-11-11T14:05:25.129Z"
   },
   {
    "duration": 74,
    "start_time": "2022-11-11T14:05:25.751Z"
   },
   {
    "duration": 81,
    "start_time": "2022-11-11T14:05:25.827Z"
   },
   {
    "duration": 14,
    "start_time": "2022-11-11T14:05:25.910Z"
   },
   {
    "duration": 45,
    "start_time": "2022-11-11T14:05:25.925Z"
   },
   {
    "duration": 0,
    "start_time": "2022-11-11T14:09:09.520Z"
   },
   {
    "duration": 1439,
    "start_time": "2022-11-11T14:09:26.578Z"
   },
   {
    "duration": 2880,
    "start_time": "2022-11-11T14:09:28.018Z"
   },
   {
    "duration": 5,
    "start_time": "2022-11-11T14:09:30.900Z"
   },
   {
    "duration": 1008,
    "start_time": "2022-11-11T14:09:30.907Z"
   },
   {
    "duration": 1000,
    "start_time": "2022-11-11T14:09:33.690Z"
   },
   {
    "duration": 642,
    "start_time": "2022-11-11T14:09:34.692Z"
   },
   {
    "duration": 116,
    "start_time": "2022-11-11T14:09:35.337Z"
   },
   {
    "duration": 77,
    "start_time": "2022-11-11T14:09:35.980Z"
   },
   {
    "duration": 14,
    "start_time": "2022-11-11T14:09:37.029Z"
   },
   {
    "duration": 5023,
    "start_time": "2022-11-11T14:09:37.760Z"
   },
   {
    "duration": 412,
    "start_time": "2022-11-11T14:10:27.678Z"
   },
   {
    "duration": 285,
    "start_time": "2022-11-11T14:10:41.497Z"
   },
   {
    "duration": 292,
    "start_time": "2022-11-11T14:10:52.882Z"
   },
   {
    "duration": 353,
    "start_time": "2022-11-11T14:11:03.221Z"
   },
   {
    "duration": 239,
    "start_time": "2022-11-11T14:11:14.484Z"
   },
   {
    "duration": 257,
    "start_time": "2022-11-11T14:11:20.149Z"
   },
   {
    "duration": 336,
    "start_time": "2022-11-11T14:11:25.808Z"
   },
   {
    "duration": 219,
    "start_time": "2022-11-11T14:11:33.008Z"
   },
   {
    "duration": 454,
    "start_time": "2022-11-11T14:11:52.414Z"
   },
   {
    "duration": 359,
    "start_time": "2022-11-11T14:12:00.736Z"
   },
   {
    "duration": 362,
    "start_time": "2022-11-11T14:12:11.487Z"
   },
   {
    "duration": 885,
    "start_time": "2022-11-11T14:12:18.800Z"
   },
   {
    "duration": 1710,
    "start_time": "2022-11-11T14:12:23.571Z"
   },
   {
    "duration": 1689,
    "start_time": "2022-11-11T14:12:36.041Z"
   },
   {
    "duration": 1621,
    "start_time": "2022-11-11T14:12:41.197Z"
   },
   {
    "duration": 261,
    "start_time": "2022-11-11T14:12:53.454Z"
   },
   {
    "duration": 7414,
    "start_time": "2022-11-11T14:13:52.859Z"
   },
   {
    "duration": 375,
    "start_time": "2022-11-11T14:14:01.865Z"
   },
   {
    "duration": 115,
    "start_time": "2022-11-11T14:14:26.012Z"
   },
   {
    "duration": 128,
    "start_time": "2022-11-11T14:14:29.698Z"
   },
   {
    "duration": 122,
    "start_time": "2022-11-11T14:14:50.282Z"
   },
   {
    "duration": 275,
    "start_time": "2022-11-11T14:15:41.880Z"
   },
   {
    "duration": 326,
    "start_time": "2022-11-11T14:15:47.625Z"
   },
   {
    "duration": 414,
    "start_time": "2022-11-11T14:15:55.769Z"
   },
   {
    "duration": 26,
    "start_time": "2022-11-11T14:16:30.720Z"
   },
   {
    "duration": 25,
    "start_time": "2022-11-11T14:16:39.261Z"
   },
   {
    "duration": 48,
    "start_time": "2022-11-11T14:16:57.571Z"
   },
   {
    "duration": 5,
    "start_time": "2022-11-11T14:17:06.371Z"
   },
   {
    "duration": 347,
    "start_time": "2022-11-11T14:17:13.752Z"
   },
   {
    "duration": 404,
    "start_time": "2022-11-11T14:17:35.396Z"
   },
   {
    "duration": 328,
    "start_time": "2022-11-11T14:17:41.433Z"
   },
   {
    "duration": 338,
    "start_time": "2022-11-11T14:17:58.758Z"
   },
   {
    "duration": 297,
    "start_time": "2022-11-11T14:19:20.580Z"
   },
   {
    "duration": 290,
    "start_time": "2022-11-11T14:19:25.281Z"
   },
   {
    "duration": 343,
    "start_time": "2022-11-11T14:20:20.896Z"
   },
   {
    "duration": 1766,
    "start_time": "2022-11-11T14:20:24.236Z"
   },
   {
    "duration": 251,
    "start_time": "2022-11-11T14:20:30.128Z"
   },
   {
    "duration": 265,
    "start_time": "2022-11-11T14:20:34.353Z"
   },
   {
    "duration": 259,
    "start_time": "2022-11-11T14:20:39.958Z"
   },
   {
    "duration": 237,
    "start_time": "2022-11-11T14:20:50.594Z"
   },
   {
    "duration": 241,
    "start_time": "2022-11-11T14:20:53.817Z"
   },
   {
    "duration": 317,
    "start_time": "2022-11-11T14:21:00.582Z"
   },
   {
    "duration": 295,
    "start_time": "2022-11-11T14:21:03.694Z"
   },
   {
    "duration": 281,
    "start_time": "2022-11-11T14:21:06.443Z"
   },
   {
    "duration": 243,
    "start_time": "2022-11-11T14:21:49.570Z"
   },
   {
    "duration": 264,
    "start_time": "2022-11-11T14:22:02.905Z"
   },
   {
    "duration": 7,
    "start_time": "2022-11-11T14:22:05.738Z"
   },
   {
    "duration": 109,
    "start_time": "2022-11-11T14:22:07.092Z"
   },
   {
    "duration": 3,
    "start_time": "2022-11-11T14:22:09.158Z"
   },
   {
    "duration": 93,
    "start_time": "2022-11-11T14:22:09.476Z"
   },
   {
    "duration": 4,
    "start_time": "2022-11-11T14:22:09.972Z"
   },
   {
    "duration": 432,
    "start_time": "2022-11-11T14:22:28.576Z"
   },
   {
    "duration": 240,
    "start_time": "2022-11-11T14:23:07.678Z"
   },
   {
    "duration": 195,
    "start_time": "2022-11-11T14:23:19.034Z"
   },
   {
    "duration": 205,
    "start_time": "2022-11-11T14:23:26.464Z"
   },
   {
    "duration": 164,
    "start_time": "2022-11-11T14:23:41.450Z"
   },
   {
    "duration": 154,
    "start_time": "2022-11-11T14:23:47.855Z"
   },
   {
    "duration": 165,
    "start_time": "2022-11-11T14:23:51.132Z"
   },
   {
    "duration": 166,
    "start_time": "2022-11-11T14:23:57.501Z"
   },
   {
    "duration": 160,
    "start_time": "2022-11-11T14:24:03.588Z"
   },
   {
    "duration": 215,
    "start_time": "2022-11-11T14:24:10.615Z"
   },
   {
    "duration": 241,
    "start_time": "2022-11-11T14:24:19.529Z"
   },
   {
    "duration": 328,
    "start_time": "2022-11-11T14:24:40.882Z"
   },
   {
    "duration": 231,
    "start_time": "2022-11-11T14:24:52.614Z"
   },
   {
    "duration": 226,
    "start_time": "2022-11-11T14:25:00.489Z"
   },
   {
    "duration": 224,
    "start_time": "2022-11-11T14:25:03.838Z"
   },
   {
    "duration": 287,
    "start_time": "2022-11-11T14:25:25.704Z"
   },
   {
    "duration": 167,
    "start_time": "2022-11-11T14:25:36.586Z"
   },
   {
    "duration": 3,
    "start_time": "2022-11-11T14:27:23.623Z"
   },
   {
    "duration": 3,
    "start_time": "2022-11-11T14:27:28.444Z"
   },
   {
    "duration": 3,
    "start_time": "2022-11-11T14:27:45.173Z"
   },
   {
    "duration": 4,
    "start_time": "2022-11-11T14:27:51.950Z"
   },
   {
    "duration": 42,
    "start_time": "2022-11-11T14:28:03.587Z"
   },
   {
    "duration": 105,
    "start_time": "2022-11-11T14:28:04.954Z"
   },
   {
    "duration": 19,
    "start_time": "2022-11-11T14:28:20.100Z"
   },
   {
    "duration": 57,
    "start_time": "2022-11-11T14:28:28.854Z"
   },
   {
    "duration": 18,
    "start_time": "2022-11-11T14:28:29.406Z"
   },
   {
    "duration": 4,
    "start_time": "2022-11-11T14:28:39.053Z"
   },
   {
    "duration": 169,
    "start_time": "2022-11-11T14:29:23.229Z"
   },
   {
    "duration": 174,
    "start_time": "2022-11-11T14:29:33.791Z"
   },
   {
    "duration": 164,
    "start_time": "2022-11-11T14:29:40.095Z"
   },
   {
    "duration": 4,
    "start_time": "2022-11-11T14:30:12.350Z"
   },
   {
    "duration": 4,
    "start_time": "2022-11-11T14:31:11.594Z"
   },
   {
    "duration": 171,
    "start_time": "2022-11-11T14:31:52.057Z"
   },
   {
    "duration": 289,
    "start_time": "2022-11-11T14:32:04.689Z"
   },
   {
    "duration": 147,
    "start_time": "2022-11-11T14:32:18.101Z"
   },
   {
    "duration": 285,
    "start_time": "2022-11-11T14:32:24.789Z"
   },
   {
    "duration": 264,
    "start_time": "2022-11-11T14:32:52.578Z"
   },
   {
    "duration": 259,
    "start_time": "2022-11-11T14:32:58.110Z"
   },
   {
    "duration": 1421,
    "start_time": "2022-11-11T14:33:31.860Z"
   },
   {
    "duration": 850,
    "start_time": "2022-11-11T14:33:33.283Z"
   },
   {
    "duration": 4,
    "start_time": "2022-11-11T14:33:34.135Z"
   },
   {
    "duration": 1048,
    "start_time": "2022-11-11T14:33:34.141Z"
   },
   {
    "duration": 1010,
    "start_time": "2022-11-11T14:33:35.191Z"
   },
   {
    "duration": 674,
    "start_time": "2022-11-11T14:33:36.204Z"
   },
   {
    "duration": 71,
    "start_time": "2022-11-11T14:33:36.880Z"
   },
   {
    "duration": 85,
    "start_time": "2022-11-11T14:33:36.953Z"
   },
   {
    "duration": 405,
    "start_time": "2022-11-11T14:33:37.040Z"
   },
   {
    "duration": 7,
    "start_time": "2022-11-11T14:33:40.609Z"
   },
   {
    "duration": 92,
    "start_time": "2022-11-11T14:33:41.090Z"
   },
   {
    "duration": 5,
    "start_time": "2022-11-11T14:33:41.480Z"
   },
   {
    "duration": 93,
    "start_time": "2022-11-11T14:33:41.938Z"
   },
   {
    "duration": 4,
    "start_time": "2022-11-11T14:33:42.397Z"
   },
   {
    "duration": 171,
    "start_time": "2022-11-11T14:33:43.196Z"
   },
   {
    "duration": 43,
    "start_time": "2022-11-11T14:33:44.969Z"
   },
   {
    "duration": 17,
    "start_time": "2022-11-11T14:33:45.408Z"
   },
   {
    "duration": 4,
    "start_time": "2022-11-11T14:33:45.634Z"
   },
   {
    "duration": 282,
    "start_time": "2022-11-11T14:33:47.133Z"
   },
   {
    "duration": 134,
    "start_time": "2022-11-11T14:33:47.417Z"
   },
   {
    "duration": 1,
    "start_time": "2022-11-11T14:33:47.552Z"
   },
   {
    "duration": 175,
    "start_time": "2022-11-11T14:34:10.925Z"
   },
   {
    "duration": 279,
    "start_time": "2022-11-11T14:34:13.628Z"
   },
   {
    "duration": 268,
    "start_time": "2022-11-11T14:34:21.223Z"
   },
   {
    "duration": 280,
    "start_time": "2022-11-11T14:35:11.659Z"
   },
   {
    "duration": 56,
    "start_time": "2022-11-11T15:05:26.180Z"
   },
   {
    "duration": 1434,
    "start_time": "2022-11-11T15:05:44.039Z"
   },
   {
    "duration": 769,
    "start_time": "2022-11-11T15:05:45.475Z"
   },
   {
    "duration": 5,
    "start_time": "2022-11-11T15:05:46.246Z"
   },
   {
    "duration": 863,
    "start_time": "2022-11-11T15:05:46.781Z"
   },
   {
    "duration": 915,
    "start_time": "2022-11-11T15:05:48.260Z"
   },
   {
    "duration": 609,
    "start_time": "2022-11-11T15:05:49.177Z"
   },
   {
    "duration": 82,
    "start_time": "2022-11-11T15:05:49.787Z"
   },
   {
    "duration": 68,
    "start_time": "2022-11-11T15:05:50.167Z"
   },
   {
    "duration": 371,
    "start_time": "2022-11-11T15:05:50.679Z"
   },
   {
    "duration": 9,
    "start_time": "2022-11-11T15:05:52.195Z"
   },
   {
    "duration": 89,
    "start_time": "2022-11-11T15:05:52.491Z"
   },
   {
    "duration": 3,
    "start_time": "2022-11-11T15:05:53.829Z"
   },
   {
    "duration": 91,
    "start_time": "2022-11-11T15:05:54.349Z"
   },
   {
    "duration": 4,
    "start_time": "2022-11-11T15:05:54.891Z"
   },
   {
    "duration": 159,
    "start_time": "2022-11-11T15:05:56.549Z"
   },
   {
    "duration": 36,
    "start_time": "2022-11-11T15:05:59.153Z"
   },
   {
    "duration": 16,
    "start_time": "2022-11-11T15:05:59.499Z"
   },
   {
    "duration": 4,
    "start_time": "2022-11-11T15:06:00.626Z"
   },
   {
    "duration": 306,
    "start_time": "2022-11-11T15:06:13.063Z"
   },
   {
    "duration": 4,
    "start_time": "2022-11-11T15:06:32.356Z"
   },
   {
    "duration": 78,
    "start_time": "2022-11-11T15:06:32.610Z"
   },
   {
    "duration": 289,
    "start_time": "2022-11-11T15:06:50.019Z"
   },
   {
    "duration": 274,
    "start_time": "2022-11-11T15:07:26.679Z"
   },
   {
    "duration": 279,
    "start_time": "2022-11-11T15:07:46.214Z"
   },
   {
    "duration": 417,
    "start_time": "2022-11-11T15:08:30.921Z"
   },
   {
    "duration": 300,
    "start_time": "2022-11-11T15:09:27.917Z"
   },
   {
    "duration": 2108,
    "start_time": "2022-11-11T17:38:59.465Z"
   },
   {
    "duration": 1334,
    "start_time": "2022-11-11T17:39:02.466Z"
   },
   {
    "duration": 5,
    "start_time": "2022-11-11T17:39:03.802Z"
   },
   {
    "duration": 1192,
    "start_time": "2022-11-11T17:39:03.809Z"
   },
   {
    "duration": 1133,
    "start_time": "2022-11-11T17:39:05.436Z"
   },
   {
    "duration": 802,
    "start_time": "2022-11-11T17:39:06.572Z"
   },
   {
    "duration": 87,
    "start_time": "2022-11-11T17:39:08.029Z"
   },
   {
    "duration": 138,
    "start_time": "2022-11-11T17:39:23.870Z"
   },
   {
    "duration": 510,
    "start_time": "2022-11-11T17:39:24.765Z"
   },
   {
    "duration": 7,
    "start_time": "2022-11-11T17:39:32.276Z"
   },
   {
    "duration": 103,
    "start_time": "2022-11-11T17:39:32.909Z"
   },
   {
    "duration": 7,
    "start_time": "2022-11-11T17:39:36.293Z"
   },
   {
    "duration": 100,
    "start_time": "2022-11-11T17:39:37.948Z"
   },
   {
    "duration": 5,
    "start_time": "2022-11-11T17:39:38.684Z"
   },
   {
    "duration": 199,
    "start_time": "2022-11-11T17:39:48.709Z"
   },
   {
    "duration": 44,
    "start_time": "2022-11-11T17:40:16.819Z"
   },
   {
    "duration": 18,
    "start_time": "2022-11-11T17:40:17.780Z"
   },
   {
    "duration": 5,
    "start_time": "2022-11-11T17:40:30.684Z"
   },
   {
    "duration": 354,
    "start_time": "2022-11-11T17:40:32.172Z"
   },
   {
    "duration": 49,
    "start_time": "2022-11-11T17:41:40.044Z"
   },
   {
    "duration": 114,
    "start_time": "2022-11-11T17:41:40.596Z"
   },
   {
    "duration": 5,
    "start_time": "2022-11-11T17:43:01.035Z"
   },
   {
    "duration": 6,
    "start_time": "2022-11-11T17:43:38.773Z"
   },
   {
    "duration": 4,
    "start_time": "2022-11-11T17:44:10.777Z"
   },
   {
    "duration": 197,
    "start_time": "2022-11-11T17:44:58.081Z"
   },
   {
    "duration": 6,
    "start_time": "2022-11-11T17:45:00.473Z"
   },
   {
    "duration": 37,
    "start_time": "2022-11-11T17:45:02.538Z"
   },
   {
    "duration": 117,
    "start_time": "2022-11-11T17:45:08.721Z"
   },
   {
    "duration": 147,
    "start_time": "2022-11-11T17:45:10.849Z"
   },
   {
    "duration": 5,
    "start_time": "2022-11-11T17:45:15.771Z"
   },
   {
    "duration": 14,
    "start_time": "2022-11-11T17:45:20.089Z"
   },
   {
    "duration": 5,
    "start_time": "2022-11-11T17:45:20.721Z"
   },
   {
    "duration": 96,
    "start_time": "2022-11-11T17:45:44.530Z"
   },
   {
    "duration": 96,
    "start_time": "2022-11-11T17:46:09.409Z"
   },
   {
    "duration": 6,
    "start_time": "2022-11-11T17:46:25.234Z"
   },
   {
    "duration": 164,
    "start_time": "2022-11-11T17:46:25.505Z"
   },
   {
    "duration": 5,
    "start_time": "2022-11-11T17:46:25.936Z"
   },
   {
    "duration": 1882,
    "start_time": "2022-11-11T17:46:32.372Z"
   },
   {
    "duration": 1183,
    "start_time": "2022-11-11T17:46:35.193Z"
   },
   {
    "duration": 5,
    "start_time": "2022-11-11T17:46:36.379Z"
   },
   {
    "duration": 1322,
    "start_time": "2022-11-11T17:46:36.386Z"
   },
   {
    "duration": 1400,
    "start_time": "2022-11-11T17:46:39.160Z"
   },
   {
    "duration": 765,
    "start_time": "2022-11-11T17:46:40.562Z"
   },
   {
    "duration": 93,
    "start_time": "2022-11-11T17:46:41.329Z"
   },
   {
    "duration": 131,
    "start_time": "2022-11-11T17:46:41.669Z"
   },
   {
    "duration": 648,
    "start_time": "2022-11-11T17:46:42.233Z"
   },
   {
    "duration": 8,
    "start_time": "2022-11-11T17:46:43.936Z"
   },
   {
    "duration": 115,
    "start_time": "2022-11-11T17:46:44.360Z"
   },
   {
    "duration": 6,
    "start_time": "2022-11-11T17:46:47.720Z"
   },
   {
    "duration": 127,
    "start_time": "2022-11-11T17:46:49.144Z"
   },
   {
    "duration": 5,
    "start_time": "2022-11-11T17:46:49.543Z"
   },
   {
    "duration": 230,
    "start_time": "2022-11-11T17:47:00.260Z"
   },
   {
    "duration": 46,
    "start_time": "2022-11-11T17:47:01.464Z"
   },
   {
    "duration": 22,
    "start_time": "2022-11-11T17:47:01.904Z"
   },
   {
    "duration": 7,
    "start_time": "2022-11-11T17:47:02.449Z"
   },
   {
    "duration": 393,
    "start_time": "2022-11-11T17:47:05.869Z"
   },
   {
    "duration": 5,
    "start_time": "2022-11-11T17:47:06.783Z"
   },
   {
    "duration": 69,
    "start_time": "2022-11-11T17:47:07.224Z"
   },
   {
    "duration": 114,
    "start_time": "2022-11-11T17:47:07.689Z"
   },
   {
    "duration": 11,
    "start_time": "2022-11-11T17:47:10.258Z"
   },
   {
    "duration": 124,
    "start_time": "2022-11-11T17:47:15.520Z"
   },
   {
    "duration": 7,
    "start_time": "2022-11-11T17:47:16.362Z"
   },
   {
    "duration": 148,
    "start_time": "2022-11-11T17:47:16.936Z"
   },
   {
    "duration": 106,
    "start_time": "2022-11-11T17:47:17.776Z"
   },
   {
    "duration": 179,
    "start_time": "2022-11-11T17:47:19.503Z"
   },
   {
    "duration": 5,
    "start_time": "2022-11-11T17:47:23.696Z"
   },
   {
    "duration": 31,
    "start_time": "2022-11-11T17:47:24.364Z"
   },
   {
    "duration": 10,
    "start_time": "2022-11-11T17:47:25.200Z"
   },
   {
    "duration": 3,
    "start_time": "2022-11-11T17:47:45.583Z"
   },
   {
    "duration": 5,
    "start_time": "2022-11-11T17:47:47.175Z"
   },
   {
    "duration": 86,
    "start_time": "2022-11-11T17:47:47.488Z"
   },
   {
    "duration": 7,
    "start_time": "2022-11-11T17:47:47.720Z"
   },
   {
    "duration": 15,
    "start_time": "2022-11-11T17:47:47.953Z"
   },
   {
    "duration": 46,
    "start_time": "2022-11-11T17:48:17.959Z"
   },
   {
    "duration": 13,
    "start_time": "2022-11-11T17:48:19.480Z"
   },
   {
    "duration": 18,
    "start_time": "2022-11-11T17:48:43.591Z"
   },
   {
    "duration": 4,
    "start_time": "2022-11-11T17:48:45.887Z"
   },
   {
    "duration": 80,
    "start_time": "2022-11-11T17:48:47.153Z"
   },
   {
    "duration": 5,
    "start_time": "2022-11-11T17:48:47.694Z"
   },
   {
    "duration": 1113,
    "start_time": "2022-11-11T17:48:48.700Z"
   },
   {
    "duration": 25,
    "start_time": "2022-11-11T17:50:01.287Z"
   },
   {
    "duration": 899780,
    "start_time": "2022-11-11T17:53:35.694Z"
   },
   {
    "duration": 35,
    "start_time": "2022-11-11T18:09:19.888Z"
   },
   {
    "duration": 240,
    "start_time": "2022-11-11T18:12:57.615Z"
   },
   {
    "duration": 8,
    "start_time": "2022-11-11T18:13:10.496Z"
   },
   {
    "duration": 5,
    "start_time": "2022-11-11T18:13:16.214Z"
   },
   {
    "duration": 72,
    "start_time": "2022-11-11T18:17:35.908Z"
   },
   {
    "duration": 4,
    "start_time": "2022-11-11T18:17:41.852Z"
   },
   {
    "duration": 4,
    "start_time": "2022-11-11T18:17:47.292Z"
   },
   {
    "duration": 5,
    "start_time": "2022-11-11T18:17:57.644Z"
   },
   {
    "duration": 1845,
    "start_time": "2022-11-11T18:23:16.285Z"
   },
   {
    "duration": 1273,
    "start_time": "2022-11-11T18:23:18.628Z"
   },
   {
    "duration": 9,
    "start_time": "2022-11-11T18:23:19.903Z"
   },
   {
    "duration": 1312,
    "start_time": "2022-11-11T18:23:19.915Z"
   },
   {
    "duration": 1123,
    "start_time": "2022-11-11T18:23:21.230Z"
   },
   {
    "duration": 683,
    "start_time": "2022-11-11T18:23:22.355Z"
   },
   {
    "duration": 95,
    "start_time": "2022-11-11T18:23:23.041Z"
   },
   {
    "duration": 78,
    "start_time": "2022-11-11T18:23:23.150Z"
   },
   {
    "duration": 456,
    "start_time": "2022-11-11T18:23:23.232Z"
   },
   {
    "duration": 8,
    "start_time": "2022-11-11T18:23:23.690Z"
   },
   {
    "duration": 124,
    "start_time": "2022-11-11T18:23:23.700Z"
   },
   {
    "duration": 7,
    "start_time": "2022-11-11T18:23:23.826Z"
   },
   {
    "duration": 134,
    "start_time": "2022-11-11T18:23:24.029Z"
   },
   {
    "duration": 6,
    "start_time": "2022-11-11T18:23:24.900Z"
   },
   {
    "duration": 249,
    "start_time": "2022-11-11T18:23:25.429Z"
   },
   {
    "duration": 47,
    "start_time": "2022-11-11T18:23:25.900Z"
   },
   {
    "duration": 24,
    "start_time": "2022-11-11T18:23:26.140Z"
   },
   {
    "duration": 5,
    "start_time": "2022-11-11T18:23:26.381Z"
   },
   {
    "duration": 353,
    "start_time": "2022-11-11T18:23:26.845Z"
   },
   {
    "duration": 4,
    "start_time": "2022-11-11T18:23:27.349Z"
   },
   {
    "duration": 49,
    "start_time": "2022-11-11T18:23:28.356Z"
   },
   {
    "duration": 88,
    "start_time": "2022-11-11T18:23:28.597Z"
   },
   {
    "duration": 6,
    "start_time": "2022-11-11T18:23:28.812Z"
   },
   {
    "duration": 137,
    "start_time": "2022-11-11T18:23:30.757Z"
   },
   {
    "duration": 4,
    "start_time": "2022-11-11T18:23:32.308Z"
   },
   {
    "duration": 152,
    "start_time": "2022-11-11T18:23:39.213Z"
   },
   {
    "duration": 102,
    "start_time": "2022-11-11T18:23:39.613Z"
   },
   {
    "duration": 140,
    "start_time": "2022-11-11T18:23:41.493Z"
   },
   {
    "duration": 5,
    "start_time": "2022-11-11T18:23:43.493Z"
   },
   {
    "duration": 25,
    "start_time": "2022-11-11T18:23:44.205Z"
   },
   {
    "duration": 5,
    "start_time": "2022-11-11T18:23:46.837Z"
   },
   {
    "duration": 4,
    "start_time": "2022-11-11T18:23:48.220Z"
   },
   {
    "duration": 5,
    "start_time": "2022-11-11T18:23:51.173Z"
   },
   {
    "duration": 96,
    "start_time": "2022-11-11T18:23:51.461Z"
   },
   {
    "duration": 6,
    "start_time": "2022-11-11T18:23:51.725Z"
   },
   {
    "duration": 11,
    "start_time": "2022-11-11T18:23:52.043Z"
   },
   {
    "duration": 35,
    "start_time": "2022-11-11T18:23:52.485Z"
   },
   {
    "duration": 12,
    "start_time": "2022-11-11T18:23:53.054Z"
   },
   {
    "duration": 19,
    "start_time": "2022-11-11T18:23:54.381Z"
   },
   {
    "duration": 3,
    "start_time": "2022-11-11T18:23:54.702Z"
   },
   {
    "duration": 71,
    "start_time": "2022-11-11T18:23:55.054Z"
   },
   {
    "duration": 7,
    "start_time": "2022-11-11T18:23:55.566Z"
   },
   {
    "duration": 828,
    "start_time": "2022-11-11T18:23:56.789Z"
   },
   {
    "duration": 25,
    "start_time": "2022-11-11T18:23:58.316Z"
   },
   {
    "duration": 1620266,
    "start_time": "2022-11-11T18:24:02.293Z"
   },
   {
    "duration": 44131,
    "start_time": "2022-11-11T18:55:26.034Z"
   },
   {
    "duration": 45387,
    "start_time": "2022-11-11T18:56:43.957Z"
   },
   {
    "duration": 45892,
    "start_time": "2022-11-11T18:58:38.275Z"
   },
   {
    "duration": 1005411,
    "start_time": "2022-11-11T18:59:58.220Z"
   },
   {
    "duration": 25,
    "start_time": "2022-11-11T19:35:51.460Z"
   },
   {
    "duration": 17,
    "start_time": "2022-11-11T19:37:11.173Z"
   },
   {
    "duration": 4,
    "start_time": "2022-11-11T19:38:27.571Z"
   },
   {
    "duration": 80,
    "start_time": "2022-11-11T19:38:43.131Z"
   },
   {
    "duration": 87,
    "start_time": "2022-11-11T19:39:09.571Z"
   },
   {
    "duration": 17885,
    "start_time": "2022-11-11T19:39:15.236Z"
   },
   {
    "duration": 557,
    "start_time": "2022-11-11T19:39:50.923Z"
   },
   {
    "duration": 227627,
    "start_time": "2022-11-11T23:12:19.128Z"
   },
   {
    "duration": 4,
    "start_time": "2022-11-11T23:16:06.757Z"
   },
   {
    "duration": 917827,
    "start_time": "2022-11-11T23:17:33.133Z"
   },
   {
    "duration": 1723,
    "start_time": "2022-11-12T10:14:27.448Z"
   },
   {
    "duration": 1108,
    "start_time": "2022-11-12T10:14:29.173Z"
   },
   {
    "duration": 4,
    "start_time": "2022-11-12T10:14:30.283Z"
   },
   {
    "duration": 1089,
    "start_time": "2022-11-12T10:14:30.290Z"
   },
   {
    "duration": 1013,
    "start_time": "2022-11-12T10:14:31.381Z"
   },
   {
    "duration": 660,
    "start_time": "2022-11-12T10:14:32.396Z"
   },
   {
    "duration": 74,
    "start_time": "2022-11-12T10:14:33.058Z"
   },
   {
    "duration": 87,
    "start_time": "2022-11-12T10:14:33.134Z"
   },
   {
    "duration": 405,
    "start_time": "2022-11-12T10:14:33.222Z"
   },
   {
    "duration": 7,
    "start_time": "2022-11-12T10:14:33.628Z"
   },
   {
    "duration": 93,
    "start_time": "2022-11-12T10:14:33.809Z"
   },
   {
    "duration": 5,
    "start_time": "2022-11-12T10:14:34.051Z"
   },
   {
    "duration": 90,
    "start_time": "2022-11-12T10:14:34.302Z"
   },
   {
    "duration": 5,
    "start_time": "2022-11-12T10:14:34.529Z"
   },
   {
    "duration": 173,
    "start_time": "2022-11-12T10:14:36.346Z"
   },
   {
    "duration": 38,
    "start_time": "2022-11-12T10:14:37.451Z"
   },
   {
    "duration": 16,
    "start_time": "2022-11-12T10:14:37.742Z"
   },
   {
    "duration": 4,
    "start_time": "2022-11-12T10:14:38.151Z"
   },
   {
    "duration": 306,
    "start_time": "2022-11-12T10:14:38.732Z"
   },
   {
    "duration": 4,
    "start_time": "2022-11-12T10:14:39.251Z"
   },
   {
    "duration": 34,
    "start_time": "2022-11-12T10:14:39.506Z"
   },
   {
    "duration": 74,
    "start_time": "2022-11-12T10:14:39.721Z"
   },
   {
    "duration": 4,
    "start_time": "2022-11-12T10:14:39.989Z"
   },
   {
    "duration": 99,
    "start_time": "2022-11-12T10:14:54.656Z"
   },
   {
    "duration": 4,
    "start_time": "2022-11-12T10:14:57.164Z"
   },
   {
    "duration": 96,
    "start_time": "2022-11-12T10:14:57.525Z"
   },
   {
    "duration": 74,
    "start_time": "2022-11-12T10:14:58.335Z"
   },
   {
    "duration": 96,
    "start_time": "2022-11-12T10:15:02.072Z"
   },
   {
    "duration": 4,
    "start_time": "2022-11-12T10:15:04.724Z"
   },
   {
    "duration": 24,
    "start_time": "2022-11-12T10:15:05.101Z"
   },
   {
    "duration": 4,
    "start_time": "2022-11-12T10:15:05.561Z"
   },
   {
    "duration": 2,
    "start_time": "2022-11-12T10:15:12.317Z"
   },
   {
    "duration": 5,
    "start_time": "2022-11-12T10:15:44.149Z"
   },
   {
    "duration": 75,
    "start_time": "2022-11-12T10:15:44.757Z"
   },
   {
    "duration": 5,
    "start_time": "2022-11-12T10:15:47.425Z"
   },
   {
    "duration": 8,
    "start_time": "2022-11-12T10:15:47.963Z"
   },
   {
    "duration": 33,
    "start_time": "2022-11-12T10:15:48.457Z"
   },
   {
    "duration": 10,
    "start_time": "2022-11-12T10:15:49.537Z"
   },
   {
    "duration": 18,
    "start_time": "2022-11-12T10:15:51.576Z"
   },
   {
    "duration": 3,
    "start_time": "2022-11-12T10:15:51.819Z"
   },
   {
    "duration": 51,
    "start_time": "2022-11-12T10:15:52.071Z"
   },
   {
    "duration": 3,
    "start_time": "2022-11-12T10:15:52.303Z"
   },
   {
    "duration": 722,
    "start_time": "2022-11-12T10:15:52.724Z"
   },
   {
    "duration": 23,
    "start_time": "2022-11-12T10:15:54.375Z"
   },
   {
    "duration": 1781691,
    "start_time": "2022-11-12T10:16:19.708Z"
   },
   {
    "duration": 24,
    "start_time": "2022-11-12T10:49:53.851Z"
   },
   {
    "duration": 6,
    "start_time": "2022-11-12T10:51:11.839Z"
   },
   {
    "duration": 16,
    "start_time": "2022-11-12T10:51:18.135Z"
   },
   {
    "duration": 6,
    "start_time": "2022-11-12T10:51:33.850Z"
   },
   {
    "duration": 18,
    "start_time": "2022-11-12T10:53:20.275Z"
   },
   {
    "duration": 19,
    "start_time": "2022-11-12T10:53:30.540Z"
   },
   {
    "duration": 3,
    "start_time": "2022-11-12T10:55:14.809Z"
   },
   {
    "duration": 5,
    "start_time": "2022-11-12T10:56:16.492Z"
   },
   {
    "duration": 2,
    "start_time": "2022-11-12T10:56:20.428Z"
   },
   {
    "duration": 7221,
    "start_time": "2022-11-12T10:56:53.091Z"
   },
   {
    "duration": 556,
    "start_time": "2022-11-12T10:57:24.924Z"
   },
   {
    "duration": 2,
    "start_time": "2022-11-12T10:57:35.301Z"
   },
   {
    "duration": 140,
    "start_time": "2022-11-12T10:58:17.064Z"
   },
   {
    "duration": 32,
    "start_time": "2022-11-12T10:58:28.535Z"
   },
   {
    "duration": 192,
    "start_time": "2022-11-12T11:10:24.219Z"
   },
   {
    "duration": 78,
    "start_time": "2022-11-12T11:17:12.880Z"
   },
   {
    "duration": 121,
    "start_time": "2022-11-12T11:17:50.775Z"
   },
   {
    "duration": 78,
    "start_time": "2022-11-12T11:17:58.832Z"
   },
   {
    "duration": 67139,
    "start_time": "2022-11-12T11:18:16.432Z"
   },
   {
    "duration": 72588,
    "start_time": "2022-11-12T11:21:58.266Z"
   },
   {
    "duration": 37,
    "start_time": "2022-11-12T11:23:15.945Z"
   },
   {
    "duration": 13,
    "start_time": "2022-11-12T11:29:06.849Z"
   },
   {
    "duration": 5,
    "start_time": "2022-11-12T11:30:54.427Z"
   },
   {
    "duration": 10,
    "start_time": "2022-11-12T11:31:51.821Z"
   },
   {
    "duration": 30,
    "start_time": "2022-11-12T11:32:22.712Z"
   },
   {
    "duration": 31,
    "start_time": "2022-11-12T11:32:35.004Z"
   },
   {
    "duration": 32,
    "start_time": "2022-11-12T11:33:32.872Z"
   },
   {
    "duration": 16,
    "start_time": "2022-11-12T11:34:05.890Z"
   },
   {
    "duration": 10,
    "start_time": "2022-11-12T11:34:29.432Z"
   },
   {
    "duration": 10,
    "start_time": "2022-11-12T11:34:36.897Z"
   },
   {
    "duration": 42701,
    "start_time": "2022-11-12T11:34:46.267Z"
   },
   {
    "duration": 34,
    "start_time": "2022-11-12T11:35:30.047Z"
   },
   {
    "duration": 11,
    "start_time": "2022-11-12T11:35:33.177Z"
   },
   {
    "duration": 27,
    "start_time": "2022-11-12T11:35:43.401Z"
   },
   {
    "duration": 26,
    "start_time": "2022-11-12T11:37:12.424Z"
   },
   {
    "duration": 27,
    "start_time": "2022-11-12T11:37:44.950Z"
   },
   {
    "duration": 4,
    "start_time": "2022-11-12T11:38:53.810Z"
   },
   {
    "duration": 11,
    "start_time": "2022-11-12T11:39:00.737Z"
   },
   {
    "duration": 4,
    "start_time": "2022-11-12T11:40:21.240Z"
   },
   {
    "duration": 26,
    "start_time": "2022-11-12T11:40:30.754Z"
   },
   {
    "duration": 92,
    "start_time": "2022-11-12T11:44:08.503Z"
   },
   {
    "duration": 87,
    "start_time": "2022-11-12T11:44:28.931Z"
   },
   {
    "duration": 84,
    "start_time": "2022-11-12T11:44:44.810Z"
   },
   {
    "duration": 90,
    "start_time": "2022-11-12T11:45:02.903Z"
   },
   {
    "duration": 74,
    "start_time": "2022-11-12T11:46:08.315Z"
   },
   {
    "duration": 11,
    "start_time": "2022-11-12T11:46:30.032Z"
   },
   {
    "duration": 11,
    "start_time": "2022-11-12T11:46:35.843Z"
   },
   {
    "duration": 10,
    "start_time": "2022-11-12T11:47:34.561Z"
   },
   {
    "duration": 82,
    "start_time": "2022-11-12T11:47:45.881Z"
   },
   {
    "duration": 1457,
    "start_time": "2022-11-12T11:48:05.491Z"
   },
   {
    "duration": 815,
    "start_time": "2022-11-12T11:48:06.950Z"
   },
   {
    "duration": 5,
    "start_time": "2022-11-12T11:48:08.288Z"
   },
   {
    "duration": 1008,
    "start_time": "2022-11-12T11:48:08.553Z"
   },
   {
    "duration": 954,
    "start_time": "2022-11-12T11:48:09.917Z"
   },
   {
    "duration": 624,
    "start_time": "2022-11-12T11:48:10.873Z"
   },
   {
    "duration": 82,
    "start_time": "2022-11-12T11:48:11.499Z"
   },
   {
    "duration": 74,
    "start_time": "2022-11-12T11:48:11.952Z"
   },
   {
    "duration": 322,
    "start_time": "2022-11-12T11:48:12.212Z"
   },
   {
    "duration": 7,
    "start_time": "2022-11-12T11:48:13.311Z"
   },
   {
    "duration": 93,
    "start_time": "2022-11-12T11:48:13.637Z"
   },
   {
    "duration": 4,
    "start_time": "2022-11-12T11:48:13.880Z"
   },
   {
    "duration": 95,
    "start_time": "2022-11-12T11:48:14.189Z"
   },
   {
    "duration": 4,
    "start_time": "2022-11-12T11:48:14.642Z"
   },
   {
    "duration": 286,
    "start_time": "2022-11-12T11:48:15.563Z"
   },
   {
    "duration": 39,
    "start_time": "2022-11-12T11:48:16.220Z"
   },
   {
    "duration": 17,
    "start_time": "2022-11-12T11:48:16.413Z"
   },
   {
    "duration": 4,
    "start_time": "2022-11-12T11:48:16.727Z"
   },
   {
    "duration": 309,
    "start_time": "2022-11-12T11:48:17.631Z"
   },
   {
    "duration": 4,
    "start_time": "2022-11-12T11:48:18.742Z"
   },
   {
    "duration": 43,
    "start_time": "2022-11-12T11:48:19.034Z"
   },
   {
    "duration": 75,
    "start_time": "2022-11-12T11:48:19.788Z"
   },
   {
    "duration": 4,
    "start_time": "2022-11-12T11:48:20.441Z"
   },
   {
    "duration": 103,
    "start_time": "2022-11-12T11:48:22.936Z"
   },
   {
    "duration": 5,
    "start_time": "2022-11-12T11:48:23.981Z"
   },
   {
    "duration": 107,
    "start_time": "2022-11-12T11:48:24.182Z"
   },
   {
    "duration": 68,
    "start_time": "2022-11-12T11:48:24.844Z"
   },
   {
    "duration": 97,
    "start_time": "2022-11-12T11:48:26.508Z"
   },
   {
    "duration": 4,
    "start_time": "2022-11-12T11:48:27.578Z"
   },
   {
    "duration": 27,
    "start_time": "2022-11-12T11:48:27.779Z"
   },
   {
    "duration": 4,
    "start_time": "2022-11-12T11:48:28.181Z"
   },
   {
    "duration": 115,
    "start_time": "2022-11-12T11:48:46.419Z"
   },
   {
    "duration": 33,
    "start_time": "2022-11-12T11:48:51.992Z"
   },
   {
    "duration": 190,
    "start_time": "2022-11-12T11:48:56.024Z"
   },
   {
    "duration": 4,
    "start_time": "2022-11-12T11:52:17.683Z"
   },
   {
    "duration": 35,
    "start_time": "2022-11-12T11:52:40.140Z"
   },
   {
    "duration": 33,
    "start_time": "2022-11-12T11:52:49.858Z"
   },
   {
    "duration": 88076,
    "start_time": "2022-11-12T11:53:53.502Z"
   },
   {
    "duration": 13,
    "start_time": "2022-11-12T12:01:20.024Z"
   },
   {
    "duration": 12,
    "start_time": "2022-11-12T12:01:47.125Z"
   },
   {
    "duration": 2754686,
    "start_time": "2022-11-12T12:02:05.411Z"
   },
   {
    "duration": 90414,
    "start_time": "2022-11-12T12:48:20.689Z"
   },
   {
    "duration": 99170,
    "start_time": "2022-11-12T12:49:53.039Z"
   },
   {
    "duration": 10862,
    "start_time": "2022-11-12T12:51:47.632Z"
   },
   {
    "duration": 24406,
    "start_time": "2022-11-12T12:52:00.578Z"
   },
   {
    "duration": 24199,
    "start_time": "2022-11-12T12:52:55.588Z"
   },
   {
    "duration": 16,
    "start_time": "2022-11-12T12:53:44.383Z"
   },
   {
    "duration": 20011,
    "start_time": "2022-11-12T12:56:27.586Z"
   },
   {
    "duration": 8404,
    "start_time": "2022-11-12T12:56:48.728Z"
   },
   {
    "duration": 218208,
    "start_time": "2022-11-12T12:56:58.274Z"
   },
   {
    "duration": 21,
    "start_time": "2022-11-12T13:00:36.484Z"
   },
   {
    "duration": 270995,
    "start_time": "2022-11-12T13:02:17.492Z"
   },
   {
    "duration": 18,
    "start_time": "2022-11-12T13:06:48.489Z"
   },
   {
    "duration": 12,
    "start_time": "2022-11-12T13:09:23.507Z"
   },
   {
    "duration": 80,
    "start_time": "2022-11-12T13:09:39.282Z"
   },
   {
    "duration": 80,
    "start_time": "2022-11-12T13:09:45.710Z"
   },
   {
    "duration": 1022,
    "start_time": "2022-11-12T13:09:55.670Z"
   },
   {
    "duration": 1541,
    "start_time": "2022-11-12T13:14:06.392Z"
   },
   {
    "duration": 963,
    "start_time": "2022-11-12T13:14:09.000Z"
   },
   {
    "duration": 7,
    "start_time": "2022-11-12T13:14:09.965Z"
   },
   {
    "duration": 1140,
    "start_time": "2022-11-12T13:14:10.054Z"
   },
   {
    "duration": 1181,
    "start_time": "2022-11-12T13:14:12.134Z"
   },
   {
    "duration": 743,
    "start_time": "2022-11-12T13:14:13.317Z"
   },
   {
    "duration": 108,
    "start_time": "2022-11-12T13:14:14.691Z"
   },
   {
    "duration": 97,
    "start_time": "2022-11-12T13:14:16.321Z"
   },
   {
    "duration": 375,
    "start_time": "2022-11-12T13:14:16.421Z"
   },
   {
    "duration": 7,
    "start_time": "2022-11-12T13:14:16.967Z"
   },
   {
    "duration": 108,
    "start_time": "2022-11-12T13:14:17.206Z"
   },
   {
    "duration": 5,
    "start_time": "2022-11-12T13:14:17.441Z"
   },
   {
    "duration": 104,
    "start_time": "2022-11-12T13:14:17.695Z"
   },
   {
    "duration": 5,
    "start_time": "2022-11-12T13:14:18.081Z"
   },
   {
    "duration": 279,
    "start_time": "2022-11-12T13:14:18.645Z"
   },
   {
    "duration": 57,
    "start_time": "2022-11-12T13:14:19.332Z"
   },
   {
    "duration": 18,
    "start_time": "2022-11-12T13:14:19.670Z"
   },
   {
    "duration": 5,
    "start_time": "2022-11-12T13:14:19.951Z"
   },
   {
    "duration": 323,
    "start_time": "2022-11-12T13:14:21.595Z"
   },
   {
    "duration": 5,
    "start_time": "2022-11-12T13:14:22.571Z"
   },
   {
    "duration": 49,
    "start_time": "2022-11-12T13:14:22.790Z"
   },
   {
    "duration": 91,
    "start_time": "2022-11-12T13:14:23.053Z"
   },
   {
    "duration": 5,
    "start_time": "2022-11-12T13:14:23.587Z"
   },
   {
    "duration": 100,
    "start_time": "2022-11-12T13:14:26.822Z"
   },
   {
    "duration": 4,
    "start_time": "2022-11-12T13:14:27.299Z"
   },
   {
    "duration": 101,
    "start_time": "2022-11-12T13:14:27.562Z"
   },
   {
    "duration": 73,
    "start_time": "2022-11-12T13:14:27.810Z"
   },
   {
    "duration": 103,
    "start_time": "2022-11-12T13:14:29.376Z"
   },
   {
    "duration": 5,
    "start_time": "2022-11-12T13:14:30.079Z"
   },
   {
    "duration": 32,
    "start_time": "2022-11-12T13:14:30.305Z"
   },
   {
    "duration": 5,
    "start_time": "2022-11-12T13:14:30.533Z"
   },
   {
    "duration": 3,
    "start_time": "2022-11-12T13:14:31.492Z"
   },
   {
    "duration": 5,
    "start_time": "2022-11-12T13:14:34.418Z"
   },
   {
    "duration": 125,
    "start_time": "2022-11-12T13:14:40.576Z"
   },
   {
    "duration": 41,
    "start_time": "2022-11-12T13:14:42.803Z"
   },
   {
    "duration": 157,
    "start_time": "2022-11-12T13:14:45.374Z"
   },
   {
    "duration": 91,
    "start_time": "2022-11-12T13:15:09.614Z"
   },
   {
    "duration": 40,
    "start_time": "2022-11-12T13:16:12.461Z"
   },
   {
    "duration": 147369,
    "start_time": "2022-11-12T13:16:24.129Z"
   },
   {
    "duration": 2266861,
    "start_time": "2022-11-12T13:18:52.534Z"
   },
   {
    "duration": 12,
    "start_time": "2022-11-12T13:56:39.398Z"
   },
   {
    "duration": 0,
    "start_time": "2022-11-12T13:56:39.415Z"
   },
   {
    "duration": 2938107,
    "start_time": "2022-11-12T13:56:47.487Z"
   },
   {
    "duration": 25,
    "start_time": "2022-11-12T14:45:45.680Z"
   },
   {
    "duration": 17,
    "start_time": "2022-11-12T14:46:24.690Z"
   },
   {
    "duration": 37,
    "start_time": "2022-11-12T14:49:40.749Z"
   },
   {
    "duration": 4,
    "start_time": "2022-11-12T14:49:48.475Z"
   },
   {
    "duration": 51930,
    "start_time": "2022-11-12T14:51:30.150Z"
   },
   {
    "duration": 185,
    "start_time": "2022-11-12T14:52:22.082Z"
   },
   {
    "duration": 12,
    "start_time": "2022-11-12T14:52:22.270Z"
   },
   {
    "duration": 118,
    "start_time": "2022-11-12T14:52:40.861Z"
   },
   {
    "duration": 4,
    "start_time": "2022-11-12T14:52:43.012Z"
   },
   {
    "duration": 4,
    "start_time": "2022-11-12T15:10:51.969Z"
   },
   {
    "duration": 481231,
    "start_time": "2022-11-12T15:10:54.761Z"
   },
   {
    "duration": 985,
    "start_time": "2022-11-12T15:18:55.994Z"
   },
   {
    "duration": 5,
    "start_time": "2022-11-12T15:18:56.982Z"
   },
   {
    "duration": 49,
    "start_time": "2022-11-12T15:18:56.989Z"
   },
   {
    "duration": 20,
    "start_time": "2022-11-12T15:22:04.021Z"
   },
   {
    "duration": 1595,
    "start_time": "2022-11-12T15:30:53.403Z"
   },
   {
    "duration": 910,
    "start_time": "2022-11-12T15:30:55.001Z"
   },
   {
    "duration": 5,
    "start_time": "2022-11-12T15:30:55.912Z"
   },
   {
    "duration": 1050,
    "start_time": "2022-11-12T15:30:55.919Z"
   },
   {
    "duration": 1536,
    "start_time": "2022-11-12T15:30:56.971Z"
   },
   {
    "duration": 1095,
    "start_time": "2022-11-12T15:30:58.508Z"
   },
   {
    "duration": 82,
    "start_time": "2022-11-12T15:30:59.605Z"
   },
   {
    "duration": 78,
    "start_time": "2022-11-12T15:30:59.689Z"
   },
   {
    "duration": 331,
    "start_time": "2022-11-12T15:30:59.778Z"
   },
   {
    "duration": 7,
    "start_time": "2022-11-12T15:31:00.111Z"
   },
   {
    "duration": 199,
    "start_time": "2022-11-12T15:31:00.119Z"
   },
   {
    "duration": 4,
    "start_time": "2022-11-12T15:31:00.319Z"
   },
   {
    "duration": 109,
    "start_time": "2022-11-12T15:31:00.325Z"
   },
   {
    "duration": 4,
    "start_time": "2022-11-12T15:31:00.436Z"
   },
   {
    "duration": 182,
    "start_time": "2022-11-12T15:31:00.442Z"
   },
   {
    "duration": 56,
    "start_time": "2022-11-12T15:31:00.626Z"
   },
   {
    "duration": 19,
    "start_time": "2022-11-12T15:31:00.683Z"
   },
   {
    "duration": 5,
    "start_time": "2022-11-12T15:31:00.704Z"
   },
   {
    "duration": 331,
    "start_time": "2022-11-12T15:31:00.711Z"
   },
   {
    "duration": 4,
    "start_time": "2022-11-12T15:31:01.044Z"
   },
   {
    "duration": 74,
    "start_time": "2022-11-12T15:31:01.050Z"
   },
   {
    "duration": 88,
    "start_time": "2022-11-12T15:31:01.126Z"
   },
   {
    "duration": 4,
    "start_time": "2022-11-12T15:31:01.215Z"
   },
   {
    "duration": 116,
    "start_time": "2022-11-12T15:31:01.221Z"
   },
   {
    "duration": 4,
    "start_time": "2022-11-12T15:31:01.339Z"
   },
   {
    "duration": 125,
    "start_time": "2022-11-12T15:31:01.344Z"
   },
   {
    "duration": 75,
    "start_time": "2022-11-12T15:31:01.471Z"
   },
   {
    "duration": 106,
    "start_time": "2022-11-12T15:31:01.551Z"
   },
   {
    "duration": 23,
    "start_time": "2022-11-12T15:31:01.659Z"
   },
   {
    "duration": 26,
    "start_time": "2022-11-12T15:31:01.683Z"
   },
   {
    "duration": 4,
    "start_time": "2022-11-12T15:31:01.711Z"
   },
   {
    "duration": 11,
    "start_time": "2022-11-12T15:31:01.716Z"
   },
   {
    "duration": 17,
    "start_time": "2022-11-12T15:31:01.729Z"
   },
   {
    "duration": 93,
    "start_time": "2022-11-12T15:31:01.748Z"
   },
   {
    "duration": 5,
    "start_time": "2022-11-12T15:31:01.843Z"
   },
   {
    "duration": 12,
    "start_time": "2022-11-12T15:31:01.850Z"
   },
   {
    "duration": 42,
    "start_time": "2022-11-12T15:31:01.864Z"
   },
   {
    "duration": 10,
    "start_time": "2022-11-12T15:31:01.907Z"
   },
   {
    "duration": 20,
    "start_time": "2022-11-12T15:31:01.919Z"
   },
   {
    "duration": 3,
    "start_time": "2022-11-12T15:31:01.941Z"
   },
   {
    "duration": 85,
    "start_time": "2022-11-12T15:31:01.945Z"
   },
   {
    "duration": 3,
    "start_time": "2022-11-12T15:31:02.032Z"
   },
   {
    "duration": 824,
    "start_time": "2022-11-12T15:31:02.037Z"
   },
   {
    "duration": 27,
    "start_time": "2022-11-12T15:31:02.863Z"
   },
   {
    "duration": 7297,
    "start_time": "2022-11-12T15:31:02.892Z"
   },
   {
    "duration": 92,
    "start_time": "2022-11-12T15:31:10.191Z"
   },
   {
    "duration": 0,
    "start_time": "2022-11-12T15:31:10.285Z"
   },
   {
    "duration": 0,
    "start_time": "2022-11-12T15:31:10.286Z"
   },
   {
    "duration": 0,
    "start_time": "2022-11-12T15:31:10.287Z"
   },
   {
    "duration": 0,
    "start_time": "2022-11-12T15:31:10.288Z"
   },
   {
    "duration": 0,
    "start_time": "2022-11-12T15:31:10.289Z"
   },
   {
    "duration": 0,
    "start_time": "2022-11-12T15:31:10.291Z"
   },
   {
    "duration": 0,
    "start_time": "2022-11-12T15:31:10.292Z"
   },
   {
    "duration": 0,
    "start_time": "2022-11-12T15:31:10.293Z"
   },
   {
    "duration": 0,
    "start_time": "2022-11-12T15:31:10.294Z"
   },
   {
    "duration": 0,
    "start_time": "2022-11-12T15:31:10.295Z"
   },
   {
    "duration": 0,
    "start_time": "2022-11-12T15:31:10.296Z"
   },
   {
    "duration": 0,
    "start_time": "2022-11-12T15:31:10.298Z"
   },
   {
    "duration": 0,
    "start_time": "2022-11-12T15:31:10.299Z"
   },
   {
    "duration": 0,
    "start_time": "2022-11-12T15:31:10.300Z"
   },
   {
    "duration": 0,
    "start_time": "2022-11-12T15:31:10.301Z"
   },
   {
    "duration": 0,
    "start_time": "2022-11-12T15:31:10.302Z"
   },
   {
    "duration": 0,
    "start_time": "2022-11-12T15:31:10.303Z"
   },
   {
    "duration": 0,
    "start_time": "2022-11-12T15:31:10.304Z"
   },
   {
    "duration": 0,
    "start_time": "2022-11-12T15:31:10.305Z"
   },
   {
    "duration": 0,
    "start_time": "2022-11-12T15:31:10.306Z"
   },
   {
    "duration": 0,
    "start_time": "2022-11-12T15:31:10.307Z"
   },
   {
    "duration": 0,
    "start_time": "2022-11-12T15:31:10.308Z"
   },
   {
    "duration": 0,
    "start_time": "2022-11-12T15:31:10.309Z"
   },
   {
    "duration": 0,
    "start_time": "2022-11-12T15:31:10.310Z"
   },
   {
    "duration": 0,
    "start_time": "2022-11-12T15:31:10.311Z"
   },
   {
    "duration": 1556,
    "start_time": "2022-11-12T15:33:55.711Z"
   },
   {
    "duration": 868,
    "start_time": "2022-11-12T15:33:57.269Z"
   },
   {
    "duration": 4,
    "start_time": "2022-11-12T15:33:58.139Z"
   },
   {
    "duration": 1032,
    "start_time": "2022-11-12T15:33:58.145Z"
   },
   {
    "duration": 1013,
    "start_time": "2022-11-12T15:33:59.179Z"
   },
   {
    "duration": 802,
    "start_time": "2022-11-12T15:34:00.194Z"
   },
   {
    "duration": 124,
    "start_time": "2022-11-12T15:34:00.998Z"
   },
   {
    "duration": 132,
    "start_time": "2022-11-12T15:34:01.178Z"
   },
   {
    "duration": 694,
    "start_time": "2022-11-12T15:34:01.312Z"
   },
   {
    "duration": 7,
    "start_time": "2022-11-12T15:34:02.009Z"
   },
   {
    "duration": 393,
    "start_time": "2022-11-12T15:34:02.017Z"
   },
   {
    "duration": 4,
    "start_time": "2022-11-12T15:34:02.412Z"
   },
   {
    "duration": 196,
    "start_time": "2022-11-12T15:34:02.417Z"
   },
   {
    "duration": 4,
    "start_time": "2022-11-12T15:34:02.615Z"
   },
   {
    "duration": 288,
    "start_time": "2022-11-12T15:34:02.620Z"
   },
   {
    "duration": 40,
    "start_time": "2022-11-12T15:34:02.910Z"
   },
   {
    "duration": 30,
    "start_time": "2022-11-12T15:34:02.952Z"
   },
   {
    "duration": 4,
    "start_time": "2022-11-12T15:34:02.984Z"
   },
   {
    "duration": 332,
    "start_time": "2022-11-12T15:34:02.990Z"
   },
   {
    "duration": 5,
    "start_time": "2022-11-12T15:34:03.324Z"
   },
   {
    "duration": 57,
    "start_time": "2022-11-12T15:34:03.330Z"
   },
   {
    "duration": 79,
    "start_time": "2022-11-12T15:34:03.389Z"
   },
   {
    "duration": 9,
    "start_time": "2022-11-12T15:34:03.470Z"
   },
   {
    "duration": 110,
    "start_time": "2022-11-12T15:34:03.481Z"
   },
   {
    "duration": 4,
    "start_time": "2022-11-12T15:34:03.593Z"
   },
   {
    "duration": 126,
    "start_time": "2022-11-12T15:34:03.598Z"
   },
   {
    "duration": 83,
    "start_time": "2022-11-12T15:34:03.726Z"
   },
   {
    "duration": 105,
    "start_time": "2022-11-12T15:34:03.813Z"
   },
   {
    "duration": 4,
    "start_time": "2022-11-12T15:34:03.920Z"
   },
   {
    "duration": 28,
    "start_time": "2022-11-12T15:34:03.926Z"
   },
   {
    "duration": 23,
    "start_time": "2022-11-12T15:34:03.957Z"
   },
   {
    "duration": 12,
    "start_time": "2022-11-12T15:34:03.982Z"
   },
   {
    "duration": 16,
    "start_time": "2022-11-12T15:34:03.996Z"
   },
   {
    "duration": 97,
    "start_time": "2022-11-12T15:34:04.014Z"
   },
   {
    "duration": 7,
    "start_time": "2022-11-12T15:34:04.113Z"
   },
   {
    "duration": 49,
    "start_time": "2022-11-12T15:34:04.122Z"
   },
   {
    "duration": 54,
    "start_time": "2022-11-12T15:34:04.173Z"
   },
   {
    "duration": 4,
    "start_time": "2022-11-12T15:34:04.229Z"
   },
   {
    "duration": 78,
    "start_time": "2022-11-12T15:34:04.235Z"
   },
   {
    "duration": 3,
    "start_time": "2022-11-12T15:34:04.314Z"
   },
   {
    "duration": 818,
    "start_time": "2022-11-12T15:34:04.318Z"
   },
   {
    "duration": 22,
    "start_time": "2022-11-12T15:34:05.138Z"
   },
   {
    "duration": 1849595,
    "start_time": "2022-11-12T15:34:05.162Z"
   },
   {
    "duration": 26,
    "start_time": "2022-11-12T16:04:54.759Z"
   },
   {
    "duration": 7,
    "start_time": "2022-11-12T16:04:54.788Z"
   },
   {
    "duration": 7,
    "start_time": "2022-11-12T16:04:54.797Z"
   },
   {
    "duration": 16878,
    "start_time": "2022-11-12T16:04:54.806Z"
   },
   {
    "duration": 1177,
    "start_time": "2022-11-12T16:05:11.686Z"
   },
   {
    "duration": 12,
    "start_time": "2022-11-12T16:05:12.866Z"
   },
   {
    "duration": 172,
    "start_time": "2022-11-12T16:05:12.880Z"
   },
   {
    "duration": 55,
    "start_time": "2022-11-12T16:05:13.054Z"
   },
   {
    "duration": 1614899,
    "start_time": "2022-11-12T16:05:13.111Z"
   },
   {
    "duration": 12,
    "start_time": "2022-11-12T16:32:08.012Z"
   },
   {
    "duration": 0,
    "start_time": "2022-11-12T16:32:08.026Z"
   },
   {
    "duration": 0,
    "start_time": "2022-11-12T16:32:08.027Z"
   },
   {
    "duration": 0,
    "start_time": "2022-11-12T16:32:08.029Z"
   },
   {
    "duration": 0,
    "start_time": "2022-11-12T16:32:08.031Z"
   },
   {
    "duration": 0,
    "start_time": "2022-11-12T16:32:08.033Z"
   },
   {
    "duration": 0,
    "start_time": "2022-11-12T16:32:08.034Z"
   },
   {
    "duration": 0,
    "start_time": "2022-11-12T16:32:08.036Z"
   },
   {
    "duration": 0,
    "start_time": "2022-11-12T16:32:08.037Z"
   },
   {
    "duration": 0,
    "start_time": "2022-11-12T16:32:08.039Z"
   },
   {
    "duration": 0,
    "start_time": "2022-11-12T16:32:08.040Z"
   },
   {
    "duration": 0,
    "start_time": "2022-11-12T16:32:08.042Z"
   },
   {
    "duration": 0,
    "start_time": "2022-11-12T16:32:08.044Z"
   },
   {
    "duration": 0,
    "start_time": "2022-11-12T16:32:08.045Z"
   },
   {
    "duration": 0,
    "start_time": "2022-11-12T16:32:08.079Z"
   },
   {
    "duration": 11262,
    "start_time": "2022-11-12T16:32:19.618Z"
   },
   {
    "duration": 86266,
    "start_time": "2022-11-12T16:32:32.413Z"
   },
   {
    "duration": 11,
    "start_time": "2022-11-12T16:33:58.681Z"
   },
   {
    "duration": 4140752,
    "start_time": "2022-11-12T16:34:47.533Z"
   },
   {
    "duration": 25,
    "start_time": "2022-11-12T17:43:48.287Z"
   },
   {
    "duration": 9,
    "start_time": "2022-11-12T17:43:48.314Z"
   },
   {
    "duration": 0,
    "start_time": "2022-11-12T17:43:48.379Z"
   },
   {
    "duration": 0,
    "start_time": "2022-11-12T17:43:48.380Z"
   },
   {
    "duration": 0,
    "start_time": "2022-11-12T17:43:48.382Z"
   },
   {
    "duration": 0,
    "start_time": "2022-11-12T17:43:48.383Z"
   },
   {
    "duration": 0,
    "start_time": "2022-11-12T17:43:48.384Z"
   },
   {
    "duration": 0,
    "start_time": "2022-11-12T17:43:48.385Z"
   },
   {
    "duration": 0,
    "start_time": "2022-11-12T17:43:48.386Z"
   },
   {
    "duration": 0,
    "start_time": "2022-11-12T17:43:48.387Z"
   },
   {
    "duration": 0,
    "start_time": "2022-11-12T17:43:48.388Z"
   },
   {
    "duration": 0,
    "start_time": "2022-11-12T17:43:48.389Z"
   },
   {
    "duration": 0,
    "start_time": "2022-11-12T17:43:48.390Z"
   },
   {
    "duration": 0,
    "start_time": "2022-11-12T17:43:48.391Z"
   },
   {
    "duration": 0,
    "start_time": "2022-11-12T17:43:48.393Z"
   },
   {
    "duration": 6,
    "start_time": "2022-11-12T18:12:04.988Z"
   },
   {
    "duration": 45,
    "start_time": "2022-11-12T18:13:11.574Z"
   },
   {
    "duration": 4,
    "start_time": "2022-11-12T18:13:18.921Z"
   },
   {
    "duration": 4842,
    "start_time": "2022-11-12T18:13:21.142Z"
   },
   {
    "duration": 613,
    "start_time": "2022-11-12T18:13:25.986Z"
   },
   {
    "duration": 77,
    "start_time": "2022-11-12T18:13:26.602Z"
   },
   {
    "duration": 14,
    "start_time": "2022-11-12T18:13:26.682Z"
   },
   {
    "duration": 66,
    "start_time": "2022-11-12T18:13:26.698Z"
   },
   {
    "duration": 5,
    "start_time": "2022-11-12T18:13:26.766Z"
   },
   {
    "duration": 0,
    "start_time": "2022-11-12T18:13:26.773Z"
   },
   {
    "duration": 0,
    "start_time": "2022-11-12T18:13:26.774Z"
   },
   {
    "duration": 0,
    "start_time": "2022-11-12T18:13:26.775Z"
   },
   {
    "duration": 4255313,
    "start_time": "2022-11-12T18:14:01.641Z"
   },
   {
    "duration": 4,
    "start_time": "2022-11-12T19:24:56.956Z"
   },
   {
    "duration": 42,
    "start_time": "2022-11-12T19:48:17.232Z"
   },
   {
    "duration": 42,
    "start_time": "2022-11-12T19:48:49.244Z"
   },
   {
    "duration": 9,
    "start_time": "2022-11-12T19:49:53.497Z"
   },
   {
    "duration": 9,
    "start_time": "2022-11-12T19:53:22.548Z"
   },
   {
    "duration": 15,
    "start_time": "2022-11-12T19:55:02.642Z"
   },
   {
    "duration": 17,
    "start_time": "2022-11-12T19:55:19.377Z"
   },
   {
    "duration": 28,
    "start_time": "2022-11-12T19:58:31.839Z"
   },
   {
    "duration": 6,
    "start_time": "2022-11-12T19:59:46.273Z"
   },
   {
    "duration": 429644,
    "start_time": "2022-11-12T19:59:53.989Z"
   },
   {
    "duration": 4,
    "start_time": "2022-11-12T20:07:16.325Z"
   },
   {
    "duration": 12,
    "start_time": "2022-11-12T20:09:10.206Z"
   },
   {
    "duration": 12,
    "start_time": "2022-11-12T20:12:50.363Z"
   },
   {
    "duration": 13,
    "start_time": "2022-11-12T20:12:57.622Z"
   },
   {
    "duration": 9,
    "start_time": "2022-11-12T20:13:25.438Z"
   },
   {
    "duration": 4,
    "start_time": "2022-11-12T20:13:31.010Z"
   },
   {
    "duration": 4,
    "start_time": "2022-11-12T20:14:07.065Z"
   },
   {
    "duration": 16,
    "start_time": "2022-11-12T20:14:29.148Z"
   },
   {
    "duration": 4,
    "start_time": "2022-11-12T20:14:55.570Z"
   },
   {
    "duration": 5,
    "start_time": "2022-11-12T20:15:11.039Z"
   },
   {
    "duration": 9,
    "start_time": "2022-11-12T20:15:20.906Z"
   },
   {
    "duration": 7,
    "start_time": "2022-11-12T20:15:53.880Z"
   },
   {
    "duration": 3,
    "start_time": "2022-11-12T20:16:00.702Z"
   },
   {
    "duration": 16,
    "start_time": "2022-11-12T20:16:58.526Z"
   },
   {
    "duration": 7,
    "start_time": "2022-11-12T20:17:06.109Z"
   },
   {
    "duration": 15,
    "start_time": "2022-11-12T20:17:20.062Z"
   },
   {
    "duration": 12,
    "start_time": "2022-11-12T20:19:05.549Z"
   },
   {
    "duration": 2,
    "start_time": "2022-11-12T20:20:40.729Z"
   },
   {
    "duration": 3,
    "start_time": "2022-11-12T20:21:00.458Z"
   },
   {
    "duration": 3,
    "start_time": "2022-11-12T20:21:57.938Z"
   },
   {
    "duration": 4,
    "start_time": "2022-11-12T20:22:05.737Z"
   },
   {
    "duration": 10,
    "start_time": "2022-11-12T20:29:20.026Z"
   },
   {
    "duration": 11,
    "start_time": "2022-11-12T20:30:19.982Z"
   },
   {
    "duration": 10,
    "start_time": "2022-11-12T20:30:56.645Z"
   },
   {
    "duration": 11,
    "start_time": "2022-11-12T20:31:05.982Z"
   },
   {
    "duration": 84,
    "start_time": "2022-11-12T20:33:13.721Z"
   },
   {
    "duration": 10,
    "start_time": "2022-11-12T20:34:50.535Z"
   },
   {
    "duration": 10,
    "start_time": "2022-11-12T20:34:56.570Z"
   },
   {
    "duration": 9,
    "start_time": "2022-11-12T20:35:00.258Z"
   },
   {
    "duration": 273,
    "start_time": "2022-11-12T20:35:37.392Z"
   },
   {
    "duration": 206,
    "start_time": "2022-11-12T20:35:58.575Z"
   },
   {
    "duration": 12,
    "start_time": "2022-11-12T20:36:13.282Z"
   },
   {
    "duration": 10,
    "start_time": "2022-11-12T20:46:52.989Z"
   },
   {
    "duration": 45943,
    "start_time": "2022-11-12T20:47:13.932Z"
   },
   {
    "duration": 5,
    "start_time": "2022-11-12T20:48:04.203Z"
   },
   {
    "duration": 520751,
    "start_time": "2022-11-12T20:48:19.489Z"
   },
   {
    "duration": 7,
    "start_time": "2022-11-12T20:59:22.476Z"
   },
   {
    "duration": 8,
    "start_time": "2022-11-12T21:00:09.819Z"
   },
   {
    "duration": 13,
    "start_time": "2022-11-12T21:01:21.060Z"
   },
   {
    "duration": 13,
    "start_time": "2022-11-12T21:01:28.744Z"
   },
   {
    "duration": 15,
    "start_time": "2022-11-12T21:01:33.297Z"
   },
   {
    "duration": 11,
    "start_time": "2022-11-12T21:02:26.827Z"
   },
   {
    "duration": 70,
    "start_time": "2022-11-12T21:03:22.477Z"
   },
   {
    "duration": 74,
    "start_time": "2022-11-12T21:03:36.151Z"
   },
   {
    "duration": 12,
    "start_time": "2022-11-12T21:03:40.798Z"
   },
   {
    "duration": 15,
    "start_time": "2022-11-12T21:03:45.588Z"
   },
   {
    "duration": 75,
    "start_time": "2022-11-12T21:03:46.806Z"
   },
   {
    "duration": 13,
    "start_time": "2022-11-12T21:03:52.903Z"
   },
   {
    "duration": 12,
    "start_time": "2022-11-12T21:04:34.529Z"
   },
   {
    "duration": 5,
    "start_time": "2022-11-12T21:08:07.909Z"
   },
   {
    "duration": 1212,
    "start_time": "2022-11-12T21:08:19.939Z"
   },
   {
    "duration": 3,
    "start_time": "2022-11-12T21:08:58.136Z"
   },
   {
    "duration": 1393,
    "start_time": "2022-11-12T21:09:09.586Z"
   },
   {
    "duration": 433709,
    "start_time": "2022-11-12T21:09:16.907Z"
   },
   {
    "duration": 1485,
    "start_time": "2022-11-12T21:16:30.618Z"
   },
   {
    "duration": 14,
    "start_time": "2022-11-12T21:16:32.105Z"
   },
   {
    "duration": 0,
    "start_time": "2022-11-12T21:16:32.122Z"
   },
   {
    "duration": 1368,
    "start_time": "2022-11-12T21:18:51.647Z"
   },
   {
    "duration": 3,
    "start_time": "2022-11-12T21:19:46.047Z"
   },
   {
    "duration": 4,
    "start_time": "2022-11-12T21:20:00.962Z"
   },
   {
    "duration": 4,
    "start_time": "2022-11-12T21:20:06.687Z"
   },
   {
    "duration": 5,
    "start_time": "2022-11-12T21:20:12.580Z"
   },
   {
    "duration": 4,
    "start_time": "2022-11-12T21:20:17.317Z"
   },
   {
    "duration": 4,
    "start_time": "2022-11-12T21:20:23.386Z"
   },
   {
    "duration": 1338,
    "start_time": "2022-11-12T21:23:02.199Z"
   },
   {
    "duration": 1496,
    "start_time": "2022-11-12T21:23:44.798Z"
   },
   {
    "duration": 6,
    "start_time": "2022-11-12T21:24:06.195Z"
   },
   {
    "duration": 893,
    "start_time": "2022-11-12T21:24:06.868Z"
   },
   {
    "duration": 4,
    "start_time": "2022-11-12T21:24:08.209Z"
   },
   {
    "duration": 1086,
    "start_time": "2022-11-12T21:24:08.493Z"
   },
   {
    "duration": 1051,
    "start_time": "2022-11-12T21:24:09.761Z"
   },
   {
    "duration": 670,
    "start_time": "2022-11-12T21:24:10.815Z"
   },
   {
    "duration": 72,
    "start_time": "2022-11-12T21:24:11.487Z"
   },
   {
    "duration": 81,
    "start_time": "2022-11-12T21:24:11.577Z"
   },
   {
    "duration": 322,
    "start_time": "2022-11-12T21:24:11.784Z"
   },
   {
    "duration": 8,
    "start_time": "2022-11-12T21:24:12.464Z"
   },
   {
    "duration": 112,
    "start_time": "2022-11-12T21:24:12.825Z"
   },
   {
    "duration": 5,
    "start_time": "2022-11-12T21:24:13.042Z"
   },
   {
    "duration": 101,
    "start_time": "2022-11-12T21:24:13.265Z"
   },
   {
    "duration": 4,
    "start_time": "2022-11-12T21:24:13.445Z"
   },
   {
    "duration": 324,
    "start_time": "2022-11-12T21:24:13.870Z"
   },
   {
    "duration": 43,
    "start_time": "2022-11-12T21:24:14.304Z"
   },
   {
    "duration": 18,
    "start_time": "2022-11-12T21:24:14.527Z"
   },
   {
    "duration": 5,
    "start_time": "2022-11-12T21:24:14.734Z"
   },
   {
    "duration": 323,
    "start_time": "2022-11-12T21:24:15.378Z"
   },
   {
    "duration": 4,
    "start_time": "2022-11-12T21:24:15.823Z"
   },
   {
    "duration": 56,
    "start_time": "2022-11-12T21:24:16.040Z"
   },
   {
    "duration": 78,
    "start_time": "2022-11-12T21:24:16.265Z"
   },
   {
    "duration": 5,
    "start_time": "2022-11-12T21:24:16.674Z"
   },
   {
    "duration": 108,
    "start_time": "2022-11-12T21:24:18.589Z"
   },
   {
    "duration": 6,
    "start_time": "2022-11-12T21:24:19.000Z"
   },
   {
    "duration": 112,
    "start_time": "2022-11-12T21:24:19.207Z"
   },
   {
    "duration": 74,
    "start_time": "2022-11-12T21:24:19.424Z"
   },
   {
    "duration": 99,
    "start_time": "2022-11-12T21:24:20.268Z"
   },
   {
    "duration": 3,
    "start_time": "2022-11-12T21:24:20.969Z"
   },
   {
    "duration": 31,
    "start_time": "2022-11-12T21:24:21.150Z"
   },
   {
    "duration": 4,
    "start_time": "2022-11-12T21:24:21.437Z"
   },
   {
    "duration": 4,
    "start_time": "2022-11-12T21:24:26.696Z"
   },
   {
    "duration": 116,
    "start_time": "2022-11-12T21:25:11.508Z"
   },
   {
    "duration": 3,
    "start_time": "2022-11-12T21:25:17.710Z"
   },
   {
    "duration": 74,
    "start_time": "2022-11-12T21:25:20.985Z"
   },
   {
    "duration": 5,
    "start_time": "2022-11-12T21:25:23.035Z"
   },
   {
    "duration": 6,
    "start_time": "2022-11-12T21:25:32.087Z"
   },
   {
    "duration": 3,
    "start_time": "2022-11-12T21:25:33.532Z"
   },
   {
    "duration": 428712,
    "start_time": "2022-11-12T21:25:56.251Z"
   },
   {
    "duration": 1366,
    "start_time": "2022-11-12T21:33:04.965Z"
   },
   {
    "duration": 9,
    "start_time": "2022-11-12T21:33:06.333Z"
   },
   {
    "duration": 1258,
    "start_time": "2022-11-12T21:36:57.637Z"
   },
   {
    "duration": 4,
    "start_time": "2022-11-12T21:37:01.059Z"
   },
   {
    "duration": 1254,
    "start_time": "2022-11-12T21:37:08.227Z"
   },
   {
    "duration": 4,
    "start_time": "2022-11-12T21:37:10.334Z"
   },
   {
    "duration": 1258,
    "start_time": "2022-11-12T21:37:42.960Z"
   },
   {
    "duration": 5,
    "start_time": "2022-11-12T21:37:45.105Z"
   },
   {
    "duration": 2,
    "start_time": "2022-11-12T21:38:14.305Z"
   },
   {
    "duration": 1611,
    "start_time": "2022-11-12T21:48:14.876Z"
   },
   {
    "duration": 937,
    "start_time": "2022-11-12T21:48:16.489Z"
   },
   {
    "duration": 5,
    "start_time": "2022-11-12T21:48:17.428Z"
   },
   {
    "duration": 1095,
    "start_time": "2022-11-12T21:48:17.436Z"
   },
   {
    "duration": 1348,
    "start_time": "2022-11-12T21:48:18.532Z"
   },
   {
    "duration": 676,
    "start_time": "2022-11-12T21:48:19.882Z"
   },
   {
    "duration": 85,
    "start_time": "2022-11-12T21:48:20.559Z"
   },
   {
    "duration": 89,
    "start_time": "2022-11-12T21:48:20.646Z"
   },
   {
    "duration": 354,
    "start_time": "2022-11-12T21:48:20.737Z"
   },
   {
    "duration": 7,
    "start_time": "2022-11-12T21:48:21.094Z"
   },
   {
    "duration": 122,
    "start_time": "2022-11-12T21:48:21.103Z"
   },
   {
    "duration": 4,
    "start_time": "2022-11-12T21:48:21.227Z"
   },
   {
    "duration": 114,
    "start_time": "2022-11-12T21:48:21.233Z"
   },
   {
    "duration": 4,
    "start_time": "2022-11-12T21:48:21.349Z"
   },
   {
    "duration": 287,
    "start_time": "2022-11-12T21:48:21.355Z"
   },
   {
    "duration": 55,
    "start_time": "2022-11-12T21:48:21.644Z"
   },
   {
    "duration": 17,
    "start_time": "2022-11-12T21:48:21.701Z"
   },
   {
    "duration": 4,
    "start_time": "2022-11-12T21:48:21.720Z"
   },
   {
    "duration": 359,
    "start_time": "2022-11-12T21:48:21.726Z"
   },
   {
    "duration": 4,
    "start_time": "2022-11-12T21:48:22.087Z"
   },
   {
    "duration": 48,
    "start_time": "2022-11-12T21:48:22.093Z"
   },
   {
    "duration": 95,
    "start_time": "2022-11-12T21:48:22.143Z"
   },
   {
    "duration": 4,
    "start_time": "2022-11-12T21:48:22.240Z"
   },
   {
    "duration": 137,
    "start_time": "2022-11-12T21:48:22.246Z"
   },
   {
    "duration": 3,
    "start_time": "2022-11-12T21:48:22.385Z"
   },
   {
    "duration": 115,
    "start_time": "2022-11-12T21:48:22.390Z"
   },
   {
    "duration": 88,
    "start_time": "2022-11-12T21:48:22.507Z"
   },
   {
    "duration": 108,
    "start_time": "2022-11-12T21:48:22.600Z"
   },
   {
    "duration": 3,
    "start_time": "2022-11-12T21:48:22.710Z"
   },
   {
    "duration": 35,
    "start_time": "2022-11-12T21:48:22.715Z"
   },
   {
    "duration": 27,
    "start_time": "2022-11-12T21:48:22.751Z"
   },
   {
    "duration": 3,
    "start_time": "2022-11-12T21:48:22.780Z"
   },
   {
    "duration": 12,
    "start_time": "2022-11-12T21:48:22.785Z"
   },
   {
    "duration": 98,
    "start_time": "2022-11-12T21:48:22.799Z"
   },
   {
    "duration": 7,
    "start_time": "2022-11-12T21:48:22.899Z"
   },
   {
    "duration": 12,
    "start_time": "2022-11-12T21:48:22.909Z"
   },
   {
    "duration": 22,
    "start_time": "2022-11-12T21:48:22.923Z"
   },
   {
    "duration": 32,
    "start_time": "2022-11-12T21:48:22.946Z"
   },
   {
    "duration": 64,
    "start_time": "2022-11-12T21:48:22.980Z"
   },
   {
    "duration": 4,
    "start_time": "2022-11-12T21:48:23.046Z"
   },
   {
    "duration": 817,
    "start_time": "2022-11-12T21:48:23.052Z"
   },
   {
    "duration": 22,
    "start_time": "2022-11-12T21:48:23.871Z"
   },
   {
    "duration": 2,
    "start_time": "2022-11-12T21:48:23.895Z"
   },
   {
    "duration": 165,
    "start_time": "2022-11-12T21:48:23.899Z"
   },
   {
    "duration": 0,
    "start_time": "2022-11-12T21:48:24.066Z"
   },
   {
    "duration": 0,
    "start_time": "2022-11-12T21:48:24.078Z"
   },
   {
    "duration": 0,
    "start_time": "2022-11-12T21:48:24.080Z"
   },
   {
    "duration": 0,
    "start_time": "2022-11-12T21:48:24.081Z"
   },
   {
    "duration": 0,
    "start_time": "2022-11-12T21:48:24.083Z"
   },
   {
    "duration": 0,
    "start_time": "2022-11-12T21:48:24.084Z"
   },
   {
    "duration": 0,
    "start_time": "2022-11-12T21:48:24.086Z"
   },
   {
    "duration": 0,
    "start_time": "2022-11-12T21:48:24.087Z"
   },
   {
    "duration": 0,
    "start_time": "2022-11-12T21:48:24.088Z"
   },
   {
    "duration": 0,
    "start_time": "2022-11-12T21:48:24.089Z"
   },
   {
    "duration": 0,
    "start_time": "2022-11-12T21:48:24.091Z"
   },
   {
    "duration": 0,
    "start_time": "2022-11-12T21:48:24.092Z"
   },
   {
    "duration": 0,
    "start_time": "2022-11-12T21:48:24.093Z"
   },
   {
    "duration": 0,
    "start_time": "2022-11-12T21:48:24.094Z"
   },
   {
    "duration": 0,
    "start_time": "2022-11-12T21:48:24.095Z"
   },
   {
    "duration": 0,
    "start_time": "2022-11-12T21:48:24.096Z"
   },
   {
    "duration": 0,
    "start_time": "2022-11-12T21:48:24.098Z"
   },
   {
    "duration": 0,
    "start_time": "2022-11-12T21:48:24.099Z"
   },
   {
    "duration": 0,
    "start_time": "2022-11-12T21:48:24.101Z"
   },
   {
    "duration": 0,
    "start_time": "2022-11-12T21:48:24.102Z"
   },
   {
    "duration": 0,
    "start_time": "2022-11-12T21:48:24.104Z"
   },
   {
    "duration": 0,
    "start_time": "2022-11-12T21:48:24.105Z"
   },
   {
    "duration": 0,
    "start_time": "2022-11-12T21:48:24.107Z"
   },
   {
    "duration": 0,
    "start_time": "2022-11-12T21:48:24.109Z"
   },
   {
    "duration": 0,
    "start_time": "2022-11-12T21:48:24.110Z"
   },
   {
    "duration": 0,
    "start_time": "2022-11-12T21:48:24.112Z"
   },
   {
    "duration": 0,
    "start_time": "2022-11-12T21:48:24.112Z"
   },
   {
    "duration": 0,
    "start_time": "2022-11-12T21:48:24.114Z"
   },
   {
    "duration": 0,
    "start_time": "2022-11-12T21:48:24.116Z"
   },
   {
    "duration": 1693,
    "start_time": "2022-11-12T21:49:32.515Z"
   },
   {
    "duration": 929,
    "start_time": "2022-11-12T21:49:34.211Z"
   },
   {
    "duration": 4,
    "start_time": "2022-11-12T21:49:35.142Z"
   },
   {
    "duration": 1076,
    "start_time": "2022-11-12T21:49:35.149Z"
   },
   {
    "duration": 1043,
    "start_time": "2022-11-12T21:49:36.226Z"
   },
   {
    "duration": 646,
    "start_time": "2022-11-12T21:49:37.271Z"
   },
   {
    "duration": 81,
    "start_time": "2022-11-12T21:49:37.919Z"
   },
   {
    "duration": 87,
    "start_time": "2022-11-12T21:49:38.002Z"
   },
   {
    "duration": 323,
    "start_time": "2022-11-12T21:49:38.091Z"
   },
   {
    "duration": 7,
    "start_time": "2022-11-12T21:49:38.417Z"
   },
   {
    "duration": 188,
    "start_time": "2022-11-12T21:49:38.426Z"
   },
   {
    "duration": 4,
    "start_time": "2022-11-12T21:49:38.616Z"
   },
   {
    "duration": 111,
    "start_time": "2022-11-12T21:49:38.622Z"
   },
   {
    "duration": 4,
    "start_time": "2022-11-12T21:49:38.735Z"
   },
   {
    "duration": 176,
    "start_time": "2022-11-12T21:49:38.740Z"
   },
   {
    "duration": 39,
    "start_time": "2022-11-12T21:49:38.918Z"
   },
   {
    "duration": 33,
    "start_time": "2022-11-12T21:49:38.958Z"
   },
   {
    "duration": 4,
    "start_time": "2022-11-12T21:49:38.993Z"
   },
   {
    "duration": 321,
    "start_time": "2022-11-12T21:49:38.998Z"
   },
   {
    "duration": 5,
    "start_time": "2022-11-12T21:49:39.321Z"
   },
   {
    "duration": 56,
    "start_time": "2022-11-12T21:49:39.327Z"
   },
   {
    "duration": 75,
    "start_time": "2022-11-12T21:49:39.385Z"
   },
   {
    "duration": 16,
    "start_time": "2022-11-12T21:49:39.462Z"
   },
   {
    "duration": 111,
    "start_time": "2022-11-12T21:49:39.479Z"
   },
   {
    "duration": 4,
    "start_time": "2022-11-12T21:49:39.591Z"
   },
   {
    "duration": 113,
    "start_time": "2022-11-12T21:49:39.597Z"
   },
   {
    "duration": 80,
    "start_time": "2022-11-12T21:49:39.712Z"
   },
   {
    "duration": 99,
    "start_time": "2022-11-12T21:49:39.797Z"
   },
   {
    "duration": 7,
    "start_time": "2022-11-12T21:49:39.898Z"
   },
   {
    "duration": 36,
    "start_time": "2022-11-12T21:49:39.906Z"
   },
   {
    "duration": 4,
    "start_time": "2022-11-12T21:49:39.943Z"
   },
   {
    "duration": 21,
    "start_time": "2022-11-12T21:49:39.949Z"
   },
   {
    "duration": 11,
    "start_time": "2022-11-12T21:49:39.972Z"
   },
   {
    "duration": 88,
    "start_time": "2022-11-12T21:49:39.985Z"
   },
   {
    "duration": 5,
    "start_time": "2022-11-12T21:49:40.074Z"
   },
   {
    "duration": 14,
    "start_time": "2022-11-12T21:49:40.081Z"
   },
   {
    "duration": 27,
    "start_time": "2022-11-12T21:49:40.098Z"
   },
   {
    "duration": 2,
    "start_time": "2022-11-12T21:49:40.127Z"
   },
   {
    "duration": 79,
    "start_time": "2022-11-12T21:49:40.131Z"
   },
   {
    "duration": 3,
    "start_time": "2022-11-12T21:49:40.211Z"
   },
   {
    "duration": 793,
    "start_time": "2022-11-12T21:49:40.216Z"
   },
   {
    "duration": 27,
    "start_time": "2022-11-12T21:49:41.011Z"
   },
   {
    "duration": 3,
    "start_time": "2022-11-12T21:49:41.041Z"
   },
   {
    "duration": 9,
    "start_time": "2022-11-12T21:49:41.046Z"
   },
   {
    "duration": 21,
    "start_time": "2022-11-12T21:49:41.057Z"
   },
   {
    "duration": 4,
    "start_time": "2022-11-12T21:49:41.080Z"
   },
   {
    "duration": 16971,
    "start_time": "2022-11-12T21:49:41.086Z"
   },
   {
    "duration": 1144,
    "start_time": "2022-11-12T21:49:58.059Z"
   },
   {
    "duration": 3,
    "start_time": "2022-11-12T21:49:59.206Z"
   },
   {
    "duration": 145,
    "start_time": "2022-11-12T21:49:59.211Z"
   },
   {
    "duration": 43,
    "start_time": "2022-11-12T21:49:59.358Z"
   },
   {
    "duration": 4,
    "start_time": "2022-11-12T21:49:59.402Z"
   },
   {
    "duration": 5,
    "start_time": "2022-11-12T21:49:59.407Z"
   },
   {
    "duration": 6,
    "start_time": "2022-11-12T21:49:59.414Z"
   },
   {
    "duration": 6,
    "start_time": "2022-11-12T21:49:59.422Z"
   },
   {
    "duration": 1520,
    "start_time": "2022-11-12T21:55:50.538Z"
   },
   {
    "duration": 899,
    "start_time": "2022-11-12T21:55:52.060Z"
   },
   {
    "duration": 4,
    "start_time": "2022-11-12T21:55:52.961Z"
   },
   {
    "duration": 1126,
    "start_time": "2022-11-12T21:55:52.977Z"
   },
   {
    "duration": 1048,
    "start_time": "2022-11-12T21:55:54.105Z"
   },
   {
    "duration": 645,
    "start_time": "2022-11-12T21:55:55.155Z"
   },
   {
    "duration": 83,
    "start_time": "2022-11-12T21:55:55.803Z"
   },
   {
    "duration": 91,
    "start_time": "2022-11-12T21:55:55.887Z"
   },
   {
    "duration": 343,
    "start_time": "2022-11-12T21:55:55.980Z"
   },
   {
    "duration": 7,
    "start_time": "2022-11-12T21:55:56.326Z"
   },
   {
    "duration": 191,
    "start_time": "2022-11-12T21:55:56.335Z"
   },
   {
    "duration": 5,
    "start_time": "2022-11-12T21:55:56.528Z"
   },
   {
    "duration": 106,
    "start_time": "2022-11-12T21:55:56.535Z"
   },
   {
    "duration": 5,
    "start_time": "2022-11-12T21:55:56.642Z"
   },
   {
    "duration": 211,
    "start_time": "2022-11-12T21:55:56.649Z"
   },
   {
    "duration": 64,
    "start_time": "2022-11-12T21:55:56.862Z"
   },
   {
    "duration": 18,
    "start_time": "2022-11-12T21:55:56.928Z"
   },
   {
    "duration": 4,
    "start_time": "2022-11-12T21:55:56.948Z"
   },
   {
    "duration": 334,
    "start_time": "2022-11-12T21:55:56.954Z"
   },
   {
    "duration": 4,
    "start_time": "2022-11-12T21:55:57.290Z"
   },
   {
    "duration": 87,
    "start_time": "2022-11-12T21:55:57.296Z"
   },
   {
    "duration": 96,
    "start_time": "2022-11-12T21:55:57.385Z"
   },
   {
    "duration": 5,
    "start_time": "2022-11-12T21:55:57.483Z"
   },
   {
    "duration": 138,
    "start_time": "2022-11-12T21:55:57.490Z"
   },
   {
    "duration": 4,
    "start_time": "2022-11-12T21:55:57.630Z"
   },
   {
    "duration": 123,
    "start_time": "2022-11-12T21:55:57.635Z"
   },
   {
    "duration": 73,
    "start_time": "2022-11-12T21:55:57.760Z"
   },
   {
    "duration": 154,
    "start_time": "2022-11-12T21:55:57.838Z"
   },
   {
    "duration": 5,
    "start_time": "2022-11-12T21:55:57.994Z"
   },
   {
    "duration": 27,
    "start_time": "2022-11-12T21:55:58.001Z"
   },
   {
    "duration": 4,
    "start_time": "2022-11-12T21:55:58.030Z"
   },
   {
    "duration": 7,
    "start_time": "2022-11-12T21:55:58.036Z"
   },
   {
    "duration": 35,
    "start_time": "2022-11-12T21:55:58.044Z"
   },
   {
    "duration": 65,
    "start_time": "2022-11-12T21:55:58.081Z"
   },
   {
    "duration": 5,
    "start_time": "2022-11-12T21:55:58.148Z"
   },
   {
    "duration": 28,
    "start_time": "2022-11-12T21:55:58.154Z"
   },
   {
    "duration": 17,
    "start_time": "2022-11-12T21:55:58.184Z"
   },
   {
    "duration": 3,
    "start_time": "2022-11-12T21:55:58.203Z"
   },
   {
    "duration": 81,
    "start_time": "2022-11-12T21:55:58.208Z"
   },
   {
    "duration": 3,
    "start_time": "2022-11-12T21:55:58.291Z"
   },
   {
    "duration": 805,
    "start_time": "2022-11-12T21:55:58.296Z"
   },
   {
    "duration": 24,
    "start_time": "2022-11-12T21:55:59.103Z"
   },
   {
    "duration": 3,
    "start_time": "2022-11-12T21:55:59.129Z"
   },
   {
    "duration": 6,
    "start_time": "2022-11-12T21:55:59.133Z"
   },
   {
    "duration": 6,
    "start_time": "2022-11-12T21:55:59.140Z"
   },
   {
    "duration": 31,
    "start_time": "2022-11-12T21:55:59.148Z"
   },
   {
    "duration": 15834,
    "start_time": "2022-11-12T21:55:59.181Z"
   },
   {
    "duration": 1149,
    "start_time": "2022-11-12T21:56:15.017Z"
   },
   {
    "duration": 10,
    "start_time": "2022-11-12T21:56:16.168Z"
   },
   {
    "duration": 150,
    "start_time": "2022-11-12T21:56:16.180Z"
   },
   {
    "duration": 58,
    "start_time": "2022-11-12T21:56:16.332Z"
   },
   {
    "duration": 5,
    "start_time": "2022-11-12T21:56:16.392Z"
   },
   {
    "duration": 6,
    "start_time": "2022-11-12T21:56:16.398Z"
   },
   {
    "duration": 5,
    "start_time": "2022-11-12T21:56:16.406Z"
   },
   {
    "duration": 8,
    "start_time": "2022-11-12T21:56:16.413Z"
   },
   {
    "duration": 447464,
    "start_time": "2022-11-12T21:56:16.423Z"
   },
   {
    "duration": 695,
    "start_time": "2022-11-12T22:03:43.888Z"
   },
   {
    "duration": 4,
    "start_time": "2022-11-12T22:03:44.585Z"
   },
   {
    "duration": 7,
    "start_time": "2022-11-12T22:03:44.591Z"
   },
   {
    "duration": 10,
    "start_time": "2022-11-12T22:03:44.599Z"
   },
   {
    "duration": 153,
    "start_time": "2022-11-12T22:03:44.611Z"
   },
   {
    "duration": 0,
    "start_time": "2022-11-12T22:03:44.765Z"
   },
   {
    "duration": 0,
    "start_time": "2022-11-12T22:03:44.767Z"
   },
   {
    "duration": 0,
    "start_time": "2022-11-12T22:03:44.769Z"
   },
   {
    "duration": 0,
    "start_time": "2022-11-12T22:03:44.779Z"
   },
   {
    "duration": 0,
    "start_time": "2022-11-12T22:03:44.780Z"
   },
   {
    "duration": 0,
    "start_time": "2022-11-12T22:03:44.781Z"
   },
   {
    "duration": 0,
    "start_time": "2022-11-12T22:03:44.783Z"
   },
   {
    "duration": 0,
    "start_time": "2022-11-12T22:03:44.784Z"
   },
   {
    "duration": 0,
    "start_time": "2022-11-12T22:03:44.785Z"
   },
   {
    "duration": 0,
    "start_time": "2022-11-12T22:03:44.786Z"
   },
   {
    "duration": 0,
    "start_time": "2022-11-12T22:03:44.787Z"
   },
   {
    "duration": 0,
    "start_time": "2022-11-12T22:03:44.788Z"
   },
   {
    "duration": 0,
    "start_time": "2022-11-12T22:03:44.790Z"
   },
   {
    "duration": 74,
    "start_time": "2022-11-12T22:05:12.424Z"
   },
   {
    "duration": 4,
    "start_time": "2022-11-12T22:05:12.899Z"
   },
   {
    "duration": 6,
    "start_time": "2022-11-12T22:05:18.191Z"
   },
   {
    "duration": 4,
    "start_time": "2022-11-12T22:05:29.267Z"
   },
   {
    "duration": 4,
    "start_time": "2022-11-12T22:05:42.042Z"
   },
   {
    "duration": 4,
    "start_time": "2022-11-12T22:05:55.099Z"
   },
   {
    "duration": 73,
    "start_time": "2022-11-12T22:06:01.805Z"
   },
   {
    "duration": 436154,
    "start_time": "2022-11-12T22:06:13.985Z"
   },
   {
    "duration": 1333,
    "start_time": "2022-11-12T22:13:30.142Z"
   },
   {
    "duration": 4,
    "start_time": "2022-11-12T22:13:31.478Z"
   },
   {
    "duration": 17,
    "start_time": "2022-11-12T22:13:31.484Z"
   },
   {
    "duration": 18,
    "start_time": "2022-11-12T22:13:31.503Z"
   },
   {
    "duration": 16,
    "start_time": "2022-11-12T22:13:31.522Z"
   },
   {
    "duration": 16,
    "start_time": "2022-11-12T22:16:04.669Z"
   },
   {
    "duration": 9,
    "start_time": "2022-11-12T22:16:17.221Z"
   },
   {
    "duration": 1551,
    "start_time": "2022-11-13T17:04:46.540Z"
   },
   {
    "duration": 2867,
    "start_time": "2022-11-13T17:04:48.093Z"
   },
   {
    "duration": 5,
    "start_time": "2022-11-13T17:04:50.961Z"
   },
   {
    "duration": 1003,
    "start_time": "2022-11-13T17:04:50.967Z"
   },
   {
    "duration": 887,
    "start_time": "2022-11-13T17:04:51.972Z"
   },
   {
    "duration": 605,
    "start_time": "2022-11-13T17:04:52.860Z"
   },
   {
    "duration": 75,
    "start_time": "2022-11-13T17:04:53.467Z"
   },
   {
    "duration": 74,
    "start_time": "2022-11-13T17:04:53.544Z"
   },
   {
    "duration": 314,
    "start_time": "2022-11-13T17:04:53.619Z"
   },
   {
    "duration": 6,
    "start_time": "2022-11-13T17:04:53.936Z"
   },
   {
    "duration": 98,
    "start_time": "2022-11-13T17:04:53.943Z"
   },
   {
    "duration": 3,
    "start_time": "2022-11-13T17:04:54.043Z"
   },
   {
    "duration": 101,
    "start_time": "2022-11-13T17:04:54.048Z"
   },
   {
    "duration": 4,
    "start_time": "2022-11-13T17:04:54.150Z"
   },
   {
    "duration": 258,
    "start_time": "2022-11-13T17:04:54.155Z"
   },
   {
    "duration": 50,
    "start_time": "2022-11-13T17:04:54.414Z"
   },
   {
    "duration": 15,
    "start_time": "2022-11-13T17:04:54.466Z"
   },
   {
    "duration": 4,
    "start_time": "2022-11-13T17:04:54.482Z"
   },
   {
    "duration": 323,
    "start_time": "2022-11-13T17:04:54.487Z"
   },
   {
    "duration": 4,
    "start_time": "2022-11-13T17:04:54.811Z"
   },
   {
    "duration": 56,
    "start_time": "2022-11-13T17:04:54.816Z"
   },
   {
    "duration": 76,
    "start_time": "2022-11-13T17:04:54.874Z"
   },
   {
    "duration": 3,
    "start_time": "2022-11-13T17:04:54.952Z"
   },
   {
    "duration": 104,
    "start_time": "2022-11-13T17:04:54.957Z"
   },
   {
    "duration": 4,
    "start_time": "2022-11-13T17:04:55.062Z"
   },
   {
    "duration": 101,
    "start_time": "2022-11-13T17:04:55.067Z"
   },
   {
    "duration": 72,
    "start_time": "2022-11-13T17:04:55.170Z"
   },
   {
    "duration": 97,
    "start_time": "2022-11-13T17:04:55.246Z"
   },
   {
    "duration": 4,
    "start_time": "2022-11-13T17:04:55.345Z"
   },
   {
    "duration": 43,
    "start_time": "2022-11-13T17:04:55.351Z"
   },
   {
    "duration": 5,
    "start_time": "2022-11-13T17:04:55.395Z"
   },
   {
    "duration": 14,
    "start_time": "2022-11-13T17:04:55.402Z"
   },
   {
    "duration": 29,
    "start_time": "2022-11-13T17:04:55.418Z"
   },
   {
    "duration": 77,
    "start_time": "2022-11-13T17:04:55.448Z"
   },
   {
    "duration": 5,
    "start_time": "2022-11-13T17:04:55.527Z"
   },
   {
    "duration": 20,
    "start_time": "2022-11-13T17:04:55.534Z"
   },
   {
    "duration": 11,
    "start_time": "2022-11-13T17:04:55.556Z"
   },
   {
    "duration": 5,
    "start_time": "2022-11-13T17:04:55.569Z"
   },
   {
    "duration": 51,
    "start_time": "2022-11-13T17:04:55.575Z"
   },
   {
    "duration": 5,
    "start_time": "2022-11-13T17:04:55.628Z"
   },
   {
    "duration": 685,
    "start_time": "2022-11-13T17:04:55.634Z"
   },
   {
    "duration": 25,
    "start_time": "2022-11-13T17:04:56.321Z"
   },
   {
    "duration": 566321,
    "start_time": "2022-11-13T17:04:56.347Z"
   },
   {
    "duration": 10,
    "start_time": "2022-11-13T17:14:22.670Z"
   },
   {
    "duration": 0,
    "start_time": "2022-11-13T17:14:22.682Z"
   },
   {
    "duration": 0,
    "start_time": "2022-11-13T17:14:22.683Z"
   },
   {
    "duration": 0,
    "start_time": "2022-11-13T17:14:22.684Z"
   },
   {
    "duration": 0,
    "start_time": "2022-11-13T17:14:22.685Z"
   },
   {
    "duration": 0,
    "start_time": "2022-11-13T17:14:22.687Z"
   },
   {
    "duration": 0,
    "start_time": "2022-11-13T17:14:22.688Z"
   },
   {
    "duration": 0,
    "start_time": "2022-11-13T17:14:22.690Z"
   },
   {
    "duration": 0,
    "start_time": "2022-11-13T17:14:22.691Z"
   },
   {
    "duration": 0,
    "start_time": "2022-11-13T17:14:22.692Z"
   },
   {
    "duration": 0,
    "start_time": "2022-11-13T17:14:22.694Z"
   },
   {
    "duration": 0,
    "start_time": "2022-11-13T17:14:22.695Z"
   },
   {
    "duration": 0,
    "start_time": "2022-11-13T17:14:22.696Z"
   },
   {
    "duration": 0,
    "start_time": "2022-11-13T17:14:22.698Z"
   },
   {
    "duration": 0,
    "start_time": "2022-11-13T17:14:22.699Z"
   },
   {
    "duration": 0,
    "start_time": "2022-11-13T17:14:22.700Z"
   },
   {
    "duration": 0,
    "start_time": "2022-11-13T17:14:22.701Z"
   },
   {
    "duration": 0,
    "start_time": "2022-11-13T17:14:22.702Z"
   },
   {
    "duration": 0,
    "start_time": "2022-11-13T17:14:22.704Z"
   },
   {
    "duration": 0,
    "start_time": "2022-11-13T17:14:22.732Z"
   },
   {
    "duration": 0,
    "start_time": "2022-11-13T17:14:22.733Z"
   },
   {
    "duration": 0,
    "start_time": "2022-11-13T17:14:22.734Z"
   },
   {
    "duration": 0,
    "start_time": "2022-11-13T17:14:22.735Z"
   },
   {
    "duration": 0,
    "start_time": "2022-11-13T17:14:22.736Z"
   },
   {
    "duration": 0,
    "start_time": "2022-11-13T17:14:22.737Z"
   },
   {
    "duration": 0,
    "start_time": "2022-11-13T17:14:22.738Z"
   },
   {
    "duration": 0,
    "start_time": "2022-11-13T17:14:22.739Z"
   },
   {
    "duration": 0,
    "start_time": "2022-11-13T17:14:22.741Z"
   },
   {
    "duration": 0,
    "start_time": "2022-11-13T17:14:22.741Z"
   },
   {
    "duration": 0,
    "start_time": "2022-11-13T17:14:22.742Z"
   },
   {
    "duration": 1434,
    "start_time": "2022-11-13T17:14:26.094Z"
   },
   {
    "duration": 781,
    "start_time": "2022-11-13T17:14:27.530Z"
   },
   {
    "duration": 4,
    "start_time": "2022-11-13T17:14:28.312Z"
   },
   {
    "duration": 940,
    "start_time": "2022-11-13T17:14:28.318Z"
   },
   {
    "duration": 901,
    "start_time": "2022-11-13T17:14:29.261Z"
   },
   {
    "duration": 625,
    "start_time": "2022-11-13T17:14:30.164Z"
   },
   {
    "duration": 79,
    "start_time": "2022-11-13T17:14:30.791Z"
   },
   {
    "duration": 80,
    "start_time": "2022-11-13T17:14:30.872Z"
   },
   {
    "duration": 327,
    "start_time": "2022-11-13T17:14:30.954Z"
   },
   {
    "duration": 5,
    "start_time": "2022-11-13T17:14:31.283Z"
   },
   {
    "duration": 118,
    "start_time": "2022-11-13T17:14:31.290Z"
   },
   {
    "duration": 4,
    "start_time": "2022-11-13T17:14:31.410Z"
   },
   {
    "duration": 115,
    "start_time": "2022-11-13T17:14:31.416Z"
   },
   {
    "duration": 4,
    "start_time": "2022-11-13T17:14:31.535Z"
   },
   {
    "duration": 273,
    "start_time": "2022-11-13T17:14:31.541Z"
   },
   {
    "duration": 51,
    "start_time": "2022-11-13T17:14:31.816Z"
   },
   {
    "duration": 18,
    "start_time": "2022-11-13T17:14:31.869Z"
   },
   {
    "duration": 22,
    "start_time": "2022-11-13T17:14:31.888Z"
   },
   {
    "duration": 331,
    "start_time": "2022-11-13T17:14:31.911Z"
   },
   {
    "duration": 4,
    "start_time": "2022-11-13T17:14:32.244Z"
   },
   {
    "duration": 80,
    "start_time": "2022-11-13T17:14:32.249Z"
   },
   {
    "duration": 74,
    "start_time": "2022-11-13T17:14:32.331Z"
   },
   {
    "duration": 4,
    "start_time": "2022-11-13T17:14:32.407Z"
   },
   {
    "duration": 113,
    "start_time": "2022-11-13T17:14:32.413Z"
   },
   {
    "duration": 4,
    "start_time": "2022-11-13T17:14:32.532Z"
   },
   {
    "duration": 129,
    "start_time": "2022-11-13T17:14:32.537Z"
   },
   {
    "duration": 105,
    "start_time": "2022-11-13T17:14:32.668Z"
   },
   {
    "duration": 118,
    "start_time": "2022-11-13T17:14:32.775Z"
   },
   {
    "duration": 6,
    "start_time": "2022-11-13T17:14:32.896Z"
   },
   {
    "duration": 41,
    "start_time": "2022-11-13T17:14:32.905Z"
   },
   {
    "duration": 4,
    "start_time": "2022-11-13T17:14:32.948Z"
   },
   {
    "duration": 6,
    "start_time": "2022-11-13T17:14:32.953Z"
   },
   {
    "duration": 7,
    "start_time": "2022-11-13T17:14:32.961Z"
   },
   {
    "duration": 77,
    "start_time": "2022-11-13T17:14:32.969Z"
   },
   {
    "duration": 5,
    "start_time": "2022-11-13T17:14:33.048Z"
   },
   {
    "duration": 16,
    "start_time": "2022-11-13T17:14:33.054Z"
   },
   {
    "duration": 10,
    "start_time": "2022-11-13T17:14:33.071Z"
   },
   {
    "duration": 2,
    "start_time": "2022-11-13T17:14:33.083Z"
   },
   {
    "duration": 60,
    "start_time": "2022-11-13T17:14:33.087Z"
   },
   {
    "duration": 3,
    "start_time": "2022-11-13T17:14:33.148Z"
   },
   {
    "duration": 737,
    "start_time": "2022-11-13T17:14:33.154Z"
   },
   {
    "duration": 30,
    "start_time": "2022-11-13T17:14:33.893Z"
   },
   {
    "duration": 1611273,
    "start_time": "2022-11-13T17:14:33.933Z"
   },
   {
    "duration": 18,
    "start_time": "2022-11-13T17:41:25.207Z"
   },
   {
    "duration": 17,
    "start_time": "2022-11-13T17:41:25.227Z"
   },
   {
    "duration": 11,
    "start_time": "2022-11-13T17:41:25.248Z"
   },
   {
    "duration": 129,
    "start_time": "2022-11-13T17:41:25.261Z"
   },
   {
    "duration": 41,
    "start_time": "2022-11-13T17:41:25.392Z"
   },
   {
    "duration": 4398133,
    "start_time": "2022-11-13T17:41:25.434Z"
   },
   {
    "duration": 11,
    "start_time": "2022-11-13T18:54:43.570Z"
   },
   {
    "duration": 0,
    "start_time": "2022-11-13T18:54:43.583Z"
   },
   {
    "duration": 0,
    "start_time": "2022-11-13T18:54:43.584Z"
   },
   {
    "duration": 0,
    "start_time": "2022-11-13T18:54:43.585Z"
   },
   {
    "duration": 0,
    "start_time": "2022-11-13T18:54:43.586Z"
   },
   {
    "duration": 0,
    "start_time": "2022-11-13T18:54:43.587Z"
   },
   {
    "duration": 0,
    "start_time": "2022-11-13T18:54:43.588Z"
   },
   {
    "duration": 0,
    "start_time": "2022-11-13T18:54:43.589Z"
   },
   {
    "duration": 0,
    "start_time": "2022-11-13T18:54:43.591Z"
   },
   {
    "duration": 0,
    "start_time": "2022-11-13T18:54:43.592Z"
   },
   {
    "duration": 0,
    "start_time": "2022-11-13T18:54:43.593Z"
   },
   {
    "duration": 0,
    "start_time": "2022-11-13T18:54:43.595Z"
   },
   {
    "duration": 0,
    "start_time": "2022-11-13T18:54:43.596Z"
   },
   {
    "duration": 0,
    "start_time": "2022-11-13T18:54:43.597Z"
   },
   {
    "duration": 0,
    "start_time": "2022-11-13T18:54:43.598Z"
   },
   {
    "duration": 0,
    "start_time": "2022-11-13T18:54:43.599Z"
   },
   {
    "duration": 0,
    "start_time": "2022-11-13T18:54:43.600Z"
   },
   {
    "duration": 3,
    "start_time": "2022-11-13T18:55:03.829Z"
   },
   {
    "duration": 6,
    "start_time": "2022-11-13T18:55:13.970Z"
   },
   {
    "duration": 13,
    "start_time": "2022-11-13T19:10:08.723Z"
   },
   {
    "duration": 1697,
    "start_time": "2022-11-13T19:10:18.026Z"
   },
   {
    "duration": 895,
    "start_time": "2022-11-13T19:10:19.724Z"
   },
   {
    "duration": 4,
    "start_time": "2022-11-13T19:10:20.621Z"
   },
   {
    "duration": 1114,
    "start_time": "2022-11-13T19:10:20.627Z"
   },
   {
    "duration": 998,
    "start_time": "2022-11-13T19:10:21.743Z"
   },
   {
    "duration": 592,
    "start_time": "2022-11-13T19:10:22.743Z"
   },
   {
    "duration": 70,
    "start_time": "2022-11-13T19:10:23.337Z"
   },
   {
    "duration": 89,
    "start_time": "2022-11-13T19:10:23.409Z"
   },
   {
    "duration": 316,
    "start_time": "2022-11-13T19:10:23.500Z"
   },
   {
    "duration": 15,
    "start_time": "2022-11-13T19:10:23.818Z"
   },
   {
    "duration": 172,
    "start_time": "2022-11-13T19:10:23.835Z"
   },
   {
    "duration": 4,
    "start_time": "2022-11-13T19:10:24.008Z"
   },
   {
    "duration": 108,
    "start_time": "2022-11-13T19:10:24.014Z"
   },
   {
    "duration": 13,
    "start_time": "2022-11-13T19:10:24.124Z"
   },
   {
    "duration": 182,
    "start_time": "2022-11-13T19:10:24.140Z"
   },
   {
    "duration": 48,
    "start_time": "2022-11-13T19:10:24.323Z"
   },
   {
    "duration": 17,
    "start_time": "2022-11-13T19:10:24.372Z"
   },
   {
    "duration": 5,
    "start_time": "2022-11-13T19:10:24.391Z"
   },
   {
    "duration": 303,
    "start_time": "2022-11-13T19:10:24.397Z"
   },
   {
    "duration": 5,
    "start_time": "2022-11-13T19:10:24.701Z"
   },
   {
    "duration": 52,
    "start_time": "2022-11-13T19:10:24.707Z"
   },
   {
    "duration": 81,
    "start_time": "2022-11-13T19:10:24.761Z"
   },
   {
    "duration": 3,
    "start_time": "2022-11-13T19:10:24.844Z"
   },
   {
    "duration": 106,
    "start_time": "2022-11-13T19:10:24.848Z"
   },
   {
    "duration": 4,
    "start_time": "2022-11-13T19:10:24.955Z"
   },
   {
    "duration": 108,
    "start_time": "2022-11-13T19:10:24.961Z"
   },
   {
    "duration": 74,
    "start_time": "2022-11-13T19:10:25.071Z"
   },
   {
    "duration": 99,
    "start_time": "2022-11-13T19:10:25.149Z"
   },
   {
    "duration": 4,
    "start_time": "2022-11-13T19:10:25.249Z"
   },
   {
    "duration": 31,
    "start_time": "2022-11-13T19:10:25.254Z"
   },
   {
    "duration": 4,
    "start_time": "2022-11-13T19:10:25.286Z"
   },
   {
    "duration": 6,
    "start_time": "2022-11-13T19:10:25.292Z"
   },
   {
    "duration": 6,
    "start_time": "2022-11-13T19:10:25.299Z"
   },
   {
    "duration": 87,
    "start_time": "2022-11-13T19:10:25.307Z"
   },
   {
    "duration": 5,
    "start_time": "2022-11-13T19:10:25.396Z"
   },
   {
    "duration": 8,
    "start_time": "2022-11-13T19:10:25.403Z"
   },
   {
    "duration": 42,
    "start_time": "2022-11-13T19:10:25.413Z"
   },
   {
    "duration": 3,
    "start_time": "2022-11-13T19:10:25.457Z"
   },
   {
    "duration": 57,
    "start_time": "2022-11-13T19:10:25.461Z"
   },
   {
    "duration": 14,
    "start_time": "2022-11-13T19:10:25.519Z"
   },
   {
    "duration": 693,
    "start_time": "2022-11-13T19:10:25.535Z"
   },
   {
    "duration": 20,
    "start_time": "2022-11-13T19:10:26.230Z"
   },
   {
    "duration": 104351,
    "start_time": "2022-11-13T19:37:23.569Z"
   },
   {
    "duration": 10,
    "start_time": "2022-11-13T19:39:07.922Z"
   },
   {
    "duration": 0,
    "start_time": "2022-11-13T19:39:07.933Z"
   },
   {
    "duration": 0,
    "start_time": "2022-11-13T19:39:07.935Z"
   },
   {
    "duration": 0,
    "start_time": "2022-11-13T19:39:07.936Z"
   },
   {
    "duration": 0,
    "start_time": "2022-11-13T19:39:07.938Z"
   },
   {
    "duration": 0,
    "start_time": "2022-11-13T19:39:07.939Z"
   },
   {
    "duration": 0,
    "start_time": "2022-11-13T19:39:07.941Z"
   },
   {
    "duration": 0,
    "start_time": "2022-11-13T19:39:07.942Z"
   },
   {
    "duration": 0,
    "start_time": "2022-11-13T19:39:07.943Z"
   },
   {
    "duration": 0,
    "start_time": "2022-11-13T19:39:07.945Z"
   },
   {
    "duration": 0,
    "start_time": "2022-11-13T19:39:07.946Z"
   },
   {
    "duration": 0,
    "start_time": "2022-11-13T19:39:07.948Z"
   },
   {
    "duration": 0,
    "start_time": "2022-11-13T19:39:07.949Z"
   },
   {
    "duration": 0,
    "start_time": "2022-11-13T19:39:07.950Z"
   },
   {
    "duration": 0,
    "start_time": "2022-11-13T19:39:07.952Z"
   },
   {
    "duration": 1391,
    "start_time": "2022-11-13T19:40:49.097Z"
   },
   {
    "duration": 862,
    "start_time": "2022-11-13T19:40:50.490Z"
   },
   {
    "duration": 4,
    "start_time": "2022-11-13T19:40:51.354Z"
   },
   {
    "duration": 964,
    "start_time": "2022-11-13T19:40:51.361Z"
   },
   {
    "duration": 940,
    "start_time": "2022-11-13T19:40:52.327Z"
   },
   {
    "duration": 624,
    "start_time": "2022-11-13T19:40:53.269Z"
   },
   {
    "duration": 77,
    "start_time": "2022-11-13T19:40:53.896Z"
   },
   {
    "duration": 80,
    "start_time": "2022-11-13T19:40:53.975Z"
   },
   {
    "duration": 305,
    "start_time": "2022-11-13T19:40:54.057Z"
   },
   {
    "duration": 6,
    "start_time": "2022-11-13T19:40:54.365Z"
   },
   {
    "duration": 191,
    "start_time": "2022-11-13T19:40:54.372Z"
   },
   {
    "duration": 4,
    "start_time": "2022-11-13T19:40:54.565Z"
   },
   {
    "duration": 111,
    "start_time": "2022-11-13T19:40:54.571Z"
   },
   {
    "duration": 4,
    "start_time": "2022-11-13T19:40:54.685Z"
   },
   {
    "duration": 165,
    "start_time": "2022-11-13T19:40:54.691Z"
   },
   {
    "duration": 39,
    "start_time": "2022-11-13T19:40:54.858Z"
   },
   {
    "duration": 34,
    "start_time": "2022-11-13T19:40:54.899Z"
   },
   {
    "duration": 4,
    "start_time": "2022-11-13T19:40:54.935Z"
   },
   {
    "duration": 292,
    "start_time": "2022-11-13T19:40:54.941Z"
   },
   {
    "duration": 5,
    "start_time": "2022-11-13T19:40:55.235Z"
   },
   {
    "duration": 50,
    "start_time": "2022-11-13T19:40:55.242Z"
   },
   {
    "duration": 85,
    "start_time": "2022-11-13T19:40:55.294Z"
   },
   {
    "duration": 3,
    "start_time": "2022-11-13T19:40:55.381Z"
   },
   {
    "duration": 113,
    "start_time": "2022-11-13T19:40:55.385Z"
   },
   {
    "duration": 3,
    "start_time": "2022-11-13T19:40:55.500Z"
   },
   {
    "duration": 105,
    "start_time": "2022-11-13T19:40:55.505Z"
   },
   {
    "duration": 75,
    "start_time": "2022-11-13T19:40:55.611Z"
   },
   {
    "duration": 104,
    "start_time": "2022-11-13T19:40:55.690Z"
   },
   {
    "duration": 4,
    "start_time": "2022-11-13T19:40:55.796Z"
   },
   {
    "duration": 38,
    "start_time": "2022-11-13T19:40:55.801Z"
   },
   {
    "duration": 4,
    "start_time": "2022-11-13T19:40:55.841Z"
   },
   {
    "duration": 14,
    "start_time": "2022-11-13T19:40:55.847Z"
   },
   {
    "duration": 18,
    "start_time": "2022-11-13T19:40:55.863Z"
   },
   {
    "duration": 67,
    "start_time": "2022-11-13T19:40:55.882Z"
   },
   {
    "duration": 4,
    "start_time": "2022-11-13T19:40:55.951Z"
   },
   {
    "duration": 22,
    "start_time": "2022-11-13T19:40:55.957Z"
   },
   {
    "duration": 38,
    "start_time": "2022-11-13T19:40:55.980Z"
   },
   {
    "duration": 3,
    "start_time": "2022-11-13T19:40:56.019Z"
   },
   {
    "duration": 68,
    "start_time": "2022-11-13T19:40:56.023Z"
   },
   {
    "duration": 4,
    "start_time": "2022-11-13T19:40:56.092Z"
   },
   {
    "duration": 776,
    "start_time": "2022-11-13T19:40:56.098Z"
   },
   {
    "duration": 20,
    "start_time": "2022-11-13T19:40:56.876Z"
   },
   {
    "duration": 1457,
    "start_time": "2022-11-13T19:48:31.632Z"
   },
   {
    "duration": 849,
    "start_time": "2022-11-13T19:48:33.090Z"
   },
   {
    "duration": 4,
    "start_time": "2022-11-13T19:48:33.941Z"
   },
   {
    "duration": 1006,
    "start_time": "2022-11-13T19:48:33.947Z"
   },
   {
    "duration": 1692,
    "start_time": "2022-11-13T19:48:34.955Z"
   },
   {
    "duration": 903,
    "start_time": "2022-11-13T19:48:36.649Z"
   },
   {
    "duration": 82,
    "start_time": "2022-11-13T19:48:37.554Z"
   },
   {
    "duration": 73,
    "start_time": "2022-11-13T19:48:37.638Z"
   },
   {
    "duration": 328,
    "start_time": "2022-11-13T19:48:37.713Z"
   },
   {
    "duration": 6,
    "start_time": "2022-11-13T19:48:38.044Z"
   },
   {
    "duration": 181,
    "start_time": "2022-11-13T19:48:38.052Z"
   },
   {
    "duration": 4,
    "start_time": "2022-11-13T19:48:38.235Z"
   },
   {
    "duration": 108,
    "start_time": "2022-11-13T19:48:38.241Z"
   },
   {
    "duration": 4,
    "start_time": "2022-11-13T19:48:38.351Z"
   },
   {
    "duration": 177,
    "start_time": "2022-11-13T19:48:38.357Z"
   },
   {
    "duration": 38,
    "start_time": "2022-11-13T19:48:38.536Z"
   },
   {
    "duration": 17,
    "start_time": "2022-11-13T19:48:38.576Z"
   },
   {
    "duration": 4,
    "start_time": "2022-11-13T19:48:38.594Z"
   },
   {
    "duration": 334,
    "start_time": "2022-11-13T19:48:38.600Z"
   },
   {
    "duration": 5,
    "start_time": "2022-11-13T19:48:38.936Z"
   },
   {
    "duration": 46,
    "start_time": "2022-11-13T19:48:38.943Z"
   },
   {
    "duration": 95,
    "start_time": "2022-11-13T19:48:38.991Z"
   },
   {
    "duration": 4,
    "start_time": "2022-11-13T19:48:39.088Z"
   },
   {
    "duration": 110,
    "start_time": "2022-11-13T19:48:39.094Z"
   },
   {
    "duration": 4,
    "start_time": "2022-11-13T19:48:39.206Z"
   },
   {
    "duration": 105,
    "start_time": "2022-11-13T19:48:39.211Z"
   },
   {
    "duration": 71,
    "start_time": "2022-11-13T19:48:39.318Z"
   },
   {
    "duration": 103,
    "start_time": "2022-11-13T19:48:39.393Z"
   },
   {
    "duration": 4,
    "start_time": "2022-11-13T19:48:39.498Z"
   },
   {
    "duration": 50,
    "start_time": "2022-11-13T19:48:39.504Z"
   },
   {
    "duration": 5,
    "start_time": "2022-11-13T19:48:39.556Z"
   },
   {
    "duration": 7,
    "start_time": "2022-11-13T19:48:39.563Z"
   },
   {
    "duration": 9,
    "start_time": "2022-11-13T19:48:39.572Z"
   },
   {
    "duration": 75,
    "start_time": "2022-11-13T19:48:39.583Z"
   },
   {
    "duration": 7,
    "start_time": "2022-11-13T19:48:39.659Z"
   },
   {
    "duration": 8,
    "start_time": "2022-11-13T19:48:39.668Z"
   },
   {
    "duration": 20,
    "start_time": "2022-11-13T19:48:39.678Z"
   },
   {
    "duration": 3,
    "start_time": "2022-11-13T19:48:39.699Z"
   },
   {
    "duration": 49,
    "start_time": "2022-11-13T19:48:39.733Z"
   },
   {
    "duration": 3,
    "start_time": "2022-11-13T19:48:39.783Z"
   },
   {
    "duration": 808,
    "start_time": "2022-11-13T19:48:39.788Z"
   },
   {
    "duration": 22,
    "start_time": "2022-11-13T19:48:40.598Z"
   },
   {
    "duration": 1477,
    "start_time": "2022-11-13T19:49:20.057Z"
   },
   {
    "duration": 868,
    "start_time": "2022-11-13T19:49:21.536Z"
   },
   {
    "duration": 4,
    "start_time": "2022-11-13T19:49:22.406Z"
   },
   {
    "duration": 1322,
    "start_time": "2022-11-13T19:49:22.412Z"
   },
   {
    "duration": 957,
    "start_time": "2022-11-13T19:49:23.735Z"
   },
   {
    "duration": 625,
    "start_time": "2022-11-13T19:49:24.694Z"
   },
   {
    "duration": 78,
    "start_time": "2022-11-13T19:49:25.321Z"
   },
   {
    "duration": 83,
    "start_time": "2022-11-13T19:49:25.400Z"
   },
   {
    "duration": 306,
    "start_time": "2022-11-13T19:49:25.485Z"
   },
   {
    "duration": 6,
    "start_time": "2022-11-13T19:49:25.795Z"
   },
   {
    "duration": 110,
    "start_time": "2022-11-13T19:49:25.803Z"
   },
   {
    "duration": 3,
    "start_time": "2022-11-13T19:49:25.915Z"
   },
   {
    "duration": 113,
    "start_time": "2022-11-13T19:49:25.920Z"
   },
   {
    "duration": 5,
    "start_time": "2022-11-13T19:49:26.034Z"
   },
   {
    "duration": 271,
    "start_time": "2022-11-13T19:49:26.041Z"
   },
   {
    "duration": 64,
    "start_time": "2022-11-13T19:49:26.314Z"
   },
   {
    "duration": 21,
    "start_time": "2022-11-13T19:49:26.380Z"
   },
   {
    "duration": 5,
    "start_time": "2022-11-13T19:49:26.404Z"
   },
   {
    "duration": 409,
    "start_time": "2022-11-13T19:49:26.411Z"
   },
   {
    "duration": 13,
    "start_time": "2022-11-13T19:49:26.821Z"
   },
   {
    "duration": 52,
    "start_time": "2022-11-13T19:49:26.837Z"
   },
   {
    "duration": 108,
    "start_time": "2022-11-13T19:49:26.891Z"
   },
   {
    "duration": 5,
    "start_time": "2022-11-13T19:49:27.001Z"
   },
   {
    "duration": 126,
    "start_time": "2022-11-13T19:49:27.008Z"
   },
   {
    "duration": 4,
    "start_time": "2022-11-13T19:49:27.136Z"
   },
   {
    "duration": 115,
    "start_time": "2022-11-13T19:49:27.142Z"
   },
   {
    "duration": 78,
    "start_time": "2022-11-13T19:49:27.260Z"
   },
   {
    "duration": 99,
    "start_time": "2022-11-13T19:49:27.344Z"
   },
   {
    "duration": 3,
    "start_time": "2022-11-13T19:49:27.445Z"
   },
   {
    "duration": 36,
    "start_time": "2022-11-13T19:49:27.450Z"
   },
   {
    "duration": 4,
    "start_time": "2022-11-13T19:49:27.488Z"
   },
   {
    "duration": 5,
    "start_time": "2022-11-13T19:49:27.494Z"
   },
   {
    "duration": 33,
    "start_time": "2022-11-13T19:49:27.500Z"
   },
   {
    "duration": 85,
    "start_time": "2022-11-13T19:49:27.535Z"
   },
   {
    "duration": 11,
    "start_time": "2022-11-13T19:49:27.622Z"
   },
   {
    "duration": 7,
    "start_time": "2022-11-13T19:49:27.635Z"
   },
   {
    "duration": 28,
    "start_time": "2022-11-13T19:49:27.643Z"
   },
   {
    "duration": 3,
    "start_time": "2022-11-13T19:49:27.673Z"
   },
   {
    "duration": 77,
    "start_time": "2022-11-13T19:49:27.677Z"
   },
   {
    "duration": 2,
    "start_time": "2022-11-13T19:49:27.756Z"
   },
   {
    "duration": 751,
    "start_time": "2022-11-13T19:49:27.760Z"
   },
   {
    "duration": 28,
    "start_time": "2022-11-13T19:49:28.513Z"
   },
   {
    "duration": 467059,
    "start_time": "2022-11-13T19:49:28.543Z"
   },
   {
    "duration": 18,
    "start_time": "2022-11-13T19:57:15.604Z"
   },
   {
    "duration": 14,
    "start_time": "2022-11-13T19:57:15.624Z"
   },
   {
    "duration": 6,
    "start_time": "2022-11-13T19:57:15.640Z"
   },
   {
    "duration": 149,
    "start_time": "2022-11-13T19:57:15.648Z"
   },
   {
    "duration": 37,
    "start_time": "2022-11-13T19:57:15.799Z"
   },
   {
    "duration": 10,
    "start_time": "2022-11-13T20:09:30.340Z"
   },
   {
    "duration": 0,
    "start_time": "2022-11-13T20:09:30.352Z"
   },
   {
    "duration": 0,
    "start_time": "2022-11-13T20:09:30.353Z"
   },
   {
    "duration": 0,
    "start_time": "2022-11-13T20:09:30.354Z"
   },
   {
    "duration": 0,
    "start_time": "2022-11-13T20:09:30.356Z"
   },
   {
    "duration": 0,
    "start_time": "2022-11-13T20:09:30.357Z"
   },
   {
    "duration": 0,
    "start_time": "2022-11-13T20:09:30.359Z"
   },
   {
    "duration": 0,
    "start_time": "2022-11-13T20:09:30.360Z"
   },
   {
    "duration": 0,
    "start_time": "2022-11-13T20:09:30.362Z"
   },
   {
    "duration": 0,
    "start_time": "2022-11-13T20:09:30.363Z"
   },
   {
    "duration": 0,
    "start_time": "2022-11-13T20:09:30.364Z"
   },
   {
    "duration": 0,
    "start_time": "2022-11-13T20:09:30.366Z"
   },
   {
    "duration": 0,
    "start_time": "2022-11-13T20:09:30.368Z"
   },
   {
    "duration": 0,
    "start_time": "2022-11-13T20:09:30.369Z"
   },
   {
    "duration": 0,
    "start_time": "2022-11-13T20:09:30.370Z"
   },
   {
    "duration": 0,
    "start_time": "2022-11-13T20:09:30.371Z"
   },
   {
    "duration": 0,
    "start_time": "2022-11-13T20:09:30.372Z"
   },
   {
    "duration": 4,
    "start_time": "2022-11-13T20:09:33.412Z"
   },
   {
    "duration": 38276,
    "start_time": "2022-11-13T20:09:39.336Z"
   },
   {
    "duration": 19,
    "start_time": "2022-11-13T20:10:17.614Z"
   },
   {
    "duration": 0,
    "start_time": "2022-11-13T20:10:17.636Z"
   },
   {
    "duration": 0,
    "start_time": "2022-11-13T20:10:17.637Z"
   },
   {
    "duration": 0,
    "start_time": "2022-11-13T20:10:17.640Z"
   },
   {
    "duration": 0,
    "start_time": "2022-11-13T20:10:17.641Z"
   },
   {
    "duration": 0,
    "start_time": "2022-11-13T20:10:17.643Z"
   },
   {
    "duration": 0,
    "start_time": "2022-11-13T20:10:17.644Z"
   },
   {
    "duration": 0,
    "start_time": "2022-11-13T20:10:17.646Z"
   },
   {
    "duration": 0,
    "start_time": "2022-11-13T20:10:17.648Z"
   },
   {
    "duration": 0,
    "start_time": "2022-11-13T20:10:17.649Z"
   },
   {
    "duration": 0,
    "start_time": "2022-11-13T20:10:17.650Z"
   },
   {
    "duration": 0,
    "start_time": "2022-11-13T20:10:17.651Z"
   },
   {
    "duration": 0,
    "start_time": "2022-11-13T20:10:17.653Z"
   },
   {
    "duration": 0,
    "start_time": "2022-11-13T20:10:17.654Z"
   },
   {
    "duration": 0,
    "start_time": "2022-11-13T20:10:17.657Z"
   },
   {
    "duration": 90805,
    "start_time": "2022-11-13T20:10:22.688Z"
   },
   {
    "duration": 1567,
    "start_time": "2022-11-13T20:12:17.343Z"
   },
   {
    "duration": 915,
    "start_time": "2022-11-13T20:12:18.912Z"
   },
   {
    "duration": 5,
    "start_time": "2022-11-13T20:12:19.828Z"
   },
   {
    "duration": 1049,
    "start_time": "2022-11-13T20:12:19.836Z"
   },
   {
    "duration": 1011,
    "start_time": "2022-11-13T20:12:20.887Z"
   },
   {
    "duration": 628,
    "start_time": "2022-11-13T20:12:21.900Z"
   },
   {
    "duration": 76,
    "start_time": "2022-11-13T20:12:22.530Z"
   },
   {
    "duration": 95,
    "start_time": "2022-11-13T20:12:22.609Z"
   },
   {
    "duration": 337,
    "start_time": "2022-11-13T20:12:22.706Z"
   },
   {
    "duration": 7,
    "start_time": "2022-11-13T20:12:23.047Z"
   },
   {
    "duration": 187,
    "start_time": "2022-11-13T20:12:23.056Z"
   },
   {
    "duration": 4,
    "start_time": "2022-11-13T20:12:23.245Z"
   },
   {
    "duration": 113,
    "start_time": "2022-11-13T20:12:23.251Z"
   },
   {
    "duration": 4,
    "start_time": "2022-11-13T20:12:23.366Z"
   },
   {
    "duration": 179,
    "start_time": "2022-11-13T20:12:23.372Z"
   },
   {
    "duration": 39,
    "start_time": "2022-11-13T20:12:23.553Z"
   },
   {
    "duration": 40,
    "start_time": "2022-11-13T20:12:23.594Z"
   },
   {
    "duration": 4,
    "start_time": "2022-11-13T20:12:23.635Z"
   },
   {
    "duration": 397,
    "start_time": "2022-11-13T20:12:23.641Z"
   },
   {
    "duration": 4,
    "start_time": "2022-11-13T20:12:24.040Z"
   },
   {
    "duration": 97,
    "start_time": "2022-11-13T20:12:24.045Z"
   },
   {
    "duration": 209,
    "start_time": "2022-11-13T20:12:24.145Z"
   },
   {
    "duration": 4,
    "start_time": "2022-11-13T20:12:24.356Z"
   },
   {
    "duration": 202,
    "start_time": "2022-11-13T20:12:24.361Z"
   },
   {
    "duration": 5,
    "start_time": "2022-11-13T20:12:24.565Z"
   },
   {
    "duration": 201,
    "start_time": "2022-11-13T20:12:24.573Z"
   },
   {
    "duration": 183,
    "start_time": "2022-11-13T20:12:24.776Z"
   },
   {
    "duration": 191,
    "start_time": "2022-11-13T20:12:24.962Z"
   },
   {
    "duration": 4,
    "start_time": "2022-11-13T20:12:25.155Z"
   },
   {
    "duration": 79,
    "start_time": "2022-11-13T20:12:25.160Z"
   },
   {
    "duration": 4,
    "start_time": "2022-11-13T20:12:25.240Z"
   },
   {
    "duration": 7,
    "start_time": "2022-11-13T20:12:25.246Z"
   },
   {
    "duration": 10,
    "start_time": "2022-11-13T20:12:25.254Z"
   },
   {
    "duration": 179,
    "start_time": "2022-11-13T20:12:25.266Z"
   },
   {
    "duration": 5,
    "start_time": "2022-11-13T20:12:25.447Z"
   },
   {
    "duration": 18,
    "start_time": "2022-11-13T20:12:25.454Z"
   },
   {
    "duration": 86,
    "start_time": "2022-11-13T20:12:25.474Z"
   },
   {
    "duration": 4,
    "start_time": "2022-11-13T20:12:25.561Z"
   },
   {
    "duration": 170,
    "start_time": "2022-11-13T20:12:25.567Z"
   },
   {
    "duration": 3,
    "start_time": "2022-11-13T20:12:25.739Z"
   },
   {
    "duration": 1012,
    "start_time": "2022-11-13T20:12:25.744Z"
   },
   {
    "duration": 21,
    "start_time": "2022-11-13T20:12:26.758Z"
   },
   {
    "duration": 470069,
    "start_time": "2022-11-13T20:12:26.781Z"
   },
   {
    "duration": 16,
    "start_time": "2022-11-13T20:20:16.852Z"
   },
   {
    "duration": 20,
    "start_time": "2022-11-13T20:20:16.870Z"
   },
   {
    "duration": 13,
    "start_time": "2022-11-13T20:20:16.892Z"
   },
   {
    "duration": 167,
    "start_time": "2022-11-13T20:20:16.907Z"
   },
   {
    "duration": 30,
    "start_time": "2022-11-13T20:20:17.076Z"
   },
   {
    "duration": 642432,
    "start_time": "2022-11-13T20:20:17.107Z"
   },
   {
    "duration": 16,
    "start_time": "2022-11-13T20:30:59.541Z"
   },
   {
    "duration": 161,
    "start_time": "2022-11-13T20:30:59.558Z"
   },
   {
    "duration": 0,
    "start_time": "2022-11-13T20:30:59.721Z"
   },
   {
    "duration": 0,
    "start_time": "2022-11-13T20:30:59.722Z"
   },
   {
    "duration": 0,
    "start_time": "2022-11-13T20:30:59.733Z"
   },
   {
    "duration": 0,
    "start_time": "2022-11-13T20:30:59.735Z"
   },
   {
    "duration": 0,
    "start_time": "2022-11-13T20:30:59.736Z"
   },
   {
    "duration": 0,
    "start_time": "2022-11-13T20:30:59.737Z"
   },
   {
    "duration": 0,
    "start_time": "2022-11-13T20:30:59.739Z"
   },
   {
    "duration": 0,
    "start_time": "2022-11-13T20:30:59.740Z"
   },
   {
    "duration": 0,
    "start_time": "2022-11-13T20:30:59.741Z"
   },
   {
    "duration": 0,
    "start_time": "2022-11-13T20:30:59.742Z"
   },
   {
    "duration": 0,
    "start_time": "2022-11-13T20:30:59.743Z"
   },
   {
    "duration": 0,
    "start_time": "2022-11-13T20:30:59.744Z"
   },
   {
    "duration": 0,
    "start_time": "2022-11-13T20:30:59.745Z"
   },
   {
    "duration": 25,
    "start_time": "2022-11-13T20:43:17.313Z"
   },
   {
    "duration": 21,
    "start_time": "2022-11-13T20:43:23.715Z"
   },
   {
    "duration": 7,
    "start_time": "2022-11-13T20:44:30.904Z"
   },
   {
    "duration": 5,
    "start_time": "2022-11-13T20:44:35.676Z"
   },
   {
    "duration": 10,
    "start_time": "2022-11-13T20:44:40.733Z"
   },
   {
    "duration": 66,
    "start_time": "2022-11-13T20:44:41.018Z"
   },
   {
    "duration": 6,
    "start_time": "2022-11-13T20:44:47.270Z"
   },
   {
    "duration": 133,
    "start_time": "2022-11-13T20:44:48.653Z"
   },
   {
    "duration": 4,
    "start_time": "2022-11-13T20:44:49.101Z"
   },
   {
    "duration": 3,
    "start_time": "2022-11-13T20:44:49.770Z"
   },
   {
    "duration": 276,
    "start_time": "2022-11-13T20:44:54.131Z"
   },
   {
    "duration": 66,
    "start_time": "2022-11-13T20:45:23.475Z"
   },
   {
    "duration": 2352652,
    "start_time": "2022-11-13T20:45:57.118Z"
   },
   {
    "duration": 22,
    "start_time": "2022-11-13T21:25:09.792Z"
   },
   {
    "duration": 4,
    "start_time": "2022-11-13T21:32:14.368Z"
   },
   {
    "duration": 6,
    "start_time": "2022-11-13T21:32:14.374Z"
   },
   {
    "duration": 19,
    "start_time": "2022-11-13T21:32:14.381Z"
   },
   {
    "duration": 7,
    "start_time": "2022-11-13T21:32:14.402Z"
   },
   {
    "duration": 417837,
    "start_time": "2022-11-13T21:32:14.411Z"
   },
   {
    "duration": 18,
    "start_time": "2022-11-13T21:39:12.250Z"
   },
   {
    "duration": 0,
    "start_time": "2022-11-13T21:39:12.270Z"
   },
   {
    "duration": 6,
    "start_time": "2022-11-13T21:48:56.591Z"
   },
   {
    "duration": 6,
    "start_time": "2022-11-13T21:49:21.826Z"
   },
   {
    "duration": 3,
    "start_time": "2022-11-13T21:49:36.686Z"
   },
   {
    "duration": 6,
    "start_time": "2022-11-13T21:49:50.889Z"
   },
   {
    "duration": 7,
    "start_time": "2022-11-13T21:49:57.745Z"
   },
   {
    "duration": 6,
    "start_time": "2022-11-13T21:50:03.909Z"
   },
   {
    "duration": 6,
    "start_time": "2022-11-13T21:50:08.794Z"
   },
   {
    "duration": 5,
    "start_time": "2022-11-13T21:50:13.898Z"
   },
   {
    "duration": 15,
    "start_time": "2022-11-13T21:50:15.850Z"
   },
   {
    "duration": 5,
    "start_time": "2022-11-13T21:50:47.250Z"
   },
   {
    "duration": 7,
    "start_time": "2022-11-13T21:51:27.832Z"
   },
   {
    "duration": 7,
    "start_time": "2022-11-13T21:51:41.093Z"
   },
   {
    "duration": 5,
    "start_time": "2022-11-13T21:51:57.617Z"
   },
   {
    "duration": 6,
    "start_time": "2022-11-13T21:51:59.384Z"
   },
   {
    "duration": 11,
    "start_time": "2022-11-13T21:52:05.377Z"
   },
   {
    "duration": 7,
    "start_time": "2022-11-13T21:53:02.214Z"
   },
   {
    "duration": 5,
    "start_time": "2022-11-13T21:57:01.696Z"
   },
   {
    "duration": 3,
    "start_time": "2022-11-13T21:57:41.896Z"
   },
   {
    "duration": 8,
    "start_time": "2022-11-13T21:57:51.083Z"
   },
   {
    "duration": 6,
    "start_time": "2022-11-13T21:57:56.851Z"
   },
   {
    "duration": 6,
    "start_time": "2022-11-13T21:58:05.609Z"
   },
   {
    "duration": 4,
    "start_time": "2022-11-13T21:58:13.793Z"
   },
   {
    "duration": 4,
    "start_time": "2022-11-13T21:58:14.662Z"
   },
   {
    "duration": 8,
    "start_time": "2022-11-13T21:58:15.485Z"
   },
   {
    "duration": 4,
    "start_time": "2022-11-13T22:00:57.720Z"
   },
   {
    "duration": 2,
    "start_time": "2022-11-13T22:02:09.493Z"
   },
   {
    "duration": 6,
    "start_time": "2022-11-13T22:02:22.872Z"
   },
   {
    "duration": 5,
    "start_time": "2022-11-13T22:02:27.137Z"
   },
   {
    "duration": 6,
    "start_time": "2022-11-13T22:02:31.818Z"
   },
   {
    "duration": 4,
    "start_time": "2022-11-13T22:02:39.606Z"
   },
   {
    "duration": 5,
    "start_time": "2022-11-13T22:02:40.040Z"
   },
   {
    "duration": 8,
    "start_time": "2022-11-13T22:02:40.432Z"
   },
   {
    "duration": 15,
    "start_time": "2022-11-13T22:03:27.864Z"
   },
   {
    "duration": 16,
    "start_time": "2022-11-13T22:03:54.424Z"
   },
   {
    "duration": 13,
    "start_time": "2022-11-13T22:05:10.480Z"
   },
   {
    "duration": 188762,
    "start_time": "2022-11-13T22:06:39.143Z"
   },
   {
    "duration": 2163977,
    "start_time": "2022-11-13T22:09:52.230Z"
   },
   {
    "duration": 4,
    "start_time": "2022-11-13T22:45:56.210Z"
   },
   {
    "duration": 55,
    "start_time": "2022-11-13T22:45:56.216Z"
   },
   {
    "duration": 3,
    "start_time": "2022-11-13T22:48:36.811Z"
   },
   {
    "duration": 9,
    "start_time": "2022-11-13T22:48:50.369Z"
   },
   {
    "duration": 7,
    "start_time": "2022-11-13T22:48:54.735Z"
   },
   {
    "duration": 6,
    "start_time": "2022-11-13T22:48:59.219Z"
   },
   {
    "duration": 5,
    "start_time": "2022-11-13T22:49:02.937Z"
   },
   {
    "duration": 4,
    "start_time": "2022-11-13T22:49:03.436Z"
   },
   {
    "duration": 8,
    "start_time": "2022-11-13T22:49:04.233Z"
   },
   {
    "duration": 399120,
    "start_time": "2022-11-13T22:52:29.041Z"
   },
   {
    "duration": 12,
    "start_time": "2022-11-13T22:59:08.163Z"
   },
   {
    "duration": 9,
    "start_time": "2022-11-13T22:59:29.694Z"
   },
   {
    "duration": 10,
    "start_time": "2022-11-13T23:06:45.175Z"
   },
   {
    "duration": 1173,
    "start_time": "2022-11-13T23:09:04.821Z"
   },
   {
    "duration": 4,
    "start_time": "2022-11-13T23:09:13.521Z"
   }
  ],
  "kernelspec": {
   "display_name": "Python 3 (ipykernel)",
   "language": "python",
   "name": "python3"
  },
  "language_info": {
   "codemirror_mode": {
    "name": "ipython",
    "version": 3
   },
   "file_extension": ".py",
   "mimetype": "text/x-python",
   "name": "python",
   "nbconvert_exporter": "python",
   "pygments_lexer": "ipython3",
   "version": "3.9.13"
  },
  "toc": {
   "base_numbering": 1,
   "nav_menu": {},
   "number_sections": true,
   "sideBar": true,
   "skip_h1_title": true,
   "title_cell": "Table of Contents",
   "title_sidebar": "Contents",
   "toc_cell": false,
   "toc_position": {
    "height": "calc(100% - 180px)",
    "left": "10px",
    "top": "150px",
    "width": "316.337px"
   },
   "toc_section_display": true,
   "toc_window_display": true
  }
 },
 "nbformat": 4,
 "nbformat_minor": 2
}
