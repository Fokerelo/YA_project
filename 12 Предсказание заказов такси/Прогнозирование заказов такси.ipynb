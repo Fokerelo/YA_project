{
 "cells": [
  {
   "cell_type": "markdown",
   "metadata": {},
   "source": [
    "#  Прогнозирование заказов такси"
   ]
  },
  {
   "cell_type": "markdown",
   "metadata": {},
   "source": [
    "Компания «Чётенькое такси» собрала исторические данные о заказах такси в аэропортах. Чтобы привлекать больше водителей в период пиковой нагрузки, нужно спрогнозировать количество заказов такси на следующий час. Постройте модель для такого предсказания.\n",
    "\n",
    "Значение метрики *RMSE* на тестовой выборке должно быть не больше 48.\n",
    "\n",
    "Вам нужно:\n",
    "\n",
    "1. Загрузить данные и выполнить их ресемплирование по одному часу.\n",
    "2. Проанализировать данные.\n",
    "3. Обучить разные модели с различными гиперпараметрами. Сделать тестовую выборку размером 10% от исходных данных.\n",
    "4. Проверить данные на тестовой выборке и сделать выводы.\n",
    "\n",
    "\n",
    "Данные лежат в файле `taxi.csv`. Количество заказов находится в столбце `num_orders` (от англ. *number of orders*, «число заказов»)."
   ]
  },
  {
   "cell_type": "markdown",
   "metadata": {},
   "source": [
    "## Подготовка"
   ]
  },
  {
   "cell_type": "code",
   "execution_count": 1,
   "metadata": {},
   "outputs": [],
   "source": [
    "import pandas as pd\n",
    "import numpy as np\n",
    "import matplotlib.pyplot as plt\n",
    "\n",
    "\n",
    "from statsmodels.tsa.seasonal import seasonal_decompose\n",
    "from sklearn.model_selection import train_test_split\n",
    "\n",
    "import lightgbm as lgb\n",
    "from sklearn.linear_model import LinearRegression\n",
    "from catboost import CatBoostRegressor\n",
    "from sklearn.metrics import mean_squared_error\n",
    "from sklearn.model_selection import TimeSeriesSplit\n",
    "from sklearn.model_selection import cross_val_score, GridSearchCV"
   ]
  },
  {
   "cell_type": "code",
   "execution_count": 2,
   "metadata": {},
   "outputs": [],
   "source": [
    "data = pd.read_csv('/datasets/taxi.csv',index_col=[0], parse_dates=[0])"
   ]
  },
  {
   "cell_type": "code",
   "execution_count": 3,
   "metadata": {},
   "outputs": [],
   "source": [
    "def data_info(df):\n",
    "        display(df)# просмотр первых и последних строк датасета\n",
    "        df.info() # общий анализ данных\n",
    "        print(\"Пропусков в данных: \")\n",
    "        print(df.isna().sum().sum(), end='\\n'*2)\n",
    "        print()\n",
    "        print(\"Данные монотонные, а значит в хронологическом порядке -\", data.index.is_monotonic) \n",
    "        return"
   ]
  },
  {
   "cell_type": "code",
   "execution_count": 4,
   "metadata": {
    "scrolled": false
   },
   "outputs": [
    {
     "data": {
      "text/html": [
       "<div>\n",
       "<style scoped>\n",
       "    .dataframe tbody tr th:only-of-type {\n",
       "        vertical-align: middle;\n",
       "    }\n",
       "\n",
       "    .dataframe tbody tr th {\n",
       "        vertical-align: top;\n",
       "    }\n",
       "\n",
       "    .dataframe thead th {\n",
       "        text-align: right;\n",
       "    }\n",
       "</style>\n",
       "<table border=\"1\" class=\"dataframe\">\n",
       "  <thead>\n",
       "    <tr style=\"text-align: right;\">\n",
       "      <th></th>\n",
       "      <th>num_orders</th>\n",
       "    </tr>\n",
       "    <tr>\n",
       "      <th>datetime</th>\n",
       "      <th></th>\n",
       "    </tr>\n",
       "  </thead>\n",
       "  <tbody>\n",
       "    <tr>\n",
       "      <th>2018-03-01 00:00:00</th>\n",
       "      <td>9</td>\n",
       "    </tr>\n",
       "    <tr>\n",
       "      <th>2018-03-01 00:10:00</th>\n",
       "      <td>14</td>\n",
       "    </tr>\n",
       "    <tr>\n",
       "      <th>2018-03-01 00:20:00</th>\n",
       "      <td>28</td>\n",
       "    </tr>\n",
       "    <tr>\n",
       "      <th>2018-03-01 00:30:00</th>\n",
       "      <td>20</td>\n",
       "    </tr>\n",
       "    <tr>\n",
       "      <th>2018-03-01 00:40:00</th>\n",
       "      <td>32</td>\n",
       "    </tr>\n",
       "    <tr>\n",
       "      <th>...</th>\n",
       "      <td>...</td>\n",
       "    </tr>\n",
       "    <tr>\n",
       "      <th>2018-08-31 23:10:00</th>\n",
       "      <td>32</td>\n",
       "    </tr>\n",
       "    <tr>\n",
       "      <th>2018-08-31 23:20:00</th>\n",
       "      <td>24</td>\n",
       "    </tr>\n",
       "    <tr>\n",
       "      <th>2018-08-31 23:30:00</th>\n",
       "      <td>27</td>\n",
       "    </tr>\n",
       "    <tr>\n",
       "      <th>2018-08-31 23:40:00</th>\n",
       "      <td>39</td>\n",
       "    </tr>\n",
       "    <tr>\n",
       "      <th>2018-08-31 23:50:00</th>\n",
       "      <td>53</td>\n",
       "    </tr>\n",
       "  </tbody>\n",
       "</table>\n",
       "<p>26496 rows × 1 columns</p>\n",
       "</div>"
      ],
      "text/plain": [
       "                     num_orders\n",
       "datetime                       \n",
       "2018-03-01 00:00:00           9\n",
       "2018-03-01 00:10:00          14\n",
       "2018-03-01 00:20:00          28\n",
       "2018-03-01 00:30:00          20\n",
       "2018-03-01 00:40:00          32\n",
       "...                         ...\n",
       "2018-08-31 23:10:00          32\n",
       "2018-08-31 23:20:00          24\n",
       "2018-08-31 23:30:00          27\n",
       "2018-08-31 23:40:00          39\n",
       "2018-08-31 23:50:00          53\n",
       "\n",
       "[26496 rows x 1 columns]"
      ]
     },
     "metadata": {},
     "output_type": "display_data"
    },
    {
     "name": "stdout",
     "output_type": "stream",
     "text": [
      "<class 'pandas.core.frame.DataFrame'>\n",
      "DatetimeIndex: 26496 entries, 2018-03-01 00:00:00 to 2018-08-31 23:50:00\n",
      "Data columns (total 1 columns):\n",
      " #   Column      Non-Null Count  Dtype\n",
      "---  ------      --------------  -----\n",
      " 0   num_orders  26496 non-null  int64\n",
      "dtypes: int64(1)\n",
      "memory usage: 414.0 KB\n",
      "Пропусков в данных: \n",
      "0\n",
      "\n",
      "\n",
      "Данные монотонные, а значит в хронологическом порядке - True\n"
     ]
    }
   ],
   "source": [
    "data_info(data)"
   ]
  },
  {
   "cell_type": "markdown",
   "metadata": {},
   "source": [
    "Перед нами данные о количестве заказов фирмы \"Чётенькое такси\" с 1 марта 2018года до 31 августа 2018 года, разбитые по 10 минут, индексы монотонные - тоесть данные находятся в хронологическом порядке"
   ]
  },
  {
   "cell_type": "markdown",
   "metadata": {},
   "source": [
    "Выполню ресемплирование по одному часу."
   ]
  },
  {
   "cell_type": "code",
   "execution_count": 5,
   "metadata": {},
   "outputs": [],
   "source": [
    "data.sort_index(inplace=True)\n",
    "data_resample = data.resample('1H').sum()"
   ]
  },
  {
   "cell_type": "code",
   "execution_count": 6,
   "metadata": {
    "scrolled": true
   },
   "outputs": [
    {
     "data": {
      "text/html": [
       "<div>\n",
       "<style scoped>\n",
       "    .dataframe tbody tr th:only-of-type {\n",
       "        vertical-align: middle;\n",
       "    }\n",
       "\n",
       "    .dataframe tbody tr th {\n",
       "        vertical-align: top;\n",
       "    }\n",
       "\n",
       "    .dataframe thead th {\n",
       "        text-align: right;\n",
       "    }\n",
       "</style>\n",
       "<table border=\"1\" class=\"dataframe\">\n",
       "  <thead>\n",
       "    <tr style=\"text-align: right;\">\n",
       "      <th></th>\n",
       "      <th>num_orders</th>\n",
       "    </tr>\n",
       "    <tr>\n",
       "      <th>datetime</th>\n",
       "      <th></th>\n",
       "    </tr>\n",
       "  </thead>\n",
       "  <tbody>\n",
       "    <tr>\n",
       "      <th>2018-03-01 00:00:00</th>\n",
       "      <td>124</td>\n",
       "    </tr>\n",
       "    <tr>\n",
       "      <th>2018-03-01 01:00:00</th>\n",
       "      <td>85</td>\n",
       "    </tr>\n",
       "    <tr>\n",
       "      <th>2018-03-01 02:00:00</th>\n",
       "      <td>71</td>\n",
       "    </tr>\n",
       "    <tr>\n",
       "      <th>2018-03-01 03:00:00</th>\n",
       "      <td>66</td>\n",
       "    </tr>\n",
       "    <tr>\n",
       "      <th>2018-03-01 04:00:00</th>\n",
       "      <td>43</td>\n",
       "    </tr>\n",
       "    <tr>\n",
       "      <th>...</th>\n",
       "      <td>...</td>\n",
       "    </tr>\n",
       "    <tr>\n",
       "      <th>2018-08-31 19:00:00</th>\n",
       "      <td>136</td>\n",
       "    </tr>\n",
       "    <tr>\n",
       "      <th>2018-08-31 20:00:00</th>\n",
       "      <td>154</td>\n",
       "    </tr>\n",
       "    <tr>\n",
       "      <th>2018-08-31 21:00:00</th>\n",
       "      <td>159</td>\n",
       "    </tr>\n",
       "    <tr>\n",
       "      <th>2018-08-31 22:00:00</th>\n",
       "      <td>223</td>\n",
       "    </tr>\n",
       "    <tr>\n",
       "      <th>2018-08-31 23:00:00</th>\n",
       "      <td>205</td>\n",
       "    </tr>\n",
       "  </tbody>\n",
       "</table>\n",
       "<p>4416 rows × 1 columns</p>\n",
       "</div>"
      ],
      "text/plain": [
       "                     num_orders\n",
       "datetime                       \n",
       "2018-03-01 00:00:00         124\n",
       "2018-03-01 01:00:00          85\n",
       "2018-03-01 02:00:00          71\n",
       "2018-03-01 03:00:00          66\n",
       "2018-03-01 04:00:00          43\n",
       "...                         ...\n",
       "2018-08-31 19:00:00         136\n",
       "2018-08-31 20:00:00         154\n",
       "2018-08-31 21:00:00         159\n",
       "2018-08-31 22:00:00         223\n",
       "2018-08-31 23:00:00         205\n",
       "\n",
       "[4416 rows x 1 columns]"
      ]
     },
     "execution_count": 6,
     "metadata": {},
     "output_type": "execute_result"
    }
   ],
   "source": [
    "data_resample"
   ]
  },
  {
   "cell_type": "code",
   "execution_count": 7,
   "metadata": {},
   "outputs": [
    {
     "data": {
      "image/png": "[encoded data removed]",
      "text/plain": [
       "<Figure size 432x288 with 1 Axes>"
      ]
     },
     "metadata": {
      "needs_background": "light"
     },
     "output_type": "display_data"
    }
   ],
   "source": [
    "plt.scatter(data_resample.index.values,\n",
    "           data_resample['num_orders'])\n",
    "plt.title('График заказов')\n",
    "plt.xlabel('Дата заказов')\n",
    "plt.ylabel('Количество заказов')\n",
    "plt.grid(True)\n",
    "plt.show()"
   ]
  },
  {
   "cell_type": "markdown",
   "metadata": {},
   "source": [
    "График рассеивания дает понять, что за весь период ежемесячно количество заказов в среднем на отметке 0-100 шт, но начиная с середины июля график смещается от нуля вверх, а значит минимальное количество заказов увеличивается"
   ]
  },
  {
   "cell_type": "markdown",
   "metadata": {},
   "source": [
    "На данном этапе я познакомился с данными и сгруппировал их с интервалом в 1час, вместо 10 минут, все данные находятся в хронологическом порядке. Теперь нужно проанализировать данные"
   ]
  },
  {
   "cell_type": "markdown",
   "metadata": {},
   "source": [
    "## Анализ"
   ]
  },
  {
   "cell_type": "markdown",
   "metadata": {},
   "source": [
    "Проверка данных на стационарность"
   ]
  },
  {
   "cell_type": "code",
   "execution_count": 8,
   "metadata": {},
   "outputs": [],
   "source": [
    "decomposed = seasonal_decompose(data_resample['num_orders'])"
   ]
  },
  {
   "cell_type": "code",
   "execution_count": 9,
   "metadata": {
    "scrolled": true
   },
   "outputs": [
    {
     "data": {
      "image/png": "[encoded data removed]",
      "text/plain": [
       "<Figure size 1152x720 with 3 Axes>"
      ]
     },
     "metadata": {
      "needs_background": "light"
     },
     "output_type": "display_data"
    }
   ],
   "source": [
    "fig, axs = plt.subplots(3, figsize=(16,10), sharex=False)\n",
    "axs[0].plot(decomposed.trend)\n",
    "axs[0].set_title(\"Trend\")\n",
    "\n",
    "axs[1].plot(decomposed.seasonal)\n",
    "axs[1].set_title(\"Seasonal, hours\")\n",
    "\n",
    "axs[2].plot(decomposed.resid)\n",
    "axs[2].set_title(\"Residual\")\n",
    "\n",
    "plt.show()"
   ]
  },
  {
   "cell_type": "code",
   "execution_count": 10,
   "metadata": {},
   "outputs": [
    {
     "data": {
      "image/png": "[encoded data removed]",
      "text/plain": [
       "<Figure size 720x504 with 2 Axes>"
      ]
     },
     "metadata": {
      "needs_background": "light"
     },
     "output_type": "display_data"
    }
   ],
   "source": [
    "fig, axs = plt.subplots(2, figsize=(10,7), sharex=False)\n",
    "axs[0].plot(decomposed.seasonal['2018-03-01': '2018-03-07'])\n",
    "axs[0].set_title(\"Проверка сезонности за 1 неделю Марта\")\n",
    "\n",
    "axs[1].plot(decomposed.seasonal['2018-08-01': '2018-08-07'])\n",
    "axs[1].set_title(\"Проверка сезонности за 1 неделю Апреля\")\n",
    "plt.show()\n"
   ]
  },
  {
   "cell_type": "markdown",
   "metadata": {},
   "source": [
    "    В данных присутствует сезонность, которая не зависит от времени\n",
    "    \n",
    "    Так же так как показатель Trend'a с июня к сентябрю возрастает - значит возрастает среднее значение, тоесть данные не стационарны"
   ]
  },
  {
   "cell_type": "markdown",
   "metadata": {},
   "source": [
    "Вычислим разность временного ряда, что бы сделать данные стационарными"
   ]
  },
  {
   "cell_type": "code",
   "execution_count": 11,
   "metadata": {},
   "outputs": [
    {
     "data": {
      "text/html": [
       "<div>\n",
       "<style scoped>\n",
       "    .dataframe tbody tr th:only-of-type {\n",
       "        vertical-align: middle;\n",
       "    }\n",
       "\n",
       "    .dataframe tbody tr th {\n",
       "        vertical-align: top;\n",
       "    }\n",
       "\n",
       "    .dataframe thead th {\n",
       "        text-align: right;\n",
       "    }\n",
       "</style>\n",
       "<table border=\"1\" class=\"dataframe\">\n",
       "  <thead>\n",
       "    <tr style=\"text-align: right;\">\n",
       "      <th></th>\n",
       "      <th>num_orders</th>\n",
       "    </tr>\n",
       "    <tr>\n",
       "      <th>datetime</th>\n",
       "      <th></th>\n",
       "    </tr>\n",
       "  </thead>\n",
       "  <tbody>\n",
       "    <tr>\n",
       "      <th>2018-03-01 00:00:00</th>\n",
       "      <td>NaN</td>\n",
       "    </tr>\n",
       "    <tr>\n",
       "      <th>2018-03-01 01:00:00</th>\n",
       "      <td>124.0</td>\n",
       "    </tr>\n",
       "    <tr>\n",
       "      <th>2018-03-01 02:00:00</th>\n",
       "      <td>85.0</td>\n",
       "    </tr>\n",
       "    <tr>\n",
       "      <th>2018-03-01 03:00:00</th>\n",
       "      <td>71.0</td>\n",
       "    </tr>\n",
       "    <tr>\n",
       "      <th>2018-03-01 04:00:00</th>\n",
       "      <td>66.0</td>\n",
       "    </tr>\n",
       "    <tr>\n",
       "      <th>...</th>\n",
       "      <td>...</td>\n",
       "    </tr>\n",
       "    <tr>\n",
       "      <th>2018-08-31 19:00:00</th>\n",
       "      <td>207.0</td>\n",
       "    </tr>\n",
       "    <tr>\n",
       "      <th>2018-08-31 20:00:00</th>\n",
       "      <td>136.0</td>\n",
       "    </tr>\n",
       "    <tr>\n",
       "      <th>2018-08-31 21:00:00</th>\n",
       "      <td>154.0</td>\n",
       "    </tr>\n",
       "    <tr>\n",
       "      <th>2018-08-31 22:00:00</th>\n",
       "      <td>159.0</td>\n",
       "    </tr>\n",
       "    <tr>\n",
       "      <th>2018-08-31 23:00:00</th>\n",
       "      <td>223.0</td>\n",
       "    </tr>\n",
       "  </tbody>\n",
       "</table>\n",
       "<p>4416 rows × 1 columns</p>\n",
       "</div>"
      ],
      "text/plain": [
       "                     num_orders\n",
       "datetime                       \n",
       "2018-03-01 00:00:00         NaN\n",
       "2018-03-01 01:00:00       124.0\n",
       "2018-03-01 02:00:00        85.0\n",
       "2018-03-01 03:00:00        71.0\n",
       "2018-03-01 04:00:00        66.0\n",
       "...                         ...\n",
       "2018-08-31 19:00:00       207.0\n",
       "2018-08-31 20:00:00       136.0\n",
       "2018-08-31 21:00:00       154.0\n",
       "2018-08-31 22:00:00       159.0\n",
       "2018-08-31 23:00:00       223.0\n",
       "\n",
       "[4416 rows x 1 columns]"
      ]
     },
     "execution_count": 11,
     "metadata": {},
     "output_type": "execute_result"
    }
   ],
   "source": [
    "data_resample_copy = data_resample.copy()\n",
    "data_resample_copy.shift()"
   ]
  },
  {
   "cell_type": "code",
   "execution_count": 12,
   "metadata": {},
   "outputs": [
    {
     "data": {
      "text/plain": [
       "Text(0, 0.5, 'Количество заказов')"
      ]
     },
     "execution_count": 12,
     "metadata": {},
     "output_type": "execute_result"
    },
    {
     "data": {
      "image/png": "[encoded data removed]",
      "text/plain": [
       "<Figure size 1080x432 with 1 Axes>"
      ]
     },
     "metadata": {
      "needs_background": "light"
     },
     "output_type": "display_data"
    }
   ],
   "source": [
    "ax = data_resample.plot(figsize=(15, 6));\n",
    "ax.set_xlabel(\"Месяцы\")\n",
    "ax.set_ylabel(\"Количество заказов\")"
   ]
  },
  {
   "cell_type": "markdown",
   "metadata": {},
   "source": [
    "Мы имеем дело с нестационарным рядом"
   ]
  },
  {
   "cell_type": "markdown",
   "metadata": {},
   "source": [
    "## Обучение"
   ]
  },
  {
   "cell_type": "markdown",
   "metadata": {},
   "source": [
    "Для обучения моделей создадим признаки"
   ]
  },
  {
   "cell_type": "code",
   "execution_count": 13,
   "metadata": {},
   "outputs": [],
   "source": [
    "# Создание функции для признаков\n",
    "def make_features(df, max_lag, rolling_mean_size):\n",
    "    df_copy=df.copy()\n",
    "    \n",
    "    # Формирование календарных признаков\n",
    "    df_copy['dayofweek'] = df_copy.index.dayofweek\n",
    "    df_copy['hour'] = df_copy.index.hour\n",
    "    \n",
    "    # Формирование отстающих признаков\n",
    "    for lag in range(1, max_lag + 1):\n",
    "        df_copy['lag_{}'.format(lag)] = df_copy['num_orders'].shift(lag)\n",
    "        \n",
    "    # Добавление признака скользящего среднего\n",
    "    df_copy['rolling_mean'] = df_copy['num_orders'].shift().rolling(rolling_mean_size).mean()\n",
    "    return df_copy"
   ]
  },
  {
   "cell_type": "markdown",
   "metadata": {},
   "source": [
    "Вызовем функцию max_features() с max_lag = 8 и rolling_mean_size = 8"
   ]
  },
  {
   "cell_type": "code",
   "execution_count": 14,
   "metadata": {},
   "outputs": [],
   "source": [
    "date_features = make_features(data_resample,24,24)"
   ]
  },
  {
   "cell_type": "markdown",
   "metadata": {},
   "source": [
    "Разбиение данных на выборки(согласно условиям тестовая выборка должна содержать 10%)"
   ]
  },
  {
   "cell_type": "code",
   "execution_count": 15,
   "metadata": {},
   "outputs": [],
   "source": [
    "train_valid, test = train_test_split(date_features, shuffle=False, test_size=0.1)\n",
    "train_valid = train_valid.dropna()"
   ]
  },
  {
   "cell_type": "code",
   "execution_count": 16,
   "metadata": {},
   "outputs": [
    {
     "data": {
      "text/plain": [
       "(3950, 28)"
      ]
     },
     "metadata": {},
     "output_type": "display_data"
    },
    {
     "data": {
      "text/plain": [
       "(442, 28)"
      ]
     },
     "metadata": {},
     "output_type": "display_data"
    }
   ],
   "source": [
    "display(train_valid.shape)\n",
    "display(test.shape)"
   ]
  },
  {
   "cell_type": "code",
   "execution_count": 17,
   "metadata": {},
   "outputs": [],
   "source": [
    "train, valid = train_test_split(train_valid, shuffle=False, test_size=0.1)"
   ]
  },
  {
   "cell_type": "code",
   "execution_count": 18,
   "metadata": {},
   "outputs": [
    {
     "data": {
      "text/plain": [
       "(3555, 28)"
      ]
     },
     "metadata": {},
     "output_type": "display_data"
    },
    {
     "data": {
      "text/plain": [
       "(395, 28)"
      ]
     },
     "metadata": {},
     "output_type": "display_data"
    }
   ],
   "source": [
    "display(train.shape)\n",
    "display(valid.shape)"
   ]
  },
  {
   "cell_type": "markdown",
   "metadata": {},
   "source": [
    "Разобьем выборки на признаки и целевой признак"
   ]
  },
  {
   "cell_type": "code",
   "execution_count": 19,
   "metadata": {},
   "outputs": [],
   "source": [
    "features_train = train.drop(['num_orders'], axis=1)\n",
    "target_train = train['num_orders']\n",
    "\n",
    "features_valid = valid.drop(['num_orders'], axis=1)\n",
    "target_valid = valid['num_orders']\n",
    "\n",
    "features_test = test.drop(['num_orders'], axis=1)\n",
    "target_test = test['num_orders']"
   ]
  },
  {
   "cell_type": "markdown",
   "metadata": {},
   "source": [
    "### Подбор модели и гиперпараметров"
   ]
  },
  {
   "cell_type": "code",
   "execution_count": 20,
   "metadata": {},
   "outputs": [],
   "source": [
    "best_rmse = []"
   ]
  },
  {
   "cell_type": "markdown",
   "metadata": {},
   "source": [
    "    Для оценки метрики я буду использовать 3 модели:\n",
    "    \n",
    "        Линейная регрессия\n",
    "        LightGBT\n",
    "        Catboost"
   ]
  },
  {
   "cell_type": "markdown",
   "metadata": {},
   "source": [
    "#### Линейная регрессия"
   ]
  },
  {
   "cell_type": "code",
   "execution_count": 21,
   "metadata": {},
   "outputs": [
    {
     "data": {
      "text/plain": [
       "(3555,)"
      ]
     },
     "execution_count": 21,
     "metadata": {},
     "output_type": "execute_result"
    }
   ],
   "source": [
    "target_train.shape"
   ]
  },
  {
   "cell_type": "code",
   "execution_count": 22,
   "metadata": {},
   "outputs": [
    {
     "data": {
      "text/plain": [
       "'RMSE Линейной регресии '"
      ]
     },
     "metadata": {},
     "output_type": "display_data"
    },
    {
     "data": {
      "text/plain": [
       "34.32543978656721"
      ]
     },
     "metadata": {},
     "output_type": "display_data"
    },
    {
     "name": "stdout",
     "output_type": "stream",
     "text": [
      "CPU times: user 73.7 ms, sys: 150 ms, total: 224 ms\n",
      "Wall time: 184 ms\n"
     ]
    }
   ],
   "source": [
    "%%time\n",
    "model_lr = LinearRegression()\n",
    "model_lr.fit(features_train, target_train)\n",
    "prediсt = model_lr.predict(features_valid)\n",
    "rmse_lr = mean_squared_error(target_valid, prediсt) ** 0.5\n",
    "\n",
    "display(\"RMSE Линейной регресии \", rmse_lr)"
   ]
  },
  {
   "cell_type": "code",
   "execution_count": 23,
   "metadata": {},
   "outputs": [],
   "source": [
    "best_rmse.append(rmse_lr)"
   ]
  },
  {
   "cell_type": "markdown",
   "metadata": {},
   "source": [
    "#### LightGBT"
   ]
  },
  {
   "cell_type": "code",
   "execution_count": 44,
   "metadata": {},
   "outputs": [
    {
     "name": "stdout",
     "output_type": "stream",
     "text": [
      "CPU times: user 40min 9s, sys: 30.3 s, total: 40min 39s\n",
      "Wall time: 41min 1s\n"
     ]
    },
    {
     "data": {
      "text/plain": [
       "GridSearchCV(cv=TimeSeriesSplit(gap=0, max_train_size=None, n_splits=3, test_size=None),\n",
       "             estimator=LGBMRegressor(),\n",
       "             param_grid={'max_depth': range(2, 11, 2)},\n",
       "             scoring='neg_root_mean_squared_error')"
      ]
     },
     "execution_count": 44,
     "metadata": {},
     "output_type": "execute_result"
    }
   ],
   "source": [
    "%%time\n",
    "\n",
    "param_grid = {'max_depth': range(2, 11, 2)}\n",
    "            \n",
    "               \n",
    "lgb_model = lgb.LGBMRegressor()\n",
    "tscv = TimeSeriesSplit(n_splits=3)\n",
    "\n",
    "search_lgb = GridSearchCV(lgb_model, param_grid, cv=tscv, scoring='neg_root_mean_squared_error')\n",
    "search_lgb.fit(features_train, target_train)"
   ]
  },
  {
   "cell_type": "code",
   "execution_count": 45,
   "metadata": {},
   "outputs": [
    {
     "name": "stdout",
     "output_type": "stream",
     "text": [
      "Лучшее значение RMSE для LGBMRegressor: 24.628602121137977\n",
      " при значениях гиперпараметров: {'max_depth': 4}\n"
     ]
    }
   ],
   "source": [
    "rmse_lgb = -search_lgb.best_score_\n",
    "print('Лучшее значение RMSE для LGBMRegressor: {}'\n",
    "      '\\n при значениях гиперпараметров: {}'.format(-search_lgb.best_score_,search_lgb.best_params_))"
   ]
  },
  {
   "cell_type": "code",
   "execution_count": 46,
   "metadata": {},
   "outputs": [],
   "source": [
    "best_rmse.append(rmse_lgb)"
   ]
  },
  {
   "cell_type": "markdown",
   "metadata": {},
   "source": [
    "#### Catboost"
   ]
  },
  {
   "cell_type": "code",
   "execution_count": 27,
   "metadata": {
    "scrolled": true
   },
   "outputs": [
    {
     "name": "stdout",
     "output_type": "stream",
     "text": [
      "0:\tlearn: 28.5905425\ttotal: 46.9ms\tremaining: 46.8s\n",
      "100:\tlearn: 18.8014973\ttotal: 98.2ms\tremaining: 874ms\n",
      "200:\tlearn: 17.7155822\ttotal: 150ms\tremaining: 596ms\n",
      "300:\tlearn: 17.1305936\ttotal: 197ms\tremaining: 458ms\n",
      "400:\tlearn: 16.7093688\ttotal: 234ms\tremaining: 350ms\n",
      "500:\tlearn: 16.3792344\ttotal: 280ms\tremaining: 279ms\n",
      "600:\tlearn: 16.1003364\ttotal: 318ms\tremaining: 211ms\n",
      "700:\tlearn: 15.8620432\ttotal: 366ms\tremaining: 156ms\n",
      "800:\tlearn: 15.6516236\ttotal: 415ms\tremaining: 103ms\n",
      "900:\tlearn: 15.4577614\ttotal: 464ms\tremaining: 51ms\n",
      "999:\tlearn: 15.2753903\ttotal: 506ms\tremaining: 0us\n",
      "0:\tlearn: 30.5783229\ttotal: 819us\tremaining: 818ms\n",
      "100:\tlearn: 20.6336367\ttotal: 61.2ms\tremaining: 545ms\n",
      "200:\tlearn: 19.7856539\ttotal: 116ms\tremaining: 462ms\n",
      "300:\tlearn: 19.3199247\ttotal: 184ms\tremaining: 426ms\n",
      "400:\tlearn: 19.0168745\ttotal: 239ms\tremaining: 357ms\n",
      "500:\tlearn: 18.7905580\ttotal: 288ms\tremaining: 287ms\n",
      "600:\tlearn: 18.5946817\ttotal: 342ms\tremaining: 227ms\n",
      "700:\tlearn: 18.4300516\ttotal: 415ms\tremaining: 177ms\n",
      "800:\tlearn: 18.2915468\ttotal: 488ms\tremaining: 121ms\n",
      "900:\tlearn: 18.1637505\ttotal: 553ms\tremaining: 60.8ms\n",
      "999:\tlearn: 18.0487496\ttotal: 622ms\tremaining: 0us\n",
      "0:\tlearn: 32.4994932\ttotal: 890us\tremaining: 890ms\n",
      "100:\tlearn: 21.8804743\ttotal: 85.7ms\tremaining: 763ms\n",
      "200:\tlearn: 21.0775007\ttotal: 160ms\tremaining: 637ms\n",
      "300:\tlearn: 20.6692426\ttotal: 248ms\tremaining: 575ms\n",
      "400:\tlearn: 20.3910309\ttotal: 323ms\tremaining: 482ms\n",
      "500:\tlearn: 20.1657326\ttotal: 403ms\tremaining: 402ms\n",
      "600:\tlearn: 19.9875804\ttotal: 494ms\tremaining: 328ms\n",
      "700:\tlearn: 19.8367806\ttotal: 582ms\tremaining: 248ms\n",
      "800:\tlearn: 19.6996024\ttotal: 669ms\tremaining: 166ms\n",
      "900:\tlearn: 19.5778020\ttotal: 748ms\tremaining: 82.2ms\n",
      "999:\tlearn: 19.4773272\ttotal: 831ms\tremaining: 0us\n",
      "0:\tlearn: 27.2158352\ttotal: 648us\tremaining: 648ms\n",
      "100:\tlearn: 17.1688616\ttotal: 50ms\tremaining: 445ms\n",
      "200:\tlearn: 16.0832316\ttotal: 98.6ms\tremaining: 392ms\n",
      "300:\tlearn: 15.3775710\ttotal: 148ms\tremaining: 344ms\n",
      "400:\tlearn: 14.8344014\ttotal: 202ms\tremaining: 301ms\n",
      "500:\tlearn: 14.4007411\ttotal: 255ms\tremaining: 254ms\n",
      "600:\tlearn: 14.0480376\ttotal: 303ms\tremaining: 201ms\n",
      "700:\tlearn: 13.7502363\ttotal: 345ms\tremaining: 147ms\n",
      "800:\tlearn: 13.4764301\ttotal: 388ms\tremaining: 96.4ms\n",
      "900:\tlearn: 13.2203789\ttotal: 427ms\tremaining: 46.9ms\n",
      "999:\tlearn: 12.9949665\ttotal: 469ms\tremaining: 0us\n",
      "0:\tlearn: 29.1289071\ttotal: 825us\tremaining: 824ms\n",
      "100:\tlearn: 19.4098850\ttotal: 65.8ms\tremaining: 586ms\n",
      "200:\tlearn: 18.6404528\ttotal: 133ms\tremaining: 529ms\n",
      "300:\tlearn: 18.1722509\ttotal: 202ms\tremaining: 469ms\n",
      "400:\tlearn: 17.8227200\ttotal: 264ms\tremaining: 394ms\n",
      "500:\tlearn: 17.5622386\ttotal: 337ms\tremaining: 336ms\n",
      "600:\tlearn: 17.3439505\ttotal: 388ms\tremaining: 257ms\n",
      "700:\tlearn: 17.1509098\ttotal: 441ms\tremaining: 188ms\n",
      "800:\tlearn: 16.9698862\ttotal: 507ms\tremaining: 126ms\n",
      "900:\tlearn: 16.8125279\ttotal: 565ms\tremaining: 62.1ms\n",
      "999:\tlearn: 16.6697789\ttotal: 634ms\tremaining: 0us\n",
      "0:\tlearn: 30.9846856\ttotal: 1.16ms\tremaining: 1.16s\n",
      "100:\tlearn: 20.8187245\ttotal: 90.2ms\tremaining: 803ms\n",
      "200:\tlearn: 20.0782629\ttotal: 164ms\tremaining: 652ms\n",
      "300:\tlearn: 19.6355091\ttotal: 246ms\tremaining: 572ms\n",
      "400:\tlearn: 19.3337752\ttotal: 332ms\tremaining: 496ms\n",
      "500:\tlearn: 19.1058729\ttotal: 423ms\tremaining: 421ms\n",
      "600:\tlearn: 18.9036405\ttotal: 502ms\tremaining: 333ms\n",
      "700:\tlearn: 18.7298779\ttotal: 571ms\tremaining: 243ms\n",
      "800:\tlearn: 18.5794172\ttotal: 638ms\tremaining: 158ms\n",
      "900:\tlearn: 18.4406592\ttotal: 723ms\tremaining: 79.4ms\n",
      "999:\tlearn: 18.3131494\ttotal: 797ms\tremaining: 0us\n",
      "0:\tlearn: 28.0848876\ttotal: 45.5ms\tremaining: 45.5s\n",
      "100:\tlearn: 6.1474545\ttotal: 3.63s\tremaining: 32.4s\n",
      "200:\tlearn: 2.3444378\ttotal: 7.29s\tremaining: 29s\n",
      "300:\tlearn: 0.9740720\ttotal: 11.2s\tremaining: 25.9s\n",
      "400:\tlearn: 0.4339218\ttotal: 15s\tremaining: 22.5s\n",
      "500:\tlearn: 0.1888320\ttotal: 18.7s\tremaining: 18.6s\n",
      "600:\tlearn: 0.0798345\ttotal: 22.6s\tremaining: 15s\n",
      "700:\tlearn: 0.0333171\ttotal: 26.5s\tremaining: 11.3s\n",
      "800:\tlearn: 0.0142885\ttotal: 30.2s\tremaining: 7.51s\n",
      "900:\tlearn: 0.0060300\ttotal: 34s\tremaining: 3.74s\n",
      "999:\tlearn: 0.0028671\ttotal: 37.8s\tremaining: 0us\n",
      "0:\tlearn: 30.0185334\ttotal: 69.3ms\tremaining: 1m 9s\n",
      "100:\tlearn: 8.9510136\ttotal: 4.6s\tremaining: 40.9s\n",
      "200:\tlearn: 4.5467614\ttotal: 9.12s\tremaining: 36.3s\n",
      "300:\tlearn: 2.4563560\ttotal: 13.7s\tremaining: 31.9s\n",
      "400:\tlearn: 1.2982610\ttotal: 18s\tremaining: 26.8s\n",
      "500:\tlearn: 0.7262560\ttotal: 22.4s\tremaining: 22.4s\n",
      "600:\tlearn: 0.4221170\ttotal: 26.6s\tremaining: 17.7s\n",
      "700:\tlearn: 0.2360267\ttotal: 31.5s\tremaining: 13.4s\n",
      "800:\tlearn: 0.1294385\ttotal: 35.9s\tremaining: 8.93s\n",
      "900:\tlearn: 0.0724836\ttotal: 40.2s\tremaining: 4.42s\n",
      "999:\tlearn: 0.0403377\ttotal: 44.5s\tremaining: 0us\n",
      "0:\tlearn: 31.8431968\ttotal: 45.7ms\tremaining: 45.6s\n",
      "100:\tlearn: 11.0804309\ttotal: 5.36s\tremaining: 47.7s\n",
      "200:\tlearn: 6.6865937\ttotal: 10.4s\tremaining: 41.3s\n",
      "300:\tlearn: 3.9179572\ttotal: 15.5s\tremaining: 36s\n",
      "400:\tlearn: 2.3498253\ttotal: 20.3s\tremaining: 30.4s\n",
      "500:\tlearn: 1.4197577\ttotal: 25.3s\tremaining: 25.2s\n",
      "600:\tlearn: 0.8993371\ttotal: 30.3s\tremaining: 20.1s\n",
      "700:\tlearn: 0.5702350\ttotal: 35.2s\tremaining: 15s\n",
      "800:\tlearn: 0.3780385\ttotal: 39.8s\tremaining: 9.9s\n",
      "900:\tlearn: 0.2564361\ttotal: 44.6s\tremaining: 4.9s\n",
      "999:\tlearn: 0.1763021\ttotal: 49.4s\tremaining: 0us\n",
      "0:\tlearn: 25.6705422\ttotal: 55.8ms\tremaining: 55.7s\n",
      "100:\tlearn: 0.9948070\ttotal: 3.69s\tremaining: 32.8s\n",
      "200:\tlearn: 0.0778239\ttotal: 7.39s\tremaining: 29.4s\n",
      "300:\tlearn: 0.0058470\ttotal: 11s\tremaining: 25.5s\n",
      "400:\tlearn: 0.0006053\ttotal: 14.9s\tremaining: 22.2s\n",
      "500:\tlearn: 0.0000435\ttotal: 18.6s\tremaining: 18.6s\n",
      "600:\tlearn: 0.0000040\ttotal: 22.2s\tremaining: 14.8s\n",
      "700:\tlearn: 0.0000003\ttotal: 26.2s\tremaining: 11.2s\n",
      "800:\tlearn: 0.0000000\ttotal: 29.9s\tremaining: 7.43s\n",
      "900:\tlearn: 0.0000000\ttotal: 33.6s\tremaining: 3.69s\n",
      "999:\tlearn: 0.0000000\ttotal: 37.5s\tremaining: 0us\n",
      "0:\tlearn: 27.4696303\ttotal: 65ms\tremaining: 1m 4s\n",
      "100:\tlearn: 2.7485050\ttotal: 6.05s\tremaining: 53.8s\n",
      "200:\tlearn: 0.4262895\ttotal: 12s\tremaining: 47.7s\n",
      "300:\tlearn: 0.0773150\ttotal: 16.6s\tremaining: 38.5s\n",
      "400:\tlearn: 0.0146631\ttotal: 23s\tremaining: 34.3s\n",
      "500:\tlearn: 0.0026504\ttotal: 29.3s\tremaining: 29.2s\n",
      "600:\tlearn: 0.0004432\ttotal: 35.7s\tremaining: 23.7s\n",
      "700:\tlearn: 0.0000831\ttotal: 42s\tremaining: 17.9s\n",
      "800:\tlearn: 0.0000173\ttotal: 48.3s\tremaining: 12s\n",
      "900:\tlearn: 0.0000033\ttotal: 54.8s\tremaining: 6.02s\n",
      "999:\tlearn: 0.0000007\ttotal: 1m 1s\tremaining: 0us\n",
      "0:\tlearn: 29.0506777\ttotal: 80.6ms\tremaining: 1m 20s\n",
      "100:\tlearn: 3.7383395\ttotal: 7.38s\tremaining: 1m 5s\n",
      "200:\tlearn: 0.8830250\ttotal: 14.4s\tremaining: 57.1s\n",
      "300:\tlearn: 0.2365878\ttotal: 21.5s\tremaining: 49.9s\n",
      "400:\tlearn: 0.0624269\ttotal: 28.5s\tremaining: 42.6s\n",
      "500:\tlearn: 0.0173207\ttotal: 35.5s\tremaining: 35.4s\n",
      "600:\tlearn: 0.0050841\ttotal: 41.8s\tremaining: 27.8s\n",
      "700:\tlearn: 0.0016011\ttotal: 48.4s\tremaining: 20.7s\n",
      "800:\tlearn: 0.0004401\ttotal: 55.6s\tremaining: 13.8s\n",
      "900:\tlearn: 0.0001420\ttotal: 1m 2s\tremaining: 6.9s\n",
      "999:\tlearn: 0.0000400\ttotal: 1m 9s\tremaining: 0us\n",
      "0:\tlearn: 35.1596819\ttotal: 1.32ms\tremaining: 1.32s\n",
      "100:\tlearn: 23.7916639\ttotal: 110ms\tremaining: 980ms\n",
      "200:\tlearn: 23.0526660\ttotal: 215ms\tremaining: 853ms\n",
      "300:\tlearn: 22.6333465\ttotal: 324ms\tremaining: 753ms\n",
      "400:\tlearn: 22.3166854\ttotal: 435ms\tremaining: 649ms\n",
      "500:\tlearn: 22.0599195\ttotal: 539ms\tremaining: 536ms\n",
      "600:\tlearn: 21.8459620\ttotal: 641ms\tremaining: 425ms\n",
      "700:\tlearn: 21.6653473\ttotal: 745ms\tremaining: 318ms\n",
      "800:\tlearn: 21.5037219\ttotal: 847ms\tremaining: 211ms\n",
      "900:\tlearn: 21.3640434\ttotal: 958ms\tremaining: 105ms\n",
      "999:\tlearn: 21.2403299\ttotal: 1.06s\tremaining: 0us\n",
      "CPU times: user 5min 5s, sys: 1.9 s, total: 5min 7s\n",
      "Wall time: 5min 17s\n"
     ]
    },
    {
     "data": {
      "text/plain": [
       "GridSearchCV(cv=TimeSeriesSplit(gap=0, max_train_size=None, n_splits=3, test_size=None),\n",
       "             estimator=<catboost.core.CatBoostRegressor object at 0x7effbf24a0d0>,\n",
       "             param_grid={'depth': [1, 10], 'learning_rate': array([0.1, 0.3])},\n",
       "             scoring='neg_root_mean_squared_error')"
      ]
     },
     "execution_count": 27,
     "metadata": {},
     "output_type": "execute_result"
    }
   ],
   "source": [
    "%%time\n",
    "\n",
    "catboost = CatBoostRegressor(loss_function='RMSE',verbose=100)\n",
    "parameters_cat = {'depth':[1,10], 'learning_rate':np.arange(0.1,0.5,0.2)}\n",
    "tscv = TimeSeriesSplit(n_splits=3)\n",
    "search_cat = GridSearchCV(catboost, \n",
    "                      parameters_cat,\n",
    "                      cv=tscv, \n",
    "                      scoring='neg_root_mean_squared_error')\n",
    "\n",
    "search_cat.fit(features_train, target_train)"
   ]
  },
  {
   "cell_type": "code",
   "execution_count": 28,
   "metadata": {
    "scrolled": true
   },
   "outputs": [
    {
     "name": "stdout",
     "output_type": "stream",
     "text": [
      "Лучшее значение RMSE для CatBoostRegressor: 25.46647961440716\n",
      " при значениях гиперпараметров: {'depth': 1, 'learning_rate': 0.1}\n"
     ]
    }
   ],
   "source": [
    "print('Лучшее значение RMSE для CatBoostRegressor: {}'\n",
    "      '\\n при значениях гиперпараметров: {}'.format(-search_cat.best_score_,search_cat.best_params_))"
   ]
  },
  {
   "cell_type": "code",
   "execution_count": 29,
   "metadata": {},
   "outputs": [],
   "source": [
    "rmse_cat = -search_cat.best_score_"
   ]
  },
  {
   "cell_type": "code",
   "execution_count": 30,
   "metadata": {},
   "outputs": [],
   "source": [
    "best_rmse.append(rmse_cat)"
   ]
  },
  {
   "cell_type": "code",
   "execution_count": 31,
   "metadata": {},
   "outputs": [],
   "source": [
    "best_rmse_tab = pd.DataFrame(best_rmse, index=['Линейная регрессия', ' LightGBT', 'CatBoost'], columns=['RMSE']).T"
   ]
  },
  {
   "cell_type": "code",
   "execution_count": 32,
   "metadata": {},
   "outputs": [
    {
     "data": {
      "text/html": [
       "<div>\n",
       "<style scoped>\n",
       "    .dataframe tbody tr th:only-of-type {\n",
       "        vertical-align: middle;\n",
       "    }\n",
       "\n",
       "    .dataframe tbody tr th {\n",
       "        vertical-align: top;\n",
       "    }\n",
       "\n",
       "    .dataframe thead th {\n",
       "        text-align: right;\n",
       "    }\n",
       "</style>\n",
       "<table border=\"1\" class=\"dataframe\">\n",
       "  <thead>\n",
       "    <tr style=\"text-align: right;\">\n",
       "      <th></th>\n",
       "      <th>Линейная регрессия</th>\n",
       "      <th>LightGBT</th>\n",
       "      <th>CatBoost</th>\n",
       "    </tr>\n",
       "  </thead>\n",
       "  <tbody>\n",
       "    <tr>\n",
       "      <th>RMSE</th>\n",
       "      <td>34.32544</td>\n",
       "      <td>24.628602</td>\n",
       "      <td>25.46648</td>\n",
       "    </tr>\n",
       "  </tbody>\n",
       "</table>\n",
       "</div>"
      ],
      "text/plain": [
       "      Линейная регрессия   LightGBT  CatBoost\n",
       "RMSE            34.32544  24.628602  25.46648"
      ]
     },
     "execution_count": 32,
     "metadata": {},
     "output_type": "execute_result"
    }
   ],
   "source": [
    "best_rmse_tab"
   ]
  },
  {
   "cell_type": "markdown",
   "metadata": {},
   "source": [
    "По показателям RMSE на валидационной выборке лучше всех у LightGBT - 24.62 c гиперпараметрами: 'max_depth': 4\n",
    "    \n",
    "    На этой моделе и будем проверять тестовую выборку"
   ]
  },
  {
   "cell_type": "markdown",
   "metadata": {},
   "source": [
    "## Тестирование"
   ]
  },
  {
   "cell_type": "code",
   "execution_count": 58,
   "metadata": {},
   "outputs": [
    {
     "data": {
      "text/plain": [
       "LGBMRegressor(max_depth=4)"
      ]
     },
     "execution_count": 58,
     "metadata": {},
     "output_type": "execute_result"
    }
   ],
   "source": [
    "lgb_model = lgb.LGBMRegressor(max_depth=4)\n",
    "lgb_model.fit(features_train, target_train)"
   ]
  },
  {
   "cell_type": "code",
   "execution_count": 59,
   "metadata": {
    "scrolled": true
   },
   "outputs": [
    {
     "name": "stdout",
     "output_type": "stream",
     "text": [
      "RMSE на тестовой выборке:  50.206895423389106\n"
     ]
    }
   ],
   "source": [
    "pred_lgb=lgb_model.predict(features_test)\n",
    "rmse_lgb = mean_squared_error(target_test,pred_lgb)**0.5 \n",
    "print('RMSE на тестовой выборке: ', rmse_lgb)"
   ]
  },
  {
   "cell_type": "code",
   "execution_count": 56,
   "metadata": {},
   "outputs": [
    {
     "data": {
      "text/html": [
       "<div>\n",
       "<style scoped>\n",
       "    .dataframe tbody tr th:only-of-type {\n",
       "        vertical-align: middle;\n",
       "    }\n",
       "\n",
       "    .dataframe tbody tr th {\n",
       "        vertical-align: top;\n",
       "    }\n",
       "\n",
       "    .dataframe thead th {\n",
       "        text-align: right;\n",
       "    }\n",
       "</style>\n",
       "<table border=\"1\" class=\"dataframe\">\n",
       "  <thead>\n",
       "    <tr style=\"text-align: right;\">\n",
       "      <th></th>\n",
       "      <th>mean_fit_time</th>\n",
       "      <th>std_fit_time</th>\n",
       "      <th>mean_score_time</th>\n",
       "      <th>std_score_time</th>\n",
       "      <th>param_max_depth</th>\n",
       "      <th>params</th>\n",
       "      <th>split0_test_score</th>\n",
       "      <th>split1_test_score</th>\n",
       "      <th>split2_test_score</th>\n",
       "      <th>mean_test_score</th>\n",
       "      <th>std_test_score</th>\n",
       "      <th>rank_test_score</th>\n",
       "    </tr>\n",
       "  </thead>\n",
       "  <tbody>\n",
       "    <tr>\n",
       "      <th>0</th>\n",
       "      <td>36.089847</td>\n",
       "      <td>2.112887</td>\n",
       "      <td>0.038052</td>\n",
       "      <td>0.036454</td>\n",
       "      <td>2</td>\n",
       "      <td>{'max_depth': 2}</td>\n",
       "      <td>-23.069713</td>\n",
       "      <td>-23.874385</td>\n",
       "      <td>-27.941283</td>\n",
       "      <td>-24.961794</td>\n",
       "      <td>2.132274</td>\n",
       "      <td>4</td>\n",
       "    </tr>\n",
       "    <tr>\n",
       "      <th>1</th>\n",
       "      <td>89.099028</td>\n",
       "      <td>6.876897</td>\n",
       "      <td>0.063730</td>\n",
       "      <td>0.036790</td>\n",
       "      <td>4</td>\n",
       "      <td>{'max_depth': 4}</td>\n",
       "      <td>-22.996916</td>\n",
       "      <td>-23.645920</td>\n",
       "      <td>-27.242970</td>\n",
       "      <td>-24.628602</td>\n",
       "      <td>1.867528</td>\n",
       "      <td>1</td>\n",
       "    </tr>\n",
       "    <tr>\n",
       "      <th>2</th>\n",
       "      <td>194.129746</td>\n",
       "      <td>23.959317</td>\n",
       "      <td>0.037939</td>\n",
       "      <td>0.038317</td>\n",
       "      <td>6</td>\n",
       "      <td>{'max_depth': 6}</td>\n",
       "      <td>-23.475004</td>\n",
       "      <td>-23.593495</td>\n",
       "      <td>-26.870543</td>\n",
       "      <td>-24.646347</td>\n",
       "      <td>1.573488</td>\n",
       "      <td>2</td>\n",
       "    </tr>\n",
       "    <tr>\n",
       "      <th>3</th>\n",
       "      <td>228.132122</td>\n",
       "      <td>40.721541</td>\n",
       "      <td>0.066138</td>\n",
       "      <td>0.036820</td>\n",
       "      <td>8</td>\n",
       "      <td>{'max_depth': 8}</td>\n",
       "      <td>-23.821422</td>\n",
       "      <td>-24.147386</td>\n",
       "      <td>-27.147735</td>\n",
       "      <td>-25.038848</td>\n",
       "      <td>1.497135</td>\n",
       "      <td>5</td>\n",
       "    </tr>\n",
       "    <tr>\n",
       "      <th>4</th>\n",
       "      <td>242.697049</td>\n",
       "      <td>20.364126</td>\n",
       "      <td>0.067022</td>\n",
       "      <td>0.035611</td>\n",
       "      <td>10</td>\n",
       "      <td>{'max_depth': 10}</td>\n",
       "      <td>-23.347369</td>\n",
       "      <td>-23.638222</td>\n",
       "      <td>-27.035764</td>\n",
       "      <td>-24.673785</td>\n",
       "      <td>1.674387</td>\n",
       "      <td>3</td>\n",
       "    </tr>\n",
       "  </tbody>\n",
       "</table>\n",
       "</div>"
      ],
      "text/plain": [
       "   mean_fit_time  std_fit_time  mean_score_time  std_score_time  \\\n",
       "0      36.089847      2.112887         0.038052        0.036454   \n",
       "1      89.099028      6.876897         0.063730        0.036790   \n",
       "2     194.129746     23.959317         0.037939        0.038317   \n",
       "3     228.132122     40.721541         0.066138        0.036820   \n",
       "4     242.697049     20.364126         0.067022        0.035611   \n",
       "\n",
       "  param_max_depth             params  split0_test_score  split1_test_score  \\\n",
       "0               2   {'max_depth': 2}         -23.069713         -23.874385   \n",
       "1               4   {'max_depth': 4}         -22.996916         -23.645920   \n",
       "2               6   {'max_depth': 6}         -23.475004         -23.593495   \n",
       "3               8   {'max_depth': 8}         -23.821422         -24.147386   \n",
       "4              10  {'max_depth': 10}         -23.347369         -23.638222   \n",
       "\n",
       "   split2_test_score  mean_test_score  std_test_score  rank_test_score  \n",
       "0         -27.941283       -24.961794        2.132274                4  \n",
       "1         -27.242970       -24.628602        1.867528                1  \n",
       "2         -26.870543       -24.646347        1.573488                2  \n",
       "3         -27.147735       -25.038848        1.497135                5  \n",
       "4         -27.035764       -24.673785        1.674387                3  "
      ]
     },
     "execution_count": 56,
     "metadata": {},
     "output_type": "execute_result"
    }
   ],
   "source": [
    "result_LGB"
   ]
  },
  {
   "cell_type": "markdown",
   "metadata": {},
   "source": [
    "Так как с лучшими гиперпараметрами у меня метрика RMSE не выходила в нужнй диапазон, я более детально просмотрел результат подбора параметров, оказалось, что второй вариант 24,64 отличается на сотые от лучшего 24,62, показатель max_depth = 6, попробую тестовую модель с этим гиперпараметром"
   ]
  },
  {
   "cell_type": "code",
   "execution_count": 57,
   "metadata": {},
   "outputs": [
    {
     "name": "stdout",
     "output_type": "stream",
     "text": [
      "RMSE на тестовой выборке:  47.504506349809404\n"
     ]
    }
   ],
   "source": [
    "lgb_model_2 = lgb.LGBMRegressor(max_depth=6)\n",
    "lgb_model_2.fit(features_train, target_train)\n",
    "pred_lgb_2=lgb_model_2.predict(features_test)\n",
    "rmse_lgb_2 = mean_squared_error(target_test,pred_lgb_2)**0.5 \n",
    "print('RMSE на тестовой выборке: ', rmse_lgb_2)"
   ]
  },
  {
   "cell_type": "code",
   "execution_count": 60,
   "metadata": {},
   "outputs": [],
   "source": [
    "pred_plot=pd.DataFrame(target_test, columns = ['relly'])"
   ]
  },
  {
   "cell_type": "code",
   "execution_count": 61,
   "metadata": {},
   "outputs": [],
   "source": [
    "pred_plot['pred_lgb']=pred_lgb_2"
   ]
  },
  {
   "cell_type": "code",
   "execution_count": 62,
   "metadata": {},
   "outputs": [
    {
     "data": {
      "image/png": "[encoded data removed]",
      "text/plain": [
       "<Figure size 1080x432 with 1 Axes>"
      ]
     },
     "metadata": {
      "needs_background": "light"
     },
     "output_type": "display_data"
    }
   ],
   "source": [
    "pred_plot.plot(figsize=(15, 6))\n",
    "plt.show()"
   ]
  },
  {
   "cell_type": "markdown",
   "metadata": {},
   "source": [
    "## Вывод"
   ]
  },
  {
   "cell_type": "markdown",
   "metadata": {},
   "source": [
    "Проведя исследования и обработав даные, я сгрупировал количество заказов по часу.\n",
    "Проверил что данные монотонные. Сделал их стационарным\n",
    "При выборе модели лучшей оказалась LightGBT, которая на тестовой выборке выдала показатель 'RMSE - 47.5', что не противоречит условию задания. \n",
    "Что бы добиться улучшения показателя пришлось увеличить показатель 'max_lag' и 'rolling_mean_size' до 24, а так же при проверке тестовой выборки, более детально подобрать гиперпараметр."
   ]
  }
 ],
 "metadata": {
  "ExecuteTimeLog": [
   {
    "duration": 356,
    "start_time": "2022-11-15T22:02:20.331Z"
   },
   {
    "duration": 47,
    "start_time": "2022-11-15T22:04:15.383Z"
   },
   {
    "duration": 120,
    "start_time": "2022-11-15T22:04:18.906Z"
   },
   {
    "duration": 12,
    "start_time": "2022-11-15T22:04:22.285Z"
   },
   {
    "duration": 6,
    "start_time": "2022-11-15T22:04:32.612Z"
   },
   {
    "duration": 8,
    "start_time": "2022-11-15T22:05:14.097Z"
   },
   {
    "duration": 9,
    "start_time": "2022-11-15T22:05:19.683Z"
   },
   {
    "duration": 6,
    "start_time": "2022-11-15T22:11:01.637Z"
   },
   {
    "duration": 11,
    "start_time": "2022-11-15T22:11:06.121Z"
   },
   {
    "duration": 5,
    "start_time": "2022-11-15T22:11:18.335Z"
   },
   {
    "duration": 9,
    "start_time": "2022-11-15T22:11:18.860Z"
   },
   {
    "duration": 6,
    "start_time": "2022-11-15T22:11:36.171Z"
   },
   {
    "duration": 11,
    "start_time": "2022-11-15T22:11:36.521Z"
   },
   {
    "duration": 3,
    "start_time": "2022-11-15T22:12:02.844Z"
   },
   {
    "duration": 598,
    "start_time": "2022-11-15T22:12:10.412Z"
   },
   {
    "duration": 344,
    "start_time": "2022-11-18T00:23:20.465Z"
   },
   {
    "duration": 119,
    "start_time": "2022-11-18T00:23:20.810Z"
   },
   {
    "duration": 14,
    "start_time": "2022-11-18T00:23:20.931Z"
   },
   {
    "duration": 10,
    "start_time": "2022-11-18T00:23:20.947Z"
   },
   {
    "duration": 7,
    "start_time": "2022-11-18T00:23:20.959Z"
   },
   {
    "duration": 11,
    "start_time": "2022-11-18T00:23:20.967Z"
   },
   {
    "duration": 13,
    "start_time": "2022-11-18T00:23:20.979Z"
   },
   {
    "duration": 657,
    "start_time": "2022-11-18T00:23:20.993Z"
   },
   {
    "duration": 4,
    "start_time": "2022-11-18T00:24:40.028Z"
   },
   {
    "duration": 4,
    "start_time": "2022-11-18T00:27:24.007Z"
   },
   {
    "duration": 6,
    "start_time": "2022-11-18T00:29:20.026Z"
   },
   {
    "duration": 10,
    "start_time": "2022-11-18T00:29:20.541Z"
   },
   {
    "duration": 422,
    "start_time": "2022-11-18T00:29:35.946Z"
   },
   {
    "duration": 44,
    "start_time": "2022-11-18T00:29:36.370Z"
   },
   {
    "duration": 14,
    "start_time": "2022-11-18T00:29:36.416Z"
   },
   {
    "duration": 3,
    "start_time": "2022-11-18T00:29:36.432Z"
   },
   {
    "duration": 9,
    "start_time": "2022-11-18T00:29:36.436Z"
   },
   {
    "duration": 8,
    "start_time": "2022-11-18T00:29:36.446Z"
   },
   {
    "duration": 425,
    "start_time": "2022-11-18T00:29:36.455Z"
   },
   {
    "duration": 5,
    "start_time": "2022-11-18T00:31:25.126Z"
   },
   {
    "duration": 10,
    "start_time": "2022-11-18T00:31:25.526Z"
   },
   {
    "duration": 491,
    "start_time": "2022-11-18T00:35:31.218Z"
   },
   {
    "duration": 7,
    "start_time": "2022-11-18T00:35:59.390Z"
   },
   {
    "duration": 6,
    "start_time": "2022-11-18T00:36:14.532Z"
   },
   {
    "duration": 6,
    "start_time": "2022-11-18T00:36:23.943Z"
   },
   {
    "duration": 6,
    "start_time": "2022-11-18T00:36:31.380Z"
   },
   {
    "duration": 91,
    "start_time": "2022-11-18T00:37:50.760Z"
   },
   {
    "duration": 11,
    "start_time": "2022-11-18T00:38:29.220Z"
   },
   {
    "duration": 3,
    "start_time": "2022-11-18T00:38:58.282Z"
   },
   {
    "duration": 9,
    "start_time": "2022-11-18T00:39:02.280Z"
   },
   {
    "duration": 2,
    "start_time": "2022-11-18T00:39:30.200Z"
   },
   {
    "duration": 465,
    "start_time": "2022-11-18T00:39:32.891Z"
   },
   {
    "duration": 6,
    "start_time": "2022-11-18T00:40:36.352Z"
   },
   {
    "duration": 359,
    "start_time": "2022-11-18T00:40:37.164Z"
   },
   {
    "duration": 374,
    "start_time": "2022-11-18T00:41:29.119Z"
   },
   {
    "duration": 5,
    "start_time": "2022-11-18T00:43:56.186Z"
   },
   {
    "duration": 9,
    "start_time": "2022-11-18T00:43:56.671Z"
   },
   {
    "duration": 445,
    "start_time": "2022-11-18T00:43:57.416Z"
   },
   {
    "duration": 9,
    "start_time": "2022-11-18T00:44:08.308Z"
   },
   {
    "duration": 7,
    "start_time": "2022-11-18T00:44:26.577Z"
   },
   {
    "duration": 9,
    "start_time": "2022-11-18T00:44:27.725Z"
   },
   {
    "duration": 1044,
    "start_time": "2022-11-18T00:44:39.667Z"
   },
   {
    "duration": 45,
    "start_time": "2022-11-18T00:44:40.713Z"
   },
   {
    "duration": 10,
    "start_time": "2022-11-18T00:44:40.760Z"
   },
   {
    "duration": 5,
    "start_time": "2022-11-18T00:44:40.772Z"
   },
   {
    "duration": 11,
    "start_time": "2022-11-18T00:44:40.779Z"
   },
   {
    "duration": 8,
    "start_time": "2022-11-18T00:44:40.791Z"
   },
   {
    "duration": 5,
    "start_time": "2022-11-18T00:44:40.800Z"
   },
   {
    "duration": 15,
    "start_time": "2022-11-18T00:44:40.807Z"
   },
   {
    "duration": 117,
    "start_time": "2022-11-18T00:44:40.824Z"
   },
   {
    "duration": 0,
    "start_time": "2022-11-18T00:44:40.943Z"
   },
   {
    "duration": 0,
    "start_time": "2022-11-18T00:44:40.944Z"
   },
   {
    "duration": 0,
    "start_time": "2022-11-18T00:44:40.945Z"
   },
   {
    "duration": 10,
    "start_time": "2022-11-18T00:45:11.087Z"
   },
   {
    "duration": 9,
    "start_time": "2022-11-18T00:45:24.355Z"
   },
   {
    "duration": 1080,
    "start_time": "2022-11-18T00:45:39.006Z"
   },
   {
    "duration": 46,
    "start_time": "2022-11-18T00:45:40.088Z"
   },
   {
    "duration": 11,
    "start_time": "2022-11-18T00:45:40.136Z"
   },
   {
    "duration": 4,
    "start_time": "2022-11-18T00:45:40.149Z"
   },
   {
    "duration": 11,
    "start_time": "2022-11-18T00:45:40.154Z"
   },
   {
    "duration": 8,
    "start_time": "2022-11-18T00:45:40.166Z"
   },
   {
    "duration": 8,
    "start_time": "2022-11-18T00:45:40.175Z"
   },
   {
    "duration": 512,
    "start_time": "2022-11-18T00:45:40.184Z"
   },
   {
    "duration": 7,
    "start_time": "2022-11-18T00:45:40.697Z"
   },
   {
    "duration": 7,
    "start_time": "2022-11-18T00:45:40.706Z"
   },
   {
    "duration": 474,
    "start_time": "2022-11-18T00:47:28.432Z"
   },
   {
    "duration": 402,
    "start_time": "2022-11-18T00:51:49.076Z"
   },
   {
    "duration": 373,
    "start_time": "2022-11-18T00:53:28.986Z"
   },
   {
    "duration": 1049,
    "start_time": "2022-11-18T00:54:11.443Z"
   },
   {
    "duration": 55,
    "start_time": "2022-11-18T00:54:12.494Z"
   },
   {
    "duration": 14,
    "start_time": "2022-11-18T00:54:12.551Z"
   },
   {
    "duration": 4,
    "start_time": "2022-11-18T00:54:12.568Z"
   },
   {
    "duration": 12,
    "start_time": "2022-11-18T00:54:12.574Z"
   },
   {
    "duration": 11,
    "start_time": "2022-11-18T00:54:12.587Z"
   },
   {
    "duration": 106,
    "start_time": "2022-11-18T00:54:12.600Z"
   },
   {
    "duration": 0,
    "start_time": "2022-11-18T00:54:12.708Z"
   },
   {
    "duration": 0,
    "start_time": "2022-11-18T00:54:12.709Z"
   },
   {
    "duration": 1018,
    "start_time": "2022-11-18T00:54:46.960Z"
   },
   {
    "duration": 44,
    "start_time": "2022-11-18T00:54:47.980Z"
   },
   {
    "duration": 11,
    "start_time": "2022-11-18T00:54:48.025Z"
   },
   {
    "duration": 5,
    "start_time": "2022-11-18T00:54:48.038Z"
   },
   {
    "duration": 10,
    "start_time": "2022-11-18T00:54:48.045Z"
   },
   {
    "duration": 8,
    "start_time": "2022-11-18T00:54:48.056Z"
   },
   {
    "duration": 12,
    "start_time": "2022-11-18T00:54:48.065Z"
   },
   {
    "duration": 8,
    "start_time": "2022-11-18T00:54:48.078Z"
   },
   {
    "duration": 560,
    "start_time": "2022-11-18T00:54:48.087Z"
   },
   {
    "duration": 5,
    "start_time": "2022-11-18T00:55:56.061Z"
   },
   {
    "duration": 383,
    "start_time": "2022-11-18T00:55:59.839Z"
   },
   {
    "duration": 381,
    "start_time": "2022-11-18T00:56:43.977Z"
   },
   {
    "duration": 9,
    "start_time": "2022-11-18T01:01:16.472Z"
   },
   {
    "duration": 6,
    "start_time": "2022-11-18T01:01:19.929Z"
   },
   {
    "duration": 8,
    "start_time": "2022-11-18T01:01:30.209Z"
   },
   {
    "duration": 4,
    "start_time": "2022-11-18T01:05:47.598Z"
   },
   {
    "duration": 29,
    "start_time": "2022-11-18T01:05:59.068Z"
   },
   {
    "duration": 3,
    "start_time": "2022-11-18T01:07:08.952Z"
   },
   {
    "duration": 23,
    "start_time": "2022-11-18T01:07:09.295Z"
   },
   {
    "duration": 3,
    "start_time": "2022-11-18T01:08:02.728Z"
   },
   {
    "duration": 16,
    "start_time": "2022-11-18T01:08:03.971Z"
   },
   {
    "duration": 234,
    "start_time": "2022-11-18T01:11:15.762Z"
   },
   {
    "duration": 47,
    "start_time": "2022-11-18T01:12:37.855Z"
   },
   {
    "duration": 49,
    "start_time": "2022-11-18T01:12:43.895Z"
   },
   {
    "duration": 50,
    "start_time": "2022-11-18T01:12:54.505Z"
   },
   {
    "duration": 246,
    "start_time": "2022-11-18T01:13:36.244Z"
   },
   {
    "duration": 10,
    "start_time": "2022-11-18T01:13:48.792Z"
   },
   {
    "duration": 165,
    "start_time": "2022-11-18T01:13:58.206Z"
   },
   {
    "duration": 8,
    "start_time": "2022-11-18T01:14:10.823Z"
   },
   {
    "duration": 9,
    "start_time": "2022-11-18T01:14:52.765Z"
   },
   {
    "duration": 149,
    "start_time": "2022-11-18T01:15:18.346Z"
   },
   {
    "duration": 216,
    "start_time": "2022-11-18T01:15:25.172Z"
   },
   {
    "duration": 9,
    "start_time": "2022-11-18T01:16:28.305Z"
   },
   {
    "duration": 183,
    "start_time": "2022-11-18T01:17:11.359Z"
   },
   {
    "duration": 202,
    "start_time": "2022-11-18T01:27:08.572Z"
   },
   {
    "duration": 211,
    "start_time": "2022-11-18T01:27:22.455Z"
   },
   {
    "duration": 168,
    "start_time": "2022-11-18T01:28:13.786Z"
   },
   {
    "duration": 153,
    "start_time": "2022-11-18T01:28:50.137Z"
   },
   {
    "duration": 155,
    "start_time": "2022-11-18T01:28:54.144Z"
   },
   {
    "duration": 150,
    "start_time": "2022-11-18T01:29:04.823Z"
   },
   {
    "duration": 148,
    "start_time": "2022-11-18T01:29:12.787Z"
   },
   {
    "duration": 231,
    "start_time": "2022-11-18T01:29:18.404Z"
   },
   {
    "duration": 338,
    "start_time": "2022-11-18T01:30:27.052Z"
   },
   {
    "duration": 291,
    "start_time": "2022-11-18T01:31:39.509Z"
   },
   {
    "duration": 290,
    "start_time": "2022-11-18T01:31:56.775Z"
   },
   {
    "duration": 306,
    "start_time": "2022-11-18T01:32:19.109Z"
   },
   {
    "duration": 289,
    "start_time": "2022-11-18T01:32:29.728Z"
   },
   {
    "duration": 370,
    "start_time": "2022-11-18T01:32:48.549Z"
   },
   {
    "duration": 252,
    "start_time": "2022-11-18T01:32:55.622Z"
   },
   {
    "duration": 279,
    "start_time": "2022-11-18T01:33:07.288Z"
   },
   {
    "duration": 264,
    "start_time": "2022-11-18T01:33:11.404Z"
   },
   {
    "duration": 284,
    "start_time": "2022-11-18T01:33:14.797Z"
   },
   {
    "duration": 255,
    "start_time": "2022-11-18T01:34:38.729Z"
   },
   {
    "duration": 268,
    "start_time": "2022-11-18T01:34:46.051Z"
   },
   {
    "duration": 10,
    "start_time": "2022-11-18T01:38:59.375Z"
   },
   {
    "duration": 10,
    "start_time": "2022-11-18T01:39:20.060Z"
   },
   {
    "duration": 9,
    "start_time": "2022-11-18T01:39:35.976Z"
   },
   {
    "duration": 6,
    "start_time": "2022-11-18T01:39:57.530Z"
   },
   {
    "duration": 10,
    "start_time": "2022-11-18T01:40:01.616Z"
   },
   {
    "duration": 229,
    "start_time": "2022-11-18T01:40:11.692Z"
   },
   {
    "duration": 234,
    "start_time": "2022-11-18T01:40:39.101Z"
   },
   {
    "duration": 329,
    "start_time": "2022-11-18T01:43:08.729Z"
   },
   {
    "duration": 11,
    "start_time": "2022-11-18T01:43:11.218Z"
   },
   {
    "duration": 6,
    "start_time": "2022-11-18T01:43:11.858Z"
   },
   {
    "duration": 235,
    "start_time": "2022-11-18T01:43:12.476Z"
   },
   {
    "duration": 222,
    "start_time": "2022-11-18T01:52:46.314Z"
   },
   {
    "duration": 45,
    "start_time": "2022-11-18T01:52:48.413Z"
   },
   {
    "duration": 3,
    "start_time": "2022-11-18T01:52:48.645Z"
   },
   {
    "duration": 15,
    "start_time": "2022-11-18T01:52:48.814Z"
   },
   {
    "duration": 7,
    "start_time": "2022-11-18T01:52:49.312Z"
   },
   {
    "duration": 8,
    "start_time": "2022-11-18T01:52:49.517Z"
   },
   {
    "duration": 174,
    "start_time": "2022-11-18T01:52:49.671Z"
   },
   {
    "duration": 7,
    "start_time": "2022-11-18T01:52:50.724Z"
   },
   {
    "duration": 398,
    "start_time": "2022-11-18T01:52:50.919Z"
   },
   {
    "duration": 283,
    "start_time": "2022-11-18T01:52:51.322Z"
   },
   {
    "duration": 10,
    "start_time": "2022-11-18T01:52:52.103Z"
   },
   {
    "duration": 6,
    "start_time": "2022-11-18T01:52:52.426Z"
   },
   {
    "duration": 334,
    "start_time": "2022-11-18T01:52:52.930Z"
   },
   {
    "duration": 17,
    "start_time": "2022-11-18T01:56:47.129Z"
   },
   {
    "duration": 4,
    "start_time": "2022-11-18T01:56:48.578Z"
   },
   {
    "duration": 8,
    "start_time": "2022-11-18T01:56:49.149Z"
   },
   {
    "duration": 18,
    "start_time": "2022-11-18T01:56:55.444Z"
   },
   {
    "duration": 5,
    "start_time": "2022-11-18T02:01:09.172Z"
   },
   {
    "duration": 9,
    "start_time": "2022-11-18T02:01:12.165Z"
   },
   {
    "duration": 5,
    "start_time": "2022-11-18T02:01:25.170Z"
   },
   {
    "duration": 4,
    "start_time": "2022-11-18T02:02:05.676Z"
   },
   {
    "duration": 4,
    "start_time": "2022-11-18T02:02:21.013Z"
   },
   {
    "duration": 5,
    "start_time": "2022-11-18T02:02:47.726Z"
   },
   {
    "duration": 5,
    "start_time": "2022-11-18T02:03:03.555Z"
   },
   {
    "duration": 5,
    "start_time": "2022-11-18T02:03:54.386Z"
   },
   {
    "duration": 98,
    "start_time": "2022-11-18T02:11:39.851Z"
   },
   {
    "duration": 3,
    "start_time": "2022-11-18T02:14:17.503Z"
   },
   {
    "duration": 3,
    "start_time": "2022-11-18T02:16:27.432Z"
   },
   {
    "duration": 102,
    "start_time": "2022-11-18T02:16:55.075Z"
   },
   {
    "duration": 110,
    "start_time": "2022-11-18T02:17:11.992Z"
   },
   {
    "duration": 121,
    "start_time": "2022-11-18T02:18:59.517Z"
   },
   {
    "duration": 1334,
    "start_time": "2022-11-18T02:19:13.841Z"
   },
   {
    "duration": 53,
    "start_time": "2022-11-18T02:19:15.178Z"
   },
   {
    "duration": 7,
    "start_time": "2022-11-18T02:19:15.233Z"
   },
   {
    "duration": 36,
    "start_time": "2022-11-18T02:19:15.242Z"
   },
   {
    "duration": 9,
    "start_time": "2022-11-18T02:19:15.280Z"
   },
   {
    "duration": 14,
    "start_time": "2022-11-18T02:19:15.291Z"
   },
   {
    "duration": 252,
    "start_time": "2022-11-18T02:19:15.307Z"
   },
   {
    "duration": 7,
    "start_time": "2022-11-18T02:19:15.560Z"
   },
   {
    "duration": 444,
    "start_time": "2022-11-18T02:19:15.568Z"
   },
   {
    "duration": 337,
    "start_time": "2022-11-18T02:19:16.014Z"
   },
   {
    "duration": 10,
    "start_time": "2022-11-18T02:19:16.353Z"
   },
   {
    "duration": 14,
    "start_time": "2022-11-18T02:19:16.365Z"
   },
   {
    "duration": 277,
    "start_time": "2022-11-18T02:19:16.380Z"
   },
   {
    "duration": 4,
    "start_time": "2022-11-18T02:19:16.659Z"
   },
   {
    "duration": 11,
    "start_time": "2022-11-18T02:19:16.664Z"
   },
   {
    "duration": 17,
    "start_time": "2022-11-18T02:19:16.676Z"
   },
   {
    "duration": 8,
    "start_time": "2022-11-18T02:19:16.694Z"
   },
   {
    "duration": 4,
    "start_time": "2022-11-18T02:19:16.721Z"
   },
   {
    "duration": 7,
    "start_time": "2022-11-18T02:19:16.727Z"
   },
   {
    "duration": 7,
    "start_time": "2022-11-18T02:19:16.735Z"
   },
   {
    "duration": 8,
    "start_time": "2022-11-18T02:19:16.744Z"
   },
   {
    "duration": 7,
    "start_time": "2022-11-18T02:19:16.754Z"
   },
   {
    "duration": 155,
    "start_time": "2022-11-18T02:19:16.763Z"
   },
   {
    "duration": 8,
    "start_time": "2022-11-18T02:21:13.415Z"
   },
   {
    "duration": 6,
    "start_time": "2022-11-18T02:21:14.225Z"
   },
   {
    "duration": 4,
    "start_time": "2022-11-18T02:21:14.547Z"
   },
   {
    "duration": 5,
    "start_time": "2022-11-18T02:21:14.800Z"
   },
   {
    "duration": 6,
    "start_time": "2022-11-18T02:21:15.566Z"
   },
   {
    "duration": 11,
    "start_time": "2022-11-18T02:21:17.556Z"
   },
   {
    "duration": 3,
    "start_time": "2022-11-18T02:21:52.475Z"
   },
   {
    "duration": 11,
    "start_time": "2022-11-18T02:21:53.863Z"
   },
   {
    "duration": 12,
    "start_time": "2022-11-18T02:22:51.601Z"
   },
   {
    "duration": 3,
    "start_time": "2022-11-18T02:22:52.919Z"
   },
   {
    "duration": 46,
    "start_time": "2022-11-18T02:24:19.699Z"
   },
   {
    "duration": 3,
    "start_time": "2022-11-18T02:24:47.270Z"
   },
   {
    "duration": 58,
    "start_time": "2022-11-18T02:24:51.047Z"
   },
   {
    "duration": 3,
    "start_time": "2022-11-18T02:25:14.277Z"
   },
   {
    "duration": 71879,
    "start_time": "2022-11-18T02:25:17.885Z"
   },
   {
    "duration": 3,
    "start_time": "2022-11-18T02:26:29.766Z"
   },
   {
    "duration": 67,
    "start_time": "2022-11-18T02:30:24.826Z"
   },
   {
    "duration": 1342,
    "start_time": "2022-11-18T02:31:13.227Z"
   },
   {
    "duration": 47,
    "start_time": "2022-11-18T02:31:14.571Z"
   },
   {
    "duration": 4,
    "start_time": "2022-11-18T02:31:14.621Z"
   },
   {
    "duration": 27,
    "start_time": "2022-11-18T02:31:14.626Z"
   },
   {
    "duration": 8,
    "start_time": "2022-11-18T02:31:14.654Z"
   },
   {
    "duration": 9,
    "start_time": "2022-11-18T02:31:14.664Z"
   },
   {
    "duration": 231,
    "start_time": "2022-11-18T02:31:14.674Z"
   },
   {
    "duration": 14,
    "start_time": "2022-11-18T02:31:14.907Z"
   },
   {
    "duration": 477,
    "start_time": "2022-11-18T02:31:14.923Z"
   },
   {
    "duration": 342,
    "start_time": "2022-11-18T02:31:15.401Z"
   },
   {
    "duration": 11,
    "start_time": "2022-11-18T02:31:15.745Z"
   },
   {
    "duration": 8,
    "start_time": "2022-11-18T02:31:15.757Z"
   },
   {
    "duration": 261,
    "start_time": "2022-11-18T02:31:15.766Z"
   },
   {
    "duration": 4,
    "start_time": "2022-11-18T02:31:16.029Z"
   },
   {
    "duration": 14,
    "start_time": "2022-11-18T02:31:16.034Z"
   },
   {
    "duration": 17,
    "start_time": "2022-11-18T02:31:16.049Z"
   },
   {
    "duration": 3,
    "start_time": "2022-11-18T02:31:16.067Z"
   },
   {
    "duration": 8,
    "start_time": "2022-11-18T02:31:16.072Z"
   },
   {
    "duration": 8,
    "start_time": "2022-11-18T02:31:16.081Z"
   },
   {
    "duration": 7,
    "start_time": "2022-11-18T02:31:16.090Z"
   },
   {
    "duration": 5,
    "start_time": "2022-11-18T02:31:16.121Z"
   },
   {
    "duration": 8,
    "start_time": "2022-11-18T02:31:16.127Z"
   },
   {
    "duration": 6,
    "start_time": "2022-11-18T02:31:16.136Z"
   },
   {
    "duration": 15,
    "start_time": "2022-11-18T02:31:16.143Z"
   },
   {
    "duration": 2,
    "start_time": "2022-11-18T02:31:16.161Z"
   },
   {
    "duration": 1355,
    "start_time": "2022-11-18T02:33:20.336Z"
   },
   {
    "duration": 45,
    "start_time": "2022-11-18T02:33:21.693Z"
   },
   {
    "duration": 3,
    "start_time": "2022-11-18T02:33:21.742Z"
   },
   {
    "duration": 33,
    "start_time": "2022-11-18T02:33:21.747Z"
   },
   {
    "duration": 18,
    "start_time": "2022-11-18T02:33:21.781Z"
   },
   {
    "duration": 20,
    "start_time": "2022-11-18T02:33:21.800Z"
   },
   {
    "duration": 254,
    "start_time": "2022-11-18T02:33:21.823Z"
   },
   {
    "duration": 7,
    "start_time": "2022-11-18T02:33:22.079Z"
   },
   {
    "duration": 452,
    "start_time": "2022-11-18T02:33:22.088Z"
   },
   {
    "duration": 342,
    "start_time": "2022-11-18T02:33:22.542Z"
   },
   {
    "duration": 12,
    "start_time": "2022-11-18T02:33:22.886Z"
   },
   {
    "duration": 24,
    "start_time": "2022-11-18T02:33:22.899Z"
   },
   {
    "duration": 249,
    "start_time": "2022-11-18T02:33:22.925Z"
   },
   {
    "duration": 4,
    "start_time": "2022-11-18T02:33:23.175Z"
   },
   {
    "duration": 16,
    "start_time": "2022-11-18T02:33:23.181Z"
   },
   {
    "duration": 24,
    "start_time": "2022-11-18T02:33:23.198Z"
   },
   {
    "duration": 10,
    "start_time": "2022-11-18T02:33:23.223Z"
   },
   {
    "duration": 15,
    "start_time": "2022-11-18T02:33:23.235Z"
   },
   {
    "duration": 9,
    "start_time": "2022-11-18T02:33:23.252Z"
   },
   {
    "duration": 25,
    "start_time": "2022-11-18T02:33:23.263Z"
   },
   {
    "duration": 11,
    "start_time": "2022-11-18T02:33:23.290Z"
   },
   {
    "duration": 22,
    "start_time": "2022-11-18T02:33:23.302Z"
   },
   {
    "duration": 23,
    "start_time": "2022-11-18T02:33:23.326Z"
   },
   {
    "duration": 26,
    "start_time": "2022-11-18T02:33:23.351Z"
   },
   {
    "duration": 8,
    "start_time": "2022-11-18T02:33:23.379Z"
   },
   {
    "duration": 1409,
    "start_time": "2022-11-18T02:54:34.193Z"
   },
   {
    "duration": 44,
    "start_time": "2022-11-18T02:54:35.604Z"
   },
   {
    "duration": 3,
    "start_time": "2022-11-18T02:54:35.650Z"
   },
   {
    "duration": 28,
    "start_time": "2022-11-18T02:54:35.655Z"
   },
   {
    "duration": 10,
    "start_time": "2022-11-18T02:54:35.684Z"
   },
   {
    "duration": 18,
    "start_time": "2022-11-18T02:54:35.695Z"
   },
   {
    "duration": 232,
    "start_time": "2022-11-18T02:54:35.715Z"
   },
   {
    "duration": 7,
    "start_time": "2022-11-18T02:54:35.949Z"
   },
   {
    "duration": 449,
    "start_time": "2022-11-18T02:54:35.958Z"
   },
   {
    "duration": 339,
    "start_time": "2022-11-18T02:54:36.410Z"
   },
   {
    "duration": 11,
    "start_time": "2022-11-18T02:54:36.751Z"
   },
   {
    "duration": 7,
    "start_time": "2022-11-18T02:54:36.764Z"
   },
   {
    "duration": 254,
    "start_time": "2022-11-18T02:54:36.772Z"
   },
   {
    "duration": 4,
    "start_time": "2022-11-18T02:54:37.027Z"
   },
   {
    "duration": 12,
    "start_time": "2022-11-18T02:54:37.032Z"
   },
   {
    "duration": 17,
    "start_time": "2022-11-18T02:54:37.045Z"
   },
   {
    "duration": 6,
    "start_time": "2022-11-18T02:54:37.063Z"
   },
   {
    "duration": 10,
    "start_time": "2022-11-18T02:54:37.070Z"
   },
   {
    "duration": 10,
    "start_time": "2022-11-18T02:54:37.082Z"
   },
   {
    "duration": 28,
    "start_time": "2022-11-18T02:54:37.093Z"
   },
   {
    "duration": 6,
    "start_time": "2022-11-18T02:54:37.123Z"
   },
   {
    "duration": 7,
    "start_time": "2022-11-18T02:54:37.130Z"
   },
   {
    "duration": 6,
    "start_time": "2022-11-18T02:54:37.139Z"
   },
   {
    "duration": 13,
    "start_time": "2022-11-18T02:54:37.146Z"
   },
   {
    "duration": 2,
    "start_time": "2022-11-18T02:54:37.161Z"
   },
   {
    "duration": 1060368,
    "start_time": "2022-11-18T02:54:37.165Z"
   },
   {
    "duration": 178,
    "start_time": "2022-11-18T03:12:17.534Z"
   },
   {
    "duration": 0,
    "start_time": "2022-11-18T03:12:17.714Z"
   },
   {
    "duration": 0,
    "start_time": "2022-11-18T03:12:17.721Z"
   },
   {
    "duration": 0,
    "start_time": "2022-11-18T03:12:17.722Z"
   },
   {
    "duration": 0,
    "start_time": "2022-11-18T03:12:17.723Z"
   },
   {
    "duration": 0,
    "start_time": "2022-11-18T03:12:17.724Z"
   },
   {
    "duration": 4,
    "start_time": "2022-11-18T03:13:10.839Z"
   },
   {
    "duration": 2,
    "start_time": "2022-11-18T03:13:16.917Z"
   },
   {
    "duration": 70219,
    "start_time": "2022-11-18T03:13:17.783Z"
   },
   {
    "duration": 3,
    "start_time": "2022-11-18T03:14:28.005Z"
   },
   {
    "duration": 13,
    "start_time": "2022-11-18T03:14:28.009Z"
   },
   {
    "duration": 0,
    "start_time": "2022-11-18T03:14:28.023Z"
   },
   {
    "duration": 3,
    "start_time": "2022-11-18T03:14:59.908Z"
   },
   {
    "duration": 10,
    "start_time": "2022-11-18T03:15:01.790Z"
   },
   {
    "duration": 5,
    "start_time": "2022-11-18T03:15:07.338Z"
   },
   {
    "duration": 3,
    "start_time": "2022-11-18T03:15:12.677Z"
   },
   {
    "duration": 1388,
    "start_time": "2022-11-18T06:20:56.531Z"
   },
   {
    "duration": 135,
    "start_time": "2022-11-18T06:20:57.921Z"
   },
   {
    "duration": 4,
    "start_time": "2022-11-18T06:20:58.058Z"
   },
   {
    "duration": 23,
    "start_time": "2022-11-18T06:20:58.064Z"
   },
   {
    "duration": 8,
    "start_time": "2022-11-18T06:20:58.089Z"
   },
   {
    "duration": 15,
    "start_time": "2022-11-18T06:20:58.098Z"
   },
   {
    "duration": 231,
    "start_time": "2022-11-18T06:20:58.115Z"
   },
   {
    "duration": 6,
    "start_time": "2022-11-18T06:20:58.348Z"
   },
   {
    "duration": 422,
    "start_time": "2022-11-18T06:20:58.355Z"
   },
   {
    "duration": 325,
    "start_time": "2022-11-18T06:20:58.779Z"
   },
   {
    "duration": 13,
    "start_time": "2022-11-18T06:20:59.105Z"
   },
   {
    "duration": 20,
    "start_time": "2022-11-18T06:20:59.120Z"
   },
   {
    "duration": 241,
    "start_time": "2022-11-18T06:20:59.142Z"
   },
   {
    "duration": 4,
    "start_time": "2022-11-18T06:20:59.384Z"
   },
   {
    "duration": 11,
    "start_time": "2022-11-18T06:20:59.389Z"
   },
   {
    "duration": 18,
    "start_time": "2022-11-18T06:20:59.401Z"
   },
   {
    "duration": 3,
    "start_time": "2022-11-18T06:20:59.421Z"
   },
   {
    "duration": 7,
    "start_time": "2022-11-18T06:20:59.426Z"
   },
   {
    "duration": 4,
    "start_time": "2022-11-18T06:20:59.434Z"
   },
   {
    "duration": 36,
    "start_time": "2022-11-18T06:20:59.440Z"
   },
   {
    "duration": 5,
    "start_time": "2022-11-18T06:20:59.478Z"
   },
   {
    "duration": 7,
    "start_time": "2022-11-18T06:20:59.484Z"
   },
   {
    "duration": 5,
    "start_time": "2022-11-18T06:20:59.492Z"
   },
   {
    "duration": 14,
    "start_time": "2022-11-18T06:20:59.498Z"
   },
   {
    "duration": 2,
    "start_time": "2022-11-18T06:20:59.514Z"
   },
   {
    "duration": 13165,
    "start_time": "2022-11-18T06:20:59.518Z"
   },
   {
    "duration": 3,
    "start_time": "2022-11-18T06:21:12.685Z"
   },
   {
    "duration": 4,
    "start_time": "2022-11-18T06:21:12.691Z"
   },
   {
    "duration": 76536,
    "start_time": "2022-11-18T06:21:12.697Z"
   },
   {
    "duration": 4,
    "start_time": "2022-11-18T06:22:29.235Z"
   },
   {
    "duration": 9,
    "start_time": "2022-11-18T06:22:29.240Z"
   },
   {
    "duration": 5,
    "start_time": "2022-11-18T06:22:29.250Z"
   },
   {
    "duration": 6,
    "start_time": "2022-11-18T06:22:29.257Z"
   },
   {
    "duration": 113,
    "start_time": "2022-11-18T06:23:10.596Z"
   },
   {
    "duration": 3,
    "start_time": "2022-11-18T06:23:18.502Z"
   },
   {
    "duration": 8,
    "start_time": "2022-11-18T06:23:22.749Z"
   },
   {
    "duration": 15,
    "start_time": "2022-11-18T06:23:38.093Z"
   },
   {
    "duration": 4,
    "start_time": "2022-11-18T06:23:45.255Z"
   },
   {
    "duration": 6,
    "start_time": "2022-11-18T06:23:46.254Z"
   },
   {
    "duration": 8,
    "start_time": "2022-11-18T06:23:56.301Z"
   },
   {
    "duration": 4,
    "start_time": "2022-11-18T06:24:07.373Z"
   },
   {
    "duration": 9,
    "start_time": "2022-11-18T06:24:08.381Z"
   },
   {
    "duration": 8,
    "start_time": "2022-11-18T06:24:10.606Z"
   },
   {
    "duration": 9,
    "start_time": "2022-11-18T06:29:07.011Z"
   },
   {
    "duration": 158941,
    "start_time": "2022-11-18T06:29:12.541Z"
   },
   {
    "duration": 100,
    "start_time": "2022-11-18T06:32:57.985Z"
   },
   {
    "duration": 16,
    "start_time": "2022-11-18T06:33:11.970Z"
   },
   {
    "duration": 1064,
    "start_time": "2022-11-18T06:34:39.569Z"
   },
   {
    "duration": 8,
    "start_time": "2022-11-18T06:34:40.636Z"
   },
   {
    "duration": 1353,
    "start_time": "2022-11-18T06:38:25.968Z"
   },
   {
    "duration": 48,
    "start_time": "2022-11-18T06:38:27.323Z"
   },
   {
    "duration": 3,
    "start_time": "2022-11-18T06:38:27.376Z"
   },
   {
    "duration": 57,
    "start_time": "2022-11-18T06:38:27.381Z"
   },
   {
    "duration": 12,
    "start_time": "2022-11-18T06:38:27.440Z"
   },
   {
    "duration": 11,
    "start_time": "2022-11-18T06:38:27.454Z"
   },
   {
    "duration": 259,
    "start_time": "2022-11-18T06:38:27.467Z"
   },
   {
    "duration": 7,
    "start_time": "2022-11-18T06:38:27.728Z"
   },
   {
    "duration": 511,
    "start_time": "2022-11-18T06:38:27.737Z"
   },
   {
    "duration": 366,
    "start_time": "2022-11-18T06:38:28.250Z"
   },
   {
    "duration": 12,
    "start_time": "2022-11-18T06:38:28.617Z"
   },
   {
    "duration": 20,
    "start_time": "2022-11-18T06:38:28.631Z"
   },
   {
    "duration": 269,
    "start_time": "2022-11-18T06:38:28.653Z"
   },
   {
    "duration": 4,
    "start_time": "2022-11-18T06:38:28.924Z"
   },
   {
    "duration": 12,
    "start_time": "2022-11-18T06:38:28.930Z"
   },
   {
    "duration": 37,
    "start_time": "2022-11-18T06:38:28.944Z"
   },
   {
    "duration": 4,
    "start_time": "2022-11-18T06:38:28.982Z"
   },
   {
    "duration": 10,
    "start_time": "2022-11-18T06:38:28.987Z"
   },
   {
    "duration": 5,
    "start_time": "2022-11-18T06:38:28.999Z"
   },
   {
    "duration": 4,
    "start_time": "2022-11-18T06:38:29.006Z"
   },
   {
    "duration": 10,
    "start_time": "2022-11-18T06:38:29.013Z"
   },
   {
    "duration": 7,
    "start_time": "2022-11-18T06:38:29.024Z"
   },
   {
    "duration": 12,
    "start_time": "2022-11-18T06:38:29.032Z"
   },
   {
    "duration": 33,
    "start_time": "2022-11-18T06:38:29.045Z"
   },
   {
    "duration": 7,
    "start_time": "2022-11-18T06:38:29.079Z"
   },
   {
    "duration": 54401,
    "start_time": "2022-11-18T06:38:29.088Z"
   },
   {
    "duration": 3,
    "start_time": "2022-11-18T06:39:23.492Z"
   },
   {
    "duration": 43,
    "start_time": "2022-11-18T06:39:23.496Z"
   },
   {
    "duration": 16258,
    "start_time": "2022-11-18T07:24:47.263Z"
   },
   {
    "duration": 45,
    "start_time": "2022-11-18T07:25:03.523Z"
   },
   {
    "duration": 3,
    "start_time": "2022-11-18T07:25:03.570Z"
   },
   {
    "duration": 37,
    "start_time": "2022-11-18T07:25:03.576Z"
   },
   {
    "duration": 8,
    "start_time": "2022-11-18T07:25:03.614Z"
   },
   {
    "duration": 25,
    "start_time": "2022-11-18T07:25:03.623Z"
   },
   {
    "duration": 247,
    "start_time": "2022-11-18T07:25:03.649Z"
   },
   {
    "duration": 7,
    "start_time": "2022-11-18T07:25:03.897Z"
   },
   {
    "duration": 525,
    "start_time": "2022-11-18T07:25:03.905Z"
   },
   {
    "duration": 377,
    "start_time": "2022-11-18T07:25:04.434Z"
   },
   {
    "duration": 17,
    "start_time": "2022-11-18T07:25:04.813Z"
   },
   {
    "duration": 12,
    "start_time": "2022-11-18T07:25:04.832Z"
   },
   {
    "duration": 301,
    "start_time": "2022-11-18T07:25:04.845Z"
   },
   {
    "duration": 4,
    "start_time": "2022-11-18T07:25:05.148Z"
   },
   {
    "duration": 60,
    "start_time": "2022-11-18T07:25:05.154Z"
   },
   {
    "duration": 56,
    "start_time": "2022-11-18T07:25:05.216Z"
   },
   {
    "duration": 4,
    "start_time": "2022-11-18T07:25:05.274Z"
   },
   {
    "duration": 10,
    "start_time": "2022-11-18T07:25:05.280Z"
   },
   {
    "duration": 6,
    "start_time": "2022-11-18T07:25:05.292Z"
   },
   {
    "duration": 5,
    "start_time": "2022-11-18T07:25:05.300Z"
   },
   {
    "duration": 8,
    "start_time": "2022-11-18T07:25:05.306Z"
   },
   {
    "duration": 15,
    "start_time": "2022-11-18T07:25:05.315Z"
   },
   {
    "duration": 8,
    "start_time": "2022-11-18T07:25:05.331Z"
   },
   {
    "duration": 16,
    "start_time": "2022-11-18T07:25:05.340Z"
   },
   {
    "duration": 4,
    "start_time": "2022-11-18T07:25:05.358Z"
   },
   {
    "duration": 4740601,
    "start_time": "2022-11-18T07:25:05.364Z"
   },
   {
    "duration": 70,
    "start_time": "2022-11-18T08:44:05.967Z"
   },
   {
    "duration": 23,
    "start_time": "2022-11-18T08:44:06.045Z"
   },
   {
    "duration": 162920,
    "start_time": "2022-11-18T08:44:06.070Z"
   },
   {
    "duration": 5,
    "start_time": "2022-11-18T08:46:48.991Z"
   },
   {
    "duration": 15,
    "start_time": "2022-11-18T08:46:48.999Z"
   },
   {
    "duration": 33,
    "start_time": "2022-11-18T08:46:49.016Z"
   },
   {
    "duration": 11,
    "start_time": "2022-11-18T08:46:49.053Z"
   },
   {
    "duration": 21,
    "start_time": "2022-11-18T08:46:49.066Z"
   },
   {
    "duration": 301352,
    "start_time": "2022-11-18T08:46:49.090Z"
   },
   {
    "duration": 79,
    "start_time": "2022-11-18T08:51:50.447Z"
   },
   {
    "duration": 1589,
    "start_time": "2022-11-18T17:47:31.933Z"
   },
   {
    "duration": 142,
    "start_time": "2022-11-18T17:47:35.065Z"
   },
   {
    "duration": 3,
    "start_time": "2022-11-18T17:47:35.266Z"
   },
   {
    "duration": 21,
    "start_time": "2022-11-18T17:47:35.490Z"
   },
   {
    "duration": 8,
    "start_time": "2022-11-18T17:47:36.161Z"
   },
   {
    "duration": 8,
    "start_time": "2022-11-18T17:47:36.394Z"
   },
   {
    "duration": 237,
    "start_time": "2022-11-18T17:47:36.633Z"
   },
   {
    "duration": 6,
    "start_time": "2022-11-18T17:47:38.242Z"
   },
   {
    "duration": 432,
    "start_time": "2022-11-18T17:47:38.533Z"
   },
   {
    "duration": 322,
    "start_time": "2022-11-18T17:47:38.967Z"
   },
   {
    "duration": 11,
    "start_time": "2022-11-18T17:47:40.543Z"
   },
   {
    "duration": 6,
    "start_time": "2022-11-18T17:47:40.857Z"
   },
   {
    "duration": 244,
    "start_time": "2022-11-18T17:47:41.204Z"
   },
   {
    "duration": 4,
    "start_time": "2022-11-18T17:47:44.456Z"
   },
   {
    "duration": 4,
    "start_time": "2022-11-18T17:47:57.434Z"
   },
   {
    "duration": 28,
    "start_time": "2022-11-18T17:47:59.047Z"
   },
   {
    "duration": 110,
    "start_time": "2022-11-18T17:48:12.931Z"
   },
   {
    "duration": 8,
    "start_time": "2022-11-18T17:48:22.790Z"
   },
   {
    "duration": 10,
    "start_time": "2022-11-18T17:49:18.067Z"
   },
   {
    "duration": 1745,
    "start_time": "2022-11-19T03:20:06.068Z"
   },
   {
    "duration": 155,
    "start_time": "2022-11-19T03:20:09.364Z"
   },
   {
    "duration": 4,
    "start_time": "2022-11-19T03:20:09.685Z"
   },
   {
    "duration": 23,
    "start_time": "2022-11-19T03:20:09.953Z"
   },
   {
    "duration": 13,
    "start_time": "2022-11-19T03:20:10.900Z"
   },
   {
    "duration": 12,
    "start_time": "2022-11-19T03:20:11.180Z"
   },
   {
    "duration": 267,
    "start_time": "2022-11-19T03:20:12.227Z"
   },
   {
    "duration": 8,
    "start_time": "2022-11-19T03:20:14.770Z"
   },
   {
    "duration": 519,
    "start_time": "2022-11-19T03:20:15.289Z"
   },
   {
    "duration": 388,
    "start_time": "2022-11-19T03:20:15.810Z"
   },
   {
    "duration": 15,
    "start_time": "2022-11-19T03:20:17.213Z"
   },
   {
    "duration": 8,
    "start_time": "2022-11-19T03:20:17.475Z"
   },
   {
    "duration": 276,
    "start_time": "2022-11-19T03:20:18.599Z"
   },
   {
    "duration": 4,
    "start_time": "2022-11-19T03:20:23.851Z"
   },
   {
    "duration": 32,
    "start_time": "2022-11-19T03:20:27.194Z"
   },
   {
    "duration": 13,
    "start_time": "2022-11-19T03:20:32.288Z"
   },
   {
    "duration": 5,
    "start_time": "2022-11-19T03:20:36.241Z"
   },
   {
    "duration": 6,
    "start_time": "2022-11-19T03:20:36.871Z"
   },
   {
    "duration": 6,
    "start_time": "2022-11-19T03:20:39.256Z"
   },
   {
    "duration": 5,
    "start_time": "2022-11-19T03:25:07.411Z"
   },
   {
    "duration": 1389,
    "start_time": "2022-11-19T03:31:21.073Z"
   },
   {
    "duration": 49,
    "start_time": "2022-11-19T03:31:22.464Z"
   },
   {
    "duration": 3,
    "start_time": "2022-11-19T03:31:22.515Z"
   },
   {
    "duration": 24,
    "start_time": "2022-11-19T03:31:22.520Z"
   },
   {
    "duration": 8,
    "start_time": "2022-11-19T03:31:22.546Z"
   },
   {
    "duration": 11,
    "start_time": "2022-11-19T03:31:22.556Z"
   },
   {
    "duration": 268,
    "start_time": "2022-11-19T03:31:22.569Z"
   },
   {
    "duration": 15,
    "start_time": "2022-11-19T03:31:22.839Z"
   },
   {
    "duration": 476,
    "start_time": "2022-11-19T03:31:22.856Z"
   },
   {
    "duration": 369,
    "start_time": "2022-11-19T03:31:23.335Z"
   },
   {
    "duration": 12,
    "start_time": "2022-11-19T03:31:23.705Z"
   },
   {
    "duration": 10,
    "start_time": "2022-11-19T03:31:23.719Z"
   },
   {
    "duration": 291,
    "start_time": "2022-11-19T03:31:23.730Z"
   },
   {
    "duration": 4,
    "start_time": "2022-11-19T03:31:24.023Z"
   },
   {
    "duration": 44,
    "start_time": "2022-11-19T03:31:24.029Z"
   },
   {
    "duration": 7,
    "start_time": "2022-11-19T03:31:24.075Z"
   },
   {
    "duration": 7,
    "start_time": "2022-11-19T03:31:24.083Z"
   },
   {
    "duration": 5,
    "start_time": "2022-11-19T03:31:24.092Z"
   },
   {
    "duration": 8,
    "start_time": "2022-11-19T03:31:24.098Z"
   },
   {
    "duration": 8,
    "start_time": "2022-11-19T03:31:24.107Z"
   },
   {
    "duration": 4,
    "start_time": "2022-11-19T03:31:24.117Z"
   },
   {
    "duration": 284,
    "start_time": "2022-11-19T03:31:24.122Z"
   },
   {
    "duration": 10,
    "start_time": "2022-11-19T03:31:24.408Z"
   },
   {
    "duration": 0,
    "start_time": "2022-11-19T03:31:24.419Z"
   },
   {
    "duration": 0,
    "start_time": "2022-11-19T03:31:24.420Z"
   },
   {
    "duration": 1,
    "start_time": "2022-11-19T03:31:24.421Z"
   },
   {
    "duration": 0,
    "start_time": "2022-11-19T03:31:24.423Z"
   },
   {
    "duration": 0,
    "start_time": "2022-11-19T03:31:24.424Z"
   },
   {
    "duration": 0,
    "start_time": "2022-11-19T03:31:24.426Z"
   },
   {
    "duration": 0,
    "start_time": "2022-11-19T03:31:24.427Z"
   },
   {
    "duration": 0,
    "start_time": "2022-11-19T03:31:24.428Z"
   },
   {
    "duration": 0,
    "start_time": "2022-11-19T03:31:24.430Z"
   },
   {
    "duration": 0,
    "start_time": "2022-11-19T03:31:24.431Z"
   },
   {
    "duration": 0,
    "start_time": "2022-11-19T03:31:24.432Z"
   },
   {
    "duration": 160,
    "start_time": "2022-11-19T03:32:55.774Z"
   },
   {
    "duration": 4,
    "start_time": "2022-11-19T03:33:14.185Z"
   },
   {
    "duration": 4,
    "start_time": "2022-11-19T03:33:28.010Z"
   },
   {
    "duration": 4,
    "start_time": "2022-11-19T03:33:43.469Z"
   },
   {
    "duration": 22,
    "start_time": "2022-11-19T03:34:20.035Z"
   },
   {
    "duration": 6,
    "start_time": "2022-11-19T03:34:20.428Z"
   },
   {
    "duration": 4,
    "start_time": "2022-11-19T03:34:21.087Z"
   },
   {
    "duration": 6,
    "start_time": "2022-11-19T03:34:21.851Z"
   },
   {
    "duration": 6,
    "start_time": "2022-11-19T03:34:23.051Z"
   },
   {
    "duration": 3,
    "start_time": "2022-11-19T03:34:29.199Z"
   },
   {
    "duration": 4,
    "start_time": "2022-11-19T03:34:29.936Z"
   },
   {
    "duration": 17,
    "start_time": "2022-11-19T03:35:27.623Z"
   },
   {
    "duration": 3,
    "start_time": "2022-11-19T03:35:30.454Z"
   },
   {
    "duration": 15951,
    "start_time": "2022-11-19T03:35:32.538Z"
   },
   {
    "duration": 10,
    "start_time": "2022-11-19T03:35:48.491Z"
   },
   {
    "duration": 0,
    "start_time": "2022-11-19T03:35:48.502Z"
   },
   {
    "duration": 162150,
    "start_time": "2022-11-19T03:35:50.312Z"
   },
   {
    "duration": 10,
    "start_time": "2022-11-19T03:38:32.463Z"
   },
   {
    "duration": 0,
    "start_time": "2022-11-19T03:38:32.474Z"
   },
   {
    "duration": 0,
    "start_time": "2022-11-19T03:38:32.476Z"
   },
   {
    "duration": 0,
    "start_time": "2022-11-19T03:38:32.551Z"
   },
   {
    "duration": 0,
    "start_time": "2022-11-19T03:38:32.553Z"
   },
   {
    "duration": 0,
    "start_time": "2022-11-19T03:38:32.555Z"
   },
   {
    "duration": 0,
    "start_time": "2022-11-19T03:38:32.556Z"
   },
   {
    "duration": 0,
    "start_time": "2022-11-19T03:38:32.557Z"
   },
   {
    "duration": 0,
    "start_time": "2022-11-19T03:38:32.560Z"
   },
   {
    "duration": 0,
    "start_time": "2022-11-19T03:38:32.561Z"
   },
   {
    "duration": 0,
    "start_time": "2022-11-19T03:38:32.562Z"
   },
   {
    "duration": 4,
    "start_time": "2022-11-19T04:35:02.280Z"
   },
   {
    "duration": 3,
    "start_time": "2022-11-19T04:35:03.476Z"
   },
   {
    "duration": 114166,
    "start_time": "2022-11-19T04:35:04.675Z"
   },
   {
    "duration": 3,
    "start_time": "2022-11-19T04:36:58.844Z"
   },
   {
    "duration": 7,
    "start_time": "2022-11-19T04:36:58.848Z"
   },
   {
    "duration": 9,
    "start_time": "2022-11-19T04:36:58.857Z"
   },
   {
    "duration": 8,
    "start_time": "2022-11-19T04:36:58.867Z"
   },
   {
    "duration": 12,
    "start_time": "2022-11-19T04:36:58.877Z"
   },
   {
    "duration": 1067,
    "start_time": "2022-11-19T04:36:58.890Z"
   },
   {
    "duration": 9,
    "start_time": "2022-11-19T04:36:59.958Z"
   },
   {
    "duration": 1476,
    "start_time": "2022-11-19T04:39:38.467Z"
   },
   {
    "duration": 50,
    "start_time": "2022-11-19T04:39:39.945Z"
   },
   {
    "duration": 4,
    "start_time": "2022-11-19T04:39:39.996Z"
   },
   {
    "duration": 25,
    "start_time": "2022-11-19T04:39:40.002Z"
   },
   {
    "duration": 9,
    "start_time": "2022-11-19T04:39:40.029Z"
   },
   {
    "duration": 12,
    "start_time": "2022-11-19T04:39:40.040Z"
   },
   {
    "duration": 274,
    "start_time": "2022-11-19T04:39:40.053Z"
   },
   {
    "duration": 7,
    "start_time": "2022-11-19T04:39:40.329Z"
   },
   {
    "duration": 495,
    "start_time": "2022-11-19T04:39:40.337Z"
   },
   {
    "duration": 373,
    "start_time": "2022-11-19T04:39:40.835Z"
   },
   {
    "duration": 10,
    "start_time": "2022-11-19T04:39:41.210Z"
   },
   {
    "duration": 4,
    "start_time": "2022-11-19T04:39:41.222Z"
   },
   {
    "duration": 286,
    "start_time": "2022-11-19T04:39:41.227Z"
   },
   {
    "duration": 4,
    "start_time": "2022-11-19T04:39:41.515Z"
   },
   {
    "duration": 38,
    "start_time": "2022-11-19T04:39:41.521Z"
   },
   {
    "duration": 14,
    "start_time": "2022-11-19T04:39:41.561Z"
   },
   {
    "duration": 4,
    "start_time": "2022-11-19T04:39:41.577Z"
   },
   {
    "duration": 5,
    "start_time": "2022-11-19T04:39:41.582Z"
   },
   {
    "duration": 8,
    "start_time": "2022-11-19T04:39:41.588Z"
   },
   {
    "duration": 6,
    "start_time": "2022-11-19T04:39:41.597Z"
   },
   {
    "duration": 8,
    "start_time": "2022-11-19T04:39:41.605Z"
   },
   {
    "duration": 11,
    "start_time": "2022-11-19T04:39:41.615Z"
   },
   {
    "duration": 13,
    "start_time": "2022-11-19T04:39:41.651Z"
   },
   {
    "duration": 4,
    "start_time": "2022-11-19T04:39:41.665Z"
   },
   {
    "duration": 76690,
    "start_time": "2022-11-19T04:39:41.670Z"
   },
   {
    "duration": 3,
    "start_time": "2022-11-19T04:40:58.362Z"
   },
   {
    "duration": 6,
    "start_time": "2022-11-19T04:40:58.367Z"
   },
   {
    "duration": 110898,
    "start_time": "2022-11-19T04:40:58.376Z"
   },
   {
    "duration": 4,
    "start_time": "2022-11-19T04:42:49.275Z"
   },
   {
    "duration": 10,
    "start_time": "2022-11-19T04:42:49.281Z"
   },
   {
    "duration": 6,
    "start_time": "2022-11-19T04:42:49.293Z"
   },
   {
    "duration": 12,
    "start_time": "2022-11-19T04:42:49.301Z"
   },
   {
    "duration": 12,
    "start_time": "2022-11-19T04:42:49.315Z"
   },
   {
    "duration": 30625,
    "start_time": "2022-11-19T04:42:49.329Z"
   },
   {
    "duration": 19,
    "start_time": "2022-11-19T04:43:19.956Z"
   },
   {
    "duration": 14,
    "start_time": "2022-11-19T04:44:38.819Z"
   },
   {
    "duration": 17,
    "start_time": "2022-11-19T04:45:57.096Z"
   },
   {
    "duration": 14,
    "start_time": "2022-11-19T04:46:17.939Z"
   },
   {
    "duration": 111,
    "start_time": "2022-11-19T04:47:11.204Z"
   },
   {
    "duration": 3,
    "start_time": "2022-11-19T04:47:27.558Z"
   },
   {
    "duration": 10,
    "start_time": "2022-11-19T04:47:32.066Z"
   },
   {
    "duration": 14,
    "start_time": "2022-11-19T04:47:49.325Z"
   },
   {
    "duration": 3,
    "start_time": "2022-11-19T04:48:06.146Z"
   },
   {
    "duration": 10,
    "start_time": "2022-11-19T04:48:11.546Z"
   },
   {
    "duration": 390,
    "start_time": "2022-11-19T04:49:02.211Z"
   },
   {
    "duration": 151,
    "start_time": "2022-11-19T04:49:14.567Z"
   },
   {
    "duration": 15,
    "start_time": "2022-11-19T04:51:23.454Z"
   },
   {
    "duration": 8,
    "start_time": "2022-11-19T04:51:29.439Z"
   },
   {
    "duration": 11,
    "start_time": "2022-11-19T04:52:06.635Z"
   },
   {
    "duration": 363,
    "start_time": "2022-11-19T04:52:45.325Z"
   },
   {
    "duration": 21,
    "start_time": "2022-11-19T04:54:52.120Z"
   },
   {
    "duration": 8,
    "start_time": "2022-11-19T04:55:18.957Z"
   },
   {
    "duration": 6,
    "start_time": "2022-11-19T04:55:54.473Z"
   },
   {
    "duration": 4,
    "start_time": "2022-11-19T04:56:16.548Z"
   },
   {
    "duration": 29,
    "start_time": "2022-11-19T04:56:19.749Z"
   },
   {
    "duration": 1087,
    "start_time": "2022-11-19T04:56:43.343Z"
   },
   {
    "duration": 10,
    "start_time": "2022-11-19T04:57:09.251Z"
   },
   {
    "duration": 3,
    "start_time": "2022-11-19T04:57:12.121Z"
   },
   {
    "duration": 205,
    "start_time": "2022-11-19T04:57:12.409Z"
   },
   {
    "duration": 2,
    "start_time": "2022-11-19T04:59:03.469Z"
   },
   {
    "duration": 1106,
    "start_time": "2022-11-19T04:59:43.307Z"
   },
   {
    "duration": 4,
    "start_time": "2022-11-19T05:00:35.481Z"
   },
   {
    "duration": 8,
    "start_time": "2022-11-19T05:00:40.127Z"
   },
   {
    "duration": 9,
    "start_time": "2022-11-19T05:00:49.501Z"
   },
   {
    "duration": 23,
    "start_time": "2022-11-19T05:00:51.928Z"
   },
   {
    "duration": 3,
    "start_time": "2022-11-19T05:01:00.714Z"
   },
   {
    "duration": 2,
    "start_time": "2022-11-19T05:01:12.604Z"
   },
   {
    "duration": 10,
    "start_time": "2022-11-19T05:01:30.560Z"
   },
   {
    "duration": 7,
    "start_time": "2022-11-19T05:01:31.773Z"
   },
   {
    "duration": 211,
    "start_time": "2022-11-19T05:01:37.512Z"
   },
   {
    "duration": 6,
    "start_time": "2022-11-19T05:01:44.323Z"
   },
   {
    "duration": 8,
    "start_time": "2022-11-19T05:01:46.219Z"
   },
   {
    "duration": 6,
    "start_time": "2022-11-19T05:01:48.706Z"
   },
   {
    "duration": 18,
    "start_time": "2022-11-19T05:01:52.022Z"
   },
   {
    "duration": 3,
    "start_time": "2022-11-19T05:02:13.868Z"
   },
   {
    "duration": 6,
    "start_time": "2022-11-19T05:02:14.285Z"
   },
   {
    "duration": 11,
    "start_time": "2022-11-19T05:02:46.197Z"
   },
   {
    "duration": 478,
    "start_time": "2022-11-19T05:02:49.351Z"
   },
   {
    "duration": 5,
    "start_time": "2022-11-19T05:03:01.574Z"
   },
   {
    "duration": 313,
    "start_time": "2022-11-19T05:03:02.163Z"
   },
   {
    "duration": 6,
    "start_time": "2022-11-19T05:03:05.206Z"
   },
   {
    "duration": 13,
    "start_time": "2022-11-19T05:03:38.651Z"
   },
   {
    "duration": 7,
    "start_time": "2022-11-19T05:03:50.049Z"
   },
   {
    "duration": 3,
    "start_time": "2022-11-19T05:04:10.579Z"
   },
   {
    "duration": 8,
    "start_time": "2022-11-19T05:04:16.340Z"
   },
   {
    "duration": 3,
    "start_time": "2022-11-19T05:04:32.093Z"
   },
   {
    "duration": 7,
    "start_time": "2022-11-19T05:04:32.408Z"
   },
   {
    "duration": 11,
    "start_time": "2022-11-19T05:04:46.441Z"
   },
   {
    "duration": 10,
    "start_time": "2022-11-19T05:04:49.840Z"
   },
   {
    "duration": 5,
    "start_time": "2022-11-19T05:05:22.692Z"
   },
   {
    "duration": 10,
    "start_time": "2022-11-19T05:05:25.867Z"
   },
   {
    "duration": 3,
    "start_time": "2022-11-19T05:05:38.631Z"
   },
   {
    "duration": 220,
    "start_time": "2022-11-19T05:05:47.034Z"
   },
   {
    "duration": 251,
    "start_time": "2022-11-19T05:06:07.546Z"
   },
   {
    "duration": 5,
    "start_time": "2022-11-19T05:06:47.391Z"
   },
   {
    "duration": 4,
    "start_time": "2022-11-19T05:06:47.774Z"
   },
   {
    "duration": 250,
    "start_time": "2022-11-19T05:06:48.133Z"
   },
   {
    "duration": 1446,
    "start_time": "2022-11-19T05:08:31.533Z"
   },
   {
    "duration": 48,
    "start_time": "2022-11-19T05:08:32.981Z"
   },
   {
    "duration": 3,
    "start_time": "2022-11-19T05:08:33.031Z"
   },
   {
    "duration": 33,
    "start_time": "2022-11-19T05:08:33.036Z"
   },
   {
    "duration": 8,
    "start_time": "2022-11-19T05:08:33.071Z"
   },
   {
    "duration": 10,
    "start_time": "2022-11-19T05:08:33.080Z"
   },
   {
    "duration": 254,
    "start_time": "2022-11-19T05:08:33.091Z"
   },
   {
    "duration": 10,
    "start_time": "2022-11-19T05:08:33.346Z"
   },
   {
    "duration": 438,
    "start_time": "2022-11-19T05:08:33.358Z"
   },
   {
    "duration": 367,
    "start_time": "2022-11-19T05:08:33.799Z"
   },
   {
    "duration": 13,
    "start_time": "2022-11-19T05:08:34.167Z"
   },
   {
    "duration": 280,
    "start_time": "2022-11-19T05:08:34.182Z"
   },
   {
    "duration": 5,
    "start_time": "2022-11-19T05:08:34.466Z"
   },
   {
    "duration": 28,
    "start_time": "2022-11-19T05:08:34.473Z"
   },
   {
    "duration": 15,
    "start_time": "2022-11-19T05:08:34.503Z"
   },
   {
    "duration": 5,
    "start_time": "2022-11-19T05:08:34.520Z"
   },
   {
    "duration": 27,
    "start_time": "2022-11-19T05:08:34.527Z"
   },
   {
    "duration": 8,
    "start_time": "2022-11-19T05:08:34.555Z"
   },
   {
    "duration": 7,
    "start_time": "2022-11-19T05:08:34.565Z"
   },
   {
    "duration": 7,
    "start_time": "2022-11-19T05:08:34.574Z"
   },
   {
    "duration": 6,
    "start_time": "2022-11-19T05:08:34.583Z"
   },
   {
    "duration": 61,
    "start_time": "2022-11-19T05:08:34.591Z"
   },
   {
    "duration": 3,
    "start_time": "2022-11-19T05:08:34.654Z"
   },
   {
    "duration": 15807,
    "start_time": "2022-11-19T05:08:34.659Z"
   },
   {
    "duration": 5,
    "start_time": "2022-11-19T05:08:50.550Z"
   },
   {
    "duration": 9,
    "start_time": "2022-11-19T05:08:50.556Z"
   },
   {
    "duration": 109240,
    "start_time": "2022-11-19T05:08:50.567Z"
   },
   {
    "duration": 4,
    "start_time": "2022-11-19T05:10:39.811Z"
   },
   {
    "duration": 11,
    "start_time": "2022-11-19T05:10:39.817Z"
   },
   {
    "duration": 7,
    "start_time": "2022-11-19T05:10:39.830Z"
   },
   {
    "duration": 9,
    "start_time": "2022-11-19T05:10:39.839Z"
   },
   {
    "duration": 21,
    "start_time": "2022-11-19T05:10:39.850Z"
   },
   {
    "duration": 5890,
    "start_time": "2022-11-19T05:10:39.873Z"
   },
   {
    "duration": 97,
    "start_time": "2022-11-19T05:10:45.765Z"
   },
   {
    "duration": 4,
    "start_time": "2022-11-19T05:10:45.864Z"
   },
   {
    "duration": 19,
    "start_time": "2022-11-19T05:10:45.870Z"
   },
   {
    "duration": 308,
    "start_time": "2022-11-19T05:10:45.891Z"
   },
   {
    "duration": 1588,
    "start_time": "2022-11-19T05:11:48.116Z"
   },
   {
    "duration": 56,
    "start_time": "2022-11-19T05:11:49.707Z"
   },
   {
    "duration": 5,
    "start_time": "2022-11-19T05:11:49.765Z"
   },
   {
    "duration": 35,
    "start_time": "2022-11-19T05:11:49.773Z"
   },
   {
    "duration": 11,
    "start_time": "2022-11-19T05:11:49.810Z"
   },
   {
    "duration": 37,
    "start_time": "2022-11-19T05:11:49.824Z"
   },
   {
    "duration": 294,
    "start_time": "2022-11-19T05:11:49.863Z"
   },
   {
    "duration": 10,
    "start_time": "2022-11-19T05:11:50.159Z"
   },
   {
    "duration": 505,
    "start_time": "2022-11-19T05:11:50.171Z"
   },
   {
    "duration": 393,
    "start_time": "2022-11-19T05:11:50.680Z"
   },
   {
    "duration": 13,
    "start_time": "2022-11-19T05:11:51.075Z"
   },
   {
    "duration": 300,
    "start_time": "2022-11-19T05:11:51.090Z"
   },
   {
    "duration": 4,
    "start_time": "2022-11-19T05:11:51.392Z"
   },
   {
    "duration": 57,
    "start_time": "2022-11-19T05:11:51.398Z"
   },
   {
    "duration": 15,
    "start_time": "2022-11-19T05:11:51.457Z"
   },
   {
    "duration": 4,
    "start_time": "2022-11-19T05:11:51.474Z"
   },
   {
    "duration": 7,
    "start_time": "2022-11-19T05:11:51.480Z"
   },
   {
    "duration": 8,
    "start_time": "2022-11-19T05:11:51.489Z"
   },
   {
    "duration": 10,
    "start_time": "2022-11-19T05:11:51.499Z"
   },
   {
    "duration": 10,
    "start_time": "2022-11-19T05:11:51.510Z"
   },
   {
    "duration": 29,
    "start_time": "2022-11-19T05:11:51.522Z"
   },
   {
    "duration": 13,
    "start_time": "2022-11-19T05:11:51.553Z"
   },
   {
    "duration": 3,
    "start_time": "2022-11-19T05:11:51.569Z"
   },
   {
    "duration": 101389,
    "start_time": "2022-11-19T05:11:51.575Z"
   },
   {
    "duration": 4,
    "start_time": "2022-11-19T05:13:32.966Z"
   },
   {
    "duration": 10,
    "start_time": "2022-11-19T05:13:32.971Z"
   },
   {
    "duration": 113892,
    "start_time": "2022-11-19T05:13:32.983Z"
   },
   {
    "duration": 3,
    "start_time": "2022-11-19T05:15:26.878Z"
   },
   {
    "duration": 7,
    "start_time": "2022-11-19T05:15:26.883Z"
   },
   {
    "duration": 6,
    "start_time": "2022-11-19T05:15:26.891Z"
   },
   {
    "duration": 9,
    "start_time": "2022-11-19T05:15:26.898Z"
   },
   {
    "duration": 9,
    "start_time": "2022-11-19T05:15:26.909Z"
   },
   {
    "duration": 1035,
    "start_time": "2022-11-19T05:15:26.920Z"
   },
   {
    "duration": 12,
    "start_time": "2022-11-19T05:15:27.956Z"
   },
   {
    "duration": 5,
    "start_time": "2022-11-19T05:15:27.969Z"
   },
   {
    "duration": 6,
    "start_time": "2022-11-19T05:15:27.976Z"
   },
   {
    "duration": 246,
    "start_time": "2022-11-19T05:15:28.050Z"
   },
   {
    "duration": 988,
    "start_time": "2022-11-19T05:16:10.573Z"
   },
   {
    "duration": 94,
    "start_time": "2022-11-19T05:16:11.563Z"
   },
   {
    "duration": 7,
    "start_time": "2022-11-19T05:16:11.659Z"
   },
   {
    "duration": 4,
    "start_time": "2022-11-19T05:16:20.810Z"
   },
   {
    "duration": 244,
    "start_time": "2022-11-19T05:16:21.094Z"
   },
   {
    "duration": 513,
    "start_time": "2022-11-19T05:16:58.346Z"
   },
   {
    "duration": 9,
    "start_time": "2022-11-19T05:17:01.361Z"
   },
   {
    "duration": 5,
    "start_time": "2022-11-19T05:17:02.852Z"
   },
   {
    "duration": 4,
    "start_time": "2022-11-19T05:17:03.357Z"
   },
   {
    "duration": 250,
    "start_time": "2022-11-19T05:17:04.102Z"
   },
   {
    "duration": 648,
    "start_time": "2022-11-19T05:17:12.609Z"
   },
   {
    "duration": 10,
    "start_time": "2022-11-19T05:17:14.874Z"
   },
   {
    "duration": 800,
    "start_time": "2022-11-19T05:17:20.556Z"
   },
   {
    "duration": 15,
    "start_time": "2022-11-19T05:17:22.164Z"
   },
   {
    "duration": 37,
    "start_time": "2022-11-19T05:17:46.523Z"
   },
   {
    "duration": 11,
    "start_time": "2022-11-19T05:17:47.555Z"
   },
   {
    "duration": 203,
    "start_time": "2022-11-19T05:17:53.650Z"
   },
   {
    "duration": 10,
    "start_time": "2022-11-19T05:17:54.082Z"
   },
   {
    "duration": 236,
    "start_time": "2022-11-19T05:17:58.721Z"
   },
   {
    "duration": 20,
    "start_time": "2022-11-19T05:17:59.735Z"
   },
   {
    "duration": 423,
    "start_time": "2022-11-19T05:18:02.833Z"
   },
   {
    "duration": 10,
    "start_time": "2022-11-19T05:18:04.537Z"
   },
   {
    "duration": 550,
    "start_time": "2022-11-19T05:18:07.204Z"
   },
   {
    "duration": 11,
    "start_time": "2022-11-19T05:18:08.196Z"
   },
   {
    "duration": 673,
    "start_time": "2022-11-19T05:18:11.491Z"
   },
   {
    "duration": 94,
    "start_time": "2022-11-19T05:18:12.166Z"
   },
   {
    "duration": 706,
    "start_time": "2022-11-19T05:18:16.052Z"
   },
   {
    "duration": 13,
    "start_time": "2022-11-19T05:18:16.760Z"
   },
   {
    "duration": 739,
    "start_time": "2022-11-19T05:18:20.528Z"
   },
   {
    "duration": 90,
    "start_time": "2022-11-19T05:18:21.268Z"
   },
   {
    "duration": 757,
    "start_time": "2022-11-19T05:18:25.304Z"
   },
   {
    "duration": 89,
    "start_time": "2022-11-19T05:18:26.063Z"
   },
   {
    "duration": 1503,
    "start_time": "2022-11-19T05:18:29.857Z"
   },
   {
    "duration": 92,
    "start_time": "2022-11-19T05:18:31.363Z"
   },
   {
    "duration": 756,
    "start_time": "2022-11-19T05:18:36.700Z"
   },
   {
    "duration": 9,
    "start_time": "2022-11-19T05:18:37.458Z"
   },
   {
    "duration": 14287,
    "start_time": "2022-11-19T05:20:25.077Z"
   },
   {
    "duration": 14,
    "start_time": "2022-11-19T05:20:39.452Z"
   },
   {
    "duration": 37,
    "start_time": "2022-11-19T05:21:40.929Z"
   },
   {
    "duration": 181185,
    "start_time": "2022-11-19T05:21:50.380Z"
   },
   {
    "duration": 85,
    "start_time": "2022-11-19T05:24:51.567Z"
   },
   {
    "duration": 21914,
    "start_time": "2022-11-19T05:44:23.747Z"
   },
   {
    "duration": 97,
    "start_time": "2022-11-19T05:44:45.663Z"
   },
   {
    "duration": 12799,
    "start_time": "2022-11-19T05:44:55.760Z"
   },
   {
    "duration": 90,
    "start_time": "2022-11-19T05:45:08.562Z"
   },
   {
    "duration": 122581,
    "start_time": "2022-11-19T05:45:42.579Z"
   },
   {
    "duration": 390,
    "start_time": "2022-11-19T05:47:45.162Z"
   },
   {
    "duration": 10,
    "start_time": "2022-11-19T05:47:45.554Z"
   },
   {
    "duration": 5,
    "start_time": "2022-11-19T05:47:45.566Z"
   },
   {
    "duration": 14,
    "start_time": "2022-11-19T05:49:23.075Z"
   },
   {
    "duration": 10,
    "start_time": "2022-11-19T05:49:24.646Z"
   },
   {
    "duration": 1632,
    "start_time": "2022-11-19T06:03:23.295Z"
   },
   {
    "duration": 67,
    "start_time": "2022-11-19T06:03:24.929Z"
   },
   {
    "duration": 5,
    "start_time": "2022-11-19T06:03:24.998Z"
   },
   {
    "duration": 31,
    "start_time": "2022-11-19T06:03:25.005Z"
   },
   {
    "duration": 21,
    "start_time": "2022-11-19T06:03:25.038Z"
   },
   {
    "duration": 17,
    "start_time": "2022-11-19T06:03:25.070Z"
   },
   {
    "duration": 330,
    "start_time": "2022-11-19T06:03:25.089Z"
   },
   {
    "duration": 10,
    "start_time": "2022-11-19T06:03:25.421Z"
   },
   {
    "duration": 552,
    "start_time": "2022-11-19T06:03:25.433Z"
   },
   {
    "duration": 421,
    "start_time": "2022-11-19T06:03:25.989Z"
   },
   {
    "duration": 16,
    "start_time": "2022-11-19T06:03:26.412Z"
   },
   {
    "duration": 370,
    "start_time": "2022-11-19T06:03:26.430Z"
   },
   {
    "duration": 4,
    "start_time": "2022-11-19T06:03:26.802Z"
   },
   {
    "duration": 55,
    "start_time": "2022-11-19T06:03:26.807Z"
   },
   {
    "duration": 19,
    "start_time": "2022-11-19T06:03:26.865Z"
   },
   {
    "duration": 6,
    "start_time": "2022-11-19T06:03:26.886Z"
   },
   {
    "duration": 5,
    "start_time": "2022-11-19T06:03:26.894Z"
   },
   {
    "duration": 8,
    "start_time": "2022-11-19T06:03:26.901Z"
   },
   {
    "duration": 7,
    "start_time": "2022-11-19T06:03:26.911Z"
   },
   {
    "duration": 33,
    "start_time": "2022-11-19T06:03:26.920Z"
   },
   {
    "duration": 22,
    "start_time": "2022-11-19T06:03:26.958Z"
   },
   {
    "duration": 28,
    "start_time": "2022-11-19T06:03:26.983Z"
   },
   {
    "duration": 40,
    "start_time": "2022-11-19T06:03:27.014Z"
   },
   {
    "duration": 7611809,
    "start_time": "2022-11-19T06:03:27.056Z"
   },
   {
    "duration": 4,
    "start_time": "2022-11-19T08:10:18.866Z"
   },
   {
    "duration": 3,
    "start_time": "2022-11-19T08:10:18.950Z"
   },
   {
    "duration": 107510,
    "start_time": "2022-11-19T08:10:18.955Z"
   },
   {
    "duration": 3,
    "start_time": "2022-11-19T08:12:06.469Z"
   },
   {
    "duration": 6,
    "start_time": "2022-11-19T08:12:06.474Z"
   },
   {
    "duration": 5,
    "start_time": "2022-11-19T08:12:06.482Z"
   },
   {
    "duration": 6,
    "start_time": "2022-11-19T08:12:06.488Z"
   },
   {
    "duration": 11,
    "start_time": "2022-11-19T08:12:06.495Z"
   },
   {
    "duration": 1154,
    "start_time": "2022-11-19T08:12:06.509Z"
   },
   {
    "duration": 2988,
    "start_time": "2022-11-19T08:12:07.664Z"
   },
   {
    "duration": 17,
    "start_time": "2022-11-19T08:12:10.655Z"
   },
   {
    "duration": 16,
    "start_time": "2022-11-19T08:12:10.674Z"
   },
   {
    "duration": 59,
    "start_time": "2022-11-19T08:12:10.692Z"
   },
   {
    "duration": 267,
    "start_time": "2022-11-19T08:12:10.753Z"
   },
   {
    "duration": 1563,
    "start_time": "2022-11-19T12:40:51.341Z"
   },
   {
    "duration": 53,
    "start_time": "2022-11-19T12:40:52.907Z"
   },
   {
    "duration": 4,
    "start_time": "2022-11-19T12:40:52.962Z"
   },
   {
    "duration": 34,
    "start_time": "2022-11-19T12:40:52.968Z"
   },
   {
    "duration": 10,
    "start_time": "2022-11-19T12:40:53.004Z"
   },
   {
    "duration": 16,
    "start_time": "2022-11-19T12:40:53.017Z"
   },
   {
    "duration": 281,
    "start_time": "2022-11-19T12:40:53.035Z"
   },
   {
    "duration": 7,
    "start_time": "2022-11-19T12:40:53.319Z"
   },
   {
    "duration": 580,
    "start_time": "2022-11-19T12:40:53.328Z"
   },
   {
    "duration": 423,
    "start_time": "2022-11-19T12:40:53.913Z"
   },
   {
    "duration": 18,
    "start_time": "2022-11-19T12:40:54.338Z"
   },
   {
    "duration": 292,
    "start_time": "2022-11-19T12:40:54.358Z"
   },
   {
    "duration": 7,
    "start_time": "2022-11-19T12:40:54.653Z"
   },
   {
    "duration": 48,
    "start_time": "2022-11-19T12:40:54.663Z"
   },
   {
    "duration": 16,
    "start_time": "2022-11-19T12:40:54.713Z"
   },
   {
    "duration": 21,
    "start_time": "2022-11-19T12:40:54.731Z"
   },
   {
    "duration": 6,
    "start_time": "2022-11-19T12:40:54.754Z"
   },
   {
    "duration": 10,
    "start_time": "2022-11-19T12:40:54.762Z"
   },
   {
    "duration": 16,
    "start_time": "2022-11-19T12:40:54.774Z"
   },
   {
    "duration": 12,
    "start_time": "2022-11-19T12:40:54.792Z"
   },
   {
    "duration": 12,
    "start_time": "2022-11-19T12:40:54.806Z"
   },
   {
    "duration": 42,
    "start_time": "2022-11-19T12:40:54.820Z"
   },
   {
    "duration": 108,
    "start_time": "2022-11-19T12:40:54.865Z"
   },
   {
    "duration": 354890,
    "start_time": "2022-11-19T12:40:54.975Z"
   },
   {
    "duration": 4,
    "start_time": "2022-11-19T12:46:49.867Z"
   },
   {
    "duration": 5,
    "start_time": "2022-11-19T12:46:49.872Z"
   },
   {
    "duration": 117850,
    "start_time": "2022-11-19T12:46:49.879Z"
   },
   {
    "duration": 3,
    "start_time": "2022-11-19T12:48:47.734Z"
   },
   {
    "duration": 5,
    "start_time": "2022-11-19T12:48:47.739Z"
   },
   {
    "duration": 6,
    "start_time": "2022-11-19T12:48:47.746Z"
   },
   {
    "duration": 8,
    "start_time": "2022-11-19T12:48:47.753Z"
   },
   {
    "duration": 11,
    "start_time": "2022-11-19T12:48:47.763Z"
   },
   {
    "duration": 1139,
    "start_time": "2022-11-19T12:48:47.776Z"
   },
   {
    "duration": 243,
    "start_time": "2022-11-19T12:48:48.916Z"
   },
   {
    "duration": 98,
    "start_time": "2022-11-19T12:48:49.161Z"
   },
   {
    "duration": 6,
    "start_time": "2022-11-19T12:48:49.261Z"
   },
   {
    "duration": 8,
    "start_time": "2022-11-19T12:48:49.269Z"
   },
   {
    "duration": 317,
    "start_time": "2022-11-19T12:48:49.279Z"
   },
   {
    "duration": 455,
    "start_time": "2022-11-19T12:49:14.400Z"
   },
   {
    "duration": 10,
    "start_time": "2022-11-19T12:49:16.667Z"
   },
   {
    "duration": 4,
    "start_time": "2022-11-19T12:49:20.131Z"
   },
   {
    "duration": 4,
    "start_time": "2022-11-19T12:49:20.972Z"
   },
   {
    "duration": 1536,
    "start_time": "2022-11-19T12:51:06.290Z"
   },
   {
    "duration": 62,
    "start_time": "2022-11-19T12:51:07.828Z"
   },
   {
    "duration": 3,
    "start_time": "2022-11-19T12:51:07.892Z"
   },
   {
    "duration": 33,
    "start_time": "2022-11-19T12:51:07.897Z"
   },
   {
    "duration": 9,
    "start_time": "2022-11-19T12:51:07.932Z"
   },
   {
    "duration": 16,
    "start_time": "2022-11-19T12:51:07.943Z"
   },
   {
    "duration": 258,
    "start_time": "2022-11-19T12:51:07.964Z"
   },
   {
    "duration": 8,
    "start_time": "2022-11-19T12:51:08.224Z"
   },
   {
    "duration": 531,
    "start_time": "2022-11-19T12:51:08.234Z"
   },
   {
    "duration": 405,
    "start_time": "2022-11-19T12:51:08.769Z"
   },
   {
    "duration": 12,
    "start_time": "2022-11-19T12:51:09.176Z"
   },
   {
    "duration": 319,
    "start_time": "2022-11-19T12:51:09.190Z"
   },
   {
    "duration": 4,
    "start_time": "2022-11-19T12:51:09.511Z"
   },
   {
    "duration": 53,
    "start_time": "2022-11-19T12:51:09.516Z"
   },
   {
    "duration": 21,
    "start_time": "2022-11-19T12:51:09.571Z"
   },
   {
    "duration": 7,
    "start_time": "2022-11-19T12:51:09.595Z"
   },
   {
    "duration": 10,
    "start_time": "2022-11-19T12:51:09.604Z"
   },
   {
    "duration": 12,
    "start_time": "2022-11-19T12:51:09.616Z"
   },
   {
    "duration": 7,
    "start_time": "2022-11-19T12:51:09.651Z"
   },
   {
    "duration": 3,
    "start_time": "2022-11-19T12:51:09.660Z"
   },
   {
    "duration": 18,
    "start_time": "2022-11-19T12:51:09.669Z"
   },
   {
    "duration": 70,
    "start_time": "2022-11-19T12:51:09.689Z"
   },
   {
    "duration": 9,
    "start_time": "2022-11-19T12:51:09.851Z"
   },
   {
    "duration": 1520,
    "start_time": "2022-11-19T13:08:27.773Z"
   },
   {
    "duration": 48,
    "start_time": "2022-11-19T13:08:29.296Z"
   },
   {
    "duration": 3,
    "start_time": "2022-11-19T13:08:29.346Z"
   },
   {
    "duration": 39,
    "start_time": "2022-11-19T13:08:29.351Z"
   },
   {
    "duration": 10,
    "start_time": "2022-11-19T13:08:29.392Z"
   },
   {
    "duration": 11,
    "start_time": "2022-11-19T13:08:29.403Z"
   },
   {
    "duration": 300,
    "start_time": "2022-11-19T13:08:29.415Z"
   },
   {
    "duration": 8,
    "start_time": "2022-11-19T13:08:29.718Z"
   },
   {
    "duration": 549,
    "start_time": "2022-11-19T13:08:29.728Z"
   },
   {
    "duration": 410,
    "start_time": "2022-11-19T13:08:30.279Z"
   },
   {
    "duration": 12,
    "start_time": "2022-11-19T13:08:30.691Z"
   },
   {
    "duration": 328,
    "start_time": "2022-11-19T13:08:30.705Z"
   },
   {
    "duration": 6,
    "start_time": "2022-11-19T13:08:31.035Z"
   },
   {
    "duration": 64,
    "start_time": "2022-11-19T13:08:31.044Z"
   },
   {
    "duration": 14,
    "start_time": "2022-11-19T13:08:31.110Z"
   },
   {
    "duration": 5,
    "start_time": "2022-11-19T13:08:31.126Z"
   },
   {
    "duration": 6,
    "start_time": "2022-11-19T13:08:31.132Z"
   },
   {
    "duration": 24,
    "start_time": "2022-11-19T13:08:31.140Z"
   },
   {
    "duration": 15,
    "start_time": "2022-11-19T13:08:31.166Z"
   },
   {
    "duration": 10,
    "start_time": "2022-11-19T13:08:31.183Z"
   },
   {
    "duration": 11,
    "start_time": "2022-11-19T13:08:31.194Z"
   },
   {
    "duration": 156,
    "start_time": "2022-11-19T13:08:31.207Z"
   },
   {
    "duration": 10,
    "start_time": "2022-11-19T13:08:31.365Z"
   },
   {
    "duration": 1827886,
    "start_time": "2022-11-19T13:08:31.378Z"
   },
   {
    "duration": 8,
    "start_time": "2022-11-19T13:38:59.269Z"
   },
   {
    "duration": 6,
    "start_time": "2022-11-19T13:38:59.281Z"
   },
   {
    "duration": 140531,
    "start_time": "2022-11-19T13:38:59.288Z"
   },
   {
    "duration": 5,
    "start_time": "2022-11-19T13:41:19.821Z"
   },
   {
    "duration": 13,
    "start_time": "2022-11-19T13:41:19.828Z"
   },
   {
    "duration": 42,
    "start_time": "2022-11-19T13:41:19.843Z"
   },
   {
    "duration": 11,
    "start_time": "2022-11-19T13:41:19.888Z"
   },
   {
    "duration": 15,
    "start_time": "2022-11-19T13:41:19.901Z"
   },
   {
    "duration": 23164,
    "start_time": "2022-11-19T13:41:19.918Z"
   },
   {
    "duration": 238087,
    "start_time": "2022-11-19T13:41:43.084Z"
   },
   {
    "duration": 93,
    "start_time": "2022-11-19T13:45:41.176Z"
   },
   {
    "duration": 7,
    "start_time": "2022-11-19T13:45:41.271Z"
   },
   {
    "duration": 20,
    "start_time": "2022-11-19T13:45:41.280Z"
   },
   {
    "duration": 348,
    "start_time": "2022-11-19T13:45:41.302Z"
   },
   {
    "duration": 8913,
    "start_time": "2022-11-19T14:12:08.447Z"
   },
   {
    "duration": 92,
    "start_time": "2022-11-19T14:12:17.362Z"
   },
   {
    "duration": 5,
    "start_time": "2022-11-19T14:12:17.456Z"
   },
   {
    "duration": 5,
    "start_time": "2022-11-19T14:12:17.464Z"
   },
   {
    "duration": 305,
    "start_time": "2022-11-19T14:12:17.471Z"
   },
   {
    "duration": 6,
    "start_time": "2022-11-19T14:13:01.059Z"
   },
   {
    "duration": 6,
    "start_time": "2022-11-19T14:13:02.105Z"
   },
   {
    "duration": 7,
    "start_time": "2022-11-19T14:13:04.189Z"
   },
   {
    "duration": 960,
    "start_time": "2022-11-19T14:13:35.192Z"
   },
   {
    "duration": 15,
    "start_time": "2022-11-19T14:13:38.877Z"
   },
   {
    "duration": 5,
    "start_time": "2022-11-19T14:13:42.495Z"
   },
   {
    "duration": 3,
    "start_time": "2022-11-19T14:13:44.083Z"
   },
   {
    "duration": 249,
    "start_time": "2022-11-19T14:13:44.744Z"
   },
   {
    "duration": 50,
    "start_time": "2022-11-19T14:14:11.116Z"
   },
   {
    "duration": 19,
    "start_time": "2022-11-19T14:14:19.261Z"
   },
   {
    "duration": 5,
    "start_time": "2022-11-19T14:14:20.520Z"
   },
   {
    "duration": 5,
    "start_time": "2022-11-19T14:14:22.595Z"
   },
   {
    "duration": 6,
    "start_time": "2022-11-19T14:14:23.506Z"
   },
   {
    "duration": 7,
    "start_time": "2022-11-19T14:14:25.581Z"
   },
   {
    "duration": 2159,
    "start_time": "2022-11-19T14:14:43.894Z"
   },
   {
    "duration": 15,
    "start_time": "2022-11-19T14:14:46.055Z"
   },
   {
    "duration": 25,
    "start_time": "2022-11-19T14:15:10.211Z"
   },
   {
    "duration": 16,
    "start_time": "2022-11-19T14:15:12.992Z"
   },
   {
    "duration": 5,
    "start_time": "2022-11-19T14:15:13.345Z"
   },
   {
    "duration": 6,
    "start_time": "2022-11-19T14:15:15.589Z"
   },
   {
    "duration": 6,
    "start_time": "2022-11-19T14:15:16.064Z"
   },
   {
    "duration": 8,
    "start_time": "2022-11-19T14:15:17.809Z"
   },
   {
    "duration": 4,
    "start_time": "2022-11-19T14:15:24.406Z"
   },
   {
    "duration": 13,
    "start_time": "2022-11-19T14:16:19.376Z"
   },
   {
    "duration": 6,
    "start_time": "2022-11-19T14:16:19.822Z"
   },
   {
    "duration": 5,
    "start_time": "2022-11-19T14:16:20.572Z"
   },
   {
    "duration": 5,
    "start_time": "2022-11-19T14:16:21.529Z"
   },
   {
    "duration": 6,
    "start_time": "2022-11-19T14:16:22.477Z"
   },
   {
    "duration": 2,
    "start_time": "2022-11-19T14:16:23.883Z"
   },
   {
    "duration": 826,
    "start_time": "2022-11-19T14:16:34.035Z"
   },
   {
    "duration": 93,
    "start_time": "2022-11-19T14:16:34.863Z"
   },
   {
    "duration": 5,
    "start_time": "2022-11-19T14:16:35.099Z"
   },
   {
    "duration": 5,
    "start_time": "2022-11-19T14:16:35.774Z"
   },
   {
    "duration": 24,
    "start_time": "2022-11-19T14:16:53.741Z"
   },
   {
    "duration": 7,
    "start_time": "2022-11-19T14:16:55.192Z"
   },
   {
    "duration": 5,
    "start_time": "2022-11-19T14:16:57.684Z"
   },
   {
    "duration": 5,
    "start_time": "2022-11-19T14:16:58.163Z"
   },
   {
    "duration": 8,
    "start_time": "2022-11-19T14:17:00.234Z"
   },
   {
    "duration": 4,
    "start_time": "2022-11-19T14:17:07.165Z"
   },
   {
    "duration": 12503,
    "start_time": "2022-11-19T14:17:32.449Z"
   },
   {
    "duration": 11,
    "start_time": "2022-11-19T14:17:44.954Z"
   },
   {
    "duration": 12,
    "start_time": "2022-11-19T14:18:20.367Z"
   },
   {
    "duration": 6,
    "start_time": "2022-11-19T14:18:21.548Z"
   },
   {
    "duration": 5,
    "start_time": "2022-11-19T14:18:22.447Z"
   },
   {
    "duration": 5,
    "start_time": "2022-11-19T14:18:23.075Z"
   },
   {
    "duration": 9,
    "start_time": "2022-11-19T14:18:25.187Z"
   },
   {
    "duration": 825,
    "start_time": "2022-11-19T14:18:38.027Z"
   },
   {
    "duration": 11,
    "start_time": "2022-11-19T14:18:38.854Z"
   },
   {
    "duration": 4,
    "start_time": "2022-11-19T14:18:54.227Z"
   },
   {
    "duration": 6,
    "start_time": "2022-11-19T14:18:54.692Z"
   },
   {
    "duration": 7,
    "start_time": "2022-11-19T14:18:56.069Z"
   },
   {
    "duration": 286,
    "start_time": "2022-11-19T14:19:11.466Z"
   },
   {
    "duration": 11,
    "start_time": "2022-11-19T14:19:12.789Z"
   },
   {
    "duration": 77,
    "start_time": "2022-11-19T14:21:36.303Z"
   },
   {
    "duration": 2082,
    "start_time": "2022-11-19T14:21:58.009Z"
   },
   {
    "duration": 4333,
    "start_time": "2022-11-19T14:23:48.279Z"
   },
   {
    "duration": 16,
    "start_time": "2022-11-19T14:23:56.122Z"
   },
   {
    "duration": 11,
    "start_time": "2022-11-19T14:24:26.214Z"
   },
   {
    "duration": 11,
    "start_time": "2022-11-19T14:25:04.470Z"
   },
   {
    "duration": 10,
    "start_time": "2022-11-19T14:25:15.267Z"
   },
   {
    "duration": 10,
    "start_time": "2022-11-19T14:25:36.784Z"
   },
   {
    "duration": 9,
    "start_time": "2022-11-19T14:27:25.337Z"
   },
   {
    "duration": 10,
    "start_time": "2022-11-19T14:40:00.893Z"
   },
   {
    "duration": 10,
    "start_time": "2022-11-19T14:40:31.379Z"
   },
   {
    "duration": 12,
    "start_time": "2022-11-19T14:40:39.801Z"
   },
   {
    "duration": 15,
    "start_time": "2022-11-19T14:40:46.882Z"
   },
   {
    "duration": 10,
    "start_time": "2022-11-19T14:41:24.216Z"
   },
   {
    "duration": 1485,
    "start_time": "2022-11-19T14:41:55.877Z"
   },
   {
    "duration": 49,
    "start_time": "2022-11-19T14:41:57.364Z"
   },
   {
    "duration": 4,
    "start_time": "2022-11-19T14:41:57.414Z"
   },
   {
    "duration": 30,
    "start_time": "2022-11-19T14:41:57.420Z"
   },
   {
    "duration": 11,
    "start_time": "2022-11-19T14:41:57.453Z"
   },
   {
    "duration": 9,
    "start_time": "2022-11-19T14:41:57.465Z"
   },
   {
    "duration": 261,
    "start_time": "2022-11-19T14:41:57.476Z"
   },
   {
    "duration": 11,
    "start_time": "2022-11-19T14:41:57.739Z"
   },
   {
    "duration": 492,
    "start_time": "2022-11-19T14:41:57.752Z"
   },
   {
    "duration": 392,
    "start_time": "2022-11-19T14:41:58.247Z"
   },
   {
    "duration": 16,
    "start_time": "2022-11-19T14:41:58.641Z"
   },
   {
    "duration": 287,
    "start_time": "2022-11-19T14:41:58.658Z"
   },
   {
    "duration": 5,
    "start_time": "2022-11-19T14:41:58.950Z"
   },
   {
    "duration": 45,
    "start_time": "2022-11-19T14:41:58.959Z"
   },
   {
    "duration": 16,
    "start_time": "2022-11-19T14:41:59.006Z"
   },
   {
    "duration": 6,
    "start_time": "2022-11-19T14:41:59.025Z"
   },
   {
    "duration": 6,
    "start_time": "2022-11-19T14:41:59.051Z"
   },
   {
    "duration": 8,
    "start_time": "2022-11-19T14:41:59.058Z"
   },
   {
    "duration": 7,
    "start_time": "2022-11-19T14:41:59.068Z"
   },
   {
    "duration": 5,
    "start_time": "2022-11-19T14:41:59.077Z"
   },
   {
    "duration": 7,
    "start_time": "2022-11-19T14:41:59.084Z"
   },
   {
    "duration": 58,
    "start_time": "2022-11-19T14:41:59.093Z"
   },
   {
    "duration": 3,
    "start_time": "2022-11-19T14:41:59.153Z"
   },
   {
    "duration": 141895,
    "start_time": "2022-11-19T14:41:59.158Z"
   },
   {
    "duration": 4,
    "start_time": "2022-11-19T14:44:21.054Z"
   },
   {
    "duration": 6,
    "start_time": "2022-11-19T14:44:21.060Z"
   },
   {
    "duration": 1636,
    "start_time": "2022-11-19T14:45:18.638Z"
   },
   {
    "duration": 50,
    "start_time": "2022-11-19T14:45:20.276Z"
   },
   {
    "duration": 4,
    "start_time": "2022-11-19T14:45:20.327Z"
   },
   {
    "duration": 28,
    "start_time": "2022-11-19T14:45:20.333Z"
   },
   {
    "duration": 9,
    "start_time": "2022-11-19T14:45:20.363Z"
   },
   {
    "duration": 12,
    "start_time": "2022-11-19T14:45:20.374Z"
   },
   {
    "duration": 307,
    "start_time": "2022-11-19T14:45:20.387Z"
   },
   {
    "duration": 8,
    "start_time": "2022-11-19T14:45:20.696Z"
   },
   {
    "duration": 522,
    "start_time": "2022-11-19T14:45:20.706Z"
   },
   {
    "duration": 383,
    "start_time": "2022-11-19T14:45:21.231Z"
   },
   {
    "duration": 11,
    "start_time": "2022-11-19T14:45:21.616Z"
   },
   {
    "duration": 290,
    "start_time": "2022-11-19T14:45:21.629Z"
   },
   {
    "duration": 5,
    "start_time": "2022-11-19T14:45:21.920Z"
   },
   {
    "duration": 27,
    "start_time": "2022-11-19T14:45:21.927Z"
   },
   {
    "duration": 9,
    "start_time": "2022-11-19T14:45:21.955Z"
   },
   {
    "duration": 5,
    "start_time": "2022-11-19T14:45:21.966Z"
   },
   {
    "duration": 5,
    "start_time": "2022-11-19T14:45:21.973Z"
   },
   {
    "duration": 7,
    "start_time": "2022-11-19T14:45:21.980Z"
   },
   {
    "duration": 8,
    "start_time": "2022-11-19T14:45:21.988Z"
   },
   {
    "duration": 6,
    "start_time": "2022-11-19T14:45:21.997Z"
   },
   {
    "duration": 5,
    "start_time": "2022-11-19T14:45:22.005Z"
   },
   {
    "duration": 53,
    "start_time": "2022-11-19T14:45:22.012Z"
   },
   {
    "duration": 4,
    "start_time": "2022-11-19T14:45:22.068Z"
   },
   {
    "duration": 63286,
    "start_time": "2022-11-19T14:45:22.074Z"
   },
   {
    "duration": 4,
    "start_time": "2022-11-19T14:46:25.362Z"
   },
   {
    "duration": 13,
    "start_time": "2022-11-19T14:46:25.367Z"
   },
   {
    "duration": 109799,
    "start_time": "2022-11-19T14:46:25.382Z"
   },
   {
    "duration": 3,
    "start_time": "2022-11-19T14:48:15.184Z"
   },
   {
    "duration": 13,
    "start_time": "2022-11-19T14:48:15.188Z"
   },
   {
    "duration": 7,
    "start_time": "2022-11-19T14:48:15.203Z"
   },
   {
    "duration": 9,
    "start_time": "2022-11-19T14:48:15.212Z"
   },
   {
    "duration": 10,
    "start_time": "2022-11-19T14:48:15.223Z"
   },
   {
    "duration": 1021,
    "start_time": "2022-11-19T14:48:15.235Z"
   },
   {
    "duration": 153,
    "start_time": "2022-11-19T14:48:16.258Z"
   },
   {
    "duration": 0,
    "start_time": "2022-11-19T14:48:16.413Z"
   },
   {
    "duration": 0,
    "start_time": "2022-11-19T14:48:16.414Z"
   },
   {
    "duration": 0,
    "start_time": "2022-11-19T14:48:16.416Z"
   },
   {
    "duration": 1493,
    "start_time": "2022-11-19T14:59:57.851Z"
   },
   {
    "duration": 49,
    "start_time": "2022-11-19T14:59:59.350Z"
   },
   {
    "duration": 4,
    "start_time": "2022-11-19T14:59:59.400Z"
   },
   {
    "duration": 34,
    "start_time": "2022-11-19T14:59:59.407Z"
   },
   {
    "duration": 11,
    "start_time": "2022-11-19T14:59:59.444Z"
   },
   {
    "duration": 12,
    "start_time": "2022-11-19T14:59:59.457Z"
   },
   {
    "duration": 307,
    "start_time": "2022-11-19T14:59:59.471Z"
   },
   {
    "duration": 9,
    "start_time": "2022-11-19T14:59:59.781Z"
   },
   {
    "duration": 525,
    "start_time": "2022-11-19T14:59:59.792Z"
   },
   {
    "duration": 470,
    "start_time": "2022-11-19T15:00:00.318Z"
   },
   {
    "duration": 12,
    "start_time": "2022-11-19T15:00:00.790Z"
   },
   {
    "duration": 296,
    "start_time": "2022-11-19T15:00:00.804Z"
   },
   {
    "duration": 5,
    "start_time": "2022-11-19T15:00:01.103Z"
   },
   {
    "duration": 67,
    "start_time": "2022-11-19T15:00:01.109Z"
   },
   {
    "duration": 30,
    "start_time": "2022-11-19T15:00:01.178Z"
   },
   {
    "duration": 18,
    "start_time": "2022-11-19T15:00:01.210Z"
   },
   {
    "duration": 42,
    "start_time": "2022-11-19T15:00:01.230Z"
   },
   {
    "duration": 27,
    "start_time": "2022-11-19T15:00:01.274Z"
   },
   {
    "duration": 43,
    "start_time": "2022-11-19T15:00:01.302Z"
   },
   {
    "duration": 14,
    "start_time": "2022-11-19T15:00:01.347Z"
   },
   {
    "duration": 37,
    "start_time": "2022-11-19T15:00:01.364Z"
   },
   {
    "duration": 34,
    "start_time": "2022-11-19T15:00:01.403Z"
   },
   {
    "duration": 16,
    "start_time": "2022-11-19T15:00:01.440Z"
   },
   {
    "duration": 18006,
    "start_time": "2022-11-19T15:00:01.459Z"
   },
   {
    "duration": 5,
    "start_time": "2022-11-19T15:00:19.467Z"
   },
   {
    "duration": 4,
    "start_time": "2022-11-19T15:00:19.552Z"
   },
   {
    "duration": 107207,
    "start_time": "2022-11-19T15:00:19.558Z"
   },
   {
    "duration": 4,
    "start_time": "2022-11-19T15:02:06.767Z"
   },
   {
    "duration": 30,
    "start_time": "2022-11-19T15:02:06.772Z"
   },
   {
    "duration": 24,
    "start_time": "2022-11-19T15:02:06.804Z"
   },
   {
    "duration": 38,
    "start_time": "2022-11-19T15:02:06.830Z"
   },
   {
    "duration": 28,
    "start_time": "2022-11-19T15:02:06.870Z"
   },
   {
    "duration": 6165,
    "start_time": "2022-11-19T15:02:06.900Z"
   },
   {
    "duration": 199,
    "start_time": "2022-11-19T15:02:13.067Z"
   },
   {
    "duration": 0,
    "start_time": "2022-11-19T15:02:13.268Z"
   },
   {
    "duration": 0,
    "start_time": "2022-11-19T15:02:13.269Z"
   },
   {
    "duration": 0,
    "start_time": "2022-11-19T15:02:13.271Z"
   },
   {
    "duration": 15076,
    "start_time": "2022-11-19T15:05:16.276Z"
   },
   {
    "duration": 1911,
    "start_time": "2022-11-19T15:05:38.563Z"
   },
   {
    "duration": 15214,
    "start_time": "2022-11-19T15:06:06.241Z"
   },
   {
    "duration": 270,
    "start_time": "2022-11-19T15:06:47.396Z"
   },
   {
    "duration": 1057,
    "start_time": "2022-11-19T15:07:12.604Z"
   },
   {
    "duration": 3,
    "start_time": "2022-11-19T15:07:54.350Z"
   },
   {
    "duration": 2,
    "start_time": "2022-11-19T15:08:06.177Z"
   },
   {
    "duration": 4,
    "start_time": "2022-11-19T15:08:18.896Z"
   },
   {
    "duration": 9,
    "start_time": "2022-11-19T15:08:58.556Z"
   },
   {
    "duration": 1698,
    "start_time": "2022-11-19T15:09:41.359Z"
   },
   {
    "duration": 4,
    "start_time": "2022-11-19T15:09:43.059Z"
   },
   {
    "duration": 1505,
    "start_time": "2022-11-19T15:10:04.056Z"
   },
   {
    "duration": 88,
    "start_time": "2022-11-19T15:10:05.563Z"
   },
   {
    "duration": 9,
    "start_time": "2022-11-19T15:10:07.415Z"
   },
   {
    "duration": 8,
    "start_time": "2022-11-19T15:10:30.556Z"
   },
   {
    "duration": 5,
    "start_time": "2022-11-19T15:10:33.245Z"
   },
   {
    "duration": 3,
    "start_time": "2022-11-19T15:10:33.576Z"
   },
   {
    "duration": 238,
    "start_time": "2022-11-19T15:10:33.820Z"
   },
   {
    "duration": 1835,
    "start_time": "2022-11-19T15:11:00.818Z"
   },
   {
    "duration": 4,
    "start_time": "2022-11-19T15:11:02.655Z"
   },
   {
    "duration": 13,
    "start_time": "2022-11-19T15:11:02.661Z"
   },
   {
    "duration": 5,
    "start_time": "2022-11-19T15:11:02.942Z"
   },
   {
    "duration": 4,
    "start_time": "2022-11-19T15:11:03.284Z"
   },
   {
    "duration": 239,
    "start_time": "2022-11-19T15:11:03.627Z"
   },
   {
    "duration": 542,
    "start_time": "2022-11-19T15:11:26.810Z"
   },
   {
    "duration": 849,
    "start_time": "2022-11-19T15:11:33.410Z"
   },
   {
    "duration": 4,
    "start_time": "2022-11-19T15:11:34.711Z"
   },
   {
    "duration": 14,
    "start_time": "2022-11-19T15:11:36.167Z"
   },
   {
    "duration": 4,
    "start_time": "2022-11-19T15:11:36.809Z"
   },
   {
    "duration": 4,
    "start_time": "2022-11-19T15:11:37.139Z"
   },
   {
    "duration": 246,
    "start_time": "2022-11-19T15:11:38.469Z"
   },
   {
    "duration": 5235,
    "start_time": "2022-11-19T15:12:57.232Z"
   },
   {
    "duration": 4202,
    "start_time": "2022-11-19T15:13:10.857Z"
   },
   {
    "duration": 8449,
    "start_time": "2022-11-19T15:15:10.507Z"
   },
   {
    "duration": 1749,
    "start_time": "2022-11-20T09:17:13.152Z"
   },
   {
    "duration": 127,
    "start_time": "2022-11-20T09:17:14.903Z"
   },
   {
    "duration": 4,
    "start_time": "2022-11-20T09:17:15.031Z"
   },
   {
    "duration": 35,
    "start_time": "2022-11-20T09:17:15.038Z"
   },
   {
    "duration": 10,
    "start_time": "2022-11-20T09:17:15.075Z"
   },
   {
    "duration": 14,
    "start_time": "2022-11-20T09:17:15.087Z"
   },
   {
    "duration": 293,
    "start_time": "2022-11-20T09:17:15.103Z"
   },
   {
    "duration": 8,
    "start_time": "2022-11-20T09:17:15.398Z"
   },
   {
    "duration": 494,
    "start_time": "2022-11-20T09:17:15.408Z"
   },
   {
    "duration": 445,
    "start_time": "2022-11-20T09:17:15.906Z"
   },
   {
    "duration": 23,
    "start_time": "2022-11-20T09:17:16.352Z"
   },
   {
    "duration": 345,
    "start_time": "2022-11-20T09:17:16.378Z"
   },
   {
    "duration": 4,
    "start_time": "2022-11-20T09:17:16.726Z"
   },
   {
    "duration": 44,
    "start_time": "2022-11-20T09:17:16.731Z"
   },
   {
    "duration": 10,
    "start_time": "2022-11-20T09:17:16.777Z"
   },
   {
    "duration": 6,
    "start_time": "2022-11-20T09:17:16.789Z"
   },
   {
    "duration": 6,
    "start_time": "2022-11-20T09:17:16.797Z"
   },
   {
    "duration": 10,
    "start_time": "2022-11-20T09:17:16.805Z"
   },
   {
    "duration": 39,
    "start_time": "2022-11-20T09:17:16.818Z"
   },
   {
    "duration": 30,
    "start_time": "2022-11-20T09:17:16.859Z"
   },
   {
    "duration": 18,
    "start_time": "2022-11-20T09:17:16.890Z"
   },
   {
    "duration": 173,
    "start_time": "2022-11-20T09:17:16.909Z"
   },
   {
    "duration": 4,
    "start_time": "2022-11-20T09:17:17.156Z"
   },
   {
    "duration": 1456,
    "start_time": "2022-11-20T10:05:06.194Z"
   },
   {
    "duration": 51,
    "start_time": "2022-11-20T10:05:07.653Z"
   },
   {
    "duration": 5,
    "start_time": "2022-11-20T10:05:07.705Z"
   },
   {
    "duration": 59,
    "start_time": "2022-11-20T10:05:07.713Z"
   },
   {
    "duration": 9,
    "start_time": "2022-11-20T10:05:07.774Z"
   },
   {
    "duration": 25,
    "start_time": "2022-11-20T10:05:07.785Z"
   },
   {
    "duration": 286,
    "start_time": "2022-11-20T10:05:07.812Z"
   },
   {
    "duration": 11,
    "start_time": "2022-11-20T10:05:08.100Z"
   },
   {
    "duration": 501,
    "start_time": "2022-11-20T10:05:08.113Z"
   },
   {
    "duration": 401,
    "start_time": "2022-11-20T10:05:08.617Z"
   },
   {
    "duration": 12,
    "start_time": "2022-11-20T10:05:09.020Z"
   },
   {
    "duration": 315,
    "start_time": "2022-11-20T10:05:09.033Z"
   },
   {
    "duration": 3,
    "start_time": "2022-11-20T10:05:09.350Z"
   },
   {
    "duration": 52,
    "start_time": "2022-11-20T10:05:09.355Z"
   },
   {
    "duration": 15,
    "start_time": "2022-11-20T10:05:09.409Z"
   },
   {
    "duration": 41,
    "start_time": "2022-11-20T10:05:09.425Z"
   },
   {
    "duration": 38,
    "start_time": "2022-11-20T10:05:09.469Z"
   },
   {
    "duration": 35,
    "start_time": "2022-11-20T10:05:09.508Z"
   },
   {
    "duration": 25,
    "start_time": "2022-11-20T10:05:09.545Z"
   },
   {
    "duration": 37,
    "start_time": "2022-11-20T10:05:09.572Z"
   },
   {
    "duration": 38,
    "start_time": "2022-11-20T10:05:09.611Z"
   },
   {
    "duration": 211,
    "start_time": "2022-11-20T10:05:09.650Z"
   },
   {
    "duration": 6,
    "start_time": "2022-11-20T10:05:09.863Z"
   },
   {
    "duration": 4816204,
    "start_time": "2022-11-20T10:05:09.871Z"
   },
   {
    "duration": 5,
    "start_time": "2022-11-20T11:25:26.078Z"
   },
   {
    "duration": 68,
    "start_time": "2022-11-20T11:25:26.087Z"
   },
   {
    "duration": 317542,
    "start_time": "2022-11-20T11:25:26.157Z"
   },
   {
    "duration": 7,
    "start_time": "2022-11-20T11:30:43.703Z"
   },
   {
    "duration": 33,
    "start_time": "2022-11-20T11:30:43.719Z"
   },
   {
    "duration": 18,
    "start_time": "2022-11-20T11:30:43.755Z"
   },
   {
    "duration": 13,
    "start_time": "2022-11-20T11:30:43.775Z"
   },
   {
    "duration": 14,
    "start_time": "2022-11-20T11:30:43.790Z"
   },
   {
    "duration": 256250,
    "start_time": "2022-11-20T11:30:43.806Z"
   },
   {
    "duration": 36,
    "start_time": "2022-11-20T11:35:00.058Z"
   },
   {
    "duration": 14,
    "start_time": "2022-11-20T11:35:00.096Z"
   },
   {
    "duration": 6,
    "start_time": "2022-11-20T11:35:00.161Z"
   },
   {
    "duration": 254,
    "start_time": "2022-11-20T11:35:00.173Z"
   },
   {
    "duration": 2,
    "start_time": "2022-11-20T11:35:00.429Z"
   },
   {
    "duration": 94948,
    "start_time": "2022-11-20T13:21:31.943Z"
   },
   {
    "duration": 109,
    "start_time": "2022-11-20T13:23:06.894Z"
   },
   {
    "duration": 8,
    "start_time": "2022-11-20T13:23:07.006Z"
   },
   {
    "duration": 43,
    "start_time": "2022-11-20T13:23:07.017Z"
   },
   {
    "duration": 300,
    "start_time": "2022-11-20T13:23:07.063Z"
   },
   {
    "duration": 2461789,
    "start_time": "2022-11-20T13:24:53.679Z"
   },
   {
    "duration": 5,
    "start_time": "2022-11-20T14:05:55.470Z"
   },
   {
    "duration": 46,
    "start_time": "2022-11-20T14:05:55.476Z"
   },
   {
    "duration": 7,
    "start_time": "2022-11-20T14:11:23.946Z"
   },
   {
    "duration": 17,
    "start_time": "2022-11-20T14:11:45.742Z"
   },
   {
    "duration": 92877,
    "start_time": "2022-11-20T14:12:53.895Z"
   },
   {
    "duration": 92,
    "start_time": "2022-11-20T14:14:26.775Z"
   },
   {
    "duration": 20,
    "start_time": "2022-11-20T14:14:26.869Z"
   },
   {
    "duration": 14,
    "start_time": "2022-11-20T14:14:26.891Z"
   },
   {
    "duration": 264,
    "start_time": "2022-11-20T14:14:26.907Z"
   },
   {
    "duration": 198048,
    "start_time": "2022-11-20T14:16:04.931Z"
   },
   {
    "duration": 86,
    "start_time": "2022-11-20T14:19:22.982Z"
   },
   {
    "duration": 20,
    "start_time": "2022-11-20T14:19:23.070Z"
   },
   {
    "duration": 188397,
    "start_time": "2022-11-20T14:20:38.471Z"
   },
   {
    "duration": 97204,
    "start_time": "2022-11-20T14:23:46.871Z"
   },
   {
    "duration": 87,
    "start_time": "2022-11-20T14:25:24.078Z"
   },
   {
    "duration": 34,
    "start_time": "2022-11-20T14:25:24.168Z"
   },
   {
    "duration": 20,
    "start_time": "2022-11-20T14:25:24.204Z"
   },
   {
    "duration": 248,
    "start_time": "2022-11-20T14:25:24.226Z"
   }
  ],
  "kernelspec": {
   "display_name": "Python 3 (ipykernel)",
   "language": "python",
   "name": "python3"
  },
  "language_info": {
   "codemirror_mode": {
    "name": "ipython",
    "version": 3
   },
   "file_extension": ".py",
   "mimetype": "text/x-python",
   "name": "python",
   "nbconvert_exporter": "python",
   "pygments_lexer": "ipython3",
   "version": "3.9.13"
  },
  "toc": {
   "base_numbering": 1,
   "nav_menu": {},
   "number_sections": true,
   "sideBar": true,
   "skip_h1_title": true,
   "title_cell": "Содержание",
   "title_sidebar": "Contents",
   "toc_cell": true,
   "toc_position": {
    "height": "calc(100% - 180px)",
    "left": "10px",
    "top": "150px",
    "width": "387.535px"
   },
   "toc_section_display": true,
   "toc_window_display": false
  }
 },
 "nbformat": 4,
 "nbformat_minor": 2
}
